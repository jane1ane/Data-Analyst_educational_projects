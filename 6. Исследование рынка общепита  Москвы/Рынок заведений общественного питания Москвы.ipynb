{
 "cells": [
  {
   "cell_type": "markdown",
   "metadata": {},
   "source": [
    "\n",
    "## Описание проекта и цели исследования\n",
    "\n",
    "Исследование посвящено анализу рынка общественнго питания города Москва. Цель исследования- для открытия нового заведения найти закономерности и сделать  рекомендации  о виде заведения, количестве посадочных мест, а также районе расположения. Инвесторов интересует текущее положение дел на рынке. У нас есть открытые данные о заведениях общественного питания в Москве.\n",
    "\n",
    "В ходе исследования изучим соотношение видов объектов общественного питания по количеству, соотношение сетевых и несетевых заведений. Построим графики. Определим что характерно для сетевых заведений. Для каждого вида объекта общественного питания опишем среднее количество посадочных мест. Построим графики.\n",
    "\n",
    "Поработаем с расположением. Построим график топ-10 улиц по количеству объектов общественного питания, также найдем число улиц с одним объектом общественного питания. Воспользуемся внешней информацией и ответим на вопрос — в каких районах Москвы находятся эти улицы? Посмотрим на распределение количества посадочных мест для улиц с большим количеством объектов общественного питания. \n",
    "\n",
    "Сделаем общие выводы и подготовим презентацию для инвесторов.\n",
    "\n",
    "[Презентация](https://drive.google.com/file/d/179kk_JCBqtOjhkm1iZku-e43fz57J-g9/view?usp=sharing)\n",
    "\n",
    "## Загрузка и предобработка данных"
   ]
  },
  {
   "cell_type": "code",
   "execution_count": 1,
   "metadata": {
    "scrolled": false
   },
   "outputs": [
    {
     "data": {
      "text/html": [
       "        <script type=\"text/javascript\">\n",
       "        window.PlotlyConfig = {MathJaxConfig: 'local'};\n",
       "        if (window.MathJax) {MathJax.Hub.Config({SVG: {font: \"STIX-Web\"}});}\n",
       "        if (typeof require !== 'undefined') {\n",
       "        require.undef(\"plotly\");\n",
       "        requirejs.config({\n",
       "            paths: {\n",
       "                'plotly': ['https://cdn.plot.ly/plotly-2.9.0.min']\n",
       "            }\n",
       "        });\n",
       "        require(['plotly'], function(Plotly) {\n",
       "            window._Plotly = Plotly;\n",
       "        });\n",
       "        }\n",
       "        </script>\n",
       "        "
      ]
     },
     "metadata": {},
     "output_type": "display_data"
    }
   ],
   "source": [
    "# загружаем библиотеки\n",
    "import pandas as pd\n",
    "import numpy as np\n",
    "import seaborn as sns\n",
    "from matplotlib import pyplot as plt\n",
    "import plotly.express as px\n",
    "from plotly import graph_objects as go\n",
    "\n",
    "from plotly.offline import plot, iplot, init_notebook_mode\n",
    "import plotly.graph_objs as go\n",
    "init_notebook_mode(connected=True)\n",
    "\n",
    "from pandas.plotting import register_matplotlib_converters\n",
    "from IPython.display import display\n",
    "from io import BytesIO\n",
    "import requests \n",
    "spreedsheet_id = '1FIdyerMaOqimH-H7fM1e-tyaKPJ4yvwP'\n"
   ]
  },
  {
   "cell_type": "code",
   "execution_count": 2,
   "metadata": {},
   "outputs": [
    {
     "name": "stdout",
     "output_type": "stream",
     "text": [
      "Requirement already satisfied: kaleido in c:\\users\\jane\\anaconda3\\lib\\site-packages (0.2.1)Note: you may need to restart the kernel to use updated packages.\n",
      "\n"
     ]
    }
   ],
   "source": [
    "pip install -U kaleido"
   ]
  },
  {
   "cell_type": "code",
   "execution_count": 3,
   "metadata": {
    "scrolled": false
   },
   "outputs": [],
   "source": [
    "# загружаем данные\n",
    "rest_data = pd.read_csv('https://code.s3.yandex.net/datasets/rest_data.csv')"
   ]
  },
  {
   "cell_type": "code",
   "execution_count": 4,
   "metadata": {
    "scrolled": false
   },
   "outputs": [
    {
     "data": {
      "text/html": [
       "<div>\n",
       "<style scoped>\n",
       "    .dataframe tbody tr th:only-of-type {\n",
       "        vertical-align: middle;\n",
       "    }\n",
       "\n",
       "    .dataframe tbody tr th {\n",
       "        vertical-align: top;\n",
       "    }\n",
       "\n",
       "    .dataframe thead th {\n",
       "        text-align: right;\n",
       "    }\n",
       "</style>\n",
       "<table border=\"1\" class=\"dataframe\">\n",
       "  <thead>\n",
       "    <tr style=\"text-align: right;\">\n",
       "      <th></th>\n",
       "      <th>id</th>\n",
       "      <th>object_name</th>\n",
       "      <th>chain</th>\n",
       "      <th>object_type</th>\n",
       "      <th>address</th>\n",
       "      <th>number</th>\n",
       "    </tr>\n",
       "  </thead>\n",
       "  <tbody>\n",
       "    <tr>\n",
       "      <th>0</th>\n",
       "      <td>151635</td>\n",
       "      <td>СМЕТАНА</td>\n",
       "      <td>нет</td>\n",
       "      <td>кафе</td>\n",
       "      <td>город Москва, улица Егора Абакумова, дом 9</td>\n",
       "      <td>48</td>\n",
       "    </tr>\n",
       "    <tr>\n",
       "      <th>1</th>\n",
       "      <td>77874</td>\n",
       "      <td>Родник</td>\n",
       "      <td>нет</td>\n",
       "      <td>кафе</td>\n",
       "      <td>город Москва, улица Талалихина, дом 2/1, корпус 1</td>\n",
       "      <td>35</td>\n",
       "    </tr>\n",
       "    <tr>\n",
       "      <th>2</th>\n",
       "      <td>24309</td>\n",
       "      <td>Кафе «Академия»</td>\n",
       "      <td>нет</td>\n",
       "      <td>кафе</td>\n",
       "      <td>город Москва, Абельмановская улица, дом 6</td>\n",
       "      <td>95</td>\n",
       "    </tr>\n",
       "    <tr>\n",
       "      <th>3</th>\n",
       "      <td>21894</td>\n",
       "      <td>ПИЦЦЕТОРИЯ</td>\n",
       "      <td>да</td>\n",
       "      <td>кафе</td>\n",
       "      <td>город Москва, Абрамцевская улица, дом 1</td>\n",
       "      <td>40</td>\n",
       "    </tr>\n",
       "    <tr>\n",
       "      <th>4</th>\n",
       "      <td>119365</td>\n",
       "      <td>Кафе «Вишневая метель»</td>\n",
       "      <td>нет</td>\n",
       "      <td>кафе</td>\n",
       "      <td>город Москва, Абрамцевская улица, дом 9, корпус 1</td>\n",
       "      <td>50</td>\n",
       "    </tr>\n",
       "    <tr>\n",
       "      <th>5</th>\n",
       "      <td>27429</td>\n",
       "      <td>СТОЛ. ПРИ ГОУ СОШ № 1051</td>\n",
       "      <td>нет</td>\n",
       "      <td>столовая</td>\n",
       "      <td>город Москва, Абрамцевская улица, дом 15, корп...</td>\n",
       "      <td>240</td>\n",
       "    </tr>\n",
       "    <tr>\n",
       "      <th>6</th>\n",
       "      <td>148815</td>\n",
       "      <td>Брусника</td>\n",
       "      <td>да</td>\n",
       "      <td>кафе</td>\n",
       "      <td>город Москва, переулок Сивцев Вражек, дом 6/2</td>\n",
       "      <td>10</td>\n",
       "    </tr>\n",
       "    <tr>\n",
       "      <th>7</th>\n",
       "      <td>20957</td>\n",
       "      <td>Буфет МТУСИ</td>\n",
       "      <td>нет</td>\n",
       "      <td>столовая</td>\n",
       "      <td>город Москва, Авиамоторная улица, дом 8, строе...</td>\n",
       "      <td>90</td>\n",
       "    </tr>\n",
       "    <tr>\n",
       "      <th>8</th>\n",
       "      <td>20958</td>\n",
       "      <td>КПФ СЕМЬЯ-1</td>\n",
       "      <td>нет</td>\n",
       "      <td>столовая</td>\n",
       "      <td>город Москва, Авиамоторная улица, дом 8, строе...</td>\n",
       "      <td>150</td>\n",
       "    </tr>\n",
       "    <tr>\n",
       "      <th>9</th>\n",
       "      <td>28858</td>\n",
       "      <td>Столовая МТУСИ</td>\n",
       "      <td>нет</td>\n",
       "      <td>столовая</td>\n",
       "      <td>город Москва, Авиамоторная улица, дом 8, строе...</td>\n",
       "      <td>120</td>\n",
       "    </tr>\n",
       "  </tbody>\n",
       "</table>\n",
       "</div>"
      ],
      "text/plain": [
       "       id               object_name chain object_type  \\\n",
       "0  151635                   СМЕТАНА   нет        кафе   \n",
       "1   77874                    Родник   нет        кафе   \n",
       "2   24309           Кафе «Академия»   нет        кафе   \n",
       "3   21894                ПИЦЦЕТОРИЯ    да        кафе   \n",
       "4  119365    Кафе «Вишневая метель»   нет        кафе   \n",
       "5   27429  СТОЛ. ПРИ ГОУ СОШ № 1051   нет    столовая   \n",
       "6  148815                  Брусника    да        кафе   \n",
       "7   20957               Буфет МТУСИ   нет    столовая   \n",
       "8   20958               КПФ СЕМЬЯ-1   нет    столовая   \n",
       "9   28858            Столовая МТУСИ   нет    столовая   \n",
       "\n",
       "                                             address  number  \n",
       "0         город Москва, улица Егора Абакумова, дом 9      48  \n",
       "1  город Москва, улица Талалихина, дом 2/1, корпус 1      35  \n",
       "2          город Москва, Абельмановская улица, дом 6      95  \n",
       "3            город Москва, Абрамцевская улица, дом 1      40  \n",
       "4  город Москва, Абрамцевская улица, дом 9, корпус 1      50  \n",
       "5  город Москва, Абрамцевская улица, дом 15, корп...     240  \n",
       "6      город Москва, переулок Сивцев Вражек, дом 6/2      10  \n",
       "7  город Москва, Авиамоторная улица, дом 8, строе...      90  \n",
       "8  город Москва, Авиамоторная улица, дом 8, строе...     150  \n",
       "9  город Москва, Авиамоторная улица, дом 8, строе...     120  "
      ]
     },
     "metadata": {},
     "output_type": "display_data"
    },
    {
     "name": "stdout",
     "output_type": "stream",
     "text": [
      "<class 'pandas.core.frame.DataFrame'>\n",
      "RangeIndex: 15366 entries, 0 to 15365\n",
      "Data columns (total 6 columns):\n",
      " #   Column       Non-Null Count  Dtype \n",
      "---  ------       --------------  ----- \n",
      " 0   id           15366 non-null  int64 \n",
      " 1   object_name  15366 non-null  object\n",
      " 2   chain        15366 non-null  object\n",
      " 3   object_type  15366 non-null  object\n",
      " 4   address      15366 non-null  object\n",
      " 5   number       15366 non-null  int64 \n",
      "dtypes: int64(2), object(4)\n",
      "memory usage: 720.4+ KB\n"
     ]
    },
    {
     "data": {
      "text/plain": [
       "None"
      ]
     },
     "metadata": {},
     "output_type": "display_data"
    },
    {
     "name": "stdout",
     "output_type": "stream",
     "text": [
      "Явных дубликатов в данных: 0. Это 0.00% от всех значений.\n",
      "\n",
      "Уникальных значений в колонке id - 15366\n",
      "Уникальных значений в колонке object_name - 10393\n",
      "Уникальных значений в колонке chain - 2\n",
      "Уникальных значений в колонке object_type - 9\n",
      "Уникальных значений в колонке address - 9108\n",
      "Уникальных значений в колонке number - 315\n"
     ]
    }
   ],
   "source": [
    "# Функция для предварительного ознакомления с данными. \n",
    "\n",
    "def hello_data(data):\n",
    "    \n",
    "    ''' Выводит первые строки, \n",
    "                info, \n",
    "                уникальные значения\n",
    "                и пропуски, если они есть '''\n",
    "    \n",
    "    columns = data.columns \n",
    "    display(data.head(10))\n",
    "    display(data.info())\n",
    "    lost_values = data.duplicated().sum()\n",
    "   \n",
    "    print(\n",
    "        f'Явных дубликатов в данных: {lost_values}. Это {lost_values / len(data) * 100:.2f}% от всех значений.'\n",
    "         )\n",
    "    print()\n",
    "        \n",
    "    for column in columns: # для каждой колонки\n",
    "        try:\n",
    "            unique_value = (len(data[column].unique())) # считаем уникальные значения \n",
    "        except AssertionError:\n",
    "            pass\n",
    "        \n",
    "        if data[column].isna().sum() != 0: # если в колонке есть пропуски\n",
    "            print( f'Уникальных значений в колонке {column} - {unique_value}') #выводим количество уникальных значений\n",
    "            persent = (data[column].isna().sum() / len(data[column]) * 100) # считаем сколько это в процентах и округляем методом \"round\"\n",
    "            print('Пропущенных строк в колонке {} - {:.1f} %'.format(column, persent))\n",
    "            print(\"_\"*20)\n",
    "        else: print( f'Уникальных значений в колонке {column} - {unique_value}') # если пропусков не нашли, то выводим количество уникальных значений  \n",
    "     \n",
    "hello_data(rest_data)"
   ]
  },
  {
   "cell_type": "markdown",
   "metadata": {},
   "source": [
    "В имеющемся датасете rest_data есть следующие столбцы:\n",
    "- id — идентификатор объекта;\n",
    "- object_name — название объекта общественного питания;\n",
    "- chain — сетевой ресторан;\n",
    "- object_type — тип объекта общественного питания;\n",
    "- address — адрес;\n",
    "- number — количество посадочных мест.\n",
    "\n",
    "Датасет корректно выгружен. Ошибок в данных нет, типы данных правильные. Но имеются неодназначные названия объектов общественного питания. Например \"Буфет МТУСИ\" и \"Столовая МТУСИ\" с одинаковым адресом расположения. Сложно сказать это неявные дубликаты или действительно два разных заведения в одном здании? Кроме того оба заведения в колонке \"object_type\" имеют статус столовая. Но имеем то, что имеем. Сомнения вызывает и разный регистр в названиях заведений и адресах - это тоже может привести к неявным дубликатам. Стоит привести все названия к нижнему регистру для удобства последующей группировки.  Колонка \"chain\" содержит всего два значения: да и нет. Заменим их на булевы значения. В типах заведений есть очень длинные названия, которые ухудшают воприятие графиков. Заменим оригинальные названия 'предприятие быстрого обслуживания' и 'магазин \\(отдел кулинарии\\)' на 'фаст-фуд' и 'кулинария' соответственно."
   ]
  },
  {
   "cell_type": "code",
   "execution_count": 5,
   "metadata": {
    "scrolled": true
   },
   "outputs": [
    {
     "data": {
      "text/plain": [
       "array(['кафе', 'столовая', 'закусочная', 'фаст-фуд', 'ресторан',\n",
       "       'кафетерий', 'буфет', 'бар', 'кулинария'], dtype=object)"
      ]
     },
     "metadata": {},
     "output_type": "display_data"
    },
    {
     "data": {
      "text/html": [
       "<div>\n",
       "<style scoped>\n",
       "    .dataframe tbody tr th:only-of-type {\n",
       "        vertical-align: middle;\n",
       "    }\n",
       "\n",
       "    .dataframe tbody tr th {\n",
       "        vertical-align: top;\n",
       "    }\n",
       "\n",
       "    .dataframe thead th {\n",
       "        text-align: right;\n",
       "    }\n",
       "</style>\n",
       "<table border=\"1\" class=\"dataframe\">\n",
       "  <thead>\n",
       "    <tr style=\"text-align: right;\">\n",
       "      <th></th>\n",
       "      <th>id</th>\n",
       "      <th>object_name</th>\n",
       "      <th>chain</th>\n",
       "      <th>object_type</th>\n",
       "      <th>address</th>\n",
       "      <th>number</th>\n",
       "    </tr>\n",
       "  </thead>\n",
       "  <tbody>\n",
       "    <tr>\n",
       "      <th>0</th>\n",
       "      <td>151635</td>\n",
       "      <td>сметана</td>\n",
       "      <td>False</td>\n",
       "      <td>кафе</td>\n",
       "      <td>город москва, улица егора абакумова, дом 9</td>\n",
       "      <td>48</td>\n",
       "    </tr>\n",
       "    <tr>\n",
       "      <th>1</th>\n",
       "      <td>77874</td>\n",
       "      <td>родник</td>\n",
       "      <td>False</td>\n",
       "      <td>кафе</td>\n",
       "      <td>город москва, улица талалихина, дом 2/1, корпус 1</td>\n",
       "      <td>35</td>\n",
       "    </tr>\n",
       "    <tr>\n",
       "      <th>2</th>\n",
       "      <td>24309</td>\n",
       "      <td>кафе «академия»</td>\n",
       "      <td>False</td>\n",
       "      <td>кафе</td>\n",
       "      <td>город москва, абельмановская улица, дом 6</td>\n",
       "      <td>95</td>\n",
       "    </tr>\n",
       "    <tr>\n",
       "      <th>3</th>\n",
       "      <td>21894</td>\n",
       "      <td>пиццетория</td>\n",
       "      <td>True</td>\n",
       "      <td>кафе</td>\n",
       "      <td>город москва, абрамцевская улица, дом 1</td>\n",
       "      <td>40</td>\n",
       "    </tr>\n",
       "    <tr>\n",
       "      <th>4</th>\n",
       "      <td>119365</td>\n",
       "      <td>кафе «вишневая метель»</td>\n",
       "      <td>False</td>\n",
       "      <td>кафе</td>\n",
       "      <td>город москва, абрамцевская улица, дом 9, корпус 1</td>\n",
       "      <td>50</td>\n",
       "    </tr>\n",
       "  </tbody>\n",
       "</table>\n",
       "</div>"
      ],
      "text/plain": [
       "       id             object_name  chain object_type  \\\n",
       "0  151635                 сметана  False        кафе   \n",
       "1   77874                  родник  False        кафе   \n",
       "2   24309         кафе «академия»  False        кафе   \n",
       "3   21894              пиццетория   True        кафе   \n",
       "4  119365  кафе «вишневая метель»  False        кафе   \n",
       "\n",
       "                                             address  number  \n",
       "0         город москва, улица егора абакумова, дом 9      48  \n",
       "1  город москва, улица талалихина, дом 2/1, корпус 1      35  \n",
       "2          город москва, абельмановская улица, дом 6      95  \n",
       "3            город москва, абрамцевская улица, дом 1      40  \n",
       "4  город москва, абрамцевская улица, дом 9, корпус 1      50  "
      ]
     },
     "execution_count": 5,
     "metadata": {},
     "output_type": "execute_result"
    }
   ],
   "source": [
    "rest_data['chain'] = rest_data['chain'].replace({'да': True, 'нет': False})\n",
    "rest_data['object_name'] = rest_data['object_name'].str.lower()\n",
    "rest_data['address'] = rest_data['address'].str.lower()\n",
    "rest_data['address'] = rest_data['address'].str.strip()\n",
    "\n",
    "dict_name = {'предприятие быстрого обслуживания':'фаст-фуд', 'магазин (отдел кулинарии)' :'кулинария'}\n",
    "rest_data[\"object_type\"]= rest_data[\"object_type\"].map(dict_name).fillna(rest_data[\"object_type\"])\n",
    "        \n",
    "# проверяем\n",
    "display(rest_data['object_type'].unique())\n",
    "rest_data.head()"
   ]
  },
  {
   "cell_type": "markdown",
   "metadata": {},
   "source": [
    "### Вывод\n",
    "\n",
    "Данные выгружены и проверены. Технических проблем не обнаружено, но выполнена корректировка имеющихся данных для последующей обработки. Названия заведений  и адреса приведены к нижнему регистру для уменьшения количества неявных дубликатов. Тип данных в колонке \"chain\" заменен на bool. Переименовали длинные названия в типах заведений. Оригинальные названия 'предприятие быстрого обслуживания' и 'магазин \\(отдел кулинарии\\)' заменили на 'кулинария' на 'фаст-фуд' и 'кулинария'.\n",
    "\n",
    "## Исследовательский анализ данных\n",
    "\n",
    "В нашем датасете более 15 тысяч объектов: кафе, столовые, буфеты, рестораны и пр. Определим для начала какие виды общепита имеются в Москве и посмотрим какое у них соотношение между собой. \n",
    "\n",
    "Далее разделим заведения по принципу сетевое / несетевое, посмотрим соотношение. Найдем для какого вида объекта общественного питания характерно сетевое распространение. Для каждого вида объектов общественного питания опишем среднее количество посадочных мест и найдем у какого вида в среднем самое большое количество посадочных мест. Построим графики.\n",
    "\n",
    "И поработаем с местоположением заведений. Построим график топ-10 улиц по количеству объектов общественного питания. Найдем число улиц с одним объектом общественного питания. Воспользуемся внешней информацией и ответим на вопрос — в каких районах Москвы находятся эти улицы? Посмотрим на распределение количества посадочных мест для улиц с большим количеством объектов общественного питания. Выявим закономерности.\n",
    "\n",
    "### Соотношение видов объектов общественного питания\n",
    "\n",
    "Сгруппируем объекты по типу и посчитаем процентное соотношение:"
   ]
  },
  {
   "cell_type": "code",
   "execution_count": 6,
   "metadata": {
    "scrolled": false
   },
   "outputs": [],
   "source": [
    "# группируем по типу \n",
    "object_types = rest_data.groupby('object_type', as_index=False)\\\n",
    "                        .agg({'object_name':'count'})\\\n",
    "                        .sort_values(by='object_name', ascending=False)\n",
    "# считаем процентное соотношение\n",
    "object_types['percent'] = (object_types['object_name']/object_types['object_name'].sum()*100)\\\n",
    "                        .round(2)\\\n",
    "                        .astype('str') + '%'"
   ]
  },
  {
   "cell_type": "code",
   "execution_count": 7,
   "metadata": {
    "scrolled": false
   },
   "outputs": [
    {
     "data": {
      "image/svg+xml": [
       "<svg class=\"main-svg\" xmlns=\"http://www.w3.org/2000/svg\" xmlns:xlink=\"http://www.w3.org/1999/xlink\" width=\"700\" height=\"500\" style=\"\" viewBox=\"0 0 700 500\"><rect x=\"0\" y=\"0\" width=\"700\" height=\"500\" style=\"fill: rgb(255, 255, 255); fill-opacity: 1;\"/><defs id=\"defs-9d74e5\"><g class=\"clips\"><clipPath id=\"clip9d74e5xyplot\" class=\"plotclip\"><rect width=\"540\" height=\"346\"/></clipPath><clipPath class=\"axesclip\" id=\"clip9d74e5x\"><rect x=\"80\" y=\"0\" width=\"540\" height=\"500\"/></clipPath><clipPath class=\"axesclip\" id=\"clip9d74e5y\"><rect x=\"0\" y=\"60\" width=\"700\" height=\"346\"/></clipPath><clipPath class=\"axesclip\" id=\"clip9d74e5xy\"><rect x=\"80\" y=\"60\" width=\"540\" height=\"346\"/></clipPath></g><g class=\"gradients\"/><g class=\"patterns\"/></defs><g class=\"bglayer\"/><g class=\"layer-below\"><g class=\"imagelayer\"/><g class=\"shapelayer\"/></g><g class=\"cartesianlayer\"><g class=\"subplot xy\"><g class=\"layer-subplot\"><g class=\"shapelayer\"/><g class=\"imagelayer\"/></g><g class=\"gridlayer\"><g class=\"x\"/><g class=\"y\"/></g><g class=\"zerolinelayer\"/><path class=\"xlines-below\"/><path class=\"ylines-below\"/><g class=\"overlines-below\"/><g class=\"xaxislayer-below\"/><g class=\"yaxislayer-below\"/><g class=\"overaxes-below\"/><g class=\"plot\" transform=\"translate(80,60)\" clip-path=\"url(#clip9d74e5xyplot)\"><g class=\"barlayer mlayer\"><g class=\"trace bars\" style=\"opacity: 1;\"><g class=\"points\"><g class=\"point\"><path d=\"M6,346V17.3H54V346Z\" style=\"vector-effect: non-scaling-stroke; opacity: 1; stroke-width: 0.5px; fill: rgb(31, 119, 180); fill-opacity: 1; stroke: rgb(255, 255, 255); stroke-opacity: 1;\"/><text class=\"bartext bartext-outside\" text-anchor=\"middle\" data-notex=\"1\" x=\"0\" y=\"0\" style=\"font-family: 'Open Sans', verdana, arial, sans-serif; font-size: 12px; fill: rgb(36, 36, 36); fill-opacity: 1; white-space: pre;\" transform=\"translate(29.9609375,11.3)\">39.69%</text></g></g></g><g class=\"trace bars\" style=\"opacity: 1;\"><g class=\"points\"><g class=\"point\"><path d=\"M66,346V206.58H114V346Z\" style=\"vector-effect: non-scaling-stroke; opacity: 1; stroke-width: 0.5px; fill: rgb(255, 127, 14); fill-opacity: 1; stroke: rgb(255, 255, 255); stroke-opacity: 1;\"/><text class=\"bartext bartext-outside\" text-anchor=\"middle\" data-notex=\"1\" x=\"0\" y=\"0\" style=\"font-family: 'Open Sans', verdana, arial, sans-serif; font-size: 12px; fill: rgb(36, 36, 36); fill-opacity: 1; white-space: pre;\" transform=\"translate(89.9609375,200.58)\">16.84%</text></g></g></g><g class=\"trace bars\" style=\"opacity: 1;\"><g class=\"points\"><g class=\"point\"><path d=\"M126,346V222.85H174V346Z\" style=\"vector-effect: non-scaling-stroke; opacity: 1; stroke-width: 0.5px; fill: rgb(44, 160, 44); fill-opacity: 1; stroke: rgb(255, 255, 255); stroke-opacity: 1;\"/><text class=\"bartext bartext-outside\" text-anchor=\"middle\" data-notex=\"1\" x=\"0\" y=\"0\" style=\"font-family: 'Open Sans', verdana, arial, sans-serif; font-size: 12px; fill: rgb(36, 36, 36); fill-opacity: 1; white-space: pre;\" transform=\"translate(149.9609375,216.85)\">14.87%</text></g></g></g><g class=\"trace bars\" style=\"opacity: 1;\"><g class=\"points\"><g class=\"point\"><path d=\"M186,346V242.36H234V346Z\" style=\"vector-effect: non-scaling-stroke; opacity: 1; stroke-width: 0.5px; fill: rgb(214, 39, 40); fill-opacity: 1; stroke: rgb(255, 255, 255); stroke-opacity: 1;\"/><text class=\"bartext bartext-outside\" text-anchor=\"middle\" data-notex=\"1\" x=\"0\" y=\"0\" style=\"font-family: 'Open Sans', verdana, arial, sans-serif; font-size: 12px; fill: rgb(36, 36, 36); fill-opacity: 1; white-space: pre;\" transform=\"translate(209.9609375,236.36)\">12.51%</text></g></g></g><g class=\"trace bars\" style=\"opacity: 1;\"><g class=\"points\"><g class=\"point\"><path d=\"M246,346V299.87H294V346Z\" style=\"vector-effect: non-scaling-stroke; opacity: 1; stroke-width: 0.5px; fill: rgb(148, 103, 189); fill-opacity: 1; stroke: rgb(255, 255, 255); stroke-opacity: 1;\"/><text class=\"bartext bartext-outside\" text-anchor=\"middle\" data-notex=\"1\" x=\"0\" y=\"0\" style=\"font-family: 'Open Sans', verdana, arial, sans-serif; font-size: 12px; fill: rgb(36, 36, 36); fill-opacity: 1; white-space: pre;\" transform=\"translate(269.9609375,293.87)\">5.57%</text></g></g></g><g class=\"trace bars\" style=\"opacity: 1;\"><g class=\"points\"><g class=\"point\"><path d=\"M306,346V314.47H354V346Z\" style=\"vector-effect: non-scaling-stroke; opacity: 1; stroke-width: 0.5px; fill: rgb(140, 86, 75); fill-opacity: 1; stroke: rgb(255, 255, 255); stroke-opacity: 1;\"/><text class=\"bartext bartext-outside\" text-anchor=\"middle\" data-notex=\"1\" x=\"0\" y=\"0\" style=\"font-family: 'Open Sans', verdana, arial, sans-serif; font-size: 12px; fill: rgb(36, 36, 36); fill-opacity: 1; white-space: pre;\" transform=\"translate(329.9609375,308.47)\">3.81%</text></g></g></g><g class=\"trace bars\" style=\"opacity: 1;\"><g class=\"points\"><g class=\"point\"><path d=\"M366,346V324.55H414V346Z\" style=\"vector-effect: non-scaling-stroke; opacity: 1; stroke-width: 0.5px; fill: rgb(227, 119, 194); fill-opacity: 1; stroke: rgb(255, 255, 255); stroke-opacity: 1;\"/><text class=\"bartext bartext-outside\" text-anchor=\"middle\" data-notex=\"1\" x=\"0\" y=\"0\" style=\"font-family: 'Open Sans', verdana, arial, sans-serif; font-size: 12px; fill: rgb(36, 36, 36); fill-opacity: 1; white-space: pre;\" transform=\"translate(389.9609375,318.55)\">2.59%</text></g></g></g><g class=\"trace bars\" style=\"opacity: 1;\"><g class=\"points\"><g class=\"point\"><path d=\"M426,346V326.6H474V346Z\" style=\"vector-effect: non-scaling-stroke; opacity: 1; stroke-width: 0.5px; fill: rgb(127, 127, 127); fill-opacity: 1; stroke: rgb(255, 255, 255); stroke-opacity: 1;\"/><text class=\"bartext bartext-outside\" text-anchor=\"middle\" data-notex=\"1\" x=\"0\" y=\"0\" style=\"font-family: 'Open Sans', verdana, arial, sans-serif; font-size: 12px; fill: rgb(36, 36, 36); fill-opacity: 1; white-space: pre;\" transform=\"translate(449.9609375,320.6)\">2.34%</text></g></g></g><g class=\"trace bars\" style=\"opacity: 1;\"><g class=\"points\"><g class=\"point\"><path d=\"M486,346V331.29H534V346Z\" style=\"vector-effect: non-scaling-stroke; opacity: 1; stroke-width: 0.5px; fill: rgb(188, 189, 34); fill-opacity: 1; stroke: rgb(255, 255, 255); stroke-opacity: 1;\"/><text class=\"bartext bartext-outside\" text-anchor=\"middle\" data-notex=\"1\" x=\"0\" y=\"0\" style=\"font-family: 'Open Sans', verdana, arial, sans-serif; font-size: 12px; fill: rgb(36, 36, 36); fill-opacity: 1; white-space: pre;\" transform=\"translate(509.9609375,325.29)\">1.78%</text></g></g></g></g></g><g class=\"overplot\"/><path class=\"xlines-above crisp\" d=\"M79,406.5H620\" style=\"fill: none; stroke-width: 1px; stroke: rgb(36, 36, 36); stroke-opacity: 1;\"/><path class=\"ylines-above crisp\" d=\"M79.5,60V406\" style=\"fill: none; stroke-width: 1px; stroke: rgb(36, 36, 36); stroke-opacity: 1;\"/><g class=\"overlines-above\"/><g class=\"xaxislayer-above\"><path class=\"xtick ticks crisp\" d=\"M0,407v5\" transform=\"translate(110,0)\" style=\"stroke: rgb(68, 68, 68); stroke-opacity: 1; stroke-width: 1px;\"/><path class=\"xtick ticks crisp\" d=\"M0,407v5\" transform=\"translate(170,0)\" style=\"stroke: rgb(68, 68, 68); stroke-opacity: 1; stroke-width: 1px;\"/><path class=\"xtick ticks crisp\" d=\"M0,407v5\" transform=\"translate(230,0)\" style=\"stroke: rgb(68, 68, 68); stroke-opacity: 1; stroke-width: 1px;\"/><path class=\"xtick ticks crisp\" d=\"M0,407v5\" transform=\"translate(290,0)\" style=\"stroke: rgb(68, 68, 68); stroke-opacity: 1; stroke-width: 1px;\"/><path class=\"xtick ticks crisp\" d=\"M0,407v5\" transform=\"translate(350,0)\" style=\"stroke: rgb(68, 68, 68); stroke-opacity: 1; stroke-width: 1px;\"/><path class=\"xtick ticks crisp\" d=\"M0,407v5\" transform=\"translate(410,0)\" style=\"stroke: rgb(68, 68, 68); stroke-opacity: 1; stroke-width: 1px;\"/><path class=\"xtick ticks crisp\" d=\"M0,407v5\" transform=\"translate(470,0)\" style=\"stroke: rgb(68, 68, 68); stroke-opacity: 1; stroke-width: 1px;\"/><path class=\"xtick ticks crisp\" d=\"M0,407v5\" transform=\"translate(530,0)\" style=\"stroke: rgb(68, 68, 68); stroke-opacity: 1; stroke-width: 1px;\"/><path class=\"xtick ticks crisp\" d=\"M0,407v5\" transform=\"translate(590,0)\" style=\"stroke: rgb(68, 68, 68); stroke-opacity: 1; stroke-width: 1px;\"/><g class=\"xtick\"><text text-anchor=\"start\" x=\"0\" y=\"426.4\" transform=\"translate(110,0) rotate(30,0,420.4)\" style=\"font-family: 'Open Sans', verdana, arial, sans-serif; font-size: 12px; fill: rgb(36, 36, 36); fill-opacity: 1; white-space: pre; opacity: 1;\">кафе</text></g><g class=\"xtick\"><text text-anchor=\"start\" x=\"0\" y=\"426.4\" transform=\"translate(170,0) rotate(30,0,420.4)\" style=\"font-family: 'Open Sans', verdana, arial, sans-serif; font-size: 12px; fill: rgb(36, 36, 36); fill-opacity: 1; white-space: pre; opacity: 1;\">столовая</text></g><g class=\"xtick\"><text text-anchor=\"start\" x=\"0\" y=\"426.4\" transform=\"translate(230,0) rotate(30,0,420.4)\" style=\"font-family: 'Open Sans', verdana, arial, sans-serif; font-size: 12px; fill: rgb(36, 36, 36); fill-opacity: 1; white-space: pre; opacity: 1;\">ресторан</text></g><g class=\"xtick\"><text text-anchor=\"start\" x=\"0\" y=\"426.4\" transform=\"translate(290,0) rotate(30,0,420.4)\" style=\"font-family: 'Open Sans', verdana, arial, sans-serif; font-size: 12px; fill: rgb(36, 36, 36); fill-opacity: 1; white-space: pre; opacity: 1;\">фаст-фуд</text></g><g class=\"xtick\"><text text-anchor=\"start\" x=\"0\" y=\"426.4\" transform=\"translate(350,0) rotate(30,0,420.4)\" style=\"font-family: 'Open Sans', verdana, arial, sans-serif; font-size: 12px; fill: rgb(36, 36, 36); fill-opacity: 1; white-space: pre; opacity: 1;\">бар</text></g><g class=\"xtick\"><text text-anchor=\"start\" x=\"0\" y=\"426.4\" transform=\"translate(410,0) rotate(30,0,420.4)\" style=\"font-family: 'Open Sans', verdana, arial, sans-serif; font-size: 12px; fill: rgb(36, 36, 36); fill-opacity: 1; white-space: pre; opacity: 1;\">буфет</text></g><g class=\"xtick\"><text text-anchor=\"start\" x=\"0\" y=\"426.4\" transform=\"translate(470,0) rotate(30,0,420.4)\" style=\"font-family: 'Open Sans', verdana, arial, sans-serif; font-size: 12px; fill: rgb(36, 36, 36); fill-opacity: 1; white-space: pre; opacity: 1;\">кафетерий</text></g><g class=\"xtick\"><text text-anchor=\"start\" x=\"0\" y=\"426.4\" transform=\"translate(530,0) rotate(30,0,420.4)\" style=\"font-family: 'Open Sans', verdana, arial, sans-serif; font-size: 12px; fill: rgb(36, 36, 36); fill-opacity: 1; white-space: pre; opacity: 1;\">закусочная</text></g><g class=\"xtick\"><text text-anchor=\"start\" x=\"0\" y=\"426.4\" transform=\"translate(590,0) rotate(30,0,420.4)\" style=\"font-family: 'Open Sans', verdana, arial, sans-serif; font-size: 12px; fill: rgb(36, 36, 36); fill-opacity: 1; white-space: pre; opacity: 1;\">кулинария</text></g></g><g class=\"yaxislayer-above\"><path class=\"ytick ticks crisp\" d=\"M79,0h-5\" transform=\"translate(0,406)\" style=\"stroke: rgb(68, 68, 68); stroke-opacity: 1; stroke-width: 1px;\"/><path class=\"ytick ticks crisp\" d=\"M79,0h-5\" transform=\"translate(0,352.11)\" style=\"stroke: rgb(68, 68, 68); stroke-opacity: 1; stroke-width: 1px;\"/><path class=\"ytick ticks crisp\" d=\"M79,0h-5\" transform=\"translate(0,298.21000000000004)\" style=\"stroke: rgb(68, 68, 68); stroke-opacity: 1; stroke-width: 1px;\"/><path class=\"ytick ticks crisp\" d=\"M79,0h-5\" transform=\"translate(0,244.32)\" style=\"stroke: rgb(68, 68, 68); stroke-opacity: 1; stroke-width: 1px;\"/><path class=\"ytick ticks crisp\" d=\"M79,0h-5\" transform=\"translate(0,190.42)\" style=\"stroke: rgb(68, 68, 68); stroke-opacity: 1; stroke-width: 1px;\"/><path class=\"ytick ticks crisp\" d=\"M79,0h-5\" transform=\"translate(0,136.53)\" style=\"stroke: rgb(68, 68, 68); stroke-opacity: 1; stroke-width: 1px;\"/><path class=\"ytick ticks crisp\" d=\"M79,0h-5\" transform=\"translate(0,82.64)\" style=\"stroke: rgb(68, 68, 68); stroke-opacity: 1; stroke-width: 1px;\"/><g class=\"ytick\"><text text-anchor=\"end\" x=\"71.6\" y=\"4.199999999999999\" transform=\"translate(0,406)\" style=\"font-family: 'Open Sans', verdana, arial, sans-serif; font-size: 12px; fill: rgb(36, 36, 36); fill-opacity: 1; white-space: pre; opacity: 1;\">0</text></g><g class=\"ytick\"><text text-anchor=\"end\" x=\"71.6\" y=\"4.199999999999999\" style=\"font-family: 'Open Sans', verdana, arial, sans-serif; font-size: 12px; fill: rgb(36, 36, 36); fill-opacity: 1; white-space: pre; opacity: 1;\" transform=\"translate(0,352.11)\">1000</text></g><g class=\"ytick\"><text text-anchor=\"end\" x=\"71.6\" y=\"4.199999999999999\" style=\"font-family: 'Open Sans', verdana, arial, sans-serif; font-size: 12px; fill: rgb(36, 36, 36); fill-opacity: 1; white-space: pre; opacity: 1;\" transform=\"translate(0,298.21000000000004)\">2000</text></g><g class=\"ytick\"><text text-anchor=\"end\" x=\"71.6\" y=\"4.199999999999999\" style=\"font-family: 'Open Sans', verdana, arial, sans-serif; font-size: 12px; fill: rgb(36, 36, 36); fill-opacity: 1; white-space: pre; opacity: 1;\" transform=\"translate(0,244.32)\">3000</text></g><g class=\"ytick\"><text text-anchor=\"end\" x=\"71.6\" y=\"4.199999999999999\" style=\"font-family: 'Open Sans', verdana, arial, sans-serif; font-size: 12px; fill: rgb(36, 36, 36); fill-opacity: 1; white-space: pre; opacity: 1;\" transform=\"translate(0,190.42)\">4000</text></g><g class=\"ytick\"><text text-anchor=\"end\" x=\"71.6\" y=\"4.199999999999999\" style=\"font-family: 'Open Sans', verdana, arial, sans-serif; font-size: 12px; fill: rgb(36, 36, 36); fill-opacity: 1; white-space: pre; opacity: 1;\" transform=\"translate(0,136.53)\">5000</text></g><g class=\"ytick\"><text text-anchor=\"end\" x=\"71.6\" y=\"4.199999999999999\" style=\"font-family: 'Open Sans', verdana, arial, sans-serif; font-size: 12px; fill: rgb(36, 36, 36); fill-opacity: 1; white-space: pre; opacity: 1;\" transform=\"translate(0,82.64)\">6000</text></g></g><g class=\"overaxes-above\"/></g></g><g class=\"polarlayer\"/><g class=\"smithlayer\"/><g class=\"ternarylayer\"/><g class=\"geolayer\"/><g class=\"funnelarealayer\"/><g class=\"pielayer\"/><g class=\"iciclelayer\"/><g class=\"treemaplayer\"/><g class=\"sunburstlayer\"/><g class=\"glimages\"/><defs id=\"topdefs-9d74e5\"><g class=\"clips\"/></defs><g class=\"layer-above\"><g class=\"imagelayer\"/><g class=\"shapelayer\"/></g><g class=\"infolayer\"><g class=\"g-gtitle\"><text class=\"gtitle\" x=\"35\" y=\"30\" text-anchor=\"start\" dy=\"0em\" style=\"font-family: 'Open Sans', verdana, arial, sans-serif; font-size: 17px; fill: rgb(36, 36, 36); opacity: 1; font-weight: normal; white-space: pre;\">Соотношение видов объектов общественного питания по количеству</text></g><g class=\"g-xtitle\"><text class=\"xtitle\" x=\"350\" y=\"488.35859375\" text-anchor=\"middle\" style=\"font-family: 'Open Sans', verdana, arial, sans-serif; font-size: 14px; fill: rgb(36, 36, 36); opacity: 1; font-weight: normal; white-space: pre;\">Тип объекта</text></g><g class=\"g-ytitle\"><text class=\"ytitle\" transform=\"rotate(-90,16.278125000000003,233)\" x=\"16.278125000000003\" y=\"233\" text-anchor=\"middle\" style=\"font-family: 'Open Sans', verdana, arial, sans-serif; font-size: 14px; fill: rgb(36, 36, 36); opacity: 1; font-weight: normal; white-space: pre;\">Количество</text></g></g></svg>"
      ]
     },
     "metadata": {},
     "output_type": "display_data"
    }
   ],
   "source": [
    "# строим график соотношения видов объектов \n",
    "fig = px.bar(object_types, \n",
    "             y='object_name', \n",
    "             x='object_type', \n",
    "             text='percent', \n",
    "             template = 'simple_white', \n",
    "             color='object_type')\n",
    "\n",
    "#fig.update_xaxes(tickangle=15)\n",
    "\n",
    "fig.update_layout(\n",
    "    title='Соотношение видов объектов общественного питания по количеству',\n",
    "    xaxis_title=\"Тип объекта\",\n",
    "    yaxis_title=\"Количество\")\n",
    "\n",
    "fig.update_traces(textposition='outside',\n",
    "                showlegend = False,\n",
    "                 hovertemplate ='Вид: %{x} <br> Количество: %{y}')\n",
    "\n",
    "fig.show(renderer=\"svg\")"
   ]
  },
  {
   "cell_type": "markdown",
   "metadata": {},
   "source": [
    "Самый распространенный вид - это кафе 39,69%. Вообще пользуются популярностью заведения, где можно с комфортом и полноценно покушать - кафе, столовые и рестораны, предприятия быстрого обслуживания. Гораздо меньше заведений с узкой направленностью - бары, буфеты, кафетерии, их от 2 до 6%.\n",
    "\n",
    "### Соотношение сетевых и несетевых заведений"
   ]
  },
  {
   "cell_type": "code",
   "execution_count": 8,
   "metadata": {
    "scrolled": false
   },
   "outputs": [
    {
     "data": {
      "image/svg+xml": [
       "<svg class=\"main-svg\" xmlns=\"http://www.w3.org/2000/svg\" xmlns:xlink=\"http://www.w3.org/1999/xlink\" width=\"700\" height=\"500\" style=\"\" viewBox=\"0 0 700 500\"><rect x=\"0\" y=\"0\" width=\"700\" height=\"500\" style=\"fill: rgb(255, 255, 255); fill-opacity: 1;\"/><defs id=\"defs-c45128\"><g class=\"clips\"/><g class=\"gradients\"/><g class=\"patterns\"/></defs><g class=\"bglayer\"/><g class=\"layer-below\"><g class=\"imagelayer\"/><g class=\"shapelayer\"/></g><g class=\"cartesianlayer\"/><g class=\"polarlayer\"/><g class=\"smithlayer\"/><g class=\"ternarylayer\"/><g class=\"geolayer\"/><g class=\"funnelarealayer\"/><g class=\"pielayer\"><g class=\"trace\" stroke-linejoin=\"round\" style=\"opacity: 1;\"><g class=\"slice\"><path class=\"surface\" d=\"M323,267.5l0,-117.3076923076923a117.3076923076923,117.3076923076923 0 1 1 -109.90416982565363,76.29344930004801Z\" style=\"pointer-events: all; stroke-width: 0; fill: rgb(99, 110, 250); fill-opacity: 1; stroke: rgb(68, 68, 68); stroke-opacity: 1;\"/><g class=\"slicetext\"><text data-notex=\"1\" class=\"slicetext\" transform=\"translate(356.4473625185577,312.37775338037915)\" text-anchor=\"middle\" x=\"0\" y=\"0\" style=\"font-family: 'Open Sans', verdana, arial, sans-serif; font-size: 12px; fill: rgb(255, 255, 255); fill-opacity: 1; white-space: pre;\"><tspan class=\"line\" dy=\"0em\" x=\"0\" y=\"0\">Несетевые</tspan><tspan class=\"line\" dy=\"1.3em\" x=\"0\" y=\"0\">80.7%</tspan></text></g></g><g class=\"slice\"><path class=\"surface\" d=\"M302.9315824888654,238.5905354717725l-109.90416982565363,-41.0142430076443a117.3076923076923,117.3076923076923 0 0 1 109.90416982565363,-76.293449300048Z\" style=\"pointer-events: all; stroke-width: 0; fill: rgb(239, 85, 59); fill-opacity: 1; stroke: rgb(68, 68, 68); stroke-opacity: 1;\"/><g class=\"slicetext\"><text data-notex=\"1\" class=\"slicetext\" transform=\"translate(260.33026414149344,173.91671904390597)\" text-anchor=\"middle\" x=\"0\" y=\"0\" style=\"font-family: 'Open Sans', verdana, arial, sans-serif; font-size: 12px; fill: rgb(68, 68, 68); fill-opacity: 1; white-space: pre;\"><tspan class=\"line\" dy=\"0em\" x=\"0\" y=\"0\">Сетевые</tspan><tspan class=\"line\" dy=\"1.3em\" x=\"0\" y=\"0\">19.3%</tspan></text></g></g><g class=\"titletext\"><text data-notex=\"1\" class=\"titletext\" transform=\"translate(323,115)translate(0,-3)\" text-anchor=\"middle\" x=\"0\" y=\"0\" style=\"font-family: 'Open Sans', verdana, arial, sans-serif; font-size: 12px; fill: rgb(42, 63, 95); fill-opacity: 1; white-space: pre;\">Cоотношение сетевых и несетевых заведений по всем улицам Москвы</text></g></g></g><g class=\"iciclelayer\"/><g class=\"treemaplayer\"/><g class=\"sunburstlayer\"/><g class=\"glimages\"/><defs id=\"topdefs-c45128\"><g class=\"clips\"/><clipPath id=\"legendc45128\"><rect width=\"112\" height=\"48\" x=\"0\" y=\"0\"/></clipPath></defs><g class=\"layer-above\"><g class=\"imagelayer\"/><g class=\"shapelayer\"/></g><g class=\"infolayer\"><g class=\"legend\" pointer-events=\"all\" transform=\"translate(575.72,100)\"><rect class=\"bg\" shape-rendering=\"crispEdges\" style=\"stroke: rgb(68, 68, 68); stroke-opacity: 1; fill: rgb(255, 255, 255); fill-opacity: 1; stroke-width: 0px;\" width=\"112\" height=\"48\" x=\"0\" y=\"0\"/><g class=\"scrollbox\" transform=\"\" clip-path=\"url(#legendc45128)\"><g class=\"groups\"><g class=\"traces\" transform=\"translate(0,14.5)\" style=\"opacity: 1;\"><text class=\"legendtext\" text-anchor=\"start\" x=\"40\" y=\"4.680000000000001\" style=\"font-family: 'Open Sans', verdana, arial, sans-serif; font-size: 12px; fill: rgb(42, 63, 95); fill-opacity: 1; white-space: pre;\">Несетевые</text><g class=\"layers\" style=\"opacity: 1;\"><g class=\"legendfill\"/><g class=\"legendlines\"/><g class=\"legendsymbols\"><g class=\"legendpoints\"><path class=\"legendpie\" d=\"M6,6H-6V-6H6Z\" transform=\"translate(20,0)\" style=\"stroke-width: 0; fill: rgb(99, 110, 250); fill-opacity: 1; stroke: rgb(68, 68, 68); stroke-opacity: 1;\"/></g></g></g><rect class=\"legendtoggle\" x=\"0\" y=\"-9.5\" width=\"106.65625\" height=\"19\" style=\"fill: rgb(0, 0, 0); fill-opacity: 0;\"/></g><g class=\"traces\" transform=\"translate(0,33.5)\" style=\"opacity: 1;\"><text class=\"legendtext\" text-anchor=\"start\" x=\"40\" y=\"4.680000000000001\" style=\"font-family: 'Open Sans', verdana, arial, sans-serif; font-size: 12px; fill: rgb(42, 63, 95); fill-opacity: 1; white-space: pre;\">Сетевые</text><g class=\"layers\" style=\"opacity: 1;\"><g class=\"legendfill\"/><g class=\"legendlines\"/><g class=\"legendsymbols\"><g class=\"legendpoints\"><path class=\"legendpie\" d=\"M6,6H-6V-6H6Z\" transform=\"translate(20,0)\" style=\"stroke-width: 0; fill: rgb(239, 85, 59); fill-opacity: 1; stroke: rgb(68, 68, 68); stroke-opacity: 1;\"/></g></g></g><rect class=\"legendtoggle\" x=\"0\" y=\"-9.5\" width=\"106.65625\" height=\"19\" style=\"fill: rgb(0, 0, 0); fill-opacity: 0;\"/></g></g></g><rect class=\"scrollbar\" rx=\"20\" ry=\"3\" width=\"0\" height=\"0\" style=\"fill: rgb(128, 139, 164); fill-opacity: 1;\" x=\"0\" y=\"0\"/></g><g class=\"g-gtitle\"/></g></svg>"
      ]
     },
     "metadata": {},
     "output_type": "display_data"
    }
   ],
   "source": [
    "# строим график \n",
    "fig = go.Figure(go.Pie(\n",
    "    labels=['Несетевые', 'Сетевые'],\n",
    "    values = rest_data['chain'].value_counts().to_list(), \n",
    "    title='Cоотношение сетевых и несетевых заведений по всем улицам Москвы'))\n",
    "\n",
    "fig.update_traces(textposition='inside', textinfo='percent+label', pull=[0,0.3])\n",
    "fig.show(renderer=\"svg\")"
   ]
  },
  {
   "cell_type": "markdown",
   "metadata": {},
   "source": [
    "Несетевые заведения преобладают- их почти 81%. Так что цель открыть новое кафе, не входящее в сеть, пока кажется весьма перспективной. Однако неплохо бы взглянуть на сетевые заведения повнимательней. Это устоявшийся бизнес со своей успешной концепцией работы и развития сети. "
   ]
  },
  {
   "cell_type": "markdown",
   "metadata": {},
   "source": [
    "### Самые популярные виды сетевых заведений\n",
    "\n",
    "Определим в каком формате сети предпочитают вести бизнес. Соотносится ли это с рынком в целом?"
   ]
  },
  {
   "cell_type": "code",
   "execution_count": 9,
   "metadata": {
    "scrolled": false
   },
   "outputs": [
    {
     "data": {
      "text/html": [
       "<div>\n",
       "<style scoped>\n",
       "    .dataframe tbody tr th:only-of-type {\n",
       "        vertical-align: middle;\n",
       "    }\n",
       "\n",
       "    .dataframe tbody tr th {\n",
       "        vertical-align: top;\n",
       "    }\n",
       "\n",
       "    .dataframe thead th {\n",
       "        text-align: right;\n",
       "    }\n",
       "</style>\n",
       "<table border=\"1\" class=\"dataframe\">\n",
       "  <thead>\n",
       "    <tr style=\"text-align: right;\">\n",
       "      <th></th>\n",
       "      <th>object_type</th>\n",
       "      <th>object_name</th>\n",
       "      <th>percent</th>\n",
       "    </tr>\n",
       "  </thead>\n",
       "  <tbody>\n",
       "    <tr>\n",
       "      <th>3</th>\n",
       "      <td>кафе</td>\n",
       "      <td>1396</td>\n",
       "      <td>47.04%</td>\n",
       "    </tr>\n",
       "    <tr>\n",
       "      <th>8</th>\n",
       "      <td>фаст-фуд</td>\n",
       "      <td>791</td>\n",
       "      <td>26.65%</td>\n",
       "    </tr>\n",
       "    <tr>\n",
       "      <th>6</th>\n",
       "      <td>ресторан</td>\n",
       "      <td>544</td>\n",
       "      <td>18.33%</td>\n",
       "    </tr>\n",
       "    <tr>\n",
       "      <th>5</th>\n",
       "      <td>кулинария</td>\n",
       "      <td>78</td>\n",
       "      <td>2.63%</td>\n",
       "    </tr>\n",
       "    <tr>\n",
       "      <th>2</th>\n",
       "      <td>закусочная</td>\n",
       "      <td>56</td>\n",
       "      <td>1.89%</td>\n",
       "    </tr>\n",
       "    <tr>\n",
       "      <th>4</th>\n",
       "      <td>кафетерий</td>\n",
       "      <td>52</td>\n",
       "      <td>1.75%</td>\n",
       "    </tr>\n",
       "    <tr>\n",
       "      <th>0</th>\n",
       "      <td>бар</td>\n",
       "      <td>37</td>\n",
       "      <td>1.25%</td>\n",
       "    </tr>\n",
       "    <tr>\n",
       "      <th>1</th>\n",
       "      <td>буфет</td>\n",
       "      <td>11</td>\n",
       "      <td>0.37%</td>\n",
       "    </tr>\n",
       "    <tr>\n",
       "      <th>7</th>\n",
       "      <td>столовая</td>\n",
       "      <td>3</td>\n",
       "      <td>0.1%</td>\n",
       "    </tr>\n",
       "  </tbody>\n",
       "</table>\n",
       "</div>"
      ],
      "text/plain": [
       "  object_type  object_name percent\n",
       "3        кафе         1396  47.04%\n",
       "8    фаст-фуд          791  26.65%\n",
       "6    ресторан          544  18.33%\n",
       "5   кулинария           78   2.63%\n",
       "2  закусочная           56   1.89%\n",
       "4   кафетерий           52   1.75%\n",
       "0         бар           37   1.25%\n",
       "1       буфет           11   0.37%\n",
       "7    столовая            3    0.1%"
      ]
     },
     "execution_count": 9,
     "metadata": {},
     "output_type": "execute_result"
    }
   ],
   "source": [
    "#срез сетевых\n",
    "chain_object = (rest_data[rest_data['chain'] == True].loc[:,:]).copy()\n",
    "\n",
    "# группируем сетевые\n",
    "group_chain_object = chain_object.groupby('object_type', as_index=False)\\\n",
    "                        .agg({'object_name':'count'})\\\n",
    "                        .sort_values(by='object_name', ascending=False)\n",
    "# считаем %\n",
    "group_chain_object['percent'] = (\n",
    "    group_chain_object['object_name']/group_chain_object['object_name'].sum()*100).round(2).astype('str') + '%'\n",
    "\n",
    "group_chain_object"
   ]
  },
  {
   "cell_type": "code",
   "execution_count": 10,
   "metadata": {
    "scrolled": false
   },
   "outputs": [
    {
     "data": {
      "image/svg+xml": [
       "<svg class=\"main-svg\" xmlns=\"http://www.w3.org/2000/svg\" xmlns:xlink=\"http://www.w3.org/1999/xlink\" width=\"700\" height=\"500\" style=\"\" viewBox=\"0 0 700 500\"><rect x=\"0\" y=\"0\" width=\"700\" height=\"500\" style=\"fill: rgb(255, 255, 255); fill-opacity: 1;\"/><defs id=\"defs-55f510\"><g class=\"clips\"><clipPath id=\"clip55f510xyplot\" class=\"plotclip\"><rect width=\"540\" height=\"346\"/></clipPath><clipPath class=\"axesclip\" id=\"clip55f510x\"><rect x=\"80\" y=\"0\" width=\"540\" height=\"500\"/></clipPath><clipPath class=\"axesclip\" id=\"clip55f510y\"><rect x=\"0\" y=\"60\" width=\"700\" height=\"346\"/></clipPath><clipPath class=\"axesclip\" id=\"clip55f510xy\"><rect x=\"80\" y=\"60\" width=\"540\" height=\"346\"/></clipPath></g><g class=\"gradients\"/><g class=\"patterns\"/></defs><g class=\"bglayer\"/><g class=\"layer-below\"><g class=\"imagelayer\"/><g class=\"shapelayer\"/></g><g class=\"cartesianlayer\"><g class=\"subplot xy\"><g class=\"layer-subplot\"><g class=\"shapelayer\"/><g class=\"imagelayer\"/></g><g class=\"gridlayer\"><g class=\"x\"/><g class=\"y\"/></g><g class=\"zerolinelayer\"/><path class=\"xlines-below\"/><path class=\"ylines-below\"/><g class=\"overlines-below\"/><g class=\"xaxislayer-below\"/><g class=\"yaxislayer-below\"/><g class=\"overaxes-below\"/><g class=\"plot\" transform=\"translate(80,60)\" clip-path=\"url(#clip55f510xyplot)\"><g class=\"barlayer mlayer\"><g class=\"trace bars\" style=\"opacity: 1;\"><g class=\"points\"><g class=\"point\"><path d=\"M6,346V17.3H54V346Z\" style=\"vector-effect: non-scaling-stroke; opacity: 1; stroke-width: 0.5px; fill: rgb(31, 119, 180); fill-opacity: 1; stroke: rgb(255, 255, 255); stroke-opacity: 1;\"/><text class=\"bartext bartext-outside\" text-anchor=\"middle\" data-notex=\"1\" x=\"0\" y=\"0\" style=\"font-family: 'Open Sans', verdana, arial, sans-serif; font-size: 12px; fill: rgb(36, 36, 36); fill-opacity: 1; white-space: pre;\" transform=\"translate(29.9609375,11.3)\">47.04%</text></g></g></g><g class=\"trace bars\" style=\"opacity: 1;\"><g class=\"points\"><g class=\"point\"><path d=\"M66,346V159.75H114V346Z\" style=\"vector-effect: non-scaling-stroke; opacity: 1; stroke-width: 0.5px; fill: rgb(255, 127, 14); fill-opacity: 1; stroke: rgb(255, 255, 255); stroke-opacity: 1;\"/><text class=\"bartext bartext-outside\" text-anchor=\"middle\" data-notex=\"1\" x=\"0\" y=\"0\" style=\"font-family: 'Open Sans', verdana, arial, sans-serif; font-size: 12px; fill: rgb(36, 36, 36); fill-opacity: 1; white-space: pre;\" transform=\"translate(89.9609375,153.75)\">26.65%</text></g></g></g><g class=\"trace bars\" style=\"opacity: 1;\"><g class=\"points\"><g class=\"point\"><path d=\"M126,346V217.91H174V346Z\" style=\"vector-effect: non-scaling-stroke; opacity: 1; stroke-width: 0.5px; fill: rgb(44, 160, 44); fill-opacity: 1; stroke: rgb(255, 255, 255); stroke-opacity: 1;\"/><text class=\"bartext bartext-outside\" text-anchor=\"middle\" data-notex=\"1\" x=\"0\" y=\"0\" style=\"font-family: 'Open Sans', verdana, arial, sans-serif; font-size: 12px; fill: rgb(36, 36, 36); fill-opacity: 1; white-space: pre;\" transform=\"translate(149.9609375,211.91)\">18.33%</text></g></g></g><g class=\"trace bars\" style=\"opacity: 1;\"><g class=\"points\"><g class=\"point\"><path d=\"M186,346V327.63H234V346Z\" style=\"vector-effect: non-scaling-stroke; opacity: 1; stroke-width: 0.5px; fill: rgb(214, 39, 40); fill-opacity: 1; stroke: rgb(255, 255, 255); stroke-opacity: 1;\"/><text class=\"bartext bartext-outside\" text-anchor=\"middle\" data-notex=\"1\" x=\"0\" y=\"0\" style=\"font-family: 'Open Sans', verdana, arial, sans-serif; font-size: 12px; fill: rgb(36, 36, 36); fill-opacity: 1; white-space: pre;\" transform=\"translate(209.9609375,321.63)\">2.63%</text></g></g></g><g class=\"trace bars\" style=\"opacity: 1;\"><g class=\"points\"><g class=\"point\"><path d=\"M246,346V332.81H294V346Z\" style=\"vector-effect: non-scaling-stroke; opacity: 1; stroke-width: 0.5px; fill: rgb(148, 103, 189); fill-opacity: 1; stroke: rgb(255, 255, 255); stroke-opacity: 1;\"/><text class=\"bartext bartext-outside\" text-anchor=\"middle\" data-notex=\"1\" x=\"0\" y=\"0\" style=\"font-family: 'Open Sans', verdana, arial, sans-serif; font-size: 12px; fill: rgb(36, 36, 36); fill-opacity: 1; white-space: pre;\" transform=\"translate(269.9609375,326.81)\">1.89%</text></g></g></g><g class=\"trace bars\" style=\"opacity: 1;\"><g class=\"points\"><g class=\"point\"><path d=\"M306,346V333.76H354V346Z\" style=\"vector-effect: non-scaling-stroke; opacity: 1; stroke-width: 0.5px; fill: rgb(140, 86, 75); fill-opacity: 1; stroke: rgb(255, 255, 255); stroke-opacity: 1;\"/><text class=\"bartext bartext-outside\" text-anchor=\"middle\" data-notex=\"1\" x=\"0\" y=\"0\" style=\"font-family: 'Open Sans', verdana, arial, sans-serif; font-size: 12px; fill: rgb(36, 36, 36); fill-opacity: 1; white-space: pre;\" transform=\"translate(329.9609375,327.76)\">1.75%</text></g></g></g><g class=\"trace bars\" style=\"opacity: 1;\"><g class=\"points\"><g class=\"point\"><path d=\"M366,346V337.29H414V346Z\" style=\"vector-effect: non-scaling-stroke; opacity: 1; stroke-width: 0.5px; fill: rgb(227, 119, 194); fill-opacity: 1; stroke: rgb(255, 255, 255); stroke-opacity: 1;\"/><text class=\"bartext bartext-outside\" text-anchor=\"middle\" data-notex=\"1\" x=\"0\" y=\"0\" style=\"font-family: 'Open Sans', verdana, arial, sans-serif; font-size: 12px; fill: rgb(36, 36, 36); fill-opacity: 1; white-space: pre;\" transform=\"translate(389.9609375,331.29)\">1.25%</text></g></g></g><g class=\"trace bars\" style=\"opacity: 1;\"><g class=\"points\"><g class=\"point\"><path d=\"M426,346V343.41H474V346Z\" style=\"vector-effect: non-scaling-stroke; opacity: 1; stroke-width: 0.5px; fill: rgb(127, 127, 127); fill-opacity: 1; stroke: rgb(255, 255, 255); stroke-opacity: 1;\"/><text class=\"bartext bartext-outside\" text-anchor=\"middle\" data-notex=\"1\" x=\"0\" y=\"0\" style=\"font-family: 'Open Sans', verdana, arial, sans-serif; font-size: 12px; fill: rgb(36, 36, 36); fill-opacity: 1; white-space: pre;\" transform=\"translate(449.9609375,337.41)\">0.37%</text></g></g></g><g class=\"trace bars\" style=\"opacity: 1;\"><g class=\"points\"><g class=\"point\"><path d=\"M486,346V345.29H534V346Z\" style=\"vector-effect: non-scaling-stroke; opacity: 1; stroke-width: 0.5px; fill: rgb(188, 189, 34); fill-opacity: 1; stroke: rgb(255, 255, 255); stroke-opacity: 1;\"/><text class=\"bartext bartext-outside\" text-anchor=\"middle\" data-notex=\"1\" x=\"0\" y=\"0\" style=\"font-family: 'Open Sans', verdana, arial, sans-serif; font-size: 12px; fill: rgb(36, 36, 36); fill-opacity: 1; white-space: pre;\" transform=\"translate(509.9609375,339.29)\">0.1%</text></g></g></g></g></g><g class=\"overplot\"/><path class=\"xlines-above crisp\" d=\"M79,406.5H620\" style=\"fill: none; stroke-width: 1px; stroke: rgb(36, 36, 36); stroke-opacity: 1;\"/><path class=\"ylines-above crisp\" d=\"M79.5,60V406\" style=\"fill: none; stroke-width: 1px; stroke: rgb(36, 36, 36); stroke-opacity: 1;\"/><g class=\"overlines-above\"/><g class=\"xaxislayer-above\"><path class=\"xtick ticks crisp\" d=\"M0,407v5\" transform=\"translate(110,0)\" style=\"stroke: rgb(68, 68, 68); stroke-opacity: 1; stroke-width: 1px;\"/><path class=\"xtick ticks crisp\" d=\"M0,407v5\" transform=\"translate(170,0)\" style=\"stroke: rgb(68, 68, 68); stroke-opacity: 1; stroke-width: 1px;\"/><path class=\"xtick ticks crisp\" d=\"M0,407v5\" transform=\"translate(230,0)\" style=\"stroke: rgb(68, 68, 68); stroke-opacity: 1; stroke-width: 1px;\"/><path class=\"xtick ticks crisp\" d=\"M0,407v5\" transform=\"translate(290,0)\" style=\"stroke: rgb(68, 68, 68); stroke-opacity: 1; stroke-width: 1px;\"/><path class=\"xtick ticks crisp\" d=\"M0,407v5\" transform=\"translate(350,0)\" style=\"stroke: rgb(68, 68, 68); stroke-opacity: 1; stroke-width: 1px;\"/><path class=\"xtick ticks crisp\" d=\"M0,407v5\" transform=\"translate(410,0)\" style=\"stroke: rgb(68, 68, 68); stroke-opacity: 1; stroke-width: 1px;\"/><path class=\"xtick ticks crisp\" d=\"M0,407v5\" transform=\"translate(470,0)\" style=\"stroke: rgb(68, 68, 68); stroke-opacity: 1; stroke-width: 1px;\"/><path class=\"xtick ticks crisp\" d=\"M0,407v5\" transform=\"translate(530,0)\" style=\"stroke: rgb(68, 68, 68); stroke-opacity: 1; stroke-width: 1px;\"/><path class=\"xtick ticks crisp\" d=\"M0,407v5\" transform=\"translate(590,0)\" style=\"stroke: rgb(68, 68, 68); stroke-opacity: 1; stroke-width: 1px;\"/><g class=\"xtick\"><text text-anchor=\"start\" x=\"0\" y=\"426.4\" transform=\"translate(110,0) rotate(30,0,420.4)\" style=\"font-family: 'Open Sans', verdana, arial, sans-serif; font-size: 12px; fill: rgb(36, 36, 36); fill-opacity: 1; white-space: pre; opacity: 1;\">кафе</text></g><g class=\"xtick\"><text text-anchor=\"start\" x=\"0\" y=\"426.4\" transform=\"translate(170,0) rotate(30,0,420.4)\" style=\"font-family: 'Open Sans', verdana, arial, sans-serif; font-size: 12px; fill: rgb(36, 36, 36); fill-opacity: 1; white-space: pre; opacity: 1;\">фаст-фуд</text></g><g class=\"xtick\"><text text-anchor=\"start\" x=\"0\" y=\"426.4\" transform=\"translate(230,0) rotate(30,0,420.4)\" style=\"font-family: 'Open Sans', verdana, arial, sans-serif; font-size: 12px; fill: rgb(36, 36, 36); fill-opacity: 1; white-space: pre; opacity: 1;\">ресторан</text></g><g class=\"xtick\"><text text-anchor=\"start\" x=\"0\" y=\"426.4\" transform=\"translate(290,0) rotate(30,0,420.4)\" style=\"font-family: 'Open Sans', verdana, arial, sans-serif; font-size: 12px; fill: rgb(36, 36, 36); fill-opacity: 1; white-space: pre; opacity: 1;\">кулинария</text></g><g class=\"xtick\"><text text-anchor=\"start\" x=\"0\" y=\"426.4\" transform=\"translate(350,0) rotate(30,0,420.4)\" style=\"font-family: 'Open Sans', verdana, arial, sans-serif; font-size: 12px; fill: rgb(36, 36, 36); fill-opacity: 1; white-space: pre; opacity: 1;\">закусочная</text></g><g class=\"xtick\"><text text-anchor=\"start\" x=\"0\" y=\"426.4\" transform=\"translate(410,0) rotate(30,0,420.4)\" style=\"font-family: 'Open Sans', verdana, arial, sans-serif; font-size: 12px; fill: rgb(36, 36, 36); fill-opacity: 1; white-space: pre; opacity: 1;\">кафетерий</text></g><g class=\"xtick\"><text text-anchor=\"start\" x=\"0\" y=\"426.4\" transform=\"translate(470,0) rotate(30,0,420.4)\" style=\"font-family: 'Open Sans', verdana, arial, sans-serif; font-size: 12px; fill: rgb(36, 36, 36); fill-opacity: 1; white-space: pre; opacity: 1;\">бар</text></g><g class=\"xtick\"><text text-anchor=\"start\" x=\"0\" y=\"426.4\" transform=\"translate(530,0) rotate(30,0,420.4)\" style=\"font-family: 'Open Sans', verdana, arial, sans-serif; font-size: 12px; fill: rgb(36, 36, 36); fill-opacity: 1; white-space: pre; opacity: 1;\">буфет</text></g><g class=\"xtick\"><text text-anchor=\"start\" x=\"0\" y=\"426.4\" transform=\"translate(590,0) rotate(30,0,420.4)\" style=\"font-family: 'Open Sans', verdana, arial, sans-serif; font-size: 12px; fill: rgb(36, 36, 36); fill-opacity: 1; white-space: pre; opacity: 1;\">столовая</text></g></g><g class=\"yaxislayer-above\"><path class=\"ytick ticks crisp\" d=\"M79,0h-5\" transform=\"translate(0,406)\" style=\"stroke: rgb(68, 68, 68); stroke-opacity: 1; stroke-width: 1px;\"/><path class=\"ytick ticks crisp\" d=\"M79,0h-5\" transform=\"translate(0,358.91)\" style=\"stroke: rgb(68, 68, 68); stroke-opacity: 1; stroke-width: 1px;\"/><path class=\"ytick ticks crisp\" d=\"M79,0h-5\" transform=\"translate(0,311.82)\" style=\"stroke: rgb(68, 68, 68); stroke-opacity: 1; stroke-width: 1px;\"/><path class=\"ytick ticks crisp\" d=\"M79,0h-5\" transform=\"translate(0,264.72)\" style=\"stroke: rgb(68, 68, 68); stroke-opacity: 1; stroke-width: 1px;\"/><path class=\"ytick ticks crisp\" d=\"M79,0h-5\" transform=\"translate(0,217.63)\" style=\"stroke: rgb(68, 68, 68); stroke-opacity: 1; stroke-width: 1px;\"/><path class=\"ytick ticks crisp\" d=\"M79,0h-5\" transform=\"translate(0,170.54000000000002)\" style=\"stroke: rgb(68, 68, 68); stroke-opacity: 1; stroke-width: 1px;\"/><path class=\"ytick ticks crisp\" d=\"M79,0h-5\" transform=\"translate(0,123.45)\" style=\"stroke: rgb(68, 68, 68); stroke-opacity: 1; stroke-width: 1px;\"/><path class=\"ytick ticks crisp\" d=\"M79,0h-5\" transform=\"translate(0,76.36)\" style=\"stroke: rgb(68, 68, 68); stroke-opacity: 1; stroke-width: 1px;\"/><g class=\"ytick\"><text text-anchor=\"end\" x=\"71.6\" y=\"4.199999999999999\" transform=\"translate(0,406)\" style=\"font-family: 'Open Sans', verdana, arial, sans-serif; font-size: 12px; fill: rgb(36, 36, 36); fill-opacity: 1; white-space: pre; opacity: 1;\">0</text></g><g class=\"ytick\"><text text-anchor=\"end\" x=\"71.6\" y=\"4.199999999999999\" style=\"font-family: 'Open Sans', verdana, arial, sans-serif; font-size: 12px; fill: rgb(36, 36, 36); fill-opacity: 1; white-space: pre; opacity: 1;\" transform=\"translate(0,358.91)\">200</text></g><g class=\"ytick\"><text text-anchor=\"end\" x=\"71.6\" y=\"4.199999999999999\" style=\"font-family: 'Open Sans', verdana, arial, sans-serif; font-size: 12px; fill: rgb(36, 36, 36); fill-opacity: 1; white-space: pre; opacity: 1;\" transform=\"translate(0,311.82)\">400</text></g><g class=\"ytick\"><text text-anchor=\"end\" x=\"71.6\" y=\"4.199999999999999\" style=\"font-family: 'Open Sans', verdana, arial, sans-serif; font-size: 12px; fill: rgb(36, 36, 36); fill-opacity: 1; white-space: pre; opacity: 1;\" transform=\"translate(0,264.72)\">600</text></g><g class=\"ytick\"><text text-anchor=\"end\" x=\"71.6\" y=\"4.199999999999999\" style=\"font-family: 'Open Sans', verdana, arial, sans-serif; font-size: 12px; fill: rgb(36, 36, 36); fill-opacity: 1; white-space: pre; opacity: 1;\" transform=\"translate(0,217.63)\">800</text></g><g class=\"ytick\"><text text-anchor=\"end\" x=\"71.6\" y=\"4.199999999999999\" style=\"font-family: 'Open Sans', verdana, arial, sans-serif; font-size: 12px; fill: rgb(36, 36, 36); fill-opacity: 1; white-space: pre; opacity: 1;\" transform=\"translate(0,170.54000000000002)\">1000</text></g><g class=\"ytick\"><text text-anchor=\"end\" x=\"71.6\" y=\"4.199999999999999\" style=\"font-family: 'Open Sans', verdana, arial, sans-serif; font-size: 12px; fill: rgb(36, 36, 36); fill-opacity: 1; white-space: pre; opacity: 1;\" transform=\"translate(0,123.45)\">1200</text></g><g class=\"ytick\"><text text-anchor=\"end\" x=\"71.6\" y=\"4.199999999999999\" style=\"font-family: 'Open Sans', verdana, arial, sans-serif; font-size: 12px; fill: rgb(36, 36, 36); fill-opacity: 1; white-space: pre; opacity: 1;\" transform=\"translate(0,76.36)\">1400</text></g></g><g class=\"overaxes-above\"/></g></g><g class=\"polarlayer\"/><g class=\"smithlayer\"/><g class=\"ternarylayer\"/><g class=\"geolayer\"/><g class=\"funnelarealayer\"/><g class=\"pielayer\"/><g class=\"iciclelayer\"/><g class=\"treemaplayer\"/><g class=\"sunburstlayer\"/><g class=\"glimages\"/><defs id=\"topdefs-55f510\"><g class=\"clips\"/></defs><g class=\"layer-above\"><g class=\"imagelayer\"/><g class=\"shapelayer\"/></g><g class=\"infolayer\"><g class=\"g-gtitle\"><text class=\"gtitle\" x=\"35\" y=\"30\" text-anchor=\"start\" dy=\"0em\" style=\"font-family: 'Open Sans', verdana, arial, sans-serif; font-size: 17px; fill: rgb(36, 36, 36); opacity: 1; font-weight: normal; white-space: pre;\">Соотношение видов сетевых объектов</text></g><g class=\"g-xtitle\"><text class=\"xtitle\" x=\"350\" y=\"488.35859375\" text-anchor=\"middle\" style=\"font-family: 'Open Sans', verdana, arial, sans-serif; font-size: 14px; fill: rgb(36, 36, 36); opacity: 1; font-weight: normal; white-space: pre;\">Тип объекта</text></g><g class=\"g-ytitle\"><text class=\"ytitle\" transform=\"rotate(-90,16.278125000000003,233)\" x=\"16.278125000000003\" y=\"233\" text-anchor=\"middle\" style=\"font-family: 'Open Sans', verdana, arial, sans-serif; font-size: 14px; fill: rgb(36, 36, 36); opacity: 1; font-weight: normal; white-space: pre;\">Количество</text></g></g></svg>"
      ]
     },
     "metadata": {},
     "output_type": "display_data"
    }
   ],
   "source": [
    "# строим график \n",
    "fig = px.bar(group_chain_object, \n",
    "             y='object_name', \n",
    "             x='object_type', \n",
    "             text='percent', \n",
    "             template = 'simple_white', \n",
    "             color='object_type')\n",
    "\n",
    "#fig.update_xaxes(tickangle=15)\n",
    "fig.update_layout(\n",
    "    title='Соотношение видов сетевых объектов',\n",
    "    xaxis_title=\"Тип объекта\",\n",
    "    yaxis_title=\"Количество\")\n",
    "\n",
    "fig.update_traces(textposition='outside',\n",
    "                showlegend = False,\n",
    "                 hovertemplate ='Вид: %{x} <br> Количество: %{y}')\n",
    "\n",
    "fig.show(renderer=\"svg\")"
   ]
  },
  {
   "cell_type": "markdown",
   "metadata": {},
   "source": [
    "Да, кафе самый популярный формат и для сетевых заведений. Здесь процент даже выше - 47%. Дальше приоритет немного отличается. На втором месте заведения быстрого обслуживания - 26,65%, на третьем рестораны - 18,33%.  А вот сетевых столовых практически нет- 0,1%.\n",
    "Теперь посмотрим соотношение стевых заведенийк рынку в целом. Соберем сводную таблицу и построим график."
   ]
  },
  {
   "cell_type": "code",
   "execution_count": 11,
   "metadata": {
    "scrolled": false
   },
   "outputs": [],
   "source": [
    "data_chain_split = rest_data.pivot_table(index='object_type', columns='chain', aggfunc='count')\\\n",
    "                                         [[('address', False), ('address', True)]].reset_index()\n",
    "data_chain_split.columns = ['object_type', 'chain_false', 'chain_true']"
   ]
  },
  {
   "cell_type": "code",
   "execution_count": 12,
   "metadata": {
    "scrolled": false
   },
   "outputs": [
    {
     "data": {
      "text/html": [
       "<div>\n",
       "<style scoped>\n",
       "    .dataframe tbody tr th:only-of-type {\n",
       "        vertical-align: middle;\n",
       "    }\n",
       "\n",
       "    .dataframe tbody tr th {\n",
       "        vertical-align: top;\n",
       "    }\n",
       "\n",
       "    .dataframe thead th {\n",
       "        text-align: right;\n",
       "    }\n",
       "</style>\n",
       "<table border=\"1\" class=\"dataframe\">\n",
       "  <thead>\n",
       "    <tr style=\"text-align: right;\">\n",
       "      <th></th>\n",
       "      <th>object_type</th>\n",
       "      <th>chain_false</th>\n",
       "      <th>chain_true</th>\n",
       "    </tr>\n",
       "  </thead>\n",
       "  <tbody>\n",
       "    <tr>\n",
       "      <th>3</th>\n",
       "      <td>кафе</td>\n",
       "      <td>4703</td>\n",
       "      <td>1396</td>\n",
       "    </tr>\n",
       "    <tr>\n",
       "      <th>8</th>\n",
       "      <td>фаст-фуд</td>\n",
       "      <td>1132</td>\n",
       "      <td>791</td>\n",
       "    </tr>\n",
       "    <tr>\n",
       "      <th>6</th>\n",
       "      <td>ресторан</td>\n",
       "      <td>1741</td>\n",
       "      <td>544</td>\n",
       "    </tr>\n",
       "    <tr>\n",
       "      <th>5</th>\n",
       "      <td>кулинария</td>\n",
       "      <td>195</td>\n",
       "      <td>78</td>\n",
       "    </tr>\n",
       "    <tr>\n",
       "      <th>2</th>\n",
       "      <td>закусочная</td>\n",
       "      <td>304</td>\n",
       "      <td>56</td>\n",
       "    </tr>\n",
       "    <tr>\n",
       "      <th>4</th>\n",
       "      <td>кафетерий</td>\n",
       "      <td>346</td>\n",
       "      <td>52</td>\n",
       "    </tr>\n",
       "    <tr>\n",
       "      <th>0</th>\n",
       "      <td>бар</td>\n",
       "      <td>819</td>\n",
       "      <td>37</td>\n",
       "    </tr>\n",
       "    <tr>\n",
       "      <th>1</th>\n",
       "      <td>буфет</td>\n",
       "      <td>574</td>\n",
       "      <td>11</td>\n",
       "    </tr>\n",
       "    <tr>\n",
       "      <th>7</th>\n",
       "      <td>столовая</td>\n",
       "      <td>2584</td>\n",
       "      <td>3</td>\n",
       "    </tr>\n",
       "  </tbody>\n",
       "</table>\n",
       "</div>"
      ],
      "text/plain": [
       "  object_type  chain_false  chain_true\n",
       "3        кафе         4703        1396\n",
       "8    фаст-фуд         1132         791\n",
       "6    ресторан         1741         544\n",
       "5   кулинария          195          78\n",
       "2  закусочная          304          56\n",
       "4   кафетерий          346          52\n",
       "0         бар          819          37\n",
       "1       буфет          574          11\n",
       "7    столовая         2584           3"
      ]
     },
     "execution_count": 12,
     "metadata": {},
     "output_type": "execute_result"
    },
    {
     "data": {
      "image/png": "[encoded data removed]",
      "text/plain": [
       "<Figure size 1080x576 with 1 Axes>"
      ]
     },
     "metadata": {
      "needs_background": "light"
     },
     "output_type": "display_data"
    }
   ],
   "source": [
    "data_chain_split = data_chain_split.sort_values(by='chain_true', ascending= False)\n",
    "data_chain_split.plot(kind='bar', x= 'object_type', stacked=True, figsize=(15, 8))\n",
    "plt.title(\"Соотношение сетевых заведений\",fontsize=20)\n",
    "plt.legend(labels=['Несетевые', 'Сетевые'])\n",
    "plt.xlabel(\"Тип заведения\",fontsize=10)\n",
    "plt.ylabel(\"Количество зведений\",fontsize=15)\n",
    "plt.xticks(rotation=0,fontsize=15)\n",
    "data_chain_split.sort_values(by='chain_true', ascending= False)"
   ]
  },
  {
   "cell_type": "markdown",
   "metadata": {},
   "source": [
    "Вывод: В целом по рынку сетевые заведения имеют самую большую долю среди кафе, фаст-фудах и ресторанах. Очень немного их среди баров, кулинарий кафетериев и закусочных. Буфетов и столовых настолько мало, что они даже не попали на график.\n",
    "\n",
    "### Особенности сетевых заведений\n",
    "\n",
    "Найдем что характерно для сетей: много заведений с небольшим числом посадочных мест в каждом или мало заведений с большим количеством посадочных мест?\n",
    "\n",
    "Определимся, для начала, какое количество посадочных мест считать большим, а какое маленьким. Применим  np.percentile и разделим количество посадочных мест по всем сетевым заведениям на категории одинакового размера."
   ]
  },
  {
   "cell_type": "code",
   "execution_count": 13,
   "metadata": {
    "scrolled": false
   },
   "outputs": [
    {
     "data": {
      "text/plain": [
       "[15.0, 40.0, 72.0]"
      ]
     },
     "execution_count": 13,
     "metadata": {},
     "output_type": "execute_result"
    }
   ],
   "source": [
    "[np.percentile(chain_object['number'], i) for i in [25, 50, 75]]"
   ]
  },
  {
   "cell_type": "markdown",
   "metadata": {},
   "source": [
    "Получили 4 равных группы по количеству посадочных мест: \n",
    "- маленькое заведение до 15 мест,\n",
    "- небольшое заведение от 16 до 40,\n",
    "- среднее заведение от 41 до 72,\n",
    "- большое заведение от 73 и больше\n",
    "\n",
    "Напишем функцию для категоризации заведений и дополним нашу таблицу сетвых заведений."
   ]
  },
  {
   "cell_type": "code",
   "execution_count": 14,
   "metadata": {
    "scrolled": false
   },
   "outputs": [],
   "source": [
    "# функция для деления по количеству посадочных мест\n",
    "def number_category(row):\n",
    "    if row['number'] <= 15:\n",
    "        return \"маленькое заведение\"\n",
    "    elif 16 < row['number'] <= 40:\n",
    "        return \"небольшое заведение\"\n",
    "    elif 41 < row['number'] <= 72:\n",
    "        return \"среднее заведение\"\n",
    "    else:\n",
    "        return \"большое заведение\""
   ]
  },
  {
   "cell_type": "code",
   "execution_count": 15,
   "metadata": {
    "scrolled": false
   },
   "outputs": [
    {
     "data": {
      "text/html": [
       "<div>\n",
       "<style scoped>\n",
       "    .dataframe tbody tr th:only-of-type {\n",
       "        vertical-align: middle;\n",
       "    }\n",
       "\n",
       "    .dataframe tbody tr th {\n",
       "        vertical-align: top;\n",
       "    }\n",
       "\n",
       "    .dataframe thead th {\n",
       "        text-align: right;\n",
       "    }\n",
       "</style>\n",
       "<table border=\"1\" class=\"dataframe\">\n",
       "  <thead>\n",
       "    <tr style=\"text-align: right;\">\n",
       "      <th></th>\n",
       "      <th>id</th>\n",
       "      <th>object_name</th>\n",
       "      <th>chain</th>\n",
       "      <th>object_type</th>\n",
       "      <th>address</th>\n",
       "      <th>number</th>\n",
       "      <th>number_category</th>\n",
       "    </tr>\n",
       "  </thead>\n",
       "  <tbody>\n",
       "    <tr>\n",
       "      <th>3</th>\n",
       "      <td>21894</td>\n",
       "      <td>пиццетория</td>\n",
       "      <td>True</td>\n",
       "      <td>кафе</td>\n",
       "      <td>город москва, абрамцевская улица, дом 1</td>\n",
       "      <td>40</td>\n",
       "      <td>небольшое заведение</td>\n",
       "    </tr>\n",
       "    <tr>\n",
       "      <th>6</th>\n",
       "      <td>148815</td>\n",
       "      <td>брусника</td>\n",
       "      <td>True</td>\n",
       "      <td>кафе</td>\n",
       "      <td>город москва, переулок сивцев вражек, дом 6/2</td>\n",
       "      <td>10</td>\n",
       "      <td>маленькое заведение</td>\n",
       "    </tr>\n",
       "    <tr>\n",
       "      <th>13</th>\n",
       "      <td>22579</td>\n",
       "      <td>алло пицца</td>\n",
       "      <td>True</td>\n",
       "      <td>кафе</td>\n",
       "      <td>город москва, улица авиаторов, дом 14</td>\n",
       "      <td>32</td>\n",
       "      <td>небольшое заведение</td>\n",
       "    </tr>\n",
       "    <tr>\n",
       "      <th>16</th>\n",
       "      <td>144107</td>\n",
       "      <td>суши wok</td>\n",
       "      <td>True</td>\n",
       "      <td>фаст-фуд</td>\n",
       "      <td>город москва, азовская улица, дом 3</td>\n",
       "      <td>7</td>\n",
       "      <td>маленькое заведение</td>\n",
       "    </tr>\n",
       "    <tr>\n",
       "      <th>18</th>\n",
       "      <td>58565</td>\n",
       "      <td>тануки</td>\n",
       "      <td>True</td>\n",
       "      <td>ресторан</td>\n",
       "      <td>город москва, большая академическая улица, дом 65</td>\n",
       "      <td>160</td>\n",
       "      <td>большое заведение</td>\n",
       "    </tr>\n",
       "  </tbody>\n",
       "</table>\n",
       "</div>"
      ],
      "text/plain": [
       "        id object_name  chain object_type  \\\n",
       "3    21894  пиццетория   True        кафе   \n",
       "6   148815    брусника   True        кафе   \n",
       "13   22579  алло пицца   True        кафе   \n",
       "16  144107    суши wok   True    фаст-фуд   \n",
       "18   58565      тануки   True    ресторан   \n",
       "\n",
       "                                              address  number  \\\n",
       "3             город москва, абрамцевская улица, дом 1      40   \n",
       "6       город москва, переулок сивцев вражек, дом 6/2      10   \n",
       "13              город москва, улица авиаторов, дом 14      32   \n",
       "16                город москва, азовская улица, дом 3       7   \n",
       "18  город москва, большая академическая улица, дом 65     160   \n",
       "\n",
       "        number_category  \n",
       "3   небольшое заведение  \n",
       "6   маленькое заведение  \n",
       "13  небольшое заведение  \n",
       "16  маленькое заведение  \n",
       "18    большое заведение  "
      ]
     },
     "execution_count": 15,
     "metadata": {},
     "output_type": "execute_result"
    }
   ],
   "source": [
    "# добавляем столбец в таблицу сетевых \n",
    "chain_object['number_category'] = chain_object.apply(number_category, axis=1) \n",
    "chain_object.head()"
   ]
  },
  {
   "cell_type": "markdown",
   "metadata": {},
   "source": [
    "А теперь определимся какую сеть считать крупной, а какую маленькой. Сгруппируем заведения по названиям сети и найдем границы разделения. 25 перцентиль примем за нижнюю границу и все сети с меньшим количеством заведений отнесем к категории маленьких, крупными признаем сети с количеством заведений выше 75 перцентиля."
   ]
  },
  {
   "cell_type": "code",
   "execution_count": 16,
   "metadata": {
    "scrolled": false
   },
   "outputs": [],
   "source": [
    "# группируем по названию сети\n",
    "group_name_chain_object = chain_object.groupby('object_name', as_index=False)\\\n",
    "                        .agg({'id':'count'})\n",
    "\n",
    "group_name_chain_object.columns = ['object_name', 'count_object']"
   ]
  },
  {
   "cell_type": "markdown",
   "metadata": {},
   "source": [
    "При первой попытке расчитать перцентили наткнулись на большое количество единичных названий сети,чего быть не должно. Возможно это сети, имеющие заведения не только в Москве, а возможно - это неявные дубликаты, возникшие при занесении данных в базу. Так как мы изучаем только Москву, то было принято решение исключить единичные заведения из подсчетов."
   ]
  },
  {
   "cell_type": "code",
   "execution_count": 17,
   "metadata": {
    "scrolled": false
   },
   "outputs": [
    {
     "data": {
      "text/plain": [
       "[2.0, 4.0, 7.0]"
      ]
     },
     "execution_count": 17,
     "metadata": {},
     "output_type": "execute_result"
    }
   ],
   "source": [
    "group_name_chain_object = group_name_chain_object.query(\"count_object> 1\") # убираем единичные заведения\n",
    "\n",
    "[np.percentile(group_name_chain_object['count_object'], i) for i in [25, 50, 75]]\n"
   ]
  },
  {
   "cell_type": "markdown",
   "metadata": {},
   "source": [
    "25 % сетей состоят из 2 заведений, часть из них также может являться неявными дубликатами, но адекватного способа почистить такие дубликаты нет. Оставим как есть и примем за нижнюю границу. Медианное значение 4 заведения в сети. Крупными сетями будем считать более 7 заведений."
   ]
  },
  {
   "cell_type": "code",
   "execution_count": 18,
   "metadata": {
    "scrolled": true
   },
   "outputs": [
    {
     "data": {
      "text/html": [
       "<div>\n",
       "<style scoped>\n",
       "    .dataframe tbody tr th:only-of-type {\n",
       "        vertical-align: middle;\n",
       "    }\n",
       "\n",
       "    .dataframe tbody tr th {\n",
       "        vertical-align: top;\n",
       "    }\n",
       "\n",
       "    .dataframe thead th {\n",
       "        text-align: right;\n",
       "    }\n",
       "</style>\n",
       "<table border=\"1\" class=\"dataframe\">\n",
       "  <thead>\n",
       "    <tr style=\"text-align: right;\">\n",
       "      <th></th>\n",
       "      <th>id</th>\n",
       "      <th>object_name</th>\n",
       "      <th>chain</th>\n",
       "      <th>object_type</th>\n",
       "      <th>address</th>\n",
       "      <th>number</th>\n",
       "      <th>number_category</th>\n",
       "      <th>chain_size</th>\n",
       "      <th>chain_size_category</th>\n",
       "    </tr>\n",
       "  </thead>\n",
       "  <tbody>\n",
       "    <tr>\n",
       "      <th>3</th>\n",
       "      <td>21894</td>\n",
       "      <td>пиццетория</td>\n",
       "      <td>True</td>\n",
       "      <td>кафе</td>\n",
       "      <td>город москва, абрамцевская улица, дом 1</td>\n",
       "      <td>40</td>\n",
       "      <td>небольшое заведение</td>\n",
       "      <td>2</td>\n",
       "      <td>маленькая сеть</td>\n",
       "    </tr>\n",
       "    <tr>\n",
       "      <th>6</th>\n",
       "      <td>148815</td>\n",
       "      <td>брусника</td>\n",
       "      <td>True</td>\n",
       "      <td>кафе</td>\n",
       "      <td>город москва, переулок сивцев вражек, дом 6/2</td>\n",
       "      <td>10</td>\n",
       "      <td>маленькое заведение</td>\n",
       "      <td>8</td>\n",
       "      <td>крупная сеть</td>\n",
       "    </tr>\n",
       "    <tr>\n",
       "      <th>13</th>\n",
       "      <td>22579</td>\n",
       "      <td>алло пицца</td>\n",
       "      <td>True</td>\n",
       "      <td>кафе</td>\n",
       "      <td>город москва, улица авиаторов, дом 14</td>\n",
       "      <td>32</td>\n",
       "      <td>небольшое заведение</td>\n",
       "      <td>15</td>\n",
       "      <td>крупная сеть</td>\n",
       "    </tr>\n",
       "    <tr>\n",
       "      <th>16</th>\n",
       "      <td>144107</td>\n",
       "      <td>суши wok</td>\n",
       "      <td>True</td>\n",
       "      <td>фаст-фуд</td>\n",
       "      <td>город москва, азовская улица, дом 3</td>\n",
       "      <td>7</td>\n",
       "      <td>маленькое заведение</td>\n",
       "      <td>72</td>\n",
       "      <td>крупная сеть</td>\n",
       "    </tr>\n",
       "    <tr>\n",
       "      <th>18</th>\n",
       "      <td>58565</td>\n",
       "      <td>тануки</td>\n",
       "      <td>True</td>\n",
       "      <td>ресторан</td>\n",
       "      <td>город москва, большая академическая улица, дом 65</td>\n",
       "      <td>160</td>\n",
       "      <td>большое заведение</td>\n",
       "      <td>32</td>\n",
       "      <td>крупная сеть</td>\n",
       "    </tr>\n",
       "  </tbody>\n",
       "</table>\n",
       "</div>"
      ],
      "text/plain": [
       "        id object_name  chain object_type  \\\n",
       "3    21894  пиццетория   True        кафе   \n",
       "6   148815    брусника   True        кафе   \n",
       "13   22579  алло пицца   True        кафе   \n",
       "16  144107    суши wok   True    фаст-фуд   \n",
       "18   58565      тануки   True    ресторан   \n",
       "\n",
       "                                              address  number  \\\n",
       "3             город москва, абрамцевская улица, дом 1      40   \n",
       "6       город москва, переулок сивцев вражек, дом 6/2      10   \n",
       "13              город москва, улица авиаторов, дом 14      32   \n",
       "16                город москва, азовская улица, дом 3       7   \n",
       "18  город москва, большая академическая улица, дом 65     160   \n",
       "\n",
       "        number_category  chain_size chain_size_category  \n",
       "3   небольшое заведение           2      маленькая сеть  \n",
       "6   маленькое заведение           8        крупная сеть  \n",
       "13  небольшое заведение          15        крупная сеть  \n",
       "16  маленькое заведение          72        крупная сеть  \n",
       "18    большое заведение          32        крупная сеть  "
      ]
     },
     "execution_count": 18,
     "metadata": {},
     "output_type": "execute_result"
    }
   ],
   "source": [
    "def chain_size_category(row):\n",
    "    if row['chain_size'] <= 2:\n",
    "        return 'маленькая сеть'\n",
    "    elif 2 < row['chain_size'] <= 7:\n",
    "        return 'средняя сеть'\n",
    "    return 'крупная сеть'\n",
    "# считаем количество заведений в сети и заносим в таблицу отдельной колонкой для каждого заведения\n",
    "chain_object['chain_size'] = chain_object[\"object_name\"].map(chain_object.groupby(\"object_name\")[\"id\"].count())\n",
    "# делим на группы по количеству заведений в сети\n",
    "chain_object['chain_size_category'] = chain_object.apply(chain_size_category, axis=1) \n",
    "chain_object.head()"
   ]
  },
  {
   "cell_type": "code",
   "execution_count": 19,
   "metadata": {
    "scrolled": false
   },
   "outputs": [
    {
     "data": {
      "text/html": [
       "<div>\n",
       "<style scoped>\n",
       "    .dataframe tbody tr th:only-of-type {\n",
       "        vertical-align: middle;\n",
       "    }\n",
       "\n",
       "    .dataframe tbody tr th {\n",
       "        vertical-align: top;\n",
       "    }\n",
       "\n",
       "    .dataframe thead th {\n",
       "        text-align: right;\n",
       "    }\n",
       "</style>\n",
       "<table border=\"1\" class=\"dataframe\">\n",
       "  <thead>\n",
       "    <tr style=\"text-align: right;\">\n",
       "      <th></th>\n",
       "      <th></th>\n",
       "      <th>id</th>\n",
       "    </tr>\n",
       "    <tr>\n",
       "      <th>chain_size_category</th>\n",
       "      <th>number_category</th>\n",
       "      <th></th>\n",
       "    </tr>\n",
       "  </thead>\n",
       "  <tbody>\n",
       "    <tr>\n",
       "      <th rowspan=\"4\" valign=\"top\">крупная сеть</th>\n",
       "      <th>маленькое заведение</th>\n",
       "      <td>587</td>\n",
       "    </tr>\n",
       "    <tr>\n",
       "      <th>небольшое заведение</th>\n",
       "      <td>522</td>\n",
       "    </tr>\n",
       "    <tr>\n",
       "      <th>большое заведение</th>\n",
       "      <td>471</td>\n",
       "    </tr>\n",
       "    <tr>\n",
       "      <th>среднее заведение</th>\n",
       "      <td>429</td>\n",
       "    </tr>\n",
       "    <tr>\n",
       "      <th>средняя сеть</th>\n",
       "      <th>большое заведение</th>\n",
       "      <td>167</td>\n",
       "    </tr>\n",
       "    <tr>\n",
       "      <th rowspan=\"2\" valign=\"top\">маленькая сеть</th>\n",
       "      <th>большое заведение</th>\n",
       "      <td>149</td>\n",
       "    </tr>\n",
       "    <tr>\n",
       "      <th>небольшое заведение</th>\n",
       "      <td>128</td>\n",
       "    </tr>\n",
       "    <tr>\n",
       "      <th>средняя сеть</th>\n",
       "      <th>небольшое заведение</th>\n",
       "      <td>110</td>\n",
       "    </tr>\n",
       "    <tr>\n",
       "      <th>маленькая сеть</th>\n",
       "      <th>маленькое заведение</th>\n",
       "      <td>107</td>\n",
       "    </tr>\n",
       "    <tr>\n",
       "      <th>средняя сеть</th>\n",
       "      <th>среднее заведение</th>\n",
       "      <td>103</td>\n",
       "    </tr>\n",
       "    <tr>\n",
       "      <th>маленькая сеть</th>\n",
       "      <th>среднее заведение</th>\n",
       "      <td>101</td>\n",
       "    </tr>\n",
       "    <tr>\n",
       "      <th>средняя сеть</th>\n",
       "      <th>маленькое заведение</th>\n",
       "      <td>94</td>\n",
       "    </tr>\n",
       "  </tbody>\n",
       "</table>\n",
       "</div>"
      ],
      "text/plain": [
       "                                          id\n",
       "chain_size_category number_category         \n",
       "крупная сеть        маленькое заведение  587\n",
       "                    небольшое заведение  522\n",
       "                    большое заведение    471\n",
       "                    среднее заведение    429\n",
       "средняя сеть        большое заведение    167\n",
       "маленькая сеть      большое заведение    149\n",
       "                    небольшое заведение  128\n",
       "средняя сеть        небольшое заведение  110\n",
       "маленькая сеть      маленькое заведение  107\n",
       "средняя сеть        среднее заведение    103\n",
       "маленькая сеть      среднее заведение    101\n",
       "средняя сеть        маленькое заведение   94"
      ]
     },
     "execution_count": 19,
     "metadata": {},
     "output_type": "execute_result"
    }
   ],
   "source": [
    "# группируем сети по количеству заведений и количеству посадочных мест, сортируем по количеству заведений\n",
    "chain_size = pd.pivot_table (chain_object, index = ['chain_size_category', 'number_category'], values = ['id'], aggfunc = 'count')\\\n",
    "  .sort_values(by = 'id', ascending= False)\n",
    "chain_size"
   ]
  },
  {
   "cell_type": "markdown",
   "metadata": {},
   "source": [
    "Чаще всего встречаются заведения крупных сетей, в которых более 7 точек, и с маленьким количеством посадочных мест - не более 15 мест. На втором месте крупные сети с небольшим количеством посадочных мест - от 16 до 40 мест.\n",
    "\n",
    "Реже всего сети среднего размера, в которых от 2 до 7 заведений с небольшим количеством посадочных мест - от 16 до 40 мест.\n",
    "\n",
    "### Среднее количество посадочных мест по виду заведений\n",
    "\n",
    "Найдем для каждого вида объекта общественного питания среднее количество посадочных мест."
   ]
  },
  {
   "cell_type": "code",
   "execution_count": 20,
   "metadata": {
    "scrolled": false
   },
   "outputs": [
    {
     "data": {
      "image/svg+xml": [
       "<svg class=\"main-svg\" xmlns=\"http://www.w3.org/2000/svg\" xmlns:xlink=\"http://www.w3.org/1999/xlink\" width=\"700\" height=\"500\" style=\"\" viewBox=\"0 0 700 500\"><rect x=\"0\" y=\"0\" width=\"700\" height=\"500\" style=\"fill: rgb(255, 255, 255); fill-opacity: 1;\"/><defs id=\"defs-1931f0\"><g class=\"clips\"><clipPath id=\"clip1931f0xyplot\" class=\"plotclip\"><rect width=\"540\" height=\"346\"/></clipPath><clipPath class=\"axesclip\" id=\"clip1931f0x\"><rect x=\"80\" y=\"0\" width=\"540\" height=\"500\"/></clipPath><clipPath class=\"axesclip\" id=\"clip1931f0y\"><rect x=\"0\" y=\"60\" width=\"700\" height=\"346\"/></clipPath><clipPath class=\"axesclip\" id=\"clip1931f0xy\"><rect x=\"80\" y=\"60\" width=\"540\" height=\"346\"/></clipPath></g><g class=\"gradients\"/><g class=\"patterns\"/></defs><g class=\"bglayer\"/><g class=\"layer-below\"><g class=\"imagelayer\"/><g class=\"shapelayer\"/></g><g class=\"cartesianlayer\"><g class=\"subplot xy\"><g class=\"layer-subplot\"><g class=\"shapelayer\"/><g class=\"imagelayer\"/></g><g class=\"gridlayer\"><g class=\"x\"/><g class=\"y\"/></g><g class=\"zerolinelayer\"/><path class=\"xlines-below\"/><path class=\"ylines-below\"/><g class=\"overlines-below\"/><g class=\"xaxislayer-below\"/><g class=\"yaxislayer-below\"/><g class=\"overaxes-below\"/><g class=\"plot\" transform=\"translate(80,60)\" clip-path=\"url(#clip1931f0xyplot)\"><g class=\"barlayer mlayer\"><g class=\"trace bars\" style=\"opacity: 1;\"><g class=\"points\"><g class=\"point\"><path d=\"M6,346V17.3H54V346Z\" style=\"vector-effect: non-scaling-stroke; opacity: 1; stroke-width: 0.5px; fill: rgb(31, 119, 180); fill-opacity: 1; stroke: rgb(255, 255, 255); stroke-opacity: 1;\"/><text class=\"bartext bartext-outside\" text-anchor=\"middle\" data-notex=\"1\" x=\"0\" y=\"0\" style=\"font-family: 'Open Sans', verdana, arial, sans-serif; font-size: 12px; fill: rgb(36, 36, 36); fill-opacity: 1; white-space: pre;\" transform=\"translate(29.8125,11.3)\">130</text></g></g></g><g class=\"trace bars\" style=\"opacity: 1;\"><g class=\"points\"><g class=\"point\"><path d=\"M66,346V100.74H114V346Z\" style=\"vector-effect: non-scaling-stroke; opacity: 1; stroke-width: 0.5px; fill: rgb(255, 127, 14); fill-opacity: 1; stroke: rgb(255, 255, 255); stroke-opacity: 1;\"/><text class=\"bartext bartext-outside\" text-anchor=\"middle\" data-notex=\"1\" x=\"0\" y=\"0\" style=\"font-family: 'Open Sans', verdana, arial, sans-serif; font-size: 12px; fill: rgb(36, 36, 36); fill-opacity: 1; white-space: pre;\" transform=\"translate(89.8203125,94.74)\">97</text></g></g></g><g class=\"trace bars\" style=\"opacity: 1;\"><g class=\"points\"><g class=\"point\"><path d=\"M126,346V217.05H174V346Z\" style=\"vector-effect: non-scaling-stroke; opacity: 1; stroke-width: 0.5px; fill: rgb(44, 160, 44); fill-opacity: 1; stroke: rgb(255, 255, 255); stroke-opacity: 1;\"/><text class=\"bartext bartext-outside\" text-anchor=\"middle\" data-notex=\"1\" x=\"0\" y=\"0\" style=\"font-family: 'Open Sans', verdana, arial, sans-serif; font-size: 12px; fill: rgb(36, 36, 36); fill-opacity: 1; white-space: pre;\" transform=\"translate(150,211.05)\">51</text></g></g></g><g class=\"trace bars\" style=\"opacity: 1;\"><g class=\"points\"><g class=\"point\"><path d=\"M186,346V237.28H234V346Z\" style=\"vector-effect: non-scaling-stroke; opacity: 1; stroke-width: 0.5px; fill: rgb(214, 39, 40); fill-opacity: 1; stroke: rgb(255, 255, 255); stroke-opacity: 1;\"/><text class=\"bartext bartext-outside\" text-anchor=\"middle\" data-notex=\"1\" x=\"0\" y=\"0\" style=\"font-family: 'Open Sans', verdana, arial, sans-serif; font-size: 12px; fill: rgb(36, 36, 36); fill-opacity: 1; white-space: pre;\" transform=\"translate(210,231.28)\">43</text></g></g></g><g class=\"trace bars\" style=\"opacity: 1;\"><g class=\"points\"><g class=\"point\"><path d=\"M246,346V244.86H294V346Z\" style=\"vector-effect: non-scaling-stroke; opacity: 1; stroke-width: 0.5px; fill: rgb(148, 103, 189); fill-opacity: 1; stroke: rgb(255, 255, 255); stroke-opacity: 1;\"/><text class=\"bartext bartext-outside\" text-anchor=\"middle\" data-notex=\"1\" x=\"0\" y=\"0\" style=\"font-family: 'Open Sans', verdana, arial, sans-serif; font-size: 12px; fill: rgb(36, 36, 36); fill-opacity: 1; white-space: pre;\" transform=\"translate(269.8203125,238.86)\">40</text></g></g></g><g class=\"trace bars\" style=\"opacity: 1;\"><g class=\"points\"><g class=\"point\"><path d=\"M306,346V292.9H354V346Z\" style=\"vector-effect: non-scaling-stroke; opacity: 1; stroke-width: 0.5px; fill: rgb(140, 86, 75); fill-opacity: 1; stroke: rgb(255, 255, 255); stroke-opacity: 1;\"/><text class=\"bartext bartext-outside\" text-anchor=\"middle\" data-notex=\"1\" x=\"0\" y=\"0\" style=\"font-family: 'Open Sans', verdana, arial, sans-serif; font-size: 12px; fill: rgb(36, 36, 36); fill-opacity: 1; white-space: pre;\" transform=\"translate(330,286.9)\">21</text></g></g></g><g class=\"trace bars\" style=\"opacity: 1;\"><g class=\"points\"><g class=\"point\"><path d=\"M366,346V323.24H414V346Z\" style=\"vector-effect: non-scaling-stroke; opacity: 1; stroke-width: 0.5px; fill: rgb(227, 119, 194); fill-opacity: 1; stroke: rgb(255, 255, 255); stroke-opacity: 1;\"/><text class=\"bartext bartext-outside\" text-anchor=\"middle\" data-notex=\"1\" x=\"0\" y=\"0\" style=\"font-family: 'Open Sans', verdana, arial, sans-serif; font-size: 12px; fill: rgb(36, 36, 36); fill-opacity: 1; white-space: pre;\" transform=\"translate(389.8203125,317.24)\">9</text></g></g></g><g class=\"trace bars\" style=\"opacity: 1;\"><g class=\"points\"><g class=\"point\"><path d=\"M426,346V325.77H474V346Z\" style=\"vector-effect: non-scaling-stroke; opacity: 1; stroke-width: 0.5px; fill: rgb(127, 127, 127); fill-opacity: 1; stroke: rgb(255, 255, 255); stroke-opacity: 1;\"/><text class=\"bartext bartext-outside\" text-anchor=\"middle\" data-notex=\"1\" x=\"0\" y=\"0\" style=\"font-family: 'Open Sans', verdana, arial, sans-serif; font-size: 12px; fill: rgb(36, 36, 36); fill-opacity: 1; white-space: pre;\" transform=\"translate(449.8203125,319.77)\">8</text></g></g></g><g class=\"trace bars\" style=\"opacity: 1;\"><g class=\"points\"><g class=\"point\"><path d=\"M486,346V330.83H534V346Z\" style=\"vector-effect: non-scaling-stroke; opacity: 1; stroke-width: 0.5px; fill: rgb(188, 189, 34); fill-opacity: 1; stroke: rgb(255, 255, 255); stroke-opacity: 1;\"/><text class=\"bartext bartext-outside\" text-anchor=\"middle\" data-notex=\"1\" x=\"0\" y=\"0\" style=\"font-family: 'Open Sans', verdana, arial, sans-serif; font-size: 12px; fill: rgb(36, 36, 36); fill-opacity: 1; white-space: pre;\" transform=\"translate(509.8203125,324.83)\">6</text></g></g></g></g></g><g class=\"overplot\"/><path class=\"xlines-above crisp\" d=\"M79,406.5H620\" style=\"fill: none; stroke-width: 1px; stroke: rgb(36, 36, 36); stroke-opacity: 1;\"/><path class=\"ylines-above crisp\" d=\"M79.5,60V406\" style=\"fill: none; stroke-width: 1px; stroke: rgb(36, 36, 36); stroke-opacity: 1;\"/><g class=\"overlines-above\"/><g class=\"xaxislayer-above\"><path class=\"xtick ticks crisp\" d=\"M0,407v5\" transform=\"translate(110,0)\" style=\"stroke: rgb(68, 68, 68); stroke-opacity: 1; stroke-width: 1px;\"/><path class=\"xtick ticks crisp\" d=\"M0,407v5\" transform=\"translate(170,0)\" style=\"stroke: rgb(68, 68, 68); stroke-opacity: 1; stroke-width: 1px;\"/><path class=\"xtick ticks crisp\" d=\"M0,407v5\" transform=\"translate(230,0)\" style=\"stroke: rgb(68, 68, 68); stroke-opacity: 1; stroke-width: 1px;\"/><path class=\"xtick ticks crisp\" d=\"M0,407v5\" transform=\"translate(290,0)\" style=\"stroke: rgb(68, 68, 68); stroke-opacity: 1; stroke-width: 1px;\"/><path class=\"xtick ticks crisp\" d=\"M0,407v5\" transform=\"translate(350,0)\" style=\"stroke: rgb(68, 68, 68); stroke-opacity: 1; stroke-width: 1px;\"/><path class=\"xtick ticks crisp\" d=\"M0,407v5\" transform=\"translate(410,0)\" style=\"stroke: rgb(68, 68, 68); stroke-opacity: 1; stroke-width: 1px;\"/><path class=\"xtick ticks crisp\" d=\"M0,407v5\" transform=\"translate(470,0)\" style=\"stroke: rgb(68, 68, 68); stroke-opacity: 1; stroke-width: 1px;\"/><path class=\"xtick ticks crisp\" d=\"M0,407v5\" transform=\"translate(530,0)\" style=\"stroke: rgb(68, 68, 68); stroke-opacity: 1; stroke-width: 1px;\"/><path class=\"xtick ticks crisp\" d=\"M0,407v5\" transform=\"translate(590,0)\" style=\"stroke: rgb(68, 68, 68); stroke-opacity: 1; stroke-width: 1px;\"/><g class=\"xtick\"><text text-anchor=\"start\" x=\"0\" y=\"426.4\" transform=\"translate(110,0) rotate(30,0,420.4)\" style=\"font-family: 'Open Sans', verdana, arial, sans-serif; font-size: 12px; fill: rgb(36, 36, 36); fill-opacity: 1; white-space: pre; opacity: 1;\">столовая</text></g><g class=\"xtick\"><text text-anchor=\"start\" x=\"0\" y=\"426.4\" transform=\"translate(170,0) rotate(30,0,420.4)\" style=\"font-family: 'Open Sans', verdana, arial, sans-serif; font-size: 12px; fill: rgb(36, 36, 36); fill-opacity: 1; white-space: pre; opacity: 1;\">ресторан</text></g><g class=\"xtick\"><text text-anchor=\"start\" x=\"0\" y=\"426.4\" transform=\"translate(230,0) rotate(30,0,420.4)\" style=\"font-family: 'Open Sans', verdana, arial, sans-serif; font-size: 12px; fill: rgb(36, 36, 36); fill-opacity: 1; white-space: pre; opacity: 1;\">буфет</text></g><g class=\"xtick\"><text text-anchor=\"start\" x=\"0\" y=\"426.4\" transform=\"translate(290,0) rotate(30,0,420.4)\" style=\"font-family: 'Open Sans', verdana, arial, sans-serif; font-size: 12px; fill: rgb(36, 36, 36); fill-opacity: 1; white-space: pre; opacity: 1;\">бар</text></g><g class=\"xtick\"><text text-anchor=\"start\" x=\"0\" y=\"426.4\" transform=\"translate(350,0) rotate(30,0,420.4)\" style=\"font-family: 'Open Sans', verdana, arial, sans-serif; font-size: 12px; fill: rgb(36, 36, 36); fill-opacity: 1; white-space: pre; opacity: 1;\">кафе</text></g><g class=\"xtick\"><text text-anchor=\"start\" x=\"0\" y=\"426.4\" transform=\"translate(410,0) rotate(30,0,420.4)\" style=\"font-family: 'Open Sans', verdana, arial, sans-serif; font-size: 12px; fill: rgb(36, 36, 36); fill-opacity: 1; white-space: pre; opacity: 1;\">фаст-фуд</text></g><g class=\"xtick\"><text text-anchor=\"start\" x=\"0\" y=\"426.4\" transform=\"translate(470,0) rotate(30,0,420.4)\" style=\"font-family: 'Open Sans', verdana, arial, sans-serif; font-size: 12px; fill: rgb(36, 36, 36); fill-opacity: 1; white-space: pre; opacity: 1;\">кафетерий</text></g><g class=\"xtick\"><text text-anchor=\"start\" x=\"0\" y=\"426.4\" transform=\"translate(530,0) rotate(30,0,420.4)\" style=\"font-family: 'Open Sans', verdana, arial, sans-serif; font-size: 12px; fill: rgb(36, 36, 36); fill-opacity: 1; white-space: pre; opacity: 1;\">закусочная</text></g><g class=\"xtick\"><text text-anchor=\"start\" x=\"0\" y=\"426.4\" transform=\"translate(590,0) rotate(30,0,420.4)\" style=\"font-family: 'Open Sans', verdana, arial, sans-serif; font-size: 12px; fill: rgb(36, 36, 36); fill-opacity: 1; white-space: pre; opacity: 1;\">кулинария</text></g></g><g class=\"yaxislayer-above\"><path class=\"ytick ticks crisp\" d=\"M79,0h-5\" transform=\"translate(0,406)\" style=\"stroke: rgb(68, 68, 68); stroke-opacity: 1; stroke-width: 1px;\"/><path class=\"ytick ticks crisp\" d=\"M79,0h-5\" transform=\"translate(0,355.43)\" style=\"stroke: rgb(68, 68, 68); stroke-opacity: 1; stroke-width: 1px;\"/><path class=\"ytick ticks crisp\" d=\"M79,0h-5\" transform=\"translate(0,304.86)\" style=\"stroke: rgb(68, 68, 68); stroke-opacity: 1; stroke-width: 1px;\"/><path class=\"ytick ticks crisp\" d=\"M79,0h-5\" transform=\"translate(0,254.29)\" style=\"stroke: rgb(68, 68, 68); stroke-opacity: 1; stroke-width: 1px;\"/><path class=\"ytick ticks crisp\" d=\"M79,0h-5\" transform=\"translate(0,203.72)\" style=\"stroke: rgb(68, 68, 68); stroke-opacity: 1; stroke-width: 1px;\"/><path class=\"ytick ticks crisp\" d=\"M79,0h-5\" transform=\"translate(0,153.15)\" style=\"stroke: rgb(68, 68, 68); stroke-opacity: 1; stroke-width: 1px;\"/><path class=\"ytick ticks crisp\" d=\"M79,0h-5\" transform=\"translate(0,102.58)\" style=\"stroke: rgb(68, 68, 68); stroke-opacity: 1; stroke-width: 1px;\"/><g class=\"ytick\"><text text-anchor=\"end\" x=\"71.6\" y=\"4.199999999999999\" transform=\"translate(0,406)\" style=\"font-family: 'Open Sans', verdana, arial, sans-serif; font-size: 12px; fill: rgb(36, 36, 36); fill-opacity: 1; white-space: pre; opacity: 1;\">0</text></g><g class=\"ytick\"><text text-anchor=\"end\" x=\"71.6\" y=\"4.199999999999999\" style=\"font-family: 'Open Sans', verdana, arial, sans-serif; font-size: 12px; fill: rgb(36, 36, 36); fill-opacity: 1; white-space: pre; opacity: 1;\" transform=\"translate(0,355.43)\">20</text></g><g class=\"ytick\"><text text-anchor=\"end\" x=\"71.6\" y=\"4.199999999999999\" style=\"font-family: 'Open Sans', verdana, arial, sans-serif; font-size: 12px; fill: rgb(36, 36, 36); fill-opacity: 1; white-space: pre; opacity: 1;\" transform=\"translate(0,304.86)\">40</text></g><g class=\"ytick\"><text text-anchor=\"end\" x=\"71.6\" y=\"4.199999999999999\" style=\"font-family: 'Open Sans', verdana, arial, sans-serif; font-size: 12px; fill: rgb(36, 36, 36); fill-opacity: 1; white-space: pre; opacity: 1;\" transform=\"translate(0,254.29)\">60</text></g><g class=\"ytick\"><text text-anchor=\"end\" x=\"71.6\" y=\"4.199999999999999\" style=\"font-family: 'Open Sans', verdana, arial, sans-serif; font-size: 12px; fill: rgb(36, 36, 36); fill-opacity: 1; white-space: pre; opacity: 1;\" transform=\"translate(0,203.72)\">80</text></g><g class=\"ytick\"><text text-anchor=\"end\" x=\"71.6\" y=\"4.199999999999999\" style=\"font-family: 'Open Sans', verdana, arial, sans-serif; font-size: 12px; fill: rgb(36, 36, 36); fill-opacity: 1; white-space: pre; opacity: 1;\" transform=\"translate(0,153.15)\">100</text></g><g class=\"ytick\"><text text-anchor=\"end\" x=\"71.6\" y=\"4.199999999999999\" style=\"font-family: 'Open Sans', verdana, arial, sans-serif; font-size: 12px; fill: rgb(36, 36, 36); fill-opacity: 1; white-space: pre; opacity: 1;\" transform=\"translate(0,102.58)\">120</text></g></g><g class=\"overaxes-above\"/></g></g><g class=\"polarlayer\"/><g class=\"smithlayer\"/><g class=\"ternarylayer\"/><g class=\"geolayer\"/><g class=\"funnelarealayer\"/><g class=\"pielayer\"/><g class=\"iciclelayer\"/><g class=\"treemaplayer\"/><g class=\"sunburstlayer\"/><g class=\"glimages\"/><defs id=\"topdefs-1931f0\"><g class=\"clips\"/></defs><g class=\"layer-above\"><g class=\"imagelayer\"/><g class=\"shapelayer\"/></g><g class=\"infolayer\"><g class=\"g-gtitle\"><text class=\"gtitle\" x=\"35\" y=\"30\" text-anchor=\"start\" dy=\"0em\" style=\"font-family: 'Open Sans', verdana, arial, sans-serif; font-size: 17px; fill: rgb(36, 36, 36); opacity: 1; font-weight: normal; white-space: pre;\">Среднее количество посадочных мест по виду заведений</text></g><g class=\"g-xtitle\"><text class=\"xtitle\" x=\"350\" y=\"488.35859375\" text-anchor=\"middle\" style=\"font-family: 'Open Sans', verdana, arial, sans-serif; font-size: 14px; fill: rgb(36, 36, 36); opacity: 1; font-weight: normal; white-space: pre;\">Тип объекта</text></g><g class=\"g-ytitle\"><text class=\"ytitle\" transform=\"rotate(-90,23.903125000000003,233)\" x=\"23.903125000000003\" y=\"233\" text-anchor=\"middle\" style=\"font-family: 'Open Sans', verdana, arial, sans-serif; font-size: 14px; fill: rgb(36, 36, 36); opacity: 1; font-weight: normal; white-space: pre;\">Количество посадочных мест</text></g></g></svg>"
      ]
     },
     "metadata": {},
     "output_type": "display_data"
    }
   ],
   "source": [
    "# группируем по типам заведений, считаем среднее для каждой\n",
    "mean_number = rest_data.groupby('object_type')\\\n",
    "                       .agg({'number':'mean'})\\\n",
    "                       .reset_index().round()\\\n",
    "                       .sort_values(by='number', ascending=False)\n",
    "# строим график\n",
    "fig = px.bar(mean_number, \n",
    "             y='number', \n",
    "             x='object_type', \n",
    "             text=mean_number['number'], \n",
    "             template = 'simple_white', \n",
    "             color='object_type')\n",
    "\n",
    "\n",
    "fig.update_layout(\n",
    "    title='Среднее количество посадочных мест по виду заведений',\n",
    "    xaxis_title=\"Тип объекта\",\n",
    "    yaxis_title=\"Количество посадочных мест\")\n",
    "\n",
    "fig.update_traces(textposition='outside',\n",
    "                showlegend = False,\n",
    "                 hovertemplate ='Вид: %{x} <br> Количество: %{y}')\n",
    "fig.show(renderer=\"svg\")"
   ]
  },
  {
   "cell_type": "markdown",
   "metadata": {},
   "source": [
    "В среднем самыми крупными заведениями являются столовые, они обычно расчитаны на 130 мест. Много и крупных ресторанов - 97 мест. В интересующем нас виде - кафе среднее количество мест - 40. \n",
    "\n",
    "### Локация заведений.  Топ-10 улиц по количеству объектов\n",
    "\n",
    "Чтобы опрделить самые популярные улицы выделим сначала в отдельный столбец информацию об улице из столбца address."
   ]
  },
  {
   "cell_type": "code",
   "execution_count": 21,
   "metadata": {
    "scrolled": false
   },
   "outputs": [
    {
     "data": {
      "text/html": [
       "<div>\n",
       "<style scoped>\n",
       "    .dataframe tbody tr th:only-of-type {\n",
       "        vertical-align: middle;\n",
       "    }\n",
       "\n",
       "    .dataframe tbody tr th {\n",
       "        vertical-align: top;\n",
       "    }\n",
       "\n",
       "    .dataframe thead th {\n",
       "        text-align: right;\n",
       "    }\n",
       "</style>\n",
       "<table border=\"1\" class=\"dataframe\">\n",
       "  <thead>\n",
       "    <tr style=\"text-align: right;\">\n",
       "      <th></th>\n",
       "      <th>id</th>\n",
       "      <th>object_name</th>\n",
       "      <th>chain</th>\n",
       "      <th>object_type</th>\n",
       "      <th>address</th>\n",
       "      <th>number</th>\n",
       "      <th>street</th>\n",
       "    </tr>\n",
       "  </thead>\n",
       "  <tbody>\n",
       "    <tr>\n",
       "      <th>0</th>\n",
       "      <td>151635</td>\n",
       "      <td>сметана</td>\n",
       "      <td>False</td>\n",
       "      <td>кафе</td>\n",
       "      <td>город москва, улица егора абакумова, дом 9</td>\n",
       "      <td>48</td>\n",
       "      <td>улица егора абакумова</td>\n",
       "    </tr>\n",
       "    <tr>\n",
       "      <th>1</th>\n",
       "      <td>77874</td>\n",
       "      <td>родник</td>\n",
       "      <td>False</td>\n",
       "      <td>кафе</td>\n",
       "      <td>город москва, улица талалихина, дом 2/1, корпус 1</td>\n",
       "      <td>35</td>\n",
       "      <td>улица талалихина</td>\n",
       "    </tr>\n",
       "    <tr>\n",
       "      <th>2</th>\n",
       "      <td>24309</td>\n",
       "      <td>кафе «академия»</td>\n",
       "      <td>False</td>\n",
       "      <td>кафе</td>\n",
       "      <td>город москва, абельмановская улица, дом 6</td>\n",
       "      <td>95</td>\n",
       "      <td>абельмановская улица</td>\n",
       "    </tr>\n",
       "    <tr>\n",
       "      <th>3</th>\n",
       "      <td>21894</td>\n",
       "      <td>пиццетория</td>\n",
       "      <td>True</td>\n",
       "      <td>кафе</td>\n",
       "      <td>город москва, абрамцевская улица, дом 1</td>\n",
       "      <td>40</td>\n",
       "      <td>абрамцевская улица</td>\n",
       "    </tr>\n",
       "    <tr>\n",
       "      <th>4</th>\n",
       "      <td>119365</td>\n",
       "      <td>кафе «вишневая метель»</td>\n",
       "      <td>False</td>\n",
       "      <td>кафе</td>\n",
       "      <td>город москва, абрамцевская улица, дом 9, корпус 1</td>\n",
       "      <td>50</td>\n",
       "      <td>абрамцевская улица</td>\n",
       "    </tr>\n",
       "  </tbody>\n",
       "</table>\n",
       "</div>"
      ],
      "text/plain": [
       "       id             object_name  chain object_type  \\\n",
       "0  151635                 сметана  False        кафе   \n",
       "1   77874                  родник  False        кафе   \n",
       "2   24309         кафе «академия»  False        кафе   \n",
       "3   21894              пиццетория   True        кафе   \n",
       "4  119365  кафе «вишневая метель»  False        кафе   \n",
       "\n",
       "                                             address  number  \\\n",
       "0         город москва, улица егора абакумова, дом 9      48   \n",
       "1  город москва, улица талалихина, дом 2/1, корпус 1      35   \n",
       "2          город москва, абельмановская улица, дом 6      95   \n",
       "3            город москва, абрамцевская улица, дом 1      40   \n",
       "4  город москва, абрамцевская улица, дом 9, корпус 1      50   \n",
       "\n",
       "                  street  \n",
       "0  улица егора абакумова  \n",
       "1       улица талалихина  \n",
       "2   абельмановская улица  \n",
       "3     абрамцевская улица  \n",
       "4     абрамцевская улица  "
      ]
     },
     "execution_count": 21,
     "metadata": {},
     "output_type": "execute_result"
    }
   ],
   "source": [
    "# делим адрес на элементы и записываем их в отдельный датафрейм\n",
    "splited_adress = rest_data[\"address\"].str.split(',', expand=True)\n",
    "rest_data['street'] = splited_adress[1] # берем значения из 2 колонки\n",
    "rest_data['street'] = rest_data['street'].str.strip()# чистим от пробелов\n",
    "rest_data.head()"
   ]
  },
  {
   "cell_type": "code",
   "execution_count": 22,
   "metadata": {
    "scrolled": false
   },
   "outputs": [
    {
     "data": {
      "text/html": [
       "<div>\n",
       "<style scoped>\n",
       "    .dataframe tbody tr th:only-of-type {\n",
       "        vertical-align: middle;\n",
       "    }\n",
       "\n",
       "    .dataframe tbody tr th {\n",
       "        vertical-align: top;\n",
       "    }\n",
       "\n",
       "    .dataframe thead th {\n",
       "        text-align: right;\n",
       "    }\n",
       "</style>\n",
       "<table border=\"1\" class=\"dataframe\">\n",
       "  <thead>\n",
       "    <tr style=\"text-align: right;\">\n",
       "      <th></th>\n",
       "      <th>street</th>\n",
       "      <th>id</th>\n",
       "    </tr>\n",
       "  </thead>\n",
       "  <tbody>\n",
       "    <tr>\n",
       "      <th>1</th>\n",
       "      <td>проспект мира</td>\n",
       "      <td>204</td>\n",
       "    </tr>\n",
       "    <tr>\n",
       "      <th>2</th>\n",
       "      <td>профсоюзная улица</td>\n",
       "      <td>182</td>\n",
       "    </tr>\n",
       "    <tr>\n",
       "      <th>3</th>\n",
       "      <td>ленинградский проспект</td>\n",
       "      <td>171</td>\n",
       "    </tr>\n",
       "    <tr>\n",
       "      <th>4</th>\n",
       "      <td>пресненская набережная</td>\n",
       "      <td>167</td>\n",
       "    </tr>\n",
       "    <tr>\n",
       "      <th>5</th>\n",
       "      <td>варшавское шоссе</td>\n",
       "      <td>161</td>\n",
       "    </tr>\n",
       "    <tr>\n",
       "      <th>6</th>\n",
       "      <td>ленинский проспект</td>\n",
       "      <td>147</td>\n",
       "    </tr>\n",
       "    <tr>\n",
       "      <th>8</th>\n",
       "      <td>проспект вернадского</td>\n",
       "      <td>132</td>\n",
       "    </tr>\n",
       "    <tr>\n",
       "      <th>9</th>\n",
       "      <td>кутузовский проспект</td>\n",
       "      <td>114</td>\n",
       "    </tr>\n",
       "    <tr>\n",
       "      <th>10</th>\n",
       "      <td>каширское шоссе</td>\n",
       "      <td>112</td>\n",
       "    </tr>\n",
       "    <tr>\n",
       "      <th>11</th>\n",
       "      <td>кировоградская улица</td>\n",
       "      <td>110</td>\n",
       "    </tr>\n",
       "  </tbody>\n",
       "</table>\n",
       "</div>"
      ],
      "text/plain": [
       "                    street   id\n",
       "1            проспект мира  204\n",
       "2        профсоюзная улица  182\n",
       "3   ленинградский проспект  171\n",
       "4   пресненская набережная  167\n",
       "5         варшавское шоссе  161\n",
       "6       ленинский проспект  147\n",
       "8     проспект вернадского  132\n",
       "9     кутузовский проспект  114\n",
       "10         каширское шоссе  112\n",
       "11    кировоградская улица  110"
      ]
     },
     "execution_count": 22,
     "metadata": {},
     "output_type": "execute_result"
    }
   ],
   "source": [
    "# группируем по названию улиц\n",
    "top_10_street = rest_data.groupby(['street'])\\\n",
    "                        .agg({'id':'count'})\\\n",
    "                        .sort_values(by='id',ascending=False)\\\n",
    "                        .head(12).reset_index()\n",
    "# убираем данные не относящиеся к Москве\n",
    "top_10_street = top_10_street.query('street != \"город зеленоград\" and street != \"поселение сосенское\"')\n",
    "top_10_street"
   ]
  },
  {
   "cell_type": "code",
   "execution_count": 23,
   "metadata": {
    "scrolled": false
   },
   "outputs": [
    {
     "data": {
      "image/svg+xml": [
       "<svg class=\"main-svg\" xmlns=\"http://www.w3.org/2000/svg\" xmlns:xlink=\"http://www.w3.org/1999/xlink\" width=\"700\" height=\"500\" style=\"\" viewBox=\"0 0 700 500\"><rect x=\"0\" y=\"0\" width=\"700\" height=\"500\" style=\"fill: rgb(255, 255, 255); fill-opacity: 1;\"/><defs id=\"defs-838f87\"><g class=\"clips\"><clipPath id=\"clip838f87xyplot\" class=\"plotclip\"><rect width=\"508\" height=\"302\"/></clipPath><clipPath class=\"axesclip\" id=\"clip838f87x\"><rect x=\"80\" y=\"0\" width=\"508\" height=\"500\"/></clipPath><clipPath class=\"axesclip\" id=\"clip838f87y\"><rect x=\"0\" y=\"60\" width=\"700\" height=\"302\"/></clipPath><clipPath class=\"axesclip\" id=\"clip838f87xy\"><rect x=\"80\" y=\"60\" width=\"508\" height=\"302\"/></clipPath></g><g class=\"gradients\"/><g class=\"patterns\"/></defs><g class=\"bglayer\"/><g class=\"layer-below\"><g class=\"imagelayer\"/><g class=\"shapelayer\"/></g><g class=\"cartesianlayer\"><g class=\"subplot xy\"><g class=\"layer-subplot\"><g class=\"shapelayer\"/><g class=\"imagelayer\"/></g><g class=\"gridlayer\"><g class=\"x\"/><g class=\"y\"/></g><g class=\"zerolinelayer\"/><path class=\"xlines-below\"/><path class=\"ylines-below\"/><g class=\"overlines-below\"/><g class=\"xaxislayer-below\"/><g class=\"yaxislayer-below\"/><g class=\"overaxes-below\"/><g class=\"plot\" transform=\"translate(80,60)\" clip-path=\"url(#clip838f87xyplot)\"><g class=\"barlayer mlayer\"><g class=\"trace bars\" style=\"opacity: 1;\"><g class=\"points\"><g class=\"point\"><path d=\"M5.08,302V15.1H45.72V302Z\" style=\"vector-effect: non-scaling-stroke; opacity: 1; stroke-width: 0.5px; fill: rgb(31, 119, 180); fill-opacity: 1; stroke: rgb(255, 255, 255); stroke-opacity: 1;\"/><text class=\"bartext bartext-outside\" text-anchor=\"middle\" data-notex=\"1\" x=\"0\" y=\"0\" style=\"font-family: 'Open Sans', verdana, arial, sans-serif; font-size: 12px; fill: rgb(36, 36, 36); fill-opacity: 1; white-space: pre;\" transform=\"translate(25.2125,9.1)\">204</text></g></g></g><g class=\"trace bars\" style=\"opacity: 1;\"><g class=\"points\"><g class=\"point\"><path d=\"M55.88,302V46.04H96.52V302Z\" style=\"vector-effect: non-scaling-stroke; opacity: 1; stroke-width: 0.5px; fill: rgb(255, 127, 14); fill-opacity: 1; stroke: rgb(255, 255, 255); stroke-opacity: 1;\"/><text class=\"bartext bartext-outside\" text-anchor=\"middle\" data-notex=\"1\" x=\"0\" y=\"0\" style=\"font-family: 'Open Sans', verdana, arial, sans-serif; font-size: 12px; fill: rgb(36, 36, 36); fill-opacity: 1; white-space: pre;\" transform=\"translate(76.0125,40.04)\">182</text></g></g></g><g class=\"trace bars\" style=\"opacity: 1;\"><g class=\"points\"><g class=\"point\"><path d=\"M106.68,302V61.51H147.32V302Z\" style=\"vector-effect: non-scaling-stroke; opacity: 1; stroke-width: 0.5px; fill: rgb(44, 160, 44); fill-opacity: 1; stroke: rgb(255, 255, 255); stroke-opacity: 1;\"/><text class=\"bartext bartext-outside\" text-anchor=\"middle\" data-notex=\"1\" x=\"0\" y=\"0\" style=\"font-family: 'Open Sans', verdana, arial, sans-serif; font-size: 12px; fill: rgb(36, 36, 36); fill-opacity: 1; white-space: pre;\" transform=\"translate(127,55.51)\">171</text></g></g></g><g class=\"trace bars\" style=\"opacity: 1;\"><g class=\"points\"><g class=\"point\"><path d=\"M157.48,302V67.14H198.12V302Z\" style=\"vector-effect: non-scaling-stroke; opacity: 1; stroke-width: 0.5px; fill: rgb(214, 39, 40); fill-opacity: 1; stroke: rgb(255, 255, 255); stroke-opacity: 1;\"/><text class=\"bartext bartext-outside\" text-anchor=\"middle\" data-notex=\"1\" x=\"0\" y=\"0\" style=\"font-family: 'Open Sans', verdana, arial, sans-serif; font-size: 12px; fill: rgb(36, 36, 36); fill-opacity: 1; white-space: pre;\" transform=\"translate(177.6125,61.14)\">167</text></g></g></g><g class=\"trace bars\" style=\"opacity: 1;\"><g class=\"points\"><g class=\"point\"><path d=\"M208.28,302V75.57H248.92V302Z\" style=\"vector-effect: non-scaling-stroke; opacity: 1; stroke-width: 0.5px; fill: rgb(148, 103, 189); fill-opacity: 1; stroke: rgb(255, 255, 255); stroke-opacity: 1;\"/><text class=\"bartext bartext-outside\" text-anchor=\"middle\" data-notex=\"1\" x=\"0\" y=\"0\" style=\"font-family: 'Open Sans', verdana, arial, sans-serif; font-size: 12px; fill: rgb(36, 36, 36); fill-opacity: 1; white-space: pre;\" transform=\"translate(228.6,69.57)\">161</text></g></g></g><g class=\"trace bars\" style=\"opacity: 1;\"><g class=\"points\"><g class=\"point\"><path d=\"M259.08,302V95.26H299.72V302Z\" style=\"vector-effect: non-scaling-stroke; opacity: 1; stroke-width: 0.5px; fill: rgb(140, 86, 75); fill-opacity: 1; stroke: rgb(255, 255, 255); stroke-opacity: 1;\"/><text class=\"bartext bartext-outside\" text-anchor=\"middle\" data-notex=\"1\" x=\"0\" y=\"0\" style=\"font-family: 'Open Sans', verdana, arial, sans-serif; font-size: 12px; fill: rgb(36, 36, 36); fill-opacity: 1; white-space: pre;\" transform=\"translate(279.2125,89.26)\">147</text></g></g></g><g class=\"trace bars\" style=\"opacity: 1;\"><g class=\"points\"><g class=\"point\"><path d=\"M309.88,302V116.36H350.52V302Z\" style=\"vector-effect: non-scaling-stroke; opacity: 1; stroke-width: 0.5px; fill: rgb(227, 119, 194); fill-opacity: 1; stroke: rgb(255, 255, 255); stroke-opacity: 1;\"/><text class=\"bartext bartext-outside\" text-anchor=\"middle\" data-notex=\"1\" x=\"0\" y=\"0\" style=\"font-family: 'Open Sans', verdana, arial, sans-serif; font-size: 12px; fill: rgb(36, 36, 36); fill-opacity: 1; white-space: pre;\" transform=\"translate(330.0125,110.36)\">132</text></g></g></g><g class=\"trace bars\" style=\"opacity: 1;\"><g class=\"points\"><g class=\"point\"><path d=\"M360.68,302V141.67H401.32V302Z\" style=\"vector-effect: non-scaling-stroke; opacity: 1; stroke-width: 0.5px; fill: rgb(127, 127, 127); fill-opacity: 1; stroke: rgb(255, 255, 255); stroke-opacity: 1;\"/><text class=\"bartext bartext-outside\" text-anchor=\"middle\" data-notex=\"1\" x=\"0\" y=\"0\" style=\"font-family: 'Open Sans', verdana, arial, sans-serif; font-size: 12px; fill: rgb(36, 36, 36); fill-opacity: 1; white-space: pre;\" transform=\"translate(380.8125,135.67)\">114</text></g></g></g><g class=\"trace bars\" style=\"opacity: 1;\"><g class=\"points\"><g class=\"point\"><path d=\"M411.48,302V144.49H452.12V302Z\" style=\"vector-effect: non-scaling-stroke; opacity: 1; stroke-width: 0.5px; fill: rgb(188, 189, 34); fill-opacity: 1; stroke: rgb(255, 255, 255); stroke-opacity: 1;\"/><text class=\"bartext bartext-outside\" text-anchor=\"middle\" data-notex=\"1\" x=\"0\" y=\"0\" style=\"font-family: 'Open Sans', verdana, arial, sans-serif; font-size: 12px; fill: rgb(36, 36, 36); fill-opacity: 1; white-space: pre;\" transform=\"translate(431.6125,138.49)\">112</text></g></g></g><g class=\"trace bars\" style=\"opacity: 1;\"><g class=\"points\"><g class=\"point\"><path d=\"M462.28,302V147.3H502.92V302Z\" style=\"vector-effect: non-scaling-stroke; opacity: 1; stroke-width: 0.5px; fill: rgb(23, 190, 207); fill-opacity: 1; stroke: rgb(255, 255, 255); stroke-opacity: 1;\"/><text class=\"bartext bartext-outside\" text-anchor=\"middle\" data-notex=\"1\" x=\"0\" y=\"0\" style=\"font-family: 'Open Sans', verdana, arial, sans-serif; font-size: 12px; fill: rgb(36, 36, 36); fill-opacity: 1; white-space: pre;\" transform=\"translate(482.4125,141.3)\">110</text></g></g></g></g></g><g class=\"overplot\"/><path class=\"xlines-above crisp\" d=\"M79,362.5H588\" style=\"fill: none; stroke-width: 1px; stroke: rgb(36, 36, 36); stroke-opacity: 1;\"/><path class=\"ylines-above crisp\" d=\"M79.5,60V362\" style=\"fill: none; stroke-width: 1px; stroke: rgb(36, 36, 36); stroke-opacity: 1;\"/><g class=\"overlines-above\"/><g class=\"xaxislayer-above\"><path class=\"xtick ticks crisp\" d=\"M0,363v5\" transform=\"translate(105.4,0)\" style=\"stroke: rgb(68, 68, 68); stroke-opacity: 1; stroke-width: 1px;\"/><path class=\"xtick ticks crisp\" d=\"M0,363v5\" transform=\"translate(156.2,0)\" style=\"stroke: rgb(68, 68, 68); stroke-opacity: 1; stroke-width: 1px;\"/><path class=\"xtick ticks crisp\" d=\"M0,363v5\" transform=\"translate(207,0)\" style=\"stroke: rgb(68, 68, 68); stroke-opacity: 1; stroke-width: 1px;\"/><path class=\"xtick ticks crisp\" d=\"M0,363v5\" transform=\"translate(257.8,0)\" style=\"stroke: rgb(68, 68, 68); stroke-opacity: 1; stroke-width: 1px;\"/><path class=\"xtick ticks crisp\" d=\"M0,363v5\" transform=\"translate(308.6,0)\" style=\"stroke: rgb(68, 68, 68); stroke-opacity: 1; stroke-width: 1px;\"/><path class=\"xtick ticks crisp\" d=\"M0,363v5\" transform=\"translate(359.4,0)\" style=\"stroke: rgb(68, 68, 68); stroke-opacity: 1; stroke-width: 1px;\"/><path class=\"xtick ticks crisp\" d=\"M0,363v5\" transform=\"translate(410.2,0)\" style=\"stroke: rgb(68, 68, 68); stroke-opacity: 1; stroke-width: 1px;\"/><path class=\"xtick ticks crisp\" d=\"M0,363v5\" transform=\"translate(461,0)\" style=\"stroke: rgb(68, 68, 68); stroke-opacity: 1; stroke-width: 1px;\"/><path class=\"xtick ticks crisp\" d=\"M0,363v5\" transform=\"translate(511.8,0)\" style=\"stroke: rgb(68, 68, 68); stroke-opacity: 1; stroke-width: 1px;\"/><path class=\"xtick ticks crisp\" d=\"M0,363v5\" transform=\"translate(562.6,0)\" style=\"stroke: rgb(68, 68, 68); stroke-opacity: 1; stroke-width: 1px;\"/><g class=\"xtick\"><text text-anchor=\"start\" x=\"0\" y=\"382.4\" transform=\"translate(105.4,0) rotate(30,0,376.4)\" style=\"font-family: 'Open Sans', verdana, arial, sans-serif; font-size: 12px; fill: rgb(36, 36, 36); fill-opacity: 1; white-space: pre; opacity: 1;\">проспект мира</text></g><g class=\"xtick\"><text text-anchor=\"start\" x=\"0\" y=\"382.4\" transform=\"translate(156.2,0) rotate(30,0,376.4)\" style=\"font-family: 'Open Sans', verdana, arial, sans-serif; font-size: 12px; fill: rgb(36, 36, 36); fill-opacity: 1; white-space: pre; opacity: 1;\">профсоюзная улица</text></g><g class=\"xtick\"><text text-anchor=\"start\" x=\"0\" y=\"382.4\" transform=\"translate(207,0) rotate(30,0,376.4)\" style=\"font-family: 'Open Sans', verdana, arial, sans-serif; font-size: 12px; fill: rgb(36, 36, 36); fill-opacity: 1; white-space: pre; opacity: 1;\">ленинградский проспект</text></g><g class=\"xtick\"><text text-anchor=\"start\" x=\"0\" y=\"382.4\" transform=\"translate(257.8,0) rotate(30,0,376.4)\" style=\"font-family: 'Open Sans', verdana, arial, sans-serif; font-size: 12px; fill: rgb(36, 36, 36); fill-opacity: 1; white-space: pre; opacity: 1;\">пресненская набережная</text></g><g class=\"xtick\"><text text-anchor=\"start\" x=\"0\" y=\"382.4\" transform=\"translate(308.6,0) rotate(30,0,376.4)\" style=\"font-family: 'Open Sans', verdana, arial, sans-serif; font-size: 12px; fill: rgb(36, 36, 36); fill-opacity: 1; white-space: pre; opacity: 1;\">варшавское шоссе</text></g><g class=\"xtick\"><text text-anchor=\"start\" x=\"0\" y=\"382.4\" transform=\"translate(359.4,0) rotate(30,0,376.4)\" style=\"font-family: 'Open Sans', verdana, arial, sans-serif; font-size: 12px; fill: rgb(36, 36, 36); fill-opacity: 1; white-space: pre; opacity: 1;\">ленинский проспект</text></g><g class=\"xtick\"><text text-anchor=\"start\" x=\"0\" y=\"382.4\" transform=\"translate(410.2,0) rotate(30,0,376.4)\" style=\"font-family: 'Open Sans', verdana, arial, sans-serif; font-size: 12px; fill: rgb(36, 36, 36); fill-opacity: 1; white-space: pre; opacity: 1;\">проспект вернадского</text></g><g class=\"xtick\"><text text-anchor=\"start\" x=\"0\" y=\"382.4\" transform=\"translate(461,0) rotate(30,0,376.4)\" style=\"font-family: 'Open Sans', verdana, arial, sans-serif; font-size: 12px; fill: rgb(36, 36, 36); fill-opacity: 1; white-space: pre; opacity: 1;\">кутузовский проспект</text></g><g class=\"xtick\"><text text-anchor=\"start\" x=\"0\" y=\"382.4\" transform=\"translate(511.8,0) rotate(30,0,376.4)\" style=\"font-family: 'Open Sans', verdana, arial, sans-serif; font-size: 12px; fill: rgb(36, 36, 36); fill-opacity: 1; white-space: pre; opacity: 1;\">каширское шоссе</text></g><g class=\"xtick\"><text text-anchor=\"start\" x=\"0\" y=\"382.4\" transform=\"translate(562.6,0) rotate(30,0,376.4)\" style=\"font-family: 'Open Sans', verdana, arial, sans-serif; font-size: 12px; fill: rgb(36, 36, 36); fill-opacity: 1; white-space: pre; opacity: 1;\">кировоградская улица</text></g></g><g class=\"yaxislayer-above\"><path class=\"ytick ticks crisp\" d=\"M79,0h-5\" transform=\"translate(0,362)\" style=\"stroke: rgb(68, 68, 68); stroke-opacity: 1; stroke-width: 1px;\"/><path class=\"ytick ticks crisp\" d=\"M79,0h-5\" transform=\"translate(0,291.68)\" style=\"stroke: rgb(68, 68, 68); stroke-opacity: 1; stroke-width: 1px;\"/><path class=\"ytick ticks crisp\" d=\"M79,0h-5\" transform=\"translate(0,221.36)\" style=\"stroke: rgb(68, 68, 68); stroke-opacity: 1; stroke-width: 1px;\"/><path class=\"ytick ticks crisp\" d=\"M79,0h-5\" transform=\"translate(0,151.04000000000002)\" style=\"stroke: rgb(68, 68, 68); stroke-opacity: 1; stroke-width: 1px;\"/><path class=\"ytick ticks crisp\" d=\"M79,0h-5\" transform=\"translate(0,80.73)\" style=\"stroke: rgb(68, 68, 68); stroke-opacity: 1; stroke-width: 1px;\"/><g class=\"ytick\"><text text-anchor=\"end\" x=\"71.6\" y=\"4.199999999999999\" transform=\"translate(0,362)\" style=\"font-family: 'Open Sans', verdana, arial, sans-serif; font-size: 12px; fill: rgb(36, 36, 36); fill-opacity: 1; white-space: pre; opacity: 1;\">0</text></g><g class=\"ytick\"><text text-anchor=\"end\" x=\"71.6\" y=\"4.199999999999999\" style=\"font-family: 'Open Sans', verdana, arial, sans-serif; font-size: 12px; fill: rgb(36, 36, 36); fill-opacity: 1; white-space: pre; opacity: 1;\" transform=\"translate(0,291.68)\">50</text></g><g class=\"ytick\"><text text-anchor=\"end\" x=\"71.6\" y=\"4.199999999999999\" style=\"font-family: 'Open Sans', verdana, arial, sans-serif; font-size: 12px; fill: rgb(36, 36, 36); fill-opacity: 1; white-space: pre; opacity: 1;\" transform=\"translate(0,221.36)\">100</text></g><g class=\"ytick\"><text text-anchor=\"end\" x=\"71.6\" y=\"4.199999999999999\" style=\"font-family: 'Open Sans', verdana, arial, sans-serif; font-size: 12px; fill: rgb(36, 36, 36); fill-opacity: 1; white-space: pre; opacity: 1;\" transform=\"translate(0,151.04000000000002)\">150</text></g><g class=\"ytick\"><text text-anchor=\"end\" x=\"71.6\" y=\"4.199999999999999\" style=\"font-family: 'Open Sans', verdana, arial, sans-serif; font-size: 12px; fill: rgb(36, 36, 36); fill-opacity: 1; white-space: pre; opacity: 1;\" transform=\"translate(0,80.73)\">200</text></g></g><g class=\"overaxes-above\"/></g></g><g class=\"polarlayer\"/><g class=\"smithlayer\"/><g class=\"ternarylayer\"/><g class=\"geolayer\"/><g class=\"funnelarealayer\"/><g class=\"pielayer\"/><g class=\"iciclelayer\"/><g class=\"treemaplayer\"/><g class=\"sunburstlayer\"/><g class=\"glimages\"/><defs id=\"topdefs-838f87\"><g class=\"clips\"/></defs><g class=\"layer-above\"><g class=\"imagelayer\"/><g class=\"shapelayer\"/></g><g class=\"infolayer\"><g class=\"g-gtitle\"><text class=\"gtitle\" x=\"35\" y=\"30\" text-anchor=\"start\" dy=\"0em\" style=\"font-family: 'Open Sans', verdana, arial, sans-serif; font-size: 17px; fill: rgb(36, 36, 36); opacity: 1; font-weight: normal; white-space: pre;\">Топ- 10 улиц с самым большим количеством заведений общепита</text></g><g class=\"g-xtitle\"><text class=\"xtitle\" x=\"334\" y=\"488.44453125\" text-anchor=\"middle\" style=\"font-family: 'Open Sans', verdana, arial, sans-serif; font-size: 14px; fill: rgb(36, 36, 36); opacity: 1; font-weight: normal; white-space: pre;\">Улица</text></g><g class=\"g-ytitle\"><text class=\"ytitle\" transform=\"rotate(-90,23.903125000000003,211)\" x=\"23.903125000000003\" y=\"211\" text-anchor=\"middle\" style=\"font-family: 'Open Sans', verdana, arial, sans-serif; font-size: 14px; fill: rgb(36, 36, 36); opacity: 1; font-weight: normal; white-space: pre;\">Количество объектов</text></g></g></svg>"
      ]
     },
     "metadata": {},
     "output_type": "display_data"
    }
   ],
   "source": [
    "fig = go.Figure(data=[go.Bar(x = top_10_street['street'],\n",
    "                             y = top_10_street['id'],\n",
    "                             text= top_10_street['id'],\n",
    "                             textposition = 'outside',                            \n",
    "                             )])\n",
    "\n",
    "fig = px.bar(top_10_street, \n",
    "             y='id', \n",
    "             x='street', \n",
    "             text='id', \n",
    "             template = 'simple_white', \n",
    "             color='street')\n",
    "\n",
    "fig.update_layout(title_text='Топ- 10 улиц с самым большим количеством заведений общепита',\n",
    "                  xaxis_title=\"Улица\",\n",
    "                  yaxis_title=\"Количество объектов\")\n",
    "fig.update_traces(textposition='outside',\n",
    "                showlegend = False,\n",
    "                 hovertemplate ='%{x} <br> Заведений: %{y}')\n",
    "fig.show(renderer=\"svg\")"
   ]
  },
  {
   "cell_type": "markdown",
   "metadata": {},
   "source": [
    "Больше всего заведений на проспекте Мира - 204 объекта. В конце десятки  Кировская улица -110 объектов."
   ]
  },
  {
   "cell_type": "markdown",
   "metadata": {},
   "source": [
    "Воспользуемся открытыми данными Мосгаза и определим к каким районам относятся улицы. Файл более не доступен на сайте, используем его локально."
   ]
  },
  {
   "cell_type": "code",
   "execution_count": 24,
   "metadata": {
    "scrolled": false
   },
   "outputs": [
    {
     "data": {
      "text/html": [
       "<div>\n",
       "<style scoped>\n",
       "    .dataframe tbody tr th:only-of-type {\n",
       "        vertical-align: middle;\n",
       "    }\n",
       "\n",
       "    .dataframe tbody tr th {\n",
       "        vertical-align: top;\n",
       "    }\n",
       "\n",
       "    .dataframe thead th {\n",
       "        text-align: right;\n",
       "    }\n",
       "</style>\n",
       "<table border=\"1\" class=\"dataframe\">\n",
       "  <thead>\n",
       "    <tr style=\"text-align: right;\">\n",
       "      <th></th>\n",
       "      <th>streetname</th>\n",
       "      <th>areaid</th>\n",
       "      <th>okrug</th>\n",
       "      <th>area</th>\n",
       "    </tr>\n",
       "  </thead>\n",
       "  <tbody>\n",
       "    <tr>\n",
       "      <th>0</th>\n",
       "      <td>Выставочный переулок</td>\n",
       "      <td>17</td>\n",
       "      <td>ЦАО</td>\n",
       "      <td>Пресненский район</td>\n",
       "    </tr>\n",
       "    <tr>\n",
       "      <th>1</th>\n",
       "      <td>улица Гашека</td>\n",
       "      <td>17</td>\n",
       "      <td>ЦАО</td>\n",
       "      <td>Пресненский район</td>\n",
       "    </tr>\n",
       "    <tr>\n",
       "      <th>2</th>\n",
       "      <td>Большая Никитская улица</td>\n",
       "      <td>17</td>\n",
       "      <td>ЦАО</td>\n",
       "      <td>Пресненский район</td>\n",
       "    </tr>\n",
       "    <tr>\n",
       "      <th>3</th>\n",
       "      <td>Глубокий переулок</td>\n",
       "      <td>17</td>\n",
       "      <td>ЦАО</td>\n",
       "      <td>Пресненский район</td>\n",
       "    </tr>\n",
       "    <tr>\n",
       "      <th>4</th>\n",
       "      <td>Большой Гнездниковский переулок</td>\n",
       "      <td>17</td>\n",
       "      <td>ЦАО</td>\n",
       "      <td>Пресненский район</td>\n",
       "    </tr>\n",
       "  </tbody>\n",
       "</table>\n",
       "</div>"
      ],
      "text/plain": [
       "                        streetname  areaid okrug               area\n",
       "0             Выставочный переулок      17   ЦАО  Пресненский район\n",
       "1                     улица Гашека      17   ЦАО  Пресненский район\n",
       "2          Большая Никитская улица      17   ЦАО  Пресненский район\n",
       "3                Глубокий переулок      17   ЦАО  Пресненский район\n",
       "4  Большой Гнездниковский переулок      17   ЦАО  Пресненский район"
      ]
     },
     "execution_count": 24,
     "metadata": {},
     "output_type": "execute_result"
    }
   ],
   "source": [
    "spreedsheet_id = '1v5UcgmhhlypRT1FkONvy_YCM3e0VmLFp-ooKwZmS_k4'\n",
    "file_name = 'https://docs.google.com/spreadsheets/d/{}/export?format=csv'.format(spreedsheet_id)\n",
    "r = requests.get(file_name)\n",
    "streets_from_mosgaz = pd.read_csv(BytesIO(r.content))\n",
    "streets_from_mosgaz.head()"
   ]
  },
  {
   "cell_type": "code",
   "execution_count": 25,
   "metadata": {
    "scrolled": false
   },
   "outputs": [
    {
     "data": {
      "text/html": [
       "<div>\n",
       "<style scoped>\n",
       "    .dataframe tbody tr th:only-of-type {\n",
       "        vertical-align: middle;\n",
       "    }\n",
       "\n",
       "    .dataframe tbody tr th {\n",
       "        vertical-align: top;\n",
       "    }\n",
       "\n",
       "    .dataframe thead th {\n",
       "        text-align: right;\n",
       "    }\n",
       "</style>\n",
       "<table border=\"1\" class=\"dataframe\">\n",
       "  <thead>\n",
       "    <tr style=\"text-align: right;\">\n",
       "      <th></th>\n",
       "      <th>street</th>\n",
       "      <th>areaid</th>\n",
       "      <th>okrug</th>\n",
       "      <th>area</th>\n",
       "    </tr>\n",
       "  </thead>\n",
       "  <tbody>\n",
       "    <tr>\n",
       "      <th>0</th>\n",
       "      <td>выставочный переулок</td>\n",
       "      <td>17</td>\n",
       "      <td>ЦАО</td>\n",
       "      <td>Пресненский район</td>\n",
       "    </tr>\n",
       "    <tr>\n",
       "      <th>1</th>\n",
       "      <td>улица гашека</td>\n",
       "      <td>17</td>\n",
       "      <td>ЦАО</td>\n",
       "      <td>Пресненский район</td>\n",
       "    </tr>\n",
       "    <tr>\n",
       "      <th>2</th>\n",
       "      <td>большая никитская улица</td>\n",
       "      <td>17</td>\n",
       "      <td>ЦАО</td>\n",
       "      <td>Пресненский район</td>\n",
       "    </tr>\n",
       "    <tr>\n",
       "      <th>3</th>\n",
       "      <td>глубокий переулок</td>\n",
       "      <td>17</td>\n",
       "      <td>ЦАО</td>\n",
       "      <td>Пресненский район</td>\n",
       "    </tr>\n",
       "    <tr>\n",
       "      <th>4</th>\n",
       "      <td>большой гнездниковский переулок</td>\n",
       "      <td>17</td>\n",
       "      <td>ЦАО</td>\n",
       "      <td>Пресненский район</td>\n",
       "    </tr>\n",
       "  </tbody>\n",
       "</table>\n",
       "</div>"
      ],
      "text/plain": [
       "                            street  areaid okrug               area\n",
       "0             выставочный переулок      17   ЦАО  Пресненский район\n",
       "1                     улица гашека      17   ЦАО  Пресненский район\n",
       "2          большая никитская улица      17   ЦАО  Пресненский район\n",
       "3                глубокий переулок      17   ЦАО  Пресненский район\n",
       "4  большой гнездниковский переулок      17   ЦАО  Пресненский район"
      ]
     },
     "execution_count": 25,
     "metadata": {},
     "output_type": "execute_result"
    }
   ],
   "source": [
    "# понижаем регистр в названиях улиц  и переименовываем столбец\n",
    "streets_from_mosgaz['streetname'] = streets_from_mosgaz['streetname'].str.lower()\n",
    "streets_from_mosgaz['streetname'] = streets_from_mosgaz['streetname'].str. lstrip()\n",
    "streets_from_mosgaz = streets_from_mosgaz.rename(columns={'streetname':'street'})\n",
    "streets_from_mosgaz.head()"
   ]
  },
  {
   "cell_type": "code",
   "execution_count": 26,
   "metadata": {
    "scrolled": false
   },
   "outputs": [
    {
     "data": {
      "text/html": [
       "<div>\n",
       "<style scoped>\n",
       "    .dataframe tbody tr th:only-of-type {\n",
       "        vertical-align: middle;\n",
       "    }\n",
       "\n",
       "    .dataframe tbody tr th {\n",
       "        vertical-align: top;\n",
       "    }\n",
       "\n",
       "    .dataframe thead th {\n",
       "        text-align: right;\n",
       "    }\n",
       "</style>\n",
       "<table border=\"1\" class=\"dataframe\">\n",
       "  <thead>\n",
       "    <tr style=\"text-align: right;\">\n",
       "      <th></th>\n",
       "      <th></th>\n",
       "      <th></th>\n",
       "      <th>id</th>\n",
       "    </tr>\n",
       "    <tr>\n",
       "      <th>street</th>\n",
       "      <th>area</th>\n",
       "      <th>okrug</th>\n",
       "      <th></th>\n",
       "    </tr>\n",
       "  </thead>\n",
       "  <tbody>\n",
       "    <tr>\n",
       "      <th rowspan=\"7\" valign=\"top\">проспект мира</th>\n",
       "      <th>Район Ростокино</th>\n",
       "      <th>СВАО</th>\n",
       "      <td>204</td>\n",
       "    </tr>\n",
       "    <tr>\n",
       "      <th>Ярославский Район</th>\n",
       "      <th>СВАО</th>\n",
       "      <td>204</td>\n",
       "    </tr>\n",
       "    <tr>\n",
       "      <th>Алексеевский район</th>\n",
       "      <th>СВАО</th>\n",
       "      <td>204</td>\n",
       "    </tr>\n",
       "    <tr>\n",
       "      <th>Мещанский район</th>\n",
       "      <th>ЦАО</th>\n",
       "      <td>204</td>\n",
       "    </tr>\n",
       "    <tr>\n",
       "      <th>Останкинский район</th>\n",
       "      <th>СВАО</th>\n",
       "      <td>204</td>\n",
       "    </tr>\n",
       "    <tr>\n",
       "      <th>Район Марьина роща</th>\n",
       "      <th>СВАО</th>\n",
       "      <td>204</td>\n",
       "    </tr>\n",
       "    <tr>\n",
       "      <th>Район Свиблово</th>\n",
       "      <th>СВАО</th>\n",
       "      <td>204</td>\n",
       "    </tr>\n",
       "    <tr>\n",
       "      <th rowspan=\"6\" valign=\"top\">профсоюзная улица</th>\n",
       "      <th>Район Ясенево</th>\n",
       "      <th>ЮЗАО</th>\n",
       "      <td>182</td>\n",
       "    </tr>\n",
       "    <tr>\n",
       "      <th>Академический район</th>\n",
       "      <th>ЮЗАО</th>\n",
       "      <td>182</td>\n",
       "    </tr>\n",
       "    <tr>\n",
       "      <th>Обручевский район</th>\n",
       "      <th>ЮЗАО</th>\n",
       "      <td>182</td>\n",
       "    </tr>\n",
       "    <tr>\n",
       "      <th>Район Коньково</th>\n",
       "      <th>ЮЗАО</th>\n",
       "      <td>182</td>\n",
       "    </tr>\n",
       "    <tr>\n",
       "      <th>Район Теплый Стан</th>\n",
       "      <th>ЮЗАО</th>\n",
       "      <td>182</td>\n",
       "    </tr>\n",
       "    <tr>\n",
       "      <th>Район Черемушки</th>\n",
       "      <th>ЮЗАО</th>\n",
       "      <td>182</td>\n",
       "    </tr>\n",
       "    <tr>\n",
       "      <th rowspan=\"4\" valign=\"top\">ленинградский проспект</th>\n",
       "      <th>Район Сокол</th>\n",
       "      <th>САО</th>\n",
       "      <td>171</td>\n",
       "    </tr>\n",
       "    <tr>\n",
       "      <th>Хорошевский район</th>\n",
       "      <th>САО</th>\n",
       "      <td>171</td>\n",
       "    </tr>\n",
       "    <tr>\n",
       "      <th>Район Аэропорт</th>\n",
       "      <th>САО</th>\n",
       "      <td>171</td>\n",
       "    </tr>\n",
       "    <tr>\n",
       "      <th>Район Беговой</th>\n",
       "      <th>САО</th>\n",
       "      <td>171</td>\n",
       "    </tr>\n",
       "    <tr>\n",
       "      <th>пресненская набережная</th>\n",
       "      <th>Пресненский район</th>\n",
       "      <th>ЦАО</th>\n",
       "      <td>167</td>\n",
       "    </tr>\n",
       "    <tr>\n",
       "      <th rowspan=\"8\" valign=\"top\">варшавское шоссе</th>\n",
       "      <th>Нагорный район</th>\n",
       "      <th>ЮАО</th>\n",
       "      <td>161</td>\n",
       "    </tr>\n",
       "    <tr>\n",
       "      <th>Донской район</th>\n",
       "      <th>ЮАО</th>\n",
       "      <td>161</td>\n",
       "    </tr>\n",
       "    <tr>\n",
       "      <th>Район Нагатино-Садовники</th>\n",
       "      <th>ЮАО</th>\n",
       "      <td>161</td>\n",
       "    </tr>\n",
       "    <tr>\n",
       "      <th>Район Северное Бутово</th>\n",
       "      <th>ЮЗАО</th>\n",
       "      <td>161</td>\n",
       "    </tr>\n",
       "    <tr>\n",
       "      <th>Район Чертаново Северное</th>\n",
       "      <th>ЮАО</th>\n",
       "      <td>161</td>\n",
       "    </tr>\n",
       "    <tr>\n",
       "      <th>Район Чертаново Центральное</th>\n",
       "      <th>ЮАО</th>\n",
       "      <td>161</td>\n",
       "    </tr>\n",
       "    <tr>\n",
       "      <th>Район Чертаново Южное</th>\n",
       "      <th>ЮАО</th>\n",
       "      <td>161</td>\n",
       "    </tr>\n",
       "    <tr>\n",
       "      <th>Район Южное Бутово</th>\n",
       "      <th>ЮЗАО</th>\n",
       "      <td>161</td>\n",
       "    </tr>\n",
       "    <tr>\n",
       "      <th rowspan=\"8\" valign=\"top\">ленинский проспект</th>\n",
       "      <th>Район Гагаринский</th>\n",
       "      <th>ЮЗАО</th>\n",
       "      <td>147</td>\n",
       "    </tr>\n",
       "    <tr>\n",
       "      <th>Донской район</th>\n",
       "      <th>ЮАО</th>\n",
       "      <td>147</td>\n",
       "    </tr>\n",
       "    <tr>\n",
       "      <th>Ломоносовский район</th>\n",
       "      <th>ЮЗАО</th>\n",
       "      <td>147</td>\n",
       "    </tr>\n",
       "    <tr>\n",
       "      <th>Обручевский район</th>\n",
       "      <th>ЮЗАО</th>\n",
       "      <td>147</td>\n",
       "    </tr>\n",
       "    <tr>\n",
       "      <th>Район Проспект Вернадского</th>\n",
       "      <th>ЗАО</th>\n",
       "      <td>147</td>\n",
       "    </tr>\n",
       "    <tr>\n",
       "      <th>Район Теплый Стан</th>\n",
       "      <th>ЮЗАО</th>\n",
       "      <td>147</td>\n",
       "    </tr>\n",
       "    <tr>\n",
       "      <th>Район Тропарево-Никулино</th>\n",
       "      <th>ЗАО</th>\n",
       "      <td>147</td>\n",
       "    </tr>\n",
       "    <tr>\n",
       "      <th>Район Якиманка</th>\n",
       "      <th>ЦАО</th>\n",
       "      <td>147</td>\n",
       "    </tr>\n",
       "    <tr>\n",
       "      <th rowspan=\"5\" valign=\"top\">проспект вернадского</th>\n",
       "      <th>Район Тропарево-Никулино</th>\n",
       "      <th>ЗАО</th>\n",
       "      <td>132</td>\n",
       "    </tr>\n",
       "    <tr>\n",
       "      <th>Район Раменки</th>\n",
       "      <th>ЗАО</th>\n",
       "      <td>132</td>\n",
       "    </tr>\n",
       "    <tr>\n",
       "      <th>Район Проспект Вернадского</th>\n",
       "      <th>ЗАО</th>\n",
       "      <td>132</td>\n",
       "    </tr>\n",
       "    <tr>\n",
       "      <th>Район Гагаринский</th>\n",
       "      <th>ЮЗАО</th>\n",
       "      <td>132</td>\n",
       "    </tr>\n",
       "    <tr>\n",
       "      <th>Ломоносовский район</th>\n",
       "      <th>ЮЗАО</th>\n",
       "      <td>132</td>\n",
       "    </tr>\n",
       "    <tr>\n",
       "      <th rowspan=\"2\" valign=\"top\">кутузовский проспект</th>\n",
       "      <th>Район Дорогомилово</th>\n",
       "      <th>ЗАО</th>\n",
       "      <td>114</td>\n",
       "    </tr>\n",
       "    <tr>\n",
       "      <th>Район Фили-Давыдково</th>\n",
       "      <th>ЗАО</th>\n",
       "      <td>114</td>\n",
       "    </tr>\n",
       "    <tr>\n",
       "      <th rowspan=\"4\" valign=\"top\">каширское шоссе</th>\n",
       "      <th>Район Орехово-Борисово Южное</th>\n",
       "      <th>ЮАО</th>\n",
       "      <td>112</td>\n",
       "    </tr>\n",
       "    <tr>\n",
       "      <th>Район Орехово-Борисово Северное</th>\n",
       "      <th>ЮАО</th>\n",
       "      <td>112</td>\n",
       "    </tr>\n",
       "    <tr>\n",
       "      <th>Район Нагатино-Садовники</th>\n",
       "      <th>ЮАО</th>\n",
       "      <td>112</td>\n",
       "    </tr>\n",
       "    <tr>\n",
       "      <th>Район Москворечье-Сабурово</th>\n",
       "      <th>ЮАО</th>\n",
       "      <td>112</td>\n",
       "    </tr>\n",
       "    <tr>\n",
       "      <th rowspan=\"3\" valign=\"top\">кировоградская улица</th>\n",
       "      <th>Район Чертаново Центральное</th>\n",
       "      <th>ЮАО</th>\n",
       "      <td>110</td>\n",
       "    </tr>\n",
       "    <tr>\n",
       "      <th>Район Чертаново Северное</th>\n",
       "      <th>ЮАО</th>\n",
       "      <td>110</td>\n",
       "    </tr>\n",
       "    <tr>\n",
       "      <th>Район Чертаново Южное</th>\n",
       "      <th>ЮАО</th>\n",
       "      <td>110</td>\n",
       "    </tr>\n",
       "  </tbody>\n",
       "</table>\n",
       "</div>"
      ],
      "text/plain": [
       "                                                               id\n",
       "street                 area                            okrug     \n",
       "проспект мира          Район Ростокино                 СВАО   204\n",
       "                       Ярославский Район               СВАО   204\n",
       "                       Алексеевский район              СВАО   204\n",
       "                       Мещанский район                 ЦАО    204\n",
       "                       Останкинский район              СВАО   204\n",
       "                       Район Марьина роща              СВАО   204\n",
       "                       Район Свиблово                  СВАО   204\n",
       "профсоюзная улица      Район Ясенево                   ЮЗАО   182\n",
       "                       Академический район             ЮЗАО   182\n",
       "                       Обручевский район               ЮЗАО   182\n",
       "                       Район Коньково                  ЮЗАО   182\n",
       "                       Район Теплый Стан               ЮЗАО   182\n",
       "                       Район Черемушки                 ЮЗАО   182\n",
       "ленинградский проспект Район Сокол                     САО    171\n",
       "                       Хорошевский район               САО    171\n",
       "                       Район Аэропорт                  САО    171\n",
       "                       Район Беговой                   САО    171\n",
       "пресненская набережная Пресненский район               ЦАО    167\n",
       "варшавское шоссе       Нагорный район                  ЮАО    161\n",
       "                       Донской район                   ЮАО    161\n",
       "                       Район Нагатино-Садовники        ЮАО    161\n",
       "                       Район Северное Бутово           ЮЗАО   161\n",
       "                       Район Чертаново Северное        ЮАО    161\n",
       "                       Район Чертаново Центральное     ЮАО    161\n",
       "                       Район Чертаново Южное           ЮАО    161\n",
       "                       Район Южное Бутово              ЮЗАО   161\n",
       "ленинский проспект     Район Гагаринский               ЮЗАО   147\n",
       "                       Донской район                   ЮАО    147\n",
       "                       Ломоносовский район             ЮЗАО   147\n",
       "                       Обручевский район               ЮЗАО   147\n",
       "                       Район Проспект Вернадского      ЗАО    147\n",
       "                       Район Теплый Стан               ЮЗАО   147\n",
       "                       Район Тропарево-Никулино        ЗАО    147\n",
       "                       Район Якиманка                  ЦАО    147\n",
       "проспект вернадского   Район Тропарево-Никулино        ЗАО    132\n",
       "                       Район Раменки                   ЗАО    132\n",
       "                       Район Проспект Вернадского      ЗАО    132\n",
       "                       Район Гагаринский               ЮЗАО   132\n",
       "                       Ломоносовский район             ЮЗАО   132\n",
       "кутузовский проспект   Район Дорогомилово              ЗАО    114\n",
       "                       Район Фили-Давыдково            ЗАО    114\n",
       "каширское шоссе        Район Орехово-Борисово Южное    ЮАО    112\n",
       "                       Район Орехово-Борисово Северное ЮАО    112\n",
       "                       Район Нагатино-Садовники        ЮАО    112\n",
       "                       Район Москворечье-Сабурово      ЮАО    112\n",
       "кировоградская улица   Район Чертаново Центральное     ЮАО    110\n",
       "                       Район Чертаново Северное        ЮАО    110\n",
       "                       Район Чертаново Южное           ЮАО    110"
      ]
     },
     "execution_count": 26,
     "metadata": {},
     "output_type": "execute_result"
    }
   ],
   "source": [
    "# собираем топ-10 и данные Мосгаза в одну таблицу и сортируем по количеству заведений\n",
    "street_area = top_10_street.merge(streets_from_mosgaz, on='street', how='left').drop(columns='areaid')\n",
    "street_area.pivot_table(index=['street', 'area','okrug']).sort_values(by='id', ascending=False)"
   ]
  },
  {
   "cell_type": "markdown",
   "metadata": {},
   "source": [
    "Улицы могут пролегать через несколько районов и даже округов. К примеру, проспект Мира- лидер по количеству объектов общепита, проходит через районы Ростокино, Ярославский, Алексеевский, Останкинский, Марьина роща и Свиблово. Все они находятся в Северо-Восточном административном округе, проспект Мира захватывает и Мещанский район Центрального административного округа. В любом случае это самые крупные улицы города. При выборе места для открытия нового заведения нужно ориентироваться на них.\n",
    "\n",
    "Теперь пересортируем таблицу и посмотрим сколько улиц из топ-10 может быть в одном районе."
   ]
  },
  {
   "cell_type": "code",
   "execution_count": 27,
   "metadata": {
    "scrolled": false
   },
   "outputs": [],
   "source": [
    "# группируем по названию улиц\n",
    "winner = street_area.groupby(['area'])\\\n",
    "                        .agg({'street':'count'})\\\n",
    "                        .sort_values(by='street',ascending=False)\\\n",
    "                        .reset_index()"
   ]
  },
  {
   "cell_type": "markdown",
   "metadata": {},
   "source": [
    "Через один район пролегает не более 2 улиц из топ-10. Вот список районов:\n",
    "- Район Чертаново Центральное\n",
    "- Донской район\n",
    "- Ломоносовский район\n",
    "- Район Проспект Вернадского\n",
    "- Обручевский район\t\n",
    "- Район Теплый Стан\t\n",
    "- Район Нагатино-Садовники\t\n",
    "- Район Чертаново Южное\t\n",
    "- Район Тропарево-Никулино\t\n",
    "- Район Гагаринский\t\n",
    "- Район Чертаново Северное\t"
   ]
  },
  {
   "cell_type": "code",
   "execution_count": 28,
   "metadata": {
    "scrolled": false
   },
   "outputs": [
    {
     "data": {
      "image/svg+xml": [
       "<svg class=\"main-svg\" xmlns=\"http://www.w3.org/2000/svg\" xmlns:xlink=\"http://www.w3.org/1999/xlink\" width=\"700\" height=\"500\" style=\"\" viewBox=\"0 0 700 500\"><rect x=\"0\" y=\"0\" width=\"700\" height=\"500\" style=\"fill: rgb(255, 255, 255); fill-opacity: 1;\"/><defs id=\"defs-7ea2e5\"><g class=\"clips\"><clipPath id=\"clip7ea2e5xyplot\" class=\"plotclip\"><rect width=\"365\" height=\"360\"/></clipPath><clipPath class=\"axesclip\" id=\"clip7ea2e5x\"><rect x=\"237\" y=\"0\" width=\"365\" height=\"500\"/></clipPath><clipPath class=\"axesclip\" id=\"clip7ea2e5y\"><rect x=\"0\" y=\"60\" width=\"700\" height=\"360\"/></clipPath><clipPath class=\"axesclip\" id=\"clip7ea2e5xy\"><rect x=\"237\" y=\"60\" width=\"365\" height=\"360\"/></clipPath></g><g class=\"gradients\"><linearGradient x1=\"0\" x2=\"0\" y1=\"1\" y2=\"0\" id=\"g7ea2e5-cbcoloraxis\"><stop offset=\"0%\" stop-color=\"rgb(68, 1, 84)\" stop-opacity=\"1\"/><stop offset=\"11.111111%\" stop-color=\"rgb(72, 40, 120)\" stop-opacity=\"1\"/><stop offset=\"22.222222%\" stop-color=\"rgb(62, 73, 137)\" stop-opacity=\"1\"/><stop offset=\"33.333333%\" stop-color=\"rgb(49, 104, 142)\" stop-opacity=\"1\"/><stop offset=\"44.444444%\" stop-color=\"rgb(38, 130, 142)\" stop-opacity=\"1\"/><stop offset=\"55.555556%\" stop-color=\"rgb(31, 158, 137)\" stop-opacity=\"1\"/><stop offset=\"66.666667%\" stop-color=\"rgb(53, 183, 121)\" stop-opacity=\"1\"/><stop offset=\"77.777778%\" stop-color=\"rgb(110, 206, 88)\" stop-opacity=\"1\"/><stop offset=\"88.888889%\" stop-color=\"rgb(181, 222, 43)\" stop-opacity=\"1\"/><stop offset=\"100%\" stop-color=\"rgb(253, 231, 37)\" stop-opacity=\"1\"/></linearGradient></g><g class=\"patterns\"/></defs><g class=\"bglayer\"/><g class=\"layer-below\"><g class=\"imagelayer\"/><g class=\"shapelayer\"/></g><g class=\"cartesianlayer\"><g class=\"subplot xy\"><g class=\"layer-subplot\"><g class=\"shapelayer\"/><g class=\"imagelayer\"/></g><g class=\"gridlayer\"><g class=\"x\"/><g class=\"y\"/></g><g class=\"zerolinelayer\"/><path class=\"xlines-below\"/><path class=\"ylines-below\"/><g class=\"overlines-below\"/><g class=\"xaxislayer-below\"/><g class=\"yaxislayer-below\"/><g class=\"overaxes-below\"/><g class=\"plot\" transform=\"translate(237,60)\" clip-path=\"url(#clip7ea2e5xyplot)\"><g class=\"barlayer mlayer\"><g class=\"trace bars\" style=\"opacity: 1;\"><g class=\"points\"><g class=\"point\"><path d=\"M0,359.03V351.24H346.75V359.03Z\" style=\"vector-effect: non-scaling-stroke; opacity: 1; stroke-width: 0.5px; fill: rgb(253, 231, 37); fill-opacity: 1; stroke: rgb(255, 255, 255); stroke-opacity: 1;\"/></g><g class=\"point\"><path d=\"M0,349.3V341.51H346.75V349.3Z\" style=\"vector-effect: non-scaling-stroke; opacity: 1; stroke-width: 0.5px; fill: rgb(253, 231, 37); fill-opacity: 1; stroke: rgb(255, 255, 255); stroke-opacity: 1;\"/></g><g class=\"point\"><path d=\"M0,339.57V331.78H346.75V339.57Z\" style=\"vector-effect: non-scaling-stroke; opacity: 1; stroke-width: 0.5px; fill: rgb(253, 231, 37); fill-opacity: 1; stroke: rgb(255, 255, 255); stroke-opacity: 1;\"/></g><g class=\"point\"><path d=\"M0,329.84V322.05H346.75V329.84Z\" style=\"vector-effect: non-scaling-stroke; opacity: 1; stroke-width: 0.5px; fill: rgb(253, 231, 37); fill-opacity: 1; stroke: rgb(255, 255, 255); stroke-opacity: 1;\"/></g><g class=\"point\"><path d=\"M0,320.11V312.32H346.75V320.11Z\" style=\"vector-effect: non-scaling-stroke; opacity: 1; stroke-width: 0.5px; fill: rgb(253, 231, 37); fill-opacity: 1; stroke: rgb(255, 255, 255); stroke-opacity: 1;\"/></g><g class=\"point\"><path d=\"M0,310.38V302.59H346.75V310.38Z\" style=\"vector-effect: non-scaling-stroke; opacity: 1; stroke-width: 0.5px; fill: rgb(253, 231, 37); fill-opacity: 1; stroke: rgb(255, 255, 255); stroke-opacity: 1;\"/></g><g class=\"point\"><path d=\"M0,300.65V292.86H346.75V300.65Z\" style=\"vector-effect: non-scaling-stroke; opacity: 1; stroke-width: 0.5px; fill: rgb(253, 231, 37); fill-opacity: 1; stroke: rgb(255, 255, 255); stroke-opacity: 1;\"/></g><g class=\"point\"><path d=\"M0,290.92V283.14H346.75V290.92Z\" style=\"vector-effect: non-scaling-stroke; opacity: 1; stroke-width: 0.5px; fill: rgb(253, 231, 37); fill-opacity: 1; stroke: rgb(255, 255, 255); stroke-opacity: 1;\"/></g><g class=\"point\"><path d=\"M0,281.19V273.41H346.75V281.19Z\" style=\"vector-effect: non-scaling-stroke; opacity: 1; stroke-width: 0.5px; fill: rgb(253, 231, 37); fill-opacity: 1; stroke: rgb(255, 255, 255); stroke-opacity: 1;\"/></g><g class=\"point\"><path d=\"M0,271.46V263.68H346.75V271.46Z\" style=\"vector-effect: non-scaling-stroke; opacity: 1; stroke-width: 0.5px; fill: rgb(253, 231, 37); fill-opacity: 1; stroke: rgb(255, 255, 255); stroke-opacity: 1;\"/></g><g class=\"point\"><path d=\"M0,261.73V253.95H346.75V261.73Z\" style=\"vector-effect: non-scaling-stroke; opacity: 1; stroke-width: 0.5px; fill: rgb(253, 231, 37); fill-opacity: 1; stroke: rgb(255, 255, 255); stroke-opacity: 1;\"/></g><g class=\"point\"><path d=\"M0,252V244.22H173.38V252Z\" style=\"vector-effect: non-scaling-stroke; opacity: 1; stroke-width: 0.5px; fill: rgb(68, 1, 84); fill-opacity: 1; stroke: rgb(255, 255, 255); stroke-opacity: 1;\"/></g><g class=\"point\"><path d=\"M0,242.27V234.49H173.38V242.27Z\" style=\"vector-effect: non-scaling-stroke; opacity: 1; stroke-width: 0.5px; fill: rgb(68, 1, 84); fill-opacity: 1; stroke: rgb(255, 255, 255); stroke-opacity: 1;\"/></g><g class=\"point\"><path d=\"M0,232.54V224.76H173.38V232.54Z\" style=\"vector-effect: non-scaling-stroke; opacity: 1; stroke-width: 0.5px; fill: rgb(68, 1, 84); fill-opacity: 1; stroke: rgb(255, 255, 255); stroke-opacity: 1;\"/></g><g class=\"point\"><path d=\"M0,222.81V215.03H173.38V222.81Z\" style=\"vector-effect: non-scaling-stroke; opacity: 1; stroke-width: 0.5px; fill: rgb(68, 1, 84); fill-opacity: 1; stroke: rgb(255, 255, 255); stroke-opacity: 1;\"/></g><g class=\"point\"><path d=\"M0,213.08V205.3H173.38V213.08Z\" style=\"vector-effect: non-scaling-stroke; opacity: 1; stroke-width: 0.5px; fill: rgb(68, 1, 84); fill-opacity: 1; stroke: rgb(255, 255, 255); stroke-opacity: 1;\"/></g><g class=\"point\"><path d=\"M0,203.35V195.57H173.38V203.35Z\" style=\"vector-effect: non-scaling-stroke; opacity: 1; stroke-width: 0.5px; fill: rgb(68, 1, 84); fill-opacity: 1; stroke: rgb(255, 255, 255); stroke-opacity: 1;\"/></g><g class=\"point\"><path d=\"M0,193.62V185.84H173.38V193.62Z\" style=\"vector-effect: non-scaling-stroke; opacity: 1; stroke-width: 0.5px; fill: rgb(68, 1, 84); fill-opacity: 1; stroke: rgb(255, 255, 255); stroke-opacity: 1;\"/></g><g class=\"point\"><path d=\"M0,183.89V176.11H173.38V183.89Z\" style=\"vector-effect: non-scaling-stroke; opacity: 1; stroke-width: 0.5px; fill: rgb(68, 1, 84); fill-opacity: 1; stroke: rgb(255, 255, 255); stroke-opacity: 1;\"/></g><g class=\"point\"><path d=\"M0,174.16V166.38H173.38V174.16Z\" style=\"vector-effect: non-scaling-stroke; opacity: 1; stroke-width: 0.5px; fill: rgb(68, 1, 84); fill-opacity: 1; stroke: rgb(255, 255, 255); stroke-opacity: 1;\"/></g><g class=\"point\"><path d=\"M0,164.43V156.65H173.38V164.43Z\" style=\"vector-effect: non-scaling-stroke; opacity: 1; stroke-width: 0.5px; fill: rgb(68, 1, 84); fill-opacity: 1; stroke: rgb(255, 255, 255); stroke-opacity: 1;\"/></g><g class=\"point\"><path d=\"M0,154.7V146.92H173.38V154.7Z\" style=\"vector-effect: non-scaling-stroke; opacity: 1; stroke-width: 0.5px; fill: rgb(68, 1, 84); fill-opacity: 1; stroke: rgb(255, 255, 255); stroke-opacity: 1;\"/></g><g class=\"point\"><path d=\"M0,144.97V137.19H173.38V144.97Z\" style=\"vector-effect: non-scaling-stroke; opacity: 1; stroke-width: 0.5px; fill: rgb(68, 1, 84); fill-opacity: 1; stroke: rgb(255, 255, 255); stroke-opacity: 1;\"/></g><g class=\"point\"><path d=\"M0,135.24V127.46H173.38V135.24Z\" style=\"vector-effect: non-scaling-stroke; opacity: 1; stroke-width: 0.5px; fill: rgb(68, 1, 84); fill-opacity: 1; stroke: rgb(255, 255, 255); stroke-opacity: 1;\"/></g><g class=\"point\"><path d=\"M0,125.51V117.73H173.38V125.51Z\" style=\"vector-effect: non-scaling-stroke; opacity: 1; stroke-width: 0.5px; fill: rgb(68, 1, 84); fill-opacity: 1; stroke: rgb(255, 255, 255); stroke-opacity: 1;\"/></g><g class=\"point\"><path d=\"M0,115.78V108H173.38V115.78Z\" style=\"vector-effect: non-scaling-stroke; opacity: 1; stroke-width: 0.5px; fill: rgb(68, 1, 84); fill-opacity: 1; stroke: rgb(255, 255, 255); stroke-opacity: 1;\"/></g><g class=\"point\"><path d=\"M0,106.05V98.27H173.38V106.05Z\" style=\"vector-effect: non-scaling-stroke; opacity: 1; stroke-width: 0.5px; fill: rgb(68, 1, 84); fill-opacity: 1; stroke: rgb(255, 255, 255); stroke-opacity: 1;\"/></g><g class=\"point\"><path d=\"M0,96.32V88.54H173.38V96.32Z\" style=\"vector-effect: non-scaling-stroke; opacity: 1; stroke-width: 0.5px; fill: rgb(68, 1, 84); fill-opacity: 1; stroke: rgb(255, 255, 255); stroke-opacity: 1;\"/></g><g class=\"point\"><path d=\"M0,86.59V78.81H173.38V86.59Z\" style=\"vector-effect: non-scaling-stroke; opacity: 1; stroke-width: 0.5px; fill: rgb(68, 1, 84); fill-opacity: 1; stroke: rgb(255, 255, 255); stroke-opacity: 1;\"/></g><g class=\"point\"><path d=\"M0,76.86V69.08H173.38V76.86Z\" style=\"vector-effect: non-scaling-stroke; opacity: 1; stroke-width: 0.5px; fill: rgb(68, 1, 84); fill-opacity: 1; stroke: rgb(255, 255, 255); stroke-opacity: 1;\"/></g><g class=\"point\"><path d=\"M0,67.14V59.35H173.38V67.14Z\" style=\"vector-effect: non-scaling-stroke; opacity: 1; stroke-width: 0.5px; fill: rgb(68, 1, 84); fill-opacity: 1; stroke: rgb(255, 255, 255); stroke-opacity: 1;\"/></g><g class=\"point\"><path d=\"M0,57.41V49.62H173.38V57.41Z\" style=\"vector-effect: non-scaling-stroke; opacity: 1; stroke-width: 0.5px; fill: rgb(68, 1, 84); fill-opacity: 1; stroke: rgb(255, 255, 255); stroke-opacity: 1;\"/></g><g class=\"point\"><path d=\"M0,47.68V39.89H173.38V47.68Z\" style=\"vector-effect: non-scaling-stroke; opacity: 1; stroke-width: 0.5px; fill: rgb(68, 1, 84); fill-opacity: 1; stroke: rgb(255, 255, 255); stroke-opacity: 1;\"/></g><g class=\"point\"><path d=\"M0,37.95V30.16H173.38V37.95Z\" style=\"vector-effect: non-scaling-stroke; opacity: 1; stroke-width: 0.5px; fill: rgb(68, 1, 84); fill-opacity: 1; stroke: rgb(255, 255, 255); stroke-opacity: 1;\"/></g><g class=\"point\"><path d=\"M0,28.22V20.43H173.38V28.22Z\" style=\"vector-effect: non-scaling-stroke; opacity: 1; stroke-width: 0.5px; fill: rgb(68, 1, 84); fill-opacity: 1; stroke: rgb(255, 255, 255); stroke-opacity: 1;\"/></g><g class=\"point\"><path d=\"M0,18.49V10.7H173.38V18.49Z\" style=\"vector-effect: non-scaling-stroke; opacity: 1; stroke-width: 0.5px; fill: rgb(68, 1, 84); fill-opacity: 1; stroke: rgb(255, 255, 255); stroke-opacity: 1;\"/></g><g class=\"point\"><path d=\"M0,8.76V0.97H173.38V8.76Z\" style=\"vector-effect: non-scaling-stroke; opacity: 1; stroke-width: 0.5px; fill: rgb(68, 1, 84); fill-opacity: 1; stroke: rgb(255, 255, 255); stroke-opacity: 1;\"/></g></g></g></g></g><g class=\"overplot\"/><path class=\"xlines-above crisp\" d=\"M236,420.5H602\" style=\"fill: none; stroke-width: 1px; stroke: rgb(36, 36, 36); stroke-opacity: 1;\"/><path class=\"ylines-above crisp\" d=\"M236.5,60V420\" style=\"fill: none; stroke-width: 1px; stroke: rgb(36, 36, 36); stroke-opacity: 1;\"/><g class=\"overlines-above\"/><g class=\"xaxislayer-above\"><path class=\"xtick ticks crisp\" d=\"M0,421v5\" transform=\"translate(237,0)\" style=\"stroke: rgb(68, 68, 68); stroke-opacity: 1; stroke-width: 1px;\"/><path class=\"xtick ticks crisp\" d=\"M0,421v5\" transform=\"translate(323.69,0)\" style=\"stroke: rgb(68, 68, 68); stroke-opacity: 1; stroke-width: 1px;\"/><path class=\"xtick ticks crisp\" d=\"M0,421v5\" transform=\"translate(410.38,0)\" style=\"stroke: rgb(68, 68, 68); stroke-opacity: 1; stroke-width: 1px;\"/><path class=\"xtick ticks crisp\" d=\"M0,421v5\" transform=\"translate(497.06,0)\" style=\"stroke: rgb(68, 68, 68); stroke-opacity: 1; stroke-width: 1px;\"/><path class=\"xtick ticks crisp\" d=\"M0,421v5\" transform=\"translate(583.75,0)\" style=\"stroke: rgb(68, 68, 68); stroke-opacity: 1; stroke-width: 1px;\"/><g class=\"xtick\"><text text-anchor=\"middle\" x=\"0\" y=\"440.4\" transform=\"translate(237,0)\" style=\"font-family: 'Open Sans', verdana, arial, sans-serif; font-size: 12px; fill: rgb(36, 36, 36); fill-opacity: 1; white-space: pre; opacity: 1;\">0</text></g><g class=\"xtick\"><text text-anchor=\"middle\" x=\"0\" y=\"440.4\" style=\"font-family: 'Open Sans', verdana, arial, sans-serif; font-size: 12px; fill: rgb(36, 36, 36); fill-opacity: 1; white-space: pre; opacity: 1;\" transform=\"translate(323.69,0)\">0.5</text></g><g class=\"xtick\"><text text-anchor=\"middle\" x=\"0\" y=\"440.4\" style=\"font-family: 'Open Sans', verdana, arial, sans-serif; font-size: 12px; fill: rgb(36, 36, 36); fill-opacity: 1; white-space: pre; opacity: 1;\" transform=\"translate(410.38,0)\">1</text></g><g class=\"xtick\"><text text-anchor=\"middle\" x=\"0\" y=\"440.4\" style=\"font-family: 'Open Sans', verdana, arial, sans-serif; font-size: 12px; fill: rgb(36, 36, 36); fill-opacity: 1; white-space: pre; opacity: 1;\" transform=\"translate(497.06,0)\">1.5</text></g><g class=\"xtick\"><text text-anchor=\"middle\" x=\"0\" y=\"440.4\" style=\"font-family: 'Open Sans', verdana, arial, sans-serif; font-size: 12px; fill: rgb(36, 36, 36); fill-opacity: 1; white-space: pre; opacity: 1;\" transform=\"translate(583.75,0)\">2</text></g></g><g class=\"yaxislayer-above\"><path class=\"ytick ticks crisp\" d=\"M236,0h-5\" transform=\"translate(0,415.14)\" style=\"stroke: rgb(68, 68, 68); stroke-opacity: 1; stroke-width: 1px;\"/><path class=\"ytick ticks crisp\" d=\"M236,0h-5\" transform=\"translate(0,395.68)\" style=\"stroke: rgb(68, 68, 68); stroke-opacity: 1; stroke-width: 1px;\"/><path class=\"ytick ticks crisp\" d=\"M236,0h-5\" transform=\"translate(0,376.22)\" style=\"stroke: rgb(68, 68, 68); stroke-opacity: 1; stroke-width: 1px;\"/><path class=\"ytick ticks crisp\" d=\"M236,0h-5\" transform=\"translate(0,356.76)\" style=\"stroke: rgb(68, 68, 68); stroke-opacity: 1; stroke-width: 1px;\"/><path class=\"ytick ticks crisp\" d=\"M236,0h-5\" transform=\"translate(0,337.3)\" style=\"stroke: rgb(68, 68, 68); stroke-opacity: 1; stroke-width: 1px;\"/><path class=\"ytick ticks crisp\" d=\"M236,0h-5\" transform=\"translate(0,317.84)\" style=\"stroke: rgb(68, 68, 68); stroke-opacity: 1; stroke-width: 1px;\"/><path class=\"ytick ticks crisp\" d=\"M236,0h-5\" transform=\"translate(0,298.38)\" style=\"stroke: rgb(68, 68, 68); stroke-opacity: 1; stroke-width: 1px;\"/><path class=\"ytick ticks crisp\" d=\"M236,0h-5\" transform=\"translate(0,278.91999999999996)\" style=\"stroke: rgb(68, 68, 68); stroke-opacity: 1; stroke-width: 1px;\"/><path class=\"ytick ticks crisp\" d=\"M236,0h-5\" transform=\"translate(0,259.46000000000004)\" style=\"stroke: rgb(68, 68, 68); stroke-opacity: 1; stroke-width: 1px;\"/><path class=\"ytick ticks crisp\" d=\"M236,0h-5\" transform=\"translate(0,240)\" style=\"stroke: rgb(68, 68, 68); stroke-opacity: 1; stroke-width: 1px;\"/><path class=\"ytick ticks crisp\" d=\"M236,0h-5\" transform=\"translate(0,220.54)\" style=\"stroke: rgb(68, 68, 68); stroke-opacity: 1; stroke-width: 1px;\"/><path class=\"ytick ticks crisp\" d=\"M236,0h-5\" transform=\"translate(0,201.08)\" style=\"stroke: rgb(68, 68, 68); stroke-opacity: 1; stroke-width: 1px;\"/><path class=\"ytick ticks crisp\" d=\"M236,0h-5\" transform=\"translate(0,181.62)\" style=\"stroke: rgb(68, 68, 68); stroke-opacity: 1; stroke-width: 1px;\"/><path class=\"ytick ticks crisp\" d=\"M236,0h-5\" transform=\"translate(0,162.16)\" style=\"stroke: rgb(68, 68, 68); stroke-opacity: 1; stroke-width: 1px;\"/><path class=\"ytick ticks crisp\" d=\"M236,0h-5\" transform=\"translate(0,142.7)\" style=\"stroke: rgb(68, 68, 68); stroke-opacity: 1; stroke-width: 1px;\"/><path class=\"ytick ticks crisp\" d=\"M236,0h-5\" transform=\"translate(0,123.24000000000001)\" style=\"stroke: rgb(68, 68, 68); stroke-opacity: 1; stroke-width: 1px;\"/><path class=\"ytick ticks crisp\" d=\"M236,0h-5\" transform=\"translate(0,103.78)\" style=\"stroke: rgb(68, 68, 68); stroke-opacity: 1; stroke-width: 1px;\"/><path class=\"ytick ticks crisp\" d=\"M236,0h-5\" transform=\"translate(0,84.32)\" style=\"stroke: rgb(68, 68, 68); stroke-opacity: 1; stroke-width: 1px;\"/><path class=\"ytick ticks crisp\" d=\"M236,0h-5\" transform=\"translate(0,64.86)\" style=\"stroke: rgb(68, 68, 68); stroke-opacity: 1; stroke-width: 1px;\"/><g class=\"ytick\"><text text-anchor=\"end\" x=\"228.6\" y=\"4.199999999999999\" transform=\"translate(0,415.14)\" style=\"font-family: 'Open Sans', verdana, arial, sans-serif; font-size: 12px; fill: rgb(36, 36, 36); fill-opacity: 1; white-space: pre; opacity: 1;\">Район Чертаново Центральное</text></g><g class=\"ytick\"><text text-anchor=\"end\" x=\"228.6\" y=\"4.199999999999999\" transform=\"translate(0,395.68)\" style=\"font-family: 'Open Sans', verdana, arial, sans-serif; font-size: 12px; fill: rgb(36, 36, 36); fill-opacity: 1; white-space: pre; opacity: 1;\">Ломоносовский район</text></g><g class=\"ytick\"><text text-anchor=\"end\" x=\"228.6\" y=\"4.199999999999999\" transform=\"translate(0,376.22)\" style=\"font-family: 'Open Sans', verdana, arial, sans-serif; font-size: 12px; fill: rgb(36, 36, 36); fill-opacity: 1; white-space: pre; opacity: 1;\">Обручевский район</text></g><g class=\"ytick\"><text text-anchor=\"end\" x=\"228.6\" y=\"4.199999999999999\" transform=\"translate(0,356.76)\" style=\"font-family: 'Open Sans', verdana, arial, sans-serif; font-size: 12px; fill: rgb(36, 36, 36); fill-opacity: 1; white-space: pre; opacity: 1;\">Район Нагатино-Садовники</text></g><g class=\"ytick\"><text text-anchor=\"end\" x=\"228.6\" y=\"4.199999999999999\" transform=\"translate(0,337.3)\" style=\"font-family: 'Open Sans', verdana, arial, sans-serif; font-size: 12px; fill: rgb(36, 36, 36); fill-opacity: 1; white-space: pre; opacity: 1;\">Район Тропарево-Никулино</text></g><g class=\"ytick\"><text text-anchor=\"end\" x=\"228.6\" y=\"4.199999999999999\" transform=\"translate(0,317.84)\" style=\"font-family: 'Open Sans', verdana, arial, sans-serif; font-size: 12px; fill: rgb(36, 36, 36); fill-opacity: 1; white-space: pre; opacity: 1;\">Район Чертаново Северное</text></g><g class=\"ytick\"><text text-anchor=\"end\" x=\"228.6\" y=\"4.199999999999999\" transform=\"translate(0,298.38)\" style=\"font-family: 'Open Sans', verdana, arial, sans-serif; font-size: 12px; fill: rgb(36, 36, 36); fill-opacity: 1; white-space: pre; opacity: 1;\">Район Сокол</text></g><g class=\"ytick\"><text text-anchor=\"end\" x=\"228.6\" y=\"4.199999999999999\" transform=\"translate(0,278.91999999999996)\" style=\"font-family: 'Open Sans', verdana, arial, sans-serif; font-size: 12px; fill: rgb(36, 36, 36); fill-opacity: 1; white-space: pre; opacity: 1;\">Район Черемушки</text></g><g class=\"ytick\"><text text-anchor=\"end\" x=\"228.6\" y=\"4.199999999999999\" transform=\"translate(0,259.46000000000004)\" style=\"font-family: 'Open Sans', verdana, arial, sans-serif; font-size: 12px; fill: rgb(36, 36, 36); fill-opacity: 1; white-space: pre; opacity: 1;\">Район Южное Бутово</text></g><g class=\"ytick\"><text text-anchor=\"end\" x=\"228.6\" y=\"4.199999999999999\" transform=\"translate(0,240)\" style=\"font-family: 'Open Sans', verdana, arial, sans-serif; font-size: 12px; fill: rgb(36, 36, 36); fill-opacity: 1; white-space: pre; opacity: 1;\">Район Ясенево</text></g><g class=\"ytick\"><text text-anchor=\"end\" x=\"228.6\" y=\"4.199999999999999\" transform=\"translate(0,220.54)\" style=\"font-family: 'Open Sans', verdana, arial, sans-serif; font-size: 12px; fill: rgb(36, 36, 36); fill-opacity: 1; white-space: pre; opacity: 1;\">Район Северное Бутово</text></g><g class=\"ytick\"><text text-anchor=\"end\" x=\"228.6\" y=\"4.199999999999999\" transform=\"translate(0,201.08)\" style=\"font-family: 'Open Sans', verdana, arial, sans-serif; font-size: 12px; fill: rgb(36, 36, 36); fill-opacity: 1; white-space: pre; opacity: 1;\">Район Ростокино</text></g><g class=\"ytick\"><text text-anchor=\"end\" x=\"228.6\" y=\"4.199999999999999\" transform=\"translate(0,181.62)\" style=\"font-family: 'Open Sans', verdana, arial, sans-serif; font-size: 12px; fill: rgb(36, 36, 36); fill-opacity: 1; white-space: pre; opacity: 1;\">Алексеевский район</text></g><g class=\"ytick\"><text text-anchor=\"end\" x=\"228.6\" y=\"4.199999999999999\" transform=\"translate(0,162.16)\" style=\"font-family: 'Open Sans', verdana, arial, sans-serif; font-size: 12px; fill: rgb(36, 36, 36); fill-opacity: 1; white-space: pre; opacity: 1;\">Район Москворечье-Сабурово</text></g><g class=\"ytick\"><text text-anchor=\"end\" x=\"228.6\" y=\"4.199999999999999\" transform=\"translate(0,142.7)\" style=\"font-family: 'Open Sans', verdana, arial, sans-serif; font-size: 12px; fill: rgb(36, 36, 36); fill-opacity: 1; white-space: pre; opacity: 1;\">Район Коньково</text></g><g class=\"ytick\"><text text-anchor=\"end\" x=\"228.6\" y=\"4.199999999999999\" transform=\"translate(0,123.24000000000001)\" style=\"font-family: 'Open Sans', verdana, arial, sans-serif; font-size: 12px; fill: rgb(36, 36, 36); fill-opacity: 1; white-space: pre; opacity: 1;\">Район Беговой</text></g><g class=\"ytick\"><text text-anchor=\"end\" x=\"228.6\" y=\"4.199999999999999\" transform=\"translate(0,103.78)\" style=\"font-family: 'Open Sans', verdana, arial, sans-serif; font-size: 12px; fill: rgb(36, 36, 36); fill-opacity: 1; white-space: pre; opacity: 1;\">Пресненский район</text></g><g class=\"ytick\"><text text-anchor=\"end\" x=\"228.6\" y=\"4.199999999999999\" transform=\"translate(0,84.32)\" style=\"font-family: 'Open Sans', verdana, arial, sans-serif; font-size: 12px; fill: rgb(36, 36, 36); fill-opacity: 1; white-space: pre; opacity: 1;\">Нагорный район</text></g><g class=\"ytick\"><text text-anchor=\"end\" x=\"228.6\" y=\"4.199999999999999\" transform=\"translate(0,64.86)\" style=\"font-family: 'Open Sans', verdana, arial, sans-serif; font-size: 12px; fill: rgb(36, 36, 36); fill-opacity: 1; white-space: pre; opacity: 1;\">Ярославский Район</text></g></g><g class=\"overaxes-above\"/></g></g><g class=\"polarlayer\"/><g class=\"smithlayer\"/><g class=\"ternarylayer\"/><g class=\"geolayer\"/><g class=\"funnelarealayer\"/><g class=\"pielayer\"/><g class=\"iciclelayer\"/><g class=\"treemaplayer\"/><g class=\"sunburstlayer\"/><g class=\"glimages\"/><defs id=\"topdefs-7ea2e5\"><g class=\"clips\"/></defs><g class=\"layer-above\"><g class=\"imagelayer\"/><g class=\"shapelayer\"/></g><g class=\"infolayer\"><g class=\"cbcoloraxis colorbar\" transform=\"translate(237,60)\"><rect class=\"cbbg\" x=\"371.5\" y=\"0\" width=\"78.40625\" height=\"361\" style=\"fill: rgb(0, 0, 0); fill-opacity: 0; stroke: rgb(68, 68, 68); stroke-opacity: 1; stroke-width: 0;\"/><g class=\"cbfills\" transform=\"translate(0,32)\"><rect class=\"cbfill\" x=\"382\" y=\"0\" width=\"30\" height=\"318\" style=\"fill: url('#g7ea2e5-cbcoloraxis');\"/></g><g class=\"cblines\" transform=\"translate(0,32)\"/><g class=\"cbaxis crisp\" transform=\"translate(0,-60)\"><path class=\"ycbcoloraxistick ticks crisp\" d=\"M412,0h5\" transform=\"translate(0,410)\" style=\"stroke: rgb(36, 36, 36); stroke-opacity: 1; stroke-width: 1px;\"/><path class=\"ycbcoloraxistick ticks crisp\" d=\"M412,0h5\" transform=\"translate(0,346.4)\" style=\"stroke: rgb(36, 36, 36); stroke-opacity: 1; stroke-width: 1px;\"/><path class=\"ycbcoloraxistick ticks crisp\" d=\"M412,0h5\" transform=\"translate(0,282.8)\" style=\"stroke: rgb(36, 36, 36); stroke-opacity: 1; stroke-width: 1px;\"/><path class=\"ycbcoloraxistick ticks crisp\" d=\"M412,0h5\" transform=\"translate(0,219.2)\" style=\"stroke: rgb(36, 36, 36); stroke-opacity: 1; stroke-width: 1px;\"/><path class=\"ycbcoloraxistick ticks crisp\" d=\"M412,0h5\" transform=\"translate(0,155.6)\" style=\"stroke: rgb(36, 36, 36); stroke-opacity: 1; stroke-width: 1px;\"/><path class=\"ycbcoloraxistick ticks crisp\" d=\"M412,0h5\" transform=\"translate(0,92)\" style=\"stroke: rgb(36, 36, 36); stroke-opacity: 1; stroke-width: 1px;\"/><g class=\"ycbcoloraxistick\"><text text-anchor=\"start\" x=\"419.4\" y=\"4.199999999999999\" transform=\"translate(0,410)\" style=\"font-family: 'Open Sans', verdana, arial, sans-serif; font-size: 12px; fill: rgb(36, 36, 36); fill-opacity: 1; white-space: pre; opacity: 1;\">1</text></g><g class=\"ycbcoloraxistick\"><text text-anchor=\"start\" x=\"419.4\" y=\"4.199999999999999\" style=\"font-family: 'Open Sans', verdana, arial, sans-serif; font-size: 12px; fill: rgb(36, 36, 36); fill-opacity: 1; white-space: pre; opacity: 1;\" transform=\"translate(0,346.4)\">1.2</text></g><g class=\"ycbcoloraxistick\"><text text-anchor=\"start\" x=\"419.4\" y=\"4.199999999999999\" style=\"font-family: 'Open Sans', verdana, arial, sans-serif; font-size: 12px; fill: rgb(36, 36, 36); fill-opacity: 1; white-space: pre; opacity: 1;\" transform=\"translate(0,282.8)\">1.4</text></g><g class=\"ycbcoloraxistick\"><text text-anchor=\"start\" x=\"419.4\" y=\"4.199999999999999\" style=\"font-family: 'Open Sans', verdana, arial, sans-serif; font-size: 12px; fill: rgb(36, 36, 36); fill-opacity: 1; white-space: pre; opacity: 1;\" transform=\"translate(0,219.2)\">1.6</text></g><g class=\"ycbcoloraxistick\"><text text-anchor=\"start\" x=\"419.4\" y=\"4.199999999999999\" style=\"font-family: 'Open Sans', verdana, arial, sans-serif; font-size: 12px; fill: rgb(36, 36, 36); fill-opacity: 1; white-space: pre; opacity: 1;\" transform=\"translate(0,155.6)\">1.8</text></g><g class=\"ycbcoloraxistick\"><text text-anchor=\"start\" x=\"419.4\" y=\"4.199999999999999\" style=\"font-family: 'Open Sans', verdana, arial, sans-serif; font-size: 12px; fill: rgb(36, 36, 36); fill-opacity: 1; white-space: pre; opacity: 1;\" transform=\"translate(0,92)\">2</text></g></g><g class=\"cbtitleunshift\" transform=\"translate(-237,-60)\"><g class=\"cbtitle\" transform=\"translate(-0.5,-0.5)\"><text class=\"ycbcoloraxistitle\" x=\"619.3\" y=\"83.5\" text-anchor=\"start\" style=\"font-family: 'Open Sans', verdana, arial, sans-serif; font-size: 14px; fill: rgb(36, 36, 36); opacity: 1; font-weight: normal; white-space: pre;\">street</text></g></g><rect class=\"cboutline\" x=\"382\" y=\"32\" width=\"30\" height=\"318\" style=\"stroke: rgb(68, 68, 68); stroke-opacity: 1; fill: none; stroke-width: 1;\"/></g><g class=\"g-gtitle\"><text class=\"gtitle\" x=\"35\" y=\"30\" text-anchor=\"start\" dy=\"0em\" style=\"font-family: 'Open Sans', verdana, arial, sans-serif; font-size: 17px; fill: rgb(36, 36, 36); opacity: 1; font-weight: normal; white-space: pre;\">Районы с улицами из топ-10</text></g><g class=\"g-xtitle\"><text class=\"xtitle\" x=\"419.5\" y=\"468.20625\" text-anchor=\"middle\" style=\"font-family: 'Open Sans', verdana, arial, sans-serif; font-size: 14px; fill: rgb(36, 36, 36); opacity: 1; font-weight: normal; white-space: pre;\">Количество популярных улиц в районе</text></g><g class=\"g-ytitle\" transform=\"translate(2.3154296875,0)\"><text class=\"ytitle\" transform=\"rotate(-90,11.684374999999989,240)\" x=\"11.684374999999989\" y=\"240\" text-anchor=\"middle\" style=\"font-family: 'Open Sans', verdana, arial, sans-serif; font-size: 14px; fill: rgb(36, 36, 36); opacity: 1; font-weight: normal; white-space: pre;\">Районы</text></g></g></svg>"
      ]
     },
     "metadata": {},
     "output_type": "display_data"
    }
   ],
   "source": [
    "fig = px.bar(winner, x='street', y='area',\n",
    "             color='street',\n",
    "             template = 'simple_white')\n",
    "\n",
    "fig.update_layout(title_text='Районы с улицами из топ-10',\n",
    "                  xaxis_title=\"Количество популярных улиц в районе \",\n",
    "                  yaxis_title=\"Районы\")\n",
    "fig.update_traces(textposition='outside',\n",
    "                showlegend = False,\n",
    "                 hovertemplate ='%{y} <br> Количество улиц: %{x}')\n",
    "fig.show(renderer=\"svg\")"
   ]
  },
  {
   "cell_type": "markdown",
   "metadata": {},
   "source": [
    "### Локация заведений. Непопулярные места\n",
    "Теперь найдем число улиц с одним объектом общественного питания и посмотрим в каких районах Москвы находятся эти улицы"
   ]
  },
  {
   "cell_type": "code",
   "execution_count": 29,
   "metadata": {
    "scrolled": false
   },
   "outputs": [
    {
     "data": {
      "text/plain": [
       "579"
      ]
     },
     "execution_count": 29,
     "metadata": {},
     "output_type": "execute_result"
    }
   ],
   "source": [
    "# группируем \n",
    "street_one_object = rest_data.groupby('street').agg({'object_name': 'count'})\n",
    "# делаем срез с 1 объектом, чистим индексы\n",
    "street_one_object = street_one_object.query('object_name == 1')\n",
    "street_one_object = street_one_object.reset_index()\n",
    "street_one_object['street'].count()"
   ]
  },
  {
   "cell_type": "markdown",
   "metadata": {},
   "source": [
    "Получили 579 улиц на которых есть только одно заведение общественного питания. Теперь добавим к улицам районы расположения и посмотрим в каком районе находятся эти улицы."
   ]
  },
  {
   "cell_type": "code",
   "execution_count": 30,
   "metadata": {
    "scrolled": false
   },
   "outputs": [],
   "source": [
    "area_one_object = street_one_object.merge(streets_from_mosgaz[['street', 'area']], on='street', how='left')\n",
    "loser = area_one_object.groupby('area')\\\n",
    "               .agg({'street':'count'})\\\n",
    "               .sort_values(by= 'street', ascending = False).reset_index()"
   ]
  },
  {
   "cell_type": "markdown",
   "metadata": {
    "scrolled": true
   },
   "source": [
    "99 районов. Можно сказать, что весь город. Таганский, Хамовники и Басманный районы имеют большинство улиц с одним объектом общепита. Это практически центр города. Скорее всего здесь речь идет о мелких переулках и коротких улицах, которых очень много в старинных городах. Последними в списке числяться Обручевский и Метрогородок\t-эти районы расположены между третьим транспортным кольцом и МКАДом вдали от центра города."
   ]
  },
  {
   "cell_type": "code",
   "execution_count": 31,
   "metadata": {
    "scrolled": false
   },
   "outputs": [
    {
     "data": {
      "image/svg+xml": [
       "<svg class=\"main-svg\" xmlns=\"http://www.w3.org/2000/svg\" xmlns:xlink=\"http://www.w3.org/1999/xlink\" width=\"700\" height=\"500\" style=\"\" viewBox=\"0 0 700 500\"><rect x=\"0\" y=\"0\" width=\"700\" height=\"500\" style=\"fill: rgb(255, 255, 255); fill-opacity: 1;\"/><defs id=\"defs-541506\"><g class=\"clips\"><clipPath id=\"clip541506xyplot\" class=\"plotclip\"><rect width=\"373\" height=\"360\"/></clipPath><clipPath class=\"axesclip\" id=\"clip541506x\"><rect x=\"234\" y=\"0\" width=\"373\" height=\"500\"/></clipPath><clipPath class=\"axesclip\" id=\"clip541506y\"><rect x=\"0\" y=\"60\" width=\"700\" height=\"360\"/></clipPath><clipPath class=\"axesclip\" id=\"clip541506xy\"><rect x=\"234\" y=\"60\" width=\"373\" height=\"360\"/></clipPath></g><g class=\"gradients\"><linearGradient x1=\"0\" x2=\"0\" y1=\"1\" y2=\"0\" id=\"g541506-cbcoloraxis\"><stop offset=\"0%\" stop-color=\"rgb(68, 1, 84)\" stop-opacity=\"1\"/><stop offset=\"11.111111%\" stop-color=\"rgb(72, 40, 120)\" stop-opacity=\"1\"/><stop offset=\"22.222222%\" stop-color=\"rgb(62, 73, 137)\" stop-opacity=\"1\"/><stop offset=\"33.333333%\" stop-color=\"rgb(49, 104, 142)\" stop-opacity=\"1\"/><stop offset=\"44.444444%\" stop-color=\"rgb(38, 130, 142)\" stop-opacity=\"1\"/><stop offset=\"55.555556%\" stop-color=\"rgb(31, 158, 137)\" stop-opacity=\"1\"/><stop offset=\"66.666667%\" stop-color=\"rgb(53, 183, 121)\" stop-opacity=\"1\"/><stop offset=\"77.777778%\" stop-color=\"rgb(110, 206, 88)\" stop-opacity=\"1\"/><stop offset=\"88.888889%\" stop-color=\"rgb(181, 222, 43)\" stop-opacity=\"1\"/><stop offset=\"100%\" stop-color=\"rgb(253, 231, 37)\" stop-opacity=\"1\"/></linearGradient></g><g class=\"patterns\"/></defs><g class=\"bglayer\"/><g class=\"layer-below\"><g class=\"imagelayer\"/><g class=\"shapelayer\"/></g><g class=\"cartesianlayer\"><g class=\"subplot xy\"><g class=\"layer-subplot\"><g class=\"shapelayer\"/><g class=\"imagelayer\"/></g><g class=\"gridlayer\"><g class=\"x\"/><g class=\"y\"/></g><g class=\"zerolinelayer\"/><path class=\"xlines-below\"/><path class=\"ylines-below\"/><g class=\"overlines-below\"/><g class=\"xaxislayer-below\"/><g class=\"yaxislayer-below\"/><g class=\"overaxes-below\"/><g class=\"plot\" transform=\"translate(234,60)\" clip-path=\"url(#clip541506xyplot)\"><g class=\"barlayer mlayer\"><g class=\"trace bars\" style=\"opacity: 1;\"><g class=\"points\"><g class=\"point\"><path d=\"M0,359.64V356.73H354.35V359.64Z\" style=\"vector-effect: non-scaling-stroke; opacity: 1; stroke-width: 0.5px; fill: rgb(253, 231, 37); fill-opacity: 1; stroke: rgb(255, 255, 255); stroke-opacity: 1;\"/></g><g class=\"point\"><path d=\"M0,356V353.09H341.23V356Z\" style=\"vector-effect: non-scaling-stroke; opacity: 1; stroke-width: 0.5px; fill: rgb(228, 228, 39); fill-opacity: 1; stroke: rgb(255, 255, 255); stroke-opacity: 1;\"/></g><g class=\"point\"><path d=\"M0,352.36V349.45H328.1V352.36Z\" style=\"vector-effect: non-scaling-stroke; opacity: 1; stroke-width: 0.5px; fill: rgb(203, 225, 41); fill-opacity: 1; stroke: rgb(255, 255, 255); stroke-opacity: 1;\"/></g><g class=\"point\"><path d=\"M0,348.73V345.82H262.48V348.73Z\" style=\"vector-effect: non-scaling-stroke; opacity: 1; stroke-width: 0.5px; fill: rgb(86, 196, 102); fill-opacity: 1; stroke: rgb(255, 255, 255); stroke-opacity: 1;\"/></g><g class=\"point\"><path d=\"M0,345.09V342.18H249.36V345.09Z\" style=\"vector-effect: non-scaling-stroke; opacity: 1; stroke-width: 0.5px; fill: rgb(66, 188, 113); fill-opacity: 1; stroke: rgb(255, 255, 255); stroke-opacity: 1;\"/></g><g class=\"point\"><path d=\"M0,341.45V338.55H236.23V341.45Z\" style=\"vector-effect: non-scaling-stroke; opacity: 1; stroke-width: 0.5px; fill: rgb(50, 180, 123); fill-opacity: 1; stroke: rgb(255, 255, 255); stroke-opacity: 1;\"/></g><g class=\"point\"><path d=\"M0,337.82V334.91H223.11V337.82Z\" style=\"vector-effect: non-scaling-stroke; opacity: 1; stroke-width: 0.5px; fill: rgb(43, 171, 128); fill-opacity: 1; stroke: rgb(255, 255, 255); stroke-opacity: 1;\"/></g><g class=\"point\"><path d=\"M0,334.18V331.27H209.99V334.18Z\" style=\"vector-effect: non-scaling-stroke; opacity: 1; stroke-width: 0.5px; fill: rgb(35, 163, 134); fill-opacity: 1; stroke: rgb(255, 255, 255); stroke-opacity: 1;\"/></g><g class=\"point\"><path d=\"M0,330.55V327.64H196.86V330.55Z\" style=\"vector-effect: non-scaling-stroke; opacity: 1; stroke-width: 0.5px; fill: rgb(32, 154, 138); fill-opacity: 1; stroke: rgb(255, 255, 255); stroke-opacity: 1;\"/></g><g class=\"point\"><path d=\"M0,326.91V324H183.74V326.91Z\" style=\"vector-effect: non-scaling-stroke; opacity: 1; stroke-width: 0.5px; fill: rgb(35, 144, 140); fill-opacity: 1; stroke: rgb(255, 255, 255); stroke-opacity: 1;\"/></g><g class=\"point\"><path d=\"M0,323.27V320.36H157.49V323.27Z\" style=\"vector-effect: non-scaling-stroke; opacity: 1; stroke-width: 0.5px; fill: rgb(40, 125, 142); fill-opacity: 1; stroke: rgb(255, 255, 255); stroke-opacity: 1;\"/></g><g class=\"point\"><path d=\"M0,319.64V316.73H157.49V319.64Z\" style=\"vector-effect: non-scaling-stroke; opacity: 1; stroke-width: 0.5px; fill: rgb(40, 125, 142); fill-opacity: 1; stroke: rgb(255, 255, 255); stroke-opacity: 1;\"/></g><g class=\"point\"><path d=\"M0,316V313.09H157.49V316Z\" style=\"vector-effect: non-scaling-stroke; opacity: 1; stroke-width: 0.5px; fill: rgb(40, 125, 142); fill-opacity: 1; stroke: rgb(255, 255, 255); stroke-opacity: 1;\"/></g><g class=\"point\"><path d=\"M0,312.36V309.45H144.36V312.36Z\" style=\"vector-effect: non-scaling-stroke; opacity: 1; stroke-width: 0.5px; fill: rgb(44, 116, 142); fill-opacity: 1; stroke: rgb(255, 255, 255); stroke-opacity: 1;\"/></g><g class=\"point\"><path d=\"M0,308.73V305.82H131.24V308.73Z\" style=\"vector-effect: non-scaling-stroke; opacity: 1; stroke-width: 0.5px; fill: rgb(48, 107, 142); fill-opacity: 1; stroke: rgb(255, 255, 255); stroke-opacity: 1;\"/></g><g class=\"point\"><path d=\"M0,305.09V302.18H131.24V305.09Z\" style=\"vector-effect: non-scaling-stroke; opacity: 1; stroke-width: 0.5px; fill: rgb(48, 107, 142); fill-opacity: 1; stroke: rgb(255, 255, 255); stroke-opacity: 1;\"/></g><g class=\"point\"><path d=\"M0,301.45V298.55H118.12V301.45Z\" style=\"vector-effect: non-scaling-stroke; opacity: 1; stroke-width: 0.5px; fill: rgb(52, 97, 141); fill-opacity: 1; stroke: rgb(255, 255, 255); stroke-opacity: 1;\"/></g><g class=\"point\"><path d=\"M0,297.82V294.91H104.99V297.82Z\" style=\"vector-effect: non-scaling-stroke; opacity: 1; stroke-width: 0.5px; fill: rgb(57, 86, 139); fill-opacity: 1; stroke: rgb(255, 255, 255); stroke-opacity: 1;\"/></g><g class=\"point\"><path d=\"M0,294.18V291.27H104.99V294.18Z\" style=\"vector-effect: non-scaling-stroke; opacity: 1; stroke-width: 0.5px; fill: rgb(57, 86, 139); fill-opacity: 1; stroke: rgb(255, 255, 255); stroke-opacity: 1;\"/></g><g class=\"point\"><path d=\"M0,290.55V287.64H104.99V290.55Z\" style=\"vector-effect: non-scaling-stroke; opacity: 1; stroke-width: 0.5px; fill: rgb(57, 86, 139); fill-opacity: 1; stroke: rgb(255, 255, 255); stroke-opacity: 1;\"/></g><g class=\"point\"><path d=\"M0,286.91V284H104.99V286.91Z\" style=\"vector-effect: non-scaling-stroke; opacity: 1; stroke-width: 0.5px; fill: rgb(57, 86, 139); fill-opacity: 1; stroke: rgb(255, 255, 255); stroke-opacity: 1;\"/></g><g class=\"point\"><path d=\"M0,283.27V280.36H91.87V283.27Z\" style=\"vector-effect: non-scaling-stroke; opacity: 1; stroke-width: 0.5px; fill: rgb(61, 75, 137); fill-opacity: 1; stroke: rgb(255, 255, 255); stroke-opacity: 1;\"/></g><g class=\"point\"><path d=\"M0,279.64V276.73H91.87V279.64Z\" style=\"vector-effect: non-scaling-stroke; opacity: 1; stroke-width: 0.5px; fill: rgb(61, 75, 137); fill-opacity: 1; stroke: rgb(255, 255, 255); stroke-opacity: 1;\"/></g><g class=\"point\"><path d=\"M0,276V273.09H91.87V276Z\" style=\"vector-effect: non-scaling-stroke; opacity: 1; stroke-width: 0.5px; fill: rgb(61, 75, 137); fill-opacity: 1; stroke: rgb(255, 255, 255); stroke-opacity: 1;\"/></g><g class=\"point\"><path d=\"M0,272.36V269.45H91.87V272.36Z\" style=\"vector-effect: non-scaling-stroke; opacity: 1; stroke-width: 0.5px; fill: rgb(61, 75, 137); fill-opacity: 1; stroke: rgb(255, 255, 255); stroke-opacity: 1;\"/></g><g class=\"point\"><path d=\"M0,268.73V265.82H78.74V268.73Z\" style=\"vector-effect: non-scaling-stroke; opacity: 1; stroke-width: 0.5px; fill: rgb(65, 64, 132); fill-opacity: 1; stroke: rgb(255, 255, 255); stroke-opacity: 1;\"/></g><g class=\"point\"><path d=\"M0,265.09V262.18H78.74V265.09Z\" style=\"vector-effect: non-scaling-stroke; opacity: 1; stroke-width: 0.5px; fill: rgb(65, 64, 132); fill-opacity: 1; stroke: rgb(255, 255, 255); stroke-opacity: 1;\"/></g><g class=\"point\"><path d=\"M0,261.45V258.55H78.74V261.45Z\" style=\"vector-effect: non-scaling-stroke; opacity: 1; stroke-width: 0.5px; fill: rgb(65, 64, 132); fill-opacity: 1; stroke: rgb(255, 255, 255); stroke-opacity: 1;\"/></g><g class=\"point\"><path d=\"M0,257.82V254.91H78.74V257.82Z\" style=\"vector-effect: non-scaling-stroke; opacity: 1; stroke-width: 0.5px; fill: rgb(65, 64, 132); fill-opacity: 1; stroke: rgb(255, 255, 255); stroke-opacity: 1;\"/></g><g class=\"point\"><path d=\"M0,254.18V251.27H78.74V254.18Z\" style=\"vector-effect: non-scaling-stroke; opacity: 1; stroke-width: 0.5px; fill: rgb(65, 64, 132); fill-opacity: 1; stroke: rgb(255, 255, 255); stroke-opacity: 1;\"/></g><g class=\"point\"><path d=\"M0,250.55V247.64H78.74V250.55Z\" style=\"vector-effect: non-scaling-stroke; opacity: 1; stroke-width: 0.5px; fill: rgb(65, 64, 132); fill-opacity: 1; stroke: rgb(255, 255, 255); stroke-opacity: 1;\"/></g><g class=\"point\"><path d=\"M0,246.91V244H78.74V246.91Z\" style=\"vector-effect: non-scaling-stroke; opacity: 1; stroke-width: 0.5px; fill: rgb(65, 64, 132); fill-opacity: 1; stroke: rgb(255, 255, 255); stroke-opacity: 1;\"/></g><g class=\"point\"><path d=\"M0,243.27V240.36H78.74V243.27Z\" style=\"vector-effect: non-scaling-stroke; opacity: 1; stroke-width: 0.5px; fill: rgb(65, 64, 132); fill-opacity: 1; stroke: rgb(255, 255, 255); stroke-opacity: 1;\"/></g><g class=\"point\"><path d=\"M0,239.64V236.73H65.62V239.64Z\" style=\"vector-effect: non-scaling-stroke; opacity: 1; stroke-width: 0.5px; fill: rgb(68, 53, 127); fill-opacity: 1; stroke: rgb(255, 255, 255); stroke-opacity: 1;\"/></g><g class=\"point\"><path d=\"M0,236V233.09H65.62V236Z\" style=\"vector-effect: non-scaling-stroke; opacity: 1; stroke-width: 0.5px; fill: rgb(68, 53, 127); fill-opacity: 1; stroke: rgb(255, 255, 255); stroke-opacity: 1;\"/></g><g class=\"point\"><path d=\"M0,232.36V229.45H65.62V232.36Z\" style=\"vector-effect: non-scaling-stroke; opacity: 1; stroke-width: 0.5px; fill: rgb(68, 53, 127); fill-opacity: 1; stroke: rgb(255, 255, 255); stroke-opacity: 1;\"/></g><g class=\"point\"><path d=\"M0,228.73V225.82H65.62V228.73Z\" style=\"vector-effect: non-scaling-stroke; opacity: 1; stroke-width: 0.5px; fill: rgb(68, 53, 127); fill-opacity: 1; stroke: rgb(255, 255, 255); stroke-opacity: 1;\"/></g><g class=\"point\"><path d=\"M0,225.09V222.18H65.62V225.09Z\" style=\"vector-effect: non-scaling-stroke; opacity: 1; stroke-width: 0.5px; fill: rgb(68, 53, 127); fill-opacity: 1; stroke: rgb(255, 255, 255); stroke-opacity: 1;\"/></g><g class=\"point\"><path d=\"M0,221.45V218.55H65.62V221.45Z\" style=\"vector-effect: non-scaling-stroke; opacity: 1; stroke-width: 0.5px; fill: rgb(68, 53, 127); fill-opacity: 1; stroke: rgb(255, 255, 255); stroke-opacity: 1;\"/></g><g class=\"point\"><path d=\"M0,217.82V214.91H65.62V217.82Z\" style=\"vector-effect: non-scaling-stroke; opacity: 1; stroke-width: 0.5px; fill: rgb(68, 53, 127); fill-opacity: 1; stroke: rgb(255, 255, 255); stroke-opacity: 1;\"/></g><g class=\"point\"><path d=\"M0,214.18V211.27H65.62V214.18Z\" style=\"vector-effect: non-scaling-stroke; opacity: 1; stroke-width: 0.5px; fill: rgb(68, 53, 127); fill-opacity: 1; stroke: rgb(255, 255, 255); stroke-opacity: 1;\"/></g><g class=\"point\"><path d=\"M0,210.55V207.64H65.62V210.55Z\" style=\"vector-effect: non-scaling-stroke; opacity: 1; stroke-width: 0.5px; fill: rgb(68, 53, 127); fill-opacity: 1; stroke: rgb(255, 255, 255); stroke-opacity: 1;\"/></g><g class=\"point\"><path d=\"M0,206.91V204H65.62V206.91Z\" style=\"vector-effect: non-scaling-stroke; opacity: 1; stroke-width: 0.5px; fill: rgb(68, 53, 127); fill-opacity: 1; stroke: rgb(255, 255, 255); stroke-opacity: 1;\"/></g><g class=\"point\"><path d=\"M0,203.27V200.36H52.5V203.27Z\" style=\"vector-effect: non-scaling-stroke; opacity: 1; stroke-width: 0.5px; fill: rgb(72, 41, 121); fill-opacity: 1; stroke: rgb(255, 255, 255); stroke-opacity: 1;\"/></g><g class=\"point\"><path d=\"M0,199.64V196.73H52.5V199.64Z\" style=\"vector-effect: non-scaling-stroke; opacity: 1; stroke-width: 0.5px; fill: rgb(72, 41, 121); fill-opacity: 1; stroke: rgb(255, 255, 255); stroke-opacity: 1;\"/></g><g class=\"point\"><path d=\"M0,196V193.09H52.5V196Z\" style=\"vector-effect: non-scaling-stroke; opacity: 1; stroke-width: 0.5px; fill: rgb(72, 41, 121); fill-opacity: 1; stroke: rgb(255, 255, 255); stroke-opacity: 1;\"/></g><g class=\"point\"><path d=\"M0,192.36V189.45H52.5V192.36Z\" style=\"vector-effect: non-scaling-stroke; opacity: 1; stroke-width: 0.5px; fill: rgb(72, 41, 121); fill-opacity: 1; stroke: rgb(255, 255, 255); stroke-opacity: 1;\"/></g><g class=\"point\"><path d=\"M0,188.73V185.82H52.5V188.73Z\" style=\"vector-effect: non-scaling-stroke; opacity: 1; stroke-width: 0.5px; fill: rgb(72, 41, 121); fill-opacity: 1; stroke: rgb(255, 255, 255); stroke-opacity: 1;\"/></g><g class=\"point\"><path d=\"M0,185.09V182.18H52.5V185.09Z\" style=\"vector-effect: non-scaling-stroke; opacity: 1; stroke-width: 0.5px; fill: rgb(72, 41, 121); fill-opacity: 1; stroke: rgb(255, 255, 255); stroke-opacity: 1;\"/></g><g class=\"point\"><path d=\"M0,181.45V178.55H52.5V181.45Z\" style=\"vector-effect: non-scaling-stroke; opacity: 1; stroke-width: 0.5px; fill: rgb(72, 41, 121); fill-opacity: 1; stroke: rgb(255, 255, 255); stroke-opacity: 1;\"/></g><g class=\"point\"><path d=\"M0,177.82V174.91H52.5V177.82Z\" style=\"vector-effect: non-scaling-stroke; opacity: 1; stroke-width: 0.5px; fill: rgb(72, 41, 121); fill-opacity: 1; stroke: rgb(255, 255, 255); stroke-opacity: 1;\"/></g><g class=\"point\"><path d=\"M0,174.18V171.27H52.5V174.18Z\" style=\"vector-effect: non-scaling-stroke; opacity: 1; stroke-width: 0.5px; fill: rgb(72, 41, 121); fill-opacity: 1; stroke: rgb(255, 255, 255); stroke-opacity: 1;\"/></g><g class=\"point\"><path d=\"M0,170.55V167.64H52.5V170.55Z\" style=\"vector-effect: non-scaling-stroke; opacity: 1; stroke-width: 0.5px; fill: rgb(72, 41, 121); fill-opacity: 1; stroke: rgb(255, 255, 255); stroke-opacity: 1;\"/></g><g class=\"point\"><path d=\"M0,166.91V164H52.5V166.91Z\" style=\"vector-effect: non-scaling-stroke; opacity: 1; stroke-width: 0.5px; fill: rgb(72, 41, 121); fill-opacity: 1; stroke: rgb(255, 255, 255); stroke-opacity: 1;\"/></g><g class=\"point\"><path d=\"M0,163.27V160.36H52.5V163.27Z\" style=\"vector-effect: non-scaling-stroke; opacity: 1; stroke-width: 0.5px; fill: rgb(72, 41, 121); fill-opacity: 1; stroke: rgb(255, 255, 255); stroke-opacity: 1;\"/></g><g class=\"point\"><path d=\"M0,159.64V156.73H52.5V159.64Z\" style=\"vector-effect: non-scaling-stroke; opacity: 1; stroke-width: 0.5px; fill: rgb(72, 41, 121); fill-opacity: 1; stroke: rgb(255, 255, 255); stroke-opacity: 1;\"/></g><g class=\"point\"><path d=\"M0,156V153.09H52.5V156Z\" style=\"vector-effect: non-scaling-stroke; opacity: 1; stroke-width: 0.5px; fill: rgb(72, 41, 121); fill-opacity: 1; stroke: rgb(255, 255, 255); stroke-opacity: 1;\"/></g><g class=\"point\"><path d=\"M0,152.36V149.45H39.37V152.36Z\" style=\"vector-effect: non-scaling-stroke; opacity: 1; stroke-width: 0.5px; fill: rgb(71, 28, 109); fill-opacity: 1; stroke: rgb(255, 255, 255); stroke-opacity: 1;\"/></g><g class=\"point\"><path d=\"M0,148.73V145.82H39.37V148.73Z\" style=\"vector-effect: non-scaling-stroke; opacity: 1; stroke-width: 0.5px; fill: rgb(71, 28, 109); fill-opacity: 1; stroke: rgb(255, 255, 255); stroke-opacity: 1;\"/></g><g class=\"point\"><path d=\"M0,145.09V142.18H39.37V145.09Z\" style=\"vector-effect: non-scaling-stroke; opacity: 1; stroke-width: 0.5px; fill: rgb(71, 28, 109); fill-opacity: 1; stroke: rgb(255, 255, 255); stroke-opacity: 1;\"/></g><g class=\"point\"><path d=\"M0,141.45V138.55H39.37V141.45Z\" style=\"vector-effect: non-scaling-stroke; opacity: 1; stroke-width: 0.5px; fill: rgb(71, 28, 109); fill-opacity: 1; stroke: rgb(255, 255, 255); stroke-opacity: 1;\"/></g><g class=\"point\"><path d=\"M0,137.82V134.91H39.37V137.82Z\" style=\"vector-effect: non-scaling-stroke; opacity: 1; stroke-width: 0.5px; fill: rgb(71, 28, 109); fill-opacity: 1; stroke: rgb(255, 255, 255); stroke-opacity: 1;\"/></g><g class=\"point\"><path d=\"M0,134.18V131.27H39.37V134.18Z\" style=\"vector-effect: non-scaling-stroke; opacity: 1; stroke-width: 0.5px; fill: rgb(71, 28, 109); fill-opacity: 1; stroke: rgb(255, 255, 255); stroke-opacity: 1;\"/></g><g class=\"point\"><path d=\"M0,130.55V127.64H39.37V130.55Z\" style=\"vector-effect: non-scaling-stroke; opacity: 1; stroke-width: 0.5px; fill: rgb(71, 28, 109); fill-opacity: 1; stroke: rgb(255, 255, 255); stroke-opacity: 1;\"/></g><g class=\"point\"><path d=\"M0,126.91V124H39.37V126.91Z\" style=\"vector-effect: non-scaling-stroke; opacity: 1; stroke-width: 0.5px; fill: rgb(71, 28, 109); fill-opacity: 1; stroke: rgb(255, 255, 255); stroke-opacity: 1;\"/></g><g class=\"point\"><path d=\"M0,123.27V120.36H39.37V123.27Z\" style=\"vector-effect: non-scaling-stroke; opacity: 1; stroke-width: 0.5px; fill: rgb(71, 28, 109); fill-opacity: 1; stroke: rgb(255, 255, 255); stroke-opacity: 1;\"/></g><g class=\"point\"><path d=\"M0,119.64V116.73H26.25V119.64Z\" style=\"vector-effect: non-scaling-stroke; opacity: 1; stroke-width: 0.5px; fill: rgb(69, 15, 96); fill-opacity: 1; stroke: rgb(255, 255, 255); stroke-opacity: 1;\"/></g><g class=\"point\"><path d=\"M0,116V113.09H26.25V116Z\" style=\"vector-effect: non-scaling-stroke; opacity: 1; stroke-width: 0.5px; fill: rgb(69, 15, 96); fill-opacity: 1; stroke: rgb(255, 255, 255); stroke-opacity: 1;\"/></g><g class=\"point\"><path d=\"M0,112.36V109.45H26.25V112.36Z\" style=\"vector-effect: non-scaling-stroke; opacity: 1; stroke-width: 0.5px; fill: rgb(69, 15, 96); fill-opacity: 1; stroke: rgb(255, 255, 255); stroke-opacity: 1;\"/></g><g class=\"point\"><path d=\"M0,108.73V105.82H26.25V108.73Z\" style=\"vector-effect: non-scaling-stroke; opacity: 1; stroke-width: 0.5px; fill: rgb(69, 15, 96); fill-opacity: 1; stroke: rgb(255, 255, 255); stroke-opacity: 1;\"/></g><g class=\"point\"><path d=\"M0,105.09V102.18H26.25V105.09Z\" style=\"vector-effect: non-scaling-stroke; opacity: 1; stroke-width: 0.5px; fill: rgb(69, 15, 96); fill-opacity: 1; stroke: rgb(255, 255, 255); stroke-opacity: 1;\"/></g><g class=\"point\"><path d=\"M0,101.45V98.55H26.25V101.45Z\" style=\"vector-effect: non-scaling-stroke; opacity: 1; stroke-width: 0.5px; fill: rgb(69, 15, 96); fill-opacity: 1; stroke: rgb(255, 255, 255); stroke-opacity: 1;\"/></g><g class=\"point\"><path d=\"M0,97.82V94.91H26.25V97.82Z\" style=\"vector-effect: non-scaling-stroke; opacity: 1; stroke-width: 0.5px; fill: rgb(69, 15, 96); fill-opacity: 1; stroke: rgb(255, 255, 255); stroke-opacity: 1;\"/></g><g class=\"point\"><path d=\"M0,94.18V91.27H26.25V94.18Z\" style=\"vector-effect: non-scaling-stroke; opacity: 1; stroke-width: 0.5px; fill: rgb(69, 15, 96); fill-opacity: 1; stroke: rgb(255, 255, 255); stroke-opacity: 1;\"/></g><g class=\"point\"><path d=\"M0,90.55V87.64H26.25V90.55Z\" style=\"vector-effect: non-scaling-stroke; opacity: 1; stroke-width: 0.5px; fill: rgb(69, 15, 96); fill-opacity: 1; stroke: rgb(255, 255, 255); stroke-opacity: 1;\"/></g><g class=\"point\"><path d=\"M0,86.91V84H26.25V86.91Z\" style=\"vector-effect: non-scaling-stroke; opacity: 1; stroke-width: 0.5px; fill: rgb(69, 15, 96); fill-opacity: 1; stroke: rgb(255, 255, 255); stroke-opacity: 1;\"/></g><g class=\"point\"><path d=\"M0,83.27V80.36H26.25V83.27Z\" style=\"vector-effect: non-scaling-stroke; opacity: 1; stroke-width: 0.5px; fill: rgb(69, 15, 96); fill-opacity: 1; stroke: rgb(255, 255, 255); stroke-opacity: 1;\"/></g><g class=\"point\"><path d=\"M0,79.64V76.73H26.25V79.64Z\" style=\"vector-effect: non-scaling-stroke; opacity: 1; stroke-width: 0.5px; fill: rgb(69, 15, 96); fill-opacity: 1; stroke: rgb(255, 255, 255); stroke-opacity: 1;\"/></g><g class=\"point\"><path d=\"M0,76V73.09H26.25V76Z\" style=\"vector-effect: non-scaling-stroke; opacity: 1; stroke-width: 0.5px; fill: rgb(69, 15, 96); fill-opacity: 1; stroke: rgb(255, 255, 255); stroke-opacity: 1;\"/></g><g class=\"point\"><path d=\"M0,72.36V69.45H13.12V72.36Z\" style=\"vector-effect: non-scaling-stroke; opacity: 1; stroke-width: 0.5px; fill: rgb(68, 1, 84); fill-opacity: 1; stroke: rgb(255, 255, 255); stroke-opacity: 1;\"/></g><g class=\"point\"><path d=\"M0,68.73V65.82H13.12V68.73Z\" style=\"vector-effect: non-scaling-stroke; opacity: 1; stroke-width: 0.5px; fill: rgb(68, 1, 84); fill-opacity: 1; stroke: rgb(255, 255, 255); stroke-opacity: 1;\"/></g><g class=\"point\"><path d=\"M0,65.09V62.18H13.12V65.09Z\" style=\"vector-effect: non-scaling-stroke; opacity: 1; stroke-width: 0.5px; fill: rgb(68, 1, 84); fill-opacity: 1; stroke: rgb(255, 255, 255); stroke-opacity: 1;\"/></g><g class=\"point\"><path d=\"M0,61.45V58.55H13.12V61.45Z\" style=\"vector-effect: non-scaling-stroke; opacity: 1; stroke-width: 0.5px; fill: rgb(68, 1, 84); fill-opacity: 1; stroke: rgb(255, 255, 255); stroke-opacity: 1;\"/></g><g class=\"point\"><path d=\"M0,57.82V54.91H13.12V57.82Z\" style=\"vector-effect: non-scaling-stroke; opacity: 1; stroke-width: 0.5px; fill: rgb(68, 1, 84); fill-opacity: 1; stroke: rgb(255, 255, 255); stroke-opacity: 1;\"/></g><g class=\"point\"><path d=\"M0,54.18V51.27H13.12V54.18Z\" style=\"vector-effect: non-scaling-stroke; opacity: 1; stroke-width: 0.5px; fill: rgb(68, 1, 84); fill-opacity: 1; stroke: rgb(255, 255, 255); stroke-opacity: 1;\"/></g><g class=\"point\"><path d=\"M0,50.55V47.64H13.12V50.55Z\" style=\"vector-effect: non-scaling-stroke; opacity: 1; stroke-width: 0.5px; fill: rgb(68, 1, 84); fill-opacity: 1; stroke: rgb(255, 255, 255); stroke-opacity: 1;\"/></g><g class=\"point\"><path d=\"M0,46.91V44H13.12V46.91Z\" style=\"vector-effect: non-scaling-stroke; opacity: 1; stroke-width: 0.5px; fill: rgb(68, 1, 84); fill-opacity: 1; stroke: rgb(255, 255, 255); stroke-opacity: 1;\"/></g><g class=\"point\"><path d=\"M0,43.27V40.36H13.12V43.27Z\" style=\"vector-effect: non-scaling-stroke; opacity: 1; stroke-width: 0.5px; fill: rgb(68, 1, 84); fill-opacity: 1; stroke: rgb(255, 255, 255); stroke-opacity: 1;\"/></g><g class=\"point\"><path d=\"M0,39.64V36.73H13.12V39.64Z\" style=\"vector-effect: non-scaling-stroke; opacity: 1; stroke-width: 0.5px; fill: rgb(68, 1, 84); fill-opacity: 1; stroke: rgb(255, 255, 255); stroke-opacity: 1;\"/></g><g class=\"point\"><path d=\"M0,36V33.09H13.12V36Z\" style=\"vector-effect: non-scaling-stroke; opacity: 1; stroke-width: 0.5px; fill: rgb(68, 1, 84); fill-opacity: 1; stroke: rgb(255, 255, 255); stroke-opacity: 1;\"/></g><g class=\"point\"><path d=\"M0,32.36V29.45H13.12V32.36Z\" style=\"vector-effect: non-scaling-stroke; opacity: 1; stroke-width: 0.5px; fill: rgb(68, 1, 84); fill-opacity: 1; stroke: rgb(255, 255, 255); stroke-opacity: 1;\"/></g><g class=\"point\"><path d=\"M0,28.73V25.82H13.12V28.73Z\" style=\"vector-effect: non-scaling-stroke; opacity: 1; stroke-width: 0.5px; fill: rgb(68, 1, 84); fill-opacity: 1; stroke: rgb(255, 255, 255); stroke-opacity: 1;\"/></g><g class=\"point\"><path d=\"M0,25.09V22.18H13.12V25.09Z\" style=\"vector-effect: non-scaling-stroke; opacity: 1; stroke-width: 0.5px; fill: rgb(68, 1, 84); fill-opacity: 1; stroke: rgb(255, 255, 255); stroke-opacity: 1;\"/></g><g class=\"point\"><path d=\"M0,21.45V18.55H13.12V21.45Z\" style=\"vector-effect: non-scaling-stroke; opacity: 1; stroke-width: 0.5px; fill: rgb(68, 1, 84); fill-opacity: 1; stroke: rgb(255, 255, 255); stroke-opacity: 1;\"/></g><g class=\"point\"><path d=\"M0,17.82V14.91H13.12V17.82Z\" style=\"vector-effect: non-scaling-stroke; opacity: 1; stroke-width: 0.5px; fill: rgb(68, 1, 84); fill-opacity: 1; stroke: rgb(255, 255, 255); stroke-opacity: 1;\"/></g><g class=\"point\"><path d=\"M0,14.18V11.27H13.12V14.18Z\" style=\"vector-effect: non-scaling-stroke; opacity: 1; stroke-width: 0.5px; fill: rgb(68, 1, 84); fill-opacity: 1; stroke: rgb(255, 255, 255); stroke-opacity: 1;\"/></g><g class=\"point\"><path d=\"M0,10.55V7.64H13.12V10.55Z\" style=\"vector-effect: non-scaling-stroke; opacity: 1; stroke-width: 0.5px; fill: rgb(68, 1, 84); fill-opacity: 1; stroke: rgb(255, 255, 255); stroke-opacity: 1;\"/></g><g class=\"point\"><path d=\"M0,6.91V4H13.12V6.91Z\" style=\"vector-effect: non-scaling-stroke; opacity: 1; stroke-width: 0.5px; fill: rgb(68, 1, 84); fill-opacity: 1; stroke: rgb(255, 255, 255); stroke-opacity: 1;\"/></g><g class=\"point\"><path d=\"M0,3.27V0.36H13.12V3.27Z\" style=\"vector-effect: non-scaling-stroke; opacity: 1; stroke-width: 0.5px; fill: rgb(68, 1, 84); fill-opacity: 1; stroke: rgb(255, 255, 255); stroke-opacity: 1;\"/></g></g></g></g></g><g class=\"overplot\"/><path class=\"xlines-above crisp\" d=\"M233,420.5H607\" style=\"fill: none; stroke-width: 1px; stroke: rgb(36, 36, 36); stroke-opacity: 1;\"/><path class=\"ylines-above crisp\" d=\"M233.5,60V420\" style=\"fill: none; stroke-width: 1px; stroke: rgb(36, 36, 36); stroke-opacity: 1;\"/><g class=\"overlines-above\"/><g class=\"xaxislayer-above\"><path class=\"xtick ticks crisp\" d=\"M0,421v5\" transform=\"translate(234,0)\" style=\"stroke: rgb(68, 68, 68); stroke-opacity: 1; stroke-width: 1px;\"/><path class=\"xtick ticks crisp\" d=\"M0,421v5\" transform=\"translate(365.24,0)\" style=\"stroke: rgb(68, 68, 68); stroke-opacity: 1; stroke-width: 1px;\"/><path class=\"xtick ticks crisp\" d=\"M0,421v5\" transform=\"translate(496.48,0)\" style=\"stroke: rgb(68, 68, 68); stroke-opacity: 1; stroke-width: 1px;\"/><g class=\"xtick\"><text text-anchor=\"middle\" x=\"0\" y=\"440.4\" transform=\"translate(234,0)\" style=\"font-family: 'Open Sans', verdana, arial, sans-serif; font-size: 12px; fill: rgb(36, 36, 36); fill-opacity: 1; white-space: pre; opacity: 1;\">0</text></g><g class=\"xtick\"><text text-anchor=\"middle\" x=\"0\" y=\"440.4\" style=\"font-family: 'Open Sans', verdana, arial, sans-serif; font-size: 12px; fill: rgb(36, 36, 36); fill-opacity: 1; white-space: pre; opacity: 1;\" transform=\"translate(365.24,0)\">10</text></g><g class=\"xtick\"><text text-anchor=\"middle\" x=\"0\" y=\"440.4\" style=\"font-family: 'Open Sans', verdana, arial, sans-serif; font-size: 12px; fill: rgb(36, 36, 36); fill-opacity: 1; white-space: pre; opacity: 1;\" transform=\"translate(496.48,0)\">20</text></g></g><g class=\"yaxislayer-above\"><path class=\"ytick ticks crisp\" d=\"M233,0h-5\" transform=\"translate(0,418.18)\" style=\"stroke: rgb(68, 68, 68); stroke-opacity: 1; stroke-width: 1px;\"/><path class=\"ytick ticks crisp\" d=\"M233,0h-5\" transform=\"translate(0,403.64)\" style=\"stroke: rgb(68, 68, 68); stroke-opacity: 1; stroke-width: 1px;\"/><path class=\"ytick ticks crisp\" d=\"M233,0h-5\" transform=\"translate(0,389.09)\" style=\"stroke: rgb(68, 68, 68); stroke-opacity: 1; stroke-width: 1px;\"/><path class=\"ytick ticks crisp\" d=\"M233,0h-5\" transform=\"translate(0,374.55)\" style=\"stroke: rgb(68, 68, 68); stroke-opacity: 1; stroke-width: 1px;\"/><path class=\"ytick ticks crisp\" d=\"M233,0h-5\" transform=\"translate(0,360)\" style=\"stroke: rgb(68, 68, 68); stroke-opacity: 1; stroke-width: 1px;\"/><path class=\"ytick ticks crisp\" d=\"M233,0h-5\" transform=\"translate(0,345.45)\" style=\"stroke: rgb(68, 68, 68); stroke-opacity: 1; stroke-width: 1px;\"/><path class=\"ytick ticks crisp\" d=\"M233,0h-5\" transform=\"translate(0,330.91)\" style=\"stroke: rgb(68, 68, 68); stroke-opacity: 1; stroke-width: 1px;\"/><path class=\"ytick ticks crisp\" d=\"M233,0h-5\" transform=\"translate(0,316.36)\" style=\"stroke: rgb(68, 68, 68); stroke-opacity: 1; stroke-width: 1px;\"/><path class=\"ytick ticks crisp\" d=\"M233,0h-5\" transform=\"translate(0,301.82)\" style=\"stroke: rgb(68, 68, 68); stroke-opacity: 1; stroke-width: 1px;\"/><path class=\"ytick ticks crisp\" d=\"M233,0h-5\" transform=\"translate(0,287.27)\" style=\"stroke: rgb(68, 68, 68); stroke-opacity: 1; stroke-width: 1px;\"/><path class=\"ytick ticks crisp\" d=\"M233,0h-5\" transform=\"translate(0,272.73)\" style=\"stroke: rgb(68, 68, 68); stroke-opacity: 1; stroke-width: 1px;\"/><path class=\"ytick ticks crisp\" d=\"M233,0h-5\" transform=\"translate(0,258.18)\" style=\"stroke: rgb(68, 68, 68); stroke-opacity: 1; stroke-width: 1px;\"/><path class=\"ytick ticks crisp\" d=\"M233,0h-5\" transform=\"translate(0,243.64)\" style=\"stroke: rgb(68, 68, 68); stroke-opacity: 1; stroke-width: 1px;\"/><path class=\"ytick ticks crisp\" d=\"M233,0h-5\" transform=\"translate(0,229.09)\" style=\"stroke: rgb(68, 68, 68); stroke-opacity: 1; stroke-width: 1px;\"/><path class=\"ytick ticks crisp\" d=\"M233,0h-5\" transform=\"translate(0,214.55)\" style=\"stroke: rgb(68, 68, 68); stroke-opacity: 1; stroke-width: 1px;\"/><path class=\"ytick ticks crisp\" d=\"M233,0h-5\" transform=\"translate(0,200)\" style=\"stroke: rgb(68, 68, 68); stroke-opacity: 1; stroke-width: 1px;\"/><path class=\"ytick ticks crisp\" d=\"M233,0h-5\" transform=\"translate(0,185.45)\" style=\"stroke: rgb(68, 68, 68); stroke-opacity: 1; stroke-width: 1px;\"/><path class=\"ytick ticks crisp\" d=\"M233,0h-5\" transform=\"translate(0,170.91)\" style=\"stroke: rgb(68, 68, 68); stroke-opacity: 1; stroke-width: 1px;\"/><path class=\"ytick ticks crisp\" d=\"M233,0h-5\" transform=\"translate(0,156.36)\" style=\"stroke: rgb(68, 68, 68); stroke-opacity: 1; stroke-width: 1px;\"/><path class=\"ytick ticks crisp\" d=\"M233,0h-5\" transform=\"translate(0,141.82)\" style=\"stroke: rgb(68, 68, 68); stroke-opacity: 1; stroke-width: 1px;\"/><path class=\"ytick ticks crisp\" d=\"M233,0h-5\" transform=\"translate(0,127.27)\" style=\"stroke: rgb(68, 68, 68); stroke-opacity: 1; stroke-width: 1px;\"/><path class=\"ytick ticks crisp\" d=\"M233,0h-5\" transform=\"translate(0,112.72999999999999)\" style=\"stroke: rgb(68, 68, 68); stroke-opacity: 1; stroke-width: 1px;\"/><path class=\"ytick ticks crisp\" d=\"M233,0h-5\" transform=\"translate(0,98.18)\" style=\"stroke: rgb(68, 68, 68); stroke-opacity: 1; stroke-width: 1px;\"/><path class=\"ytick ticks crisp\" d=\"M233,0h-5\" transform=\"translate(0,83.64)\" style=\"stroke: rgb(68, 68, 68); stroke-opacity: 1; stroke-width: 1px;\"/><path class=\"ytick ticks crisp\" d=\"M233,0h-5\" transform=\"translate(0,69.09)\" style=\"stroke: rgb(68, 68, 68); stroke-opacity: 1; stroke-width: 1px;\"/><g class=\"ytick\"><text text-anchor=\"end\" x=\"225.6\" y=\"4.199999999999999\" transform=\"translate(0,418.18)\" style=\"font-family: 'Open Sans', verdana, arial, sans-serif; font-size: 12px; fill: rgb(36, 36, 36); fill-opacity: 1; white-space: pre; opacity: 1;\">Таганский район</text></g><g class=\"ytick\"><text text-anchor=\"end\" x=\"225.6\" y=\"4.199999999999999\" transform=\"translate(0,403.64)\" style=\"font-family: 'Open Sans', verdana, arial, sans-serif; font-size: 12px; fill: rgb(36, 36, 36); fill-opacity: 1; white-space: pre; opacity: 1;\">Пресненский район</text></g><g class=\"ytick\"><text text-anchor=\"end\" x=\"225.6\" y=\"4.199999999999999\" transform=\"translate(0,389.09)\" style=\"font-family: 'Open Sans', verdana, arial, sans-serif; font-size: 12px; fill: rgb(36, 36, 36); fill-opacity: 1; white-space: pre; opacity: 1;\">Район Сокольники</text></g><g class=\"ytick\"><text text-anchor=\"end\" x=\"225.6\" y=\"4.199999999999999\" transform=\"translate(0,374.55)\" style=\"font-family: 'Open Sans', verdana, arial, sans-serif; font-size: 12px; fill: rgb(36, 36, 36); fill-opacity: 1; white-space: pre; opacity: 1;\">Район Соколиная Гора</text></g><g class=\"ytick\"><text text-anchor=\"end\" x=\"225.6\" y=\"4.199999999999999\" transform=\"translate(0,360)\" style=\"font-family: 'Open Sans', verdana, arial, sans-serif; font-size: 12px; fill: rgb(36, 36, 36); fill-opacity: 1; white-space: pre; opacity: 1;\">Нижегородский район</text></g><g class=\"ytick\"><text text-anchor=\"end\" x=\"225.6\" y=\"4.199999999999999\" transform=\"translate(0,345.45)\" style=\"font-family: 'Open Sans', verdana, arial, sans-serif; font-size: 12px; fill: rgb(36, 36, 36); fill-opacity: 1; white-space: pre; opacity: 1;\">Район Аэропорт</text></g><g class=\"ytick\"><text text-anchor=\"end\" x=\"225.6\" y=\"4.199999999999999\" transform=\"translate(0,330.91)\" style=\"font-family: 'Open Sans', verdana, arial, sans-serif; font-size: 12px; fill: rgb(36, 36, 36); fill-opacity: 1; white-space: pre; opacity: 1;\">Лосиноостровский район</text></g><g class=\"ytick\"><text text-anchor=\"end\" x=\"225.6\" y=\"4.199999999999999\" transform=\"translate(0,316.36)\" style=\"font-family: 'Open Sans', verdana, arial, sans-serif; font-size: 12px; fill: rgb(36, 36, 36); fill-opacity: 1; white-space: pre; opacity: 1;\">Донской район</text></g><g class=\"ytick\"><text text-anchor=\"end\" x=\"225.6\" y=\"4.199999999999999\" transform=\"translate(0,301.82)\" style=\"font-family: 'Open Sans', verdana, arial, sans-serif; font-size: 12px; fill: rgb(36, 36, 36); fill-opacity: 1; white-space: pre; opacity: 1;\">Район Солнцево</text></g><g class=\"ytick\"><text text-anchor=\"end\" x=\"225.6\" y=\"4.199999999999999\" transform=\"translate(0,287.27)\" style=\"font-family: 'Open Sans', verdana, arial, sans-serif; font-size: 12px; fill: rgb(36, 36, 36); fill-opacity: 1; white-space: pre; opacity: 1;\">Район Ясенево</text></g><g class=\"ytick\"><text text-anchor=\"end\" x=\"225.6\" y=\"4.199999999999999\" transform=\"translate(0,272.73)\" style=\"font-family: 'Open Sans', verdana, arial, sans-serif; font-size: 12px; fill: rgb(36, 36, 36); fill-opacity: 1; white-space: pre; opacity: 1;\">Район Выхино-Жулебино</text></g><g class=\"ytick\"><text text-anchor=\"end\" x=\"225.6\" y=\"4.199999999999999\" transform=\"translate(0,258.18)\" style=\"font-family: 'Open Sans', verdana, arial, sans-serif; font-size: 12px; fill: rgb(36, 36, 36); fill-opacity: 1; white-space: pre; opacity: 1;\">Район Митино</text></g><g class=\"ytick\"><text text-anchor=\"end\" x=\"225.6\" y=\"4.199999999999999\" transform=\"translate(0,243.64)\" style=\"font-family: 'Open Sans', verdana, arial, sans-serif; font-size: 12px; fill: rgb(36, 36, 36); fill-opacity: 1; white-space: pre; opacity: 1;\">Район Печатники</text></g><g class=\"ytick\"><text text-anchor=\"end\" x=\"225.6\" y=\"4.199999999999999\" transform=\"translate(0,229.09)\" style=\"font-family: 'Open Sans', verdana, arial, sans-serif; font-size: 12px; fill: rgb(36, 36, 36); fill-opacity: 1; white-space: pre; opacity: 1;\">Район Коптево</text></g><g class=\"ytick\"><text text-anchor=\"end\" x=\"225.6\" y=\"4.199999999999999\" transform=\"translate(0,214.55)\" style=\"font-family: 'Open Sans', verdana, arial, sans-serif; font-size: 12px; fill: rgb(36, 36, 36); fill-opacity: 1; white-space: pre; opacity: 1;\">Район Покровское-Стрешнево</text></g><g class=\"ytick\"><text text-anchor=\"end\" x=\"225.6\" y=\"4.199999999999999\" transform=\"translate(0,200)\" style=\"font-family: 'Open Sans', verdana, arial, sans-serif; font-size: 12px; fill: rgb(36, 36, 36); fill-opacity: 1; white-space: pre; opacity: 1;\">Район Раменки</text></g><g class=\"ytick\"><text text-anchor=\"end\" x=\"225.6\" y=\"4.199999999999999\" transform=\"translate(0,185.45)\" style=\"font-family: 'Open Sans', verdana, arial, sans-serif; font-size: 12px; fill: rgb(36, 36, 36); fill-opacity: 1; white-space: pre; opacity: 1;\">Останкинский район</text></g><g class=\"ytick\"><text text-anchor=\"end\" x=\"225.6\" y=\"4.199999999999999\" transform=\"translate(0,170.91)\" style=\"font-family: 'Open Sans', verdana, arial, sans-serif; font-size: 12px; fill: rgb(36, 36, 36); fill-opacity: 1; white-space: pre; opacity: 1;\">Район Северное Бутово</text></g><g class=\"ytick\"><text text-anchor=\"end\" x=\"225.6\" y=\"4.199999999999999\" transform=\"translate(0,156.36)\" style=\"font-family: 'Open Sans', verdana, arial, sans-serif; font-size: 12px; fill: rgb(36, 36, 36); fill-opacity: 1; white-space: pre; opacity: 1;\">Район Фили-Давыдково</text></g><g class=\"ytick\"><text text-anchor=\"end\" x=\"225.6\" y=\"4.199999999999999\" transform=\"translate(0,141.82)\" style=\"font-family: 'Open Sans', verdana, arial, sans-serif; font-size: 12px; fill: rgb(36, 36, 36); fill-opacity: 1; white-space: pre; opacity: 1;\">Район Северный</text></g><g class=\"ytick\"><text text-anchor=\"end\" x=\"225.6\" y=\"4.199999999999999\" transform=\"translate(0,127.27)\" style=\"font-family: 'Open Sans', verdana, arial, sans-serif; font-size: 12px; fill: rgb(36, 36, 36); fill-opacity: 1; white-space: pre; opacity: 1;\">Район Левобережный</text></g><g class=\"ytick\"><text text-anchor=\"end\" x=\"225.6\" y=\"4.199999999999999\" transform=\"translate(0,112.72999999999999)\" style=\"font-family: 'Open Sans', verdana, arial, sans-serif; font-size: 12px; fill: rgb(36, 36, 36); fill-opacity: 1; white-space: pre; opacity: 1;\">Район Западное Дегунино</text></g><g class=\"ytick\"><text text-anchor=\"end\" x=\"225.6\" y=\"4.199999999999999\" transform=\"translate(0,98.18)\" style=\"font-family: 'Open Sans', verdana, arial, sans-serif; font-size: 12px; fill: rgb(36, 36, 36); fill-opacity: 1; white-space: pre; opacity: 1;\">Район Царицыно</text></g><g class=\"ytick\"><text text-anchor=\"end\" x=\"225.6\" y=\"4.199999999999999\" transform=\"translate(0,83.64)\" style=\"font-family: 'Open Sans', verdana, arial, sans-serif; font-size: 12px; fill: rgb(36, 36, 36); fill-opacity: 1; white-space: pre; opacity: 1;\">Район Строгино</text></g><g class=\"ytick\"><text text-anchor=\"end\" x=\"225.6\" y=\"4.199999999999999\" transform=\"translate(0,69.09)\" style=\"font-family: 'Open Sans', verdana, arial, sans-serif; font-size: 12px; fill: rgb(36, 36, 36); fill-opacity: 1; white-space: pre; opacity: 1;\">Район Метрогородок</text></g></g><g class=\"overaxes-above\"/></g></g><g class=\"polarlayer\"/><g class=\"smithlayer\"/><g class=\"ternarylayer\"/><g class=\"geolayer\"/><g class=\"funnelarealayer\"/><g class=\"pielayer\"/><g class=\"iciclelayer\"/><g class=\"treemaplayer\"/><g class=\"sunburstlayer\"/><g class=\"glimages\"/><defs id=\"topdefs-541506\"><g class=\"clips\"/></defs><g class=\"layer-above\"><g class=\"imagelayer\"/><g class=\"shapelayer\"/></g><g class=\"infolayer\"><g class=\"cbcoloraxis colorbar\" transform=\"translate(234,60)\"><rect class=\"cbbg\" x=\"379.5\" y=\"0\" width=\"74.03125\" height=\"361\" style=\"fill: rgb(0, 0, 0); fill-opacity: 0; stroke: rgb(68, 68, 68); stroke-opacity: 1; stroke-width: 0;\"/><g class=\"cbfills\" transform=\"translate(0,32)\"><rect class=\"cbfill\" x=\"390\" y=\"0\" width=\"30\" height=\"318\" style=\"fill: url('#g541506-cbcoloraxis');\"/></g><g class=\"cblines\" transform=\"translate(0,32)\"/><g class=\"cbaxis crisp\" transform=\"translate(0,-60)\"><path class=\"ycbcoloraxistick ticks crisp\" d=\"M420,0h5\" transform=\"translate(0,361.08)\" style=\"stroke: rgb(36, 36, 36); stroke-opacity: 1; stroke-width: 1px;\"/><path class=\"ycbcoloraxistick ticks crisp\" d=\"M420,0h5\" transform=\"translate(0,299.91999999999996)\" style=\"stroke: rgb(36, 36, 36); stroke-opacity: 1; stroke-width: 1px;\"/><path class=\"ycbcoloraxistick ticks crisp\" d=\"M420,0h5\" transform=\"translate(0,238.77)\" style=\"stroke: rgb(36, 36, 36); stroke-opacity: 1; stroke-width: 1px;\"/><path class=\"ycbcoloraxistick ticks crisp\" d=\"M420,0h5\" transform=\"translate(0,177.62)\" style=\"stroke: rgb(36, 36, 36); stroke-opacity: 1; stroke-width: 1px;\"/><path class=\"ycbcoloraxistick ticks crisp\" d=\"M420,0h5\" transform=\"translate(0,116.46000000000001)\" style=\"stroke: rgb(36, 36, 36); stroke-opacity: 1; stroke-width: 1px;\"/><g class=\"ycbcoloraxistick\"><text text-anchor=\"start\" x=\"427.4\" y=\"4.199999999999999\" transform=\"translate(0,361.08)\" style=\"font-family: 'Open Sans', verdana, arial, sans-serif; font-size: 12px; fill: rgb(36, 36, 36); fill-opacity: 1; white-space: pre; opacity: 1;\">5</text></g><g class=\"ycbcoloraxistick\"><text text-anchor=\"start\" x=\"427.4\" y=\"4.199999999999999\" style=\"font-family: 'Open Sans', verdana, arial, sans-serif; font-size: 12px; fill: rgb(36, 36, 36); fill-opacity: 1; white-space: pre; opacity: 1;\" transform=\"translate(0,299.91999999999996)\">10</text></g><g class=\"ycbcoloraxistick\"><text text-anchor=\"start\" x=\"427.4\" y=\"4.199999999999999\" style=\"font-family: 'Open Sans', verdana, arial, sans-serif; font-size: 12px; fill: rgb(36, 36, 36); fill-opacity: 1; white-space: pre; opacity: 1;\" transform=\"translate(0,238.77)\">15</text></g><g class=\"ycbcoloraxistick\"><text text-anchor=\"start\" x=\"427.4\" y=\"4.199999999999999\" style=\"font-family: 'Open Sans', verdana, arial, sans-serif; font-size: 12px; fill: rgb(36, 36, 36); fill-opacity: 1; white-space: pre; opacity: 1;\" transform=\"translate(0,177.62)\">20</text></g><g class=\"ycbcoloraxistick\"><text text-anchor=\"start\" x=\"427.4\" y=\"4.199999999999999\" style=\"font-family: 'Open Sans', verdana, arial, sans-serif; font-size: 12px; fill: rgb(36, 36, 36); fill-opacity: 1; white-space: pre; opacity: 1;\" transform=\"translate(0,116.46000000000001)\">25</text></g></g><g class=\"cbtitleunshift\" transform=\"translate(-234,-60)\"><g class=\"cbtitle\" transform=\"translate(-0.5,-0.5)\"><text class=\"ycbcoloraxistitle\" x=\"624.46\" y=\"83.5\" text-anchor=\"start\" style=\"font-family: 'Open Sans', verdana, arial, sans-serif; font-size: 14px; fill: rgb(36, 36, 36); opacity: 1; font-weight: normal; white-space: pre;\">street</text></g></g><rect class=\"cboutline\" x=\"390\" y=\"32\" width=\"30\" height=\"318\" style=\"stroke: rgb(68, 68, 68); stroke-opacity: 1; fill: none; stroke-width: 1;\"/></g><g class=\"g-gtitle\"><text class=\"gtitle\" x=\"35\" y=\"30\" text-anchor=\"start\" dy=\"0em\" style=\"font-family: 'Open Sans', verdana, arial, sans-serif; font-size: 17px; fill: rgb(36, 36, 36); opacity: 1; font-weight: normal; white-space: pre;\">Непопулярные места</text></g><g class=\"g-xtitle\"><text class=\"xtitle\" x=\"420.5\" y=\"468.20625\" text-anchor=\"middle\" style=\"font-family: 'Open Sans', verdana, arial, sans-serif; font-size: 14px; fill: rgb(36, 36, 36); opacity: 1; font-weight: normal; white-space: pre;\">количество улиц с одним объектом</text></g><g class=\"g-ytitle\" transform=\"translate(1.8623046875,0)\"><text class=\"ytitle\" transform=\"rotate(-90,12.137499999999989,240)\" x=\"12.137499999999989\" y=\"240\" text-anchor=\"middle\" style=\"font-family: 'Open Sans', verdana, arial, sans-serif; font-size: 14px; fill: rgb(36, 36, 36); opacity: 1; font-weight: normal; white-space: pre;\">Районы</text></g></g></svg>"
      ]
     },
     "metadata": {},
     "output_type": "display_data"
    }
   ],
   "source": [
    "fig = px.bar(loser, x='street', y='area',\n",
    "             color='street',\n",
    "             template = 'simple_white')\n",
    "\n",
    "fig.update_layout(title_text='Непопулярные места',\n",
    "                  xaxis_title=\"количество улиц с одним объектом\",\n",
    "                  yaxis_title=\"Районы\")\n",
    "fig.update_traces(textposition='outside',\n",
    "               # showlegend = False,\n",
    "                 hovertemplate ='%{y} <br> Количество улиц с одним объектом: %{x}')\n",
    "fig.show(renderer=\"svg\")"
   ]
  },
  {
   "cell_type": "markdown",
   "metadata": {
    "scrolled": true
   },
   "source": [
    "### Размеры заведений расположеных в Топ-10 улиц\n",
    "\n",
    "Посмотрим на распределение количества посадочных мест для улиц с большим количеством объектов общественного питания. Поищем закономерности."
   ]
  },
  {
   "cell_type": "code",
   "execution_count": 32,
   "metadata": {
    "scrolled": false
   },
   "outputs": [
    {
     "data": {
      "text/html": [
       "<div>\n",
       "<style scoped>\n",
       "    .dataframe tbody tr th:only-of-type {\n",
       "        vertical-align: middle;\n",
       "    }\n",
       "\n",
       "    .dataframe tbody tr th {\n",
       "        vertical-align: top;\n",
       "    }\n",
       "\n",
       "    .dataframe thead th {\n",
       "        text-align: right;\n",
       "    }\n",
       "</style>\n",
       "<table border=\"1\" class=\"dataframe\">\n",
       "  <thead>\n",
       "    <tr style=\"text-align: right;\">\n",
       "      <th></th>\n",
       "      <th>id</th>\n",
       "      <th>object_name</th>\n",
       "      <th>chain</th>\n",
       "      <th>object_type</th>\n",
       "      <th>address</th>\n",
       "      <th>number</th>\n",
       "      <th>street</th>\n",
       "    </tr>\n",
       "  </thead>\n",
       "  <tbody>\n",
       "    <tr>\n",
       "      <th>151</th>\n",
       "      <td>155973</td>\n",
       "      <td>кафе «андерсон»</td>\n",
       "      <td>True</td>\n",
       "      <td>кафе</td>\n",
       "      <td>город москва, варшавское шоссе, дом 2</td>\n",
       "      <td>150</td>\n",
       "      <td>варшавское шоссе</td>\n",
       "    </tr>\n",
       "    <tr>\n",
       "      <th>152</th>\n",
       "      <td>23618</td>\n",
       "      <td>кафе «subway»</td>\n",
       "      <td>True</td>\n",
       "      <td>кафе</td>\n",
       "      <td>город москва, варшавское шоссе, дом 7, корпус 1</td>\n",
       "      <td>36</td>\n",
       "      <td>варшавское шоссе</td>\n",
       "    </tr>\n",
       "    <tr>\n",
       "      <th>153</th>\n",
       "      <td>155852</td>\n",
       "      <td>кафе «ламаджо»</td>\n",
       "      <td>False</td>\n",
       "      <td>кафе</td>\n",
       "      <td>город москва, варшавское шоссе, дом 29</td>\n",
       "      <td>30</td>\n",
       "      <td>варшавское шоссе</td>\n",
       "    </tr>\n",
       "    <tr>\n",
       "      <th>154</th>\n",
       "      <td>152556</td>\n",
       "      <td>шаурма в пите</td>\n",
       "      <td>False</td>\n",
       "      <td>фаст-фуд</td>\n",
       "      <td>город москва, варшавское шоссе, дом 72, корпус 2</td>\n",
       "      <td>0</td>\n",
       "      <td>варшавское шоссе</td>\n",
       "    </tr>\n",
       "    <tr>\n",
       "      <th>155</th>\n",
       "      <td>120658</td>\n",
       "      <td>выпечка</td>\n",
       "      <td>False</td>\n",
       "      <td>кафетерий</td>\n",
       "      <td>город москва, варшавское шоссе, дом 100</td>\n",
       "      <td>2</td>\n",
       "      <td>варшавское шоссе</td>\n",
       "    </tr>\n",
       "  </tbody>\n",
       "</table>\n",
       "</div>"
      ],
      "text/plain": [
       "         id      object_name  chain object_type  \\\n",
       "151  155973  кафе «андерсон»   True        кафе   \n",
       "152   23618    кафе «subway»   True        кафе   \n",
       "153  155852   кафе «ламаджо»  False        кафе   \n",
       "154  152556    шаурма в пите  False    фаст-фуд   \n",
       "155  120658          выпечка  False   кафетерий   \n",
       "\n",
       "                                              address  number  \\\n",
       "151             город москва, варшавское шоссе, дом 2     150   \n",
       "152   город москва, варшавское шоссе, дом 7, корпус 1      36   \n",
       "153            город москва, варшавское шоссе, дом 29      30   \n",
       "154  город москва, варшавское шоссе, дом 72, корпус 2       0   \n",
       "155           город москва, варшавское шоссе, дом 100       2   \n",
       "\n",
       "               street  \n",
       "151  варшавское шоссе  \n",
       "152  варшавское шоссе  \n",
       "153  варшавское шоссе  \n",
       "154  варшавское шоссе  \n",
       "155  варшавское шоссе  "
      ]
     },
     "execution_count": 32,
     "metadata": {},
     "output_type": "execute_result"
    }
   ],
   "source": [
    "# отбираем заведения с адресом из топ-10 улиц\n",
    "top_10_to_list = top_10_street['street'].to_list()\n",
    "rest_data_from_top_10= rest_data.query('street in @top_10_to_list')\n",
    "rest_data_from_top_10.head()"
   ]
  },
  {
   "cell_type": "code",
   "execution_count": 33,
   "metadata": {
    "scrolled": false
   },
   "outputs": [
    {
     "name": "stderr",
     "output_type": "stream",
     "text": [
      "C:\\Users\\Jane\\anaconda3\\lib\\site-packages\\seaborn\\distributions.py:2619: FutureWarning:\n",
      "\n",
      "`distplot` is a deprecated function and will be removed in a future version. Please adapt your code to use either `displot` (a figure-level function with similar flexibility) or `histplot` (an axes-level function for histograms).\n",
      "\n"
     ]
    },
    {
     "data": {
      "text/plain": [
       "Text(0, 0.5, 'Количество заведений')"
      ]
     },
     "execution_count": 33,
     "metadata": {},
     "output_type": "execute_result"
    },
    {
     "data": {
      "image/png": "[encoded data removed]",
      "text/plain": [
       "<Figure size 864x360 with 1 Axes>"
      ]
     },
     "metadata": {
      "needs_background": "light"
     },
     "output_type": "display_data"
    }
   ],
   "source": [
    "plt.figure(figsize=(12, 5))\n",
    "sns.set_style(\"whitegrid\")  \n",
    "sns.distplot(rest_data_from_top_10['number'], bins=50)\n",
    "plt.title(\" Распределение количества посадочных мест для Топ-10 улиц\", fontsize = 20)\n",
    "plt.xlabel(\"Количество посадочных мест\", fontsize = 15)\n",
    "plt.ylabel(\"Количество заведений\", fontsize = 15)"
   ]
  },
  {
   "cell_type": "markdown",
   "metadata": {},
   "source": [
    "Видим большое количество заведений без посадочных мест. Такие заведения скорее всего работают только на вынос. Видим также длиннющий хвост из очень крупных значений. Посчитаем перцентили и отбросим заведения с нулевым количеством посадочных мест и тех, которых менее 1 процента. Перестроим график."
   ]
  },
  {
   "cell_type": "code",
   "execution_count": 34,
   "metadata": {
    "scrolled": false
   },
   "outputs": [
    {
     "data": {
      "text/plain": [
       "[300.0]"
      ]
     },
     "execution_count": 34,
     "metadata": {},
     "output_type": "execute_result"
    }
   ],
   "source": [
    "# определяем 99% посадочных мест\n",
    "[np.percentile(rest_data_from_top_10['number'], i) for i in [99]]"
   ]
  },
  {
   "cell_type": "code",
   "execution_count": 35,
   "metadata": {
    "scrolled": false
   },
   "outputs": [
    {
     "name": "stderr",
     "output_type": "stream",
     "text": [
      "C:\\Users\\Jane\\anaconda3\\lib\\site-packages\\seaborn\\distributions.py:2619: FutureWarning:\n",
      "\n",
      "`distplot` is a deprecated function and will be removed in a future version. Please adapt your code to use either `displot` (a figure-level function with similar flexibility) or `histplot` (an axes-level function for histograms).\n",
      "\n"
     ]
    },
    {
     "data": {
      "image/png": "[encoded data removed]",
      "text/plain": [
       "<Figure size 864x360 with 1 Axes>"
      ]
     },
     "metadata": {},
     "output_type": "display_data"
    }
   ],
   "source": [
    "rest_data_from_top_10_clean = rest_data_from_top_10.query(\"number> 0 and number <300\") \n",
    "plt.figure(figsize=(12, 5))\n",
    "sns.distplot(rest_data_from_top_10_clean['number'], bins=50)\n",
    "plt.title(\" Распределение количества посадочных мест для Топ-10 улиц\", fontsize = 20)\n",
    "plt.xlabel(\"Количество посадочных мест\", fontsize = 15)\n",
    "plt.ylabel(\"Количество заведений\", fontsize = 15)\n",
    "\n",
    "plt.show()"
   ]
  },
  {
   "cell_type": "code",
   "execution_count": 36,
   "metadata": {
    "scrolled": false
   },
   "outputs": [
    {
     "data": {
      "text/plain": [
       "count    1312.000000\n",
       "mean       57.188262\n",
       "std        53.537162\n",
       "min         1.000000\n",
       "25%        20.000000\n",
       "50%        40.000000\n",
       "75%        80.000000\n",
       "max       292.000000\n",
       "Name: number, dtype: float64"
      ]
     },
     "execution_count": 36,
     "metadata": {},
     "output_type": "execute_result"
    }
   ],
   "source": [
    "rest_data_from_top_10_clean['number'].describe()"
   ]
  },
  {
   "cell_type": "code",
   "execution_count": 37,
   "metadata": {
    "scrolled": false
   },
   "outputs": [
    {
     "data": {
      "text/plain": [
       "0    20\n",
       "Name: number, dtype: int64"
      ]
     },
     "execution_count": 37,
     "metadata": {},
     "output_type": "execute_result"
    }
   ],
   "source": [
    "round(rest_data_from_top_10_clean['number'],-1).mode()"
   ]
  },
  {
   "cell_type": "markdown",
   "metadata": {},
   "source": [
    "График имеет сильные перепады. Лучше все же ориентироваться не на среднее 57 мест, а на медианное значение - 40 мест. Пик же приходится на 20 посадочныхз мест.Теперь посмотрим как меняется медианное значение для каждой улицы из топ-10."
   ]
  },
  {
   "cell_type": "code",
   "execution_count": 38,
   "metadata": {
    "scrolled": false
   },
   "outputs": [
    {
     "data": {
      "image/svg+xml": [
       "<svg class=\"main-svg\" xmlns=\"http://www.w3.org/2000/svg\" xmlns:xlink=\"http://www.w3.org/1999/xlink\" width=\"700\" height=\"500\" style=\"\" viewBox=\"0 0 700 500\"><rect x=\"0\" y=\"0\" width=\"700\" height=\"500\" style=\"fill: rgb(255, 255, 255); fill-opacity: 1;\"/><defs id=\"defs-99d857\"><g class=\"clips\"><clipPath id=\"clip99d857xyplot\" class=\"plotclip\"><rect width=\"477\" height=\"346\"/></clipPath><clipPath class=\"axesclip\" id=\"clip99d857x\"><rect x=\"80\" y=\"0\" width=\"477\" height=\"500\"/></clipPath><clipPath class=\"axesclip\" id=\"clip99d857y\"><rect x=\"0\" y=\"60\" width=\"700\" height=\"346\"/></clipPath><clipPath class=\"axesclip\" id=\"clip99d857xy\"><rect x=\"80\" y=\"60\" width=\"477\" height=\"346\"/></clipPath></g><g class=\"gradients\"/><g class=\"patterns\"/></defs><g class=\"bglayer\"><rect class=\"bg\" x=\"80\" y=\"60\" width=\"477\" height=\"346\" style=\"fill: rgb(229, 236, 246); fill-opacity: 1; stroke-width: 0;\"/></g><g class=\"layer-below\"><g class=\"imagelayer\"/><g class=\"shapelayer\"/></g><g class=\"cartesianlayer\"><g class=\"subplot xy\"><g class=\"layer-subplot\"><g class=\"shapelayer\"/><g class=\"imagelayer\"/></g><g class=\"gridlayer\"><g class=\"x\"/><g class=\"y\"><path class=\"ygrid crisp\" transform=\"translate(0,336.26)\" d=\"M80,0h477\" style=\"stroke: rgb(255, 255, 255); stroke-opacity: 1; stroke-width: 1px;\"/><path class=\"ygrid crisp\" transform=\"translate(0,282.76)\" d=\"M80,0h477\" style=\"stroke: rgb(255, 255, 255); stroke-opacity: 1; stroke-width: 1px;\"/><path class=\"ygrid crisp\" transform=\"translate(0,229.25)\" d=\"M80,0h477\" style=\"stroke: rgb(255, 255, 255); stroke-opacity: 1; stroke-width: 1px;\"/><path class=\"ygrid crisp\" transform=\"translate(0,175.75)\" d=\"M80,0h477\" style=\"stroke: rgb(255, 255, 255); stroke-opacity: 1; stroke-width: 1px;\"/><path class=\"ygrid crisp\" transform=\"translate(0,122.24000000000001)\" d=\"M80,0h477\" style=\"stroke: rgb(255, 255, 255); stroke-opacity: 1; stroke-width: 1px;\"/><path class=\"ygrid crisp\" transform=\"translate(0,68.74)\" d=\"M80,0h477\" style=\"stroke: rgb(255, 255, 255); stroke-opacity: 1; stroke-width: 1px;\"/></g></g><g class=\"zerolinelayer\"><path class=\"yzl zl crisp\" transform=\"translate(0,389.77)\" d=\"M80,0h477\" style=\"stroke: rgb(255, 255, 255); stroke-opacity: 1; stroke-width: 2px;\"/></g><path class=\"xlines-below\"/><path class=\"ylines-below\"/><g class=\"overlines-below\"/><g class=\"xaxislayer-below\"/><g class=\"yaxislayer-below\"/><g class=\"overaxes-below\"/><g class=\"plot\" transform=\"translate(80,60)\" clip-path=\"url(#clip99d857xyplot)\"><g class=\"boxlayer mlayer\"><g class=\"trace boxes\" style=\"opacity: 1;\"><path class=\"box\" d=\"M15.09,290.18H38.31M15.09,313.72H38.31V254.86H15.09ZM26.7,313.72V328.7M26.7,254.86V169.25M20.89,328.7H32.51M20.89,169.25H32.51\" style=\"vector-effect: non-scaling-stroke; stroke-width: 2px; stroke: rgb(99, 110, 250); stroke-opacity: 1; fill: rgb(99, 110, 250); fill-opacity: 0.5;\"/><g class=\"points\"><path class=\"point\" transform=\"translate(11.09,328.7)\" d=\"M3,0A3,3 0 1,1 0,-3A3,3 0 0,1 3,0Z\" style=\"opacity: 1; stroke-width: 0px; fill: rgb(99, 110, 250); fill-opacity: 1;\"/><path class=\"point\" transform=\"translate(7.06,327.63)\" d=\"M3,0A3,3 0 1,1 0,-3A3,3 0 0,1 3,0Z\" style=\"opacity: 1; stroke-width: 0px; fill: rgb(99, 110, 250); fill-opacity: 1;\"/><path class=\"point\" transform=\"translate(11.98,327.63)\" d=\"M3,0A3,3 0 1,1 0,-3A3,3 0 0,1 3,0Z\" style=\"opacity: 1; stroke-width: 0px; fill: rgb(99, 110, 250); fill-opacity: 1;\"/><path class=\"point\" transform=\"translate(6.33,327.63)\" d=\"M3,0A3,3 0 1,1 0,-3A3,3 0 0,1 3,0Z\" style=\"opacity: 1; stroke-width: 0px; fill: rgb(99, 110, 250); fill-opacity: 1;\"/><path class=\"point\" transform=\"translate(8.42,327.63)\" d=\"M3,0A3,3 0 1,1 0,-3A3,3 0 0,1 3,0Z\" style=\"opacity: 1; stroke-width: 0px; fill: rgb(99, 110, 250); fill-opacity: 1;\"/><path class=\"point\" transform=\"translate(11.11,327.63)\" d=\"M3,0A3,3 0 1,1 0,-3A3,3 0 0,1 3,0Z\" style=\"opacity: 1; stroke-width: 0px; fill: rgb(99, 110, 250); fill-opacity: 1;\"/><path class=\"point\" transform=\"translate(9.15,327.63)\" d=\"M3,0A3,3 0 1,1 0,-3A3,3 0 0,1 3,0Z\" style=\"opacity: 1; stroke-width: 0px; fill: rgb(99, 110, 250); fill-opacity: 1;\"/><path class=\"point\" transform=\"translate(10.29,327.63)\" d=\"M3,0A3,3 0 1,1 0,-3A3,3 0 0,1 3,0Z\" style=\"opacity: 1; stroke-width: 0px; fill: rgb(99, 110, 250); fill-opacity: 1;\"/><path class=\"point\" transform=\"translate(8.17,326.56)\" d=\"M3,0A3,3 0 1,1 0,-3A3,3 0 0,1 3,0Z\" style=\"opacity: 1; stroke-width: 0px; fill: rgb(99, 110, 250); fill-opacity: 1;\"/><path class=\"point\" transform=\"translate(6.73,325.49)\" d=\"M3,0A3,3 0 1,1 0,-3A3,3 0 0,1 3,0Z\" style=\"opacity: 1; stroke-width: 0px; fill: rgb(99, 110, 250); fill-opacity: 1;\"/><path class=\"point\" transform=\"translate(10.21,325.49)\" d=\"M3,0A3,3 0 1,1 0,-3A3,3 0 0,1 3,0Z\" style=\"opacity: 1; stroke-width: 0px; fill: rgb(99, 110, 250); fill-opacity: 1;\"/><path class=\"point\" transform=\"translate(8.18,324.42)\" d=\"M3,0A3,3 0 1,1 0,-3A3,3 0 0,1 3,0Z\" style=\"opacity: 1; stroke-width: 0px; fill: rgb(99, 110, 250); fill-opacity: 1;\"/><path class=\"point\" transform=\"translate(11.4,323.35)\" d=\"M3,0A3,3 0 1,1 0,-3A3,3 0 0,1 3,0Z\" style=\"opacity: 1; stroke-width: 0px; fill: rgb(99, 110, 250); fill-opacity: 1;\"/><path class=\"point\" transform=\"translate(5.89,323.35)\" d=\"M3,0A3,3 0 1,1 0,-3A3,3 0 0,1 3,0Z\" style=\"opacity: 1; stroke-width: 0px; fill: rgb(99, 110, 250); fill-opacity: 1;\"/><path class=\"point\" transform=\"translate(7.26,322.28)\" d=\"M3,0A3,3 0 1,1 0,-3A3,3 0 0,1 3,0Z\" style=\"opacity: 1; stroke-width: 0px; fill: rgb(99, 110, 250); fill-opacity: 1;\"/><path class=\"point\" transform=\"translate(12.36,322.28)\" d=\"M3,0A3,3 0 1,1 0,-3A3,3 0 0,1 3,0Z\" style=\"opacity: 1; stroke-width: 0px; fill: rgb(99, 110, 250); fill-opacity: 1;\"/><path class=\"point\" transform=\"translate(8.41,321.21)\" d=\"M3,0A3,3 0 1,1 0,-3A3,3 0 0,1 3,0Z\" style=\"opacity: 1; stroke-width: 0px; fill: rgb(99, 110, 250); fill-opacity: 1;\"/><path class=\"point\" transform=\"translate(6.29,321.21)\" d=\"M3,0A3,3 0 1,1 0,-3A3,3 0 0,1 3,0Z\" style=\"opacity: 1; stroke-width: 0px; fill: rgb(99, 110, 250); fill-opacity: 1;\"/><path class=\"point\" transform=\"translate(8.13,321.21)\" d=\"M3,0A3,3 0 1,1 0,-3A3,3 0 0,1 3,0Z\" style=\"opacity: 1; stroke-width: 0px; fill: rgb(99, 110, 250); fill-opacity: 1;\"/><path class=\"point\" transform=\"translate(9.21,321.21)\" d=\"M3,0A3,3 0 1,1 0,-3A3,3 0 0,1 3,0Z\" style=\"opacity: 1; stroke-width: 0px; fill: rgb(99, 110, 250); fill-opacity: 1;\"/><path class=\"point\" transform=\"translate(10.85,321.21)\" d=\"M3,0A3,3 0 1,1 0,-3A3,3 0 0,1 3,0Z\" style=\"opacity: 1; stroke-width: 0px; fill: rgb(99, 110, 250); fill-opacity: 1;\"/><path class=\"point\" transform=\"translate(9.67,319.07)\" d=\"M3,0A3,3 0 1,1 0,-3A3,3 0 0,1 3,0Z\" style=\"opacity: 1; stroke-width: 0px; fill: rgb(99, 110, 250); fill-opacity: 1;\"/><path class=\"point\" transform=\"translate(8.3,319.07)\" d=\"M3,0A3,3 0 1,1 0,-3A3,3 0 0,1 3,0Z\" style=\"opacity: 1; stroke-width: 0px; fill: rgb(99, 110, 250); fill-opacity: 1;\"/><path class=\"point\" transform=\"translate(6.37,319.07)\" d=\"M3,0A3,3 0 1,1 0,-3A3,3 0 0,1 3,0Z\" style=\"opacity: 1; stroke-width: 0px; fill: rgb(99, 110, 250); fill-opacity: 1;\"/><path class=\"point\" transform=\"translate(9.27,319.07)\" d=\"M3,0A3,3 0 1,1 0,-3A3,3 0 0,1 3,0Z\" style=\"opacity: 1; stroke-width: 0px; fill: rgb(99, 110, 250); fill-opacity: 1;\"/><path class=\"point\" transform=\"translate(8.26,319.07)\" d=\"M3,0A3,3 0 1,1 0,-3A3,3 0 0,1 3,0Z\" style=\"opacity: 1; stroke-width: 0px; fill: rgb(99, 110, 250); fill-opacity: 1;\"/><path class=\"point\" transform=\"translate(10.9,316.93)\" d=\"M3,0A3,3 0 1,1 0,-3A3,3 0 0,1 3,0Z\" style=\"opacity: 1; stroke-width: 0px; fill: rgb(99, 110, 250); fill-opacity: 1;\"/><path class=\"point\" transform=\"translate(8.97,316.93)\" d=\"M3,0A3,3 0 1,1 0,-3A3,3 0 0,1 3,0Z\" style=\"opacity: 1; stroke-width: 0px; fill: rgb(99, 110, 250); fill-opacity: 1;\"/><path class=\"point\" transform=\"translate(7,316.93)\" d=\"M3,0A3,3 0 1,1 0,-3A3,3 0 0,1 3,0Z\" style=\"opacity: 1; stroke-width: 0px; fill: rgb(99, 110, 250); fill-opacity: 1;\"/><path class=\"point\" transform=\"translate(6.03,316.93)\" d=\"M3,0A3,3 0 1,1 0,-3A3,3 0 0,1 3,0Z\" style=\"opacity: 1; stroke-width: 0px; fill: rgb(99, 110, 250); fill-opacity: 1;\"/><path class=\"point\" transform=\"translate(11.25,316.93)\" d=\"M3,0A3,3 0 1,1 0,-3A3,3 0 0,1 3,0Z\" style=\"opacity: 1; stroke-width: 0px; fill: rgb(99, 110, 250); fill-opacity: 1;\"/><path class=\"point\" transform=\"translate(6.3,316.93)\" d=\"M3,0A3,3 0 1,1 0,-3A3,3 0 0,1 3,0Z\" style=\"opacity: 1; stroke-width: 0px; fill: rgb(99, 110, 250); fill-opacity: 1;\"/><path class=\"point\" transform=\"translate(11.26,315.86)\" d=\"M3,0A3,3 0 1,1 0,-3A3,3 0 0,1 3,0Z\" style=\"opacity: 1; stroke-width: 0px; fill: rgb(99, 110, 250); fill-opacity: 1;\"/><path class=\"point\" transform=\"translate(10.01,313.72)\" d=\"M3,0A3,3 0 1,1 0,-3A3,3 0 0,1 3,0Z\" style=\"opacity: 1; stroke-width: 0px; fill: rgb(99, 110, 250); fill-opacity: 1;\"/><path class=\"point\" transform=\"translate(8.42,313.72)\" d=\"M3,0A3,3 0 1,1 0,-3A3,3 0 0,1 3,0Z\" style=\"opacity: 1; stroke-width: 0px; fill: rgb(99, 110, 250); fill-opacity: 1;\"/><path class=\"point\" transform=\"translate(7.57,313.72)\" d=\"M3,0A3,3 0 1,1 0,-3A3,3 0 0,1 3,0Z\" style=\"opacity: 1; stroke-width: 0px; fill: rgb(99, 110, 250); fill-opacity: 1;\"/><path class=\"point\" transform=\"translate(10.58,312.65)\" d=\"M3,0A3,3 0 1,1 0,-3A3,3 0 0,1 3,0Z\" style=\"opacity: 1; stroke-width: 0px; fill: rgb(99, 110, 250); fill-opacity: 1;\"/><path class=\"point\" transform=\"translate(8.95,310.51)\" d=\"M3,0A3,3 0 1,1 0,-3A3,3 0 0,1 3,0Z\" style=\"opacity: 1; stroke-width: 0px; fill: rgb(99, 110, 250); fill-opacity: 1;\"/><path class=\"point\" transform=\"translate(11.67,310.51)\" d=\"M3,0A3,3 0 1,1 0,-3A3,3 0 0,1 3,0Z\" style=\"opacity: 1; stroke-width: 0px; fill: rgb(99, 110, 250); fill-opacity: 1;\"/><path class=\"point\" transform=\"translate(6.35,308.37)\" d=\"M3,0A3,3 0 1,1 0,-3A3,3 0 0,1 3,0Z\" style=\"opacity: 1; stroke-width: 0px; fill: rgb(99, 110, 250); fill-opacity: 1;\"/><path class=\"point\" transform=\"translate(11.5,308.37)\" d=\"M3,0A3,3 0 1,1 0,-3A3,3 0 0,1 3,0Z\" style=\"opacity: 1; stroke-width: 0px; fill: rgb(99, 110, 250); fill-opacity: 1;\"/><path class=\"point\" transform=\"translate(8.99,308.37)\" d=\"M3,0A3,3 0 1,1 0,-3A3,3 0 0,1 3,0Z\" style=\"opacity: 1; stroke-width: 0px; fill: rgb(99, 110, 250); fill-opacity: 1;\"/><path class=\"point\" transform=\"translate(7.91,308.37)\" d=\"M3,0A3,3 0 1,1 0,-3A3,3 0 0,1 3,0Z\" style=\"opacity: 1; stroke-width: 0px; fill: rgb(99, 110, 250); fill-opacity: 1;\"/><path class=\"point\" transform=\"translate(6,308.37)\" d=\"M3,0A3,3 0 1,1 0,-3A3,3 0 0,1 3,0Z\" style=\"opacity: 1; stroke-width: 0px; fill: rgb(99, 110, 250); fill-opacity: 1;\"/><path class=\"point\" transform=\"translate(7.92,308.37)\" d=\"M3,0A3,3 0 1,1 0,-3A3,3 0 0,1 3,0Z\" style=\"opacity: 1; stroke-width: 0px; fill: rgb(99, 110, 250); fill-opacity: 1;\"/><path class=\"point\" transform=\"translate(11.61,308.37)\" d=\"M3,0A3,3 0 1,1 0,-3A3,3 0 0,1 3,0Z\" style=\"opacity: 1; stroke-width: 0px; fill: rgb(99, 110, 250); fill-opacity: 1;\"/><path class=\"point\" transform=\"translate(8.45,308.37)\" d=\"M3,0A3,3 0 1,1 0,-3A3,3 0 0,1 3,0Z\" style=\"opacity: 1; stroke-width: 0px; fill: rgb(99, 110, 250); fill-opacity: 1;\"/><path class=\"point\" transform=\"translate(6.57,308.37)\" d=\"M3,0A3,3 0 1,1 0,-3A3,3 0 0,1 3,0Z\" style=\"opacity: 1; stroke-width: 0px; fill: rgb(99, 110, 250); fill-opacity: 1;\"/><path class=\"point\" transform=\"translate(10.97,304.09)\" d=\"M3,0A3,3 0 1,1 0,-3A3,3 0 0,1 3,0Z\" style=\"opacity: 1; stroke-width: 0px; fill: rgb(99, 110, 250); fill-opacity: 1;\"/><path class=\"point\" transform=\"translate(7.41,304.09)\" d=\"M3,0A3,3 0 1,1 0,-3A3,3 0 0,1 3,0Z\" style=\"opacity: 1; stroke-width: 0px; fill: rgb(99, 110, 250); fill-opacity: 1;\"/><path class=\"point\" transform=\"translate(9.28,304.09)\" d=\"M3,0A3,3 0 1,1 0,-3A3,3 0 0,1 3,0Z\" style=\"opacity: 1; stroke-width: 0px; fill: rgb(99, 110, 250); fill-opacity: 1;\"/><path class=\"point\" transform=\"translate(10.52,304.09)\" d=\"M3,0A3,3 0 1,1 0,-3A3,3 0 0,1 3,0Z\" style=\"opacity: 1; stroke-width: 0px; fill: rgb(99, 110, 250); fill-opacity: 1;\"/><path class=\"point\" transform=\"translate(6.77,303.02)\" d=\"M3,0A3,3 0 1,1 0,-3A3,3 0 0,1 3,0Z\" style=\"opacity: 1; stroke-width: 0px; fill: rgb(99, 110, 250); fill-opacity: 1;\"/><path class=\"point\" transform=\"translate(12.41,303.02)\" d=\"M3,0A3,3 0 1,1 0,-3A3,3 0 0,1 3,0Z\" style=\"opacity: 1; stroke-width: 0px; fill: rgb(99, 110, 250); fill-opacity: 1;\"/><path class=\"point\" transform=\"translate(10.66,303.02)\" d=\"M3,0A3,3 0 1,1 0,-3A3,3 0 0,1 3,0Z\" style=\"opacity: 1; stroke-width: 0px; fill: rgb(99, 110, 250); fill-opacity: 1;\"/><path class=\"point\" transform=\"translate(6.33,300.88)\" d=\"M3,0A3,3 0 1,1 0,-3A3,3 0 0,1 3,0Z\" style=\"opacity: 1; stroke-width: 0px; fill: rgb(99, 110, 250); fill-opacity: 1;\"/><path class=\"point\" transform=\"translate(11.92,299.81)\" d=\"M3,0A3,3 0 1,1 0,-3A3,3 0 0,1 3,0Z\" style=\"opacity: 1; stroke-width: 0px; fill: rgb(99, 110, 250); fill-opacity: 1;\"/><path class=\"point\" transform=\"translate(7.01,297.67)\" d=\"M3,0A3,3 0 1,1 0,-3A3,3 0 0,1 3,0Z\" style=\"opacity: 1; stroke-width: 0px; fill: rgb(99, 110, 250); fill-opacity: 1;\"/><path class=\"point\" transform=\"translate(8.91,297.67)\" d=\"M3,0A3,3 0 1,1 0,-3A3,3 0 0,1 3,0Z\" style=\"opacity: 1; stroke-width: 0px; fill: rgb(99, 110, 250); fill-opacity: 1;\"/><path class=\"point\" transform=\"translate(9.59,297.67)\" d=\"M3,0A3,3 0 1,1 0,-3A3,3 0 0,1 3,0Z\" style=\"opacity: 1; stroke-width: 0px; fill: rgb(99, 110, 250); fill-opacity: 1;\"/><path class=\"point\" transform=\"translate(8.15,297.67)\" d=\"M3,0A3,3 0 1,1 0,-3A3,3 0 0,1 3,0Z\" style=\"opacity: 1; stroke-width: 0px; fill: rgb(99, 110, 250); fill-opacity: 1;\"/><path class=\"point\" transform=\"translate(11.12,297.67)\" d=\"M3,0A3,3 0 1,1 0,-3A3,3 0 0,1 3,0Z\" style=\"opacity: 1; stroke-width: 0px; fill: rgb(99, 110, 250); fill-opacity: 1;\"/><path class=\"point\" transform=\"translate(7.48,295.53)\" d=\"M3,0A3,3 0 1,1 0,-3A3,3 0 0,1 3,0Z\" style=\"opacity: 1; stroke-width: 0px; fill: rgb(99, 110, 250); fill-opacity: 1;\"/><path class=\"point\" transform=\"translate(10.26,295.53)\" d=\"M3,0A3,3 0 1,1 0,-3A3,3 0 0,1 3,0Z\" style=\"opacity: 1; stroke-width: 0px; fill: rgb(99, 110, 250); fill-opacity: 1;\"/><path class=\"point\" transform=\"translate(11.17,291.25)\" d=\"M3,0A3,3 0 1,1 0,-3A3,3 0 0,1 3,0Z\" style=\"opacity: 1; stroke-width: 0px; fill: rgb(99, 110, 250); fill-opacity: 1;\"/><path class=\"point\" transform=\"translate(6.85,291.25)\" d=\"M3,0A3,3 0 1,1 0,-3A3,3 0 0,1 3,0Z\" style=\"opacity: 1; stroke-width: 0px; fill: rgb(99, 110, 250); fill-opacity: 1;\"/><path class=\"point\" transform=\"translate(7.86,291.25)\" d=\"M3,0A3,3 0 1,1 0,-3A3,3 0 0,1 3,0Z\" style=\"opacity: 1; stroke-width: 0px; fill: rgb(99, 110, 250); fill-opacity: 1;\"/><path class=\"point\" transform=\"translate(10.83,289.11)\" d=\"M3,0A3,3 0 1,1 0,-3A3,3 0 0,1 3,0Z\" style=\"opacity: 1; stroke-width: 0px; fill: rgb(99, 110, 250); fill-opacity: 1;\"/><path class=\"point\" transform=\"translate(8.53,286.97)\" d=\"M3,0A3,3 0 1,1 0,-3A3,3 0 0,1 3,0Z\" style=\"opacity: 1; stroke-width: 0px; fill: rgb(99, 110, 250); fill-opacity: 1;\"/><path class=\"point\" transform=\"translate(9.56,286.97)\" d=\"M3,0A3,3 0 1,1 0,-3A3,3 0 0,1 3,0Z\" style=\"opacity: 1; stroke-width: 0px; fill: rgb(99, 110, 250); fill-opacity: 1;\"/><path class=\"point\" transform=\"translate(12.12,286.97)\" d=\"M3,0A3,3 0 1,1 0,-3A3,3 0 0,1 3,0Z\" style=\"opacity: 1; stroke-width: 0px; fill: rgb(99, 110, 250); fill-opacity: 1;\"/><path class=\"point\" transform=\"translate(6.7,286.97)\" d=\"M3,0A3,3 0 1,1 0,-3A3,3 0 0,1 3,0Z\" style=\"opacity: 1; stroke-width: 0px; fill: rgb(99, 110, 250); fill-opacity: 1;\"/><path class=\"point\" transform=\"translate(12.75,286.97)\" d=\"M3,0A3,3 0 1,1 0,-3A3,3 0 0,1 3,0Z\" style=\"opacity: 1; stroke-width: 0px; fill: rgb(99, 110, 250); fill-opacity: 1;\"/><path class=\"point\" transform=\"translate(6.68,286.97)\" d=\"M3,0A3,3 0 1,1 0,-3A3,3 0 0,1 3,0Z\" style=\"opacity: 1; stroke-width: 0px; fill: rgb(99, 110, 250); fill-opacity: 1;\"/><path class=\"point\" transform=\"translate(12.72,286.97)\" d=\"M3,0A3,3 0 1,1 0,-3A3,3 0 0,1 3,0Z\" style=\"opacity: 1; stroke-width: 0px; fill: rgb(99, 110, 250); fill-opacity: 1;\"/><path class=\"point\" transform=\"translate(7.59,284.83)\" d=\"M3,0A3,3 0 1,1 0,-3A3,3 0 0,1 3,0Z\" style=\"opacity: 1; stroke-width: 0px; fill: rgb(99, 110, 250); fill-opacity: 1;\"/><path class=\"point\" transform=\"translate(11.9,284.83)\" d=\"M3,0A3,3 0 1,1 0,-3A3,3 0 0,1 3,0Z\" style=\"opacity: 1; stroke-width: 0px; fill: rgb(99, 110, 250); fill-opacity: 1;\"/><path class=\"point\" transform=\"translate(10.22,284.83)\" d=\"M3,0A3,3 0 1,1 0,-3A3,3 0 0,1 3,0Z\" style=\"opacity: 1; stroke-width: 0px; fill: rgb(99, 110, 250); fill-opacity: 1;\"/><path class=\"point\" transform=\"translate(8.83,282.69)\" d=\"M3,0A3,3 0 1,1 0,-3A3,3 0 0,1 3,0Z\" style=\"opacity: 1; stroke-width: 0px; fill: rgb(99, 110, 250); fill-opacity: 1;\"/><path class=\"point\" transform=\"translate(6.14,282.69)\" d=\"M3,0A3,3 0 1,1 0,-3A3,3 0 0,1 3,0Z\" style=\"opacity: 1; stroke-width: 0px; fill: rgb(99, 110, 250); fill-opacity: 1;\"/><path class=\"point\" transform=\"translate(8.71,281.62)\" d=\"M3,0A3,3 0 1,1 0,-3A3,3 0 0,1 3,0Z\" style=\"opacity: 1; stroke-width: 0px; fill: rgb(99, 110, 250); fill-opacity: 1;\"/><path class=\"point\" transform=\"translate(6.38,281.62)\" d=\"M3,0A3,3 0 1,1 0,-3A3,3 0 0,1 3,0Z\" style=\"opacity: 1; stroke-width: 0px; fill: rgb(99, 110, 250); fill-opacity: 1;\"/><path class=\"point\" transform=\"translate(7.36,280.55)\" d=\"M3,0A3,3 0 1,1 0,-3A3,3 0 0,1 3,0Z\" style=\"opacity: 1; stroke-width: 0px; fill: rgb(99, 110, 250); fill-opacity: 1;\"/><path class=\"point\" transform=\"translate(6.55,280.55)\" d=\"M3,0A3,3 0 1,1 0,-3A3,3 0 0,1 3,0Z\" style=\"opacity: 1; stroke-width: 0px; fill: rgb(99, 110, 250); fill-opacity: 1;\"/><path class=\"point\" transform=\"translate(5.97,280.55)\" d=\"M3,0A3,3 0 1,1 0,-3A3,3 0 0,1 3,0Z\" style=\"opacity: 1; stroke-width: 0px; fill: rgb(99, 110, 250); fill-opacity: 1;\"/><path class=\"point\" transform=\"translate(7.43,280.55)\" d=\"M3,0A3,3 0 1,1 0,-3A3,3 0 0,1 3,0Z\" style=\"opacity: 1; stroke-width: 0px; fill: rgb(99, 110, 250); fill-opacity: 1;\"/><path class=\"point\" transform=\"translate(10.19,280.55)\" d=\"M3,0A3,3 0 1,1 0,-3A3,3 0 0,1 3,0Z\" style=\"opacity: 1; stroke-width: 0px; fill: rgb(99, 110, 250); fill-opacity: 1;\"/><path class=\"point\" transform=\"translate(6.79,280.55)\" d=\"M3,0A3,3 0 1,1 0,-3A3,3 0 0,1 3,0Z\" style=\"opacity: 1; stroke-width: 0px; fill: rgb(99, 110, 250); fill-opacity: 1;\"/><path class=\"point\" transform=\"translate(9.83,278.41)\" d=\"M3,0A3,3 0 1,1 0,-3A3,3 0 0,1 3,0Z\" style=\"opacity: 1; stroke-width: 0px; fill: rgb(99, 110, 250); fill-opacity: 1;\"/><path class=\"point\" transform=\"translate(10.34,276.26)\" d=\"M3,0A3,3 0 1,1 0,-3A3,3 0 0,1 3,0Z\" style=\"opacity: 1; stroke-width: 0px; fill: rgb(99, 110, 250); fill-opacity: 1;\"/><path class=\"point\" transform=\"translate(9.54,276.26)\" d=\"M3,0A3,3 0 1,1 0,-3A3,3 0 0,1 3,0Z\" style=\"opacity: 1; stroke-width: 0px; fill: rgb(99, 110, 250); fill-opacity: 1;\"/><path class=\"point\" transform=\"translate(8,271.98)\" d=\"M3,0A3,3 0 1,1 0,-3A3,3 0 0,1 3,0Z\" style=\"opacity: 1; stroke-width: 0px; fill: rgb(99, 110, 250); fill-opacity: 1;\"/><path class=\"point\" transform=\"translate(8.54,271.98)\" d=\"M3,0A3,3 0 1,1 0,-3A3,3 0 0,1 3,0Z\" style=\"opacity: 1; stroke-width: 0px; fill: rgb(99, 110, 250); fill-opacity: 1;\"/><path class=\"point\" transform=\"translate(11.25,268.77)\" d=\"M3,0A3,3 0 1,1 0,-3A3,3 0 0,1 3,0Z\" style=\"opacity: 1; stroke-width: 0px; fill: rgb(99, 110, 250); fill-opacity: 1;\"/><path class=\"point\" transform=\"translate(8.14,265.56)\" d=\"M3,0A3,3 0 1,1 0,-3A3,3 0 0,1 3,0Z\" style=\"opacity: 1; stroke-width: 0px; fill: rgb(99, 110, 250); fill-opacity: 1;\"/><path class=\"point\" transform=\"translate(9.49,265.56)\" d=\"M3,0A3,3 0 1,1 0,-3A3,3 0 0,1 3,0Z\" style=\"opacity: 1; stroke-width: 0px; fill: rgb(99, 110, 250); fill-opacity: 1;\"/><path class=\"point\" transform=\"translate(10.55,265.56)\" d=\"M3,0A3,3 0 1,1 0,-3A3,3 0 0,1 3,0Z\" style=\"opacity: 1; stroke-width: 0px; fill: rgb(99, 110, 250); fill-opacity: 1;\"/><path class=\"point\" transform=\"translate(7.58,265.56)\" d=\"M3,0A3,3 0 1,1 0,-3A3,3 0 0,1 3,0Z\" style=\"opacity: 1; stroke-width: 0px; fill: rgb(99, 110, 250); fill-opacity: 1;\"/><path class=\"point\" transform=\"translate(8.97,261.28)\" d=\"M3,0A3,3 0 1,1 0,-3A3,3 0 0,1 3,0Z\" style=\"opacity: 1; stroke-width: 0px; fill: rgb(99, 110, 250); fill-opacity: 1;\"/><path class=\"point\" transform=\"translate(11.57,261.28)\" d=\"M3,0A3,3 0 1,1 0,-3A3,3 0 0,1 3,0Z\" style=\"opacity: 1; stroke-width: 0px; fill: rgb(99, 110, 250); fill-opacity: 1;\"/><path class=\"point\" transform=\"translate(7.46,254.86)\" d=\"M3,0A3,3 0 1,1 0,-3A3,3 0 0,1 3,0Z\" style=\"opacity: 1; stroke-width: 0px; fill: rgb(99, 110, 250); fill-opacity: 1;\"/><path class=\"point\" transform=\"translate(8.91,254.86)\" d=\"M3,0A3,3 0 1,1 0,-3A3,3 0 0,1 3,0Z\" style=\"opacity: 1; stroke-width: 0px; fill: rgb(99, 110, 250); fill-opacity: 1;\"/><path class=\"point\" transform=\"translate(10.18,254.86)\" d=\"M3,0A3,3 0 1,1 0,-3A3,3 0 0,1 3,0Z\" style=\"opacity: 1; stroke-width: 0px; fill: rgb(99, 110, 250); fill-opacity: 1;\"/><path class=\"point\" transform=\"translate(10.8,254.86)\" d=\"M3,0A3,3 0 1,1 0,-3A3,3 0 0,1 3,0Z\" style=\"opacity: 1; stroke-width: 0px; fill: rgb(99, 110, 250); fill-opacity: 1;\"/><path class=\"point\" transform=\"translate(11.23,254.86)\" d=\"M3,0A3,3 0 1,1 0,-3A3,3 0 0,1 3,0Z\" style=\"opacity: 1; stroke-width: 0px; fill: rgb(99, 110, 250); fill-opacity: 1;\"/><path class=\"point\" transform=\"translate(7.67,248.44)\" d=\"M3,0A3,3 0 1,1 0,-3A3,3 0 0,1 3,0Z\" style=\"opacity: 1; stroke-width: 0px; fill: rgb(99, 110, 250); fill-opacity: 1;\"/><path class=\"point\" transform=\"translate(9.69,244.16)\" d=\"M3,0A3,3 0 1,1 0,-3A3,3 0 0,1 3,0Z\" style=\"opacity: 1; stroke-width: 0px; fill: rgb(99, 110, 250); fill-opacity: 1;\"/><path class=\"point\" transform=\"translate(7.71,244.16)\" d=\"M3,0A3,3 0 1,1 0,-3A3,3 0 0,1 3,0Z\" style=\"opacity: 1; stroke-width: 0px; fill: rgb(99, 110, 250); fill-opacity: 1;\"/><path class=\"point\" transform=\"translate(10.77,244.16)\" d=\"M3,0A3,3 0 1,1 0,-3A3,3 0 0,1 3,0Z\" style=\"opacity: 1; stroke-width: 0px; fill: rgb(99, 110, 250); fill-opacity: 1;\"/><path class=\"point\" transform=\"translate(9.55,244.16)\" d=\"M3,0A3,3 0 1,1 0,-3A3,3 0 0,1 3,0Z\" style=\"opacity: 1; stroke-width: 0px; fill: rgb(99, 110, 250); fill-opacity: 1;\"/><path class=\"point\" transform=\"translate(8.78,233.46)\" d=\"M3,0A3,3 0 1,1 0,-3A3,3 0 0,1 3,0Z\" style=\"opacity: 1; stroke-width: 0px; fill: rgb(99, 110, 250); fill-opacity: 1;\"/><path class=\"point\" transform=\"translate(11.04,231.32)\" d=\"M3,0A3,3 0 1,1 0,-3A3,3 0 0,1 3,0Z\" style=\"opacity: 1; stroke-width: 0px; fill: rgb(99, 110, 250); fill-opacity: 1;\"/><path class=\"point\" transform=\"translate(8.04,228.11)\" d=\"M3,0A3,3 0 1,1 0,-3A3,3 0 0,1 3,0Z\" style=\"opacity: 1; stroke-width: 0px; fill: rgb(99, 110, 250); fill-opacity: 1;\"/><path class=\"point\" transform=\"translate(8.51,228.11)\" d=\"M3,0A3,3 0 1,1 0,-3A3,3 0 0,1 3,0Z\" style=\"opacity: 1; stroke-width: 0px; fill: rgb(99, 110, 250); fill-opacity: 1;\"/><path class=\"point\" transform=\"translate(9.02,225.97)\" d=\"M3,0A3,3 0 1,1 0,-3A3,3 0 0,1 3,0Z\" style=\"opacity: 1; stroke-width: 0px; fill: rgb(99, 110, 250); fill-opacity: 1;\"/><path class=\"point\" transform=\"translate(10.59,225.97)\" d=\"M3,0A3,3 0 1,1 0,-3A3,3 0 0,1 3,0Z\" style=\"opacity: 1; stroke-width: 0px; fill: rgb(99, 110, 250); fill-opacity: 1;\"/><path class=\"point\" transform=\"translate(8,224.9)\" d=\"M3,0A3,3 0 1,1 0,-3A3,3 0 0,1 3,0Z\" style=\"opacity: 1; stroke-width: 0px; fill: rgb(99, 110, 250); fill-opacity: 1;\"/><path class=\"point\" transform=\"translate(8.99,224.9)\" d=\"M3,0A3,3 0 1,1 0,-3A3,3 0 0,1 3,0Z\" style=\"opacity: 1; stroke-width: 0px; fill: rgb(99, 110, 250); fill-opacity: 1;\"/><path class=\"point\" transform=\"translate(7.87,224.9)\" d=\"M3,0A3,3 0 1,1 0,-3A3,3 0 0,1 3,0Z\" style=\"opacity: 1; stroke-width: 0px; fill: rgb(99, 110, 250); fill-opacity: 1;\"/><path class=\"point\" transform=\"translate(11.45,224.9)\" d=\"M3,0A3,3 0 1,1 0,-3A3,3 0 0,1 3,0Z\" style=\"opacity: 1; stroke-width: 0px; fill: rgb(99, 110, 250); fill-opacity: 1;\"/><path class=\"point\" transform=\"translate(8.85,224.9)\" d=\"M3,0A3,3 0 1,1 0,-3A3,3 0 0,1 3,0Z\" style=\"opacity: 1; stroke-width: 0px; fill: rgb(99, 110, 250); fill-opacity: 1;\"/><path class=\"point\" transform=\"translate(10,222.76)\" d=\"M3,0A3,3 0 1,1 0,-3A3,3 0 0,1 3,0Z\" style=\"opacity: 1; stroke-width: 0px; fill: rgb(99, 110, 250); fill-opacity: 1;\"/><path class=\"point\" transform=\"translate(9.33,222.76)\" d=\"M3,0A3,3 0 1,1 0,-3A3,3 0 0,1 3,0Z\" style=\"opacity: 1; stroke-width: 0px; fill: rgb(99, 110, 250); fill-opacity: 1;\"/><path class=\"point\" transform=\"translate(9.96,222.76)\" d=\"M3,0A3,3 0 1,1 0,-3A3,3 0 0,1 3,0Z\" style=\"opacity: 1; stroke-width: 0px; fill: rgb(99, 110, 250); fill-opacity: 1;\"/><path class=\"point\" transform=\"translate(8.7,217.41)\" d=\"M3,0A3,3 0 1,1 0,-3A3,3 0 0,1 3,0Z\" style=\"opacity: 1; stroke-width: 0px; fill: rgb(99, 110, 250); fill-opacity: 1;\"/><path class=\"point\" transform=\"translate(9.39,212.06)\" d=\"M3,0A3,3 0 1,1 0,-3A3,3 0 0,1 3,0Z\" style=\"opacity: 1; stroke-width: 0px; fill: rgb(99, 110, 250); fill-opacity: 1;\"/><path class=\"point\" transform=\"translate(9.71,179.96)\" d=\"M3,0A3,3 0 1,1 0,-3A3,3 0 0,1 3,0Z\" style=\"opacity: 1; stroke-width: 0px; fill: rgb(99, 110, 250); fill-opacity: 1;\"/><path class=\"point\" transform=\"translate(9.33,179.96)\" d=\"M3,0A3,3 0 1,1 0,-3A3,3 0 0,1 3,0Z\" style=\"opacity: 1; stroke-width: 0px; fill: rgb(99, 110, 250); fill-opacity: 1;\"/><path class=\"point\" transform=\"translate(9.53,169.25)\" d=\"M3,0A3,3 0 1,1 0,-3A3,3 0 0,1 3,0Z\" style=\"opacity: 1; stroke-width: 0px; fill: rgb(99, 110, 250); fill-opacity: 1;\"/><path class=\"point\" transform=\"translate(9.79,137.15)\" d=\"M3,0A3,3 0 1,1 0,-3A3,3 0 0,1 3,0Z\" style=\"opacity: 1; stroke-width: 0px; fill: rgb(99, 110, 250); fill-opacity: 1;\"/><path class=\"point\" transform=\"translate(9.01,137.15)\" d=\"M3,0A3,3 0 1,1 0,-3A3,3 0 0,1 3,0Z\" style=\"opacity: 1; stroke-width: 0px; fill: rgb(99, 110, 250); fill-opacity: 1;\"/><path class=\"point\" transform=\"translate(9.67,115.75)\" d=\"M3,0A3,3 0 1,1 0,-3A3,3 0 0,1 3,0Z\" style=\"opacity: 1; stroke-width: 0px; fill: rgb(99, 110, 250); fill-opacity: 1;\"/><path class=\"point\" transform=\"translate(9.45,72.95)\" d=\"M3,0A3,3 0 1,1 0,-3A3,3 0 0,1 3,0Z\" style=\"opacity: 1; stroke-width: 0px; fill: rgb(99, 110, 250); fill-opacity: 1;\"/><path class=\"point\" transform=\"translate(9.66,62.24)\" d=\"M3,0A3,3 0 1,1 0,-3A3,3 0 0,1 3,0Z\" style=\"opacity: 1; stroke-width: 0px; fill: rgb(99, 110, 250); fill-opacity: 1;\"/></g></g><g class=\"trace boxes\" style=\"opacity: 1;\"><path class=\"box\" d=\"M62.49,286.97H85.71M62.49,308.37H85.71V244.16H62.49ZM74.1,308.37V328.7M74.1,244.16V153.2M68.29,328.7H79.91M68.29,153.2H79.91\" style=\"vector-effect: non-scaling-stroke; stroke-width: 2px; stroke: rgb(239, 85, 59); stroke-opacity: 1; fill: rgb(239, 85, 59); fill-opacity: 0.5;\"/><g class=\"points\"><path class=\"point\" transform=\"translate(58.49,328.7)\" d=\"M3,0A3,3 0 1,1 0,-3A3,3 0 0,1 3,0Z\" style=\"opacity: 1; stroke-width: 0px; fill: rgb(239, 85, 59); fill-opacity: 1;\"/><path class=\"point\" transform=\"translate(54.46,328.7)\" d=\"M3,0A3,3 0 1,1 0,-3A3,3 0 0,1 3,0Z\" style=\"opacity: 1; stroke-width: 0px; fill: rgb(239, 85, 59); fill-opacity: 1;\"/><path class=\"point\" transform=\"translate(59.38,328.7)\" d=\"M3,0A3,3 0 1,1 0,-3A3,3 0 0,1 3,0Z\" style=\"opacity: 1; stroke-width: 0px; fill: rgb(239, 85, 59); fill-opacity: 1;\"/><path class=\"point\" transform=\"translate(53.73,328.7)\" d=\"M3,0A3,3 0 1,1 0,-3A3,3 0 0,1 3,0Z\" style=\"opacity: 1; stroke-width: 0px; fill: rgb(239, 85, 59); fill-opacity: 1;\"/><path class=\"point\" transform=\"translate(55.82,328.7)\" d=\"M3,0A3,3 0 1,1 0,-3A3,3 0 0,1 3,0Z\" style=\"opacity: 1; stroke-width: 0px; fill: rgb(239, 85, 59); fill-opacity: 1;\"/><path class=\"point\" transform=\"translate(58.51,327.63)\" d=\"M3,0A3,3 0 1,1 0,-3A3,3 0 0,1 3,0Z\" style=\"opacity: 1; stroke-width: 0px; fill: rgb(239, 85, 59); fill-opacity: 1;\"/><path class=\"point\" transform=\"translate(56.55,327.63)\" d=\"M3,0A3,3 0 1,1 0,-3A3,3 0 0,1 3,0Z\" style=\"opacity: 1; stroke-width: 0px; fill: rgb(239, 85, 59); fill-opacity: 1;\"/><path class=\"point\" transform=\"translate(57.69,326.56)\" d=\"M3,0A3,3 0 1,1 0,-3A3,3 0 0,1 3,0Z\" style=\"opacity: 1; stroke-width: 0px; fill: rgb(239, 85, 59); fill-opacity: 1;\"/><path class=\"point\" transform=\"translate(55.57,326.56)\" d=\"M3,0A3,3 0 1,1 0,-3A3,3 0 0,1 3,0Z\" style=\"opacity: 1; stroke-width: 0px; fill: rgb(239, 85, 59); fill-opacity: 1;\"/><path class=\"point\" transform=\"translate(54.32,325.49)\" d=\"M3,0A3,3 0 1,1 0,-3A3,3 0 0,1 3,0Z\" style=\"opacity: 1; stroke-width: 0px; fill: rgb(239, 85, 59); fill-opacity: 1;\"/><path class=\"point\" transform=\"translate(57.54,324.42)\" d=\"M3,0A3,3 0 1,1 0,-3A3,3 0 0,1 3,0Z\" style=\"opacity: 1; stroke-width: 0px; fill: rgb(239, 85, 59); fill-opacity: 1;\"/><path class=\"point\" transform=\"translate(55.69,324.42)\" d=\"M3,0A3,3 0 1,1 0,-3A3,3 0 0,1 3,0Z\" style=\"opacity: 1; stroke-width: 0px; fill: rgb(239, 85, 59); fill-opacity: 1;\"/><path class=\"point\" transform=\"translate(58.73,324.42)\" d=\"M3,0A3,3 0 1,1 0,-3A3,3 0 0,1 3,0Z\" style=\"opacity: 1; stroke-width: 0px; fill: rgb(239, 85, 59); fill-opacity: 1;\"/><path class=\"point\" transform=\"translate(53.54,324.42)\" d=\"M3,0A3,3 0 1,1 0,-3A3,3 0 0,1 3,0Z\" style=\"opacity: 1; stroke-width: 0px; fill: rgb(239, 85, 59); fill-opacity: 1;\"/><path class=\"point\" transform=\"translate(54.66,321.21)\" d=\"M3,0A3,3 0 1,1 0,-3A3,3 0 0,1 3,0Z\" style=\"opacity: 1; stroke-width: 0px; fill: rgb(239, 85, 59); fill-opacity: 1;\"/><path class=\"point\" transform=\"translate(59.76,320.14)\" d=\"M3,0A3,3 0 1,1 0,-3A3,3 0 0,1 3,0Z\" style=\"opacity: 1; stroke-width: 0px; fill: rgb(239, 85, 59); fill-opacity: 1;\"/><path class=\"point\" transform=\"translate(55.81,319.07)\" d=\"M3,0A3,3 0 1,1 0,-3A3,3 0 0,1 3,0Z\" style=\"opacity: 1; stroke-width: 0px; fill: rgb(239, 85, 59); fill-opacity: 1;\"/><path class=\"point\" transform=\"translate(53.69,319.07)\" d=\"M3,0A3,3 0 1,1 0,-3A3,3 0 0,1 3,0Z\" style=\"opacity: 1; stroke-width: 0px; fill: rgb(239, 85, 59); fill-opacity: 1;\"/><path class=\"point\" transform=\"translate(55.53,319.07)\" d=\"M3,0A3,3 0 1,1 0,-3A3,3 0 0,1 3,0Z\" style=\"opacity: 1; stroke-width: 0px; fill: rgb(239, 85, 59); fill-opacity: 1;\"/><path class=\"point\" transform=\"translate(56.61,319.07)\" d=\"M3,0A3,3 0 1,1 0,-3A3,3 0 0,1 3,0Z\" style=\"opacity: 1; stroke-width: 0px; fill: rgb(239, 85, 59); fill-opacity: 1;\"/><path class=\"point\" transform=\"translate(58.25,319.07)\" d=\"M3,0A3,3 0 1,1 0,-3A3,3 0 0,1 3,0Z\" style=\"opacity: 1; stroke-width: 0px; fill: rgb(239, 85, 59); fill-opacity: 1;\"/><path class=\"point\" transform=\"translate(57.07,319.07)\" d=\"M3,0A3,3 0 1,1 0,-3A3,3 0 0,1 3,0Z\" style=\"opacity: 1; stroke-width: 0px; fill: rgb(239, 85, 59); fill-opacity: 1;\"/><path class=\"point\" transform=\"translate(55.7,319.07)\" d=\"M3,0A3,3 0 1,1 0,-3A3,3 0 0,1 3,0Z\" style=\"opacity: 1; stroke-width: 0px; fill: rgb(239, 85, 59); fill-opacity: 1;\"/><path class=\"point\" transform=\"translate(54.16,319.07)\" d=\"M3,0A3,3 0 1,1 0,-3A3,3 0 0,1 3,0Z\" style=\"opacity: 1; stroke-width: 0px; fill: rgb(239, 85, 59); fill-opacity: 1;\"/><path class=\"point\" transform=\"translate(56.67,319.07)\" d=\"M3,0A3,3 0 1,1 0,-3A3,3 0 0,1 3,0Z\" style=\"opacity: 1; stroke-width: 0px; fill: rgb(239, 85, 59); fill-opacity: 1;\"/><path class=\"point\" transform=\"translate(55.89,316.93)\" d=\"M3,0A3,3 0 1,1 0,-3A3,3 0 0,1 3,0Z\" style=\"opacity: 1; stroke-width: 0px; fill: rgb(239, 85, 59); fill-opacity: 1;\"/><path class=\"point\" transform=\"translate(57.94,315.86)\" d=\"M3,0A3,3 0 1,1 0,-3A3,3 0 0,1 3,0Z\" style=\"opacity: 1; stroke-width: 0px; fill: rgb(239, 85, 59); fill-opacity: 1;\"/><path class=\"point\" transform=\"translate(56.44,312.65)\" d=\"M3,0A3,3 0 1,1 0,-3A3,3 0 0,1 3,0Z\" style=\"opacity: 1; stroke-width: 0px; fill: rgb(239, 85, 59); fill-opacity: 1;\"/><path class=\"point\" transform=\"translate(54.91,310.51)\" d=\"M3,0A3,3 0 1,1 0,-3A3,3 0 0,1 3,0Z\" style=\"opacity: 1; stroke-width: 0px; fill: rgb(239, 85, 59); fill-opacity: 1;\"/><path class=\"point\" transform=\"translate(54.16,309.44)\" d=\"M3,0A3,3 0 1,1 0,-3A3,3 0 0,1 3,0Z\" style=\"opacity: 1; stroke-width: 0px; fill: rgb(239, 85, 59); fill-opacity: 1;\"/><path class=\"point\" transform=\"translate(58.38,308.37)\" d=\"M3,0A3,3 0 1,1 0,-3A3,3 0 0,1 3,0Z\" style=\"opacity: 1; stroke-width: 0px; fill: rgb(239, 85, 59); fill-opacity: 1;\"/><path class=\"point\" transform=\"translate(53.93,308.37)\" d=\"M3,0A3,3 0 1,1 0,-3A3,3 0 0,1 3,0Z\" style=\"opacity: 1; stroke-width: 0px; fill: rgb(239, 85, 59); fill-opacity: 1;\"/><path class=\"point\" transform=\"translate(58.75,308.37)\" d=\"M3,0A3,3 0 1,1 0,-3A3,3 0 0,1 3,0Z\" style=\"opacity: 1; stroke-width: 0px; fill: rgb(239, 85, 59); fill-opacity: 1;\"/><path class=\"point\" transform=\"translate(57.44,308.37)\" d=\"M3,0A3,3 0 1,1 0,-3A3,3 0 0,1 3,0Z\" style=\"opacity: 1; stroke-width: 0px; fill: rgb(239, 85, 59); fill-opacity: 1;\"/><path class=\"point\" transform=\"translate(55.64,308.37)\" d=\"M3,0A3,3 0 1,1 0,-3A3,3 0 0,1 3,0Z\" style=\"opacity: 1; stroke-width: 0px; fill: rgb(239, 85, 59); fill-opacity: 1;\"/><path class=\"point\" transform=\"translate(54.62,308.37)\" d=\"M3,0A3,3 0 1,1 0,-3A3,3 0 0,1 3,0Z\" style=\"opacity: 1; stroke-width: 0px; fill: rgb(239, 85, 59); fill-opacity: 1;\"/><path class=\"point\" transform=\"translate(58.25,308.37)\" d=\"M3,0A3,3 0 1,1 0,-3A3,3 0 0,1 3,0Z\" style=\"opacity: 1; stroke-width: 0px; fill: rgb(239, 85, 59); fill-opacity: 1;\"/><path class=\"point\" transform=\"translate(56.39,308.37)\" d=\"M3,0A3,3 0 1,1 0,-3A3,3 0 0,1 3,0Z\" style=\"opacity: 1; stroke-width: 0px; fill: rgb(239, 85, 59); fill-opacity: 1;\"/><path class=\"point\" transform=\"translate(58.53,305.16)\" d=\"M3,0A3,3 0 1,1 0,-3A3,3 0 0,1 3,0Z\" style=\"opacity: 1; stroke-width: 0px; fill: rgb(239, 85, 59); fill-opacity: 1;\"/><path class=\"point\" transform=\"translate(54.41,304.09)\" d=\"M3,0A3,3 0 1,1 0,-3A3,3 0 0,1 3,0Z\" style=\"opacity: 1; stroke-width: 0px; fill: rgb(239, 85, 59); fill-opacity: 1;\"/><path class=\"point\" transform=\"translate(58.4,304.09)\" d=\"M3,0A3,3 0 1,1 0,-3A3,3 0 0,1 3,0Z\" style=\"opacity: 1; stroke-width: 0px; fill: rgb(239, 85, 59); fill-opacity: 1;\"/><path class=\"point\" transform=\"translate(56.46,304.09)\" d=\"M3,0A3,3 0 1,1 0,-3A3,3 0 0,1 3,0Z\" style=\"opacity: 1; stroke-width: 0px; fill: rgb(239, 85, 59); fill-opacity: 1;\"/><path class=\"point\" transform=\"translate(55.71,297.67)\" d=\"M3,0A3,3 0 1,1 0,-3A3,3 0 0,1 3,0Z\" style=\"opacity: 1; stroke-width: 0px; fill: rgb(239, 85, 59); fill-opacity: 1;\"/><path class=\"point\" transform=\"translate(54.26,297.67)\" d=\"M3,0A3,3 0 1,1 0,-3A3,3 0 0,1 3,0Z\" style=\"opacity: 1; stroke-width: 0px; fill: rgb(239, 85, 59); fill-opacity: 1;\"/><path class=\"point\" transform=\"translate(55.72,297.67)\" d=\"M3,0A3,3 0 1,1 0,-3A3,3 0 0,1 3,0Z\" style=\"opacity: 1; stroke-width: 0px; fill: rgb(239, 85, 59); fill-opacity: 1;\"/><path class=\"point\" transform=\"translate(58.2,297.67)\" d=\"M3,0A3,3 0 1,1 0,-3A3,3 0 0,1 3,0Z\" style=\"opacity: 1; stroke-width: 0px; fill: rgb(239, 85, 59); fill-opacity: 1;\"/><path class=\"point\" transform=\"translate(56.13,297.67)\" d=\"M3,0A3,3 0 1,1 0,-3A3,3 0 0,1 3,0Z\" style=\"opacity: 1; stroke-width: 0px; fill: rgb(239, 85, 59); fill-opacity: 1;\"/><path class=\"point\" transform=\"translate(54.58,295.53)\" d=\"M3,0A3,3 0 1,1 0,-3A3,3 0 0,1 3,0Z\" style=\"opacity: 1; stroke-width: 0px; fill: rgb(239, 85, 59); fill-opacity: 1;\"/><path class=\"point\" transform=\"translate(57.99,292.32)\" d=\"M3,0A3,3 0 1,1 0,-3A3,3 0 0,1 3,0Z\" style=\"opacity: 1; stroke-width: 0px; fill: rgb(239, 85, 59); fill-opacity: 1;\"/><path class=\"point\" transform=\"translate(55.23,291.25)\" d=\"M3,0A3,3 0 1,1 0,-3A3,3 0 0,1 3,0Z\" style=\"opacity: 1; stroke-width: 0px; fill: rgb(239, 85, 59); fill-opacity: 1;\"/><path class=\"point\" transform=\"translate(56.68,289.11)\" d=\"M3,0A3,3 0 1,1 0,-3A3,3 0 0,1 3,0Z\" style=\"opacity: 1; stroke-width: 0px; fill: rgb(239, 85, 59); fill-opacity: 1;\"/><path class=\"point\" transform=\"translate(57.84,289.11)\" d=\"M3,0A3,3 0 1,1 0,-3A3,3 0 0,1 3,0Z\" style=\"opacity: 1; stroke-width: 0px; fill: rgb(239, 85, 59); fill-opacity: 1;\"/><path class=\"point\" transform=\"translate(53.75,286.97)\" d=\"M3,0A3,3 0 1,1 0,-3A3,3 0 0,1 3,0Z\" style=\"opacity: 1; stroke-width: 0px; fill: rgb(239, 85, 59); fill-opacity: 1;\"/><path class=\"point\" transform=\"translate(59.94,286.97)\" d=\"M3,0A3,3 0 1,1 0,-3A3,3 0 0,1 3,0Z\" style=\"opacity: 1; stroke-width: 0px; fill: rgb(239, 85, 59); fill-opacity: 1;\"/><path class=\"point\" transform=\"translate(58.13,286.97)\" d=\"M3,0A3,3 0 1,1 0,-3A3,3 0 0,1 3,0Z\" style=\"opacity: 1; stroke-width: 0px; fill: rgb(239, 85, 59); fill-opacity: 1;\"/><path class=\"point\" transform=\"translate(53.6,286.97)\" d=\"M3,0A3,3 0 1,1 0,-3A3,3 0 0,1 3,0Z\" style=\"opacity: 1; stroke-width: 0px; fill: rgb(239, 85, 59); fill-opacity: 1;\"/><path class=\"point\" transform=\"translate(59.44,286.97)\" d=\"M3,0A3,3 0 1,1 0,-3A3,3 0 0,1 3,0Z\" style=\"opacity: 1; stroke-width: 0px; fill: rgb(239, 85, 59); fill-opacity: 1;\"/><path class=\"point\" transform=\"translate(54.12,286.97)\" d=\"M3,0A3,3 0 1,1 0,-3A3,3 0 0,1 3,0Z\" style=\"opacity: 1; stroke-width: 0px; fill: rgb(239, 85, 59); fill-opacity: 1;\"/><path class=\"point\" transform=\"translate(56.26,286.97)\" d=\"M3,0A3,3 0 1,1 0,-3A3,3 0 0,1 3,0Z\" style=\"opacity: 1; stroke-width: 0px; fill: rgb(239, 85, 59); fill-opacity: 1;\"/><path class=\"point\" transform=\"translate(57.12,286.97)\" d=\"M3,0A3,3 0 1,1 0,-3A3,3 0 0,1 3,0Z\" style=\"opacity: 1; stroke-width: 0px; fill: rgb(239, 85, 59); fill-opacity: 1;\"/><path class=\"point\" transform=\"translate(55.24,286.97)\" d=\"M3,0A3,3 0 1,1 0,-3A3,3 0 0,1 3,0Z\" style=\"opacity: 1; stroke-width: 0px; fill: rgb(239, 85, 59); fill-opacity: 1;\"/><path class=\"point\" transform=\"translate(58.9,286.97)\" d=\"M3,0A3,3 0 1,1 0,-3A3,3 0 0,1 3,0Z\" style=\"opacity: 1; stroke-width: 0px; fill: rgb(239, 85, 59); fill-opacity: 1;\"/><path class=\"point\" transform=\"translate(54.5,286.97)\" d=\"M3,0A3,3 0 1,1 0,-3A3,3 0 0,1 3,0Z\" style=\"opacity: 1; stroke-width: 0px; fill: rgb(239, 85, 59); fill-opacity: 1;\"/><path class=\"point\" transform=\"translate(58,286.97)\" d=\"M3,0A3,3 0 1,1 0,-3A3,3 0 0,1 3,0Z\" style=\"opacity: 1; stroke-width: 0px; fill: rgb(239, 85, 59); fill-opacity: 1;\"/><path class=\"point\" transform=\"translate(59.23,286.97)\" d=\"M3,0A3,3 0 1,1 0,-3A3,3 0 0,1 3,0Z\" style=\"opacity: 1; stroke-width: 0px; fill: rgb(239, 85, 59); fill-opacity: 1;\"/><path class=\"point\" transform=\"translate(53.41,286.97)\" d=\"M3,0A3,3 0 1,1 0,-3A3,3 0 0,1 3,0Z\" style=\"opacity: 1; stroke-width: 0px; fill: rgb(239, 85, 59); fill-opacity: 1;\"/><path class=\"point\" transform=\"translate(54.76,286.97)\" d=\"M3,0A3,3 0 1,1 0,-3A3,3 0 0,1 3,0Z\" style=\"opacity: 1; stroke-width: 0px; fill: rgb(239, 85, 59); fill-opacity: 1;\"/><path class=\"point\" transform=\"translate(58.55,286.97)\" d=\"M3,0A3,3 0 1,1 0,-3A3,3 0 0,1 3,0Z\" style=\"opacity: 1; stroke-width: 0px; fill: rgb(239, 85, 59); fill-opacity: 1;\"/><path class=\"point\" transform=\"translate(55.85,286.97)\" d=\"M3,0A3,3 0 1,1 0,-3A3,3 0 0,1 3,0Z\" style=\"opacity: 1; stroke-width: 0px; fill: rgb(239, 85, 59); fill-opacity: 1;\"/><path class=\"point\" transform=\"translate(56.92,286.97)\" d=\"M3,0A3,3 0 1,1 0,-3A3,3 0 0,1 3,0Z\" style=\"opacity: 1; stroke-width: 0px; fill: rgb(239, 85, 59); fill-opacity: 1;\"/><path class=\"point\" transform=\"translate(59.1,284.83)\" d=\"M3,0A3,3 0 1,1 0,-3A3,3 0 0,1 3,0Z\" style=\"opacity: 1; stroke-width: 0px; fill: rgb(239, 85, 59); fill-opacity: 1;\"/><path class=\"point\" transform=\"translate(54.59,281.62)\" d=\"M3,0A3,3 0 1,1 0,-3A3,3 0 0,1 3,0Z\" style=\"opacity: 1; stroke-width: 0px; fill: rgb(239, 85, 59); fill-opacity: 1;\"/><path class=\"point\" transform=\"translate(59.37,280.55)\" d=\"M3,0A3,3 0 1,1 0,-3A3,3 0 0,1 3,0Z\" style=\"opacity: 1; stroke-width: 0px; fill: rgb(239, 85, 59); fill-opacity: 1;\"/><path class=\"point\" transform=\"translate(54.67,279.48)\" d=\"M3,0A3,3 0 1,1 0,-3A3,3 0 0,1 3,0Z\" style=\"opacity: 1; stroke-width: 0px; fill: rgb(239, 85, 59); fill-opacity: 1;\"/><path class=\"point\" transform=\"translate(59.34,278.41)\" d=\"M3,0A3,3 0 1,1 0,-3A3,3 0 0,1 3,0Z\" style=\"opacity: 1; stroke-width: 0px; fill: rgb(239, 85, 59); fill-opacity: 1;\"/><path class=\"point\" transform=\"translate(55.22,277.34)\" d=\"M3,0A3,3 0 1,1 0,-3A3,3 0 0,1 3,0Z\" style=\"opacity: 1; stroke-width: 0px; fill: rgb(239, 85, 59); fill-opacity: 1;\"/><path class=\"point\" transform=\"translate(59.3,276.26)\" d=\"M3,0A3,3 0 1,1 0,-3A3,3 0 0,1 3,0Z\" style=\"opacity: 1; stroke-width: 0px; fill: rgb(239, 85, 59); fill-opacity: 1;\"/><path class=\"point\" transform=\"translate(57.67,276.26)\" d=\"M3,0A3,3 0 1,1 0,-3A3,3 0 0,1 3,0Z\" style=\"opacity: 1; stroke-width: 0px; fill: rgb(239, 85, 59); fill-opacity: 1;\"/><path class=\"point\" transform=\"translate(56.36,276.26)\" d=\"M3,0A3,3 0 1,1 0,-3A3,3 0 0,1 3,0Z\" style=\"opacity: 1; stroke-width: 0px; fill: rgb(239, 85, 59); fill-opacity: 1;\"/><path class=\"point\" transform=\"translate(54.36,276.26)\" d=\"M3,0A3,3 0 1,1 0,-3A3,3 0 0,1 3,0Z\" style=\"opacity: 1; stroke-width: 0px; fill: rgb(239, 85, 59); fill-opacity: 1;\"/><path class=\"point\" transform=\"translate(56.26,276.26)\" d=\"M3,0A3,3 0 1,1 0,-3A3,3 0 0,1 3,0Z\" style=\"opacity: 1; stroke-width: 0px; fill: rgb(239, 85, 59); fill-opacity: 1;\"/><path class=\"point\" transform=\"translate(54.43,276.26)\" d=\"M3,0A3,3 0 1,1 0,-3A3,3 0 0,1 3,0Z\" style=\"opacity: 1; stroke-width: 0px; fill: rgb(239, 85, 59); fill-opacity: 1;\"/><path class=\"point\" transform=\"translate(55.2,276.26)\" d=\"M3,0A3,3 0 1,1 0,-3A3,3 0 0,1 3,0Z\" style=\"opacity: 1; stroke-width: 0px; fill: rgb(239, 85, 59); fill-opacity: 1;\"/><path class=\"point\" transform=\"translate(54.57,265.56)\" d=\"M3,0A3,3 0 1,1 0,-3A3,3 0 0,1 3,0Z\" style=\"opacity: 1; stroke-width: 0px; fill: rgb(239, 85, 59); fill-opacity: 1;\"/><path class=\"point\" transform=\"translate(54,265.56)\" d=\"M3,0A3,3 0 1,1 0,-3A3,3 0 0,1 3,0Z\" style=\"opacity: 1; stroke-width: 0px; fill: rgb(239, 85, 59); fill-opacity: 1;\"/><path class=\"point\" transform=\"translate(55.25,265.56)\" d=\"M3,0A3,3 0 1,1 0,-3A3,3 0 0,1 3,0Z\" style=\"opacity: 1; stroke-width: 0px; fill: rgb(239, 85, 59); fill-opacity: 1;\"/><path class=\"point\" transform=\"translate(57.35,265.56)\" d=\"M3,0A3,3 0 1,1 0,-3A3,3 0 0,1 3,0Z\" style=\"opacity: 1; stroke-width: 0px; fill: rgb(239, 85, 59); fill-opacity: 1;\"/><path class=\"point\" transform=\"translate(55.04,265.56)\" d=\"M3,0A3,3 0 1,1 0,-3A3,3 0 0,1 3,0Z\" style=\"opacity: 1; stroke-width: 0px; fill: rgb(239, 85, 59); fill-opacity: 1;\"/><path class=\"point\" transform=\"translate(57.29,265.56)\" d=\"M3,0A3,3 0 1,1 0,-3A3,3 0 0,1 3,0Z\" style=\"opacity: 1; stroke-width: 0px; fill: rgb(239, 85, 59); fill-opacity: 1;\"/><path class=\"point\" transform=\"translate(57.79,265.56)\" d=\"M3,0A3,3 0 1,1 0,-3A3,3 0 0,1 3,0Z\" style=\"opacity: 1; stroke-width: 0px; fill: rgb(239, 85, 59); fill-opacity: 1;\"/><path class=\"point\" transform=\"translate(56.91,265.56)\" d=\"M3,0A3,3 0 1,1 0,-3A3,3 0 0,1 3,0Z\" style=\"opacity: 1; stroke-width: 0px; fill: rgb(239, 85, 59); fill-opacity: 1;\"/><path class=\"point\" transform=\"translate(55.56,257)\" d=\"M3,0A3,3 0 1,1 0,-3A3,3 0 0,1 3,0Z\" style=\"opacity: 1; stroke-width: 0px; fill: rgb(239, 85, 59); fill-opacity: 1;\"/><path class=\"point\" transform=\"translate(56.03,254.86)\" d=\"M3,0A3,3 0 1,1 0,-3A3,3 0 0,1 3,0Z\" style=\"opacity: 1; stroke-width: 0px; fill: rgb(239, 85, 59); fill-opacity: 1;\"/><path class=\"point\" transform=\"translate(58.52,254.86)\" d=\"M3,0A3,3 0 1,1 0,-3A3,3 0 0,1 3,0Z\" style=\"opacity: 1; stroke-width: 0px; fill: rgb(239, 85, 59); fill-opacity: 1;\"/><path class=\"point\" transform=\"translate(55.68,250.58)\" d=\"M3,0A3,3 0 1,1 0,-3A3,3 0 0,1 3,0Z\" style=\"opacity: 1; stroke-width: 0px; fill: rgb(239, 85, 59); fill-opacity: 1;\"/><path class=\"point\" transform=\"translate(56.9,244.16)\" d=\"M3,0A3,3 0 1,1 0,-3A3,3 0 0,1 3,0Z\" style=\"opacity: 1; stroke-width: 0px; fill: rgb(239, 85, 59); fill-opacity: 1;\"/><path class=\"point\" transform=\"translate(58.01,244.16)\" d=\"M3,0A3,3 0 1,1 0,-3A3,3 0 0,1 3,0Z\" style=\"opacity: 1; stroke-width: 0px; fill: rgb(239, 85, 59); fill-opacity: 1;\"/><path class=\"point\" transform=\"translate(54.85,244.16)\" d=\"M3,0A3,3 0 1,1 0,-3A3,3 0 0,1 3,0Z\" style=\"opacity: 1; stroke-width: 0px; fill: rgb(239, 85, 59); fill-opacity: 1;\"/><path class=\"point\" transform=\"translate(56.42,244.16)\" d=\"M3,0A3,3 0 1,1 0,-3A3,3 0 0,1 3,0Z\" style=\"opacity: 1; stroke-width: 0px; fill: rgb(239, 85, 59); fill-opacity: 1;\"/><path class=\"point\" transform=\"translate(58.57,244.16)\" d=\"M3,0A3,3 0 1,1 0,-3A3,3 0 0,1 3,0Z\" style=\"opacity: 1; stroke-width: 0px; fill: rgb(239, 85, 59); fill-opacity: 1;\"/><path class=\"point\" transform=\"translate(54.28,244.16)\" d=\"M3,0A3,3 0 1,1 0,-3A3,3 0 0,1 3,0Z\" style=\"opacity: 1; stroke-width: 0px; fill: rgb(239, 85, 59); fill-opacity: 1;\"/><path class=\"point\" transform=\"translate(56.26,239.88)\" d=\"M3,0A3,3 0 1,1 0,-3A3,3 0 0,1 3,0Z\" style=\"opacity: 1; stroke-width: 0px; fill: rgb(239, 85, 59); fill-opacity: 1;\"/><path class=\"point\" transform=\"translate(57.67,238.81)\" d=\"M3,0A3,3 0 1,1 0,-3A3,3 0 0,1 3,0Z\" style=\"opacity: 1; stroke-width: 0px; fill: rgb(239, 85, 59); fill-opacity: 1;\"/><path class=\"point\" transform=\"translate(58.1,233.46)\" d=\"M3,0A3,3 0 1,1 0,-3A3,3 0 0,1 3,0Z\" style=\"opacity: 1; stroke-width: 0px; fill: rgb(239, 85, 59); fill-opacity: 1;\"/><path class=\"point\" transform=\"translate(58.5,233.46)\" d=\"M3,0A3,3 0 1,1 0,-3A3,3 0 0,1 3,0Z\" style=\"opacity: 1; stroke-width: 0px; fill: rgb(239, 85, 59); fill-opacity: 1;\"/><path class=\"point\" transform=\"translate(55,233.46)\" d=\"M3,0A3,3 0 1,1 0,-3A3,3 0 0,1 3,0Z\" style=\"opacity: 1; stroke-width: 0px; fill: rgb(239, 85, 59); fill-opacity: 1;\"/><path class=\"point\" transform=\"translate(57.18,225.97)\" d=\"M3,0A3,3 0 1,1 0,-3A3,3 0 0,1 3,0Z\" style=\"opacity: 1; stroke-width: 0px; fill: rgb(239, 85, 59); fill-opacity: 1;\"/><path class=\"point\" transform=\"translate(55.3,224.9)\" d=\"M3,0A3,3 0 1,1 0,-3A3,3 0 0,1 3,0Z\" style=\"opacity: 1; stroke-width: 0px; fill: rgb(239, 85, 59); fill-opacity: 1;\"/><path class=\"point\" transform=\"translate(58.1,222.76)\" d=\"M3,0A3,3 0 1,1 0,-3A3,3 0 0,1 3,0Z\" style=\"opacity: 1; stroke-width: 0px; fill: rgb(239, 85, 59); fill-opacity: 1;\"/><path class=\"point\" transform=\"translate(56.87,222.76)\" d=\"M3,0A3,3 0 1,1 0,-3A3,3 0 0,1 3,0Z\" style=\"opacity: 1; stroke-width: 0px; fill: rgb(239, 85, 59); fill-opacity: 1;\"/><path class=\"point\" transform=\"translate(56.37,222.76)\" d=\"M3,0A3,3 0 1,1 0,-3A3,3 0 0,1 3,0Z\" style=\"opacity: 1; stroke-width: 0px; fill: rgb(239, 85, 59); fill-opacity: 1;\"/><path class=\"point\" transform=\"translate(57.75,222.76)\" d=\"M3,0A3,3 0 1,1 0,-3A3,3 0 0,1 3,0Z\" style=\"opacity: 1; stroke-width: 0px; fill: rgb(239, 85, 59); fill-opacity: 1;\"/><path class=\"point\" transform=\"translate(55.92,201.36)\" d=\"M3,0A3,3 0 1,1 0,-3A3,3 0 0,1 3,0Z\" style=\"opacity: 1; stroke-width: 0px; fill: rgb(239, 85, 59); fill-opacity: 1;\"/><path class=\"point\" transform=\"translate(56.24,201.36)\" d=\"M3,0A3,3 0 1,1 0,-3A3,3 0 0,1 3,0Z\" style=\"opacity: 1; stroke-width: 0px; fill: rgb(239, 85, 59); fill-opacity: 1;\"/><path class=\"point\" transform=\"translate(56.54,169.25)\" d=\"M3,0A3,3 0 1,1 0,-3A3,3 0 0,1 3,0Z\" style=\"opacity: 1; stroke-width: 0px; fill: rgb(239, 85, 59); fill-opacity: 1;\"/><path class=\"point\" transform=\"translate(57.14,169.25)\" d=\"M3,0A3,3 0 1,1 0,-3A3,3 0 0,1 3,0Z\" style=\"opacity: 1; stroke-width: 0px; fill: rgb(239, 85, 59); fill-opacity: 1;\"/><path class=\"point\" transform=\"translate(56.26,169.25)\" d=\"M3,0A3,3 0 1,1 0,-3A3,3 0 0,1 3,0Z\" style=\"opacity: 1; stroke-width: 0px; fill: rgb(239, 85, 59); fill-opacity: 1;\"/><path class=\"point\" transform=\"translate(56.59,169.25)\" d=\"M3,0A3,3 0 1,1 0,-3A3,3 0 0,1 3,0Z\" style=\"opacity: 1; stroke-width: 0px; fill: rgb(239, 85, 59); fill-opacity: 1;\"/><path class=\"point\" transform=\"translate(56.29,158.55)\" d=\"M3,0A3,3 0 1,1 0,-3A3,3 0 0,1 3,0Z\" style=\"opacity: 1; stroke-width: 0px; fill: rgb(239, 85, 59); fill-opacity: 1;\"/><path class=\"point\" transform=\"translate(57.59,153.2)\" d=\"M3,0A3,3 0 1,1 0,-3A3,3 0 0,1 3,0Z\" style=\"opacity: 1; stroke-width: 0px; fill: rgb(239, 85, 59); fill-opacity: 1;\"/><path class=\"point\" transform=\"translate(56.45,145.71)\" d=\"M3,0A3,3 0 1,1 0,-3A3,3 0 0,1 3,0Z\" style=\"opacity: 1; stroke-width: 0px; fill: rgb(239, 85, 59); fill-opacity: 1;\"/><path class=\"point\" transform=\"translate(57.2,137.15)\" d=\"M3,0A3,3 0 1,1 0,-3A3,3 0 0,1 3,0Z\" style=\"opacity: 1; stroke-width: 0px; fill: rgb(239, 85, 59); fill-opacity: 1;\"/><path class=\"point\" transform=\"translate(56.71,130.73)\" d=\"M3,0A3,3 0 1,1 0,-3A3,3 0 0,1 3,0Z\" style=\"opacity: 1; stroke-width: 0px; fill: rgb(239, 85, 59); fill-opacity: 1;\"/><path class=\"point\" transform=\"translate(57.19,115.75)\" d=\"M3,0A3,3 0 1,1 0,-3A3,3 0 0,1 3,0Z\" style=\"opacity: 1; stroke-width: 0px; fill: rgb(239, 85, 59); fill-opacity: 1;\"/><path class=\"point\" transform=\"translate(56.15,115.75)\" d=\"M3,0A3,3 0 1,1 0,-3A3,3 0 0,1 3,0Z\" style=\"opacity: 1; stroke-width: 0px; fill: rgb(239, 85, 59); fill-opacity: 1;\"/><path class=\"point\" transform=\"translate(56.78,115.75)\" d=\"M3,0A3,3 0 1,1 0,-3A3,3 0 0,1 3,0Z\" style=\"opacity: 1; stroke-width: 0px; fill: rgb(239, 85, 59); fill-opacity: 1;\"/><path class=\"point\" transform=\"translate(57.1,72.95)\" d=\"M3,0A3,3 0 1,1 0,-3A3,3 0 0,1 3,0Z\" style=\"opacity: 1; stroke-width: 0px; fill: rgb(239, 85, 59); fill-opacity: 1;\"/><path class=\"point\" transform=\"translate(56.73,62.24)\" d=\"M3,0A3,3 0 1,1 0,-3A3,3 0 0,1 3,0Z\" style=\"opacity: 1; stroke-width: 0px; fill: rgb(239, 85, 59); fill-opacity: 1;\"/></g></g><g class=\"trace boxes\" style=\"opacity: 1;\"><path class=\"box\" d=\"M109.89,276.26H133.11M109.89,297.67H133.11V225.97H109.89ZM121.5,297.67V326.56M121.5,225.97V149.99M115.69,326.56H127.31M115.69,149.99H127.31\" style=\"vector-effect: non-scaling-stroke; stroke-width: 2px; stroke: rgb(0, 204, 150); stroke-opacity: 1; fill: rgb(0, 204, 150); fill-opacity: 0.5;\"/><g class=\"points\"><path class=\"point\" transform=\"translate(105.04,326.56)\" d=\"M3,0A3,3 0 1,1 0,-3A3,3 0 0,1 3,0Z\" style=\"opacity: 1; stroke-width: 0px; fill: rgb(0, 204, 150); fill-opacity: 1;\"/><path class=\"point\" transform=\"translate(102.8,319.07)\" d=\"M3,0A3,3 0 1,1 0,-3A3,3 0 0,1 3,0Z\" style=\"opacity: 1; stroke-width: 0px; fill: rgb(0, 204, 150); fill-opacity: 1;\"/><path class=\"point\" transform=\"translate(105.77,319.07)\" d=\"M3,0A3,3 0 1,1 0,-3A3,3 0 0,1 3,0Z\" style=\"opacity: 1; stroke-width: 0px; fill: rgb(0, 204, 150); fill-opacity: 1;\"/><path class=\"point\" transform=\"translate(102.43,316.93)\" d=\"M3,0A3,3 0 1,1 0,-3A3,3 0 0,1 3,0Z\" style=\"opacity: 1; stroke-width: 0px; fill: rgb(0, 204, 150); fill-opacity: 1;\"/><path class=\"point\" transform=\"translate(103.57,316.93)\" d=\"M3,0A3,3 0 1,1 0,-3A3,3 0 0,1 3,0Z\" style=\"opacity: 1; stroke-width: 0px; fill: rgb(0, 204, 150); fill-opacity: 1;\"/><path class=\"point\" transform=\"translate(105.23,313.72)\" d=\"M3,0A3,3 0 1,1 0,-3A3,3 0 0,1 3,0Z\" style=\"opacity: 1; stroke-width: 0px; fill: rgb(0, 204, 150); fill-opacity: 1;\"/><path class=\"point\" transform=\"translate(103.97,313.72)\" d=\"M3,0A3,3 0 1,1 0,-3A3,3 0 0,1 3,0Z\" style=\"opacity: 1; stroke-width: 0px; fill: rgb(0, 204, 150); fill-opacity: 1;\"/><path class=\"point\" transform=\"translate(104.91,313.72)\" d=\"M3,0A3,3 0 1,1 0,-3A3,3 0 0,1 3,0Z\" style=\"opacity: 1; stroke-width: 0px; fill: rgb(0, 204, 150); fill-opacity: 1;\"/><path class=\"point\" transform=\"translate(103.06,308.37)\" d=\"M3,0A3,3 0 1,1 0,-3A3,3 0 0,1 3,0Z\" style=\"opacity: 1; stroke-width: 0px; fill: rgb(0, 204, 150); fill-opacity: 1;\"/><path class=\"point\" transform=\"translate(102.25,308.37)\" d=\"M3,0A3,3 0 1,1 0,-3A3,3 0 0,1 3,0Z\" style=\"opacity: 1; stroke-width: 0px; fill: rgb(0, 204, 150); fill-opacity: 1;\"/><path class=\"point\" transform=\"translate(104.7,308.37)\" d=\"M3,0A3,3 0 1,1 0,-3A3,3 0 0,1 3,0Z\" style=\"opacity: 1; stroke-width: 0px; fill: rgb(0, 204, 150); fill-opacity: 1;\"/><path class=\"point\" transform=\"translate(103.31,308.37)\" d=\"M3,0A3,3 0 1,1 0,-3A3,3 0 0,1 3,0Z\" style=\"opacity: 1; stroke-width: 0px; fill: rgb(0, 204, 150); fill-opacity: 1;\"/><path class=\"point\" transform=\"translate(105.56,308.37)\" d=\"M3,0A3,3 0 1,1 0,-3A3,3 0 0,1 3,0Z\" style=\"opacity: 1; stroke-width: 0px; fill: rgb(0, 204, 150); fill-opacity: 1;\"/><path class=\"point\" transform=\"translate(101.3,308.37)\" d=\"M3,0A3,3 0 1,1 0,-3A3,3 0 0,1 3,0Z\" style=\"opacity: 1; stroke-width: 0px; fill: rgb(0, 204, 150); fill-opacity: 1;\"/><path class=\"point\" transform=\"translate(102.43,303.02)\" d=\"M3,0A3,3 0 1,1 0,-3A3,3 0 0,1 3,0Z\" style=\"opacity: 1; stroke-width: 0px; fill: rgb(0, 204, 150); fill-opacity: 1;\"/><path class=\"point\" transform=\"translate(106.6,297.67)\" d=\"M3,0A3,3 0 1,1 0,-3A3,3 0 0,1 3,0Z\" style=\"opacity: 1; stroke-width: 0px; fill: rgb(0, 204, 150); fill-opacity: 1;\"/><path class=\"point\" transform=\"translate(103.37,297.67)\" d=\"M3,0A3,3 0 1,1 0,-3A3,3 0 0,1 3,0Z\" style=\"opacity: 1; stroke-width: 0px; fill: rgb(0, 204, 150); fill-opacity: 1;\"/><path class=\"point\" transform=\"translate(101.63,297.67)\" d=\"M3,0A3,3 0 1,1 0,-3A3,3 0 0,1 3,0Z\" style=\"opacity: 1; stroke-width: 0px; fill: rgb(0, 204, 150); fill-opacity: 1;\"/><path class=\"point\" transform=\"translate(103.14,297.67)\" d=\"M3,0A3,3 0 1,1 0,-3A3,3 0 0,1 3,0Z\" style=\"opacity: 1; stroke-width: 0px; fill: rgb(0, 204, 150); fill-opacity: 1;\"/><path class=\"point\" transform=\"translate(104.01,297.67)\" d=\"M3,0A3,3 0 1,1 0,-3A3,3 0 0,1 3,0Z\" style=\"opacity: 1; stroke-width: 0px; fill: rgb(0, 204, 150); fill-opacity: 1;\"/><path class=\"point\" transform=\"translate(105.65,297.67)\" d=\"M3,0A3,3 0 1,1 0,-3A3,3 0 0,1 3,0Z\" style=\"opacity: 1; stroke-width: 0px; fill: rgb(0, 204, 150); fill-opacity: 1;\"/><path class=\"point\" transform=\"translate(104.47,297.67)\" d=\"M3,0A3,3 0 1,1 0,-3A3,3 0 0,1 3,0Z\" style=\"opacity: 1; stroke-width: 0px; fill: rgb(0, 204, 150); fill-opacity: 1;\"/><path class=\"point\" transform=\"translate(103.1,297.67)\" d=\"M3,0A3,3 0 1,1 0,-3A3,3 0 0,1 3,0Z\" style=\"opacity: 1; stroke-width: 0px; fill: rgb(0, 204, 150); fill-opacity: 1;\"/><path class=\"point\" transform=\"translate(101.17,297.67)\" d=\"M3,0A3,3 0 1,1 0,-3A3,3 0 0,1 3,0Z\" style=\"opacity: 1; stroke-width: 0px; fill: rgb(0, 204, 150); fill-opacity: 1;\"/><path class=\"point\" transform=\"translate(104.07,297.67)\" d=\"M3,0A3,3 0 1,1 0,-3A3,3 0 0,1 3,0Z\" style=\"opacity: 1; stroke-width: 0px; fill: rgb(0, 204, 150); fill-opacity: 1;\"/><path class=\"point\" transform=\"translate(103.06,297.67)\" d=\"M3,0A3,3 0 1,1 0,-3A3,3 0 0,1 3,0Z\" style=\"opacity: 1; stroke-width: 0px; fill: rgb(0, 204, 150); fill-opacity: 1;\"/><path class=\"point\" transform=\"translate(105.7,297.67)\" d=\"M3,0A3,3 0 1,1 0,-3A3,3 0 0,1 3,0Z\" style=\"opacity: 1; stroke-width: 0px; fill: rgb(0, 204, 150); fill-opacity: 1;\"/><path class=\"point\" transform=\"translate(103.77,297.67)\" d=\"M3,0A3,3 0 1,1 0,-3A3,3 0 0,1 3,0Z\" style=\"opacity: 1; stroke-width: 0px; fill: rgb(0, 204, 150); fill-opacity: 1;\"/><path class=\"point\" transform=\"translate(101.8,297.67)\" d=\"M3,0A3,3 0 1,1 0,-3A3,3 0 0,1 3,0Z\" style=\"opacity: 1; stroke-width: 0px; fill: rgb(0, 204, 150); fill-opacity: 1;\"/><path class=\"point\" transform=\"translate(100.83,295.53)\" d=\"M3,0A3,3 0 1,1 0,-3A3,3 0 0,1 3,0Z\" style=\"opacity: 1; stroke-width: 0px; fill: rgb(0, 204, 150); fill-opacity: 1;\"/><path class=\"point\" transform=\"translate(105.78,295.53)\" d=\"M3,0A3,3 0 1,1 0,-3A3,3 0 0,1 3,0Z\" style=\"opacity: 1; stroke-width: 0px; fill: rgb(0, 204, 150); fill-opacity: 1;\"/><path class=\"point\" transform=\"translate(101.64,292.32)\" d=\"M3,0A3,3 0 1,1 0,-3A3,3 0 0,1 3,0Z\" style=\"opacity: 1; stroke-width: 0px; fill: rgb(0, 204, 150); fill-opacity: 1;\"/><path class=\"point\" transform=\"translate(105.77,292.32)\" d=\"M3,0A3,3 0 1,1 0,-3A3,3 0 0,1 3,0Z\" style=\"opacity: 1; stroke-width: 0px; fill: rgb(0, 204, 150); fill-opacity: 1;\"/><path class=\"point\" transform=\"translate(104.7,292.32)\" d=\"M3,0A3,3 0 1,1 0,-3A3,3 0 0,1 3,0Z\" style=\"opacity: 1; stroke-width: 0px; fill: rgb(0, 204, 150); fill-opacity: 1;\"/><path class=\"point\" transform=\"translate(103.13,291.25)\" d=\"M3,0A3,3 0 1,1 0,-3A3,3 0 0,1 3,0Z\" style=\"opacity: 1; stroke-width: 0px; fill: rgb(0, 204, 150); fill-opacity: 1;\"/><path class=\"point\" transform=\"translate(102.19,288.04)\" d=\"M3,0A3,3 0 1,1 0,-3A3,3 0 0,1 3,0Z\" style=\"opacity: 1; stroke-width: 0px; fill: rgb(0, 204, 150); fill-opacity: 1;\"/><path class=\"point\" transform=\"translate(105.65,286.97)\" d=\"M3,0A3,3 0 1,1 0,-3A3,3 0 0,1 3,0Z\" style=\"opacity: 1; stroke-width: 0px; fill: rgb(0, 204, 150); fill-opacity: 1;\"/><path class=\"point\" transform=\"translate(103.71,286.97)\" d=\"M3,0A3,3 0 1,1 0,-3A3,3 0 0,1 3,0Z\" style=\"opacity: 1; stroke-width: 0px; fill: rgb(0, 204, 150); fill-opacity: 1;\"/><path class=\"point\" transform=\"translate(106.04,286.97)\" d=\"M3,0A3,3 0 1,1 0,-3A3,3 0 0,1 3,0Z\" style=\"opacity: 1; stroke-width: 0px; fill: rgb(0, 204, 150); fill-opacity: 1;\"/><path class=\"point\" transform=\"translate(101.55,286.97)\" d=\"M3,0A3,3 0 1,1 0,-3A3,3 0 0,1 3,0Z\" style=\"opacity: 1; stroke-width: 0px; fill: rgb(0, 204, 150); fill-opacity: 1;\"/><path class=\"point\" transform=\"translate(105.82,286.97)\" d=\"M3,0A3,3 0 1,1 0,-3A3,3 0 0,1 3,0Z\" style=\"opacity: 1; stroke-width: 0px; fill: rgb(0, 204, 150); fill-opacity: 1;\"/><path class=\"point\" transform=\"translate(103.84,286.97)\" d=\"M3,0A3,3 0 1,1 0,-3A3,3 0 0,1 3,0Z\" style=\"opacity: 1; stroke-width: 0px; fill: rgb(0, 204, 150); fill-opacity: 1;\"/><path class=\"point\" transform=\"translate(102.96,284.83)\" d=\"M3,0A3,3 0 1,1 0,-3A3,3 0 0,1 3,0Z\" style=\"opacity: 1; stroke-width: 0px; fill: rgb(0, 204, 150); fill-opacity: 1;\"/><path class=\"point\" transform=\"translate(101.27,281.62)\" d=\"M3,0A3,3 0 1,1 0,-3A3,3 0 0,1 3,0Z\" style=\"opacity: 1; stroke-width: 0px; fill: rgb(0, 204, 150); fill-opacity: 1;\"/><path class=\"point\" transform=\"translate(102.97,281.62)\" d=\"M3,0A3,3 0 1,1 0,-3A3,3 0 0,1 3,0Z\" style=\"opacity: 1; stroke-width: 0px; fill: rgb(0, 204, 150); fill-opacity: 1;\"/><path class=\"point\" transform=\"translate(105.99,276.26)\" d=\"M3,0A3,3 0 1,1 0,-3A3,3 0 0,1 3,0Z\" style=\"opacity: 1; stroke-width: 0px; fill: rgb(0, 204, 150); fill-opacity: 1;\"/><path class=\"point\" transform=\"translate(103.6,276.26)\" d=\"M3,0A3,3 0 1,1 0,-3A3,3 0 0,1 3,0Z\" style=\"opacity: 1; stroke-width: 0px; fill: rgb(0, 204, 150); fill-opacity: 1;\"/><path class=\"point\" transform=\"translate(102.43,276.26)\" d=\"M3,0A3,3 0 1,1 0,-3A3,3 0 0,1 3,0Z\" style=\"opacity: 1; stroke-width: 0px; fill: rgb(0, 204, 150); fill-opacity: 1;\"/><path class=\"point\" transform=\"translate(105.21,276.26)\" d=\"M3,0A3,3 0 1,1 0,-3A3,3 0 0,1 3,0Z\" style=\"opacity: 1; stroke-width: 0px; fill: rgb(0, 204, 150); fill-opacity: 1;\"/><path class=\"point\" transform=\"translate(102.83,276.26)\" d=\"M3,0A3,3 0 1,1 0,-3A3,3 0 0,1 3,0Z\" style=\"opacity: 1; stroke-width: 0px; fill: rgb(0, 204, 150); fill-opacity: 1;\"/><path class=\"point\" transform=\"translate(104.08,276.26)\" d=\"M3,0A3,3 0 1,1 0,-3A3,3 0 0,1 3,0Z\" style=\"opacity: 1; stroke-width: 0px; fill: rgb(0, 204, 150); fill-opacity: 1;\"/><path class=\"point\" transform=\"translate(104.99,265.56)\" d=\"M3,0A3,3 0 1,1 0,-3A3,3 0 0,1 3,0Z\" style=\"opacity: 1; stroke-width: 0px; fill: rgb(0, 204, 150); fill-opacity: 1;\"/><path class=\"point\" transform=\"translate(102.12,265.56)\" d=\"M3,0A3,3 0 1,1 0,-3A3,3 0 0,1 3,0Z\" style=\"opacity: 1; stroke-width: 0px; fill: rgb(0, 204, 150); fill-opacity: 1;\"/><path class=\"point\" transform=\"translate(105.97,265.56)\" d=\"M3,0A3,3 0 1,1 0,-3A3,3 0 0,1 3,0Z\" style=\"opacity: 1; stroke-width: 0px; fill: rgb(0, 204, 150); fill-opacity: 1;\"/><path class=\"point\" transform=\"translate(104.83,265.56)\" d=\"M3,0A3,3 0 1,1 0,-3A3,3 0 0,1 3,0Z\" style=\"opacity: 1; stroke-width: 0px; fill: rgb(0, 204, 150); fill-opacity: 1;\"/><path class=\"point\" transform=\"translate(102.57,265.56)\" d=\"M3,0A3,3 0 1,1 0,-3A3,3 0 0,1 3,0Z\" style=\"opacity: 1; stroke-width: 0px; fill: rgb(0, 204, 150); fill-opacity: 1;\"/><path class=\"point\" transform=\"translate(105.68,257)\" d=\"M3,0A3,3 0 1,1 0,-3A3,3 0 0,1 3,0Z\" style=\"opacity: 1; stroke-width: 0px; fill: rgb(0, 204, 150); fill-opacity: 1;\"/><path class=\"point\" transform=\"translate(102.78,254.86)\" d=\"M3,0A3,3 0 1,1 0,-3A3,3 0 0,1 3,0Z\" style=\"opacity: 1; stroke-width: 0px; fill: rgb(0, 204, 150); fill-opacity: 1;\"/><path class=\"point\" transform=\"translate(103.88,254.86)\" d=\"M3,0A3,3 0 1,1 0,-3A3,3 0 0,1 3,0Z\" style=\"opacity: 1; stroke-width: 0px; fill: rgb(0, 204, 150); fill-opacity: 1;\"/><path class=\"point\" transform=\"translate(104.29,249.51)\" d=\"M3,0A3,3 0 1,1 0,-3A3,3 0 0,1 3,0Z\" style=\"opacity: 1; stroke-width: 0px; fill: rgb(0, 204, 150); fill-opacity: 1;\"/><path class=\"point\" transform=\"translate(103.42,246.3)\" d=\"M3,0A3,3 0 1,1 0,-3A3,3 0 0,1 3,0Z\" style=\"opacity: 1; stroke-width: 0px; fill: rgb(0, 204, 150); fill-opacity: 1;\"/><path class=\"point\" transform=\"translate(105.25,244.16)\" d=\"M3,0A3,3 0 1,1 0,-3A3,3 0 0,1 3,0Z\" style=\"opacity: 1; stroke-width: 0px; fill: rgb(0, 204, 150); fill-opacity: 1;\"/><path class=\"point\" transform=\"translate(102.98,237.74)\" d=\"M3,0A3,3 0 1,1 0,-3A3,3 0 0,1 3,0Z\" style=\"opacity: 1; stroke-width: 0px; fill: rgb(0, 204, 150); fill-opacity: 1;\"/><path class=\"point\" transform=\"translate(104.75,233.46)\" d=\"M3,0A3,3 0 1,1 0,-3A3,3 0 0,1 3,0Z\" style=\"opacity: 1; stroke-width: 0px; fill: rgb(0, 204, 150); fill-opacity: 1;\"/><path class=\"point\" transform=\"translate(105.52,233.46)\" d=\"M3,0A3,3 0 1,1 0,-3A3,3 0 0,1 3,0Z\" style=\"opacity: 1; stroke-width: 0px; fill: rgb(0, 204, 150); fill-opacity: 1;\"/><path class=\"point\" transform=\"translate(102.08,231.32)\" d=\"M3,0A3,3 0 1,1 0,-3A3,3 0 0,1 3,0Z\" style=\"opacity: 1; stroke-width: 0px; fill: rgb(0, 204, 150); fill-opacity: 1;\"/><path class=\"point\" transform=\"translate(102.84,231.32)\" d=\"M3,0A3,3 0 1,1 0,-3A3,3 0 0,1 3,0Z\" style=\"opacity: 1; stroke-width: 0px; fill: rgb(0, 204, 150); fill-opacity: 1;\"/><path class=\"point\" transform=\"translate(105.48,227.04)\" d=\"M3,0A3,3 0 1,1 0,-3A3,3 0 0,1 3,0Z\" style=\"opacity: 1; stroke-width: 0px; fill: rgb(0, 204, 150); fill-opacity: 1;\"/><path class=\"point\" transform=\"translate(103.26,227.04)\" d=\"M3,0A3,3 0 1,1 0,-3A3,3 0 0,1 3,0Z\" style=\"opacity: 1; stroke-width: 0px; fill: rgb(0, 204, 150); fill-opacity: 1;\"/><path class=\"point\" transform=\"translate(104.34,227.04)\" d=\"M3,0A3,3 0 1,1 0,-3A3,3 0 0,1 3,0Z\" style=\"opacity: 1; stroke-width: 0px; fill: rgb(0, 204, 150); fill-opacity: 1;\"/><path class=\"point\" transform=\"translate(106.79,227.04)\" d=\"M3,0A3,3 0 1,1 0,-3A3,3 0 0,1 3,0Z\" style=\"opacity: 1; stroke-width: 0px; fill: rgb(0, 204, 150); fill-opacity: 1;\"/><path class=\"point\" transform=\"translate(101.61,227.04)\" d=\"M3,0A3,3 0 1,1 0,-3A3,3 0 0,1 3,0Z\" style=\"opacity: 1; stroke-width: 0px; fill: rgb(0, 204, 150); fill-opacity: 1;\"/><path class=\"point\" transform=\"translate(107.55,224.9)\" d=\"M3,0A3,3 0 1,1 0,-3A3,3 0 0,1 3,0Z\" style=\"opacity: 1; stroke-width: 0px; fill: rgb(0, 204, 150); fill-opacity: 1;\"/><path class=\"point\" transform=\"translate(101.48,224.9)\" d=\"M3,0A3,3 0 1,1 0,-3A3,3 0 0,1 3,0Z\" style=\"opacity: 1; stroke-width: 0px; fill: rgb(0, 204, 150); fill-opacity: 1;\"/><path class=\"point\" transform=\"translate(107.52,224.9)\" d=\"M3,0A3,3 0 1,1 0,-3A3,3 0 0,1 3,0Z\" style=\"opacity: 1; stroke-width: 0px; fill: rgb(0, 204, 150); fill-opacity: 1;\"/><path class=\"point\" transform=\"translate(103.19,222.76)\" d=\"M3,0A3,3 0 1,1 0,-3A3,3 0 0,1 3,0Z\" style=\"opacity: 1; stroke-width: 0px; fill: rgb(0, 204, 150); fill-opacity: 1;\"/><path class=\"point\" transform=\"translate(105.47,222.76)\" d=\"M3,0A3,3 0 1,1 0,-3A3,3 0 0,1 3,0Z\" style=\"opacity: 1; stroke-width: 0px; fill: rgb(0, 204, 150); fill-opacity: 1;\"/><path class=\"point\" transform=\"translate(104.51,222.76)\" d=\"M3,0A3,3 0 1,1 0,-3A3,3 0 0,1 3,0Z\" style=\"opacity: 1; stroke-width: 0px; fill: rgb(0, 204, 150); fill-opacity: 1;\"/><path class=\"point\" transform=\"translate(103.89,222.76)\" d=\"M3,0A3,3 0 1,1 0,-3A3,3 0 0,1 3,0Z\" style=\"opacity: 1; stroke-width: 0px; fill: rgb(0, 204, 150); fill-opacity: 1;\"/><path class=\"point\" transform=\"translate(102.9,222.76)\" d=\"M3,0A3,3 0 1,1 0,-3A3,3 0 0,1 3,0Z\" style=\"opacity: 1; stroke-width: 0px; fill: rgb(0, 204, 150); fill-opacity: 1;\"/><path class=\"point\" transform=\"translate(103.88,201.36)\" d=\"M3,0A3,3 0 1,1 0,-3A3,3 0 0,1 3,0Z\" style=\"opacity: 1; stroke-width: 0px; fill: rgb(0, 204, 150); fill-opacity: 1;\"/><path class=\"point\" transform=\"translate(103.09,201.36)\" d=\"M3,0A3,3 0 1,1 0,-3A3,3 0 0,1 3,0Z\" style=\"opacity: 1; stroke-width: 0px; fill: rgb(0, 204, 150); fill-opacity: 1;\"/><path class=\"point\" transform=\"translate(103.44,186.38)\" d=\"M3,0A3,3 0 1,1 0,-3A3,3 0 0,1 3,0Z\" style=\"opacity: 1; stroke-width: 0px; fill: rgb(0, 204, 150); fill-opacity: 1;\"/><path class=\"point\" transform=\"translate(103.22,179.96)\" d=\"M3,0A3,3 0 1,1 0,-3A3,3 0 0,1 3,0Z\" style=\"opacity: 1; stroke-width: 0px; fill: rgb(0, 204, 150); fill-opacity: 1;\"/><path class=\"point\" transform=\"translate(103.19,169.25)\" d=\"M3,0A3,3 0 1,1 0,-3A3,3 0 0,1 3,0Z\" style=\"opacity: 1; stroke-width: 0px; fill: rgb(0, 204, 150); fill-opacity: 1;\"/><path class=\"point\" transform=\"translate(103.55,164.97)\" d=\"M3,0A3,3 0 1,1 0,-3A3,3 0 0,1 3,0Z\" style=\"opacity: 1; stroke-width: 0px; fill: rgb(0, 204, 150); fill-opacity: 1;\"/><path class=\"point\" transform=\"translate(104.42,160.69)\" d=\"M3,0A3,3 0 1,1 0,-3A3,3 0 0,1 3,0Z\" style=\"opacity: 1; stroke-width: 0px; fill: rgb(0, 204, 150); fill-opacity: 1;\"/><path class=\"point\" transform=\"translate(103.12,158.55)\" d=\"M3,0A3,3 0 1,1 0,-3A3,3 0 0,1 3,0Z\" style=\"opacity: 1; stroke-width: 0px; fill: rgb(0, 204, 150); fill-opacity: 1;\"/><path class=\"point\" transform=\"translate(104.34,149.99)\" d=\"M3,0A3,3 0 1,1 0,-3A3,3 0 0,1 3,0Z\" style=\"opacity: 1; stroke-width: 0px; fill: rgb(0, 204, 150); fill-opacity: 1;\"/><path class=\"point\" transform=\"translate(104.7,115.75)\" d=\"M3,0A3,3 0 1,1 0,-3A3,3 0 0,1 3,0Z\" style=\"opacity: 1; stroke-width: 0px; fill: rgb(0, 204, 150); fill-opacity: 1;\"/><path class=\"point\" transform=\"translate(104.19,115.75)\" d=\"M3,0A3,3 0 1,1 0,-3A3,3 0 0,1 3,0Z\" style=\"opacity: 1; stroke-width: 0px; fill: rgb(0, 204, 150); fill-opacity: 1;\"/><path class=\"point\" transform=\"translate(103.57,115.75)\" d=\"M3,0A3,3 0 1,1 0,-3A3,3 0 0,1 3,0Z\" style=\"opacity: 1; stroke-width: 0px; fill: rgb(0, 204, 150); fill-opacity: 1;\"/><path class=\"point\" transform=\"translate(103.8,115.75)\" d=\"M3,0A3,3 0 1,1 0,-3A3,3 0 0,1 3,0Z\" style=\"opacity: 1; stroke-width: 0px; fill: rgb(0, 204, 150); fill-opacity: 1;\"/><path class=\"point\" transform=\"translate(104.86,115.75)\" d=\"M3,0A3,3 0 1,1 0,-3A3,3 0 0,1 3,0Z\" style=\"opacity: 1; stroke-width: 0px; fill: rgb(0, 204, 150); fill-opacity: 1;\"/><path class=\"point\" transform=\"translate(103.59,115.75)\" d=\"M3,0A3,3 0 1,1 0,-3A3,3 0 0,1 3,0Z\" style=\"opacity: 1; stroke-width: 0px; fill: rgb(0, 204, 150); fill-opacity: 1;\"/><path class=\"point\" transform=\"translate(104.18,56.89)\" d=\"M3,0A3,3 0 1,1 0,-3A3,3 0 0,1 3,0Z\" style=\"opacity: 1; stroke-width: 0px; fill: rgb(0, 204, 150); fill-opacity: 1;\"/></g></g><g class=\"trace boxes\" style=\"opacity: 1;\"><path class=\"box\" d=\"M157.29,297.67H180.51M157.29,313.72H180.51V244.16H157.29ZM168.9,313.72V327.63M168.9,244.16V141.43M163.09,327.63H174.71M163.09,141.43H174.71\" style=\"vector-effect: non-scaling-stroke; stroke-width: 2px; stroke: rgb(171, 99, 250); stroke-opacity: 1; fill: rgb(171, 99, 250); fill-opacity: 0.5;\"/><g class=\"points\"><path class=\"point\" transform=\"translate(153.29,327.63)\" d=\"M3,0A3,3 0 1,1 0,-3A3,3 0 0,1 3,0Z\" style=\"opacity: 1; stroke-width: 0px; fill: rgb(171, 99, 250); fill-opacity: 1;\"/><path class=\"point\" transform=\"translate(149.26,327.63)\" d=\"M3,0A3,3 0 1,1 0,-3A3,3 0 0,1 3,0Z\" style=\"opacity: 1; stroke-width: 0px; fill: rgb(171, 99, 250); fill-opacity: 1;\"/><path class=\"point\" transform=\"translate(154.18,325.49)\" d=\"M3,0A3,3 0 1,1 0,-3A3,3 0 0,1 3,0Z\" style=\"opacity: 1; stroke-width: 0px; fill: rgb(171, 99, 250); fill-opacity: 1;\"/><path class=\"point\" transform=\"translate(148.53,325.49)\" d=\"M3,0A3,3 0 1,1 0,-3A3,3 0 0,1 3,0Z\" style=\"opacity: 1; stroke-width: 0px; fill: rgb(171, 99, 250); fill-opacity: 1;\"/><path class=\"point\" transform=\"translate(150.62,325.49)\" d=\"M3,0A3,3 0 1,1 0,-3A3,3 0 0,1 3,0Z\" style=\"opacity: 1; stroke-width: 0px; fill: rgb(171, 99, 250); fill-opacity: 1;\"/><path class=\"point\" transform=\"translate(153.31,325.49)\" d=\"M3,0A3,3 0 1,1 0,-3A3,3 0 0,1 3,0Z\" style=\"opacity: 1; stroke-width: 0px; fill: rgb(171, 99, 250); fill-opacity: 1;\"/><path class=\"point\" transform=\"translate(151.35,324.42)\" d=\"M3,0A3,3 0 1,1 0,-3A3,3 0 0,1 3,0Z\" style=\"opacity: 1; stroke-width: 0px; fill: rgb(171, 99, 250); fill-opacity: 1;\"/><path class=\"point\" transform=\"translate(152.49,324.42)\" d=\"M3,0A3,3 0 1,1 0,-3A3,3 0 0,1 3,0Z\" style=\"opacity: 1; stroke-width: 0px; fill: rgb(171, 99, 250); fill-opacity: 1;\"/><path class=\"point\" transform=\"translate(150.37,324.42)\" d=\"M3,0A3,3 0 1,1 0,-3A3,3 0 0,1 3,0Z\" style=\"opacity: 1; stroke-width: 0px; fill: rgb(171, 99, 250); fill-opacity: 1;\"/><path class=\"point\" transform=\"translate(148.93,324.42)\" d=\"M3,0A3,3 0 1,1 0,-3A3,3 0 0,1 3,0Z\" style=\"opacity: 1; stroke-width: 0px; fill: rgb(171, 99, 250); fill-opacity: 1;\"/><path class=\"point\" transform=\"translate(152.41,324.42)\" d=\"M3,0A3,3 0 1,1 0,-3A3,3 0 0,1 3,0Z\" style=\"opacity: 1; stroke-width: 0px; fill: rgb(171, 99, 250); fill-opacity: 1;\"/><path class=\"point\" transform=\"translate(150.33,323.35)\" d=\"M3,0A3,3 0 1,1 0,-3A3,3 0 0,1 3,0Z\" style=\"opacity: 1; stroke-width: 0px; fill: rgb(171, 99, 250); fill-opacity: 1;\"/><path class=\"point\" transform=\"translate(153.69,323.35)\" d=\"M3,0A3,3 0 1,1 0,-3A3,3 0 0,1 3,0Z\" style=\"opacity: 1; stroke-width: 0px; fill: rgb(171, 99, 250); fill-opacity: 1;\"/><path class=\"point\" transform=\"translate(148.21,321.21)\" d=\"M3,0A3,3 0 1,1 0,-3A3,3 0 0,1 3,0Z\" style=\"opacity: 1; stroke-width: 0px; fill: rgb(171, 99, 250); fill-opacity: 1;\"/><path class=\"point\" transform=\"translate(149.54,320.14)\" d=\"M3,0A3,3 0 1,1 0,-3A3,3 0 0,1 3,0Z\" style=\"opacity: 1; stroke-width: 0px; fill: rgb(171, 99, 250); fill-opacity: 1;\"/><path class=\"point\" transform=\"translate(153.97,319.07)\" d=\"M3,0A3,3 0 1,1 0,-3A3,3 0 0,1 3,0Z\" style=\"opacity: 1; stroke-width: 0px; fill: rgb(171, 99, 250); fill-opacity: 1;\"/><path class=\"point\" transform=\"translate(150.74,319.07)\" d=\"M3,0A3,3 0 1,1 0,-3A3,3 0 0,1 3,0Z\" style=\"opacity: 1; stroke-width: 0px; fill: rgb(171, 99, 250); fill-opacity: 1;\"/><path class=\"point\" transform=\"translate(148.94,319.07)\" d=\"M3,0A3,3 0 1,1 0,-3A3,3 0 0,1 3,0Z\" style=\"opacity: 1; stroke-width: 0px; fill: rgb(171, 99, 250); fill-opacity: 1;\"/><path class=\"point\" transform=\"translate(150.37,316.93)\" d=\"M3,0A3,3 0 1,1 0,-3A3,3 0 0,1 3,0Z\" style=\"opacity: 1; stroke-width: 0px; fill: rgb(171, 99, 250); fill-opacity: 1;\"/><path class=\"point\" transform=\"translate(151.41,316.93)\" d=\"M3,0A3,3 0 1,1 0,-3A3,3 0 0,1 3,0Z\" style=\"opacity: 1; stroke-width: 0px; fill: rgb(171, 99, 250); fill-opacity: 1;\"/><path class=\"point\" transform=\"translate(153.05,313.72)\" d=\"M3,0A3,3 0 1,1 0,-3A3,3 0 0,1 3,0Z\" style=\"opacity: 1; stroke-width: 0px; fill: rgb(171, 99, 250); fill-opacity: 1;\"/><path class=\"point\" transform=\"translate(151.87,313.72)\" d=\"M3,0A3,3 0 1,1 0,-3A3,3 0 0,1 3,0Z\" style=\"opacity: 1; stroke-width: 0px; fill: rgb(171, 99, 250); fill-opacity: 1;\"/><path class=\"point\" transform=\"translate(150.53,313.72)\" d=\"M3,0A3,3 0 1,1 0,-3A3,3 0 0,1 3,0Z\" style=\"opacity: 1; stroke-width: 0px; fill: rgb(171, 99, 250); fill-opacity: 1;\"/><path class=\"point\" transform=\"translate(148.86,313.72)\" d=\"M3,0A3,3 0 1,1 0,-3A3,3 0 0,1 3,0Z\" style=\"opacity: 1; stroke-width: 0px; fill: rgb(171, 99, 250); fill-opacity: 1;\"/><path class=\"point\" transform=\"translate(151.47,313.72)\" d=\"M3,0A3,3 0 1,1 0,-3A3,3 0 0,1 3,0Z\" style=\"opacity: 1; stroke-width: 0px; fill: rgb(171, 99, 250); fill-opacity: 1;\"/><path class=\"point\" transform=\"translate(150.46,312.65)\" d=\"M3,0A3,3 0 1,1 0,-3A3,3 0 0,1 3,0Z\" style=\"opacity: 1; stroke-width: 0px; fill: rgb(171, 99, 250); fill-opacity: 1;\"/><path class=\"point\" transform=\"translate(153.1,312.65)\" d=\"M3,0A3,3 0 1,1 0,-3A3,3 0 0,1 3,0Z\" style=\"opacity: 1; stroke-width: 0px; fill: rgb(171, 99, 250); fill-opacity: 1;\"/><path class=\"point\" transform=\"translate(151.17,311.58)\" d=\"M3,0A3,3 0 1,1 0,-3A3,3 0 0,1 3,0Z\" style=\"opacity: 1; stroke-width: 0px; fill: rgb(171, 99, 250); fill-opacity: 1;\"/><path class=\"point\" transform=\"translate(149.54,308.37)\" d=\"M3,0A3,3 0 1,1 0,-3A3,3 0 0,1 3,0Z\" style=\"opacity: 1; stroke-width: 0px; fill: rgb(171, 99, 250); fill-opacity: 1;\"/><path class=\"point\" transform=\"translate(148.72,308.37)\" d=\"M3,0A3,3 0 1,1 0,-3A3,3 0 0,1 3,0Z\" style=\"opacity: 1; stroke-width: 0px; fill: rgb(171, 99, 250); fill-opacity: 1;\"/><path class=\"point\" transform=\"translate(153.25,308.37)\" d=\"M3,0A3,3 0 1,1 0,-3A3,3 0 0,1 3,0Z\" style=\"opacity: 1; stroke-width: 0px; fill: rgb(171, 99, 250); fill-opacity: 1;\"/><path class=\"point\" transform=\"translate(148.8,307.3)\" d=\"M3,0A3,3 0 1,1 0,-3A3,3 0 0,1 3,0Z\" style=\"opacity: 1; stroke-width: 0px; fill: rgb(171, 99, 250); fill-opacity: 1;\"/><path class=\"point\" transform=\"translate(153.48,307.3)\" d=\"M3,0A3,3 0 1,1 0,-3A3,3 0 0,1 3,0Z\" style=\"opacity: 1; stroke-width: 0px; fill: rgb(171, 99, 250); fill-opacity: 1;\"/><path class=\"point\" transform=\"translate(152.24,304.09)\" d=\"M3,0A3,3 0 1,1 0,-3A3,3 0 0,1 3,0Z\" style=\"opacity: 1; stroke-width: 0px; fill: rgb(171, 99, 250); fill-opacity: 1;\"/><path class=\"point\" transform=\"translate(150.44,304.09)\" d=\"M3,0A3,3 0 1,1 0,-3A3,3 0 0,1 3,0Z\" style=\"opacity: 1; stroke-width: 0px; fill: rgb(171, 99, 250); fill-opacity: 1;\"/><path class=\"point\" transform=\"translate(149.42,304.09)\" d=\"M3,0A3,3 0 1,1 0,-3A3,3 0 0,1 3,0Z\" style=\"opacity: 1; stroke-width: 0px; fill: rgb(171, 99, 250); fill-opacity: 1;\"/><path class=\"point\" transform=\"translate(153.05,304.09)\" d=\"M3,0A3,3 0 1,1 0,-3A3,3 0 0,1 3,0Z\" style=\"opacity: 1; stroke-width: 0px; fill: rgb(171, 99, 250); fill-opacity: 1;\"/><path class=\"point\" transform=\"translate(151.11,304.09)\" d=\"M3,0A3,3 0 1,1 0,-3A3,3 0 0,1 3,0Z\" style=\"opacity: 1; stroke-width: 0px; fill: rgb(171, 99, 250); fill-opacity: 1;\"/><path class=\"point\" transform=\"translate(153.87,304.09)\" d=\"M3,0A3,3 0 1,1 0,-3A3,3 0 0,1 3,0Z\" style=\"opacity: 1; stroke-width: 0px; fill: rgb(171, 99, 250); fill-opacity: 1;\"/><path class=\"point\" transform=\"translate(148.55,303.02)\" d=\"M3,0A3,3 0 1,1 0,-3A3,3 0 0,1 3,0Z\" style=\"opacity: 1; stroke-width: 0px; fill: rgb(171, 99, 250); fill-opacity: 1;\"/><path class=\"point\" transform=\"translate(153.7,303.02)\" d=\"M3,0A3,3 0 1,1 0,-3A3,3 0 0,1 3,0Z\" style=\"opacity: 1; stroke-width: 0px; fill: rgb(171, 99, 250); fill-opacity: 1;\"/><path class=\"point\" transform=\"translate(151.19,303.02)\" d=\"M3,0A3,3 0 1,1 0,-3A3,3 0 0,1 3,0Z\" style=\"opacity: 1; stroke-width: 0px; fill: rgb(171, 99, 250); fill-opacity: 1;\"/><path class=\"point\" transform=\"translate(150.11,303.02)\" d=\"M3,0A3,3 0 1,1 0,-3A3,3 0 0,1 3,0Z\" style=\"opacity: 1; stroke-width: 0px; fill: rgb(171, 99, 250); fill-opacity: 1;\"/><path class=\"point\" transform=\"translate(148.57,299.81)\" d=\"M3,0A3,3 0 1,1 0,-3A3,3 0 0,1 3,0Z\" style=\"opacity: 1; stroke-width: 0px; fill: rgb(171, 99, 250); fill-opacity: 1;\"/><path class=\"point\" transform=\"translate(150.38,299.81)\" d=\"M3,0A3,3 0 1,1 0,-3A3,3 0 0,1 3,0Z\" style=\"opacity: 1; stroke-width: 0px; fill: rgb(171, 99, 250); fill-opacity: 1;\"/><path class=\"point\" transform=\"translate(153.36,297.67)\" d=\"M3,0A3,3 0 1,1 0,-3A3,3 0 0,1 3,0Z\" style=\"opacity: 1; stroke-width: 0px; fill: rgb(171, 99, 250); fill-opacity: 1;\"/><path class=\"point\" transform=\"translate(150.89,297.67)\" d=\"M3,0A3,3 0 1,1 0,-3A3,3 0 0,1 3,0Z\" style=\"opacity: 1; stroke-width: 0px; fill: rgb(171, 99, 250); fill-opacity: 1;\"/><path class=\"point\" transform=\"translate(149.7,297.67)\" d=\"M3,0A3,3 0 1,1 0,-3A3,3 0 0,1 3,0Z\" style=\"opacity: 1; stroke-width: 0px; fill: rgb(171, 99, 250); fill-opacity: 1;\"/><path class=\"point\" transform=\"translate(152.72,294.46)\" d=\"M3,0A3,3 0 1,1 0,-3A3,3 0 0,1 3,0Z\" style=\"opacity: 1; stroke-width: 0px; fill: rgb(171, 99, 250); fill-opacity: 1;\"/><path class=\"point\" transform=\"translate(150.11,292.32)\" d=\"M3,0A3,3 0 1,1 0,-3A3,3 0 0,1 3,0Z\" style=\"opacity: 1; stroke-width: 0px; fill: rgb(171, 99, 250); fill-opacity: 1;\"/><path class=\"point\" transform=\"translate(151.48,292.32)\" d=\"M3,0A3,3 0 1,1 0,-3A3,3 0 0,1 3,0Z\" style=\"opacity: 1; stroke-width: 0px; fill: rgb(171, 99, 250); fill-opacity: 1;\"/><path class=\"point\" transform=\"translate(152.68,289.11)\" d=\"M3,0A3,3 0 1,1 0,-3A3,3 0 0,1 3,0Z\" style=\"opacity: 1; stroke-width: 0px; fill: rgb(171, 99, 250); fill-opacity: 1;\"/><path class=\"point\" transform=\"translate(148.75,286.97)\" d=\"M3,0A3,3 0 1,1 0,-3A3,3 0 0,1 3,0Z\" style=\"opacity: 1; stroke-width: 0px; fill: rgb(171, 99, 250); fill-opacity: 1;\"/><path class=\"point\" transform=\"translate(154.25,286.97)\" d=\"M3,0A3,3 0 1,1 0,-3A3,3 0 0,1 3,0Z\" style=\"opacity: 1; stroke-width: 0px; fill: rgb(171, 99, 250); fill-opacity: 1;\"/><path class=\"point\" transform=\"translate(152.54,286.97)\" d=\"M3,0A3,3 0 1,1 0,-3A3,3 0 0,1 3,0Z\" style=\"opacity: 1; stroke-width: 0px; fill: rgb(171, 99, 250); fill-opacity: 1;\"/><path class=\"point\" transform=\"translate(149.3,286.97)\" d=\"M3,0A3,3 0 1,1 0,-3A3,3 0 0,1 3,0Z\" style=\"opacity: 1; stroke-width: 0px; fill: rgb(171, 99, 250); fill-opacity: 1;\"/><path class=\"point\" transform=\"translate(153.6,286.97)\" d=\"M3,0A3,3 0 1,1 0,-3A3,3 0 0,1 3,0Z\" style=\"opacity: 1; stroke-width: 0px; fill: rgb(171, 99, 250); fill-opacity: 1;\"/><path class=\"point\" transform=\"translate(149.42,286.97)\" d=\"M3,0A3,3 0 1,1 0,-3A3,3 0 0,1 3,0Z\" style=\"opacity: 1; stroke-width: 0px; fill: rgb(171, 99, 250); fill-opacity: 1;\"/><path class=\"point\" transform=\"translate(151.14,284.83)\" d=\"M3,0A3,3 0 1,1 0,-3A3,3 0 0,1 3,0Z\" style=\"opacity: 1; stroke-width: 0px; fill: rgb(171, 99, 250); fill-opacity: 1;\"/><path class=\"point\" transform=\"translate(151.83,279.48)\" d=\"M3,0A3,3 0 1,1 0,-3A3,3 0 0,1 3,0Z\" style=\"opacity: 1; stroke-width: 0px; fill: rgb(171, 99, 250); fill-opacity: 1;\"/><path class=\"point\" transform=\"translate(150.53,278.41)\" d=\"M3,0A3,3 0 1,1 0,-3A3,3 0 0,1 3,0Z\" style=\"opacity: 1; stroke-width: 0px; fill: rgb(171, 99, 250); fill-opacity: 1;\"/><path class=\"point\" transform=\"translate(152.75,277.34)\" d=\"M3,0A3,3 0 1,1 0,-3A3,3 0 0,1 3,0Z\" style=\"opacity: 1; stroke-width: 0px; fill: rgb(171, 99, 250); fill-opacity: 1;\"/><path class=\"point\" transform=\"translate(150.54,276.26)\" d=\"M3,0A3,3 0 1,1 0,-3A3,3 0 0,1 3,0Z\" style=\"opacity: 1; stroke-width: 0px; fill: rgb(171, 99, 250); fill-opacity: 1;\"/><path class=\"point\" transform=\"translate(152.07,276.26)\" d=\"M3,0A3,3 0 1,1 0,-3A3,3 0 0,1 3,0Z\" style=\"opacity: 1; stroke-width: 0px; fill: rgb(171, 99, 250); fill-opacity: 1;\"/><path class=\"point\" transform=\"translate(152.61,276.26)\" d=\"M3,0A3,3 0 1,1 0,-3A3,3 0 0,1 3,0Z\" style=\"opacity: 1; stroke-width: 0px; fill: rgb(171, 99, 250); fill-opacity: 1;\"/><path class=\"point\" transform=\"translate(150.01,270.91)\" d=\"M3,0A3,3 0 1,1 0,-3A3,3 0 0,1 3,0Z\" style=\"opacity: 1; stroke-width: 0px; fill: rgb(171, 99, 250); fill-opacity: 1;\"/><path class=\"point\" transform=\"translate(150.6,265.56)\" d=\"M3,0A3,3 0 1,1 0,-3A3,3 0 0,1 3,0Z\" style=\"opacity: 1; stroke-width: 0px; fill: rgb(171, 99, 250); fill-opacity: 1;\"/><path class=\"point\" transform=\"translate(152.35,249.51)\" d=\"M3,0A3,3 0 1,1 0,-3A3,3 0 0,1 3,0Z\" style=\"opacity: 1; stroke-width: 0px; fill: rgb(171, 99, 250); fill-opacity: 1;\"/><path class=\"point\" transform=\"translate(151.06,249.51)\" d=\"M3,0A3,3 0 1,1 0,-3A3,3 0 0,1 3,0Z\" style=\"opacity: 1; stroke-width: 0px; fill: rgb(171, 99, 250); fill-opacity: 1;\"/><path class=\"point\" transform=\"translate(151.6,244.16)\" d=\"M3,0A3,3 0 1,1 0,-3A3,3 0 0,1 3,0Z\" style=\"opacity: 1; stroke-width: 0px; fill: rgb(171, 99, 250); fill-opacity: 1;\"/><path class=\"point\" transform=\"translate(152.84,244.16)\" d=\"M3,0A3,3 0 1,1 0,-3A3,3 0 0,1 3,0Z\" style=\"opacity: 1; stroke-width: 0px; fill: rgb(171, 99, 250); fill-opacity: 1;\"/><path class=\"point\" transform=\"translate(150.16,244.16)\" d=\"M3,0A3,3 0 1,1 0,-3A3,3 0 0,1 3,0Z\" style=\"opacity: 1; stroke-width: 0px; fill: rgb(171, 99, 250); fill-opacity: 1;\"/><path class=\"point\" transform=\"translate(154.04,244.16)\" d=\"M3,0A3,3 0 1,1 0,-3A3,3 0 0,1 3,0Z\" style=\"opacity: 1; stroke-width: 0px; fill: rgb(171, 99, 250); fill-opacity: 1;\"/><path class=\"point\" transform=\"translate(149.57,244.16)\" d=\"M3,0A3,3 0 1,1 0,-3A3,3 0 0,1 3,0Z\" style=\"opacity: 1; stroke-width: 0px; fill: rgb(171, 99, 250); fill-opacity: 1;\"/><path class=\"point\" transform=\"translate(154.79,237.74)\" d=\"M3,0A3,3 0 1,1 0,-3A3,3 0 0,1 3,0Z\" style=\"opacity: 1; stroke-width: 0px; fill: rgb(171, 99, 250); fill-opacity: 1;\"/><path class=\"point\" transform=\"translate(149.85,237.74)\" d=\"M3,0A3,3 0 1,1 0,-3A3,3 0 0,1 3,0Z\" style=\"opacity: 1; stroke-width: 0px; fill: rgb(171, 99, 250); fill-opacity: 1;\"/><path class=\"point\" transform=\"translate(152.98,236.67)\" d=\"M3,0A3,3 0 1,1 0,-3A3,3 0 0,1 3,0Z\" style=\"opacity: 1; stroke-width: 0px; fill: rgb(171, 99, 250); fill-opacity: 1;\"/><path class=\"point\" transform=\"translate(152.04,236.67)\" d=\"M3,0A3,3 0 1,1 0,-3A3,3 0 0,1 3,0Z\" style=\"opacity: 1; stroke-width: 0px; fill: rgb(171, 99, 250); fill-opacity: 1;\"/><path class=\"point\" transform=\"translate(151.23,236.67)\" d=\"M3,0A3,3 0 1,1 0,-3A3,3 0 0,1 3,0Z\" style=\"opacity: 1; stroke-width: 0px; fill: rgb(171, 99, 250); fill-opacity: 1;\"/><path class=\"point\" transform=\"translate(149.77,236.67)\" d=\"M3,0A3,3 0 1,1 0,-3A3,3 0 0,1 3,0Z\" style=\"opacity: 1; stroke-width: 0px; fill: rgb(171, 99, 250); fill-opacity: 1;\"/><path class=\"point\" transform=\"translate(151.31,236.67)\" d=\"M3,0A3,3 0 1,1 0,-3A3,3 0 0,1 3,0Z\" style=\"opacity: 1; stroke-width: 0px; fill: rgb(171, 99, 250); fill-opacity: 1;\"/><path class=\"point\" transform=\"translate(150.61,222.76)\" d=\"M3,0A3,3 0 1,1 0,-3A3,3 0 0,1 3,0Z\" style=\"opacity: 1; stroke-width: 0px; fill: rgb(171, 99, 250); fill-opacity: 1;\"/><path class=\"point\" transform=\"translate(150.91,222.76)\" d=\"M3,0A3,3 0 1,1 0,-3A3,3 0 0,1 3,0Z\" style=\"opacity: 1; stroke-width: 0px; fill: rgb(171, 99, 250); fill-opacity: 1;\"/><path class=\"point\" transform=\"translate(150.74,220.62)\" d=\"M3,0A3,3 0 1,1 0,-3A3,3 0 0,1 3,0Z\" style=\"opacity: 1; stroke-width: 0px; fill: rgb(171, 99, 250); fill-opacity: 1;\"/><path class=\"point\" transform=\"translate(150.57,212.06)\" d=\"M3,0A3,3 0 1,1 0,-3A3,3 0 0,1 3,0Z\" style=\"opacity: 1; stroke-width: 0px; fill: rgb(171, 99, 250); fill-opacity: 1;\"/><path class=\"point\" transform=\"translate(151.04,158.55)\" d=\"M3,0A3,3 0 1,1 0,-3A3,3 0 0,1 3,0Z\" style=\"opacity: 1; stroke-width: 0px; fill: rgb(171, 99, 250); fill-opacity: 1;\"/><path class=\"point\" transform=\"translate(151.78,158.55)\" d=\"M3,0A3,3 0 1,1 0,-3A3,3 0 0,1 3,0Z\" style=\"opacity: 1; stroke-width: 0px; fill: rgb(171, 99, 250); fill-opacity: 1;\"/><path class=\"point\" transform=\"translate(150.72,158.55)\" d=\"M3,0A3,3 0 1,1 0,-3A3,3 0 0,1 3,0Z\" style=\"opacity: 1; stroke-width: 0px; fill: rgb(171, 99, 250); fill-opacity: 1;\"/><path class=\"point\" transform=\"translate(151.64,141.43)\" d=\"M3,0A3,3 0 1,1 0,-3A3,3 0 0,1 3,0Z\" style=\"opacity: 1; stroke-width: 0px; fill: rgb(171, 99, 250); fill-opacity: 1;\"/><path class=\"point\" transform=\"translate(151.8,137.15)\" d=\"M3,0A3,3 0 1,1 0,-3A3,3 0 0,1 3,0Z\" style=\"opacity: 1; stroke-width: 0px; fill: rgb(171, 99, 250); fill-opacity: 1;\"/><path class=\"point\" transform=\"translate(151.57,115.75)\" d=\"M3,0A3,3 0 1,1 0,-3A3,3 0 0,1 3,0Z\" style=\"opacity: 1; stroke-width: 0px; fill: rgb(171, 99, 250); fill-opacity: 1;\"/><path class=\"point\" transform=\"translate(151.08,115.75)\" d=\"M3,0A3,3 0 1,1 0,-3A3,3 0 0,1 3,0Z\" style=\"opacity: 1; stroke-width: 0px; fill: rgb(171, 99, 250); fill-opacity: 1;\"/><path class=\"point\" transform=\"translate(151.26,115.75)\" d=\"M3,0A3,3 0 1,1 0,-3A3,3 0 0,1 3,0Z\" style=\"opacity: 1; stroke-width: 0px; fill: rgb(171, 99, 250); fill-opacity: 1;\"/><path class=\"point\" transform=\"translate(152.1,42.98)\" d=\"M3,0A3,3 0 1,1 0,-3A3,3 0 0,1 3,0Z\" style=\"opacity: 1; stroke-width: 0px; fill: rgb(171, 99, 250); fill-opacity: 1;\"/><path class=\"point\" transform=\"translate(151.17,17.3)\" d=\"M3,0A3,3 0 1,1 0,-3A3,3 0 0,1 3,0Z\" style=\"opacity: 1; stroke-width: 0px; fill: rgb(171, 99, 250); fill-opacity: 1;\"/></g></g><g class=\"trace boxes\" style=\"opacity: 1;\"><path class=\"box\" d=\"M204.69,280.55H227.91M204.69,304.09H227.91V244.16H204.69ZM216.3,304.09V323.35M216.3,244.16V158.55M210.49,323.35H222.11M210.49,158.55H222.11\" style=\"vector-effect: non-scaling-stroke; stroke-width: 2px; stroke: rgb(255, 161, 90); stroke-opacity: 1; fill: rgb(255, 161, 90); fill-opacity: 0.5;\"/><g class=\"points\"><path class=\"point\" transform=\"translate(200.69,323.35)\" d=\"M3,0A3,3 0 1,1 0,-3A3,3 0 0,1 3,0Z\" style=\"opacity: 1; stroke-width: 0px; fill: rgb(255, 161, 90); fill-opacity: 1;\"/><path class=\"point\" transform=\"translate(196.66,323.35)\" d=\"M3,0A3,3 0 1,1 0,-3A3,3 0 0,1 3,0Z\" style=\"opacity: 1; stroke-width: 0px; fill: rgb(255, 161, 90); fill-opacity: 1;\"/><path class=\"point\" transform=\"translate(201.58,323.35)\" d=\"M3,0A3,3 0 1,1 0,-3A3,3 0 0,1 3,0Z\" style=\"opacity: 1; stroke-width: 0px; fill: rgb(255, 161, 90); fill-opacity: 1;\"/><path class=\"point\" transform=\"translate(195.93,323.35)\" d=\"M3,0A3,3 0 1,1 0,-3A3,3 0 0,1 3,0Z\" style=\"opacity: 1; stroke-width: 0px; fill: rgb(255, 161, 90); fill-opacity: 1;\"/><path class=\"point\" transform=\"translate(198.02,323.35)\" d=\"M3,0A3,3 0 1,1 0,-3A3,3 0 0,1 3,0Z\" style=\"opacity: 1; stroke-width: 0px; fill: rgb(255, 161, 90); fill-opacity: 1;\"/><path class=\"point\" transform=\"translate(200.71,323.35)\" d=\"M3,0A3,3 0 1,1 0,-3A3,3 0 0,1 3,0Z\" style=\"opacity: 1; stroke-width: 0px; fill: rgb(255, 161, 90); fill-opacity: 1;\"/><path class=\"point\" transform=\"translate(198.76,321.21)\" d=\"M3,0A3,3 0 1,1 0,-3A3,3 0 0,1 3,0Z\" style=\"opacity: 1; stroke-width: 0px; fill: rgb(255, 161, 90); fill-opacity: 1;\"/><path class=\"point\" transform=\"translate(199.86,321.21)\" d=\"M3,0A3,3 0 1,1 0,-3A3,3 0 0,1 3,0Z\" style=\"opacity: 1; stroke-width: 0px; fill: rgb(255, 161, 90); fill-opacity: 1;\"/><path class=\"point\" transform=\"translate(198.05,319.07)\" d=\"M3,0A3,3 0 1,1 0,-3A3,3 0 0,1 3,0Z\" style=\"opacity: 1; stroke-width: 0px; fill: rgb(255, 161, 90); fill-opacity: 1;\"/><path class=\"point\" transform=\"translate(197.14,319.07)\" d=\"M3,0A3,3 0 1,1 0,-3A3,3 0 0,1 3,0Z\" style=\"opacity: 1; stroke-width: 0px; fill: rgb(255, 161, 90); fill-opacity: 1;\"/><path class=\"point\" transform=\"translate(199.47,319.07)\" d=\"M3,0A3,3 0 1,1 0,-3A3,3 0 0,1 3,0Z\" style=\"opacity: 1; stroke-width: 0px; fill: rgb(255, 161, 90); fill-opacity: 1;\"/><path class=\"point\" transform=\"translate(198.1,316.93)\" d=\"M3,0A3,3 0 1,1 0,-3A3,3 0 0,1 3,0Z\" style=\"opacity: 1; stroke-width: 0px; fill: rgb(255, 161, 90); fill-opacity: 1;\"/><path class=\"point\" transform=\"translate(200.39,316.93)\" d=\"M3,0A3,3 0 1,1 0,-3A3,3 0 0,1 3,0Z\" style=\"opacity: 1; stroke-width: 0px; fill: rgb(255, 161, 90); fill-opacity: 1;\"/><path class=\"point\" transform=\"translate(196.34,312.65)\" d=\"M3,0A3,3 0 1,1 0,-3A3,3 0 0,1 3,0Z\" style=\"opacity: 1; stroke-width: 0px; fill: rgb(255, 161, 90); fill-opacity: 1;\"/><path class=\"point\" transform=\"translate(197.37,310.51)\" d=\"M3,0A3,3 0 1,1 0,-3A3,3 0 0,1 3,0Z\" style=\"opacity: 1; stroke-width: 0px; fill: rgb(255, 161, 90); fill-opacity: 1;\"/><path class=\"point\" transform=\"translate(200.83,308.37)\" d=\"M3,0A3,3 0 1,1 0,-3A3,3 0 0,1 3,0Z\" style=\"opacity: 1; stroke-width: 0px; fill: rgb(255, 161, 90); fill-opacity: 1;\"/><path class=\"point\" transform=\"translate(198.28,308.37)\" d=\"M3,0A3,3 0 1,1 0,-3A3,3 0 0,1 3,0Z\" style=\"opacity: 1; stroke-width: 0px; fill: rgb(255, 161, 90); fill-opacity: 1;\"/><path class=\"point\" transform=\"translate(196.84,308.37)\" d=\"M3,0A3,3 0 1,1 0,-3A3,3 0 0,1 3,0Z\" style=\"opacity: 1; stroke-width: 0px; fill: rgb(255, 161, 90); fill-opacity: 1;\"/><path class=\"point\" transform=\"translate(197.92,308.37)\" d=\"M3,0A3,3 0 1,1 0,-3A3,3 0 0,1 3,0Z\" style=\"opacity: 1; stroke-width: 0px; fill: rgb(255, 161, 90); fill-opacity: 1;\"/><path class=\"point\" transform=\"translate(198.81,308.37)\" d=\"M3,0A3,3 0 1,1 0,-3A3,3 0 0,1 3,0Z\" style=\"opacity: 1; stroke-width: 0px; fill: rgb(255, 161, 90); fill-opacity: 1;\"/><path class=\"point\" transform=\"translate(200.45,304.09)\" d=\"M3,0A3,3 0 1,1 0,-3A3,3 0 0,1 3,0Z\" style=\"opacity: 1; stroke-width: 0px; fill: rgb(255, 161, 90); fill-opacity: 1;\"/><path class=\"point\" transform=\"translate(199.27,304.09)\" d=\"M3,0A3,3 0 1,1 0,-3A3,3 0 0,1 3,0Z\" style=\"opacity: 1; stroke-width: 0px; fill: rgb(255, 161, 90); fill-opacity: 1;\"/><path class=\"point\" transform=\"translate(197.9,304.09)\" d=\"M3,0A3,3 0 1,1 0,-3A3,3 0 0,1 3,0Z\" style=\"opacity: 1; stroke-width: 0px; fill: rgb(255, 161, 90); fill-opacity: 1;\"/><path class=\"point\" transform=\"translate(195.97,304.09)\" d=\"M3,0A3,3 0 1,1 0,-3A3,3 0 0,1 3,0Z\" style=\"opacity: 1; stroke-width: 0px; fill: rgb(255, 161, 90); fill-opacity: 1;\"/><path class=\"point\" transform=\"translate(198.87,304.09)\" d=\"M3,0A3,3 0 1,1 0,-3A3,3 0 0,1 3,0Z\" style=\"opacity: 1; stroke-width: 0px; fill: rgb(255, 161, 90); fill-opacity: 1;\"/><path class=\"point\" transform=\"translate(197.9,303.02)\" d=\"M3,0A3,3 0 1,1 0,-3A3,3 0 0,1 3,0Z\" style=\"opacity: 1; stroke-width: 0px; fill: rgb(255, 161, 90); fill-opacity: 1;\"/><path class=\"point\" transform=\"translate(200.45,303.02)\" d=\"M3,0A3,3 0 1,1 0,-3A3,3 0 0,1 3,0Z\" style=\"opacity: 1; stroke-width: 0px; fill: rgb(255, 161, 90); fill-opacity: 1;\"/><path class=\"point\" transform=\"translate(198.58,303.02)\" d=\"M3,0A3,3 0 1,1 0,-3A3,3 0 0,1 3,0Z\" style=\"opacity: 1; stroke-width: 0px; fill: rgb(255, 161, 90); fill-opacity: 1;\"/><path class=\"point\" transform=\"translate(196.68,303.02)\" d=\"M3,0A3,3 0 1,1 0,-3A3,3 0 0,1 3,0Z\" style=\"opacity: 1; stroke-width: 0px; fill: rgb(255, 161, 90); fill-opacity: 1;\"/><path class=\"point\" transform=\"translate(195.74,300.88)\" d=\"M3,0A3,3 0 1,1 0,-3A3,3 0 0,1 3,0Z\" style=\"opacity: 1; stroke-width: 0px; fill: rgb(255, 161, 90); fill-opacity: 1;\"/><path class=\"point\" transform=\"translate(200.43,297.67)\" d=\"M3,0A3,3 0 1,1 0,-3A3,3 0 0,1 3,0Z\" style=\"opacity: 1; stroke-width: 0px; fill: rgb(255, 161, 90); fill-opacity: 1;\"/><path class=\"point\" transform=\"translate(196.65,297.67)\" d=\"M3,0A3,3 0 1,1 0,-3A3,3 0 0,1 3,0Z\" style=\"opacity: 1; stroke-width: 0px; fill: rgb(255, 161, 90); fill-opacity: 1;\"/><path class=\"point\" transform=\"translate(200.15,297.67)\" d=\"M3,0A3,3 0 1,1 0,-3A3,3 0 0,1 3,0Z\" style=\"opacity: 1; stroke-width: 0px; fill: rgb(255, 161, 90); fill-opacity: 1;\"/><path class=\"point\" transform=\"translate(199.31,297.67)\" d=\"M3,0A3,3 0 1,1 0,-3A3,3 0 0,1 3,0Z\" style=\"opacity: 1; stroke-width: 0px; fill: rgb(255, 161, 90); fill-opacity: 1;\"/><path class=\"point\" transform=\"translate(198.3,297.67)\" d=\"M3,0A3,3 0 1,1 0,-3A3,3 0 0,1 3,0Z\" style=\"opacity: 1; stroke-width: 0px; fill: rgb(255, 161, 90); fill-opacity: 1;\"/><path class=\"point\" transform=\"translate(197.66,293.39)\" d=\"M3,0A3,3 0 1,1 0,-3A3,3 0 0,1 3,0Z\" style=\"opacity: 1; stroke-width: 0px; fill: rgb(255, 161, 90); fill-opacity: 1;\"/><path class=\"point\" transform=\"translate(199.81,292.32)\" d=\"M3,0A3,3 0 1,1 0,-3A3,3 0 0,1 3,0Z\" style=\"opacity: 1; stroke-width: 0px; fill: rgb(255, 161, 90); fill-opacity: 1;\"/><path class=\"point\" transform=\"translate(198.66,286.97)\" d=\"M3,0A3,3 0 1,1 0,-3A3,3 0 0,1 3,0Z\" style=\"opacity: 1; stroke-width: 0px; fill: rgb(255, 161, 90); fill-opacity: 1;\"/><path class=\"point\" transform=\"translate(200.22,283.76)\" d=\"M3,0A3,3 0 1,1 0,-3A3,3 0 0,1 3,0Z\" style=\"opacity: 1; stroke-width: 0px; fill: rgb(255, 161, 90); fill-opacity: 1;\"/><path class=\"point\" transform=\"translate(197.25,281.62)\" d=\"M3,0A3,3 0 1,1 0,-3A3,3 0 0,1 3,0Z\" style=\"opacity: 1; stroke-width: 0px; fill: rgb(255, 161, 90); fill-opacity: 1;\"/><path class=\"point\" transform=\"translate(200.2,280.55)\" d=\"M3,0A3,3 0 1,1 0,-3A3,3 0 0,1 3,0Z\" style=\"opacity: 1; stroke-width: 0px; fill: rgb(255, 161, 90); fill-opacity: 1;\"/><path class=\"point\" transform=\"translate(198.7,280.55)\" d=\"M3,0A3,3 0 1,1 0,-3A3,3 0 0,1 3,0Z\" style=\"opacity: 1; stroke-width: 0px; fill: rgb(255, 161, 90); fill-opacity: 1;\"/><path class=\"point\" transform=\"translate(197.86,280.55)\" d=\"M3,0A3,3 0 1,1 0,-3A3,3 0 0,1 3,0Z\" style=\"opacity: 1; stroke-width: 0px; fill: rgb(255, 161, 90); fill-opacity: 1;\"/><path class=\"point\" transform=\"translate(195.81,278.41)\" d=\"M3,0A3,3 0 1,1 0,-3A3,3 0 0,1 3,0Z\" style=\"opacity: 1; stroke-width: 0px; fill: rgb(255, 161, 90); fill-opacity: 1;\"/><path class=\"point\" transform=\"translate(197.52,278.41)\" d=\"M3,0A3,3 0 1,1 0,-3A3,3 0 0,1 3,0Z\" style=\"opacity: 1; stroke-width: 0px; fill: rgb(255, 161, 90); fill-opacity: 1;\"/><path class=\"point\" transform=\"translate(200.72,276.26)\" d=\"M3,0A3,3 0 1,1 0,-3A3,3 0 0,1 3,0Z\" style=\"opacity: 1; stroke-width: 0px; fill: rgb(255, 161, 90); fill-opacity: 1;\"/><path class=\"point\" transform=\"translate(198.26,276.26)\" d=\"M3,0A3,3 0 1,1 0,-3A3,3 0 0,1 3,0Z\" style=\"opacity: 1; stroke-width: 0px; fill: rgb(255, 161, 90); fill-opacity: 1;\"/><path class=\"point\" transform=\"translate(197.17,276.26)\" d=\"M3,0A3,3 0 1,1 0,-3A3,3 0 0,1 3,0Z\" style=\"opacity: 1; stroke-width: 0px; fill: rgb(255, 161, 90); fill-opacity: 1;\"/><path class=\"point\" transform=\"translate(200.03,276.26)\" d=\"M3,0A3,3 0 1,1 0,-3A3,3 0 0,1 3,0Z\" style=\"opacity: 1; stroke-width: 0px; fill: rgb(255, 161, 90); fill-opacity: 1;\"/><path class=\"point\" transform=\"translate(197.6,276.26)\" d=\"M3,0A3,3 0 1,1 0,-3A3,3 0 0,1 3,0Z\" style=\"opacity: 1; stroke-width: 0px; fill: rgb(255, 161, 90); fill-opacity: 1;\"/><path class=\"point\" transform=\"translate(198.88,270.91)\" d=\"M3,0A3,3 0 1,1 0,-3A3,3 0 0,1 3,0Z\" style=\"opacity: 1; stroke-width: 0px; fill: rgb(255, 161, 90); fill-opacity: 1;\"/><path class=\"point\" transform=\"translate(200,269.84)\" d=\"M3,0A3,3 0 1,1 0,-3A3,3 0 0,1 3,0Z\" style=\"opacity: 1; stroke-width: 0px; fill: rgb(255, 161, 90); fill-opacity: 1;\"/><path class=\"point\" transform=\"translate(196.74,265.56)\" d=\"M3,0A3,3 0 1,1 0,-3A3,3 0 0,1 3,0Z\" style=\"opacity: 1; stroke-width: 0px; fill: rgb(255, 161, 90); fill-opacity: 1;\"/><path class=\"point\" transform=\"translate(200.61,265.56)\" d=\"M3,0A3,3 0 1,1 0,-3A3,3 0 0,1 3,0Z\" style=\"opacity: 1; stroke-width: 0px; fill: rgb(255, 161, 90); fill-opacity: 1;\"/><path class=\"point\" transform=\"translate(199.61,265.56)\" d=\"M3,0A3,3 0 1,1 0,-3A3,3 0 0,1 3,0Z\" style=\"opacity: 1; stroke-width: 0px; fill: rgb(255, 161, 90); fill-opacity: 1;\"/><path class=\"point\" transform=\"translate(197.42,265.56)\" d=\"M3,0A3,3 0 1,1 0,-3A3,3 0 0,1 3,0Z\" style=\"opacity: 1; stroke-width: 0px; fill: rgb(255, 161, 90); fill-opacity: 1;\"/><path class=\"point\" transform=\"translate(200.21,265.56)\" d=\"M3,0A3,3 0 1,1 0,-3A3,3 0 0,1 3,0Z\" style=\"opacity: 1; stroke-width: 0px; fill: rgb(255, 161, 90); fill-opacity: 1;\"/><path class=\"point\" transform=\"translate(197.53,261.28)\" d=\"M3,0A3,3 0 1,1 0,-3A3,3 0 0,1 3,0Z\" style=\"opacity: 1; stroke-width: 0px; fill: rgb(255, 161, 90); fill-opacity: 1;\"/><path class=\"point\" transform=\"translate(198.66,254.86)\" d=\"M3,0A3,3 0 1,1 0,-3A3,3 0 0,1 3,0Z\" style=\"opacity: 1; stroke-width: 0px; fill: rgb(255, 161, 90); fill-opacity: 1;\"/><path class=\"point\" transform=\"translate(199.11,252.72)\" d=\"M3,0A3,3 0 1,1 0,-3A3,3 0 0,1 3,0Z\" style=\"opacity: 1; stroke-width: 0px; fill: rgb(255, 161, 90); fill-opacity: 1;\"/><path class=\"point\" transform=\"translate(198.34,244.16)\" d=\"M3,0A3,3 0 1,1 0,-3A3,3 0 0,1 3,0Z\" style=\"opacity: 1; stroke-width: 0px; fill: rgb(255, 161, 90); fill-opacity: 1;\"/><path class=\"point\" transform=\"translate(199.56,244.16)\" d=\"M3,0A3,3 0 1,1 0,-3A3,3 0 0,1 3,0Z\" style=\"opacity: 1; stroke-width: 0px; fill: rgb(255, 161, 90); fill-opacity: 1;\"/><path class=\"point\" transform=\"translate(198.19,244.16)\" d=\"M3,0A3,3 0 1,1 0,-3A3,3 0 0,1 3,0Z\" style=\"opacity: 1; stroke-width: 0px; fill: rgb(255, 161, 90); fill-opacity: 1;\"/><path class=\"point\" transform=\"translate(199.32,244.16)\" d=\"M3,0A3,3 0 1,1 0,-3A3,3 0 0,1 3,0Z\" style=\"opacity: 1; stroke-width: 0px; fill: rgb(255, 161, 90); fill-opacity: 1;\"/><path class=\"point\" transform=\"translate(199.75,244.16)\" d=\"M3,0A3,3 0 1,1 0,-3A3,3 0 0,1 3,0Z\" style=\"opacity: 1; stroke-width: 0px; fill: rgb(255, 161, 90); fill-opacity: 1;\"/><path class=\"point\" transform=\"translate(197.66,222.76)\" d=\"M3,0A3,3 0 1,1 0,-3A3,3 0 0,1 3,0Z\" style=\"opacity: 1; stroke-width: 0px; fill: rgb(255, 161, 90); fill-opacity: 1;\"/><path class=\"point\" transform=\"translate(198.24,201.36)\" d=\"M3,0A3,3 0 1,1 0,-3A3,3 0 0,1 3,0Z\" style=\"opacity: 1; stroke-width: 0px; fill: rgb(255, 161, 90); fill-opacity: 1;\"/><path class=\"point\" transform=\"translate(199.4,201.36)\" d=\"M3,0A3,3 0 1,1 0,-3A3,3 0 0,1 3,0Z\" style=\"opacity: 1; stroke-width: 0px; fill: rgb(255, 161, 90); fill-opacity: 1;\"/><path class=\"point\" transform=\"translate(198.64,201.36)\" d=\"M3,0A3,3 0 1,1 0,-3A3,3 0 0,1 3,0Z\" style=\"opacity: 1; stroke-width: 0px; fill: rgb(255, 161, 90); fill-opacity: 1;\"/><path class=\"point\" transform=\"translate(198.94,201.36)\" d=\"M3,0A3,3 0 1,1 0,-3A3,3 0 0,1 3,0Z\" style=\"opacity: 1; stroke-width: 0px; fill: rgb(255, 161, 90); fill-opacity: 1;\"/><path class=\"point\" transform=\"translate(199.47,201.36)\" d=\"M3,0A3,3 0 1,1 0,-3A3,3 0 0,1 3,0Z\" style=\"opacity: 1; stroke-width: 0px; fill: rgb(255, 161, 90); fill-opacity: 1;\"/><path class=\"point\" transform=\"translate(198.3,190.66)\" d=\"M3,0A3,3 0 1,1 0,-3A3,3 0 0,1 3,0Z\" style=\"opacity: 1; stroke-width: 0px; fill: rgb(255, 161, 90); fill-opacity: 1;\"/><path class=\"point\" transform=\"translate(199.63,167.11)\" d=\"M3,0A3,3 0 1,1 0,-3A3,3 0 0,1 3,0Z\" style=\"opacity: 1; stroke-width: 0px; fill: rgb(255, 161, 90); fill-opacity: 1;\"/><path class=\"point\" transform=\"translate(198.32,158.55)\" d=\"M3,0A3,3 0 1,1 0,-3A3,3 0 0,1 3,0Z\" style=\"opacity: 1; stroke-width: 0px; fill: rgb(255, 161, 90); fill-opacity: 1;\"/><path class=\"point\" transform=\"translate(199.62,115.75)\" d=\"M3,0A3,3 0 1,1 0,-3A3,3 0 0,1 3,0Z\" style=\"opacity: 1; stroke-width: 0px; fill: rgb(255, 161, 90); fill-opacity: 1;\"/><path class=\"point\" transform=\"translate(198.53,72.95)\" d=\"M3,0A3,3 0 1,1 0,-3A3,3 0 0,1 3,0Z\" style=\"opacity: 1; stroke-width: 0px; fill: rgb(255, 161, 90); fill-opacity: 1;\"/><path class=\"point\" transform=\"translate(199.45,72.95)\" d=\"M3,0A3,3 0 1,1 0,-3A3,3 0 0,1 3,0Z\" style=\"opacity: 1; stroke-width: 0px; fill: rgb(255, 161, 90); fill-opacity: 1;\"/><path class=\"point\" transform=\"translate(199.1,72.95)\" d=\"M3,0A3,3 0 1,1 0,-3A3,3 0 0,1 3,0Z\" style=\"opacity: 1; stroke-width: 0px; fill: rgb(255, 161, 90); fill-opacity: 1;\"/><path class=\"point\" transform=\"translate(198.78,72.95)\" d=\"M3,0A3,3 0 1,1 0,-3A3,3 0 0,1 3,0Z\" style=\"opacity: 1; stroke-width: 0px; fill: rgb(255, 161, 90); fill-opacity: 1;\"/><path class=\"point\" transform=\"translate(197.96,72.95)\" d=\"M3,0A3,3 0 1,1 0,-3A3,3 0 0,1 3,0Z\" style=\"opacity: 1; stroke-width: 0px; fill: rgb(255, 161, 90); fill-opacity: 1;\"/><path class=\"point\" transform=\"translate(198.55,62.24)\" d=\"M3,0A3,3 0 1,1 0,-3A3,3 0 0,1 3,0Z\" style=\"opacity: 1; stroke-width: 0px; fill: rgb(255, 161, 90); fill-opacity: 1;\"/><path class=\"point\" transform=\"translate(197.34,62.24)\" d=\"M3,0A3,3 0 1,1 0,-3A3,3 0 0,1 3,0Z\" style=\"opacity: 1; stroke-width: 0px; fill: rgb(255, 161, 90); fill-opacity: 1;\"/></g></g><g class=\"trace boxes\" style=\"opacity: 1;\"><path class=\"box\" d=\"M252.09,282.15H275.31M252.09,306.76H275.31V253.26H252.09ZM263.7,306.76V327.63M263.7,253.26V182.1M257.89,327.63H269.51M257.89,182.1H269.51\" style=\"vector-effect: non-scaling-stroke; stroke-width: 2px; stroke: rgb(25, 211, 243); stroke-opacity: 1; fill: rgb(25, 211, 243); fill-opacity: 0.5;\"/><g class=\"points\"><path class=\"point\" transform=\"translate(248.09,327.63)\" d=\"M3,0A3,3 0 1,1 0,-3A3,3 0 0,1 3,0Z\" style=\"opacity: 1; stroke-width: 0px; fill: rgb(25, 211, 243); fill-opacity: 1;\"/><path class=\"point\" transform=\"translate(244.06,327.63)\" d=\"M3,0A3,3 0 1,1 0,-3A3,3 0 0,1 3,0Z\" style=\"opacity: 1; stroke-width: 0px; fill: rgb(25, 211, 243); fill-opacity: 1;\"/><path class=\"point\" transform=\"translate(248.98,327.63)\" d=\"M3,0A3,3 0 1,1 0,-3A3,3 0 0,1 3,0Z\" style=\"opacity: 1; stroke-width: 0px; fill: rgb(25, 211, 243); fill-opacity: 1;\"/><path class=\"point\" transform=\"translate(243.33,327.63)\" d=\"M3,0A3,3 0 1,1 0,-3A3,3 0 0,1 3,0Z\" style=\"opacity: 1; stroke-width: 0px; fill: rgb(25, 211, 243); fill-opacity: 1;\"/><path class=\"point\" transform=\"translate(245.42,327.63)\" d=\"M3,0A3,3 0 1,1 0,-3A3,3 0 0,1 3,0Z\" style=\"opacity: 1; stroke-width: 0px; fill: rgb(25, 211, 243); fill-opacity: 1;\"/><path class=\"point\" transform=\"translate(248.11,327.63)\" d=\"M3,0A3,3 0 1,1 0,-3A3,3 0 0,1 3,0Z\" style=\"opacity: 1; stroke-width: 0px; fill: rgb(25, 211, 243); fill-opacity: 1;\"/><path class=\"point\" transform=\"translate(246.18,327.63)\" d=\"M3,0A3,3 0 1,1 0,-3A3,3 0 0,1 3,0Z\" style=\"opacity: 1; stroke-width: 0px; fill: rgb(25, 211, 243); fill-opacity: 1;\"/><path class=\"point\" transform=\"translate(247.08,327.63)\" d=\"M3,0A3,3 0 1,1 0,-3A3,3 0 0,1 3,0Z\" style=\"opacity: 1; stroke-width: 0px; fill: rgb(25, 211, 243); fill-opacity: 1;\"/><path class=\"point\" transform=\"translate(245.4,326.56)\" d=\"M3,0A3,3 0 1,1 0,-3A3,3 0 0,1 3,0Z\" style=\"opacity: 1; stroke-width: 0px; fill: rgb(25, 211, 243); fill-opacity: 1;\"/><path class=\"point\" transform=\"translate(244.26,325.49)\" d=\"M3,0A3,3 0 1,1 0,-3A3,3 0 0,1 3,0Z\" style=\"opacity: 1; stroke-width: 0px; fill: rgb(25, 211, 243); fill-opacity: 1;\"/><path class=\"point\" transform=\"translate(247.02,323.35)\" d=\"M3,0A3,3 0 1,1 0,-3A3,3 0 0,1 3,0Z\" style=\"opacity: 1; stroke-width: 0px; fill: rgb(25, 211, 243); fill-opacity: 1;\"/><path class=\"point\" transform=\"translate(245.37,319.07)\" d=\"M3,0A3,3 0 1,1 0,-3A3,3 0 0,1 3,0Z\" style=\"opacity: 1; stroke-width: 0px; fill: rgb(25, 211, 243); fill-opacity: 1;\"/><path class=\"point\" transform=\"translate(248.03,319.07)\" d=\"M3,0A3,3 0 1,1 0,-3A3,3 0 0,1 3,0Z\" style=\"opacity: 1; stroke-width: 0px; fill: rgb(25, 211, 243); fill-opacity: 1;\"/><path class=\"point\" transform=\"translate(243.75,319.07)\" d=\"M3,0A3,3 0 1,1 0,-3A3,3 0 0,1 3,0Z\" style=\"opacity: 1; stroke-width: 0px; fill: rgb(25, 211, 243); fill-opacity: 1;\"/><path class=\"point\" transform=\"translate(244.69,319.07)\" d=\"M3,0A3,3 0 1,1 0,-3A3,3 0 0,1 3,0Z\" style=\"opacity: 1; stroke-width: 0px; fill: rgb(25, 211, 243); fill-opacity: 1;\"/><path class=\"point\" transform=\"translate(249.09,319.07)\" d=\"M3,0A3,3 0 1,1 0,-3A3,3 0 0,1 3,0Z\" style=\"opacity: 1; stroke-width: 0px; fill: rgb(25, 211, 243); fill-opacity: 1;\"/><path class=\"point\" transform=\"translate(245.41,319.07)\" d=\"M3,0A3,3 0 1,1 0,-3A3,3 0 0,1 3,0Z\" style=\"opacity: 1; stroke-width: 0px; fill: rgb(25, 211, 243); fill-opacity: 1;\"/><path class=\"point\" transform=\"translate(243.29,319.07)\" d=\"M3,0A3,3 0 1,1 0,-3A3,3 0 0,1 3,0Z\" style=\"opacity: 1; stroke-width: 0px; fill: rgb(25, 211, 243); fill-opacity: 1;\"/><path class=\"point\" transform=\"translate(245.13,316.93)\" d=\"M3,0A3,3 0 1,1 0,-3A3,3 0 0,1 3,0Z\" style=\"opacity: 1; stroke-width: 0px; fill: rgb(25, 211, 243); fill-opacity: 1;\"/><path class=\"point\" transform=\"translate(246.21,316.93)\" d=\"M3,0A3,3 0 1,1 0,-3A3,3 0 0,1 3,0Z\" style=\"opacity: 1; stroke-width: 0px; fill: rgb(25, 211, 243); fill-opacity: 1;\"/><path class=\"point\" transform=\"translate(247.85,316.93)\" d=\"M3,0A3,3 0 1,1 0,-3A3,3 0 0,1 3,0Z\" style=\"opacity: 1; stroke-width: 0px; fill: rgb(25, 211, 243); fill-opacity: 1;\"/><path class=\"point\" transform=\"translate(246.67,316.93)\" d=\"M3,0A3,3 0 1,1 0,-3A3,3 0 0,1 3,0Z\" style=\"opacity: 1; stroke-width: 0px; fill: rgb(25, 211, 243); fill-opacity: 1;\"/><path class=\"point\" transform=\"translate(245.3,316.93)\" d=\"M3,0A3,3 0 1,1 0,-3A3,3 0 0,1 3,0Z\" style=\"opacity: 1; stroke-width: 0px; fill: rgb(25, 211, 243); fill-opacity: 1;\"/><path class=\"point\" transform=\"translate(243.37,313.72)\" d=\"M3,0A3,3 0 1,1 0,-3A3,3 0 0,1 3,0Z\" style=\"opacity: 1; stroke-width: 0px; fill: rgb(25, 211, 243); fill-opacity: 1;\"/><path class=\"point\" transform=\"translate(246.27,313.72)\" d=\"M3,0A3,3 0 1,1 0,-3A3,3 0 0,1 3,0Z\" style=\"opacity: 1; stroke-width: 0px; fill: rgb(25, 211, 243); fill-opacity: 1;\"/><path class=\"point\" transform=\"translate(245.26,313.72)\" d=\"M3,0A3,3 0 1,1 0,-3A3,3 0 0,1 3,0Z\" style=\"opacity: 1; stroke-width: 0px; fill: rgb(25, 211, 243); fill-opacity: 1;\"/><path class=\"point\" transform=\"translate(247.9,313.72)\" d=\"M3,0A3,3 0 1,1 0,-3A3,3 0 0,1 3,0Z\" style=\"opacity: 1; stroke-width: 0px; fill: rgb(25, 211, 243); fill-opacity: 1;\"/><path class=\"point\" transform=\"translate(246.04,313.72)\" d=\"M3,0A3,3 0 1,1 0,-3A3,3 0 0,1 3,0Z\" style=\"opacity: 1; stroke-width: 0px; fill: rgb(25, 211, 243); fill-opacity: 1;\"/><path class=\"point\" transform=\"translate(244,313.72)\" d=\"M3,0A3,3 0 1,1 0,-3A3,3 0 0,1 3,0Z\" style=\"opacity: 1; stroke-width: 0px; fill: rgb(25, 211, 243); fill-opacity: 1;\"/><path class=\"point\" transform=\"translate(243.03,313.72)\" d=\"M3,0A3,3 0 1,1 0,-3A3,3 0 0,1 3,0Z\" style=\"opacity: 1; stroke-width: 0px; fill: rgb(25, 211, 243); fill-opacity: 1;\"/><path class=\"point\" transform=\"translate(248.25,313.72)\" d=\"M3,0A3,3 0 1,1 0,-3A3,3 0 0,1 3,0Z\" style=\"opacity: 1; stroke-width: 0px; fill: rgb(25, 211, 243); fill-opacity: 1;\"/><path class=\"point\" transform=\"translate(243.3,312.65)\" d=\"M3,0A3,3 0 1,1 0,-3A3,3 0 0,1 3,0Z\" style=\"opacity: 1; stroke-width: 0px; fill: rgb(25, 211, 243); fill-opacity: 1;\"/><path class=\"point\" transform=\"translate(248.35,308.37)\" d=\"M3,0A3,3 0 1,1 0,-3A3,3 0 0,1 3,0Z\" style=\"opacity: 1; stroke-width: 0px; fill: rgb(25, 211, 243); fill-opacity: 1;\"/><path class=\"point\" transform=\"translate(247.04,308.37)\" d=\"M3,0A3,3 0 1,1 0,-3A3,3 0 0,1 3,0Z\" style=\"opacity: 1; stroke-width: 0px; fill: rgb(25, 211, 243); fill-opacity: 1;\"/><path class=\"point\" transform=\"translate(245.46,308.37)\" d=\"M3,0A3,3 0 1,1 0,-3A3,3 0 0,1 3,0Z\" style=\"opacity: 1; stroke-width: 0px; fill: rgb(25, 211, 243); fill-opacity: 1;\"/><path class=\"point\" transform=\"translate(244.74,308.37)\" d=\"M3,0A3,3 0 1,1 0,-3A3,3 0 0,1 3,0Z\" style=\"opacity: 1; stroke-width: 0px; fill: rgb(25, 211, 243); fill-opacity: 1;\"/><path class=\"point\" transform=\"translate(247.52,308.37)\" d=\"M3,0A3,3 0 1,1 0,-3A3,3 0 0,1 3,0Z\" style=\"opacity: 1; stroke-width: 0px; fill: rgb(25, 211, 243); fill-opacity: 1;\"/><path class=\"point\" transform=\"translate(245.91,308.37)\" d=\"M3,0A3,3 0 1,1 0,-3A3,3 0 0,1 3,0Z\" style=\"opacity: 1; stroke-width: 0px; fill: rgb(25, 211, 243); fill-opacity: 1;\"/><path class=\"point\" transform=\"translate(248.67,308.37)\" d=\"M3,0A3,3 0 1,1 0,-3A3,3 0 0,1 3,0Z\" style=\"opacity: 1; stroke-width: 0px; fill: rgb(25, 211, 243); fill-opacity: 1;\"/><path class=\"point\" transform=\"translate(243.35,305.16)\" d=\"M3,0A3,3 0 1,1 0,-3A3,3 0 0,1 3,0Z\" style=\"opacity: 1; stroke-width: 0px; fill: rgb(25, 211, 243); fill-opacity: 1;\"/><path class=\"point\" transform=\"translate(248.5,304.09)\" d=\"M3,0A3,3 0 1,1 0,-3A3,3 0 0,1 3,0Z\" style=\"opacity: 1; stroke-width: 0px; fill: rgb(25, 211, 243); fill-opacity: 1;\"/><path class=\"point\" transform=\"translate(245.99,304.09)\" d=\"M3,0A3,3 0 1,1 0,-3A3,3 0 0,1 3,0Z\" style=\"opacity: 1; stroke-width: 0px; fill: rgb(25, 211, 243); fill-opacity: 1;\"/><path class=\"point\" transform=\"translate(245.03,303.02)\" d=\"M3,0A3,3 0 1,1 0,-3A3,3 0 0,1 3,0Z\" style=\"opacity: 1; stroke-width: 0px; fill: rgb(25, 211, 243); fill-opacity: 1;\"/><path class=\"point\" transform=\"translate(243.15,303.02)\" d=\"M3,0A3,3 0 1,1 0,-3A3,3 0 0,1 3,0Z\" style=\"opacity: 1; stroke-width: 0px; fill: rgb(25, 211, 243); fill-opacity: 1;\"/><path class=\"point\" transform=\"translate(244.92,303.02)\" d=\"M3,0A3,3 0 1,1 0,-3A3,3 0 0,1 3,0Z\" style=\"opacity: 1; stroke-width: 0px; fill: rgb(25, 211, 243); fill-opacity: 1;\"/><path class=\"point\" transform=\"translate(248.61,303.02)\" d=\"M3,0A3,3 0 1,1 0,-3A3,3 0 0,1 3,0Z\" style=\"opacity: 1; stroke-width: 0px; fill: rgb(25, 211, 243); fill-opacity: 1;\"/><path class=\"point\" transform=\"translate(245.45,303.02)\" d=\"M3,0A3,3 0 1,1 0,-3A3,3 0 0,1 3,0Z\" style=\"opacity: 1; stroke-width: 0px; fill: rgb(25, 211, 243); fill-opacity: 1;\"/><path class=\"point\" transform=\"translate(243.57,301.95)\" d=\"M3,0A3,3 0 1,1 0,-3A3,3 0 0,1 3,0Z\" style=\"opacity: 1; stroke-width: 0px; fill: rgb(25, 211, 243); fill-opacity: 1;\"/><path class=\"point\" transform=\"translate(247.97,301.95)\" d=\"M3,0A3,3 0 1,1 0,-3A3,3 0 0,1 3,0Z\" style=\"opacity: 1; stroke-width: 0px; fill: rgb(25, 211, 243); fill-opacity: 1;\"/><path class=\"point\" transform=\"translate(244.41,301.95)\" d=\"M3,0A3,3 0 1,1 0,-3A3,3 0 0,1 3,0Z\" style=\"opacity: 1; stroke-width: 0px; fill: rgb(25, 211, 243); fill-opacity: 1;\"/><path class=\"point\" transform=\"translate(246.28,299.81)\" d=\"M3,0A3,3 0 1,1 0,-3A3,3 0 0,1 3,0Z\" style=\"opacity: 1; stroke-width: 0px; fill: rgb(25, 211, 243); fill-opacity: 1;\"/><path class=\"point\" transform=\"translate(247.77,299.81)\" d=\"M3,0A3,3 0 1,1 0,-3A3,3 0 0,1 3,0Z\" style=\"opacity: 1; stroke-width: 0px; fill: rgb(25, 211, 243); fill-opacity: 1;\"/><path class=\"point\" transform=\"translate(242.9,299.81)\" d=\"M3,0A3,3 0 1,1 0,-3A3,3 0 0,1 3,0Z\" style=\"opacity: 1; stroke-width: 0px; fill: rgb(25, 211, 243); fill-opacity: 1;\"/><path class=\"point\" transform=\"translate(249.54,297.67)\" d=\"M3,0A3,3 0 1,1 0,-3A3,3 0 0,1 3,0Z\" style=\"opacity: 1; stroke-width: 0px; fill: rgb(25, 211, 243); fill-opacity: 1;\"/><path class=\"point\" transform=\"translate(247.73,297.67)\" d=\"M3,0A3,3 0 1,1 0,-3A3,3 0 0,1 3,0Z\" style=\"opacity: 1; stroke-width: 0px; fill: rgb(25, 211, 243); fill-opacity: 1;\"/><path class=\"point\" transform=\"translate(243.2,297.67)\" d=\"M3,0A3,3 0 1,1 0,-3A3,3 0 0,1 3,0Z\" style=\"opacity: 1; stroke-width: 0px; fill: rgb(25, 211, 243); fill-opacity: 1;\"/><path class=\"point\" transform=\"translate(249.04,297.67)\" d=\"M3,0A3,3 0 1,1 0,-3A3,3 0 0,1 3,0Z\" style=\"opacity: 1; stroke-width: 0px; fill: rgb(25, 211, 243); fill-opacity: 1;\"/><path class=\"point\" transform=\"translate(243.72,297.67)\" d=\"M3,0A3,3 0 1,1 0,-3A3,3 0 0,1 3,0Z\" style=\"opacity: 1; stroke-width: 0px; fill: rgb(25, 211, 243); fill-opacity: 1;\"/><path class=\"point\" transform=\"translate(245.86,297.67)\" d=\"M3,0A3,3 0 1,1 0,-3A3,3 0 0,1 3,0Z\" style=\"opacity: 1; stroke-width: 0px; fill: rgb(25, 211, 243); fill-opacity: 1;\"/><path class=\"point\" transform=\"translate(246.68,297.67)\" d=\"M3,0A3,3 0 1,1 0,-3A3,3 0 0,1 3,0Z\" style=\"opacity: 1; stroke-width: 0px; fill: rgb(25, 211, 243); fill-opacity: 1;\"/><path class=\"point\" transform=\"translate(245.06,295.53)\" d=\"M3,0A3,3 0 1,1 0,-3A3,3 0 0,1 3,0Z\" style=\"opacity: 1; stroke-width: 0px; fill: rgb(25, 211, 243); fill-opacity: 1;\"/><path class=\"point\" transform=\"translate(247.85,295.53)\" d=\"M3,0A3,3 0 1,1 0,-3A3,3 0 0,1 3,0Z\" style=\"opacity: 1; stroke-width: 0px; fill: rgb(25, 211, 243); fill-opacity: 1;\"/><path class=\"point\" transform=\"translate(244.74,294.46)\" d=\"M3,0A3,3 0 1,1 0,-3A3,3 0 0,1 3,0Z\" style=\"opacity: 1; stroke-width: 0px; fill: rgb(25, 211, 243); fill-opacity: 1;\"/><path class=\"point\" transform=\"translate(247.21,292.32)\" d=\"M3,0A3,3 0 1,1 0,-3A3,3 0 0,1 3,0Z\" style=\"opacity: 1; stroke-width: 0px; fill: rgb(25, 211, 243); fill-opacity: 1;\"/><path class=\"point\" transform=\"translate(248.08,291.25)\" d=\"M3,0A3,3 0 1,1 0,-3A3,3 0 0,1 3,0Z\" style=\"opacity: 1; stroke-width: 0px; fill: rgb(25, 211, 243); fill-opacity: 1;\"/><path class=\"point\" transform=\"translate(243.69,290.18)\" d=\"M3,0A3,3 0 1,1 0,-3A3,3 0 0,1 3,0Z\" style=\"opacity: 1; stroke-width: 0px; fill: rgb(25, 211, 243); fill-opacity: 1;\"/><path class=\"point\" transform=\"translate(244.76,286.97)\" d=\"M3,0A3,3 0 1,1 0,-3A3,3 0 0,1 3,0Z\" style=\"opacity: 1; stroke-width: 0px; fill: rgb(25, 211, 243); fill-opacity: 1;\"/><path class=\"point\" transform=\"translate(247.86,286.97)\" d=\"M3,0A3,3 0 1,1 0,-3A3,3 0 0,1 3,0Z\" style=\"opacity: 1; stroke-width: 0px; fill: rgb(25, 211, 243); fill-opacity: 1;\"/><path class=\"point\" transform=\"translate(245.38,286.97)\" d=\"M3,0A3,3 0 1,1 0,-3A3,3 0 0,1 3,0Z\" style=\"opacity: 1; stroke-width: 0px; fill: rgb(25, 211, 243); fill-opacity: 1;\"/><path class=\"point\" transform=\"translate(246.56,286.97)\" d=\"M3,0A3,3 0 1,1 0,-3A3,3 0 0,1 3,0Z\" style=\"opacity: 1; stroke-width: 0px; fill: rgb(25, 211, 243); fill-opacity: 1;\"/><path class=\"point\" transform=\"translate(249.24,286.97)\" d=\"M3,0A3,3 0 1,1 0,-3A3,3 0 0,1 3,0Z\" style=\"opacity: 1; stroke-width: 0px; fill: rgb(25, 211, 243); fill-opacity: 1;\"/><path class=\"point\" transform=\"translate(243.59,286.97)\" d=\"M3,0A3,3 0 1,1 0,-3A3,3 0 0,1 3,0Z\" style=\"opacity: 1; stroke-width: 0px; fill: rgb(25, 211, 243); fill-opacity: 1;\"/><path class=\"point\" transform=\"translate(249.75,286.97)\" d=\"M3,0A3,3 0 1,1 0,-3A3,3 0 0,1 3,0Z\" style=\"opacity: 1; stroke-width: 0px; fill: rgb(25, 211, 243); fill-opacity: 1;\"/><path class=\"point\" transform=\"translate(243.68,286.97)\" d=\"M3,0A3,3 0 1,1 0,-3A3,3 0 0,1 3,0Z\" style=\"opacity: 1; stroke-width: 0px; fill: rgb(25, 211, 243); fill-opacity: 1;\"/><path class=\"point\" transform=\"translate(249.72,286.97)\" d=\"M3,0A3,3 0 1,1 0,-3A3,3 0 0,1 3,0Z\" style=\"opacity: 1; stroke-width: 0px; fill: rgb(25, 211, 243); fill-opacity: 1;\"/><path class=\"point\" transform=\"translate(244.59,285.9)\" d=\"M3,0A3,3 0 1,1 0,-3A3,3 0 0,1 3,0Z\" style=\"opacity: 1; stroke-width: 0px; fill: rgb(25, 211, 243); fill-opacity: 1;\"/><path class=\"point\" transform=\"translate(248.9,284.83)\" d=\"M3,0A3,3 0 1,1 0,-3A3,3 0 0,1 3,0Z\" style=\"opacity: 1; stroke-width: 0px; fill: rgb(25, 211, 243); fill-opacity: 1;\"/><path class=\"point\" transform=\"translate(247.27,282.69)\" d=\"M3,0A3,3 0 1,1 0,-3A3,3 0 0,1 3,0Z\" style=\"opacity: 1; stroke-width: 0px; fill: rgb(25, 211, 243); fill-opacity: 1;\"/><path class=\"point\" transform=\"translate(245.81,281.62)\" d=\"M3,0A3,3 0 1,1 0,-3A3,3 0 0,1 3,0Z\" style=\"opacity: 1; stroke-width: 0px; fill: rgb(25, 211, 243); fill-opacity: 1;\"/><path class=\"point\" transform=\"translate(243.29,281.62)\" d=\"M3,0A3,3 0 1,1 0,-3A3,3 0 0,1 3,0Z\" style=\"opacity: 1; stroke-width: 0px; fill: rgb(25, 211, 243); fill-opacity: 1;\"/><path class=\"point\" transform=\"translate(245.76,281.62)\" d=\"M3,0A3,3 0 1,1 0,-3A3,3 0 0,1 3,0Z\" style=\"opacity: 1; stroke-width: 0px; fill: rgb(25, 211, 243); fill-opacity: 1;\"/><path class=\"point\" transform=\"translate(243.38,281.62)\" d=\"M3,0A3,3 0 1,1 0,-3A3,3 0 0,1 3,0Z\" style=\"opacity: 1; stroke-width: 0px; fill: rgb(25, 211, 243); fill-opacity: 1;\"/><path class=\"point\" transform=\"translate(244.36,281.62)\" d=\"M3,0A3,3 0 1,1 0,-3A3,3 0 0,1 3,0Z\" style=\"opacity: 1; stroke-width: 0px; fill: rgb(25, 211, 243); fill-opacity: 1;\"/><path class=\"point\" transform=\"translate(243.55,281.62)\" d=\"M3,0A3,3 0 1,1 0,-3A3,3 0 0,1 3,0Z\" style=\"opacity: 1; stroke-width: 0px; fill: rgb(25, 211, 243); fill-opacity: 1;\"/><path class=\"point\" transform=\"translate(242.82,280.55)\" d=\"M3,0A3,3 0 1,1 0,-3A3,3 0 0,1 3,0Z\" style=\"opacity: 1; stroke-width: 0px; fill: rgb(25, 211, 243); fill-opacity: 1;\"/><path class=\"point\" transform=\"translate(244.43,279.48)\" d=\"M3,0A3,3 0 1,1 0,-3A3,3 0 0,1 3,0Z\" style=\"opacity: 1; stroke-width: 0px; fill: rgb(25, 211, 243); fill-opacity: 1;\"/><path class=\"point\" transform=\"translate(247.45,279.48)\" d=\"M3,0A3,3 0 1,1 0,-3A3,3 0 0,1 3,0Z\" style=\"opacity: 1; stroke-width: 0px; fill: rgb(25, 211, 243); fill-opacity: 1;\"/><path class=\"point\" transform=\"translate(243.28,278.41)\" d=\"M3,0A3,3 0 1,1 0,-3A3,3 0 0,1 3,0Z\" style=\"opacity: 1; stroke-width: 0px; fill: rgb(25, 211, 243); fill-opacity: 1;\"/><path class=\"point\" transform=\"translate(246.9,278.41)\" d=\"M3,0A3,3 0 1,1 0,-3A3,3 0 0,1 3,0Z\" style=\"opacity: 1; stroke-width: 0px; fill: rgb(25, 211, 243); fill-opacity: 1;\"/><path class=\"point\" transform=\"translate(247.62,276.26)\" d=\"M3,0A3,3 0 1,1 0,-3A3,3 0 0,1 3,0Z\" style=\"opacity: 1; stroke-width: 0px; fill: rgb(25, 211, 243); fill-opacity: 1;\"/><path class=\"point\" transform=\"translate(246.59,276.26)\" d=\"M3,0A3,3 0 1,1 0,-3A3,3 0 0,1 3,0Z\" style=\"opacity: 1; stroke-width: 0px; fill: rgb(25, 211, 243); fill-opacity: 1;\"/><path class=\"point\" transform=\"translate(244.76,276.26)\" d=\"M3,0A3,3 0 1,1 0,-3A3,3 0 0,1 3,0Z\" style=\"opacity: 1; stroke-width: 0px; fill: rgb(25, 211, 243); fill-opacity: 1;\"/><path class=\"point\" transform=\"translate(245.4,276.26)\" d=\"M3,0A3,3 0 1,1 0,-3A3,3 0 0,1 3,0Z\" style=\"opacity: 1; stroke-width: 0px; fill: rgb(25, 211, 243); fill-opacity: 1;\"/><path class=\"point\" transform=\"translate(248.45,273.05)\" d=\"M3,0A3,3 0 1,1 0,-3A3,3 0 0,1 3,0Z\" style=\"opacity: 1; stroke-width: 0px; fill: rgb(25, 211, 243); fill-opacity: 1;\"/><path class=\"point\" transform=\"translate(244.99,271.98)\" d=\"M3,0A3,3 0 1,1 0,-3A3,3 0 0,1 3,0Z\" style=\"opacity: 1; stroke-width: 0px; fill: rgb(25, 211, 243); fill-opacity: 1;\"/><path class=\"point\" transform=\"translate(246.56,269.84)\" d=\"M3,0A3,3 0 1,1 0,-3A3,3 0 0,1 3,0Z\" style=\"opacity: 1; stroke-width: 0px; fill: rgb(25, 211, 243); fill-opacity: 1;\"/><path class=\"point\" transform=\"translate(247.82,269.84)\" d=\"M3,0A3,3 0 1,1 0,-3A3,3 0 0,1 3,0Z\" style=\"opacity: 1; stroke-width: 0px; fill: rgb(25, 211, 243); fill-opacity: 1;\"/><path class=\"point\" transform=\"translate(244.24,268.77)\" d=\"M3,0A3,3 0 1,1 0,-3A3,3 0 0,1 3,0Z\" style=\"opacity: 1; stroke-width: 0px; fill: rgb(25, 211, 243); fill-opacity: 1;\"/><path class=\"point\" transform=\"translate(245.88,265.56)\" d=\"M3,0A3,3 0 1,1 0,-3A3,3 0 0,1 3,0Z\" style=\"opacity: 1; stroke-width: 0px; fill: rgb(25, 211, 243); fill-opacity: 1;\"/><path class=\"point\" transform=\"translate(249.1,265.56)\" d=\"M3,0A3,3 0 1,1 0,-3A3,3 0 0,1 3,0Z\" style=\"opacity: 1; stroke-width: 0px; fill: rgb(25, 211, 243); fill-opacity: 1;\"/><path class=\"point\" transform=\"translate(243.83,265.56)\" d=\"M3,0A3,3 0 1,1 0,-3A3,3 0 0,1 3,0Z\" style=\"opacity: 1; stroke-width: 0px; fill: rgb(25, 211, 243); fill-opacity: 1;\"/><path class=\"point\" transform=\"translate(245.72,265.56)\" d=\"M3,0A3,3 0 1,1 0,-3A3,3 0 0,1 3,0Z\" style=\"opacity: 1; stroke-width: 0px; fill: rgb(25, 211, 243); fill-opacity: 1;\"/><path class=\"point\" transform=\"translate(247.73,265.56)\" d=\"M3,0A3,3 0 1,1 0,-3A3,3 0 0,1 3,0Z\" style=\"opacity: 1; stroke-width: 0px; fill: rgb(25, 211, 243); fill-opacity: 1;\"/><path class=\"point\" transform=\"translate(248.88,265.56)\" d=\"M3,0A3,3 0 1,1 0,-3A3,3 0 0,1 3,0Z\" style=\"opacity: 1; stroke-width: 0px; fill: rgb(25, 211, 243); fill-opacity: 1;\"/><path class=\"point\" transform=\"translate(249.6,265.56)\" d=\"M3,0A3,3 0 1,1 0,-3A3,3 0 0,1 3,0Z\" style=\"opacity: 1; stroke-width: 0px; fill: rgb(25, 211, 243); fill-opacity: 1;\"/><path class=\"point\" transform=\"translate(243.21,261.28)\" d=\"M3,0A3,3 0 1,1 0,-3A3,3 0 0,1 3,0Z\" style=\"opacity: 1; stroke-width: 0px; fill: rgb(25, 211, 243); fill-opacity: 1;\"/><path class=\"point\" transform=\"translate(246.97,261.28)\" d=\"M3,0A3,3 0 1,1 0,-3A3,3 0 0,1 3,0Z\" style=\"opacity: 1; stroke-width: 0px; fill: rgb(25, 211, 243); fill-opacity: 1;\"/><path class=\"point\" transform=\"translate(243.92,261.28)\" d=\"M3,0A3,3 0 1,1 0,-3A3,3 0 0,1 3,0Z\" style=\"opacity: 1; stroke-width: 0px; fill: rgb(25, 211, 243); fill-opacity: 1;\"/><path class=\"point\" transform=\"translate(248.52,260.21)\" d=\"M3,0A3,3 0 1,1 0,-3A3,3 0 0,1 3,0Z\" style=\"opacity: 1; stroke-width: 0px; fill: rgb(25, 211, 243); fill-opacity: 1;\"/><path class=\"point\" transform=\"translate(246.7,260.21)\" d=\"M3,0A3,3 0 1,1 0,-3A3,3 0 0,1 3,0Z\" style=\"opacity: 1; stroke-width: 0px; fill: rgb(25, 211, 243); fill-opacity: 1;\"/><path class=\"point\" transform=\"translate(245.39,260.21)\" d=\"M3,0A3,3 0 1,1 0,-3A3,3 0 0,1 3,0Z\" style=\"opacity: 1; stroke-width: 0px; fill: rgb(25, 211, 243); fill-opacity: 1;\"/><path class=\"point\" transform=\"translate(249.18,258.07)\" d=\"M3,0A3,3 0 1,1 0,-3A3,3 0 0,1 3,0Z\" style=\"opacity: 1; stroke-width: 0px; fill: rgb(25, 211, 243); fill-opacity: 1;\"/><path class=\"point\" transform=\"translate(244.61,254.86)\" d=\"M3,0A3,3 0 1,1 0,-3A3,3 0 0,1 3,0Z\" style=\"opacity: 1; stroke-width: 0px; fill: rgb(25, 211, 243); fill-opacity: 1;\"/><path class=\"point\" transform=\"translate(245.41,254.86)\" d=\"M3,0A3,3 0 1,1 0,-3A3,3 0 0,1 3,0Z\" style=\"opacity: 1; stroke-width: 0px; fill: rgb(25, 211, 243); fill-opacity: 1;\"/><path class=\"point\" transform=\"translate(246.01,254.86)\" d=\"M3,0A3,3 0 1,1 0,-3A3,3 0 0,1 3,0Z\" style=\"opacity: 1; stroke-width: 0px; fill: rgb(25, 211, 243); fill-opacity: 1;\"/><path class=\"point\" transform=\"translate(247.19,254.86)\" d=\"M3,0A3,3 0 1,1 0,-3A3,3 0 0,1 3,0Z\" style=\"opacity: 1; stroke-width: 0px; fill: rgb(25, 211, 243); fill-opacity: 1;\"/><path class=\"point\" transform=\"translate(245.33,254.86)\" d=\"M3,0A3,3 0 1,1 0,-3A3,3 0 0,1 3,0Z\" style=\"opacity: 1; stroke-width: 0px; fill: rgb(25, 211, 243); fill-opacity: 1;\"/><path class=\"point\" transform=\"translate(246.08,251.65)\" d=\"M3,0A3,3 0 1,1 0,-3A3,3 0 0,1 3,0Z\" style=\"opacity: 1; stroke-width: 0px; fill: rgb(25, 211, 243); fill-opacity: 1;\"/><path class=\"point\" transform=\"translate(245.41,246.3)\" d=\"M3,0A3,3 0 1,1 0,-3A3,3 0 0,1 3,0Z\" style=\"opacity: 1; stroke-width: 0px; fill: rgb(25, 211, 243); fill-opacity: 1;\"/><path class=\"point\" transform=\"translate(247.79,244.16)\" d=\"M3,0A3,3 0 1,1 0,-3A3,3 0 0,1 3,0Z\" style=\"opacity: 1; stroke-width: 0px; fill: rgb(25, 211, 243); fill-opacity: 1;\"/><path class=\"point\" transform=\"translate(245.91,244.16)\" d=\"M3,0A3,3 0 1,1 0,-3A3,3 0 0,1 3,0Z\" style=\"opacity: 1; stroke-width: 0px; fill: rgb(25, 211, 243); fill-opacity: 1;\"/><path class=\"point\" transform=\"translate(247.28,244.16)\" d=\"M3,0A3,3 0 1,1 0,-3A3,3 0 0,1 3,0Z\" style=\"opacity: 1; stroke-width: 0px; fill: rgb(25, 211, 243); fill-opacity: 1;\"/><path class=\"point\" transform=\"translate(246.35,244.16)\" d=\"M3,0A3,3 0 1,1 0,-3A3,3 0 0,1 3,0Z\" style=\"opacity: 1; stroke-width: 0px; fill: rgb(25, 211, 243); fill-opacity: 1;\"/><path class=\"point\" transform=\"translate(247.63,240.95)\" d=\"M3,0A3,3 0 1,1 0,-3A3,3 0 0,1 3,0Z\" style=\"opacity: 1; stroke-width: 0px; fill: rgb(25, 211, 243); fill-opacity: 1;\"/><path class=\"point\" transform=\"translate(244.7,238.81)\" d=\"M3,0A3,3 0 1,1 0,-3A3,3 0 0,1 3,0Z\" style=\"opacity: 1; stroke-width: 0px; fill: rgb(25, 211, 243); fill-opacity: 1;\"/><path class=\"point\" transform=\"translate(246.59,237.74)\" d=\"M3,0A3,3 0 1,1 0,-3A3,3 0 0,1 3,0Z\" style=\"opacity: 1; stroke-width: 0px; fill: rgb(25, 211, 243); fill-opacity: 1;\"/><path class=\"point\" transform=\"translate(247.59,233.46)\" d=\"M3,0A3,3 0 1,1 0,-3A3,3 0 0,1 3,0Z\" style=\"opacity: 1; stroke-width: 0px; fill: rgb(25, 211, 243); fill-opacity: 1;\"/><path class=\"point\" transform=\"translate(246.45,233.46)\" d=\"M3,0A3,3 0 1,1 0,-3A3,3 0 0,1 3,0Z\" style=\"opacity: 1; stroke-width: 0px; fill: rgb(25, 211, 243); fill-opacity: 1;\"/><path class=\"point\" transform=\"translate(247.37,233.46)\" d=\"M3,0A3,3 0 1,1 0,-3A3,3 0 0,1 3,0Z\" style=\"opacity: 1; stroke-width: 0px; fill: rgb(25, 211, 243); fill-opacity: 1;\"/><path class=\"point\" transform=\"translate(249.04,233.46)\" d=\"M3,0A3,3 0 1,1 0,-3A3,3 0 0,1 3,0Z\" style=\"opacity: 1; stroke-width: 0px; fill: rgb(25, 211, 243); fill-opacity: 1;\"/><path class=\"point\" transform=\"translate(245.16,233.46)\" d=\"M3,0A3,3 0 1,1 0,-3A3,3 0 0,1 3,0Z\" style=\"opacity: 1; stroke-width: 0px; fill: rgb(25, 211, 243); fill-opacity: 1;\"/><path class=\"point\" transform=\"translate(248.38,233.46)\" d=\"M3,0A3,3 0 1,1 0,-3A3,3 0 0,1 3,0Z\" style=\"opacity: 1; stroke-width: 0px; fill: rgb(25, 211, 243); fill-opacity: 1;\"/><path class=\"point\" transform=\"translate(247.24,233.46)\" d=\"M3,0A3,3 0 1,1 0,-3A3,3 0 0,1 3,0Z\" style=\"opacity: 1; stroke-width: 0px; fill: rgb(25, 211, 243); fill-opacity: 1;\"/><path class=\"point\" transform=\"translate(248.54,233.46)\" d=\"M3,0A3,3 0 1,1 0,-3A3,3 0 0,1 3,0Z\" style=\"opacity: 1; stroke-width: 0px; fill: rgb(25, 211, 243); fill-opacity: 1;\"/><path class=\"point\" transform=\"translate(244.36,233.46)\" d=\"M3,0A3,3 0 1,1 0,-3A3,3 0 0,1 3,0Z\" style=\"opacity: 1; stroke-width: 0px; fill: rgb(25, 211, 243); fill-opacity: 1;\"/><path class=\"point\" transform=\"translate(249.26,228.11)\" d=\"M3,0A3,3 0 1,1 0,-3A3,3 0 0,1 3,0Z\" style=\"opacity: 1; stroke-width: 0px; fill: rgb(25, 211, 243); fill-opacity: 1;\"/><path class=\"point\" transform=\"translate(245.2,228.11)\" d=\"M3,0A3,3 0 1,1 0,-3A3,3 0 0,1 3,0Z\" style=\"opacity: 1; stroke-width: 0px; fill: rgb(25, 211, 243); fill-opacity: 1;\"/><path class=\"point\" transform=\"translate(246.3,228.11)\" d=\"M3,0A3,3 0 1,1 0,-3A3,3 0 0,1 3,0Z\" style=\"opacity: 1; stroke-width: 0px; fill: rgb(25, 211, 243); fill-opacity: 1;\"/><path class=\"point\" transform=\"translate(244.62,228.11)\" d=\"M3,0A3,3 0 1,1 0,-3A3,3 0 0,1 3,0Z\" style=\"opacity: 1; stroke-width: 0px; fill: rgb(25, 211, 243); fill-opacity: 1;\"/><path class=\"point\" transform=\"translate(245.88,228.11)\" d=\"M3,0A3,3 0 1,1 0,-3A3,3 0 0,1 3,0Z\" style=\"opacity: 1; stroke-width: 0px; fill: rgb(25, 211, 243); fill-opacity: 1;\"/><path class=\"point\" transform=\"translate(247.35,227.04)\" d=\"M3,0A3,3 0 1,1 0,-3A3,3 0 0,1 3,0Z\" style=\"opacity: 1; stroke-width: 0px; fill: rgb(25, 211, 243); fill-opacity: 1;\"/><path class=\"point\" transform=\"translate(247.66,227.04)\" d=\"M3,0A3,3 0 1,1 0,-3A3,3 0 0,1 3,0Z\" style=\"opacity: 1; stroke-width: 0px; fill: rgb(25, 211, 243); fill-opacity: 1;\"/><path class=\"point\" transform=\"translate(244.8,224.9)\" d=\"M3,0A3,3 0 1,1 0,-3A3,3 0 0,1 3,0Z\" style=\"opacity: 1; stroke-width: 0px; fill: rgb(25, 211, 243); fill-opacity: 1;\"/><path class=\"point\" transform=\"translate(246.76,224.9)\" d=\"M3,0A3,3 0 1,1 0,-3A3,3 0 0,1 3,0Z\" style=\"opacity: 1; stroke-width: 0px; fill: rgb(25, 211, 243); fill-opacity: 1;\"/><path class=\"point\" transform=\"translate(247.23,222.76)\" d=\"M3,0A3,3 0 1,1 0,-3A3,3 0 0,1 3,0Z\" style=\"opacity: 1; stroke-width: 0px; fill: rgb(25, 211, 243); fill-opacity: 1;\"/><path class=\"point\" transform=\"translate(245.61,216.34)\" d=\"M3,0A3,3 0 1,1 0,-3A3,3 0 0,1 3,0Z\" style=\"opacity: 1; stroke-width: 0px; fill: rgb(25, 211, 243); fill-opacity: 1;\"/><path class=\"point\" transform=\"translate(246.69,212.06)\" d=\"M3,0A3,3 0 1,1 0,-3A3,3 0 0,1 3,0Z\" style=\"opacity: 1; stroke-width: 0px; fill: rgb(25, 211, 243); fill-opacity: 1;\"/><path class=\"point\" transform=\"translate(246.28,201.36)\" d=\"M3,0A3,3 0 1,1 0,-3A3,3 0 0,1 3,0Z\" style=\"opacity: 1; stroke-width: 0px; fill: rgb(25, 211, 243); fill-opacity: 1;\"/><path class=\"point\" transform=\"translate(245.6,182.1)\" d=\"M3,0A3,3 0 1,1 0,-3A3,3 0 0,1 3,0Z\" style=\"opacity: 1; stroke-width: 0px; fill: rgb(25, 211, 243); fill-opacity: 1;\"/><path class=\"point\" transform=\"translate(246.79,169.25)\" d=\"M3,0A3,3 0 1,1 0,-3A3,3 0 0,1 3,0Z\" style=\"opacity: 1; stroke-width: 0px; fill: rgb(25, 211, 243); fill-opacity: 1;\"/><path class=\"point\" transform=\"translate(246.51,169.25)\" d=\"M3,0A3,3 0 1,1 0,-3A3,3 0 0,1 3,0Z\" style=\"opacity: 1; stroke-width: 0px; fill: rgb(25, 211, 243); fill-opacity: 1;\"/><path class=\"point\" transform=\"translate(246.16,169.25)\" d=\"M3,0A3,3 0 1,1 0,-3A3,3 0 0,1 3,0Z\" style=\"opacity: 1; stroke-width: 0px; fill: rgb(25, 211, 243); fill-opacity: 1;\"/><path class=\"point\" transform=\"translate(246.04,158.55)\" d=\"M3,0A3,3 0 1,1 0,-3A3,3 0 0,1 3,0Z\" style=\"opacity: 1; stroke-width: 0px; fill: rgb(25, 211, 243); fill-opacity: 1;\"/><path class=\"point\" transform=\"translate(246.92,137.15)\" d=\"M3,0A3,3 0 1,1 0,-3A3,3 0 0,1 3,0Z\" style=\"opacity: 1; stroke-width: 0px; fill: rgb(25, 211, 243); fill-opacity: 1;\"/><path class=\"point\" transform=\"translate(246.36,126.45)\" d=\"M3,0A3,3 0 1,1 0,-3A3,3 0 0,1 3,0Z\" style=\"opacity: 1; stroke-width: 0px; fill: rgb(25, 211, 243); fill-opacity: 1;\"/><path class=\"point\" transform=\"translate(246.68,81.51)\" d=\"M3,0A3,3 0 1,1 0,-3A3,3 0 0,1 3,0Z\" style=\"opacity: 1; stroke-width: 0px; fill: rgb(25, 211, 243); fill-opacity: 1;\"/></g></g><g class=\"trace boxes\" style=\"opacity: 1;\"><path class=\"box\" d=\"M299.49,279.48H322.71M299.49,302.21H322.71V239.35H299.49ZM311.1,302.21V328.7M311.1,239.35V147.85M305.29,328.7H316.91M305.29,147.85H316.91\" style=\"vector-effect: non-scaling-stroke; stroke-width: 2px; stroke: rgb(255, 102, 146); stroke-opacity: 1; fill: rgb(255, 102, 146); fill-opacity: 0.5;\"/><g class=\"points\"><path class=\"point\" transform=\"translate(295.23,328.7)\" d=\"M3,0A3,3 0 1,1 0,-3A3,3 0 0,1 3,0Z\" style=\"opacity: 1; stroke-width: 0px; fill: rgb(255, 102, 146); fill-opacity: 1;\"/><path class=\"point\" transform=\"translate(292.1,325.49)\" d=\"M3,0A3,3 0 1,1 0,-3A3,3 0 0,1 3,0Z\" style=\"opacity: 1; stroke-width: 0px; fill: rgb(255, 102, 146); fill-opacity: 1;\"/><path class=\"point\" transform=\"translate(295.51,325.49)\" d=\"M3,0A3,3 0 1,1 0,-3A3,3 0 0,1 3,0Z\" style=\"opacity: 1; stroke-width: 0px; fill: rgb(255, 102, 146); fill-opacity: 1;\"/><path class=\"point\" transform=\"translate(291.55,325.49)\" d=\"M3,0A3,3 0 1,1 0,-3A3,3 0 0,1 3,0Z\" style=\"opacity: 1; stroke-width: 0px; fill: rgb(255, 102, 146); fill-opacity: 1;\"/><path class=\"point\" transform=\"translate(293.02,325.49)\" d=\"M3,0A3,3 0 1,1 0,-3A3,3 0 0,1 3,0Z\" style=\"opacity: 1; stroke-width: 0px; fill: rgb(255, 102, 146); fill-opacity: 1;\"/><path class=\"point\" transform=\"translate(295.16,324.42)\" d=\"M3,0A3,3 0 1,1 0,-3A3,3 0 0,1 3,0Z\" style=\"opacity: 1; stroke-width: 0px; fill: rgb(255, 102, 146); fill-opacity: 1;\"/><path class=\"point\" transform=\"translate(293.55,321.21)\" d=\"M3,0A3,3 0 1,1 0,-3A3,3 0 0,1 3,0Z\" style=\"opacity: 1; stroke-width: 0px; fill: rgb(255, 102, 146); fill-opacity: 1;\"/><path class=\"point\" transform=\"translate(294.68,319.07)\" d=\"M3,0A3,3 0 1,1 0,-3A3,3 0 0,1 3,0Z\" style=\"opacity: 1; stroke-width: 0px; fill: rgb(255, 102, 146); fill-opacity: 1;\"/><path class=\"point\" transform=\"translate(292.73,319.07)\" d=\"M3,0A3,3 0 1,1 0,-3A3,3 0 0,1 3,0Z\" style=\"opacity: 1; stroke-width: 0px; fill: rgb(255, 102, 146); fill-opacity: 1;\"/><path class=\"point\" transform=\"translate(291.49,319.07)\" d=\"M3,0A3,3 0 1,1 0,-3A3,3 0 0,1 3,0Z\" style=\"opacity: 1; stroke-width: 0px; fill: rgb(255, 102, 146); fill-opacity: 1;\"/><path class=\"point\" transform=\"translate(294.53,319.07)\" d=\"M3,0A3,3 0 1,1 0,-3A3,3 0 0,1 3,0Z\" style=\"opacity: 1; stroke-width: 0px; fill: rgb(255, 102, 146); fill-opacity: 1;\"/><path class=\"point\" transform=\"translate(292.55,319.07)\" d=\"M3,0A3,3 0 1,1 0,-3A3,3 0 0,1 3,0Z\" style=\"opacity: 1; stroke-width: 0px; fill: rgb(255, 102, 146); fill-opacity: 1;\"/><path class=\"point\" transform=\"translate(295.89,319.07)\" d=\"M3,0A3,3 0 1,1 0,-3A3,3 0 0,1 3,0Z\" style=\"opacity: 1; stroke-width: 0px; fill: rgb(255, 102, 146); fill-opacity: 1;\"/><path class=\"point\" transform=\"translate(290.29,316.93)\" d=\"M3,0A3,3 0 1,1 0,-3A3,3 0 0,1 3,0Z\" style=\"opacity: 1; stroke-width: 0px; fill: rgb(255, 102, 146); fill-opacity: 1;\"/><path class=\"point\" transform=\"translate(291.66,316.93)\" d=\"M3,0A3,3 0 1,1 0,-3A3,3 0 0,1 3,0Z\" style=\"opacity: 1; stroke-width: 0px; fill: rgb(255, 102, 146); fill-opacity: 1;\"/><path class=\"point\" transform=\"translate(296.73,316.93)\" d=\"M3,0A3,3 0 1,1 0,-3A3,3 0 0,1 3,0Z\" style=\"opacity: 1; stroke-width: 0px; fill: rgb(255, 102, 146); fill-opacity: 1;\"/><path class=\"point\" transform=\"translate(292.82,314.79)\" d=\"M3,0A3,3 0 1,1 0,-3A3,3 0 0,1 3,0Z\" style=\"opacity: 1; stroke-width: 0px; fill: rgb(255, 102, 146); fill-opacity: 1;\"/><path class=\"point\" transform=\"translate(290.72,314.79)\" d=\"M3,0A3,3 0 1,1 0,-3A3,3 0 0,1 3,0Z\" style=\"opacity: 1; stroke-width: 0px; fill: rgb(255, 102, 146); fill-opacity: 1;\"/><path class=\"point\" transform=\"translate(292.69,314.79)\" d=\"M3,0A3,3 0 1,1 0,-3A3,3 0 0,1 3,0Z\" style=\"opacity: 1; stroke-width: 0px; fill: rgb(255, 102, 146); fill-opacity: 1;\"/><path class=\"point\" transform=\"translate(293.62,313.72)\" d=\"M3,0A3,3 0 1,1 0,-3A3,3 0 0,1 3,0Z\" style=\"opacity: 1; stroke-width: 0px; fill: rgb(255, 102, 146); fill-opacity: 1;\"/><path class=\"point\" transform=\"translate(295.02,312.65)\" d=\"M3,0A3,3 0 1,1 0,-3A3,3 0 0,1 3,0Z\" style=\"opacity: 1; stroke-width: 0px; fill: rgb(255, 102, 146); fill-opacity: 1;\"/><path class=\"point\" transform=\"translate(294.06,312.65)\" d=\"M3,0A3,3 0 1,1 0,-3A3,3 0 0,1 3,0Z\" style=\"opacity: 1; stroke-width: 0px; fill: rgb(255, 102, 146); fill-opacity: 1;\"/><path class=\"point\" transform=\"translate(292.71,312.65)\" d=\"M3,0A3,3 0 1,1 0,-3A3,3 0 0,1 3,0Z\" style=\"opacity: 1; stroke-width: 0px; fill: rgb(255, 102, 146); fill-opacity: 1;\"/><path class=\"point\" transform=\"translate(291.18,308.37)\" d=\"M3,0A3,3 0 1,1 0,-3A3,3 0 0,1 3,0Z\" style=\"opacity: 1; stroke-width: 0px; fill: rgb(255, 102, 146); fill-opacity: 1;\"/><path class=\"point\" transform=\"translate(293.67,308.37)\" d=\"M3,0A3,3 0 1,1 0,-3A3,3 0 0,1 3,0Z\" style=\"opacity: 1; stroke-width: 0px; fill: rgb(255, 102, 146); fill-opacity: 1;\"/><path class=\"point\" transform=\"translate(292.67,308.37)\" d=\"M3,0A3,3 0 1,1 0,-3A3,3 0 0,1 3,0Z\" style=\"opacity: 1; stroke-width: 0px; fill: rgb(255, 102, 146); fill-opacity: 1;\"/><path class=\"point\" transform=\"translate(295.07,308.37)\" d=\"M3,0A3,3 0 1,1 0,-3A3,3 0 0,1 3,0Z\" style=\"opacity: 1; stroke-width: 0px; fill: rgb(255, 102, 146); fill-opacity: 1;\"/><path class=\"point\" transform=\"translate(293.42,308.37)\" d=\"M3,0A3,3 0 1,1 0,-3A3,3 0 0,1 3,0Z\" style=\"opacity: 1; stroke-width: 0px; fill: rgb(255, 102, 146); fill-opacity: 1;\"/><path class=\"point\" transform=\"translate(291.4,306.23)\" d=\"M3,0A3,3 0 1,1 0,-3A3,3 0 0,1 3,0Z\" style=\"opacity: 1; stroke-width: 0px; fill: rgb(255, 102, 146); fill-opacity: 1;\"/><path class=\"point\" transform=\"translate(290.89,306.23)\" d=\"M3,0A3,3 0 1,1 0,-3A3,3 0 0,1 3,0Z\" style=\"opacity: 1; stroke-width: 0px; fill: rgb(255, 102, 146); fill-opacity: 1;\"/><path class=\"point\" transform=\"translate(295.36,306.23)\" d=\"M3,0A3,3 0 1,1 0,-3A3,3 0 0,1 3,0Z\" style=\"opacity: 1; stroke-width: 0px; fill: rgb(255, 102, 146); fill-opacity: 1;\"/><path class=\"point\" transform=\"translate(291.4,304.09)\" d=\"M3,0A3,3 0 1,1 0,-3A3,3 0 0,1 3,0Z\" style=\"opacity: 1; stroke-width: 0px; fill: rgb(255, 102, 146); fill-opacity: 1;\"/><path class=\"point\" transform=\"translate(295.27,304.09)\" d=\"M3,0A3,3 0 1,1 0,-3A3,3 0 0,1 3,0Z\" style=\"opacity: 1; stroke-width: 0px; fill: rgb(255, 102, 146); fill-opacity: 1;\"/><path class=\"point\" transform=\"translate(294.33,303.02)\" d=\"M3,0A3,3 0 1,1 0,-3A3,3 0 0,1 3,0Z\" style=\"opacity: 1; stroke-width: 0px; fill: rgb(255, 102, 146); fill-opacity: 1;\"/><path class=\"point\" transform=\"translate(292.79,299.81)\" d=\"M3,0A3,3 0 1,1 0,-3A3,3 0 0,1 3,0Z\" style=\"opacity: 1; stroke-width: 0px; fill: rgb(255, 102, 146); fill-opacity: 1;\"/><path class=\"point\" transform=\"translate(291.91,299.81)\" d=\"M3,0A3,3 0 1,1 0,-3A3,3 0 0,1 3,0Z\" style=\"opacity: 1; stroke-width: 0px; fill: rgb(255, 102, 146); fill-opacity: 1;\"/><path class=\"point\" transform=\"translate(295.24,297.67)\" d=\"M3,0A3,3 0 1,1 0,-3A3,3 0 0,1 3,0Z\" style=\"opacity: 1; stroke-width: 0px; fill: rgb(255, 102, 146); fill-opacity: 1;\"/><path class=\"point\" transform=\"translate(293.36,297.67)\" d=\"M3,0A3,3 0 1,1 0,-3A3,3 0 0,1 3,0Z\" style=\"opacity: 1; stroke-width: 0px; fill: rgb(255, 102, 146); fill-opacity: 1;\"/><path class=\"point\" transform=\"translate(295.87,297.67)\" d=\"M3,0A3,3 0 1,1 0,-3A3,3 0 0,1 3,0Z\" style=\"opacity: 1; stroke-width: 0px; fill: rgb(255, 102, 146); fill-opacity: 1;\"/><path class=\"point\" transform=\"translate(290.75,297.67)\" d=\"M3,0A3,3 0 1,1 0,-3A3,3 0 0,1 3,0Z\" style=\"opacity: 1; stroke-width: 0px; fill: rgb(255, 102, 146); fill-opacity: 1;\"/><path class=\"point\" transform=\"translate(295.88,297.67)\" d=\"M3,0A3,3 0 1,1 0,-3A3,3 0 0,1 3,0Z\" style=\"opacity: 1; stroke-width: 0px; fill: rgb(255, 102, 146); fill-opacity: 1;\"/><path class=\"point\" transform=\"translate(293.39,297.67)\" d=\"M3,0A3,3 0 1,1 0,-3A3,3 0 0,1 3,0Z\" style=\"opacity: 1; stroke-width: 0px; fill: rgb(255, 102, 146); fill-opacity: 1;\"/><path class=\"point\" transform=\"translate(292.33,295.53)\" d=\"M3,0A3,3 0 1,1 0,-3A3,3 0 0,1 3,0Z\" style=\"opacity: 1; stroke-width: 0px; fill: rgb(255, 102, 146); fill-opacity: 1;\"/><path class=\"point\" transform=\"translate(291.05,295.53)\" d=\"M3,0A3,3 0 1,1 0,-3A3,3 0 0,1 3,0Z\" style=\"opacity: 1; stroke-width: 0px; fill: rgb(255, 102, 146); fill-opacity: 1;\"/><path class=\"point\" transform=\"translate(292.64,295.53)\" d=\"M3,0A3,3 0 1,1 0,-3A3,3 0 0,1 3,0Z\" style=\"opacity: 1; stroke-width: 0px; fill: rgb(255, 102, 146); fill-opacity: 1;\"/><path class=\"point\" transform=\"translate(295.46,293.39)\" d=\"M3,0A3,3 0 1,1 0,-3A3,3 0 0,1 3,0Z\" style=\"opacity: 1; stroke-width: 0px; fill: rgb(255, 102, 146); fill-opacity: 1;\"/><path class=\"point\" transform=\"translate(293.04,292.32)\" d=\"M3,0A3,3 0 1,1 0,-3A3,3 0 0,1 3,0Z\" style=\"opacity: 1; stroke-width: 0px; fill: rgb(255, 102, 146); fill-opacity: 1;\"/><path class=\"point\" transform=\"translate(291.36,291.25)\" d=\"M3,0A3,3 0 1,1 0,-3A3,3 0 0,1 3,0Z\" style=\"opacity: 1; stroke-width: 0px; fill: rgb(255, 102, 146); fill-opacity: 1;\"/><path class=\"point\" transform=\"translate(295.12,286.97)\" d=\"M3,0A3,3 0 1,1 0,-3A3,3 0 0,1 3,0Z\" style=\"opacity: 1; stroke-width: 0px; fill: rgb(255, 102, 146); fill-opacity: 1;\"/><path class=\"point\" transform=\"translate(292.08,286.97)\" d=\"M3,0A3,3 0 1,1 0,-3A3,3 0 0,1 3,0Z\" style=\"opacity: 1; stroke-width: 0px; fill: rgb(255, 102, 146); fill-opacity: 1;\"/><path class=\"point\" transform=\"translate(293.68,286.97)\" d=\"M3,0A3,3 0 1,1 0,-3A3,3 0 0,1 3,0Z\" style=\"opacity: 1; stroke-width: 0px; fill: rgb(255, 102, 146); fill-opacity: 1;\"/><path class=\"point\" transform=\"translate(295.17,286.97)\" d=\"M3,0A3,3 0 1,1 0,-3A3,3 0 0,1 3,0Z\" style=\"opacity: 1; stroke-width: 0px; fill: rgb(255, 102, 146); fill-opacity: 1;\"/><path class=\"point\" transform=\"translate(290.3,286.97)\" d=\"M3,0A3,3 0 1,1 0,-3A3,3 0 0,1 3,0Z\" style=\"opacity: 1; stroke-width: 0px; fill: rgb(255, 102, 146); fill-opacity: 1;\"/><path class=\"point\" transform=\"translate(296.94,286.97)\" d=\"M3,0A3,3 0 1,1 0,-3A3,3 0 0,1 3,0Z\" style=\"opacity: 1; stroke-width: 0px; fill: rgb(255, 102, 146); fill-opacity: 1;\"/><path class=\"point\" transform=\"translate(295.13,286.97)\" d=\"M3,0A3,3 0 1,1 0,-3A3,3 0 0,1 3,0Z\" style=\"opacity: 1; stroke-width: 0px; fill: rgb(255, 102, 146); fill-opacity: 1;\"/><path class=\"point\" transform=\"translate(290.6,286.97)\" d=\"M3,0A3,3 0 1,1 0,-3A3,3 0 0,1 3,0Z\" style=\"opacity: 1; stroke-width: 0px; fill: rgb(255, 102, 146); fill-opacity: 1;\"/><path class=\"point\" transform=\"translate(296.44,286.97)\" d=\"M3,0A3,3 0 1,1 0,-3A3,3 0 0,1 3,0Z\" style=\"opacity: 1; stroke-width: 0px; fill: rgb(255, 102, 146); fill-opacity: 1;\"/><path class=\"point\" transform=\"translate(291.12,286.97)\" d=\"M3,0A3,3 0 1,1 0,-3A3,3 0 0,1 3,0Z\" style=\"opacity: 1; stroke-width: 0px; fill: rgb(255, 102, 146); fill-opacity: 1;\"/><path class=\"point\" transform=\"translate(293.26,286.97)\" d=\"M3,0A3,3 0 1,1 0,-3A3,3 0 0,1 3,0Z\" style=\"opacity: 1; stroke-width: 0px; fill: rgb(255, 102, 146); fill-opacity: 1;\"/><path class=\"point\" transform=\"translate(294.12,286.97)\" d=\"M3,0A3,3 0 1,1 0,-3A3,3 0 0,1 3,0Z\" style=\"opacity: 1; stroke-width: 0px; fill: rgb(255, 102, 146); fill-opacity: 1;\"/><path class=\"point\" transform=\"translate(292.25,284.83)\" d=\"M3,0A3,3 0 1,1 0,-3A3,3 0 0,1 3,0Z\" style=\"opacity: 1; stroke-width: 0px; fill: rgb(255, 102, 146); fill-opacity: 1;\"/><path class=\"point\" transform=\"translate(295.88,283.76)\" d=\"M3,0A3,3 0 1,1 0,-3A3,3 0 0,1 3,0Z\" style=\"opacity: 1; stroke-width: 0px; fill: rgb(255, 102, 146); fill-opacity: 1;\"/><path class=\"point\" transform=\"translate(291.69,281.62)\" d=\"M3,0A3,3 0 1,1 0,-3A3,3 0 0,1 3,0Z\" style=\"opacity: 1; stroke-width: 0px; fill: rgb(255, 102, 146); fill-opacity: 1;\"/><path class=\"point\" transform=\"translate(294.75,281.62)\" d=\"M3,0A3,3 0 1,1 0,-3A3,3 0 0,1 3,0Z\" style=\"opacity: 1; stroke-width: 0px; fill: rgb(255, 102, 146); fill-opacity: 1;\"/><path class=\"point\" transform=\"translate(295.63,281.62)\" d=\"M3,0A3,3 0 1,1 0,-3A3,3 0 0,1 3,0Z\" style=\"opacity: 1; stroke-width: 0px; fill: rgb(255, 102, 146); fill-opacity: 1;\"/><path class=\"point\" transform=\"translate(290.88,280.55)\" d=\"M3,0A3,3 0 1,1 0,-3A3,3 0 0,1 3,0Z\" style=\"opacity: 1; stroke-width: 0px; fill: rgb(255, 102, 146); fill-opacity: 1;\"/><path class=\"point\" transform=\"translate(291.92,280.55)\" d=\"M3,0A3,3 0 1,1 0,-3A3,3 0 0,1 3,0Z\" style=\"opacity: 1; stroke-width: 0px; fill: rgb(255, 102, 146); fill-opacity: 1;\"/><path class=\"point\" transform=\"translate(295.55,279.48)\" d=\"M3,0A3,3 0 1,1 0,-3A3,3 0 0,1 3,0Z\" style=\"opacity: 1; stroke-width: 0px; fill: rgb(255, 102, 146); fill-opacity: 1;\"/><path class=\"point\" transform=\"translate(292.78,277.34)\" d=\"M3,0A3,3 0 1,1 0,-3A3,3 0 0,1 3,0Z\" style=\"opacity: 1; stroke-width: 0px; fill: rgb(255, 102, 146); fill-opacity: 1;\"/><path class=\"point\" transform=\"translate(293.96,276.26)\" d=\"M3,0A3,3 0 1,1 0,-3A3,3 0 0,1 3,0Z\" style=\"opacity: 1; stroke-width: 0px; fill: rgb(255, 102, 146); fill-opacity: 1;\"/><path class=\"point\" transform=\"translate(295.6,276.26)\" d=\"M3,0A3,3 0 1,1 0,-3A3,3 0 0,1 3,0Z\" style=\"opacity: 1; stroke-width: 0px; fill: rgb(255, 102, 146); fill-opacity: 1;\"/><path class=\"point\" transform=\"translate(291.94,276.26)\" d=\"M3,0A3,3 0 1,1 0,-3A3,3 0 0,1 3,0Z\" style=\"opacity: 1; stroke-width: 0px; fill: rgb(255, 102, 146); fill-opacity: 1;\"/><path class=\"point\" transform=\"translate(296.01,276.26)\" d=\"M3,0A3,3 0 1,1 0,-3A3,3 0 0,1 3,0Z\" style=\"opacity: 1; stroke-width: 0px; fill: rgb(255, 102, 146); fill-opacity: 1;\"/><path class=\"point\" transform=\"translate(291.78,276.26)\" d=\"M3,0A3,3 0 1,1 0,-3A3,3 0 0,1 3,0Z\" style=\"opacity: 1; stroke-width: 0px; fill: rgb(255, 102, 146); fill-opacity: 1;\"/><path class=\"point\" transform=\"translate(296.32,276.26)\" d=\"M3,0A3,3 0 1,1 0,-3A3,3 0 0,1 3,0Z\" style=\"opacity: 1; stroke-width: 0px; fill: rgb(255, 102, 146); fill-opacity: 1;\"/><path class=\"point\" transform=\"translate(292.39,265.56)\" d=\"M3,0A3,3 0 1,1 0,-3A3,3 0 0,1 3,0Z\" style=\"opacity: 1; stroke-width: 0px; fill: rgb(255, 102, 146); fill-opacity: 1;\"/><path class=\"point\" transform=\"translate(295.38,265.56)\" d=\"M3,0A3,3 0 1,1 0,-3A3,3 0 0,1 3,0Z\" style=\"opacity: 1; stroke-width: 0px; fill: rgb(255, 102, 146); fill-opacity: 1;\"/><path class=\"point\" transform=\"translate(294.24,265.56)\" d=\"M3,0A3,3 0 1,1 0,-3A3,3 0 0,1 3,0Z\" style=\"opacity: 1; stroke-width: 0px; fill: rgb(255, 102, 146); fill-opacity: 1;\"/><path class=\"point\" transform=\"translate(293.41,265.56)\" d=\"M3,0A3,3 0 1,1 0,-3A3,3 0 0,1 3,0Z\" style=\"opacity: 1; stroke-width: 0px; fill: rgb(255, 102, 146); fill-opacity: 1;\"/><path class=\"point\" transform=\"translate(291.9,265.56)\" d=\"M3,0A3,3 0 1,1 0,-3A3,3 0 0,1 3,0Z\" style=\"opacity: 1; stroke-width: 0px; fill: rgb(255, 102, 146); fill-opacity: 1;\"/><path class=\"point\" transform=\"translate(293.24,265.56)\" d=\"M3,0A3,3 0 1,1 0,-3A3,3 0 0,1 3,0Z\" style=\"opacity: 1; stroke-width: 0px; fill: rgb(255, 102, 146); fill-opacity: 1;\"/><path class=\"point\" transform=\"translate(291.56,261.28)\" d=\"M3,0A3,3 0 1,1 0,-3A3,3 0 0,1 3,0Z\" style=\"opacity: 1; stroke-width: 0px; fill: rgb(255, 102, 146); fill-opacity: 1;\"/><path class=\"point\" transform=\"translate(292.34,257)\" d=\"M3,0A3,3 0 1,1 0,-3A3,3 0 0,1 3,0Z\" style=\"opacity: 1; stroke-width: 0px; fill: rgb(255, 102, 146); fill-opacity: 1;\"/><path class=\"point\" transform=\"translate(291.91,257)\" d=\"M3,0A3,3 0 1,1 0,-3A3,3 0 0,1 3,0Z\" style=\"opacity: 1; stroke-width: 0px; fill: rgb(255, 102, 146); fill-opacity: 1;\"/><path class=\"point\" transform=\"translate(291.52,254.86)\" d=\"M3,0A3,3 0 1,1 0,-3A3,3 0 0,1 3,0Z\" style=\"opacity: 1; stroke-width: 0px; fill: rgb(255, 102, 146); fill-opacity: 1;\"/><path class=\"point\" transform=\"translate(292.68,254.86)\" d=\"M3,0A3,3 0 1,1 0,-3A3,3 0 0,1 3,0Z\" style=\"opacity: 1; stroke-width: 0px; fill: rgb(255, 102, 146); fill-opacity: 1;\"/><path class=\"point\" transform=\"translate(294.39,253.79)\" d=\"M3,0A3,3 0 1,1 0,-3A3,3 0 0,1 3,0Z\" style=\"opacity: 1; stroke-width: 0px; fill: rgb(255, 102, 146); fill-opacity: 1;\"/><path class=\"point\" transform=\"translate(291.58,252.72)\" d=\"M3,0A3,3 0 1,1 0,-3A3,3 0 0,1 3,0Z\" style=\"opacity: 1; stroke-width: 0px; fill: rgb(255, 102, 146); fill-opacity: 1;\"/><path class=\"point\" transform=\"translate(294.23,250.58)\" d=\"M3,0A3,3 0 1,1 0,-3A3,3 0 0,1 3,0Z\" style=\"opacity: 1; stroke-width: 0px; fill: rgb(255, 102, 146); fill-opacity: 1;\"/><path class=\"point\" transform=\"translate(294.98,249.51)\" d=\"M3,0A3,3 0 1,1 0,-3A3,3 0 0,1 3,0Z\" style=\"opacity: 1; stroke-width: 0px; fill: rgb(255, 102, 146); fill-opacity: 1;\"/><path class=\"point\" transform=\"translate(294,244.16)\" d=\"M3,0A3,3 0 1,1 0,-3A3,3 0 0,1 3,0Z\" style=\"opacity: 1; stroke-width: 0px; fill: rgb(255, 102, 146); fill-opacity: 1;\"/><path class=\"point\" transform=\"translate(292.03,244.16)\" d=\"M3,0A3,3 0 1,1 0,-3A3,3 0 0,1 3,0Z\" style=\"opacity: 1; stroke-width: 0px; fill: rgb(255, 102, 146); fill-opacity: 1;\"/><path class=\"point\" transform=\"translate(292.67,244.16)\" d=\"M3,0A3,3 0 1,1 0,-3A3,3 0 0,1 3,0Z\" style=\"opacity: 1; stroke-width: 0px; fill: rgb(255, 102, 146); fill-opacity: 1;\"/><path class=\"point\" transform=\"translate(297.01,244.16)\" d=\"M3,0A3,3 0 1,1 0,-3A3,3 0 0,1 3,0Z\" style=\"opacity: 1; stroke-width: 0px; fill: rgb(255, 102, 146); fill-opacity: 1;\"/><path class=\"point\" transform=\"translate(291.86,244.16)\" d=\"M3,0A3,3 0 1,1 0,-3A3,3 0 0,1 3,0Z\" style=\"opacity: 1; stroke-width: 0px; fill: rgb(255, 102, 146); fill-opacity: 1;\"/><path class=\"point\" transform=\"translate(294.08,244.16)\" d=\"M3,0A3,3 0 1,1 0,-3A3,3 0 0,1 3,0Z\" style=\"opacity: 1; stroke-width: 0px; fill: rgb(255, 102, 146); fill-opacity: 1;\"/><path class=\"point\" transform=\"translate(295.83,244.16)\" d=\"M3,0A3,3 0 1,1 0,-3A3,3 0 0,1 3,0Z\" style=\"opacity: 1; stroke-width: 0px; fill: rgb(255, 102, 146); fill-opacity: 1;\"/><path class=\"point\" transform=\"translate(291.2,244.16)\" d=\"M3,0A3,3 0 1,1 0,-3A3,3 0 0,1 3,0Z\" style=\"opacity: 1; stroke-width: 0px; fill: rgb(255, 102, 146); fill-opacity: 1;\"/><path class=\"point\" transform=\"translate(293.28,244.16)\" d=\"M3,0A3,3 0 1,1 0,-3A3,3 0 0,1 3,0Z\" style=\"opacity: 1; stroke-width: 0px; fill: rgb(255, 102, 146); fill-opacity: 1;\"/><path class=\"point\" transform=\"translate(296.17,244.16)\" d=\"M3,0A3,3 0 1,1 0,-3A3,3 0 0,1 3,0Z\" style=\"opacity: 1; stroke-width: 0px; fill: rgb(255, 102, 146); fill-opacity: 1;\"/><path class=\"point\" transform=\"translate(291.3,244.16)\" d=\"M3,0A3,3 0 1,1 0,-3A3,3 0 0,1 3,0Z\" style=\"opacity: 1; stroke-width: 0px; fill: rgb(255, 102, 146); fill-opacity: 1;\"/><path class=\"point\" transform=\"translate(293.14,237.74)\" d=\"M3,0A3,3 0 1,1 0,-3A3,3 0 0,1 3,0Z\" style=\"opacity: 1; stroke-width: 0px; fill: rgb(255, 102, 146); fill-opacity: 1;\"/><path class=\"point\" transform=\"translate(294.99,235.6)\" d=\"M3,0A3,3 0 1,1 0,-3A3,3 0 0,1 3,0Z\" style=\"opacity: 1; stroke-width: 0px; fill: rgb(255, 102, 146); fill-opacity: 1;\"/><path class=\"point\" transform=\"translate(295.5,235.6)\" d=\"M3,0A3,3 0 1,1 0,-3A3,3 0 0,1 3,0Z\" style=\"opacity: 1; stroke-width: 0px; fill: rgb(255, 102, 146); fill-opacity: 1;\"/><path class=\"point\" transform=\"translate(295.83,234.53)\" d=\"M3,0A3,3 0 1,1 0,-3A3,3 0 0,1 3,0Z\" style=\"opacity: 1; stroke-width: 0px; fill: rgb(255, 102, 146); fill-opacity: 1;\"/><path class=\"point\" transform=\"translate(291.82,233.46)\" d=\"M3,0A3,3 0 1,1 0,-3A3,3 0 0,1 3,0Z\" style=\"opacity: 1; stroke-width: 0px; fill: rgb(255, 102, 146); fill-opacity: 1;\"/><path class=\"point\" transform=\"translate(294.31,233.46)\" d=\"M3,0A3,3 0 1,1 0,-3A3,3 0 0,1 3,0Z\" style=\"opacity: 1; stroke-width: 0px; fill: rgb(255, 102, 146); fill-opacity: 1;\"/><path class=\"point\" transform=\"translate(290.82,233.46)\" d=\"M3,0A3,3 0 1,1 0,-3A3,3 0 0,1 3,0Z\" style=\"opacity: 1; stroke-width: 0px; fill: rgb(255, 102, 146); fill-opacity: 1;\"/><path class=\"point\" transform=\"translate(296.39,231.32)\" d=\"M3,0A3,3 0 1,1 0,-3A3,3 0 0,1 3,0Z\" style=\"opacity: 1; stroke-width: 0px; fill: rgb(255, 102, 146); fill-opacity: 1;\"/><path class=\"point\" transform=\"translate(294.16,229.18)\" d=\"M3,0A3,3 0 1,1 0,-3A3,3 0 0,1 3,0Z\" style=\"opacity: 1; stroke-width: 0px; fill: rgb(255, 102, 146); fill-opacity: 1;\"/><path class=\"point\" transform=\"translate(292.93,227.04)\" d=\"M3,0A3,3 0 1,1 0,-3A3,3 0 0,1 3,0Z\" style=\"opacity: 1; stroke-width: 0px; fill: rgb(255, 102, 146); fill-opacity: 1;\"/><path class=\"point\" transform=\"translate(296.12,227.04)\" d=\"M3,0A3,3 0 1,1 0,-3A3,3 0 0,1 3,0Z\" style=\"opacity: 1; stroke-width: 0px; fill: rgb(255, 102, 146); fill-opacity: 1;\"/><path class=\"point\" transform=\"translate(291.96,227.04)\" d=\"M3,0A3,3 0 1,1 0,-3A3,3 0 0,1 3,0Z\" style=\"opacity: 1; stroke-width: 0px; fill: rgb(255, 102, 146); fill-opacity: 1;\"/><path class=\"point\" transform=\"translate(292.48,227.04)\" d=\"M3,0A3,3 0 1,1 0,-3A3,3 0 0,1 3,0Z\" style=\"opacity: 1; stroke-width: 0px; fill: rgb(255, 102, 146); fill-opacity: 1;\"/><path class=\"point\" transform=\"translate(293.22,224.9)\" d=\"M3,0A3,3 0 1,1 0,-3A3,3 0 0,1 3,0Z\" style=\"opacity: 1; stroke-width: 0px; fill: rgb(255, 102, 146); fill-opacity: 1;\"/><path class=\"point\" transform=\"translate(294.46,222.76)\" d=\"M3,0A3,3 0 1,1 0,-3A3,3 0 0,1 3,0Z\" style=\"opacity: 1; stroke-width: 0px; fill: rgb(255, 102, 146); fill-opacity: 1;\"/><path class=\"point\" transform=\"translate(292.92,222.76)\" d=\"M3,0A3,3 0 1,1 0,-3A3,3 0 0,1 3,0Z\" style=\"opacity: 1; stroke-width: 0px; fill: rgb(255, 102, 146); fill-opacity: 1;\"/><path class=\"point\" transform=\"translate(293.57,222.76)\" d=\"M3,0A3,3 0 1,1 0,-3A3,3 0 0,1 3,0Z\" style=\"opacity: 1; stroke-width: 0px; fill: rgb(255, 102, 146); fill-opacity: 1;\"/><path class=\"point\" transform=\"translate(293.17,222.76)\" d=\"M3,0A3,3 0 1,1 0,-3A3,3 0 0,1 3,0Z\" style=\"opacity: 1; stroke-width: 0px; fill: rgb(255, 102, 146); fill-opacity: 1;\"/><path class=\"point\" transform=\"translate(294.62,222.76)\" d=\"M3,0A3,3 0 1,1 0,-3A3,3 0 0,1 3,0Z\" style=\"opacity: 1; stroke-width: 0px; fill: rgb(255, 102, 146); fill-opacity: 1;\"/><path class=\"point\" transform=\"translate(293.45,201.36)\" d=\"M3,0A3,3 0 1,1 0,-3A3,3 0 0,1 3,0Z\" style=\"opacity: 1; stroke-width: 0px; fill: rgb(255, 102, 146); fill-opacity: 1;\"/><path class=\"point\" transform=\"translate(294.26,201.36)\" d=\"M3,0A3,3 0 1,1 0,-3A3,3 0 0,1 3,0Z\" style=\"opacity: 1; stroke-width: 0px; fill: rgb(255, 102, 146); fill-opacity: 1;\"/><path class=\"point\" transform=\"translate(293.71,179.96)\" d=\"M3,0A3,3 0 1,1 0,-3A3,3 0 0,1 3,0Z\" style=\"opacity: 1; stroke-width: 0px; fill: rgb(255, 102, 146); fill-opacity: 1;\"/><path class=\"point\" transform=\"translate(294.19,179.96)\" d=\"M3,0A3,3 0 1,1 0,-3A3,3 0 0,1 3,0Z\" style=\"opacity: 1; stroke-width: 0px; fill: rgb(255, 102, 146); fill-opacity: 1;\"/><path class=\"point\" transform=\"translate(293.14,175.68)\" d=\"M3,0A3,3 0 1,1 0,-3A3,3 0 0,1 3,0Z\" style=\"opacity: 1; stroke-width: 0px; fill: rgb(255, 102, 146); fill-opacity: 1;\"/><path class=\"point\" transform=\"translate(293.8,169.25)\" d=\"M3,0A3,3 0 1,1 0,-3A3,3 0 0,1 3,0Z\" style=\"opacity: 1; stroke-width: 0px; fill: rgb(255, 102, 146); fill-opacity: 1;\"/><path class=\"point\" transform=\"translate(294.13,147.85)\" d=\"M3,0A3,3 0 1,1 0,-3A3,3 0 0,1 3,0Z\" style=\"opacity: 1; stroke-width: 0px; fill: rgb(255, 102, 146); fill-opacity: 1;\"/><path class=\"point\" transform=\"translate(293.73,131.8)\" d=\"M3,0A3,3 0 1,1 0,-3A3,3 0 0,1 3,0Z\" style=\"opacity: 1; stroke-width: 0px; fill: rgb(255, 102, 146); fill-opacity: 1;\"/><path class=\"point\" transform=\"translate(293.98,115.75)\" d=\"M3,0A3,3 0 1,1 0,-3A3,3 0 0,1 3,0Z\" style=\"opacity: 1; stroke-width: 0px; fill: rgb(255, 102, 146); fill-opacity: 1;\"/><path class=\"point\" transform=\"translate(294.23,115.75)\" d=\"M3,0A3,3 0 1,1 0,-3A3,3 0 0,1 3,0Z\" style=\"opacity: 1; stroke-width: 0px; fill: rgb(255, 102, 146); fill-opacity: 1;\"/><path class=\"point\" transform=\"translate(293.39,115.75)\" d=\"M3,0A3,3 0 1,1 0,-3A3,3 0 0,1 3,0Z\" style=\"opacity: 1; stroke-width: 0px; fill: rgb(255, 102, 146); fill-opacity: 1;\"/><path class=\"point\" transform=\"translate(294.1,94.35)\" d=\"M3,0A3,3 0 1,1 0,-3A3,3 0 0,1 3,0Z\" style=\"opacity: 1; stroke-width: 0px; fill: rgb(255, 102, 146); fill-opacity: 1;\"/><path class=\"point\" transform=\"translate(293.87,62.24)\" d=\"M3,0A3,3 0 1,1 0,-3A3,3 0 0,1 3,0Z\" style=\"opacity: 1; stroke-width: 0px; fill: rgb(255, 102, 146); fill-opacity: 1;\"/><path class=\"point\" transform=\"translate(294.13,62.24)\" d=\"M3,0A3,3 0 1,1 0,-3A3,3 0 0,1 3,0Z\" style=\"opacity: 1; stroke-width: 0px; fill: rgb(255, 102, 146); fill-opacity: 1;\"/><path class=\"point\" transform=\"translate(293.33,19.44)\" d=\"M3,0A3,3 0 1,1 0,-3A3,3 0 0,1 3,0Z\" style=\"opacity: 1; stroke-width: 0px; fill: rgb(255, 102, 146); fill-opacity: 1;\"/></g></g><g class=\"trace boxes\" style=\"opacity: 1;\"><path class=\"box\" d=\"M346.89,276.26H370.11M346.89,308.37H370.11V232.66H346.89ZM358.5,308.37V325.49M358.5,232.66V144.64M352.69,325.49H364.31M352.69,144.64H364.31\" style=\"vector-effect: non-scaling-stroke; stroke-width: 2px; stroke: rgb(182, 232, 128); stroke-opacity: 1; fill: rgb(182, 232, 128); fill-opacity: 0.5;\"/><g class=\"points\"><path class=\"point\" transform=\"translate(342.47,325.49)\" d=\"M3,0A3,3 0 1,1 0,-3A3,3 0 0,1 3,0Z\" style=\"opacity: 1; stroke-width: 0px; fill: rgb(182, 232, 128); fill-opacity: 1;\"/><path class=\"point\" transform=\"translate(339.21,325.49)\" d=\"M3,0A3,3 0 1,1 0,-3A3,3 0 0,1 3,0Z\" style=\"opacity: 1; stroke-width: 0px; fill: rgb(182, 232, 128); fill-opacity: 1;\"/><path class=\"point\" transform=\"translate(343.53,325.49)\" d=\"M3,0A3,3 0 1,1 0,-3A3,3 0 0,1 3,0Z\" style=\"opacity: 1; stroke-width: 0px; fill: rgb(182, 232, 128); fill-opacity: 1;\"/><path class=\"point\" transform=\"translate(338.22,323.35)\" d=\"M3,0A3,3 0 1,1 0,-3A3,3 0 0,1 3,0Z\" style=\"opacity: 1; stroke-width: 0px; fill: rgb(182, 232, 128); fill-opacity: 1;\"/><path class=\"point\" transform=\"translate(340.22,322.28)\" d=\"M3,0A3,3 0 1,1 0,-3A3,3 0 0,1 3,0Z\" style=\"opacity: 1; stroke-width: 0px; fill: rgb(182, 232, 128); fill-opacity: 1;\"/><path class=\"point\" transform=\"translate(342.91,319.07)\" d=\"M3,0A3,3 0 1,1 0,-3A3,3 0 0,1 3,0Z\" style=\"opacity: 1; stroke-width: 0px; fill: rgb(182, 232, 128); fill-opacity: 1;\"/><path class=\"point\" transform=\"translate(340.95,319.07)\" d=\"M3,0A3,3 0 1,1 0,-3A3,3 0 0,1 3,0Z\" style=\"opacity: 1; stroke-width: 0px; fill: rgb(182, 232, 128); fill-opacity: 1;\"/><path class=\"point\" transform=\"translate(342.09,319.07)\" d=\"M3,0A3,3 0 1,1 0,-3A3,3 0 0,1 3,0Z\" style=\"opacity: 1; stroke-width: 0px; fill: rgb(182, 232, 128); fill-opacity: 1;\"/><path class=\"point\" transform=\"translate(339.97,319.07)\" d=\"M3,0A3,3 0 1,1 0,-3A3,3 0 0,1 3,0Z\" style=\"opacity: 1; stroke-width: 0px; fill: rgb(182, 232, 128); fill-opacity: 1;\"/><path class=\"point\" transform=\"translate(338.53,319.07)\" d=\"M3,0A3,3 0 1,1 0,-3A3,3 0 0,1 3,0Z\" style=\"opacity: 1; stroke-width: 0px; fill: rgb(182, 232, 128); fill-opacity: 1;\"/><path class=\"point\" transform=\"translate(342.01,319.07)\" d=\"M3,0A3,3 0 1,1 0,-3A3,3 0 0,1 3,0Z\" style=\"opacity: 1; stroke-width: 0px; fill: rgb(182, 232, 128); fill-opacity: 1;\"/><path class=\"point\" transform=\"translate(339.93,319.07)\" d=\"M3,0A3,3 0 1,1 0,-3A3,3 0 0,1 3,0Z\" style=\"opacity: 1; stroke-width: 0px; fill: rgb(182, 232, 128); fill-opacity: 1;\"/><path class=\"point\" transform=\"translate(343.29,319.07)\" d=\"M3,0A3,3 0 1,1 0,-3A3,3 0 0,1 3,0Z\" style=\"opacity: 1; stroke-width: 0px; fill: rgb(182, 232, 128); fill-opacity: 1;\"/><path class=\"point\" transform=\"translate(337.69,316.93)\" d=\"M3,0A3,3 0 1,1 0,-3A3,3 0 0,1 3,0Z\" style=\"opacity: 1; stroke-width: 0px; fill: rgb(182, 232, 128); fill-opacity: 1;\"/><path class=\"point\" transform=\"translate(339.06,316.93)\" d=\"M3,0A3,3 0 1,1 0,-3A3,3 0 0,1 3,0Z\" style=\"opacity: 1; stroke-width: 0px; fill: rgb(182, 232, 128); fill-opacity: 1;\"/><path class=\"point\" transform=\"translate(344.16,316.93)\" d=\"M3,0A3,3 0 1,1 0,-3A3,3 0 0,1 3,0Z\" style=\"opacity: 1; stroke-width: 0px; fill: rgb(182, 232, 128); fill-opacity: 1;\"/><path class=\"point\" transform=\"translate(340.21,313.72)\" d=\"M3,0A3,3 0 1,1 0,-3A3,3 0 0,1 3,0Z\" style=\"opacity: 1; stroke-width: 0px; fill: rgb(182, 232, 128); fill-opacity: 1;\"/><path class=\"point\" transform=\"translate(338.09,313.72)\" d=\"M3,0A3,3 0 1,1 0,-3A3,3 0 0,1 3,0Z\" style=\"opacity: 1; stroke-width: 0px; fill: rgb(182, 232, 128); fill-opacity: 1;\"/><path class=\"point\" transform=\"translate(339.93,313.72)\" d=\"M3,0A3,3 0 1,1 0,-3A3,3 0 0,1 3,0Z\" style=\"opacity: 1; stroke-width: 0px; fill: rgb(182, 232, 128); fill-opacity: 1;\"/><path class=\"point\" transform=\"translate(341.01,313.72)\" d=\"M3,0A3,3 0 1,1 0,-3A3,3 0 0,1 3,0Z\" style=\"opacity: 1; stroke-width: 0px; fill: rgb(182, 232, 128); fill-opacity: 1;\"/><path class=\"point\" transform=\"translate(342.65,313.72)\" d=\"M3,0A3,3 0 1,1 0,-3A3,3 0 0,1 3,0Z\" style=\"opacity: 1; stroke-width: 0px; fill: rgb(182, 232, 128); fill-opacity: 1;\"/><path class=\"point\" transform=\"translate(341.47,312.65)\" d=\"M3,0A3,3 0 1,1 0,-3A3,3 0 0,1 3,0Z\" style=\"opacity: 1; stroke-width: 0px; fill: rgb(182, 232, 128); fill-opacity: 1;\"/><path class=\"point\" transform=\"translate(340.1,312.65)\" d=\"M3,0A3,3 0 1,1 0,-3A3,3 0 0,1 3,0Z\" style=\"opacity: 1; stroke-width: 0px; fill: rgb(182, 232, 128); fill-opacity: 1;\"/><path class=\"point\" transform=\"translate(338.17,312.65)\" d=\"M3,0A3,3 0 1,1 0,-3A3,3 0 0,1 3,0Z\" style=\"opacity: 1; stroke-width: 0px; fill: rgb(182, 232, 128); fill-opacity: 1;\"/><path class=\"point\" transform=\"translate(341.07,312.65)\" d=\"M3,0A3,3 0 1,1 0,-3A3,3 0 0,1 3,0Z\" style=\"opacity: 1; stroke-width: 0px; fill: rgb(182, 232, 128); fill-opacity: 1;\"/><path class=\"point\" transform=\"translate(340.06,310.51)\" d=\"M3,0A3,3 0 1,1 0,-3A3,3 0 0,1 3,0Z\" style=\"opacity: 1; stroke-width: 0px; fill: rgb(182, 232, 128); fill-opacity: 1;\"/><path class=\"point\" transform=\"translate(342.7,310.51)\" d=\"M3,0A3,3 0 1,1 0,-3A3,3 0 0,1 3,0Z\" style=\"opacity: 1; stroke-width: 0px; fill: rgb(182, 232, 128); fill-opacity: 1;\"/><path class=\"point\" transform=\"translate(340.77,310.51)\" d=\"M3,0A3,3 0 1,1 0,-3A3,3 0 0,1 3,0Z\" style=\"opacity: 1; stroke-width: 0px; fill: rgb(182, 232, 128); fill-opacity: 1;\"/><path class=\"point\" transform=\"translate(338.8,308.37)\" d=\"M3,0A3,3 0 1,1 0,-3A3,3 0 0,1 3,0Z\" style=\"opacity: 1; stroke-width: 0px; fill: rgb(182, 232, 128); fill-opacity: 1;\"/><path class=\"point\" transform=\"translate(337.83,308.37)\" d=\"M3,0A3,3 0 1,1 0,-3A3,3 0 0,1 3,0Z\" style=\"opacity: 1; stroke-width: 0px; fill: rgb(182, 232, 128); fill-opacity: 1;\"/><path class=\"point\" transform=\"translate(343.05,308.37)\" d=\"M3,0A3,3 0 1,1 0,-3A3,3 0 0,1 3,0Z\" style=\"opacity: 1; stroke-width: 0px; fill: rgb(182, 232, 128); fill-opacity: 1;\"/><path class=\"point\" transform=\"translate(338.1,308.37)\" d=\"M3,0A3,3 0 1,1 0,-3A3,3 0 0,1 3,0Z\" style=\"opacity: 1; stroke-width: 0px; fill: rgb(182, 232, 128); fill-opacity: 1;\"/><path class=\"point\" transform=\"translate(343.15,308.37)\" d=\"M3,0A3,3 0 1,1 0,-3A3,3 0 0,1 3,0Z\" style=\"opacity: 1; stroke-width: 0px; fill: rgb(182, 232, 128); fill-opacity: 1;\"/><path class=\"point\" transform=\"translate(341.84,308.37)\" d=\"M3,0A3,3 0 1,1 0,-3A3,3 0 0,1 3,0Z\" style=\"opacity: 1; stroke-width: 0px; fill: rgb(182, 232, 128); fill-opacity: 1;\"/><path class=\"point\" transform=\"translate(340.04,308.37)\" d=\"M3,0A3,3 0 1,1 0,-3A3,3 0 0,1 3,0Z\" style=\"opacity: 1; stroke-width: 0px; fill: rgb(182, 232, 128); fill-opacity: 1;\"/><path class=\"point\" transform=\"translate(339.02,308.37)\" d=\"M3,0A3,3 0 1,1 0,-3A3,3 0 0,1 3,0Z\" style=\"opacity: 1; stroke-width: 0px; fill: rgb(182, 232, 128); fill-opacity: 1;\"/><path class=\"point\" transform=\"translate(342.65,308.37)\" d=\"M3,0A3,3 0 1,1 0,-3A3,3 0 0,1 3,0Z\" style=\"opacity: 1; stroke-width: 0px; fill: rgb(182, 232, 128); fill-opacity: 1;\"/><path class=\"point\" transform=\"translate(340.71,308.37)\" d=\"M3,0A3,3 0 1,1 0,-3A3,3 0 0,1 3,0Z\" style=\"opacity: 1; stroke-width: 0px; fill: rgb(182, 232, 128); fill-opacity: 1;\"/><path class=\"point\" transform=\"translate(343.47,308.37)\" d=\"M3,0A3,3 0 1,1 0,-3A3,3 0 0,1 3,0Z\" style=\"opacity: 1; stroke-width: 0px; fill: rgb(182, 232, 128); fill-opacity: 1;\"/><path class=\"point\" transform=\"translate(338.15,308.37)\" d=\"M3,0A3,3 0 1,1 0,-3A3,3 0 0,1 3,0Z\" style=\"opacity: 1; stroke-width: 0px; fill: rgb(182, 232, 128); fill-opacity: 1;\"/><path class=\"point\" transform=\"translate(343.3,308.37)\" d=\"M3,0A3,3 0 1,1 0,-3A3,3 0 0,1 3,0Z\" style=\"opacity: 1; stroke-width: 0px; fill: rgb(182, 232, 128); fill-opacity: 1;\"/><path class=\"point\" transform=\"translate(340.79,308.37)\" d=\"M3,0A3,3 0 1,1 0,-3A3,3 0 0,1 3,0Z\" style=\"opacity: 1; stroke-width: 0px; fill: rgb(182, 232, 128); fill-opacity: 1;\"/><path class=\"point\" transform=\"translate(339.71,308.37)\" d=\"M3,0A3,3 0 1,1 0,-3A3,3 0 0,1 3,0Z\" style=\"opacity: 1; stroke-width: 0px; fill: rgb(182, 232, 128); fill-opacity: 1;\"/><path class=\"point\" transform=\"translate(337.65,308.37)\" d=\"M3,0A3,3 0 1,1 0,-3A3,3 0 0,1 3,0Z\" style=\"opacity: 1; stroke-width: 0px; fill: rgb(182, 232, 128); fill-opacity: 1;\"/><path class=\"point\" transform=\"translate(339.72,308.37)\" d=\"M3,0A3,3 0 1,1 0,-3A3,3 0 0,1 3,0Z\" style=\"opacity: 1; stroke-width: 0px; fill: rgb(182, 232, 128); fill-opacity: 1;\"/><path class=\"point\" transform=\"translate(343.41,308.37)\" d=\"M3,0A3,3 0 1,1 0,-3A3,3 0 0,1 3,0Z\" style=\"opacity: 1; stroke-width: 0px; fill: rgb(182, 232, 128); fill-opacity: 1;\"/><path class=\"point\" transform=\"translate(340.25,308.37)\" d=\"M3,0A3,3 0 1,1 0,-3A3,3 0 0,1 3,0Z\" style=\"opacity: 1; stroke-width: 0px; fill: rgb(182, 232, 128); fill-opacity: 1;\"/><path class=\"point\" transform=\"translate(338.37,308.37)\" d=\"M3,0A3,3 0 1,1 0,-3A3,3 0 0,1 3,0Z\" style=\"opacity: 1; stroke-width: 0px; fill: rgb(182, 232, 128); fill-opacity: 1;\"/><path class=\"point\" transform=\"translate(342.77,308.37)\" d=\"M3,0A3,3 0 1,1 0,-3A3,3 0 0,1 3,0Z\" style=\"opacity: 1; stroke-width: 0px; fill: rgb(182, 232, 128); fill-opacity: 1;\"/><path class=\"point\" transform=\"translate(339.21,306.23)\" d=\"M3,0A3,3 0 1,1 0,-3A3,3 0 0,1 3,0Z\" style=\"opacity: 1; stroke-width: 0px; fill: rgb(182, 232, 128); fill-opacity: 1;\"/><path class=\"point\" transform=\"translate(341.08,305.16)\" d=\"M3,0A3,3 0 1,1 0,-3A3,3 0 0,1 3,0Z\" style=\"opacity: 1; stroke-width: 0px; fill: rgb(182, 232, 128); fill-opacity: 1;\"/><path class=\"point\" transform=\"translate(342.57,304.09)\" d=\"M3,0A3,3 0 1,1 0,-3A3,3 0 0,1 3,0Z\" style=\"opacity: 1; stroke-width: 0px; fill: rgb(182, 232, 128); fill-opacity: 1;\"/><path class=\"point\" transform=\"translate(337.7,304.09)\" d=\"M3,0A3,3 0 1,1 0,-3A3,3 0 0,1 3,0Z\" style=\"opacity: 1; stroke-width: 0px; fill: rgb(182, 232, 128); fill-opacity: 1;\"/><path class=\"point\" transform=\"translate(344.34,303.02)\" d=\"M3,0A3,3 0 1,1 0,-3A3,3 0 0,1 3,0Z\" style=\"opacity: 1; stroke-width: 0px; fill: rgb(182, 232, 128); fill-opacity: 1;\"/><path class=\"point\" transform=\"translate(342.53,303.02)\" d=\"M3,0A3,3 0 1,1 0,-3A3,3 0 0,1 3,0Z\" style=\"opacity: 1; stroke-width: 0px; fill: rgb(182, 232, 128); fill-opacity: 1;\"/><path class=\"point\" transform=\"translate(338,303.02)\" d=\"M3,0A3,3 0 1,1 0,-3A3,3 0 0,1 3,0Z\" style=\"opacity: 1; stroke-width: 0px; fill: rgb(182, 232, 128); fill-opacity: 1;\"/><path class=\"point\" transform=\"translate(343.84,303.02)\" d=\"M3,0A3,3 0 1,1 0,-3A3,3 0 0,1 3,0Z\" style=\"opacity: 1; stroke-width: 0px; fill: rgb(182, 232, 128); fill-opacity: 1;\"/><path class=\"point\" transform=\"translate(338.52,303.02)\" d=\"M3,0A3,3 0 1,1 0,-3A3,3 0 0,1 3,0Z\" style=\"opacity: 1; stroke-width: 0px; fill: rgb(182, 232, 128); fill-opacity: 1;\"/><path class=\"point\" transform=\"translate(340.66,303.02)\" d=\"M3,0A3,3 0 1,1 0,-3A3,3 0 0,1 3,0Z\" style=\"opacity: 1; stroke-width: 0px; fill: rgb(182, 232, 128); fill-opacity: 1;\"/><path class=\"point\" transform=\"translate(341.45,299.81)\" d=\"M3,0A3,3 0 1,1 0,-3A3,3 0 0,1 3,0Z\" style=\"opacity: 1; stroke-width: 0px; fill: rgb(182, 232, 128); fill-opacity: 1;\"/><path class=\"point\" transform=\"translate(339.86,297.67)\" d=\"M3,0A3,3 0 1,1 0,-3A3,3 0 0,1 3,0Z\" style=\"opacity: 1; stroke-width: 0px; fill: rgb(182, 232, 128); fill-opacity: 1;\"/><path class=\"point\" transform=\"translate(342.95,297.67)\" d=\"M3,0A3,3 0 1,1 0,-3A3,3 0 0,1 3,0Z\" style=\"opacity: 1; stroke-width: 0px; fill: rgb(182, 232, 128); fill-opacity: 1;\"/><path class=\"point\" transform=\"translate(339.33,297.67)\" d=\"M3,0A3,3 0 1,1 0,-3A3,3 0 0,1 3,0Z\" style=\"opacity: 1; stroke-width: 0px; fill: rgb(182, 232, 128); fill-opacity: 1;\"/><path class=\"point\" transform=\"translate(342.14,295.53)\" d=\"M3,0A3,3 0 1,1 0,-3A3,3 0 0,1 3,0Z\" style=\"opacity: 1; stroke-width: 0px; fill: rgb(182, 232, 128); fill-opacity: 1;\"/><path class=\"point\" transform=\"translate(343.48,292.32)\" d=\"M3,0A3,3 0 1,1 0,-3A3,3 0 0,1 3,0Z\" style=\"opacity: 1; stroke-width: 0px; fill: rgb(182, 232, 128); fill-opacity: 1;\"/><path class=\"point\" transform=\"translate(337.81,292.32)\" d=\"M3,0A3,3 0 1,1 0,-3A3,3 0 0,1 3,0Z\" style=\"opacity: 1; stroke-width: 0px; fill: rgb(182, 232, 128); fill-opacity: 1;\"/><path class=\"point\" transform=\"translate(339.47,292.32)\" d=\"M3,0A3,3 0 1,1 0,-3A3,3 0 0,1 3,0Z\" style=\"opacity: 1; stroke-width: 0px; fill: rgb(182, 232, 128); fill-opacity: 1;\"/><path class=\"point\" transform=\"translate(342.65,291.25)\" d=\"M3,0A3,3 0 1,1 0,-3A3,3 0 0,1 3,0Z\" style=\"opacity: 1; stroke-width: 0px; fill: rgb(182, 232, 128); fill-opacity: 1;\"/><path class=\"point\" transform=\"translate(340.23,291.25)\" d=\"M3,0A3,3 0 1,1 0,-3A3,3 0 0,1 3,0Z\" style=\"opacity: 1; stroke-width: 0px; fill: rgb(182, 232, 128); fill-opacity: 1;\"/><path class=\"point\" transform=\"translate(341.36,291.25)\" d=\"M3,0A3,3 0 1,1 0,-3A3,3 0 0,1 3,0Z\" style=\"opacity: 1; stroke-width: 0px; fill: rgb(182, 232, 128); fill-opacity: 1;\"/><path class=\"point\" transform=\"translate(344.04,290.18)\" d=\"M3,0A3,3 0 1,1 0,-3A3,3 0 0,1 3,0Z\" style=\"opacity: 1; stroke-width: 0px; fill: rgb(182, 232, 128); fill-opacity: 1;\"/><path class=\"point\" transform=\"translate(338.39,286.97)\" d=\"M3,0A3,3 0 1,1 0,-3A3,3 0 0,1 3,0Z\" style=\"opacity: 1; stroke-width: 0px; fill: rgb(182, 232, 128); fill-opacity: 1;\"/><path class=\"point\" transform=\"translate(344.55,286.97)\" d=\"M3,0A3,3 0 1,1 0,-3A3,3 0 0,1 3,0Z\" style=\"opacity: 1; stroke-width: 0px; fill: rgb(182, 232, 128); fill-opacity: 1;\"/><path class=\"point\" transform=\"translate(338.48,286.97)\" d=\"M3,0A3,3 0 1,1 0,-3A3,3 0 0,1 3,0Z\" style=\"opacity: 1; stroke-width: 0px; fill: rgb(182, 232, 128); fill-opacity: 1;\"/><path class=\"point\" transform=\"translate(344.52,286.97)\" d=\"M3,0A3,3 0 1,1 0,-3A3,3 0 0,1 3,0Z\" style=\"opacity: 1; stroke-width: 0px; fill: rgb(182, 232, 128); fill-opacity: 1;\"/><path class=\"point\" transform=\"translate(339.39,286.97)\" d=\"M3,0A3,3 0 1,1 0,-3A3,3 0 0,1 3,0Z\" style=\"opacity: 1; stroke-width: 0px; fill: rgb(182, 232, 128); fill-opacity: 1;\"/><path class=\"point\" transform=\"translate(343.7,286.97)\" d=\"M3,0A3,3 0 1,1 0,-3A3,3 0 0,1 3,0Z\" style=\"opacity: 1; stroke-width: 0px; fill: rgb(182, 232, 128); fill-opacity: 1;\"/><path class=\"point\" transform=\"translate(342.07,286.97)\" d=\"M3,0A3,3 0 1,1 0,-3A3,3 0 0,1 3,0Z\" style=\"opacity: 1; stroke-width: 0px; fill: rgb(182, 232, 128); fill-opacity: 1;\"/><path class=\"point\" transform=\"translate(340.61,286.97)\" d=\"M3,0A3,3 0 1,1 0,-3A3,3 0 0,1 3,0Z\" style=\"opacity: 1; stroke-width: 0px; fill: rgb(182, 232, 128); fill-opacity: 1;\"/><path class=\"point\" transform=\"translate(337.8,286.97)\" d=\"M3,0A3,3 0 1,1 0,-3A3,3 0 0,1 3,0Z\" style=\"opacity: 1; stroke-width: 0px; fill: rgb(182, 232, 128); fill-opacity: 1;\"/><path class=\"point\" transform=\"translate(340.51,286.97)\" d=\"M3,0A3,3 0 1,1 0,-3A3,3 0 0,1 3,0Z\" style=\"opacity: 1; stroke-width: 0px; fill: rgb(182, 232, 128); fill-opacity: 1;\"/><path class=\"point\" transform=\"translate(338.18,286.97)\" d=\"M3,0A3,3 0 1,1 0,-3A3,3 0 0,1 3,0Z\" style=\"opacity: 1; stroke-width: 0px; fill: rgb(182, 232, 128); fill-opacity: 1;\"/><path class=\"point\" transform=\"translate(339.16,285.9)\" d=\"M3,0A3,3 0 1,1 0,-3A3,3 0 0,1 3,0Z\" style=\"opacity: 1; stroke-width: 0px; fill: rgb(182, 232, 128); fill-opacity: 1;\"/><path class=\"point\" transform=\"translate(338.35,285.9)\" d=\"M3,0A3,3 0 1,1 0,-3A3,3 0 0,1 3,0Z\" style=\"opacity: 1; stroke-width: 0px; fill: rgb(182, 232, 128); fill-opacity: 1;\"/><path class=\"point\" transform=\"translate(337.62,283.76)\" d=\"M3,0A3,3 0 1,1 0,-3A3,3 0 0,1 3,0Z\" style=\"opacity: 1; stroke-width: 0px; fill: rgb(182, 232, 128); fill-opacity: 1;\"/><path class=\"point\" transform=\"translate(339.34,282.69)\" d=\"M3,0A3,3 0 1,1 0,-3A3,3 0 0,1 3,0Z\" style=\"opacity: 1; stroke-width: 0px; fill: rgb(182, 232, 128); fill-opacity: 1;\"/><path class=\"point\" transform=\"translate(342.18,282.69)\" d=\"M3,0A3,3 0 1,1 0,-3A3,3 0 0,1 3,0Z\" style=\"opacity: 1; stroke-width: 0px; fill: rgb(182, 232, 128); fill-opacity: 1;\"/><path class=\"point\" transform=\"translate(338.08,281.62)\" d=\"M3,0A3,3 0 1,1 0,-3A3,3 0 0,1 3,0Z\" style=\"opacity: 1; stroke-width: 0px; fill: rgb(182, 232, 128); fill-opacity: 1;\"/><path class=\"point\" transform=\"translate(341.86,281.62)\" d=\"M3,0A3,3 0 1,1 0,-3A3,3 0 0,1 3,0Z\" style=\"opacity: 1; stroke-width: 0px; fill: rgb(182, 232, 128); fill-opacity: 1;\"/><path class=\"point\" transform=\"translate(342.77,281.62)\" d=\"M3,0A3,3 0 1,1 0,-3A3,3 0 0,1 3,0Z\" style=\"opacity: 1; stroke-width: 0px; fill: rgb(182, 232, 128); fill-opacity: 1;\"/><path class=\"point\" transform=\"translate(341.5,278.41)\" d=\"M3,0A3,3 0 1,1 0,-3A3,3 0 0,1 3,0Z\" style=\"opacity: 1; stroke-width: 0px; fill: rgb(182, 232, 128); fill-opacity: 1;\"/><path class=\"point\" transform=\"translate(339.04,278.41)\" d=\"M3,0A3,3 0 1,1 0,-3A3,3 0 0,1 3,0Z\" style=\"opacity: 1; stroke-width: 0px; fill: rgb(182, 232, 128); fill-opacity: 1;\"/><path class=\"point\" transform=\"translate(339.9,278.41)\" d=\"M3,0A3,3 0 1,1 0,-3A3,3 0 0,1 3,0Z\" style=\"opacity: 1; stroke-width: 0px; fill: rgb(182, 232, 128); fill-opacity: 1;\"/><path class=\"point\" transform=\"translate(344.45,278.41)\" d=\"M3,0A3,3 0 1,1 0,-3A3,3 0 0,1 3,0Z\" style=\"opacity: 1; stroke-width: 0px; fill: rgb(182, 232, 128); fill-opacity: 1;\"/><path class=\"point\" transform=\"translate(339.26,276.26)\" d=\"M3,0A3,3 0 1,1 0,-3A3,3 0 0,1 3,0Z\" style=\"opacity: 1; stroke-width: 0px; fill: rgb(182, 232, 128); fill-opacity: 1;\"/><path class=\"point\" transform=\"translate(341.48,276.26)\" d=\"M3,0A3,3 0 1,1 0,-3A3,3 0 0,1 3,0Z\" style=\"opacity: 1; stroke-width: 0px; fill: rgb(182, 232, 128); fill-opacity: 1;\"/><path class=\"point\" transform=\"translate(343.25,276.26)\" d=\"M3,0A3,3 0 1,1 0,-3A3,3 0 0,1 3,0Z\" style=\"opacity: 1; stroke-width: 0px; fill: rgb(182, 232, 128); fill-opacity: 1;\"/><path class=\"point\" transform=\"translate(338.19,276.26)\" d=\"M3,0A3,3 0 1,1 0,-3A3,3 0 0,1 3,0Z\" style=\"opacity: 1; stroke-width: 0px; fill: rgb(182, 232, 128); fill-opacity: 1;\"/><path class=\"point\" transform=\"translate(340.61,276.26)\" d=\"M3,0A3,3 0 1,1 0,-3A3,3 0 0,1 3,0Z\" style=\"opacity: 1; stroke-width: 0px; fill: rgb(182, 232, 128); fill-opacity: 1;\"/><path class=\"point\" transform=\"translate(344.17,276.26)\" d=\"M3,0A3,3 0 1,1 0,-3A3,3 0 0,1 3,0Z\" style=\"opacity: 1; stroke-width: 0px; fill: rgb(182, 232, 128); fill-opacity: 1;\"/><path class=\"point\" transform=\"translate(337.98,276.26)\" d=\"M3,0A3,3 0 1,1 0,-3A3,3 0 0,1 3,0Z\" style=\"opacity: 1; stroke-width: 0px; fill: rgb(182, 232, 128); fill-opacity: 1;\"/><path class=\"point\" transform=\"translate(340.37,276.26)\" d=\"M3,0A3,3 0 1,1 0,-3A3,3 0 0,1 3,0Z\" style=\"opacity: 1; stroke-width: 0px; fill: rgb(182, 232, 128); fill-opacity: 1;\"/><path class=\"point\" transform=\"translate(342.79,276.26)\" d=\"M3,0A3,3 0 1,1 0,-3A3,3 0 0,1 3,0Z\" style=\"opacity: 1; stroke-width: 0px; fill: rgb(182, 232, 128); fill-opacity: 1;\"/><path class=\"point\" transform=\"translate(343.68,276.26)\" d=\"M3,0A3,3 0 1,1 0,-3A3,3 0 0,1 3,0Z\" style=\"opacity: 1; stroke-width: 0px; fill: rgb(182, 232, 128); fill-opacity: 1;\"/><path class=\"point\" transform=\"translate(344.4,276.26)\" d=\"M3,0A3,3 0 1,1 0,-3A3,3 0 0,1 3,0Z\" style=\"opacity: 1; stroke-width: 0px; fill: rgb(182, 232, 128); fill-opacity: 1;\"/><path class=\"point\" transform=\"translate(338.01,276.26)\" d=\"M3,0A3,3 0 1,1 0,-3A3,3 0 0,1 3,0Z\" style=\"opacity: 1; stroke-width: 0px; fill: rgb(182, 232, 128); fill-opacity: 1;\"/><path class=\"point\" transform=\"translate(341.9,276.26)\" d=\"M3,0A3,3 0 1,1 0,-3A3,3 0 0,1 3,0Z\" style=\"opacity: 1; stroke-width: 0px; fill: rgb(182, 232, 128); fill-opacity: 1;\"/><path class=\"point\" transform=\"translate(337.74,276.26)\" d=\"M3,0A3,3 0 1,1 0,-3A3,3 0 0,1 3,0Z\" style=\"opacity: 1; stroke-width: 0px; fill: rgb(182, 232, 128); fill-opacity: 1;\"/><path class=\"point\" transform=\"translate(343.74,276.26)\" d=\"M3,0A3,3 0 1,1 0,-3A3,3 0 0,1 3,0Z\" style=\"opacity: 1; stroke-width: 0px; fill: rgb(182, 232, 128); fill-opacity: 1;\"/><path class=\"point\" transform=\"translate(341.58,274.12)\" d=\"M3,0A3,3 0 1,1 0,-3A3,3 0 0,1 3,0Z\" style=\"opacity: 1; stroke-width: 0px; fill: rgb(182, 232, 128); fill-opacity: 1;\"/><path class=\"point\" transform=\"translate(340.26,271.98)\" d=\"M3,0A3,3 0 1,1 0,-3A3,3 0 0,1 3,0Z\" style=\"opacity: 1; stroke-width: 0px; fill: rgb(182, 232, 128); fill-opacity: 1;\"/><path class=\"point\" transform=\"translate(343.75,269.84)\" d=\"M3,0A3,3 0 1,1 0,-3A3,3 0 0,1 3,0Z\" style=\"opacity: 1; stroke-width: 0px; fill: rgb(182, 232, 128); fill-opacity: 1;\"/><path class=\"point\" transform=\"translate(339.19,269.84)\" d=\"M3,0A3,3 0 1,1 0,-3A3,3 0 0,1 3,0Z\" style=\"opacity: 1; stroke-width: 0px; fill: rgb(182, 232, 128); fill-opacity: 1;\"/><path class=\"point\" transform=\"translate(339.9,265.56)\" d=\"M3,0A3,3 0 1,1 0,-3A3,3 0 0,1 3,0Z\" style=\"opacity: 1; stroke-width: 0px; fill: rgb(182, 232, 128); fill-opacity: 1;\"/><path class=\"point\" transform=\"translate(340.64,265.56)\" d=\"M3,0A3,3 0 1,1 0,-3A3,3 0 0,1 3,0Z\" style=\"opacity: 1; stroke-width: 0px; fill: rgb(182, 232, 128); fill-opacity: 1;\"/><path class=\"point\" transform=\"translate(342.41,265.56)\" d=\"M3,0A3,3 0 1,1 0,-3A3,3 0 0,1 3,0Z\" style=\"opacity: 1; stroke-width: 0px; fill: rgb(182, 232, 128); fill-opacity: 1;\"/><path class=\"point\" transform=\"translate(339.63,265.56)\" d=\"M3,0A3,3 0 1,1 0,-3A3,3 0 0,1 3,0Z\" style=\"opacity: 1; stroke-width: 0px; fill: rgb(182, 232, 128); fill-opacity: 1;\"/><path class=\"point\" transform=\"translate(340.82,265.56)\" d=\"M3,0A3,3 0 1,1 0,-3A3,3 0 0,1 3,0Z\" style=\"opacity: 1; stroke-width: 0px; fill: rgb(182, 232, 128); fill-opacity: 1;\"/><path class=\"point\" transform=\"translate(339.67,265.56)\" d=\"M3,0A3,3 0 1,1 0,-3A3,3 0 0,1 3,0Z\" style=\"opacity: 1; stroke-width: 0px; fill: rgb(182, 232, 128); fill-opacity: 1;\"/><path class=\"point\" transform=\"translate(343.54,265.56)\" d=\"M3,0A3,3 0 1,1 0,-3A3,3 0 0,1 3,0Z\" style=\"opacity: 1; stroke-width: 0px; fill: rgb(182, 232, 128); fill-opacity: 1;\"/><path class=\"point\" transform=\"translate(340.52,261.28)\" d=\"M3,0A3,3 0 1,1 0,-3A3,3 0 0,1 3,0Z\" style=\"opacity: 1; stroke-width: 0px; fill: rgb(182, 232, 128); fill-opacity: 1;\"/><path class=\"point\" transform=\"translate(342.76,261.28)\" d=\"M3,0A3,3 0 1,1 0,-3A3,3 0 0,1 3,0Z\" style=\"opacity: 1; stroke-width: 0px; fill: rgb(182, 232, 128); fill-opacity: 1;\"/><path class=\"point\" transform=\"translate(341.18,260.21)\" d=\"M3,0A3,3 0 1,1 0,-3A3,3 0 0,1 3,0Z\" style=\"opacity: 1; stroke-width: 0px; fill: rgb(182, 232, 128); fill-opacity: 1;\"/><path class=\"point\" transform=\"translate(342.84,260.21)\" d=\"M3,0A3,3 0 1,1 0,-3A3,3 0 0,1 3,0Z\" style=\"opacity: 1; stroke-width: 0px; fill: rgb(182, 232, 128); fill-opacity: 1;\"/><path class=\"point\" transform=\"translate(339.49,257)\" d=\"M3,0A3,3 0 1,1 0,-3A3,3 0 0,1 3,0Z\" style=\"opacity: 1; stroke-width: 0px; fill: rgb(182, 232, 128); fill-opacity: 1;\"/><path class=\"point\" transform=\"translate(341.37,254.86)\" d=\"M3,0A3,3 0 1,1 0,-3A3,3 0 0,1 3,0Z\" style=\"opacity: 1; stroke-width: 0px; fill: rgb(182, 232, 128); fill-opacity: 1;\"/><path class=\"point\" transform=\"translate(342.31,254.86)\" d=\"M3,0A3,3 0 1,1 0,-3A3,3 0 0,1 3,0Z\" style=\"opacity: 1; stroke-width: 0px; fill: rgb(182, 232, 128); fill-opacity: 1;\"/><path class=\"point\" transform=\"translate(341.24,254.86)\" d=\"M3,0A3,3 0 1,1 0,-3A3,3 0 0,1 3,0Z\" style=\"opacity: 1; stroke-width: 0px; fill: rgb(182, 232, 128); fill-opacity: 1;\"/><path class=\"point\" transform=\"translate(341.97,254.86)\" d=\"M3,0A3,3 0 1,1 0,-3A3,3 0 0,1 3,0Z\" style=\"opacity: 1; stroke-width: 0px; fill: rgb(182, 232, 128); fill-opacity: 1;\"/><path class=\"point\" transform=\"translate(343.2,250.58)\" d=\"M3,0A3,3 0 1,1 0,-3A3,3 0 0,1 3,0Z\" style=\"opacity: 1; stroke-width: 0px; fill: rgb(182, 232, 128); fill-opacity: 1;\"/><path class=\"point\" transform=\"translate(339.82,244.16)\" d=\"M3,0A3,3 0 1,1 0,-3A3,3 0 0,1 3,0Z\" style=\"opacity: 1; stroke-width: 0px; fill: rgb(182, 232, 128); fill-opacity: 1;\"/><path class=\"point\" transform=\"translate(342.69,244.16)\" d=\"M3,0A3,3 0 1,1 0,-3A3,3 0 0,1 3,0Z\" style=\"opacity: 1; stroke-width: 0px; fill: rgb(182, 232, 128); fill-opacity: 1;\"/><path class=\"point\" transform=\"translate(341.76,244.16)\" d=\"M3,0A3,3 0 1,1 0,-3A3,3 0 0,1 3,0Z\" style=\"opacity: 1; stroke-width: 0px; fill: rgb(182, 232, 128); fill-opacity: 1;\"/><path class=\"point\" transform=\"translate(342.63,244.16)\" d=\"M3,0A3,3 0 1,1 0,-3A3,3 0 0,1 3,0Z\" style=\"opacity: 1; stroke-width: 0px; fill: rgb(182, 232, 128); fill-opacity: 1;\"/><path class=\"point\" transform=\"translate(339.61,244.16)\" d=\"M3,0A3,3 0 1,1 0,-3A3,3 0 0,1 3,0Z\" style=\"opacity: 1; stroke-width: 0px; fill: rgb(182, 232, 128); fill-opacity: 1;\"/><path class=\"point\" transform=\"translate(343.82,244.16)\" d=\"M3,0A3,3 0 1,1 0,-3A3,3 0 0,1 3,0Z\" style=\"opacity: 1; stroke-width: 0px; fill: rgb(182, 232, 128); fill-opacity: 1;\"/><path class=\"point\" transform=\"translate(340.09,242.02)\" d=\"M3,0A3,3 0 1,1 0,-3A3,3 0 0,1 3,0Z\" style=\"opacity: 1; stroke-width: 0px; fill: rgb(182, 232, 128); fill-opacity: 1;\"/><path class=\"point\" transform=\"translate(341.1,239.88)\" d=\"M3,0A3,3 0 1,1 0,-3A3,3 0 0,1 3,0Z\" style=\"opacity: 1; stroke-width: 0px; fill: rgb(182, 232, 128); fill-opacity: 1;\"/><path class=\"point\" transform=\"translate(339.4,238.81)\" d=\"M3,0A3,3 0 1,1 0,-3A3,3 0 0,1 3,0Z\" style=\"opacity: 1; stroke-width: 0px; fill: rgb(182, 232, 128); fill-opacity: 1;\"/><path class=\"point\" transform=\"translate(340.64,237.74)\" d=\"M3,0A3,3 0 1,1 0,-3A3,3 0 0,1 3,0Z\" style=\"opacity: 1; stroke-width: 0px; fill: rgb(182, 232, 128); fill-opacity: 1;\"/><path class=\"point\" transform=\"translate(342.3,233.46)\" d=\"M3,0A3,3 0 1,1 0,-3A3,3 0 0,1 3,0Z\" style=\"opacity: 1; stroke-width: 0px; fill: rgb(182, 232, 128); fill-opacity: 1;\"/><path class=\"point\" transform=\"translate(342.84,233.46)\" d=\"M3,0A3,3 0 1,1 0,-3A3,3 0 0,1 3,0Z\" style=\"opacity: 1; stroke-width: 0px; fill: rgb(182, 232, 128); fill-opacity: 1;\"/><path class=\"point\" transform=\"translate(338.54,233.46)\" d=\"M3,0A3,3 0 1,1 0,-3A3,3 0 0,1 3,0Z\" style=\"opacity: 1; stroke-width: 0px; fill: rgb(182, 232, 128); fill-opacity: 1;\"/><path class=\"point\" transform=\"translate(342.21,232.39)\" d=\"M3,0A3,3 0 1,1 0,-3A3,3 0 0,1 3,0Z\" style=\"opacity: 1; stroke-width: 0px; fill: rgb(182, 232, 128); fill-opacity: 1;\"/><path class=\"point\" transform=\"translate(343.49,231.32)\" d=\"M3,0A3,3 0 1,1 0,-3A3,3 0 0,1 3,0Z\" style=\"opacity: 1; stroke-width: 0px; fill: rgb(182, 232, 128); fill-opacity: 1;\"/><path class=\"point\" transform=\"translate(339.01,231.32)\" d=\"M3,0A3,3 0 1,1 0,-3A3,3 0 0,1 3,0Z\" style=\"opacity: 1; stroke-width: 0px; fill: rgb(182, 232, 128); fill-opacity: 1;\"/><path class=\"point\" transform=\"translate(342.2,228.11)\" d=\"M3,0A3,3 0 1,1 0,-3A3,3 0 0,1 3,0Z\" style=\"opacity: 1; stroke-width: 0px; fill: rgb(182, 232, 128); fill-opacity: 1;\"/><path class=\"point\" transform=\"translate(341.06,227.04)\" d=\"M3,0A3,3 0 1,1 0,-3A3,3 0 0,1 3,0Z\" style=\"opacity: 1; stroke-width: 0px; fill: rgb(182, 232, 128); fill-opacity: 1;\"/><path class=\"point\" transform=\"translate(338.63,227.04)\" d=\"M3,0A3,3 0 1,1 0,-3A3,3 0 0,1 3,0Z\" style=\"opacity: 1; stroke-width: 0px; fill: rgb(182, 232, 128); fill-opacity: 1;\"/><path class=\"point\" transform=\"translate(343.13,224.9)\" d=\"M3,0A3,3 0 1,1 0,-3A3,3 0 0,1 3,0Z\" style=\"opacity: 1; stroke-width: 0px; fill: rgb(182, 232, 128); fill-opacity: 1;\"/><path class=\"point\" transform=\"translate(342.15,224.9)\" d=\"M3,0A3,3 0 1,1 0,-3A3,3 0 0,1 3,0Z\" style=\"opacity: 1; stroke-width: 0px; fill: rgb(182, 232, 128); fill-opacity: 1;\"/><path class=\"point\" transform=\"translate(340.46,222.76)\" d=\"M3,0A3,3 0 1,1 0,-3A3,3 0 0,1 3,0Z\" style=\"opacity: 1; stroke-width: 0px; fill: rgb(182, 232, 128); fill-opacity: 1;\"/><path class=\"point\" transform=\"translate(339.86,222.76)\" d=\"M3,0A3,3 0 1,1 0,-3A3,3 0 0,1 3,0Z\" style=\"opacity: 1; stroke-width: 0px; fill: rgb(182, 232, 128); fill-opacity: 1;\"/><path class=\"point\" transform=\"translate(343.52,222.76)\" d=\"M3,0A3,3 0 1,1 0,-3A3,3 0 0,1 3,0Z\" style=\"opacity: 1; stroke-width: 0px; fill: rgb(182, 232, 128); fill-opacity: 1;\"/><path class=\"point\" transform=\"translate(341.41,222.76)\" d=\"M3,0A3,3 0 1,1 0,-3A3,3 0 0,1 3,0Z\" style=\"opacity: 1; stroke-width: 0px; fill: rgb(182, 232, 128); fill-opacity: 1;\"/><path class=\"point\" transform=\"translate(342.82,222.76)\" d=\"M3,0A3,3 0 1,1 0,-3A3,3 0 0,1 3,0Z\" style=\"opacity: 1; stroke-width: 0px; fill: rgb(182, 232, 128); fill-opacity: 1;\"/><path class=\"point\" transform=\"translate(339.69,222.76)\" d=\"M3,0A3,3 0 1,1 0,-3A3,3 0 0,1 3,0Z\" style=\"opacity: 1; stroke-width: 0px; fill: rgb(182, 232, 128); fill-opacity: 1;\"/><path class=\"point\" transform=\"translate(341.64,218.48)\" d=\"M3,0A3,3 0 1,1 0,-3A3,3 0 0,1 3,0Z\" style=\"opacity: 1; stroke-width: 0px; fill: rgb(182, 232, 128); fill-opacity: 1;\"/><path class=\"point\" transform=\"translate(342.43,213.13)\" d=\"M3,0A3,3 0 1,1 0,-3A3,3 0 0,1 3,0Z\" style=\"opacity: 1; stroke-width: 0px; fill: rgb(182, 232, 128); fill-opacity: 1;\"/><path class=\"point\" transform=\"translate(341.16,212.06)\" d=\"M3,0A3,3 0 1,1 0,-3A3,3 0 0,1 3,0Z\" style=\"opacity: 1; stroke-width: 0px; fill: rgb(182, 232, 128); fill-opacity: 1;\"/><path class=\"point\" transform=\"translate(342.29,212.06)\" d=\"M3,0A3,3 0 1,1 0,-3A3,3 0 0,1 3,0Z\" style=\"opacity: 1; stroke-width: 0px; fill: rgb(182, 232, 128); fill-opacity: 1;\"/><path class=\"point\" transform=\"translate(340.82,196.01)\" d=\"M3,0A3,3 0 1,1 0,-3A3,3 0 0,1 3,0Z\" style=\"opacity: 1; stroke-width: 0px; fill: rgb(182, 232, 128); fill-opacity: 1;\"/><path class=\"point\" transform=\"translate(342.41,196.01)\" d=\"M3,0A3,3 0 1,1 0,-3A3,3 0 0,1 3,0Z\" style=\"opacity: 1; stroke-width: 0px; fill: rgb(182, 232, 128); fill-opacity: 1;\"/><path class=\"point\" transform=\"translate(341.36,193.87)\" d=\"M3,0A3,3 0 1,1 0,-3A3,3 0 0,1 3,0Z\" style=\"opacity: 1; stroke-width: 0px; fill: rgb(182, 232, 128); fill-opacity: 1;\"/><path class=\"point\" transform=\"translate(340.35,192.8)\" d=\"M3,0A3,3 0 1,1 0,-3A3,3 0 0,1 3,0Z\" style=\"opacity: 1; stroke-width: 0px; fill: rgb(182, 232, 128); fill-opacity: 1;\"/><path class=\"point\" transform=\"translate(341.74,190.66)\" d=\"M3,0A3,3 0 1,1 0,-3A3,3 0 0,1 3,0Z\" style=\"opacity: 1; stroke-width: 0px; fill: rgb(182, 232, 128); fill-opacity: 1;\"/><path class=\"point\" transform=\"translate(340.38,190.66)\" d=\"M3,0A3,3 0 1,1 0,-3A3,3 0 0,1 3,0Z\" style=\"opacity: 1; stroke-width: 0px; fill: rgb(182, 232, 128); fill-opacity: 1;\"/><path class=\"point\" transform=\"translate(339.46,184.24)\" d=\"M3,0A3,3 0 1,1 0,-3A3,3 0 0,1 3,0Z\" style=\"opacity: 1; stroke-width: 0px; fill: rgb(182, 232, 128); fill-opacity: 1;\"/><path class=\"point\" transform=\"translate(342.59,176.75)\" d=\"M3,0A3,3 0 1,1 0,-3A3,3 0 0,1 3,0Z\" style=\"opacity: 1; stroke-width: 0px; fill: rgb(182, 232, 128); fill-opacity: 1;\"/><path class=\"point\" transform=\"translate(340.41,174.61)\" d=\"M3,0A3,3 0 1,1 0,-3A3,3 0 0,1 3,0Z\" style=\"opacity: 1; stroke-width: 0px; fill: rgb(182, 232, 128); fill-opacity: 1;\"/><path class=\"point\" transform=\"translate(341.89,169.25)\" d=\"M3,0A3,3 0 1,1 0,-3A3,3 0 0,1 3,0Z\" style=\"opacity: 1; stroke-width: 0px; fill: rgb(182, 232, 128); fill-opacity: 1;\"/><path class=\"point\" transform=\"translate(339.74,169.25)\" d=\"M3,0A3,3 0 1,1 0,-3A3,3 0 0,1 3,0Z\" style=\"opacity: 1; stroke-width: 0px; fill: rgb(182, 232, 128); fill-opacity: 1;\"/><path class=\"point\" transform=\"translate(340.79,169.25)\" d=\"M3,0A3,3 0 1,1 0,-3A3,3 0 0,1 3,0Z\" style=\"opacity: 1; stroke-width: 0px; fill: rgb(182, 232, 128); fill-opacity: 1;\"/><path class=\"point\" transform=\"translate(342.2,169.25)\" d=\"M3,0A3,3 0 1,1 0,-3A3,3 0 0,1 3,0Z\" style=\"opacity: 1; stroke-width: 0px; fill: rgb(182, 232, 128); fill-opacity: 1;\"/><path class=\"point\" transform=\"translate(340.69,169.25)\" d=\"M3,0A3,3 0 1,1 0,-3A3,3 0 0,1 3,0Z\" style=\"opacity: 1; stroke-width: 0px; fill: rgb(182, 232, 128); fill-opacity: 1;\"/><path class=\"point\" transform=\"translate(339.34,169.25)\" d=\"M3,0A3,3 0 1,1 0,-3A3,3 0 0,1 3,0Z\" style=\"opacity: 1; stroke-width: 0px; fill: rgb(182, 232, 128); fill-opacity: 1;\"/><path class=\"point\" transform=\"translate(341.93,169.25)\" d=\"M3,0A3,3 0 1,1 0,-3A3,3 0 0,1 3,0Z\" style=\"opacity: 1; stroke-width: 0px; fill: rgb(182, 232, 128); fill-opacity: 1;\"/><path class=\"point\" transform=\"translate(340.17,169.25)\" d=\"M3,0A3,3 0 1,1 0,-3A3,3 0 0,1 3,0Z\" style=\"opacity: 1; stroke-width: 0px; fill: rgb(182, 232, 128); fill-opacity: 1;\"/><path class=\"point\" transform=\"translate(341.74,169.25)\" d=\"M3,0A3,3 0 1,1 0,-3A3,3 0 0,1 3,0Z\" style=\"opacity: 1; stroke-width: 0px; fill: rgb(182, 232, 128); fill-opacity: 1;\"/><path class=\"point\" transform=\"translate(340.37,153.2)\" d=\"M3,0A3,3 0 1,1 0,-3A3,3 0 0,1 3,0Z\" style=\"opacity: 1; stroke-width: 0px; fill: rgb(182, 232, 128); fill-opacity: 1;\"/><path class=\"point\" transform=\"translate(340.74,144.64)\" d=\"M3,0A3,3 0 1,1 0,-3A3,3 0 0,1 3,0Z\" style=\"opacity: 1; stroke-width: 0px; fill: rgb(182, 232, 128); fill-opacity: 1;\"/><path class=\"point\" transform=\"translate(340.19,117.89)\" d=\"M3,0A3,3 0 1,1 0,-3A3,3 0 0,1 3,0Z\" style=\"opacity: 1; stroke-width: 0px; fill: rgb(182, 232, 128); fill-opacity: 1;\"/><path class=\"point\" transform=\"translate(341.98,115.75)\" d=\"M3,0A3,3 0 1,1 0,-3A3,3 0 0,1 3,0Z\" style=\"opacity: 1; stroke-width: 0px; fill: rgb(182, 232, 128); fill-opacity: 1;\"/><path class=\"point\" transform=\"translate(341.07,115.75)\" d=\"M3,0A3,3 0 1,1 0,-3A3,3 0 0,1 3,0Z\" style=\"opacity: 1; stroke-width: 0px; fill: rgb(182, 232, 128); fill-opacity: 1;\"/><path class=\"point\" transform=\"translate(342,115.75)\" d=\"M3,0A3,3 0 1,1 0,-3A3,3 0 0,1 3,0Z\" style=\"opacity: 1; stroke-width: 0px; fill: rgb(182, 232, 128); fill-opacity: 1;\"/><path class=\"point\" transform=\"translate(340.38,96.49)\" d=\"M3,0A3,3 0 1,1 0,-3A3,3 0 0,1 3,0Z\" style=\"opacity: 1; stroke-width: 0px; fill: rgb(182, 232, 128); fill-opacity: 1;\"/><path class=\"point\" transform=\"translate(341.47,89)\" d=\"M3,0A3,3 0 1,1 0,-3A3,3 0 0,1 3,0Z\" style=\"opacity: 1; stroke-width: 0px; fill: rgb(182, 232, 128); fill-opacity: 1;\"/><path class=\"point\" transform=\"translate(340.94,62.24)\" d=\"M3,0A3,3 0 1,1 0,-3A3,3 0 0,1 3,0Z\" style=\"opacity: 1; stroke-width: 0px; fill: rgb(182, 232, 128); fill-opacity: 1;\"/><path class=\"point\" transform=\"translate(341.59,62.24)\" d=\"M3,0A3,3 0 1,1 0,-3A3,3 0 0,1 3,0Z\" style=\"opacity: 1; stroke-width: 0px; fill: rgb(182, 232, 128); fill-opacity: 1;\"/><path class=\"point\" transform=\"translate(340.49,62.24)\" d=\"M3,0A3,3 0 1,1 0,-3A3,3 0 0,1 3,0Z\" style=\"opacity: 1; stroke-width: 0px; fill: rgb(182, 232, 128); fill-opacity: 1;\"/><path class=\"point\" transform=\"translate(340.73,37.63)\" d=\"M3,0A3,3 0 1,1 0,-3A3,3 0 0,1 3,0Z\" style=\"opacity: 1; stroke-width: 0px; fill: rgb(182, 232, 128); fill-opacity: 1;\"/></g></g><g class=\"trace boxes\" style=\"opacity: 1;\"><path class=\"box\" d=\"M394.29,286.97H417.51M394.29,313.72H417.51V244.16H394.29ZM405.9,313.72V327.63M405.9,244.16V147.85M400.09,327.63H411.71M400.09,147.85H411.71\" style=\"vector-effect: non-scaling-stroke; stroke-width: 2px; stroke: rgb(255, 151, 255); stroke-opacity: 1; fill: rgb(255, 151, 255); fill-opacity: 0.5;\"/><g class=\"points\"><path class=\"point\" transform=\"translate(390.29,327.63)\" d=\"M3,0A3,3 0 1,1 0,-3A3,3 0 0,1 3,0Z\" style=\"opacity: 1; stroke-width: 0px; fill: rgb(255, 151, 255); fill-opacity: 1;\"/><path class=\"point\" transform=\"translate(386.26,325.49)\" d=\"M3,0A3,3 0 1,1 0,-3A3,3 0 0,1 3,0Z\" style=\"opacity: 1; stroke-width: 0px; fill: rgb(255, 151, 255); fill-opacity: 1;\"/><path class=\"point\" transform=\"translate(391.18,325.49)\" d=\"M3,0A3,3 0 1,1 0,-3A3,3 0 0,1 3,0Z\" style=\"opacity: 1; stroke-width: 0px; fill: rgb(255, 151, 255); fill-opacity: 1;\"/><path class=\"point\" transform=\"translate(385.53,325.49)\" d=\"M3,0A3,3 0 1,1 0,-3A3,3 0 0,1 3,0Z\" style=\"opacity: 1; stroke-width: 0px; fill: rgb(255, 151, 255); fill-opacity: 1;\"/><path class=\"point\" transform=\"translate(387.62,325.49)\" d=\"M3,0A3,3 0 1,1 0,-3A3,3 0 0,1 3,0Z\" style=\"opacity: 1; stroke-width: 0px; fill: rgb(255, 151, 255); fill-opacity: 1;\"/><path class=\"point\" transform=\"translate(390.31,324.42)\" d=\"M3,0A3,3 0 1,1 0,-3A3,3 0 0,1 3,0Z\" style=\"opacity: 1; stroke-width: 0px; fill: rgb(255, 151, 255); fill-opacity: 1;\"/><path class=\"point\" transform=\"translate(388.35,324.42)\" d=\"M3,0A3,3 0 1,1 0,-3A3,3 0 0,1 3,0Z\" style=\"opacity: 1; stroke-width: 0px; fill: rgb(255, 151, 255); fill-opacity: 1;\"/><path class=\"point\" transform=\"translate(389.49,324.42)\" d=\"M3,0A3,3 0 1,1 0,-3A3,3 0 0,1 3,0Z\" style=\"opacity: 1; stroke-width: 0px; fill: rgb(255, 151, 255); fill-opacity: 1;\"/><path class=\"point\" transform=\"translate(387.37,323.35)\" d=\"M3,0A3,3 0 1,1 0,-3A3,3 0 0,1 3,0Z\" style=\"opacity: 1; stroke-width: 0px; fill: rgb(255, 151, 255); fill-opacity: 1;\"/><path class=\"point\" transform=\"translate(385.93,323.35)\" d=\"M3,0A3,3 0 1,1 0,-3A3,3 0 0,1 3,0Z\" style=\"opacity: 1; stroke-width: 0px; fill: rgb(255, 151, 255); fill-opacity: 1;\"/><path class=\"point\" transform=\"translate(389.41,321.21)\" d=\"M3,0A3,3 0 1,1 0,-3A3,3 0 0,1 3,0Z\" style=\"opacity: 1; stroke-width: 0px; fill: rgb(255, 151, 255); fill-opacity: 1;\"/><path class=\"point\" transform=\"translate(387.33,321.21)\" d=\"M3,0A3,3 0 1,1 0,-3A3,3 0 0,1 3,0Z\" style=\"opacity: 1; stroke-width: 0px; fill: rgb(255, 151, 255); fill-opacity: 1;\"/><path class=\"point\" transform=\"translate(390.69,321.21)\" d=\"M3,0A3,3 0 1,1 0,-3A3,3 0 0,1 3,0Z\" style=\"opacity: 1; stroke-width: 0px; fill: rgb(255, 151, 255); fill-opacity: 1;\"/><path class=\"point\" transform=\"translate(385.09,321.21)\" d=\"M3,0A3,3 0 1,1 0,-3A3,3 0 0,1 3,0Z\" style=\"opacity: 1; stroke-width: 0px; fill: rgb(255, 151, 255); fill-opacity: 1;\"/><path class=\"point\" transform=\"translate(386.46,320.14)\" d=\"M3,0A3,3 0 1,1 0,-3A3,3 0 0,1 3,0Z\" style=\"opacity: 1; stroke-width: 0px; fill: rgb(255, 151, 255); fill-opacity: 1;\"/><path class=\"point\" transform=\"translate(391.56,320.14)\" d=\"M3,0A3,3 0 1,1 0,-3A3,3 0 0,1 3,0Z\" style=\"opacity: 1; stroke-width: 0px; fill: rgb(255, 151, 255); fill-opacity: 1;\"/><path class=\"point\" transform=\"translate(387.61,319.07)\" d=\"M3,0A3,3 0 1,1 0,-3A3,3 0 0,1 3,0Z\" style=\"opacity: 1; stroke-width: 0px; fill: rgb(255, 151, 255); fill-opacity: 1;\"/><path class=\"point\" transform=\"translate(385.49,319.07)\" d=\"M3,0A3,3 0 1,1 0,-3A3,3 0 0,1 3,0Z\" style=\"opacity: 1; stroke-width: 0px; fill: rgb(255, 151, 255); fill-opacity: 1;\"/><path class=\"point\" transform=\"translate(387.33,319.07)\" d=\"M3,0A3,3 0 1,1 0,-3A3,3 0 0,1 3,0Z\" style=\"opacity: 1; stroke-width: 0px; fill: rgb(255, 151, 255); fill-opacity: 1;\"/><path class=\"point\" transform=\"translate(388.41,319.07)\" d=\"M3,0A3,3 0 1,1 0,-3A3,3 0 0,1 3,0Z\" style=\"opacity: 1; stroke-width: 0px; fill: rgb(255, 151, 255); fill-opacity: 1;\"/><path class=\"point\" transform=\"translate(390.05,319.07)\" d=\"M3,0A3,3 0 1,1 0,-3A3,3 0 0,1 3,0Z\" style=\"opacity: 1; stroke-width: 0px; fill: rgb(255, 151, 255); fill-opacity: 1;\"/><path class=\"point\" transform=\"translate(388.87,316.93)\" d=\"M3,0A3,3 0 1,1 0,-3A3,3 0 0,1 3,0Z\" style=\"opacity: 1; stroke-width: 0px; fill: rgb(255, 151, 255); fill-opacity: 1;\"/><path class=\"point\" transform=\"translate(387.5,316.93)\" d=\"M3,0A3,3 0 1,1 0,-3A3,3 0 0,1 3,0Z\" style=\"opacity: 1; stroke-width: 0px; fill: rgb(255, 151, 255); fill-opacity: 1;\"/><path class=\"point\" transform=\"translate(385.57,316.93)\" d=\"M3,0A3,3 0 1,1 0,-3A3,3 0 0,1 3,0Z\" style=\"opacity: 1; stroke-width: 0px; fill: rgb(255, 151, 255); fill-opacity: 1;\"/><path class=\"point\" transform=\"translate(388.47,316.93)\" d=\"M3,0A3,3 0 1,1 0,-3A3,3 0 0,1 3,0Z\" style=\"opacity: 1; stroke-width: 0px; fill: rgb(255, 151, 255); fill-opacity: 1;\"/><path class=\"point\" transform=\"translate(387.46,316.93)\" d=\"M3,0A3,3 0 1,1 0,-3A3,3 0 0,1 3,0Z\" style=\"opacity: 1; stroke-width: 0px; fill: rgb(255, 151, 255); fill-opacity: 1;\"/><path class=\"point\" transform=\"translate(390.1,316.93)\" d=\"M3,0A3,3 0 1,1 0,-3A3,3 0 0,1 3,0Z\" style=\"opacity: 1; stroke-width: 0px; fill: rgb(255, 151, 255); fill-opacity: 1;\"/><path class=\"point\" transform=\"translate(388.17,316.93)\" d=\"M3,0A3,3 0 1,1 0,-3A3,3 0 0,1 3,0Z\" style=\"opacity: 1; stroke-width: 0px; fill: rgb(255, 151, 255); fill-opacity: 1;\"/><path class=\"point\" transform=\"translate(386.2,314.79)\" d=\"M3,0A3,3 0 1,1 0,-3A3,3 0 0,1 3,0Z\" style=\"opacity: 1; stroke-width: 0px; fill: rgb(255, 151, 255); fill-opacity: 1;\"/><path class=\"point\" transform=\"translate(385.23,314.79)\" d=\"M3,0A3,3 0 1,1 0,-3A3,3 0 0,1 3,0Z\" style=\"opacity: 1; stroke-width: 0px; fill: rgb(255, 151, 255); fill-opacity: 1;\"/><path class=\"point\" transform=\"translate(390.45,314.79)\" d=\"M3,0A3,3 0 1,1 0,-3A3,3 0 0,1 3,0Z\" style=\"opacity: 1; stroke-width: 0px; fill: rgb(255, 151, 255); fill-opacity: 1;\"/><path class=\"point\" transform=\"translate(385.5,313.72)\" d=\"M3,0A3,3 0 1,1 0,-3A3,3 0 0,1 3,0Z\" style=\"opacity: 1; stroke-width: 0px; fill: rgb(255, 151, 255); fill-opacity: 1;\"/><path class=\"point\" transform=\"translate(390.55,313.72)\" d=\"M3,0A3,3 0 1,1 0,-3A3,3 0 0,1 3,0Z\" style=\"opacity: 1; stroke-width: 0px; fill: rgb(255, 151, 255); fill-opacity: 1;\"/><path class=\"point\" transform=\"translate(389.24,313.72)\" d=\"M3,0A3,3 0 1,1 0,-3A3,3 0 0,1 3,0Z\" style=\"opacity: 1; stroke-width: 0px; fill: rgb(255, 151, 255); fill-opacity: 1;\"/><path class=\"point\" transform=\"translate(387.44,313.72)\" d=\"M3,0A3,3 0 1,1 0,-3A3,3 0 0,1 3,0Z\" style=\"opacity: 1; stroke-width: 0px; fill: rgb(255, 151, 255); fill-opacity: 1;\"/><path class=\"point\" transform=\"translate(386.42,313.72)\" d=\"M3,0A3,3 0 1,1 0,-3A3,3 0 0,1 3,0Z\" style=\"opacity: 1; stroke-width: 0px; fill: rgb(255, 151, 255); fill-opacity: 1;\"/><path class=\"point\" transform=\"translate(390.05,312.65)\" d=\"M3,0A3,3 0 1,1 0,-3A3,3 0 0,1 3,0Z\" style=\"opacity: 1; stroke-width: 0px; fill: rgb(255, 151, 255); fill-opacity: 1;\"/><path class=\"point\" transform=\"translate(388.11,312.65)\" d=\"M3,0A3,3 0 1,1 0,-3A3,3 0 0,1 3,0Z\" style=\"opacity: 1; stroke-width: 0px; fill: rgb(255, 151, 255); fill-opacity: 1;\"/><path class=\"point\" transform=\"translate(390.87,312.65)\" d=\"M3,0A3,3 0 1,1 0,-3A3,3 0 0,1 3,0Z\" style=\"opacity: 1; stroke-width: 0px; fill: rgb(255, 151, 255); fill-opacity: 1;\"/><path class=\"point\" transform=\"translate(385.55,308.37)\" d=\"M3,0A3,3 0 1,1 0,-3A3,3 0 0,1 3,0Z\" style=\"opacity: 1; stroke-width: 0px; fill: rgb(255, 151, 255); fill-opacity: 1;\"/><path class=\"point\" transform=\"translate(390.7,308.37)\" d=\"M3,0A3,3 0 1,1 0,-3A3,3 0 0,1 3,0Z\" style=\"opacity: 1; stroke-width: 0px; fill: rgb(255, 151, 255); fill-opacity: 1;\"/><path class=\"point\" transform=\"translate(388.19,308.37)\" d=\"M3,0A3,3 0 1,1 0,-3A3,3 0 0,1 3,0Z\" style=\"opacity: 1; stroke-width: 0px; fill: rgb(255, 151, 255); fill-opacity: 1;\"/><path class=\"point\" transform=\"translate(387.25,308.37)\" d=\"M3,0A3,3 0 1,1 0,-3A3,3 0 0,1 3,0Z\" style=\"opacity: 1; stroke-width: 0px; fill: rgb(255, 151, 255); fill-opacity: 1;\"/><path class=\"point\" transform=\"translate(385.39,308.37)\" d=\"M3,0A3,3 0 1,1 0,-3A3,3 0 0,1 3,0Z\" style=\"opacity: 1; stroke-width: 0px; fill: rgb(255, 151, 255); fill-opacity: 1;\"/><path class=\"point\" transform=\"translate(387.12,308.37)\" d=\"M3,0A3,3 0 1,1 0,-3A3,3 0 0,1 3,0Z\" style=\"opacity: 1; stroke-width: 0px; fill: rgb(255, 151, 255); fill-opacity: 1;\"/><path class=\"point\" transform=\"translate(390.81,308.37)\" d=\"M3,0A3,3 0 1,1 0,-3A3,3 0 0,1 3,0Z\" style=\"opacity: 1; stroke-width: 0px; fill: rgb(255, 151, 255); fill-opacity: 1;\"/><path class=\"point\" transform=\"translate(387.65,307.3)\" d=\"M3,0A3,3 0 1,1 0,-3A3,3 0 0,1 3,0Z\" style=\"opacity: 1; stroke-width: 0px; fill: rgb(255, 151, 255); fill-opacity: 1;\"/><path class=\"point\" transform=\"translate(385.77,304.09)\" d=\"M3,0A3,3 0 1,1 0,-3A3,3 0 0,1 3,0Z\" style=\"opacity: 1; stroke-width: 0px; fill: rgb(255, 151, 255); fill-opacity: 1;\"/><path class=\"point\" transform=\"translate(390.17,304.09)\" d=\"M3,0A3,3 0 1,1 0,-3A3,3 0 0,1 3,0Z\" style=\"opacity: 1; stroke-width: 0px; fill: rgb(255, 151, 255); fill-opacity: 1;\"/><path class=\"point\" transform=\"translate(386.61,304.09)\" d=\"M3,0A3,3 0 1,1 0,-3A3,3 0 0,1 3,0Z\" style=\"opacity: 1; stroke-width: 0px; fill: rgb(255, 151, 255); fill-opacity: 1;\"/><path class=\"point\" transform=\"translate(388.48,304.09)\" d=\"M3,0A3,3 0 1,1 0,-3A3,3 0 0,1 3,0Z\" style=\"opacity: 1; stroke-width: 0px; fill: rgb(255, 151, 255); fill-opacity: 1;\"/><path class=\"point\" transform=\"translate(389.75,304.09)\" d=\"M3,0A3,3 0 1,1 0,-3A3,3 0 0,1 3,0Z\" style=\"opacity: 1; stroke-width: 0px; fill: rgb(255, 151, 255); fill-opacity: 1;\"/><path class=\"point\" transform=\"translate(385.1,303.02)\" d=\"M3,0A3,3 0 1,1 0,-3A3,3 0 0,1 3,0Z\" style=\"opacity: 1; stroke-width: 0px; fill: rgb(255, 151, 255); fill-opacity: 1;\"/><path class=\"point\" transform=\"translate(391.74,303.02)\" d=\"M3,0A3,3 0 1,1 0,-3A3,3 0 0,1 3,0Z\" style=\"opacity: 1; stroke-width: 0px; fill: rgb(255, 151, 255); fill-opacity: 1;\"/><path class=\"point\" transform=\"translate(389.93,301.95)\" d=\"M3,0A3,3 0 1,1 0,-3A3,3 0 0,1 3,0Z\" style=\"opacity: 1; stroke-width: 0px; fill: rgb(255, 151, 255); fill-opacity: 1;\"/><path class=\"point\" transform=\"translate(385.4,297.67)\" d=\"M3,0A3,3 0 1,1 0,-3A3,3 0 0,1 3,0Z\" style=\"opacity: 1; stroke-width: 0px; fill: rgb(255, 151, 255); fill-opacity: 1;\"/><path class=\"point\" transform=\"translate(390.6,297.67)\" d=\"M3,0A3,3 0 1,1 0,-3A3,3 0 0,1 3,0Z\" style=\"opacity: 1; stroke-width: 0px; fill: rgb(255, 151, 255); fill-opacity: 1;\"/><path class=\"point\" transform=\"translate(386.42,297.67)\" d=\"M3,0A3,3 0 1,1 0,-3A3,3 0 0,1 3,0Z\" style=\"opacity: 1; stroke-width: 0px; fill: rgb(255, 151, 255); fill-opacity: 1;\"/><path class=\"point\" transform=\"translate(388.21,297.67)\" d=\"M3,0A3,3 0 1,1 0,-3A3,3 0 0,1 3,0Z\" style=\"opacity: 1; stroke-width: 0px; fill: rgb(255, 151, 255); fill-opacity: 1;\"/><path class=\"point\" transform=\"translate(388.78,297.67)\" d=\"M3,0A3,3 0 1,1 0,-3A3,3 0 0,1 3,0Z\" style=\"opacity: 1; stroke-width: 0px; fill: rgb(255, 151, 255); fill-opacity: 1;\"/><path class=\"point\" transform=\"translate(387.32,297.67)\" d=\"M3,0A3,3 0 1,1 0,-3A3,3 0 0,1 3,0Z\" style=\"opacity: 1; stroke-width: 0px; fill: rgb(255, 151, 255); fill-opacity: 1;\"/><path class=\"point\" transform=\"translate(390.27,292.32)\" d=\"M3,0A3,3 0 1,1 0,-3A3,3 0 0,1 3,0Z\" style=\"opacity: 1; stroke-width: 0px; fill: rgb(255, 151, 255); fill-opacity: 1;\"/><path class=\"point\" transform=\"translate(386.73,292.32)\" d=\"M3,0A3,3 0 1,1 0,-3A3,3 0 0,1 3,0Z\" style=\"opacity: 1; stroke-width: 0px; fill: rgb(255, 151, 255); fill-opacity: 1;\"/><path class=\"point\" transform=\"translate(389.54,286.97)\" d=\"M3,0A3,3 0 1,1 0,-3A3,3 0 0,1 3,0Z\" style=\"opacity: 1; stroke-width: 0px; fill: rgb(255, 151, 255); fill-opacity: 1;\"/><path class=\"point\" transform=\"translate(390.54,286.97)\" d=\"M3,0A3,3 0 1,1 0,-3A3,3 0 0,1 3,0Z\" style=\"opacity: 1; stroke-width: 0px; fill: rgb(255, 151, 255); fill-opacity: 1;\"/><path class=\"point\" transform=\"translate(385.84,286.97)\" d=\"M3,0A3,3 0 1,1 0,-3A3,3 0 0,1 3,0Z\" style=\"opacity: 1; stroke-width: 0px; fill: rgb(255, 151, 255); fill-opacity: 1;\"/><path class=\"point\" transform=\"translate(386.56,286.97)\" d=\"M3,0A3,3 0 1,1 0,-3A3,3 0 0,1 3,0Z\" style=\"opacity: 1; stroke-width: 0px; fill: rgb(255, 151, 255); fill-opacity: 1;\"/><path class=\"point\" transform=\"translate(390.17,286.97)\" d=\"M3,0A3,3 0 1,1 0,-3A3,3 0 0,1 3,0Z\" style=\"opacity: 1; stroke-width: 0px; fill: rgb(255, 151, 255); fill-opacity: 1;\"/><path class=\"point\" transform=\"translate(387.58,286.97)\" d=\"M3,0A3,3 0 1,1 0,-3A3,3 0 0,1 3,0Z\" style=\"opacity: 1; stroke-width: 0px; fill: rgb(255, 151, 255); fill-opacity: 1;\"/><path class=\"point\" transform=\"translate(388.76,286.97)\" d=\"M3,0A3,3 0 1,1 0,-3A3,3 0 0,1 3,0Z\" style=\"opacity: 1; stroke-width: 0px; fill: rgb(255, 151, 255); fill-opacity: 1;\"/><path class=\"point\" transform=\"translate(391.44,286.97)\" d=\"M3,0A3,3 0 1,1 0,-3A3,3 0 0,1 3,0Z\" style=\"opacity: 1; stroke-width: 0px; fill: rgb(255, 151, 255); fill-opacity: 1;\"/><path class=\"point\" transform=\"translate(385.79,286.97)\" d=\"M3,0A3,3 0 1,1 0,-3A3,3 0 0,1 3,0Z\" style=\"opacity: 1; stroke-width: 0px; fill: rgb(255, 151, 255); fill-opacity: 1;\"/><path class=\"point\" transform=\"translate(391.61,283.76)\" d=\"M3,0A3,3 0 1,1 0,-3A3,3 0 0,1 3,0Z\" style=\"opacity: 1; stroke-width: 0px; fill: rgb(255, 151, 255); fill-opacity: 1;\"/><path class=\"point\" transform=\"translate(386.14,281.62)\" d=\"M3,0A3,3 0 1,1 0,-3A3,3 0 0,1 3,0Z\" style=\"opacity: 1; stroke-width: 0px; fill: rgb(255, 151, 255); fill-opacity: 1;\"/><path class=\"point\" transform=\"translate(391.25,281.62)\" d=\"M3,0A3,3 0 1,1 0,-3A3,3 0 0,1 3,0Z\" style=\"opacity: 1; stroke-width: 0px; fill: rgb(255, 151, 255); fill-opacity: 1;\"/><path class=\"point\" transform=\"translate(387.12,281.62)\" d=\"M3,0A3,3 0 1,1 0,-3A3,3 0 0,1 3,0Z\" style=\"opacity: 1; stroke-width: 0px; fill: rgb(255, 151, 255); fill-opacity: 1;\"/><path class=\"point\" transform=\"translate(390.6,281.62)\" d=\"M3,0A3,3 0 1,1 0,-3A3,3 0 0,1 3,0Z\" style=\"opacity: 1; stroke-width: 0px; fill: rgb(255, 151, 255); fill-opacity: 1;\"/><path class=\"point\" transform=\"translate(389.43,278.41)\" d=\"M3,0A3,3 0 1,1 0,-3A3,3 0 0,1 3,0Z\" style=\"opacity: 1; stroke-width: 0px; fill: rgb(255, 151, 255); fill-opacity: 1;\"/><path class=\"point\" transform=\"translate(388.01,278.41)\" d=\"M3,0A3,3 0 1,1 0,-3A3,3 0 0,1 3,0Z\" style=\"opacity: 1; stroke-width: 0px; fill: rgb(255, 151, 255); fill-opacity: 1;\"/><path class=\"point\" transform=\"translate(385.2,276.26)\" d=\"M3,0A3,3 0 1,1 0,-3A3,3 0 0,1 3,0Z\" style=\"opacity: 1; stroke-width: 0px; fill: rgb(255, 151, 255); fill-opacity: 1;\"/><path class=\"point\" transform=\"translate(387.93,276.26)\" d=\"M3,0A3,3 0 1,1 0,-3A3,3 0 0,1 3,0Z\" style=\"opacity: 1; stroke-width: 0px; fill: rgb(255, 151, 255); fill-opacity: 1;\"/><path class=\"point\" transform=\"translate(386.01,276.26)\" d=\"M3,0A3,3 0 1,1 0,-3A3,3 0 0,1 3,0Z\" style=\"opacity: 1; stroke-width: 0px; fill: rgb(255, 151, 255); fill-opacity: 1;\"/><path class=\"point\" transform=\"translate(386.63,276.26)\" d=\"M3,0A3,3 0 1,1 0,-3A3,3 0 0,1 3,0Z\" style=\"opacity: 1; stroke-width: 0px; fill: rgb(255, 151, 255); fill-opacity: 1;\"/><path class=\"point\" transform=\"translate(385.85,276.26)\" d=\"M3,0A3,3 0 1,1 0,-3A3,3 0 0,1 3,0Z\" style=\"opacity: 1; stroke-width: 0px; fill: rgb(255, 151, 255); fill-opacity: 1;\"/><path class=\"point\" transform=\"translate(385.02,276.26)\" d=\"M3,0A3,3 0 1,1 0,-3A3,3 0 0,1 3,0Z\" style=\"opacity: 1; stroke-width: 0px; fill: rgb(255, 151, 255); fill-opacity: 1;\"/><path class=\"point\" transform=\"translate(386.63,274.12)\" d=\"M3,0A3,3 0 1,1 0,-3A3,3 0 0,1 3,0Z\" style=\"opacity: 1; stroke-width: 0px; fill: rgb(255, 151, 255); fill-opacity: 1;\"/><path class=\"point\" transform=\"translate(389.65,271.98)\" d=\"M3,0A3,3 0 1,1 0,-3A3,3 0 0,1 3,0Z\" style=\"opacity: 1; stroke-width: 0px; fill: rgb(255, 151, 255); fill-opacity: 1;\"/><path class=\"point\" transform=\"translate(386.06,270.91)\" d=\"M3,0A3,3 0 1,1 0,-3A3,3 0 0,1 3,0Z\" style=\"opacity: 1; stroke-width: 0px; fill: rgb(255, 151, 255); fill-opacity: 1;\"/><path class=\"point\" transform=\"translate(389.11,270.91)\" d=\"M3,0A3,3 0 1,1 0,-3A3,3 0 0,1 3,0Z\" style=\"opacity: 1; stroke-width: 0px; fill: rgb(255, 151, 255); fill-opacity: 1;\"/><path class=\"point\" transform=\"translate(389.84,270.91)\" d=\"M3,0A3,3 0 1,1 0,-3A3,3 0 0,1 3,0Z\" style=\"opacity: 1; stroke-width: 0px; fill: rgb(255, 151, 255); fill-opacity: 1;\"/><path class=\"point\" transform=\"translate(388.86,269.84)\" d=\"M3,0A3,3 0 1,1 0,-3A3,3 0 0,1 3,0Z\" style=\"opacity: 1; stroke-width: 0px; fill: rgb(255, 151, 255); fill-opacity: 1;\"/><path class=\"point\" transform=\"translate(386.91,269.84)\" d=\"M3,0A3,3 0 1,1 0,-3A3,3 0 0,1 3,0Z\" style=\"opacity: 1; stroke-width: 0px; fill: rgb(255, 151, 255); fill-opacity: 1;\"/><path class=\"point\" transform=\"translate(387.7,265.56)\" d=\"M3,0A3,3 0 1,1 0,-3A3,3 0 0,1 3,0Z\" style=\"opacity: 1; stroke-width: 0px; fill: rgb(255, 151, 255); fill-opacity: 1;\"/><path class=\"point\" transform=\"translate(390.7,265.56)\" d=\"M3,0A3,3 0 1,1 0,-3A3,3 0 0,1 3,0Z\" style=\"opacity: 1; stroke-width: 0px; fill: rgb(255, 151, 255); fill-opacity: 1;\"/><path class=\"point\" transform=\"translate(387.28,265.56)\" d=\"M3,0A3,3 0 1,1 0,-3A3,3 0 0,1 3,0Z\" style=\"opacity: 1; stroke-width: 0px; fill: rgb(255, 151, 255); fill-opacity: 1;\"/><path class=\"point\" transform=\"translate(388.75,265.56)\" d=\"M3,0A3,3 0 1,1 0,-3A3,3 0 0,1 3,0Z\" style=\"opacity: 1; stroke-width: 0px; fill: rgb(255, 151, 255); fill-opacity: 1;\"/><path class=\"point\" transform=\"translate(389.75,260.21)\" d=\"M3,0A3,3 0 1,1 0,-3A3,3 0 0,1 3,0Z\" style=\"opacity: 1; stroke-width: 0px; fill: rgb(255, 151, 255); fill-opacity: 1;\"/><path class=\"point\" transform=\"translate(386.58,254.86)\" d=\"M3,0A3,3 0 1,1 0,-3A3,3 0 0,1 3,0Z\" style=\"opacity: 1; stroke-width: 0px; fill: rgb(255, 151, 255); fill-opacity: 1;\"/><path class=\"point\" transform=\"translate(388.17,254.86)\" d=\"M3,0A3,3 0 1,1 0,-3A3,3 0 0,1 3,0Z\" style=\"opacity: 1; stroke-width: 0px; fill: rgb(255, 151, 255); fill-opacity: 1;\"/><path class=\"point\" transform=\"translate(390.24,254.86)\" d=\"M3,0A3,3 0 1,1 0,-3A3,3 0 0,1 3,0Z\" style=\"opacity: 1; stroke-width: 0px; fill: rgb(255, 151, 255); fill-opacity: 1;\"/><path class=\"point\" transform=\"translate(386.71,254.86)\" d=\"M3,0A3,3 0 1,1 0,-3A3,3 0 0,1 3,0Z\" style=\"opacity: 1; stroke-width: 0px; fill: rgb(255, 151, 255); fill-opacity: 1;\"/><path class=\"point\" transform=\"translate(388.01,249.51)\" d=\"M3,0A3,3 0 1,1 0,-3A3,3 0 0,1 3,0Z\" style=\"opacity: 1; stroke-width: 0px; fill: rgb(255, 151, 255); fill-opacity: 1;\"/><path class=\"point\" transform=\"translate(389.86,249.51)\" d=\"M3,0A3,3 0 1,1 0,-3A3,3 0 0,1 3,0Z\" style=\"opacity: 1; stroke-width: 0px; fill: rgb(255, 151, 255); fill-opacity: 1;\"/><path class=\"point\" transform=\"translate(390.14,249.51)\" d=\"M3,0A3,3 0 1,1 0,-3A3,3 0 0,1 3,0Z\" style=\"opacity: 1; stroke-width: 0px; fill: rgb(255, 151, 255); fill-opacity: 1;\"/><path class=\"point\" transform=\"translate(390.37,244.16)\" d=\"M3,0A3,3 0 1,1 0,-3A3,3 0 0,1 3,0Z\" style=\"opacity: 1; stroke-width: 0px; fill: rgb(255, 151, 255); fill-opacity: 1;\"/><path class=\"point\" transform=\"translate(386.73,244.16)\" d=\"M3,0A3,3 0 1,1 0,-3A3,3 0 0,1 3,0Z\" style=\"opacity: 1; stroke-width: 0px; fill: rgb(255, 151, 255); fill-opacity: 1;\"/><path class=\"point\" transform=\"translate(388.98,244.16)\" d=\"M3,0A3,3 0 1,1 0,-3A3,3 0 0,1 3,0Z\" style=\"opacity: 1; stroke-width: 0px; fill: rgb(255, 151, 255); fill-opacity: 1;\"/><path class=\"point\" transform=\"translate(386.58,244.16)\" d=\"M3,0A3,3 0 1,1 0,-3A3,3 0 0,1 3,0Z\" style=\"opacity: 1; stroke-width: 0px; fill: rgb(255, 151, 255); fill-opacity: 1;\"/><path class=\"point\" transform=\"translate(390.29,237.74)\" d=\"M3,0A3,3 0 1,1 0,-3A3,3 0 0,1 3,0Z\" style=\"opacity: 1; stroke-width: 0px; fill: rgb(255, 151, 255); fill-opacity: 1;\"/><path class=\"point\" transform=\"translate(388.87,233.46)\" d=\"M3,0A3,3 0 1,1 0,-3A3,3 0 0,1 3,0Z\" style=\"opacity: 1; stroke-width: 0px; fill: rgb(255, 151, 255); fill-opacity: 1;\"/><path class=\"point\" transform=\"translate(387.93,233.46)\" d=\"M3,0A3,3 0 1,1 0,-3A3,3 0 0,1 3,0Z\" style=\"opacity: 1; stroke-width: 0px; fill: rgb(255, 151, 255); fill-opacity: 1;\"/><path class=\"point\" transform=\"translate(390.29,231.32)\" d=\"M3,0A3,3 0 1,1 0,-3A3,3 0 0,1 3,0Z\" style=\"opacity: 1; stroke-width: 0px; fill: rgb(255, 151, 255); fill-opacity: 1;\"/><path class=\"point\" transform=\"translate(387.2,228.11)\" d=\"M3,0A3,3 0 1,1 0,-3A3,3 0 0,1 3,0Z\" style=\"opacity: 1; stroke-width: 0px; fill: rgb(255, 151, 255); fill-opacity: 1;\"/><path class=\"point\" transform=\"translate(387.85,228.11)\" d=\"M3,0A3,3 0 1,1 0,-3A3,3 0 0,1 3,0Z\" style=\"opacity: 1; stroke-width: 0px; fill: rgb(255, 151, 255); fill-opacity: 1;\"/><path class=\"point\" transform=\"translate(388.26,228.11)\" d=\"M3,0A3,3 0 1,1 0,-3A3,3 0 0,1 3,0Z\" style=\"opacity: 1; stroke-width: 0px; fill: rgb(255, 151, 255); fill-opacity: 1;\"/><path class=\"point\" transform=\"translate(389.21,222.76)\" d=\"M3,0A3,3 0 1,1 0,-3A3,3 0 0,1 3,0Z\" style=\"opacity: 1; stroke-width: 0px; fill: rgb(255, 151, 255); fill-opacity: 1;\"/><path class=\"point\" transform=\"translate(387.74,222.76)\" d=\"M3,0A3,3 0 1,1 0,-3A3,3 0 0,1 3,0Z\" style=\"opacity: 1; stroke-width: 0px; fill: rgb(255, 151, 255); fill-opacity: 1;\"/><path class=\"point\" transform=\"translate(388.33,222.76)\" d=\"M3,0A3,3 0 1,1 0,-3A3,3 0 0,1 3,0Z\" style=\"opacity: 1; stroke-width: 0px; fill: rgb(255, 151, 255); fill-opacity: 1;\"/><path class=\"point\" transform=\"translate(387.76,203.5)\" d=\"M3,0A3,3 0 1,1 0,-3A3,3 0 0,1 3,0Z\" style=\"opacity: 1; stroke-width: 0px; fill: rgb(255, 151, 255); fill-opacity: 1;\"/><path class=\"point\" transform=\"translate(389.82,201.36)\" d=\"M3,0A3,3 0 1,1 0,-3A3,3 0 0,1 3,0Z\" style=\"opacity: 1; stroke-width: 0px; fill: rgb(255, 151, 255); fill-opacity: 1;\"/><path class=\"point\" transform=\"translate(388.24,201.36)\" d=\"M3,0A3,3 0 1,1 0,-3A3,3 0 0,1 3,0Z\" style=\"opacity: 1; stroke-width: 0px; fill: rgb(255, 151, 255); fill-opacity: 1;\"/><path class=\"point\" transform=\"translate(389.2,201.36)\" d=\"M3,0A3,3 0 1,1 0,-3A3,3 0 0,1 3,0Z\" style=\"opacity: 1; stroke-width: 0px; fill: rgb(255, 151, 255); fill-opacity: 1;\"/><path class=\"point\" transform=\"translate(388.53,201.36)\" d=\"M3,0A3,3 0 1,1 0,-3A3,3 0 0,1 3,0Z\" style=\"opacity: 1; stroke-width: 0px; fill: rgb(255, 151, 255); fill-opacity: 1;\"/><path class=\"point\" transform=\"translate(389.36,201.36)\" d=\"M3,0A3,3 0 1,1 0,-3A3,3 0 0,1 3,0Z\" style=\"opacity: 1; stroke-width: 0px; fill: rgb(255, 151, 255); fill-opacity: 1;\"/><path class=\"point\" transform=\"translate(387.58,201.36)\" d=\"M3,0A3,3 0 1,1 0,-3A3,3 0 0,1 3,0Z\" style=\"opacity: 1; stroke-width: 0px; fill: rgb(255, 151, 255); fill-opacity: 1;\"/><path class=\"point\" transform=\"translate(388.66,169.25)\" d=\"M3,0A3,3 0 1,1 0,-3A3,3 0 0,1 3,0Z\" style=\"opacity: 1; stroke-width: 0px; fill: rgb(255, 151, 255); fill-opacity: 1;\"/><path class=\"point\" transform=\"translate(389.15,169.25)\" d=\"M3,0A3,3 0 1,1 0,-3A3,3 0 0,1 3,0Z\" style=\"opacity: 1; stroke-width: 0px; fill: rgb(255, 151, 255); fill-opacity: 1;\"/><path class=\"point\" transform=\"translate(388.56,169.25)\" d=\"M3,0A3,3 0 1,1 0,-3A3,3 0 0,1 3,0Z\" style=\"opacity: 1; stroke-width: 0px; fill: rgb(255, 151, 255); fill-opacity: 1;\"/><path class=\"point\" transform=\"translate(388.87,163.9)\" d=\"M3,0A3,3 0 1,1 0,-3A3,3 0 0,1 3,0Z\" style=\"opacity: 1; stroke-width: 0px; fill: rgb(255, 151, 255); fill-opacity: 1;\"/><path class=\"point\" transform=\"translate(389.28,158.55)\" d=\"M3,0A3,3 0 1,1 0,-3A3,3 0 0,1 3,0Z\" style=\"opacity: 1; stroke-width: 0px; fill: rgb(255, 151, 255); fill-opacity: 1;\"/><path class=\"point\" transform=\"translate(387.94,158.55)\" d=\"M3,0A3,3 0 1,1 0,-3A3,3 0 0,1 3,0Z\" style=\"opacity: 1; stroke-width: 0px; fill: rgb(255, 151, 255); fill-opacity: 1;\"/><path class=\"point\" transform=\"translate(389.24,147.85)\" d=\"M3,0A3,3 0 1,1 0,-3A3,3 0 0,1 3,0Z\" style=\"opacity: 1; stroke-width: 0px; fill: rgb(255, 151, 255); fill-opacity: 1;\"/><path class=\"point\" transform=\"translate(388.83,137.15)\" d=\"M3,0A3,3 0 1,1 0,-3A3,3 0 0,1 3,0Z\" style=\"opacity: 1; stroke-width: 0px; fill: rgb(255, 151, 255); fill-opacity: 1;\"/><path class=\"point\" transform=\"translate(389.26,126.45)\" d=\"M3,0A3,3 0 1,1 0,-3A3,3 0 0,1 3,0Z\" style=\"opacity: 1; stroke-width: 0px; fill: rgb(255, 151, 255); fill-opacity: 1;\"/><path class=\"point\" transform=\"translate(387.85,117.89)\" d=\"M3,0A3,3 0 1,1 0,-3A3,3 0 0,1 3,0Z\" style=\"opacity: 1; stroke-width: 0px; fill: rgb(255, 151, 255); fill-opacity: 1;\"/><path class=\"point\" transform=\"translate(389.41,115.75)\" d=\"M3,0A3,3 0 1,1 0,-3A3,3 0 0,1 3,0Z\" style=\"opacity: 1; stroke-width: 0px; fill: rgb(255, 151, 255); fill-opacity: 1;\"/><path class=\"point\" transform=\"translate(388.12,115.75)\" d=\"M3,0A3,3 0 1,1 0,-3A3,3 0 0,1 3,0Z\" style=\"opacity: 1; stroke-width: 0px; fill: rgb(255, 151, 255); fill-opacity: 1;\"/><path class=\"point\" transform=\"translate(388.49,115.75)\" d=\"M3,0A3,3 0 1,1 0,-3A3,3 0 0,1 3,0Z\" style=\"opacity: 1; stroke-width: 0px; fill: rgb(255, 151, 255); fill-opacity: 1;\"/><path class=\"point\" transform=\"translate(387.8,105.05)\" d=\"M3,0A3,3 0 1,1 0,-3A3,3 0 0,1 3,0Z\" style=\"opacity: 1; stroke-width: 0px; fill: rgb(255, 151, 255); fill-opacity: 1;\"/><path class=\"point\" transform=\"translate(388.29,94.35)\" d=\"M3,0A3,3 0 1,1 0,-3A3,3 0 0,1 3,0Z\" style=\"opacity: 1; stroke-width: 0px; fill: rgb(255, 151, 255); fill-opacity: 1;\"/><path class=\"point\" transform=\"translate(388.97,72.95)\" d=\"M3,0A3,3 0 1,1 0,-3A3,3 0 0,1 3,0Z\" style=\"opacity: 1; stroke-width: 0px; fill: rgb(255, 151, 255); fill-opacity: 1;\"/><path class=\"point\" transform=\"translate(389.16,72.95)\" d=\"M3,0A3,3 0 1,1 0,-3A3,3 0 0,1 3,0Z\" style=\"opacity: 1; stroke-width: 0px; fill: rgb(255, 151, 255); fill-opacity: 1;\"/></g></g><g class=\"trace boxes\" style=\"opacity: 1;\"><path class=\"box\" d=\"M441.69,297.67H464.91M441.69,318.27H464.91V276.26H441.69ZM453.3,318.27V327.63M453.3,276.26V222.76M447.49,327.63H459.11M447.49,222.76H459.11\" style=\"vector-effect: non-scaling-stroke; stroke-width: 2px; stroke: rgb(254, 203, 82); stroke-opacity: 1; fill: rgb(254, 203, 82); fill-opacity: 0.5;\"/><g class=\"points\"><path class=\"point\" transform=\"translate(437.67,327.63)\" d=\"M3,0A3,3 0 1,1 0,-3A3,3 0 0,1 3,0Z\" style=\"opacity: 1; stroke-width: 0px; fill: rgb(254, 203, 82); fill-opacity: 1;\"/><path class=\"point\" transform=\"translate(433.66,326.56)\" d=\"M3,0A3,3 0 1,1 0,-3A3,3 0 0,1 3,0Z\" style=\"opacity: 1; stroke-width: 0px; fill: rgb(254, 203, 82); fill-opacity: 1;\"/><path class=\"point\" transform=\"translate(438.58,326.56)\" d=\"M3,0A3,3 0 1,1 0,-3A3,3 0 0,1 3,0Z\" style=\"opacity: 1; stroke-width: 0px; fill: rgb(254, 203, 82); fill-opacity: 1;\"/><path class=\"point\" transform=\"translate(432.93,326.56)\" d=\"M3,0A3,3 0 1,1 0,-3A3,3 0 0,1 3,0Z\" style=\"opacity: 1; stroke-width: 0px; fill: rgb(254, 203, 82); fill-opacity: 1;\"/><path class=\"point\" transform=\"translate(435.02,326.56)\" d=\"M3,0A3,3 0 1,1 0,-3A3,3 0 0,1 3,0Z\" style=\"opacity: 1; stroke-width: 0px; fill: rgb(254, 203, 82); fill-opacity: 1;\"/><path class=\"point\" transform=\"translate(437.71,325.49)\" d=\"M3,0A3,3 0 1,1 0,-3A3,3 0 0,1 3,0Z\" style=\"opacity: 1; stroke-width: 0px; fill: rgb(254, 203, 82); fill-opacity: 1;\"/><path class=\"point\" transform=\"translate(435.75,325.49)\" d=\"M3,0A3,3 0 1,1 0,-3A3,3 0 0,1 3,0Z\" style=\"opacity: 1; stroke-width: 0px; fill: rgb(254, 203, 82); fill-opacity: 1;\"/><path class=\"point\" transform=\"translate(436.89,325.49)\" d=\"M3,0A3,3 0 1,1 0,-3A3,3 0 0,1 3,0Z\" style=\"opacity: 1; stroke-width: 0px; fill: rgb(254, 203, 82); fill-opacity: 1;\"/><path class=\"point\" transform=\"translate(434.77,325.49)\" d=\"M3,0A3,3 0 1,1 0,-3A3,3 0 0,1 3,0Z\" style=\"opacity: 1; stroke-width: 0px; fill: rgb(254, 203, 82); fill-opacity: 1;\"/><path class=\"point\" transform=\"translate(433.33,325.49)\" d=\"M3,0A3,3 0 1,1 0,-3A3,3 0 0,1 3,0Z\" style=\"opacity: 1; stroke-width: 0px; fill: rgb(254, 203, 82); fill-opacity: 1;\"/><path class=\"point\" transform=\"translate(436.81,325.49)\" d=\"M3,0A3,3 0 1,1 0,-3A3,3 0 0,1 3,0Z\" style=\"opacity: 1; stroke-width: 0px; fill: rgb(254, 203, 82); fill-opacity: 1;\"/><path class=\"point\" transform=\"translate(434.73,325.49)\" d=\"M3,0A3,3 0 1,1 0,-3A3,3 0 0,1 3,0Z\" style=\"opacity: 1; stroke-width: 0px; fill: rgb(254, 203, 82); fill-opacity: 1;\"/><path class=\"point\" transform=\"translate(438.09,325.49)\" d=\"M3,0A3,3 0 1,1 0,-3A3,3 0 0,1 3,0Z\" style=\"opacity: 1; stroke-width: 0px; fill: rgb(254, 203, 82); fill-opacity: 1;\"/><path class=\"point\" transform=\"translate(432.49,325.49)\" d=\"M3,0A3,3 0 1,1 0,-3A3,3 0 0,1 3,0Z\" style=\"opacity: 1; stroke-width: 0px; fill: rgb(254, 203, 82); fill-opacity: 1;\"/><path class=\"point\" transform=\"translate(433.86,325.49)\" d=\"M3,0A3,3 0 1,1 0,-3A3,3 0 0,1 3,0Z\" style=\"opacity: 1; stroke-width: 0px; fill: rgb(254, 203, 82); fill-opacity: 1;\"/><path class=\"point\" transform=\"translate(438.96,324.42)\" d=\"M3,0A3,3 0 1,1 0,-3A3,3 0 0,1 3,0Z\" style=\"opacity: 1; stroke-width: 0px; fill: rgb(254, 203, 82); fill-opacity: 1;\"/><path class=\"point\" transform=\"translate(435.01,324.42)\" d=\"M3,0A3,3 0 1,1 0,-3A3,3 0 0,1 3,0Z\" style=\"opacity: 1; stroke-width: 0px; fill: rgb(254, 203, 82); fill-opacity: 1;\"/><path class=\"point\" transform=\"translate(432.89,324.42)\" d=\"M3,0A3,3 0 1,1 0,-3A3,3 0 0,1 3,0Z\" style=\"opacity: 1; stroke-width: 0px; fill: rgb(254, 203, 82); fill-opacity: 1;\"/><path class=\"point\" transform=\"translate(434.73,324.42)\" d=\"M3,0A3,3 0 1,1 0,-3A3,3 0 0,1 3,0Z\" style=\"opacity: 1; stroke-width: 0px; fill: rgb(254, 203, 82); fill-opacity: 1;\"/><path class=\"point\" transform=\"translate(435.81,324.42)\" d=\"M3,0A3,3 0 1,1 0,-3A3,3 0 0,1 3,0Z\" style=\"opacity: 1; stroke-width: 0px; fill: rgb(254, 203, 82); fill-opacity: 1;\"/><path class=\"point\" transform=\"translate(437.45,324.42)\" d=\"M3,0A3,3 0 1,1 0,-3A3,3 0 0,1 3,0Z\" style=\"opacity: 1; stroke-width: 0px; fill: rgb(254, 203, 82); fill-opacity: 1;\"/><path class=\"point\" transform=\"translate(436.27,323.35)\" d=\"M3,0A3,3 0 1,1 0,-3A3,3 0 0,1 3,0Z\" style=\"opacity: 1; stroke-width: 0px; fill: rgb(254, 203, 82); fill-opacity: 1;\"/><path class=\"point\" transform=\"translate(434.9,323.35)\" d=\"M3,0A3,3 0 1,1 0,-3A3,3 0 0,1 3,0Z\" style=\"opacity: 1; stroke-width: 0px; fill: rgb(254, 203, 82); fill-opacity: 1;\"/><path class=\"point\" transform=\"translate(432.97,323.35)\" d=\"M3,0A3,3 0 1,1 0,-3A3,3 0 0,1 3,0Z\" style=\"opacity: 1; stroke-width: 0px; fill: rgb(254, 203, 82); fill-opacity: 1;\"/><path class=\"point\" transform=\"translate(435.87,323.35)\" d=\"M3,0A3,3 0 1,1 0,-3A3,3 0 0,1 3,0Z\" style=\"opacity: 1; stroke-width: 0px; fill: rgb(254, 203, 82); fill-opacity: 1;\"/><path class=\"point\" transform=\"translate(434.86,323.35)\" d=\"M3,0A3,3 0 1,1 0,-3A3,3 0 0,1 3,0Z\" style=\"opacity: 1; stroke-width: 0px; fill: rgb(254, 203, 82); fill-opacity: 1;\"/><path class=\"point\" transform=\"translate(437.5,323.35)\" d=\"M3,0A3,3 0 1,1 0,-3A3,3 0 0,1 3,0Z\" style=\"opacity: 1; stroke-width: 0px; fill: rgb(254, 203, 82); fill-opacity: 1;\"/><path class=\"point\" transform=\"translate(435.57,322.28)\" d=\"M3,0A3,3 0 1,1 0,-3A3,3 0 0,1 3,0Z\" style=\"opacity: 1; stroke-width: 0px; fill: rgb(254, 203, 82); fill-opacity: 1;\"/><path class=\"point\" transform=\"translate(433.62,322.28)\" d=\"M3,0A3,3 0 1,1 0,-3A3,3 0 0,1 3,0Z\" style=\"opacity: 1; stroke-width: 0px; fill: rgb(254, 203, 82); fill-opacity: 1;\"/><path class=\"point\" transform=\"translate(432.66,321.21)\" d=\"M3,0A3,3 0 1,1 0,-3A3,3 0 0,1 3,0Z\" style=\"opacity: 1; stroke-width: 0px; fill: rgb(254, 203, 82); fill-opacity: 1;\"/><path class=\"point\" transform=\"translate(437.83,321.21)\" d=\"M3,0A3,3 0 1,1 0,-3A3,3 0 0,1 3,0Z\" style=\"opacity: 1; stroke-width: 0px; fill: rgb(254, 203, 82); fill-opacity: 1;\"/><path class=\"point\" transform=\"translate(432.93,320.14)\" d=\"M3,0A3,3 0 1,1 0,-3A3,3 0 0,1 3,0Z\" style=\"opacity: 1; stroke-width: 0px; fill: rgb(254, 203, 82); fill-opacity: 1;\"/><path class=\"point\" transform=\"translate(437.95,319.07)\" d=\"M3,0A3,3 0 1,1 0,-3A3,3 0 0,1 3,0Z\" style=\"opacity: 1; stroke-width: 0px; fill: rgb(254, 203, 82); fill-opacity: 1;\"/><path class=\"point\" transform=\"translate(436.63,319.07)\" d=\"M3,0A3,3 0 1,1 0,-3A3,3 0 0,1 3,0Z\" style=\"opacity: 1; stroke-width: 0px; fill: rgb(254, 203, 82); fill-opacity: 1;\"/><path class=\"point\" transform=\"translate(434.85,319.07)\" d=\"M3,0A3,3 0 1,1 0,-3A3,3 0 0,1 3,0Z\" style=\"opacity: 1; stroke-width: 0px; fill: rgb(254, 203, 82); fill-opacity: 1;\"/><path class=\"point\" transform=\"translate(433.84,319.07)\" d=\"M3,0A3,3 0 1,1 0,-3A3,3 0 0,1 3,0Z\" style=\"opacity: 1; stroke-width: 0px; fill: rgb(254, 203, 82); fill-opacity: 1;\"/><path class=\"point\" transform=\"translate(437.44,319.07)\" d=\"M3,0A3,3 0 1,1 0,-3A3,3 0 0,1 3,0Z\" style=\"opacity: 1; stroke-width: 0px; fill: rgb(254, 203, 82); fill-opacity: 1;\"/><path class=\"point\" transform=\"translate(435.55,319.07)\" d=\"M3,0A3,3 0 1,1 0,-3A3,3 0 0,1 3,0Z\" style=\"opacity: 1; stroke-width: 0px; fill: rgb(254, 203, 82); fill-opacity: 1;\"/><path class=\"point\" transform=\"translate(438,318)\" d=\"M3,0A3,3 0 1,1 0,-3A3,3 0 0,1 3,0Z\" style=\"opacity: 1; stroke-width: 0px; fill: rgb(254, 203, 82); fill-opacity: 1;\"/><path class=\"point\" transform=\"translate(433.28,316.93)\" d=\"M3,0A3,3 0 1,1 0,-3A3,3 0 0,1 3,0Z\" style=\"opacity: 1; stroke-width: 0px; fill: rgb(254, 203, 82); fill-opacity: 1;\"/><path class=\"point\" transform=\"translate(437.85,316.93)\" d=\"M3,0A3,3 0 1,1 0,-3A3,3 0 0,1 3,0Z\" style=\"opacity: 1; stroke-width: 0px; fill: rgb(254, 203, 82); fill-opacity: 1;\"/><path class=\"point\" transform=\"translate(435.63,315.86)\" d=\"M3,0A3,3 0 1,1 0,-3A3,3 0 0,1 3,0Z\" style=\"opacity: 1; stroke-width: 0px; fill: rgb(254, 203, 82); fill-opacity: 1;\"/><path class=\"point\" transform=\"translate(434.92,313.72)\" d=\"M3,0A3,3 0 1,1 0,-3A3,3 0 0,1 3,0Z\" style=\"opacity: 1; stroke-width: 0px; fill: rgb(254, 203, 82); fill-opacity: 1;\"/><path class=\"point\" transform=\"translate(433.62,313.72)\" d=\"M3,0A3,3 0 1,1 0,-3A3,3 0 0,1 3,0Z\" style=\"opacity: 1; stroke-width: 0px; fill: rgb(254, 203, 82); fill-opacity: 1;\"/><path class=\"point\" transform=\"translate(434.93,313.72)\" d=\"M3,0A3,3 0 1,1 0,-3A3,3 0 0,1 3,0Z\" style=\"opacity: 1; stroke-width: 0px; fill: rgb(254, 203, 82); fill-opacity: 1;\"/><path class=\"point\" transform=\"translate(437.51,313.72)\" d=\"M3,0A3,3 0 1,1 0,-3A3,3 0 0,1 3,0Z\" style=\"opacity: 1; stroke-width: 0px; fill: rgb(254, 203, 82); fill-opacity: 1;\"/><path class=\"point\" transform=\"translate(435.26,313.72)\" d=\"M3,0A3,3 0 1,1 0,-3A3,3 0 0,1 3,0Z\" style=\"opacity: 1; stroke-width: 0px; fill: rgb(254, 203, 82); fill-opacity: 1;\"/><path class=\"point\" transform=\"translate(433.48,310.51)\" d=\"M3,0A3,3 0 1,1 0,-3A3,3 0 0,1 3,0Z\" style=\"opacity: 1; stroke-width: 0px; fill: rgb(254, 203, 82); fill-opacity: 1;\"/><path class=\"point\" transform=\"translate(437.37,308.37)\" d=\"M3,0A3,3 0 1,1 0,-3A3,3 0 0,1 3,0Z\" style=\"opacity: 1; stroke-width: 0px; fill: rgb(254, 203, 82); fill-opacity: 1;\"/><path class=\"point\" transform=\"translate(434.23,308.37)\" d=\"M3,0A3,3 0 1,1 0,-3A3,3 0 0,1 3,0Z\" style=\"opacity: 1; stroke-width: 0px; fill: rgb(254, 203, 82); fill-opacity: 1;\"/><path class=\"point\" transform=\"translate(435.88,308.37)\" d=\"M3,0A3,3 0 1,1 0,-3A3,3 0 0,1 3,0Z\" style=\"opacity: 1; stroke-width: 0px; fill: rgb(254, 203, 82); fill-opacity: 1;\"/><path class=\"point\" transform=\"translate(437.2,308.37)\" d=\"M3,0A3,3 0 1,1 0,-3A3,3 0 0,1 3,0Z\" style=\"opacity: 1; stroke-width: 0px; fill: rgb(254, 203, 82); fill-opacity: 1;\"/><path class=\"point\" transform=\"translate(432.5,308.37)\" d=\"M3,0A3,3 0 1,1 0,-3A3,3 0 0,1 3,0Z\" style=\"opacity: 1; stroke-width: 0px; fill: rgb(254, 203, 82); fill-opacity: 1;\"/><path class=\"point\" transform=\"translate(439.14,308.37)\" d=\"M3,0A3,3 0 1,1 0,-3A3,3 0 0,1 3,0Z\" style=\"opacity: 1; stroke-width: 0px; fill: rgb(254, 203, 82); fill-opacity: 1;\"/><path class=\"point\" transform=\"translate(437.33,308.37)\" d=\"M3,0A3,3 0 1,1 0,-3A3,3 0 0,1 3,0Z\" style=\"opacity: 1; stroke-width: 0px; fill: rgb(254, 203, 82); fill-opacity: 1;\"/><path class=\"point\" transform=\"translate(432.8,308.37)\" d=\"M3,0A3,3 0 1,1 0,-3A3,3 0 0,1 3,0Z\" style=\"opacity: 1; stroke-width: 0px; fill: rgb(254, 203, 82); fill-opacity: 1;\"/><path class=\"point\" transform=\"translate(438.62,308.37)\" d=\"M3,0A3,3 0 1,1 0,-3A3,3 0 0,1 3,0Z\" style=\"opacity: 1; stroke-width: 0px; fill: rgb(254, 203, 82); fill-opacity: 1;\"/><path class=\"point\" transform=\"translate(433.35,308.37)\" d=\"M3,0A3,3 0 1,1 0,-3A3,3 0 0,1 3,0Z\" style=\"opacity: 1; stroke-width: 0px; fill: rgb(254, 203, 82); fill-opacity: 1;\"/><path class=\"point\" transform=\"translate(435.47,308.37)\" d=\"M3,0A3,3 0 1,1 0,-3A3,3 0 0,1 3,0Z\" style=\"opacity: 1; stroke-width: 0px; fill: rgb(254, 203, 82); fill-opacity: 1;\"/><path class=\"point\" transform=\"translate(436.27,308.37)\" d=\"M3,0A3,3 0 1,1 0,-3A3,3 0 0,1 3,0Z\" style=\"opacity: 1; stroke-width: 0px; fill: rgb(254, 203, 82); fill-opacity: 1;\"/><path class=\"point\" transform=\"translate(434.6,308.37)\" d=\"M3,0A3,3 0 1,1 0,-3A3,3 0 0,1 3,0Z\" style=\"opacity: 1; stroke-width: 0px; fill: rgb(254, 203, 82); fill-opacity: 1;\"/><path class=\"point\" transform=\"translate(437.85,304.09)\" d=\"M3,0A3,3 0 1,1 0,-3A3,3 0 0,1 3,0Z\" style=\"opacity: 1; stroke-width: 0px; fill: rgb(254, 203, 82); fill-opacity: 1;\"/><path class=\"point\" transform=\"translate(433.95,304.09)\" d=\"M3,0A3,3 0 1,1 0,-3A3,3 0 0,1 3,0Z\" style=\"opacity: 1; stroke-width: 0px; fill: rgb(254, 203, 82); fill-opacity: 1;\"/><path class=\"point\" transform=\"translate(437.05,304.09)\" d=\"M3,0A3,3 0 1,1 0,-3A3,3 0 0,1 3,0Z\" style=\"opacity: 1; stroke-width: 0px; fill: rgb(254, 203, 82); fill-opacity: 1;\"/><path class=\"point\" transform=\"translate(437.94,303.02)\" d=\"M3,0A3,3 0 1,1 0,-3A3,3 0 0,1 3,0Z\" style=\"opacity: 1; stroke-width: 0px; fill: rgb(254, 203, 82); fill-opacity: 1;\"/><path class=\"point\" transform=\"translate(433.43,303.02)\" d=\"M3,0A3,3 0 1,1 0,-3A3,3 0 0,1 3,0Z\" style=\"opacity: 1; stroke-width: 0px; fill: rgb(254, 203, 82); fill-opacity: 1;\"/><path class=\"point\" transform=\"translate(434.33,303.02)\" d=\"M3,0A3,3 0 1,1 0,-3A3,3 0 0,1 3,0Z\" style=\"opacity: 1; stroke-width: 0px; fill: rgb(254, 203, 82); fill-opacity: 1;\"/><path class=\"point\" transform=\"translate(437.39,303.02)\" d=\"M3,0A3,3 0 1,1 0,-3A3,3 0 0,1 3,0Z\" style=\"opacity: 1; stroke-width: 0px; fill: rgb(254, 203, 82); fill-opacity: 1;\"/><path class=\"point\" transform=\"translate(435.15,303.02)\" d=\"M3,0A3,3 0 1,1 0,-3A3,3 0 0,1 3,0Z\" style=\"opacity: 1; stroke-width: 0px; fill: rgb(254, 203, 82); fill-opacity: 1;\"/><path class=\"point\" transform=\"translate(436.13,301.95)\" d=\"M3,0A3,3 0 1,1 0,-3A3,3 0 0,1 3,0Z\" style=\"opacity: 1; stroke-width: 0px; fill: rgb(254, 203, 82); fill-opacity: 1;\"/><path class=\"point\" transform=\"translate(438.51,300.88)\" d=\"M3,0A3,3 0 1,1 0,-3A3,3 0 0,1 3,0Z\" style=\"opacity: 1; stroke-width: 0px; fill: rgb(254, 203, 82); fill-opacity: 1;\"/><path class=\"point\" transform=\"translate(433.49,297.67)\" d=\"M3,0A3,3 0 1,1 0,-3A3,3 0 0,1 3,0Z\" style=\"opacity: 1; stroke-width: 0px; fill: rgb(254, 203, 82); fill-opacity: 1;\"/><path class=\"point\" transform=\"translate(438.96,297.67)\" d=\"M3,0A3,3 0 1,1 0,-3A3,3 0 0,1 3,0Z\" style=\"opacity: 1; stroke-width: 0px; fill: rgb(254, 203, 82); fill-opacity: 1;\"/><path class=\"point\" transform=\"translate(433.58,297.67)\" d=\"M3,0A3,3 0 1,1 0,-3A3,3 0 0,1 3,0Z\" style=\"opacity: 1; stroke-width: 0px; fill: rgb(254, 203, 82); fill-opacity: 1;\"/><path class=\"point\" transform=\"translate(439.29,297.67)\" d=\"M3,0A3,3 0 1,1 0,-3A3,3 0 0,1 3,0Z\" style=\"opacity: 1; stroke-width: 0px; fill: rgb(254, 203, 82); fill-opacity: 1;\"/><path class=\"point\" transform=\"translate(434.19,297.67)\" d=\"M3,0A3,3 0 1,1 0,-3A3,3 0 0,1 3,0Z\" style=\"opacity: 1; stroke-width: 0px; fill: rgb(254, 203, 82); fill-opacity: 1;\"/><path class=\"point\" transform=\"translate(438.5,297.67)\" d=\"M3,0A3,3 0 1,1 0,-3A3,3 0 0,1 3,0Z\" style=\"opacity: 1; stroke-width: 0px; fill: rgb(254, 203, 82); fill-opacity: 1;\"/><path class=\"point\" transform=\"translate(436.87,297.67)\" d=\"M3,0A3,3 0 1,1 0,-3A3,3 0 0,1 3,0Z\" style=\"opacity: 1; stroke-width: 0px; fill: rgb(254, 203, 82); fill-opacity: 1;\"/><path class=\"point\" transform=\"translate(435.41,297.67)\" d=\"M3,0A3,3 0 1,1 0,-3A3,3 0 0,1 3,0Z\" style=\"opacity: 1; stroke-width: 0px; fill: rgb(254, 203, 82); fill-opacity: 1;\"/><path class=\"point\" transform=\"translate(432.6,297.67)\" d=\"M3,0A3,3 0 1,1 0,-3A3,3 0 0,1 3,0Z\" style=\"opacity: 1; stroke-width: 0px; fill: rgb(254, 203, 82); fill-opacity: 1;\"/><path class=\"point\" transform=\"translate(435.31,297.67)\" d=\"M3,0A3,3 0 1,1 0,-3A3,3 0 0,1 3,0Z\" style=\"opacity: 1; stroke-width: 0px; fill: rgb(254, 203, 82); fill-opacity: 1;\"/><path class=\"point\" transform=\"translate(433.31,297.67)\" d=\"M3,0A3,3 0 1,1 0,-3A3,3 0 0,1 3,0Z\" style=\"opacity: 1; stroke-width: 0px; fill: rgb(254, 203, 82); fill-opacity: 1;\"/><path class=\"point\" transform=\"translate(434.18,296.6)\" d=\"M3,0A3,3 0 1,1 0,-3A3,3 0 0,1 3,0Z\" style=\"opacity: 1; stroke-width: 0px; fill: rgb(254, 203, 82); fill-opacity: 1;\"/><path class=\"point\" transform=\"translate(433.46,295.53)\" d=\"M3,0A3,3 0 1,1 0,-3A3,3 0 0,1 3,0Z\" style=\"opacity: 1; stroke-width: 0px; fill: rgb(254, 203, 82); fill-opacity: 1;\"/><path class=\"point\" transform=\"translate(432.82,295.53)\" d=\"M3,0A3,3 0 1,1 0,-3A3,3 0 0,1 3,0Z\" style=\"opacity: 1; stroke-width: 0px; fill: rgb(254, 203, 82); fill-opacity: 1;\"/><path class=\"point\" transform=\"translate(434.5,293.39)\" d=\"M3,0A3,3 0 1,1 0,-3A3,3 0 0,1 3,0Z\" style=\"opacity: 1; stroke-width: 0px; fill: rgb(254, 203, 82); fill-opacity: 1;\"/><path class=\"point\" transform=\"translate(436.7,292.32)\" d=\"M3,0A3,3 0 1,1 0,-3A3,3 0 0,1 3,0Z\" style=\"opacity: 1; stroke-width: 0px; fill: rgb(254, 203, 82); fill-opacity: 1;\"/><path class=\"point\" transform=\"translate(433.9,292.32)\" d=\"M3,0A3,3 0 1,1 0,-3A3,3 0 0,1 3,0Z\" style=\"opacity: 1; stroke-width: 0px; fill: rgb(254, 203, 82); fill-opacity: 1;\"/><path class=\"point\" transform=\"translate(436.43,292.32)\" d=\"M3,0A3,3 0 1,1 0,-3A3,3 0 0,1 3,0Z\" style=\"opacity: 1; stroke-width: 0px; fill: rgb(254, 203, 82); fill-opacity: 1;\"/><path class=\"point\" transform=\"translate(437.06,292.32)\" d=\"M3,0A3,3 0 1,1 0,-3A3,3 0 0,1 3,0Z\" style=\"opacity: 1; stroke-width: 0px; fill: rgb(254, 203, 82); fill-opacity: 1;\"/><path class=\"point\" transform=\"translate(436.22,290.18)\" d=\"M3,0A3,3 0 1,1 0,-3A3,3 0 0,1 3,0Z\" style=\"opacity: 1; stroke-width: 0px; fill: rgb(254, 203, 82); fill-opacity: 1;\"/><path class=\"point\" transform=\"translate(434.07,289.11)\" d=\"M3,0A3,3 0 1,1 0,-3A3,3 0 0,1 3,0Z\" style=\"opacity: 1; stroke-width: 0px; fill: rgb(254, 203, 82); fill-opacity: 1;\"/><path class=\"point\" transform=\"translate(434.83,286.97)\" d=\"M3,0A3,3 0 1,1 0,-3A3,3 0 0,1 3,0Z\" style=\"opacity: 1; stroke-width: 0px; fill: rgb(254, 203, 82); fill-opacity: 1;\"/><path class=\"point\" transform=\"translate(438.86,286.97)\" d=\"M3,0A3,3 0 1,1 0,-3A3,3 0 0,1 3,0Z\" style=\"opacity: 1; stroke-width: 0px; fill: rgb(254, 203, 82); fill-opacity: 1;\"/><path class=\"point\" transform=\"translate(434.61,286.97)\" d=\"M3,0A3,3 0 1,1 0,-3A3,3 0 0,1 3,0Z\" style=\"opacity: 1; stroke-width: 0px; fill: rgb(254, 203, 82); fill-opacity: 1;\"/><path class=\"point\" transform=\"translate(436.16,286.97)\" d=\"M3,0A3,3 0 1,1 0,-3A3,3 0 0,1 3,0Z\" style=\"opacity: 1; stroke-width: 0px; fill: rgb(254, 203, 82); fill-opacity: 1;\"/><path class=\"point\" transform=\"translate(437.51,286.97)\" d=\"M3,0A3,3 0 1,1 0,-3A3,3 0 0,1 3,0Z\" style=\"opacity: 1; stroke-width: 0px; fill: rgb(254, 203, 82); fill-opacity: 1;\"/><path class=\"point\" transform=\"translate(433.32,286.97)\" d=\"M3,0A3,3 0 1,1 0,-3A3,3 0 0,1 3,0Z\" style=\"opacity: 1; stroke-width: 0px; fill: rgb(254, 203, 82); fill-opacity: 1;\"/><path class=\"point\" transform=\"translate(435.46,286.97)\" d=\"M3,0A3,3 0 1,1 0,-3A3,3 0 0,1 3,0Z\" style=\"opacity: 1; stroke-width: 0px; fill: rgb(254, 203, 82); fill-opacity: 1;\"/><path class=\"point\" transform=\"translate(438.61,283.76)\" d=\"M3,0A3,3 0 1,1 0,-3A3,3 0 0,1 3,0Z\" style=\"opacity: 1; stroke-width: 0px; fill: rgb(254, 203, 82); fill-opacity: 1;\"/><path class=\"point\" transform=\"translate(433.13,281.62)\" d=\"M3,0A3,3 0 1,1 0,-3A3,3 0 0,1 3,0Z\" style=\"opacity: 1; stroke-width: 0px; fill: rgb(254, 203, 82); fill-opacity: 1;\"/><path class=\"point\" transform=\"translate(435.38,281.62)\" d=\"M3,0A3,3 0 1,1 0,-3A3,3 0 0,1 3,0Z\" style=\"opacity: 1; stroke-width: 0px; fill: rgb(254, 203, 82); fill-opacity: 1;\"/><path class=\"point\" transform=\"translate(436.95,281.62)\" d=\"M3,0A3,3 0 1,1 0,-3A3,3 0 0,1 3,0Z\" style=\"opacity: 1; stroke-width: 0px; fill: rgb(254, 203, 82); fill-opacity: 1;\"/><path class=\"point\" transform=\"translate(437.51,281.62)\" d=\"M3,0A3,3 0 1,1 0,-3A3,3 0 0,1 3,0Z\" style=\"opacity: 1; stroke-width: 0px; fill: rgb(254, 203, 82); fill-opacity: 1;\"/><path class=\"point\" transform=\"translate(438.37,281.62)\" d=\"M3,0A3,3 0 1,1 0,-3A3,3 0 0,1 3,0Z\" style=\"opacity: 1; stroke-width: 0px; fill: rgb(254, 203, 82); fill-opacity: 1;\"/><path class=\"point\" transform=\"translate(433.16,281.62)\" d=\"M3,0A3,3 0 1,1 0,-3A3,3 0 0,1 3,0Z\" style=\"opacity: 1; stroke-width: 0px; fill: rgb(254, 203, 82); fill-opacity: 1;\"/><path class=\"point\" transform=\"translate(436.6,278.41)\" d=\"M3,0A3,3 0 1,1 0,-3A3,3 0 0,1 3,0Z\" style=\"opacity: 1; stroke-width: 0px; fill: rgb(254, 203, 82); fill-opacity: 1;\"/><path class=\"point\" transform=\"translate(432.92,276.26)\" d=\"M3,0A3,3 0 1,1 0,-3A3,3 0 0,1 3,0Z\" style=\"opacity: 1; stroke-width: 0px; fill: rgb(254, 203, 82); fill-opacity: 1;\"/><path class=\"point\" transform=\"translate(438.69,276.26)\" d=\"M3,0A3,3 0 1,1 0,-3A3,3 0 0,1 3,0Z\" style=\"opacity: 1; stroke-width: 0px; fill: rgb(254, 203, 82); fill-opacity: 1;\"/><path class=\"point\" transform=\"translate(436.41,276.26)\" d=\"M3,0A3,3 0 1,1 0,-3A3,3 0 0,1 3,0Z\" style=\"opacity: 1; stroke-width: 0px; fill: rgb(254, 203, 82); fill-opacity: 1;\"/><path class=\"point\" transform=\"translate(435.02,276.26)\" d=\"M3,0A3,3 0 1,1 0,-3A3,3 0 0,1 3,0Z\" style=\"opacity: 1; stroke-width: 0px; fill: rgb(254, 203, 82); fill-opacity: 1;\"/><path class=\"point\" transform=\"translate(437.98,276.26)\" d=\"M3,0A3,3 0 1,1 0,-3A3,3 0 0,1 3,0Z\" style=\"opacity: 1; stroke-width: 0px; fill: rgb(254, 203, 82); fill-opacity: 1;\"/><path class=\"point\" transform=\"translate(434.31,276.26)\" d=\"M3,0A3,3 0 1,1 0,-3A3,3 0 0,1 3,0Z\" style=\"opacity: 1; stroke-width: 0px; fill: rgb(254, 203, 82); fill-opacity: 1;\"/><path class=\"point\" transform=\"translate(434.9,276.26)\" d=\"M3,0A3,3 0 1,1 0,-3A3,3 0 0,1 3,0Z\" style=\"opacity: 1; stroke-width: 0px; fill: rgb(254, 203, 82); fill-opacity: 1;\"/><path class=\"point\" transform=\"translate(435.59,276.26)\" d=\"M3,0A3,3 0 1,1 0,-3A3,3 0 0,1 3,0Z\" style=\"opacity: 1; stroke-width: 0px; fill: rgb(254, 203, 82); fill-opacity: 1;\"/><path class=\"point\" transform=\"translate(436.87,276.26)\" d=\"M3,0A3,3 0 1,1 0,-3A3,3 0 0,1 3,0Z\" style=\"opacity: 1; stroke-width: 0px; fill: rgb(254, 203, 82); fill-opacity: 1;\"/><path class=\"point\" transform=\"translate(434.92,268.77)\" d=\"M3,0A3,3 0 1,1 0,-3A3,3 0 0,1 3,0Z\" style=\"opacity: 1; stroke-width: 0px; fill: rgb(254, 203, 82); fill-opacity: 1;\"/><path class=\"point\" transform=\"translate(435.7,267.7)\" d=\"M3,0A3,3 0 1,1 0,-3A3,3 0 0,1 3,0Z\" style=\"opacity: 1; stroke-width: 0px; fill: rgb(254, 203, 82); fill-opacity: 1;\"/><path class=\"point\" transform=\"translate(435,267.7)\" d=\"M3,0A3,3 0 1,1 0,-3A3,3 0 0,1 3,0Z\" style=\"opacity: 1; stroke-width: 0px; fill: rgb(254, 203, 82); fill-opacity: 1;\"/><path class=\"point\" transform=\"translate(437.52,265.56)\" d=\"M3,0A3,3 0 1,1 0,-3A3,3 0 0,1 3,0Z\" style=\"opacity: 1; stroke-width: 0px; fill: rgb(254, 203, 82); fill-opacity: 1;\"/><path class=\"point\" transform=\"translate(435.46,265.56)\" d=\"M3,0A3,3 0 1,1 0,-3A3,3 0 0,1 3,0Z\" style=\"opacity: 1; stroke-width: 0px; fill: rgb(254, 203, 82); fill-opacity: 1;\"/><path class=\"point\" transform=\"translate(437.88,265.56)\" d=\"M3,0A3,3 0 1,1 0,-3A3,3 0 0,1 3,0Z\" style=\"opacity: 1; stroke-width: 0px; fill: rgb(254, 203, 82); fill-opacity: 1;\"/><path class=\"point\" transform=\"translate(436,265.56)\" d=\"M3,0A3,3 0 1,1 0,-3A3,3 0 0,1 3,0Z\" style=\"opacity: 1; stroke-width: 0px; fill: rgb(254, 203, 82); fill-opacity: 1;\"/><path class=\"point\" transform=\"translate(437.98,265.56)\" d=\"M3,0A3,3 0 1,1 0,-3A3,3 0 0,1 3,0Z\" style=\"opacity: 1; stroke-width: 0px; fill: rgb(254, 203, 82); fill-opacity: 1;\"/><path class=\"point\" transform=\"translate(433.64,265.56)\" d=\"M3,0A3,3 0 1,1 0,-3A3,3 0 0,1 3,0Z\" style=\"opacity: 1; stroke-width: 0px; fill: rgb(254, 203, 82); fill-opacity: 1;\"/><path class=\"point\" transform=\"translate(436.27,265.56)\" d=\"M3,0A3,3 0 1,1 0,-3A3,3 0 0,1 3,0Z\" style=\"opacity: 1; stroke-width: 0px; fill: rgb(254, 203, 82); fill-opacity: 1;\"/><path class=\"point\" transform=\"translate(437.52,265.56)\" d=\"M3,0A3,3 0 1,1 0,-3A3,3 0 0,1 3,0Z\" style=\"opacity: 1; stroke-width: 0px; fill: rgb(254, 203, 82); fill-opacity: 1;\"/><path class=\"point\" transform=\"translate(435.98,265.56)\" d=\"M3,0A3,3 0 1,1 0,-3A3,3 0 0,1 3,0Z\" style=\"opacity: 1; stroke-width: 0px; fill: rgb(254, 203, 82); fill-opacity: 1;\"/><path class=\"point\" transform=\"translate(436.45,265.56)\" d=\"M3,0A3,3 0 1,1 0,-3A3,3 0 0,1 3,0Z\" style=\"opacity: 1; stroke-width: 0px; fill: rgb(254, 203, 82); fill-opacity: 1;\"/><path class=\"point\" transform=\"translate(437.1,265.56)\" d=\"M3,0A3,3 0 1,1 0,-3A3,3 0 0,1 3,0Z\" style=\"opacity: 1; stroke-width: 0px; fill: rgb(254, 203, 82); fill-opacity: 1;\"/><path class=\"point\" transform=\"translate(435.32,260.21)\" d=\"M3,0A3,3 0 1,1 0,-3A3,3 0 0,1 3,0Z\" style=\"opacity: 1; stroke-width: 0px; fill: rgb(254, 203, 82); fill-opacity: 1;\"/><path class=\"point\" transform=\"translate(436.64,260.21)\" d=\"M3,0A3,3 0 1,1 0,-3A3,3 0 0,1 3,0Z\" style=\"opacity: 1; stroke-width: 0px; fill: rgb(254, 203, 82); fill-opacity: 1;\"/><path class=\"point\" transform=\"translate(436.2,244.16)\" d=\"M3,0A3,3 0 1,1 0,-3A3,3 0 0,1 3,0Z\" style=\"opacity: 1; stroke-width: 0px; fill: rgb(254, 203, 82); fill-opacity: 1;\"/><path class=\"point\" transform=\"translate(436.59,244.16)\" d=\"M3,0A3,3 0 1,1 0,-3A3,3 0 0,1 3,0Z\" style=\"opacity: 1; stroke-width: 0px; fill: rgb(254, 203, 82); fill-opacity: 1;\"/><path class=\"point\" transform=\"translate(435.28,244.16)\" d=\"M3,0A3,3 0 1,1 0,-3A3,3 0 0,1 3,0Z\" style=\"opacity: 1; stroke-width: 0px; fill: rgb(254, 203, 82); fill-opacity: 1;\"/><path class=\"point\" transform=\"translate(436.75,235.6)\" d=\"M3,0A3,3 0 1,1 0,-3A3,3 0 0,1 3,0Z\" style=\"opacity: 1; stroke-width: 0px; fill: rgb(254, 203, 82); fill-opacity: 1;\"/><path class=\"point\" transform=\"translate(435.57,233.46)\" d=\"M3,0A3,3 0 1,1 0,-3A3,3 0 0,1 3,0Z\" style=\"opacity: 1; stroke-width: 0px; fill: rgb(254, 203, 82); fill-opacity: 1;\"/><path class=\"point\" transform=\"translate(435.89,228.11)\" d=\"M3,0A3,3 0 1,1 0,-3A3,3 0 0,1 3,0Z\" style=\"opacity: 1; stroke-width: 0px; fill: rgb(254, 203, 82); fill-opacity: 1;\"/><path class=\"point\" transform=\"translate(435.34,222.76)\" d=\"M3,0A3,3 0 1,1 0,-3A3,3 0 0,1 3,0Z\" style=\"opacity: 1; stroke-width: 0px; fill: rgb(254, 203, 82); fill-opacity: 1;\"/><path class=\"point\" transform=\"translate(435.75,222.76)\" d=\"M3,0A3,3 0 1,1 0,-3A3,3 0 0,1 3,0Z\" style=\"opacity: 1; stroke-width: 0px; fill: rgb(254, 203, 82); fill-opacity: 1;\"/><path class=\"point\" transform=\"translate(436.28,201.36)\" d=\"M3,0A3,3 0 1,1 0,-3A3,3 0 0,1 3,0Z\" style=\"opacity: 1; stroke-width: 0px; fill: rgb(254, 203, 82); fill-opacity: 1;\"/><path class=\"point\" transform=\"translate(436.49,201.36)\" d=\"M3,0A3,3 0 1,1 0,-3A3,3 0 0,1 3,0Z\" style=\"opacity: 1; stroke-width: 0px; fill: rgb(254, 203, 82); fill-opacity: 1;\"/><path class=\"point\" transform=\"translate(434.99,201.36)\" d=\"M3,0A3,3 0 1,1 0,-3A3,3 0 0,1 3,0Z\" style=\"opacity: 1; stroke-width: 0px; fill: rgb(254, 203, 82); fill-opacity: 1;\"/><path class=\"point\" transform=\"translate(436.28,179.96)\" d=\"M3,0A3,3 0 1,1 0,-3A3,3 0 0,1 3,0Z\" style=\"opacity: 1; stroke-width: 0px; fill: rgb(254, 203, 82); fill-opacity: 1;\"/><path class=\"point\" transform=\"translate(436.42,169.25)\" d=\"M3,0A3,3 0 1,1 0,-3A3,3 0 0,1 3,0Z\" style=\"opacity: 1; stroke-width: 0px; fill: rgb(254, 203, 82); fill-opacity: 1;\"/><path class=\"point\" transform=\"translate(435.48,169.25)\" d=\"M3,0A3,3 0 1,1 0,-3A3,3 0 0,1 3,0Z\" style=\"opacity: 1; stroke-width: 0px; fill: rgb(254, 203, 82); fill-opacity: 1;\"/><path class=\"point\" transform=\"translate(436.11,169.25)\" d=\"M3,0A3,3 0 1,1 0,-3A3,3 0 0,1 3,0Z\" style=\"opacity: 1; stroke-width: 0px; fill: rgb(254, 203, 82); fill-opacity: 1;\"/><path class=\"point\" transform=\"translate(435.88,169.25)\" d=\"M3,0A3,3 0 1,1 0,-3A3,3 0 0,1 3,0Z\" style=\"opacity: 1; stroke-width: 0px; fill: rgb(254, 203, 82); fill-opacity: 1;\"/><path class=\"point\" transform=\"translate(435.38,169.25)\" d=\"M3,0A3,3 0 1,1 0,-3A3,3 0 0,1 3,0Z\" style=\"opacity: 1; stroke-width: 0px; fill: rgb(254, 203, 82); fill-opacity: 1;\"/><path class=\"point\" transform=\"translate(436.27,83.65)\" d=\"M3,0A3,3 0 1,1 0,-3A3,3 0 0,1 3,0Z\" style=\"opacity: 1; stroke-width: 0px; fill: rgb(254, 203, 82); fill-opacity: 1;\"/><path class=\"point\" transform=\"translate(436.07,76.16)\" d=\"M3,0A3,3 0 1,1 0,-3A3,3 0 0,1 3,0Z\" style=\"opacity: 1; stroke-width: 0px; fill: rgb(254, 203, 82); fill-opacity: 1;\"/><path class=\"point\" transform=\"translate(435.79,62.24)\" d=\"M3,0A3,3 0 1,1 0,-3A3,3 0 0,1 3,0Z\" style=\"opacity: 1; stroke-width: 0px; fill: rgb(254, 203, 82); fill-opacity: 1;\"/><path class=\"point\" transform=\"translate(435.7,62.24)\" d=\"M3,0A3,3 0 1,1 0,-3A3,3 0 0,1 3,0Z\" style=\"opacity: 1; stroke-width: 0px; fill: rgb(254, 203, 82); fill-opacity: 1;\"/></g></g></g></g><g class=\"overplot\"/><path class=\"xlines-above crisp\" d=\"M0,0\" style=\"fill: none;\"/><path class=\"ylines-above crisp\" d=\"M0,0\" style=\"fill: none;\"/><g class=\"overlines-above\"/><g class=\"xaxislayer-above\"><g class=\"xtick\"><text text-anchor=\"start\" x=\"0\" y=\"419\" transform=\"translate(106.7,0) rotate(15,0,413)\" style=\"font-family: 'Open Sans', verdana, arial, sans-serif; font-size: 12px; fill: rgb(42, 63, 95); fill-opacity: 1; white-space: pre; opacity: 1;\">варшавское шоссе</text></g><g class=\"xtick\"><text text-anchor=\"start\" x=\"0\" y=\"419\" transform=\"translate(154.1,0) rotate(15,0,413)\" style=\"font-family: 'Open Sans', verdana, arial, sans-serif; font-size: 12px; fill: rgb(42, 63, 95); fill-opacity: 1; white-space: pre; opacity: 1;\">проспект вернадского</text></g><g class=\"xtick\"><text text-anchor=\"start\" x=\"0\" y=\"419\" transform=\"translate(201.5,0) rotate(15,0,413)\" style=\"font-family: 'Open Sans', verdana, arial, sans-serif; font-size: 12px; fill: rgb(42, 63, 95); fill-opacity: 1; white-space: pre; opacity: 1;\">кутузовский проспект</text></g><g class=\"xtick\"><text text-anchor=\"start\" x=\"0\" y=\"419\" transform=\"translate(248.9,0) rotate(15,0,413)\" style=\"font-family: 'Open Sans', verdana, arial, sans-serif; font-size: 12px; fill: rgb(42, 63, 95); fill-opacity: 1; white-space: pre; opacity: 1;\">каширское шоссе</text></g><g class=\"xtick\"><text text-anchor=\"start\" x=\"0\" y=\"419\" transform=\"translate(296.3,0) rotate(15,0,413)\" style=\"font-family: 'Open Sans', verdana, arial, sans-serif; font-size: 12px; fill: rgb(42, 63, 95); fill-opacity: 1; white-space: pre; opacity: 1;\">кировоградская улица</text></g><g class=\"xtick\"><text text-anchor=\"start\" x=\"0\" y=\"419\" transform=\"translate(343.7,0) rotate(15,0,413)\" style=\"font-family: 'Open Sans', verdana, arial, sans-serif; font-size: 12px; fill: rgb(42, 63, 95); fill-opacity: 1; white-space: pre; opacity: 1;\">ленинградский проспект</text></g><g class=\"xtick\"><text text-anchor=\"start\" x=\"0\" y=\"419\" transform=\"translate(391.1,0) rotate(15,0,413)\" style=\"font-family: 'Open Sans', verdana, arial, sans-serif; font-size: 12px; fill: rgb(42, 63, 95); fill-opacity: 1; white-space: pre; opacity: 1;\">ленинский проспект</text></g><g class=\"xtick\"><text text-anchor=\"start\" x=\"0\" y=\"419\" transform=\"translate(438.5,0) rotate(15,0,413)\" style=\"font-family: 'Open Sans', verdana, arial, sans-serif; font-size: 12px; fill: rgb(42, 63, 95); fill-opacity: 1; white-space: pre; opacity: 1;\">проспект мира</text></g><g class=\"xtick\"><text text-anchor=\"start\" x=\"0\" y=\"419\" transform=\"translate(485.9,0) rotate(15,0,413)\" style=\"font-family: 'Open Sans', verdana, arial, sans-serif; font-size: 12px; fill: rgb(42, 63, 95); fill-opacity: 1; white-space: pre; opacity: 1;\">профсоюзная улица</text></g><g class=\"xtick\"><text text-anchor=\"start\" x=\"0\" y=\"419\" transform=\"translate(533.3,0) rotate(15,0,413)\" style=\"font-family: 'Open Sans', verdana, arial, sans-serif; font-size: 12px; fill: rgb(42, 63, 95); fill-opacity: 1; white-space: pre; opacity: 1;\">пресненская набережная</text></g></g><g class=\"yaxislayer-above\"><g class=\"ytick\"><text text-anchor=\"end\" x=\"79\" y=\"4.199999999999999\" transform=\"translate(0,389.77)\" style=\"font-family: 'Open Sans', verdana, arial, sans-serif; font-size: 12px; fill: rgb(42, 63, 95); fill-opacity: 1; white-space: pre; opacity: 1;\">0</text></g><g class=\"ytick\"><text text-anchor=\"end\" x=\"79\" y=\"4.199999999999999\" style=\"font-family: 'Open Sans', verdana, arial, sans-serif; font-size: 12px; fill: rgb(42, 63, 95); fill-opacity: 1; white-space: pre; opacity: 1;\" transform=\"translate(0,336.26)\">50</text></g><g class=\"ytick\"><text text-anchor=\"end\" x=\"79\" y=\"4.199999999999999\" style=\"font-family: 'Open Sans', verdana, arial, sans-serif; font-size: 12px; fill: rgb(42, 63, 95); fill-opacity: 1; white-space: pre; opacity: 1;\" transform=\"translate(0,282.76)\">100</text></g><g class=\"ytick\"><text text-anchor=\"end\" x=\"79\" y=\"4.199999999999999\" style=\"font-family: 'Open Sans', verdana, arial, sans-serif; font-size: 12px; fill: rgb(42, 63, 95); fill-opacity: 1; white-space: pre; opacity: 1;\" transform=\"translate(0,229.25)\">150</text></g><g class=\"ytick\"><text text-anchor=\"end\" x=\"79\" y=\"4.199999999999999\" style=\"font-family: 'Open Sans', verdana, arial, sans-serif; font-size: 12px; fill: rgb(42, 63, 95); fill-opacity: 1; white-space: pre; opacity: 1;\" transform=\"translate(0,175.75)\">200</text></g><g class=\"ytick\"><text text-anchor=\"end\" x=\"79\" y=\"4.199999999999999\" style=\"font-family: 'Open Sans', verdana, arial, sans-serif; font-size: 12px; fill: rgb(42, 63, 95); fill-opacity: 1; white-space: pre; opacity: 1;\" transform=\"translate(0,122.24000000000001)\">250</text></g><g class=\"ytick\"><text text-anchor=\"end\" x=\"79\" y=\"4.199999999999999\" style=\"font-family: 'Open Sans', verdana, arial, sans-serif; font-size: 12px; fill: rgb(42, 63, 95); fill-opacity: 1; white-space: pre; opacity: 1;\" transform=\"translate(0,68.74)\">300</text></g></g><g class=\"overaxes-above\"/></g></g><g class=\"polarlayer\"/><g class=\"smithlayer\"/><g class=\"ternarylayer\"/><g class=\"geolayer\"/><g class=\"funnelarealayer\"/><g class=\"pielayer\"/><g class=\"iciclelayer\"/><g class=\"treemaplayer\"/><g class=\"sunburstlayer\"/><g class=\"glimages\"/><defs id=\"topdefs-99d857\"><g class=\"clips\"/></defs><g class=\"layer-above\"><g class=\"imagelayer\"/><g class=\"shapelayer\"/></g><g class=\"infolayer\"><g class=\"g-gtitle\"><text class=\"gtitle\" x=\"35\" y=\"30\" text-anchor=\"start\" dy=\"0em\" style=\"font-family: 'Open Sans', verdana, arial, sans-serif; font-size: 17px; fill: rgb(42, 63, 95); opacity: 1; font-weight: normal; white-space: pre;\">Соотношение посадочных мест для топ-10 улиц</text></g><g class=\"g-xtitle\"><text class=\"xtitle\" x=\"318.5\" y=\"487.6173828125\" text-anchor=\"middle\" style=\"font-family: 'Open Sans', verdana, arial, sans-serif; font-size: 14px; fill: rgb(42, 63, 95); opacity: 1; font-weight: normal; white-space: pre;\">Улица</text></g><g class=\"g-ytitle\"><text class=\"ytitle\" transform=\"rotate(-90,31.309375000000003,233)\" x=\"31.309375000000003\" y=\"233\" text-anchor=\"middle\" style=\"font-family: 'Open Sans', verdana, arial, sans-serif; font-size: 14px; fill: rgb(42, 63, 95); opacity: 1; font-weight: normal; white-space: pre;\">Количество посадочных мест</text></g></g></svg>"
      ]
     },
     "metadata": {},
     "output_type": "display_data"
    }
   ],
   "source": [
    "fig = px.box(rest_data_from_top_10_clean, \n",
    "             x=\"street\", \n",
    "             y=\"number\", \n",
    "             points=\"all\", \n",
    "             color='street'\n",
    "            )\n",
    "fig.update_xaxes(tickangle=15)\n",
    "\n",
    "fig.update_layout(\n",
    "    title='Соотношение посадочных мест для топ-10 улиц',\n",
    "    xaxis_title=\"Улица\",\n",
    "    yaxis_title=\"Количество посадочных мест\")\n",
    "\n",
    "fig.update_traces(showlegend = False,\n",
    "                 hovertemplate ='Улица: %{x} <br> Количество мест: %{y}')\n",
    "\n",
    "fig.show(renderer=\"svg\")"
   ]
  },
  {
   "cell_type": "markdown",
   "metadata": {},
   "source": [
    "Для проспекта Мира, на котором находится больше всего заведений общепита, медианное значение - 50 посадочных мест. На Профсоюзной улице (2е место по количеству заведений) медиана - 40 мест. Ленинградский проспект (3е место по количеству заведений) медиана -50 мест. А вот для пресненской набережной 50 мест это потолок, медиана же всего 30 мест. В общем стоит ориентироваться на 40-50 мест.\n",
    "\n",
    "В топ-10 улиц оказалось очень много заведений без посадочных мест. Такие зведения работают на вынос или на доставку. Есть предположение, что причина в дорогой аренде недвижимости в центре города. Снимать большие площади не выгодно. \n",
    "\n",
    "\n",
    "\n",
    "## Вывод\n",
    "\n",
    "В ходе исследования были изучены открытые данные о заведениях общественного питания Москвы. В датасете имеется более 15 тысяч объектов: кафе, столовые, буфеты, рестораны и пр. Соотношение сетевых и не сетевых 20 к 80%. Самый распространенный вид - это кафе 39,69%. Вообще пользуются популярностью заведения, где можно с комфортом и полноценно покушать - кафе, столовые и рестораны, предприятия быстрого обслуживания. Гораздо меньше заведений с узкой направленностью - бары, буфеты, кафетерии, их от 2 до 6%. Для сетевых заведений кафе также самый популярный вид. Здесь процент даже выше - 47%. Дальше приоритет немного отличается. На втором месте заведения быстрого обслуживания - 26,65%, на третьем рестораны - 18,33%. В целом по рынку сетевые заведения имеют самую большую долю среди кафе, фаст-фудах и ресторанах. Очень немного их среди баров, кулинарий кафетериев и закусочных. Буфетов и столовых настолько мало, что они даже не попали на график.\n",
    "\n",
    "Среди сетевых чаще всего встречаются заведения крупных сетей, в которых более 7 точек, и с маленьким количеством посадочных мест - не более 15 мест. На втором месте крупные сети с небольшим количеством посадочных мест - от 16 до 40 мест. Реже всего сети среднего размера, в которых от 2 до 7 заведений с небольшим количеством посадочных мест - от 16 до 40 мест.\n",
    "\n",
    "В среднем самыми крупными по вместимости заведениями среди всех являются столовые, они обычно расчитаны на 130 мест. Много и крупных ресторанов - 97 мест. В интересующем нас виде - кафе среднее количество мест - 40.\n",
    "\n",
    "Больше всего заведений на проспекте Мира - 204 объекта. В конце десятки  Кировская улица -110 объектов. Эти улицы пролегают через несколько районов и даже округов и являются самыми крупные улицами города. При выборе места для открытия нового заведения нужно ориентироваться на непосредственную близость расположения к этим улицам.\n",
    "\n",
    "Для проспекта Мира, на котором находится больше всего заведений общепита, медианное значение - 50 посадочных мест. На Профсоюзной улице (2е место по количеству заведений) медиана - 40 мест. Ленинградский проспект (3е место по количеству заведений) медиана -50 мест. А вот для пресненской набережной 50 мест это потолок, медиана же всего 30 мест.\n",
    "\n",
    "Основываясь на полученных данных можно рекомендовать открыть кафе в близи крупных улиц города, таких как проспект Мира,с количеством посадочных мест 40-50."
   ]
  },
  {
   "cell_type": "markdown",
   "metadata": {},
   "source": [
    "[Ссылка на презентацию](https://drive.google.com/file/d/179kk_JCBqtOjhkm1iZku-e43fz57J-g9/view?usp=sharing)"
   ]
  }
 ],
 "metadata": {
  "ExecuteTimeLog": [
   {
    "duration": 1127,
    "start_time": "2022-05-06T01:35:45.171Z"
   },
   {
    "duration": 209,
    "start_time": "2022-05-06T01:39:23.109Z"
   },
   {
    "duration": 27,
    "start_time": "2022-05-06T01:39:29.429Z"
   },
   {
    "duration": 49,
    "start_time": "2022-05-06T01:40:25.975Z"
   },
   {
    "duration": 61,
    "start_time": "2022-05-06T01:40:57.065Z"
   },
   {
    "duration": 9,
    "start_time": "2022-05-06T01:41:24.809Z"
   },
   {
    "duration": 46,
    "start_time": "2022-05-06T01:41:27.588Z"
   },
   {
    "duration": 3,
    "start_time": "2022-05-06T01:42:31.269Z"
   },
   {
    "duration": 47,
    "start_time": "2022-05-06T01:42:33.024Z"
   },
   {
    "duration": 2,
    "start_time": "2022-05-06T02:04:05.441Z"
   },
   {
    "duration": 84,
    "start_time": "2022-05-07T07:00:28.188Z"
   },
   {
    "duration": 1134,
    "start_time": "2022-05-07T07:00:34.069Z"
   },
   {
    "duration": 84,
    "start_time": "2022-05-07T07:00:35.206Z"
   },
   {
    "duration": 74,
    "start_time": "2022-05-07T07:00:35.294Z"
   },
   {
    "duration": 55,
    "start_time": "2022-05-07T07:01:26.502Z"
   },
   {
    "duration": 3,
    "start_time": "2022-05-07T07:02:33.758Z"
   },
   {
    "duration": 56,
    "start_time": "2022-05-07T07:02:34.220Z"
   },
   {
    "duration": 58,
    "start_time": "2022-05-07T07:02:35.062Z"
   },
   {
    "duration": 36,
    "start_time": "2022-05-07T07:03:27.055Z"
   },
   {
    "duration": 8,
    "start_time": "2022-05-07T07:03:31.670Z"
   },
   {
    "duration": 11,
    "start_time": "2022-05-07T07:03:39.588Z"
   },
   {
    "duration": 112,
    "start_time": "2022-05-07T07:03:54.951Z"
   },
   {
    "duration": 11,
    "start_time": "2022-05-07T07:04:15.728Z"
   },
   {
    "duration": 205,
    "start_time": "2022-05-07T07:04:44.198Z"
   },
   {
    "duration": 9,
    "start_time": "2022-05-07T07:04:59.959Z"
   },
   {
    "duration": 6,
    "start_time": "2022-05-07T07:06:43.539Z"
   },
   {
    "duration": 2993,
    "start_time": "2022-05-07T07:07:40.177Z"
   },
   {
    "duration": 46,
    "start_time": "2022-05-07T07:07:52.319Z"
   },
   {
    "duration": 190,
    "start_time": "2022-05-07T07:13:22.087Z"
   },
   {
    "duration": 54,
    "start_time": "2022-05-07T07:13:40.208Z"
   },
   {
    "duration": 8,
    "start_time": "2022-05-07T08:22:04.527Z"
   },
   {
    "duration": 13,
    "start_time": "2022-05-07T08:22:26.991Z"
   },
   {
    "duration": 14,
    "start_time": "2022-05-07T08:22:35.529Z"
   },
   {
    "duration": 11,
    "start_time": "2022-05-07T08:23:23.064Z"
   },
   {
    "duration": 87,
    "start_time": "2022-05-07T08:23:56.648Z"
   },
   {
    "duration": 57,
    "start_time": "2022-05-07T08:23:57.505Z"
   },
   {
    "duration": 56,
    "start_time": "2022-05-07T08:23:57.812Z"
   },
   {
    "duration": 2,
    "start_time": "2022-05-07T08:23:58.680Z"
   },
   {
    "duration": 14,
    "start_time": "2022-05-07T08:23:59.248Z"
   },
   {
    "duration": 27,
    "start_time": "2022-05-07T08:23:59.531Z"
   },
   {
    "duration": 16,
    "start_time": "2022-05-07T08:25:13.759Z"
   },
   {
    "duration": 14,
    "start_time": "2022-05-07T08:29:07.816Z"
   },
   {
    "duration": 23,
    "start_time": "2022-05-07T08:32:28.990Z"
   },
   {
    "duration": 16,
    "start_time": "2022-05-07T08:33:09.476Z"
   },
   {
    "duration": 368,
    "start_time": "2022-05-07T08:33:25.917Z"
   },
   {
    "duration": 15,
    "start_time": "2022-05-07T08:35:02.055Z"
   },
   {
    "duration": 20,
    "start_time": "2022-05-07T08:35:20.038Z"
   },
   {
    "duration": 83,
    "start_time": "2022-05-07T08:35:29.687Z"
   },
   {
    "duration": 15,
    "start_time": "2022-05-07T08:36:20.422Z"
   },
   {
    "duration": 78,
    "start_time": "2022-05-07T08:36:22.344Z"
   },
   {
    "duration": 77,
    "start_time": "2022-05-07T08:38:30.091Z"
   },
   {
    "duration": 344,
    "start_time": "2022-05-07T08:38:45.338Z"
   },
   {
    "duration": 81,
    "start_time": "2022-05-07T08:40:59.242Z"
   },
   {
    "duration": 79,
    "start_time": "2022-05-07T08:41:07.436Z"
   },
   {
    "duration": 85,
    "start_time": "2022-05-07T08:41:15.738Z"
   },
   {
    "duration": 81,
    "start_time": "2022-05-07T08:41:22.968Z"
   },
   {
    "duration": 94,
    "start_time": "2022-05-07T08:41:30.832Z"
   },
   {
    "duration": 83,
    "start_time": "2022-05-07T08:42:20.150Z"
   },
   {
    "duration": 80,
    "start_time": "2022-05-07T08:42:32.221Z"
   },
   {
    "duration": 82,
    "start_time": "2022-05-07T08:43:28.301Z"
   },
   {
    "duration": 53,
    "start_time": "2022-05-07T08:44:04.785Z"
   },
   {
    "duration": 83,
    "start_time": "2022-05-07T08:44:25.210Z"
   },
   {
    "duration": 83,
    "start_time": "2022-05-07T08:45:12.552Z"
   },
   {
    "duration": 144,
    "start_time": "2022-05-07T08:45:25.408Z"
   },
   {
    "duration": 126,
    "start_time": "2022-05-07T08:53:46.040Z"
   },
   {
    "duration": 466,
    "start_time": "2022-05-07T08:54:29.821Z"
   },
   {
    "duration": 4,
    "start_time": "2022-05-07T08:54:30.907Z"
   },
   {
    "duration": 75,
    "start_time": "2022-05-07T08:54:30.913Z"
   },
   {
    "duration": 62,
    "start_time": "2022-05-07T08:54:30.991Z"
   },
   {
    "duration": 3,
    "start_time": "2022-05-07T08:54:31.054Z"
   },
   {
    "duration": 25,
    "start_time": "2022-05-07T08:54:31.059Z"
   },
   {
    "duration": 98,
    "start_time": "2022-05-07T08:54:31.086Z"
   },
   {
    "duration": 178,
    "start_time": "2022-05-07T08:54:31.186Z"
   },
   {
    "duration": 123,
    "start_time": "2022-05-07T09:30:59.582Z"
   },
   {
    "duration": 50,
    "start_time": "2022-05-07T09:31:25.090Z"
   },
   {
    "duration": 50,
    "start_time": "2022-05-07T09:31:47.389Z"
   },
   {
    "duration": 49,
    "start_time": "2022-05-07T09:32:07.197Z"
   },
   {
    "duration": 20,
    "start_time": "2022-05-07T09:50:32.227Z"
   },
   {
    "duration": 77,
    "start_time": "2022-05-07T09:50:45.197Z"
   },
   {
    "duration": 79,
    "start_time": "2022-05-07T09:51:18.289Z"
   },
   {
    "duration": 72,
    "start_time": "2022-05-07T09:51:42.682Z"
   },
   {
    "duration": 46,
    "start_time": "2022-05-07T09:51:54.792Z"
   },
   {
    "duration": 10,
    "start_time": "2022-05-07T10:07:12.658Z"
   },
   {
    "duration": 10,
    "start_time": "2022-05-07T10:07:22.040Z"
   },
   {
    "duration": 10,
    "start_time": "2022-05-07T10:08:28.085Z"
   },
   {
    "duration": 10,
    "start_time": "2022-05-07T10:08:47.729Z"
   },
   {
    "duration": 1381,
    "start_time": "2022-05-08T03:46:35.206Z"
   },
   {
    "duration": 55,
    "start_time": "2022-05-08T03:46:36.589Z"
   },
   {
    "duration": 61,
    "start_time": "2022-05-08T03:46:36.646Z"
   },
   {
    "duration": 8,
    "start_time": "2022-05-08T03:46:36.709Z"
   },
   {
    "duration": 17,
    "start_time": "2022-05-08T03:46:36.718Z"
   },
   {
    "duration": 395,
    "start_time": "2022-05-08T03:46:36.737Z"
   },
   {
    "duration": 3,
    "start_time": "2022-05-08T03:46:45.590Z"
   },
   {
    "duration": 53,
    "start_time": "2022-05-08T03:46:45.897Z"
   },
   {
    "duration": 53,
    "start_time": "2022-05-08T03:46:46.157Z"
   },
   {
    "duration": 7,
    "start_time": "2022-05-08T03:46:47.010Z"
   },
   {
    "duration": 15,
    "start_time": "2022-05-08T03:46:47.630Z"
   },
   {
    "duration": 76,
    "start_time": "2022-05-08T03:47:01.535Z"
   },
   {
    "duration": 139,
    "start_time": "2022-05-08T03:57:18.909Z"
   },
   {
    "duration": 3,
    "start_time": "2022-05-08T03:57:37.347Z"
   },
   {
    "duration": 3,
    "start_time": "2022-05-08T03:57:39.678Z"
   },
   {
    "duration": 56,
    "start_time": "2022-05-08T03:57:39.683Z"
   },
   {
    "duration": 64,
    "start_time": "2022-05-08T03:57:39.741Z"
   },
   {
    "duration": 6,
    "start_time": "2022-05-08T03:57:39.807Z"
   },
   {
    "duration": 15,
    "start_time": "2022-05-08T03:57:39.815Z"
   },
   {
    "duration": 93,
    "start_time": "2022-05-08T03:57:39.831Z"
   },
   {
    "duration": 10,
    "start_time": "2022-05-08T03:57:39.925Z"
   },
   {
    "duration": 10,
    "start_time": "2022-05-08T03:57:43.426Z"
   },
   {
    "duration": 10,
    "start_time": "2022-05-08T03:57:59.365Z"
   },
   {
    "duration": 10,
    "start_time": "2022-05-08T03:58:36.772Z"
   },
   {
    "duration": 12,
    "start_time": "2022-05-08T04:12:13.552Z"
   },
   {
    "duration": 27,
    "start_time": "2022-05-08T04:12:35.980Z"
   },
   {
    "duration": 16,
    "start_time": "2022-05-08T04:15:36.074Z"
   },
   {
    "duration": 16,
    "start_time": "2022-05-08T04:21:05.721Z"
   },
   {
    "duration": 13,
    "start_time": "2022-05-08T04:21:11.056Z"
   },
   {
    "duration": 15,
    "start_time": "2022-05-08T04:21:33.522Z"
   },
   {
    "duration": 10,
    "start_time": "2022-05-08T04:22:48.507Z"
   },
   {
    "duration": 136,
    "start_time": "2022-05-08T04:27:47.129Z"
   },
   {
    "duration": 506,
    "start_time": "2022-05-08T04:28:17.956Z"
   },
   {
    "duration": 422,
    "start_time": "2022-05-08T04:30:24.529Z"
   },
   {
    "duration": 126,
    "start_time": "2022-05-08T04:47:47.423Z"
   },
   {
    "duration": 185,
    "start_time": "2022-05-08T04:48:00.005Z"
   },
   {
    "duration": 56,
    "start_time": "2022-05-08T05:03:38.705Z"
   },
   {
    "duration": 17,
    "start_time": "2022-05-08T05:04:21.180Z"
   },
   {
    "duration": 16,
    "start_time": "2022-05-08T05:09:38.747Z"
   },
   {
    "duration": 16,
    "start_time": "2022-05-08T05:10:55.908Z"
   },
   {
    "duration": 17,
    "start_time": "2022-05-08T05:11:19.773Z"
   },
   {
    "duration": 51,
    "start_time": "2022-05-08T05:11:20.193Z"
   },
   {
    "duration": 54,
    "start_time": "2022-05-08T05:17:52.523Z"
   },
   {
    "duration": 15,
    "start_time": "2022-05-08T05:23:20.876Z"
   },
   {
    "duration": 8,
    "start_time": "2022-05-08T05:23:47.582Z"
   },
   {
    "duration": 18,
    "start_time": "2022-05-08T05:24:58.606Z"
   },
   {
    "duration": 99,
    "start_time": "2022-05-08T05:25:55.120Z"
   },
   {
    "duration": 92,
    "start_time": "2022-05-08T05:26:45.220Z"
   },
   {
    "duration": 94,
    "start_time": "2022-05-08T05:27:22.263Z"
   },
   {
    "duration": 96,
    "start_time": "2022-05-08T05:27:40.715Z"
   },
   {
    "duration": 93,
    "start_time": "2022-05-08T05:28:30.904Z"
   },
   {
    "duration": 18,
    "start_time": "2022-05-08T05:29:20.656Z"
   },
   {
    "duration": 31,
    "start_time": "2022-05-08T05:32:56.969Z"
   },
   {
    "duration": 4,
    "start_time": "2022-05-08T05:33:22.807Z"
   },
   {
    "duration": 4,
    "start_time": "2022-05-08T05:33:25.876Z"
   },
   {
    "duration": 73,
    "start_time": "2022-05-08T05:33:25.882Z"
   },
   {
    "duration": 53,
    "start_time": "2022-05-08T05:33:25.957Z"
   },
   {
    "duration": 6,
    "start_time": "2022-05-08T05:33:26.012Z"
   },
   {
    "duration": 28,
    "start_time": "2022-05-08T05:33:26.020Z"
   },
   {
    "duration": 76,
    "start_time": "2022-05-08T05:33:26.049Z"
   },
   {
    "duration": 9,
    "start_time": "2022-05-08T05:33:26.127Z"
   },
   {
    "duration": 33,
    "start_time": "2022-05-08T05:33:26.138Z"
   },
   {
    "duration": 8,
    "start_time": "2022-05-08T05:33:26.173Z"
   },
   {
    "duration": 421,
    "start_time": "2022-05-08T05:33:26.183Z"
   },
   {
    "duration": 178,
    "start_time": "2022-05-08T05:33:26.607Z"
   },
   {
    "duration": 19,
    "start_time": "2022-05-08T05:33:26.787Z"
   },
   {
    "duration": 44,
    "start_time": "2022-05-08T05:33:26.808Z"
   },
   {
    "duration": 39,
    "start_time": "2022-05-08T05:33:26.854Z"
   },
   {
    "duration": 44,
    "start_time": "2022-05-08T05:33:26.895Z"
   },
   {
    "duration": 112,
    "start_time": "2022-05-08T05:33:55.297Z"
   },
   {
    "duration": 125,
    "start_time": "2022-05-08T05:35:05.503Z"
   },
   {
    "duration": 25,
    "start_time": "2022-05-08T05:36:55.447Z"
   },
   {
    "duration": 28,
    "start_time": "2022-05-08T05:38:00.568Z"
   },
   {
    "duration": 30,
    "start_time": "2022-05-08T05:38:24.804Z"
   },
   {
    "duration": 82,
    "start_time": "2022-05-08T05:39:59.485Z"
   },
   {
    "duration": 113,
    "start_time": "2022-05-08T05:40:21.896Z"
   },
   {
    "duration": 114,
    "start_time": "2022-05-08T05:40:47.283Z"
   },
   {
    "duration": 99,
    "start_time": "2022-05-08T05:41:20.403Z"
   },
   {
    "duration": 97,
    "start_time": "2022-05-08T05:42:08.200Z"
   },
   {
    "duration": 1401,
    "start_time": "2022-05-08T08:08:03.621Z"
   },
   {
    "duration": 49,
    "start_time": "2022-05-08T08:08:05.025Z"
   },
   {
    "duration": 86,
    "start_time": "2022-05-08T08:08:05.075Z"
   },
   {
    "duration": 9,
    "start_time": "2022-05-08T08:08:05.164Z"
   },
   {
    "duration": 21,
    "start_time": "2022-05-08T08:08:05.175Z"
   },
   {
    "duration": 424,
    "start_time": "2022-05-08T08:08:05.199Z"
   },
   {
    "duration": 15,
    "start_time": "2022-05-08T08:08:05.624Z"
   },
   {
    "duration": 17,
    "start_time": "2022-05-08T08:08:05.641Z"
   },
   {
    "duration": 10,
    "start_time": "2022-05-08T08:08:05.660Z"
   },
   {
    "duration": 462,
    "start_time": "2022-05-08T08:08:05.724Z"
   },
   {
    "duration": 255,
    "start_time": "2022-05-08T08:08:06.188Z"
   },
   {
    "duration": 17,
    "start_time": "2022-05-08T08:08:06.445Z"
   },
   {
    "duration": 63,
    "start_time": "2022-05-08T08:08:06.464Z"
   },
   {
    "duration": 18,
    "start_time": "2022-05-08T08:08:06.529Z"
   },
   {
    "duration": 121,
    "start_time": "2022-05-08T08:08:06.549Z"
   },
   {
    "duration": 125,
    "start_time": "2022-05-08T08:08:37.502Z"
   },
   {
    "duration": 17,
    "start_time": "2022-05-08T08:10:47.331Z"
   },
   {
    "duration": 4,
    "start_time": "2022-05-08T08:11:53.449Z"
   },
   {
    "duration": 29,
    "start_time": "2022-05-08T08:12:02.465Z"
   },
   {
    "duration": 45,
    "start_time": "2022-05-08T08:12:39.179Z"
   },
   {
    "duration": 45,
    "start_time": "2022-05-08T08:12:51.706Z"
   },
   {
    "duration": 140,
    "start_time": "2022-05-08T08:24:22.675Z"
   },
   {
    "duration": 4,
    "start_time": "2022-05-08T08:25:04.992Z"
   },
   {
    "duration": 57,
    "start_time": "2022-05-08T08:25:04.998Z"
   },
   {
    "duration": 73,
    "start_time": "2022-05-08T08:25:05.057Z"
   },
   {
    "duration": 8,
    "start_time": "2022-05-08T08:25:05.131Z"
   },
   {
    "duration": 15,
    "start_time": "2022-05-08T08:25:05.141Z"
   },
   {
    "duration": 97,
    "start_time": "2022-05-08T08:25:05.158Z"
   },
   {
    "duration": 10,
    "start_time": "2022-05-08T08:25:05.257Z"
   },
   {
    "duration": 25,
    "start_time": "2022-05-08T08:25:05.269Z"
   },
   {
    "duration": 35,
    "start_time": "2022-05-08T08:25:05.296Z"
   },
   {
    "duration": 724,
    "start_time": "2022-05-08T08:25:05.333Z"
   },
   {
    "duration": 316,
    "start_time": "2022-05-08T08:25:06.062Z"
   },
   {
    "duration": 30,
    "start_time": "2022-05-08T08:25:06.381Z"
   },
   {
    "duration": 70,
    "start_time": "2022-05-08T08:25:06.424Z"
   },
   {
    "duration": 42,
    "start_time": "2022-05-08T08:25:06.496Z"
   },
   {
    "duration": 85,
    "start_time": "2022-05-08T08:25:06.540Z"
   },
   {
    "duration": 97,
    "start_time": "2022-05-08T08:25:06.628Z"
   },
   {
    "duration": 146,
    "start_time": "2022-05-08T08:25:29.988Z"
   },
   {
    "duration": 10,
    "start_time": "2022-05-08T08:38:27.473Z"
   },
   {
    "duration": 99,
    "start_time": "2022-05-08T08:39:19.389Z"
   },
   {
    "duration": 21,
    "start_time": "2022-05-08T08:40:46.971Z"
   },
   {
    "duration": 17,
    "start_time": "2022-05-08T08:44:16.975Z"
   },
   {
    "duration": 11,
    "start_time": "2022-05-08T08:45:09.862Z"
   },
   {
    "duration": 13,
    "start_time": "2022-05-08T08:45:34.184Z"
   },
   {
    "duration": 11,
    "start_time": "2022-05-08T08:45:47.135Z"
   },
   {
    "duration": 10,
    "start_time": "2022-05-08T08:46:49.656Z"
   },
   {
    "duration": 94,
    "start_time": "2022-05-08T08:51:58.007Z"
   },
   {
    "duration": 13,
    "start_time": "2022-05-08T08:54:39.869Z"
   },
   {
    "duration": 314,
    "start_time": "2022-05-08T08:55:11.285Z"
   },
   {
    "duration": 185,
    "start_time": "2022-05-08T08:55:40.727Z"
   },
   {
    "duration": 408,
    "start_time": "2022-05-08T09:04:57.342Z"
   },
   {
    "duration": 295,
    "start_time": "2022-05-08T09:05:27.504Z"
   },
   {
    "duration": 294,
    "start_time": "2022-05-08T09:06:24.558Z"
   },
   {
    "duration": 22,
    "start_time": "2022-05-08T09:06:49.762Z"
   },
   {
    "duration": 18,
    "start_time": "2022-05-08T09:07:26.023Z"
   },
   {
    "duration": 179,
    "start_time": "2022-05-08T09:08:14.560Z"
   },
   {
    "duration": 236,
    "start_time": "2022-05-08T09:08:44.982Z"
   },
   {
    "duration": 268,
    "start_time": "2022-05-08T09:09:24.448Z"
   },
   {
    "duration": 130,
    "start_time": "2022-05-08T09:10:21.386Z"
   },
   {
    "duration": 181,
    "start_time": "2022-05-08T09:10:33.005Z"
   },
   {
    "duration": 207,
    "start_time": "2022-05-08T09:11:19.499Z"
   },
   {
    "duration": 1483,
    "start_time": "2022-05-09T03:11:49.653Z"
   },
   {
    "duration": 53,
    "start_time": "2022-05-09T03:11:51.138Z"
   },
   {
    "duration": 65,
    "start_time": "2022-05-09T03:11:51.192Z"
   },
   {
    "duration": 7,
    "start_time": "2022-05-09T03:11:51.259Z"
   },
   {
    "duration": 18,
    "start_time": "2022-05-09T03:11:51.268Z"
   },
   {
    "duration": 417,
    "start_time": "2022-05-09T03:11:51.287Z"
   },
   {
    "duration": 20,
    "start_time": "2022-05-09T03:11:51.706Z"
   },
   {
    "duration": 15,
    "start_time": "2022-05-09T03:11:51.727Z"
   },
   {
    "duration": 10,
    "start_time": "2022-05-09T03:11:51.743Z"
   },
   {
    "duration": 491,
    "start_time": "2022-05-09T03:11:51.754Z"
   },
   {
    "duration": 257,
    "start_time": "2022-05-09T03:11:52.247Z"
   },
   {
    "duration": 27,
    "start_time": "2022-05-09T03:11:52.505Z"
   },
   {
    "duration": 43,
    "start_time": "2022-05-09T03:11:52.534Z"
   },
   {
    "duration": 17,
    "start_time": "2022-05-09T03:11:52.579Z"
   },
   {
    "duration": 4,
    "start_time": "2022-05-09T03:12:00.380Z"
   },
   {
    "duration": 50,
    "start_time": "2022-05-09T03:12:00.913Z"
   },
   {
    "duration": 55,
    "start_time": "2022-05-09T03:12:01.486Z"
   },
   {
    "duration": 7,
    "start_time": "2022-05-09T03:12:03.004Z"
   },
   {
    "duration": 14,
    "start_time": "2022-05-09T03:12:47.908Z"
   },
   {
    "duration": 144,
    "start_time": "2022-05-09T03:15:08.778Z"
   },
   {
    "duration": 77,
    "start_time": "2022-05-09T03:15:18.599Z"
   },
   {
    "duration": 110,
    "start_time": "2022-05-09T03:20:35.570Z"
   },
   {
    "duration": 208,
    "start_time": "2022-05-09T03:20:44.695Z"
   },
   {
    "duration": 80,
    "start_time": "2022-05-09T03:21:13.999Z"
   },
   {
    "duration": 83,
    "start_time": "2022-05-09T03:21:32.120Z"
   },
   {
    "duration": 77,
    "start_time": "2022-05-09T03:21:50.545Z"
   },
   {
    "duration": 76,
    "start_time": "2022-05-09T03:22:03.218Z"
   },
   {
    "duration": 75,
    "start_time": "2022-05-09T03:22:24.737Z"
   },
   {
    "duration": 115,
    "start_time": "2022-05-09T03:38:23.927Z"
   },
   {
    "duration": 17,
    "start_time": "2022-05-09T04:13:07.032Z"
   },
   {
    "duration": 22,
    "start_time": "2022-05-09T04:13:43.650Z"
   },
   {
    "duration": 16,
    "start_time": "2022-05-09T04:14:41.638Z"
   },
   {
    "duration": 10,
    "start_time": "2022-05-09T04:18:54.339Z"
   },
   {
    "duration": 74,
    "start_time": "2022-05-09T04:18:56.388Z"
   },
   {
    "duration": 15,
    "start_time": "2022-05-09T04:21:35.227Z"
   },
   {
    "duration": 16,
    "start_time": "2022-05-09T04:22:56.855Z"
   },
   {
    "duration": 14,
    "start_time": "2022-05-09T04:24:33.114Z"
   },
   {
    "duration": 19,
    "start_time": "2022-05-09T04:24:42.752Z"
   },
   {
    "duration": 1784,
    "start_time": "2022-05-09T04:25:22.041Z"
   },
   {
    "duration": 25,
    "start_time": "2022-05-09T04:25:46.068Z"
   },
   {
    "duration": 26,
    "start_time": "2022-05-09T04:26:49.442Z"
   },
   {
    "duration": 18,
    "start_time": "2022-05-09T04:27:40.712Z"
   },
   {
    "duration": 16,
    "start_time": "2022-05-09T04:27:55.789Z"
   },
   {
    "duration": 470,
    "start_time": "2022-05-09T04:28:32.868Z"
   },
   {
    "duration": 17,
    "start_time": "2022-05-09T04:29:25.450Z"
   },
   {
    "duration": 112,
    "start_time": "2022-05-09T04:29:54.232Z"
   },
   {
    "duration": 17,
    "start_time": "2022-05-09T04:29:59.975Z"
   },
   {
    "duration": 19,
    "start_time": "2022-05-09T04:38:21.965Z"
   },
   {
    "duration": 127,
    "start_time": "2022-05-09T04:38:44.750Z"
   },
   {
    "duration": 46,
    "start_time": "2022-05-09T04:39:17.003Z"
   },
   {
    "duration": 52,
    "start_time": "2022-05-09T04:39:37.550Z"
   },
   {
    "duration": 122,
    "start_time": "2022-05-09T04:39:50.995Z"
   },
   {
    "duration": 111,
    "start_time": "2022-05-09T04:41:03.821Z"
   },
   {
    "duration": 25,
    "start_time": "2022-05-09T04:41:12.569Z"
   },
   {
    "duration": 53,
    "start_time": "2022-05-09T04:41:25.902Z"
   },
   {
    "duration": 52,
    "start_time": "2022-05-09T04:42:05.906Z"
   },
   {
    "duration": 69,
    "start_time": "2022-05-09T04:42:15.404Z"
   },
   {
    "duration": 12,
    "start_time": "2022-05-09T04:42:48.200Z"
   },
   {
    "duration": 25,
    "start_time": "2022-05-09T04:43:04.000Z"
   },
   {
    "duration": 19,
    "start_time": "2022-05-09T04:43:24.850Z"
   },
   {
    "duration": 21,
    "start_time": "2022-05-09T04:43:33.297Z"
   },
   {
    "duration": 105,
    "start_time": "2022-05-09T04:45:43.538Z"
   },
   {
    "duration": 117,
    "start_time": "2022-05-09T04:45:49.441Z"
   },
   {
    "duration": 3,
    "start_time": "2022-05-09T04:45:55.779Z"
   },
   {
    "duration": 119,
    "start_time": "2022-05-09T04:46:47.981Z"
   },
   {
    "duration": 17,
    "start_time": "2022-05-09T04:46:54.955Z"
   },
   {
    "duration": 20,
    "start_time": "2022-05-09T04:48:19.220Z"
   },
   {
    "duration": 9,
    "start_time": "2022-05-09T04:49:08.448Z"
   },
   {
    "duration": 17,
    "start_time": "2022-05-09T04:49:42.473Z"
   },
   {
    "duration": 3,
    "start_time": "2022-05-09T04:53:16.135Z"
   },
   {
    "duration": 4,
    "start_time": "2022-05-09T04:53:21.172Z"
   },
   {
    "duration": 16,
    "start_time": "2022-05-09T04:53:34.718Z"
   },
   {
    "duration": 125,
    "start_time": "2022-05-09T04:55:14.919Z"
   },
   {
    "duration": 19,
    "start_time": "2022-05-09T04:55:20.830Z"
   },
   {
    "duration": 18,
    "start_time": "2022-05-09T04:55:54.776Z"
   },
   {
    "duration": 16,
    "start_time": "2022-05-09T04:56:12.151Z"
   },
   {
    "duration": 13,
    "start_time": "2022-05-09T04:56:56.990Z"
   },
   {
    "duration": 16,
    "start_time": "2022-05-09T05:03:30.370Z"
   },
   {
    "duration": 115,
    "start_time": "2022-05-09T05:06:13.516Z"
   },
   {
    "duration": 59,
    "start_time": "2022-05-09T05:06:21.269Z"
   },
   {
    "duration": 53,
    "start_time": "2022-05-09T05:08:01.967Z"
   },
   {
    "duration": 19,
    "start_time": "2022-05-09T05:45:14.770Z"
   },
   {
    "duration": 25,
    "start_time": "2022-05-09T05:48:40.019Z"
   },
   {
    "duration": 10,
    "start_time": "2022-05-09T05:51:14.170Z"
   },
   {
    "duration": 23,
    "start_time": "2022-05-09T05:51:45.539Z"
   },
   {
    "duration": 114,
    "start_time": "2022-05-09T05:52:24.292Z"
   },
   {
    "duration": 261,
    "start_time": "2022-05-09T05:52:29.587Z"
   },
   {
    "duration": 219,
    "start_time": "2022-05-09T05:52:38.947Z"
   },
   {
    "duration": 699,
    "start_time": "2022-05-09T05:52:53.150Z"
   },
   {
    "duration": 23,
    "start_time": "2022-05-09T05:53:22.163Z"
   },
   {
    "duration": 219,
    "start_time": "2022-05-09T05:53:55.350Z"
   },
   {
    "duration": 11,
    "start_time": "2022-05-09T05:55:24.837Z"
   },
   {
    "duration": 56,
    "start_time": "2022-05-09T05:55:50.832Z"
   },
   {
    "duration": 59,
    "start_time": "2022-05-09T05:56:13.409Z"
   },
   {
    "duration": 64,
    "start_time": "2022-05-09T05:57:16.485Z"
   },
   {
    "duration": 62,
    "start_time": "2022-05-09T05:58:05.928Z"
   },
   {
    "duration": 110,
    "start_time": "2022-05-09T05:58:18.367Z"
   },
   {
    "duration": 18,
    "start_time": "2022-05-09T05:58:27.217Z"
   },
   {
    "duration": 478,
    "start_time": "2022-05-09T06:00:18.022Z"
   },
   {
    "duration": 21,
    "start_time": "2022-05-09T06:01:02.027Z"
   },
   {
    "duration": 4,
    "start_time": "2022-05-09T06:01:28.302Z"
   },
   {
    "duration": 57,
    "start_time": "2022-05-09T06:01:28.308Z"
   },
   {
    "duration": 70,
    "start_time": "2022-05-09T06:01:28.367Z"
   },
   {
    "duration": 8,
    "start_time": "2022-05-09T06:01:28.439Z"
   },
   {
    "duration": 12,
    "start_time": "2022-05-09T06:01:28.448Z"
   },
   {
    "duration": 108,
    "start_time": "2022-05-09T06:01:28.462Z"
   },
   {
    "duration": 12,
    "start_time": "2022-05-09T06:01:28.571Z"
   },
   {
    "duration": 24,
    "start_time": "2022-05-09T06:01:36.319Z"
   },
   {
    "duration": 25,
    "start_time": "2022-05-09T06:02:09.211Z"
   },
   {
    "duration": 12,
    "start_time": "2022-05-09T06:03:19.612Z"
   },
   {
    "duration": 16,
    "start_time": "2022-05-09T06:04:14.615Z"
   },
   {
    "duration": 15,
    "start_time": "2022-05-09T06:04:26.963Z"
   },
   {
    "duration": 13,
    "start_time": "2022-05-09T06:05:13.122Z"
   },
   {
    "duration": 14,
    "start_time": "2022-05-09T06:05:13.619Z"
   },
   {
    "duration": 14,
    "start_time": "2022-05-09T06:05:26.772Z"
   },
   {
    "duration": 218,
    "start_time": "2022-05-09T06:06:10.013Z"
   },
   {
    "duration": 211,
    "start_time": "2022-05-09T06:06:26.131Z"
   },
   {
    "duration": 14,
    "start_time": "2022-05-09T06:06:30.134Z"
   },
   {
    "duration": 40,
    "start_time": "2022-05-09T06:06:30.484Z"
   },
   {
    "duration": 220,
    "start_time": "2022-05-09T06:06:30.894Z"
   },
   {
    "duration": 204,
    "start_time": "2022-05-09T06:07:38.712Z"
   },
   {
    "duration": 13,
    "start_time": "2022-05-09T06:10:05.327Z"
   },
   {
    "duration": 11,
    "start_time": "2022-05-09T06:10:44.222Z"
   },
   {
    "duration": 1809,
    "start_time": "2022-05-09T06:11:36.862Z"
   },
   {
    "duration": 18,
    "start_time": "2022-05-09T06:12:03.932Z"
   },
   {
    "duration": 31,
    "start_time": "2022-05-09T06:13:57.423Z"
   },
   {
    "duration": 7,
    "start_time": "2022-05-09T06:14:26.563Z"
   },
   {
    "duration": 5,
    "start_time": "2022-05-09T06:15:25.290Z"
   },
   {
    "duration": 16,
    "start_time": "2022-05-09T06:15:34.048Z"
   },
   {
    "duration": 64,
    "start_time": "2022-05-09T06:16:03.989Z"
   },
   {
    "duration": 6,
    "start_time": "2022-05-09T06:50:27.029Z"
   },
   {
    "duration": 77,
    "start_time": "2022-05-09T06:50:27.900Z"
   },
   {
    "duration": 17,
    "start_time": "2022-05-09T06:50:37.606Z"
   },
   {
    "duration": 125,
    "start_time": "2022-05-09T06:51:22.395Z"
   },
   {
    "duration": 105,
    "start_time": "2022-05-09T06:51:31.550Z"
   },
   {
    "duration": 99,
    "start_time": "2022-05-09T06:52:39.179Z"
   },
   {
    "duration": 151,
    "start_time": "2022-05-09T06:52:59.542Z"
   },
   {
    "duration": 75,
    "start_time": "2022-05-09T06:53:20.199Z"
   },
   {
    "duration": 76,
    "start_time": "2022-05-09T06:54:06.651Z"
   },
   {
    "duration": 20,
    "start_time": "2022-05-09T06:54:31.097Z"
   },
   {
    "duration": 28,
    "start_time": "2022-05-09T06:54:48.387Z"
   },
   {
    "duration": 20,
    "start_time": "2022-05-09T06:55:14.458Z"
   },
   {
    "duration": 3,
    "start_time": "2022-05-09T06:57:27.315Z"
   },
   {
    "duration": 54,
    "start_time": "2022-05-09T06:57:27.321Z"
   },
   {
    "duration": 57,
    "start_time": "2022-05-09T06:57:27.378Z"
   },
   {
    "duration": 7,
    "start_time": "2022-05-09T06:57:27.437Z"
   },
   {
    "duration": 19,
    "start_time": "2022-05-09T06:57:30.849Z"
   },
   {
    "duration": 14,
    "start_time": "2022-05-09T06:57:57.470Z"
   },
   {
    "duration": 10,
    "start_time": "2022-05-09T06:58:41.088Z"
   },
   {
    "duration": 76,
    "start_time": "2022-05-09T06:58:41.665Z"
   },
   {
    "duration": 10,
    "start_time": "2022-05-09T06:58:43.656Z"
   },
   {
    "duration": 16,
    "start_time": "2022-05-09T06:58:57.988Z"
   },
   {
    "duration": 26,
    "start_time": "2022-05-09T06:59:50.380Z"
   },
   {
    "duration": 26,
    "start_time": "2022-05-09T07:00:24.514Z"
   },
   {
    "duration": 152,
    "start_time": "2022-05-09T07:02:25.675Z"
   },
   {
    "duration": 128,
    "start_time": "2022-05-09T07:02:46.854Z"
   },
   {
    "duration": 130,
    "start_time": "2022-05-09T07:03:14.801Z"
   },
   {
    "duration": 83,
    "start_time": "2022-05-09T07:04:06.248Z"
   },
   {
    "duration": 79,
    "start_time": "2022-05-09T07:04:16.169Z"
   },
   {
    "duration": 81,
    "start_time": "2022-05-09T07:08:35.566Z"
   },
   {
    "duration": 76,
    "start_time": "2022-05-09T07:09:02.214Z"
   },
   {
    "duration": 74,
    "start_time": "2022-05-09T07:09:27.862Z"
   },
   {
    "duration": 82,
    "start_time": "2022-05-09T07:09:43.798Z"
   },
   {
    "duration": 78,
    "start_time": "2022-05-09T07:10:51.929Z"
   },
   {
    "duration": 18,
    "start_time": "2022-05-09T07:11:07.898Z"
   },
   {
    "duration": 74,
    "start_time": "2022-05-09T07:11:15.489Z"
   },
   {
    "duration": 7,
    "start_time": "2022-05-09T07:12:36.626Z"
   },
   {
    "duration": 18,
    "start_time": "2022-05-09T07:12:42.898Z"
   },
   {
    "duration": 141,
    "start_time": "2022-05-09T07:13:26.124Z"
   },
   {
    "duration": 14,
    "start_time": "2022-05-09T07:13:36.564Z"
   },
   {
    "duration": 17,
    "start_time": "2022-05-09T07:15:17.331Z"
   },
   {
    "duration": 20,
    "start_time": "2022-05-09T07:15:27.222Z"
   },
   {
    "duration": 123,
    "start_time": "2022-05-09T07:18:29.216Z"
   },
   {
    "duration": 18,
    "start_time": "2022-05-09T07:18:35.721Z"
   },
   {
    "duration": 12,
    "start_time": "2022-05-09T07:19:04.050Z"
   },
   {
    "duration": 18,
    "start_time": "2022-05-09T07:19:41.771Z"
   },
   {
    "duration": 12,
    "start_time": "2022-05-09T07:19:46.314Z"
   },
   {
    "duration": 16,
    "start_time": "2022-05-09T07:19:47.236Z"
   },
   {
    "duration": 19,
    "start_time": "2022-05-09T07:20:22.323Z"
   },
   {
    "duration": 123,
    "start_time": "2022-05-09T07:20:55.764Z"
   },
   {
    "duration": 122,
    "start_time": "2022-05-09T07:21:14.419Z"
   },
   {
    "duration": 20,
    "start_time": "2022-05-09T07:21:28.213Z"
   },
   {
    "duration": 13,
    "start_time": "2022-05-09T07:21:40.365Z"
   },
   {
    "duration": 501,
    "start_time": "2022-05-09T07:22:45.547Z"
   },
   {
    "duration": 20,
    "start_time": "2022-05-09T07:23:26.360Z"
   },
   {
    "duration": 20,
    "start_time": "2022-05-09T07:24:41.832Z"
   },
   {
    "duration": 10,
    "start_time": "2022-05-09T07:26:01.082Z"
   },
   {
    "duration": 13,
    "start_time": "2022-05-09T07:26:08.721Z"
   },
   {
    "duration": 12,
    "start_time": "2022-05-09T07:26:48.196Z"
   },
   {
    "duration": 14,
    "start_time": "2022-05-09T07:26:54.043Z"
   },
   {
    "duration": 16,
    "start_time": "2022-05-09T07:26:58.884Z"
   },
   {
    "duration": 15,
    "start_time": "2022-05-09T07:27:09.700Z"
   },
   {
    "duration": 15,
    "start_time": "2022-05-09T07:27:28.068Z"
   },
   {
    "duration": 75,
    "start_time": "2022-05-09T07:27:56.311Z"
   },
   {
    "duration": 15,
    "start_time": "2022-05-09T07:29:04.834Z"
   },
   {
    "duration": 73,
    "start_time": "2022-05-09T07:29:08.320Z"
   },
   {
    "duration": 73,
    "start_time": "2022-05-09T07:29:42.962Z"
   },
   {
    "duration": 1862,
    "start_time": "2022-05-09T07:30:37.613Z"
   },
   {
    "duration": 26,
    "start_time": "2022-05-09T07:31:05.892Z"
   },
   {
    "duration": 15,
    "start_time": "2022-05-09T07:32:37.436Z"
   },
   {
    "duration": 84,
    "start_time": "2022-05-09T07:32:42.158Z"
   },
   {
    "duration": 10,
    "start_time": "2022-05-09T07:34:48.583Z"
   },
   {
    "duration": 18,
    "start_time": "2022-05-09T07:35:10.168Z"
   },
   {
    "duration": 5,
    "start_time": "2022-05-09T07:35:27.437Z"
   },
   {
    "duration": 74,
    "start_time": "2022-05-09T07:35:27.444Z"
   },
   {
    "duration": 58,
    "start_time": "2022-05-09T07:35:27.521Z"
   },
   {
    "duration": 7,
    "start_time": "2022-05-09T07:35:27.581Z"
   },
   {
    "duration": 10,
    "start_time": "2022-05-09T07:35:27.590Z"
   },
   {
    "duration": 75,
    "start_time": "2022-05-09T07:35:27.624Z"
   },
   {
    "duration": 29,
    "start_time": "2022-05-09T07:35:27.701Z"
   },
   {
    "duration": 15,
    "start_time": "2022-05-09T07:35:32.629Z"
   },
   {
    "duration": 17,
    "start_time": "2022-05-09T07:35:33.567Z"
   },
   {
    "duration": 82,
    "start_time": "2022-05-09T07:36:11.618Z"
   },
   {
    "duration": 12,
    "start_time": "2022-05-09T07:37:01.449Z"
   },
   {
    "duration": 76,
    "start_time": "2022-05-09T07:37:23.459Z"
   },
   {
    "duration": 5,
    "start_time": "2022-05-09T07:37:35.429Z"
   },
   {
    "duration": 61,
    "start_time": "2022-05-09T07:37:35.436Z"
   },
   {
    "duration": 63,
    "start_time": "2022-05-09T07:37:35.499Z"
   },
   {
    "duration": 6,
    "start_time": "2022-05-09T07:37:35.563Z"
   },
   {
    "duration": 11,
    "start_time": "2022-05-09T07:37:35.571Z"
   },
   {
    "duration": 114,
    "start_time": "2022-05-09T07:37:35.584Z"
   },
   {
    "duration": 26,
    "start_time": "2022-05-09T07:37:35.701Z"
   },
   {
    "duration": 14,
    "start_time": "2022-05-09T07:37:35.728Z"
   },
   {
    "duration": 84,
    "start_time": "2022-05-09T07:37:35.744Z"
   },
   {
    "duration": 16,
    "start_time": "2022-05-09T07:48:50.249Z"
   },
   {
    "duration": 11,
    "start_time": "2022-05-09T07:51:50.413Z"
   },
   {
    "duration": 13,
    "start_time": "2022-05-09T07:52:01.268Z"
   },
   {
    "duration": 175,
    "start_time": "2022-05-09T07:57:36.871Z"
   },
   {
    "duration": 117,
    "start_time": "2022-05-09T07:58:07.022Z"
   },
   {
    "duration": 491,
    "start_time": "2022-05-09T08:00:13.744Z"
   },
   {
    "duration": 521,
    "start_time": "2022-05-09T08:01:09.881Z"
   },
   {
    "duration": 37,
    "start_time": "2022-05-09T08:01:22.280Z"
   },
   {
    "duration": 37,
    "start_time": "2022-05-09T08:01:33.418Z"
   },
   {
    "duration": 42,
    "start_time": "2022-05-09T08:01:48.143Z"
   },
   {
    "duration": 41,
    "start_time": "2022-05-09T08:02:46.756Z"
   },
   {
    "duration": 46,
    "start_time": "2022-05-09T08:04:54.672Z"
   },
   {
    "duration": 14,
    "start_time": "2022-05-09T08:05:36.367Z"
   },
   {
    "duration": 479,
    "start_time": "2022-05-09T08:05:55.383Z"
   },
   {
    "duration": 14,
    "start_time": "2022-05-09T08:06:18.759Z"
   },
   {
    "duration": 121,
    "start_time": "2022-05-09T08:06:29.704Z"
   },
   {
    "duration": 168,
    "start_time": "2022-05-09T08:06:40.319Z"
   },
   {
    "duration": 14,
    "start_time": "2022-05-09T08:06:56.029Z"
   },
   {
    "duration": 3,
    "start_time": "2022-05-09T08:07:04.687Z"
   },
   {
    "duration": 55,
    "start_time": "2022-05-09T08:07:04.692Z"
   },
   {
    "duration": 55,
    "start_time": "2022-05-09T08:07:04.749Z"
   },
   {
    "duration": 7,
    "start_time": "2022-05-09T08:07:04.824Z"
   },
   {
    "duration": 10,
    "start_time": "2022-05-09T08:07:04.833Z"
   },
   {
    "duration": 97,
    "start_time": "2022-05-09T08:07:04.845Z"
   },
   {
    "duration": 11,
    "start_time": "2022-05-09T08:07:04.944Z"
   },
   {
    "duration": 13,
    "start_time": "2022-05-09T08:07:04.956Z"
   },
   {
    "duration": 97,
    "start_time": "2022-05-09T08:07:04.971Z"
   },
   {
    "duration": 14,
    "start_time": "2022-05-09T08:07:08.017Z"
   },
   {
    "duration": 16,
    "start_time": "2022-05-09T08:07:56.079Z"
   },
   {
    "duration": 14,
    "start_time": "2022-05-09T08:08:04.105Z"
   },
   {
    "duration": 13,
    "start_time": "2022-05-09T08:08:19.826Z"
   },
   {
    "duration": 12,
    "start_time": "2022-05-09T08:08:45.427Z"
   },
   {
    "duration": 13,
    "start_time": "2022-05-09T08:09:36.764Z"
   },
   {
    "duration": 488,
    "start_time": "2022-05-09T08:10:07.982Z"
   },
   {
    "duration": 12,
    "start_time": "2022-05-09T08:10:40.024Z"
   },
   {
    "duration": 134,
    "start_time": "2022-05-09T08:11:01.988Z"
   },
   {
    "duration": 480,
    "start_time": "2022-05-09T08:11:09.788Z"
   },
   {
    "duration": 16,
    "start_time": "2022-05-09T08:11:27.334Z"
   },
   {
    "duration": 17,
    "start_time": "2022-05-09T08:11:55.104Z"
   },
   {
    "duration": 13,
    "start_time": "2022-05-09T08:12:22.391Z"
   },
   {
    "duration": 13,
    "start_time": "2022-05-09T08:13:11.306Z"
   },
   {
    "duration": 13,
    "start_time": "2022-05-09T08:13:36.089Z"
   },
   {
    "duration": 1547,
    "start_time": "2022-05-09T10:46:18.677Z"
   },
   {
    "duration": 61,
    "start_time": "2022-05-09T10:46:20.227Z"
   },
   {
    "duration": 91,
    "start_time": "2022-05-09T10:46:20.291Z"
   },
   {
    "duration": 8,
    "start_time": "2022-05-09T10:46:20.384Z"
   },
   {
    "duration": 14,
    "start_time": "2022-05-09T10:46:20.394Z"
   },
   {
    "duration": 536,
    "start_time": "2022-05-09T10:46:20.410Z"
   },
   {
    "duration": 20,
    "start_time": "2022-05-09T10:46:20.948Z"
   },
   {
    "duration": 13,
    "start_time": "2022-05-09T10:46:20.971Z"
   },
   {
    "duration": 205,
    "start_time": "2022-05-09T10:46:20.986Z"
   },
   {
    "duration": 15,
    "start_time": "2022-05-09T10:46:28.029Z"
   },
   {
    "duration": 100,
    "start_time": "2022-05-09T10:46:56.685Z"
   },
   {
    "duration": 268,
    "start_time": "2022-05-09T10:47:38.225Z"
   },
   {
    "duration": 192,
    "start_time": "2022-05-09T10:47:56.050Z"
   },
   {
    "duration": 144,
    "start_time": "2022-05-09T10:48:51.296Z"
   },
   {
    "duration": 196,
    "start_time": "2022-05-09T10:49:07.853Z"
   },
   {
    "duration": 28,
    "start_time": "2022-05-09T10:50:17.239Z"
   },
   {
    "duration": 25,
    "start_time": "2022-05-09T10:50:29.520Z"
   },
   {
    "duration": 13,
    "start_time": "2022-05-09T11:06:36.636Z"
   },
   {
    "duration": 10,
    "start_time": "2022-05-09T11:15:55.139Z"
   },
   {
    "duration": 14,
    "start_time": "2022-05-09T11:22:57.790Z"
   },
   {
    "duration": 48,
    "start_time": "2022-05-09T11:23:11.021Z"
   },
   {
    "duration": 41,
    "start_time": "2022-05-09T11:23:34.294Z"
   },
   {
    "duration": 40,
    "start_time": "2022-05-09T11:23:52.005Z"
   },
   {
    "duration": 59,
    "start_time": "2022-05-09T11:24:28.281Z"
   },
   {
    "duration": 80,
    "start_time": "2022-05-09T11:24:53.216Z"
   },
   {
    "duration": 61,
    "start_time": "2022-05-09T11:25:29.537Z"
   },
   {
    "duration": 72,
    "start_time": "2022-05-09T11:28:58.021Z"
   },
   {
    "duration": 4,
    "start_time": "2022-05-09T11:29:02.939Z"
   },
   {
    "duration": 57,
    "start_time": "2022-05-09T11:29:02.944Z"
   },
   {
    "duration": 63,
    "start_time": "2022-05-09T11:29:03.003Z"
   },
   {
    "duration": 7,
    "start_time": "2022-05-09T11:29:03.067Z"
   },
   {
    "duration": 14,
    "start_time": "2022-05-09T11:29:03.076Z"
   },
   {
    "duration": 88,
    "start_time": "2022-05-09T11:29:03.092Z"
   },
   {
    "duration": 10,
    "start_time": "2022-05-09T11:29:03.182Z"
   },
   {
    "duration": 10,
    "start_time": "2022-05-09T11:29:03.194Z"
   },
   {
    "duration": 94,
    "start_time": "2022-05-09T11:29:03.206Z"
   },
   {
    "duration": 68,
    "start_time": "2022-05-09T11:29:03.301Z"
   },
   {
    "duration": 12,
    "start_time": "2022-05-09T11:29:03.371Z"
   },
   {
    "duration": 6,
    "start_time": "2022-05-09T11:29:03.384Z"
   },
   {
    "duration": 208,
    "start_time": "2022-05-09T11:29:03.392Z"
   },
   {
    "duration": 2,
    "start_time": "2022-05-09T11:29:03.602Z"
   },
   {
    "duration": 60,
    "start_time": "2022-05-09T11:29:03.606Z"
   },
   {
    "duration": 46,
    "start_time": "2022-05-09T11:29:11.070Z"
   },
   {
    "duration": 3,
    "start_time": "2022-05-09T11:29:12.442Z"
   },
   {
    "duration": 9,
    "start_time": "2022-05-09T11:29:13.259Z"
   },
   {
    "duration": 71,
    "start_time": "2022-05-09T11:29:13.766Z"
   },
   {
    "duration": 9,
    "start_time": "2022-05-09T11:29:14.923Z"
   },
   {
    "duration": 11,
    "start_time": "2022-05-09T11:29:16.186Z"
   },
   {
    "duration": 3,
    "start_time": "2022-05-09T11:29:22.860Z"
   },
   {
    "duration": 51,
    "start_time": "2022-05-09T11:29:23.437Z"
   },
   {
    "duration": 50,
    "start_time": "2022-05-09T11:29:24.381Z"
   },
   {
    "duration": 6,
    "start_time": "2022-05-09T11:29:26.274Z"
   },
   {
    "duration": 9,
    "start_time": "2022-05-09T11:29:29.460Z"
   },
   {
    "duration": 75,
    "start_time": "2022-05-09T11:29:30.164Z"
   },
   {
    "duration": 4,
    "start_time": "2022-05-09T11:34:37.348Z"
   },
   {
    "duration": 64,
    "start_time": "2022-05-09T11:34:37.354Z"
   },
   {
    "duration": 71,
    "start_time": "2022-05-09T11:34:37.420Z"
   },
   {
    "duration": 8,
    "start_time": "2022-05-09T11:34:37.493Z"
   },
   {
    "duration": 14,
    "start_time": "2022-05-09T11:34:37.503Z"
   },
   {
    "duration": 96,
    "start_time": "2022-05-09T11:34:37.519Z"
   },
   {
    "duration": 12,
    "start_time": "2022-05-09T11:34:37.617Z"
   },
   {
    "duration": 27,
    "start_time": "2022-05-09T11:34:37.630Z"
   },
   {
    "duration": 88,
    "start_time": "2022-05-09T11:34:37.659Z"
   },
   {
    "duration": 59,
    "start_time": "2022-05-09T11:34:37.749Z"
   },
   {
    "duration": 12,
    "start_time": "2022-05-09T11:34:37.810Z"
   },
   {
    "duration": 7,
    "start_time": "2022-05-09T11:34:37.848Z"
   },
   {
    "duration": 287,
    "start_time": "2022-05-09T11:34:37.856Z"
   },
   {
    "duration": 4,
    "start_time": "2022-05-09T11:34:38.148Z"
   },
   {
    "duration": 64,
    "start_time": "2022-05-09T11:34:38.153Z"
   },
   {
    "duration": 1137,
    "start_time": "2022-05-09T11:35:11.470Z"
   },
   {
    "duration": 52,
    "start_time": "2022-05-09T11:35:12.609Z"
   },
   {
    "duration": 56,
    "start_time": "2022-05-09T11:35:12.663Z"
   },
   {
    "duration": 28,
    "start_time": "2022-05-09T11:35:12.721Z"
   },
   {
    "duration": 11,
    "start_time": "2022-05-09T11:35:12.751Z"
   },
   {
    "duration": 380,
    "start_time": "2022-05-09T11:35:12.763Z"
   },
   {
    "duration": 13,
    "start_time": "2022-05-09T11:35:13.145Z"
   },
   {
    "duration": 11,
    "start_time": "2022-05-09T11:35:13.159Z"
   },
   {
    "duration": 124,
    "start_time": "2022-05-09T11:35:13.172Z"
   },
   {
    "duration": 101,
    "start_time": "2022-05-09T11:35:13.298Z"
   },
   {
    "duration": 13,
    "start_time": "2022-05-09T11:35:13.400Z"
   },
   {
    "duration": 9,
    "start_time": "2022-05-09T11:35:13.414Z"
   },
   {
    "duration": 297,
    "start_time": "2022-05-09T11:35:13.424Z"
   },
   {
    "duration": 2,
    "start_time": "2022-05-09T11:35:13.723Z"
   },
   {
    "duration": 62,
    "start_time": "2022-05-09T11:35:13.727Z"
   },
   {
    "duration": 96,
    "start_time": "2022-05-09T11:51:34.161Z"
   },
   {
    "duration": 3,
    "start_time": "2022-05-09T11:51:39.747Z"
   },
   {
    "duration": 2,
    "start_time": "2022-05-09T11:51:45.722Z"
   },
   {
    "duration": 1789,
    "start_time": "2022-05-09T11:52:27.968Z"
   },
   {
    "duration": 11,
    "start_time": "2022-05-09T11:52:38.053Z"
   },
   {
    "duration": 1720,
    "start_time": "2022-05-09T11:52:58.703Z"
   },
   {
    "duration": 7,
    "start_time": "2022-05-09T11:53:12.253Z"
   },
   {
    "duration": 11,
    "start_time": "2022-05-09T11:56:00.928Z"
   },
   {
    "duration": 35,
    "start_time": "2022-05-09T11:56:26.561Z"
   },
   {
    "duration": 31,
    "start_time": "2022-05-09T11:57:18.436Z"
   },
   {
    "duration": 29,
    "start_time": "2022-05-09T11:57:30.436Z"
   },
   {
    "duration": 28,
    "start_time": "2022-05-09T11:58:03.471Z"
   },
   {
    "duration": 11,
    "start_time": "2022-05-09T12:03:23.271Z"
   },
   {
    "duration": 14,
    "start_time": "2022-05-09T12:03:39.687Z"
   },
   {
    "duration": 5,
    "start_time": "2022-05-09T12:04:53.549Z"
   },
   {
    "duration": 11,
    "start_time": "2022-05-09T12:06:44.684Z"
   },
   {
    "duration": 10,
    "start_time": "2022-05-09T12:27:32.101Z"
   },
   {
    "duration": 3,
    "start_time": "2022-05-09T12:27:40.105Z"
   },
   {
    "duration": 141,
    "start_time": "2022-05-09T12:27:42.371Z"
   },
   {
    "duration": 12,
    "start_time": "2022-05-09T12:28:29.860Z"
   },
   {
    "duration": 32,
    "start_time": "2022-05-09T12:29:49.188Z"
   },
   {
    "duration": 4,
    "start_time": "2022-05-09T12:29:57.043Z"
   },
   {
    "duration": 33,
    "start_time": "2022-05-09T12:29:57.589Z"
   },
   {
    "duration": 143,
    "start_time": "2022-05-09T12:30:29.732Z"
   },
   {
    "duration": 9,
    "start_time": "2022-05-09T12:38:41.745Z"
   },
   {
    "duration": 20,
    "start_time": "2022-05-09T13:08:42.103Z"
   },
   {
    "duration": 20,
    "start_time": "2022-05-09T13:09:17.520Z"
   },
   {
    "duration": 14,
    "start_time": "2022-05-09T13:10:47.224Z"
   },
   {
    "duration": 14,
    "start_time": "2022-05-09T13:25:05.364Z"
   },
   {
    "duration": 15,
    "start_time": "2022-05-09T13:25:18.101Z"
   },
   {
    "duration": 4,
    "start_time": "2022-05-09T13:25:23.071Z"
   },
   {
    "duration": 51,
    "start_time": "2022-05-09T13:25:23.078Z"
   },
   {
    "duration": 53,
    "start_time": "2022-05-09T13:25:23.131Z"
   },
   {
    "duration": 7,
    "start_time": "2022-05-09T13:25:23.186Z"
   },
   {
    "duration": 11,
    "start_time": "2022-05-09T13:25:23.196Z"
   },
   {
    "duration": 96,
    "start_time": "2022-05-09T13:25:23.209Z"
   },
   {
    "duration": 11,
    "start_time": "2022-05-09T13:25:23.307Z"
   },
   {
    "duration": 36,
    "start_time": "2022-05-09T13:25:23.319Z"
   },
   {
    "duration": 14,
    "start_time": "2022-05-09T13:25:23.356Z"
   },
   {
    "duration": 10,
    "start_time": "2022-05-09T13:25:41.444Z"
   },
   {
    "duration": 5,
    "start_time": "2022-05-09T13:25:43.126Z"
   },
   {
    "duration": 6,
    "start_time": "2022-05-09T13:25:47.085Z"
   },
   {
    "duration": 109,
    "start_time": "2022-05-09T13:26:43.402Z"
   },
   {
    "duration": 5,
    "start_time": "2022-05-09T13:26:44.303Z"
   },
   {
    "duration": 112,
    "start_time": "2022-05-09T13:26:51.430Z"
   },
   {
    "duration": 15,
    "start_time": "2022-05-09T13:27:20.187Z"
   },
   {
    "duration": 18,
    "start_time": "2022-05-09T13:27:20.205Z"
   },
   {
    "duration": 12,
    "start_time": "2022-05-09T13:27:31.814Z"
   },
   {
    "duration": 14,
    "start_time": "2022-05-09T13:27:35.487Z"
   },
   {
    "duration": 7,
    "start_time": "2022-05-09T13:27:44.873Z"
   },
   {
    "duration": 9,
    "start_time": "2022-05-09T13:28:00.240Z"
   },
   {
    "duration": 10,
    "start_time": "2022-05-09T13:28:24.254Z"
   },
   {
    "duration": 9,
    "start_time": "2022-05-09T13:28:47.434Z"
   },
   {
    "duration": 10,
    "start_time": "2022-05-09T13:32:21.670Z"
   },
   {
    "duration": 33,
    "start_time": "2022-05-09T13:34:29.312Z"
   },
   {
    "duration": 42,
    "start_time": "2022-05-09T13:34:37.887Z"
   },
   {
    "duration": 9,
    "start_time": "2022-05-09T13:39:12.568Z"
   },
   {
    "duration": 13,
    "start_time": "2022-05-09T13:39:24.118Z"
   },
   {
    "duration": 97,
    "start_time": "2022-05-09T13:39:53.117Z"
   },
   {
    "duration": 10,
    "start_time": "2022-05-09T13:40:33.135Z"
   },
   {
    "duration": 76,
    "start_time": "2022-05-09T13:40:33.937Z"
   },
   {
    "duration": 9,
    "start_time": "2022-05-09T13:40:36.734Z"
   },
   {
    "duration": 9,
    "start_time": "2022-05-09T13:40:41.647Z"
   },
   {
    "duration": 3,
    "start_time": "2022-05-09T13:41:13.831Z"
   },
   {
    "duration": 7,
    "start_time": "2022-05-09T14:26:48.609Z"
   },
   {
    "duration": 11,
    "start_time": "2022-05-09T14:29:47.096Z"
   },
   {
    "duration": 9,
    "start_time": "2022-05-09T14:29:58.168Z"
   },
   {
    "duration": 4,
    "start_time": "2022-05-09T14:31:05.082Z"
   },
   {
    "duration": 53,
    "start_time": "2022-05-09T14:31:05.090Z"
   },
   {
    "duration": 69,
    "start_time": "2022-05-09T14:31:05.145Z"
   },
   {
    "duration": 7,
    "start_time": "2022-05-09T14:31:05.215Z"
   },
   {
    "duration": 30,
    "start_time": "2022-05-09T14:31:05.224Z"
   },
   {
    "duration": 96,
    "start_time": "2022-05-09T14:31:05.256Z"
   },
   {
    "duration": 15,
    "start_time": "2022-05-09T14:31:05.354Z"
   },
   {
    "duration": 18,
    "start_time": "2022-05-09T14:31:13.173Z"
   },
   {
    "duration": 33,
    "start_time": "2022-05-09T14:55:45.773Z"
   },
   {
    "duration": 49,
    "start_time": "2022-05-09T14:55:48.843Z"
   },
   {
    "duration": 3,
    "start_time": "2022-05-09T14:56:01.411Z"
   },
   {
    "duration": 58,
    "start_time": "2022-05-09T14:56:01.417Z"
   },
   {
    "duration": 78,
    "start_time": "2022-05-09T14:56:01.477Z"
   },
   {
    "duration": 7,
    "start_time": "2022-05-09T14:56:01.557Z"
   },
   {
    "duration": 12,
    "start_time": "2022-05-09T14:56:01.566Z"
   },
   {
    "duration": 89,
    "start_time": "2022-05-09T14:56:01.580Z"
   },
   {
    "duration": 13,
    "start_time": "2022-05-09T14:56:01.670Z"
   },
   {
    "duration": 17,
    "start_time": "2022-05-09T14:56:01.684Z"
   },
   {
    "duration": 103,
    "start_time": "2022-05-09T14:56:01.703Z"
   },
   {
    "duration": 17,
    "start_time": "2022-05-09T14:56:01.808Z"
   },
   {
    "duration": 24,
    "start_time": "2022-05-09T14:56:01.828Z"
   },
   {
    "duration": 8,
    "start_time": "2022-05-09T14:56:01.853Z"
   },
   {
    "duration": 5,
    "start_time": "2022-05-09T14:56:05.347Z"
   },
   {
    "duration": 51,
    "start_time": "2022-05-09T14:56:05.747Z"
   },
   {
    "duration": 8,
    "start_time": "2022-05-09T15:07:12.666Z"
   },
   {
    "duration": 8,
    "start_time": "2022-05-09T15:07:45.699Z"
   },
   {
    "duration": 16,
    "start_time": "2022-05-09T15:15:45.384Z"
   },
   {
    "duration": 14,
    "start_time": "2022-05-09T15:16:02.316Z"
   },
   {
    "duration": 15,
    "start_time": "2022-05-09T15:16:13.398Z"
   },
   {
    "duration": 16,
    "start_time": "2022-05-09T15:16:55.483Z"
   },
   {
    "duration": 21,
    "start_time": "2022-05-09T15:18:15.188Z"
   },
   {
    "duration": 13,
    "start_time": "2022-05-09T15:18:27.170Z"
   },
   {
    "duration": 27,
    "start_time": "2022-05-09T15:19:03.227Z"
   },
   {
    "duration": 1786,
    "start_time": "2022-05-09T15:19:20.594Z"
   },
   {
    "duration": 15,
    "start_time": "2022-05-09T15:19:36.931Z"
   },
   {
    "duration": 24,
    "start_time": "2022-05-09T15:19:56.206Z"
   },
   {
    "duration": 17,
    "start_time": "2022-05-09T15:30:23.951Z"
   },
   {
    "duration": 22,
    "start_time": "2022-05-09T15:30:45.576Z"
   },
   {
    "duration": 13,
    "start_time": "2022-05-09T15:31:37.365Z"
   },
   {
    "duration": 1950,
    "start_time": "2022-05-10T03:23:13.638Z"
   },
   {
    "duration": 69,
    "start_time": "2022-05-10T03:23:15.592Z"
   },
   {
    "duration": 138,
    "start_time": "2022-05-10T03:23:15.663Z"
   },
   {
    "duration": 28,
    "start_time": "2022-05-10T03:23:15.805Z"
   },
   {
    "duration": 23,
    "start_time": "2022-05-10T03:23:15.836Z"
   },
   {
    "duration": 1518,
    "start_time": "2022-05-10T03:23:15.862Z"
   },
   {
    "duration": 47,
    "start_time": "2022-05-10T03:23:17.382Z"
   },
   {
    "duration": 24,
    "start_time": "2022-05-10T03:23:17.431Z"
   },
   {
    "duration": 225,
    "start_time": "2022-05-10T03:23:17.457Z"
   },
   {
    "duration": 27,
    "start_time": "2022-05-10T03:23:17.685Z"
   },
   {
    "duration": 13,
    "start_time": "2022-05-10T03:23:17.725Z"
   },
   {
    "duration": 5,
    "start_time": "2022-05-10T03:23:17.740Z"
   },
   {
    "duration": 78,
    "start_time": "2022-05-10T03:23:17.748Z"
   },
   {
    "duration": 18,
    "start_time": "2022-05-10T03:23:17.828Z"
   },
   {
    "duration": 5,
    "start_time": "2022-05-10T03:23:17.848Z"
   },
   {
    "duration": 18,
    "start_time": "2022-05-10T03:23:17.856Z"
   },
   {
    "duration": 5,
    "start_time": "2022-05-10T03:29:37.943Z"
   },
   {
    "duration": 55,
    "start_time": "2022-05-10T03:29:38.686Z"
   },
   {
    "duration": 66,
    "start_time": "2022-05-10T03:30:09.571Z"
   },
   {
    "duration": 261,
    "start_time": "2022-05-10T03:32:23.879Z"
   },
   {
    "duration": 25,
    "start_time": "2022-05-10T03:34:12.120Z"
   },
   {
    "duration": 17,
    "start_time": "2022-05-10T03:35:09.504Z"
   },
   {
    "duration": 18,
    "start_time": "2022-05-10T03:38:32.365Z"
   },
   {
    "duration": 45,
    "start_time": "2022-05-10T03:45:33.378Z"
   },
   {
    "duration": 32,
    "start_time": "2022-05-10T03:46:58.313Z"
   },
   {
    "duration": 21,
    "start_time": "2022-05-10T03:47:26.388Z"
   },
   {
    "duration": 26,
    "start_time": "2022-05-10T03:47:46.745Z"
   },
   {
    "duration": 29,
    "start_time": "2022-05-10T03:47:59.936Z"
   },
   {
    "duration": 21,
    "start_time": "2022-05-10T03:48:03.810Z"
   },
   {
    "duration": 11,
    "start_time": "2022-05-10T03:48:43.769Z"
   },
   {
    "duration": 13,
    "start_time": "2022-05-10T03:48:50.368Z"
   },
   {
    "duration": 13,
    "start_time": "2022-05-10T03:49:00.591Z"
   },
   {
    "duration": 76,
    "start_time": "2022-05-10T03:50:17.365Z"
   },
   {
    "duration": 74,
    "start_time": "2022-05-10T03:50:45.533Z"
   },
   {
    "duration": 19,
    "start_time": "2022-05-10T03:51:09.557Z"
   },
   {
    "duration": 19,
    "start_time": "2022-05-10T03:52:15.551Z"
   },
   {
    "duration": 33,
    "start_time": "2022-05-10T03:52:21.136Z"
   },
   {
    "duration": 26,
    "start_time": "2022-05-10T03:52:36.338Z"
   },
   {
    "duration": 15,
    "start_time": "2022-05-10T03:52:40.777Z"
   },
   {
    "duration": 131,
    "start_time": "2022-05-10T03:52:41.052Z"
   },
   {
    "duration": 16,
    "start_time": "2022-05-10T03:52:47.091Z"
   },
   {
    "duration": 24,
    "start_time": "2022-05-10T03:52:48.866Z"
   },
   {
    "duration": 223,
    "start_time": "2022-05-10T03:52:49.912Z"
   },
   {
    "duration": 16,
    "start_time": "2022-05-10T03:52:56.204Z"
   },
   {
    "duration": 14,
    "start_time": "2022-05-10T03:53:04.373Z"
   },
   {
    "duration": 7,
    "start_time": "2022-05-10T03:53:06.237Z"
   },
   {
    "duration": 103,
    "start_time": "2022-05-10T03:53:07.062Z"
   },
   {
    "duration": 16,
    "start_time": "2022-05-10T03:53:18.589Z"
   },
   {
    "duration": 22,
    "start_time": "2022-05-10T03:53:29.454Z"
   },
   {
    "duration": 14,
    "start_time": "2022-05-10T03:53:52.235Z"
   },
   {
    "duration": 11,
    "start_time": "2022-05-10T03:54:27.041Z"
   },
   {
    "duration": 17,
    "start_time": "2022-05-10T03:54:32.144Z"
   },
   {
    "duration": 18,
    "start_time": "2022-05-10T03:55:02.067Z"
   },
   {
    "duration": 17,
    "start_time": "2022-05-10T03:55:34.093Z"
   },
   {
    "duration": 21,
    "start_time": "2022-05-10T03:56:15.881Z"
   },
   {
    "duration": 17,
    "start_time": "2022-05-10T03:56:32.124Z"
   },
   {
    "duration": 17,
    "start_time": "2022-05-10T03:56:44.738Z"
   },
   {
    "duration": 21,
    "start_time": "2022-05-10T03:58:22.247Z"
   },
   {
    "duration": 20,
    "start_time": "2022-05-10T04:00:44.066Z"
   },
   {
    "duration": 20,
    "start_time": "2022-05-10T04:01:11.831Z"
   },
   {
    "duration": 18,
    "start_time": "2022-05-10T04:01:23.321Z"
   },
   {
    "duration": 23,
    "start_time": "2022-05-10T04:01:34.967Z"
   },
   {
    "duration": 1678,
    "start_time": "2022-05-10T04:02:29.811Z"
   },
   {
    "duration": 24,
    "start_time": "2022-05-10T04:02:41.588Z"
   },
   {
    "duration": 24,
    "start_time": "2022-05-10T04:06:17.943Z"
   },
   {
    "duration": 70,
    "start_time": "2022-05-10T04:06:32.391Z"
   },
   {
    "duration": 68,
    "start_time": "2022-05-10T04:06:43.816Z"
   },
   {
    "duration": 54,
    "start_time": "2022-05-10T04:07:38.617Z"
   },
   {
    "duration": 25,
    "start_time": "2022-05-10T04:07:49.685Z"
   },
   {
    "duration": 44,
    "start_time": "2022-05-10T04:08:29.969Z"
   },
   {
    "duration": 16,
    "start_time": "2022-05-10T04:08:39.975Z"
   },
   {
    "duration": 177,
    "start_time": "2022-05-10T04:12:07.856Z"
   },
   {
    "duration": 12,
    "start_time": "2022-05-10T04:13:40.154Z"
   },
   {
    "duration": 23,
    "start_time": "2022-05-10T04:13:49.113Z"
   },
   {
    "duration": 25,
    "start_time": "2022-05-10T04:14:01.778Z"
   },
   {
    "duration": 26,
    "start_time": "2022-05-10T04:14:19.130Z"
   },
   {
    "duration": 19,
    "start_time": "2022-05-10T04:21:11.416Z"
   },
   {
    "duration": 18,
    "start_time": "2022-05-10T04:21:47.305Z"
   },
   {
    "duration": 19,
    "start_time": "2022-05-10T04:23:05.448Z"
   },
   {
    "duration": 18,
    "start_time": "2022-05-10T04:25:49.775Z"
   },
   {
    "duration": 17,
    "start_time": "2022-05-10T04:26:27.088Z"
   },
   {
    "duration": 18,
    "start_time": "2022-05-10T04:26:34.957Z"
   },
   {
    "duration": 5,
    "start_time": "2022-05-10T04:31:23.172Z"
   },
   {
    "duration": 1909,
    "start_time": "2022-05-10T04:34:00.563Z"
   },
   {
    "duration": 4,
    "start_time": "2022-05-10T04:34:25.026Z"
   },
   {
    "duration": 391,
    "start_time": "2022-05-10T04:34:25.936Z"
   },
   {
    "duration": 5,
    "start_time": "2022-05-10T04:34:56.922Z"
   },
   {
    "duration": 20,
    "start_time": "2022-05-10T04:34:57.913Z"
   },
   {
    "duration": 22,
    "start_time": "2022-05-10T04:35:44.441Z"
   },
   {
    "duration": 17,
    "start_time": "2022-05-10T04:38:11.734Z"
   },
   {
    "duration": 21,
    "start_time": "2022-05-10T04:38:25.784Z"
   },
   {
    "duration": 4,
    "start_time": "2022-05-10T04:43:19.198Z"
   },
   {
    "duration": 20,
    "start_time": "2022-05-10T04:43:24.494Z"
   },
   {
    "duration": 13,
    "start_time": "2022-05-10T04:44:04.078Z"
   },
   {
    "duration": 5,
    "start_time": "2022-05-10T04:51:26.846Z"
   },
   {
    "duration": 14,
    "start_time": "2022-05-10T04:51:27.606Z"
   },
   {
    "duration": 21,
    "start_time": "2022-05-10T04:51:37.950Z"
   },
   {
    "duration": 5,
    "start_time": "2022-05-10T04:51:55.190Z"
   },
   {
    "duration": 22,
    "start_time": "2022-05-10T04:51:57.054Z"
   },
   {
    "duration": 4,
    "start_time": "2022-05-10T04:52:34.000Z"
   },
   {
    "duration": 22,
    "start_time": "2022-05-10T04:52:35.592Z"
   },
   {
    "duration": 4,
    "start_time": "2022-05-10T04:52:53.210Z"
   },
   {
    "duration": 24,
    "start_time": "2022-05-10T04:52:54.625Z"
   },
   {
    "duration": 5,
    "start_time": "2022-05-10T04:53:20.068Z"
   },
   {
    "duration": 64,
    "start_time": "2022-05-10T04:53:20.907Z"
   },
   {
    "duration": 14,
    "start_time": "2022-05-10T05:23:25.767Z"
   },
   {
    "duration": 16,
    "start_time": "2022-05-10T05:24:28.186Z"
   },
   {
    "duration": 22,
    "start_time": "2022-05-10T05:33:46.065Z"
   },
   {
    "duration": 26,
    "start_time": "2022-05-10T05:33:58.139Z"
   },
   {
    "duration": 21,
    "start_time": "2022-05-10T05:34:08.405Z"
   },
   {
    "duration": 20,
    "start_time": "2022-05-10T05:34:16.100Z"
   },
   {
    "duration": 5,
    "start_time": "2022-05-10T05:34:17.636Z"
   },
   {
    "duration": 15,
    "start_time": "2022-05-10T05:34:18.522Z"
   },
   {
    "duration": 92,
    "start_time": "2022-05-10T05:35:22.400Z"
   },
   {
    "duration": 26,
    "start_time": "2022-05-10T05:35:28.132Z"
   },
   {
    "duration": 20,
    "start_time": "2022-05-10T05:35:31.843Z"
   },
   {
    "duration": 5,
    "start_time": "2022-05-10T05:35:33.194Z"
   },
   {
    "duration": 15,
    "start_time": "2022-05-10T05:35:37.493Z"
   },
   {
    "duration": 24,
    "start_time": "2022-05-10T05:36:28.645Z"
   },
   {
    "duration": 19,
    "start_time": "2022-05-10T05:36:48.205Z"
   },
   {
    "duration": 5,
    "start_time": "2022-05-10T05:37:15.117Z"
   },
   {
    "duration": 22,
    "start_time": "2022-05-10T05:37:28.153Z"
   },
   {
    "duration": 5,
    "start_time": "2022-05-10T05:52:25.178Z"
   },
   {
    "duration": 6,
    "start_time": "2022-05-10T05:52:28.292Z"
   },
   {
    "duration": 4,
    "start_time": "2022-05-10T05:52:45.537Z"
   },
   {
    "duration": 8,
    "start_time": "2022-05-10T05:52:47.089Z"
   },
   {
    "duration": 4,
    "start_time": "2022-05-10T05:53:07.306Z"
   },
   {
    "duration": 21,
    "start_time": "2022-05-10T05:53:08.562Z"
   },
   {
    "duration": 100,
    "start_time": "2022-05-10T05:53:22.084Z"
   },
   {
    "duration": 5,
    "start_time": "2022-05-10T05:53:26.794Z"
   },
   {
    "duration": 5,
    "start_time": "2022-05-10T05:54:31.419Z"
   },
   {
    "duration": 6,
    "start_time": "2022-05-10T05:54:31.997Z"
   },
   {
    "duration": 4,
    "start_time": "2022-05-10T05:54:41.364Z"
   },
   {
    "duration": 5,
    "start_time": "2022-05-10T05:54:42.612Z"
   },
   {
    "duration": 3,
    "start_time": "2022-05-10T05:55:10.974Z"
   },
   {
    "duration": 21,
    "start_time": "2022-05-10T05:55:11.662Z"
   },
   {
    "duration": 4,
    "start_time": "2022-05-10T05:56:00.943Z"
   },
   {
    "duration": 6,
    "start_time": "2022-05-10T05:56:02.135Z"
   },
   {
    "duration": 4,
    "start_time": "2022-05-10T05:57:03.308Z"
   },
   {
    "duration": 11,
    "start_time": "2022-05-10T05:57:06.009Z"
   },
   {
    "duration": 101,
    "start_time": "2022-05-10T05:57:39.740Z"
   },
   {
    "duration": 5,
    "start_time": "2022-05-10T05:58:03.020Z"
   },
   {
    "duration": 21,
    "start_time": "2022-05-10T05:58:05.679Z"
   },
   {
    "duration": 4,
    "start_time": "2022-05-10T05:59:39.213Z"
   },
   {
    "duration": 21,
    "start_time": "2022-05-10T05:59:40.926Z"
   },
   {
    "duration": 5,
    "start_time": "2022-05-10T06:03:17.268Z"
   },
   {
    "duration": 5,
    "start_time": "2022-05-10T06:03:17.785Z"
   },
   {
    "duration": 21,
    "start_time": "2022-05-10T06:03:19.611Z"
   },
   {
    "duration": 6,
    "start_time": "2022-05-10T06:05:15.756Z"
   },
   {
    "duration": 23,
    "start_time": "2022-05-10T06:05:16.500Z"
   },
   {
    "duration": 5,
    "start_time": "2022-05-10T06:05:54.913Z"
   },
   {
    "duration": 21,
    "start_time": "2022-05-10T06:05:55.942Z"
   },
   {
    "duration": 4,
    "start_time": "2022-05-10T06:07:56.600Z"
   },
   {
    "duration": 24,
    "start_time": "2022-05-10T06:07:57.529Z"
   },
   {
    "duration": 5,
    "start_time": "2022-05-10T06:08:13.236Z"
   },
   {
    "duration": 25,
    "start_time": "2022-05-10T06:08:16.355Z"
   },
   {
    "duration": 37,
    "start_time": "2022-05-10T06:08:34.715Z"
   },
   {
    "duration": 4,
    "start_time": "2022-05-10T06:08:48.785Z"
   },
   {
    "duration": 21,
    "start_time": "2022-05-10T06:08:49.777Z"
   },
   {
    "duration": 5,
    "start_time": "2022-05-10T06:09:20.057Z"
   },
   {
    "duration": 23,
    "start_time": "2022-05-10T06:09:20.636Z"
   },
   {
    "duration": 5,
    "start_time": "2022-05-10T06:09:30.097Z"
   },
   {
    "duration": 22,
    "start_time": "2022-05-10T06:09:30.841Z"
   },
   {
    "duration": 6,
    "start_time": "2022-05-10T06:09:45.842Z"
   },
   {
    "duration": 22,
    "start_time": "2022-05-10T06:09:46.540Z"
   },
   {
    "duration": 5,
    "start_time": "2022-05-10T06:10:26.031Z"
   },
   {
    "duration": 22,
    "start_time": "2022-05-10T06:10:28.269Z"
   },
   {
    "duration": 112,
    "start_time": "2022-05-10T06:10:50.763Z"
   },
   {
    "duration": 21,
    "start_time": "2022-05-10T06:10:51.541Z"
   },
   {
    "duration": 99,
    "start_time": "2022-05-10T06:11:01.020Z"
   },
   {
    "duration": 5,
    "start_time": "2022-05-10T06:11:11.580Z"
   },
   {
    "duration": 23,
    "start_time": "2022-05-10T06:11:12.523Z"
   },
   {
    "duration": 6,
    "start_time": "2022-05-10T06:12:31.853Z"
   },
   {
    "duration": 25,
    "start_time": "2022-05-10T06:12:35.788Z"
   },
   {
    "duration": 5,
    "start_time": "2022-05-10T06:13:00.898Z"
   },
   {
    "duration": 29,
    "start_time": "2022-05-10T06:13:02.132Z"
   },
   {
    "duration": 1639,
    "start_time": "2022-05-10T10:02:34.661Z"
   },
   {
    "duration": 67,
    "start_time": "2022-05-10T10:02:36.303Z"
   },
   {
    "duration": 105,
    "start_time": "2022-05-10T10:02:36.372Z"
   },
   {
    "duration": 48,
    "start_time": "2022-05-10T10:02:36.480Z"
   },
   {
    "duration": 15,
    "start_time": "2022-05-10T10:02:36.531Z"
   },
   {
    "duration": 626,
    "start_time": "2022-05-10T10:02:36.548Z"
   },
   {
    "duration": 20,
    "start_time": "2022-05-10T10:02:37.177Z"
   },
   {
    "duration": 44,
    "start_time": "2022-05-10T10:02:37.199Z"
   },
   {
    "duration": 227,
    "start_time": "2022-05-10T10:02:37.246Z"
   },
   {
    "duration": 17,
    "start_time": "2022-05-10T10:02:37.476Z"
   },
   {
    "duration": 35,
    "start_time": "2022-05-10T10:02:37.495Z"
   },
   {
    "duration": 8,
    "start_time": "2022-05-10T10:02:37.532Z"
   },
   {
    "duration": 89,
    "start_time": "2022-05-10T10:02:37.543Z"
   },
   {
    "duration": 4,
    "start_time": "2022-05-10T10:02:37.634Z"
   },
   {
    "duration": 248,
    "start_time": "2022-05-10T10:02:37.640Z"
   },
   {
    "duration": 0,
    "start_time": "2022-05-10T10:02:37.890Z"
   },
   {
    "duration": 0,
    "start_time": "2022-05-10T10:02:37.891Z"
   },
   {
    "duration": 0,
    "start_time": "2022-05-10T10:02:37.893Z"
   },
   {
    "duration": 0,
    "start_time": "2022-05-10T10:02:37.894Z"
   },
   {
    "duration": 18,
    "start_time": "2022-05-10T10:36:48.448Z"
   },
   {
    "duration": 16,
    "start_time": "2022-05-10T10:36:48.857Z"
   },
   {
    "duration": 15,
    "start_time": "2022-05-10T10:37:08.553Z"
   },
   {
    "duration": 14,
    "start_time": "2022-05-10T10:37:09.687Z"
   },
   {
    "duration": 4,
    "start_time": "2022-05-10T10:37:27.306Z"
   },
   {
    "duration": 64,
    "start_time": "2022-05-10T10:37:29.235Z"
   },
   {
    "duration": 3,
    "start_time": "2022-05-10T10:37:37.098Z"
   },
   {
    "duration": 17,
    "start_time": "2022-05-10T10:37:38.490Z"
   },
   {
    "duration": 15,
    "start_time": "2022-05-10T10:37:57.081Z"
   },
   {
    "duration": 22,
    "start_time": "2022-05-10T10:38:11.235Z"
   },
   {
    "duration": 15,
    "start_time": "2022-05-10T10:38:39.210Z"
   },
   {
    "duration": 3,
    "start_time": "2022-05-10T10:38:41.932Z"
   },
   {
    "duration": 20,
    "start_time": "2022-05-10T10:38:43.091Z"
   },
   {
    "duration": 5,
    "start_time": "2022-05-10T10:38:48.060Z"
   },
   {
    "duration": 29,
    "start_time": "2022-05-10T10:38:48.667Z"
   },
   {
    "duration": 27,
    "start_time": "2022-05-10T10:40:50.012Z"
   },
   {
    "duration": 27,
    "start_time": "2022-05-10T10:42:16.262Z"
   },
   {
    "duration": 22,
    "start_time": "2022-05-10T10:43:01.240Z"
   },
   {
    "duration": 19,
    "start_time": "2022-05-10T10:43:13.369Z"
   },
   {
    "duration": 3,
    "start_time": "2022-05-10T10:43:14.057Z"
   },
   {
    "duration": 20,
    "start_time": "2022-05-10T10:43:15.392Z"
   },
   {
    "duration": 5,
    "start_time": "2022-05-10T10:43:16.873Z"
   },
   {
    "duration": 24,
    "start_time": "2022-05-10T10:43:17.705Z"
   },
   {
    "duration": 4,
    "start_time": "2022-05-10T10:43:38.000Z"
   },
   {
    "duration": 6,
    "start_time": "2022-05-10T10:43:40.448Z"
   },
   {
    "duration": 6,
    "start_time": "2022-05-10T10:43:50.847Z"
   },
   {
    "duration": 25,
    "start_time": "2022-05-10T10:43:51.399Z"
   },
   {
    "duration": 4,
    "start_time": "2022-05-10T10:44:19.946Z"
   },
   {
    "duration": 6,
    "start_time": "2022-05-10T10:44:20.730Z"
   },
   {
    "duration": 23,
    "start_time": "2022-05-10T10:44:45.132Z"
   },
   {
    "duration": 6,
    "start_time": "2022-05-10T10:44:55.820Z"
   },
   {
    "duration": 19,
    "start_time": "2022-05-10T10:44:56.573Z"
   },
   {
    "duration": 6,
    "start_time": "2022-05-10T10:57:42.596Z"
   },
   {
    "duration": 14,
    "start_time": "2022-05-10T10:57:43.454Z"
   },
   {
    "duration": 39,
    "start_time": "2022-05-10T10:58:05.960Z"
   },
   {
    "duration": 200,
    "start_time": "2022-05-10T11:03:43.797Z"
   },
   {
    "duration": 5,
    "start_time": "2022-05-10T11:03:51.690Z"
   },
   {
    "duration": 26,
    "start_time": "2022-05-10T11:03:55.086Z"
   },
   {
    "duration": 4,
    "start_time": "2022-05-10T11:04:43.496Z"
   },
   {
    "duration": 21,
    "start_time": "2022-05-10T11:04:46.061Z"
   },
   {
    "duration": 33,
    "start_time": "2022-05-10T11:05:28.112Z"
   },
   {
    "duration": 23,
    "start_time": "2022-05-10T11:12:22.159Z"
   },
   {
    "duration": 5,
    "start_time": "2022-05-10T11:15:20.098Z"
   },
   {
    "duration": 24,
    "start_time": "2022-05-10T11:15:22.826Z"
   },
   {
    "duration": 5,
    "start_time": "2022-05-10T11:15:45.926Z"
   },
   {
    "duration": 23,
    "start_time": "2022-05-10T11:15:46.652Z"
   },
   {
    "duration": 101,
    "start_time": "2022-05-10T11:16:58.204Z"
   },
   {
    "duration": 109,
    "start_time": "2022-05-10T11:17:09.125Z"
   },
   {
    "duration": 110,
    "start_time": "2022-05-10T11:17:26.571Z"
   },
   {
    "duration": 6,
    "start_time": "2022-05-10T11:17:42.647Z"
   },
   {
    "duration": 19,
    "start_time": "2022-05-10T11:17:44.268Z"
   },
   {
    "duration": 22,
    "start_time": "2022-05-10T11:18:09.552Z"
   },
   {
    "duration": 5,
    "start_time": "2022-05-10T11:18:25.724Z"
   },
   {
    "duration": 2329,
    "start_time": "2022-05-10T11:18:27.398Z"
   },
   {
    "duration": 103,
    "start_time": "2022-05-10T11:36:53.270Z"
   },
   {
    "duration": 1867,
    "start_time": "2022-05-10T11:37:01.017Z"
   },
   {
    "duration": 18,
    "start_time": "2022-05-10T11:38:14.857Z"
   },
   {
    "duration": 31,
    "start_time": "2022-05-10T11:39:38.132Z"
   },
   {
    "duration": 30,
    "start_time": "2022-05-10T11:39:57.731Z"
   },
   {
    "duration": 30,
    "start_time": "2022-05-10T11:40:55.830Z"
   },
   {
    "duration": 31,
    "start_time": "2022-05-10T11:41:39.661Z"
   },
   {
    "duration": 24,
    "start_time": "2022-05-10T11:41:55.904Z"
   },
   {
    "duration": 37,
    "start_time": "2022-05-10T11:42:02.420Z"
   },
   {
    "duration": 34,
    "start_time": "2022-05-10T11:42:22.752Z"
   },
   {
    "duration": 16,
    "start_time": "2022-05-10T11:43:17.553Z"
   },
   {
    "duration": 32,
    "start_time": "2022-05-10T11:44:18.763Z"
   },
   {
    "duration": 11,
    "start_time": "2022-05-10T11:47:15.533Z"
   },
   {
    "duration": 24,
    "start_time": "2022-05-10T11:47:20.364Z"
   },
   {
    "duration": 14,
    "start_time": "2022-05-10T11:47:52.463Z"
   },
   {
    "duration": 11,
    "start_time": "2022-05-10T11:48:07.879Z"
   },
   {
    "duration": 18,
    "start_time": "2022-05-10T11:48:09.410Z"
   },
   {
    "duration": 30,
    "start_time": "2022-05-10T11:48:15.374Z"
   },
   {
    "duration": 38,
    "start_time": "2022-05-10T11:48:49.344Z"
   },
   {
    "duration": 16,
    "start_time": "2022-05-10T11:50:39.314Z"
   },
   {
    "duration": 28,
    "start_time": "2022-05-10T11:51:05.261Z"
   },
   {
    "duration": 23,
    "start_time": "2022-05-10T11:51:23.575Z"
   },
   {
    "duration": 409,
    "start_time": "2022-05-10T11:53:56.808Z"
   },
   {
    "duration": 7,
    "start_time": "2022-05-10T12:06:19.579Z"
   },
   {
    "duration": 104,
    "start_time": "2022-05-10T12:06:19.589Z"
   },
   {
    "duration": 106,
    "start_time": "2022-05-10T12:06:19.697Z"
   },
   {
    "duration": 33,
    "start_time": "2022-05-10T12:06:19.825Z"
   },
   {
    "duration": 15,
    "start_time": "2022-05-10T12:06:19.861Z"
   },
   {
    "duration": 267,
    "start_time": "2022-05-10T12:06:19.879Z"
   },
   {
    "duration": 25,
    "start_time": "2022-05-10T12:06:20.150Z"
   },
   {
    "duration": 62,
    "start_time": "2022-05-10T12:06:20.178Z"
   },
   {
    "duration": 301,
    "start_time": "2022-05-10T12:06:20.242Z"
   },
   {
    "duration": 23,
    "start_time": "2022-05-10T12:06:20.545Z"
   },
   {
    "duration": 51,
    "start_time": "2022-05-10T12:06:20.573Z"
   },
   {
    "duration": 6,
    "start_time": "2022-05-10T12:06:20.627Z"
   },
   {
    "duration": 95,
    "start_time": "2022-05-10T12:06:20.636Z"
   },
   {
    "duration": 28,
    "start_time": "2022-05-10T12:06:20.735Z"
   },
   {
    "duration": 21,
    "start_time": "2022-05-10T12:06:20.767Z"
   },
   {
    "duration": 9,
    "start_time": "2022-05-10T12:06:20.823Z"
   },
   {
    "duration": 29,
    "start_time": "2022-05-10T12:06:20.836Z"
   },
   {
    "duration": 597,
    "start_time": "2022-05-10T12:06:20.868Z"
   },
   {
    "duration": 0,
    "start_time": "2022-05-10T12:06:21.469Z"
   },
   {
    "duration": 1,
    "start_time": "2022-05-10T12:06:21.471Z"
   },
   {
    "duration": 0,
    "start_time": "2022-05-10T12:06:21.474Z"
   },
   {
    "duration": 0,
    "start_time": "2022-05-10T12:06:21.476Z"
   },
   {
    "duration": 0,
    "start_time": "2022-05-10T12:06:21.478Z"
   },
   {
    "duration": 23,
    "start_time": "2022-05-10T12:07:23.000Z"
   },
   {
    "duration": 539,
    "start_time": "2022-05-10T12:08:18.175Z"
   },
   {
    "duration": 497,
    "start_time": "2022-05-10T12:08:27.734Z"
   },
   {
    "duration": 718,
    "start_time": "2022-05-10T12:08:55.063Z"
   },
   {
    "duration": 110,
    "start_time": "2022-05-10T12:09:22.737Z"
   },
   {
    "duration": 29,
    "start_time": "2022-05-10T12:09:32.702Z"
   },
   {
    "duration": 1755,
    "start_time": "2022-05-10T12:10:21.416Z"
   },
   {
    "duration": 18,
    "start_time": "2022-05-10T12:10:38.610Z"
   },
   {
    "duration": 24,
    "start_time": "2022-05-10T12:11:08.096Z"
   },
   {
    "duration": 119,
    "start_time": "2022-05-10T12:11:20.961Z"
   },
   {
    "duration": 501,
    "start_time": "2022-05-10T12:11:35.465Z"
   },
   {
    "duration": 32,
    "start_time": "2022-05-10T12:12:51.218Z"
   },
   {
    "duration": 28,
    "start_time": "2022-05-10T12:14:22.961Z"
   },
   {
    "duration": 534,
    "start_time": "2022-05-10T12:14:34.246Z"
   },
   {
    "duration": 532,
    "start_time": "2022-05-10T12:15:13.720Z"
   },
   {
    "duration": 38,
    "start_time": "2022-05-10T12:15:52.378Z"
   },
   {
    "duration": 17,
    "start_time": "2022-05-10T12:15:56.961Z"
   },
   {
    "duration": 23,
    "start_time": "2022-05-10T12:16:31.357Z"
   },
   {
    "duration": 19,
    "start_time": "2022-05-10T12:16:37.394Z"
   },
   {
    "duration": 43,
    "start_time": "2022-05-10T12:17:24.210Z"
   },
   {
    "duration": 28,
    "start_time": "2022-05-10T12:20:40.061Z"
   },
   {
    "duration": 24,
    "start_time": "2022-05-10T12:20:52.085Z"
   },
   {
    "duration": 8,
    "start_time": "2022-05-10T12:21:08.043Z"
   },
   {
    "duration": 89,
    "start_time": "2022-05-10T12:21:08.299Z"
   },
   {
    "duration": 125,
    "start_time": "2022-05-10T12:21:08.581Z"
   },
   {
    "duration": 47,
    "start_time": "2022-05-10T12:21:09.372Z"
   },
   {
    "duration": 19,
    "start_time": "2022-05-10T12:21:09.907Z"
   },
   {
    "duration": 204,
    "start_time": "2022-05-10T12:21:10.164Z"
   },
   {
    "duration": 23,
    "start_time": "2022-05-10T12:21:10.708Z"
   },
   {
    "duration": 35,
    "start_time": "2022-05-10T12:21:11.367Z"
   },
   {
    "duration": 157,
    "start_time": "2022-05-10T12:21:12.146Z"
   },
   {
    "duration": 18,
    "start_time": "2022-05-10T12:21:13.251Z"
   },
   {
    "duration": 17,
    "start_time": "2022-05-10T12:21:13.804Z"
   },
   {
    "duration": 4,
    "start_time": "2022-05-10T12:21:14.865Z"
   },
   {
    "duration": 69,
    "start_time": "2022-05-10T12:21:15.436Z"
   },
   {
    "duration": 24,
    "start_time": "2022-05-10T12:21:16.283Z"
   },
   {
    "duration": 4,
    "start_time": "2022-05-10T12:21:16.683Z"
   },
   {
    "duration": 22,
    "start_time": "2022-05-10T12:21:17.389Z"
   },
   {
    "duration": 26,
    "start_time": "2022-05-10T12:21:17.979Z"
   },
   {
    "duration": 19,
    "start_time": "2022-05-10T12:21:18.253Z"
   },
   {
    "duration": 27,
    "start_time": "2022-05-10T12:21:18.539Z"
   },
   {
    "duration": 6,
    "start_time": "2022-05-10T12:21:18.781Z"
   },
   {
    "duration": 2304,
    "start_time": "2022-05-10T12:21:19.083Z"
   },
   {
    "duration": 0,
    "start_time": "2022-05-10T12:21:21.391Z"
   },
   {
    "duration": 26,
    "start_time": "2022-05-10T12:21:22.546Z"
   },
   {
    "duration": 2368,
    "start_time": "2022-05-10T12:21:34.802Z"
   },
   {
    "duration": 104,
    "start_time": "2022-05-10T12:21:37.175Z"
   },
   {
    "duration": 153,
    "start_time": "2022-05-10T12:21:37.282Z"
   },
   {
    "duration": 48,
    "start_time": "2022-05-10T12:21:37.439Z"
   },
   {
    "duration": 45,
    "start_time": "2022-05-10T12:21:37.490Z"
   },
   {
    "duration": 2431,
    "start_time": "2022-05-10T12:21:37.540Z"
   },
   {
    "duration": 74,
    "start_time": "2022-05-10T12:21:39.976Z"
   },
   {
    "duration": 80,
    "start_time": "2022-05-10T12:21:40.058Z"
   },
   {
    "duration": 266,
    "start_time": "2022-05-10T12:21:40.142Z"
   },
   {
    "duration": 29,
    "start_time": "2022-05-10T12:21:40.415Z"
   },
   {
    "duration": 30,
    "start_time": "2022-05-10T12:21:40.447Z"
   },
   {
    "duration": 7,
    "start_time": "2022-05-10T12:21:40.480Z"
   },
   {
    "duration": 111,
    "start_time": "2022-05-10T12:21:40.489Z"
   },
   {
    "duration": 53,
    "start_time": "2022-05-10T12:21:40.603Z"
   },
   {
    "duration": 5,
    "start_time": "2022-05-10T12:21:40.660Z"
   },
   {
    "duration": 23,
    "start_time": "2022-05-10T12:21:40.668Z"
   },
   {
    "duration": 338,
    "start_time": "2022-05-10T12:21:40.694Z"
   },
   {
    "duration": 0,
    "start_time": "2022-05-10T12:21:41.035Z"
   },
   {
    "duration": 0,
    "start_time": "2022-05-10T12:21:41.038Z"
   },
   {
    "duration": 0,
    "start_time": "2022-05-10T12:21:41.041Z"
   },
   {
    "duration": 0,
    "start_time": "2022-05-10T12:21:41.043Z"
   },
   {
    "duration": 0,
    "start_time": "2022-05-10T12:21:41.046Z"
   },
   {
    "duration": 0,
    "start_time": "2022-05-10T12:21:41.048Z"
   },
   {
    "duration": 35,
    "start_time": "2022-05-10T12:21:54.195Z"
   },
   {
    "duration": 18,
    "start_time": "2022-05-10T12:33:03.238Z"
   },
   {
    "duration": 105,
    "start_time": "2022-05-10T12:33:17.328Z"
   },
   {
    "duration": 23,
    "start_time": "2022-05-10T12:33:24.286Z"
   },
   {
    "duration": 35,
    "start_time": "2022-05-10T12:37:45.046Z"
   },
   {
    "duration": 49,
    "start_time": "2022-05-10T12:39:35.429Z"
   },
   {
    "duration": 42,
    "start_time": "2022-05-10T12:39:59.037Z"
   },
   {
    "duration": 34,
    "start_time": "2022-05-10T12:40:03.429Z"
   },
   {
    "duration": 24,
    "start_time": "2022-05-10T12:42:23.145Z"
   },
   {
    "duration": 36,
    "start_time": "2022-05-10T12:44:06.987Z"
   },
   {
    "duration": 30,
    "start_time": "2022-05-10T12:44:46.824Z"
   },
   {
    "duration": 47,
    "start_time": "2022-05-10T12:45:03.876Z"
   },
   {
    "duration": 27,
    "start_time": "2022-05-10T12:46:16.852Z"
   },
   {
    "duration": 27,
    "start_time": "2022-05-10T12:46:34.694Z"
   },
   {
    "duration": 382,
    "start_time": "2022-05-10T12:46:44.974Z"
   },
   {
    "duration": 80,
    "start_time": "2022-05-10T12:47:14.460Z"
   },
   {
    "duration": 93,
    "start_time": "2022-05-10T12:47:34.561Z"
   },
   {
    "duration": 219,
    "start_time": "2022-05-10T12:47:52.026Z"
   },
   {
    "duration": 22,
    "start_time": "2022-05-10T12:48:15.047Z"
   },
   {
    "duration": 210,
    "start_time": "2022-05-10T12:48:30.939Z"
   },
   {
    "duration": 328,
    "start_time": "2022-05-10T12:48:44.744Z"
   },
   {
    "duration": 295,
    "start_time": "2022-05-10T12:49:36.950Z"
   },
   {
    "duration": 204,
    "start_time": "2022-05-10T12:50:30.606Z"
   },
   {
    "duration": 275,
    "start_time": "2022-05-10T12:50:43.107Z"
   },
   {
    "duration": 183,
    "start_time": "2022-05-10T12:51:00.246Z"
   },
   {
    "duration": 27,
    "start_time": "2022-05-10T12:51:13.075Z"
   },
   {
    "duration": 31,
    "start_time": "2022-05-10T12:51:43.730Z"
   },
   {
    "duration": 31,
    "start_time": "2022-05-10T12:51:58.978Z"
   },
   {
    "duration": 29,
    "start_time": "2022-05-10T12:53:28.736Z"
   },
   {
    "duration": 130,
    "start_time": "2022-05-10T12:55:09.338Z"
   },
   {
    "duration": 203,
    "start_time": "2022-05-10T12:59:36.377Z"
   },
   {
    "duration": 16,
    "start_time": "2022-05-10T13:19:00.497Z"
   },
   {
    "duration": 22,
    "start_time": "2022-05-10T13:19:07.160Z"
   },
   {
    "duration": 33,
    "start_time": "2022-05-10T13:19:25.201Z"
   },
   {
    "duration": 90,
    "start_time": "2022-05-10T13:22:22.539Z"
   },
   {
    "duration": 40,
    "start_time": "2022-05-10T13:22:28.691Z"
   },
   {
    "duration": 60,
    "start_time": "2022-05-10T13:26:21.582Z"
   },
   {
    "duration": 7,
    "start_time": "2022-05-10T13:27:08.025Z"
   },
   {
    "duration": 118,
    "start_time": "2022-05-10T13:27:13.073Z"
   },
   {
    "duration": 248,
    "start_time": "2022-05-10T13:27:48.499Z"
   },
   {
    "duration": 63,
    "start_time": "2022-05-10T13:33:58.588Z"
   },
   {
    "duration": 24,
    "start_time": "2022-05-10T13:43:21.551Z"
   },
   {
    "duration": 23,
    "start_time": "2022-05-10T13:43:22.263Z"
   },
   {
    "duration": 25,
    "start_time": "2022-05-10T13:43:58.079Z"
   },
   {
    "duration": 135,
    "start_time": "2022-05-10T13:45:33.244Z"
   },
   {
    "duration": 76,
    "start_time": "2022-05-10T13:46:07.150Z"
   },
   {
    "duration": 116,
    "start_time": "2022-05-10T13:46:18.869Z"
   },
   {
    "duration": 118,
    "start_time": "2022-05-10T13:46:42.572Z"
   },
   {
    "duration": 81,
    "start_time": "2022-05-10T13:47:06.260Z"
   },
   {
    "duration": 243,
    "start_time": "2022-05-10T13:47:18.757Z"
   },
   {
    "duration": 86,
    "start_time": "2022-05-10T13:48:26.871Z"
   },
   {
    "duration": 85,
    "start_time": "2022-05-10T13:48:36.896Z"
   },
   {
    "duration": 81,
    "start_time": "2022-05-10T13:48:50.199Z"
   },
   {
    "duration": 66,
    "start_time": "2022-05-10T13:49:17.738Z"
   },
   {
    "duration": 24,
    "start_time": "2022-05-10T13:50:03.156Z"
   },
   {
    "duration": 18,
    "start_time": "2022-05-10T13:50:44.596Z"
   },
   {
    "duration": 16,
    "start_time": "2022-05-10T13:50:51.718Z"
   },
   {
    "duration": 18,
    "start_time": "2022-05-10T13:51:03.701Z"
   },
   {
    "duration": 17,
    "start_time": "2022-05-10T13:51:09.050Z"
   },
   {
    "duration": 18,
    "start_time": "2022-05-10T13:51:21.824Z"
   },
   {
    "duration": 16,
    "start_time": "2022-05-10T13:51:22.987Z"
   },
   {
    "duration": 31,
    "start_time": "2022-05-10T13:52:55.129Z"
   },
   {
    "duration": 126,
    "start_time": "2022-05-10T13:53:14.304Z"
   },
   {
    "duration": 132,
    "start_time": "2022-05-10T14:01:13.473Z"
   },
   {
    "duration": 321,
    "start_time": "2022-05-10T14:04:30.745Z"
   },
   {
    "duration": 130,
    "start_time": "2022-05-10T14:06:37.664Z"
   },
   {
    "duration": 90,
    "start_time": "2022-05-10T14:07:00.128Z"
   },
   {
    "duration": 22,
    "start_time": "2022-05-10T14:08:27.921Z"
   },
   {
    "duration": 1874,
    "start_time": "2022-05-10T14:11:27.850Z"
   },
   {
    "duration": 90,
    "start_time": "2022-05-10T14:11:51.016Z"
   },
   {
    "duration": 33,
    "start_time": "2022-05-10T14:11:51.712Z"
   },
   {
    "duration": 2218,
    "start_time": "2022-05-10T14:12:46.909Z"
   },
   {
    "duration": 2234,
    "start_time": "2022-05-10T14:13:40.815Z"
   },
   {
    "duration": 2684,
    "start_time": "2022-05-10T14:53:34.715Z"
   },
   {
    "duration": 2067,
    "start_time": "2022-05-10T14:53:57.891Z"
   },
   {
    "duration": 117,
    "start_time": "2022-05-10T15:07:45.350Z"
   },
   {
    "duration": 106,
    "start_time": "2022-05-10T15:07:57.750Z"
   },
   {
    "duration": 17,
    "start_time": "2022-05-10T15:08:17.202Z"
   },
   {
    "duration": 22,
    "start_time": "2022-05-10T15:08:35.184Z"
   },
   {
    "duration": 30,
    "start_time": "2022-05-10T15:08:46.407Z"
   },
   {
    "duration": 6,
    "start_time": "2022-05-11T04:48:29.093Z"
   },
   {
    "duration": 92,
    "start_time": "2022-05-11T04:48:29.101Z"
   },
   {
    "duration": 99,
    "start_time": "2022-05-11T04:48:29.196Z"
   },
   {
    "duration": 88,
    "start_time": "2022-05-11T04:53:14.370Z"
   },
   {
    "duration": 6,
    "start_time": "2022-05-11T05:06:44.853Z"
   },
   {
    "duration": 89,
    "start_time": "2022-05-11T05:06:44.862Z"
   },
   {
    "duration": 116,
    "start_time": "2022-05-11T05:06:44.954Z"
   },
   {
    "duration": 32,
    "start_time": "2022-05-11T05:06:45.072Z"
   },
   {
    "duration": 37,
    "start_time": "2022-05-11T05:06:45.107Z"
   },
   {
    "duration": 137,
    "start_time": "2022-05-11T05:08:54.960Z"
   },
   {
    "duration": 1773,
    "start_time": "2022-05-11T05:09:09.171Z"
   },
   {
    "duration": 67,
    "start_time": "2022-05-11T05:09:10.947Z"
   },
   {
    "duration": 114,
    "start_time": "2022-05-11T05:09:11.017Z"
   },
   {
    "duration": 34,
    "start_time": "2022-05-11T05:09:11.135Z"
   },
   {
    "duration": 16,
    "start_time": "2022-05-11T05:09:11.171Z"
   },
   {
    "duration": 866,
    "start_time": "2022-05-11T05:09:11.189Z"
   },
   {
    "duration": 82,
    "start_time": "2022-05-11T05:09:12.057Z"
   },
   {
    "duration": 26,
    "start_time": "2022-05-11T05:09:12.143Z"
   },
   {
    "duration": 226,
    "start_time": "2022-05-11T05:09:12.171Z"
   },
   {
    "duration": 33,
    "start_time": "2022-05-11T05:09:12.402Z"
   },
   {
    "duration": 18,
    "start_time": "2022-05-11T05:09:12.438Z"
   },
   {
    "duration": 7,
    "start_time": "2022-05-11T05:09:12.459Z"
   },
   {
    "duration": 108,
    "start_time": "2022-05-11T05:09:12.468Z"
   },
   {
    "duration": 24,
    "start_time": "2022-05-11T05:09:12.579Z"
   },
   {
    "duration": 6,
    "start_time": "2022-05-11T05:09:12.630Z"
   },
   {
    "duration": 25,
    "start_time": "2022-05-11T05:09:12.639Z"
   },
   {
    "duration": 279,
    "start_time": "2022-05-11T05:09:12.667Z"
   },
   {
    "duration": 0,
    "start_time": "2022-05-11T05:09:12.948Z"
   },
   {
    "duration": 0,
    "start_time": "2022-05-11T05:09:12.950Z"
   },
   {
    "duration": 0,
    "start_time": "2022-05-11T05:09:12.952Z"
   },
   {
    "duration": 0,
    "start_time": "2022-05-11T05:09:12.953Z"
   },
   {
    "duration": 1,
    "start_time": "2022-05-11T05:09:12.954Z"
   },
   {
    "duration": 0,
    "start_time": "2022-05-11T05:09:12.957Z"
   },
   {
    "duration": 0,
    "start_time": "2022-05-11T05:09:12.958Z"
   },
   {
    "duration": 0,
    "start_time": "2022-05-11T05:09:12.960Z"
   },
   {
    "duration": 0,
    "start_time": "2022-05-11T05:09:12.961Z"
   },
   {
    "duration": 0,
    "start_time": "2022-05-11T05:09:12.962Z"
   },
   {
    "duration": 0,
    "start_time": "2022-05-11T05:09:12.964Z"
   },
   {
    "duration": 0,
    "start_time": "2022-05-11T05:09:12.966Z"
   },
   {
    "duration": 0,
    "start_time": "2022-05-11T05:09:12.967Z"
   },
   {
    "duration": 0,
    "start_time": "2022-05-11T05:09:12.968Z"
   },
   {
    "duration": 18,
    "start_time": "2022-05-11T05:12:52.097Z"
   },
   {
    "duration": 18,
    "start_time": "2022-05-11T05:13:07.785Z"
   },
   {
    "duration": 18,
    "start_time": "2022-05-11T05:13:19.453Z"
   },
   {
    "duration": 16,
    "start_time": "2022-05-11T05:13:28.049Z"
   },
   {
    "duration": 49,
    "start_time": "2022-05-11T05:13:34.522Z"
   },
   {
    "duration": 18,
    "start_time": "2022-05-11T05:13:49.674Z"
   },
   {
    "duration": 15,
    "start_time": "2022-05-11T05:13:55.802Z"
   },
   {
    "duration": 16,
    "start_time": "2022-05-11T05:14:02.548Z"
   },
   {
    "duration": 23,
    "start_time": "2022-05-11T05:14:08.633Z"
   },
   {
    "duration": 238,
    "start_time": "2022-05-11T05:14:58.861Z"
   },
   {
    "duration": 159,
    "start_time": "2022-05-11T05:16:15.148Z"
   },
   {
    "duration": 19,
    "start_time": "2022-05-11T05:17:09.248Z"
   },
   {
    "duration": 16,
    "start_time": "2022-05-11T05:17:09.986Z"
   },
   {
    "duration": 8,
    "start_time": "2022-05-11T05:17:12.920Z"
   },
   {
    "duration": 72,
    "start_time": "2022-05-11T05:17:13.961Z"
   },
   {
    "duration": 25,
    "start_time": "2022-05-11T05:22:43.131Z"
   },
   {
    "duration": 4,
    "start_time": "2022-05-11T05:22:46.086Z"
   },
   {
    "duration": 2847,
    "start_time": "2022-05-11T05:28:18.806Z"
   },
   {
    "duration": 2632,
    "start_time": "2022-05-11T05:28:33.777Z"
   },
   {
    "duration": 11621,
    "start_time": "2022-05-11T05:30:08.180Z"
   },
   {
    "duration": 24,
    "start_time": "2022-05-11T05:34:27.496Z"
   },
   {
    "duration": 18,
    "start_time": "2022-05-11T05:39:39.580Z"
   },
   {
    "duration": 18,
    "start_time": "2022-05-11T05:40:08.138Z"
   },
   {
    "duration": 17,
    "start_time": "2022-05-11T05:40:30.191Z"
   },
   {
    "duration": 26,
    "start_time": "2022-05-11T05:40:46.240Z"
   },
   {
    "duration": 25,
    "start_time": "2022-05-11T05:46:32.710Z"
   },
   {
    "duration": 20,
    "start_time": "2022-05-11T05:46:41.551Z"
   },
   {
    "duration": 26,
    "start_time": "2022-05-11T05:47:04.143Z"
   },
   {
    "duration": 29,
    "start_time": "2022-05-11T05:47:16.241Z"
   },
   {
    "duration": 176,
    "start_time": "2022-05-11T05:47:34.394Z"
   },
   {
    "duration": 132,
    "start_time": "2022-05-11T05:47:50.980Z"
   },
   {
    "duration": 10,
    "start_time": "2022-05-11T06:16:40.260Z"
   },
   {
    "duration": 3,
    "start_time": "2022-05-11T06:16:41.340Z"
   },
   {
    "duration": 23,
    "start_time": "2022-05-11T06:16:50.140Z"
   },
   {
    "duration": 1909,
    "start_time": "2022-05-11T06:17:55.368Z"
   },
   {
    "duration": 26,
    "start_time": "2022-05-11T06:18:18.650Z"
   },
   {
    "duration": 21,
    "start_time": "2022-05-11T06:19:51.557Z"
   },
   {
    "duration": 2618,
    "start_time": "2022-05-11T06:27:01.990Z"
   },
   {
    "duration": 6,
    "start_time": "2022-05-11T06:27:11.791Z"
   },
   {
    "duration": 7,
    "start_time": "2022-05-11T06:27:23.080Z"
   },
   {
    "duration": 8,
    "start_time": "2022-05-11T06:27:39.704Z"
   },
   {
    "duration": 9,
    "start_time": "2022-05-11T06:28:28.780Z"
   },
   {
    "duration": 8,
    "start_time": "2022-05-11T06:29:27.110Z"
   },
   {
    "duration": 4,
    "start_time": "2022-05-11T06:29:28.565Z"
   },
   {
    "duration": 75,
    "start_time": "2022-05-11T06:29:32.486Z"
   },
   {
    "duration": 7,
    "start_time": "2022-05-11T06:30:12.199Z"
   },
   {
    "duration": 7,
    "start_time": "2022-05-11T06:30:30.794Z"
   },
   {
    "duration": 24,
    "start_time": "2022-05-11T06:31:17.202Z"
   },
   {
    "duration": 20,
    "start_time": "2022-05-11T06:31:34.772Z"
   },
   {
    "duration": 13,
    "start_time": "2022-05-11T06:32:14.997Z"
   },
   {
    "duration": 22,
    "start_time": "2022-05-11T06:32:15.909Z"
   },
   {
    "duration": 11,
    "start_time": "2022-05-11T06:32:35.586Z"
   },
   {
    "duration": 13,
    "start_time": "2022-05-11T06:33:37.641Z"
   },
   {
    "duration": 113,
    "start_time": "2022-05-11T06:33:41.872Z"
   },
   {
    "duration": 11,
    "start_time": "2022-05-11T06:33:47.849Z"
   },
   {
    "duration": 8,
    "start_time": "2022-05-11T06:34:01.076Z"
   },
   {
    "duration": 171,
    "start_time": "2022-05-11T06:45:52.064Z"
   },
   {
    "duration": 11,
    "start_time": "2022-05-11T06:48:52.697Z"
   },
   {
    "duration": 33,
    "start_time": "2022-05-11T06:49:13.977Z"
   },
   {
    "duration": 32,
    "start_time": "2022-05-11T06:49:39.147Z"
   },
   {
    "duration": 40,
    "start_time": "2022-05-11T06:49:54.123Z"
   },
   {
    "duration": 21,
    "start_time": "2022-05-11T06:51:25.544Z"
   },
   {
    "duration": 40,
    "start_time": "2022-05-11T06:51:37.407Z"
   },
   {
    "duration": 29,
    "start_time": "2022-05-11T06:51:59.952Z"
   },
   {
    "duration": 38,
    "start_time": "2022-05-11T06:52:13.912Z"
   },
   {
    "duration": 61,
    "start_time": "2022-05-11T06:55:15.976Z"
   },
   {
    "duration": 36,
    "start_time": "2022-05-11T06:55:22.771Z"
   },
   {
    "duration": 62,
    "start_time": "2022-05-11T06:57:25.373Z"
   },
   {
    "duration": 26,
    "start_time": "2022-05-11T08:55:58.337Z"
   },
   {
    "duration": 22,
    "start_time": "2022-05-11T08:56:38.042Z"
   },
   {
    "duration": 15,
    "start_time": "2022-05-11T08:57:20.696Z"
   },
   {
    "duration": 11,
    "start_time": "2022-05-11T08:58:33.964Z"
   },
   {
    "duration": 13,
    "start_time": "2022-05-11T09:00:00.970Z"
   },
   {
    "duration": 15,
    "start_time": "2022-05-11T09:00:28.712Z"
   },
   {
    "duration": 13,
    "start_time": "2022-05-11T09:06:24.980Z"
   },
   {
    "duration": 21,
    "start_time": "2022-05-11T09:06:53.750Z"
   },
   {
    "duration": 23,
    "start_time": "2022-05-11T09:17:56.852Z"
   },
   {
    "duration": 34,
    "start_time": "2022-05-11T09:18:01.183Z"
   },
   {
    "duration": 24,
    "start_time": "2022-05-11T09:18:50.377Z"
   },
   {
    "duration": 23,
    "start_time": "2022-05-11T09:19:27.483Z"
   },
   {
    "duration": 24,
    "start_time": "2022-05-11T09:19:51.155Z"
   },
   {
    "duration": 26,
    "start_time": "2022-05-11T09:20:40.210Z"
   },
   {
    "duration": 27,
    "start_time": "2022-05-11T09:22:12.378Z"
   },
   {
    "duration": 29,
    "start_time": "2022-05-11T09:22:34.522Z"
   },
   {
    "duration": 23,
    "start_time": "2022-05-11T09:22:45.698Z"
   },
   {
    "duration": 33,
    "start_time": "2022-05-11T09:23:19.404Z"
   },
   {
    "duration": 171,
    "start_time": "2022-05-11T09:23:54.008Z"
   },
   {
    "duration": 28,
    "start_time": "2022-05-11T09:24:02.414Z"
   },
   {
    "duration": 15,
    "start_time": "2022-05-11T09:24:35.647Z"
   },
   {
    "duration": 22,
    "start_time": "2022-05-11T09:29:11.346Z"
   },
   {
    "duration": 6,
    "start_time": "2022-05-11T12:14:33.963Z"
   },
   {
    "duration": 86,
    "start_time": "2022-05-11T12:14:33.972Z"
   },
   {
    "duration": 121,
    "start_time": "2022-05-11T12:14:34.062Z"
   },
   {
    "duration": 56,
    "start_time": "2022-05-11T12:14:34.185Z"
   },
   {
    "duration": 18,
    "start_time": "2022-05-11T12:14:34.247Z"
   },
   {
    "duration": 166,
    "start_time": "2022-05-11T12:14:34.268Z"
   },
   {
    "duration": 22,
    "start_time": "2022-05-11T12:14:34.437Z"
   },
   {
    "duration": 27,
    "start_time": "2022-05-11T12:14:34.462Z"
   },
   {
    "duration": 154,
    "start_time": "2022-05-11T12:14:34.524Z"
   },
   {
    "duration": 6,
    "start_time": "2022-05-11T12:14:34.681Z"
   },
   {
    "duration": 38,
    "start_time": "2022-05-11T12:14:34.692Z"
   },
   {
    "duration": 78,
    "start_time": "2022-05-11T12:14:34.733Z"
   },
   {
    "duration": 11,
    "start_time": "2022-05-11T12:14:34.813Z"
   },
   {
    "duration": 16,
    "start_time": "2022-05-11T12:14:34.831Z"
   },
   {
    "duration": 43,
    "start_time": "2022-05-11T12:14:34.849Z"
   },
   {
    "duration": 82,
    "start_time": "2022-05-11T12:14:34.895Z"
   },
   {
    "duration": 45,
    "start_time": "2022-05-11T12:14:34.980Z"
   },
   {
    "duration": 0,
    "start_time": "2022-05-11T12:14:35.028Z"
   },
   {
    "duration": 1,
    "start_time": "2022-05-11T12:14:35.031Z"
   },
   {
    "duration": 0,
    "start_time": "2022-05-11T12:14:35.038Z"
   },
   {
    "duration": 0,
    "start_time": "2022-05-11T12:14:35.040Z"
   },
   {
    "duration": 0,
    "start_time": "2022-05-11T12:14:35.044Z"
   },
   {
    "duration": 0,
    "start_time": "2022-05-11T12:14:35.048Z"
   },
   {
    "duration": 0,
    "start_time": "2022-05-11T12:14:35.050Z"
   },
   {
    "duration": 0,
    "start_time": "2022-05-11T12:14:35.051Z"
   },
   {
    "duration": 0,
    "start_time": "2022-05-11T12:14:35.053Z"
   },
   {
    "duration": 12,
    "start_time": "2022-05-11T12:15:38.202Z"
   },
   {
    "duration": 29,
    "start_time": "2022-05-11T12:33:06.835Z"
   },
   {
    "duration": 28,
    "start_time": "2022-05-11T12:33:32.850Z"
   },
   {
    "duration": 518,
    "start_time": "2022-05-11T12:37:41.499Z"
   },
   {
    "duration": 1680,
    "start_time": "2022-05-11T12:38:07.128Z"
   },
   {
    "duration": 74,
    "start_time": "2022-05-11T12:38:08.811Z"
   },
   {
    "duration": 109,
    "start_time": "2022-05-11T12:38:08.887Z"
   },
   {
    "duration": 51,
    "start_time": "2022-05-11T12:38:09.000Z"
   },
   {
    "duration": 26,
    "start_time": "2022-05-11T12:38:09.053Z"
   },
   {
    "duration": 864,
    "start_time": "2022-05-11T12:38:09.082Z"
   },
   {
    "duration": 78,
    "start_time": "2022-05-11T12:38:09.949Z"
   },
   {
    "duration": 32,
    "start_time": "2022-05-11T12:38:10.030Z"
   },
   {
    "duration": 316,
    "start_time": "2022-05-11T12:38:10.065Z"
   },
   {
    "duration": 11,
    "start_time": "2022-05-11T12:38:10.385Z"
   },
   {
    "duration": 35,
    "start_time": "2022-05-11T12:38:10.399Z"
   },
   {
    "duration": 88,
    "start_time": "2022-05-11T12:38:10.437Z"
   },
   {
    "duration": 11,
    "start_time": "2022-05-11T12:38:10.527Z"
   },
   {
    "duration": 24,
    "start_time": "2022-05-11T12:38:10.541Z"
   },
   {
    "duration": 45,
    "start_time": "2022-05-11T12:38:10.568Z"
   },
   {
    "duration": 79,
    "start_time": "2022-05-11T12:38:10.623Z"
   },
   {
    "duration": 25,
    "start_time": "2022-05-11T12:38:10.704Z"
   },
   {
    "duration": 150,
    "start_time": "2022-05-11T12:38:10.731Z"
   },
   {
    "duration": 177,
    "start_time": "2022-05-11T12:38:10.884Z"
   },
   {
    "duration": 22,
    "start_time": "2022-05-11T12:38:11.063Z"
   },
   {
    "duration": 158,
    "start_time": "2022-05-11T12:38:11.087Z"
   },
   {
    "duration": 118,
    "start_time": "2022-05-11T12:38:11.248Z"
   },
   {
    "duration": 251,
    "start_time": "2022-05-11T12:38:11.368Z"
   },
   {
    "duration": 0,
    "start_time": "2022-05-11T12:38:11.625Z"
   },
   {
    "duration": 0,
    "start_time": "2022-05-11T12:38:11.627Z"
   },
   {
    "duration": 0,
    "start_time": "2022-05-11T12:38:11.629Z"
   },
   {
    "duration": 134,
    "start_time": "2022-05-11T12:40:55.390Z"
   },
   {
    "duration": 69,
    "start_time": "2022-05-11T12:43:11.406Z"
   },
   {
    "duration": 19,
    "start_time": "2022-05-11T12:43:11.870Z"
   },
   {
    "duration": 140,
    "start_time": "2022-05-11T12:43:12.924Z"
   },
   {
    "duration": 142,
    "start_time": "2022-05-11T12:44:11.729Z"
   },
   {
    "duration": 2149,
    "start_time": "2022-05-11T12:53:37.210Z"
   },
   {
    "duration": 7,
    "start_time": "2022-05-11T12:53:46.558Z"
   },
   {
    "duration": 100,
    "start_time": "2022-05-11T12:53:46.570Z"
   },
   {
    "duration": 114,
    "start_time": "2022-05-11T12:53:46.673Z"
   },
   {
    "duration": 56,
    "start_time": "2022-05-11T12:53:46.789Z"
   },
   {
    "duration": 18,
    "start_time": "2022-05-11T12:53:46.850Z"
   },
   {
    "duration": 177,
    "start_time": "2022-05-11T12:53:46.872Z"
   },
   {
    "duration": 16,
    "start_time": "2022-05-11T12:53:47.051Z"
   },
   {
    "duration": 61,
    "start_time": "2022-05-11T12:53:47.070Z"
   },
   {
    "duration": 157,
    "start_time": "2022-05-11T12:53:47.133Z"
   },
   {
    "duration": 10,
    "start_time": "2022-05-11T12:53:47.294Z"
   },
   {
    "duration": 6,
    "start_time": "2022-05-11T12:53:47.326Z"
   },
   {
    "duration": 69,
    "start_time": "2022-05-11T12:53:47.334Z"
   },
   {
    "duration": 16,
    "start_time": "2022-05-11T12:53:47.426Z"
   },
   {
    "duration": 7,
    "start_time": "2022-05-11T12:53:47.444Z"
   },
   {
    "duration": 18,
    "start_time": "2022-05-11T12:53:47.454Z"
   },
   {
    "duration": 93,
    "start_time": "2022-05-11T12:53:47.475Z"
   },
   {
    "duration": 25,
    "start_time": "2022-05-11T12:53:47.571Z"
   },
   {
    "duration": 246,
    "start_time": "2022-05-11T12:53:47.599Z"
   },
   {
    "duration": 116,
    "start_time": "2022-05-11T12:53:47.849Z"
   },
   {
    "duration": 31,
    "start_time": "2022-05-11T12:53:47.968Z"
   },
   {
    "duration": 167,
    "start_time": "2022-05-11T12:53:48.002Z"
   },
   {
    "duration": 81,
    "start_time": "2022-05-11T12:53:48.171Z"
   },
   {
    "duration": 102,
    "start_time": "2022-05-11T12:54:02.765Z"
   },
   {
    "duration": 47,
    "start_time": "2022-05-11T12:54:03.860Z"
   },
   {
    "duration": 20,
    "start_time": "2022-05-11T12:58:47.270Z"
   },
   {
    "duration": 105,
    "start_time": "2022-05-11T12:58:53.909Z"
   },
   {
    "duration": 47,
    "start_time": "2022-05-11T12:58:54.452Z"
   },
   {
    "duration": 1995,
    "start_time": "2022-05-11T12:59:09.293Z"
   },
   {
    "duration": 6,
    "start_time": "2022-05-11T12:59:31.004Z"
   },
   {
    "duration": 85,
    "start_time": "2022-05-11T12:59:31.013Z"
   },
   {
    "duration": 99,
    "start_time": "2022-05-11T12:59:31.102Z"
   },
   {
    "duration": 53,
    "start_time": "2022-05-11T12:59:31.225Z"
   },
   {
    "duration": 41,
    "start_time": "2022-05-11T12:59:31.283Z"
   },
   {
    "duration": 144,
    "start_time": "2022-05-11T12:59:31.327Z"
   },
   {
    "duration": 134,
    "start_time": "2022-05-11T12:59:31.473Z"
   },
   {
    "duration": 37,
    "start_time": "2022-05-11T12:59:31.609Z"
   },
   {
    "duration": 141,
    "start_time": "2022-05-11T12:59:31.649Z"
   },
   {
    "duration": 32,
    "start_time": "2022-05-11T12:59:31.794Z"
   },
   {
    "duration": 6,
    "start_time": "2022-05-11T12:59:31.832Z"
   },
   {
    "duration": 85,
    "start_time": "2022-05-11T12:59:31.842Z"
   },
   {
    "duration": 13,
    "start_time": "2022-05-11T12:59:31.929Z"
   },
   {
    "duration": 12,
    "start_time": "2022-05-11T12:59:31.944Z"
   },
   {
    "duration": 35,
    "start_time": "2022-05-11T12:59:31.959Z"
   },
   {
    "duration": 77,
    "start_time": "2022-05-11T12:59:31.997Z"
   },
   {
    "duration": 50,
    "start_time": "2022-05-11T12:59:32.077Z"
   },
   {
    "duration": 228,
    "start_time": "2022-05-11T12:59:32.130Z"
   },
   {
    "duration": 123,
    "start_time": "2022-05-11T12:59:32.361Z"
   },
   {
    "duration": 20,
    "start_time": "2022-05-11T12:59:32.486Z"
   },
   {
    "duration": 250,
    "start_time": "2022-05-11T12:59:32.509Z"
   },
   {
    "duration": 81,
    "start_time": "2022-05-11T12:59:36.009Z"
   },
   {
    "duration": 30,
    "start_time": "2022-05-11T12:59:36.826Z"
   },
   {
    "duration": 27,
    "start_time": "2022-05-11T13:06:36.748Z"
   },
   {
    "duration": 220,
    "start_time": "2022-05-11T13:06:37.631Z"
   },
   {
    "duration": 85,
    "start_time": "2022-05-11T13:07:12.672Z"
   },
   {
    "duration": 37,
    "start_time": "2022-05-11T13:07:13.486Z"
   },
   {
    "duration": 15,
    "start_time": "2022-05-11T13:09:17.144Z"
   },
   {
    "duration": 5,
    "start_time": "2022-05-11T13:09:21.112Z"
   },
   {
    "duration": 114,
    "start_time": "2022-05-11T13:09:21.121Z"
   },
   {
    "duration": 102,
    "start_time": "2022-05-11T13:09:21.238Z"
   },
   {
    "duration": 33,
    "start_time": "2022-05-11T13:09:21.342Z"
   },
   {
    "duration": 19,
    "start_time": "2022-05-11T13:09:21.378Z"
   },
   {
    "duration": 169,
    "start_time": "2022-05-11T13:09:21.400Z"
   },
   {
    "duration": 16,
    "start_time": "2022-05-11T13:09:21.572Z"
   },
   {
    "duration": 53,
    "start_time": "2022-05-11T13:09:21.590Z"
   },
   {
    "duration": 185,
    "start_time": "2022-05-11T13:09:21.645Z"
   },
   {
    "duration": 8,
    "start_time": "2022-05-11T13:09:21.833Z"
   },
   {
    "duration": 25,
    "start_time": "2022-05-11T13:09:21.845Z"
   },
   {
    "duration": 83,
    "start_time": "2022-05-11T13:09:21.873Z"
   },
   {
    "duration": 11,
    "start_time": "2022-05-11T13:09:21.958Z"
   },
   {
    "duration": 25,
    "start_time": "2022-05-11T13:09:21.972Z"
   },
   {
    "duration": 40,
    "start_time": "2022-05-11T13:09:22.000Z"
   },
   {
    "duration": 79,
    "start_time": "2022-05-11T13:09:22.043Z"
   },
   {
    "duration": 25,
    "start_time": "2022-05-11T13:09:22.125Z"
   },
   {
    "duration": 141,
    "start_time": "2022-05-11T13:09:22.152Z"
   },
   {
    "duration": 78,
    "start_time": "2022-05-11T13:09:22.295Z"
   },
   {
    "duration": 22,
    "start_time": "2022-05-11T13:09:22.375Z"
   },
   {
    "duration": 150,
    "start_time": "2022-05-11T13:09:22.399Z"
   },
   {
    "duration": 12,
    "start_time": "2022-05-11T13:09:26.550Z"
   },
   {
    "duration": 24,
    "start_time": "2022-05-11T13:10:09.658Z"
   },
   {
    "duration": 18,
    "start_time": "2022-05-11T13:10:32.939Z"
   },
   {
    "duration": 8,
    "start_time": "2022-05-11T13:11:01.344Z"
   },
   {
    "duration": 94,
    "start_time": "2022-05-11T13:11:02.704Z"
   },
   {
    "duration": 41,
    "start_time": "2022-05-11T13:11:03.581Z"
   },
   {
    "duration": 88,
    "start_time": "2022-05-11T13:11:43.967Z"
   },
   {
    "duration": 27,
    "start_time": "2022-05-11T13:11:44.757Z"
   },
   {
    "duration": 3312,
    "start_time": "2022-05-11T13:12:07.244Z"
   },
   {
    "duration": 2211,
    "start_time": "2022-05-11T13:12:18.337Z"
   },
   {
    "duration": 18,
    "start_time": "2022-05-11T13:12:52.903Z"
   },
   {
    "duration": 23,
    "start_time": "2022-05-11T13:13:01.800Z"
   },
   {
    "duration": 19,
    "start_time": "2022-05-11T13:13:20.560Z"
   },
   {
    "duration": 23,
    "start_time": "2022-05-11T13:13:52.767Z"
   },
   {
    "duration": 78,
    "start_time": "2022-05-11T13:14:05.410Z"
   },
   {
    "duration": 165,
    "start_time": "2022-05-11T13:14:10.223Z"
   },
   {
    "duration": 7,
    "start_time": "2022-05-11T13:14:58.099Z"
   },
   {
    "duration": 90,
    "start_time": "2022-05-11T13:15:14.666Z"
   },
   {
    "duration": 94,
    "start_time": "2022-05-11T13:15:30.559Z"
   },
   {
    "duration": 76,
    "start_time": "2022-05-11T13:15:50.461Z"
   },
   {
    "duration": 60,
    "start_time": "2022-05-11T13:27:10.709Z"
   },
   {
    "duration": 85,
    "start_time": "2022-05-11T13:27:16.090Z"
   },
   {
    "duration": 25,
    "start_time": "2022-05-11T13:27:16.941Z"
   },
   {
    "duration": 1804,
    "start_time": "2022-05-11T13:27:26.647Z"
   },
   {
    "duration": 7,
    "start_time": "2022-05-11T13:28:30.942Z"
   },
   {
    "duration": 125,
    "start_time": "2022-05-11T13:28:30.952Z"
   },
   {
    "duration": 150,
    "start_time": "2022-05-11T13:28:31.079Z"
   },
   {
    "duration": 56,
    "start_time": "2022-05-11T13:28:31.233Z"
   },
   {
    "duration": 34,
    "start_time": "2022-05-11T13:28:31.291Z"
   },
   {
    "duration": 155,
    "start_time": "2022-05-11T13:28:31.327Z"
   },
   {
    "duration": 16,
    "start_time": "2022-05-11T13:28:31.484Z"
   },
   {
    "duration": 64,
    "start_time": "2022-05-11T13:28:31.503Z"
   },
   {
    "duration": 145,
    "start_time": "2022-05-11T13:28:31.571Z"
   },
   {
    "duration": 17,
    "start_time": "2022-05-11T13:28:31.718Z"
   },
   {
    "duration": 13,
    "start_time": "2022-05-11T13:28:31.737Z"
   },
   {
    "duration": 94,
    "start_time": "2022-05-11T13:28:31.753Z"
   },
   {
    "duration": 12,
    "start_time": "2022-05-11T13:28:31.852Z"
   },
   {
    "duration": 7,
    "start_time": "2022-05-11T13:28:31.866Z"
   },
   {
    "duration": 24,
    "start_time": "2022-05-11T13:28:31.876Z"
   },
   {
    "duration": 75,
    "start_time": "2022-05-11T13:28:31.903Z"
   },
   {
    "duration": 44,
    "start_time": "2022-05-11T13:28:31.980Z"
   },
   {
    "duration": 148,
    "start_time": "2022-05-11T13:28:32.034Z"
   },
   {
    "duration": 90,
    "start_time": "2022-05-11T13:28:32.184Z"
   },
   {
    "duration": 23,
    "start_time": "2022-05-11T13:28:32.276Z"
   },
   {
    "duration": 167,
    "start_time": "2022-05-11T13:28:32.302Z"
   },
   {
    "duration": 8,
    "start_time": "2022-05-11T13:28:32.472Z"
   },
   {
    "duration": 98,
    "start_time": "2022-05-11T13:28:32.483Z"
   },
   {
    "duration": 29,
    "start_time": "2022-05-11T13:28:32.585Z"
   },
   {
    "duration": 10,
    "start_time": "2022-05-11T13:28:55.131Z"
   },
   {
    "duration": 7,
    "start_time": "2022-05-11T13:29:05.116Z"
   },
   {
    "duration": 93,
    "start_time": "2022-05-11T13:29:05.370Z"
   },
   {
    "duration": 107,
    "start_time": "2022-05-11T13:29:05.669Z"
   },
   {
    "duration": 56,
    "start_time": "2022-05-11T13:29:06.579Z"
   },
   {
    "duration": 16,
    "start_time": "2022-05-11T13:29:07.594Z"
   },
   {
    "duration": 148,
    "start_time": "2022-05-11T13:29:08.166Z"
   },
   {
    "duration": 19,
    "start_time": "2022-05-11T13:29:09.196Z"
   },
   {
    "duration": 26,
    "start_time": "2022-05-11T13:29:10.241Z"
   },
   {
    "duration": 143,
    "start_time": "2022-05-11T13:29:10.768Z"
   },
   {
    "duration": 8,
    "start_time": "2022-05-11T13:29:12.492Z"
   },
   {
    "duration": 5,
    "start_time": "2022-05-11T13:29:12.849Z"
   },
   {
    "duration": 68,
    "start_time": "2022-05-11T13:29:13.429Z"
   },
   {
    "duration": 12,
    "start_time": "2022-05-11T13:29:14.569Z"
   },
   {
    "duration": 4,
    "start_time": "2022-05-11T13:29:15.157Z"
   },
   {
    "duration": 10,
    "start_time": "2022-05-11T13:29:16.258Z"
   },
   {
    "duration": 55,
    "start_time": "2022-05-11T13:29:17.940Z"
   },
   {
    "duration": 23,
    "start_time": "2022-05-11T13:29:18.476Z"
   },
   {
    "duration": 143,
    "start_time": "2022-05-11T13:29:22.068Z"
   },
   {
    "duration": 85,
    "start_time": "2022-05-11T13:29:24.953Z"
   },
   {
    "duration": 24,
    "start_time": "2022-05-11T13:29:25.515Z"
   },
   {
    "duration": 139,
    "start_time": "2022-05-11T13:29:26.052Z"
   },
   {
    "duration": 266,
    "start_time": "2022-05-11T13:29:34.174Z"
   },
   {
    "duration": 105,
    "start_time": "2022-05-11T13:29:46.230Z"
   },
   {
    "duration": 43,
    "start_time": "2022-05-11T13:29:47.397Z"
   },
   {
    "duration": 53,
    "start_time": "2022-05-11T13:30:05.822Z"
   },
   {
    "duration": 16,
    "start_time": "2022-05-11T13:30:09.604Z"
   },
   {
    "duration": 141,
    "start_time": "2022-05-11T13:30:10.240Z"
   },
   {
    "duration": 17,
    "start_time": "2022-05-11T13:30:11.671Z"
   },
   {
    "duration": 32,
    "start_time": "2022-05-11T13:30:16.134Z"
   },
   {
    "duration": 146,
    "start_time": "2022-05-11T13:30:16.729Z"
   },
   {
    "duration": 7,
    "start_time": "2022-05-11T13:30:18.957Z"
   },
   {
    "duration": 6,
    "start_time": "2022-05-11T13:30:20.637Z"
   },
   {
    "duration": 70,
    "start_time": "2022-05-11T13:30:22.442Z"
   },
   {
    "duration": 12,
    "start_time": "2022-05-11T13:30:33.044Z"
   },
   {
    "duration": 15,
    "start_time": "2022-05-11T13:30:38.493Z"
   },
   {
    "duration": 12,
    "start_time": "2022-05-11T13:30:58.164Z"
   },
   {
    "duration": 10,
    "start_time": "2022-05-11T13:31:28.138Z"
   },
   {
    "duration": 58,
    "start_time": "2022-05-11T13:31:29.640Z"
   },
   {
    "duration": 24,
    "start_time": "2022-05-11T13:31:30.583Z"
   },
   {
    "duration": 137,
    "start_time": "2022-05-11T13:31:43.656Z"
   },
   {
    "duration": 80,
    "start_time": "2022-05-11T13:31:52.222Z"
   },
   {
    "duration": 24,
    "start_time": "2022-05-11T13:31:53.069Z"
   },
   {
    "duration": 143,
    "start_time": "2022-05-11T13:31:54.062Z"
   },
   {
    "duration": 91,
    "start_time": "2022-05-11T13:32:09.348Z"
   },
   {
    "duration": 70,
    "start_time": "2022-05-11T13:32:23.422Z"
   },
   {
    "duration": 29,
    "start_time": "2022-05-11T13:32:32.558Z"
   },
   {
    "duration": 127,
    "start_time": "2022-05-11T13:32:52.319Z"
   },
   {
    "duration": 1762,
    "start_time": "2022-05-11T13:33:53.105Z"
   },
   {
    "duration": 74,
    "start_time": "2022-05-11T13:33:54.873Z"
   },
   {
    "duration": 124,
    "start_time": "2022-05-11T13:33:54.949Z"
   },
   {
    "duration": 71,
    "start_time": "2022-05-11T13:33:55.076Z"
   },
   {
    "duration": 21,
    "start_time": "2022-05-11T13:33:55.150Z"
   },
   {
    "duration": 680,
    "start_time": "2022-05-11T13:33:55.174Z"
   },
   {
    "duration": 24,
    "start_time": "2022-05-11T13:33:55.857Z"
   },
   {
    "duration": 37,
    "start_time": "2022-05-11T13:33:55.925Z"
   },
   {
    "duration": 244,
    "start_time": "2022-05-11T13:33:55.966Z"
   },
   {
    "duration": 10,
    "start_time": "2022-05-11T13:33:56.227Z"
   },
   {
    "duration": 15,
    "start_time": "2022-05-11T13:33:56.241Z"
   },
   {
    "duration": 131,
    "start_time": "2022-05-11T13:33:56.258Z"
   },
   {
    "duration": 16,
    "start_time": "2022-05-11T13:33:56.393Z"
   },
   {
    "duration": 13,
    "start_time": "2022-05-11T13:33:56.426Z"
   },
   {
    "duration": 136,
    "start_time": "2022-05-11T13:33:56.441Z"
   },
   {
    "duration": 51,
    "start_time": "2022-05-11T13:33:56.580Z"
   },
   {
    "duration": 148,
    "start_time": "2022-05-11T13:33:56.637Z"
   },
   {
    "duration": 209,
    "start_time": "2022-05-11T13:33:56.787Z"
   },
   {
    "duration": 325,
    "start_time": "2022-05-11T13:33:56.999Z"
   },
   {
    "duration": 0,
    "start_time": "2022-05-11T13:33:57.329Z"
   },
   {
    "duration": 0,
    "start_time": "2022-05-11T13:33:57.331Z"
   },
   {
    "duration": 0,
    "start_time": "2022-05-11T13:33:57.333Z"
   },
   {
    "duration": 0,
    "start_time": "2022-05-11T13:33:57.342Z"
   },
   {
    "duration": 0,
    "start_time": "2022-05-11T13:33:57.344Z"
   },
   {
    "duration": 0,
    "start_time": "2022-05-11T13:33:57.346Z"
   },
   {
    "duration": 130,
    "start_time": "2022-05-11T13:34:10.280Z"
   },
   {
    "duration": 29,
    "start_time": "2022-05-11T13:34:11.189Z"
   },
   {
    "duration": 236,
    "start_time": "2022-05-11T13:34:13.918Z"
   },
   {
    "duration": 27,
    "start_time": "2022-05-11T13:34:32.984Z"
   },
   {
    "duration": 153,
    "start_time": "2022-05-11T13:34:33.978Z"
   },
   {
    "duration": 87,
    "start_time": "2022-05-11T13:34:38.680Z"
   },
   {
    "duration": 28,
    "start_time": "2022-05-11T13:34:39.287Z"
   },
   {
    "duration": 18,
    "start_time": "2022-05-11T13:34:40.142Z"
   },
   {
    "duration": 95,
    "start_time": "2022-05-11T13:37:37.754Z"
   },
   {
    "duration": 28,
    "start_time": "2022-05-11T13:37:40.992Z"
   },
   {
    "duration": 1722,
    "start_time": "2022-05-11T13:38:30.168Z"
   },
   {
    "duration": 6,
    "start_time": "2022-05-11T13:38:41.866Z"
   },
   {
    "duration": 81,
    "start_time": "2022-05-11T13:38:41.875Z"
   },
   {
    "duration": 119,
    "start_time": "2022-05-11T13:38:41.959Z"
   },
   {
    "duration": 88,
    "start_time": "2022-05-11T13:38:42.081Z"
   },
   {
    "duration": 15,
    "start_time": "2022-05-11T13:38:42.172Z"
   },
   {
    "duration": 159,
    "start_time": "2022-05-11T13:38:42.189Z"
   },
   {
    "duration": 15,
    "start_time": "2022-05-11T13:38:42.351Z"
   },
   {
    "duration": 23,
    "start_time": "2022-05-11T13:38:42.369Z"
   },
   {
    "duration": 141,
    "start_time": "2022-05-11T13:38:42.432Z"
   },
   {
    "duration": 8,
    "start_time": "2022-05-11T13:38:42.575Z"
   },
   {
    "duration": 7,
    "start_time": "2022-05-11T13:38:42.588Z"
   },
   {
    "duration": 101,
    "start_time": "2022-05-11T13:38:42.597Z"
   },
   {
    "duration": 25,
    "start_time": "2022-05-11T13:38:42.700Z"
   },
   {
    "duration": 12,
    "start_time": "2022-05-11T13:38:42.730Z"
   },
   {
    "duration": 74,
    "start_time": "2022-05-11T13:38:42.745Z"
   },
   {
    "duration": 26,
    "start_time": "2022-05-11T13:38:42.826Z"
   },
   {
    "duration": 156,
    "start_time": "2022-05-11T13:38:42.855Z"
   },
   {
    "duration": 93,
    "start_time": "2022-05-11T13:38:43.014Z"
   },
   {
    "duration": 42,
    "start_time": "2022-05-11T13:38:43.110Z"
   },
   {
    "duration": 178,
    "start_time": "2022-05-11T13:38:43.154Z"
   },
   {
    "duration": 134,
    "start_time": "2022-05-11T13:38:43.336Z"
   },
   {
    "duration": 73,
    "start_time": "2022-05-11T13:38:51.672Z"
   },
   {
    "duration": 28,
    "start_time": "2022-05-11T13:39:32.631Z"
   },
   {
    "duration": 39,
    "start_time": "2022-05-11T13:39:50.405Z"
   },
   {
    "duration": 2745,
    "start_time": "2022-05-11T13:41:09.297Z"
   },
   {
    "duration": 1817,
    "start_time": "2022-05-11T13:41:31.054Z"
   },
   {
    "duration": 0,
    "start_time": "2022-05-11T13:41:32.875Z"
   },
   {
    "duration": 37,
    "start_time": "2022-05-11T13:42:25.004Z"
   },
   {
    "duration": 72,
    "start_time": "2022-05-11T13:42:29.540Z"
   },
   {
    "duration": 27,
    "start_time": "2022-05-11T13:42:30.808Z"
   },
   {
    "duration": 27,
    "start_time": "2022-05-11T13:42:34.938Z"
   },
   {
    "duration": 19,
    "start_time": "2022-05-11T13:42:52.202Z"
   },
   {
    "duration": 1961,
    "start_time": "2022-05-11T13:46:17.585Z"
   },
   {
    "duration": 7,
    "start_time": "2022-05-11T13:46:31.483Z"
   },
   {
    "duration": 88,
    "start_time": "2022-05-11T13:46:31.493Z"
   },
   {
    "duration": 102,
    "start_time": "2022-05-11T13:46:31.583Z"
   },
   {
    "duration": 75,
    "start_time": "2022-05-11T13:46:31.688Z"
   },
   {
    "duration": 15,
    "start_time": "2022-05-11T13:46:31.765Z"
   },
   {
    "duration": 160,
    "start_time": "2022-05-11T13:46:31.782Z"
   },
   {
    "duration": 19,
    "start_time": "2022-05-11T13:46:31.945Z"
   },
   {
    "duration": 24,
    "start_time": "2022-05-11T13:46:31.966Z"
   },
   {
    "duration": 148,
    "start_time": "2022-05-11T13:46:32.026Z"
   },
   {
    "duration": 9,
    "start_time": "2022-05-11T13:46:32.176Z"
   },
   {
    "duration": 66,
    "start_time": "2022-05-11T13:46:32.187Z"
   },
   {
    "duration": 117,
    "start_time": "2022-05-11T13:46:32.255Z"
   },
   {
    "duration": 12,
    "start_time": "2022-05-11T13:46:32.374Z"
   },
   {
    "duration": 43,
    "start_time": "2022-05-11T13:46:32.389Z"
   },
   {
    "duration": 68,
    "start_time": "2022-05-11T13:46:32.435Z"
   },
   {
    "duration": 34,
    "start_time": "2022-05-11T13:46:32.505Z"
   },
   {
    "duration": 264,
    "start_time": "2022-05-11T13:46:32.542Z"
   },
   {
    "duration": 101,
    "start_time": "2022-05-11T13:46:32.808Z"
   },
   {
    "duration": 41,
    "start_time": "2022-05-11T13:46:32.911Z"
   },
   {
    "duration": 238,
    "start_time": "2022-05-11T13:46:32.954Z"
   },
   {
    "duration": 126,
    "start_time": "2022-05-11T13:46:33.195Z"
   },
   {
    "duration": 156,
    "start_time": "2022-05-11T13:46:45.624Z"
   },
   {
    "duration": 255,
    "start_time": "2022-05-11T13:47:03.281Z"
   },
   {
    "duration": 85,
    "start_time": "2022-05-11T13:47:22.889Z"
   },
   {
    "duration": 18,
    "start_time": "2022-05-11T13:47:24.680Z"
   },
   {
    "duration": 21,
    "start_time": "2022-05-11T13:47:29.952Z"
   },
   {
    "duration": 22,
    "start_time": "2022-05-11T13:47:31.068Z"
   },
   {
    "duration": 39,
    "start_time": "2022-05-11T13:48:39.502Z"
   },
   {
    "duration": 37,
    "start_time": "2022-05-11T13:49:54.147Z"
   },
   {
    "duration": 35,
    "start_time": "2022-05-11T13:50:10.184Z"
   },
   {
    "duration": 31,
    "start_time": "2022-05-11T13:50:18.650Z"
   },
   {
    "duration": 34,
    "start_time": "2022-05-11T13:50:46.091Z"
   },
   {
    "duration": 30,
    "start_time": "2022-05-11T13:51:02.565Z"
   },
   {
    "duration": 42,
    "start_time": "2022-05-11T13:51:40.817Z"
   },
   {
    "duration": 1768,
    "start_time": "2022-05-11T13:51:58.777Z"
   },
   {
    "duration": 70,
    "start_time": "2022-05-11T13:52:00.547Z"
   },
   {
    "duration": 120,
    "start_time": "2022-05-11T13:52:00.620Z"
   },
   {
    "duration": 51,
    "start_time": "2022-05-11T13:52:00.743Z"
   },
   {
    "duration": 38,
    "start_time": "2022-05-11T13:52:00.796Z"
   },
   {
    "duration": 643,
    "start_time": "2022-05-11T13:52:00.837Z"
   },
   {
    "duration": 49,
    "start_time": "2022-05-11T13:52:01.482Z"
   },
   {
    "duration": 34,
    "start_time": "2022-05-11T13:52:01.533Z"
   },
   {
    "duration": 261,
    "start_time": "2022-05-11T13:52:01.570Z"
   },
   {
    "duration": 11,
    "start_time": "2022-05-11T13:52:01.835Z"
   },
   {
    "duration": 37,
    "start_time": "2022-05-11T13:52:01.849Z"
   },
   {
    "duration": 87,
    "start_time": "2022-05-11T13:52:01.888Z"
   },
   {
    "duration": 14,
    "start_time": "2022-05-11T13:52:01.977Z"
   },
   {
    "duration": 168,
    "start_time": "2022-05-11T13:52:01.994Z"
   },
   {
    "duration": 195,
    "start_time": "2022-05-11T13:52:02.165Z"
   },
   {
    "duration": 23,
    "start_time": "2022-05-11T13:52:02.363Z"
   },
   {
    "duration": 200,
    "start_time": "2022-05-11T13:52:02.388Z"
   },
   {
    "duration": 292,
    "start_time": "2022-05-11T13:52:02.590Z"
   },
   {
    "duration": 44,
    "start_time": "2022-05-11T13:52:02.885Z"
   },
   {
    "duration": 165,
    "start_time": "2022-05-11T13:52:02.931Z"
   },
   {
    "duration": 87,
    "start_time": "2022-05-11T13:52:03.099Z"
   },
   {
    "duration": 19,
    "start_time": "2022-05-11T13:52:03.189Z"
   },
   {
    "duration": 30,
    "start_time": "2022-05-11T13:52:03.210Z"
   },
   {
    "duration": 35,
    "start_time": "2022-05-11T13:52:03.242Z"
   },
   {
    "duration": 51,
    "start_time": "2022-05-11T13:52:03.279Z"
   },
   {
    "duration": 1917,
    "start_time": "2022-05-11T13:52:03.333Z"
   },
   {
    "duration": 5,
    "start_time": "2022-05-11T13:52:08.588Z"
   },
   {
    "duration": 74,
    "start_time": "2022-05-11T13:52:08.886Z"
   },
   {
    "duration": 85,
    "start_time": "2022-05-11T13:52:09.159Z"
   },
   {
    "duration": 61,
    "start_time": "2022-05-11T13:52:09.704Z"
   },
   {
    "duration": 17,
    "start_time": "2022-05-11T13:52:10.238Z"
   },
   {
    "duration": 151,
    "start_time": "2022-05-11T13:52:10.493Z"
   },
   {
    "duration": 19,
    "start_time": "2022-05-11T13:52:11.123Z"
   },
   {
    "duration": 24,
    "start_time": "2022-05-11T13:52:11.574Z"
   },
   {
    "duration": 137,
    "start_time": "2022-05-11T13:52:11.824Z"
   },
   {
    "duration": 8,
    "start_time": "2022-05-11T13:52:12.402Z"
   },
   {
    "duration": 5,
    "start_time": "2022-05-11T13:52:12.949Z"
   },
   {
    "duration": 69,
    "start_time": "2022-05-11T13:52:13.223Z"
   },
   {
    "duration": 11,
    "start_time": "2022-05-11T13:52:13.775Z"
   },
   {
    "duration": 11,
    "start_time": "2022-05-11T13:52:14.312Z"
   },
   {
    "duration": 56,
    "start_time": "2022-05-11T13:52:15.038Z"
   },
   {
    "duration": 26,
    "start_time": "2022-05-11T13:52:15.310Z"
   },
   {
    "duration": 150,
    "start_time": "2022-05-11T13:52:16.196Z"
   },
   {
    "duration": 77,
    "start_time": "2022-05-11T13:52:17.440Z"
   },
   {
    "duration": 29,
    "start_time": "2022-05-11T13:52:18.511Z"
   },
   {
    "duration": 147,
    "start_time": "2022-05-11T13:52:19.144Z"
   },
   {
    "duration": 81,
    "start_time": "2022-05-11T13:52:20.354Z"
   },
   {
    "duration": 19,
    "start_time": "2022-05-11T13:52:20.961Z"
   },
   {
    "duration": 20,
    "start_time": "2022-05-11T13:52:22.238Z"
   },
   {
    "duration": 37,
    "start_time": "2022-05-11T13:52:24.145Z"
   },
   {
    "duration": 25,
    "start_time": "2022-05-11T13:52:52.797Z"
   },
   {
    "duration": 147,
    "start_time": "2022-05-11T13:52:56.452Z"
   },
   {
    "duration": 25,
    "start_time": "2022-05-11T13:53:17.318Z"
   },
   {
    "duration": 230,
    "start_time": "2022-05-11T13:53:20.610Z"
   },
   {
    "duration": 8,
    "start_time": "2022-05-11T13:53:32.408Z"
   },
   {
    "duration": 109,
    "start_time": "2022-05-11T13:53:32.420Z"
   },
   {
    "duration": 124,
    "start_time": "2022-05-11T13:53:32.532Z"
   },
   {
    "duration": 68,
    "start_time": "2022-05-11T13:53:32.660Z"
   },
   {
    "duration": 15,
    "start_time": "2022-05-11T13:53:32.730Z"
   },
   {
    "duration": 148,
    "start_time": "2022-05-11T13:53:32.748Z"
   },
   {
    "duration": 31,
    "start_time": "2022-05-11T13:53:32.899Z"
   },
   {
    "duration": 50,
    "start_time": "2022-05-11T13:53:32.932Z"
   },
   {
    "duration": 146,
    "start_time": "2022-05-11T13:53:32.985Z"
   },
   {
    "duration": 9,
    "start_time": "2022-05-11T13:53:33.133Z"
   },
   {
    "duration": 18,
    "start_time": "2022-05-11T13:53:33.144Z"
   },
   {
    "duration": 77,
    "start_time": "2022-05-11T13:53:33.164Z"
   },
   {
    "duration": 11,
    "start_time": "2022-05-11T13:53:33.244Z"
   },
   {
    "duration": 16,
    "start_time": "2022-05-11T13:53:33.257Z"
   },
   {
    "duration": 84,
    "start_time": "2022-05-11T13:53:33.275Z"
   },
   {
    "duration": 23,
    "start_time": "2022-05-11T13:53:33.361Z"
   },
   {
    "duration": 161,
    "start_time": "2022-05-11T13:53:33.386Z"
   },
   {
    "duration": 201,
    "start_time": "2022-05-11T13:53:33.549Z"
   },
   {
    "duration": 83,
    "start_time": "2022-05-11T13:53:37.187Z"
   },
   {
    "duration": 27,
    "start_time": "2022-05-11T13:53:37.729Z"
   },
   {
    "duration": 220,
    "start_time": "2022-05-11T13:53:38.726Z"
   },
   {
    "duration": 72,
    "start_time": "2022-05-11T13:53:57.083Z"
   },
   {
    "duration": 26,
    "start_time": "2022-05-11T13:54:06.476Z"
   },
   {
    "duration": 36,
    "start_time": "2022-05-11T13:54:36.575Z"
   },
   {
    "duration": 1704,
    "start_time": "2022-05-11T13:54:45.322Z"
   },
   {
    "duration": 75,
    "start_time": "2022-05-11T13:54:47.029Z"
   },
   {
    "duration": 96,
    "start_time": "2022-05-11T13:54:47.106Z"
   },
   {
    "duration": 71,
    "start_time": "2022-05-11T13:54:47.205Z"
   },
   {
    "duration": 19,
    "start_time": "2022-05-11T13:54:47.279Z"
   },
   {
    "duration": 624,
    "start_time": "2022-05-11T13:54:47.300Z"
   },
   {
    "duration": 22,
    "start_time": "2022-05-11T13:54:47.930Z"
   },
   {
    "duration": 79,
    "start_time": "2022-05-11T13:54:47.955Z"
   },
   {
    "duration": 268,
    "start_time": "2022-05-11T13:54:48.037Z"
   },
   {
    "duration": 19,
    "start_time": "2022-05-11T13:54:48.309Z"
   },
   {
    "duration": 58,
    "start_time": "2022-05-11T13:54:48.331Z"
   },
   {
    "duration": 111,
    "start_time": "2022-05-11T13:54:48.392Z"
   },
   {
    "duration": 11,
    "start_time": "2022-05-11T13:54:48.505Z"
   },
   {
    "duration": 19,
    "start_time": "2022-05-11T13:54:48.519Z"
   },
   {
    "duration": 63,
    "start_time": "2022-05-11T13:54:48.540Z"
   },
   {
    "duration": 37,
    "start_time": "2022-05-11T13:54:48.606Z"
   },
   {
    "duration": 154,
    "start_time": "2022-05-11T13:54:48.647Z"
   },
   {
    "duration": 186,
    "start_time": "2022-05-11T13:54:48.803Z"
   },
   {
    "duration": 44,
    "start_time": "2022-05-11T13:54:48.991Z"
   },
   {
    "duration": 155,
    "start_time": "2022-05-11T13:54:49.038Z"
   },
   {
    "duration": 80,
    "start_time": "2022-05-11T13:54:49.195Z"
   },
   {
    "duration": 18,
    "start_time": "2022-05-11T13:54:49.277Z"
   },
   {
    "duration": 26,
    "start_time": "2022-05-11T13:54:49.297Z"
   },
   {
    "duration": 41,
    "start_time": "2022-05-11T13:54:49.325Z"
   },
   {
    "duration": 29,
    "start_time": "2022-05-11T13:54:49.368Z"
   },
   {
    "duration": 2064,
    "start_time": "2022-05-11T13:54:49.399Z"
   },
   {
    "duration": 141,
    "start_time": "2022-05-11T13:54:58.705Z"
   },
   {
    "duration": 81,
    "start_time": "2022-05-11T13:55:03.262Z"
   },
   {
    "duration": 26,
    "start_time": "2022-05-11T13:55:04.351Z"
   },
   {
    "duration": 148,
    "start_time": "2022-05-11T13:55:05.330Z"
   },
   {
    "duration": 93,
    "start_time": "2022-05-11T14:02:42.201Z"
   },
   {
    "duration": 18,
    "start_time": "2022-05-11T14:02:42.726Z"
   },
   {
    "duration": 20,
    "start_time": "2022-05-11T14:02:44.523Z"
   },
   {
    "duration": 25,
    "start_time": "2022-05-11T14:03:13.852Z"
   },
   {
    "duration": 136,
    "start_time": "2022-05-11T14:03:15.058Z"
   },
   {
    "duration": 1080,
    "start_time": "2022-05-11T14:03:20.758Z"
   },
   {
    "duration": 17,
    "start_time": "2022-05-11T14:03:26.578Z"
   },
   {
    "duration": 21,
    "start_time": "2022-05-11T14:03:26.598Z"
   },
   {
    "duration": 35,
    "start_time": "2022-05-11T14:03:26.622Z"
   },
   {
    "duration": 19,
    "start_time": "2022-05-11T14:03:46.503Z"
   },
   {
    "duration": 24,
    "start_time": "2022-05-11T14:04:29.177Z"
   },
   {
    "duration": 19,
    "start_time": "2022-05-11T14:04:59.618Z"
   },
   {
    "duration": 19,
    "start_time": "2022-05-11T14:05:10.124Z"
   },
   {
    "duration": 12,
    "start_time": "2022-05-11T14:06:17.120Z"
   },
   {
    "duration": 28,
    "start_time": "2022-05-11T14:06:18.736Z"
   },
   {
    "duration": 30,
    "start_time": "2022-05-11T14:06:38.185Z"
   },
   {
    "duration": 30,
    "start_time": "2022-05-11T14:07:39.331Z"
   },
   {
    "duration": 41,
    "start_time": "2022-05-11T14:07:48.502Z"
   },
   {
    "duration": 71,
    "start_time": "2022-05-11T14:08:41.920Z"
   },
   {
    "duration": 18,
    "start_time": "2022-05-11T14:08:43.557Z"
   },
   {
    "duration": 40,
    "start_time": "2022-05-11T14:08:46.024Z"
   },
   {
    "duration": 47,
    "start_time": "2022-05-11T14:09:19.214Z"
   },
   {
    "duration": 27,
    "start_time": "2022-05-11T14:10:48.951Z"
   },
   {
    "duration": 137,
    "start_time": "2022-05-11T14:10:49.825Z"
   },
   {
    "duration": 28,
    "start_time": "2022-05-11T14:11:08.486Z"
   },
   {
    "duration": 136,
    "start_time": "2022-05-11T14:11:09.336Z"
   },
   {
    "duration": 72,
    "start_time": "2022-05-11T14:11:17.367Z"
   },
   {
    "duration": 17,
    "start_time": "2022-05-11T14:11:18.191Z"
   },
   {
    "duration": 42,
    "start_time": "2022-05-11T14:11:19.712Z"
   },
   {
    "duration": 42,
    "start_time": "2022-05-11T14:11:32.599Z"
   },
   {
    "duration": 44,
    "start_time": "2022-05-11T14:11:53.633Z"
   },
   {
    "duration": 124,
    "start_time": "2022-05-11T14:12:23.721Z"
   },
   {
    "duration": 35,
    "start_time": "2022-05-11T14:12:28.383Z"
   },
   {
    "duration": 107,
    "start_time": "2022-05-11T14:12:40.978Z"
   },
   {
    "duration": 46,
    "start_time": "2022-05-11T14:13:29.245Z"
   },
   {
    "duration": 48,
    "start_time": "2022-05-11T14:14:24.135Z"
   },
   {
    "duration": 45,
    "start_time": "2022-05-11T14:14:37.905Z"
   },
   {
    "duration": 40,
    "start_time": "2022-05-11T14:15:25.390Z"
   },
   {
    "duration": 36,
    "start_time": "2022-05-11T14:15:31.125Z"
   },
   {
    "duration": 46,
    "start_time": "2022-05-11T14:15:45.840Z"
   },
   {
    "duration": 43,
    "start_time": "2022-05-11T14:17:56.926Z"
   },
   {
    "duration": 43,
    "start_time": "2022-05-11T14:18:29.508Z"
   },
   {
    "duration": 43,
    "start_time": "2022-05-11T14:19:20.086Z"
   },
   {
    "duration": 44,
    "start_time": "2022-05-11T14:19:28.627Z"
   },
   {
    "duration": 44,
    "start_time": "2022-05-11T14:19:49.246Z"
   },
   {
    "duration": 46,
    "start_time": "2022-05-11T14:21:32.318Z"
   },
   {
    "duration": 44,
    "start_time": "2022-05-11T14:22:22.056Z"
   },
   {
    "duration": 45,
    "start_time": "2022-05-11T14:22:33.150Z"
   },
   {
    "duration": 39,
    "start_time": "2022-05-11T14:26:46.234Z"
   },
   {
    "duration": 26,
    "start_time": "2022-05-11T14:28:02.976Z"
   },
   {
    "duration": 26,
    "start_time": "2022-05-11T14:28:16.888Z"
   },
   {
    "duration": 40,
    "start_time": "2022-05-11T14:29:37.980Z"
   },
   {
    "duration": 226,
    "start_time": "2022-05-11T14:29:38.720Z"
   },
   {
    "duration": 97,
    "start_time": "2022-05-11T14:29:42.353Z"
   },
   {
    "duration": 26,
    "start_time": "2022-05-11T14:33:35.131Z"
   },
   {
    "duration": 24,
    "start_time": "2022-05-11T14:33:37.822Z"
   },
   {
    "duration": 51,
    "start_time": "2022-05-11T14:33:46.645Z"
   },
   {
    "duration": 58,
    "start_time": "2022-05-11T14:35:34.093Z"
   },
   {
    "duration": 6,
    "start_time": "2022-05-11T14:35:46.483Z"
   },
   {
    "duration": 65,
    "start_time": "2022-05-11T14:35:46.493Z"
   },
   {
    "duration": 116,
    "start_time": "2022-05-11T14:35:46.560Z"
   },
   {
    "duration": 76,
    "start_time": "2022-05-11T14:35:46.679Z"
   },
   {
    "duration": 15,
    "start_time": "2022-05-11T14:35:46.758Z"
   },
   {
    "duration": 169,
    "start_time": "2022-05-11T14:35:46.775Z"
   },
   {
    "duration": 17,
    "start_time": "2022-05-11T14:35:46.947Z"
   },
   {
    "duration": 62,
    "start_time": "2022-05-11T14:35:46.967Z"
   },
   {
    "duration": 156,
    "start_time": "2022-05-11T14:35:47.032Z"
   },
   {
    "duration": 10,
    "start_time": "2022-05-11T14:35:47.190Z"
   },
   {
    "duration": 4,
    "start_time": "2022-05-11T14:35:47.228Z"
   },
   {
    "duration": 114,
    "start_time": "2022-05-11T14:35:47.234Z"
   },
   {
    "duration": 17,
    "start_time": "2022-05-11T14:35:47.351Z"
   },
   {
    "duration": 35,
    "start_time": "2022-05-11T14:35:47.371Z"
   },
   {
    "duration": 69,
    "start_time": "2022-05-11T14:35:47.409Z"
   },
   {
    "duration": 23,
    "start_time": "2022-05-11T14:35:47.481Z"
   },
   {
    "duration": 152,
    "start_time": "2022-05-11T14:35:47.525Z"
   },
   {
    "duration": 197,
    "start_time": "2022-05-11T14:35:47.679Z"
   },
   {
    "duration": 48,
    "start_time": "2022-05-11T14:35:47.879Z"
   },
   {
    "duration": 151,
    "start_time": "2022-05-11T14:35:47.929Z"
   },
   {
    "duration": 79,
    "start_time": "2022-05-11T14:35:48.083Z"
   },
   {
    "duration": 18,
    "start_time": "2022-05-11T14:35:48.165Z"
   },
   {
    "duration": 33,
    "start_time": "2022-05-11T14:35:48.185Z"
   },
   {
    "duration": 57,
    "start_time": "2022-05-11T14:35:54.434Z"
   },
   {
    "duration": 1373,
    "start_time": "2022-05-12T02:02:57.366Z"
   },
   {
    "duration": 57,
    "start_time": "2022-05-12T02:02:58.741Z"
   },
   {
    "duration": 63,
    "start_time": "2022-05-12T02:02:58.800Z"
   },
   {
    "duration": 52,
    "start_time": "2022-05-12T02:02:58.866Z"
   },
   {
    "duration": 11,
    "start_time": "2022-05-12T02:02:58.920Z"
   },
   {
    "duration": 431,
    "start_time": "2022-05-12T02:02:58.933Z"
   },
   {
    "duration": 17,
    "start_time": "2022-05-12T02:02:59.366Z"
   },
   {
    "duration": 34,
    "start_time": "2022-05-12T02:02:59.384Z"
   },
   {
    "duration": 135,
    "start_time": "2022-05-12T02:02:59.420Z"
   },
   {
    "duration": 6,
    "start_time": "2022-05-12T02:02:59.558Z"
   },
   {
    "duration": 3,
    "start_time": "2022-05-12T02:02:59.566Z"
   },
   {
    "duration": 43,
    "start_time": "2022-05-12T02:02:59.608Z"
   },
   {
    "duration": 8,
    "start_time": "2022-05-12T02:02:59.653Z"
   },
   {
    "duration": 9,
    "start_time": "2022-05-12T02:02:59.662Z"
   },
   {
    "duration": 57,
    "start_time": "2022-05-12T02:02:59.673Z"
   },
   {
    "duration": 16,
    "start_time": "2022-05-12T02:02:59.732Z"
   },
   {
    "duration": 99,
    "start_time": "2022-05-12T02:02:59.750Z"
   },
   {
    "duration": 137,
    "start_time": "2022-05-12T02:02:59.851Z"
   },
   {
    "duration": 30,
    "start_time": "2022-05-12T02:02:59.989Z"
   },
   {
    "duration": 106,
    "start_time": "2022-05-12T02:03:00.021Z"
   },
   {
    "duration": 109,
    "start_time": "2022-05-12T02:03:00.129Z"
   },
   {
    "duration": 13,
    "start_time": "2022-05-12T02:03:00.240Z"
   },
   {
    "duration": 27,
    "start_time": "2022-05-12T02:03:00.254Z"
   },
   {
    "duration": 158,
    "start_time": "2022-05-12T02:03:00.283Z"
   },
   {
    "duration": 0,
    "start_time": "2022-05-12T02:03:00.443Z"
   },
   {
    "duration": 17,
    "start_time": "2022-05-12T02:24:58.332Z"
   },
   {
    "duration": 24,
    "start_time": "2022-05-12T02:25:22.215Z"
   },
   {
    "duration": 23,
    "start_time": "2022-05-12T02:27:12.181Z"
   },
   {
    "duration": 1019,
    "start_time": "2022-05-12T02:27:37.073Z"
   },
   {
    "duration": 22,
    "start_time": "2022-05-12T02:27:38.910Z"
   },
   {
    "duration": 4,
    "start_time": "2022-05-12T02:27:54.973Z"
   },
   {
    "duration": 55,
    "start_time": "2022-05-12T02:27:55.239Z"
   },
   {
    "duration": 58,
    "start_time": "2022-05-12T02:27:55.464Z"
   },
   {
    "duration": 34,
    "start_time": "2022-05-12T02:27:55.965Z"
   },
   {
    "duration": 11,
    "start_time": "2022-05-12T02:27:56.495Z"
   },
   {
    "duration": 75,
    "start_time": "2022-05-12T02:27:56.761Z"
   },
   {
    "duration": 11,
    "start_time": "2022-05-12T02:27:57.336Z"
   },
   {
    "duration": 17,
    "start_time": "2022-05-12T02:27:57.885Z"
   },
   {
    "duration": 81,
    "start_time": "2022-05-12T02:27:58.151Z"
   },
   {
    "duration": 6,
    "start_time": "2022-05-12T02:27:58.685Z"
   },
   {
    "duration": 4,
    "start_time": "2022-05-12T02:27:59.460Z"
   },
   {
    "duration": 42,
    "start_time": "2022-05-12T02:27:59.838Z"
   },
   {
    "duration": 8,
    "start_time": "2022-05-12T02:28:00.508Z"
   },
   {
    "duration": 8,
    "start_time": "2022-05-12T02:28:01.117Z"
   },
   {
    "duration": 36,
    "start_time": "2022-05-12T02:28:01.693Z"
   },
   {
    "duration": 16,
    "start_time": "2022-05-12T02:28:02.150Z"
   },
   {
    "duration": 82,
    "start_time": "2022-05-12T02:28:03.822Z"
   },
   {
    "duration": 55,
    "start_time": "2022-05-12T02:28:05.247Z"
   },
   {
    "duration": 21,
    "start_time": "2022-05-12T02:28:06.504Z"
   },
   {
    "duration": 86,
    "start_time": "2022-05-12T02:28:07.151Z"
   },
   {
    "duration": 47,
    "start_time": "2022-05-12T02:28:11.470Z"
   },
   {
    "duration": 17,
    "start_time": "2022-05-12T02:28:12.214Z"
   },
   {
    "duration": 22,
    "start_time": "2022-05-12T02:28:13.511Z"
   },
   {
    "duration": 1177,
    "start_time": "2022-05-12T02:28:26.563Z"
   },
   {
    "duration": 55,
    "start_time": "2022-05-12T02:28:27.742Z"
   },
   {
    "duration": 62,
    "start_time": "2022-05-12T02:28:27.799Z"
   },
   {
    "duration": 49,
    "start_time": "2022-05-12T02:28:27.863Z"
   },
   {
    "duration": 12,
    "start_time": "2022-05-12T02:28:27.913Z"
   },
   {
    "duration": 422,
    "start_time": "2022-05-12T02:28:27.927Z"
   },
   {
    "duration": 14,
    "start_time": "2022-05-12T02:28:28.350Z"
   },
   {
    "duration": 16,
    "start_time": "2022-05-12T02:28:28.366Z"
   },
   {
    "duration": 133,
    "start_time": "2022-05-12T02:28:28.408Z"
   },
   {
    "duration": 5,
    "start_time": "2022-05-12T02:28:28.544Z"
   },
   {
    "duration": 3,
    "start_time": "2022-05-12T02:28:28.550Z"
   },
   {
    "duration": 72,
    "start_time": "2022-05-12T02:28:28.555Z"
   },
   {
    "duration": 7,
    "start_time": "2022-05-12T02:28:28.628Z"
   },
   {
    "duration": 7,
    "start_time": "2022-05-12T02:28:28.637Z"
   },
   {
    "duration": 36,
    "start_time": "2022-05-12T02:28:28.646Z"
   },
   {
    "duration": 36,
    "start_time": "2022-05-12T02:28:28.684Z"
   },
   {
    "duration": 95,
    "start_time": "2022-05-12T02:28:28.722Z"
   },
   {
    "duration": 138,
    "start_time": "2022-05-12T02:28:28.818Z"
   },
   {
    "duration": 19,
    "start_time": "2022-05-12T02:28:28.958Z"
   },
   {
    "duration": 102,
    "start_time": "2022-05-12T02:28:28.979Z"
   },
   {
    "duration": 44,
    "start_time": "2022-05-12T02:28:29.082Z"
   },
   {
    "duration": 16,
    "start_time": "2022-05-12T02:28:29.128Z"
   },
   {
    "duration": 23,
    "start_time": "2022-05-12T02:28:29.146Z"
   },
   {
    "duration": 186,
    "start_time": "2022-05-12T02:28:29.171Z"
   },
   {
    "duration": 0,
    "start_time": "2022-05-12T02:28:29.359Z"
   },
   {
    "duration": 58,
    "start_time": "2022-05-12T02:29:08.598Z"
   },
   {
    "duration": 17,
    "start_time": "2022-05-12T02:29:09.472Z"
   },
   {
    "duration": 21,
    "start_time": "2022-05-12T02:29:10.439Z"
   },
   {
    "duration": 22,
    "start_time": "2022-05-12T02:29:27.328Z"
   },
   {
    "duration": 22,
    "start_time": "2022-05-12T02:29:43.634Z"
   },
   {
    "duration": 23,
    "start_time": "2022-05-12T02:30:06.993Z"
   },
   {
    "duration": 1133,
    "start_time": "2022-05-12T02:30:23.042Z"
   },
   {
    "duration": 0,
    "start_time": "2022-05-12T02:30:24.177Z"
   },
   {
    "duration": 4,
    "start_time": "2022-05-12T02:30:35.683Z"
   },
   {
    "duration": 57,
    "start_time": "2022-05-12T02:30:36.025Z"
   },
   {
    "duration": 60,
    "start_time": "2022-05-12T02:30:36.496Z"
   },
   {
    "duration": 38,
    "start_time": "2022-05-12T02:30:37.753Z"
   },
   {
    "duration": 12,
    "start_time": "2022-05-12T02:30:39.441Z"
   },
   {
    "duration": 77,
    "start_time": "2022-05-12T02:30:40.163Z"
   },
   {
    "duration": 11,
    "start_time": "2022-05-12T02:30:44.250Z"
   },
   {
    "duration": 17,
    "start_time": "2022-05-12T02:30:46.145Z"
   },
   {
    "duration": 81,
    "start_time": "2022-05-12T02:30:46.907Z"
   },
   {
    "duration": 6,
    "start_time": "2022-05-12T02:30:48.714Z"
   },
   {
    "duration": 4,
    "start_time": "2022-05-12T02:30:50.257Z"
   },
   {
    "duration": 42,
    "start_time": "2022-05-12T02:30:51.002Z"
   },
   {
    "duration": 9,
    "start_time": "2022-05-12T02:30:53.455Z"
   },
   {
    "duration": 8,
    "start_time": "2022-05-12T02:30:54.034Z"
   },
   {
    "duration": 38,
    "start_time": "2022-05-12T02:30:55.841Z"
   },
   {
    "duration": 16,
    "start_time": "2022-05-12T02:30:56.754Z"
   },
   {
    "duration": 86,
    "start_time": "2022-05-12T02:31:02.835Z"
   },
   {
    "duration": 58,
    "start_time": "2022-05-12T02:31:05.523Z"
   },
   {
    "duration": 20,
    "start_time": "2022-05-12T02:31:06.218Z"
   },
   {
    "duration": 88,
    "start_time": "2022-05-12T02:31:08.620Z"
   },
   {
    "duration": 48,
    "start_time": "2022-05-12T02:31:19.035Z"
   },
   {
    "duration": 13,
    "start_time": "2022-05-12T02:31:19.924Z"
   },
   {
    "duration": 22,
    "start_time": "2022-05-12T02:31:21.339Z"
   },
   {
    "duration": 10,
    "start_time": "2022-05-12T02:33:32.113Z"
   },
   {
    "duration": 11,
    "start_time": "2022-05-12T02:33:59.619Z"
   },
   {
    "duration": 22,
    "start_time": "2022-05-12T02:34:05.260Z"
   },
   {
    "duration": 10,
    "start_time": "2022-05-12T02:34:07.066Z"
   },
   {
    "duration": 13,
    "start_time": "2022-05-12T02:34:21.852Z"
   },
   {
    "duration": 16,
    "start_time": "2022-05-12T02:34:31.717Z"
   },
   {
    "duration": 17,
    "start_time": "2022-05-12T02:34:47.188Z"
   },
   {
    "duration": 17,
    "start_time": "2022-05-12T02:35:05.174Z"
   },
   {
    "duration": 16,
    "start_time": "2022-05-12T02:35:16.879Z"
   },
   {
    "duration": 18,
    "start_time": "2022-05-12T02:36:21.249Z"
   },
   {
    "duration": 22,
    "start_time": "2022-05-12T02:36:53.186Z"
   },
   {
    "duration": 22,
    "start_time": "2022-05-12T02:36:57.818Z"
   },
   {
    "duration": 20,
    "start_time": "2022-05-12T03:24:59.099Z"
   },
   {
    "duration": 24,
    "start_time": "2022-05-12T03:25:06.622Z"
   },
   {
    "duration": 20,
    "start_time": "2022-05-12T03:25:08.304Z"
   },
   {
    "duration": 13,
    "start_time": "2022-05-12T03:25:27.742Z"
   },
   {
    "duration": 14,
    "start_time": "2022-05-12T03:25:40.739Z"
   },
   {
    "duration": 25,
    "start_time": "2022-05-12T03:26:06.187Z"
   },
   {
    "duration": 18,
    "start_time": "2022-05-12T04:02:31.806Z"
   },
   {
    "duration": 17,
    "start_time": "2022-05-12T04:04:37.036Z"
   },
   {
    "duration": 18,
    "start_time": "2022-05-12T04:05:27.296Z"
   },
   {
    "duration": 16,
    "start_time": "2022-05-12T04:05:42.898Z"
   },
   {
    "duration": 16,
    "start_time": "2022-05-12T04:12:36.248Z"
   },
   {
    "duration": 20,
    "start_time": "2022-05-12T04:12:52.059Z"
   },
   {
    "duration": 122,
    "start_time": "2022-05-12T04:46:05.434Z"
   },
   {
    "duration": 13,
    "start_time": "2022-05-12T04:46:06.035Z"
   },
   {
    "duration": 17,
    "start_time": "2022-05-12T04:47:10.918Z"
   },
   {
    "duration": 16,
    "start_time": "2022-05-12T04:47:35.424Z"
   },
   {
    "duration": 15,
    "start_time": "2022-05-12T04:48:48.360Z"
   },
   {
    "duration": 17,
    "start_time": "2022-05-12T04:49:11.082Z"
   },
   {
    "duration": 17,
    "start_time": "2022-05-12T04:49:45.924Z"
   },
   {
    "duration": 19,
    "start_time": "2022-05-12T04:52:20.225Z"
   },
   {
    "duration": 19,
    "start_time": "2022-05-12T04:54:00.341Z"
   },
   {
    "duration": 22,
    "start_time": "2022-05-12T04:54:10.831Z"
   },
   {
    "duration": 12,
    "start_time": "2022-05-12T04:54:16.078Z"
   },
   {
    "duration": 1200,
    "start_time": "2022-05-12T04:55:12.602Z"
   },
   {
    "duration": 1007,
    "start_time": "2022-05-12T04:55:30.691Z"
   },
   {
    "duration": 11,
    "start_time": "2022-05-12T04:55:37.979Z"
   },
   {
    "duration": 1014,
    "start_time": "2022-05-12T04:55:59.971Z"
   },
   {
    "duration": 21,
    "start_time": "2022-05-12T04:57:33.605Z"
   },
   {
    "duration": 4,
    "start_time": "2022-05-12T04:57:40.205Z"
   },
   {
    "duration": 61,
    "start_time": "2022-05-12T04:57:40.211Z"
   },
   {
    "duration": 64,
    "start_time": "2022-05-12T04:57:40.274Z"
   },
   {
    "duration": 33,
    "start_time": "2022-05-12T04:57:40.341Z"
   },
   {
    "duration": 32,
    "start_time": "2022-05-12T04:57:40.375Z"
   },
   {
    "duration": 74,
    "start_time": "2022-05-12T04:57:40.409Z"
   },
   {
    "duration": 25,
    "start_time": "2022-05-12T04:57:40.485Z"
   },
   {
    "duration": 16,
    "start_time": "2022-05-12T04:57:40.512Z"
   },
   {
    "duration": 99,
    "start_time": "2022-05-12T04:57:40.530Z"
   },
   {
    "duration": 6,
    "start_time": "2022-05-12T04:57:40.630Z"
   },
   {
    "duration": 4,
    "start_time": "2022-05-12T04:57:40.637Z"
   },
   {
    "duration": 66,
    "start_time": "2022-05-12T04:57:40.643Z"
   },
   {
    "duration": 8,
    "start_time": "2022-05-12T04:57:40.710Z"
   },
   {
    "duration": 10,
    "start_time": "2022-05-12T04:57:40.719Z"
   },
   {
    "duration": 33,
    "start_time": "2022-05-12T04:57:40.731Z"
   },
   {
    "duration": 16,
    "start_time": "2022-05-12T04:57:40.765Z"
   },
   {
    "duration": 77,
    "start_time": "2022-05-12T04:57:40.808Z"
   },
   {
    "duration": 70,
    "start_time": "2022-05-12T04:57:40.887Z"
   },
   {
    "duration": 20,
    "start_time": "2022-05-12T04:57:40.959Z"
   },
   {
    "duration": 178,
    "start_time": "2022-05-12T04:57:40.981Z"
   },
   {
    "duration": 56,
    "start_time": "2022-05-12T04:57:41.161Z"
   },
   {
    "duration": 13,
    "start_time": "2022-05-12T04:57:41.219Z"
   },
   {
    "duration": 25,
    "start_time": "2022-05-12T04:57:41.233Z"
   },
   {
    "duration": 20,
    "start_time": "2022-05-12T04:57:43.793Z"
   },
   {
    "duration": 21,
    "start_time": "2022-05-12T04:57:55.137Z"
   },
   {
    "duration": 11,
    "start_time": "2022-05-12T04:58:04.067Z"
   },
   {
    "duration": 6,
    "start_time": "2022-05-12T04:58:10.337Z"
   },
   {
    "duration": 15,
    "start_time": "2022-05-12T05:20:24.327Z"
   },
   {
    "duration": 10,
    "start_time": "2022-05-12T05:23:06.546Z"
   },
   {
    "duration": 10,
    "start_time": "2022-05-12T05:23:31.004Z"
   },
   {
    "duration": 18,
    "start_time": "2022-05-12T05:23:39.735Z"
   },
   {
    "duration": 5,
    "start_time": "2022-05-12T05:24:05.179Z"
   },
   {
    "duration": 11,
    "start_time": "2022-05-12T05:24:11.794Z"
   },
   {
    "duration": 6,
    "start_time": "2022-05-12T05:24:13.541Z"
   },
   {
    "duration": 19,
    "start_time": "2022-05-12T05:38:45.090Z"
   },
   {
    "duration": 19,
    "start_time": "2022-05-12T05:39:29.298Z"
   },
   {
    "duration": 19,
    "start_time": "2022-05-12T05:39:51.654Z"
   },
   {
    "duration": 1154,
    "start_time": "2022-05-12T05:39:53.237Z"
   },
   {
    "duration": 6,
    "start_time": "2022-05-12T05:39:54.805Z"
   },
   {
    "duration": 21,
    "start_time": "2022-05-12T05:40:07.054Z"
   },
   {
    "duration": 10,
    "start_time": "2022-05-12T05:40:08.134Z"
   },
   {
    "duration": 13,
    "start_time": "2022-05-12T05:40:26.364Z"
   },
   {
    "duration": 21,
    "start_time": "2022-05-12T05:49:21.646Z"
   },
   {
    "duration": 19,
    "start_time": "2022-05-12T05:49:44.679Z"
   },
   {
    "duration": 10,
    "start_time": "2022-05-12T05:52:58.671Z"
   },
   {
    "duration": 14,
    "start_time": "2022-05-12T05:53:00.440Z"
   },
   {
    "duration": 11,
    "start_time": "2022-05-12T07:11:21.709Z"
   },
   {
    "duration": 28,
    "start_time": "2022-05-12T07:11:26.644Z"
   },
   {
    "duration": 10,
    "start_time": "2022-05-12T07:11:27.476Z"
   },
   {
    "duration": 15,
    "start_time": "2022-05-12T07:11:28.222Z"
   },
   {
    "duration": 35,
    "start_time": "2022-05-12T08:33:50.394Z"
   },
   {
    "duration": 41,
    "start_time": "2022-05-12T08:34:21.452Z"
   },
   {
    "duration": 1073,
    "start_time": "2022-05-12T08:35:20.110Z"
   },
   {
    "duration": 0,
    "start_time": "2022-05-12T08:35:21.185Z"
   },
   {
    "duration": 4,
    "start_time": "2022-05-12T08:35:28.186Z"
   },
   {
    "duration": 54,
    "start_time": "2022-05-12T08:35:28.192Z"
   },
   {
    "duration": 69,
    "start_time": "2022-05-12T08:35:28.248Z"
   },
   {
    "duration": 40,
    "start_time": "2022-05-12T08:35:28.318Z"
   },
   {
    "duration": 11,
    "start_time": "2022-05-12T08:35:28.360Z"
   },
   {
    "duration": 108,
    "start_time": "2022-05-12T08:35:28.372Z"
   },
   {
    "duration": 26,
    "start_time": "2022-05-12T08:35:28.481Z"
   },
   {
    "duration": 16,
    "start_time": "2022-05-12T08:35:28.509Z"
   },
   {
    "duration": 100,
    "start_time": "2022-05-12T08:35:28.527Z"
   },
   {
    "duration": 5,
    "start_time": "2022-05-12T08:35:28.629Z"
   },
   {
    "duration": 3,
    "start_time": "2022-05-12T08:35:28.637Z"
   },
   {
    "duration": 43,
    "start_time": "2022-05-12T08:35:28.641Z"
   },
   {
    "duration": 25,
    "start_time": "2022-05-12T08:35:28.686Z"
   },
   {
    "duration": 10,
    "start_time": "2022-05-12T08:35:28.713Z"
   },
   {
    "duration": 37,
    "start_time": "2022-05-12T08:35:28.725Z"
   },
   {
    "duration": 43,
    "start_time": "2022-05-12T08:35:28.764Z"
   },
   {
    "duration": 82,
    "start_time": "2022-05-12T08:35:28.809Z"
   },
   {
    "duration": 68,
    "start_time": "2022-05-12T08:35:28.893Z"
   },
   {
    "duration": 21,
    "start_time": "2022-05-12T08:35:28.963Z"
   },
   {
    "duration": 85,
    "start_time": "2022-05-12T08:35:29.007Z"
   },
   {
    "duration": 93,
    "start_time": "2022-05-12T08:35:29.094Z"
   },
   {
    "duration": 13,
    "start_time": "2022-05-12T08:35:29.189Z"
   },
   {
    "duration": 25,
    "start_time": "2022-05-12T08:35:29.204Z"
   },
   {
    "duration": 20,
    "start_time": "2022-05-12T08:35:29.231Z"
   },
   {
    "duration": 21,
    "start_time": "2022-05-12T08:36:20.346Z"
   },
   {
    "duration": 11,
    "start_time": "2022-05-12T08:36:26.240Z"
   },
   {
    "duration": 1265,
    "start_time": "2022-05-12T08:36:51.997Z"
   },
   {
    "duration": 58,
    "start_time": "2022-05-12T08:36:53.264Z"
   },
   {
    "duration": 63,
    "start_time": "2022-05-12T08:36:53.324Z"
   },
   {
    "duration": 43,
    "start_time": "2022-05-12T08:36:53.389Z"
   },
   {
    "duration": 11,
    "start_time": "2022-05-12T08:36:53.434Z"
   },
   {
    "duration": 510,
    "start_time": "2022-05-12T08:36:53.446Z"
   },
   {
    "duration": 13,
    "start_time": "2022-05-12T08:36:53.958Z"
   },
   {
    "duration": 42,
    "start_time": "2022-05-12T08:36:53.972Z"
   },
   {
    "duration": 136,
    "start_time": "2022-05-12T08:36:54.015Z"
   },
   {
    "duration": 6,
    "start_time": "2022-05-12T08:36:54.153Z"
   },
   {
    "duration": 5,
    "start_time": "2022-05-12T08:36:54.161Z"
   },
   {
    "duration": 70,
    "start_time": "2022-05-12T08:36:54.167Z"
   },
   {
    "duration": 7,
    "start_time": "2022-05-12T08:36:54.238Z"
   },
   {
    "duration": 8,
    "start_time": "2022-05-12T08:36:54.247Z"
   },
   {
    "duration": 56,
    "start_time": "2022-05-12T08:36:54.257Z"
   },
   {
    "duration": 17,
    "start_time": "2022-05-12T08:36:54.315Z"
   },
   {
    "duration": 98,
    "start_time": "2022-05-12T08:36:54.333Z"
   },
   {
    "duration": 134,
    "start_time": "2022-05-12T08:36:54.433Z"
   },
   {
    "duration": 39,
    "start_time": "2022-05-12T08:36:54.569Z"
   },
   {
    "duration": 82,
    "start_time": "2022-05-12T08:36:54.610Z"
   },
   {
    "duration": 55,
    "start_time": "2022-05-12T08:36:54.694Z"
   },
   {
    "duration": 13,
    "start_time": "2022-05-12T08:36:54.751Z"
   },
   {
    "duration": 24,
    "start_time": "2022-05-12T08:36:54.766Z"
   },
   {
    "duration": 18,
    "start_time": "2022-05-12T08:36:54.792Z"
   },
   {
    "duration": 8,
    "start_time": "2022-05-12T08:36:54.811Z"
   },
   {
    "duration": 171,
    "start_time": "2022-05-12T08:36:54.821Z"
   },
   {
    "duration": 0,
    "start_time": "2022-05-12T08:36:54.994Z"
   },
   {
    "duration": 0,
    "start_time": "2022-05-12T08:36:54.995Z"
   },
   {
    "duration": 1293,
    "start_time": "2022-05-12T08:37:34.124Z"
   },
   {
    "duration": 1287,
    "start_time": "2022-05-12T08:39:14.849Z"
   },
   {
    "duration": 0,
    "start_time": "2022-05-12T08:39:16.137Z"
   },
   {
    "duration": 19,
    "start_time": "2022-05-12T08:39:16.624Z"
   },
   {
    "duration": 9,
    "start_time": "2022-05-12T08:39:59.979Z"
   },
   {
    "duration": 10,
    "start_time": "2022-05-12T08:40:12.971Z"
   },
   {
    "duration": 19,
    "start_time": "2022-05-12T08:40:22.210Z"
   },
   {
    "duration": 4,
    "start_time": "2022-05-12T08:40:31.915Z"
   },
   {
    "duration": 12,
    "start_time": "2022-05-12T08:41:08.932Z"
   },
   {
    "duration": 21,
    "start_time": "2022-05-12T08:47:06.420Z"
   },
   {
    "duration": 10,
    "start_time": "2022-05-12T08:47:14.380Z"
   },
   {
    "duration": 25,
    "start_time": "2022-05-12T08:50:35.703Z"
   },
   {
    "duration": 15,
    "start_time": "2022-05-12T09:09:28.165Z"
   },
   {
    "duration": 12,
    "start_time": "2022-05-12T09:09:29.227Z"
   },
   {
    "duration": 21,
    "start_time": "2022-05-12T09:09:30.781Z"
   },
   {
    "duration": 1276,
    "start_time": "2022-05-12T09:09:44.173Z"
   },
   {
    "duration": 7,
    "start_time": "2022-05-12T09:09:53.428Z"
   },
   {
    "duration": 104,
    "start_time": "2022-05-12T09:09:53.438Z"
   },
   {
    "duration": 118,
    "start_time": "2022-05-12T09:09:53.545Z"
   },
   {
    "duration": 72,
    "start_time": "2022-05-12T09:09:53.666Z"
   },
   {
    "duration": 12,
    "start_time": "2022-05-12T09:09:53.743Z"
   },
   {
    "duration": 124,
    "start_time": "2022-05-12T09:09:53.757Z"
   },
   {
    "duration": 23,
    "start_time": "2022-05-12T09:09:53.885Z"
   },
   {
    "duration": 33,
    "start_time": "2022-05-12T09:09:53.910Z"
   },
   {
    "duration": 134,
    "start_time": "2022-05-12T09:09:53.949Z"
   },
   {
    "duration": 8,
    "start_time": "2022-05-12T09:09:54.084Z"
   },
   {
    "duration": 7,
    "start_time": "2022-05-12T09:09:54.107Z"
   },
   {
    "duration": 71,
    "start_time": "2022-05-12T09:09:54.117Z"
   },
   {
    "duration": 29,
    "start_time": "2022-05-12T09:09:54.190Z"
   },
   {
    "duration": 13,
    "start_time": "2022-05-12T09:09:54.224Z"
   },
   {
    "duration": 84,
    "start_time": "2022-05-12T09:09:54.239Z"
   },
   {
    "duration": 26,
    "start_time": "2022-05-12T09:09:54.325Z"
   },
   {
    "duration": 157,
    "start_time": "2022-05-12T09:09:54.353Z"
   },
   {
    "duration": 99,
    "start_time": "2022-05-12T09:09:54.512Z"
   },
   {
    "duration": 33,
    "start_time": "2022-05-12T09:09:54.614Z"
   },
   {
    "duration": 133,
    "start_time": "2022-05-12T09:09:54.649Z"
   },
   {
    "duration": 70,
    "start_time": "2022-05-12T09:09:54.784Z"
   },
   {
    "duration": 59,
    "start_time": "2022-05-12T09:09:56.916Z"
   },
   {
    "duration": 20,
    "start_time": "2022-05-12T09:09:57.720Z"
   },
   {
    "duration": 35,
    "start_time": "2022-05-12T09:09:58.974Z"
   },
   {
    "duration": 1372,
    "start_time": "2022-05-12T09:12:13.393Z"
   },
   {
    "duration": 60,
    "start_time": "2022-05-12T09:12:14.768Z"
   },
   {
    "duration": 91,
    "start_time": "2022-05-12T09:12:14.830Z"
   },
   {
    "duration": 44,
    "start_time": "2022-05-12T09:12:14.924Z"
   },
   {
    "duration": 37,
    "start_time": "2022-05-12T09:12:14.971Z"
   },
   {
    "duration": 464,
    "start_time": "2022-05-12T09:12:15.010Z"
   },
   {
    "duration": 16,
    "start_time": "2022-05-12T09:12:15.475Z"
   },
   {
    "duration": 27,
    "start_time": "2022-05-12T09:12:15.493Z"
   },
   {
    "duration": 155,
    "start_time": "2022-05-12T09:12:15.521Z"
   },
   {
    "duration": 7,
    "start_time": "2022-05-12T09:12:15.707Z"
   },
   {
    "duration": 5,
    "start_time": "2022-05-12T09:12:15.716Z"
   },
   {
    "duration": 45,
    "start_time": "2022-05-12T09:12:15.723Z"
   },
   {
    "duration": 40,
    "start_time": "2022-05-12T09:12:15.770Z"
   },
   {
    "duration": 16,
    "start_time": "2022-05-12T09:12:15.813Z"
   },
   {
    "duration": 43,
    "start_time": "2022-05-12T09:12:15.832Z"
   },
   {
    "duration": 39,
    "start_time": "2022-05-12T09:12:15.878Z"
   },
   {
    "duration": 103,
    "start_time": "2022-05-12T09:12:15.919Z"
   },
   {
    "duration": 171,
    "start_time": "2022-05-12T09:12:16.024Z"
   },
   {
    "duration": 25,
    "start_time": "2022-05-12T09:12:16.208Z"
   },
   {
    "duration": 124,
    "start_time": "2022-05-12T09:12:16.236Z"
   },
   {
    "duration": 44,
    "start_time": "2022-05-12T09:12:16.362Z"
   },
   {
    "duration": 16,
    "start_time": "2022-05-12T09:12:16.408Z"
   },
   {
    "duration": 36,
    "start_time": "2022-05-12T09:12:16.426Z"
   },
   {
    "duration": 50,
    "start_time": "2022-05-12T09:12:16.465Z"
   },
   {
    "duration": 12,
    "start_time": "2022-05-12T09:12:16.517Z"
   },
   {
    "duration": 16,
    "start_time": "2022-05-12T09:12:16.531Z"
   },
   {
    "duration": 203,
    "start_time": "2022-05-12T09:12:16.550Z"
   },
   {
    "duration": 1161,
    "start_time": "2022-05-12T09:12:31.687Z"
   },
   {
    "duration": 19,
    "start_time": "2022-05-12T09:12:32.903Z"
   },
   {
    "duration": 8,
    "start_time": "2022-05-12T09:12:42.188Z"
   },
   {
    "duration": 12,
    "start_time": "2022-05-12T09:12:52.288Z"
   },
   {
    "duration": 14,
    "start_time": "2022-05-12T09:13:12.113Z"
   },
   {
    "duration": 41,
    "start_time": "2022-05-12T09:13:12.778Z"
   },
   {
    "duration": 5,
    "start_time": "2022-05-12T09:13:21.438Z"
   },
   {
    "duration": 61,
    "start_time": "2022-05-12T09:13:21.446Z"
   },
   {
    "duration": 106,
    "start_time": "2022-05-12T09:13:21.509Z"
   },
   {
    "duration": 44,
    "start_time": "2022-05-12T09:13:21.618Z"
   },
   {
    "duration": 13,
    "start_time": "2022-05-12T09:13:21.664Z"
   },
   {
    "duration": 146,
    "start_time": "2022-05-12T09:13:21.679Z"
   },
   {
    "duration": 12,
    "start_time": "2022-05-12T09:13:21.828Z"
   },
   {
    "duration": 18,
    "start_time": "2022-05-12T09:13:21.841Z"
   },
   {
    "duration": 116,
    "start_time": "2022-05-12T09:13:21.861Z"
   },
   {
    "duration": 27,
    "start_time": "2022-05-12T09:13:21.980Z"
   },
   {
    "duration": 5,
    "start_time": "2022-05-12T09:13:22.010Z"
   },
   {
    "duration": 45,
    "start_time": "2022-05-12T09:13:22.017Z"
   },
   {
    "duration": 11,
    "start_time": "2022-05-12T09:13:22.065Z"
   },
   {
    "duration": 12,
    "start_time": "2022-05-12T09:13:22.108Z"
   },
   {
    "duration": 40,
    "start_time": "2022-05-12T09:13:22.123Z"
   },
   {
    "duration": 43,
    "start_time": "2022-05-12T09:13:22.166Z"
   },
   {
    "duration": 98,
    "start_time": "2022-05-12T09:13:22.211Z"
   },
   {
    "duration": 68,
    "start_time": "2022-05-12T09:13:22.312Z"
   },
   {
    "duration": 39,
    "start_time": "2022-05-12T09:13:22.382Z"
   },
   {
    "duration": 125,
    "start_time": "2022-05-12T09:13:22.424Z"
   },
   {
    "duration": 50,
    "start_time": "2022-05-12T09:13:22.551Z"
   },
   {
    "duration": 18,
    "start_time": "2022-05-12T09:13:22.603Z"
   },
   {
    "duration": 36,
    "start_time": "2022-05-12T09:13:22.624Z"
   },
   {
    "duration": 20,
    "start_time": "2022-05-12T09:13:22.663Z"
   },
   {
    "duration": 12,
    "start_time": "2022-05-12T09:13:22.707Z"
   },
   {
    "duration": 22,
    "start_time": "2022-05-12T09:13:25.241Z"
   },
   {
    "duration": 11,
    "start_time": "2022-05-12T09:13:25.729Z"
   },
   {
    "duration": 21,
    "start_time": "2022-05-12T09:13:26.515Z"
   },
   {
    "duration": 1216,
    "start_time": "2022-05-12T09:14:18.164Z"
   },
   {
    "duration": 0,
    "start_time": "2022-05-12T09:14:19.383Z"
   },
   {
    "duration": 6,
    "start_time": "2022-05-12T09:14:27.376Z"
   },
   {
    "duration": 66,
    "start_time": "2022-05-12T09:14:27.385Z"
   },
   {
    "duration": 90,
    "start_time": "2022-05-12T09:14:27.453Z"
   },
   {
    "duration": 44,
    "start_time": "2022-05-12T09:14:27.547Z"
   },
   {
    "duration": 14,
    "start_time": "2022-05-12T09:14:27.608Z"
   },
   {
    "duration": 109,
    "start_time": "2022-05-12T09:14:27.625Z"
   },
   {
    "duration": 12,
    "start_time": "2022-05-12T09:14:27.736Z"
   },
   {
    "duration": 17,
    "start_time": "2022-05-12T09:14:27.750Z"
   },
   {
    "duration": 115,
    "start_time": "2022-05-12T09:14:27.769Z"
   },
   {
    "duration": 23,
    "start_time": "2022-05-12T09:14:27.886Z"
   },
   {
    "duration": 6,
    "start_time": "2022-05-12T09:14:27.911Z"
   },
   {
    "duration": 44,
    "start_time": "2022-05-12T09:14:27.919Z"
   },
   {
    "duration": 11,
    "start_time": "2022-05-12T09:14:27.965Z"
   },
   {
    "duration": 37,
    "start_time": "2022-05-12T09:14:27.979Z"
   },
   {
    "duration": 56,
    "start_time": "2022-05-12T09:14:28.018Z"
   },
   {
    "duration": 34,
    "start_time": "2022-05-12T09:14:28.076Z"
   },
   {
    "duration": 95,
    "start_time": "2022-05-12T09:14:28.112Z"
   },
   {
    "duration": 61,
    "start_time": "2022-05-12T09:14:28.210Z"
   },
   {
    "duration": 43,
    "start_time": "2022-05-12T09:14:28.274Z"
   },
   {
    "duration": 192,
    "start_time": "2022-05-12T09:14:28.319Z"
   },
   {
    "duration": 57,
    "start_time": "2022-05-12T09:14:28.512Z"
   },
   {
    "duration": 78,
    "start_time": "2022-05-12T09:14:33.037Z"
   },
   {
    "duration": 16,
    "start_time": "2022-05-12T09:14:33.860Z"
   },
   {
    "duration": 36,
    "start_time": "2022-05-12T09:14:35.140Z"
   },
   {
    "duration": 21,
    "start_time": "2022-05-12T09:15:24.966Z"
   },
   {
    "duration": 11,
    "start_time": "2022-05-12T09:15:25.622Z"
   },
   {
    "duration": 21,
    "start_time": "2022-05-12T09:15:27.486Z"
   },
   {
    "duration": 30,
    "start_time": "2022-05-12T09:15:40.079Z"
   },
   {
    "duration": 28,
    "start_time": "2022-05-12T09:19:17.873Z"
   },
   {
    "duration": 19,
    "start_time": "2022-05-12T09:19:33.042Z"
   },
   {
    "duration": 1130,
    "start_time": "2022-05-12T09:20:14.476Z"
   },
   {
    "duration": 0,
    "start_time": "2022-05-12T09:20:15.608Z"
   },
   {
    "duration": 4,
    "start_time": "2022-05-12T09:20:19.431Z"
   },
   {
    "duration": 60,
    "start_time": "2022-05-12T09:20:19.438Z"
   },
   {
    "duration": 97,
    "start_time": "2022-05-12T09:20:19.500Z"
   },
   {
    "duration": 50,
    "start_time": "2022-05-12T09:20:19.607Z"
   },
   {
    "duration": 12,
    "start_time": "2022-05-12T09:20:19.658Z"
   },
   {
    "duration": 115,
    "start_time": "2022-05-12T09:20:19.672Z"
   },
   {
    "duration": 26,
    "start_time": "2022-05-12T09:20:19.789Z"
   },
   {
    "duration": 20,
    "start_time": "2022-05-12T09:20:19.817Z"
   },
   {
    "duration": 110,
    "start_time": "2022-05-12T09:20:19.839Z"
   },
   {
    "duration": 8,
    "start_time": "2022-05-12T09:20:19.951Z"
   },
   {
    "duration": 4,
    "start_time": "2022-05-12T09:20:19.962Z"
   },
   {
    "duration": 74,
    "start_time": "2022-05-12T09:20:19.968Z"
   },
   {
    "duration": 9,
    "start_time": "2022-05-12T09:20:20.044Z"
   },
   {
    "duration": 11,
    "start_time": "2022-05-12T09:20:20.055Z"
   },
   {
    "duration": 72,
    "start_time": "2022-05-12T09:20:20.067Z"
   },
   {
    "duration": 18,
    "start_time": "2022-05-12T09:20:20.141Z"
   },
   {
    "duration": 109,
    "start_time": "2022-05-12T09:20:20.161Z"
   },
   {
    "duration": 74,
    "start_time": "2022-05-12T09:20:20.272Z"
   },
   {
    "duration": 23,
    "start_time": "2022-05-12T09:20:20.348Z"
   },
   {
    "duration": 114,
    "start_time": "2022-05-12T09:20:20.373Z"
   },
   {
    "duration": 57,
    "start_time": "2022-05-12T09:20:20.489Z"
   },
   {
    "duration": 16,
    "start_time": "2022-05-12T09:20:20.548Z"
   },
   {
    "duration": 28,
    "start_time": "2022-05-12T09:20:20.566Z"
   },
   {
    "duration": 92,
    "start_time": "2022-05-12T09:20:24.765Z"
   },
   {
    "duration": 41,
    "start_time": "2022-05-12T09:20:25.363Z"
   },
   {
    "duration": 17,
    "start_time": "2022-05-12T09:20:26.220Z"
   },
   {
    "duration": 24,
    "start_time": "2022-05-12T09:20:27.220Z"
   },
   {
    "duration": 31,
    "start_time": "2022-05-12T09:20:29.996Z"
   },
   {
    "duration": 8,
    "start_time": "2022-05-12T09:20:30.932Z"
   },
   {
    "duration": 14,
    "start_time": "2022-05-12T09:20:31.692Z"
   },
   {
    "duration": 17,
    "start_time": "2022-05-12T09:20:42.956Z"
   },
   {
    "duration": 11,
    "start_time": "2022-05-12T09:21:26.192Z"
   },
   {
    "duration": 18,
    "start_time": "2022-05-12T09:21:50.449Z"
   },
   {
    "duration": 20,
    "start_time": "2022-05-12T09:22:12.160Z"
   },
   {
    "duration": 4,
    "start_time": "2022-05-12T09:22:23.156Z"
   },
   {
    "duration": 69,
    "start_time": "2022-05-12T09:22:23.163Z"
   },
   {
    "duration": 94,
    "start_time": "2022-05-12T09:22:23.234Z"
   },
   {
    "duration": 45,
    "start_time": "2022-05-12T09:22:23.329Z"
   },
   {
    "duration": 38,
    "start_time": "2022-05-12T09:22:23.377Z"
   },
   {
    "duration": 95,
    "start_time": "2022-05-12T09:22:23.417Z"
   },
   {
    "duration": 15,
    "start_time": "2022-05-12T09:22:23.517Z"
   },
   {
    "duration": 17,
    "start_time": "2022-05-12T09:22:23.534Z"
   },
   {
    "duration": 117,
    "start_time": "2022-05-12T09:22:23.552Z"
   },
   {
    "duration": 7,
    "start_time": "2022-05-12T09:22:23.670Z"
   },
   {
    "duration": 32,
    "start_time": "2022-05-12T09:22:23.680Z"
   },
   {
    "duration": 47,
    "start_time": "2022-05-12T09:22:23.714Z"
   },
   {
    "duration": 8,
    "start_time": "2022-05-12T09:22:23.763Z"
   },
   {
    "duration": 14,
    "start_time": "2022-05-12T09:22:23.773Z"
   },
   {
    "duration": 64,
    "start_time": "2022-05-12T09:22:23.789Z"
   },
   {
    "duration": 23,
    "start_time": "2022-05-12T09:22:23.856Z"
   },
   {
    "duration": 105,
    "start_time": "2022-05-12T09:22:23.881Z"
   },
   {
    "duration": 74,
    "start_time": "2022-05-12T09:22:23.988Z"
   },
   {
    "duration": 23,
    "start_time": "2022-05-12T09:22:24.064Z"
   },
   {
    "duration": 111,
    "start_time": "2022-05-12T09:22:24.089Z"
   },
   {
    "duration": 56,
    "start_time": "2022-05-12T09:22:24.208Z"
   },
   {
    "duration": 23,
    "start_time": "2022-05-12T09:22:24.267Z"
   },
   {
    "duration": 34,
    "start_time": "2022-05-12T09:22:24.293Z"
   },
   {
    "duration": 21,
    "start_time": "2022-05-12T09:22:24.330Z"
   },
   {
    "duration": 17,
    "start_time": "2022-05-12T09:22:24.353Z"
   },
   {
    "duration": 2134,
    "start_time": "2022-05-12T09:22:35.935Z"
   },
   {
    "duration": 1507,
    "start_time": "2022-05-12T09:22:38.071Z"
   },
   {
    "duration": 75,
    "start_time": "2022-05-12T09:22:39.580Z"
   },
   {
    "duration": 40,
    "start_time": "2022-05-12T09:22:39.658Z"
   },
   {
    "duration": 16,
    "start_time": "2022-05-12T09:22:39.699Z"
   },
   {
    "duration": 442,
    "start_time": "2022-05-12T09:22:39.719Z"
   },
   {
    "duration": 15,
    "start_time": "2022-05-12T09:22:40.163Z"
   },
   {
    "duration": 44,
    "start_time": "2022-05-12T09:22:40.180Z"
   },
   {
    "duration": 150,
    "start_time": "2022-05-12T09:22:40.226Z"
   },
   {
    "duration": 12,
    "start_time": "2022-05-12T09:22:40.407Z"
   },
   {
    "duration": 6,
    "start_time": "2022-05-12T09:22:40.421Z"
   },
   {
    "duration": 50,
    "start_time": "2022-05-12T09:22:40.430Z"
   },
   {
    "duration": 25,
    "start_time": "2022-05-12T09:22:40.482Z"
   },
   {
    "duration": 10,
    "start_time": "2022-05-12T09:22:40.509Z"
   },
   {
    "duration": 48,
    "start_time": "2022-05-12T09:22:40.521Z"
   },
   {
    "duration": 49,
    "start_time": "2022-05-12T09:22:40.571Z"
   },
   {
    "duration": 90,
    "start_time": "2022-05-12T09:22:40.622Z"
   },
   {
    "duration": 146,
    "start_time": "2022-05-12T09:22:40.714Z"
   },
   {
    "duration": 21,
    "start_time": "2022-05-12T09:22:40.862Z"
   },
   {
    "duration": 108,
    "start_time": "2022-05-12T09:22:40.884Z"
   },
   {
    "duration": 86,
    "start_time": "2022-05-12T09:22:40.994Z"
   },
   {
    "duration": 15,
    "start_time": "2022-05-12T09:22:41.082Z"
   },
   {
    "duration": 31,
    "start_time": "2022-05-12T09:22:41.099Z"
   },
   {
    "duration": 19,
    "start_time": "2022-05-12T09:22:41.132Z"
   },
   {
    "duration": 15,
    "start_time": "2022-05-12T09:22:41.153Z"
   },
   {
    "duration": 13,
    "start_time": "2022-05-12T09:22:41.170Z"
   },
   {
    "duration": 166,
    "start_time": "2022-05-12T09:22:41.208Z"
   },
   {
    "duration": 16,
    "start_time": "2022-05-12T09:22:52.097Z"
   },
   {
    "duration": 15,
    "start_time": "2022-05-12T09:23:00.153Z"
   },
   {
    "duration": 16,
    "start_time": "2022-05-12T09:23:14.851Z"
   },
   {
    "duration": 21,
    "start_time": "2022-05-12T09:23:58.723Z"
   },
   {
    "duration": 16,
    "start_time": "2022-05-12T09:23:59.692Z"
   },
   {
    "duration": 16,
    "start_time": "2022-05-12T09:24:00.651Z"
   },
   {
    "duration": 81,
    "start_time": "2022-05-12T09:24:40.861Z"
   },
   {
    "duration": 21,
    "start_time": "2022-05-12T09:24:42.565Z"
   },
   {
    "duration": 90,
    "start_time": "2022-05-12T09:24:43.102Z"
   },
   {
    "duration": 68,
    "start_time": "2022-05-12T09:24:44.165Z"
   },
   {
    "duration": 16,
    "start_time": "2022-05-12T09:24:48.862Z"
   },
   {
    "duration": 28,
    "start_time": "2022-05-12T09:24:49.558Z"
   },
   {
    "duration": 25,
    "start_time": "2022-05-12T09:24:57.005Z"
   },
   {
    "duration": 15,
    "start_time": "2022-05-12T09:24:57.033Z"
   },
   {
    "duration": 17,
    "start_time": "2022-05-12T09:24:57.050Z"
   },
   {
    "duration": 18,
    "start_time": "2022-05-12T09:25:13.224Z"
   },
   {
    "duration": 29,
    "start_time": "2022-05-12T09:25:44.128Z"
   },
   {
    "duration": 12,
    "start_time": "2022-05-12T09:28:20.062Z"
   },
   {
    "duration": 1833,
    "start_time": "2022-05-12T09:28:44.024Z"
   },
   {
    "duration": 4,
    "start_time": "2022-05-12T09:29:02.796Z"
   },
   {
    "duration": 64,
    "start_time": "2022-05-12T09:29:02.803Z"
   },
   {
    "duration": 74,
    "start_time": "2022-05-12T09:29:02.869Z"
   },
   {
    "duration": 39,
    "start_time": "2022-05-12T09:29:02.945Z"
   },
   {
    "duration": 26,
    "start_time": "2022-05-12T09:29:02.985Z"
   },
   {
    "duration": 96,
    "start_time": "2022-05-12T09:29:03.013Z"
   },
   {
    "duration": 15,
    "start_time": "2022-05-12T09:29:03.112Z"
   },
   {
    "duration": 18,
    "start_time": "2022-05-12T09:29:03.128Z"
   },
   {
    "duration": 112,
    "start_time": "2022-05-12T09:29:03.148Z"
   },
   {
    "duration": 6,
    "start_time": "2022-05-12T09:29:03.262Z"
   },
   {
    "duration": 6,
    "start_time": "2022-05-12T09:29:03.270Z"
   },
   {
    "duration": 72,
    "start_time": "2022-05-12T09:29:03.278Z"
   },
   {
    "duration": 8,
    "start_time": "2022-05-12T09:29:03.351Z"
   },
   {
    "duration": 14,
    "start_time": "2022-05-12T09:29:03.360Z"
   },
   {
    "duration": 50,
    "start_time": "2022-05-12T09:29:03.376Z"
   },
   {
    "duration": 17,
    "start_time": "2022-05-12T09:29:03.428Z"
   },
   {
    "duration": 112,
    "start_time": "2022-05-12T09:29:03.447Z"
   },
   {
    "duration": 81,
    "start_time": "2022-05-12T09:29:03.561Z"
   },
   {
    "duration": 20,
    "start_time": "2022-05-12T09:29:03.643Z"
   },
   {
    "duration": 118,
    "start_time": "2022-05-12T09:29:03.665Z"
   },
   {
    "duration": 60,
    "start_time": "2022-05-12T09:29:03.785Z"
   },
   {
    "duration": 15,
    "start_time": "2022-05-12T09:29:03.847Z"
   },
   {
    "duration": 30,
    "start_time": "2022-05-12T09:29:03.864Z"
   },
   {
    "duration": 25,
    "start_time": "2022-05-12T09:29:03.897Z"
   },
   {
    "duration": 22,
    "start_time": "2022-05-12T09:29:07.899Z"
   },
   {
    "duration": 15,
    "start_time": "2022-05-12T09:29:09.114Z"
   },
   {
    "duration": 20,
    "start_time": "2022-05-12T09:29:15.608Z"
   },
   {
    "duration": 15,
    "start_time": "2022-05-12T09:29:56.435Z"
   },
   {
    "duration": 27,
    "start_time": "2022-05-12T09:29:57.612Z"
   },
   {
    "duration": 14,
    "start_time": "2022-05-12T09:30:11.916Z"
   },
   {
    "duration": 24,
    "start_time": "2022-05-12T09:30:13.478Z"
   },
   {
    "duration": 4,
    "start_time": "2022-05-12T09:30:25.524Z"
   },
   {
    "duration": 63,
    "start_time": "2022-05-12T09:30:25.531Z"
   },
   {
    "duration": 69,
    "start_time": "2022-05-12T09:30:25.596Z"
   },
   {
    "duration": 77,
    "start_time": "2022-05-12T09:30:25.667Z"
   },
   {
    "duration": 11,
    "start_time": "2022-05-12T09:30:25.747Z"
   },
   {
    "duration": 123,
    "start_time": "2022-05-12T09:30:25.760Z"
   },
   {
    "duration": 31,
    "start_time": "2022-05-12T09:30:25.884Z"
   },
   {
    "duration": 25,
    "start_time": "2022-05-12T09:30:25.917Z"
   },
   {
    "duration": 107,
    "start_time": "2022-05-12T09:30:25.944Z"
   },
   {
    "duration": 5,
    "start_time": "2022-05-12T09:30:26.053Z"
   },
   {
    "duration": 4,
    "start_time": "2022-05-12T09:30:26.060Z"
   },
   {
    "duration": 72,
    "start_time": "2022-05-12T09:30:26.066Z"
   },
   {
    "duration": 8,
    "start_time": "2022-05-12T09:30:26.140Z"
   },
   {
    "duration": 8,
    "start_time": "2022-05-12T09:30:26.152Z"
   },
   {
    "duration": 69,
    "start_time": "2022-05-12T09:30:26.162Z"
   },
   {
    "duration": 23,
    "start_time": "2022-05-12T09:30:26.233Z"
   },
   {
    "duration": 195,
    "start_time": "2022-05-12T09:30:26.258Z"
   },
   {
    "duration": 80,
    "start_time": "2022-05-12T09:30:26.455Z"
   },
   {
    "duration": 19,
    "start_time": "2022-05-12T09:30:26.537Z"
   },
   {
    "duration": 109,
    "start_time": "2022-05-12T09:30:26.558Z"
   },
   {
    "duration": 482,
    "start_time": "2022-05-12T09:30:26.669Z"
   },
   {
    "duration": 14,
    "start_time": "2022-05-12T09:30:27.153Z"
   },
   {
    "duration": 27,
    "start_time": "2022-05-12T09:30:27.168Z"
   },
   {
    "duration": 21,
    "start_time": "2022-05-12T09:30:27.196Z"
   },
   {
    "duration": 11,
    "start_time": "2022-05-12T09:30:27.219Z"
   },
   {
    "duration": 15,
    "start_time": "2022-05-12T09:30:27.231Z"
   },
   {
    "duration": 20,
    "start_time": "2022-05-12T09:30:43.039Z"
   },
   {
    "duration": 11,
    "start_time": "2022-05-12T09:30:48.669Z"
   },
   {
    "duration": 13,
    "start_time": "2022-05-12T09:31:18.319Z"
   },
   {
    "duration": 16,
    "start_time": "2022-05-12T09:31:19.481Z"
   },
   {
    "duration": 8,
    "start_time": "2022-05-12T09:33:29.845Z"
   },
   {
    "duration": 16,
    "start_time": "2022-05-12T09:33:30.564Z"
   },
   {
    "duration": 15,
    "start_time": "2022-05-12T09:33:46.933Z"
   },
   {
    "duration": 15,
    "start_time": "2022-05-12T09:38:59.986Z"
   },
   {
    "duration": 16,
    "start_time": "2022-05-12T09:39:00.643Z"
   },
   {
    "duration": 14,
    "start_time": "2022-05-12T09:39:09.820Z"
   },
   {
    "duration": 23,
    "start_time": "2022-05-12T09:39:10.443Z"
   },
   {
    "duration": 4,
    "start_time": "2022-05-12T09:39:19.911Z"
   },
   {
    "duration": 61,
    "start_time": "2022-05-12T09:39:19.918Z"
   },
   {
    "duration": 76,
    "start_time": "2022-05-12T09:39:19.981Z"
   },
   {
    "duration": 57,
    "start_time": "2022-05-12T09:39:20.059Z"
   },
   {
    "duration": 10,
    "start_time": "2022-05-12T09:39:20.119Z"
   },
   {
    "duration": 98,
    "start_time": "2022-05-12T09:39:20.131Z"
   },
   {
    "duration": 11,
    "start_time": "2022-05-12T09:39:20.231Z"
   },
   {
    "duration": 18,
    "start_time": "2022-05-12T09:39:20.243Z"
   },
   {
    "duration": 110,
    "start_time": "2022-05-12T09:39:20.263Z"
   },
   {
    "duration": 6,
    "start_time": "2022-05-12T09:39:20.374Z"
   },
   {
    "duration": 25,
    "start_time": "2022-05-12T09:39:20.383Z"
   },
   {
    "duration": 53,
    "start_time": "2022-05-12T09:39:20.409Z"
   },
   {
    "duration": 8,
    "start_time": "2022-05-12T09:39:20.464Z"
   },
   {
    "duration": 8,
    "start_time": "2022-05-12T09:39:20.474Z"
   },
   {
    "duration": 51,
    "start_time": "2022-05-12T09:39:20.484Z"
   },
   {
    "duration": 16,
    "start_time": "2022-05-12T09:39:20.537Z"
   },
   {
    "duration": 101,
    "start_time": "2022-05-12T09:39:20.555Z"
   },
   {
    "duration": 77,
    "start_time": "2022-05-12T09:39:20.657Z"
   },
   {
    "duration": 20,
    "start_time": "2022-05-12T09:39:20.735Z"
   },
   {
    "duration": 110,
    "start_time": "2022-05-12T09:39:20.757Z"
   },
   {
    "duration": 100,
    "start_time": "2022-05-12T09:39:20.869Z"
   },
   {
    "duration": 15,
    "start_time": "2022-05-12T09:39:20.970Z"
   },
   {
    "duration": 30,
    "start_time": "2022-05-12T09:39:20.987Z"
   },
   {
    "duration": 19,
    "start_time": "2022-05-12T09:39:21.019Z"
   },
   {
    "duration": 8,
    "start_time": "2022-05-12T09:39:21.040Z"
   },
   {
    "duration": 9,
    "start_time": "2022-05-12T09:39:28.474Z"
   },
   {
    "duration": 11,
    "start_time": "2022-05-12T09:39:29.083Z"
   },
   {
    "duration": 12,
    "start_time": "2022-05-12T09:40:00.070Z"
   },
   {
    "duration": 11,
    "start_time": "2022-05-12T09:40:05.733Z"
   },
   {
    "duration": 14,
    "start_time": "2022-05-12T09:40:06.526Z"
   },
   {
    "duration": 14,
    "start_time": "2022-05-12T09:40:16.414Z"
   },
   {
    "duration": 11,
    "start_time": "2022-05-12T09:43:18.199Z"
   },
   {
    "duration": 5,
    "start_time": "2022-05-12T09:44:13.188Z"
   },
   {
    "duration": 11,
    "start_time": "2022-05-12T09:44:24.721Z"
   },
   {
    "duration": 13,
    "start_time": "2022-05-12T09:44:35.692Z"
   },
   {
    "duration": 21,
    "start_time": "2022-05-12T09:44:50.114Z"
   },
   {
    "duration": 13,
    "start_time": "2022-05-12T09:45:14.922Z"
   },
   {
    "duration": 17,
    "start_time": "2022-05-12T09:49:03.132Z"
   },
   {
    "duration": 4,
    "start_time": "2022-05-12T11:30:15.788Z"
   },
   {
    "duration": 64,
    "start_time": "2022-05-12T11:30:15.795Z"
   },
   {
    "duration": 87,
    "start_time": "2022-05-12T11:30:15.861Z"
   },
   {
    "duration": 82,
    "start_time": "2022-05-12T11:30:15.950Z"
   },
   {
    "duration": 16,
    "start_time": "2022-05-12T11:30:16.035Z"
   },
   {
    "duration": 122,
    "start_time": "2022-05-12T11:30:16.053Z"
   },
   {
    "duration": 30,
    "start_time": "2022-05-12T11:30:16.177Z"
   },
   {
    "duration": 25,
    "start_time": "2022-05-12T11:30:16.209Z"
   },
   {
    "duration": 131,
    "start_time": "2022-05-12T11:30:16.236Z"
   },
   {
    "duration": 9,
    "start_time": "2022-05-12T11:30:16.370Z"
   },
   {
    "duration": 25,
    "start_time": "2022-05-12T11:30:16.383Z"
   },
   {
    "duration": 47,
    "start_time": "2022-05-12T11:30:16.410Z"
   },
   {
    "duration": 8,
    "start_time": "2022-05-12T11:30:16.458Z"
   },
   {
    "duration": 42,
    "start_time": "2022-05-12T11:30:16.468Z"
   },
   {
    "duration": 38,
    "start_time": "2022-05-12T11:30:16.512Z"
   },
   {
    "duration": 16,
    "start_time": "2022-05-12T11:30:16.552Z"
   },
   {
    "duration": 117,
    "start_time": "2022-05-12T11:30:16.570Z"
   },
   {
    "duration": 179,
    "start_time": "2022-05-12T11:30:16.688Z"
   },
   {
    "duration": 38,
    "start_time": "2022-05-12T11:30:16.869Z"
   },
   {
    "duration": 102,
    "start_time": "2022-05-12T11:30:16.909Z"
   },
   {
    "duration": 154,
    "start_time": "2022-05-12T11:30:17.013Z"
   },
   {
    "duration": 18,
    "start_time": "2022-05-12T11:30:17.170Z"
   },
   {
    "duration": 33,
    "start_time": "2022-05-12T11:30:17.190Z"
   },
   {
    "duration": 22,
    "start_time": "2022-05-12T11:30:17.224Z"
   },
   {
    "duration": 17,
    "start_time": "2022-05-12T11:30:17.248Z"
   },
   {
    "duration": 18,
    "start_time": "2022-05-12T11:36:39.646Z"
   },
   {
    "duration": 16,
    "start_time": "2022-05-12T11:37:00.194Z"
   },
   {
    "duration": 16,
    "start_time": "2022-05-12T11:37:44.552Z"
   },
   {
    "duration": 26,
    "start_time": "2022-05-12T11:49:59.296Z"
   },
   {
    "duration": 16,
    "start_time": "2022-05-12T11:52:01.386Z"
   },
   {
    "duration": 16,
    "start_time": "2022-05-12T11:52:08.331Z"
   },
   {
    "duration": 26,
    "start_time": "2022-05-12T11:52:09.034Z"
   },
   {
    "duration": 13,
    "start_time": "2022-05-12T12:14:19.563Z"
   },
   {
    "duration": 9,
    "start_time": "2022-05-12T12:14:47.208Z"
   },
   {
    "duration": 5,
    "start_time": "2022-05-12T12:14:53.125Z"
   },
   {
    "duration": 9,
    "start_time": "2022-05-12T12:14:57.072Z"
   },
   {
    "duration": 8,
    "start_time": "2022-05-12T12:16:48.910Z"
   },
   {
    "duration": 26,
    "start_time": "2022-05-12T12:16:59.994Z"
   },
   {
    "duration": 18,
    "start_time": "2022-05-12T12:19:15.041Z"
   },
   {
    "duration": 165,
    "start_time": "2022-05-12T12:20:25.484Z"
   },
   {
    "duration": 277,
    "start_time": "2022-05-12T12:21:45.931Z"
   },
   {
    "duration": 309,
    "start_time": "2022-05-12T12:22:18.629Z"
   },
   {
    "duration": 287,
    "start_time": "2022-05-12T12:26:08.548Z"
   },
   {
    "duration": 326,
    "start_time": "2022-05-12T12:26:16.677Z"
   },
   {
    "duration": 339,
    "start_time": "2022-05-12T12:30:57.525Z"
   },
   {
    "duration": 246,
    "start_time": "2022-05-12T12:31:05.786Z"
   },
   {
    "duration": 319,
    "start_time": "2022-05-12T12:31:21.551Z"
   },
   {
    "duration": 233,
    "start_time": "2022-05-12T12:34:53.392Z"
   },
   {
    "duration": 238,
    "start_time": "2022-05-12T12:35:09.910Z"
   },
   {
    "duration": 8,
    "start_time": "2022-05-12T12:36:20.592Z"
   },
   {
    "duration": 9,
    "start_time": "2022-05-12T12:36:32.991Z"
   },
   {
    "duration": 8,
    "start_time": "2022-05-12T12:36:49.961Z"
   },
   {
    "duration": 8,
    "start_time": "2022-05-12T12:36:57.900Z"
   },
   {
    "duration": 6,
    "start_time": "2022-05-12T12:37:05.970Z"
   },
   {
    "duration": 4,
    "start_time": "2022-05-12T12:37:10.337Z"
   },
   {
    "duration": 62,
    "start_time": "2022-05-12T12:37:10.344Z"
   },
   {
    "duration": 61,
    "start_time": "2022-05-12T12:37:10.408Z"
   },
   {
    "duration": 70,
    "start_time": "2022-05-12T12:37:10.471Z"
   },
   {
    "duration": 12,
    "start_time": "2022-05-12T12:37:10.544Z"
   },
   {
    "duration": 107,
    "start_time": "2022-05-12T12:37:10.557Z"
   },
   {
    "duration": 13,
    "start_time": "2022-05-12T12:37:10.666Z"
   },
   {
    "duration": 38,
    "start_time": "2022-05-12T12:37:10.681Z"
   },
   {
    "duration": 103,
    "start_time": "2022-05-12T12:37:10.720Z"
   },
   {
    "duration": 5,
    "start_time": "2022-05-12T12:37:10.825Z"
   },
   {
    "duration": 4,
    "start_time": "2022-05-12T12:37:10.833Z"
   },
   {
    "duration": 75,
    "start_time": "2022-05-12T12:37:10.839Z"
   },
   {
    "duration": 8,
    "start_time": "2022-05-12T12:37:10.916Z"
   },
   {
    "duration": 8,
    "start_time": "2022-05-12T12:37:10.926Z"
   },
   {
    "duration": 38,
    "start_time": "2022-05-12T12:37:10.936Z"
   },
   {
    "duration": 44,
    "start_time": "2022-05-12T12:37:10.975Z"
   },
   {
    "duration": 101,
    "start_time": "2022-05-12T12:37:11.020Z"
   },
   {
    "duration": 200,
    "start_time": "2022-05-12T12:37:11.123Z"
   },
   {
    "duration": 20,
    "start_time": "2022-05-12T12:37:11.325Z"
   },
   {
    "duration": 113,
    "start_time": "2022-05-12T12:37:11.347Z"
   },
   {
    "duration": 85,
    "start_time": "2022-05-12T12:37:11.462Z"
   },
   {
    "duration": 16,
    "start_time": "2022-05-12T12:37:11.548Z"
   },
   {
    "duration": 27,
    "start_time": "2022-05-12T12:37:11.565Z"
   },
   {
    "duration": 16,
    "start_time": "2022-05-12T12:37:11.594Z"
   },
   {
    "duration": 18,
    "start_time": "2022-05-12T12:37:11.612Z"
   },
   {
    "duration": 12,
    "start_time": "2022-05-12T12:37:11.631Z"
   },
   {
    "duration": 21,
    "start_time": "2022-05-12T12:37:11.644Z"
   },
   {
    "duration": 287,
    "start_time": "2022-05-12T12:37:11.667Z"
   },
   {
    "duration": 5,
    "start_time": "2022-05-12T12:37:11.958Z"
   },
   {
    "duration": 7,
    "start_time": "2022-05-12T12:40:15.474Z"
   },
   {
    "duration": 6,
    "start_time": "2022-05-12T12:40:27.590Z"
   },
   {
    "duration": 11,
    "start_time": "2022-05-12T12:40:53.008Z"
   },
   {
    "duration": 5,
    "start_time": "2022-05-12T12:41:00.473Z"
   },
   {
    "duration": 21,
    "start_time": "2022-05-12T12:41:15.503Z"
   },
   {
    "duration": 235,
    "start_time": "2022-05-12T12:41:32.029Z"
   },
   {
    "duration": 17,
    "start_time": "2022-05-12T12:41:55.123Z"
   },
   {
    "duration": 17,
    "start_time": "2022-05-12T12:42:02.697Z"
   },
   {
    "duration": 1011,
    "start_time": "2022-05-12T12:42:21.539Z"
   },
   {
    "duration": 18,
    "start_time": "2022-05-12T12:42:28.124Z"
   },
   {
    "duration": 238,
    "start_time": "2022-05-12T12:42:36.245Z"
   },
   {
    "duration": 6,
    "start_time": "2022-05-12T12:42:55.425Z"
   },
   {
    "duration": 1854,
    "start_time": "2022-05-13T03:32:42.120Z"
   },
   {
    "duration": 71,
    "start_time": "2022-05-13T03:32:43.976Z"
   },
   {
    "duration": 93,
    "start_time": "2022-05-13T03:32:44.050Z"
   },
   {
    "duration": 63,
    "start_time": "2022-05-13T03:32:47.586Z"
   },
   {
    "duration": 18,
    "start_time": "2022-05-13T03:35:54.774Z"
   },
   {
    "duration": 790,
    "start_time": "2022-05-13T03:36:01.132Z"
   },
   {
    "duration": 34,
    "start_time": "2022-05-13T03:36:33.315Z"
   },
   {
    "duration": 24,
    "start_time": "2022-05-13T03:37:10.516Z"
   },
   {
    "duration": 125,
    "start_time": "2022-05-13T03:37:11.335Z"
   },
   {
    "duration": 280,
    "start_time": "2022-05-13T03:42:32.163Z"
   },
   {
    "duration": 14,
    "start_time": "2022-05-13T03:42:38.517Z"
   },
   {
    "duration": 12,
    "start_time": "2022-05-13T03:42:39.476Z"
   },
   {
    "duration": 11,
    "start_time": "2022-05-13T03:43:07.278Z"
   },
   {
    "duration": 11,
    "start_time": "2022-05-13T03:43:43.416Z"
   },
   {
    "duration": 67,
    "start_time": "2022-05-13T03:44:19.961Z"
   },
   {
    "duration": 56,
    "start_time": "2022-05-13T03:46:29.721Z"
   },
   {
    "duration": 27,
    "start_time": "2022-05-13T03:46:43.750Z"
   },
   {
    "duration": 10,
    "start_time": "2022-05-13T03:47:26.442Z"
   },
   {
    "duration": 10,
    "start_time": "2022-05-13T03:47:27.464Z"
   },
   {
    "duration": 52,
    "start_time": "2022-05-13T03:47:28.680Z"
   },
   {
    "duration": 22,
    "start_time": "2022-05-13T03:47:29.345Z"
   },
   {
    "duration": 13,
    "start_time": "2022-05-13T03:47:54.195Z"
   },
   {
    "duration": 9,
    "start_time": "2022-05-13T03:47:59.539Z"
   },
   {
    "duration": 5,
    "start_time": "2022-05-13T03:48:00.572Z"
   },
   {
    "duration": 104,
    "start_time": "2022-05-13T03:48:01.067Z"
   },
   {
    "duration": 11,
    "start_time": "2022-05-13T03:48:04.170Z"
   },
   {
    "duration": 11,
    "start_time": "2022-05-13T03:48:05.378Z"
   },
   {
    "duration": 54,
    "start_time": "2022-05-13T03:48:06.891Z"
   },
   {
    "duration": 24,
    "start_time": "2022-05-13T03:48:09.643Z"
   },
   {
    "duration": 22,
    "start_time": "2022-05-13T03:49:12.693Z"
   },
   {
    "duration": 131,
    "start_time": "2022-05-13T03:49:17.524Z"
   },
   {
    "duration": 154,
    "start_time": "2022-05-13T03:49:25.454Z"
   },
   {
    "duration": 27,
    "start_time": "2022-05-13T03:49:27.101Z"
   },
   {
    "duration": 89,
    "start_time": "2022-05-13T03:50:10.031Z"
   },
   {
    "duration": 81,
    "start_time": "2022-05-13T03:50:22.073Z"
   },
   {
    "duration": 38,
    "start_time": "2022-05-13T03:51:06.203Z"
   },
   {
    "duration": 94,
    "start_time": "2022-05-13T03:51:09.730Z"
   },
   {
    "duration": 27,
    "start_time": "2022-05-13T03:51:10.570Z"
   },
   {
    "duration": 138,
    "start_time": "2022-05-13T03:51:11.394Z"
   },
   {
    "duration": 28,
    "start_time": "2022-05-13T03:51:41.676Z"
   },
   {
    "duration": 186,
    "start_time": "2022-05-13T03:52:16.324Z"
   },
   {
    "duration": 20,
    "start_time": "2022-05-13T03:52:17.942Z"
   },
   {
    "duration": 34,
    "start_time": "2022-05-13T03:52:18.845Z"
   },
   {
    "duration": 17,
    "start_time": "2022-05-13T03:56:39.510Z"
   },
   {
    "duration": 12,
    "start_time": "2022-05-13T03:57:24.403Z"
   },
   {
    "duration": 29,
    "start_time": "2022-05-13T03:57:25.754Z"
   },
   {
    "duration": 3418,
    "start_time": "2022-05-13T03:57:37.561Z"
   },
   {
    "duration": 0,
    "start_time": "2022-05-13T03:57:40.982Z"
   },
   {
    "duration": 19,
    "start_time": "2022-05-13T03:57:48.010Z"
   },
   {
    "duration": 23,
    "start_time": "2022-05-13T03:57:49.417Z"
   },
   {
    "duration": 12,
    "start_time": "2022-05-13T03:57:50.617Z"
   },
   {
    "duration": 27,
    "start_time": "2022-05-13T03:57:51.259Z"
   },
   {
    "duration": 18,
    "start_time": "2022-05-13T03:58:34.184Z"
   },
   {
    "duration": 355,
    "start_time": "2022-05-13T03:58:36.940Z"
   },
   {
    "duration": 406,
    "start_time": "2022-05-13T04:06:29.802Z"
   },
   {
    "duration": 476,
    "start_time": "2022-05-13T04:07:21.356Z"
   },
   {
    "duration": 385,
    "start_time": "2022-05-13T04:07:43.843Z"
   },
   {
    "duration": 431,
    "start_time": "2022-05-13T04:37:27.887Z"
   },
   {
    "duration": 429,
    "start_time": "2022-05-13T04:39:40.033Z"
   },
   {
    "duration": 8,
    "start_time": "2022-05-13T04:39:46.350Z"
   },
   {
    "duration": 7,
    "start_time": "2022-05-13T04:51:01.604Z"
   },
   {
    "duration": 7,
    "start_time": "2022-05-13T04:51:42.613Z"
   },
   {
    "duration": 661,
    "start_time": "2022-05-13T04:51:43.782Z"
   },
   {
    "duration": 626,
    "start_time": "2022-05-13T04:52:10.424Z"
   },
   {
    "duration": 670,
    "start_time": "2022-05-13T04:52:27.785Z"
   },
   {
    "duration": 28,
    "start_time": "2022-05-13T04:52:40.089Z"
   },
   {
    "duration": 810,
    "start_time": "2022-05-13T04:52:40.665Z"
   },
   {
    "duration": 8,
    "start_time": "2022-05-13T04:52:42.048Z"
   },
   {
    "duration": 465,
    "start_time": "2022-05-13T04:52:43.441Z"
   },
   {
    "duration": 6,
    "start_time": "2022-05-13T04:53:16.938Z"
   },
   {
    "duration": 392,
    "start_time": "2022-05-13T04:55:39.119Z"
   },
   {
    "duration": 380,
    "start_time": "2022-05-13T04:55:49.064Z"
   },
   {
    "duration": 378,
    "start_time": "2022-05-13T04:55:58.064Z"
   },
   {
    "duration": 410,
    "start_time": "2022-05-13T04:56:13.834Z"
   },
   {
    "duration": 433,
    "start_time": "2022-05-13T04:56:36.762Z"
   },
   {
    "duration": 566,
    "start_time": "2022-05-13T04:57:36.126Z"
   },
   {
    "duration": 431,
    "start_time": "2022-05-13T04:57:47.871Z"
   },
   {
    "duration": 434,
    "start_time": "2022-05-13T04:57:55.622Z"
   },
   {
    "duration": 443,
    "start_time": "2022-05-13T04:58:15.104Z"
   },
   {
    "duration": 447,
    "start_time": "2022-05-13T04:59:15.940Z"
   },
   {
    "duration": 433,
    "start_time": "2022-05-13T04:59:26.794Z"
   },
   {
    "duration": 561,
    "start_time": "2022-05-13T04:59:51.235Z"
   },
   {
    "duration": 12,
    "start_time": "2022-05-13T05:02:43.091Z"
   },
   {
    "duration": 18,
    "start_time": "2022-05-13T05:10:40.077Z"
   },
   {
    "duration": 217,
    "start_time": "2022-05-13T05:10:57.511Z"
   },
   {
    "duration": 15,
    "start_time": "2022-05-13T05:11:02.839Z"
   },
   {
    "duration": 30,
    "start_time": "2022-05-13T05:11:34.611Z"
   },
   {
    "duration": 30,
    "start_time": "2022-05-13T05:11:56.216Z"
   },
   {
    "duration": 15,
    "start_time": "2022-05-13T05:13:19.510Z"
   },
   {
    "duration": 17,
    "start_time": "2022-05-13T05:13:30.639Z"
   },
   {
    "duration": 13,
    "start_time": "2022-05-13T05:13:39.775Z"
   },
   {
    "duration": 138,
    "start_time": "2022-05-13T05:13:45.815Z"
   },
   {
    "duration": 90,
    "start_time": "2022-05-13T05:13:59.731Z"
   },
   {
    "duration": 285,
    "start_time": "2022-05-13T05:15:49.443Z"
   },
   {
    "duration": 148,
    "start_time": "2022-05-13T05:17:29.004Z"
   },
   {
    "duration": 127,
    "start_time": "2022-05-13T05:17:37.842Z"
   },
   {
    "duration": 130,
    "start_time": "2022-05-13T05:18:09.613Z"
   },
   {
    "duration": 142,
    "start_time": "2022-05-13T05:18:12.579Z"
   },
   {
    "duration": 129,
    "start_time": "2022-05-13T05:18:34.229Z"
   },
   {
    "duration": 132,
    "start_time": "2022-05-13T05:18:48.639Z"
   },
   {
    "duration": 131,
    "start_time": "2022-05-13T05:19:23.134Z"
   },
   {
    "duration": 139,
    "start_time": "2022-05-13T05:20:08.511Z"
   },
   {
    "duration": 250,
    "start_time": "2022-05-13T05:20:36.493Z"
   },
   {
    "duration": 0,
    "start_time": "2022-05-13T05:21:03.822Z"
   },
   {
    "duration": 511,
    "start_time": "2022-05-13T05:22:02.548Z"
   },
   {
    "duration": 225,
    "start_time": "2022-05-13T05:22:03.661Z"
   },
   {
    "duration": 220,
    "start_time": "2022-05-13T05:22:16.073Z"
   },
   {
    "duration": 184,
    "start_time": "2022-05-13T05:27:22.540Z"
   },
   {
    "duration": 215,
    "start_time": "2022-05-13T05:29:49.641Z"
   },
   {
    "duration": 141,
    "start_time": "2022-05-13T05:29:55.208Z"
   },
   {
    "duration": 36,
    "start_time": "2022-05-13T05:31:02.373Z"
   },
   {
    "duration": 19,
    "start_time": "2022-05-13T05:31:20.613Z"
   },
   {
    "duration": 23,
    "start_time": "2022-05-13T05:31:57.113Z"
   },
   {
    "duration": 150,
    "start_time": "2022-05-13T05:32:30.776Z"
   },
   {
    "duration": 138,
    "start_time": "2022-05-13T05:32:55.507Z"
   },
   {
    "duration": 148,
    "start_time": "2022-05-13T05:33:40.080Z"
   },
   {
    "duration": 139,
    "start_time": "2022-05-13T05:34:20.407Z"
   },
   {
    "duration": 144,
    "start_time": "2022-05-13T05:35:40.182Z"
   },
   {
    "duration": 141,
    "start_time": "2022-05-13T05:44:24.740Z"
   },
   {
    "duration": 22,
    "start_time": "2022-05-13T05:45:09.430Z"
   },
   {
    "duration": 131,
    "start_time": "2022-05-13T05:45:34.804Z"
   },
   {
    "duration": 3452,
    "start_time": "2022-05-13T05:55:34.471Z"
   },
   {
    "duration": 19,
    "start_time": "2022-05-13T05:56:47.810Z"
   },
   {
    "duration": 129,
    "start_time": "2022-05-13T05:56:57.863Z"
   },
   {
    "duration": 133,
    "start_time": "2022-05-13T05:57:06.407Z"
   },
   {
    "duration": 2002,
    "start_time": "2022-05-13T08:20:02.609Z"
   },
   {
    "duration": 69,
    "start_time": "2022-05-13T08:20:04.614Z"
   },
   {
    "duration": 86,
    "start_time": "2022-05-13T08:20:04.685Z"
   },
   {
    "duration": 74,
    "start_time": "2022-05-13T08:20:04.774Z"
   },
   {
    "duration": 17,
    "start_time": "2022-05-13T08:20:04.851Z"
   },
   {
    "duration": 789,
    "start_time": "2022-05-13T08:20:04.894Z"
   },
   {
    "duration": 19,
    "start_time": "2022-05-13T08:20:05.686Z"
   },
   {
    "duration": 93,
    "start_time": "2022-05-13T08:20:05.707Z"
   },
   {
    "duration": 160,
    "start_time": "2022-05-13T08:20:05.802Z"
   },
   {
    "duration": 28,
    "start_time": "2022-05-13T08:20:05.967Z"
   },
   {
    "duration": 14,
    "start_time": "2022-05-13T08:20:05.997Z"
   },
   {
    "duration": 82,
    "start_time": "2022-05-13T08:20:06.013Z"
   },
   {
    "duration": 12,
    "start_time": "2022-05-13T08:20:06.097Z"
   },
   {
    "duration": 16,
    "start_time": "2022-05-13T08:20:06.111Z"
   },
   {
    "duration": 79,
    "start_time": "2022-05-13T08:20:06.130Z"
   },
   {
    "duration": 25,
    "start_time": "2022-05-13T08:20:06.211Z"
   },
   {
    "duration": 156,
    "start_time": "2022-05-13T08:20:06.238Z"
   },
   {
    "duration": 182,
    "start_time": "2022-05-13T08:20:06.396Z"
   },
   {
    "duration": 35,
    "start_time": "2022-05-13T08:20:06.580Z"
   },
   {
    "duration": 167,
    "start_time": "2022-05-13T08:20:06.618Z"
   },
   {
    "duration": 214,
    "start_time": "2022-05-13T08:20:06.792Z"
   },
   {
    "duration": 31,
    "start_time": "2022-05-13T08:20:07.009Z"
   },
   {
    "duration": 52,
    "start_time": "2022-05-13T08:20:07.042Z"
   },
   {
    "duration": 20,
    "start_time": "2022-05-13T08:20:07.096Z"
   },
   {
    "duration": 32,
    "start_time": "2022-05-13T08:20:07.119Z"
   },
   {
    "duration": 61,
    "start_time": "2022-05-13T08:20:07.154Z"
   },
   {
    "duration": 730,
    "start_time": "2022-05-13T08:20:07.218Z"
   },
   {
    "duration": 8,
    "start_time": "2022-05-13T08:20:07.955Z"
   },
   {
    "duration": 482,
    "start_time": "2022-05-13T08:20:07.966Z"
   },
   {
    "duration": 13,
    "start_time": "2022-05-13T08:20:08.451Z"
   },
   {
    "duration": 177,
    "start_time": "2022-05-13T08:20:08.466Z"
   },
   {
    "duration": 7,
    "start_time": "2022-05-13T08:20:12.556Z"
   },
   {
    "duration": 83,
    "start_time": "2022-05-13T08:20:12.932Z"
   },
   {
    "duration": 81,
    "start_time": "2022-05-13T08:20:13.122Z"
   },
   {
    "duration": 50,
    "start_time": "2022-05-13T08:20:14.163Z"
   },
   {
    "duration": 19,
    "start_time": "2022-05-13T08:20:15.306Z"
   },
   {
    "duration": 130,
    "start_time": "2022-05-13T08:20:15.891Z"
   },
   {
    "duration": 17,
    "start_time": "2022-05-13T08:20:17.058Z"
   },
   {
    "duration": 24,
    "start_time": "2022-05-13T08:20:18.114Z"
   },
   {
    "duration": 131,
    "start_time": "2022-05-13T08:20:18.562Z"
   },
   {
    "duration": 9,
    "start_time": "2022-05-13T08:20:26.767Z"
   },
   {
    "duration": 5,
    "start_time": "2022-05-13T08:20:27.779Z"
   },
   {
    "duration": 63,
    "start_time": "2022-05-13T08:20:28.227Z"
   },
   {
    "duration": 12,
    "start_time": "2022-05-13T08:20:29.494Z"
   },
   {
    "duration": 12,
    "start_time": "2022-05-13T08:20:30.243Z"
   },
   {
    "duration": 60,
    "start_time": "2022-05-13T08:20:37.275Z"
   },
   {
    "duration": 24,
    "start_time": "2022-05-13T08:20:37.811Z"
   },
   {
    "duration": 120,
    "start_time": "2022-05-13T08:20:39.812Z"
   },
   {
    "duration": 126,
    "start_time": "2022-05-13T08:23:35.726Z"
   },
   {
    "duration": 140,
    "start_time": "2022-05-13T08:25:17.643Z"
   },
   {
    "duration": 149,
    "start_time": "2022-05-13T08:25:53.076Z"
   },
   {
    "duration": 21,
    "start_time": "2022-05-13T08:27:58.416Z"
   },
   {
    "duration": 200,
    "start_time": "2022-05-13T08:28:05.639Z"
   },
   {
    "duration": 26,
    "start_time": "2022-05-13T08:28:09.512Z"
   },
   {
    "duration": 132,
    "start_time": "2022-05-13T08:28:43.985Z"
   },
   {
    "duration": 124,
    "start_time": "2022-05-13T08:30:29.651Z"
   },
   {
    "duration": 128,
    "start_time": "2022-05-13T09:20:04.118Z"
   },
   {
    "duration": 22,
    "start_time": "2022-05-13T09:20:04.701Z"
   },
   {
    "duration": 33,
    "start_time": "2022-05-13T09:20:05.326Z"
   },
   {
    "duration": 29,
    "start_time": "2022-05-13T09:21:22.784Z"
   },
   {
    "duration": 43,
    "start_time": "2022-05-13T09:21:40.266Z"
   },
   {
    "duration": 43,
    "start_time": "2022-05-13T09:22:04.219Z"
   },
   {
    "duration": 217,
    "start_time": "2022-05-13T17:59:56.665Z"
   },
   {
    "duration": 1270,
    "start_time": "2022-05-13T19:24:37.200Z"
   },
   {
    "duration": 68,
    "start_time": "2022-05-13T19:24:38.472Z"
   },
   {
    "duration": 63,
    "start_time": "2022-05-13T19:24:38.542Z"
   },
   {
    "duration": 102,
    "start_time": "2022-05-13T19:25:05.743Z"
   },
   {
    "duration": 21,
    "start_time": "2022-05-13T19:25:29.162Z"
   },
   {
    "duration": 20,
    "start_time": "2022-05-13T19:25:40.121Z"
   },
   {
    "duration": 22,
    "start_time": "2022-05-13T19:26:23.810Z"
   },
   {
    "duration": 23,
    "start_time": "2022-05-13T19:28:22.516Z"
   },
   {
    "duration": 22,
    "start_time": "2022-05-13T19:28:42.105Z"
   },
   {
    "duration": 12,
    "start_time": "2022-05-14T07:02:10.926Z"
   },
   {
    "duration": 4,
    "start_time": "2022-05-14T07:02:17.381Z"
   },
   {
    "duration": 67,
    "start_time": "2022-05-14T07:02:17.387Z"
   },
   {
    "duration": 82,
    "start_time": "2022-05-14T07:02:17.456Z"
   },
   {
    "duration": 26,
    "start_time": "2022-05-14T07:02:17.542Z"
   },
   {
    "duration": 40,
    "start_time": "2022-05-14T07:02:17.570Z"
   },
   {
    "duration": 38,
    "start_time": "2022-05-14T07:02:17.611Z"
   },
   {
    "duration": 570,
    "start_time": "2022-05-14T07:02:17.651Z"
   },
   {
    "duration": 89,
    "start_time": "2022-05-14T07:02:24.481Z"
   },
   {
    "duration": 86,
    "start_time": "2022-05-14T07:02:41.286Z"
   },
   {
    "duration": 16,
    "start_time": "2022-05-14T07:17:47.800Z"
   },
   {
    "duration": 32,
    "start_time": "2022-05-14T07:19:19.929Z"
   },
   {
    "duration": 22,
    "start_time": "2022-05-14T07:21:07.725Z"
   },
   {
    "duration": 24,
    "start_time": "2022-05-14T07:23:23.450Z"
   },
   {
    "duration": 24,
    "start_time": "2022-05-14T07:24:18.098Z"
   },
   {
    "duration": 89,
    "start_time": "2022-05-14T07:25:54.363Z"
   },
   {
    "duration": 29,
    "start_time": "2022-05-14T07:27:00.538Z"
   },
   {
    "duration": 23,
    "start_time": "2022-05-14T07:27:23.903Z"
   },
   {
    "duration": 22,
    "start_time": "2022-05-14T07:34:03.486Z"
   },
   {
    "duration": 23,
    "start_time": "2022-05-14T07:34:33.995Z"
   },
   {
    "duration": 51,
    "start_time": "2022-05-14T07:34:49.555Z"
   },
   {
    "duration": 121,
    "start_time": "2022-05-14T07:35:12.061Z"
   },
   {
    "duration": 22,
    "start_time": "2022-05-14T07:35:34.314Z"
   },
   {
    "duration": 22,
    "start_time": "2022-05-14T07:35:46.245Z"
   },
   {
    "duration": 51,
    "start_time": "2022-05-14T07:35:51.429Z"
   },
   {
    "duration": 18,
    "start_time": "2022-05-14T07:36:34.319Z"
   },
   {
    "duration": 58,
    "start_time": "2022-05-14T07:36:50.338Z"
   },
   {
    "duration": 19,
    "start_time": "2022-05-14T07:37:32.340Z"
   },
   {
    "duration": 15,
    "start_time": "2022-05-14T07:37:38.638Z"
   },
   {
    "duration": 48,
    "start_time": "2022-05-14T07:37:44.058Z"
   },
   {
    "duration": 53,
    "start_time": "2022-05-14T07:38:45.936Z"
   },
   {
    "duration": 24,
    "start_time": "2022-05-14T07:41:10.390Z"
   },
   {
    "duration": 52,
    "start_time": "2022-05-14T07:41:22.078Z"
   },
   {
    "duration": 12,
    "start_time": "2022-05-14T07:43:03.513Z"
   },
   {
    "duration": 11,
    "start_time": "2022-05-14T07:43:08.087Z"
   },
   {
    "duration": 24,
    "start_time": "2022-05-14T07:43:34.510Z"
   },
   {
    "duration": 17,
    "start_time": "2022-05-14T07:43:39.484Z"
   },
   {
    "duration": 12,
    "start_time": "2022-05-14T07:43:51.278Z"
   },
   {
    "duration": 33,
    "start_time": "2022-05-14T07:44:19.470Z"
   },
   {
    "duration": 13,
    "start_time": "2022-05-14T07:44:24.307Z"
   },
   {
    "duration": 12,
    "start_time": "2022-05-14T07:44:44.941Z"
   },
   {
    "duration": 34,
    "start_time": "2022-05-14T07:47:02.442Z"
   },
   {
    "duration": 76,
    "start_time": "2022-05-14T07:47:19.165Z"
   },
   {
    "duration": 68,
    "start_time": "2022-05-14T07:47:57.092Z"
   },
   {
    "duration": 66,
    "start_time": "2022-05-14T07:49:37.905Z"
   },
   {
    "duration": 14,
    "start_time": "2022-05-14T07:50:09.415Z"
   },
   {
    "duration": 22,
    "start_time": "2022-05-14T07:50:17.209Z"
   },
   {
    "duration": 22,
    "start_time": "2022-05-14T07:51:22.611Z"
   },
   {
    "duration": 20,
    "start_time": "2022-05-14T07:51:28.057Z"
   },
   {
    "duration": 17,
    "start_time": "2022-05-14T07:51:57.385Z"
   },
   {
    "duration": 19,
    "start_time": "2022-05-14T07:52:02.373Z"
   },
   {
    "duration": 22,
    "start_time": "2022-05-14T07:52:14.197Z"
   },
   {
    "duration": 14,
    "start_time": "2022-05-14T07:52:47.100Z"
   },
   {
    "duration": 2696,
    "start_time": "2022-05-14T07:53:18.331Z"
   },
   {
    "duration": 156,
    "start_time": "2022-05-14T07:53:35.480Z"
   },
   {
    "duration": 174,
    "start_time": "2022-05-14T07:53:41.701Z"
   },
   {
    "duration": 11,
    "start_time": "2022-05-14T07:53:45.261Z"
   },
   {
    "duration": 19,
    "start_time": "2022-05-14T07:54:24.543Z"
   },
   {
    "duration": 8,
    "start_time": "2022-05-14T07:54:32.514Z"
   },
   {
    "duration": 20,
    "start_time": "2022-05-14T07:54:47.745Z"
   },
   {
    "duration": 33,
    "start_time": "2022-05-14T07:56:06.293Z"
   },
   {
    "duration": 153,
    "start_time": "2022-05-14T07:56:47.653Z"
   },
   {
    "duration": 23,
    "start_time": "2022-05-14T07:56:52.982Z"
   },
   {
    "duration": 14,
    "start_time": "2022-05-14T07:57:05.476Z"
   },
   {
    "duration": 14,
    "start_time": "2022-05-14T07:58:41.232Z"
   },
   {
    "duration": 14,
    "start_time": "2022-05-14T08:00:10.749Z"
   },
   {
    "duration": 20,
    "start_time": "2022-05-14T08:01:09.774Z"
   },
   {
    "duration": 21,
    "start_time": "2022-05-14T08:01:37.165Z"
   },
   {
    "duration": 9,
    "start_time": "2022-05-14T08:02:20.414Z"
   },
   {
    "duration": 14,
    "start_time": "2022-05-14T08:02:33.760Z"
   },
   {
    "duration": 18,
    "start_time": "2022-05-14T08:02:39.567Z"
   },
   {
    "duration": 57,
    "start_time": "2022-05-14T08:02:44.741Z"
   },
   {
    "duration": 10,
    "start_time": "2022-05-14T08:03:30.347Z"
   },
   {
    "duration": 7,
    "start_time": "2022-05-14T08:04:11.908Z"
   },
   {
    "duration": 6,
    "start_time": "2022-05-14T08:04:17.830Z"
   },
   {
    "duration": 8,
    "start_time": "2022-05-14T08:04:28.922Z"
   },
   {
    "duration": 7,
    "start_time": "2022-05-14T08:04:50.546Z"
   },
   {
    "duration": 31,
    "start_time": "2022-05-14T08:05:25.181Z"
   },
   {
    "duration": 18,
    "start_time": "2022-05-14T08:05:40.119Z"
   },
   {
    "duration": 2926,
    "start_time": "2022-05-14T08:05:52.016Z"
   },
   {
    "duration": 0,
    "start_time": "2022-05-14T08:05:54.944Z"
   },
   {
    "duration": 11,
    "start_time": "2022-05-14T08:06:18.485Z"
   },
   {
    "duration": 7,
    "start_time": "2022-05-14T08:06:28.701Z"
   },
   {
    "duration": 24,
    "start_time": "2022-05-14T08:06:41.397Z"
   },
   {
    "duration": 55,
    "start_time": "2022-05-14T08:07:04.000Z"
   },
   {
    "duration": 54,
    "start_time": "2022-05-14T08:07:10.094Z"
   },
   {
    "duration": 53,
    "start_time": "2022-05-14T08:07:21.867Z"
   },
   {
    "duration": 63,
    "start_time": "2022-05-14T08:07:51.299Z"
   },
   {
    "duration": 66,
    "start_time": "2022-05-14T08:08:45.038Z"
   },
   {
    "duration": 66,
    "start_time": "2022-05-14T08:09:04.351Z"
   },
   {
    "duration": 10,
    "start_time": "2022-05-14T08:10:21.331Z"
   },
   {
    "duration": 66,
    "start_time": "2022-05-14T08:10:41.591Z"
   },
   {
    "duration": 21,
    "start_time": "2022-05-14T08:11:07.810Z"
   },
   {
    "duration": 15,
    "start_time": "2022-05-14T08:12:45.089Z"
   },
   {
    "duration": 152,
    "start_time": "2022-05-14T08:16:31.283Z"
   },
   {
    "duration": 19,
    "start_time": "2022-05-14T08:16:41.943Z"
   },
   {
    "duration": 18,
    "start_time": "2022-05-14T08:16:49.020Z"
   },
   {
    "duration": 9,
    "start_time": "2022-05-14T08:19:00.560Z"
   },
   {
    "duration": 11,
    "start_time": "2022-05-14T08:19:08.695Z"
   },
   {
    "duration": 8,
    "start_time": "2022-05-14T08:19:15.736Z"
   },
   {
    "duration": 14,
    "start_time": "2022-05-14T08:19:23.654Z"
   },
   {
    "duration": 16,
    "start_time": "2022-05-14T08:20:12.655Z"
   },
   {
    "duration": 18,
    "start_time": "2022-05-14T08:20:19.869Z"
   },
   {
    "duration": 21,
    "start_time": "2022-05-14T08:20:58.958Z"
   },
   {
    "duration": 17,
    "start_time": "2022-05-14T08:22:24.870Z"
   },
   {
    "duration": 18,
    "start_time": "2022-05-14T08:22:37.799Z"
   },
   {
    "duration": 14,
    "start_time": "2022-05-14T08:23:21.586Z"
   },
   {
    "duration": 6,
    "start_time": "2022-05-14T08:24:04.974Z"
   },
   {
    "duration": 17,
    "start_time": "2022-05-14T08:24:49.696Z"
   },
   {
    "duration": 25,
    "start_time": "2022-05-14T08:26:04.433Z"
   },
   {
    "duration": 62,
    "start_time": "2022-05-14T08:26:20.524Z"
   },
   {
    "duration": 74,
    "start_time": "2022-05-14T08:26:43.825Z"
   },
   {
    "duration": 62,
    "start_time": "2022-05-14T08:27:00.640Z"
   },
   {
    "duration": 63,
    "start_time": "2022-05-14T08:27:20.030Z"
   },
   {
    "duration": 4,
    "start_time": "2022-05-14T08:36:05.490Z"
   },
   {
    "duration": 79,
    "start_time": "2022-05-14T08:36:05.496Z"
   },
   {
    "duration": 71,
    "start_time": "2022-05-14T08:36:05.578Z"
   },
   {
    "duration": 23,
    "start_time": "2022-05-14T08:36:05.651Z"
   },
   {
    "duration": 59,
    "start_time": "2022-05-14T08:36:05.676Z"
   },
   {
    "duration": 11,
    "start_time": "2022-05-14T08:36:05.737Z"
   },
   {
    "duration": 101,
    "start_time": "2022-05-14T08:36:05.750Z"
   },
   {
    "duration": 31,
    "start_time": "2022-05-14T08:36:05.853Z"
   },
   {
    "duration": 17,
    "start_time": "2022-05-14T08:36:05.886Z"
   },
   {
    "duration": 93,
    "start_time": "2022-05-14T08:36:05.905Z"
   },
   {
    "duration": 6,
    "start_time": "2022-05-14T08:36:06.001Z"
   },
   {
    "duration": 26,
    "start_time": "2022-05-14T08:36:06.008Z"
   },
   {
    "duration": 55,
    "start_time": "2022-05-14T08:36:06.036Z"
   },
   {
    "duration": 8,
    "start_time": "2022-05-14T08:36:06.093Z"
   },
   {
    "duration": 9,
    "start_time": "2022-05-14T08:36:12.439Z"
   },
   {
    "duration": 11,
    "start_time": "2022-05-14T08:36:22.585Z"
   },
   {
    "duration": 8,
    "start_time": "2022-05-14T08:36:35.332Z"
   },
   {
    "duration": 15,
    "start_time": "2022-05-14T08:36:40.929Z"
   },
   {
    "duration": 16,
    "start_time": "2022-05-14T08:36:46.061Z"
   },
   {
    "duration": 4,
    "start_time": "2022-05-14T09:02:00.665Z"
   },
   {
    "duration": 81,
    "start_time": "2022-05-14T09:02:00.671Z"
   },
   {
    "duration": 80,
    "start_time": "2022-05-14T09:02:00.754Z"
   },
   {
    "duration": 22,
    "start_time": "2022-05-14T09:02:00.836Z"
   },
   {
    "duration": 40,
    "start_time": "2022-05-14T09:02:00.860Z"
   },
   {
    "duration": 33,
    "start_time": "2022-05-14T09:02:00.901Z"
   },
   {
    "duration": 102,
    "start_time": "2022-05-14T09:02:00.935Z"
   },
   {
    "duration": 12,
    "start_time": "2022-05-14T09:02:01.038Z"
   },
   {
    "duration": 19,
    "start_time": "2022-05-14T09:02:01.053Z"
   },
   {
    "duration": 106,
    "start_time": "2022-05-14T09:02:01.074Z"
   },
   {
    "duration": 5,
    "start_time": "2022-05-14T09:02:01.182Z"
   },
   {
    "duration": 6,
    "start_time": "2022-05-14T09:02:01.189Z"
   },
   {
    "duration": 59,
    "start_time": "2022-05-14T09:02:01.197Z"
   },
   {
    "duration": 8,
    "start_time": "2022-05-14T09:02:01.257Z"
   },
   {
    "duration": 23,
    "start_time": "2022-05-14T09:02:01.267Z"
   },
   {
    "duration": 72,
    "start_time": "2022-05-14T09:02:01.291Z"
   },
   {
    "duration": 15,
    "start_time": "2022-05-14T09:02:01.365Z"
   },
   {
    "duration": 113,
    "start_time": "2022-05-14T09:02:01.381Z"
   },
   {
    "duration": 157,
    "start_time": "2022-05-14T09:02:01.496Z"
   },
   {
    "duration": 62,
    "start_time": "2022-05-14T09:02:01.655Z"
   },
   {
    "duration": 112,
    "start_time": "2022-05-14T09:02:01.719Z"
   },
   {
    "duration": 174,
    "start_time": "2022-05-14T09:02:01.833Z"
   },
   {
    "duration": 0,
    "start_time": "2022-05-14T09:02:02.009Z"
   },
   {
    "duration": 0,
    "start_time": "2022-05-14T09:02:02.010Z"
   },
   {
    "duration": 0,
    "start_time": "2022-05-14T09:02:02.011Z"
   },
   {
    "duration": 0,
    "start_time": "2022-05-14T09:02:02.013Z"
   },
   {
    "duration": 0,
    "start_time": "2022-05-14T09:02:02.014Z"
   },
   {
    "duration": 0,
    "start_time": "2022-05-14T09:02:02.015Z"
   },
   {
    "duration": 0,
    "start_time": "2022-05-14T09:02:02.016Z"
   },
   {
    "duration": 0,
    "start_time": "2022-05-14T09:02:02.018Z"
   },
   {
    "duration": 0,
    "start_time": "2022-05-14T09:02:02.019Z"
   },
   {
    "duration": 17,
    "start_time": "2022-05-14T09:06:29.947Z"
   },
   {
    "duration": 303,
    "start_time": "2022-05-14T09:06:40.070Z"
   },
   {
    "duration": 5,
    "start_time": "2022-05-14T09:06:49.954Z"
   },
   {
    "duration": 296,
    "start_time": "2022-05-14T09:06:52.291Z"
   },
   {
    "duration": 9,
    "start_time": "2022-05-14T09:06:57.442Z"
   },
   {
    "duration": 22,
    "start_time": "2022-05-14T09:07:04.734Z"
   },
   {
    "duration": 5,
    "start_time": "2022-05-14T09:07:26.336Z"
   },
   {
    "duration": 5,
    "start_time": "2022-05-14T09:07:38.109Z"
   },
   {
    "duration": 7,
    "start_time": "2022-05-14T09:08:00.560Z"
   },
   {
    "duration": 96,
    "start_time": "2022-05-14T09:22:51.891Z"
   },
   {
    "duration": 74,
    "start_time": "2022-05-16T06:55:31.722Z"
   },
   {
    "duration": 2071,
    "start_time": "2022-05-16T06:55:43.690Z"
   },
   {
    "duration": 68,
    "start_time": "2022-05-16T06:55:45.764Z"
   },
   {
    "duration": 121,
    "start_time": "2022-05-16T06:55:45.835Z"
   },
   {
    "duration": 4,
    "start_time": "2022-05-16T06:55:45.958Z"
   },
   {
    "duration": 104,
    "start_time": "2022-05-16T06:55:45.966Z"
   },
   {
    "duration": 18,
    "start_time": "2022-05-16T06:55:46.073Z"
   },
   {
    "duration": 959,
    "start_time": "2022-05-16T06:55:46.094Z"
   },
   {
    "duration": 65,
    "start_time": "2022-05-16T06:55:47.055Z"
   },
   {
    "duration": 59,
    "start_time": "2022-05-16T06:55:47.123Z"
   },
   {
    "duration": 259,
    "start_time": "2022-05-16T06:55:47.185Z"
   },
   {
    "duration": 39,
    "start_time": "2022-05-16T06:55:47.446Z"
   },
   {
    "duration": 608,
    "start_time": "2022-05-16T06:55:47.488Z"
   },
   {
    "duration": 4,
    "start_time": "2022-05-16T06:55:48.098Z"
   },
   {
    "duration": 291,
    "start_time": "2022-05-16T06:55:48.107Z"
   },
   {
    "duration": 7,
    "start_time": "2022-05-16T06:55:48.401Z"
   },
   {
    "duration": 6,
    "start_time": "2022-05-16T06:55:48.410Z"
   },
   {
    "duration": 151,
    "start_time": "2022-05-16T06:55:48.418Z"
   },
   {
    "duration": 9,
    "start_time": "2022-05-16T06:55:48.571Z"
   },
   {
    "duration": 10,
    "start_time": "2022-05-16T06:55:48.583Z"
   },
   {
    "duration": 119,
    "start_time": "2022-05-16T06:55:48.595Z"
   },
   {
    "duration": 50,
    "start_time": "2022-05-16T06:55:48.717Z"
   },
   {
    "duration": 141,
    "start_time": "2022-05-16T06:55:48.770Z"
   },
   {
    "duration": 79,
    "start_time": "2022-05-16T06:55:48.913Z"
   },
   {
    "duration": 25,
    "start_time": "2022-05-16T06:55:48.994Z"
   },
   {
    "duration": 176,
    "start_time": "2022-05-16T06:55:49.021Z"
   },
   {
    "duration": 955,
    "start_time": "2022-05-16T06:55:49.199Z"
   },
   {
    "duration": 3,
    "start_time": "2022-05-16T06:55:50.156Z"
   },
   {
    "duration": 23,
    "start_time": "2022-05-16T06:55:50.161Z"
   },
   {
    "duration": 35,
    "start_time": "2022-05-16T06:55:50.186Z"
   },
   {
    "duration": 38,
    "start_time": "2022-05-16T06:55:50.224Z"
   },
   {
    "duration": 156,
    "start_time": "2022-05-16T06:55:50.264Z"
   },
   {
    "duration": 18,
    "start_time": "2022-05-16T06:55:50.422Z"
   },
   {
    "duration": 16,
    "start_time": "2022-05-16T06:55:50.442Z"
   },
   {
    "duration": 131,
    "start_time": "2022-05-16T06:55:50.461Z"
   },
   {
    "duration": 29,
    "start_time": "2022-05-16T06:55:50.596Z"
   },
   {
    "duration": 698,
    "start_time": "2022-05-16T06:55:50.629Z"
   },
   {
    "duration": 8,
    "start_time": "2022-05-16T06:55:51.330Z"
   },
   {
    "duration": 671,
    "start_time": "2022-05-16T06:55:51.356Z"
   },
   {
    "duration": 14,
    "start_time": "2022-05-16T06:55:52.030Z"
   },
   {
    "duration": 8,
    "start_time": "2022-05-16T06:55:52.057Z"
   },
   {
    "duration": 162,
    "start_time": "2022-05-16T06:55:52.072Z"
   },
   {
    "duration": 287,
    "start_time": "2022-05-16T06:58:04.096Z"
   },
   {
    "duration": 282,
    "start_time": "2022-05-16T06:59:54.576Z"
   },
   {
    "duration": 268,
    "start_time": "2022-05-16T07:00:05.574Z"
   },
   {
    "duration": 363,
    "start_time": "2022-05-16T07:01:34.828Z"
   },
   {
    "duration": 267,
    "start_time": "2022-05-16T07:02:20.815Z"
   },
   {
    "duration": 427,
    "start_time": "2022-05-16T07:03:06.470Z"
   },
   {
    "duration": 274,
    "start_time": "2022-05-16T07:05:35.110Z"
   },
   {
    "duration": 353,
    "start_time": "2022-05-16T07:07:02.687Z"
   },
   {
    "duration": 278,
    "start_time": "2022-05-16T07:07:55.240Z"
   },
   {
    "duration": 377,
    "start_time": "2022-05-16T07:08:05.799Z"
   },
   {
    "duration": 277,
    "start_time": "2022-05-16T07:08:14.230Z"
   },
   {
    "duration": 23,
    "start_time": "2022-05-16T07:08:42.008Z"
   },
   {
    "duration": 19,
    "start_time": "2022-05-16T07:13:34.049Z"
   },
   {
    "duration": 12,
    "start_time": "2022-05-16T07:15:04.311Z"
   },
   {
    "duration": 21,
    "start_time": "2022-05-16T07:15:12.513Z"
   },
   {
    "duration": 20,
    "start_time": "2022-05-16T07:15:27.925Z"
   },
   {
    "duration": 17,
    "start_time": "2022-05-16T07:15:38.235Z"
   },
   {
    "duration": 19,
    "start_time": "2022-05-16T07:15:48.896Z"
   },
   {
    "duration": 396,
    "start_time": "2022-05-16T07:16:07.990Z"
   },
   {
    "duration": 297,
    "start_time": "2022-05-16T07:16:31.673Z"
   },
   {
    "duration": 30,
    "start_time": "2022-05-16T07:19:29.009Z"
   },
   {
    "duration": 23,
    "start_time": "2022-05-16T07:19:47.377Z"
   },
   {
    "duration": 24,
    "start_time": "2022-05-16T07:20:08.485Z"
   },
   {
    "duration": 2152,
    "start_time": "2022-05-16T07:21:35.442Z"
   },
   {
    "duration": 27,
    "start_time": "2022-05-16T07:21:48.795Z"
   },
   {
    "duration": 34,
    "start_time": "2022-05-16T07:22:16.350Z"
   },
   {
    "duration": 30,
    "start_time": "2022-05-16T07:23:40.310Z"
   },
   {
    "duration": 973,
    "start_time": "2022-05-16T07:25:02.957Z"
   },
   {
    "duration": 574,
    "start_time": "2022-05-16T07:25:24.108Z"
   },
   {
    "duration": 147,
    "start_time": "2022-05-16T07:25:45.790Z"
   },
   {
    "duration": 107,
    "start_time": "2022-05-16T07:27:04.857Z"
   },
   {
    "duration": 147,
    "start_time": "2022-05-16T07:27:17.692Z"
   },
   {
    "duration": 112,
    "start_time": "2022-05-16T07:28:11.399Z"
   },
   {
    "duration": 423,
    "start_time": "2022-05-16T07:35:56.196Z"
   },
   {
    "duration": 423,
    "start_time": "2022-05-16T07:36:16.364Z"
   },
   {
    "duration": 720,
    "start_time": "2022-05-16T07:37:47.773Z"
   },
   {
    "duration": 28,
    "start_time": "2022-05-16T07:37:59.654Z"
   },
   {
    "duration": 32,
    "start_time": "2022-05-16T07:38:32.456Z"
   },
   {
    "duration": 24,
    "start_time": "2022-05-16T07:39:21.820Z"
   },
   {
    "duration": 29,
    "start_time": "2022-05-16T07:39:31.848Z"
   },
   {
    "duration": 20,
    "start_time": "2022-05-16T07:40:13.700Z"
   },
   {
    "duration": 797,
    "start_time": "2022-05-16T07:40:26.901Z"
   },
   {
    "duration": 841,
    "start_time": "2022-05-16T07:40:38.320Z"
   },
   {
    "duration": 784,
    "start_time": "2022-05-16T07:40:45.689Z"
   },
   {
    "duration": 11,
    "start_time": "2022-05-16T07:41:05.015Z"
   },
   {
    "duration": 8,
    "start_time": "2022-05-16T07:41:28.368Z"
   },
   {
    "duration": 10,
    "start_time": "2022-05-16T07:41:40.990Z"
   },
   {
    "duration": 8,
    "start_time": "2022-05-16T07:41:46.550Z"
   },
   {
    "duration": 9,
    "start_time": "2022-05-16T07:41:51.668Z"
   },
   {
    "duration": 11,
    "start_time": "2022-05-16T07:42:05.199Z"
   },
   {
    "duration": 11,
    "start_time": "2022-05-16T07:42:29.968Z"
   },
   {
    "duration": 850,
    "start_time": "2022-05-16T07:42:41.006Z"
   },
   {
    "duration": 818,
    "start_time": "2022-05-16T07:43:15.757Z"
   },
   {
    "duration": 2289,
    "start_time": "2022-06-28T06:52:57.593Z"
   },
   {
    "duration": 887,
    "start_time": "2022-06-28T06:52:59.884Z"
   },
   {
    "duration": 141,
    "start_time": "2022-06-28T06:53:00.782Z"
   },
   {
    "duration": 7,
    "start_time": "2022-06-28T06:53:00.938Z"
   },
   {
    "duration": 171,
    "start_time": "2022-06-28T06:53:00.949Z"
   },
   {
    "duration": 23,
    "start_time": "2022-06-28T06:53:01.123Z"
   },
   {
    "duration": 745,
    "start_time": "2022-06-28T06:53:01.149Z"
   },
   {
    "duration": 20,
    "start_time": "2022-06-28T06:53:01.896Z"
   },
   {
    "duration": 89,
    "start_time": "2022-06-28T06:53:01.919Z"
   },
   {
    "duration": 111,
    "start_time": "2022-06-28T06:53:02.013Z"
   },
   {
    "duration": 29,
    "start_time": "2022-06-28T06:53:02.126Z"
   },
   {
    "duration": 459,
    "start_time": "2022-06-28T06:53:02.157Z"
   },
   {
    "duration": 7,
    "start_time": "2022-06-28T06:53:02.627Z"
   },
   {
    "duration": 59,
    "start_time": "2022-06-28T06:53:02.637Z"
   },
   {
    "duration": 6,
    "start_time": "2022-06-28T06:53:02.698Z"
   },
   {
    "duration": 98,
    "start_time": "2022-06-28T06:53:02.707Z"
   },
   {
    "duration": 15,
    "start_time": "2022-06-28T06:53:02.812Z"
   },
   {
    "duration": 73,
    "start_time": "2022-06-28T06:53:02.834Z"
   },
   {
    "duration": 81,
    "start_time": "2022-06-28T06:53:02.910Z"
   },
   {
    "duration": 22,
    "start_time": "2022-06-28T06:53:02.994Z"
   },
   {
    "duration": 174,
    "start_time": "2022-06-28T06:53:03.019Z"
   },
   {
    "duration": 105,
    "start_time": "2022-06-28T06:53:03.196Z"
   },
   {
    "duration": 40,
    "start_time": "2022-06-28T06:53:03.303Z"
   },
   {
    "duration": 121,
    "start_time": "2022-06-28T06:53:03.356Z"
   },
   {
    "duration": 1208,
    "start_time": "2022-06-28T06:53:03.479Z"
   },
   {
    "duration": 5,
    "start_time": "2022-06-28T06:53:04.690Z"
   },
   {
    "duration": 21,
    "start_time": "2022-06-28T06:53:04.697Z"
   },
   {
    "duration": 119,
    "start_time": "2022-06-28T06:53:04.719Z"
   },
   {
    "duration": 17,
    "start_time": "2022-06-28T06:53:04.840Z"
   },
   {
    "duration": 193,
    "start_time": "2022-06-28T06:53:04.866Z"
   },
   {
    "duration": 29,
    "start_time": "2022-06-28T06:53:05.062Z"
   },
   {
    "duration": 30,
    "start_time": "2022-06-28T06:53:05.093Z"
   },
   {
    "duration": 104,
    "start_time": "2022-06-28T06:53:13.153Z"
   }
  ],
  "celltoolbar": "Необработанный формат ячейки",
  "kernelspec": {
   "display_name": "Python 3 (ipykernel)",
   "language": "python",
   "name": "python3"
  },
  "language_info": {
   "codemirror_mode": {
    "name": "ipython",
    "version": 3
   },
   "file_extension": ".py",
   "mimetype": "text/x-python",
   "name": "python",
   "nbconvert_exporter": "python",
   "pygments_lexer": "ipython3",
   "version": "3.9.12"
  },
  "toc": {
   "base_numbering": 1,
   "nav_menu": {},
   "number_sections": true,
   "sideBar": true,
   "skip_h1_title": true,
   "title_cell": "Table of Contents",
   "title_sidebar": "Contents",
   "toc_cell": false,
   "toc_position": {
    "height": "calc(100% - 180px)",
    "left": "10px",
    "top": "150px",
    "width": "165px"
   },
   "toc_section_display": true,
   "toc_window_display": false
  }
 },
 "nbformat": 4,
 "nbformat_minor": 2
}
