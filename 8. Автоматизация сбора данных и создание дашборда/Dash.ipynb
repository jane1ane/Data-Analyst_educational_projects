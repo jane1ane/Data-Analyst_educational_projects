{
 "cells": [
  {
   "cell_type": "markdown",
   "id": "030dbdda-9b62-423d-8ddc-74b1614b8571",
   "metadata": {},
   "source": [
    "# Автоматизация сбора данных и создание дашборда\n",
    "\n",
    "\n",
    "Необходимо автоматизировать процедуру получения информации и предоставления регулярных отчетов об активности пользователей Яндекс.Дзен. Для этого нужно написать Дата-пайплайн, который собирает  данные из БД и сохраняет их в файл формата csv, на основе которого будет строиться дашборд в Tableau.\n",
    "\n",
    "Состав данных для дашборда:\n",
    "\n",
    "- История событий по темам карточек (два графика - абсолютные числа и процентное соотношение),\n",
    "        - Разбивка событий по темам источников,\n",
    "        - Таблица соответствия тем источников темам карточек,\n",
    "- По каким параметрам данные должны группироваться:\n",
    "        - Дата и время,\n",
    "        - Тема карточки,\n",
    "        - Тема источника,\n",
    "        - Возрастная группа,\n",
    "- Характер данных:\n",
    "        - История событий по темам карточек — абсолютные величины с разбивкой по минутам,\n",
    "        - Разбивка событий по темам источников — относительные величины (% событий),\n",
    "        - Соответствия тем источников темам карточек - абсолютные величины,\n",
    "- Важность: все графики имеют равную важность,\n",
    "- Источники данных для дашборда: cырые данные о событиях взаимодействия пользователей с карточками,\n",
    "- База данных, в которой будут храниться агрегированные данные: дополнительные агрегированные таблицы в БД zen.\n",
    "\n",
    "Используя получившийся дашборд составить небольшую презентацию с отчётом."
   ]
  },
  {
   "cell_type": "code",
   "execution_count": 6,
   "id": "f7d3d028-e2b7-4e9d-9158-f89434cc6a97",
   "metadata": {},
   "outputs": [],
   "source": [
    "# импортируем библиотеки\n",
    "import pandas as pd\n",
    "from sqlalchemy import create_engine\n",
    "\n",
    "# код для выгрузки данных из таблицы\n",
    "db_config = {'user': 'praktikum_student', # имя пользователя\n",
    "            'pwd': 'тут был пароль ;)', # пароль\n",
    "            'host': 'rc1b-wcoijxj3yxfsf3fs.mdb.yandexcloud.net',\n",
    "            'port': 6432, # порт подключения\n",
    "            'db': 'а тут было название БД :р'} # название базы данных\n",
    "\n",
    "connection_string = 'postgresql://{}:{}@{}:{}/{}'.format(db_config['user'],\n",
    "                                                db_config['pwd'],\n",
    "                                                db_config['host'],\n",
    "                                                db_config['port'],\n",
    "                                                db_config['db'])\n",
    "\n",
    "engine = create_engine(connection_string) \n",
    "\n",
    "# Формируем sql-запрос.\n",
    "query = ''' SELECT *\n",
    "            FROM dash_visits\n",
    "        '''\n",
    "dash_visits = pd.io.sql.read_sql(query, con=engine)\n",
    "dash_visits.to_csv('dash_visits.csv', index=False)"
   ]
  },
  {
   "cell_type": "markdown",
   "id": "2cf9077b",
   "metadata": {},
   "source": [
    "[Ссылка на дашборд](https://public.tableau.com/app/profile/evgeniia.kupreeva/viz/Zen_source_data_viz/Dashboard1?publish=yes)\n",
    "\n",
    "\n",
    "[ссылка на презентацию](https://drive.google.com/file/d/14pevwQSzAHyhcAy20kPFj4c1xDo4spLm/view?usp=sharing)"
   ]
  }
 ],
 "metadata": {
  "kernelspec": {
   "display_name": "Python 3 (ipykernel)",
   "language": "python",
   "name": "python3"
  },
  "language_info": {
   "codemirror_mode": {
    "name": "ipython",
    "version": 3
   },
   "file_extension": ".py",
   "mimetype": "text/x-python",
   "name": "python",
   "nbconvert_exporter": "python",
   "pygments_lexer": "ipython3",
   "version": "3.9.12"
  }
 },
 "nbformat": 4,
 "nbformat_minor": 5
}
