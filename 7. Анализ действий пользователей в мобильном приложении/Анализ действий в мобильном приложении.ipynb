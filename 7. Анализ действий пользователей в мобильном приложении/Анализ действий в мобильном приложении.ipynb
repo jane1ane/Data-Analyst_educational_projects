{
 "cells": [
  {
   "cell_type": "markdown",
   "metadata": {},
   "source": [
    "## Описание проекта и цели исследования\n",
    "\n",
    "Нужно разобраться, как ведут себя пользователи мобильного приложения по продаже продуктов питания. У нас есть логи событий за некоторый период. В них хранится информация о действиях пользователей из трех контрольных групп A/A/B-эксперимента. Дизайнеры захотели поменять шрифты во всём приложении, нужно принять решение по результатам A/A/B-теста какой шрифт лучше. Пользователей разбили на 3 группы: 2 контрольные со старыми шрифтами( группы № 246 и 247) и одну экспериментальную — с новыми(группа № 248). \n",
    "\n",
    "В ходе исследования изучим данные, на их основе построим воронку продаж и посмотрим, как пользователи доходят до покупки. Ответим на вопросы: Сколько пользователей доходит до покупки, а сколько — «застревает» на предыдущих шагах? На каких именно?\n",
    "\n",
    "Исследуем результаты A/A/B-эксперимента. Сравним две контрольные группы A/A. Если две контрольные группы окажутся равны, можно быть уверенными в точности проведенного тестирования. Если же между значениями A и A будут существенные различия, это поможет обнаружить факторы, которые привели к искажению результатов. Проведем сравнение между парами групп:\n",
    "- контрольная 246 и экспериментальная 248\n",
    "- контрольная 247 и экспериментальная 248\n",
    "- суммарная группа 246 + 247  и экспериментальная 248\n",
    "\n",
    "Сделаем выводы и примем решение.\n",
    "\n",
    "## Загрузка и предобработка данных"
   ]
  },
  {
   "cell_type": "code",
   "execution_count": 9,
   "metadata": {},
   "outputs": [],
   "source": [
    "# загружаем библиотеки\n",
    "import pandas as pd\n",
    "import math\n",
    "import pandas as pd\n",
    "from scipy import stats as st\n",
    "#import scipy.stats as stats\n",
    "import numpy as np\n",
    "from datetime import datetime, timedelta\n",
    "import matplotlib.pyplot as plt \n",
    "from plotly import graph_objects as go\n",
    "\n",
    "#pd.set_option(\"max_colwidth\", 90)\n",
    "pd.set_option('display.max_colwidth', 150)"
   ]
  },
  {
   "cell_type": "code",
   "execution_count": 10,
   "metadata": {},
   "outputs": [
    {
     "name": "stdout",
     "output_type": "stream",
     "text": [
      "Requirement already satisfied: kaleido in c:\\users\\jane\\anaconda3\\lib\\site-packages (0.2.1)\n",
      "Note: you may need to restart the kernel to use updated packages.\n"
     ]
    }
   ],
   "source": [
    "pip install -U kaleido"
   ]
  },
  {
   "cell_type": "code",
   "execution_count": 11,
   "metadata": {},
   "outputs": [],
   "source": [
    "# загружаем данные\n",
    "logs = pd.read_csv('*')"
   ]
  },
  {
   "cell_type": "code",
   "execution_count": 12,
   "metadata": {},
   "outputs": [
    {
     "data": {
      "text/html": [
       "<div>\n",
       "<style scoped>\n",
       "    .dataframe tbody tr th:only-of-type {\n",
       "        vertical-align: middle;\n",
       "    }\n",
       "\n",
       "    .dataframe tbody tr th {\n",
       "        vertical-align: top;\n",
       "    }\n",
       "\n",
       "    .dataframe thead th {\n",
       "        text-align: right;\n",
       "    }\n",
       "</style>\n",
       "<table border=\"1\" class=\"dataframe\">\n",
       "  <thead>\n",
       "    <tr style=\"text-align: right;\">\n",
       "      <th></th>\n",
       "      <th>EventName</th>\n",
       "      <th>DeviceIDHash</th>\n",
       "      <th>EventTimestamp</th>\n",
       "      <th>ExpId</th>\n",
       "    </tr>\n",
       "  </thead>\n",
       "  <tbody>\n",
       "    <tr>\n",
       "      <th>0</th>\n",
       "      <td>MainScreenAppear</td>\n",
       "      <td>4575588528974610257</td>\n",
       "      <td>1564029816</td>\n",
       "      <td>246</td>\n",
       "    </tr>\n",
       "    <tr>\n",
       "      <th>1</th>\n",
       "      <td>MainScreenAppear</td>\n",
       "      <td>7416695313311560658</td>\n",
       "      <td>1564053102</td>\n",
       "      <td>246</td>\n",
       "    </tr>\n",
       "    <tr>\n",
       "      <th>2</th>\n",
       "      <td>PaymentScreenSuccessful</td>\n",
       "      <td>3518123091307005509</td>\n",
       "      <td>1564054127</td>\n",
       "      <td>248</td>\n",
       "    </tr>\n",
       "    <tr>\n",
       "      <th>3</th>\n",
       "      <td>CartScreenAppear</td>\n",
       "      <td>3518123091307005509</td>\n",
       "      <td>1564054127</td>\n",
       "      <td>248</td>\n",
       "    </tr>\n",
       "    <tr>\n",
       "      <th>4</th>\n",
       "      <td>PaymentScreenSuccessful</td>\n",
       "      <td>6217807653094995999</td>\n",
       "      <td>1564055322</td>\n",
       "      <td>248</td>\n",
       "    </tr>\n",
       "    <tr>\n",
       "      <th>5</th>\n",
       "      <td>CartScreenAppear</td>\n",
       "      <td>6217807653094995999</td>\n",
       "      <td>1564055323</td>\n",
       "      <td>248</td>\n",
       "    </tr>\n",
       "    <tr>\n",
       "      <th>6</th>\n",
       "      <td>OffersScreenAppear</td>\n",
       "      <td>8351860793733343758</td>\n",
       "      <td>1564066242</td>\n",
       "      <td>246</td>\n",
       "    </tr>\n",
       "    <tr>\n",
       "      <th>7</th>\n",
       "      <td>MainScreenAppear</td>\n",
       "      <td>5682100281902512875</td>\n",
       "      <td>1564085677</td>\n",
       "      <td>246</td>\n",
       "    </tr>\n",
       "    <tr>\n",
       "      <th>8</th>\n",
       "      <td>MainScreenAppear</td>\n",
       "      <td>1850981295691852772</td>\n",
       "      <td>1564086702</td>\n",
       "      <td>247</td>\n",
       "    </tr>\n",
       "    <tr>\n",
       "      <th>9</th>\n",
       "      <td>MainScreenAppear</td>\n",
       "      <td>5407636962369102641</td>\n",
       "      <td>1564112112</td>\n",
       "      <td>246</td>\n",
       "    </tr>\n",
       "  </tbody>\n",
       "</table>\n",
       "</div>"
      ],
      "text/plain": [
       "                 EventName         DeviceIDHash  EventTimestamp  ExpId\n",
       "0         MainScreenAppear  4575588528974610257      1564029816    246\n",
       "1         MainScreenAppear  7416695313311560658      1564053102    246\n",
       "2  PaymentScreenSuccessful  3518123091307005509      1564054127    248\n",
       "3         CartScreenAppear  3518123091307005509      1564054127    248\n",
       "4  PaymentScreenSuccessful  6217807653094995999      1564055322    248\n",
       "5         CartScreenAppear  6217807653094995999      1564055323    248\n",
       "6       OffersScreenAppear  8351860793733343758      1564066242    246\n",
       "7         MainScreenAppear  5682100281902512875      1564085677    246\n",
       "8         MainScreenAppear  1850981295691852772      1564086702    247\n",
       "9         MainScreenAppear  5407636962369102641      1564112112    246"
      ]
     },
     "metadata": {},
     "output_type": "display_data"
    },
    {
     "name": "stdout",
     "output_type": "stream",
     "text": [
      "<class 'pandas.core.frame.DataFrame'>\n",
      "RangeIndex: 244126 entries, 0 to 244125\n",
      "Data columns (total 4 columns):\n",
      " #   Column          Non-Null Count   Dtype \n",
      "---  ------          --------------   ----- \n",
      " 0   EventName       244126 non-null  object\n",
      " 1   DeviceIDHash    244126 non-null  int64 \n",
      " 2   EventTimestamp  244126 non-null  int64 \n",
      " 3   ExpId           244126 non-null  int64 \n",
      "dtypes: int64(3), object(1)\n",
      "memory usage: 7.5+ MB\n"
     ]
    },
    {
     "data": {
      "text/plain": [
       "None"
      ]
     },
     "metadata": {},
     "output_type": "display_data"
    },
    {
     "name": "stdout",
     "output_type": "stream",
     "text": [
      "Явных дубликатов в данных: 413. Это 0.17% от всех значений.\n",
      "\n",
      "Уникальных значений в колонке EventName - 5\n",
      "Уникальных значений в колонке DeviceIDHash - 7551\n",
      "Уникальных значений в колонке EventTimestamp - 176654\n",
      "Уникальных значений в колонке ExpId - 3\n"
     ]
    }
   ],
   "source": [
    "# Функция для предварительного ознакомления с данными. \n",
    "\n",
    "def hello_data(data):\n",
    "    \n",
    "    ''' Выводит первые строки, \n",
    "                info, \n",
    "                уникальные значения\n",
    "                и пропуски, если они есть '''\n",
    "    \n",
    "    columns = data.columns \n",
    "    display(data.head(10))\n",
    "    display(data.info())\n",
    "    lost_values = data.duplicated().sum()\n",
    "   \n",
    "    print(\n",
    "        f'Явных дубликатов в данных: {lost_values}. Это {lost_values / len(data) * 100:.2f}% от всех значений.'\n",
    "         )\n",
    "    print()\n",
    "        \n",
    "    for column in columns: # для каждой колонки\n",
    "        try:\n",
    "            unique_value = (len(data[column].unique())) # считаем уникальные значения \n",
    "        except AssertionError:\n",
    "            pass\n",
    "        \n",
    "        if data[column].isna().sum() != 0: # если в колонке есть пропуски\n",
    "            print( f'Уникальных значений в колонке {column} - {unique_value}') #выводим количество уникальных значений\n",
    "            persent = (data[column].isna().sum() / len(data[column]) * 100) # считаем сколько это в процентах и округляем методом \"round\"\n",
    "            print('Пропущенных строк в колонке {} - {:.1f} %'.format(column, persent))\n",
    "            print(\"_\"*20)\n",
    "        else: print( f'Уникальных значений в колонке {column} - {unique_value}') # если пропусков не нашли, то выводим количество уникальных значений  \n",
    "     \n",
    "hello_data(logs)"
   ]
  },
  {
   "cell_type": "markdown",
   "metadata": {},
   "source": [
    "Данные разбиты на 4 колонки:\n",
    "\n",
    "- EventName — название события;\n",
    "- DeviceIDHash — уникальный идентификатор пользователя;\n",
    "- EventTimestamp — время события;\n",
    "- ExpId — номер эксперимента: 246 и 247 — контрольные группы, а 248 — экспериментальная.\n",
    "\n",
    "Каждая запись в логе — это действие пользователя, или событие.\n",
    "\n",
    "Данные выгрузлись корректно. Пропусков не обнаружено, но необходимо будет почистить явные дубликаты- их 413. Перед началом исследования переименуем название колонок на более удобные. На основе колонки \"DeviceIDHash\" создадим колонку с датами событий - \"date\" и колонку с датами и временем \"date_time\"."
   ]
  },
  {
   "cell_type": "code",
   "execution_count": 13,
   "metadata": {},
   "outputs": [
    {
     "name": "stdout",
     "output_type": "stream",
     "text": [
      "<class 'pandas.core.frame.DataFrame'>\n",
      "Int64Index: 243713 entries, 0 to 244125\n",
      "Data columns (total 6 columns):\n",
      " #   Column      Non-Null Count   Dtype         \n",
      "---  ------      --------------   -----         \n",
      " 0   event       243713 non-null  object        \n",
      " 1   user_id     243713 non-null  int64         \n",
      " 2   event_time  243713 non-null  int64         \n",
      " 3   group       243713 non-null  int64         \n",
      " 4   date_time   243713 non-null  datetime64[ns]\n",
      " 5   date        243713 non-null  datetime64[ns]\n",
      "dtypes: datetime64[ns](2), int64(3), object(1)\n",
      "memory usage: 13.0+ MB\n"
     ]
    },
    {
     "data": {
      "text/html": [
       "<div>\n",
       "<style scoped>\n",
       "    .dataframe tbody tr th:only-of-type {\n",
       "        vertical-align: middle;\n",
       "    }\n",
       "\n",
       "    .dataframe tbody tr th {\n",
       "        vertical-align: top;\n",
       "    }\n",
       "\n",
       "    .dataframe thead th {\n",
       "        text-align: right;\n",
       "    }\n",
       "</style>\n",
       "<table border=\"1\" class=\"dataframe\">\n",
       "  <thead>\n",
       "    <tr style=\"text-align: right;\">\n",
       "      <th></th>\n",
       "      <th>event</th>\n",
       "      <th>user_id</th>\n",
       "      <th>event_time</th>\n",
       "      <th>group</th>\n",
       "      <th>date_time</th>\n",
       "      <th>date</th>\n",
       "    </tr>\n",
       "  </thead>\n",
       "  <tbody>\n",
       "    <tr>\n",
       "      <th>0</th>\n",
       "      <td>MainScreenAppear</td>\n",
       "      <td>4575588528974610257</td>\n",
       "      <td>1564029816</td>\n",
       "      <td>246</td>\n",
       "      <td>2019-07-25 04:43:36</td>\n",
       "      <td>2019-07-25 04:43:36</td>\n",
       "    </tr>\n",
       "    <tr>\n",
       "      <th>1</th>\n",
       "      <td>MainScreenAppear</td>\n",
       "      <td>7416695313311560658</td>\n",
       "      <td>1564053102</td>\n",
       "      <td>246</td>\n",
       "      <td>2019-07-25 11:11:42</td>\n",
       "      <td>2019-07-25 11:11:42</td>\n",
       "    </tr>\n",
       "    <tr>\n",
       "      <th>2</th>\n",
       "      <td>PaymentScreenSuccessful</td>\n",
       "      <td>3518123091307005509</td>\n",
       "      <td>1564054127</td>\n",
       "      <td>248</td>\n",
       "      <td>2019-07-25 11:28:47</td>\n",
       "      <td>2019-07-25 11:28:47</td>\n",
       "    </tr>\n",
       "    <tr>\n",
       "      <th>3</th>\n",
       "      <td>CartScreenAppear</td>\n",
       "      <td>3518123091307005509</td>\n",
       "      <td>1564054127</td>\n",
       "      <td>248</td>\n",
       "      <td>2019-07-25 11:28:47</td>\n",
       "      <td>2019-07-25 11:28:47</td>\n",
       "    </tr>\n",
       "    <tr>\n",
       "      <th>4</th>\n",
       "      <td>PaymentScreenSuccessful</td>\n",
       "      <td>6217807653094995999</td>\n",
       "      <td>1564055322</td>\n",
       "      <td>248</td>\n",
       "      <td>2019-07-25 11:48:42</td>\n",
       "      <td>2019-07-25 11:48:42</td>\n",
       "    </tr>\n",
       "  </tbody>\n",
       "</table>\n",
       "</div>"
      ],
      "text/plain": [
       "                     event              user_id  event_time  group  \\\n",
       "0         MainScreenAppear  4575588528974610257  1564029816    246   \n",
       "1         MainScreenAppear  7416695313311560658  1564053102    246   \n",
       "2  PaymentScreenSuccessful  3518123091307005509  1564054127    248   \n",
       "3         CartScreenAppear  3518123091307005509  1564054127    248   \n",
       "4  PaymentScreenSuccessful  6217807653094995999  1564055322    248   \n",
       "\n",
       "            date_time                date  \n",
       "0 2019-07-25 04:43:36 2019-07-25 04:43:36  \n",
       "1 2019-07-25 11:11:42 2019-07-25 11:11:42  \n",
       "2 2019-07-25 11:28:47 2019-07-25 11:28:47  \n",
       "3 2019-07-25 11:28:47 2019-07-25 11:28:47  \n",
       "4 2019-07-25 11:48:42 2019-07-25 11:48:42  "
      ]
     },
     "execution_count": 13,
     "metadata": {},
     "output_type": "execute_result"
    }
   ],
   "source": [
    "#Изменяем названия столбцов:\n",
    "logs.columns = ['event', 'user_id', 'event_time', 'group']\n",
    "\n",
    "# убираем дубликаты\n",
    "logs = logs.drop_duplicates()\n",
    "\n",
    "# создаем колонки с датами и временем событий\n",
    "logs['date_time'] = pd.to_datetime(logs.event_time, unit = 's')\n",
    "logs['date'] = pd.to_datetime(logs['date_time'])\n",
    "\n",
    "# проверяем\n",
    "logs.info()\n",
    "logs.head()"
   ]
  },
  {
   "cell_type": "code",
   "execution_count": 14,
   "metadata": {},
   "outputs": [
    {
     "data": {
      "text/plain": [
       "'В группы 246 и 247 одновременно  попало - 0 пользователей'"
      ]
     },
     "metadata": {},
     "output_type": "display_data"
    },
    {
     "data": {
      "text/plain": [
       "'В группы 246 и 248 одновременно попало - 0 пользователей'"
      ]
     },
     "metadata": {},
     "output_type": "display_data"
    },
    {
     "data": {
      "text/plain": [
       "'В группы 247 и 248 одновременно попало - 0 пользователей'"
      ]
     },
     "metadata": {},
     "output_type": "display_data"
    }
   ],
   "source": [
    "# Проверим есть ли у нас пересечение пользователей между группами.\n",
    "# делаем срезы по группам\n",
    "group_a_1 = logs.query('group == \"246\"') \n",
    "group_a_2 = logs.query('group == \"247\"') \n",
    "group_b = logs.query('group == \"248\"') \n",
    "  \n",
    "# получаем пользователей, попавших в обе группы с помощью \"intersect1d\",\n",
    "# он возвращает отсортированные уникальные значения, которые находятся в обоих входных массивах.\n",
    "group_a1_and_a2 = list(np.intersect1d(group_a_1['user_id'], group_a_2['user_id']))\n",
    "display('В группы 246 и 247 одновременно  попало - {0} пользователей'.format(len(group_a1_and_a2)))\n",
    "\n",
    "group_a1_and_b = list(np.intersect1d(group_a_1['user_id'], group_b['user_id']))\n",
    "display('В группы 246 и 248 одновременно попало - {0} пользователей'.format(len(group_a1_and_b)))\n",
    "\n",
    "group_a2_and_b = list(np.intersect1d(group_a_2['user_id'], group_b['user_id']))\n",
    "display('В группы 247 и 248 одновременно попало - {0} пользователей'.format(len(group_a2_and_b)))"
   ]
  },
  {
   "cell_type": "markdown",
   "metadata": {},
   "source": [
    "### Вывод \n",
    "\n",
    "Данные загружены и проверены. Было удалено 413 явных дубликатов, переименованы колонки и созданы 2 новые \"date\" и \"date_time\" хранящие даты и время событий. Проверили также пересечения в группах теста, их нет. \n",
    "\n",
    "## Иссдедовательский анализ данных\n",
    "\n",
    "Изучим полученные данные. Посчитаем сколько всего событий и сколько всего пользователей в логе, сколько в среднем событий приходится на пользователя. Найдем данными за какой период мы располагаем. Построим гистограмму по дате и времени и ответим на вопрос можно ли быть уверенным, что у нас одинаково полные данные за весь период? Технически в логи новых дней по некоторым пользователям могут «доезжать» события из прошлого — это может «перекашивать данные»."
   ]
  },
  {
   "cell_type": "code",
   "execution_count": 15,
   "metadata": {},
   "outputs": [
    {
     "name": "stdout",
     "output_type": "stream",
     "text": [
      "Всего событий в логе: 243713\n",
      "Всего пользователей в логе: 7551\n",
      "В среднем событий на одного пользователя:32\n",
      "Дата начала событий 2019-07-25 04:43:36, Дата последнего события 2019-08-07 21:15:17\n"
     ]
    }
   ],
   "source": [
    "# считаем сколько событий и пользователей попало в эксперемент, и находим временные границы\n",
    "events = len(logs)\n",
    "users = logs['user_id'].nunique()\n",
    "\n",
    "print(f'Всего событий в логе: {events}')\n",
    "print(f'Всего пользователей в логе: {users}')\n",
    "print(f'В среднем событий на одного пользователя:{round(events/users)}')\n",
    "print('Дата начала событий {}, Дата последнего события {}'.format(logs['date'].min(), logs['date'].max()))"
   ]
  },
  {
   "cell_type": "code",
   "execution_count": 17,
   "metadata": {},
   "outputs": [
    {
     "data": {
      "text/plain": [
       "count    7551.000000\n",
       "mean       32.275593\n",
       "std        65.154219\n",
       "min         1.000000\n",
       "25%         9.000000\n",
       "50%        20.000000\n",
       "75%        37.000000\n",
       "max      2307.000000\n",
       "Name: event, dtype: float64"
      ]
     },
     "execution_count": 17,
     "metadata": {},
     "output_type": "execute_result"
    }
   ],
   "source": [
    "# сгруппируем пользователей по ID и посчитаем количество событий для каждого пользователя\n",
    "event_per_user = logs.groupby('user_id', as_index = False).agg({'event':'count'}).sort_values(by='user_id', ascending = False)\n",
    "event_per_user.columns = ['user_id', 'event']\n",
    "\n",
    "event_per_user['event'].describe()"
   ]
  },
  {
   "cell_type": "markdown",
   "metadata": {},
   "source": [
    "Да, в среднем на пользователя приходится 32 события, но применив метод describe, видим, что минимальное и максимальное количество действий, совершенных пользователями, от 1 до 2307. Здесь явно имеются аномальные значения, так как 75% пользователей совершают не боле 37 действий. При такой большой разнице стоит поискать границы аномалий. Построим точечную диаграмму, посчитаем перцентили."
   ]
  },
  {
   "cell_type": "code",
   "execution_count": 18,
   "metadata": {
    "scrolled": false
   },
   "outputs": [
    {
     "data": {
      "image/png": "[encoded data removed]",
      "text/plain": [
       "<Figure size 720x360 with 1 Axes>"
      ]
     },
     "metadata": {
      "needs_background": "light"
     },
     "output_type": "display_data"
    },
    {
     "data": {
      "text/html": [
       "<div>\n",
       "<style scoped>\n",
       "    .dataframe tbody tr th:only-of-type {\n",
       "        vertical-align: middle;\n",
       "    }\n",
       "\n",
       "    .dataframe tbody tr th {\n",
       "        vertical-align: top;\n",
       "    }\n",
       "\n",
       "    .dataframe thead th {\n",
       "        text-align: right;\n",
       "    }\n",
       "</style>\n",
       "<table border=\"1\" class=\"dataframe\">\n",
       "  <thead>\n",
       "    <tr style=\"text-align: right;\">\n",
       "      <th></th>\n",
       "      <th>user_id</th>\n",
       "      <th>event</th>\n",
       "    </tr>\n",
       "  </thead>\n",
       "  <tbody>\n",
       "    <tr>\n",
       "      <th>5116</th>\n",
       "      <td>6304868067479728361</td>\n",
       "      <td>2307</td>\n",
       "    </tr>\n",
       "    <tr>\n",
       "      <th>147</th>\n",
       "      <td>197027893265565660</td>\n",
       "      <td>1998</td>\n",
       "    </tr>\n",
       "    <tr>\n",
       "      <th>3714</th>\n",
       "      <td>4623191541214045580</td>\n",
       "      <td>1768</td>\n",
       "    </tr>\n",
       "    <tr>\n",
       "      <th>5590</th>\n",
       "      <td>6932517045703054087</td>\n",
       "      <td>1439</td>\n",
       "    </tr>\n",
       "    <tr>\n",
       "      <th>1391</th>\n",
       "      <td>1754140665440434215</td>\n",
       "      <td>1221</td>\n",
       "    </tr>\n",
       "    <tr>\n",
       "      <th>2641</th>\n",
       "      <td>3337471580007169353</td>\n",
       "      <td>1186</td>\n",
       "    </tr>\n",
       "    <tr>\n",
       "      <th>6294</th>\n",
       "      <td>7738058666231999878</td>\n",
       "      <td>888</td>\n",
       "    </tr>\n",
       "    <tr>\n",
       "      <th>822</th>\n",
       "      <td>1055544042902443290</td>\n",
       "      <td>854</td>\n",
       "    </tr>\n",
       "    <tr>\n",
       "      <th>3801</th>\n",
       "      <td>4713748699910253089</td>\n",
       "      <td>824</td>\n",
       "    </tr>\n",
       "    <tr>\n",
       "      <th>6617</th>\n",
       "      <td>8118046800480174342</td>\n",
       "      <td>755</td>\n",
       "    </tr>\n",
       "  </tbody>\n",
       "</table>\n",
       "</div>"
      ],
      "text/plain": [
       "                  user_id  event\n",
       "5116  6304868067479728361   2307\n",
       "147    197027893265565660   1998\n",
       "3714  4623191541214045580   1768\n",
       "5590  6932517045703054087   1439\n",
       "1391  1754140665440434215   1221\n",
       "2641  3337471580007169353   1186\n",
       "6294  7738058666231999878    888\n",
       "822   1055544042902443290    854\n",
       "3801  4713748699910253089    824\n",
       "6617  8118046800480174342    755"
      ]
     },
     "metadata": {},
     "output_type": "display_data"
    }
   ],
   "source": [
    "# строим график\n",
    "plt.figure(figsize=(10,5))\n",
    "x_values = pd.Series(range(0, len(event_per_user)))\n",
    "\n",
    "plt.scatter(x_values, event_per_user['event']) \n",
    "plt.title('Точечная диаграмма числа событий на одного пользователя')\n",
    "plt.show()\n",
    "display(event_per_user.sort_values(by='event', ascending = False)\\\n",
    "                      .head(10))"
   ]
  },
  {
   "cell_type": "markdown",
   "metadata": {},
   "source": [
    "Большинство точек находится ниже отметки 250 событий и  всего 6 пользователей совершили более 1000 событий. Посчитаем перцентили."
   ]
  },
  {
   "cell_type": "code",
   "execution_count": 19,
   "metadata": {},
   "outputs": [
    {
     "name": "stdout",
     "output_type": "stream",
     "text": [
      "1 % пользователей совершили: 1.0 событий      \n",
      "5 % пользователей совершили: 3.0 событий      \n",
      "95 % пользователей совершили: 89.0 событий      \n",
      "99 % пользователей совершили: 200.5 событий\n"
     ]
    }
   ],
   "source": [
    "percentiles = np.percentile(event_per_user['event'], [1, 5, 95, 99])\n",
    "print(f'1 % пользователей совершили: {percentiles[0]} событий\\\n",
    "      \\n5 % пользователей совершили: {percentiles[1]} событий\\\n",
    "      \\n95 % пользователей совершили: {percentiles[2]} событий\\\n",
    "      \\n99 % пользователей совершили: {percentiles[3]} событий')"
   ]
  },
  {
   "cell_type": "code",
   "execution_count": 20,
   "metadata": {},
   "outputs": [
    {
     "data": {
      "text/plain": [
       "count    7206.000000\n",
       "mean       28.990425\n",
       "std        27.831116\n",
       "min         3.000000\n",
       "25%        10.000000\n",
       "50%        20.000000\n",
       "75%        38.000000\n",
       "max       199.000000\n",
       "Name: event, dtype: float64"
      ]
     },
     "execution_count": 20,
     "metadata": {},
     "output_type": "execute_result"
    }
   ],
   "source": [
    "event_per_user.query('2< event < 201')['event'].describe()"
   ]
  },
  {
   "cell_type": "markdown",
   "metadata": {},
   "source": [
    "Да, 99% пользователей совершает не более 200 действий. В итоге нормальным считаем диапазон от 3 до 200 действий с медианой 20 действий.\n",
    "\n",
    "Теперь изучим временные рамки."
   ]
  },
  {
   "cell_type": "code",
   "execution_count": 21,
   "metadata": {},
   "outputs": [
    {
     "data": {
      "text/plain": [
       "Text(0, 0.5, 'Количество событий')"
      ]
     },
     "execution_count": 21,
     "metadata": {},
     "output_type": "execute_result"
    },
    {
     "data": {
      "image/png": "[encoded data removed]",
      "text/plain": [
       "<Figure size 720x360 with 1 Axes>"
      ]
     },
     "metadata": {
      "needs_background": "light"
     },
     "output_type": "display_data"
    }
   ],
   "source": [
    "# Строим гистограмму по времени событий в логах\n",
    "fig = plt.figure(figsize = (10, 5))\n",
    "logs['date_time'].hist(bins = 14, grid = True, color= 'violet', ec='black')\n",
    "plt.title('Распределение событий по времени', fontsize=20)\n",
    "plt.xlabel('Даты',fontsize=15)\n",
    "plt.xticks(rotation=45)\n",
    "plt.ylabel('Количество событий',fontsize=15)"
   ]
  },
  {
   "cell_type": "markdown",
   "metadata": {},
   "source": [
    "Хорошо видно,что до 1 августа количество событий незначительно. Полные данные есть только с 1 по 7 августа. Дальше будем работать только с полными данными."
   ]
  },
  {
   "cell_type": "code",
   "execution_count": 22,
   "metadata": {},
   "outputs": [],
   "source": [
    "# делаем срез с 1 августа\n",
    "compleete_logs = logs.query('date >= \"2019-08-01\"')"
   ]
  },
  {
   "cell_type": "markdown",
   "metadata": {},
   "source": [
    "Проверим много ли событий и пользователей потеряли, отбросив старые данные. И убедимся что пользователи из всех трёх экспериментальных групп на месте."
   ]
  },
  {
   "cell_type": "code",
   "execution_count": 23,
   "metadata": {},
   "outputs": [
    {
     "name": "stdout",
     "output_type": "stream",
     "text": [
      "Всего событий в логе: 243713, убрали 2826 событий или 1.2%\n",
      "Всего пользоватедей в логе: 7551, убрали 17 пользователей или 0.2%\n",
      "\n",
      "\n",
      "Всего пользоватедей в каждой группе:\n"
     ]
    },
    {
     "data": {
      "text/html": [
       "<div>\n",
       "<style scoped>\n",
       "    .dataframe tbody tr th:only-of-type {\n",
       "        vertical-align: middle;\n",
       "    }\n",
       "\n",
       "    .dataframe tbody tr th {\n",
       "        vertical-align: top;\n",
       "    }\n",
       "\n",
       "    .dataframe thead tr th {\n",
       "        text-align: left;\n",
       "    }\n",
       "</style>\n",
       "<table border=\"1\" class=\"dataframe\">\n",
       "  <thead>\n",
       "    <tr>\n",
       "      <th></th>\n",
       "      <th>group</th>\n",
       "      <th colspan=\"2\" halign=\"left\">user_id</th>\n",
       "    </tr>\n",
       "    <tr>\n",
       "      <th></th>\n",
       "      <th></th>\n",
       "      <th>count</th>\n",
       "      <th>nunique</th>\n",
       "    </tr>\n",
       "  </thead>\n",
       "  <tbody>\n",
       "    <tr>\n",
       "      <th>0</th>\n",
       "      <td>246</td>\n",
       "      <td>79302</td>\n",
       "      <td>2484</td>\n",
       "    </tr>\n",
       "    <tr>\n",
       "      <th>1</th>\n",
       "      <td>247</td>\n",
       "      <td>77022</td>\n",
       "      <td>2513</td>\n",
       "    </tr>\n",
       "    <tr>\n",
       "      <th>2</th>\n",
       "      <td>248</td>\n",
       "      <td>84563</td>\n",
       "      <td>2537</td>\n",
       "    </tr>\n",
       "  </tbody>\n",
       "</table>\n",
       "</div>"
      ],
      "text/plain": [
       "  group user_id        \n",
       "          count nunique\n",
       "0   246   79302    2484\n",
       "1   247   77022    2513\n",
       "2   248   84563    2537"
      ]
     },
     "execution_count": 23,
     "metadata": {},
     "output_type": "execute_result"
    }
   ],
   "source": [
    "event_del = logs['event'].count() - compleete_logs['event'].count()\n",
    "event_del_persent = event_del/events\n",
    "\n",
    "users_del = logs['user_id'].nunique() - compleete_logs['user_id'].nunique()\n",
    "users_del_persent = users_del/users \n",
    "\n",
    "print(f\"Всего событий в логе: {events}, убрали {event_del} событий или {event_del_persent:.1%}\")\n",
    "print(f\"Всего пользоватедей в логе: {users}, убрали {users_del} пользователей или {users_del_persent:.1%}\")\n",
    "\n",
    "print()\n",
    "print()\n",
    "print('Всего пользоватедей в каждой группе:')\n",
    "compleete_group = compleete_logs.groupby('group')\\\n",
    "              .agg({'user_id': ['count', 'nunique']})\\\n",
    "              .reset_index()\n",
    "compleete_group"
   ]
  },
  {
   "cell_type": "markdown",
   "metadata": {},
   "source": [
    "### Вывод \n",
    "\n",
    "В полученных данных хранится информация более чем о 243 тысячах событий, совершенных 7551 пользователем в период с 25 июля по 1 августа 2019 года. В среднем на каждого пользователя пришлось 32 события, но ориентироваться здесь стоит на медиану - 20 событий. Большинство пользователей совершало от 3 до 200 действий.  Построив гистограмму по времени обнаружили, что до 1 августа данные не полные и могут искажать результаты A/B теста. Для дальнейшего анализа была сделана выборка данных за период с 1 по 7 августа, при этом в выборку не вошли 2826 событий(1%) и 17 пользователей(0,2%). Все 3 группы A/A/B теста  на месте и имеют сопоставимые значения.\n",
    "\n",
    "\n",
    "## Исследование воронки продаж\n",
    "\n",
    "Для создания воронки нужно знать, сколько людей добрались до каждого этапа вплоть до совершения покупки. \n",
    "Для этого:\n",
    "- Определим, какие события есть в логах, как часто они встречаются. \n",
    "- Посчитаем, сколько пользователей совершали каждое из этих событий. Отсортируем события по числу пользователей. \n",
    "- Посчитаем долю пользователей, которые хоть раз совершали событие. Подумаем, в каком порядке происходят события. Все ли они выстраиваются в последовательную цепочку? \n",
    "\n",
    "По уже готовой воронке событий посчитаем, какая доля пользователей проходит на следующий шаг воронки (от числа пользователей на предыдущем). Определим, на каком шаге теряется больше всего пользователей и какая доля пользователей доходит от первого события до оплаты?"
   ]
  },
  {
   "cell_type": "code",
   "execution_count": 24,
   "metadata": {},
   "outputs": [
    {
     "data": {
      "text/html": [
       "<div>\n",
       "<style scoped>\n",
       "    .dataframe tbody tr th:only-of-type {\n",
       "        vertical-align: middle;\n",
       "    }\n",
       "\n",
       "    .dataframe tbody tr th {\n",
       "        vertical-align: top;\n",
       "    }\n",
       "\n",
       "    .dataframe thead th {\n",
       "        text-align: right;\n",
       "    }\n",
       "</style>\n",
       "<table border=\"1\" class=\"dataframe\">\n",
       "  <thead>\n",
       "    <tr style=\"text-align: right;\">\n",
       "      <th></th>\n",
       "      <th>event</th>\n",
       "    </tr>\n",
       "  </thead>\n",
       "  <tbody>\n",
       "    <tr>\n",
       "      <th>MainScreenAppear</th>\n",
       "      <td>117328</td>\n",
       "    </tr>\n",
       "    <tr>\n",
       "      <th>OffersScreenAppear</th>\n",
       "      <td>46333</td>\n",
       "    </tr>\n",
       "    <tr>\n",
       "      <th>CartScreenAppear</th>\n",
       "      <td>42303</td>\n",
       "    </tr>\n",
       "    <tr>\n",
       "      <th>PaymentScreenSuccessful</th>\n",
       "      <td>33918</td>\n",
       "    </tr>\n",
       "    <tr>\n",
       "      <th>Tutorial</th>\n",
       "      <td>1005</td>\n",
       "    </tr>\n",
       "  </tbody>\n",
       "</table>\n",
       "</div>"
      ],
      "text/plain": [
       "                          event\n",
       "MainScreenAppear         117328\n",
       "OffersScreenAppear        46333\n",
       "CartScreenAppear          42303\n",
       "PaymentScreenSuccessful   33918\n",
       "Tutorial                   1005"
      ]
     },
     "execution_count": 24,
     "metadata": {},
     "output_type": "execute_result"
    }
   ],
   "source": [
    "# считаем количество каждого события\n",
    "events_count = compleete_logs['event'].value_counts().to_frame()\n",
    "events_count"
   ]
  },
  {
   "cell_type": "code",
   "execution_count": 25,
   "metadata": {},
   "outputs": [
    {
     "data": {
      "text/html": [
       "<div>\n",
       "<style scoped>\n",
       "    .dataframe tbody tr th:only-of-type {\n",
       "        vertical-align: middle;\n",
       "    }\n",
       "\n",
       "    .dataframe tbody tr th {\n",
       "        vertical-align: top;\n",
       "    }\n",
       "\n",
       "    .dataframe thead th {\n",
       "        text-align: right;\n",
       "    }\n",
       "</style>\n",
       "<table border=\"1\" class=\"dataframe\">\n",
       "  <thead>\n",
       "    <tr style=\"text-align: right;\">\n",
       "      <th></th>\n",
       "      <th>event</th>\n",
       "      <th>count_users</th>\n",
       "    </tr>\n",
       "  </thead>\n",
       "  <tbody>\n",
       "    <tr>\n",
       "      <th>0</th>\n",
       "      <td>MainScreenAppear</td>\n",
       "      <td>7419</td>\n",
       "    </tr>\n",
       "    <tr>\n",
       "      <th>1</th>\n",
       "      <td>OffersScreenAppear</td>\n",
       "      <td>4593</td>\n",
       "    </tr>\n",
       "    <tr>\n",
       "      <th>2</th>\n",
       "      <td>CartScreenAppear</td>\n",
       "      <td>3734</td>\n",
       "    </tr>\n",
       "    <tr>\n",
       "      <th>3</th>\n",
       "      <td>PaymentScreenSuccessful</td>\n",
       "      <td>3539</td>\n",
       "    </tr>\n",
       "    <tr>\n",
       "      <th>4</th>\n",
       "      <td>Tutorial</td>\n",
       "      <td>840</td>\n",
       "    </tr>\n",
       "  </tbody>\n",
       "</table>\n",
       "</div>"
      ],
      "text/plain": [
       "                     event  count_users\n",
       "0         MainScreenAppear         7419\n",
       "1       OffersScreenAppear         4593\n",
       "2         CartScreenAppear         3734\n",
       "3  PaymentScreenSuccessful         3539\n",
       "4                 Tutorial          840"
      ]
     },
     "execution_count": 25,
     "metadata": {},
     "output_type": "execute_result"
    }
   ],
   "source": [
    "#Считаем, сколько пользователей совершали каждое из этих событий\n",
    "events_per_users = compleete_logs.groupby('event')['user_id']\\\n",
    "                                 .nunique().sort_values(ascending=False)\\\n",
    "                                 .to_frame()\\\n",
    "                                 .reset_index()\n",
    "events_per_users = events_per_users.rename(columns={'user_id': 'count_users'})        \n",
    "events_per_users"
   ]
  },
  {
   "cell_type": "code",
   "execution_count": 26,
   "metadata": {},
   "outputs": [
    {
     "data": {
      "text/html": [
       "<div>\n",
       "<style scoped>\n",
       "    .dataframe tbody tr th:only-of-type {\n",
       "        vertical-align: middle;\n",
       "    }\n",
       "\n",
       "    .dataframe tbody tr th {\n",
       "        vertical-align: top;\n",
       "    }\n",
       "\n",
       "    .dataframe thead th {\n",
       "        text-align: right;\n",
       "    }\n",
       "</style>\n",
       "<table border=\"1\" class=\"dataframe\">\n",
       "  <thead>\n",
       "    <tr style=\"text-align: right;\">\n",
       "      <th></th>\n",
       "      <th>event</th>\n",
       "      <th>count_users</th>\n",
       "      <th>ratio</th>\n",
       "    </tr>\n",
       "  </thead>\n",
       "  <tbody>\n",
       "    <tr>\n",
       "      <th>0</th>\n",
       "      <td>MainScreenAppear</td>\n",
       "      <td>7419</td>\n",
       "      <td>98.0%</td>\n",
       "    </tr>\n",
       "    <tr>\n",
       "      <th>1</th>\n",
       "      <td>OffersScreenAppear</td>\n",
       "      <td>4593</td>\n",
       "      <td>61.0%</td>\n",
       "    </tr>\n",
       "    <tr>\n",
       "      <th>2</th>\n",
       "      <td>CartScreenAppear</td>\n",
       "      <td>3734</td>\n",
       "      <td>50.0%</td>\n",
       "    </tr>\n",
       "    <tr>\n",
       "      <th>3</th>\n",
       "      <td>PaymentScreenSuccessful</td>\n",
       "      <td>3539</td>\n",
       "      <td>47.0%</td>\n",
       "    </tr>\n",
       "    <tr>\n",
       "      <th>4</th>\n",
       "      <td>Tutorial</td>\n",
       "      <td>840</td>\n",
       "      <td>11.0%</td>\n",
       "    </tr>\n",
       "  </tbody>\n",
       "</table>\n",
       "</div>"
      ],
      "text/plain": [
       "                     event  count_users  ratio\n",
       "0         MainScreenAppear         7419  98.0%\n",
       "1       OffersScreenAppear         4593  61.0%\n",
       "2         CartScreenAppear         3734  50.0%\n",
       "3  PaymentScreenSuccessful         3539  47.0%\n",
       "4                 Tutorial          840  11.0%"
      ]
     },
     "execution_count": 26,
     "metadata": {},
     "output_type": "execute_result"
    }
   ],
   "source": [
    "#Посчитаем и добавим долю пользователей, которые хоть раз совершали событие\n",
    "events_per_users['ratio'] = round(\n",
    "    events_per_users ['count_users']/ compleete_logs['user_id']\\\n",
    "    .nunique(), 2)\\\n",
    "    .apply(lambda x: f\"{x:1.1%}\")\n",
    "\n",
    "events_per_users"
   ]
  },
  {
   "cell_type": "markdown",
   "metadata": {},
   "source": [
    "В нашем логе 5 событий:\n",
    "\n",
    "- MainScreenAppear - появление главного экрана;\n",
    "- OffersScreenAppear - появление экрана предложений с товаром;\n",
    "- CartScreenAppear - экран корзины;\n",
    "- PaymentScreenSuccessful - экран успешной оплаты заказа.\n",
    "- Tutorial - появление экрана обучения\n",
    "\n",
    "Судя по количеству пользователей, совершавших каждое из этих действий, цепочка событий последовательная. Пользователи открывают приложение(появляется главный экран), переходят в каталог, затем переходят в корзину и  после оформления заказа видят экран успешной оплаты. Исключение составляет Tutorial, он не входит в цепочку - его открыло только 11% полбзователей. Вроде бы хороший знак, это может означать, что приложение интуитивно понятно пользователю. Впрочем, смущает количество переходов с главной страницы (98,5% пользователей) на страницу предложений товара (61%). больше трети клиентов теряется уже на этом этапе. Стоит проверить на технические проблемы работу приложения. Возможно долго загружается или не для всех устройств адекватно отображается экран предложений товаров.\n",
    "\n",
    "Так как Tutorial не входит в цепочку событий, его можно убрать из воронки."
   ]
  },
  {
   "cell_type": "code",
   "execution_count": 27,
   "metadata": {},
   "outputs": [
    {
     "data": {
      "text/html": [
       "<div>\n",
       "<style scoped>\n",
       "    .dataframe tbody tr th:only-of-type {\n",
       "        vertical-align: middle;\n",
       "    }\n",
       "\n",
       "    .dataframe tbody tr th {\n",
       "        vertical-align: top;\n",
       "    }\n",
       "\n",
       "    .dataframe thead th {\n",
       "        text-align: right;\n",
       "    }\n",
       "</style>\n",
       "<table border=\"1\" class=\"dataframe\">\n",
       "  <thead>\n",
       "    <tr style=\"text-align: right;\">\n",
       "      <th></th>\n",
       "      <th>event</th>\n",
       "      <th>count_users</th>\n",
       "      <th>ratio</th>\n",
       "    </tr>\n",
       "  </thead>\n",
       "  <tbody>\n",
       "    <tr>\n",
       "      <th>0</th>\n",
       "      <td>MainScreenAppear</td>\n",
       "      <td>7419</td>\n",
       "      <td>98.0%</td>\n",
       "    </tr>\n",
       "    <tr>\n",
       "      <th>1</th>\n",
       "      <td>OffersScreenAppear</td>\n",
       "      <td>4593</td>\n",
       "      <td>61.0%</td>\n",
       "    </tr>\n",
       "    <tr>\n",
       "      <th>2</th>\n",
       "      <td>CartScreenAppear</td>\n",
       "      <td>3734</td>\n",
       "      <td>50.0%</td>\n",
       "    </tr>\n",
       "    <tr>\n",
       "      <th>3</th>\n",
       "      <td>PaymentScreenSuccessful</td>\n",
       "      <td>3539</td>\n",
       "      <td>47.0%</td>\n",
       "    </tr>\n",
       "  </tbody>\n",
       "</table>\n",
       "</div>"
      ],
      "text/plain": [
       "                     event  count_users  ratio\n",
       "0         MainScreenAppear         7419  98.0%\n",
       "1       OffersScreenAppear         4593  61.0%\n",
       "2         CartScreenAppear         3734  50.0%\n",
       "3  PaymentScreenSuccessful         3539  47.0%"
      ]
     },
     "execution_count": 27,
     "metadata": {},
     "output_type": "execute_result"
    }
   ],
   "source": [
    "# оставляем 4 события в воронке и запишем в переменную\n",
    "funnel = events_per_users[events_per_users['event'] != 'Tutorial'].copy()\n",
    "funnel"
   ]
  },
  {
   "cell_type": "markdown",
   "metadata": {},
   "source": [
    "Теперь по воронке событий посчитаем, какая доля пользователей проходит на следующий шаг воронки (от числа пользователей на предыдущем)."
   ]
  },
  {
   "cell_type": "code",
   "execution_count": 28,
   "metadata": {},
   "outputs": [
    {
     "data": {
      "text/html": [
       "<div>\n",
       "<style scoped>\n",
       "    .dataframe tbody tr th:only-of-type {\n",
       "        vertical-align: middle;\n",
       "    }\n",
       "\n",
       "    .dataframe tbody tr th {\n",
       "        vertical-align: top;\n",
       "    }\n",
       "\n",
       "    .dataframe thead th {\n",
       "        text-align: right;\n",
       "    }\n",
       "</style>\n",
       "<table border=\"1\" class=\"dataframe\">\n",
       "  <thead>\n",
       "    <tr style=\"text-align: right;\">\n",
       "      <th></th>\n",
       "      <th>event</th>\n",
       "      <th>count_users</th>\n",
       "      <th>ratio</th>\n",
       "      <th>convertion_in_step</th>\n",
       "    </tr>\n",
       "  </thead>\n",
       "  <tbody>\n",
       "    <tr>\n",
       "      <th>0</th>\n",
       "      <td>MainScreenAppear</td>\n",
       "      <td>7419</td>\n",
       "      <td>98.0%</td>\n",
       "      <td>100.0%</td>\n",
       "    </tr>\n",
       "    <tr>\n",
       "      <th>1</th>\n",
       "      <td>OffersScreenAppear</td>\n",
       "      <td>4593</td>\n",
       "      <td>61.0%</td>\n",
       "      <td>62.0%</td>\n",
       "    </tr>\n",
       "    <tr>\n",
       "      <th>2</th>\n",
       "      <td>CartScreenAppear</td>\n",
       "      <td>3734</td>\n",
       "      <td>50.0%</td>\n",
       "      <td>81.0%</td>\n",
       "    </tr>\n",
       "    <tr>\n",
       "      <th>3</th>\n",
       "      <td>PaymentScreenSuccessful</td>\n",
       "      <td>3539</td>\n",
       "      <td>47.0%</td>\n",
       "      <td>95.0%</td>\n",
       "    </tr>\n",
       "  </tbody>\n",
       "</table>\n",
       "</div>"
      ],
      "text/plain": [
       "                     event  count_users  ratio convertion_in_step\n",
       "0         MainScreenAppear         7419  98.0%             100.0%\n",
       "1       OffersScreenAppear         4593  61.0%              62.0%\n",
       "2         CartScreenAppear         3734  50.0%              81.0%\n",
       "3  PaymentScreenSuccessful         3539  47.0%              95.0%"
      ]
     },
     "execution_count": 28,
     "metadata": {},
     "output_type": "execute_result"
    }
   ],
   "source": [
    "funnel['convertion_in_step'] = (round(funnel['count_users']/funnel['count_users']\\\n",
    "                               .shift(fill_value = funnel.loc[0,'count_users']),2))\\\n",
    "                               .apply(lambda x: f\"{x:1.1%}\")\n",
    "funnel"
   ]
  },
  {
   "cell_type": "code",
   "execution_count": 29,
   "metadata": {
    "scrolled": false
   },
   "outputs": [
    {
     "data": {
      "image/svg+xml": [
       "<svg class=\"main-svg\" xmlns=\"http://www.w3.org/2000/svg\" xmlns:xlink=\"http://www.w3.org/1999/xlink\" width=\"700\" height=\"500\" style=\"\" viewBox=\"0 0 700 500\"><rect x=\"0\" y=\"0\" width=\"700\" height=\"500\" style=\"fill: rgb(255, 255, 255); fill-opacity: 1;\"/><defs id=\"defs-074588\"><g class=\"clips\"><clipPath id=\"clip074588xyplot\" class=\"plotclip\"><rect width=\"450\" height=\"320\"/></clipPath><clipPath class=\"axesclip\" id=\"clip074588x\"><rect x=\"170\" y=\"0\" width=\"450\" height=\"500\"/></clipPath><clipPath class=\"axesclip\" id=\"clip074588y\"><rect x=\"0\" y=\"100\" width=\"700\" height=\"320\"/></clipPath><clipPath class=\"axesclip\" id=\"clip074588xy\"><rect x=\"170\" y=\"100\" width=\"450\" height=\"320\"/></clipPath></g><g class=\"gradients\"/><g class=\"patterns\"/></defs><g class=\"bglayer\"><rect class=\"bg\" x=\"170\" y=\"100\" width=\"450\" height=\"320\" style=\"fill: rgb(229, 236, 246); fill-opacity: 1; stroke-width: 0;\"/></g><g class=\"layer-below\"><g class=\"imagelayer\"/><g class=\"shapelayer\"/></g><g class=\"cartesianlayer\"><g class=\"subplot xy\"><g class=\"layer-subplot\"><g class=\"shapelayer\"/><g class=\"imagelayer\"/></g><g class=\"gridlayer\"><g class=\"x\"/><g class=\"y\"/></g><g class=\"zerolinelayer\"/><path class=\"xlines-below\"/><path class=\"ylines-below\"/><g class=\"overlines-below\"/><g class=\"xaxislayer-below\"/><g class=\"yaxislayer-below\"/><g class=\"overaxes-below\"/><g class=\"plot\" transform=\"translate(170,100)\" clip-path=\"url(#clip074588xyplot)\"><g class=\"funnellayer mlayer\"><g class=\"trace bars\" style=\"opacity: 1;\"><g class=\"regions\"><g class=\"region\"><path d=\"M22.5,72L99.64,88H350.36L427.5,72Z\" style=\"stroke-width: 0; fill: rgb(99, 110, 250); fill-opacity: 0.5;\"/></g><g class=\"region\"><path d=\"M99.64,152L123.08,168H326.92L350.36,152Z\" style=\"stroke-width: 0; fill: rgb(99, 110, 250); fill-opacity: 0.5;\"/></g><g class=\"region\"><path d=\"M123.08,232L128.4,248H321.6L326.92,232Z\" style=\"stroke-width: 0; fill: rgb(99, 110, 250); fill-opacity: 0.5;\"/></g><g class=\"region\"><path d=\"M0,0Z\" style=\"stroke-width: 0; fill: rgb(99, 110, 250); fill-opacity: 0.5;\"/></g></g><g class=\"points\"><g class=\"point\"><path d=\"M22.5,8V72H427.5V8Z\" style=\"vector-effect: non-scaling-stroke; fill: rgb(99, 110, 250); fill-opacity: 1; stroke: rgb(68, 68, 68); stroke-opacity: 1; stroke-width: 0px; opacity: 1;\"/><text class=\"bartext bartext-inside\" text-anchor=\"middle\" data-notex=\"1\" x=\"0\" y=\"0\" style=\"font-family: 'Open Sans', verdana, arial, sans-serif; font-size: 12px; fill: rgb(255, 255, 255); fill-opacity: 1; white-space: pre;\" transform=\"translate(224.625,28.8984375)\"><tspan class=\"line\" dy=\"0em\" x=\"0\" y=\"0\">7419</tspan><tspan class=\"line\" dy=\"1.3em\" x=\"0\" y=\"0\">100% of initial</tspan><tspan class=\"line\" dy=\"2.6em\" x=\"0\" y=\"0\">100% of previous</tspan></text></g><g class=\"point\"><path d=\"M99.64,88V152H350.36V88Z\" style=\"vector-effect: non-scaling-stroke; fill: rgb(99, 110, 250); fill-opacity: 1; stroke: rgb(68, 68, 68); stroke-opacity: 1; stroke-width: 0px; opacity: 1;\"/><text class=\"bartext bartext-inside\" text-anchor=\"middle\" data-notex=\"1\" x=\"0\" y=\"0\" style=\"font-family: 'Open Sans', verdana, arial, sans-serif; font-size: 12px; fill: rgb(255, 255, 255); fill-opacity: 1; white-space: pre;\" transform=\"translate(224.625,108.8984375)\"><tspan class=\"line\" dy=\"0em\" x=\"0\" y=\"0\">4593</tspan><tspan class=\"line\" dy=\"1.3em\" x=\"0\" y=\"0\">62% of initial</tspan><tspan class=\"line\" dy=\"2.6em\" x=\"0\" y=\"0\">62% of previous</tspan></text></g><g class=\"point\"><path d=\"M123.08,168V232H326.92V168Z\" style=\"vector-effect: non-scaling-stroke; fill: rgb(99, 110, 250); fill-opacity: 1; stroke: rgb(68, 68, 68); stroke-opacity: 1; stroke-width: 0px; opacity: 1;\"/><text class=\"bartext bartext-inside\" text-anchor=\"middle\" data-notex=\"1\" x=\"0\" y=\"0\" style=\"font-family: 'Open Sans', verdana, arial, sans-serif; font-size: 12px; fill: rgb(255, 255, 255); fill-opacity: 1; white-space: pre;\" transform=\"translate(224.625,188.8984375)\"><tspan class=\"line\" dy=\"0em\" x=\"0\" y=\"0\">3734</tspan><tspan class=\"line\" dy=\"1.3em\" x=\"0\" y=\"0\">50% of initial</tspan><tspan class=\"line\" dy=\"2.6em\" x=\"0\" y=\"0\">81% of previous</tspan></text></g><g class=\"point\"><path d=\"M128.4,248V312H321.6V248Z\" style=\"vector-effect: non-scaling-stroke; fill: rgb(99, 110, 250); fill-opacity: 1; stroke: rgb(68, 68, 68); stroke-opacity: 1; stroke-width: 0px; opacity: 1;\"/><text class=\"bartext bartext-inside\" text-anchor=\"middle\" data-notex=\"1\" x=\"0\" y=\"0\" style=\"font-family: 'Open Sans', verdana, arial, sans-serif; font-size: 12px; fill: rgb(255, 255, 255); fill-opacity: 1; white-space: pre;\" transform=\"translate(224.625,268.8984375)\"><tspan class=\"line\" dy=\"0em\" x=\"0\" y=\"0\">3539</tspan><tspan class=\"line\" dy=\"1.3em\" x=\"0\" y=\"0\">48% of initial</tspan><tspan class=\"line\" dy=\"2.6em\" x=\"0\" y=\"0\">95% of previous</tspan></text></g></g></g></g></g><g class=\"overplot\"/><path class=\"xlines-above crisp\" d=\"M0,0\" style=\"fill: none;\"/><path class=\"ylines-above crisp\" d=\"M0,0\" style=\"fill: none;\"/><g class=\"overlines-above\"/><g class=\"xaxislayer-above\"/><g class=\"yaxislayer-above\"><g class=\"ytick\"><text text-anchor=\"end\" x=\"169\" y=\"4.199999999999999\" transform=\"translate(0,380)\" style=\"font-family: 'Open Sans', verdana, arial, sans-serif; font-size: 12px; fill: rgb(42, 63, 95); fill-opacity: 1; white-space: pre; opacity: 1;\">PaymentScreenSuccessful</text></g><g class=\"ytick\"><text text-anchor=\"end\" x=\"169\" y=\"4.199999999999999\" transform=\"translate(0,300)\" style=\"font-family: 'Open Sans', verdana, arial, sans-serif; font-size: 12px; fill: rgb(42, 63, 95); fill-opacity: 1; white-space: pre; opacity: 1;\">CartScreenAppear</text></g><g class=\"ytick\"><text text-anchor=\"end\" x=\"169\" y=\"4.199999999999999\" transform=\"translate(0,220)\" style=\"font-family: 'Open Sans', verdana, arial, sans-serif; font-size: 12px; fill: rgb(42, 63, 95); fill-opacity: 1; white-space: pre; opacity: 1;\">OffersScreenAppear</text></g><g class=\"ytick\"><text text-anchor=\"end\" x=\"169\" y=\"4.199999999999999\" transform=\"translate(0,140)\" style=\"font-family: 'Open Sans', verdana, arial, sans-serif; font-size: 12px; fill: rgb(42, 63, 95); fill-opacity: 1; white-space: pre; opacity: 1;\">MainScreenAppear</text></g></g><g class=\"overaxes-above\"/></g></g><g class=\"polarlayer\"/><g class=\"smithlayer\"/><g class=\"ternarylayer\"/><g class=\"geolayer\"/><g class=\"funnelarealayer\"/><g class=\"pielayer\"/><g class=\"iciclelayer\"/><g class=\"treemaplayer\"/><g class=\"sunburstlayer\"/><g class=\"glimages\"/><defs id=\"topdefs-074588\"><g class=\"clips\"/></defs><g class=\"layer-above\"><g class=\"imagelayer\"/><g class=\"shapelayer\"/></g><g class=\"infolayer\"><g class=\"g-gtitle\"><text class=\"gtitle\" x=\"35\" y=\"50\" text-anchor=\"start\" dy=\"0em\" style=\"font-family: 'Open Sans', verdana, arial, sans-serif; font-size: 17px; fill: rgb(42, 63, 95); opacity: 1; font-weight: normal; white-space: pre;\">Воронка продаж</text></g><g class=\"g-ytitle\"/></g></svg>"
      ]
     },
     "metadata": {},
     "output_type": "display_data"
    }
   ],
   "source": [
    "fig = go.Figure()\n",
    "fig = go.Figure(go.Funnel(\n",
    "    y = funnel['event'],\n",
    "    x = funnel['count_users'],\n",
    "    textinfo = \"value+percent initial+percent previous\"))\n",
    "fig.update_layout(\n",
    "    title={\n",
    "        'text': \"Воронка продаж\",\n",
    "        })\n",
    "fig.show(renderer=\"svg\")"
   ]
  },
  {
   "cell_type": "code",
   "execution_count": 30,
   "metadata": {},
   "outputs": [
    {
     "data": {
      "text/plain": [
       "'47.70% пользователей доходит от первого события до оплаты'"
      ]
     },
     "metadata": {},
     "output_type": "display_data"
    }
   ],
   "source": [
    "display('{:.2%} пользователей доходит от первого события до оплаты'.format(funnel['count_users'][3]/funnel['count_users'][0]))"
   ]
  },
  {
   "cell_type": "markdown",
   "metadata": {},
   "source": [
    "### Вывод\n",
    "\n",
    "В воронке у на сесть цепочка из 4 последовательных событий: от открытия приложения до информационной страницы об успешной оплате. Есть пятое, необязательное,- обучающая страница. Ею воспользовалось только 11% пользователей, что может говорить о хорошо разработанном приложении, которое интуитивно понятно пользователю.\n",
    "\n",
    "Что касается самой воронки, мы нашли, что большинство пользователей отваливается при переходе на страницу с каталогом товаров- на нее переходит только 62% пользователей. Это может означать технические проблемы. Приложение может долго подгружать каталог с товарами или некорректно отображаться на некоторых устройствах. \n",
    "\n",
    "При подсчетах конверсии в шаг нашли, что из каталога в корзину добирается больше 80% пользоваелей. Это хороший показатель, но есть еще куда стремиться. Факторов почему 20% не дошли до корзины множество и эта задача отдельного исследования. А вот информационную страницу об успешности оплаты увидело только 95 процентов пользователей, перешедших в корзину. Не закончили оплату заказа 5% пользователей. Здесь вариантов, почему так случилось, всего 2: либо клиент увидел счет и отказался от покупки, либо есть технические проблемы с оплатой. Стоит поискать техничекие проблемы и здесь.\n",
    "\n",
    "Через всю воронку от входа в приложение до совершения заказа дошло только 47,7% пользователей. \n"
   ]
  },
  {
   "cell_type": "markdown",
   "metadata": {},
   "source": [
    "\n",
    "## Анализ результатов A/A/B теста\n",
    "\n",
    "### A/A тест\n",
    "\n",
    "В датасете имеются 2 контрольные группы для А/А-эксперимента, 246 и 247. Они нужны чтобы проверить корректность всех механизмов и расчётов. \n",
    "\n",
    "Критерии успешного A/A-теста:\n",
    "\n",
    "- Для всех групп фиксируют и отправляют в системы аналитики данные об одном и том же;\n",
    "- Различие ключевых метрик по группам не превышает 1% и не имеет статистической значимости;\n",
    "- Попавший в одну из групп посетитель остаётся в этой группе до конца теста. Если пользователь видит разные версии исследуемой страницы в ходе одного исследования, неизвестно, какая именно повлияла на его решения. Значит, и результаты такого теста нельзя интерпретировать однозначно.\n",
    "\n",
    "Пересечение групп мы проверили ранее и не нашли. Система аналитики корректно собирает данные т.к. ошибок, пропусков и лишних названий событий в ходе исследовательского анализа мы не обнаружили.  Осталось проверить статистическую значимость в различии ключевых метрик. В нашем случае -это конверсия в покупку \"PaymentScreenSuccessful\". Соберем группы в сводную таблицу, найдем количество пользователей в каждой группе и напишем функцию для проверки статистики."
   ]
  },
  {
   "cell_type": "code",
   "execution_count": 31,
   "metadata": {},
   "outputs": [
    {
     "data": {
      "text/html": [
       "<div>\n",
       "<style scoped>\n",
       "    .dataframe tbody tr th:only-of-type {\n",
       "        vertical-align: middle;\n",
       "    }\n",
       "\n",
       "    .dataframe tbody tr th {\n",
       "        vertical-align: top;\n",
       "    }\n",
       "\n",
       "    .dataframe thead th {\n",
       "        text-align: right;\n",
       "    }\n",
       "</style>\n",
       "<table border=\"1\" class=\"dataframe\">\n",
       "  <thead>\n",
       "    <tr style=\"text-align: right;\">\n",
       "      <th></th>\n",
       "      <th>user_id</th>\n",
       "    </tr>\n",
       "    <tr>\n",
       "      <th>group</th>\n",
       "      <th></th>\n",
       "    </tr>\n",
       "  </thead>\n",
       "  <tbody>\n",
       "    <tr>\n",
       "      <th>246</th>\n",
       "      <td>2484</td>\n",
       "    </tr>\n",
       "    <tr>\n",
       "      <th>247</th>\n",
       "      <td>2513</td>\n",
       "    </tr>\n",
       "    <tr>\n",
       "      <th>248</th>\n",
       "      <td>2537</td>\n",
       "    </tr>\n",
       "    <tr>\n",
       "      <th>246+247</th>\n",
       "      <td>4997</td>\n",
       "    </tr>\n",
       "  </tbody>\n",
       "</table>\n",
       "</div>"
      ],
      "text/plain": [
       "         user_id\n",
       "group           \n",
       "246         2484\n",
       "247         2513\n",
       "248         2537\n",
       "246+247     4997"
      ]
     },
     "execution_count": 31,
     "metadata": {},
     "output_type": "execute_result"
    }
   ],
   "source": [
    "#считаем количество пользователей в каждой группе\n",
    "users= compleete_logs.groupby('group')['user_id']\\\n",
    "                     .nunique()\\\n",
    "                     .to_frame()\\\n",
    "                     .reset_index()\n",
    "users.loc[3] = ['246+247', 4997]\n",
    "users = users.set_index(users.columns[0])\n",
    "users"
   ]
  },
  {
   "cell_type": "code",
   "execution_count": 32,
   "metadata": {
    "scrolled": true
   },
   "outputs": [
    {
     "data": {
      "text/html": [
       "<div>\n",
       "<style scoped>\n",
       "    .dataframe tbody tr th:only-of-type {\n",
       "        vertical-align: middle;\n",
       "    }\n",
       "\n",
       "    .dataframe tbody tr th {\n",
       "        vertical-align: top;\n",
       "    }\n",
       "\n",
       "    .dataframe thead th {\n",
       "        text-align: right;\n",
       "    }\n",
       "</style>\n",
       "<table border=\"1\" class=\"dataframe\">\n",
       "  <thead>\n",
       "    <tr style=\"text-align: right;\">\n",
       "      <th>group</th>\n",
       "      <th>246</th>\n",
       "      <th>247</th>\n",
       "      <th>248</th>\n",
       "      <th>246+247</th>\n",
       "    </tr>\n",
       "    <tr>\n",
       "      <th>event</th>\n",
       "      <th></th>\n",
       "      <th></th>\n",
       "      <th></th>\n",
       "      <th></th>\n",
       "    </tr>\n",
       "  </thead>\n",
       "  <tbody>\n",
       "    <tr>\n",
       "      <th>MainScreenAppear</th>\n",
       "      <td>2450</td>\n",
       "      <td>2476</td>\n",
       "      <td>2493</td>\n",
       "      <td>4926</td>\n",
       "    </tr>\n",
       "    <tr>\n",
       "      <th>OffersScreenAppear</th>\n",
       "      <td>1542</td>\n",
       "      <td>1520</td>\n",
       "      <td>1531</td>\n",
       "      <td>3062</td>\n",
       "    </tr>\n",
       "    <tr>\n",
       "      <th>CartScreenAppear</th>\n",
       "      <td>1266</td>\n",
       "      <td>1238</td>\n",
       "      <td>1230</td>\n",
       "      <td>2504</td>\n",
       "    </tr>\n",
       "    <tr>\n",
       "      <th>PaymentScreenSuccessful</th>\n",
       "      <td>1200</td>\n",
       "      <td>1158</td>\n",
       "      <td>1181</td>\n",
       "      <td>2358</td>\n",
       "    </tr>\n",
       "  </tbody>\n",
       "</table>\n",
       "</div>"
      ],
      "text/plain": [
       "group                     246   247   248  246+247\n",
       "event                                             \n",
       "MainScreenAppear         2450  2476  2493     4926\n",
       "OffersScreenAppear       1542  1520  1531     3062\n",
       "CartScreenAppear         1266  1238  1230     2504\n",
       "PaymentScreenSuccessful  1200  1158  1181     2358"
      ]
     },
     "execution_count": 32,
     "metadata": {},
     "output_type": "execute_result"
    }
   ],
   "source": [
    "# собираем сводную табицу по событиям и количеству пользователей его совершивших для каждой группы\n",
    "# и добавляем колонку с суммой пользователей A/A теста\n",
    "\n",
    "funnels = compleete_logs.pivot_table(index='event', columns='group',values='user_id',aggfunc='nunique')\\\n",
    "                       .sort_values(246,ascending=False)\n",
    "funnels['246+247'] = funnels[246] + funnels[247]\n",
    "funnels.drop(['Tutorial'], inplace=True)\n",
    "funnels"
   ]
  },
  {
   "cell_type": "code",
   "execution_count": 33,
   "metadata": {},
   "outputs": [],
   "source": [
    "# функция для подсчета Z-критерия\n",
    "def z_test(value_1, value_2, event, alpha): \n",
    "    \n",
    "    p1_ev = funnels.loc[event, value_1] # срез. отбираем событие и количество значений для первой группы\n",
    "    p2_ev = funnels.loc[event, value_2] # срез. отбираем событие и количество значений для второй группы\n",
    "    \n",
    "    p1_us = users.loc[value_1, 'user_id'] # количество человек в первой группе\n",
    "    p2_us = users.loc[value_2, 'user_id'] # количество человек во второй группе\n",
    "    \n",
    "    p1 = p1_ev / p1_us # пропорция успехов в первой группе\n",
    "    p2 = p2_ev / p2_us # пропорция успехов во второй группе\n",
    "    \n",
    "    difference = p1 - p2 # разница пропорций в датасетах\n",
    "    \n",
    "    p_combined = (p1_ev + p2_ev) / (p1_us + p2_us) # пропорция успехов в комбинированном датасете\n",
    "    \n",
    "    # считаем статистику  по общепринятой формуле Z-критерия\n",
    "    z_value = difference / math.sqrt(p_combined * (1 - p_combined) * (1 / p1_us + 1 / p2_us))\n",
    "    \n",
    "    distr = st.norm(0, 1)# задаем стандартное нормальное распределение (среднее 0, ст.отклонение 1)\n",
    "    \n",
    "    p_value = (1 - distr.cdf(abs(z_value))) * 2\n",
    "    print(f'Для групп {value_1} и {value_2} по событию: {event}')\n",
    "    print(f'p-value: {p_value}')\n",
    "        \n",
    "    if (p_value < alpha):\n",
    "        print(\"Отвергаем нулевую гипотезу\")\n",
    "    else:\n",
    "        print(\"Не получилось отвергнуть нулевую гипотезу\")"
   ]
  },
  {
   "cell_type": "markdown",
   "metadata": {},
   "source": [
    "Применим z_test к нашим группам A/A и посмотрим есть ли статистическое отличие среди долей пользователей, совершивших целевое действие - конверсию в заказ.\n",
    "\n",
    "- H0 - нет статистически значимой разницы между конверсиями в покупку для первой и второй группы A.\n",
    "- H1 - Есть статистически значимая разница между конверсиями в покупку для первой и второй группы A.\n",
    "\n",
    "\n",
    "- уровень значимости alpha = 0.5"
   ]
  },
  {
   "cell_type": "code",
   "execution_count": 34,
   "metadata": {},
   "outputs": [
    {
     "name": "stdout",
     "output_type": "stream",
     "text": [
      "Для групп 246 и 247 по событию: PaymentScreenSuccessful\n",
      "p-value: 0.11456679313141849\n",
      "Не получилось отвергнуть нулевую гипотезу\n"
     ]
    }
   ],
   "source": [
    "event = \"PaymentScreenSuccessful\"\n",
    "z_test(246, 247, event, 0.05)\n"
   ]
  },
  {
   "cell_type": "markdown",
   "metadata": {},
   "source": [
    "Статистических различий между двумя А-группами нет. Можно сделать вывод, что A/A/B тест проведен корректно. Теперь можно вывести воронку продаж с разбивкой по группам."
   ]
  },
  {
   "cell_type": "code",
   "execution_count": 35,
   "metadata": {
    "scrolled": true
   },
   "outputs": [],
   "source": [
    "# делаем срезы данных отдельно по каждой группе\n",
    "group_246 = compleete_logs[(compleete_logs['group'] == 246) & (compleete_logs['event'] != 'Tutorial')]\n",
    "group_247 = compleete_logs[(compleete_logs['group'] == 247) & (compleete_logs['event'] != 'Tutorial')]\n",
    "group_248 = compleete_logs[(compleete_logs['group'] == 248) & (compleete_logs['event'] != 'Tutorial')]"
   ]
  },
  {
   "cell_type": "code",
   "execution_count": 36,
   "metadata": {},
   "outputs": [
    {
     "data": {
      "text/html": [
       "<div>\n",
       "<style scoped>\n",
       "    .dataframe tbody tr th:only-of-type {\n",
       "        vertical-align: middle;\n",
       "    }\n",
       "\n",
       "    .dataframe tbody tr th {\n",
       "        vertical-align: top;\n",
       "    }\n",
       "\n",
       "    .dataframe thead th {\n",
       "        text-align: right;\n",
       "    }\n",
       "</style>\n",
       "<table border=\"1\" class=\"dataframe\">\n",
       "  <thead>\n",
       "    <tr style=\"text-align: right;\">\n",
       "      <th></th>\n",
       "      <th>event</th>\n",
       "      <th>total_users</th>\n",
       "    </tr>\n",
       "  </thead>\n",
       "  <tbody>\n",
       "    <tr>\n",
       "      <th>0</th>\n",
       "      <td>MainScreenAppear</td>\n",
       "      <td>2450</td>\n",
       "    </tr>\n",
       "    <tr>\n",
       "      <th>1</th>\n",
       "      <td>OffersScreenAppear</td>\n",
       "      <td>1542</td>\n",
       "    </tr>\n",
       "    <tr>\n",
       "      <th>2</th>\n",
       "      <td>CartScreenAppear</td>\n",
       "      <td>1266</td>\n",
       "    </tr>\n",
       "    <tr>\n",
       "      <th>3</th>\n",
       "      <td>PaymentScreenSuccessful</td>\n",
       "      <td>1200</td>\n",
       "    </tr>\n",
       "  </tbody>\n",
       "</table>\n",
       "</div>"
      ],
      "text/plain": [
       "                     event  total_users\n",
       "0         MainScreenAppear         2450\n",
       "1       OffersScreenAppear         1542\n",
       "2         CartScreenAppear         1266\n",
       "3  PaymentScreenSuccessful         1200"
      ]
     },
     "execution_count": 36,
     "metadata": {},
     "output_type": "execute_result"
    }
   ],
   "source": [
    "# делаем группировку по каждому срезу\n",
    "funnel_246 = group_246.groupby('event')['user_id'].nunique()\\\n",
    "                      .sort_values(ascending=False)\\\n",
    "                      .to_frame().reset_index()\\\n",
    "                      .rename(columns={'user_id': 'total_users'})\n",
    "\n",
    "funnel_247 = group_247.groupby('event')['user_id'].nunique()\\\n",
    "                      .sort_values(ascending=False)\\\n",
    "                      .to_frame().reset_index()\\\n",
    "                      .rename(columns={'user_id': 'total_users'})\n",
    "\n",
    "funnel_248 = group_248.groupby('event')['user_id'].nunique()\\\n",
    "                      .sort_values(ascending=False)\\\n",
    "                      .to_frame().reset_index()\\\n",
    "                      .rename(columns={'user_id': 'total_users'})\n",
    "\n",
    "funnel_246"
   ]
  },
  {
   "cell_type": "code",
   "execution_count": 45,
   "metadata": {},
   "outputs": [
    {
     "data": {
      "image/svg+xml": [
       "<svg class=\"main-svg\" xmlns=\"http://www.w3.org/2000/svg\" xmlns:xlink=\"http://www.w3.org/1999/xlink\" width=\"900\" height=\"600\" style=\"\" viewBox=\"0 0 900 600\"><rect x=\"0\" y=\"0\" width=\"900\" height=\"600\" style=\"fill: rgb(255, 255, 255); fill-opacity: 1;\"/><defs id=\"defs-66a0c8\"><g class=\"clips\"><clipPath id=\"clip66a0c8xyplot\" class=\"plotclip\"><rect width=\"590\" height=\"420\"/></clipPath><clipPath class=\"axesclip\" id=\"clip66a0c8x\"><rect x=\"170\" y=\"0\" width=\"590\" height=\"600\"/></clipPath><clipPath class=\"axesclip\" id=\"clip66a0c8y\"><rect x=\"0\" y=\"100\" width=\"900\" height=\"420\"/></clipPath><clipPath class=\"axesclip\" id=\"clip66a0c8xy\"><rect x=\"170\" y=\"100\" width=\"590\" height=\"420\"/></clipPath></g><g class=\"gradients\"/><g class=\"patterns\"/></defs><g class=\"bglayer\"><rect class=\"bg\" x=\"170\" y=\"100\" width=\"590\" height=\"420\" style=\"fill: rgb(229, 236, 246); fill-opacity: 1; stroke-width: 0;\"/></g><g class=\"layer-below\"><g class=\"imagelayer\"/><g class=\"shapelayer\"/></g><g class=\"cartesianlayer\"><g class=\"subplot xy\"><g class=\"layer-subplot\"><g class=\"shapelayer\"/><g class=\"imagelayer\"/></g><g class=\"gridlayer\"><g class=\"x\"/><g class=\"y\"/></g><g class=\"zerolinelayer\"/><path class=\"xlines-below\"/><path class=\"ylines-below\"/><g class=\"overlines-below\"/><g class=\"xaxislayer-below\"/><g class=\"yaxislayer-below\"/><g class=\"overaxes-below\"/><g class=\"plot\" transform=\"translate(170,100)\" clip-path=\"url(#clip66a0c8xyplot)\"><g class=\"funnellayer mlayer\"><g class=\"trace bars\" style=\"opacity: 1;\"><g class=\"regions\"><g class=\"region\"><path d=\"M29.5,94.5L130.63,115.5H241L204.85,94.5Z\" style=\"stroke-width: 0; fill: rgb(99, 110, 250); fill-opacity: 0.5;\"/></g><g class=\"region\"><path d=\"M130.63,199.5L161.37,220.5H251.98L241,199.5Z\" style=\"stroke-width: 0; fill: rgb(99, 110, 250); fill-opacity: 0.5;\"/></g><g class=\"region\"><path d=\"M161.37,304.5L168.35,325.5H254.24L251.98,304.5Z\" style=\"stroke-width: 0; fill: rgb(99, 110, 250); fill-opacity: 0.5;\"/></g><g class=\"region\"><path d=\"M0,0Z\" style=\"stroke-width: 0; fill: rgb(99, 110, 250); fill-opacity: 0.5;\"/></g></g><g class=\"points\"><g class=\"point\"><path d=\"M29.5,10.5V94.5H204.85V10.5Z\" style=\"vector-effect: non-scaling-stroke; fill: rgb(99, 110, 250); fill-opacity: 1; stroke: rgb(68, 68, 68); stroke-opacity: 1; stroke-width: 0px; opacity: 1;\"/><text class=\"bartext bartext-inside\" text-anchor=\"middle\" data-notex=\"1\" x=\"0\" y=\"0\" style=\"font-family: 'Open Sans', verdana, arial, sans-serif; font-size: 12px; fill: rgb(255, 255, 255); fill-opacity: 1; white-space: pre;\" transform=\"translate(116.8,41.3984375)\"><tspan class=\"line\" dy=\"0em\" x=\"0\" y=\"0\">2450</tspan><tspan class=\"line\" dy=\"1.3em\" x=\"0\" y=\"0\">100% of initial</tspan><tspan class=\"line\" dy=\"2.6em\" x=\"0\" y=\"0\">100% of previous</tspan></text></g><g class=\"point\"><path d=\"M130.63,115.5V199.5H241V115.5Z\" style=\"vector-effect: non-scaling-stroke; fill: rgb(99, 110, 250); fill-opacity: 1; stroke: rgb(68, 68, 68); stroke-opacity: 1; stroke-width: 0px; opacity: 1;\"/><text class=\"bartext bartext-inside\" text-anchor=\"middle\" data-notex=\"1\" x=\"0\" y=\"0\" style=\"font-family: 'Open Sans', verdana, arial, sans-serif; font-size: 12px; fill: rgb(255, 255, 255); fill-opacity: 1; white-space: pre;\" transform=\"translate(185.44,146.3984375)\"><tspan class=\"line\" dy=\"0em\" x=\"0\" y=\"0\">1542</tspan><tspan class=\"line\" dy=\"1.3em\" x=\"0\" y=\"0\">63% of initial</tspan><tspan class=\"line\" dy=\"2.6em\" x=\"0\" y=\"0\">63% of previous</tspan></text></g><g class=\"point\"><path d=\"M161.37,220.5V304.5H251.98V220.5Z\" style=\"vector-effect: non-scaling-stroke; fill: rgb(99, 110, 250); fill-opacity: 1; stroke: rgb(68, 68, 68); stroke-opacity: 1; stroke-width: 0px; opacity: 1;\"/><text class=\"bartext bartext-inside\" text-anchor=\"middle\" data-notex=\"1\" x=\"0\" y=\"0\" style=\"font-family: 'Open Sans', verdana, arial, sans-serif; font-size: 12px; fill: rgb(255, 255, 255); fill-opacity: 1; white-space: pre;\" transform=\"translate(206.35820748829954,253.1216216848674)scale(0.8447800312012479)\"><tspan class=\"line\" dy=\"0em\" x=\"0\" y=\"0\">1266</tspan><tspan class=\"line\" dy=\"1.3em\" x=\"0\" y=\"0\">52% of initial</tspan><tspan class=\"line\" dy=\"2.6em\" x=\"0\" y=\"0\">82% of previous</tspan></text></g><g class=\"point\"><path d=\"M168.35,325.5V409.5H254.24V325.5Z\" style=\"vector-effect: non-scaling-stroke; fill: rgb(99, 110, 250); fill-opacity: 1; stroke: rgb(68, 68, 68); stroke-opacity: 1; stroke-width: 0px; opacity: 1;\"/><text class=\"bartext bartext-inside\" text-anchor=\"middle\" data-notex=\"1\" x=\"0\" y=\"0\" style=\"font-family: 'Open Sans', verdana, arial, sans-serif; font-size: 12px; fill: rgb(255, 255, 255); fill-opacity: 1; white-space: pre;\" transform=\"translate(210.99587987519502,358.6447979719189)scale(0.797653666146646)\"><tspan class=\"line\" dy=\"0em\" x=\"0\" y=\"0\">1200</tspan><tspan class=\"line\" dy=\"1.3em\" x=\"0\" y=\"0\">49% of initial</tspan><tspan class=\"line\" dy=\"2.6em\" x=\"0\" y=\"0\">95% of previous</tspan></text></g></g></g><g class=\"trace bars\" style=\"opacity: 1;\"><g class=\"regions\"><g class=\"region\"><path d=\"M204.85,94.5L241,115.5H349.79L382.07,94.5Z\" style=\"stroke-width: 0; fill: rgb(239, 85, 59); fill-opacity: 0.5;\"/></g><g class=\"region\"><path d=\"M241,199.5L251.98,220.5H340.59L349.79,199.5Z\" style=\"stroke-width: 0; fill: rgb(239, 85, 59); fill-opacity: 0.5;\"/></g><g class=\"region\"><path d=\"M251.98,304.5L254.24,325.5H337.12L340.59,304.5Z\" style=\"stroke-width: 0; fill: rgb(239, 85, 59); fill-opacity: 0.5;\"/></g><g class=\"region\"><path d=\"M0,0Z\" style=\"stroke-width: 0; fill: rgb(239, 85, 59); fill-opacity: 0.5;\"/></g></g><g class=\"points\"><g class=\"point\"><path d=\"M204.85,10.5V94.5H382.07V10.5Z\" style=\"vector-effect: non-scaling-stroke; fill: rgb(239, 85, 59); fill-opacity: 1; stroke: rgb(68, 68, 68); stroke-opacity: 1; stroke-width: 0px; opacity: 1;\"/><text class=\"bartext bartext-inside\" text-anchor=\"middle\" data-notex=\"1\" x=\"0\" y=\"0\" style=\"font-family: 'Open Sans', verdana, arial, sans-serif; font-size: 12px; fill: rgb(68, 68, 68); fill-opacity: 1; white-space: pre;\" transform=\"translate(293.085,41.3984375)\"><tspan class=\"line\" dy=\"0em\" x=\"0\" y=\"0\">2476</tspan><tspan class=\"line\" dy=\"1.3em\" x=\"0\" y=\"0\">100% of initial</tspan><tspan class=\"line\" dy=\"2.6em\" x=\"0\" y=\"0\">100% of previous</tspan></text></g><g class=\"point\"><path d=\"M241,115.5V199.5H349.79V115.5Z\" style=\"vector-effect: non-scaling-stroke; fill: rgb(239, 85, 59); fill-opacity: 1; stroke: rgb(68, 68, 68); stroke-opacity: 1; stroke-width: 0px; opacity: 1;\"/><text class=\"bartext bartext-inside\" text-anchor=\"middle\" data-notex=\"1\" x=\"0\" y=\"0\" style=\"font-family: 'Open Sans', verdana, arial, sans-serif; font-size: 12px; fill: rgb(68, 68, 68); fill-opacity: 1; white-space: pre;\" transform=\"translate(295.02,146.3984375)\"><tspan class=\"line\" dy=\"0em\" x=\"0\" y=\"0\">1520</tspan><tspan class=\"line\" dy=\"1.3em\" x=\"0\" y=\"0\">61% of initial</tspan><tspan class=\"line\" dy=\"2.6em\" x=\"0\" y=\"0\">61% of previous</tspan></text></g><g class=\"point\"><path d=\"M251.98,220.5V304.5H340.59V220.5Z\" style=\"vector-effect: non-scaling-stroke; fill: rgb(239, 85, 59); fill-opacity: 1; stroke: rgb(68, 68, 68); stroke-opacity: 1; stroke-width: 0px; opacity: 1;\"/><text class=\"bartext bartext-inside\" text-anchor=\"middle\" data-notex=\"1\" x=\"0\" y=\"0\" style=\"font-family: 'Open Sans', verdana, arial, sans-serif; font-size: 12px; fill: rgb(68, 68, 68); fill-opacity: 1; white-space: pre;\" transform=\"translate(295.97569578783146,253.3433065522621)scale(0.8248112324492978)\"><tspan class=\"line\" dy=\"0em\" x=\"0\" y=\"0\">1238</tspan><tspan class=\"line\" dy=\"1.3em\" x=\"0\" y=\"0\">50% of initial</tspan><tspan class=\"line\" dy=\"2.6em\" x=\"0\" y=\"0\">81% of previous</tspan></text></g><g class=\"point\"><path d=\"M254.24,325.5V409.5H337.12V325.5Z\" style=\"vector-effect: non-scaling-stroke; fill: rgb(239, 85, 59); fill-opacity: 1; stroke: rgb(68, 68, 68); stroke-opacity: 1; stroke-width: 0px; opacity: 1;\"/><text class=\"bartext bartext-inside\" text-anchor=\"middle\" data-notex=\"1\" x=\"0\" y=\"0\" style=\"font-family: 'Open Sans', verdana, arial, sans-serif; font-size: 12px; fill: rgb(68, 68, 68); fill-opacity: 1; white-space: pre;\" transform=\"translate(295.39214976599067,358.9784336973479)scale(0.767600624024961)\"><tspan class=\"line\" dy=\"0em\" x=\"0\" y=\"0\">1158</tspan><tspan class=\"line\" dy=\"1.3em\" x=\"0\" y=\"0\">47% of initial</tspan><tspan class=\"line\" dy=\"2.6em\" x=\"0\" y=\"0\">94% of previous</tspan></text></g></g></g><g class=\"trace bars\" style=\"opacity: 1;\"><g class=\"regions\"><g class=\"region\"><path d=\"M382.07,94.5L349.79,115.5H459.37L560.5,94.5Z\" style=\"stroke-width: 0; fill: rgb(0, 204, 150); fill-opacity: 0.5;\"/></g><g class=\"region\"><path d=\"M349.79,199.5L340.59,220.5H428.63L459.37,199.5Z\" style=\"stroke-width: 0; fill: rgb(0, 204, 150); fill-opacity: 0.5;\"/></g><g class=\"region\"><path d=\"M340.59,304.5L337.12,325.5H421.65L428.63,304.5Z\" style=\"stroke-width: 0; fill: rgb(0, 204, 150); fill-opacity: 0.5;\"/></g><g class=\"region\"><path d=\"M0,0Z\" style=\"stroke-width: 0; fill: rgb(0, 204, 150); fill-opacity: 0.5;\"/></g></g><g class=\"points\"><g class=\"point\"><path d=\"M382.07,10.5V94.5H560.5V10.5Z\" style=\"vector-effect: non-scaling-stroke; fill: rgb(0, 204, 150); fill-opacity: 1; stroke: rgb(68, 68, 68); stroke-opacity: 1; stroke-width: 0px; opacity: 1;\"/><text class=\"bartext bartext-inside\" text-anchor=\"middle\" data-notex=\"1\" x=\"0\" y=\"0\" style=\"font-family: 'Open Sans', verdana, arial, sans-serif; font-size: 12px; fill: rgb(68, 68, 68); fill-opacity: 1; white-space: pre;\" transform=\"translate(470.90999999999997,41.3984375)\"><tspan class=\"line\" dy=\"0em\" x=\"0\" y=\"0\">2493</tspan><tspan class=\"line\" dy=\"1.3em\" x=\"0\" y=\"0\">100% of initial</tspan><tspan class=\"line\" dy=\"2.6em\" x=\"0\" y=\"0\">100% of previous</tspan></text></g><g class=\"point\"><path d=\"M349.79,115.5V199.5H459.37V115.5Z\" style=\"vector-effect: non-scaling-stroke; fill: rgb(0, 204, 150); fill-opacity: 1; stroke: rgb(68, 68, 68); stroke-opacity: 1; stroke-width: 0px; opacity: 1;\"/><text class=\"bartext bartext-inside\" text-anchor=\"middle\" data-notex=\"1\" x=\"0\" y=\"0\" style=\"font-family: 'Open Sans', verdana, arial, sans-serif; font-size: 12px; fill: rgb(68, 68, 68); fill-opacity: 1; white-space: pre;\" transform=\"translate(404.20500000000004,146.3984375)\"><tspan class=\"line\" dy=\"0em\" x=\"0\" y=\"0\">1531</tspan><tspan class=\"line\" dy=\"1.3em\" x=\"0\" y=\"0\">61% of initial</tspan><tspan class=\"line\" dy=\"2.6em\" x=\"0\" y=\"0\">61% of previous</tspan></text></g><g class=\"point\"><path d=\"M340.59,220.5V304.5H428.63V220.5Z\" style=\"vector-effect: non-scaling-stroke; fill: rgb(0, 204, 150); fill-opacity: 1; stroke: rgb(68, 68, 68); stroke-opacity: 1; stroke-width: 0px; opacity: 1;\"/><text class=\"bartext bartext-outside\" text-anchor=\"middle\" data-notex=\"1\" x=\"0\" y=\"0\" style=\"font-family: 'Open Sans', verdana, arial, sans-serif; font-size: 12px; fill: rgb(42, 63, 95); fill-opacity: 1; white-space: pre;\" transform=\"translate(481.333125,251.3984375)\"><tspan class=\"line\" dy=\"0em\" x=\"0\" y=\"0\">1230</tspan><tspan class=\"line\" dy=\"1.3em\" x=\"0\" y=\"0\">49% of initial</tspan><tspan class=\"line\" dy=\"2.6em\" x=\"0\" y=\"0\">80% of previous</tspan></text></g><g class=\"point\"><path d=\"M337.12,325.5V409.5H421.65V325.5Z\" style=\"vector-effect: non-scaling-stroke; fill: rgb(0, 204, 150); fill-opacity: 1; stroke: rgb(68, 68, 68); stroke-opacity: 1; stroke-width: 0px; opacity: 1;\"/><text class=\"bartext bartext-outside\" text-anchor=\"middle\" data-notex=\"1\" x=\"0\" y=\"0\" style=\"font-family: 'Open Sans', verdana, arial, sans-serif; font-size: 12px; fill: rgb(42, 63, 95); fill-opacity: 1; white-space: pre;\" transform=\"translate(474.353125,356.3984375)\"><tspan class=\"line\" dy=\"0em\" x=\"0\" y=\"0\">1181</tspan><tspan class=\"line\" dy=\"1.3em\" x=\"0\" y=\"0\">47% of initial</tspan><tspan class=\"line\" dy=\"2.6em\" x=\"0\" y=\"0\">96% of previous</tspan></text></g></g></g></g></g><g class=\"overplot\"/><path class=\"xlines-above crisp\" d=\"M0,0\" style=\"fill: none;\"/><path class=\"ylines-above crisp\" d=\"M0,0\" style=\"fill: none;\"/><g class=\"overlines-above\"/><g class=\"xaxislayer-above\"/><g class=\"yaxislayer-above\"><g class=\"ytick\"><text text-anchor=\"end\" x=\"169\" y=\"4.199999999999999\" transform=\"translate(0,467.5)\" style=\"font-family: 'Open Sans', verdana, arial, sans-serif; font-size: 12px; fill: rgb(42, 63, 95); fill-opacity: 1; white-space: pre; opacity: 1;\">PaymentScreenSuccessful</text></g><g class=\"ytick\"><text text-anchor=\"end\" x=\"169\" y=\"4.199999999999999\" transform=\"translate(0,362.5)\" style=\"font-family: 'Open Sans', verdana, arial, sans-serif; font-size: 12px; fill: rgb(42, 63, 95); fill-opacity: 1; white-space: pre; opacity: 1;\">CartScreenAppear</text></g><g class=\"ytick\"><text text-anchor=\"end\" x=\"169\" y=\"4.199999999999999\" transform=\"translate(0,257.5)\" style=\"font-family: 'Open Sans', verdana, arial, sans-serif; font-size: 12px; fill: rgb(42, 63, 95); fill-opacity: 1; white-space: pre; opacity: 1;\">OffersScreenAppear</text></g><g class=\"ytick\"><text text-anchor=\"end\" x=\"169\" y=\"4.199999999999999\" transform=\"translate(0,152.5)\" style=\"font-family: 'Open Sans', verdana, arial, sans-serif; font-size: 12px; fill: rgb(42, 63, 95); fill-opacity: 1; white-space: pre; opacity: 1;\">MainScreenAppear</text></g></g><g class=\"overaxes-above\"/></g></g><g class=\"polarlayer\"/><g class=\"smithlayer\"/><g class=\"ternarylayer\"/><g class=\"geolayer\"/><g class=\"funnelarealayer\"/><g class=\"pielayer\"/><g class=\"iciclelayer\"/><g class=\"treemaplayer\"/><g class=\"sunburstlayer\"/><g class=\"glimages\"/><defs id=\"topdefs-66a0c8\"><g class=\"clips\"/><clipPath id=\"legend66a0c8\"><rect width=\"116\" height=\"67\" x=\"0\" y=\"0\"/></clipPath></defs><g class=\"layer-above\"><g class=\"imagelayer\"/><g class=\"shapelayer\"/></g><g class=\"infolayer\"><g class=\"legend\" pointer-events=\"all\" transform=\"translate(771.8,100)\"><rect class=\"bg\" shape-rendering=\"crispEdges\" width=\"116\" height=\"67\" x=\"0\" y=\"0\" style=\"stroke: rgb(68, 68, 68); stroke-opacity: 1; fill: rgb(255, 255, 255); fill-opacity: 1; stroke-width: 0px;\"/><g class=\"scrollbox\" transform=\"\" clip-path=\"url(#legend66a0c8)\"><g class=\"groups\"><g class=\"traces\" transform=\"translate(0,14.5)\" style=\"opacity: 1;\"><text class=\"legendtext\" text-anchor=\"start\" x=\"40\" y=\"4.680000000000001\" style=\"font-family: 'Open Sans', verdana, arial, sans-serif; font-size: 12px; fill: rgb(42, 63, 95); fill-opacity: 1; white-space: pre;\">группа 246</text><g class=\"layers\" style=\"opacity: 1;\"><g class=\"legendfill\"/><g class=\"legendlines\"/><g class=\"legendsymbols\"><g class=\"legendpoints\"><path class=\"legendfunnel\" d=\"M6,6H-6V-6H6Z\" transform=\"translate(20,0)\" style=\"stroke-width: 0px; fill: rgb(99, 110, 250); fill-opacity: 1;\"/></g></g></g><rect class=\"legendtoggle\" x=\"0\" y=\"-9.5\" width=\"110.21875\" height=\"19\" style=\"fill: rgb(0, 0, 0); fill-opacity: 0;\"/></g><g class=\"traces\" transform=\"translate(0,33.5)\" style=\"opacity: 1;\"><text class=\"legendtext\" text-anchor=\"start\" x=\"40\" y=\"4.680000000000001\" style=\"font-family: 'Open Sans', verdana, arial, sans-serif; font-size: 12px; fill: rgb(42, 63, 95); fill-opacity: 1; white-space: pre;\">группа 247</text><g class=\"layers\" style=\"opacity: 1;\"><g class=\"legendfill\"/><g class=\"legendlines\"/><g class=\"legendsymbols\"><g class=\"legendpoints\"><path class=\"legendfunnel\" d=\"M6,6H-6V-6H6Z\" transform=\"translate(20,0)\" style=\"stroke-width: 0px; fill: rgb(239, 85, 59); fill-opacity: 1;\"/></g></g></g><rect class=\"legendtoggle\" x=\"0\" y=\"-9.5\" width=\"110.21875\" height=\"19\" style=\"fill: rgb(0, 0, 0); fill-opacity: 0;\"/></g><g class=\"traces\" transform=\"translate(0,52.5)\" style=\"opacity: 1;\"><text class=\"legendtext\" text-anchor=\"start\" x=\"40\" y=\"4.680000000000001\" style=\"font-family: 'Open Sans', verdana, arial, sans-serif; font-size: 12px; fill: rgb(42, 63, 95); fill-opacity: 1; white-space: pre;\">группа 248</text><g class=\"layers\" style=\"opacity: 1;\"><g class=\"legendfill\"/><g class=\"legendlines\"/><g class=\"legendsymbols\"><g class=\"legendpoints\"><path class=\"legendfunnel\" d=\"M6,6H-6V-6H6Z\" transform=\"translate(20,0)\" style=\"stroke-width: 0px; fill: rgb(0, 204, 150); fill-opacity: 1;\"/></g></g></g><rect class=\"legendtoggle\" x=\"0\" y=\"-9.5\" width=\"110.21875\" height=\"19\" style=\"fill: rgb(0, 0, 0); fill-opacity: 0;\"/></g></g></g><rect class=\"scrollbar\" rx=\"20\" ry=\"3\" width=\"0\" height=\"0\" x=\"0\" y=\"0\" style=\"fill: rgb(128, 139, 164); fill-opacity: 1;\"/></g><g class=\"g-gtitle\"><text class=\"gtitle\" x=\"45\" y=\"50\" text-anchor=\"start\" dy=\"0em\" style=\"font-family: 'Open Sans', verdana, arial, sans-serif; font-size: 17px; fill: rgb(42, 63, 95); opacity: 1; font-weight: normal; white-space: pre;\">Воронка действий пользователей</text></g><g class=\"g-ytitle\"/></g></svg>"
      ]
     },
     "metadata": {},
     "output_type": "display_data"
    }
   ],
   "source": [
    "# строим  параллельную воронку для всех трех групп\n",
    "fig = go.Figure()\n",
    "\n",
    "fig.add_trace(go.Funnel(\n",
    "    name = 'группа 246',\n",
    "    y = funnel_246['event'],\n",
    "    x = funnel_246['total_users'],\n",
    "    textinfo = \"value+percent initial+percent previous\"))\n",
    "\n",
    "fig.add_trace(go.Funnel(\n",
    "    name = 'группа 247',\n",
    "    y = funnel_247['event'],\n",
    "    x = funnel_247['total_users'],\n",
    "    textinfo = \"value+percent initial+percent previous\"))\n",
    "\n",
    "fig.add_trace(go.Funnel(\n",
    "    name = 'группа 248',\n",
    "    y = funnel_248['event'],\n",
    "    x = funnel_248['total_users'],\n",
    "    textinfo = \"value+percent initial+percent previous\"))\n",
    "fig.update_layout(\n",
    "            height=600, width=900,\n",
    "        title={'text': \"Воронка действий пользователей\",})\n",
    "fig.show(renderer=\"svg\")"
   ]
  },
  {
   "cell_type": "markdown",
   "metadata": {},
   "source": [
    "На каждом этапе воронки группы ведут себя очень похоже. Процентное соотношение переходов с шага на шаг отличается незначительно. Это предварительно дает понять, что изменение шрифта в приложении, скорее всего, не повлияло на поведение пользователей в приложении.\n",
    "\n",
    "Самым популярным событием является открытие главного экрана. В разрезе по группам получили следующее соотношение:\n",
    "- Группа 246: 2450 пользователей(37,9% от всех)\n",
    "- Группа 247: 2476 пользователей(38,7% от всех)\n",
    "- Группа 248: 2493 пользователей(38,7% от всех)\n",
    "\n",
    "Но есть ли статистическая разница? На первый взгяд - нет. Применим z-критерий ко всем группам попарно: \n",
    "- контрольная 246 и экспериментальная 248\n",
    "- контрольная 247 и экспериментальная 248\n",
    "- суммарная группа 246 + 247 и экспериментальная 248\n",
    "\n",
    "и для каждой пары групп и по каждому событию посмотрим есть ли статистические различия.\n",
    "\n",
    "### Анализ результатов A/A/B теста\n",
    "\n",
    "Поочередно вызываем функцию для каждой пары групп.\n",
    "\n",
    "- H0 - нет статистически значимой разницы между одним и тем же действием, совершенным пользователями группы 1 и группы 2.\n",
    "- H1 - есть статистически значимая разница между одним и тем же действием, совершенным пользователями группы 1 и группы 2.\n",
    "- уровень значимости alpha = 0.05"
   ]
  },
  {
   "cell_type": "code",
   "execution_count": 46,
   "metadata": {},
   "outputs": [
    {
     "name": "stdout",
     "output_type": "stream",
     "text": [
      "Для групп 246 и 247 по событию: MainScreenAppear\n",
      "p-value: 0.7570597232046099\n",
      "Не получилось отвергнуть нулевую гипотезу\n",
      "\n",
      "Для групп 246 и 247 по событию: OffersScreenAppear\n",
      "p-value: 0.2480954578522181\n",
      "Не получилось отвергнуть нулевую гипотезу\n",
      "\n",
      "Для групп 246 и 247 по событию: CartScreenAppear\n",
      "p-value: 0.22883372237997213\n",
      "Не получилось отвергнуть нулевую гипотезу\n",
      "\n",
      "Для групп 246 и 247 по событию: PaymentScreenSuccessful\n",
      "p-value: 0.11456679313141849\n",
      "Не получилось отвергнуть нулевую гипотезу\n",
      "\n"
     ]
    }
   ],
   "source": [
    "# сравниваем группы 246 и 247 (до этого мы уже считали отдельно \"PaymentScreenSuccessful\", но повторимся)\n",
    "for event in funnels.index:\n",
    "    z_test(246, 247, event, 0.05)\n",
    "    print()"
   ]
  },
  {
   "cell_type": "code",
   "execution_count": 47,
   "metadata": {},
   "outputs": [
    {
     "name": "stdout",
     "output_type": "stream",
     "text": [
      "Для групп 246 и 248 по событию: MainScreenAppear\n",
      "p-value: 0.2949721933554552\n",
      "Не получилось отвергнуть нулевую гипотезу\n",
      "\n",
      "Для групп 246 и 248 по событию: OffersScreenAppear\n",
      "p-value: 0.20836205402738917\n",
      "Не получилось отвергнуть нулевую гипотезу\n",
      "\n",
      "Для групп 246 и 248 по событию: CartScreenAppear\n",
      "p-value: 0.07842923237520116\n",
      "Не получилось отвергнуть нулевую гипотезу\n",
      "\n",
      "Для групп 246 и 248 по событию: PaymentScreenSuccessful\n",
      "p-value: 0.2122553275697796\n",
      "Не получилось отвергнуть нулевую гипотезу\n",
      "\n"
     ]
    }
   ],
   "source": [
    "# сравниваем группы 246 и 248\n",
    "for event in funnels.index:\n",
    "    z_test(246, 248, event, 0.05)\n",
    "    print()"
   ]
  },
  {
   "cell_type": "code",
   "execution_count": 48,
   "metadata": {},
   "outputs": [
    {
     "name": "stdout",
     "output_type": "stream",
     "text": [
      "Для групп 247 и 248 по событию: MainScreenAppear\n",
      "p-value: 0.4587053616621515\n",
      "Не получилось отвергнуть нулевую гипотезу\n",
      "\n",
      "Для групп 247 и 248 по событию: OffersScreenAppear\n",
      "p-value: 0.9197817830592261\n",
      "Не получилось отвергнуть нулевую гипотезу\n",
      "\n",
      "Для групп 247 и 248 по событию: CartScreenAppear\n",
      "p-value: 0.5786197879539783\n",
      "Не получилось отвергнуть нулевую гипотезу\n",
      "\n",
      "Для групп 247 и 248 по событию: PaymentScreenSuccessful\n",
      "p-value: 0.7373415053803964\n",
      "Не получилось отвергнуть нулевую гипотезу\n",
      "\n"
     ]
    }
   ],
   "source": [
    "# сравниваем группы 247 и 248\n",
    "for event in funnels.index:\n",
    "    z_test(247, 248, event, 0.05)\n",
    "    print()"
   ]
  },
  {
   "cell_type": "code",
   "execution_count": 49,
   "metadata": {},
   "outputs": [
    {
     "name": "stdout",
     "output_type": "stream",
     "text": [
      "Для групп 246+247 и 248 по событию: MainScreenAppear\n",
      "p-value: 0.29424526837179577\n",
      "Не получилось отвергнуть нулевую гипотезу\n",
      "\n",
      "Для групп 246+247 и 248 по событию: OffersScreenAppear\n",
      "p-value: 0.43425549655188256\n",
      "Не получилось отвергнуть нулевую гипотезу\n",
      "\n",
      "Для групп 246+247 и 248 по событию: CartScreenAppear\n",
      "p-value: 0.18175875284404386\n",
      "Не получилось отвергнуть нулевую гипотезу\n",
      "\n",
      "Для групп 246+247 и 248 по событию: PaymentScreenSuccessful\n",
      "p-value: 0.6004294282308704\n",
      "Не получилось отвергнуть нулевую гипотезу\n",
      "\n"
     ]
    }
   ],
   "source": [
    "# сравниваем группы 246+247 и 248\n",
    "for event in funnels.index:\n",
    "    z_test('246+247', 248, event, 0.05)\n",
    "    print()"
   ]
  },
  {
   "cell_type": "markdown",
   "metadata": {},
   "source": [
    "Как и предполагалось, статистических различий нет. Уровень p-value почти на всех тестах значительно выше  значения alpha = 0,05. Самое минимальное отличие нашли для групп 246 и 248 по событию CartScreenAppear, p-value составил 0.08.\n",
    "\n",
    "Попробуем увеличить alpha и примем равному 0,1. Повторим тесты. "
   ]
  },
  {
   "cell_type": "code",
   "execution_count": 50,
   "metadata": {},
   "outputs": [
    {
     "name": "stdout",
     "output_type": "stream",
     "text": [
      "Для групп 246 и 247 по событию: MainScreenAppear\n",
      "p-value: 0.7570597232046099\n",
      "Не получилось отвергнуть нулевую гипотезу\n",
      "\n",
      "Для групп 246 и 247 по событию: OffersScreenAppear\n",
      "p-value: 0.2480954578522181\n",
      "Не получилось отвергнуть нулевую гипотезу\n",
      "\n",
      "Для групп 246 и 247 по событию: CartScreenAppear\n",
      "p-value: 0.22883372237997213\n",
      "Не получилось отвергнуть нулевую гипотезу\n",
      "\n",
      "Для групп 246 и 247 по событию: PaymentScreenSuccessful\n",
      "p-value: 0.11456679313141849\n",
      "Не получилось отвергнуть нулевую гипотезу\n",
      "\n"
     ]
    }
   ],
   "source": [
    "# сравниваем группы 246 и 247\n",
    "for event in funnels.index:\n",
    "    z_test(246, 247, event, 0.1)\n",
    "    print()"
   ]
  },
  {
   "cell_type": "code",
   "execution_count": 51,
   "metadata": {},
   "outputs": [
    {
     "name": "stdout",
     "output_type": "stream",
     "text": [
      "Для групп 246 и 248 по событию: MainScreenAppear\n",
      "p-value: 0.2949721933554552\n",
      "Не получилось отвергнуть нулевую гипотезу\n",
      "\n",
      "Для групп 246 и 248 по событию: OffersScreenAppear\n",
      "p-value: 0.20836205402738917\n",
      "Не получилось отвергнуть нулевую гипотезу\n",
      "\n",
      "Для групп 246 и 248 по событию: CartScreenAppear\n",
      "p-value: 0.07842923237520116\n",
      "Отвергаем нулевую гипотезу\n",
      "\n",
      "Для групп 246 и 248 по событию: PaymentScreenSuccessful\n",
      "p-value: 0.2122553275697796\n",
      "Не получилось отвергнуть нулевую гипотезу\n",
      "\n"
     ]
    }
   ],
   "source": [
    "# сравниваем группы 246 и 248\n",
    "for event in funnels.index:\n",
    "    z_test(246, 248, event, 0.1)\n",
    "    print()"
   ]
  },
  {
   "cell_type": "code",
   "execution_count": 52,
   "metadata": {},
   "outputs": [
    {
     "name": "stdout",
     "output_type": "stream",
     "text": [
      "Для групп 247 и 248 по событию: MainScreenAppear\n",
      "p-value: 0.4587053616621515\n",
      "Не получилось отвергнуть нулевую гипотезу\n",
      "\n",
      "Для групп 247 и 248 по событию: OffersScreenAppear\n",
      "p-value: 0.9197817830592261\n",
      "Не получилось отвергнуть нулевую гипотезу\n",
      "\n",
      "Для групп 247 и 248 по событию: CartScreenAppear\n",
      "p-value: 0.5786197879539783\n",
      "Не получилось отвергнуть нулевую гипотезу\n",
      "\n",
      "Для групп 247 и 248 по событию: PaymentScreenSuccessful\n",
      "p-value: 0.7373415053803964\n",
      "Не получилось отвергнуть нулевую гипотезу\n",
      "\n"
     ]
    }
   ],
   "source": [
    "# сравниваем группы 247 и 248\n",
    "for event in funnels.index:\n",
    "    z_test(247, 248, event, 0.1)\n",
    "    print()"
   ]
  },
  {
   "cell_type": "code",
   "execution_count": 53,
   "metadata": {},
   "outputs": [
    {
     "name": "stdout",
     "output_type": "stream",
     "text": [
      "Для групп 246+247 и 248 по событию: MainScreenAppear\n",
      "p-value: 0.29424526837179577\n",
      "Не получилось отвергнуть нулевую гипотезу\n",
      "\n",
      "Для групп 246+247 и 248 по событию: OffersScreenAppear\n",
      "p-value: 0.43425549655188256\n",
      "Не получилось отвергнуть нулевую гипотезу\n",
      "\n",
      "Для групп 246+247 и 248 по событию: CartScreenAppear\n",
      "p-value: 0.18175875284404386\n",
      "Не получилось отвергнуть нулевую гипотезу\n",
      "\n",
      "Для групп 246+247 и 248 по событию: PaymentScreenSuccessful\n",
      "p-value: 0.6004294282308704\n",
      "Не получилось отвергнуть нулевую гипотезу\n",
      "\n"
     ]
    }
   ],
   "source": [
    "# сравниваем группы 246+247 и 248\n",
    "for event in funnels.index:\n",
    "    z_test('246+247', 248, event, 0.1)\n",
    "    print()"
   ]
  },
  {
   "cell_type": "markdown",
   "metadata": {},
   "source": [
    "### Вывод\n",
    "\n",
    "Мы провели 16 тестов для трех групп A/A/B и одной сводной A/A по 4 уровням воронки, используя z-критерий. Расчеты проводили с уровнем значимости alpha = 0,05 и затем пересчитали с уровнем значимости alpha = 0,1. Во  всех случаях, при alpha = 0,05,  не удалось обнаружить статистически значимого различия между группами. При alpha = 0,1 в 1 из 16 тестов нашлось статистически значимое отличие по событию CartScreenAppear для групп 246 и 248, p-value: 0,0784. Учитывая, что для других пар сравнения 246 vs 247, 246+247 vs 248 и 247 vs 248 таких различий не нашлось и значения p-value во всех этих случаях больше 0,1, стоит оставить уровень значимости alpha = 0,05, так как в этом случае вероятность ошибки первого рода меньше.\n",
    "\n",
    "Делаем  вывод, что изменение шрифтов не влияет на поведение пользователей.\n",
    "\n",
    "## Общий вывод\n",
    "\n",
    "Для исследования результатов A/A/B-эксперимента был собран лог событий, совершенных пользователями этих трех групп в приложении. В полученных данных хранится информация более чем о 243 тысячах событий, совершенных 7551 пользователем в период с 25 июля по 1 августа 2019 года. Построив гистограмму по времени обнаружили, что до 1 августа данные не полные и могут искажать результаты A/B теста. Для дальнейшего анализа была сделана выборка данных за период с 1 по 7 августа, при этом в выборку не вошли 2826 событий(1%) и 17 пользователей(0,2%). Все 3 группы A/A/B теста остались на месте и имеют сопоставимые значения.\n",
    "\n",
    "В построенной воронке событий мы нашли, что большинство пользователей отваливается при переходе на страницу с каталогом товаров- на нее переходит только 62% пользователей. Это может означать технические проблемы. Приложение может долго подгружать каталог с товарами или некорректно отображаться на некоторых устройствах.\n",
    "\n",
    "При подсчетах конверсии в шаг нашли, что из каталога в корзину добирается больше 80% пользоваелей. Это хороший показатель, но есть еще куда стремиться. Факторов почему 20% не дошли до корзины множество и эта задача отдельного исследования. А вот информационную страницу об успешности оплаты увидело только 95 процентов пользователей, перешедших в корзину. Не закончили оплату заказа 5% пользователей. Здесь вариантов, почему так случилось, всего 2: либо клиент увидел счет и отказался от покупки, либо есть технические проблемы с оплатой. Беспокойство также вызывает и то, что первую -главную страницу приложения увидело только 98,5% пользователей. Стоит поискать техничекие проблемы и по этим направлениям. \n",
    "Через всю воронку от входа в приложение до совершения заказа дошло только 47,7% пользователей.\n",
    "\n",
    "По итогам исследования событий можно сказать,что система аналитики корректно собирает данные т.к. ошибок, пропусков и лишних названий событий в ходе исследовательского анализа мы не обнаружили. \n",
    "\n",
    "По результатам исследования A/A/B-эксперимента мы провели 16 тестов для трех групп A/A/B и одной сводной A/A по 4 уровням воронки, при заданном alpha = 0,05. Ни в одном случае не удалось обнаружить статистически значимого различия между группами. Из чего можно сделать вывод, что изменение шрифтов в приложении никак не сказалось на поведении пользователей и, при желании, шрифты можно поменять, но дополнительной выгоды это не принесет, впрочем, и не ухудшит ситуацию."
   ]
  }
 ],
 "metadata": {
  "ExecuteTimeLog": [
   {
    "duration": 1420,
    "start_time": "2022-05-18T11:55:44.570Z"
   },
   {
    "duration": 729,
    "start_time": "2022-05-18T11:55:45.992Z"
   },
   {
    "duration": 133,
    "start_time": "2022-05-18T11:55:46.722Z"
   },
   {
    "duration": 193,
    "start_time": "2022-05-18T11:55:46.857Z"
   },
   {
    "duration": 49,
    "start_time": "2022-05-18T11:55:47.052Z"
   },
   {
    "duration": 12,
    "start_time": "2022-05-18T11:55:47.103Z"
   },
   {
    "duration": 465,
    "start_time": "2022-05-18T11:55:47.117Z"
   },
   {
    "duration": 32,
    "start_time": "2022-05-18T11:55:47.584Z"
   },
   {
    "duration": 125,
    "start_time": "2022-05-18T11:55:47.619Z"
   },
   {
    "duration": 26,
    "start_time": "2022-05-18T11:55:47.747Z"
   },
   {
    "duration": 97,
    "start_time": "2022-05-18T11:55:47.775Z"
   },
   {
    "duration": 25,
    "start_time": "2022-05-18T11:55:47.874Z"
   },
   {
    "duration": 12,
    "start_time": "2022-05-18T11:55:47.901Z"
   },
   {
    "duration": 18,
    "start_time": "2022-05-18T11:55:47.915Z"
   },
   {
    "duration": 167,
    "start_time": "2022-05-18T11:55:47.935Z"
   },
   {
    "duration": 4,
    "start_time": "2022-05-18T11:55:48.104Z"
   },
   {
    "duration": 86,
    "start_time": "2022-05-18T11:55:48.109Z"
   },
   {
    "duration": 131,
    "start_time": "2022-05-18T11:55:48.197Z"
   },
   {
    "duration": 151,
    "start_time": "2022-05-18T11:55:48.330Z"
   },
   {
    "duration": 14,
    "start_time": "2022-05-18T12:05:48.539Z"
   },
   {
    "duration": 17,
    "start_time": "2022-05-18T12:06:22.548Z"
   },
   {
    "duration": 14,
    "start_time": "2022-05-18T12:06:23.363Z"
   },
   {
    "duration": 12,
    "start_time": "2022-05-18T12:06:37.788Z"
   },
   {
    "duration": 57,
    "start_time": "2022-05-18T12:06:59.854Z"
   },
   {
    "duration": 646,
    "start_time": "2022-05-18T12:07:04.607Z"
   },
   {
    "duration": 12,
    "start_time": "2022-05-18T12:07:16.156Z"
   },
   {
    "duration": 10,
    "start_time": "2022-05-18T12:20:37.905Z"
   },
   {
    "duration": 10,
    "start_time": "2022-05-18T12:20:42.838Z"
   },
   {
    "duration": 9,
    "start_time": "2022-05-18T12:56:35.137Z"
   },
   {
    "duration": 34,
    "start_time": "2022-05-18T12:56:39.913Z"
   },
   {
    "duration": 869,
    "start_time": "2022-05-18T12:56:40.412Z"
   },
   {
    "duration": 2549,
    "start_time": "2022-05-18T13:05:12.064Z"
   },
   {
    "duration": 960,
    "start_time": "2022-05-18T13:05:27.690Z"
   },
   {
    "duration": 634,
    "start_time": "2022-05-18T13:05:36.619Z"
   },
   {
    "duration": 33,
    "start_time": "2022-05-18T13:06:39.259Z"
   },
   {
    "duration": 7,
    "start_time": "2022-05-18T13:06:45.709Z"
   },
   {
    "duration": 53,
    "start_time": "2022-05-18T13:06:53.016Z"
   },
   {
    "duration": 72,
    "start_time": "2022-05-18T13:07:21.588Z"
   },
   {
    "duration": 49,
    "start_time": "2022-05-18T13:07:30.052Z"
   },
   {
    "duration": 38,
    "start_time": "2022-05-18T13:10:59.493Z"
   },
   {
    "duration": 6,
    "start_time": "2022-05-18T13:12:19.554Z"
   },
   {
    "duration": 32,
    "start_time": "2022-05-18T13:12:48.013Z"
   },
   {
    "duration": 39,
    "start_time": "2022-05-18T13:12:58.584Z"
   },
   {
    "duration": 56,
    "start_time": "2022-05-18T13:14:44.609Z"
   },
   {
    "duration": 88,
    "start_time": "2022-05-18T13:14:54.339Z"
   },
   {
    "duration": 52,
    "start_time": "2022-05-18T13:15:11.905Z"
   },
   {
    "duration": 676,
    "start_time": "2022-05-18T13:15:28.233Z"
   },
   {
    "duration": 8,
    "start_time": "2022-05-18T13:15:44.034Z"
   },
   {
    "duration": 74,
    "start_time": "2022-05-18T13:16:23.282Z"
   },
   {
    "duration": 54,
    "start_time": "2022-05-18T13:17:33.908Z"
   },
   {
    "duration": 60,
    "start_time": "2022-05-18T13:17:58.249Z"
   },
   {
    "duration": 78,
    "start_time": "2022-05-18T13:18:14.280Z"
   },
   {
    "duration": 61,
    "start_time": "2022-05-18T13:18:24.327Z"
   },
   {
    "duration": 51,
    "start_time": "2022-05-18T13:18:40.042Z"
   },
   {
    "duration": 57,
    "start_time": "2022-05-18T13:18:50.884Z"
   },
   {
    "duration": 62,
    "start_time": "2022-05-18T13:19:23.825Z"
   },
   {
    "duration": 89,
    "start_time": "2022-05-18T13:19:33.226Z"
   },
   {
    "duration": 66,
    "start_time": "2022-05-18T13:19:48.423Z"
   },
   {
    "duration": 3572,
    "start_time": "2022-05-18T13:20:41.201Z"
   },
   {
    "duration": 4,
    "start_time": "2022-05-18T13:20:52.329Z"
   },
   {
    "duration": 37,
    "start_time": "2022-05-18T13:21:06.510Z"
   },
   {
    "duration": 36,
    "start_time": "2022-05-18T13:21:29.381Z"
   },
   {
    "duration": 13,
    "start_time": "2022-05-18T13:21:51.966Z"
   },
   {
    "duration": 12,
    "start_time": "2022-05-18T13:22:06.860Z"
   },
   {
    "duration": 62,
    "start_time": "2022-05-18T13:24:37.552Z"
   },
   {
    "duration": 13,
    "start_time": "2022-05-18T13:25:16.486Z"
   },
   {
    "duration": 19,
    "start_time": "2022-05-18T13:25:47.302Z"
   },
   {
    "duration": 11,
    "start_time": "2022-05-18T13:26:11.513Z"
   },
   {
    "duration": 15,
    "start_time": "2022-05-18T13:26:22.114Z"
   },
   {
    "duration": 11,
    "start_time": "2022-05-18T13:26:39.150Z"
   },
   {
    "duration": 14,
    "start_time": "2022-05-18T14:55:41.875Z"
   },
   {
    "duration": 14,
    "start_time": "2022-05-18T14:59:07.143Z"
   },
   {
    "duration": 94,
    "start_time": "2022-05-18T14:59:15.428Z"
   },
   {
    "duration": 77,
    "start_time": "2022-05-18T14:59:25.069Z"
   },
   {
    "duration": 81,
    "start_time": "2022-05-18T15:02:34.019Z"
   },
   {
    "duration": 1042,
    "start_time": "2022-05-18T15:04:56.149Z"
   },
   {
    "duration": 64,
    "start_time": "2022-05-18T15:42:18.825Z"
   },
   {
    "duration": 979,
    "start_time": "2022-05-18T15:44:59.862Z"
   },
   {
    "duration": 5,
    "start_time": "2022-05-18T15:45:04.565Z"
   },
   {
    "duration": 859,
    "start_time": "2022-05-18T15:45:04.572Z"
   },
   {
    "duration": 143,
    "start_time": "2022-05-18T15:45:05.433Z"
   },
   {
    "duration": 124,
    "start_time": "2022-05-18T15:45:05.579Z"
   },
   {
    "duration": 44,
    "start_time": "2022-05-18T15:45:05.705Z"
   },
   {
    "duration": 10,
    "start_time": "2022-05-18T15:45:05.750Z"
   },
   {
    "duration": 275,
    "start_time": "2022-05-18T15:45:05.762Z"
   },
   {
    "duration": 17,
    "start_time": "2022-05-18T15:45:06.038Z"
   },
   {
    "duration": 102,
    "start_time": "2022-05-18T15:45:06.057Z"
   },
   {
    "duration": 24,
    "start_time": "2022-05-18T15:45:06.161Z"
   },
   {
    "duration": 82,
    "start_time": "2022-05-18T15:45:06.202Z"
   },
   {
    "duration": 28,
    "start_time": "2022-05-18T15:45:06.285Z"
   },
   {
    "duration": 11,
    "start_time": "2022-05-18T15:45:06.320Z"
   },
   {
    "duration": 13,
    "start_time": "2022-05-18T15:45:06.332Z"
   },
   {
    "duration": 16,
    "start_time": "2022-05-18T15:45:06.346Z"
   },
   {
    "duration": 6,
    "start_time": "2022-05-18T15:45:06.364Z"
   },
   {
    "duration": 54,
    "start_time": "2022-05-18T15:45:06.372Z"
   },
   {
    "duration": 53,
    "start_time": "2022-05-18T15:45:06.428Z"
   },
   {
    "duration": 64,
    "start_time": "2022-05-18T15:45:06.482Z"
   },
   {
    "duration": 13,
    "start_time": "2022-05-18T15:45:06.548Z"
   },
   {
    "duration": 13,
    "start_time": "2022-05-18T15:45:06.562Z"
   },
   {
    "duration": 97,
    "start_time": "2022-05-18T15:45:06.577Z"
   },
   {
    "duration": 932,
    "start_time": "2022-05-18T15:46:36.560Z"
   },
   {
    "duration": 12,
    "start_time": "2022-05-18T15:47:16.731Z"
   },
   {
    "duration": 16,
    "start_time": "2022-05-18T15:47:34.730Z"
   },
   {
    "duration": 13,
    "start_time": "2022-05-18T15:47:50.950Z"
   },
   {
    "duration": 1189,
    "start_time": "2022-05-18T15:47:56.969Z"
   },
   {
    "duration": 19,
    "start_time": "2022-05-18T15:48:04.945Z"
   },
   {
    "duration": 718,
    "start_time": "2022-05-18T15:48:28.422Z"
   },
   {
    "duration": 775,
    "start_time": "2022-05-18T15:49:03.624Z"
   },
   {
    "duration": 4,
    "start_time": "2022-05-18T15:49:12.919Z"
   },
   {
    "duration": 80,
    "start_time": "2022-05-18T15:54:55.310Z"
   },
   {
    "duration": 1519,
    "start_time": "2022-05-19T12:08:40.322Z"
   },
   {
    "duration": 762,
    "start_time": "2022-05-19T12:08:41.843Z"
   },
   {
    "duration": 144,
    "start_time": "2022-05-19T12:08:42.606Z"
   },
   {
    "duration": 195,
    "start_time": "2022-05-19T12:08:42.752Z"
   },
   {
    "duration": 54,
    "start_time": "2022-05-19T12:08:42.948Z"
   },
   {
    "duration": 12,
    "start_time": "2022-05-19T12:08:43.003Z"
   },
   {
    "duration": 373,
    "start_time": "2022-05-19T12:08:43.017Z"
   },
   {
    "duration": 19,
    "start_time": "2022-05-19T12:08:43.395Z"
   },
   {
    "duration": 107,
    "start_time": "2022-05-19T12:08:43.415Z"
   },
   {
    "duration": 27,
    "start_time": "2022-05-19T12:08:43.524Z"
   },
   {
    "duration": 76,
    "start_time": "2022-05-19T12:08:43.553Z"
   },
   {
    "duration": 15,
    "start_time": "2022-05-19T12:08:43.632Z"
   },
   {
    "duration": 10,
    "start_time": "2022-05-19T12:08:43.649Z"
   },
   {
    "duration": 46,
    "start_time": "2022-05-19T12:08:43.661Z"
   },
   {
    "duration": 128,
    "start_time": "2022-05-19T12:08:43.709Z"
   },
   {
    "duration": 4,
    "start_time": "2022-05-19T12:08:43.839Z"
   },
   {
    "duration": 72,
    "start_time": "2022-05-19T12:08:43.845Z"
   },
   {
    "duration": 110,
    "start_time": "2022-05-19T12:08:43.919Z"
   },
   {
    "duration": 111,
    "start_time": "2022-05-19T12:08:44.031Z"
   },
   {
    "duration": 56,
    "start_time": "2022-05-19T12:08:44.143Z"
   },
   {
    "duration": 13,
    "start_time": "2022-05-19T12:08:44.201Z"
   },
   {
    "duration": 96,
    "start_time": "2022-05-19T12:08:44.216Z"
   },
   {
    "duration": 15,
    "start_time": "2022-05-19T12:08:44.314Z"
   },
   {
    "duration": 5,
    "start_time": "2022-05-19T12:08:44.331Z"
   },
   {
    "duration": 7,
    "start_time": "2022-05-19T12:08:44.338Z"
   },
   {
    "duration": 151,
    "start_time": "2022-05-19T12:08:44.347Z"
   },
   {
    "duration": 0,
    "start_time": "2022-05-19T12:08:44.499Z"
   },
   {
    "duration": 0,
    "start_time": "2022-05-19T12:08:44.501Z"
   },
   {
    "duration": 0,
    "start_time": "2022-05-19T12:08:44.502Z"
   },
   {
    "duration": 0,
    "start_time": "2022-05-19T12:08:44.503Z"
   },
   {
    "duration": 608,
    "start_time": "2022-05-19T12:26:09.946Z"
   },
   {
    "duration": 10,
    "start_time": "2022-05-19T12:26:48.721Z"
   },
   {
    "duration": 6,
    "start_time": "2022-05-19T12:26:50.843Z"
   },
   {
    "duration": 6,
    "start_time": "2022-05-19T12:26:56.894Z"
   },
   {
    "duration": 14,
    "start_time": "2022-05-19T12:26:57.479Z"
   },
   {
    "duration": 6,
    "start_time": "2022-05-19T12:28:01.378Z"
   },
   {
    "duration": 14,
    "start_time": "2022-05-19T12:28:04.237Z"
   },
   {
    "duration": 4,
    "start_time": "2022-05-19T12:28:33.021Z"
   },
   {
    "duration": 6,
    "start_time": "2022-05-19T12:28:37.615Z"
   },
   {
    "duration": 13,
    "start_time": "2022-05-19T12:28:39.126Z"
   },
   {
    "duration": 5,
    "start_time": "2022-05-19T12:29:13.114Z"
   },
   {
    "duration": 6,
    "start_time": "2022-05-19T12:29:16.880Z"
   },
   {
    "duration": 6,
    "start_time": "2022-05-19T12:29:17.323Z"
   },
   {
    "duration": 5,
    "start_time": "2022-05-19T12:30:02.758Z"
   },
   {
    "duration": 11,
    "start_time": "2022-05-19T12:30:17.194Z"
   },
   {
    "duration": 4,
    "start_time": "2022-05-19T12:30:41.059Z"
   },
   {
    "duration": 5,
    "start_time": "2022-05-19T12:30:50.945Z"
   },
   {
    "duration": 8,
    "start_time": "2022-05-19T12:31:19.441Z"
   },
   {
    "duration": 5,
    "start_time": "2022-05-19T12:31:48.100Z"
   },
   {
    "duration": 18,
    "start_time": "2022-05-19T13:23:39.255Z"
   },
   {
    "duration": 559,
    "start_time": "2022-05-19T13:24:17.883Z"
   },
   {
    "duration": 0,
    "start_time": "2022-05-19T13:24:18.444Z"
   },
   {
    "duration": 9,
    "start_time": "2022-05-19T13:24:19.064Z"
   },
   {
    "duration": 11,
    "start_time": "2022-05-19T13:24:58.304Z"
   },
   {
    "duration": 10,
    "start_time": "2022-05-19T13:24:58.844Z"
   },
   {
    "duration": 10,
    "start_time": "2022-05-19T13:24:59.529Z"
   },
   {
    "duration": 21,
    "start_time": "2022-05-19T13:25:40.465Z"
   },
   {
    "duration": 102,
    "start_time": "2022-05-19T13:25:48.830Z"
   },
   {
    "duration": 12,
    "start_time": "2022-05-19T13:25:54.628Z"
   },
   {
    "duration": 14,
    "start_time": "2022-05-19T13:27:05.447Z"
   },
   {
    "duration": 44,
    "start_time": "2022-05-19T13:27:15.733Z"
   },
   {
    "duration": 40,
    "start_time": "2022-05-19T13:28:33.000Z"
   },
   {
    "duration": 39,
    "start_time": "2022-05-19T13:30:29.591Z"
   },
   {
    "duration": 87,
    "start_time": "2022-05-19T13:31:53.847Z"
   },
   {
    "duration": 86,
    "start_time": "2022-05-19T13:31:59.599Z"
   },
   {
    "duration": 85,
    "start_time": "2022-05-19T13:32:06.035Z"
   },
   {
    "duration": 6,
    "start_time": "2022-05-19T13:32:07.891Z"
   },
   {
    "duration": 42,
    "start_time": "2022-05-19T13:32:09.707Z"
   },
   {
    "duration": 20,
    "start_time": "2022-05-19T13:32:10.613Z"
   },
   {
    "duration": 39,
    "start_time": "2022-05-19T13:32:38.121Z"
   },
   {
    "duration": 87,
    "start_time": "2022-05-19T13:32:41.951Z"
   },
   {
    "duration": 8,
    "start_time": "2022-05-19T13:32:43.945Z"
   },
   {
    "duration": 5,
    "start_time": "2022-05-19T13:33:49.394Z"
   },
   {
    "duration": 167,
    "start_time": "2022-05-19T13:33:49.401Z"
   },
   {
    "duration": 138,
    "start_time": "2022-05-19T13:33:49.570Z"
   },
   {
    "duration": 116,
    "start_time": "2022-05-19T13:33:49.709Z"
   },
   {
    "duration": 37,
    "start_time": "2022-05-19T13:33:49.827Z"
   },
   {
    "duration": 34,
    "start_time": "2022-05-19T13:33:49.865Z"
   },
   {
    "duration": 259,
    "start_time": "2022-05-19T13:33:49.901Z"
   },
   {
    "duration": 14,
    "start_time": "2022-05-19T13:33:50.162Z"
   },
   {
    "duration": 94,
    "start_time": "2022-05-19T13:33:50.177Z"
   },
   {
    "duration": 40,
    "start_time": "2022-05-19T13:33:50.273Z"
   },
   {
    "duration": 58,
    "start_time": "2022-05-19T13:33:50.315Z"
   },
   {
    "duration": 27,
    "start_time": "2022-05-19T13:33:50.375Z"
   },
   {
    "duration": 8,
    "start_time": "2022-05-19T13:33:50.403Z"
   },
   {
    "duration": 16,
    "start_time": "2022-05-19T13:33:50.413Z"
   },
   {
    "duration": 15,
    "start_time": "2022-05-19T13:33:50.430Z"
   },
   {
    "duration": 3,
    "start_time": "2022-05-19T13:33:50.447Z"
   },
   {
    "duration": 71,
    "start_time": "2022-05-19T13:33:50.452Z"
   },
   {
    "duration": 70,
    "start_time": "2022-05-19T13:33:50.525Z"
   },
   {
    "duration": 53,
    "start_time": "2022-05-19T13:33:50.596Z"
   },
   {
    "duration": 12,
    "start_time": "2022-05-19T13:33:50.650Z"
   },
   {
    "duration": 91,
    "start_time": "2022-05-19T13:33:50.663Z"
   },
   {
    "duration": 16,
    "start_time": "2022-05-19T13:33:50.756Z"
   },
   {
    "duration": 28,
    "start_time": "2022-05-19T13:33:50.773Z"
   },
   {
    "duration": 6,
    "start_time": "2022-05-19T13:33:50.803Z"
   },
   {
    "duration": 9,
    "start_time": "2022-05-19T13:33:50.810Z"
   },
   {
    "duration": 7,
    "start_time": "2022-05-19T13:33:50.821Z"
   },
   {
    "duration": 10,
    "start_time": "2022-05-19T13:33:50.829Z"
   },
   {
    "duration": 577,
    "start_time": "2022-05-19T13:33:50.840Z"
   },
   {
    "duration": 0,
    "start_time": "2022-05-19T13:33:51.419Z"
   },
   {
    "duration": 0,
    "start_time": "2022-05-19T13:33:51.421Z"
   },
   {
    "duration": 0,
    "start_time": "2022-05-19T13:33:51.422Z"
   },
   {
    "duration": 4,
    "start_time": "2022-05-19T13:37:50.726Z"
   },
   {
    "duration": 5,
    "start_time": "2022-05-19T13:38:17.311Z"
   },
   {
    "duration": 5,
    "start_time": "2022-05-19T13:38:20.475Z"
   },
   {
    "duration": 155,
    "start_time": "2022-05-19T13:38:20.482Z"
   },
   {
    "duration": 136,
    "start_time": "2022-05-19T13:38:20.639Z"
   },
   {
    "duration": 92,
    "start_time": "2022-05-19T13:38:20.777Z"
   },
   {
    "duration": 59,
    "start_time": "2022-05-19T13:38:20.870Z"
   },
   {
    "duration": 9,
    "start_time": "2022-05-19T13:38:20.930Z"
   },
   {
    "duration": 242,
    "start_time": "2022-05-19T13:38:20.940Z"
   },
   {
    "duration": 22,
    "start_time": "2022-05-19T13:38:21.184Z"
   },
   {
    "duration": 71,
    "start_time": "2022-05-19T13:38:21.209Z"
   },
   {
    "duration": 23,
    "start_time": "2022-05-19T13:38:21.294Z"
   },
   {
    "duration": 57,
    "start_time": "2022-05-19T13:38:21.319Z"
   },
   {
    "duration": 26,
    "start_time": "2022-05-19T13:38:21.378Z"
   },
   {
    "duration": 8,
    "start_time": "2022-05-19T13:38:21.406Z"
   },
   {
    "duration": 108,
    "start_time": "2022-05-19T13:38:21.415Z"
   },
   {
    "duration": 14,
    "start_time": "2022-05-19T13:38:21.525Z"
   },
   {
    "duration": 4,
    "start_time": "2022-05-19T13:38:21.540Z"
   },
   {
    "duration": 62,
    "start_time": "2022-05-19T13:38:21.546Z"
   },
   {
    "duration": 49,
    "start_time": "2022-05-19T13:38:21.609Z"
   },
   {
    "duration": 67,
    "start_time": "2022-05-19T13:38:21.660Z"
   },
   {
    "duration": 12,
    "start_time": "2022-05-19T13:38:21.729Z"
   },
   {
    "duration": 79,
    "start_time": "2022-05-19T13:38:21.743Z"
   },
   {
    "duration": 15,
    "start_time": "2022-05-19T13:38:21.823Z"
   },
   {
    "duration": 10,
    "start_time": "2022-05-19T13:38:21.840Z"
   },
   {
    "duration": 6,
    "start_time": "2022-05-19T13:38:21.853Z"
   },
   {
    "duration": 35,
    "start_time": "2022-05-19T13:38:21.860Z"
   },
   {
    "duration": 6,
    "start_time": "2022-05-19T13:38:21.897Z"
   },
   {
    "duration": 9,
    "start_time": "2022-05-19T13:38:21.904Z"
   },
   {
    "duration": 628,
    "start_time": "2022-05-19T13:38:21.914Z"
   },
   {
    "duration": 0,
    "start_time": "2022-05-19T13:38:22.543Z"
   },
   {
    "duration": 0,
    "start_time": "2022-05-19T13:38:22.544Z"
   },
   {
    "duration": 3,
    "start_time": "2022-05-19T13:39:53.363Z"
   },
   {
    "duration": 627,
    "start_time": "2022-05-19T13:39:59.057Z"
   },
   {
    "duration": 114,
    "start_time": "2022-05-19T13:40:07.166Z"
   },
   {
    "duration": 82,
    "start_time": "2022-05-19T13:40:15.495Z"
   },
   {
    "duration": 10,
    "start_time": "2022-05-19T13:40:21.449Z"
   },
   {
    "duration": 9,
    "start_time": "2022-05-19T13:40:29.694Z"
   },
   {
    "duration": 175,
    "start_time": "2022-05-19T13:40:29.705Z"
   },
   {
    "duration": 148,
    "start_time": "2022-05-19T13:40:29.882Z"
   },
   {
    "duration": 108,
    "start_time": "2022-05-19T13:40:30.031Z"
   },
   {
    "duration": 70,
    "start_time": "2022-05-19T13:40:30.141Z"
   },
   {
    "duration": 11,
    "start_time": "2022-05-19T13:40:30.213Z"
   },
   {
    "duration": 260,
    "start_time": "2022-05-19T13:40:30.227Z"
   },
   {
    "duration": 20,
    "start_time": "2022-05-19T13:40:30.495Z"
   },
   {
    "duration": 94,
    "start_time": "2022-05-19T13:40:30.517Z"
   },
   {
    "duration": 26,
    "start_time": "2022-05-19T13:40:30.613Z"
   },
   {
    "duration": 83,
    "start_time": "2022-05-19T13:40:30.641Z"
   },
   {
    "duration": 13,
    "start_time": "2022-05-19T13:40:30.726Z"
   },
   {
    "duration": 12,
    "start_time": "2022-05-19T13:40:30.741Z"
   },
   {
    "duration": 63,
    "start_time": "2022-05-19T13:40:30.756Z"
   },
   {
    "duration": 37,
    "start_time": "2022-05-19T13:40:30.821Z"
   },
   {
    "duration": 27,
    "start_time": "2022-05-19T13:40:30.859Z"
   },
   {
    "duration": 64,
    "start_time": "2022-05-19T13:40:30.887Z"
   },
   {
    "duration": 60,
    "start_time": "2022-05-19T13:40:30.953Z"
   },
   {
    "duration": 55,
    "start_time": "2022-05-19T13:40:31.015Z"
   },
   {
    "duration": 40,
    "start_time": "2022-05-19T13:40:31.071Z"
   },
   {
    "duration": 75,
    "start_time": "2022-05-19T13:40:31.114Z"
   },
   {
    "duration": 35,
    "start_time": "2022-05-19T13:40:31.190Z"
   },
   {
    "duration": 47,
    "start_time": "2022-05-19T13:40:31.226Z"
   },
   {
    "duration": 8,
    "start_time": "2022-05-19T13:40:31.274Z"
   },
   {
    "duration": 32,
    "start_time": "2022-05-19T13:40:31.284Z"
   },
   {
    "duration": 11,
    "start_time": "2022-05-19T13:40:31.318Z"
   },
   {
    "duration": 14,
    "start_time": "2022-05-19T13:40:31.331Z"
   },
   {
    "duration": 1888,
    "start_time": "2022-05-19T13:40:31.347Z"
   },
   {
    "duration": 0,
    "start_time": "2022-05-19T13:40:33.237Z"
   },
   {
    "duration": 0,
    "start_time": "2022-05-19T13:40:33.238Z"
   },
   {
    "duration": 82,
    "start_time": "2022-05-19T13:40:36.465Z"
   },
   {
    "duration": 9,
    "start_time": "2022-05-19T13:40:37.006Z"
   },
   {
    "duration": 108,
    "start_time": "2022-05-19T13:41:23.054Z"
   },
   {
    "duration": 10,
    "start_time": "2022-05-19T13:42:03.196Z"
   },
   {
    "duration": 13,
    "start_time": "2022-05-19T13:42:13.610Z"
   },
   {
    "duration": 4,
    "start_time": "2022-05-19T13:42:21.514Z"
   },
   {
    "duration": 7,
    "start_time": "2022-05-19T13:42:24.815Z"
   },
   {
    "duration": 14,
    "start_time": "2022-05-19T13:42:59.994Z"
   },
   {
    "duration": 40,
    "start_time": "2022-05-19T13:44:28.625Z"
   },
   {
    "duration": 6,
    "start_time": "2022-05-19T13:45:08.632Z"
   },
   {
    "duration": 7,
    "start_time": "2022-05-19T13:45:10.698Z"
   },
   {
    "duration": 642,
    "start_time": "2022-05-19T13:46:47.498Z"
   },
   {
    "duration": 7,
    "start_time": "2022-05-19T13:46:48.286Z"
   },
   {
    "duration": 694,
    "start_time": "2022-05-19T13:47:00.062Z"
   },
   {
    "duration": 4,
    "start_time": "2022-05-19T13:47:17.521Z"
   },
   {
    "duration": 7,
    "start_time": "2022-05-19T13:47:19.612Z"
   },
   {
    "duration": 583,
    "start_time": "2022-05-19T13:55:09.692Z"
   },
   {
    "duration": 74,
    "start_time": "2022-05-19T13:55:26.996Z"
   },
   {
    "duration": 645,
    "start_time": "2022-05-19T13:55:33.302Z"
   },
   {
    "duration": 667,
    "start_time": "2022-05-19T13:55:56.566Z"
   },
   {
    "duration": 783,
    "start_time": "2022-05-19T13:56:53.248Z"
   },
   {
    "duration": 3,
    "start_time": "2022-05-19T13:57:20.709Z"
   },
   {
    "duration": 9,
    "start_time": "2022-05-19T13:57:28.892Z"
   },
   {
    "duration": 9,
    "start_time": "2022-05-19T13:57:30.409Z"
   },
   {
    "duration": 43,
    "start_time": "2022-05-19T13:57:35.293Z"
   },
   {
    "duration": 33,
    "start_time": "2022-05-19T13:58:22.421Z"
   },
   {
    "duration": 10,
    "start_time": "2022-05-19T13:59:41.010Z"
   },
   {
    "duration": 12,
    "start_time": "2022-05-19T13:59:52.452Z"
   },
   {
    "duration": 8,
    "start_time": "2022-05-19T14:01:36.295Z"
   },
   {
    "duration": 11,
    "start_time": "2022-05-19T14:01:54.381Z"
   },
   {
    "duration": 8,
    "start_time": "2022-05-19T14:02:01.389Z"
   },
   {
    "duration": 35,
    "start_time": "2022-05-19T14:02:19.123Z"
   },
   {
    "duration": 30,
    "start_time": "2022-05-19T14:03:12.517Z"
   },
   {
    "duration": 7,
    "start_time": "2022-05-19T14:08:20.387Z"
   },
   {
    "duration": 35,
    "start_time": "2022-05-19T14:15:58.921Z"
   },
   {
    "duration": 5,
    "start_time": "2022-05-19T14:19:15.143Z"
   },
   {
    "duration": 179,
    "start_time": "2022-05-19T14:19:15.152Z"
   },
   {
    "duration": 136,
    "start_time": "2022-05-19T14:19:15.333Z"
   },
   {
    "duration": 97,
    "start_time": "2022-05-19T14:19:15.471Z"
   },
   {
    "duration": 48,
    "start_time": "2022-05-19T14:19:15.570Z"
   },
   {
    "duration": 9,
    "start_time": "2022-05-19T14:19:15.619Z"
   },
   {
    "duration": 248,
    "start_time": "2022-05-19T14:19:15.630Z"
   },
   {
    "duration": 19,
    "start_time": "2022-05-19T14:19:15.880Z"
   },
   {
    "duration": 74,
    "start_time": "2022-05-19T14:19:15.901Z"
   },
   {
    "duration": 40,
    "start_time": "2022-05-19T14:19:15.976Z"
   },
   {
    "duration": 65,
    "start_time": "2022-05-19T14:19:16.018Z"
   },
   {
    "duration": 14,
    "start_time": "2022-05-19T14:19:16.084Z"
   },
   {
    "duration": 19,
    "start_time": "2022-05-19T14:19:16.099Z"
   },
   {
    "duration": 18,
    "start_time": "2022-05-19T14:19:16.120Z"
   },
   {
    "duration": 20,
    "start_time": "2022-05-19T14:19:16.140Z"
   },
   {
    "duration": 11,
    "start_time": "2022-05-19T14:19:16.161Z"
   },
   {
    "duration": 49,
    "start_time": "2022-05-19T14:19:16.174Z"
   },
   {
    "duration": 50,
    "start_time": "2022-05-19T14:19:16.225Z"
   },
   {
    "duration": 70,
    "start_time": "2022-05-19T14:19:16.276Z"
   },
   {
    "duration": 12,
    "start_time": "2022-05-19T14:19:16.348Z"
   },
   {
    "duration": 82,
    "start_time": "2022-05-19T14:19:16.361Z"
   },
   {
    "duration": 13,
    "start_time": "2022-05-19T14:19:16.444Z"
   },
   {
    "duration": 27,
    "start_time": "2022-05-19T14:19:16.459Z"
   },
   {
    "duration": 20,
    "start_time": "2022-05-19T14:19:16.488Z"
   },
   {
    "duration": 28,
    "start_time": "2022-05-19T14:19:16.510Z"
   },
   {
    "duration": 26,
    "start_time": "2022-05-19T14:19:16.540Z"
   },
   {
    "duration": 32,
    "start_time": "2022-05-19T14:19:16.568Z"
   },
   {
    "duration": 705,
    "start_time": "2022-05-19T14:19:16.601Z"
   },
   {
    "duration": 0,
    "start_time": "2022-05-19T14:19:17.308Z"
   },
   {
    "duration": 13,
    "start_time": "2022-05-19T14:20:36.956Z"
   },
   {
    "duration": 36,
    "start_time": "2022-05-19T14:20:48.977Z"
   },
   {
    "duration": 7,
    "start_time": "2022-05-19T14:21:17.108Z"
   },
   {
    "duration": 42,
    "start_time": "2022-05-19T14:21:47.191Z"
   },
   {
    "duration": 18,
    "start_time": "2022-05-19T14:23:25.912Z"
   },
   {
    "duration": 8,
    "start_time": "2022-05-19T14:23:37.150Z"
   },
   {
    "duration": 118,
    "start_time": "2022-05-19T14:26:39.366Z"
   },
   {
    "duration": 2,
    "start_time": "2022-05-19T14:30:23.815Z"
   },
   {
    "duration": 86,
    "start_time": "2022-05-19T14:34:48.114Z"
   },
   {
    "duration": 53,
    "start_time": "2022-05-19T14:34:49.361Z"
   },
   {
    "duration": 73,
    "start_time": "2022-05-19T14:50:34.406Z"
   },
   {
    "duration": 7,
    "start_time": "2022-05-19T14:55:16.510Z"
   },
   {
    "duration": 767,
    "start_time": "2022-05-19T14:55:17.594Z"
   },
   {
    "duration": 11,
    "start_time": "2022-05-19T14:55:49.582Z"
   },
   {
    "duration": 7,
    "start_time": "2022-05-19T14:56:41.565Z"
   },
   {
    "duration": 75,
    "start_time": "2022-05-19T15:07:30.908Z"
   },
   {
    "duration": 11,
    "start_time": "2022-05-19T15:07:32.023Z"
   },
   {
    "duration": 37,
    "start_time": "2022-05-19T15:07:46.077Z"
   },
   {
    "duration": 49,
    "start_time": "2022-05-19T15:07:59.115Z"
   },
   {
    "duration": 52,
    "start_time": "2022-05-19T15:08:05.539Z"
   },
   {
    "duration": 11,
    "start_time": "2022-05-19T15:09:18.842Z"
   },
   {
    "duration": 726,
    "start_time": "2022-05-19T15:09:27.665Z"
   },
   {
    "duration": 467,
    "start_time": "2022-05-19T15:09:43.320Z"
   },
   {
    "duration": 5,
    "start_time": "2022-05-19T15:11:02.465Z"
   },
   {
    "duration": 6,
    "start_time": "2022-05-19T15:19:14.220Z"
   },
   {
    "duration": 9,
    "start_time": "2022-05-19T15:19:17.209Z"
   },
   {
    "duration": 768,
    "start_time": "2022-05-19T15:19:26.878Z"
   },
   {
    "duration": 743,
    "start_time": "2022-05-19T15:27:05.581Z"
   },
   {
    "duration": 653,
    "start_time": "2022-05-19T15:28:22.630Z"
   },
   {
    "duration": 89,
    "start_time": "2022-05-19T15:32:16.982Z"
   },
   {
    "duration": 39,
    "start_time": "2022-05-19T15:32:19.553Z"
   },
   {
    "duration": 9,
    "start_time": "2022-05-19T15:32:20.437Z"
   },
   {
    "duration": 842,
    "start_time": "2022-05-19T15:32:21.352Z"
   },
   {
    "duration": 8,
    "start_time": "2022-05-19T15:33:01.979Z"
   },
   {
    "duration": 521,
    "start_time": "2022-05-19T15:33:02.795Z"
   },
   {
    "duration": 7,
    "start_time": "2022-05-19T15:33:08.311Z"
   },
   {
    "duration": 439,
    "start_time": "2022-05-19T15:33:09.390Z"
   },
   {
    "duration": 620,
    "start_time": "2022-05-19T15:33:28.058Z"
   },
   {
    "duration": 84,
    "start_time": "2022-05-19T15:34:46.883Z"
   },
   {
    "duration": 44,
    "start_time": "2022-05-19T15:34:50.188Z"
   },
   {
    "duration": 632,
    "start_time": "2022-05-19T15:38:34.055Z"
   },
   {
    "duration": 666,
    "start_time": "2022-05-19T15:38:49.532Z"
   },
   {
    "duration": 83,
    "start_time": "2022-05-19T15:42:23.224Z"
   },
   {
    "duration": 106,
    "start_time": "2022-05-19T15:42:42.254Z"
   },
   {
    "duration": 81,
    "start_time": "2022-05-19T15:43:49.499Z"
   },
   {
    "duration": 620,
    "start_time": "2022-05-19T15:43:53.394Z"
   },
   {
    "duration": 43,
    "start_time": "2022-05-19T15:44:37.302Z"
   },
   {
    "duration": 98,
    "start_time": "2022-05-19T15:44:54.905Z"
   },
   {
    "duration": 55,
    "start_time": "2022-05-19T15:44:59.944Z"
   },
   {
    "duration": 670,
    "start_time": "2022-05-19T15:45:07.929Z"
   },
   {
    "duration": 41,
    "start_time": "2022-05-19T15:45:20.441Z"
   },
   {
    "duration": 6,
    "start_time": "2022-05-19T15:45:20.732Z"
   },
   {
    "duration": 8,
    "start_time": "2022-05-19T15:45:26.760Z"
   },
   {
    "duration": 22,
    "start_time": "2022-05-19T15:45:28.846Z"
   },
   {
    "duration": 7,
    "start_time": "2022-05-19T15:45:30.990Z"
   },
   {
    "duration": 226,
    "start_time": "2022-05-19T15:45:30.999Z"
   },
   {
    "duration": 161,
    "start_time": "2022-05-19T15:45:31.229Z"
   },
   {
    "duration": 119,
    "start_time": "2022-05-19T15:45:31.394Z"
   },
   {
    "duration": 42,
    "start_time": "2022-05-19T15:45:31.515Z"
   },
   {
    "duration": 38,
    "start_time": "2022-05-19T15:45:31.560Z"
   },
   {
    "duration": 266,
    "start_time": "2022-05-19T15:45:31.601Z"
   },
   {
    "duration": 25,
    "start_time": "2022-05-19T15:45:31.870Z"
   },
   {
    "duration": 123,
    "start_time": "2022-05-19T15:45:31.897Z"
   },
   {
    "duration": 47,
    "start_time": "2022-05-19T15:45:32.022Z"
   },
   {
    "duration": 102,
    "start_time": "2022-05-19T15:45:32.073Z"
   },
   {
    "duration": 30,
    "start_time": "2022-05-19T15:45:32.177Z"
   },
   {
    "duration": 10,
    "start_time": "2022-05-19T15:45:32.209Z"
   },
   {
    "duration": 20,
    "start_time": "2022-05-19T15:45:32.222Z"
   },
   {
    "duration": 20,
    "start_time": "2022-05-19T15:45:32.244Z"
   },
   {
    "duration": 41,
    "start_time": "2022-05-19T15:45:32.266Z"
   },
   {
    "duration": 7,
    "start_time": "2022-05-19T15:45:32.309Z"
   },
   {
    "duration": 109,
    "start_time": "2022-05-19T15:45:32.318Z"
   },
   {
    "duration": 43,
    "start_time": "2022-05-19T15:45:32.429Z"
   },
   {
    "duration": 21,
    "start_time": "2022-05-19T15:45:32.474Z"
   },
   {
    "duration": 40,
    "start_time": "2022-05-19T15:45:32.498Z"
   },
   {
    "duration": 5,
    "start_time": "2022-05-19T15:45:39.308Z"
   },
   {
    "duration": 28,
    "start_time": "2022-05-19T15:45:39.999Z"
   },
   {
    "duration": 632,
    "start_time": "2022-05-19T15:46:03.395Z"
   },
   {
    "duration": 614,
    "start_time": "2022-05-19T15:46:32.798Z"
   },
   {
    "duration": 721,
    "start_time": "2022-05-19T15:46:42.989Z"
   },
   {
    "duration": 50,
    "start_time": "2022-05-19T15:48:27.188Z"
   },
   {
    "duration": 39,
    "start_time": "2022-05-19T15:48:41.396Z"
   },
   {
    "duration": 38,
    "start_time": "2022-05-19T15:49:05.979Z"
   },
   {
    "duration": 17,
    "start_time": "2022-05-19T15:49:51.305Z"
   },
   {
    "duration": 74,
    "start_time": "2022-05-19T15:50:06.569Z"
   },
   {
    "duration": 39,
    "start_time": "2022-05-19T15:50:09.154Z"
   },
   {
    "duration": 6,
    "start_time": "2022-05-19T15:50:09.713Z"
   },
   {
    "duration": 15,
    "start_time": "2022-05-19T15:50:10.367Z"
   },
   {
    "duration": 14,
    "start_time": "2022-05-19T15:50:11.426Z"
   },
   {
    "duration": 4,
    "start_time": "2022-05-19T15:50:24.818Z"
   },
   {
    "duration": 6,
    "start_time": "2022-05-19T15:50:28.461Z"
   },
   {
    "duration": 10,
    "start_time": "2022-05-19T15:50:29.992Z"
   },
   {
    "duration": 6,
    "start_time": "2022-05-19T15:50:41.667Z"
   },
   {
    "duration": 47,
    "start_time": "2022-05-19T15:54:29.166Z"
   },
   {
    "duration": 38,
    "start_time": "2022-05-19T15:55:16.083Z"
   },
   {
    "duration": 52,
    "start_time": "2022-05-19T15:57:19.648Z"
   },
   {
    "duration": 11,
    "start_time": "2022-05-19T15:57:20.692Z"
   },
   {
    "duration": 5,
    "start_time": "2022-05-19T15:57:23.551Z"
   },
   {
    "duration": 11,
    "start_time": "2022-05-19T16:03:50.166Z"
   },
   {
    "duration": 12,
    "start_time": "2022-05-19T16:04:00.130Z"
   },
   {
    "duration": 617,
    "start_time": "2022-05-19T16:04:38.405Z"
   },
   {
    "duration": 11,
    "start_time": "2022-05-19T16:05:07.496Z"
   },
   {
    "duration": 9,
    "start_time": "2022-05-19T16:05:59.257Z"
   },
   {
    "duration": 13,
    "start_time": "2022-05-19T16:12:42.697Z"
   },
   {
    "duration": 11,
    "start_time": "2022-05-19T16:14:24.676Z"
   },
   {
    "duration": 10,
    "start_time": "2022-05-19T16:14:46.898Z"
   },
   {
    "duration": 51,
    "start_time": "2022-05-19T16:15:11.181Z"
   },
   {
    "duration": 10,
    "start_time": "2022-05-19T16:15:21.597Z"
   },
   {
    "duration": 4,
    "start_time": "2022-05-19T16:15:25.779Z"
   },
   {
    "duration": 150,
    "start_time": "2022-05-19T16:15:25.788Z"
   },
   {
    "duration": 128,
    "start_time": "2022-05-19T16:15:25.940Z"
   },
   {
    "duration": 93,
    "start_time": "2022-05-19T16:15:26.070Z"
   },
   {
    "duration": 42,
    "start_time": "2022-05-19T16:15:26.165Z"
   },
   {
    "duration": 11,
    "start_time": "2022-05-19T16:15:26.209Z"
   },
   {
    "duration": 234,
    "start_time": "2022-05-19T16:15:26.221Z"
   },
   {
    "duration": 13,
    "start_time": "2022-05-19T16:15:26.457Z"
   },
   {
    "duration": 82,
    "start_time": "2022-05-19T16:15:26.471Z"
   },
   {
    "duration": 24,
    "start_time": "2022-05-19T16:15:26.555Z"
   },
   {
    "duration": 52,
    "start_time": "2022-05-19T16:15:26.595Z"
   },
   {
    "duration": 11,
    "start_time": "2022-05-19T16:15:26.649Z"
   },
   {
    "duration": 7,
    "start_time": "2022-05-19T16:15:26.662Z"
   },
   {
    "duration": 35,
    "start_time": "2022-05-19T16:15:26.670Z"
   },
   {
    "duration": 13,
    "start_time": "2022-05-19T16:15:26.707Z"
   },
   {
    "duration": 5,
    "start_time": "2022-05-19T16:15:26.722Z"
   },
   {
    "duration": 7,
    "start_time": "2022-05-19T16:15:26.729Z"
   },
   {
    "duration": 104,
    "start_time": "2022-05-19T16:15:26.737Z"
   },
   {
    "duration": 34,
    "start_time": "2022-05-19T16:15:26.842Z"
   },
   {
    "duration": 38,
    "start_time": "2022-05-19T16:15:26.877Z"
   },
   {
    "duration": 0,
    "start_time": "2022-05-19T16:15:26.917Z"
   },
   {
    "duration": 0,
    "start_time": "2022-05-19T16:15:26.918Z"
   },
   {
    "duration": 0,
    "start_time": "2022-05-19T16:15:26.920Z"
   },
   {
    "duration": 0,
    "start_time": "2022-05-19T16:15:26.921Z"
   },
   {
    "duration": 0,
    "start_time": "2022-05-19T16:15:26.922Z"
   },
   {
    "duration": 0,
    "start_time": "2022-05-19T16:15:26.923Z"
   },
   {
    "duration": 0,
    "start_time": "2022-05-19T16:15:26.924Z"
   },
   {
    "duration": 0,
    "start_time": "2022-05-19T16:15:26.925Z"
   },
   {
    "duration": 0,
    "start_time": "2022-05-19T16:15:26.926Z"
   },
   {
    "duration": 0,
    "start_time": "2022-05-19T16:15:26.928Z"
   },
   {
    "duration": 0,
    "start_time": "2022-05-19T16:15:26.929Z"
   },
   {
    "duration": 0,
    "start_time": "2022-05-19T16:15:26.930Z"
   },
   {
    "duration": 0,
    "start_time": "2022-05-19T16:15:26.931Z"
   },
   {
    "duration": 0,
    "start_time": "2022-05-19T16:15:26.932Z"
   },
   {
    "duration": 4,
    "start_time": "2022-05-19T16:15:51.224Z"
   },
   {
    "duration": 151,
    "start_time": "2022-05-19T16:15:51.230Z"
   },
   {
    "duration": 135,
    "start_time": "2022-05-19T16:15:51.383Z"
   },
   {
    "duration": 183,
    "start_time": "2022-05-19T16:15:51.519Z"
   },
   {
    "duration": 34,
    "start_time": "2022-05-19T16:15:51.704Z"
   },
   {
    "duration": 9,
    "start_time": "2022-05-19T16:15:51.739Z"
   },
   {
    "duration": 239,
    "start_time": "2022-05-19T16:15:51.750Z"
   },
   {
    "duration": 14,
    "start_time": "2022-05-19T16:15:51.990Z"
   },
   {
    "duration": 75,
    "start_time": "2022-05-19T16:15:52.006Z"
   },
   {
    "duration": 28,
    "start_time": "2022-05-19T16:15:52.082Z"
   },
   {
    "duration": 56,
    "start_time": "2022-05-19T16:15:52.113Z"
   },
   {
    "duration": 33,
    "start_time": "2022-05-19T16:15:52.171Z"
   },
   {
    "duration": 15,
    "start_time": "2022-05-19T16:15:52.206Z"
   },
   {
    "duration": 21,
    "start_time": "2022-05-19T16:15:52.223Z"
   },
   {
    "duration": 20,
    "start_time": "2022-05-19T16:15:52.246Z"
   },
   {
    "duration": 31,
    "start_time": "2022-05-19T16:15:52.267Z"
   },
   {
    "duration": 3,
    "start_time": "2022-05-19T16:15:52.299Z"
   },
   {
    "duration": 94,
    "start_time": "2022-05-19T16:15:52.304Z"
   },
   {
    "duration": 36,
    "start_time": "2022-05-19T16:15:52.399Z"
   },
   {
    "duration": 43,
    "start_time": "2022-05-19T16:15:52.436Z"
   },
   {
    "duration": 0,
    "start_time": "2022-05-19T16:15:52.481Z"
   },
   {
    "duration": 0,
    "start_time": "2022-05-19T16:15:52.482Z"
   },
   {
    "duration": 0,
    "start_time": "2022-05-19T16:15:52.483Z"
   },
   {
    "duration": 0,
    "start_time": "2022-05-19T16:15:52.484Z"
   },
   {
    "duration": 0,
    "start_time": "2022-05-19T16:15:52.485Z"
   },
   {
    "duration": 0,
    "start_time": "2022-05-19T16:15:52.486Z"
   },
   {
    "duration": 0,
    "start_time": "2022-05-19T16:15:52.487Z"
   },
   {
    "duration": 0,
    "start_time": "2022-05-19T16:15:52.488Z"
   },
   {
    "duration": 0,
    "start_time": "2022-05-19T16:15:52.489Z"
   },
   {
    "duration": 0,
    "start_time": "2022-05-19T16:15:52.490Z"
   },
   {
    "duration": 0,
    "start_time": "2022-05-19T16:15:52.491Z"
   },
   {
    "duration": 0,
    "start_time": "2022-05-19T16:15:52.492Z"
   },
   {
    "duration": 0,
    "start_time": "2022-05-19T16:15:52.494Z"
   },
   {
    "duration": 0,
    "start_time": "2022-05-19T16:15:52.495Z"
   },
   {
    "duration": 9,
    "start_time": "2022-05-19T16:16:04.190Z"
   },
   {
    "duration": 10,
    "start_time": "2022-05-19T16:16:05.253Z"
   },
   {
    "duration": 8,
    "start_time": "2022-05-19T16:16:06.005Z"
   },
   {
    "duration": 1387,
    "start_time": "2022-05-20T01:12:43.967Z"
   },
   {
    "duration": 588,
    "start_time": "2022-05-20T01:12:45.356Z"
   },
   {
    "duration": 141,
    "start_time": "2022-05-20T01:12:45.946Z"
   },
   {
    "duration": 225,
    "start_time": "2022-05-20T01:12:46.090Z"
   },
   {
    "duration": 58,
    "start_time": "2022-05-20T01:12:46.317Z"
   },
   {
    "duration": 11,
    "start_time": "2022-05-20T01:12:46.377Z"
   },
   {
    "duration": 396,
    "start_time": "2022-05-20T01:12:46.390Z"
   },
   {
    "duration": 15,
    "start_time": "2022-05-20T01:12:46.788Z"
   },
   {
    "duration": 101,
    "start_time": "2022-05-20T01:12:46.805Z"
   },
   {
    "duration": 36,
    "start_time": "2022-05-20T01:12:46.908Z"
   },
   {
    "duration": 52,
    "start_time": "2022-05-20T01:12:46.946Z"
   },
   {
    "duration": 11,
    "start_time": "2022-05-20T01:12:47.000Z"
   },
   {
    "duration": 15,
    "start_time": "2022-05-20T01:12:47.027Z"
   },
   {
    "duration": 16,
    "start_time": "2022-05-20T01:12:47.044Z"
   },
   {
    "duration": 138,
    "start_time": "2022-05-20T01:12:47.062Z"
   },
   {
    "duration": 4,
    "start_time": "2022-05-20T01:12:47.202Z"
   },
   {
    "duration": 9,
    "start_time": "2022-05-20T01:12:47.207Z"
   },
   {
    "duration": 142,
    "start_time": "2022-05-20T01:12:47.217Z"
   },
   {
    "duration": 85,
    "start_time": "2022-05-20T01:12:47.361Z"
   },
   {
    "duration": 30,
    "start_time": "2022-05-20T01:12:47.448Z"
   },
   {
    "duration": 0,
    "start_time": "2022-05-20T01:12:47.480Z"
   },
   {
    "duration": 0,
    "start_time": "2022-05-20T01:12:47.482Z"
   },
   {
    "duration": 0,
    "start_time": "2022-05-20T01:12:47.483Z"
   },
   {
    "duration": 0,
    "start_time": "2022-05-20T01:12:47.484Z"
   },
   {
    "duration": 1,
    "start_time": "2022-05-20T01:12:47.485Z"
   },
   {
    "duration": 0,
    "start_time": "2022-05-20T01:12:47.527Z"
   },
   {
    "duration": 0,
    "start_time": "2022-05-20T01:12:47.528Z"
   },
   {
    "duration": 0,
    "start_time": "2022-05-20T01:12:47.529Z"
   },
   {
    "duration": 0,
    "start_time": "2022-05-20T01:12:47.530Z"
   },
   {
    "duration": 0,
    "start_time": "2022-05-20T01:12:47.531Z"
   },
   {
    "duration": 0,
    "start_time": "2022-05-20T01:12:47.535Z"
   },
   {
    "duration": 0,
    "start_time": "2022-05-20T01:12:47.536Z"
   },
   {
    "duration": 0,
    "start_time": "2022-05-20T01:12:47.537Z"
   },
   {
    "duration": 1,
    "start_time": "2022-05-20T01:12:47.539Z"
   },
   {
    "duration": 1679,
    "start_time": "2022-05-21T03:15:46.167Z"
   },
   {
    "duration": 456,
    "start_time": "2022-05-21T03:15:50.555Z"
   },
   {
    "duration": 132,
    "start_time": "2022-05-21T03:15:51.315Z"
   },
   {
    "duration": 198,
    "start_time": "2022-05-21T03:16:02.592Z"
   },
   {
    "duration": 12,
    "start_time": "2022-05-21T03:24:02.017Z"
   },
   {
    "duration": 489,
    "start_time": "2022-05-21T03:24:02.759Z"
   },
   {
    "duration": 112,
    "start_time": "2022-05-21T03:32:03.997Z"
   },
   {
    "duration": 4,
    "start_time": "2022-05-21T03:32:07.302Z"
   },
   {
    "duration": 175,
    "start_time": "2022-05-21T03:32:07.308Z"
   },
   {
    "duration": 132,
    "start_time": "2022-05-21T03:32:07.485Z"
   },
   {
    "duration": 119,
    "start_time": "2022-05-21T03:32:07.619Z"
   },
   {
    "duration": 42,
    "start_time": "2022-05-21T03:32:07.741Z"
   },
   {
    "duration": 11,
    "start_time": "2022-05-21T03:32:07.784Z"
   },
   {
    "duration": 226,
    "start_time": "2022-05-21T03:32:07.797Z"
   },
   {
    "duration": 19,
    "start_time": "2022-05-21T03:32:08.025Z"
   },
   {
    "duration": 94,
    "start_time": "2022-05-21T03:32:08.046Z"
   },
   {
    "duration": 24,
    "start_time": "2022-05-21T03:32:08.142Z"
   },
   {
    "duration": 24,
    "start_time": "2022-05-21T03:32:09.863Z"
   },
   {
    "duration": 58,
    "start_time": "2022-05-21T03:32:10.925Z"
   },
   {
    "duration": 4,
    "start_time": "2022-05-21T04:08:06.673Z"
   },
   {
    "duration": 173,
    "start_time": "2022-05-21T04:08:06.679Z"
   },
   {
    "duration": 133,
    "start_time": "2022-05-21T04:08:06.854Z"
   },
   {
    "duration": 110,
    "start_time": "2022-05-21T04:08:06.989Z"
   },
   {
    "duration": 33,
    "start_time": "2022-05-21T04:08:12.051Z"
   },
   {
    "duration": 17,
    "start_time": "2022-05-21T04:08:21.023Z"
   },
   {
    "duration": 231,
    "start_time": "2022-05-21T04:08:22.053Z"
   },
   {
    "duration": 21,
    "start_time": "2022-05-21T04:08:24.455Z"
   },
   {
    "duration": 91,
    "start_time": "2022-05-21T04:08:26.013Z"
   },
   {
    "duration": 24,
    "start_time": "2022-05-21T04:10:19.879Z"
   },
   {
    "duration": 79,
    "start_time": "2022-05-21T04:10:20.605Z"
   },
   {
    "duration": 17,
    "start_time": "2022-05-21T04:10:21.405Z"
   },
   {
    "duration": 9,
    "start_time": "2022-05-21T04:12:42.865Z"
   },
   {
    "duration": 12,
    "start_time": "2022-05-21T04:12:43.774Z"
   },
   {
    "duration": 427,
    "start_time": "2022-05-21T04:12:47.224Z"
   },
   {
    "duration": 4,
    "start_time": "2022-05-21T04:12:48.057Z"
   },
   {
    "duration": 51,
    "start_time": "2022-05-21T04:16:49.011Z"
   },
   {
    "duration": 17,
    "start_time": "2022-05-21T04:16:55.629Z"
   },
   {
    "duration": 4,
    "start_time": "2022-05-21T04:19:36.582Z"
   },
   {
    "duration": 13,
    "start_time": "2022-05-21T04:29:19.952Z"
   },
   {
    "duration": 13,
    "start_time": "2022-05-21T04:29:25.959Z"
   },
   {
    "duration": 61,
    "start_time": "2022-05-21T04:51:37.056Z"
   },
   {
    "duration": 72,
    "start_time": "2022-05-21T04:52:08.759Z"
   },
   {
    "duration": 66,
    "start_time": "2022-05-21T04:52:43.281Z"
   },
   {
    "duration": 8,
    "start_time": "2022-05-21T04:53:01.758Z"
   },
   {
    "duration": 9,
    "start_time": "2022-05-21T04:53:59.601Z"
   },
   {
    "duration": 8,
    "start_time": "2022-05-21T04:54:09.690Z"
   },
   {
    "duration": 54,
    "start_time": "2022-05-21T05:01:57.586Z"
   },
   {
    "duration": 82,
    "start_time": "2022-05-21T05:01:59.636Z"
   },
   {
    "duration": 59,
    "start_time": "2022-05-21T05:02:01.295Z"
   },
   {
    "duration": 6,
    "start_time": "2022-05-21T05:20:04.451Z"
   },
   {
    "duration": 40,
    "start_time": "2022-05-21T05:20:06.355Z"
   },
   {
    "duration": 21,
    "start_time": "2022-05-21T05:20:13.450Z"
   },
   {
    "duration": 5,
    "start_time": "2022-05-21T05:20:19.631Z"
   },
   {
    "duration": 147,
    "start_time": "2022-05-21T05:20:19.637Z"
   },
   {
    "duration": 153,
    "start_time": "2022-05-21T05:20:19.785Z"
   },
   {
    "duration": 104,
    "start_time": "2022-05-21T05:20:19.940Z"
   },
   {
    "duration": 38,
    "start_time": "2022-05-21T05:20:20.045Z"
   },
   {
    "duration": 10,
    "start_time": "2022-05-21T05:20:20.085Z"
   },
   {
    "duration": 246,
    "start_time": "2022-05-21T05:20:20.096Z"
   },
   {
    "duration": 15,
    "start_time": "2022-05-21T05:20:20.343Z"
   },
   {
    "duration": 97,
    "start_time": "2022-05-21T05:20:20.360Z"
   },
   {
    "duration": 24,
    "start_time": "2022-05-21T05:20:20.458Z"
   },
   {
    "duration": 71,
    "start_time": "2022-05-21T05:20:20.483Z"
   },
   {
    "duration": 11,
    "start_time": "2022-05-21T05:20:20.555Z"
   },
   {
    "duration": 8,
    "start_time": "2022-05-21T05:20:20.568Z"
   },
   {
    "duration": 15,
    "start_time": "2022-05-21T05:20:20.577Z"
   },
   {
    "duration": 37,
    "start_time": "2022-05-21T05:20:20.594Z"
   },
   {
    "duration": 4,
    "start_time": "2022-05-21T05:20:20.633Z"
   },
   {
    "duration": 38,
    "start_time": "2022-05-21T05:20:20.639Z"
   },
   {
    "duration": 103,
    "start_time": "2022-05-21T05:20:20.679Z"
   },
   {
    "duration": 6,
    "start_time": "2022-05-21T05:20:20.784Z"
   },
   {
    "duration": 18,
    "start_time": "2022-05-21T05:20:23.751Z"
   },
   {
    "duration": 77,
    "start_time": "2022-05-21T05:21:16.816Z"
   },
   {
    "duration": 5,
    "start_time": "2022-05-21T05:21:17.822Z"
   },
   {
    "duration": 15,
    "start_time": "2022-05-21T05:21:19.531Z"
   },
   {
    "duration": 6,
    "start_time": "2022-05-21T05:22:41.426Z"
   },
   {
    "duration": 5,
    "start_time": "2022-05-21T05:22:42.306Z"
   },
   {
    "duration": 72,
    "start_time": "2022-05-21T05:28:27.164Z"
   },
   {
    "duration": 60,
    "start_time": "2022-05-21T05:28:27.807Z"
   },
   {
    "duration": 12,
    "start_time": "2022-05-21T05:28:29.353Z"
   },
   {
    "duration": 11,
    "start_time": "2022-05-21T05:32:53.316Z"
   },
   {
    "duration": 10,
    "start_time": "2022-05-21T05:46:29.581Z"
   },
   {
    "duration": 10,
    "start_time": "2022-05-21T05:47:53.904Z"
   },
   {
    "duration": 10,
    "start_time": "2022-05-21T05:48:10.353Z"
   },
   {
    "duration": 11,
    "start_time": "2022-05-21T05:48:28.324Z"
   },
   {
    "duration": 10,
    "start_time": "2022-05-21T05:49:44.106Z"
   },
   {
    "duration": 11,
    "start_time": "2022-05-21T05:49:45.107Z"
   },
   {
    "duration": 10,
    "start_time": "2022-05-21T05:50:12.975Z"
   },
   {
    "duration": 10,
    "start_time": "2022-05-21T05:54:46.099Z"
   },
   {
    "duration": 9,
    "start_time": "2022-05-21T05:55:07.449Z"
   },
   {
    "duration": 10,
    "start_time": "2022-05-21T05:55:24.260Z"
   },
   {
    "duration": 9,
    "start_time": "2022-05-21T05:55:43.769Z"
   },
   {
    "duration": 1308,
    "start_time": "2022-05-21T06:29:52.080Z"
   },
   {
    "duration": 168,
    "start_time": "2022-05-21T06:29:53.390Z"
   },
   {
    "duration": 142,
    "start_time": "2022-05-21T06:29:53.559Z"
   },
   {
    "duration": 213,
    "start_time": "2022-05-21T06:29:53.703Z"
   },
   {
    "duration": 41,
    "start_time": "2022-05-21T06:29:53.932Z"
   },
   {
    "duration": 9,
    "start_time": "2022-05-21T06:29:53.975Z"
   },
   {
    "duration": 381,
    "start_time": "2022-05-21T06:29:53.986Z"
   },
   {
    "duration": 18,
    "start_time": "2022-05-21T06:29:54.369Z"
   },
   {
    "duration": 120,
    "start_time": "2022-05-21T06:29:54.389Z"
   },
   {
    "duration": 48,
    "start_time": "2022-05-21T06:29:54.512Z"
   },
   {
    "duration": 78,
    "start_time": "2022-05-21T06:29:54.562Z"
   },
   {
    "duration": 17,
    "start_time": "2022-05-21T06:29:54.643Z"
   },
   {
    "duration": 8,
    "start_time": "2022-05-21T06:29:54.662Z"
   },
   {
    "duration": 22,
    "start_time": "2022-05-21T06:29:54.671Z"
   },
   {
    "duration": 149,
    "start_time": "2022-05-21T06:29:54.695Z"
   },
   {
    "duration": 4,
    "start_time": "2022-05-21T06:29:54.846Z"
   },
   {
    "duration": 76,
    "start_time": "2022-05-21T06:29:54.852Z"
   },
   {
    "duration": 157,
    "start_time": "2022-05-21T06:29:54.930Z"
   },
   {
    "duration": 6,
    "start_time": "2022-05-21T06:29:55.088Z"
   },
   {
    "duration": 12,
    "start_time": "2022-05-21T06:29:55.096Z"
   },
   {
    "duration": 81,
    "start_time": "2022-05-21T06:29:55.109Z"
   },
   {
    "duration": 67,
    "start_time": "2022-05-21T06:29:55.192Z"
   },
   {
    "duration": 13,
    "start_time": "2022-05-21T06:29:55.261Z"
   },
   {
    "duration": 151,
    "start_time": "2022-05-21T06:29:55.276Z"
   },
   {
    "duration": 0,
    "start_time": "2022-05-21T06:29:55.430Z"
   },
   {
    "duration": 0,
    "start_time": "2022-05-21T06:29:55.432Z"
   },
   {
    "duration": 0,
    "start_time": "2022-05-21T06:29:55.433Z"
   },
   {
    "duration": 0,
    "start_time": "2022-05-21T06:29:55.434Z"
   },
   {
    "duration": 0,
    "start_time": "2022-05-21T06:29:55.435Z"
   },
   {
    "duration": 0,
    "start_time": "2022-05-21T06:29:55.436Z"
   },
   {
    "duration": 0,
    "start_time": "2022-05-21T06:29:55.437Z"
   },
   {
    "duration": 9,
    "start_time": "2022-05-21T06:30:23.486Z"
   },
   {
    "duration": 40,
    "start_time": "2022-05-21T06:30:35.415Z"
   },
   {
    "duration": 83,
    "start_time": "2022-05-21T06:30:35.895Z"
   },
   {
    "duration": 6,
    "start_time": "2022-05-21T06:30:37.282Z"
   },
   {
    "duration": 5,
    "start_time": "2022-05-21T06:30:38.580Z"
   },
   {
    "duration": 57,
    "start_time": "2022-05-21T06:30:39.867Z"
   },
   {
    "duration": 54,
    "start_time": "2022-05-21T06:30:40.764Z"
   },
   {
    "duration": 12,
    "start_time": "2022-05-21T06:30:41.406Z"
   },
   {
    "duration": 12,
    "start_time": "2022-05-21T06:30:42.824Z"
   },
   {
    "duration": 10,
    "start_time": "2022-05-21T06:30:44.263Z"
   },
   {
    "duration": 10,
    "start_time": "2022-05-21T06:31:03.852Z"
   },
   {
    "duration": 10,
    "start_time": "2022-05-21T06:31:05.346Z"
   },
   {
    "duration": 12,
    "start_time": "2022-05-21T06:31:06.276Z"
   },
   {
    "duration": 11,
    "start_time": "2022-05-21T06:31:09.654Z"
   },
   {
    "duration": 11,
    "start_time": "2022-05-21T06:31:10.308Z"
   },
   {
    "duration": 10,
    "start_time": "2022-05-21T06:31:14.850Z"
   },
   {
    "duration": 11,
    "start_time": "2022-05-21T06:31:26.473Z"
   },
   {
    "duration": 12,
    "start_time": "2022-05-21T06:31:32.705Z"
   },
   {
    "duration": 10,
    "start_time": "2022-05-21T06:31:33.853Z"
   },
   {
    "duration": 12,
    "start_time": "2022-05-21T06:31:36.119Z"
   },
   {
    "duration": 10,
    "start_time": "2022-05-21T06:31:39.215Z"
   },
   {
    "duration": 10,
    "start_time": "2022-05-21T06:31:43.818Z"
   },
   {
    "duration": 9,
    "start_time": "2022-05-21T06:36:58.970Z"
   },
   {
    "duration": 9,
    "start_time": "2022-05-21T06:37:00.656Z"
   },
   {
    "duration": 13,
    "start_time": "2022-05-21T06:37:01.154Z"
   },
   {
    "duration": 10,
    "start_time": "2022-05-21T06:37:01.681Z"
   },
   {
    "duration": 10,
    "start_time": "2022-05-21T06:37:02.708Z"
   },
   {
    "duration": 10,
    "start_time": "2022-05-21T06:37:03.160Z"
   },
   {
    "duration": 11,
    "start_time": "2022-05-21T06:37:03.554Z"
   },
   {
    "duration": 12,
    "start_time": "2022-05-21T06:37:03.946Z"
   },
   {
    "duration": 1334,
    "start_time": "2022-05-21T09:51:49.600Z"
   },
   {
    "duration": 177,
    "start_time": "2022-05-21T09:51:50.936Z"
   },
   {
    "duration": 213,
    "start_time": "2022-05-21T09:51:51.117Z"
   },
   {
    "duration": 193,
    "start_time": "2022-05-21T09:51:51.333Z"
   },
   {
    "duration": 37,
    "start_time": "2022-05-21T09:51:51.528Z"
   },
   {
    "duration": 35,
    "start_time": "2022-05-21T09:51:51.567Z"
   },
   {
    "duration": 371,
    "start_time": "2022-05-21T09:51:51.604Z"
   },
   {
    "duration": 25,
    "start_time": "2022-05-21T09:51:51.977Z"
   },
   {
    "duration": 80,
    "start_time": "2022-05-21T09:51:52.004Z"
   },
   {
    "duration": 35,
    "start_time": "2022-05-21T09:51:52.087Z"
   },
   {
    "duration": 59,
    "start_time": "2022-05-21T09:51:52.124Z"
   },
   {
    "duration": 30,
    "start_time": "2022-05-21T09:51:52.184Z"
   },
   {
    "duration": 10,
    "start_time": "2022-05-21T09:51:52.216Z"
   },
   {
    "duration": 16,
    "start_time": "2022-05-21T09:51:52.228Z"
   },
   {
    "duration": 133,
    "start_time": "2022-05-21T09:51:52.245Z"
   },
   {
    "duration": 23,
    "start_time": "2022-05-21T09:51:52.380Z"
   },
   {
    "duration": 107,
    "start_time": "2022-05-21T09:51:52.405Z"
   },
   {
    "duration": 133,
    "start_time": "2022-05-21T09:51:52.514Z"
   },
   {
    "duration": 6,
    "start_time": "2022-05-21T09:51:52.649Z"
   },
   {
    "duration": 14,
    "start_time": "2022-05-21T09:51:52.657Z"
   },
   {
    "duration": 75,
    "start_time": "2022-05-21T09:51:52.673Z"
   },
   {
    "duration": 75,
    "start_time": "2022-05-21T09:51:52.750Z"
   },
   {
    "duration": 14,
    "start_time": "2022-05-21T09:51:52.827Z"
   },
   {
    "duration": 8,
    "start_time": "2022-05-21T09:51:52.843Z"
   },
   {
    "duration": 13,
    "start_time": "2022-05-21T09:51:52.854Z"
   },
   {
    "duration": 35,
    "start_time": "2022-05-21T09:51:52.868Z"
   },
   {
    "duration": 12,
    "start_time": "2022-05-21T09:51:52.905Z"
   },
   {
    "duration": 11,
    "start_time": "2022-05-21T09:51:52.921Z"
   },
   {
    "duration": 11,
    "start_time": "2022-05-21T09:51:52.934Z"
   },
   {
    "duration": 12,
    "start_time": "2022-05-21T09:51:52.947Z"
   },
   {
    "duration": 50,
    "start_time": "2022-05-21T09:51:52.961Z"
   },
   {
    "duration": 8,
    "start_time": "2022-05-21T10:03:41.191Z"
   },
   {
    "duration": 9,
    "start_time": "2022-05-21T10:04:11.896Z"
   },
   {
    "duration": 61,
    "start_time": "2022-05-21T12:45:55.298Z"
   },
   {
    "duration": 895,
    "start_time": "2022-05-21T12:45:59.232Z"
   },
   {
    "duration": 513,
    "start_time": "2022-05-21T12:46:00.129Z"
   },
   {
    "duration": 144,
    "start_time": "2022-05-21T12:46:00.644Z"
   },
   {
    "duration": 164,
    "start_time": "2022-05-21T12:46:00.790Z"
   },
   {
    "duration": 36,
    "start_time": "2022-05-21T12:46:00.957Z"
   },
   {
    "duration": 28,
    "start_time": "2022-05-21T12:46:00.995Z"
   },
   {
    "duration": 56,
    "start_time": "2022-05-21T12:46:01.025Z"
   },
   {
    "duration": 0,
    "start_time": "2022-05-21T12:46:01.083Z"
   },
   {
    "duration": 0,
    "start_time": "2022-05-21T12:46:01.084Z"
   },
   {
    "duration": 0,
    "start_time": "2022-05-21T12:46:01.085Z"
   },
   {
    "duration": 0,
    "start_time": "2022-05-21T12:46:01.087Z"
   },
   {
    "duration": 0,
    "start_time": "2022-05-21T12:46:01.088Z"
   },
   {
    "duration": 0,
    "start_time": "2022-05-21T12:46:01.088Z"
   },
   {
    "duration": 0,
    "start_time": "2022-05-21T12:46:01.089Z"
   },
   {
    "duration": 0,
    "start_time": "2022-05-21T12:46:01.090Z"
   },
   {
    "duration": 0,
    "start_time": "2022-05-21T12:46:01.091Z"
   },
   {
    "duration": 0,
    "start_time": "2022-05-21T12:46:01.092Z"
   },
   {
    "duration": 0,
    "start_time": "2022-05-21T12:46:01.093Z"
   },
   {
    "duration": 0,
    "start_time": "2022-05-21T12:46:01.094Z"
   },
   {
    "duration": 0,
    "start_time": "2022-05-21T12:46:01.123Z"
   },
   {
    "duration": 0,
    "start_time": "2022-05-21T12:46:01.125Z"
   },
   {
    "duration": 0,
    "start_time": "2022-05-21T12:46:01.126Z"
   },
   {
    "duration": 0,
    "start_time": "2022-05-21T12:46:01.128Z"
   },
   {
    "duration": 0,
    "start_time": "2022-05-21T12:46:01.129Z"
   },
   {
    "duration": 0,
    "start_time": "2022-05-21T12:46:01.131Z"
   },
   {
    "duration": 1,
    "start_time": "2022-05-21T12:46:01.132Z"
   },
   {
    "duration": 0,
    "start_time": "2022-05-21T12:46:01.134Z"
   },
   {
    "duration": 0,
    "start_time": "2022-05-21T12:46:01.135Z"
   },
   {
    "duration": 0,
    "start_time": "2022-05-21T12:46:01.136Z"
   },
   {
    "duration": 0,
    "start_time": "2022-05-21T12:46:01.137Z"
   },
   {
    "duration": 0,
    "start_time": "2022-05-21T12:46:01.139Z"
   },
   {
    "duration": 34,
    "start_time": "2022-05-21T12:48:00.638Z"
   },
   {
    "duration": 22,
    "start_time": "2022-05-21T13:00:30.998Z"
   },
   {
    "duration": 29,
    "start_time": "2022-05-21T13:01:51.512Z"
   },
   {
    "duration": 31,
    "start_time": "2022-05-21T13:01:55.702Z"
   },
   {
    "duration": 25,
    "start_time": "2022-05-21T13:02:30.607Z"
   },
   {
    "duration": 58,
    "start_time": "2022-05-21T13:03:10.995Z"
   },
   {
    "duration": 31,
    "start_time": "2022-05-21T13:04:35.705Z"
   },
   {
    "duration": 1031,
    "start_time": "2022-05-21T13:04:50.712Z"
   },
   {
    "duration": 153,
    "start_time": "2022-05-21T13:04:51.745Z"
   },
   {
    "duration": 174,
    "start_time": "2022-05-21T13:04:51.901Z"
   },
   {
    "duration": 207,
    "start_time": "2022-05-21T13:04:52.078Z"
   },
   {
    "duration": 58,
    "start_time": "2022-05-21T13:04:52.287Z"
   },
   {
    "duration": 12,
    "start_time": "2022-05-21T13:04:52.347Z"
   },
   {
    "duration": 6,
    "start_time": "2022-05-21T13:04:52.361Z"
   },
   {
    "duration": 0,
    "start_time": "2022-05-21T13:04:52.369Z"
   },
   {
    "duration": 0,
    "start_time": "2022-05-21T13:04:52.371Z"
   },
   {
    "duration": 1,
    "start_time": "2022-05-21T13:04:52.371Z"
   },
   {
    "duration": 0,
    "start_time": "2022-05-21T13:04:52.373Z"
   },
   {
    "duration": 0,
    "start_time": "2022-05-21T13:04:52.374Z"
   },
   {
    "duration": 0,
    "start_time": "2022-05-21T13:04:52.375Z"
   },
   {
    "duration": 0,
    "start_time": "2022-05-21T13:04:52.376Z"
   },
   {
    "duration": 0,
    "start_time": "2022-05-21T13:04:52.378Z"
   },
   {
    "duration": 0,
    "start_time": "2022-05-21T13:04:52.379Z"
   },
   {
    "duration": 0,
    "start_time": "2022-05-21T13:04:52.381Z"
   },
   {
    "duration": 0,
    "start_time": "2022-05-21T13:04:52.382Z"
   },
   {
    "duration": 0,
    "start_time": "2022-05-21T13:04:52.424Z"
   },
   {
    "duration": 0,
    "start_time": "2022-05-21T13:04:52.426Z"
   },
   {
    "duration": 0,
    "start_time": "2022-05-21T13:04:52.427Z"
   },
   {
    "duration": 0,
    "start_time": "2022-05-21T13:04:52.428Z"
   },
   {
    "duration": 0,
    "start_time": "2022-05-21T13:04:52.430Z"
   },
   {
    "duration": 0,
    "start_time": "2022-05-21T13:04:52.431Z"
   },
   {
    "duration": 0,
    "start_time": "2022-05-21T13:04:52.433Z"
   },
   {
    "duration": 0,
    "start_time": "2022-05-21T13:04:52.434Z"
   },
   {
    "duration": 0,
    "start_time": "2022-05-21T13:04:52.435Z"
   },
   {
    "duration": 0,
    "start_time": "2022-05-21T13:04:52.436Z"
   },
   {
    "duration": 0,
    "start_time": "2022-05-21T13:04:52.438Z"
   },
   {
    "duration": 0,
    "start_time": "2022-05-21T13:04:52.439Z"
   },
   {
    "duration": 0,
    "start_time": "2022-05-21T13:04:52.440Z"
   },
   {
    "duration": 0,
    "start_time": "2022-05-21T13:04:52.441Z"
   },
   {
    "duration": 0,
    "start_time": "2022-05-21T13:04:52.442Z"
   },
   {
    "duration": 7,
    "start_time": "2022-05-21T13:05:06.341Z"
   },
   {
    "duration": 5,
    "start_time": "2022-05-21T13:05:08.106Z"
   },
   {
    "duration": 6,
    "start_time": "2022-05-21T13:05:23.697Z"
   },
   {
    "duration": 19,
    "start_time": "2022-05-21T13:05:34.422Z"
   },
   {
    "duration": 116,
    "start_time": "2022-05-21T13:09:30.132Z"
   },
   {
    "duration": 524,
    "start_time": "2022-05-21T13:11:19.016Z"
   },
   {
    "duration": 153,
    "start_time": "2022-05-21T13:11:19.785Z"
   },
   {
    "duration": 222,
    "start_time": "2022-05-21T13:11:20.343Z"
   },
   {
    "duration": 105,
    "start_time": "2022-05-21T13:11:21.887Z"
   },
   {
    "duration": 45,
    "start_time": "2022-05-21T13:11:22.891Z"
   },
   {
    "duration": 12,
    "start_time": "2022-05-21T13:11:24.781Z"
   },
   {
    "duration": 356,
    "start_time": "2022-05-21T13:11:26.543Z"
   },
   {
    "duration": 40,
    "start_time": "2022-05-21T13:13:00.710Z"
   },
   {
    "duration": 40,
    "start_time": "2022-05-21T13:14:42.073Z"
   },
   {
    "duration": 23,
    "start_time": "2022-05-21T13:14:50.599Z"
   },
   {
    "duration": 300,
    "start_time": "2022-05-21T13:19:53.896Z"
   },
   {
    "duration": 155,
    "start_time": "2022-05-21T13:20:06.582Z"
   },
   {
    "duration": 191,
    "start_time": "2022-05-21T13:20:12.701Z"
   },
   {
    "duration": 271,
    "start_time": "2022-05-21T13:20:26.001Z"
   },
   {
    "duration": 207,
    "start_time": "2022-05-21T13:20:38.769Z"
   },
   {
    "duration": 354,
    "start_time": "2022-05-21T13:20:46.510Z"
   },
   {
    "duration": 253,
    "start_time": "2022-05-21T15:20:51.999Z"
   },
   {
    "duration": 238,
    "start_time": "2022-05-21T15:21:00.721Z"
   },
   {
    "duration": 28,
    "start_time": "2022-05-21T15:21:02.518Z"
   },
   {
    "duration": 101,
    "start_time": "2022-05-21T15:21:03.605Z"
   },
   {
    "duration": 31,
    "start_time": "2022-05-21T15:24:51.820Z"
   },
   {
    "duration": 56,
    "start_time": "2022-05-21T15:24:53.043Z"
   },
   {
    "duration": 21,
    "start_time": "2022-05-21T15:24:57.141Z"
   },
   {
    "duration": 10,
    "start_time": "2022-05-21T15:25:06.989Z"
   },
   {
    "duration": 13,
    "start_time": "2022-05-21T15:26:04.428Z"
   },
   {
    "duration": 17,
    "start_time": "2022-05-21T15:26:10.811Z"
   },
   {
    "duration": 451,
    "start_time": "2022-05-21T15:26:22.402Z"
   },
   {
    "duration": 493,
    "start_time": "2022-05-21T15:28:09.898Z"
   },
   {
    "duration": 8,
    "start_time": "2022-05-21T15:28:23.616Z"
   },
   {
    "duration": 11,
    "start_time": "2022-05-21T15:28:36.737Z"
   },
   {
    "duration": 3,
    "start_time": "2022-05-21T15:30:00.440Z"
   },
   {
    "duration": 181,
    "start_time": "2022-05-21T15:30:00.445Z"
   },
   {
    "duration": 127,
    "start_time": "2022-05-21T15:30:00.639Z"
   },
   {
    "duration": 109,
    "start_time": "2022-05-21T15:30:00.768Z"
   },
   {
    "duration": 60,
    "start_time": "2022-05-21T15:30:00.879Z"
   },
   {
    "duration": 13,
    "start_time": "2022-05-21T15:30:00.940Z"
   },
   {
    "duration": 22,
    "start_time": "2022-05-21T15:30:00.955Z"
   },
   {
    "duration": 243,
    "start_time": "2022-05-21T15:30:00.978Z"
   },
   {
    "duration": 20,
    "start_time": "2022-05-21T15:30:01.225Z"
   },
   {
    "duration": 84,
    "start_time": "2022-05-21T15:30:01.247Z"
   },
   {
    "duration": 40,
    "start_time": "2022-05-21T15:30:01.333Z"
   },
   {
    "duration": 76,
    "start_time": "2022-05-21T15:30:01.375Z"
   },
   {
    "duration": 13,
    "start_time": "2022-05-21T15:30:01.453Z"
   },
   {
    "duration": 10,
    "start_time": "2022-05-21T15:30:01.469Z"
   },
   {
    "duration": 15,
    "start_time": "2022-05-21T15:30:01.481Z"
   },
   {
    "duration": 10,
    "start_time": "2022-05-21T15:30:04.593Z"
   },
   {
    "duration": 9,
    "start_time": "2022-05-21T15:30:24.730Z"
   },
   {
    "duration": 161,
    "start_time": "2022-05-21T15:30:24.741Z"
   },
   {
    "duration": 140,
    "start_time": "2022-05-21T15:30:24.904Z"
   },
   {
    "duration": 108,
    "start_time": "2022-05-21T15:30:25.047Z"
   },
   {
    "duration": 37,
    "start_time": "2022-05-21T15:30:25.157Z"
   },
   {
    "duration": 37,
    "start_time": "2022-05-21T15:30:25.196Z"
   },
   {
    "duration": 32,
    "start_time": "2022-05-21T15:30:25.240Z"
   },
   {
    "duration": 272,
    "start_time": "2022-05-21T15:30:25.274Z"
   },
   {
    "duration": 16,
    "start_time": "2022-05-21T15:30:25.548Z"
   },
   {
    "duration": 96,
    "start_time": "2022-05-21T15:30:25.567Z"
   },
   {
    "duration": 26,
    "start_time": "2022-05-21T15:30:25.665Z"
   },
   {
    "duration": 74,
    "start_time": "2022-05-21T15:30:25.694Z"
   },
   {
    "duration": 12,
    "start_time": "2022-05-21T15:30:25.770Z"
   },
   {
    "duration": 9,
    "start_time": "2022-05-21T15:30:25.784Z"
   },
   {
    "duration": 42,
    "start_time": "2022-05-21T15:30:25.795Z"
   },
   {
    "duration": 12,
    "start_time": "2022-05-21T15:30:28.397Z"
   },
   {
    "duration": 5,
    "start_time": "2022-05-21T15:33:27.004Z"
   },
   {
    "duration": 180,
    "start_time": "2022-05-21T15:33:27.011Z"
   },
   {
    "duration": 145,
    "start_time": "2022-05-21T15:33:27.193Z"
   },
   {
    "duration": 201,
    "start_time": "2022-05-21T15:33:27.343Z"
   },
   {
    "duration": 39,
    "start_time": "2022-05-21T15:33:27.546Z"
   },
   {
    "duration": 47,
    "start_time": "2022-05-21T15:33:27.587Z"
   },
   {
    "duration": 39,
    "start_time": "2022-05-21T15:33:27.636Z"
   },
   {
    "duration": 253,
    "start_time": "2022-05-21T15:33:27.677Z"
   },
   {
    "duration": 21,
    "start_time": "2022-05-21T15:33:27.931Z"
   },
   {
    "duration": 90,
    "start_time": "2022-05-21T15:33:27.954Z"
   },
   {
    "duration": 27,
    "start_time": "2022-05-21T15:33:28.048Z"
   },
   {
    "duration": 83,
    "start_time": "2022-05-21T15:33:28.078Z"
   },
   {
    "duration": 15,
    "start_time": "2022-05-21T15:33:28.163Z"
   },
   {
    "duration": 9,
    "start_time": "2022-05-21T15:33:28.180Z"
   },
   {
    "duration": 33,
    "start_time": "2022-05-21T15:33:28.190Z"
   },
   {
    "duration": 4,
    "start_time": "2022-05-21T15:33:30.497Z"
   },
   {
    "duration": 3,
    "start_time": "2022-05-21T15:33:42.393Z"
   },
   {
    "duration": 47,
    "start_time": "2022-05-21T15:33:51.979Z"
   },
   {
    "duration": 24,
    "start_time": "2022-05-21T15:34:37.901Z"
   },
   {
    "duration": 75,
    "start_time": "2022-05-21T15:35:09.576Z"
   },
   {
    "duration": 18,
    "start_time": "2022-05-21T15:35:16.172Z"
   },
   {
    "duration": 21,
    "start_time": "2022-05-21T15:35:32.995Z"
   },
   {
    "duration": 18,
    "start_time": "2022-05-21T15:35:53.665Z"
   },
   {
    "duration": 24,
    "start_time": "2022-05-21T15:36:02.368Z"
   },
   {
    "duration": 17,
    "start_time": "2022-05-21T15:36:10.883Z"
   },
   {
    "duration": 12,
    "start_time": "2022-05-21T15:37:12.897Z"
   },
   {
    "duration": 4,
    "start_time": "2022-05-21T15:37:18.191Z"
   },
   {
    "duration": 158,
    "start_time": "2022-05-21T15:37:18.199Z"
   },
   {
    "duration": 124,
    "start_time": "2022-05-21T15:37:18.359Z"
   },
   {
    "duration": 106,
    "start_time": "2022-05-21T15:37:18.485Z"
   },
   {
    "duration": 51,
    "start_time": "2022-05-21T15:37:18.593Z"
   },
   {
    "duration": 10,
    "start_time": "2022-05-21T15:37:18.646Z"
   },
   {
    "duration": 23,
    "start_time": "2022-05-21T15:37:18.658Z"
   },
   {
    "duration": 267,
    "start_time": "2022-05-21T15:37:18.682Z"
   },
   {
    "duration": 16,
    "start_time": "2022-05-21T15:37:18.950Z"
   },
   {
    "duration": 94,
    "start_time": "2022-05-21T15:37:18.969Z"
   },
   {
    "duration": 27,
    "start_time": "2022-05-21T15:37:19.065Z"
   },
   {
    "duration": 75,
    "start_time": "2022-05-21T15:37:19.093Z"
   },
   {
    "duration": 13,
    "start_time": "2022-05-21T15:37:19.170Z"
   },
   {
    "duration": 13,
    "start_time": "2022-05-21T15:37:19.185Z"
   },
   {
    "duration": 50,
    "start_time": "2022-05-21T15:37:19.200Z"
   },
   {
    "duration": 11,
    "start_time": "2022-05-21T15:37:21.875Z"
   },
   {
    "duration": 12,
    "start_time": "2022-05-21T15:37:35.991Z"
   },
   {
    "duration": 4,
    "start_time": "2022-05-21T15:37:44.440Z"
   },
   {
    "duration": 151,
    "start_time": "2022-05-21T15:37:44.464Z"
   },
   {
    "duration": 128,
    "start_time": "2022-05-21T15:37:44.617Z"
   },
   {
    "duration": 107,
    "start_time": "2022-05-21T15:37:44.747Z"
   },
   {
    "duration": 40,
    "start_time": "2022-05-21T15:37:44.856Z"
   },
   {
    "duration": 40,
    "start_time": "2022-05-21T15:37:44.898Z"
   },
   {
    "duration": 21,
    "start_time": "2022-05-21T15:37:44.940Z"
   },
   {
    "duration": 234,
    "start_time": "2022-05-21T15:37:44.963Z"
   },
   {
    "duration": 27,
    "start_time": "2022-05-21T15:37:45.198Z"
   },
   {
    "duration": 79,
    "start_time": "2022-05-21T15:37:45.227Z"
   },
   {
    "duration": 42,
    "start_time": "2022-05-21T15:37:45.308Z"
   },
   {
    "duration": 53,
    "start_time": "2022-05-21T15:37:45.352Z"
   },
   {
    "duration": 19,
    "start_time": "2022-05-21T15:37:45.429Z"
   },
   {
    "duration": 8,
    "start_time": "2022-05-21T15:37:45.449Z"
   },
   {
    "duration": 20,
    "start_time": "2022-05-21T15:37:45.460Z"
   },
   {
    "duration": 10,
    "start_time": "2022-05-21T15:37:46.967Z"
   },
   {
    "duration": 17,
    "start_time": "2022-05-21T15:38:10.284Z"
   },
   {
    "duration": 18,
    "start_time": "2022-05-21T15:38:20.295Z"
   },
   {
    "duration": 5,
    "start_time": "2022-05-21T15:38:30.399Z"
   },
   {
    "duration": 10,
    "start_time": "2022-05-21T15:38:36.304Z"
   },
   {
    "duration": 13,
    "start_time": "2022-05-21T15:38:49.037Z"
   },
   {
    "duration": 10,
    "start_time": "2022-05-21T15:39:01.140Z"
   },
   {
    "duration": 18,
    "start_time": "2022-05-21T15:39:20.372Z"
   },
   {
    "duration": 10,
    "start_time": "2022-05-21T15:39:35.609Z"
   },
   {
    "duration": 10,
    "start_time": "2022-05-21T15:39:51.980Z"
   },
   {
    "duration": 11,
    "start_time": "2022-05-21T15:40:01.876Z"
   },
   {
    "duration": 10,
    "start_time": "2022-05-21T15:41:52.885Z"
   },
   {
    "duration": 4,
    "start_time": "2022-05-21T15:46:55.368Z"
   },
   {
    "duration": 11,
    "start_time": "2022-05-21T15:47:00.284Z"
   },
   {
    "duration": 5,
    "start_time": "2022-05-21T15:48:00.108Z"
   },
   {
    "duration": 224,
    "start_time": "2022-05-21T15:48:00.115Z"
   },
   {
    "duration": 129,
    "start_time": "2022-05-21T15:48:00.341Z"
   },
   {
    "duration": 111,
    "start_time": "2022-05-21T15:48:00.472Z"
   },
   {
    "duration": 65,
    "start_time": "2022-05-21T15:48:00.586Z"
   },
   {
    "duration": 11,
    "start_time": "2022-05-21T15:48:00.652Z"
   },
   {
    "duration": 42,
    "start_time": "2022-05-21T15:48:00.665Z"
   },
   {
    "duration": 256,
    "start_time": "2022-05-21T15:48:00.709Z"
   },
   {
    "duration": 14,
    "start_time": "2022-05-21T15:48:00.967Z"
   },
   {
    "duration": 97,
    "start_time": "2022-05-21T15:48:00.983Z"
   },
   {
    "duration": 25,
    "start_time": "2022-05-21T15:48:01.083Z"
   },
   {
    "duration": 65,
    "start_time": "2022-05-21T15:48:01.123Z"
   },
   {
    "duration": 12,
    "start_time": "2022-05-21T15:48:01.190Z"
   },
   {
    "duration": 28,
    "start_time": "2022-05-21T15:48:01.203Z"
   },
   {
    "duration": 11,
    "start_time": "2022-05-21T15:48:01.233Z"
   },
   {
    "duration": 12,
    "start_time": "2022-05-21T15:48:06.218Z"
   },
   {
    "duration": 15,
    "start_time": "2022-05-21T15:48:09.420Z"
   },
   {
    "duration": 11,
    "start_time": "2022-05-21T15:48:13.519Z"
   },
   {
    "duration": 6,
    "start_time": "2022-05-21T15:54:24.891Z"
   },
   {
    "duration": 13,
    "start_time": "2022-05-21T15:54:28.140Z"
   },
   {
    "duration": 4,
    "start_time": "2022-05-21T15:54:35.518Z"
   },
   {
    "duration": 173,
    "start_time": "2022-05-21T15:54:35.526Z"
   },
   {
    "duration": 137,
    "start_time": "2022-05-21T15:54:35.701Z"
   },
   {
    "duration": 113,
    "start_time": "2022-05-21T15:54:35.839Z"
   },
   {
    "duration": 46,
    "start_time": "2022-05-21T15:54:35.955Z"
   },
   {
    "duration": 20,
    "start_time": "2022-05-21T15:54:36.003Z"
   },
   {
    "duration": 36,
    "start_time": "2022-05-21T15:54:36.029Z"
   },
   {
    "duration": 246,
    "start_time": "2022-05-21T15:54:36.067Z"
   },
   {
    "duration": 23,
    "start_time": "2022-05-21T15:54:36.315Z"
   },
   {
    "duration": 96,
    "start_time": "2022-05-21T15:54:36.340Z"
   },
   {
    "duration": 25,
    "start_time": "2022-05-21T15:54:36.439Z"
   },
   {
    "duration": 75,
    "start_time": "2022-05-21T15:54:36.465Z"
   },
   {
    "duration": 13,
    "start_time": "2022-05-21T15:54:36.541Z"
   },
   {
    "duration": 8,
    "start_time": "2022-05-21T15:54:36.555Z"
   },
   {
    "duration": 6,
    "start_time": "2022-05-21T15:54:36.565Z"
   },
   {
    "duration": 15,
    "start_time": "2022-05-21T15:54:36.572Z"
   },
   {
    "duration": 11,
    "start_time": "2022-05-21T15:54:36.589Z"
   },
   {
    "duration": 35,
    "start_time": "2022-05-21T15:54:36.601Z"
   },
   {
    "duration": 38,
    "start_time": "2022-05-21T15:54:36.637Z"
   },
   {
    "duration": 86,
    "start_time": "2022-05-21T15:54:36.676Z"
   },
   {
    "duration": 75,
    "start_time": "2022-05-21T15:54:38.280Z"
   },
   {
    "duration": 7,
    "start_time": "2022-05-21T15:54:38.931Z"
   },
   {
    "duration": 16,
    "start_time": "2022-05-21T15:54:41.690Z"
   },
   {
    "duration": 6,
    "start_time": "2022-05-21T15:54:57.859Z"
   },
   {
    "duration": 6,
    "start_time": "2022-05-21T15:55:00.959Z"
   },
   {
    "duration": 14,
    "start_time": "2022-05-21T16:21:13.457Z"
   },
   {
    "duration": 4,
    "start_time": "2022-05-21T16:21:16.768Z"
   },
   {
    "duration": 168,
    "start_time": "2022-05-21T16:21:16.774Z"
   },
   {
    "duration": 129,
    "start_time": "2022-05-21T16:21:16.944Z"
   },
   {
    "duration": 105,
    "start_time": "2022-05-21T16:21:17.074Z"
   },
   {
    "duration": 63,
    "start_time": "2022-05-21T16:21:17.181Z"
   },
   {
    "duration": 11,
    "start_time": "2022-05-21T16:21:17.245Z"
   },
   {
    "duration": 21,
    "start_time": "2022-05-21T16:21:17.258Z"
   },
   {
    "duration": 266,
    "start_time": "2022-05-21T16:21:17.281Z"
   },
   {
    "duration": 15,
    "start_time": "2022-05-21T16:21:17.549Z"
   },
   {
    "duration": 90,
    "start_time": "2022-05-21T16:21:17.566Z"
   },
   {
    "duration": 27,
    "start_time": "2022-05-21T16:21:17.660Z"
   },
   {
    "duration": 76,
    "start_time": "2022-05-21T16:21:17.689Z"
   },
   {
    "duration": 14,
    "start_time": "2022-05-21T16:21:17.767Z"
   },
   {
    "duration": 13,
    "start_time": "2022-05-21T16:21:17.783Z"
   },
   {
    "duration": 36,
    "start_time": "2022-05-21T16:21:17.798Z"
   },
   {
    "duration": 129,
    "start_time": "2022-05-21T16:21:17.836Z"
   },
   {
    "duration": 18,
    "start_time": "2022-05-21T16:21:17.967Z"
   },
   {
    "duration": 25,
    "start_time": "2022-05-21T16:21:17.987Z"
   },
   {
    "duration": 43,
    "start_time": "2022-05-21T16:21:18.013Z"
   },
   {
    "duration": 91,
    "start_time": "2022-05-21T16:21:18.058Z"
   },
   {
    "duration": 5,
    "start_time": "2022-05-21T16:21:18.151Z"
   },
   {
    "duration": 37,
    "start_time": "2022-05-21T16:21:18.157Z"
   },
   {
    "duration": 0,
    "start_time": "2022-05-21T16:21:18.195Z"
   },
   {
    "duration": 0,
    "start_time": "2022-05-21T16:21:18.196Z"
   },
   {
    "duration": 0,
    "start_time": "2022-05-21T16:21:18.198Z"
   },
   {
    "duration": 12,
    "start_time": "2022-05-21T16:21:24.096Z"
   },
   {
    "duration": 11,
    "start_time": "2022-05-21T16:21:30.144Z"
   },
   {
    "duration": 12,
    "start_time": "2022-05-21T16:21:30.836Z"
   },
   {
    "duration": 70,
    "start_time": "2022-05-21T16:21:35.839Z"
   },
   {
    "duration": 17,
    "start_time": "2022-05-21T16:21:36.121Z"
   },
   {
    "duration": 49,
    "start_time": "2022-05-21T16:21:38.304Z"
   },
   {
    "duration": 5,
    "start_time": "2022-05-21T16:21:38.744Z"
   },
   {
    "duration": 5,
    "start_time": "2022-05-21T16:21:52.203Z"
   },
   {
    "duration": 55,
    "start_time": "2022-05-21T16:21:53.876Z"
   },
   {
    "duration": 53,
    "start_time": "2022-05-21T16:21:54.476Z"
   },
   {
    "duration": 14,
    "start_time": "2022-05-21T16:21:55.405Z"
   },
   {
    "duration": 10,
    "start_time": "2022-05-21T16:25:43.302Z"
   },
   {
    "duration": 11,
    "start_time": "2022-05-21T16:26:03.589Z"
   },
   {
    "duration": 12,
    "start_time": "2022-05-21T16:26:04.569Z"
   },
   {
    "duration": 16,
    "start_time": "2022-05-21T16:26:05.015Z"
   },
   {
    "duration": 10,
    "start_time": "2022-05-21T16:26:05.680Z"
   },
   {
    "duration": 11,
    "start_time": "2022-05-21T16:26:06.175Z"
   },
   {
    "duration": 10,
    "start_time": "2022-05-21T16:26:06.720Z"
   },
   {
    "duration": 9,
    "start_time": "2022-05-21T16:26:07.304Z"
   },
   {
    "duration": 11,
    "start_time": "2022-05-21T16:26:27.257Z"
   },
   {
    "duration": 14,
    "start_time": "2022-05-21T16:26:27.924Z"
   },
   {
    "duration": 10,
    "start_time": "2022-05-21T16:26:28.584Z"
   },
   {
    "duration": 18,
    "start_time": "2022-05-21T16:26:29.230Z"
   },
   {
    "duration": 10,
    "start_time": "2022-05-21T16:26:30.760Z"
   },
   {
    "duration": 13,
    "start_time": "2022-05-21T16:26:33.916Z"
   },
   {
    "duration": 10,
    "start_time": "2022-05-21T16:26:34.794Z"
   },
   {
    "duration": 10,
    "start_time": "2022-05-21T16:26:35.441Z"
   },
   {
    "duration": 13,
    "start_time": "2022-05-21T16:31:03.560Z"
   },
   {
    "duration": 14,
    "start_time": "2022-05-21T16:31:09.968Z"
   },
   {
    "duration": 11,
    "start_time": "2022-05-21T16:31:12.898Z"
   },
   {
    "duration": 10,
    "start_time": "2022-05-21T16:31:17.239Z"
   },
   {
    "duration": 12,
    "start_time": "2022-05-21T16:31:25.278Z"
   },
   {
    "duration": 9,
    "start_time": "2022-05-21T16:31:37.759Z"
   },
   {
    "duration": 12,
    "start_time": "2022-05-21T16:31:38.962Z"
   },
   {
    "duration": 9,
    "start_time": "2022-05-21T16:31:40.042Z"
   },
   {
    "duration": 11,
    "start_time": "2022-05-21T16:31:44.591Z"
   },
   {
    "duration": 1344,
    "start_time": "2022-05-21T16:40:02.168Z"
   },
   {
    "duration": 196,
    "start_time": "2022-05-21T16:40:03.514Z"
   },
   {
    "duration": 181,
    "start_time": "2022-05-21T16:40:03.712Z"
   },
   {
    "duration": 153,
    "start_time": "2022-05-21T16:40:03.895Z"
   },
   {
    "duration": 60,
    "start_time": "2022-05-21T16:40:04.051Z"
   },
   {
    "duration": 17,
    "start_time": "2022-05-21T16:40:04.129Z"
   },
   {
    "duration": 38,
    "start_time": "2022-05-21T16:40:04.149Z"
   },
   {
    "duration": 485,
    "start_time": "2022-05-21T16:40:04.189Z"
   },
   {
    "duration": 18,
    "start_time": "2022-05-21T16:40:04.676Z"
   },
   {
    "duration": 118,
    "start_time": "2022-05-21T16:40:04.696Z"
   },
   {
    "duration": 40,
    "start_time": "2022-05-21T16:40:04.823Z"
   },
   {
    "duration": 82,
    "start_time": "2022-05-21T16:40:04.865Z"
   },
   {
    "duration": 19,
    "start_time": "2022-05-21T16:40:04.948Z"
   },
   {
    "duration": 12,
    "start_time": "2022-05-21T16:40:04.970Z"
   },
   {
    "duration": 5,
    "start_time": "2022-05-21T16:40:04.983Z"
   },
   {
    "duration": 42,
    "start_time": "2022-05-21T16:40:04.989Z"
   },
   {
    "duration": 144,
    "start_time": "2022-05-21T16:40:05.033Z"
   },
   {
    "duration": 5,
    "start_time": "2022-05-21T16:40:05.179Z"
   },
   {
    "duration": 82,
    "start_time": "2022-05-21T16:40:05.186Z"
   },
   {
    "duration": 200,
    "start_time": "2022-05-21T16:40:05.270Z"
   },
   {
    "duration": 54,
    "start_time": "2022-05-21T16:40:05.472Z"
   },
   {
    "duration": 38,
    "start_time": "2022-05-21T16:40:05.531Z"
   },
   {
    "duration": 110,
    "start_time": "2022-05-21T16:40:05.570Z"
   },
   {
    "duration": 97,
    "start_time": "2022-05-21T16:40:05.682Z"
   },
   {
    "duration": 15,
    "start_time": "2022-05-21T16:40:05.781Z"
   },
   {
    "duration": 37,
    "start_time": "2022-05-21T16:40:05.798Z"
   },
   {
    "duration": 31,
    "start_time": "2022-05-21T16:40:05.837Z"
   },
   {
    "duration": 14,
    "start_time": "2022-05-21T16:40:05.870Z"
   },
   {
    "duration": 11,
    "start_time": "2022-05-21T16:40:05.886Z"
   },
   {
    "duration": 40,
    "start_time": "2022-05-21T16:40:05.899Z"
   },
   {
    "duration": 26,
    "start_time": "2022-05-21T16:40:05.945Z"
   },
   {
    "duration": 18,
    "start_time": "2022-05-21T16:40:05.974Z"
   },
   {
    "duration": 16,
    "start_time": "2022-05-21T16:40:05.994Z"
   },
   {
    "duration": 1310,
    "start_time": "2022-05-21T21:30:10.243Z"
   },
   {
    "duration": 171,
    "start_time": "2022-05-21T21:30:11.556Z"
   },
   {
    "duration": 173,
    "start_time": "2022-05-21T21:30:11.729Z"
   },
   {
    "duration": 148,
    "start_time": "2022-05-21T21:30:11.905Z"
   },
   {
    "duration": 49,
    "start_time": "2022-05-21T21:30:12.055Z"
   },
   {
    "duration": 12,
    "start_time": "2022-05-21T21:30:12.105Z"
   },
   {
    "duration": 51,
    "start_time": "2022-05-21T21:30:12.119Z"
   },
   {
    "duration": 463,
    "start_time": "2022-05-21T21:30:12.172Z"
   },
   {
    "duration": 29,
    "start_time": "2022-05-21T21:30:12.636Z"
   },
   {
    "duration": 97,
    "start_time": "2022-05-21T21:30:12.669Z"
   },
   {
    "duration": 26,
    "start_time": "2022-05-21T21:30:12.769Z"
   },
   {
    "duration": 79,
    "start_time": "2022-05-21T21:30:12.797Z"
   },
   {
    "duration": 14,
    "start_time": "2022-05-21T21:30:12.878Z"
   },
   {
    "duration": 12,
    "start_time": "2022-05-21T21:30:12.894Z"
   },
   {
    "duration": 4,
    "start_time": "2022-05-21T21:30:12.908Z"
   },
   {
    "duration": 18,
    "start_time": "2022-05-21T21:30:12.914Z"
   },
   {
    "duration": 184,
    "start_time": "2022-05-21T21:30:12.933Z"
   },
   {
    "duration": 5,
    "start_time": "2022-05-21T21:30:13.119Z"
   },
   {
    "duration": 80,
    "start_time": "2022-05-21T21:30:13.127Z"
   },
   {
    "duration": 157,
    "start_time": "2022-05-21T21:30:13.209Z"
   },
   {
    "duration": 6,
    "start_time": "2022-05-21T21:30:13.368Z"
   },
   {
    "duration": 10,
    "start_time": "2022-05-21T21:30:13.376Z"
   },
   {
    "duration": 81,
    "start_time": "2022-05-21T21:30:13.388Z"
   },
   {
    "duration": 56,
    "start_time": "2022-05-21T21:30:13.472Z"
   },
   {
    "duration": 34,
    "start_time": "2022-05-21T21:30:13.530Z"
   },
   {
    "duration": 10,
    "start_time": "2022-05-21T21:30:13.566Z"
   },
   {
    "duration": 10,
    "start_time": "2022-05-21T21:30:13.578Z"
   },
   {
    "duration": 11,
    "start_time": "2022-05-21T21:30:13.591Z"
   },
   {
    "duration": 22,
    "start_time": "2022-05-21T21:30:13.604Z"
   },
   {
    "duration": 43,
    "start_time": "2022-05-21T21:30:13.628Z"
   },
   {
    "duration": 11,
    "start_time": "2022-05-21T21:30:13.673Z"
   },
   {
    "duration": 19,
    "start_time": "2022-05-21T21:30:13.686Z"
   },
   {
    "duration": 25,
    "start_time": "2022-05-21T21:30:13.707Z"
   }
  ],
  "kernelspec": {
   "display_name": "Python 3 (ipykernel)",
   "language": "python",
   "name": "python3"
  },
  "language_info": {
   "codemirror_mode": {
    "name": "ipython",
    "version": 3
   },
   "file_extension": ".py",
   "mimetype": "text/x-python",
   "name": "python",
   "nbconvert_exporter": "python",
   "pygments_lexer": "ipython3",
   "version": "3.9.12"
  },
  "toc": {
   "base_numbering": 1,
   "nav_menu": {},
   "number_sections": true,
   "sideBar": true,
   "skip_h1_title": true,
   "title_cell": "Table of Contents",
   "title_sidebar": "Contents",
   "toc_cell": false,
   "toc_position": {},
   "toc_section_display": true,
   "toc_window_display": false
  }
 },
 "nbformat": 4,
 "nbformat_minor": 2
}
