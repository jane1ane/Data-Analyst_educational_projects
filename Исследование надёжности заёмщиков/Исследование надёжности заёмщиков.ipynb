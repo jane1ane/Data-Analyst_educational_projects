{
 "cells": [
  {
   "cell_type": "markdown",
   "metadata": {},
   "source": [
    "# Исследование надёжности заёмщиков\n",
    "\n",
    "Входные данные - статистика о платёжеспособности клиентов банка.\n",
    "\n",
    "Цель исследования - определить влияет ли семейное положение и количество детей клиента на факт погашения кредита в срок. \n",
    "\n",
    "В ходе исследования нужно получить ответы на следующие вопросы:\n",
    "- Есть ли зависимость между наличием детей и возвратом кредита в срок?\n",
    "- Есть ли зависимость между семейным положением и возвратом кредита в срок?\n",
    "- Есть ли зависимость между уровнем дохода и возвратом кредита в срок?\n",
    "- Как разные цели кредита влияют на его возврат в срок?\n",
    "\n",
    "Результаты исследования будут учтены при построении модели **кредитного скоринга** — специальной системы, которая оценивает способность потенциального заёмщика вернуть кредит банку."
   ]
  },
  {
   "cell_type": "markdown",
   "metadata": {},
   "source": [
    "## Изучаем датасет"
   ]
  },
  {
   "cell_type": "code",
   "execution_count": 91,
   "metadata": {},
   "outputs": [
    {
     "name": "stdout",
     "output_type": "stream",
     "text": [
      "Requirement already satisfied: pymystem3 in /opt/conda/lib/python3.9/site-packages (0.2.0)\r\n",
      "Requirement already satisfied: requests in /opt/conda/lib/python3.9/site-packages (from pymystem3) (2.25.1)\r\n",
      "Requirement already satisfied: chardet<5,>=3.0.2 in /opt/conda/lib/python3.9/site-packages (from requests->pymystem3) (4.0.0)\r\n",
      "Requirement already satisfied: certifi>=2017.4.17 in /opt/conda/lib/python3.9/site-packages (from requests->pymystem3) (2022.5.18.1)\r\n",
      "Requirement already satisfied: urllib3<1.27,>=1.21.1 in /opt/conda/lib/python3.9/site-packages (from requests->pymystem3) (1.26.6)\r\n",
      "Requirement already satisfied: idna<3,>=2.5 in /opt/conda/lib/python3.9/site-packages (from requests->pymystem3) (2.10)\r\n"
     ]
    }
   ],
   "source": [
    "# Устанавливаем библиотеку для лемматизации текста\n",
    "!pip install pymystem3\n",
    "\n",
    "#Загружаем библиотеки\n",
    "import pandas as pd\n",
    "\n",
    "from pymystem3 import Mystem\n",
    "m = Mystem()\n",
    "\n",
    "from collections import Counter\n",
    "\n",
    "from nltk.stem import SnowballStemmer\n",
    "russian_stemmer = SnowballStemmer('russian')"
   ]
  },
  {
   "cell_type": "code",
   "execution_count": 92,
   "metadata": {},
   "outputs": [],
   "source": [
    "# загружаем данные\n",
    "df = pd.read_csv('https://code.s3.yandex.net/datasets/data.csv')"
   ]
  },
  {
   "cell_type": "code",
   "execution_count": 93,
   "metadata": {},
   "outputs": [
    {
     "data": {
      "text/html": [
       "<div>\n",
       "<style scoped>\n",
       "    .dataframe tbody tr th:only-of-type {\n",
       "        vertical-align: middle;\n",
       "    }\n",
       "\n",
       "    .dataframe tbody tr th {\n",
       "        vertical-align: top;\n",
       "    }\n",
       "\n",
       "    .dataframe thead th {\n",
       "        text-align: right;\n",
       "    }\n",
       "</style>\n",
       "<table border=\"1\" class=\"dataframe\">\n",
       "  <thead>\n",
       "    <tr style=\"text-align: right;\">\n",
       "      <th></th>\n",
       "      <th>children</th>\n",
       "      <th>days_employed</th>\n",
       "      <th>dob_years</th>\n",
       "      <th>education</th>\n",
       "      <th>education_id</th>\n",
       "      <th>family_status</th>\n",
       "      <th>family_status_id</th>\n",
       "      <th>gender</th>\n",
       "      <th>income_type</th>\n",
       "      <th>debt</th>\n",
       "      <th>total_income</th>\n",
       "      <th>purpose</th>\n",
       "    </tr>\n",
       "  </thead>\n",
       "  <tbody>\n",
       "    <tr>\n",
       "      <th>0</th>\n",
       "      <td>1</td>\n",
       "      <td>-8437.673028</td>\n",
       "      <td>42</td>\n",
       "      <td>высшее</td>\n",
       "      <td>0</td>\n",
       "      <td>женат / замужем</td>\n",
       "      <td>0</td>\n",
       "      <td>F</td>\n",
       "      <td>сотрудник</td>\n",
       "      <td>0</td>\n",
       "      <td>253875.639453</td>\n",
       "      <td>покупка жилья</td>\n",
       "    </tr>\n",
       "    <tr>\n",
       "      <th>1</th>\n",
       "      <td>1</td>\n",
       "      <td>-4024.803754</td>\n",
       "      <td>36</td>\n",
       "      <td>среднее</td>\n",
       "      <td>1</td>\n",
       "      <td>женат / замужем</td>\n",
       "      <td>0</td>\n",
       "      <td>F</td>\n",
       "      <td>сотрудник</td>\n",
       "      <td>0</td>\n",
       "      <td>112080.014102</td>\n",
       "      <td>приобретение автомобиля</td>\n",
       "    </tr>\n",
       "    <tr>\n",
       "      <th>2</th>\n",
       "      <td>0</td>\n",
       "      <td>-5623.422610</td>\n",
       "      <td>33</td>\n",
       "      <td>Среднее</td>\n",
       "      <td>1</td>\n",
       "      <td>женат / замужем</td>\n",
       "      <td>0</td>\n",
       "      <td>M</td>\n",
       "      <td>сотрудник</td>\n",
       "      <td>0</td>\n",
       "      <td>145885.952297</td>\n",
       "      <td>покупка жилья</td>\n",
       "    </tr>\n",
       "    <tr>\n",
       "      <th>3</th>\n",
       "      <td>3</td>\n",
       "      <td>-4124.747207</td>\n",
       "      <td>32</td>\n",
       "      <td>среднее</td>\n",
       "      <td>1</td>\n",
       "      <td>женат / замужем</td>\n",
       "      <td>0</td>\n",
       "      <td>M</td>\n",
       "      <td>сотрудник</td>\n",
       "      <td>0</td>\n",
       "      <td>267628.550329</td>\n",
       "      <td>дополнительное образование</td>\n",
       "    </tr>\n",
       "    <tr>\n",
       "      <th>4</th>\n",
       "      <td>0</td>\n",
       "      <td>340266.072047</td>\n",
       "      <td>53</td>\n",
       "      <td>среднее</td>\n",
       "      <td>1</td>\n",
       "      <td>гражданский брак</td>\n",
       "      <td>1</td>\n",
       "      <td>F</td>\n",
       "      <td>пенсионер</td>\n",
       "      <td>0</td>\n",
       "      <td>158616.077870</td>\n",
       "      <td>сыграть свадьбу</td>\n",
       "    </tr>\n",
       "    <tr>\n",
       "      <th>5</th>\n",
       "      <td>0</td>\n",
       "      <td>-926.185831</td>\n",
       "      <td>27</td>\n",
       "      <td>высшее</td>\n",
       "      <td>0</td>\n",
       "      <td>гражданский брак</td>\n",
       "      <td>1</td>\n",
       "      <td>M</td>\n",
       "      <td>компаньон</td>\n",
       "      <td>0</td>\n",
       "      <td>255763.565419</td>\n",
       "      <td>покупка жилья</td>\n",
       "    </tr>\n",
       "    <tr>\n",
       "      <th>6</th>\n",
       "      <td>0</td>\n",
       "      <td>-2879.202052</td>\n",
       "      <td>43</td>\n",
       "      <td>высшее</td>\n",
       "      <td>0</td>\n",
       "      <td>женат / замужем</td>\n",
       "      <td>0</td>\n",
       "      <td>F</td>\n",
       "      <td>компаньон</td>\n",
       "      <td>0</td>\n",
       "      <td>240525.971920</td>\n",
       "      <td>операции с жильем</td>\n",
       "    </tr>\n",
       "    <tr>\n",
       "      <th>7</th>\n",
       "      <td>0</td>\n",
       "      <td>-152.779569</td>\n",
       "      <td>50</td>\n",
       "      <td>СРЕДНЕЕ</td>\n",
       "      <td>1</td>\n",
       "      <td>женат / замужем</td>\n",
       "      <td>0</td>\n",
       "      <td>M</td>\n",
       "      <td>сотрудник</td>\n",
       "      <td>0</td>\n",
       "      <td>135823.934197</td>\n",
       "      <td>образование</td>\n",
       "    </tr>\n",
       "    <tr>\n",
       "      <th>8</th>\n",
       "      <td>2</td>\n",
       "      <td>-6929.865299</td>\n",
       "      <td>35</td>\n",
       "      <td>ВЫСШЕЕ</td>\n",
       "      <td>0</td>\n",
       "      <td>гражданский брак</td>\n",
       "      <td>1</td>\n",
       "      <td>F</td>\n",
       "      <td>сотрудник</td>\n",
       "      <td>0</td>\n",
       "      <td>95856.832424</td>\n",
       "      <td>на проведение свадьбы</td>\n",
       "    </tr>\n",
       "    <tr>\n",
       "      <th>9</th>\n",
       "      <td>0</td>\n",
       "      <td>-2188.756445</td>\n",
       "      <td>41</td>\n",
       "      <td>среднее</td>\n",
       "      <td>1</td>\n",
       "      <td>женат / замужем</td>\n",
       "      <td>0</td>\n",
       "      <td>M</td>\n",
       "      <td>сотрудник</td>\n",
       "      <td>0</td>\n",
       "      <td>144425.938277</td>\n",
       "      <td>покупка жилья для семьи</td>\n",
       "    </tr>\n",
       "  </tbody>\n",
       "</table>\n",
       "</div>"
      ],
      "text/plain": [
       "   children  days_employed  dob_years education  education_id  \\\n",
       "0         1   -8437.673028         42    высшее             0   \n",
       "1         1   -4024.803754         36   среднее             1   \n",
       "2         0   -5623.422610         33   Среднее             1   \n",
       "3         3   -4124.747207         32   среднее             1   \n",
       "4         0  340266.072047         53   среднее             1   \n",
       "5         0    -926.185831         27    высшее             0   \n",
       "6         0   -2879.202052         43    высшее             0   \n",
       "7         0    -152.779569         50   СРЕДНЕЕ             1   \n",
       "8         2   -6929.865299         35    ВЫСШЕЕ             0   \n",
       "9         0   -2188.756445         41   среднее             1   \n",
       "\n",
       "      family_status  family_status_id gender income_type  debt   total_income  \\\n",
       "0   женат / замужем                 0      F   сотрудник     0  253875.639453   \n",
       "1   женат / замужем                 0      F   сотрудник     0  112080.014102   \n",
       "2   женат / замужем                 0      M   сотрудник     0  145885.952297   \n",
       "3   женат / замужем                 0      M   сотрудник     0  267628.550329   \n",
       "4  гражданский брак                 1      F   пенсионер     0  158616.077870   \n",
       "5  гражданский брак                 1      M   компаньон     0  255763.565419   \n",
       "6   женат / замужем                 0      F   компаньон     0  240525.971920   \n",
       "7   женат / замужем                 0      M   сотрудник     0  135823.934197   \n",
       "8  гражданский брак                 1      F   сотрудник     0   95856.832424   \n",
       "9   женат / замужем                 0      M   сотрудник     0  144425.938277   \n",
       "\n",
       "                      purpose  \n",
       "0               покупка жилья  \n",
       "1     приобретение автомобиля  \n",
       "2               покупка жилья  \n",
       "3  дополнительное образование  \n",
       "4             сыграть свадьбу  \n",
       "5               покупка жилья  \n",
       "6           операции с жильем  \n",
       "7                 образование  \n",
       "8       на проведение свадьбы  \n",
       "9     покупка жилья для семьи  "
      ]
     },
     "metadata": {},
     "output_type": "display_data"
    },
    {
     "name": "stdout",
     "output_type": "stream",
     "text": [
      "<class 'pandas.core.frame.DataFrame'>\n",
      "RangeIndex: 21525 entries, 0 to 21524\n",
      "Data columns (total 12 columns):\n",
      " #   Column            Non-Null Count  Dtype  \n",
      "---  ------            --------------  -----  \n",
      " 0   children          21525 non-null  int64  \n",
      " 1   days_employed     19351 non-null  float64\n",
      " 2   dob_years         21525 non-null  int64  \n",
      " 3   education         21525 non-null  object \n",
      " 4   education_id      21525 non-null  int64  \n",
      " 5   family_status     21525 non-null  object \n",
      " 6   family_status_id  21525 non-null  int64  \n",
      " 7   gender            21525 non-null  object \n",
      " 8   income_type       21525 non-null  object \n",
      " 9   debt              21525 non-null  int64  \n",
      " 10  total_income      19351 non-null  float64\n",
      " 11  purpose           21525 non-null  object \n",
      "dtypes: float64(2), int64(5), object(5)\n",
      "memory usage: 2.0+ MB\n"
     ]
    },
    {
     "data": {
      "text/plain": [
       "None"
      ]
     },
     "metadata": {},
     "output_type": "display_data"
    },
    {
     "name": "stdout",
     "output_type": "stream",
     "text": [
      "Явных дубликатов в данных: 54. Это 0.25% от всех значений.\n",
      "\n",
      "Уникальных значений в колонке children - 8\n",
      "Уникальных значений в колонке days_employed - 19352\n",
      "Пропущенных строк в колонке days_employed - 10.1 %\n",
      "____________________\n",
      "Уникальных значений в колонке dob_years - 58\n",
      "Уникальных значений в колонке education - 15\n",
      "Уникальных значений в колонке education_id - 5\n",
      "Уникальных значений в колонке family_status - 5\n",
      "Уникальных значений в колонке family_status_id - 5\n",
      "Уникальных значений в колонке gender - 3\n",
      "Уникальных значений в колонке income_type - 8\n",
      "Уникальных значений в колонке debt - 2\n",
      "Уникальных значений в колонке total_income - 19352\n",
      "Пропущенных строк в колонке total_income - 10.1 %\n",
      "____________________\n",
      "Уникальных значений в колонке purpose - 38\n"
     ]
    }
   ],
   "source": [
    "# Функция для предварительного ознакомления с данными. \n",
    "\n",
    "def hello_data(data):\n",
    "    \n",
    "    ''' Выводит первые строки, \n",
    "                info, \n",
    "                уникальные значения\n",
    "                и пропуски, если они есть '''\n",
    "    \n",
    "    columns = data.columns \n",
    "    display(data.head(10))\n",
    "    display(data.info())\n",
    "    lost_values = data.duplicated().sum()\n",
    "   \n",
    "    print(\n",
    "        f'Явных дубликатов в данных: {lost_values}. Это {lost_values / len(data) * 100:.2f}% от всех значений.'\n",
    "         )\n",
    "    print()\n",
    "        \n",
    "    for column in columns: # для каждой колонки\n",
    "        try:\n",
    "            unique_value = (len(data[column].unique())) # считаем уникальные значения \n",
    "        except AssertionError:\n",
    "            pass\n",
    "        \n",
    "        if data[column].isna().sum() != 0: # если в колонке есть пропуски\n",
    "            print( f'Уникальных значений в колонке {column} - {unique_value}') #выводим количество уникальных значений\n",
    "            persent = (data[column].isna().sum() / len(data[column]) * 100) # считаем сколько это в процентах и округляем методом \"round\"\n",
    "            print('Пропущенных строк в колонке {} - {:.1f} %'.format(column, persent))\n",
    "            print(\"_\"*20)\n",
    "        else: print( f'Уникальных значений в колонке {column} - {unique_value}') # если пропусков не нашли, то выводим количество уникальных значений  \n",
    "     \n",
    "hello_data(df)"
   ]
  },
  {
   "cell_type": "markdown",
   "metadata": {},
   "source": [
    "**Вывод**"
   ]
  },
  {
   "cell_type": "markdown",
   "metadata": {},
   "source": [
    "Полученный датасет содержит информацию, хранящуюся в следующих колонках:\n",
    "\n",
    "- children — количество детей в семье\n",
    "- days_employed — общий трудовой стаж в днях\n",
    "- dob_years — возраст клиента в годах\n",
    "- education — уровень образования клиента\n",
    "- education_id — идентификатор уровня образования\n",
    "- family_status — семейное положение\n",
    "- family_status_id — идентификатор семейного положения\n",
    "- gender — пол клиента\n",
    "- income_type — тип занятости\n",
    "- debt — имел ли задолженность по возврату кредитов\n",
    "- total_income — ежемесячный доход\n",
    "- purpose — цель получения кредита\n",
    "    \n",
    "При предварительном ознакомлении с данными выявили следующие проблемы:\n",
    "1. Есть незначительное количество дублирующихся данных - 0.25%.\n",
    "2. Есть по 10,1 % пропущенных значений в колонках \"days_employed\" и \"total_income\". \n",
    "3. Колонка \"education\" содержит значения в разном регистре,что приводит к появлению неявных дубликатов. Сейчас в ней 15 уровней образования.\n",
    "4. В \"purpose\" цели получения кредита по смыслу можно объединить в категории, но записаны они в свободной форме, к примеру, \"сыграть свадьбу\" и \"на проведение свадьбы\". Эти значения необходимо будет категоризовать."
   ]
  },
  {
   "cell_type": "markdown",
   "metadata": {},
   "source": [
    "## Предобработка данных\n",
    "\n",
    "### Обработка пропусков"
   ]
  },
  {
   "cell_type": "code",
   "execution_count": 94,
   "metadata": {},
   "outputs": [
    {
     "data": {
      "text/plain": [
       "children               0\n",
       "days_employed       2174\n",
       "dob_years              0\n",
       "education              0\n",
       "education_id           0\n",
       "family_status          0\n",
       "family_status_id       0\n",
       "gender                 0\n",
       "income_type            0\n",
       "debt                   0\n",
       "total_income        2174\n",
       "purpose                0\n",
       "dtype: int64"
      ]
     },
     "execution_count": 94,
     "metadata": {},
     "output_type": "execute_result"
    }
   ],
   "source": [
    "df.isna().sum()"
   ]
  },
  {
   "cell_type": "raw",
   "metadata": {},
   "source": [
    "Пропущенные значения есть только в двух колонках \"days_employed\"- общий трудовой стаж в днях и \"total_income\"— ежемесячный доход, при этом количество пропусков(2174) одинаково. Предполагаем, что они находятся в одних и тех же строках и взаимосвязаны, но проверим. "
   ]
  },
  {
   "cell_type": "code",
   "execution_count": 95,
   "metadata": {},
   "outputs": [
    {
     "name": "stdout",
     "output_type": "stream",
     "text": [
      "Пропуски полностью совпадают.\n"
     ]
    }
   ],
   "source": [
    "# По двум колонкам ищем пропуски и находим сумму строк для которых обе колонки содержат Nan,\n",
    "# сравниваем ее с количеством пропусков одной из колонок \"days_employed\"\n",
    "\n",
    "if df['days_employed'].isna().sum() == df[['days_employed', 'total_income']].isna().all(axis=1).sum():\n",
    "    print(\"Пропуски полностью совпадают.\")\n",
    "else:\n",
    "    print(\"Пропуски не совпадают полностью.\")"
   ]
  },
  {
   "cell_type": "markdown",
   "metadata": {},
   "source": [
    "Предположение подтвердилось. Отсутствующий трудовой стаж и отсутствующий ежемесячный доход связаны между собой. Возможно, пропуски относятся к одной категории заемщиков, например, \"безработный\" или \"студент\". Проверим это, подсчитаем количество пропущеных значений по категориям заемщиков."
   ]
  },
  {
   "cell_type": "code",
   "execution_count": 96,
   "metadata": {},
   "outputs": [
    {
     "data": {
      "text/plain": [
       "income_type\n",
       "безработный           0\n",
       "в декрете             0\n",
       "госслужащий         147\n",
       "компаньон           508\n",
       "пенсионер           413\n",
       "предприниматель       1\n",
       "сотрудник          1105\n",
       "студент               0\n",
       "Name: days_employed, dtype: int64"
      ]
     },
     "metadata": {},
     "output_type": "display_data"
    }
   ],
   "source": [
    "# методами size и count ищем разницу по сгруппированным даным. \n",
    "# size суммирует количество всех значений в колонке, count игнорирует при подсчете Nan\n",
    "x = display(\n",
    "    df.groupby('income_type')['days_employed'].size() - df.groupby('income_type')['days_employed'].count()\n",
    ")"
   ]
  },
  {
   "cell_type": "markdown",
   "metadata": {},
   "source": [
    "Пропущенные значения нельзя отнести к одной группе.  На данный момент всем неизвестным значениям \n",
    "в таблице присвоено значение NaN. Чтобы это не повлияло  на точность расчетов значения в колонке \n",
    "отражающей доход - \"total_income\" заменим на медианное значение в соответствии с группой заемщиков.\n"
   ]
  },
  {
   "cell_type": "code",
   "execution_count": 97,
   "metadata": {},
   "outputs": [
    {
     "data": {
      "text/html": [
       "<div>\n",
       "<style scoped>\n",
       "    .dataframe tbody tr th:only-of-type {\n",
       "        vertical-align: middle;\n",
       "    }\n",
       "\n",
       "    .dataframe tbody tr th {\n",
       "        vertical-align: top;\n",
       "    }\n",
       "\n",
       "    .dataframe thead th {\n",
       "        text-align: right;\n",
       "    }\n",
       "</style>\n",
       "<table border=\"1\" class=\"dataframe\">\n",
       "  <thead>\n",
       "    <tr style=\"text-align: right;\">\n",
       "      <th></th>\n",
       "      <th>children</th>\n",
       "      <th>days_employed</th>\n",
       "      <th>dob_years</th>\n",
       "      <th>education</th>\n",
       "      <th>education_id</th>\n",
       "      <th>family_status</th>\n",
       "      <th>family_status_id</th>\n",
       "      <th>gender</th>\n",
       "      <th>income_type</th>\n",
       "      <th>debt</th>\n",
       "      <th>total_income</th>\n",
       "      <th>purpose</th>\n",
       "      <th>median_income</th>\n",
       "    </tr>\n",
       "  </thead>\n",
       "  <tbody>\n",
       "    <tr>\n",
       "      <th>0</th>\n",
       "      <td>1</td>\n",
       "      <td>-8437.673028</td>\n",
       "      <td>42</td>\n",
       "      <td>высшее</td>\n",
       "      <td>0</td>\n",
       "      <td>женат / замужем</td>\n",
       "      <td>0</td>\n",
       "      <td>F</td>\n",
       "      <td>сотрудник</td>\n",
       "      <td>0</td>\n",
       "      <td>253875.639453</td>\n",
       "      <td>покупка жилья</td>\n",
       "      <td>142594.396847</td>\n",
       "    </tr>\n",
       "    <tr>\n",
       "      <th>1</th>\n",
       "      <td>1</td>\n",
       "      <td>-4024.803754</td>\n",
       "      <td>36</td>\n",
       "      <td>среднее</td>\n",
       "      <td>1</td>\n",
       "      <td>женат / замужем</td>\n",
       "      <td>0</td>\n",
       "      <td>F</td>\n",
       "      <td>сотрудник</td>\n",
       "      <td>0</td>\n",
       "      <td>112080.014102</td>\n",
       "      <td>приобретение автомобиля</td>\n",
       "      <td>142594.396847</td>\n",
       "    </tr>\n",
       "    <tr>\n",
       "      <th>2</th>\n",
       "      <td>0</td>\n",
       "      <td>-5623.422610</td>\n",
       "      <td>33</td>\n",
       "      <td>Среднее</td>\n",
       "      <td>1</td>\n",
       "      <td>женат / замужем</td>\n",
       "      <td>0</td>\n",
       "      <td>M</td>\n",
       "      <td>сотрудник</td>\n",
       "      <td>0</td>\n",
       "      <td>145885.952297</td>\n",
       "      <td>покупка жилья</td>\n",
       "      <td>142594.396847</td>\n",
       "    </tr>\n",
       "    <tr>\n",
       "      <th>3</th>\n",
       "      <td>3</td>\n",
       "      <td>-4124.747207</td>\n",
       "      <td>32</td>\n",
       "      <td>среднее</td>\n",
       "      <td>1</td>\n",
       "      <td>женат / замужем</td>\n",
       "      <td>0</td>\n",
       "      <td>M</td>\n",
       "      <td>сотрудник</td>\n",
       "      <td>0</td>\n",
       "      <td>267628.550329</td>\n",
       "      <td>дополнительное образование</td>\n",
       "      <td>142594.396847</td>\n",
       "    </tr>\n",
       "    <tr>\n",
       "      <th>4</th>\n",
       "      <td>0</td>\n",
       "      <td>340266.072047</td>\n",
       "      <td>53</td>\n",
       "      <td>среднее</td>\n",
       "      <td>1</td>\n",
       "      <td>гражданский брак</td>\n",
       "      <td>1</td>\n",
       "      <td>F</td>\n",
       "      <td>пенсионер</td>\n",
       "      <td>0</td>\n",
       "      <td>158616.077870</td>\n",
       "      <td>сыграть свадьбу</td>\n",
       "      <td>118514.486412</td>\n",
       "    </tr>\n",
       "    <tr>\n",
       "      <th>5</th>\n",
       "      <td>0</td>\n",
       "      <td>-926.185831</td>\n",
       "      <td>27</td>\n",
       "      <td>высшее</td>\n",
       "      <td>0</td>\n",
       "      <td>гражданский брак</td>\n",
       "      <td>1</td>\n",
       "      <td>M</td>\n",
       "      <td>компаньон</td>\n",
       "      <td>0</td>\n",
       "      <td>255763.565419</td>\n",
       "      <td>покупка жилья</td>\n",
       "      <td>172357.950966</td>\n",
       "    </tr>\n",
       "    <tr>\n",
       "      <th>6</th>\n",
       "      <td>0</td>\n",
       "      <td>-2879.202052</td>\n",
       "      <td>43</td>\n",
       "      <td>высшее</td>\n",
       "      <td>0</td>\n",
       "      <td>женат / замужем</td>\n",
       "      <td>0</td>\n",
       "      <td>F</td>\n",
       "      <td>компаньон</td>\n",
       "      <td>0</td>\n",
       "      <td>240525.971920</td>\n",
       "      <td>операции с жильем</td>\n",
       "      <td>172357.950966</td>\n",
       "    </tr>\n",
       "    <tr>\n",
       "      <th>7</th>\n",
       "      <td>0</td>\n",
       "      <td>-152.779569</td>\n",
       "      <td>50</td>\n",
       "      <td>СРЕДНЕЕ</td>\n",
       "      <td>1</td>\n",
       "      <td>женат / замужем</td>\n",
       "      <td>0</td>\n",
       "      <td>M</td>\n",
       "      <td>сотрудник</td>\n",
       "      <td>0</td>\n",
       "      <td>135823.934197</td>\n",
       "      <td>образование</td>\n",
       "      <td>142594.396847</td>\n",
       "    </tr>\n",
       "    <tr>\n",
       "      <th>8</th>\n",
       "      <td>2</td>\n",
       "      <td>-6929.865299</td>\n",
       "      <td>35</td>\n",
       "      <td>ВЫСШЕЕ</td>\n",
       "      <td>0</td>\n",
       "      <td>гражданский брак</td>\n",
       "      <td>1</td>\n",
       "      <td>F</td>\n",
       "      <td>сотрудник</td>\n",
       "      <td>0</td>\n",
       "      <td>95856.832424</td>\n",
       "      <td>на проведение свадьбы</td>\n",
       "      <td>142594.396847</td>\n",
       "    </tr>\n",
       "    <tr>\n",
       "      <th>9</th>\n",
       "      <td>0</td>\n",
       "      <td>-2188.756445</td>\n",
       "      <td>41</td>\n",
       "      <td>среднее</td>\n",
       "      <td>1</td>\n",
       "      <td>женат / замужем</td>\n",
       "      <td>0</td>\n",
       "      <td>M</td>\n",
       "      <td>сотрудник</td>\n",
       "      <td>0</td>\n",
       "      <td>144425.938277</td>\n",
       "      <td>покупка жилья для семьи</td>\n",
       "      <td>142594.396847</td>\n",
       "    </tr>\n",
       "  </tbody>\n",
       "</table>\n",
       "</div>"
      ],
      "text/plain": [
       "   children  days_employed  dob_years education  education_id  \\\n",
       "0         1   -8437.673028         42    высшее             0   \n",
       "1         1   -4024.803754         36   среднее             1   \n",
       "2         0   -5623.422610         33   Среднее             1   \n",
       "3         3   -4124.747207         32   среднее             1   \n",
       "4         0  340266.072047         53   среднее             1   \n",
       "5         0    -926.185831         27    высшее             0   \n",
       "6         0   -2879.202052         43    высшее             0   \n",
       "7         0    -152.779569         50   СРЕДНЕЕ             1   \n",
       "8         2   -6929.865299         35    ВЫСШЕЕ             0   \n",
       "9         0   -2188.756445         41   среднее             1   \n",
       "\n",
       "      family_status  family_status_id gender income_type  debt   total_income  \\\n",
       "0   женат / замужем                 0      F   сотрудник     0  253875.639453   \n",
       "1   женат / замужем                 0      F   сотрудник     0  112080.014102   \n",
       "2   женат / замужем                 0      M   сотрудник     0  145885.952297   \n",
       "3   женат / замужем                 0      M   сотрудник     0  267628.550329   \n",
       "4  гражданский брак                 1      F   пенсионер     0  158616.077870   \n",
       "5  гражданский брак                 1      M   компаньон     0  255763.565419   \n",
       "6   женат / замужем                 0      F   компаньон     0  240525.971920   \n",
       "7   женат / замужем                 0      M   сотрудник     0  135823.934197   \n",
       "8  гражданский брак                 1      F   сотрудник     0   95856.832424   \n",
       "9   женат / замужем                 0      M   сотрудник     0  144425.938277   \n",
       "\n",
       "                      purpose  median_income  \n",
       "0               покупка жилья  142594.396847  \n",
       "1     приобретение автомобиля  142594.396847  \n",
       "2               покупка жилья  142594.396847  \n",
       "3  дополнительное образование  142594.396847  \n",
       "4             сыграть свадьбу  118514.486412  \n",
       "5               покупка жилья  172357.950966  \n",
       "6           операции с жильем  172357.950966  \n",
       "7                 образование  142594.396847  \n",
       "8       на проведение свадьбы  142594.396847  \n",
       "9     покупка жилья для семьи  142594.396847  "
      ]
     },
     "execution_count": 97,
     "metadata": {},
     "output_type": "execute_result"
    }
   ],
   "source": [
    "# Добавляем столбец, в котором будут храниться средние значения.\n",
    "df['median_income'] = df.groupby('income_type')['total_income'].transform('median')\n",
    "# Заполняем пропущенные значения средними.\n",
    "df['total_income'] = df['total_income'].fillna(df['median_income'])\n",
    "df.head(10)"
   ]
  },
  {
   "cell_type": "markdown",
   "metadata": {},
   "source": [
    "**Вывод**\n",
    "\n",
    "   В результате предварительного исследования данных был обнаружен пропуск в 2174 строках в столбцах:\n",
    "\"days_employed\" и \"total_income\" — общий трудовой стаж в днях и ежемесячный доход. Это пропуски взаимосвязаны и  неслучайны, но отнести их к одной группе заемщиков нельзя. Можно объяснить тем, что часть клиентов банка работает неофициально, либо в силу других обстоятельств банк не затребовал с этих клиентов данные о стаже и заработке. \n",
    "\n",
    "   Отдельно поговорим о стаже - days_employed. Отрицательные значения и тип данных 'float' наводят на мысль, что данные сохраняются или переданы некорректно. Стоит обсудить эту находку с дата-инженерами. В текущем исследовании эти данные не понадобятся и были оставлены в первоначальном виде. \n",
    "\n",
    "### Замена типа данных  \n",
    "\n",
    "Чтобы не было так мучительно больно смотреть на колонку 'total_income', округлим до целых значений. Заменим тип данных float  на int методом 'astype', как более универсальный и простой. В данном исследовании точность до копеек нам не нужна."
   ]
  },
  {
   "cell_type": "code",
   "execution_count": 98,
   "metadata": {
    "scrolled": false
   },
   "outputs": [
    {
     "data": {
      "text/html": [
       "<div>\n",
       "<style scoped>\n",
       "    .dataframe tbody tr th:only-of-type {\n",
       "        vertical-align: middle;\n",
       "    }\n",
       "\n",
       "    .dataframe tbody tr th {\n",
       "        vertical-align: top;\n",
       "    }\n",
       "\n",
       "    .dataframe thead th {\n",
       "        text-align: right;\n",
       "    }\n",
       "</style>\n",
       "<table border=\"1\" class=\"dataframe\">\n",
       "  <thead>\n",
       "    <tr style=\"text-align: right;\">\n",
       "      <th></th>\n",
       "      <th>children</th>\n",
       "      <th>days_employed</th>\n",
       "      <th>dob_years</th>\n",
       "      <th>education</th>\n",
       "      <th>education_id</th>\n",
       "      <th>family_status</th>\n",
       "      <th>family_status_id</th>\n",
       "      <th>gender</th>\n",
       "      <th>income_type</th>\n",
       "      <th>debt</th>\n",
       "      <th>total_income</th>\n",
       "      <th>purpose</th>\n",
       "      <th>median_income</th>\n",
       "    </tr>\n",
       "  </thead>\n",
       "  <tbody>\n",
       "    <tr>\n",
       "      <th>0</th>\n",
       "      <td>1</td>\n",
       "      <td>-8437.673028</td>\n",
       "      <td>42</td>\n",
       "      <td>высшее</td>\n",
       "      <td>0</td>\n",
       "      <td>женат / замужем</td>\n",
       "      <td>0</td>\n",
       "      <td>F</td>\n",
       "      <td>сотрудник</td>\n",
       "      <td>0</td>\n",
       "      <td>253875</td>\n",
       "      <td>покупка жилья</td>\n",
       "      <td>142594.396847</td>\n",
       "    </tr>\n",
       "    <tr>\n",
       "      <th>1</th>\n",
       "      <td>1</td>\n",
       "      <td>-4024.803754</td>\n",
       "      <td>36</td>\n",
       "      <td>среднее</td>\n",
       "      <td>1</td>\n",
       "      <td>женат / замужем</td>\n",
       "      <td>0</td>\n",
       "      <td>F</td>\n",
       "      <td>сотрудник</td>\n",
       "      <td>0</td>\n",
       "      <td>112080</td>\n",
       "      <td>приобретение автомобиля</td>\n",
       "      <td>142594.396847</td>\n",
       "    </tr>\n",
       "    <tr>\n",
       "      <th>2</th>\n",
       "      <td>0</td>\n",
       "      <td>-5623.422610</td>\n",
       "      <td>33</td>\n",
       "      <td>Среднее</td>\n",
       "      <td>1</td>\n",
       "      <td>женат / замужем</td>\n",
       "      <td>0</td>\n",
       "      <td>M</td>\n",
       "      <td>сотрудник</td>\n",
       "      <td>0</td>\n",
       "      <td>145885</td>\n",
       "      <td>покупка жилья</td>\n",
       "      <td>142594.396847</td>\n",
       "    </tr>\n",
       "    <tr>\n",
       "      <th>3</th>\n",
       "      <td>3</td>\n",
       "      <td>-4124.747207</td>\n",
       "      <td>32</td>\n",
       "      <td>среднее</td>\n",
       "      <td>1</td>\n",
       "      <td>женат / замужем</td>\n",
       "      <td>0</td>\n",
       "      <td>M</td>\n",
       "      <td>сотрудник</td>\n",
       "      <td>0</td>\n",
       "      <td>267628</td>\n",
       "      <td>дополнительное образование</td>\n",
       "      <td>142594.396847</td>\n",
       "    </tr>\n",
       "    <tr>\n",
       "      <th>4</th>\n",
       "      <td>0</td>\n",
       "      <td>340266.072047</td>\n",
       "      <td>53</td>\n",
       "      <td>среднее</td>\n",
       "      <td>1</td>\n",
       "      <td>гражданский брак</td>\n",
       "      <td>1</td>\n",
       "      <td>F</td>\n",
       "      <td>пенсионер</td>\n",
       "      <td>0</td>\n",
       "      <td>158616</td>\n",
       "      <td>сыграть свадьбу</td>\n",
       "      <td>118514.486412</td>\n",
       "    </tr>\n",
       "  </tbody>\n",
       "</table>\n",
       "</div>"
      ],
      "text/plain": [
       "   children  days_employed  dob_years education  education_id  \\\n",
       "0         1   -8437.673028         42    высшее             0   \n",
       "1         1   -4024.803754         36   среднее             1   \n",
       "2         0   -5623.422610         33   Среднее             1   \n",
       "3         3   -4124.747207         32   среднее             1   \n",
       "4         0  340266.072047         53   среднее             1   \n",
       "\n",
       "      family_status  family_status_id gender income_type  debt  total_income  \\\n",
       "0   женат / замужем                 0      F   сотрудник     0        253875   \n",
       "1   женат / замужем                 0      F   сотрудник     0        112080   \n",
       "2   женат / замужем                 0      M   сотрудник     0        145885   \n",
       "3   женат / замужем                 0      M   сотрудник     0        267628   \n",
       "4  гражданский брак                 1      F   пенсионер     0        158616   \n",
       "\n",
       "                      purpose  median_income  \n",
       "0               покупка жилья  142594.396847  \n",
       "1     приобретение автомобиля  142594.396847  \n",
       "2               покупка жилья  142594.396847  \n",
       "3  дополнительное образование  142594.396847  \n",
       "4             сыграть свадьбу  118514.486412  "
      ]
     },
     "execution_count": 98,
     "metadata": {},
     "output_type": "execute_result"
    }
   ],
   "source": [
    "df['total_income'] = df['total_income'].astype('int')\n",
    "df.head()"
   ]
  },
  {
   "cell_type": "markdown",
   "metadata": {},
   "source": [
    "### Обработка дубликатов и поиск аномалий в данных\n",
    "\n",
    "Ранее мы обнаружили незначительное количество дубликатов. Удаляем их."
   ]
  },
  {
   "cell_type": "code",
   "execution_count": 99,
   "metadata": {},
   "outputs": [],
   "source": [
    "# удаляем явные дубликаты, обновляем индексы строк\n",
    "df = df.drop_duplicates().reset_index(drop=True) "
   ]
  },
  {
   "cell_type": "markdown",
   "metadata": {},
   "source": [
    "Исследуем данные на предмет наличия неявных дубликатов и возможных выбросов. \n",
    "\n",
    "Найдем уникальные значения для колонок, с подсчетом количества. Нас интересуют колонки:\n",
    "\n",
    "- education — уровень образования клиента\n",
    "- family_status — семейное положение\n",
    "- dob_years — возраст клиента в годах\n",
    "- income_type — тип занятости\n",
    "- debt — имел ли задолженность по возврату кредитов\n",
    "- purpose — цель получения кредита\n",
    "\n",
    "При предварительном ознакомлении с данными было выявленно, что колонка 'education' содержит данные\n",
    "в разном регистре. "
   ]
  },
  {
   "cell_type": "code",
   "execution_count": 100,
   "metadata": {},
   "outputs": [
    {
     "data": {
      "text/plain": [
       "среднее                15188\n",
       "высшее                  5251\n",
       "неоконченное высшее      744\n",
       "начальное                282\n",
       "ученая степень             6\n",
       "Name: education, dtype: int64"
      ]
     },
     "execution_count": 100,
     "metadata": {},
     "output_type": "execute_result"
    }
   ],
   "source": [
    "# Приведем в единый формат столбец 'education' понижением регистра.\n",
    "df['education'] = df['education'].str.lower()\n",
    "# и посмотрим сколько уникальных значений получилось.\n",
    "df['education'].value_counts() "
   ]
  },
  {
   "cell_type": "markdown",
   "metadata": {},
   "source": [
    "Теперь порядок. Получили 5 возможных уровней образования. Среди заемщиков подавляющее большинство- люди со средним образованием. Можно прдположить, что это связано с уровнем дохода, таким людям не хватает ежемесячных доходов на крупные покупки и они чаще обращаются в банк за кредитом. Малое количество заемщиков с начальным уровнем образования или неоконченным высшим можно обяснить отказами банка в получении кредита в связи с низким уровнем дохода, это могут быть молодые люди с неподтвержденным стажем работы. Более детально зависимость между образованием и получением кредита в рамках данного проекта изучать не будем, т.к. это выходит за рамки текущей задачи."
   ]
  },
  {
   "cell_type": "code",
   "execution_count": 101,
   "metadata": {
    "scrolled": false
   },
   "outputs": [
    {
     "data": {
      "text/plain": [
       "женат / замужем          12344\n",
       "гражданский брак          4163\n",
       "Не женат / не замужем     2810\n",
       "в разводе                 1195\n",
       "вдовец / вдова             959\n",
       "Name: family_status, dtype: int64"
      ]
     },
     "execution_count": 101,
     "metadata": {},
     "output_type": "execute_result"
    }
   ],
   "source": [
    " # проверим семейный статус\n",
    "df['family_status'].value_counts()"
   ]
  },
  {
   "cell_type": "markdown",
   "metadata": {},
   "source": [
    "Немного смущают категории \"женат/ замужем\" и \"гражданский брак\". По определению это - синонимы, впрочем, в обществе широко используется определение \"гражданский брак\" как обозначение простого сожительства. Оставим категории как есть, не ясно как банк интерпретирует такую информацию, но предполагаем, что она нужна именно в таком виде.\n",
    "\n",
    "В любом случае видим, что большинство заемщиков состоят в браке. Парадокс, но людям, ведущим совместное хозяйство, сильнее не хватает денег, чем одиноким. \n",
    "\n",
    "В датасете для колонки 'family_status' предусмотрен столбец с id статуса. Нужно проверить корректно ли записаны id."
   ]
  },
  {
   "cell_type": "code",
   "execution_count": 102,
   "metadata": {},
   "outputs": [
    {
     "data": {
      "text/html": [
       "<div>\n",
       "<style scoped>\n",
       "    .dataframe tbody tr th:only-of-type {\n",
       "        vertical-align: middle;\n",
       "    }\n",
       "\n",
       "    .dataframe tbody tr th {\n",
       "        vertical-align: top;\n",
       "    }\n",
       "\n",
       "    .dataframe thead th {\n",
       "        text-align: right;\n",
       "    }\n",
       "</style>\n",
       "<table border=\"1\" class=\"dataframe\">\n",
       "  <thead>\n",
       "    <tr style=\"text-align: right;\">\n",
       "      <th></th>\n",
       "      <th></th>\n",
       "      <th>0</th>\n",
       "    </tr>\n",
       "    <tr>\n",
       "      <th>family_status</th>\n",
       "      <th>family_status_id</th>\n",
       "      <th></th>\n",
       "    </tr>\n",
       "  </thead>\n",
       "  <tbody>\n",
       "    <tr>\n",
       "      <th>Не женат / не замужем</th>\n",
       "      <th>4</th>\n",
       "      <td>2810</td>\n",
       "    </tr>\n",
       "    <tr>\n",
       "      <th>в разводе</th>\n",
       "      <th>3</th>\n",
       "      <td>1195</td>\n",
       "    </tr>\n",
       "    <tr>\n",
       "      <th>вдовец / вдова</th>\n",
       "      <th>2</th>\n",
       "      <td>959</td>\n",
       "    </tr>\n",
       "    <tr>\n",
       "      <th>гражданский брак</th>\n",
       "      <th>1</th>\n",
       "      <td>4163</td>\n",
       "    </tr>\n",
       "    <tr>\n",
       "      <th>женат / замужем</th>\n",
       "      <th>0</th>\n",
       "      <td>12344</td>\n",
       "    </tr>\n",
       "  </tbody>\n",
       "</table>\n",
       "</div>"
      ],
      "text/plain": [
       "                                            0\n",
       "family_status         family_status_id       \n",
       "Не женат / не замужем 4                  2810\n",
       "в разводе             3                  1195\n",
       "вдовец / вдова        2                   959\n",
       "гражданский брак      1                  4163\n",
       "женат / замужем       0                 12344"
      ]
     },
     "execution_count": 102,
     "metadata": {},
     "output_type": "execute_result"
    }
   ],
   "source": [
    "# Сгруппируем статусы по колонкам 'family_status', 'family_status_id' и посмотрим какой id к чему относится:\n",
    "df.groupby(['family_status', 'family_status_id'])\\\n",
    "  .size()\\\n",
    "  .to_frame()"
   ]
  },
  {
   "cell_type": "markdown",
   "metadata": {},
   "source": [
    "Определили 5 статусов. Соответственно:\n",
    "- 0 - женат / замужем\n",
    "- 1 - гражданский брак\n",
    "- 2 - вдовец / вдова\n",
    "- 3 - в разводе\n",
    "- 4 - Не женат / не замужем    \n",
    "\n",
    "Теперь займемся категорией дети. Проверим значения столбца количества детей на аномалии."
   ]
  },
  {
   "cell_type": "code",
   "execution_count": 103,
   "metadata": {
    "scrolled": true
   },
   "outputs": [
    {
     "data": {
      "text/plain": [
       " 0     14107\n",
       " 1      4809\n",
       " 2      2052\n",
       " 3       330\n",
       " 20       76\n",
       "-1        47\n",
       " 4        41\n",
       " 5         9\n",
       "Name: children, dtype: int64"
      ]
     },
     "execution_count": 103,
     "metadata": {},
     "output_type": "execute_result"
    }
   ],
   "source": [
    "df['children'].value_counts()"
   ]
  },
  {
   "cell_type": "markdown",
   "metadata": {},
   "source": [
    "Получили выбросы по количеству детей в виде значений -1 ребенок(47 строк) и 20 детей(76 строк). Так как мы не знаем как возникла ошибка и количество таких значений мало, то заменим их медианным значением. Удалять строки не будем, чтобы сохранить другую информацию из этих строк."
   ]
  },
  {
   "cell_type": "code",
   "execution_count": 104,
   "metadata": {
    "scrolled": false
   },
   "outputs": [
    {
     "data": {
      "text/html": [
       "<div>\n",
       "<style scoped>\n",
       "    .dataframe tbody tr th:only-of-type {\n",
       "        vertical-align: middle;\n",
       "    }\n",
       "\n",
       "    .dataframe tbody tr th {\n",
       "        vertical-align: top;\n",
       "    }\n",
       "\n",
       "    .dataframe thead th {\n",
       "        text-align: right;\n",
       "    }\n",
       "</style>\n",
       "<table border=\"1\" class=\"dataframe\">\n",
       "  <thead>\n",
       "    <tr style=\"text-align: right;\">\n",
       "      <th></th>\n",
       "      <th>children</th>\n",
       "    </tr>\n",
       "  </thead>\n",
       "  <tbody>\n",
       "    <tr>\n",
       "      <th>0.0</th>\n",
       "      <td>14230</td>\n",
       "    </tr>\n",
       "    <tr>\n",
       "      <th>1.0</th>\n",
       "      <td>4809</td>\n",
       "    </tr>\n",
       "    <tr>\n",
       "      <th>2.0</th>\n",
       "      <td>2052</td>\n",
       "    </tr>\n",
       "    <tr>\n",
       "      <th>3.0</th>\n",
       "      <td>330</td>\n",
       "    </tr>\n",
       "    <tr>\n",
       "      <th>4.0</th>\n",
       "      <td>41</td>\n",
       "    </tr>\n",
       "    <tr>\n",
       "      <th>5.0</th>\n",
       "      <td>9</td>\n",
       "    </tr>\n",
       "  </tbody>\n",
       "</table>\n",
       "</div>"
      ],
      "text/plain": [
       "     children\n",
       "0.0     14230\n",
       "1.0      4809\n",
       "2.0      2052\n",
       "3.0       330\n",
       "4.0        41\n",
       "5.0         9"
      ]
     },
     "execution_count": 104,
     "metadata": {},
     "output_type": "execute_result"
    }
   ],
   "source": [
    "# Меняем аномальные значения в колонке 'children' на медианное\n",
    "children_median = df.query('children != 20 & children != -1')['children'].median() \n",
    "df['children'] = df['children'].replace([-1,20], children_median)\n",
    "# проверяем корректность замены\n",
    "df['children'].value_counts().to_frame()"
   ]
  },
  {
   "cell_type": "code",
   "execution_count": 105,
   "metadata": {
    "scrolled": true
   },
   "outputs": [
    {
     "data": {
      "text/plain": [
       "array([ 0, 19, 20, 21, 22, 23, 24, 25, 26, 27, 28, 29, 30, 31, 32, 33, 34,\n",
       "       35, 36, 37, 38, 39, 40, 41, 42, 43, 44, 45, 46, 47, 48, 49, 50, 51,\n",
       "       52, 53, 54, 55, 56, 57, 58, 59, 60, 61, 62, 63, 64, 65, 66, 67, 68,\n",
       "       69, 70, 71, 72, 73, 74, 75])"
      ]
     },
     "execution_count": 105,
     "metadata": {},
     "output_type": "execute_result"
    }
   ],
   "source": [
    "# Теперь посмотрим на возраст. Выведем уникальные значения возраста с сортировкой по возрастанию\n",
    "df.sort_values('dob_years')['dob_years'].unique() "
   ]
  },
  {
   "cell_type": "code",
   "execution_count": 106,
   "metadata": {},
   "outputs": [
    {
     "data": {
      "text/plain": [
       "101"
      ]
     },
     "execution_count": 106,
     "metadata": {},
     "output_type": "execute_result"
    }
   ],
   "source": [
    "# считаем сколько строк с  0 возрастом\n",
    "len(df.query('dob_years == 0'))"
   ]
  },
  {
   "cell_type": "markdown",
   "metadata": {},
   "source": [
    "В 101 строке выявили возраст равный 0, остальные значения выглядят правдоподобными. Заменим 0 возраст на медианный и перейдем к категории \"тип занятости\"."
   ]
  },
  {
   "cell_type": "code",
   "execution_count": 107,
   "metadata": {},
   "outputs": [
    {
     "data": {
      "text/plain": [
       "сотрудник          11091\n",
       "компаньон           5080\n",
       "пенсионер           3837\n",
       "госслужащий         1457\n",
       "безработный            2\n",
       "предприниматель        2\n",
       "в декрете              1\n",
       "студент                1\n",
       "Name: income_type, dtype: int64"
      ]
     },
     "execution_count": 107,
     "metadata": {},
     "output_type": "execute_result"
    }
   ],
   "source": [
    "# Заменим медианным значением:\n",
    "age_median = df.query('dob_years == 0')['dob_years'].median() # выбираем значения не равные 0 и считаем медиану.\n",
    "df['dob_years'] = df['dob_years'].replace(0, age_median)\n",
    "\n",
    "# проверяем категорию \"тип занятости\"\n",
    "df['income_type'].value_counts()"
   ]
  },
  {
   "cell_type": "markdown",
   "metadata": {},
   "source": [
    "Все в порядке. Поищем аномамалии по целям кредита:"
   ]
  },
  {
   "cell_type": "code",
   "execution_count": 108,
   "metadata": {},
   "outputs": [
    {
     "data": {
      "text/plain": [
       "свадьба                                   793\n",
       "на проведение свадьбы                     773\n",
       "сыграть свадьбу                           769\n",
       "операции с недвижимостью                  675\n",
       "покупка коммерческой недвижимости         662\n",
       "операции с жильем                         652\n",
       "покупка жилья для сдачи                   652\n",
       "операции с коммерческой недвижимостью     650\n",
       "покупка жилья                             646\n",
       "жилье                                     646\n",
       "покупка жилья для семьи                   638\n",
       "строительство собственной недвижимости    635\n",
       "недвижимость                              633\n",
       "операции со своей недвижимостью           627\n",
       "строительство жилой недвижимости          625\n",
       "покупка недвижимости                      621\n",
       "покупка своего жилья                      620\n",
       "строительство недвижимости                619\n",
       "ремонт жилью                              607\n",
       "покупка жилой недвижимости                606\n",
       "на покупку своего автомобиля              505\n",
       "заняться высшим образованием              496\n",
       "автомобиль                                494\n",
       "сделка с подержанным автомобилем          486\n",
       "свой автомобиль                           479\n",
       "автомобили                                478\n",
       "на покупку подержанного автомобиля        478\n",
       "на покупку автомобиля                     472\n",
       "приобретение автомобиля                   461\n",
       "дополнительное образование                460\n",
       "сделка с автомобилем                      455\n",
       "высшее образование                        452\n",
       "образование                               447\n",
       "получение дополнительного образования     447\n",
       "получение образования                     442\n",
       "профильное образование                    436\n",
       "получение высшего образования             426\n",
       "заняться образованием                     408\n",
       "Name: purpose, dtype: int64"
      ]
     },
     "execution_count": 108,
     "metadata": {},
     "output_type": "execute_result"
    }
   ],
   "source": [
    "df['purpose'].value_counts()"
   ]
  },
  {
   "cell_type": "code",
   "execution_count": 109,
   "metadata": {},
   "outputs": [
    {
     "data": {
      "text/plain": [
       "38"
      ]
     },
     "execution_count": 109,
     "metadata": {},
     "output_type": "execute_result"
    }
   ],
   "source": [
    "len(df['purpose'].unique()) # нашли количество уникальных значений"
   ]
  },
  {
   "cell_type": "markdown",
   "metadata": {},
   "source": [
    "Имеем 38 очень похожих вариантов цели кредитования. Судя по всему в кредитной анкете поле \"цель кредита\" заполняется в свободной форме, а стоило бы предусмотреть выбор из нескольких возможных вариантов. Будем делить цели кредита на категории с помощью лемматизации.\n",
    "\n",
    "### Лемматизация"
   ]
  },
  {
   "cell_type": "code",
   "execution_count": 110,
   "metadata": {},
   "outputs": [],
   "source": [
    "# основные ключевые слова можно выделить вручную\n",
    "categories = [\"жилье\", \"образование\", \"свадьба\", \"недвижимость\", \"автомобиль\"]\n",
    "\n",
    "# напишем функцию, которая преобразовывает фразу в лемму, сравнивает ее со списком значений 'categories'\n",
    "# и если слово из 'categories' есть в лемме меняет лемму на это слово.\n",
    "def lemmatize(text):\n",
    "    lemma = m.lemmatize(text)\n",
    "    for word in categories:\n",
    "        if word in lemma:\n",
    "            lemma = word\n",
    "    return lemma"
   ]
  },
  {
   "cell_type": "code",
   "execution_count": 111,
   "metadata": {
    "scrolled": false
   },
   "outputs": [],
   "source": [
    "# добавляем к датасету колонку 'purpose_group' и заполняем ее значениями из 'categories'\n",
    "df['purpose_group'] = df['purpose'].apply(lemmatize)       "
   ]
  },
  {
   "cell_type": "code",
   "execution_count": 112,
   "metadata": {
    "scrolled": true
   },
   "outputs": [
    {
     "data": {
      "text/plain": [
       "недвижимость    6353\n",
       "жилье           4461\n",
       "автомобиль      4308\n",
       "образование     4014\n",
       "свадьба         2335\n",
       "Name: purpose_group, dtype: int64"
      ]
     },
     "metadata": {},
     "output_type": "display_data"
    },
    {
     "data": {
      "text/plain": [
       "(21471,)"
      ]
     },
     "execution_count": 112,
     "metadata": {},
     "output_type": "execute_result"
    }
   ],
   "source": [
    "# Считаем все возможные категории целей кредита.\n",
    "display(df['purpose_group'].value_counts())\n",
    "df['purpose_group'].shape"
   ]
  },
  {
   "cell_type": "code",
   "execution_count": 114,
   "metadata": {},
   "outputs": [
    {
     "data": {
      "text/plain": [
       "недвижимость    10814\n",
       "автомобиль       4308\n",
       "образование      4014\n",
       "свадьба          2335\n",
       "Name: purpose_group, dtype: int64"
      ]
     },
     "metadata": {},
     "output_type": "display_data"
    },
    {
     "data": {
      "text/plain": [
       "(21471,)"
      ]
     },
     "execution_count": 114,
     "metadata": {},
     "output_type": "execute_result"
    }
   ],
   "source": [
    "#Теперь можно объединить \"недвижимость\" и \"жилье\" в общую группу\n",
    "df['purpose_group'] =df['purpose_group'].replace('жилье', 'недвижимость')\n",
    " # проверка\n",
    "display(df['purpose_group'].value_counts())\n",
    "df['purpose_group'].shape"
   ]
  },
  {
   "cell_type": "markdown",
   "metadata": {},
   "source": [
    "**Вывод**\n",
    "\n",
    "В ходе предобработки данных решили 4 найденых ранее проблемы в данных. Убрали явные дубликаты, привели в соответствие уровни образования. Изучили пропуски в колонках \"days_employed\" и \"total_income\". Выянилось, что пропуски в данных не случайны и относятся к одним и тем же строкам. Предположение, что данные отсутствуют у молодых людей, которые еще не работали и не имеют стажа и заработка не подтвердилось. Очевидно у части клиентов банк не затребовал данные. Возможно, в некоторых случаях (сейчас или ранее) это было необязательное поле анкеты. Из 38 уникальных значений целей кредита с помощью лемматизации сократили список до 4. Рекомендовано в будущем доработать анкету на получение кредита и предусмотреть выбор только из нескольких возможных вариантов.\n",
    "\n",
    "## Категоризация данных\n",
    "\n",
    "Мы уже категоризовали цели получения кредита с помощью лемматизации. Для дальнейшего исследования сгруппируем наши данные по уровню доходов и колличеству детей. \n",
    "\n",
    "Воспользуемся методом qcut, чтобы в каждом интервале содержалось равное количество наблюдений."
   ]
  },
  {
   "cell_type": "code",
   "execution_count": 71,
   "metadata": {},
   "outputs": [
    {
     "data": {
      "text/plain": [
       "0        (195767.5, 2265604.0]\n",
       "1         (107654.5, 142594.0]\n",
       "2         (142594.0, 195767.5]\n",
       "3        (195767.5, 2265604.0]\n",
       "4         (142594.0, 195767.5]\n",
       "                 ...          \n",
       "21466    (195767.5, 2265604.0]\n",
       "21467     (142594.0, 195767.5]\n",
       "21468    (20666.999, 107654.5]\n",
       "21469    (195767.5, 2265604.0]\n",
       "21470    (20666.999, 107654.5]\n",
       "Name: total_income, Length: 21471, dtype: category\n",
       "Categories (4, interval[float64]): [(20666.999, 107654.5] < (107654.5, 142594.0] < (142594.0, 195767.5] < (195767.5, 2265604.0]]"
      ]
     },
     "execution_count": 71,
     "metadata": {},
     "output_type": "execute_result"
    }
   ],
   "source": [
    "# делим на 4 равные категории\n",
    "pd.qcut(df['total_income'], 4)"
   ]
  },
  {
   "cell_type": "markdown",
   "metadata": {},
   "source": [
    "Получили 4 равные категории по уровню доходов и разделим по группам так:\n",
    "\n",
    "- **\"низкий доход\"** - доход до 107 тысяч 620 рублей,\n",
    "- **\"средний доход\"** - от 107 тысяч 621 рублей до 142 тысяч 594 рублей,\n",
    "- **\"доход выше среднего\"** - от 142 тысяч 595 рублей до 195 тысяч 818 рублей,\n",
    "- **\"высокий доход\"** - от 195 тысяч 819 рублей и больше.\n",
    "Напишем для этой цели функцию:"
   ]
  },
  {
   "cell_type": "code",
   "execution_count": 57,
   "metadata": {},
   "outputs": [],
   "source": [
    "# функция для деления по уровню доходов\n",
    "def incom_category(row):\n",
    "    if row['total_income'] <= 107620:\n",
    "        return \"низкий доход\"\n",
    "    elif 107620 < row['total_income'] <= 142594:\n",
    "        return \"средний доход\"\n",
    "    elif 142594 < row['total_income'] <= 195818:\n",
    "        return \"доход выше среднего\"\n",
    "    else:\n",
    "        return \"высокий доход\""
   ]
  },
  {
   "cell_type": "code",
   "execution_count": 58,
   "metadata": {},
   "outputs": [
    {
     "data": {
      "text/plain": [
       "array(['высокий доход', 'средний доход', 'доход выше среднего',\n",
       "       'низкий доход'], dtype=object)"
      ]
     },
     "execution_count": 58,
     "metadata": {},
     "output_type": "execute_result"
    }
   ],
   "source": [
    "# добавляем столбец с категориями по доходу в датафрейм\n",
    "df['incom_category'] = df.apply(incom_category , axis=1) \n",
    "# проверяем\n",
    "df['incom_category'].unique()"
   ]
  },
  {
   "cell_type": "markdown",
   "metadata": {},
   "source": [
    "По количеству детей интересно будет сравнить результаты по принципам дети есть/ детей нет, а также в зависимости от количества детей.\n",
    "Для начала разобьем данные на 3 категории:\n",
    "\n",
    "- \"нет детей\"\n",
    "- \" 1-2 ребенка\"\n",
    "- \"многодетные\""
   ]
  },
  {
   "cell_type": "code",
   "execution_count": 118,
   "metadata": {},
   "outputs": [],
   "source": [
    "# функция для разделения на группы по количеству детей \n",
    "def children_category(row):\n",
    "    if row['children'] == 0:\n",
    "        return 'нет детей'\n",
    "    elif 1 <= row['children'] <= 2:\n",
    "        return '1-2 ребенка'\n",
    "    else:\n",
    "        return 'многодетные'"
   ]
  },
  {
   "cell_type": "code",
   "execution_count": 119,
   "metadata": {},
   "outputs": [],
   "source": [
    "# добавляем столбец в датафрейм\n",
    "df['children_category'] = df.apply(children_category, axis=1) "
   ]
  },
  {
   "cell_type": "code",
   "execution_count": 120,
   "metadata": {},
   "outputs": [],
   "source": [
    "# функция для разделения по принципу дети есть(1) / детей нет (0)\n",
    "def have_kids(row):\n",
    "    if row['children'] == 0:\n",
    "        return 0\n",
    "    else:\n",
    "        return 1"
   ]
  },
  {
   "cell_type": "code",
   "execution_count": 121,
   "metadata": {
    "scrolled": false
   },
   "outputs": [
    {
     "data": {
      "text/html": [
       "<div>\n",
       "<style scoped>\n",
       "    .dataframe tbody tr th:only-of-type {\n",
       "        vertical-align: middle;\n",
       "    }\n",
       "\n",
       "    .dataframe tbody tr th {\n",
       "        vertical-align: top;\n",
       "    }\n",
       "\n",
       "    .dataframe thead th {\n",
       "        text-align: right;\n",
       "    }\n",
       "</style>\n",
       "<table border=\"1\" class=\"dataframe\">\n",
       "  <thead>\n",
       "    <tr style=\"text-align: right;\">\n",
       "      <th></th>\n",
       "      <th>children</th>\n",
       "      <th>days_employed</th>\n",
       "      <th>dob_years</th>\n",
       "      <th>education</th>\n",
       "      <th>education_id</th>\n",
       "      <th>family_status</th>\n",
       "      <th>family_status_id</th>\n",
       "      <th>gender</th>\n",
       "      <th>income_type</th>\n",
       "      <th>debt</th>\n",
       "      <th>total_income</th>\n",
       "      <th>purpose</th>\n",
       "      <th>median_income</th>\n",
       "      <th>purpose_group</th>\n",
       "      <th>having_kids</th>\n",
       "      <th>children_category</th>\n",
       "    </tr>\n",
       "  </thead>\n",
       "  <tbody>\n",
       "    <tr>\n",
       "      <th>0</th>\n",
       "      <td>1.0</td>\n",
       "      <td>-8437.673028</td>\n",
       "      <td>42.0</td>\n",
       "      <td>высшее</td>\n",
       "      <td>0</td>\n",
       "      <td>женат / замужем</td>\n",
       "      <td>0</td>\n",
       "      <td>F</td>\n",
       "      <td>сотрудник</td>\n",
       "      <td>0</td>\n",
       "      <td>253875</td>\n",
       "      <td>покупка жилья</td>\n",
       "      <td>142594.396847</td>\n",
       "      <td>недвижимость</td>\n",
       "      <td>1</td>\n",
       "      <td>1-2 ребенка</td>\n",
       "    </tr>\n",
       "    <tr>\n",
       "      <th>1</th>\n",
       "      <td>1.0</td>\n",
       "      <td>-4024.803754</td>\n",
       "      <td>36.0</td>\n",
       "      <td>среднее</td>\n",
       "      <td>1</td>\n",
       "      <td>женат / замужем</td>\n",
       "      <td>0</td>\n",
       "      <td>F</td>\n",
       "      <td>сотрудник</td>\n",
       "      <td>0</td>\n",
       "      <td>112080</td>\n",
       "      <td>приобретение автомобиля</td>\n",
       "      <td>142594.396847</td>\n",
       "      <td>автомобиль</td>\n",
       "      <td>1</td>\n",
       "      <td>1-2 ребенка</td>\n",
       "    </tr>\n",
       "    <tr>\n",
       "      <th>2</th>\n",
       "      <td>0.0</td>\n",
       "      <td>-5623.422610</td>\n",
       "      <td>33.0</td>\n",
       "      <td>среднее</td>\n",
       "      <td>1</td>\n",
       "      <td>женат / замужем</td>\n",
       "      <td>0</td>\n",
       "      <td>M</td>\n",
       "      <td>сотрудник</td>\n",
       "      <td>0</td>\n",
       "      <td>145885</td>\n",
       "      <td>покупка жилья</td>\n",
       "      <td>142594.396847</td>\n",
       "      <td>недвижимость</td>\n",
       "      <td>0</td>\n",
       "      <td>нет детей</td>\n",
       "    </tr>\n",
       "    <tr>\n",
       "      <th>3</th>\n",
       "      <td>3.0</td>\n",
       "      <td>-4124.747207</td>\n",
       "      <td>32.0</td>\n",
       "      <td>среднее</td>\n",
       "      <td>1</td>\n",
       "      <td>женат / замужем</td>\n",
       "      <td>0</td>\n",
       "      <td>M</td>\n",
       "      <td>сотрудник</td>\n",
       "      <td>0</td>\n",
       "      <td>267628</td>\n",
       "      <td>дополнительное образование</td>\n",
       "      <td>142594.396847</td>\n",
       "      <td>образование</td>\n",
       "      <td>1</td>\n",
       "      <td>многодетные</td>\n",
       "    </tr>\n",
       "    <tr>\n",
       "      <th>4</th>\n",
       "      <td>0.0</td>\n",
       "      <td>340266.072047</td>\n",
       "      <td>53.0</td>\n",
       "      <td>среднее</td>\n",
       "      <td>1</td>\n",
       "      <td>гражданский брак</td>\n",
       "      <td>1</td>\n",
       "      <td>F</td>\n",
       "      <td>пенсионер</td>\n",
       "      <td>0</td>\n",
       "      <td>158616</td>\n",
       "      <td>сыграть свадьбу</td>\n",
       "      <td>118514.486412</td>\n",
       "      <td>свадьба</td>\n",
       "      <td>0</td>\n",
       "      <td>нет детей</td>\n",
       "    </tr>\n",
       "  </tbody>\n",
       "</table>\n",
       "</div>"
      ],
      "text/plain": [
       "   children  days_employed  dob_years education  education_id  \\\n",
       "0       1.0   -8437.673028       42.0    высшее             0   \n",
       "1       1.0   -4024.803754       36.0   среднее             1   \n",
       "2       0.0   -5623.422610       33.0   среднее             1   \n",
       "3       3.0   -4124.747207       32.0   среднее             1   \n",
       "4       0.0  340266.072047       53.0   среднее             1   \n",
       "\n",
       "      family_status  family_status_id gender income_type  debt  total_income  \\\n",
       "0   женат / замужем                 0      F   сотрудник     0        253875   \n",
       "1   женат / замужем                 0      F   сотрудник     0        112080   \n",
       "2   женат / замужем                 0      M   сотрудник     0        145885   \n",
       "3   женат / замужем                 0      M   сотрудник     0        267628   \n",
       "4  гражданский брак                 1      F   пенсионер     0        158616   \n",
       "\n",
       "                      purpose  median_income purpose_group  having_kids  \\\n",
       "0               покупка жилья  142594.396847  недвижимость            1   \n",
       "1     приобретение автомобиля  142594.396847    автомобиль            1   \n",
       "2               покупка жилья  142594.396847  недвижимость            0   \n",
       "3  дополнительное образование  142594.396847   образование            1   \n",
       "4             сыграть свадьбу  118514.486412       свадьба            0   \n",
       "\n",
       "  children_category  \n",
       "0       1-2 ребенка  \n",
       "1       1-2 ребенка  \n",
       "2         нет детей  \n",
       "3       многодетные  \n",
       "4         нет детей  "
      ]
     },
     "execution_count": 121,
     "metadata": {},
     "output_type": "execute_result"
    }
   ],
   "source": [
    "# добавляем столбец в датафрейм\n",
    "df['having_kids'] = df.apply(have_kids, axis=1) \n",
    "df.head()"
   ]
  },
  {
   "cell_type": "markdown",
   "metadata": {},
   "source": [
    "**Вывод**\n",
    "\n",
    "Провели категоризацию по уровню доходов и количеству детей, заполнили соответствующими данными датафрейм. Теперь можно переходить к анализу полученных данных и ответам на поставленные вопросы.\n",
    "\n",
    "## Исследование зависимостей\n",
    "### Зависимость между наличием детей и возвратом кредита в срок\n",
    "\n",
    "Построим сводную таблицу по категориям есть дети(1) / нет детей(0) и возвратом кредита в срок, где\n",
    "\n",
    "    debt = 0 - это отсутствие просрочек по кредитам,\n",
    "    debt = 1 -  это наличие долгов:"
   ]
  },
  {
   "cell_type": "code",
   "execution_count": 123,
   "metadata": {
    "scrolled": false
   },
   "outputs": [
    {
     "data": {
      "text/html": [
       "<div>\n",
       "<style scoped>\n",
       "    .dataframe tbody tr th:only-of-type {\n",
       "        vertical-align: middle;\n",
       "    }\n",
       "\n",
       "    .dataframe tbody tr th {\n",
       "        vertical-align: top;\n",
       "    }\n",
       "\n",
       "    .dataframe thead th {\n",
       "        text-align: right;\n",
       "    }\n",
       "</style>\n",
       "<table border=\"1\" class=\"dataframe\">\n",
       "  <thead>\n",
       "    <tr style=\"text-align: right;\">\n",
       "      <th>debt</th>\n",
       "      <th>0</th>\n",
       "      <th>1</th>\n",
       "    </tr>\n",
       "    <tr>\n",
       "      <th>having_kids</th>\n",
       "      <th></th>\n",
       "      <th></th>\n",
       "    </tr>\n",
       "  </thead>\n",
       "  <tbody>\n",
       "    <tr>\n",
       "      <th>0</th>\n",
       "      <td>13158</td>\n",
       "      <td>1072</td>\n",
       "    </tr>\n",
       "    <tr>\n",
       "      <th>1</th>\n",
       "      <td>6572</td>\n",
       "      <td>669</td>\n",
       "    </tr>\n",
       "  </tbody>\n",
       "</table>\n",
       "</div>"
      ],
      "text/plain": [
       "debt             0     1\n",
       "having_kids             \n",
       "0            13158  1072\n",
       "1             6572   669"
      ]
     },
     "execution_count": 123,
     "metadata": {},
     "output_type": "execute_result"
    }
   ],
   "source": [
    "df_pivot_kids = df.pivot_table(\n",
    "                index=['having_kids'], \n",
    "                columns='debt', \n",
    "                values = 'children', \n",
    "                aggfunc='count'\n",
    "                ).\n",
    "\n",
    "df_pivot_kids"
   ]
  },
  {
   "cell_type": "markdown",
   "metadata": {},
   "source": [
    "Получили значения по задолженности для бездетных - 1072 и 669 для тех, у кого дети есть. Корректнее будет посчитать отношение должников не в общем, а внутри группы."
   ]
  },
  {
   "cell_type": "code",
   "execution_count": 124,
   "metadata": {},
   "outputs": [
    {
     "data": {
      "text/html": [
       "<div>\n",
       "<style scoped>\n",
       "    .dataframe tbody tr th:only-of-type {\n",
       "        vertical-align: middle;\n",
       "    }\n",
       "\n",
       "    .dataframe tbody tr th {\n",
       "        vertical-align: top;\n",
       "    }\n",
       "\n",
       "    .dataframe thead th {\n",
       "        text-align: right;\n",
       "    }\n",
       "</style>\n",
       "<table border=\"1\" class=\"dataframe\">\n",
       "  <thead>\n",
       "    <tr style=\"text-align: right;\">\n",
       "      <th>debt</th>\n",
       "      <th>0</th>\n",
       "      <th>1</th>\n",
       "      <th>ratio</th>\n",
       "    </tr>\n",
       "    <tr>\n",
       "      <th>having_kids</th>\n",
       "      <th></th>\n",
       "      <th></th>\n",
       "      <th></th>\n",
       "    </tr>\n",
       "  </thead>\n",
       "  <tbody>\n",
       "    <tr>\n",
       "      <th>1</th>\n",
       "      <td>6572</td>\n",
       "      <td>669</td>\n",
       "      <td>9.239055</td>\n",
       "    </tr>\n",
       "    <tr>\n",
       "      <th>0</th>\n",
       "      <td>13158</td>\n",
       "      <td>1072</td>\n",
       "      <td>7.533380</td>\n",
       "    </tr>\n",
       "  </tbody>\n",
       "</table>\n",
       "</div>"
      ],
      "text/plain": [
       "debt             0     1     ratio\n",
       "having_kids                       \n",
       "1             6572   669  9.239055\n",
       "0            13158  1072  7.533380"
      ]
     },
     "execution_count": 124,
     "metadata": {},
     "output_type": "execute_result"
    }
   ],
   "source": [
    "# посчитаем по группам отношение общего количества значений в группе к количеству должников в группе\n",
    "# и добавим в колонку 'ratio'\n",
    "df_pivot_kids ['ratio'] = df_pivot_kids [1] / (df_pivot_kids [0] + df_pivot_kids [1])*100\n",
    "# сортируем 'ratio'по убыванию\n",
    "df_pivot_kids.sort_values('ratio', ascending = False)"
   ]
  },
  {
   "cell_type": "markdown",
   "metadata": {},
   "source": [
    "Наличие детей повышает риск невозврата. Теперь посмотрим более детально на зависимость просрочек от количества детей. Построим сводную таблицу:"
   ]
  },
  {
   "cell_type": "markdown",
   "metadata": {},
   "source": [
    "<div class=\"alert alert-success\">\n",
    "\n",
    "<b>🔁1️⃣ Ревьюер: 👍</b> Верно.\n",
    "\n",
    "</div>"
   ]
  },
  {
   "cell_type": "code",
   "execution_count": null,
   "metadata": {
    "scrolled": true
   },
   "outputs": [],
   "source": [
    "df_pivot_children = df.pivot_table(\n",
    "    index=['children_category'], \n",
    "    columns='debt', \n",
    "    values = 'children', \n",
    "    aggfunc='count'\n",
    ")"
   ]
  },
  {
   "cell_type": "code",
   "execution_count": null,
   "metadata": {
    "scrolled": true
   },
   "outputs": [],
   "source": [
    "# посчитаем по группам отношение общего количества значений в группе к количеству должников в группе\n",
    "# и добавим в колонку 'ratio'\n",
    "df_pivot_children ['ratio'] = (df_pivot_children [1] /\n",
    "                              (df_pivot_children [0] + \n",
    "                               df_pivot_children [1]) * 100)\n",
    "# сортируем 'ratio'по убыванию\n",
    "df_pivot_children.sort_values('ratio', ascending = False)"
   ]
  },
  {
   "cell_type": "markdown",
   "metadata": {},
   "source": [
    "**Вывод**"
   ]
  },
  {
   "cell_type": "markdown",
   "metadata": {},
   "source": [
    "Да, возврат клиентом кредита в срок действительно имеет зависимость от наличия детей. Среди бездетных самый низкий процент тех,кто не отдает кредит - 7,53 %. Но при этом среди тех, у кого дети есть, дисциплинированней многодетные 8,5 %, против 9,2% у семей с 1-2 детьми.\n",
    "\n",
    "\n",
    "\n"
   ]
  },
  {
   "cell_type": "markdown",
   "metadata": {},
   "source": [
    "<div class=\"alert alert-success\">\n",
    "\n",
    "<b>🔁1️⃣ Ревьюер: 👍</b> Многодетные нерепрезентативная выборка, ее лучше не учитывать.\n",
    "\n",
    "</div>"
   ]
  },
  {
   "cell_type": "markdown",
   "metadata": {},
   "source": [
    "- Есть ли зависимость между семейным положением и возвратом кредита в срок?"
   ]
  },
  {
   "cell_type": "markdown",
   "metadata": {},
   "source": [
    "<div class=\"alert alert-info\">\n",
    "\n",
    "<b>Студент: </b> Закоментила часть про зависимость по принципу есть пара/ нет пары.\n",
    "\n",
    "</div>"
   ]
  },
  {
   "cell_type": "markdown",
   "metadata": {},
   "source": [
    "<div class=\"alert alert-success\">\n",
    "\n",
    "<b>🔁2️⃣ Ревьюер: 👍</b> Ok.\n",
    "\n",
    "</div>"
   ]
  },
  {
   "cell_type": "code",
   "execution_count": null,
   "metadata": {},
   "outputs": [],
   "source": [
    "#df_pivot_family = df.pivot_table(\n",
    "    #index=['family_category'], \n",
    "    #columns='debt', \n",
    "    #values = 'family_status', \n",
    "    #aggfunc='count')\n",
    "#df_pivot_family ['ratio'] = df_pivot_family [1] / (df_pivot_family [0] + df_pivot_family [1]) * 100\n",
    "# сортируем 'ratio'по убыванию\n",
    "#df_pivot_family.sort_values('ratio', ascending = False)"
   ]
  },
  {
   "cell_type": "markdown",
   "metadata": {},
   "source": [
    "Сведем в таблицу данные по семейным статусам и наличию долгов. Ранее получили обозначение статусов:\n",
    "- 0 - женат / замужем\n",
    "- 1 - гражданский брак\n",
    "- 2 - вдовец / вдова\n",
    "- 3 - в разводе\n",
    "- 4 - Не женат / не замужем    "
   ]
  },
  {
   "cell_type": "code",
   "execution_count": null,
   "metadata": {},
   "outputs": [],
   "source": [
    "df_pivot_family = df.pivot_table(\n",
    "    index=['family_status_id'], \n",
    "    columns='debt', \n",
    "    values = 'family_status', \n",
    "    aggfunc='count'\n",
    ")\n",
    "df_pivot_family"
   ]
  },
  {
   "cell_type": "code",
   "execution_count": null,
   "metadata": {
    "scrolled": true
   },
   "outputs": [],
   "source": [
    "# посчитаем по группам отношение общего количества значений в группе к количеству должников в группе и добавим в колонку 'ratio'\n",
    "df_pivot_family ['ratio'] = df_pivot_family [1] / (df_pivot_family [0] + df_pivot_family [1]) * 100\n",
    "# сортируем 'ratio'по убыванию\n",
    "df_pivot_family.sort_values('ratio', ascending = False)"
   ]
  },
  {
   "cell_type": "markdown",
   "metadata": {},
   "source": [
    "**Вывод**"
   ]
  },
  {
   "cell_type": "markdown",
   "metadata": {},
   "source": [
    "При изучении данных по семейному положению больше всего должников выявилось среди людей со статусом \"не женат\" - 9,75%, на втором месте \"Гражданский брак\" - 9,32 %. Вдовцы(6,56%) оказались лучшими клиентами чем женатые (7,54%). В целом видно как с возрастом, проходя разные жизненные этапы, люди более ответственно подходят к обслуживанию кредитов.\n"
   ]
  },
  {
   "cell_type": "markdown",
   "metadata": {},
   "source": [
    "<div class=\"alert alert-warning\">\n",
    "\n",
    "<b>🔁1️⃣ Ревьюер: 👉</b> Попробуй разделить эти статусы не по наличию партнера, а по возрасту и все станет на свои места. Сама посуди, если человек никогда не был в браке и вдовец – это разные люди? Скорее всего первый молодой, а второй в возрасте, соответственно и подход к выплате долгов у них будет разный.\n",
    "\n",
    "</div>"
   ]
  },
  {
   "cell_type": "markdown",
   "metadata": {},
   "source": [
    "<div class=\"alert alert-info\">\n",
    "\n",
    "<b>Студент: </b> Скорректировала вывод с учетом категории \"гражданский брак\". Действительно так нагляднее получилось.\n",
    "\n",
    "</div>"
   ]
  },
  {
   "cell_type": "markdown",
   "metadata": {},
   "source": [
    "<div class=\"alert alert-success\">\n",
    "\n",
    "<b>🔁2️⃣ Ревьюер: 👍</b> Все правильно.\n",
    "\n",
    "</div>"
   ]
  },
  {
   "cell_type": "markdown",
   "metadata": {},
   "source": [
    "- Есть ли зависимость между уровнем дохода и возвратом кредита в срок?"
   ]
  },
  {
   "cell_type": "markdown",
   "metadata": {},
   "source": [
    "Делаем сводную таблицу по доходу:"
   ]
  },
  {
   "cell_type": "code",
   "execution_count": null,
   "metadata": {},
   "outputs": [],
   "source": [
    "df_pivot_total_income = df.pivot_table(\n",
    "    index=['incom_category'], \n",
    "    columns='debt', \n",
    "    values = 'family_status', \n",
    "    aggfunc='count'\n",
    ")\n",
    "# и сразу добавим в колонку 'ratio'\n",
    "df_pivot_total_income ['ratio'] = df_pivot_total_income [1] / (df_pivot_total_income [0] + df_pivot_total_income [1]) * 100\n",
    "# сортируем 'ratio'по убыванию\n",
    "df_pivot_total_income.sort_values('ratio', ascending = False)"
   ]
  },
  {
   "cell_type": "markdown",
   "metadata": {},
   "source": [
    "**Вывод**"
   ]
  },
  {
   "cell_type": "markdown",
   "metadata": {},
   "source": [
    "Неожиданно, но люди со средним и выше среднего доходом имеют больше невыплаченных кредитов (8,85% и 8,71%), чем люди с низким доходом(8.04%). Лучше всех дела обстоят у людей с высоким доходом (6,95%). Зависимость и правда есть."
   ]
  },
  {
   "cell_type": "markdown",
   "metadata": {},
   "source": [
    "<div class=\"alert alert-success\">\n",
    "\n",
    "<b>🔁1️⃣ Ревьюер: 👍</b> Молодец.\n",
    "\n",
    "</div>"
   ]
  },
  {
   "cell_type": "markdown",
   "metadata": {},
   "source": [
    "- Как разные цели кредита влияют на его возврат в срок?"
   ]
  },
  {
   "cell_type": "markdown",
   "metadata": {},
   "source": [
    "Делаем сводную таблицу по колонке цель кредита:"
   ]
  },
  {
   "cell_type": "code",
   "execution_count": null,
   "metadata": {},
   "outputs": [],
   "source": [
    "df_pivot_purpose_group = df.pivot_table(\n",
    "    index=['purpose_group'], \n",
    "    columns='debt', \n",
    "    values = 'family_status', \n",
    "    aggfunc='count'\n",
    ")\n",
    "# и сразу добавим в колонку 'ratio'\n",
    "df_pivot_purpose_group ['ratio'] = df_pivot_purpose_group [1] / (df_pivot_purpose_group [0] + df_pivot_purpose_group [1]) * 100\n",
    "# сортируем 'ratio'по убыванию\n",
    "df_pivot_purpose_group.sort_values('ratio', ascending = False)"
   ]
  },
  {
   "cell_type": "markdown",
   "metadata": {},
   "source": [
    "<div class=\"alert alert-info\">\n",
    "\n",
    "<b>Студент: </b> Скорректировала вывод с учетом категории \"гражданский брак\".\n",
    "\n",
    "</div>"
   ]
  },
  {
   "cell_type": "markdown",
   "metadata": {},
   "source": [
    "<div class=\"alert alert-success\">\n",
    "\n",
    "<b>🔁2️⃣ Ревьюер: 👍</b> Спасибо.\n",
    "\n",
    "</div>"
   ]
  },
  {
   "cell_type": "markdown",
   "metadata": {},
   "source": [
    "**Вывод**"
   ]
  },
  {
   "cell_type": "markdown",
   "metadata": {},
   "source": [
    "Цифры говорят сами за себя, зависимость от цели четко прослеживается. Самый высокий процент долгов по кредитам в категории \"автомобиль\". Это может быть связано с тем, что люди плохо просчитывают во сколько им ежемесячно будет обходиться содержание автомобиля и берут в кредит суммы большие чем могут отдать.\n",
    "На втором месте образование. Удовольствие не дешевое, а между тем, помимо обучения, нужно еще успевать зарабатывать на погашение кредита, что удается не всем. \n",
    " "
   ]
  },
  {
   "cell_type": "markdown",
   "metadata": {},
   "source": [
    "<div class=\"alert alert-success\">\n",
    "\n",
    "<b>🔁1️⃣ Ревьюер: 👍</b> Согласен.\n",
    "\n",
    "</div>"
   ]
  },
  {
   "cell_type": "markdown",
   "metadata": {},
   "source": [
    "## Шаг 4. Общий вывод"
   ]
  },
  {
   "cell_type": "markdown",
   "metadata": {},
   "source": [
    "В ходе исследования выявилась зависимость между наличием детей и возвратом кредита в срок. Среди бездетных самый низкий процент тех, кто не отдает кредит - 7,53 %, а в семьях, где 1-2 ребенка риск возрастает до 9.29%.\n",
    "Есть зависиомсть и от цели кредита. Хуже всего обстоят дела с кредитами на автомобиль - 9.35% и образование - 9.21%. Семейный статус имеет значение при возврате кредита в срок, самые ненадежные клиенты - неженатые и состоящие в гражданском браке. Люди побывавшие или состоящие в браке ответственнее относятся к долгам.\n",
    "С уровнем дохода, ожидаемо, лучше справляются богатые - 6.96%, а люди со средним доходом чаще других не возвращают кредиты - 8.85%.\n",
    "\n",
    "\n"
   ]
  },
  {
   "cell_type": "markdown",
   "metadata": {},
   "source": [
    "<div class=\"alert alert-warning\">\n",
    "\n",
    "<b>🔁1️⃣ Ревьюер: 👉</b> Вывод очень краткий, но по делу, здорово. Исправь информацию по семенному статусу, но это на твое усмотрение.\n",
    "\n",
    "</div>"
   ]
  },
  {
   "cell_type": "markdown",
   "metadata": {},
   "source": [
    "<div class=\"alert alert-success\">\n",
    "\n",
    "<b>🔁2️⃣ Ревьюер: 👍</b> Верно.\n",
    "\n",
    "</div>"
   ]
  },
  {
   "cell_type": "markdown",
   "metadata": {},
   "source": [
    "## Чек-лист готовности проекта\n",
    "\n",
    "Поставьте 'x' в выполненных пунктах. Далее нажмите Shift+Enter."
   ]
  },
  {
   "cell_type": "markdown",
   "metadata": {},
   "source": [
    "- [x]  открыт файл;\n",
    "- [x]  файл изучен;\n",
    "- [x]  определены пропущенные значения;\n",
    "- [x]  заполнены пропущенные значения;\n",
    "- [x]  есть пояснение, какие пропущенные значения обнаружены;\n",
    "- [x]  описаны возможные причины появления пропусков в данных;\n",
    "- [x]  объяснено, по какому принципу заполнены пропуски;\n",
    "- [x]  заменен вещественный тип данных на целочисленный;\n",
    "- [x]  есть пояснение, какой метод используется для изменения типа данных и почему;\n",
    "- [x]  удалены дубликаты;\n",
    "- [x]  есть пояснение, какой метод используется для поиска и удаления дубликатов;\n",
    "- [x]  описаны возможные причины появления дубликатов в данных;\n",
    "- [x]  выделены леммы в значениях столбца с целями получения кредита;\n",
    "- [x]  описан процесс лемматизации;\n",
    "- [x]  данные категоризированы;\n",
    "- [x]  есть объяснение принципа категоризации данных;\n",
    "- [x]  есть ответ на вопрос: \"Есть ли зависимость между наличием детей и возвратом кредита в срок?\";\n",
    "- [x]  есть ответ на вопрос: \"Есть ли зависимость между семейным положением и возвратом кредита в срок?\";\n",
    "- [x]  есть ответ на вопрос: \"Есть ли зависимость между уровнем дохода и возвратом кредита в срок?\";\n",
    "- [x]  есть ответ на вопрос: \"Как разные цели кредита влияют на его возврат в срок?\";\n",
    "- [x]  в каждом этапе есть выводы;\n",
    "- [x]  есть общий вывод."
   ]
  },
  {
   "cell_type": "markdown",
   "metadata": {},
   "source": [
    "<div class=\"alert alert-danger\">\n",
    "\n",
    "<b>🔁1️⃣ Ревьюер: ✋</b> Евгения, у тебя классный проект. Молодец! По существу, у меня остался один комментарий. Я хочу чтобы ты посмотрела на семейное положение не только со стороны наличия партнера, а как на этапы жизни человека.\n",
    "    \n",
    "Для удобства поиска я добавил тебе ссылку:\n",
    "    \n",
    "* [Верни категорию](#cell_13)\n",
    "    \n",
    "Жду новую версию проекта. 🙂\n",
    "\n",
    "</div>"
   ]
  },
  {
   "cell_type": "markdown",
   "metadata": {},
   "source": [
    "<div class=\"alert alert-success\">\n",
    "\n",
    "<b>🔁2️⃣ Ревьюер: ✌️</b> Евгения, спасибо за отличную работу и за интерес к новым методам. Знаю, что вам не все из них дают, но понимаю, что они вам пригодятся как в дальнейшем обучении, так и в работе. Критических замечаний нет, ты умница!\n",
    "    \n",
    "Поздравляю, **проект принят!** 🥳 🎉\n",
    "\n",
    "Желаю тебе успехов в дальнейшем обучении. 😉\n",
    "    \n",
    "</div>"
   ]
  }
 ],
 "metadata": {
  "ExecuteTimeLog": [
   {
    "duration": 642,
    "start_time": "2022-01-23T03:35:07.405Z"
   },
   {
    "duration": 57,
    "start_time": "2022-01-23T03:55:11.351Z"
   },
   {
    "duration": 52,
    "start_time": "2022-01-23T03:55:29.204Z"
   },
   {
    "duration": 53,
    "start_time": "2022-01-23T03:55:55.490Z"
   },
   {
    "duration": 59,
    "start_time": "2022-01-23T03:55:59.080Z"
   },
   {
    "duration": 263,
    "start_time": "2022-01-23T04:50:40.311Z"
   },
   {
    "duration": 61,
    "start_time": "2022-01-23T04:51:09.496Z"
   },
   {
    "duration": 10,
    "start_time": "2022-01-23T04:59:11.369Z"
   },
   {
    "duration": 65,
    "start_time": "2022-01-23T05:46:11.703Z"
   },
   {
    "duration": 69,
    "start_time": "2022-01-23T05:47:10.134Z"
   },
   {
    "duration": 58,
    "start_time": "2022-01-23T05:47:49.702Z"
   },
   {
    "duration": 197,
    "start_time": "2022-01-23T06:03:31.394Z"
   },
   {
    "duration": 8,
    "start_time": "2022-01-23T06:03:42.266Z"
   },
   {
    "duration": 8,
    "start_time": "2022-01-23T06:03:46.039Z"
   },
   {
    "duration": 7,
    "start_time": "2022-01-23T06:03:51.009Z"
   },
   {
    "duration": 6,
    "start_time": "2022-01-23T06:04:02.768Z"
   },
   {
    "duration": 8,
    "start_time": "2022-01-23T06:04:04.916Z"
   },
   {
    "duration": 12,
    "start_time": "2022-01-23T06:05:35.828Z"
   },
   {
    "duration": 9,
    "start_time": "2022-01-23T06:05:42.914Z"
   },
   {
    "duration": 12,
    "start_time": "2022-01-23T06:06:52.366Z"
   },
   {
    "duration": 198,
    "start_time": "2022-01-23T06:07:31.683Z"
   },
   {
    "duration": 11,
    "start_time": "2022-01-23T06:07:47.240Z"
   },
   {
    "duration": 196,
    "start_time": "2022-01-23T06:08:17.929Z"
   },
   {
    "duration": 14,
    "start_time": "2022-01-23T06:08:24.111Z"
   },
   {
    "duration": 1626,
    "start_time": "2022-01-23T06:08:59.992Z"
   },
   {
    "duration": 78,
    "start_time": "2022-01-23T06:11:56.895Z"
   },
   {
    "duration": 12,
    "start_time": "2022-01-23T06:12:19.664Z"
   },
   {
    "duration": 11,
    "start_time": "2022-01-23T06:12:44.336Z"
   },
   {
    "duration": 9,
    "start_time": "2022-01-23T06:56:00.114Z"
   },
   {
    "duration": 754,
    "start_time": "2022-01-23T06:56:28.948Z"
   },
   {
    "duration": 62,
    "start_time": "2022-01-23T06:57:04.085Z"
   },
   {
    "duration": 1005,
    "start_time": "2022-01-23T06:57:15.734Z"
   },
   {
    "duration": 15,
    "start_time": "2022-01-23T07:28:41.710Z"
   },
   {
    "duration": 17,
    "start_time": "2022-01-23T07:33:14.727Z"
   },
   {
    "duration": 1524,
    "start_time": "2022-01-23T07:33:29.429Z"
   },
   {
    "duration": 21,
    "start_time": "2022-01-23T07:34:18.616Z"
   },
   {
    "duration": 13,
    "start_time": "2022-01-23T07:34:29.432Z"
   },
   {
    "duration": 24,
    "start_time": "2022-01-23T07:34:36.818Z"
   },
   {
    "duration": 12,
    "start_time": "2022-01-23T07:35:07.109Z"
   },
   {
    "duration": 9,
    "start_time": "2022-01-23T07:35:16.540Z"
   },
   {
    "duration": 1365,
    "start_time": "2022-01-23T07:35:23.881Z"
   },
   {
    "duration": 24,
    "start_time": "2022-01-23T07:35:50.816Z"
   },
   {
    "duration": 260,
    "start_time": "2022-01-23T07:45:35.210Z"
   },
   {
    "duration": 15,
    "start_time": "2022-01-23T07:45:45.714Z"
   },
   {
    "duration": 16,
    "start_time": "2022-01-23T07:46:18.744Z"
   },
   {
    "duration": 10,
    "start_time": "2022-01-23T07:46:36.708Z"
   },
   {
    "duration": 343,
    "start_time": "2022-01-23T14:59:10.089Z"
   },
   {
    "duration": 920,
    "start_time": "2022-01-23T14:59:45.960Z"
   },
   {
    "duration": 420,
    "start_time": "2022-01-23T14:59:46.462Z"
   },
   {
    "duration": 319,
    "start_time": "2022-01-23T14:59:55.692Z"
   },
   {
    "duration": 76,
    "start_time": "2022-01-23T15:00:07.982Z"
   },
   {
    "duration": 10,
    "start_time": "2022-01-23T15:00:14.512Z"
   },
   {
    "duration": 24,
    "start_time": "2022-01-23T15:00:16.387Z"
   },
   {
    "duration": 10,
    "start_time": "2022-01-23T15:00:19.662Z"
   },
   {
    "duration": 12,
    "start_time": "2022-01-23T15:00:52.618Z"
   },
   {
    "duration": 16,
    "start_time": "2022-01-23T15:01:36.918Z"
   },
   {
    "duration": 23,
    "start_time": "2022-01-23T15:01:45.600Z"
   },
   {
    "duration": 23,
    "start_time": "2022-01-23T15:02:44.301Z"
   },
   {
    "duration": 11,
    "start_time": "2022-01-23T15:03:09.026Z"
   },
   {
    "duration": 11,
    "start_time": "2022-01-23T15:03:52.099Z"
   },
   {
    "duration": 362,
    "start_time": "2022-01-23T15:04:07.030Z"
   },
   {
    "duration": 8711,
    "start_time": "2022-01-23T15:04:29.618Z"
   },
   {
    "duration": 209,
    "start_time": "2022-01-23T15:20:28.494Z"
   },
   {
    "duration": 6662,
    "start_time": "2022-01-23T15:21:42.687Z"
   },
   {
    "duration": 7074,
    "start_time": "2022-01-23T15:24:19.705Z"
   },
   {
    "duration": 6953,
    "start_time": "2022-01-23T15:26:32.632Z"
   },
   {
    "duration": 6569,
    "start_time": "2022-01-23T15:27:27.066Z"
   },
   {
    "duration": 8911,
    "start_time": "2022-01-23T15:51:23.846Z"
   },
   {
    "duration": 77,
    "start_time": "2022-01-23T16:02:00.040Z"
   },
   {
    "duration": 10,
    "start_time": "2022-01-23T16:02:00.119Z"
   },
   {
    "duration": 104,
    "start_time": "2022-01-23T16:02:00.131Z"
   },
   {
    "duration": 439,
    "start_time": "2022-01-23T16:01:59.798Z"
   },
   {
    "duration": 430,
    "start_time": "2022-01-23T16:01:59.808Z"
   },
   {
    "duration": 420,
    "start_time": "2022-01-23T16:01:59.820Z"
   },
   {
    "duration": 25,
    "start_time": "2022-01-23T16:02:29.661Z"
   },
   {
    "duration": 34,
    "start_time": "2022-01-23T16:03:07.937Z"
   },
   {
    "duration": 29,
    "start_time": "2022-01-23T16:03:16.589Z"
   },
   {
    "duration": 17,
    "start_time": "2022-01-23T16:03:47.922Z"
   },
   {
    "duration": 309,
    "start_time": "2022-01-23T16:04:00.173Z"
   },
   {
    "duration": 363,
    "start_time": "2022-01-24T13:11:10.304Z"
   },
   {
    "duration": 770,
    "start_time": "2022-01-24T13:11:14.885Z"
   },
   {
    "duration": 11,
    "start_time": "2022-01-24T13:11:15.657Z"
   },
   {
    "duration": 53,
    "start_time": "2022-01-24T13:11:15.670Z"
   },
   {
    "duration": 15,
    "start_time": "2022-01-24T13:12:21.584Z"
   },
   {
    "duration": 270,
    "start_time": "2022-01-24T13:12:35.898Z"
   },
   {
    "duration": 47,
    "start_time": "2022-01-24T13:12:57.251Z"
   },
   {
    "duration": 27,
    "start_time": "2022-01-24T13:13:17.617Z"
   },
   {
    "duration": 12,
    "start_time": "2022-01-24T13:13:46.831Z"
   },
   {
    "duration": 15,
    "start_time": "2022-01-24T13:16:46.998Z"
   },
   {
    "duration": 13,
    "start_time": "2022-01-24T13:17:13.424Z"
   },
   {
    "duration": 11,
    "start_time": "2022-01-24T13:17:21.943Z"
   },
   {
    "duration": 7,
    "start_time": "2022-01-24T13:33:56.525Z"
   },
   {
    "duration": 342,
    "start_time": "2022-01-25T12:05:19.470Z"
   },
   {
    "duration": 665,
    "start_time": "2022-01-25T12:05:27.487Z"
   },
   {
    "duration": 9,
    "start_time": "2022-01-25T12:05:28.154Z"
   },
   {
    "duration": 10,
    "start_time": "2022-01-25T12:05:28.165Z"
   },
   {
    "duration": 105,
    "start_time": "2022-01-25T12:05:28.176Z"
   },
   {
    "duration": 2367,
    "start_time": "2022-01-25T12:05:25.916Z"
   },
   {
    "duration": 2357,
    "start_time": "2022-01-25T12:05:25.927Z"
   },
   {
    "duration": 2349,
    "start_time": "2022-01-25T12:05:25.935Z"
   },
   {
    "duration": 2341,
    "start_time": "2022-01-25T12:05:25.944Z"
   },
   {
    "duration": 2333,
    "start_time": "2022-01-25T12:05:25.953Z"
   },
   {
    "duration": 2288,
    "start_time": "2022-01-25T12:05:25.999Z"
   },
   {
    "duration": 2280,
    "start_time": "2022-01-25T12:05:26.008Z"
   },
   {
    "duration": 2271,
    "start_time": "2022-01-25T12:05:26.018Z"
   },
   {
    "duration": 2261,
    "start_time": "2022-01-25T12:05:26.029Z"
   },
   {
    "duration": 2249,
    "start_time": "2022-01-25T12:05:26.042Z"
   },
   {
    "duration": 2240,
    "start_time": "2022-01-25T12:05:26.052Z"
   },
   {
    "duration": 12,
    "start_time": "2022-01-25T12:06:17.432Z"
   },
   {
    "duration": 6,
    "start_time": "2022-01-25T12:06:54.048Z"
   },
   {
    "duration": 8,
    "start_time": "2022-01-25T12:07:18.149Z"
   },
   {
    "duration": 5,
    "start_time": "2022-01-25T12:07:25.735Z"
   },
   {
    "duration": 7977,
    "start_time": "2022-01-25T12:14:08.452Z"
   },
   {
    "duration": 15,
    "start_time": "2022-01-25T12:14:39.349Z"
   },
   {
    "duration": 22,
    "start_time": "2022-01-25T12:18:46.699Z"
   },
   {
    "duration": 21,
    "start_time": "2022-01-25T12:20:10.260Z"
   },
   {
    "duration": 25,
    "start_time": "2022-01-25T12:20:49.465Z"
   },
   {
    "duration": 24,
    "start_time": "2022-01-25T12:33:51.982Z"
   },
   {
    "duration": 61,
    "start_time": "2022-01-25T12:34:08.564Z"
   },
   {
    "duration": 8,
    "start_time": "2022-01-25T12:34:08.627Z"
   },
   {
    "duration": 9,
    "start_time": "2022-01-25T12:34:08.678Z"
   },
   {
    "duration": 5,
    "start_time": "2022-01-25T12:34:08.768Z"
   },
   {
    "duration": 95,
    "start_time": "2022-01-25T12:34:08.775Z"
   },
   {
    "duration": 64,
    "start_time": "2022-01-25T12:34:20.557Z"
   },
   {
    "duration": 8,
    "start_time": "2022-01-25T12:34:20.623Z"
   },
   {
    "duration": 9,
    "start_time": "2022-01-25T12:34:20.632Z"
   },
   {
    "duration": 5,
    "start_time": "2022-01-25T12:34:20.642Z"
   },
   {
    "duration": 9,
    "start_time": "2022-01-25T12:38:18.430Z"
   },
   {
    "duration": 9,
    "start_time": "2022-01-25T12:38:59.282Z"
   },
   {
    "duration": 11,
    "start_time": "2022-01-25T12:39:15.145Z"
   },
   {
    "duration": 10,
    "start_time": "2022-01-25T12:39:26.022Z"
   },
   {
    "duration": 9,
    "start_time": "2022-01-25T12:39:35.238Z"
   },
   {
    "duration": 6,
    "start_time": "2022-01-25T12:59:58.869Z"
   },
   {
    "duration": 6,
    "start_time": "2022-01-25T13:00:07.343Z"
   },
   {
    "duration": 7,
    "start_time": "2022-01-25T13:00:10.199Z"
   },
   {
    "duration": 10,
    "start_time": "2022-01-25T13:00:27.086Z"
   },
   {
    "duration": 9,
    "start_time": "2022-01-25T13:00:55.233Z"
   },
   {
    "duration": 20,
    "start_time": "2022-01-25T13:01:08.344Z"
   },
   {
    "duration": 16,
    "start_time": "2022-01-25T13:03:09.166Z"
   },
   {
    "duration": 102,
    "start_time": "2022-01-25T13:03:39.829Z"
   },
   {
    "duration": 291,
    "start_time": "2022-01-25T13:04:46.400Z"
   },
   {
    "duration": 4,
    "start_time": "2022-01-25T13:04:54.161Z"
   },
   {
    "duration": 20,
    "start_time": "2022-01-25T13:09:46.696Z"
   },
   {
    "duration": 13,
    "start_time": "2022-01-25T13:39:34.875Z"
   },
   {
    "duration": 22,
    "start_time": "2022-01-25T13:39:45.175Z"
   },
   {
    "duration": 14,
    "start_time": "2022-01-25T13:40:33.727Z"
   },
   {
    "duration": 24,
    "start_time": "2022-01-25T13:40:35.130Z"
   },
   {
    "duration": 298,
    "start_time": "2022-01-25T13:44:09.477Z"
   },
   {
    "duration": 683,
    "start_time": "2022-01-25T13:44:15.570Z"
   },
   {
    "duration": 25,
    "start_time": "2022-01-25T13:44:23.655Z"
   },
   {
    "duration": 40,
    "start_time": "2022-01-25T13:44:35.554Z"
   },
   {
    "duration": 63,
    "start_time": "2022-01-25T13:44:51.023Z"
   },
   {
    "duration": 8,
    "start_time": "2022-01-25T13:44:51.089Z"
   },
   {
    "duration": 9,
    "start_time": "2022-01-25T13:44:51.100Z"
   },
   {
    "duration": 5,
    "start_time": "2022-01-25T13:44:51.111Z"
   },
   {
    "duration": 11,
    "start_time": "2022-01-25T13:44:51.117Z"
   },
   {
    "duration": 61,
    "start_time": "2022-01-25T13:45:03.352Z"
   },
   {
    "duration": 8,
    "start_time": "2022-01-25T13:45:03.415Z"
   },
   {
    "duration": 9,
    "start_time": "2022-01-25T13:45:03.425Z"
   },
   {
    "duration": 5,
    "start_time": "2022-01-25T13:45:03.435Z"
   },
   {
    "duration": 31,
    "start_time": "2022-01-25T13:45:03.442Z"
   },
   {
    "duration": 29,
    "start_time": "2022-01-25T13:45:03.474Z"
   },
   {
    "duration": 587,
    "start_time": "2022-01-25T13:45:03.504Z"
   },
   {
    "duration": 2413,
    "start_time": "2022-01-25T13:45:01.681Z"
   },
   {
    "duration": 2402,
    "start_time": "2022-01-25T13:45:01.693Z"
   },
   {
    "duration": 2319,
    "start_time": "2022-01-25T13:45:01.777Z"
   },
   {
    "duration": 2306,
    "start_time": "2022-01-25T13:45:01.790Z"
   },
   {
    "duration": 2298,
    "start_time": "2022-01-25T13:45:01.799Z"
   },
   {
    "duration": 2287,
    "start_time": "2022-01-25T13:45:01.811Z"
   },
   {
    "duration": 2279,
    "start_time": "2022-01-25T13:45:01.820Z"
   },
   {
    "duration": 2271,
    "start_time": "2022-01-25T13:45:01.829Z"
   },
   {
    "duration": 2264,
    "start_time": "2022-01-25T13:45:01.837Z"
   },
   {
    "duration": 2253,
    "start_time": "2022-01-25T13:45:01.849Z"
   },
   {
    "duration": 2239,
    "start_time": "2022-01-25T13:45:01.864Z"
   },
   {
    "duration": 2210,
    "start_time": "2022-01-25T13:45:01.894Z"
   },
   {
    "duration": 2204,
    "start_time": "2022-01-25T13:45:01.901Z"
   },
   {
    "duration": 2195,
    "start_time": "2022-01-25T13:45:01.911Z"
   },
   {
    "duration": 15,
    "start_time": "2022-01-25T13:49:21.789Z"
   },
   {
    "duration": 24,
    "start_time": "2022-01-25T13:54:45.031Z"
   },
   {
    "duration": 66,
    "start_time": "2022-01-25T13:54:53.066Z"
   },
   {
    "duration": 8,
    "start_time": "2022-01-25T13:54:53.134Z"
   },
   {
    "duration": 9,
    "start_time": "2022-01-25T13:54:53.144Z"
   },
   {
    "duration": 19,
    "start_time": "2022-01-25T13:54:53.155Z"
   },
   {
    "duration": 10,
    "start_time": "2022-01-25T13:54:53.176Z"
   },
   {
    "duration": 68,
    "start_time": "2022-01-25T13:55:00.923Z"
   },
   {
    "duration": 12,
    "start_time": "2022-01-25T13:55:00.993Z"
   },
   {
    "duration": 15,
    "start_time": "2022-01-25T13:55:01.007Z"
   },
   {
    "duration": 5,
    "start_time": "2022-01-25T13:55:01.024Z"
   },
   {
    "duration": 11,
    "start_time": "2022-01-25T13:55:01.031Z"
   },
   {
    "duration": 51,
    "start_time": "2022-01-25T13:55:01.045Z"
   },
   {
    "duration": 115,
    "start_time": "2022-01-25T13:55:01.098Z"
   },
   {
    "duration": 2154,
    "start_time": "2022-01-25T13:54:59.062Z"
   },
   {
    "duration": 2147,
    "start_time": "2022-01-25T13:54:59.070Z"
   },
   {
    "duration": 2140,
    "start_time": "2022-01-25T13:54:59.079Z"
   },
   {
    "duration": 2133,
    "start_time": "2022-01-25T13:54:59.087Z"
   },
   {
    "duration": 2069,
    "start_time": "2022-01-25T13:54:59.153Z"
   },
   {
    "duration": 2058,
    "start_time": "2022-01-25T13:54:59.165Z"
   },
   {
    "duration": 2049,
    "start_time": "2022-01-25T13:54:59.175Z"
   },
   {
    "duration": 2043,
    "start_time": "2022-01-25T13:54:59.182Z"
   },
   {
    "duration": 2034,
    "start_time": "2022-01-25T13:54:59.192Z"
   },
   {
    "duration": 2024,
    "start_time": "2022-01-25T13:54:59.203Z"
   },
   {
    "duration": 2015,
    "start_time": "2022-01-25T13:54:59.213Z"
   },
   {
    "duration": 2008,
    "start_time": "2022-01-25T13:54:59.221Z"
   },
   {
    "duration": 2001,
    "start_time": "2022-01-25T13:54:59.229Z"
   },
   {
    "duration": 1994,
    "start_time": "2022-01-25T13:54:59.237Z"
   },
   {
    "duration": 12,
    "start_time": "2022-01-25T14:29:22.914Z"
   },
   {
    "duration": 296,
    "start_time": "2022-01-25T14:36:41.445Z"
   },
   {
    "duration": 20,
    "start_time": "2022-01-25T14:37:20.998Z"
   },
   {
    "duration": 14,
    "start_time": "2022-01-25T14:38:31.927Z"
   },
   {
    "duration": 306,
    "start_time": "2022-01-25T14:38:43.531Z"
   },
   {
    "duration": 309,
    "start_time": "2022-01-25T14:38:53.667Z"
   },
   {
    "duration": 16,
    "start_time": "2022-01-25T14:42:03.985Z"
   },
   {
    "duration": 16,
    "start_time": "2022-01-25T14:51:00.414Z"
   },
   {
    "duration": 14,
    "start_time": "2022-01-25T14:52:04.336Z"
   },
   {
    "duration": 265,
    "start_time": "2022-01-26T02:26:24.081Z"
   },
   {
    "duration": 810,
    "start_time": "2022-01-26T02:26:28.015Z"
   },
   {
    "duration": 12,
    "start_time": "2022-01-26T02:26:28.827Z"
   },
   {
    "duration": 15,
    "start_time": "2022-01-26T02:26:28.842Z"
   },
   {
    "duration": 7,
    "start_time": "2022-01-26T02:26:28.860Z"
   },
   {
    "duration": 10,
    "start_time": "2022-01-26T02:26:38.620Z"
   },
   {
    "duration": 31,
    "start_time": "2022-01-26T02:38:37.390Z"
   },
   {
    "duration": 37,
    "start_time": "2022-01-26T02:38:43.493Z"
   },
   {
    "duration": 89,
    "start_time": "2022-01-26T02:40:16.674Z"
   },
   {
    "duration": 13,
    "start_time": "2022-01-26T02:40:16.766Z"
   },
   {
    "duration": 15,
    "start_time": "2022-01-26T02:40:16.783Z"
   },
   {
    "duration": 38,
    "start_time": "2022-01-26T02:40:16.800Z"
   },
   {
    "duration": 14,
    "start_time": "2022-01-26T02:40:16.840Z"
   },
   {
    "duration": 39,
    "start_time": "2022-01-26T02:40:16.856Z"
   },
   {
    "duration": 50,
    "start_time": "2022-01-26T02:40:16.897Z"
   },
   {
    "duration": 24,
    "start_time": "2022-01-26T02:40:19.001Z"
   },
   {
    "duration": 38,
    "start_time": "2022-01-26T02:40:22.207Z"
   },
   {
    "duration": 52,
    "start_time": "2022-01-26T02:47:37.030Z"
   },
   {
    "duration": 68,
    "start_time": "2022-01-26T02:50:11.752Z"
   },
   {
    "duration": 273,
    "start_time": "2022-01-26T02:50:17.804Z"
   },
   {
    "duration": 263,
    "start_time": "2022-01-26T02:50:25.098Z"
   },
   {
    "duration": 54,
    "start_time": "2022-01-26T02:50:33.156Z"
   },
   {
    "duration": 37,
    "start_time": "2022-01-26T02:50:43.195Z"
   },
   {
    "duration": 89,
    "start_time": "2022-01-26T02:50:54.127Z"
   },
   {
    "duration": 55,
    "start_time": "2022-01-26T02:50:57.066Z"
   },
   {
    "duration": 22,
    "start_time": "2022-01-26T03:11:51.982Z"
   },
   {
    "duration": 19,
    "start_time": "2022-01-26T03:12:14.636Z"
   },
   {
    "duration": 91,
    "start_time": "2022-01-26T03:12:25.292Z"
   },
   {
    "duration": 14,
    "start_time": "2022-01-26T03:12:25.386Z"
   },
   {
    "duration": 41,
    "start_time": "2022-01-26T03:12:25.403Z"
   },
   {
    "duration": 8,
    "start_time": "2022-01-26T03:12:25.446Z"
   },
   {
    "duration": 18,
    "start_time": "2022-01-26T03:12:25.456Z"
   },
   {
    "duration": 70,
    "start_time": "2022-01-26T03:12:25.477Z"
   },
   {
    "duration": 20,
    "start_time": "2022-01-26T03:12:25.549Z"
   },
   {
    "duration": 19,
    "start_time": "2022-01-26T03:12:36.122Z"
   },
   {
    "duration": 20,
    "start_time": "2022-01-26T03:12:38.563Z"
   },
   {
    "duration": 64,
    "start_time": "2022-01-26T03:13:20.320Z"
   },
   {
    "duration": 28,
    "start_time": "2022-01-26T03:18:15.078Z"
   },
   {
    "duration": 23,
    "start_time": "2022-01-26T03:18:17.649Z"
   },
   {
    "duration": 30,
    "start_time": "2022-01-26T03:58:49.659Z"
   },
   {
    "duration": 24,
    "start_time": "2022-01-26T03:58:50.836Z"
   },
   {
    "duration": 42,
    "start_time": "2022-01-26T04:00:45.040Z"
   },
   {
    "duration": 24,
    "start_time": "2022-01-26T04:34:23.317Z"
   },
   {
    "duration": 8,
    "start_time": "2022-01-26T04:34:40.301Z"
   },
   {
    "duration": 6,
    "start_time": "2022-01-26T04:35:31.817Z"
   },
   {
    "duration": 18,
    "start_time": "2022-01-26T04:36:23.235Z"
   },
   {
    "duration": 6,
    "start_time": "2022-01-26T04:44:51.830Z"
   },
   {
    "duration": 6,
    "start_time": "2022-01-26T04:45:32.969Z"
   },
   {
    "duration": 7,
    "start_time": "2022-01-26T04:46:30.256Z"
   },
   {
    "duration": 6,
    "start_time": "2022-01-26T04:52:16.694Z"
   },
   {
    "duration": 230,
    "start_time": "2022-01-26T04:55:20.786Z"
   },
   {
    "duration": 13,
    "start_time": "2022-01-26T05:11:41.419Z"
   },
   {
    "duration": 34,
    "start_time": "2022-01-26T05:14:49.253Z"
   },
   {
    "duration": 74,
    "start_time": "2022-01-26T05:54:53.878Z"
   },
   {
    "duration": 9,
    "start_time": "2022-01-26T06:43:23.851Z"
   },
   {
    "duration": 11,
    "start_time": "2022-01-26T07:11:13.119Z"
   },
   {
    "duration": 99,
    "start_time": "2022-01-26T07:11:35.680Z"
   },
   {
    "duration": 10,
    "start_time": "2022-01-26T07:11:39.322Z"
   },
   {
    "duration": 24,
    "start_time": "2022-01-26T07:13:00.441Z"
   },
   {
    "duration": 13,
    "start_time": "2022-01-26T07:13:16.465Z"
   },
   {
    "duration": 8,
    "start_time": "2022-01-26T07:14:24.533Z"
   },
   {
    "duration": 11,
    "start_time": "2022-01-26T07:14:37.434Z"
   },
   {
    "duration": 314,
    "start_time": "2022-01-26T08:40:03.884Z"
   },
   {
    "duration": 136,
    "start_time": "2022-01-26T08:40:13.312Z"
   },
   {
    "duration": 247,
    "start_time": "2022-01-26T08:40:24.159Z"
   },
   {
    "duration": 247,
    "start_time": "2022-01-26T08:40:32.971Z"
   },
   {
    "duration": 259,
    "start_time": "2022-01-26T08:40:54.377Z"
   },
   {
    "duration": 913,
    "start_time": "2022-01-26T09:34:04.992Z"
   },
   {
    "duration": 24,
    "start_time": "2022-01-26T09:34:05.908Z"
   },
   {
    "duration": 19,
    "start_time": "2022-01-26T09:34:05.936Z"
   },
   {
    "duration": 10,
    "start_time": "2022-01-26T09:34:05.959Z"
   },
   {
    "duration": 17,
    "start_time": "2022-01-26T09:34:05.971Z"
   },
   {
    "duration": 50,
    "start_time": "2022-01-26T09:34:06.032Z"
   },
   {
    "duration": 51,
    "start_time": "2022-01-26T09:34:06.085Z"
   },
   {
    "duration": 23,
    "start_time": "2022-01-26T09:34:06.142Z"
   },
   {
    "duration": 23,
    "start_time": "2022-01-26T09:34:06.169Z"
   },
   {
    "duration": 91,
    "start_time": "2022-01-26T09:34:06.195Z"
   },
   {
    "duration": 80,
    "start_time": "2022-01-26T09:34:06.289Z"
   },
   {
    "duration": 22,
    "start_time": "2022-01-26T09:34:06.371Z"
   },
   {
    "duration": 11,
    "start_time": "2022-01-26T09:34:06.396Z"
   },
   {
    "duration": 37,
    "start_time": "2022-01-26T09:34:06.410Z"
   },
   {
    "duration": 34,
    "start_time": "2022-01-26T09:34:06.450Z"
   },
   {
    "duration": 12,
    "start_time": "2022-01-26T09:34:06.486Z"
   },
   {
    "duration": 45,
    "start_time": "2022-01-26T09:34:06.500Z"
   },
   {
    "duration": 23,
    "start_time": "2022-01-26T09:34:06.548Z"
   },
   {
    "duration": 102,
    "start_time": "2022-01-26T09:34:06.573Z"
   },
   {
    "duration": -804,
    "start_time": "2022-01-26T09:34:07.482Z"
   },
   {
    "duration": -809,
    "start_time": "2022-01-26T09:34:07.488Z"
   },
   {
    "duration": -817,
    "start_time": "2022-01-26T09:34:07.497Z"
   },
   {
    "duration": -819,
    "start_time": "2022-01-26T09:34:07.501Z"
   },
   {
    "duration": -829,
    "start_time": "2022-01-26T09:34:07.512Z"
   },
   {
    "duration": -831,
    "start_time": "2022-01-26T09:34:07.516Z"
   },
   {
    "duration": -835,
    "start_time": "2022-01-26T09:34:07.521Z"
   },
   {
    "duration": -837,
    "start_time": "2022-01-26T09:34:07.525Z"
   },
   {
    "duration": -864,
    "start_time": "2022-01-26T09:34:07.553Z"
   },
   {
    "duration": -877,
    "start_time": "2022-01-26T09:34:07.567Z"
   },
   {
    "duration": -890,
    "start_time": "2022-01-26T09:34:07.582Z"
   },
   {
    "duration": -895,
    "start_time": "2022-01-26T09:34:07.588Z"
   },
   {
    "duration": -898,
    "start_time": "2022-01-26T09:34:07.592Z"
   },
   {
    "duration": 326,
    "start_time": "2022-01-26T09:34:14.827Z"
   },
   {
    "duration": 564,
    "start_time": "2022-01-26T09:34:35.167Z"
   },
   {
    "duration": 249,
    "start_time": "2022-01-26T09:36:49.934Z"
   },
   {
    "duration": 5820,
    "start_time": "2022-01-26T09:38:34.478Z"
   },
   {
    "duration": 2720,
    "start_time": "2022-01-26T14:35:26.374Z"
   },
   {
    "duration": 13,
    "start_time": "2022-01-26T14:35:29.096Z"
   },
   {
    "duration": 16,
    "start_time": "2022-01-26T14:35:29.113Z"
   },
   {
    "duration": 33,
    "start_time": "2022-01-26T14:35:29.132Z"
   },
   {
    "duration": 16,
    "start_time": "2022-01-26T14:35:29.168Z"
   },
   {
    "duration": 44,
    "start_time": "2022-01-26T14:35:29.186Z"
   },
   {
    "duration": 21,
    "start_time": "2022-01-26T14:35:29.260Z"
   },
   {
    "duration": 18,
    "start_time": "2022-01-26T14:35:29.285Z"
   },
   {
    "duration": 56,
    "start_time": "2022-01-26T14:35:29.306Z"
   },
   {
    "duration": 56,
    "start_time": "2022-01-26T14:35:29.365Z"
   },
   {
    "duration": 63,
    "start_time": "2022-01-26T14:35:29.424Z"
   },
   {
    "duration": 26,
    "start_time": "2022-01-26T14:35:29.489Z"
   },
   {
    "duration": 10,
    "start_time": "2022-01-26T14:35:29.518Z"
   },
   {
    "duration": 40,
    "start_time": "2022-01-26T14:35:29.530Z"
   },
   {
    "duration": 33,
    "start_time": "2022-01-26T14:35:29.572Z"
   },
   {
    "duration": 12,
    "start_time": "2022-01-26T14:35:29.607Z"
   },
   {
    "duration": 44,
    "start_time": "2022-01-26T14:35:29.621Z"
   },
   {
    "duration": 25,
    "start_time": "2022-01-26T14:35:29.668Z"
   },
   {
    "duration": 2834,
    "start_time": "2022-01-26T14:35:29.695Z"
   },
   {
    "duration": 3930,
    "start_time": "2022-01-26T14:35:28.602Z"
   },
   {
    "duration": 3917,
    "start_time": "2022-01-26T14:35:28.616Z"
   },
   {
    "duration": 3902,
    "start_time": "2022-01-26T14:35:28.633Z"
   },
   {
    "duration": 3854,
    "start_time": "2022-01-26T14:35:28.682Z"
   },
   {
    "duration": 3831,
    "start_time": "2022-01-26T14:35:28.707Z"
   },
   {
    "duration": 3794,
    "start_time": "2022-01-26T14:35:28.745Z"
   },
   {
    "duration": 3731,
    "start_time": "2022-01-26T14:35:28.809Z"
   },
   {
    "duration": 3676,
    "start_time": "2022-01-26T14:35:28.866Z"
   },
   {
    "duration": 3665,
    "start_time": "2022-01-26T14:35:28.878Z"
   },
   {
    "duration": 3656,
    "start_time": "2022-01-26T14:35:28.888Z"
   },
   {
    "duration": 3647,
    "start_time": "2022-01-26T14:35:28.899Z"
   },
   {
    "duration": 3639,
    "start_time": "2022-01-26T14:35:28.908Z"
   },
   {
    "duration": 3630,
    "start_time": "2022-01-26T14:35:28.919Z"
   },
   {
    "duration": 20,
    "start_time": "2022-01-26T14:37:23.764Z"
   },
   {
    "duration": 20,
    "start_time": "2022-01-26T14:37:37.210Z"
   },
   {
    "duration": 96,
    "start_time": "2022-01-26T14:37:43.666Z"
   },
   {
    "duration": 12,
    "start_time": "2022-01-26T14:37:43.764Z"
   },
   {
    "duration": 16,
    "start_time": "2022-01-26T14:37:43.779Z"
   },
   {
    "duration": 11,
    "start_time": "2022-01-26T14:37:43.798Z"
   },
   {
    "duration": 60,
    "start_time": "2022-01-26T14:37:43.811Z"
   },
   {
    "duration": 45,
    "start_time": "2022-01-26T14:37:43.874Z"
   },
   {
    "duration": 11,
    "start_time": "2022-01-26T14:46:26.011Z"
   },
   {
    "duration": 38,
    "start_time": "2022-01-26T15:14:01.159Z"
   },
   {
    "duration": 25,
    "start_time": "2022-01-26T15:14:41.206Z"
   },
   {
    "duration": 30,
    "start_time": "2022-01-26T15:14:59.321Z"
   },
   {
    "duration": 9,
    "start_time": "2022-01-26T15:15:13.308Z"
   },
   {
    "duration": 25,
    "start_time": "2022-01-26T15:16:15.193Z"
   },
   {
    "duration": 23,
    "start_time": "2022-01-26T15:16:46.558Z"
   },
   {
    "duration": 10,
    "start_time": "2022-01-26T15:21:37.403Z"
   },
   {
    "duration": 8,
    "start_time": "2022-01-26T15:21:53.739Z"
   },
   {
    "duration": 9,
    "start_time": "2022-01-26T15:26:26.611Z"
   },
   {
    "duration": 16,
    "start_time": "2022-01-26T15:49:12.272Z"
   },
   {
    "duration": 134,
    "start_time": "2022-01-26T15:52:12.010Z"
   },
   {
    "duration": 513,
    "start_time": "2022-01-26T15:52:17.849Z"
   },
   {
    "duration": 410,
    "start_time": "2022-01-26T15:52:37.943Z"
   },
   {
    "duration": 376,
    "start_time": "2022-01-26T15:52:52.255Z"
   },
   {
    "duration": 2516,
    "start_time": "2022-01-26T15:55:03.026Z"
   },
   {
    "duration": 120,
    "start_time": "2022-01-26T15:55:37.847Z"
   },
   {
    "duration": 542,
    "start_time": "2022-01-26T15:56:01.943Z"
   },
   {
    "duration": 403,
    "start_time": "2022-01-26T15:56:13.570Z"
   },
   {
    "duration": 353,
    "start_time": "2022-01-26T15:56:19.656Z"
   },
   {
    "duration": 11,
    "start_time": "2022-01-26T15:57:44.813Z"
   },
   {
    "duration": 16,
    "start_time": "2022-01-26T15:58:00.754Z"
   },
   {
    "duration": 17,
    "start_time": "2022-01-26T15:59:42.542Z"
   },
   {
    "duration": 129,
    "start_time": "2022-01-26T16:00:41.279Z"
   },
   {
    "duration": 386,
    "start_time": "2022-01-26T16:01:21.444Z"
   },
   {
    "duration": 1631,
    "start_time": "2022-01-26T16:01:43.229Z"
   },
   {
    "duration": 1118,
    "start_time": "2022-01-26T16:02:29.897Z"
   },
   {
    "duration": 393,
    "start_time": "2022-01-26T16:03:03.067Z"
   },
   {
    "duration": 127,
    "start_time": "2022-01-26T16:03:27.362Z"
   },
   {
    "duration": 121,
    "start_time": "2022-01-26T16:03:35.922Z"
   },
   {
    "duration": 18,
    "start_time": "2022-01-26T16:04:31.678Z"
   },
   {
    "duration": 8994,
    "start_time": "2022-01-26T16:07:48.929Z"
   },
   {
    "duration": 11,
    "start_time": "2022-01-26T16:08:03.391Z"
   },
   {
    "duration": 10,
    "start_time": "2022-01-26T16:10:05.292Z"
   },
   {
    "duration": 626,
    "start_time": "2022-01-26T16:10:16.100Z"
   },
   {
    "duration": 10,
    "start_time": "2022-01-26T16:10:25.473Z"
   },
   {
    "duration": 9,
    "start_time": "2022-01-26T16:10:29.759Z"
   },
   {
    "duration": 16,
    "start_time": "2022-01-26T16:10:31.901Z"
   },
   {
    "duration": 95,
    "start_time": "2022-01-26T16:14:51.519Z"
   },
   {
    "duration": 12,
    "start_time": "2022-01-26T16:14:51.617Z"
   },
   {
    "duration": 41,
    "start_time": "2022-01-26T16:14:51.632Z"
   },
   {
    "duration": 7,
    "start_time": "2022-01-26T16:14:51.676Z"
   },
   {
    "duration": 14,
    "start_time": "2022-01-26T16:14:51.686Z"
   },
   {
    "duration": 85,
    "start_time": "2022-01-26T16:14:51.703Z"
   },
   {
    "duration": 21,
    "start_time": "2022-01-26T16:14:51.791Z"
   },
   {
    "duration": 48,
    "start_time": "2022-01-26T16:14:51.815Z"
   },
   {
    "duration": 57,
    "start_time": "2022-01-26T16:14:51.866Z"
   },
   {
    "duration": 75,
    "start_time": "2022-01-26T16:14:51.925Z"
   },
   {
    "duration": 116,
    "start_time": "2022-01-26T16:14:52.002Z"
   },
   {
    "duration": 3648,
    "start_time": "2022-01-26T16:14:48.473Z"
   },
   {
    "duration": 3490,
    "start_time": "2022-01-26T16:14:48.633Z"
   },
   {
    "duration": 3481,
    "start_time": "2022-01-26T16:14:48.643Z"
   },
   {
    "duration": 3474,
    "start_time": "2022-01-26T16:14:48.651Z"
   },
   {
    "duration": 3468,
    "start_time": "2022-01-26T16:14:48.659Z"
   },
   {
    "duration": 3460,
    "start_time": "2022-01-26T16:14:48.668Z"
   },
   {
    "duration": 3450,
    "start_time": "2022-01-26T16:14:48.679Z"
   },
   {
    "duration": 3442,
    "start_time": "2022-01-26T16:14:48.689Z"
   },
   {
    "duration": 126,
    "start_time": "2022-01-26T16:15:16.864Z"
   },
   {
    "duration": 117,
    "start_time": "2022-01-26T16:15:26.271Z"
   },
   {
    "duration": 394,
    "start_time": "2022-01-26T16:15:36.369Z"
   },
   {
    "duration": 26,
    "start_time": "2022-01-26T16:16:04.130Z"
   },
   {
    "duration": 10,
    "start_time": "2022-01-26T16:16:07.593Z"
   },
   {
    "duration": 8,
    "start_time": "2022-01-26T16:16:11.406Z"
   },
   {
    "duration": 17,
    "start_time": "2022-01-26T16:16:17.332Z"
   },
   {
    "duration": 11,
    "start_time": "2022-01-26T16:16:31.785Z"
   },
   {
    "duration": 13,
    "start_time": "2022-01-26T16:16:41.261Z"
   },
   {
    "duration": 12,
    "start_time": "2022-01-26T16:16:44.582Z"
   },
   {
    "duration": 13,
    "start_time": "2022-01-26T16:17:37.296Z"
   },
   {
    "duration": 11,
    "start_time": "2022-01-26T16:17:38.911Z"
   },
   {
    "duration": 10,
    "start_time": "2022-01-26T16:17:42.659Z"
   },
   {
    "duration": 8,
    "start_time": "2022-01-26T16:17:47.415Z"
   },
   {
    "duration": 11,
    "start_time": "2022-01-26T16:17:51.221Z"
   },
   {
    "duration": 1582,
    "start_time": "2022-01-27T01:35:15.508Z"
   },
   {
    "duration": 17,
    "start_time": "2022-01-27T01:35:17.093Z"
   },
   {
    "duration": 43,
    "start_time": "2022-01-27T01:35:17.114Z"
   },
   {
    "duration": 10,
    "start_time": "2022-01-27T01:35:17.161Z"
   },
   {
    "duration": 20,
    "start_time": "2022-01-27T01:35:17.175Z"
   },
   {
    "duration": 78,
    "start_time": "2022-01-27T01:35:17.198Z"
   },
   {
    "duration": 22,
    "start_time": "2022-01-27T01:35:17.279Z"
   },
   {
    "duration": 60,
    "start_time": "2022-01-27T01:35:17.305Z"
   },
   {
    "duration": 54,
    "start_time": "2022-01-27T01:35:17.368Z"
   },
   {
    "duration": 47,
    "start_time": "2022-01-27T01:35:17.424Z"
   },
   {
    "duration": 22,
    "start_time": "2022-01-27T01:35:17.473Z"
   },
   {
    "duration": 17,
    "start_time": "2022-01-27T01:35:17.498Z"
   },
   {
    "duration": 11,
    "start_time": "2022-01-27T01:35:17.517Z"
   },
   {
    "duration": 12,
    "start_time": "2022-01-27T01:35:17.549Z"
   },
   {
    "duration": 12,
    "start_time": "2022-01-27T01:35:17.563Z"
   },
   {
    "duration": 10,
    "start_time": "2022-01-27T01:35:17.577Z"
   },
   {
    "duration": 9,
    "start_time": "2022-01-27T01:35:17.590Z"
   },
   {
    "duration": 9,
    "start_time": "2022-01-27T01:35:17.601Z"
   },
   {
    "duration": 10,
    "start_time": "2022-01-27T01:35:17.649Z"
   },
   {
    "duration": 5054,
    "start_time": "2022-01-27T01:35:17.661Z"
   },
   {
    "duration": -65,
    "start_time": "2022-01-27T01:35:22.783Z"
   },
   {
    "duration": -73,
    "start_time": "2022-01-27T01:35:22.792Z"
   },
   {
    "duration": -106,
    "start_time": "2022-01-27T01:35:22.827Z"
   },
   {
    "duration": -115,
    "start_time": "2022-01-27T01:35:22.837Z"
   },
   {
    "duration": -118,
    "start_time": "2022-01-27T01:35:22.842Z"
   },
   {
    "duration": -121,
    "start_time": "2022-01-27T01:35:22.846Z"
   },
   {
    "duration": -124,
    "start_time": "2022-01-27T01:35:22.850Z"
   },
   {
    "duration": -126,
    "start_time": "2022-01-27T01:35:22.854Z"
   },
   {
    "duration": -129,
    "start_time": "2022-01-27T01:35:22.858Z"
   },
   {
    "duration": 10,
    "start_time": "2022-01-27T01:43:54.910Z"
   },
   {
    "duration": 3996,
    "start_time": "2022-01-27T01:46:42.397Z"
   },
   {
    "duration": 4130,
    "start_time": "2022-01-27T02:10:05.426Z"
   },
   {
    "duration": 3997,
    "start_time": "2022-01-27T02:10:30.243Z"
   },
   {
    "duration": 4147,
    "start_time": "2022-01-27T02:10:42.693Z"
   },
   {
    "duration": 3923,
    "start_time": "2022-01-27T02:10:55.197Z"
   },
   {
    "duration": 4004,
    "start_time": "2022-01-27T02:14:07.867Z"
   },
   {
    "duration": 4013,
    "start_time": "2022-01-27T02:30:22.711Z"
   },
   {
    "duration": 298,
    "start_time": "2022-01-27T03:15:02.379Z"
   },
   {
    "duration": 353,
    "start_time": "2022-01-27T03:16:46.516Z"
   },
   {
    "duration": 8692,
    "start_time": "2022-01-27T03:16:51.894Z"
   },
   {
    "duration": 295,
    "start_time": "2022-01-27T03:22:13.374Z"
   },
   {
    "duration": 3647,
    "start_time": "2022-01-27T03:22:57.770Z"
   },
   {
    "duration": 4240,
    "start_time": "2022-01-27T03:25:46.693Z"
   },
   {
    "duration": -59,
    "start_time": "2022-01-27T03:25:50.995Z"
   },
   {
    "duration": 3890,
    "start_time": "2022-01-27T03:26:11.610Z"
   },
   {
    "duration": 292,
    "start_time": "2022-01-27T03:27:04.898Z"
   },
   {
    "duration": 10,
    "start_time": "2022-01-27T03:27:09.376Z"
   },
   {
    "duration": 295,
    "start_time": "2022-01-27T03:35:48.984Z"
   },
   {
    "duration": 292,
    "start_time": "2022-01-27T03:36:10.503Z"
   },
   {
    "duration": 25,
    "start_time": "2022-01-27T03:36:18.026Z"
   },
   {
    "duration": 1661,
    "start_time": "2022-01-28T02:17:07.235Z"
   },
   {
    "duration": 13,
    "start_time": "2022-01-28T02:17:08.898Z"
   },
   {
    "duration": 32,
    "start_time": "2022-01-28T02:17:08.914Z"
   },
   {
    "duration": 11,
    "start_time": "2022-01-28T02:17:08.950Z"
   },
   {
    "duration": 21,
    "start_time": "2022-01-28T02:17:08.963Z"
   },
   {
    "duration": 85,
    "start_time": "2022-01-28T02:17:08.986Z"
   },
   {
    "duration": 21,
    "start_time": "2022-01-28T02:17:09.074Z"
   },
   {
    "duration": 47,
    "start_time": "2022-01-28T02:17:09.099Z"
   },
   {
    "duration": 54,
    "start_time": "2022-01-28T02:17:09.149Z"
   },
   {
    "duration": 70,
    "start_time": "2022-01-28T02:17:09.205Z"
   },
   {
    "duration": 25,
    "start_time": "2022-01-28T02:17:09.278Z"
   },
   {
    "duration": 35,
    "start_time": "2022-01-28T02:17:09.305Z"
   },
   {
    "duration": 12,
    "start_time": "2022-01-28T02:17:09.346Z"
   },
   {
    "duration": 12,
    "start_time": "2022-01-28T02:17:09.360Z"
   },
   {
    "duration": 11,
    "start_time": "2022-01-28T02:17:09.375Z"
   },
   {
    "duration": 47,
    "start_time": "2022-01-28T02:17:09.388Z"
   },
   {
    "duration": 17,
    "start_time": "2022-01-28T02:17:09.438Z"
   },
   {
    "duration": 10,
    "start_time": "2022-01-28T02:17:09.458Z"
   },
   {
    "duration": 11,
    "start_time": "2022-01-28T02:17:09.471Z"
   },
   {
    "duration": 5121,
    "start_time": "2022-01-28T02:17:09.484Z"
   },
   {
    "duration": 9,
    "start_time": "2022-01-28T02:17:14.608Z"
   },
   {
    "duration": 31,
    "start_time": "2022-01-28T02:17:14.632Z"
   },
   {
    "duration": 80,
    "start_time": "2022-01-28T02:17:14.668Z"
   },
   {
    "duration": -54,
    "start_time": "2022-01-28T02:17:14.805Z"
   },
   {
    "duration": -56,
    "start_time": "2022-01-28T02:17:14.809Z"
   },
   {
    "duration": -58,
    "start_time": "2022-01-28T02:17:14.813Z"
   },
   {
    "duration": -74,
    "start_time": "2022-01-28T02:17:14.831Z"
   },
   {
    "duration": -79,
    "start_time": "2022-01-28T02:17:14.838Z"
   },
   {
    "duration": -84,
    "start_time": "2022-01-28T02:17:14.845Z"
   },
   {
    "duration": -90,
    "start_time": "2022-01-28T02:17:14.853Z"
   },
   {
    "duration": -97,
    "start_time": "2022-01-28T02:17:14.862Z"
   },
   {
    "duration": 14,
    "start_time": "2022-01-28T02:44:11.215Z"
   },
   {
    "duration": 6537,
    "start_time": "2022-01-28T02:49:06.838Z"
   },
   {
    "duration": 20,
    "start_time": "2022-01-28T02:52:24.531Z"
   },
   {
    "duration": 14,
    "start_time": "2022-01-28T02:52:28.791Z"
   },
   {
    "duration": 14,
    "start_time": "2022-01-28T02:52:38.990Z"
   },
   {
    "duration": 281,
    "start_time": "2022-01-28T02:52:44.931Z"
   },
   {
    "duration": 11,
    "start_time": "2022-01-28T02:53:06.635Z"
   },
   {
    "duration": 15,
    "start_time": "2022-01-28T02:53:36.018Z"
   },
   {
    "duration": 13,
    "start_time": "2022-01-28T02:54:04.254Z"
   },
   {
    "duration": 269,
    "start_time": "2022-01-28T03:03:16.005Z"
   },
   {
    "duration": 9,
    "start_time": "2022-01-28T03:03:25.195Z"
   },
   {
    "duration": 12,
    "start_time": "2022-01-28T03:03:32.249Z"
   },
   {
    "duration": 13,
    "start_time": "2022-01-28T03:05:06.975Z"
   },
   {
    "duration": 129,
    "start_time": "2022-01-28T03:05:46.892Z"
   },
   {
    "duration": 20,
    "start_time": "2022-01-28T03:05:47.024Z"
   },
   {
    "duration": 19,
    "start_time": "2022-01-28T03:05:47.048Z"
   },
   {
    "duration": 7,
    "start_time": "2022-01-28T03:05:47.069Z"
   },
   {
    "duration": 18,
    "start_time": "2022-01-28T03:05:47.079Z"
   },
   {
    "duration": 47,
    "start_time": "2022-01-28T03:05:47.132Z"
   },
   {
    "duration": 22,
    "start_time": "2022-01-28T03:05:47.182Z"
   },
   {
    "duration": 29,
    "start_time": "2022-01-28T03:05:47.234Z"
   },
   {
    "duration": 80,
    "start_time": "2022-01-28T03:05:47.266Z"
   },
   {
    "duration": 43,
    "start_time": "2022-01-28T03:05:47.349Z"
   },
   {
    "duration": 50,
    "start_time": "2022-01-28T03:05:47.395Z"
   },
   {
    "duration": 16,
    "start_time": "2022-01-28T03:05:47.447Z"
   },
   {
    "duration": 14,
    "start_time": "2022-01-28T03:05:47.466Z"
   },
   {
    "duration": 13,
    "start_time": "2022-01-28T03:06:17.745Z"
   },
   {
    "duration": 10,
    "start_time": "2022-01-28T03:18:24.263Z"
   },
   {
    "duration": 249,
    "start_time": "2022-01-28T03:18:49.445Z"
   },
   {
    "duration": 249,
    "start_time": "2022-01-28T03:19:17.141Z"
   },
   {
    "duration": 6,
    "start_time": "2022-01-28T03:19:25.626Z"
   },
   {
    "duration": 5,
    "start_time": "2022-01-28T03:21:47.145Z"
   },
   {
    "duration": 13,
    "start_time": "2022-01-28T03:22:14.327Z"
   },
   {
    "duration": 313,
    "start_time": "2022-01-28T03:38:05.673Z"
   },
   {
    "duration": 98,
    "start_time": "2022-01-28T03:38:12.353Z"
   },
   {
    "duration": 12,
    "start_time": "2022-01-28T03:38:12.453Z"
   },
   {
    "duration": 17,
    "start_time": "2022-01-28T03:38:12.468Z"
   },
   {
    "duration": 46,
    "start_time": "2022-01-28T03:38:12.488Z"
   },
   {
    "duration": 20,
    "start_time": "2022-01-28T03:38:12.538Z"
   },
   {
    "duration": 76,
    "start_time": "2022-01-28T03:38:12.561Z"
   },
   {
    "duration": 25,
    "start_time": "2022-01-28T03:38:12.640Z"
   },
   {
    "duration": 22,
    "start_time": "2022-01-28T03:38:12.668Z"
   },
   {
    "duration": 94,
    "start_time": "2022-01-28T03:38:12.693Z"
   },
   {
    "duration": 60,
    "start_time": "2022-01-28T03:38:12.789Z"
   },
   {
    "duration": 25,
    "start_time": "2022-01-28T03:38:12.853Z"
   },
   {
    "duration": 11,
    "start_time": "2022-01-28T03:38:12.881Z"
   },
   {
    "duration": 50,
    "start_time": "2022-01-28T03:38:12.895Z"
   },
   {
    "duration": 8,
    "start_time": "2022-01-28T03:38:12.948Z"
   },
   {
    "duration": 13,
    "start_time": "2022-01-28T03:38:12.959Z"
   },
   {
    "duration": 12,
    "start_time": "2022-01-28T03:38:12.975Z"
   },
   {
    "duration": 13,
    "start_time": "2022-01-28T03:38:13.036Z"
   },
   {
    "duration": 13,
    "start_time": "2022-01-28T03:38:13.053Z"
   },
   {
    "duration": 10,
    "start_time": "2022-01-28T03:38:13.069Z"
   },
   {
    "duration": 11,
    "start_time": "2022-01-28T03:38:13.081Z"
   },
   {
    "duration": 4941,
    "start_time": "2022-01-28T03:38:13.132Z"
   },
   {
    "duration": 11,
    "start_time": "2022-01-28T03:38:18.076Z"
   },
   {
    "duration": 379,
    "start_time": "2022-01-28T05:51:13.812Z"
   },
   {
    "duration": 25,
    "start_time": "2022-01-28T05:51:22.468Z"
   },
   {
    "duration": 20,
    "start_time": "2022-01-28T05:52:07.820Z"
   },
   {
    "duration": 1210,
    "start_time": "2022-01-28T14:50:31.754Z"
   },
   {
    "duration": 8,
    "start_time": "2022-01-28T14:50:32.966Z"
   },
   {
    "duration": 9,
    "start_time": "2022-01-28T14:50:32.976Z"
   },
   {
    "duration": 4,
    "start_time": "2022-01-28T14:50:32.987Z"
   },
   {
    "duration": 9,
    "start_time": "2022-01-28T14:50:32.993Z"
   },
   {
    "duration": 25,
    "start_time": "2022-01-28T14:50:33.003Z"
   },
   {
    "duration": 12,
    "start_time": "2022-01-28T14:50:33.029Z"
   },
   {
    "duration": 13,
    "start_time": "2022-01-28T14:50:33.073Z"
   },
   {
    "duration": 28,
    "start_time": "2022-01-28T14:50:33.088Z"
   },
   {
    "duration": 26,
    "start_time": "2022-01-28T14:50:33.118Z"
   },
   {
    "duration": 38,
    "start_time": "2022-01-28T14:50:33.145Z"
   },
   {
    "duration": 10,
    "start_time": "2022-01-28T14:50:33.184Z"
   },
   {
    "duration": 6,
    "start_time": "2022-01-28T14:50:33.196Z"
   },
   {
    "duration": 4,
    "start_time": "2022-01-28T14:50:33.204Z"
   },
   {
    "duration": 8,
    "start_time": "2022-01-28T14:50:33.209Z"
   },
   {
    "duration": 7,
    "start_time": "2022-01-28T14:50:33.218Z"
   },
   {
    "duration": 7,
    "start_time": "2022-01-28T14:50:33.226Z"
   },
   {
    "duration": 9,
    "start_time": "2022-01-28T14:50:33.234Z"
   },
   {
    "duration": 28,
    "start_time": "2022-01-28T14:50:33.244Z"
   },
   {
    "duration": 6,
    "start_time": "2022-01-28T14:50:33.273Z"
   },
   {
    "duration": 3024,
    "start_time": "2022-01-28T14:50:33.281Z"
   },
   {
    "duration": 6,
    "start_time": "2022-01-28T14:50:36.307Z"
   },
   {
    "duration": 13,
    "start_time": "2022-01-28T14:50:36.316Z"
   },
   {
    "duration": 11,
    "start_time": "2022-01-28T14:50:36.331Z"
   },
   {
    "duration": 192,
    "start_time": "2022-01-28T14:50:36.343Z"
   },
   {
    "duration": 5687,
    "start_time": "2022-01-28T14:50:30.849Z"
   },
   {
    "duration": 5676,
    "start_time": "2022-01-28T14:50:30.861Z"
   },
   {
    "duration": 5665,
    "start_time": "2022-01-28T14:50:30.873Z"
   },
   {
    "duration": 5652,
    "start_time": "2022-01-28T14:50:30.886Z"
   },
   {
    "duration": 5643,
    "start_time": "2022-01-28T14:50:30.896Z"
   },
   {
    "duration": 5631,
    "start_time": "2022-01-28T14:50:30.909Z"
   },
   {
    "duration": 5621,
    "start_time": "2022-01-28T14:50:30.920Z"
   },
   {
    "duration": 5610,
    "start_time": "2022-01-28T14:50:30.932Z"
   },
   {
    "duration": 16,
    "start_time": "2022-01-28T14:54:06.240Z"
   },
   {
    "duration": 10,
    "start_time": "2022-01-28T14:54:26.522Z"
   },
   {
    "duration": 8,
    "start_time": "2022-01-28T14:56:35.580Z"
   },
   {
    "duration": 6,
    "start_time": "2022-01-28T14:56:57.133Z"
   },
   {
    "duration": 6,
    "start_time": "2022-01-28T14:57:25.085Z"
   },
   {
    "duration": 7,
    "start_time": "2022-01-28T14:57:31.374Z"
   },
   {
    "duration": 5,
    "start_time": "2022-01-28T14:58:10.475Z"
   },
   {
    "duration": 7,
    "start_time": "2022-01-28T14:58:39.620Z"
   },
   {
    "duration": 9,
    "start_time": "2022-01-28T14:59:07.848Z"
   },
   {
    "duration": 6,
    "start_time": "2022-01-28T14:59:16.603Z"
   },
   {
    "duration": 21,
    "start_time": "2022-01-28T14:59:30.807Z"
   },
   {
    "duration": 23,
    "start_time": "2022-01-28T15:00:18.581Z"
   },
   {
    "duration": 18,
    "start_time": "2022-01-28T15:00:32.176Z"
   },
   {
    "duration": 15,
    "start_time": "2022-01-28T15:01:15.394Z"
   },
   {
    "duration": 11,
    "start_time": "2022-01-28T15:01:21.795Z"
   },
   {
    "duration": 85,
    "start_time": "2022-01-28T15:01:31.588Z"
   },
   {
    "duration": 10,
    "start_time": "2022-01-28T15:01:31.675Z"
   },
   {
    "duration": 6,
    "start_time": "2022-01-28T15:01:59.840Z"
   },
   {
    "duration": 7,
    "start_time": "2022-01-28T15:02:24.793Z"
   },
   {
    "duration": 8,
    "start_time": "2022-01-28T15:02:50.232Z"
   },
   {
    "duration": 6,
    "start_time": "2022-01-28T15:03:00.816Z"
   },
   {
    "duration": 9,
    "start_time": "2022-01-28T15:03:12.500Z"
   },
   {
    "duration": 10,
    "start_time": "2022-01-28T15:03:18.402Z"
   },
   {
    "duration": 7,
    "start_time": "2022-01-28T15:03:37.514Z"
   },
   {
    "duration": 63,
    "start_time": "2022-01-28T15:03:59.620Z"
   },
   {
    "duration": 7,
    "start_time": "2022-01-28T15:03:59.685Z"
   },
   {
    "duration": 18,
    "start_time": "2022-01-28T15:03:59.694Z"
   },
   {
    "duration": 19,
    "start_time": "2022-01-28T15:03:59.713Z"
   },
   {
    "duration": 13,
    "start_time": "2022-01-28T15:03:59.733Z"
   },
   {
    "duration": 43,
    "start_time": "2022-01-28T15:03:59.747Z"
   },
   {
    "duration": 15,
    "start_time": "2022-01-28T15:03:59.792Z"
   },
   {
    "duration": 13,
    "start_time": "2022-01-28T15:03:59.810Z"
   },
   {
    "duration": 43,
    "start_time": "2022-01-28T15:03:59.825Z"
   },
   {
    "duration": 26,
    "start_time": "2022-01-28T15:03:59.872Z"
   },
   {
    "duration": 14,
    "start_time": "2022-01-28T15:03:59.899Z"
   },
   {
    "duration": 17,
    "start_time": "2022-01-28T15:03:59.915Z"
   },
   {
    "duration": 19,
    "start_time": "2022-01-28T15:03:59.933Z"
   },
   {
    "duration": 22,
    "start_time": "2022-01-28T15:03:59.953Z"
   },
   {
    "duration": 30,
    "start_time": "2022-01-28T15:03:59.976Z"
   },
   {
    "duration": 40,
    "start_time": "2022-01-28T15:04:00.007Z"
   },
   {
    "duration": 16,
    "start_time": "2022-01-28T15:04:00.048Z"
   },
   {
    "duration": 28,
    "start_time": "2022-01-28T15:04:00.066Z"
   },
   {
    "duration": 15,
    "start_time": "2022-01-28T15:04:00.095Z"
   },
   {
    "duration": 23,
    "start_time": "2022-01-28T15:04:00.112Z"
   },
   {
    "duration": 3220,
    "start_time": "2022-01-28T15:04:00.137Z"
   },
   {
    "duration": 15,
    "start_time": "2022-01-28T15:04:03.359Z"
   },
   {
    "duration": 28,
    "start_time": "2022-01-28T15:04:03.375Z"
   },
   {
    "duration": 33,
    "start_time": "2022-01-28T15:04:03.405Z"
   },
   {
    "duration": 181,
    "start_time": "2022-01-28T15:04:03.439Z"
   },
   {
    "duration": 5547,
    "start_time": "2022-01-28T15:03:58.074Z"
   },
   {
    "duration": 5539,
    "start_time": "2022-01-28T15:03:58.083Z"
   },
   {
    "duration": 5529,
    "start_time": "2022-01-28T15:03:58.094Z"
   },
   {
    "duration": 5478,
    "start_time": "2022-01-28T15:03:58.147Z"
   },
   {
    "duration": 5462,
    "start_time": "2022-01-28T15:03:58.165Z"
   },
   {
    "duration": 5452,
    "start_time": "2022-01-28T15:03:58.176Z"
   },
   {
    "duration": 5443,
    "start_time": "2022-01-28T15:03:58.186Z"
   },
   {
    "duration": 5436,
    "start_time": "2022-01-28T15:03:58.195Z"
   },
   {
    "duration": 5425,
    "start_time": "2022-01-28T15:03:58.207Z"
   },
   {
    "duration": 7,
    "start_time": "2022-01-28T15:04:11.016Z"
   },
   {
    "duration": 11,
    "start_time": "2022-01-28T15:04:51.766Z"
   },
   {
    "duration": 11,
    "start_time": "2022-01-28T15:05:38.279Z"
   },
   {
    "duration": 11,
    "start_time": "2022-01-28T15:07:04.960Z"
   },
   {
    "duration": 75,
    "start_time": "2022-01-28T15:07:38.774Z"
   },
   {
    "duration": 9,
    "start_time": "2022-01-28T15:07:45.243Z"
   },
   {
    "duration": 9,
    "start_time": "2022-01-28T15:08:05.321Z"
   },
   {
    "duration": 10,
    "start_time": "2022-01-28T15:08:25.180Z"
   },
   {
    "duration": 10,
    "start_time": "2022-01-28T15:08:44.282Z"
   },
   {
    "duration": 9,
    "start_time": "2022-01-28T15:08:56.889Z"
   },
   {
    "duration": 10,
    "start_time": "2022-01-28T15:09:08.079Z"
   },
   {
    "duration": 10,
    "start_time": "2022-01-28T15:09:19.031Z"
   },
   {
    "duration": 10,
    "start_time": "2022-01-28T15:09:35.827Z"
   },
   {
    "duration": 9,
    "start_time": "2022-01-28T15:09:53.593Z"
   },
   {
    "duration": 9,
    "start_time": "2022-01-28T15:10:06.909Z"
   },
   {
    "duration": 9,
    "start_time": "2022-01-28T15:10:20.384Z"
   },
   {
    "duration": 9,
    "start_time": "2022-01-28T15:10:30.030Z"
   },
   {
    "duration": 10,
    "start_time": "2022-01-28T15:10:38.395Z"
   },
   {
    "duration": 9,
    "start_time": "2022-01-28T15:10:52.687Z"
   },
   {
    "duration": 9,
    "start_time": "2022-01-28T15:11:02.726Z"
   },
   {
    "duration": 10,
    "start_time": "2022-01-28T15:11:23.156Z"
   },
   {
    "duration": 5794,
    "start_time": "2022-01-28T15:11:55.549Z"
   },
   {
    "duration": 5771,
    "start_time": "2022-01-28T15:12:08.983Z"
   },
   {
    "duration": 7987,
    "start_time": "2022-01-28T15:12:25.649Z"
   },
   {
    "duration": 57,
    "start_time": "2022-01-28T15:12:53.619Z"
   },
   {
    "duration": 9,
    "start_time": "2022-01-28T15:12:53.677Z"
   },
   {
    "duration": 19,
    "start_time": "2022-01-28T15:12:53.688Z"
   },
   {
    "duration": 22,
    "start_time": "2022-01-28T15:12:53.708Z"
   },
   {
    "duration": 18,
    "start_time": "2022-01-28T15:12:53.731Z"
   },
   {
    "duration": 19,
    "start_time": "2022-01-28T15:12:53.750Z"
   },
   {
    "duration": 32,
    "start_time": "2022-01-28T15:12:53.770Z"
   },
   {
    "duration": 14,
    "start_time": "2022-01-28T15:12:53.804Z"
   },
   {
    "duration": 25,
    "start_time": "2022-01-28T15:12:53.820Z"
   },
   {
    "duration": 30,
    "start_time": "2022-01-28T15:12:53.847Z"
   },
   {
    "duration": 26,
    "start_time": "2022-01-28T15:12:53.879Z"
   },
   {
    "duration": 15,
    "start_time": "2022-01-28T15:12:53.906Z"
   },
   {
    "duration": 21,
    "start_time": "2022-01-28T15:12:53.922Z"
   },
   {
    "duration": 19,
    "start_time": "2022-01-28T15:12:53.944Z"
   },
   {
    "duration": 14,
    "start_time": "2022-01-28T15:12:53.965Z"
   },
   {
    "duration": 37,
    "start_time": "2022-01-28T15:12:53.980Z"
   },
   {
    "duration": 18,
    "start_time": "2022-01-28T15:12:54.019Z"
   },
   {
    "duration": 15,
    "start_time": "2022-01-28T15:12:54.039Z"
   },
   {
    "duration": 10,
    "start_time": "2022-01-28T15:12:54.055Z"
   },
   {
    "duration": 9,
    "start_time": "2022-01-28T15:12:54.066Z"
   },
   {
    "duration": 9,
    "start_time": "2022-01-28T15:12:54.076Z"
   },
   {
    "duration": 3193,
    "start_time": "2022-01-28T15:12:54.087Z"
   },
   {
    "duration": 6,
    "start_time": "2022-01-28T15:12:57.282Z"
   },
   {
    "duration": 17,
    "start_time": "2022-01-28T15:13:28.963Z"
   },
   {
    "duration": 292,
    "start_time": "2022-01-28T15:14:44.631Z"
   },
   {
    "duration": 15,
    "start_time": "2022-01-28T15:15:23.066Z"
   },
   {
    "duration": 10,
    "start_time": "2022-01-28T15:15:48.379Z"
   },
   {
    "duration": 71,
    "start_time": "2022-01-28T15:16:04.310Z"
   },
   {
    "duration": 9,
    "start_time": "2022-01-28T15:16:04.383Z"
   },
   {
    "duration": 7,
    "start_time": "2022-01-28T15:16:04.394Z"
   },
   {
    "duration": 9,
    "start_time": "2022-01-28T15:16:04.403Z"
   },
   {
    "duration": 5,
    "start_time": "2022-01-28T15:16:04.413Z"
   },
   {
    "duration": 9,
    "start_time": "2022-01-28T15:16:04.419Z"
   },
   {
    "duration": 59,
    "start_time": "2022-01-28T15:16:04.429Z"
   },
   {
    "duration": 12,
    "start_time": "2022-01-28T15:16:04.490Z"
   },
   {
    "duration": 14,
    "start_time": "2022-01-28T15:16:04.503Z"
   },
   {
    "duration": 31,
    "start_time": "2022-01-28T15:16:04.518Z"
   },
   {
    "duration": 14,
    "start_time": "2022-01-28T15:16:24.923Z"
   },
   {
    "duration": 10,
    "start_time": "2022-01-28T15:16:39.437Z"
   },
   {
    "duration": 3262,
    "start_time": "2022-01-28T15:17:03.532Z"
   },
   {
    "duration": 3029,
    "start_time": "2022-01-28T15:17:16.489Z"
   },
   {
    "duration": 14,
    "start_time": "2022-01-28T15:17:28.527Z"
   },
   {
    "duration": 9,
    "start_time": "2022-01-28T15:17:36.558Z"
   },
   {
    "duration": 15,
    "start_time": "2022-01-28T15:17:42.292Z"
   },
   {
    "duration": 10,
    "start_time": "2022-01-28T15:17:53.815Z"
   },
   {
    "duration": 7,
    "start_time": "2022-01-28T15:19:45.597Z"
   },
   {
    "duration": 5,
    "start_time": "2022-01-28T15:20:16.497Z"
   },
   {
    "duration": 478,
    "start_time": "2022-01-28T15:20:27.277Z"
   },
   {
    "duration": 5,
    "start_time": "2022-01-28T15:20:39.718Z"
   },
   {
    "duration": 6,
    "start_time": "2022-01-28T15:21:14.529Z"
   },
   {
    "duration": 313,
    "start_time": "2022-01-28T15:23:32.788Z"
   },
   {
    "duration": 313,
    "start_time": "2022-01-28T15:24:26.905Z"
   },
   {
    "duration": 311,
    "start_time": "2022-01-28T15:24:58.395Z"
   },
   {
    "duration": 383,
    "start_time": "2022-01-28T15:49:15.720Z"
   },
   {
    "duration": 319,
    "start_time": "2022-01-28T15:49:36.726Z"
   },
   {
    "duration": 358,
    "start_time": "2022-01-28T15:50:05.708Z"
   },
   {
    "duration": 620,
    "start_time": "2022-01-28T15:51:26.059Z"
   },
   {
    "duration": 291,
    "start_time": "2022-01-28T15:51:33.463Z"
   },
   {
    "duration": 317,
    "start_time": "2022-01-28T15:51:52.078Z"
   },
   {
    "duration": 8487,
    "start_time": "2022-01-28T15:57:18.096Z"
   },
   {
    "duration": 5,
    "start_time": "2022-01-28T16:19:02.574Z"
   },
   {
    "duration": 5,
    "start_time": "2022-01-28T16:20:06.655Z"
   },
   {
    "duration": 7747,
    "start_time": "2022-01-28T16:22:10.455Z"
   },
   {
    "duration": 309,
    "start_time": "2022-01-28T16:22:36.190Z"
   },
   {
    "duration": 310,
    "start_time": "2022-01-28T16:30:57.806Z"
   },
   {
    "duration": 101,
    "start_time": "2022-01-29T04:50:29.696Z"
   },
   {
    "duration": 4,
    "start_time": "2022-01-29T04:50:41.751Z"
   },
   {
    "duration": 285,
    "start_time": "2022-01-29T04:51:42.023Z"
   },
   {
    "duration": 1314,
    "start_time": "2022-01-29T04:51:54.807Z"
   },
   {
    "duration": 13,
    "start_time": "2022-01-29T04:51:56.123Z"
   },
   {
    "duration": 11,
    "start_time": "2022-01-29T04:51:56.138Z"
   },
   {
    "duration": 13,
    "start_time": "2022-01-29T04:51:56.152Z"
   },
   {
    "duration": 8,
    "start_time": "2022-01-29T04:51:56.168Z"
   },
   {
    "duration": 13,
    "start_time": "2022-01-29T04:51:56.209Z"
   },
   {
    "duration": 33,
    "start_time": "2022-01-29T04:51:56.224Z"
   },
   {
    "duration": 49,
    "start_time": "2022-01-29T04:51:56.261Z"
   },
   {
    "duration": 20,
    "start_time": "2022-01-29T04:51:56.313Z"
   },
   {
    "duration": 39,
    "start_time": "2022-01-29T04:51:56.335Z"
   },
   {
    "duration": 59,
    "start_time": "2022-01-29T04:51:56.376Z"
   },
   {
    "duration": 21,
    "start_time": "2022-01-29T04:51:56.437Z"
   },
   {
    "duration": 8,
    "start_time": "2022-01-29T04:51:56.460Z"
   },
   {
    "duration": 37,
    "start_time": "2022-01-29T04:51:56.470Z"
   },
   {
    "duration": 6,
    "start_time": "2022-01-29T04:51:56.510Z"
   },
   {
    "duration": 15,
    "start_time": "2022-01-29T04:51:56.518Z"
   },
   {
    "duration": 9,
    "start_time": "2022-01-29T04:51:56.536Z"
   },
   {
    "duration": 8,
    "start_time": "2022-01-29T04:51:56.547Z"
   },
   {
    "duration": 8,
    "start_time": "2022-01-29T04:51:56.557Z"
   },
   {
    "duration": 6,
    "start_time": "2022-01-29T04:51:56.567Z"
   },
   {
    "duration": 10,
    "start_time": "2022-01-29T04:51:56.607Z"
   },
   {
    "duration": 7,
    "start_time": "2022-01-29T04:51:56.619Z"
   },
   {
    "duration": 3685,
    "start_time": "2022-01-29T04:51:56.629Z"
   },
   {
    "duration": 9,
    "start_time": "2022-01-29T04:52:00.316Z"
   },
   {
    "duration": 25,
    "start_time": "2022-01-29T04:52:00.327Z"
   },
   {
    "duration": 27,
    "start_time": "2022-01-29T04:52:00.354Z"
   },
   {
    "duration": 380,
    "start_time": "2022-01-29T04:52:05.949Z"
   },
   {
    "duration": 388,
    "start_time": "2022-01-29T04:52:14.184Z"
   },
   {
    "duration": 359,
    "start_time": "2022-01-29T04:52:37.744Z"
   },
   {
    "duration": 3,
    "start_time": "2022-01-29T04:54:01.195Z"
   },
   {
    "duration": 289,
    "start_time": "2022-01-29T04:54:01.936Z"
   },
   {
    "duration": 272,
    "start_time": "2022-01-29T04:55:55.354Z"
   },
   {
    "duration": 283,
    "start_time": "2022-01-29T05:09:13.661Z"
   },
   {
    "duration": 304,
    "start_time": "2022-01-29T05:11:15.078Z"
   },
   {
    "duration": 288,
    "start_time": "2022-01-29T05:11:52.069Z"
   },
   {
    "duration": 15,
    "start_time": "2022-01-29T05:40:08.714Z"
   },
   {
    "duration": 14,
    "start_time": "2022-01-29T05:40:36.852Z"
   },
   {
    "duration": 325,
    "start_time": "2022-01-29T05:49:17.144Z"
   },
   {
    "duration": 356,
    "start_time": "2022-01-29T05:53:52.679Z"
   },
   {
    "duration": 263,
    "start_time": "2022-01-29T05:54:43.008Z"
   },
   {
    "duration": 335,
    "start_time": "2022-01-29T05:58:39.571Z"
   },
   {
    "duration": 417,
    "start_time": "2022-01-29T05:59:19.779Z"
   },
   {
    "duration": 18,
    "start_time": "2022-01-29T06:00:17.160Z"
   },
   {
    "duration": 19,
    "start_time": "2022-01-29T06:00:29.096Z"
   },
   {
    "duration": 19,
    "start_time": "2022-01-29T06:00:52.901Z"
   },
   {
    "duration": 381,
    "start_time": "2022-01-29T06:05:46.376Z"
   },
   {
    "duration": 20,
    "start_time": "2022-01-29T06:06:28.139Z"
   },
   {
    "duration": 6400,
    "start_time": "2022-01-29T06:07:12.246Z"
   },
   {
    "duration": 5,
    "start_time": "2022-01-29T06:14:55.162Z"
   },
   {
    "duration": 292,
    "start_time": "2022-01-29T06:23:05.498Z"
   },
   {
    "duration": 10540,
    "start_time": "2022-01-29T06:23:17.764Z"
   },
   {
    "duration": 123,
    "start_time": "2022-01-29T06:23:38.434Z"
   },
   {
    "duration": 19,
    "start_time": "2022-01-29T06:28:23.286Z"
   },
   {
    "duration": 9,
    "start_time": "2022-01-29T06:29:13.243Z"
   },
   {
    "duration": 9,
    "start_time": "2022-01-29T06:29:57.748Z"
   },
   {
    "duration": 10,
    "start_time": "2022-01-29T06:43:16.626Z"
   },
   {
    "duration": 19,
    "start_time": "2022-01-29T07:03:27.375Z"
   },
   {
    "duration": 344,
    "start_time": "2022-01-29T07:09:50.884Z"
   },
   {
    "duration": 9,
    "start_time": "2022-01-29T07:10:13.690Z"
   },
   {
    "duration": 3,
    "start_time": "2022-01-29T07:25:57.117Z"
   },
   {
    "duration": 300,
    "start_time": "2022-01-29T07:26:02.401Z"
   },
   {
    "duration": 256,
    "start_time": "2022-01-29T07:27:04.212Z"
   },
   {
    "duration": 3,
    "start_time": "2022-01-29T07:27:12.185Z"
   },
   {
    "duration": 259,
    "start_time": "2022-01-29T07:27:13.160Z"
   },
   {
    "duration": 3,
    "start_time": "2022-01-29T07:28:45.681Z"
   },
   {
    "duration": 269,
    "start_time": "2022-01-29T07:29:29.746Z"
   },
   {
    "duration": 19,
    "start_time": "2022-01-29T07:30:27.881Z"
   },
   {
    "duration": 20,
    "start_time": "2022-01-29T07:30:56.335Z"
   },
   {
    "duration": 84,
    "start_time": "2022-01-29T07:31:00.475Z"
   },
   {
    "duration": 94,
    "start_time": "2022-01-29T07:31:09.354Z"
   },
   {
    "duration": 12,
    "start_time": "2022-01-29T07:31:09.450Z"
   },
   {
    "duration": 10,
    "start_time": "2022-01-29T07:31:09.465Z"
   },
   {
    "duration": 33,
    "start_time": "2022-01-29T07:31:09.477Z"
   },
   {
    "duration": 8,
    "start_time": "2022-01-29T07:31:09.512Z"
   },
   {
    "duration": 13,
    "start_time": "2022-01-29T07:31:09.522Z"
   },
   {
    "duration": 31,
    "start_time": "2022-01-29T07:31:09.537Z"
   },
   {
    "duration": 16,
    "start_time": "2022-01-29T07:31:09.607Z"
   },
   {
    "duration": 18,
    "start_time": "2022-01-29T07:31:09.626Z"
   },
   {
    "duration": 69,
    "start_time": "2022-01-29T07:31:09.646Z"
   },
   {
    "duration": 36,
    "start_time": "2022-01-29T07:31:09.717Z"
   },
   {
    "duration": 23,
    "start_time": "2022-01-29T07:31:09.755Z"
   },
   {
    "duration": 33,
    "start_time": "2022-01-29T07:31:09.780Z"
   },
   {
    "duration": 16,
    "start_time": "2022-01-29T07:31:09.815Z"
   },
   {
    "duration": 7,
    "start_time": "2022-01-29T07:31:09.833Z"
   },
   {
    "duration": 11,
    "start_time": "2022-01-29T07:31:09.842Z"
   },
   {
    "duration": 14,
    "start_time": "2022-01-29T07:31:09.855Z"
   },
   {
    "duration": 42,
    "start_time": "2022-01-29T07:31:09.871Z"
   },
   {
    "duration": 8,
    "start_time": "2022-01-29T07:31:09.914Z"
   },
   {
    "duration": 10,
    "start_time": "2022-01-29T07:31:09.924Z"
   },
   {
    "duration": 9,
    "start_time": "2022-01-29T07:31:09.936Z"
   },
   {
    "duration": 9,
    "start_time": "2022-01-29T07:31:09.947Z"
   },
   {
    "duration": 4015,
    "start_time": "2022-01-29T07:31:09.959Z"
   },
   {
    "duration": 9,
    "start_time": "2022-01-29T07:31:13.977Z"
   },
   {
    "duration": 32,
    "start_time": "2022-01-29T07:31:13.988Z"
   },
   {
    "duration": 4,
    "start_time": "2022-01-29T07:31:14.022Z"
   },
   {
    "duration": 485,
    "start_time": "2022-01-29T07:31:14.029Z"
   },
   {
    "duration": 4,
    "start_time": "2022-01-29T07:31:14.516Z"
   },
   {
    "duration": 295,
    "start_time": "2022-01-29T07:31:14.522Z"
   },
   {
    "duration": 4,
    "start_time": "2022-01-29T07:31:14.819Z"
   },
   {
    "duration": 291,
    "start_time": "2022-01-29T07:31:14.825Z"
   },
   {
    "duration": 127,
    "start_time": "2022-01-29T07:31:15.118Z"
   },
   {
    "duration": 6318,
    "start_time": "2022-01-29T07:31:08.929Z"
   },
   {
    "duration": 6307,
    "start_time": "2022-01-29T07:31:08.942Z"
   },
   {
    "duration": 6297,
    "start_time": "2022-01-29T07:31:08.953Z"
   },
   {
    "duration": 6286,
    "start_time": "2022-01-29T07:31:08.965Z"
   },
   {
    "duration": 11,
    "start_time": "2022-01-29T07:31:23.287Z"
   },
   {
    "duration": 19,
    "start_time": "2022-01-29T07:31:27.948Z"
   },
   {
    "duration": 19,
    "start_time": "2022-01-29T07:31:49.707Z"
   },
   {
    "duration": 12,
    "start_time": "2022-01-29T07:34:02.480Z"
   },
   {
    "duration": 9,
    "start_time": "2022-01-29T07:39:13.557Z"
   },
   {
    "duration": 20,
    "start_time": "2022-01-29T07:43:35.389Z"
   },
   {
    "duration": 11,
    "start_time": "2022-01-29T07:43:38.811Z"
   },
   {
    "duration": 11,
    "start_time": "2022-01-29T07:44:36.861Z"
   },
   {
    "duration": 10,
    "start_time": "2022-01-29T07:48:35.811Z"
   },
   {
    "duration": 11,
    "start_time": "2022-01-29T07:55:47.410Z"
   },
   {
    "duration": 10,
    "start_time": "2022-01-29T07:56:13.320Z"
   },
   {
    "duration": 16,
    "start_time": "2022-01-29T07:57:17.397Z"
   },
   {
    "duration": 12,
    "start_time": "2022-01-29T07:57:19.998Z"
   },
   {
    "duration": 11,
    "start_time": "2022-01-29T07:57:25.167Z"
   },
   {
    "duration": 16,
    "start_time": "2022-01-29T08:08:14.215Z"
   },
   {
    "duration": 11,
    "start_time": "2022-01-29T08:08:40.979Z"
   },
   {
    "duration": 258,
    "start_time": "2022-01-29T08:09:41.588Z"
   },
   {
    "duration": 9,
    "start_time": "2022-01-29T08:11:43.911Z"
   },
   {
    "duration": 10,
    "start_time": "2022-01-29T08:11:45.453Z"
   },
   {
    "duration": 11,
    "start_time": "2022-01-29T08:12:21.736Z"
   },
   {
    "duration": 91,
    "start_time": "2022-01-29T08:13:26.323Z"
   },
   {
    "duration": 13,
    "start_time": "2022-01-29T08:13:26.416Z"
   },
   {
    "duration": 11,
    "start_time": "2022-01-29T08:13:26.431Z"
   },
   {
    "duration": 12,
    "start_time": "2022-01-29T08:13:26.444Z"
   },
   {
    "duration": 6,
    "start_time": "2022-01-29T08:13:26.458Z"
   },
   {
    "duration": 50,
    "start_time": "2022-01-29T08:13:26.466Z"
   },
   {
    "duration": 30,
    "start_time": "2022-01-29T08:13:26.518Z"
   },
   {
    "duration": 14,
    "start_time": "2022-01-29T08:13:26.551Z"
   },
   {
    "duration": 50,
    "start_time": "2022-01-29T08:13:26.567Z"
   },
   {
    "duration": 39,
    "start_time": "2022-01-29T08:13:26.619Z"
   },
   {
    "duration": 63,
    "start_time": "2022-01-29T08:13:26.660Z"
   },
   {
    "duration": 20,
    "start_time": "2022-01-29T08:13:26.725Z"
   },
   {
    "duration": 14,
    "start_time": "2022-01-29T08:13:26.747Z"
   },
   {
    "duration": 14,
    "start_time": "2022-01-29T08:13:26.763Z"
   },
   {
    "duration": 36,
    "start_time": "2022-01-29T08:13:26.779Z"
   },
   {
    "duration": 6,
    "start_time": "2022-01-29T08:13:26.816Z"
   },
   {
    "duration": 9,
    "start_time": "2022-01-29T08:13:26.824Z"
   },
   {
    "duration": 9,
    "start_time": "2022-01-29T08:13:26.835Z"
   },
   {
    "duration": 7,
    "start_time": "2022-01-29T08:13:26.846Z"
   },
   {
    "duration": 7,
    "start_time": "2022-01-29T08:13:26.855Z"
   },
   {
    "duration": 45,
    "start_time": "2022-01-29T08:13:26.864Z"
   },
   {
    "duration": 8,
    "start_time": "2022-01-29T08:13:26.912Z"
   },
   {
    "duration": 9,
    "start_time": "2022-01-29T08:13:26.922Z"
   },
   {
    "duration": 3922,
    "start_time": "2022-01-29T08:13:26.933Z"
   },
   {
    "duration": 8,
    "start_time": "2022-01-29T08:13:30.857Z"
   },
   {
    "duration": 22,
    "start_time": "2022-01-29T08:13:30.867Z"
   },
   {
    "duration": 16,
    "start_time": "2022-01-29T08:13:30.891Z"
   },
   {
    "duration": 373,
    "start_time": "2022-01-29T08:13:30.910Z"
   },
   {
    "duration": 3,
    "start_time": "2022-01-29T08:13:31.285Z"
   },
   {
    "duration": 293,
    "start_time": "2022-01-29T08:13:31.290Z"
   },
   {
    "duration": 3,
    "start_time": "2022-01-29T08:13:31.585Z"
   },
   {
    "duration": 362,
    "start_time": "2022-01-29T08:13:31.590Z"
   },
   {
    "duration": 88,
    "start_time": "2022-01-29T08:13:31.954Z"
   },
   {
    "duration": 6350,
    "start_time": "2022-01-29T08:13:25.695Z"
   },
   {
    "duration": 6339,
    "start_time": "2022-01-29T08:13:25.708Z"
   },
   {
    "duration": 6325,
    "start_time": "2022-01-29T08:13:25.723Z"
   },
   {
    "duration": 6312,
    "start_time": "2022-01-29T08:13:25.738Z"
   },
   {
    "duration": 6297,
    "start_time": "2022-01-29T08:13:25.755Z"
   },
   {
    "duration": 6243,
    "start_time": "2022-01-29T08:13:25.810Z"
   },
   {
    "duration": 6231,
    "start_time": "2022-01-29T08:13:25.824Z"
   },
   {
    "duration": 6218,
    "start_time": "2022-01-29T08:13:25.838Z"
   },
   {
    "duration": 6205,
    "start_time": "2022-01-29T08:13:25.852Z"
   },
   {
    "duration": 6192,
    "start_time": "2022-01-29T08:13:25.866Z"
   },
   {
    "duration": 6178,
    "start_time": "2022-01-29T08:13:25.881Z"
   },
   {
    "duration": 279,
    "start_time": "2022-01-29T08:14:49.683Z"
   },
   {
    "duration": 1620,
    "start_time": "2022-01-30T11:37:43.184Z"
   },
   {
    "duration": 14,
    "start_time": "2022-01-30T11:37:44.807Z"
   },
   {
    "duration": 25,
    "start_time": "2022-01-30T11:37:44.824Z"
   },
   {
    "duration": 14,
    "start_time": "2022-01-30T11:37:44.852Z"
   },
   {
    "duration": 9,
    "start_time": "2022-01-30T11:37:44.868Z"
   },
   {
    "duration": 38,
    "start_time": "2022-01-30T11:37:44.879Z"
   },
   {
    "duration": 34,
    "start_time": "2022-01-30T11:37:44.919Z"
   },
   {
    "duration": 16,
    "start_time": "2022-01-30T11:37:44.955Z"
   },
   {
    "duration": 48,
    "start_time": "2022-01-30T11:37:44.973Z"
   },
   {
    "duration": 42,
    "start_time": "2022-01-30T11:37:45.024Z"
   },
   {
    "duration": 56,
    "start_time": "2022-01-30T11:37:45.068Z"
   },
   {
    "duration": 18,
    "start_time": "2022-01-30T11:37:45.126Z"
   },
   {
    "duration": 9,
    "start_time": "2022-01-30T11:37:45.146Z"
   },
   {
    "duration": 17,
    "start_time": "2022-01-30T11:37:45.156Z"
   },
   {
    "duration": 33,
    "start_time": "2022-01-30T11:37:45.175Z"
   },
   {
    "duration": 7,
    "start_time": "2022-01-30T11:37:45.210Z"
   },
   {
    "duration": 19,
    "start_time": "2022-01-30T11:37:45.219Z"
   },
   {
    "duration": 13,
    "start_time": "2022-01-30T11:37:45.240Z"
   },
   {
    "duration": 9,
    "start_time": "2022-01-30T11:37:45.255Z"
   },
   {
    "duration": 14,
    "start_time": "2022-01-30T11:37:45.266Z"
   },
   {
    "duration": 30,
    "start_time": "2022-01-30T11:37:45.282Z"
   },
   {
    "duration": 9,
    "start_time": "2022-01-30T11:37:45.314Z"
   },
   {
    "duration": 9,
    "start_time": "2022-01-30T11:37:45.327Z"
   },
   {
    "duration": 3946,
    "start_time": "2022-01-30T11:37:45.339Z"
   },
   {
    "duration": 21,
    "start_time": "2022-01-30T11:37:49.288Z"
   },
   {
    "duration": 17,
    "start_time": "2022-01-30T11:37:49.311Z"
   },
   {
    "duration": 3,
    "start_time": "2022-01-30T11:37:49.330Z"
   },
   {
    "duration": 402,
    "start_time": "2022-01-30T11:37:49.335Z"
   },
   {
    "duration": 4,
    "start_time": "2022-01-30T11:37:49.739Z"
   },
   {
    "duration": 305,
    "start_time": "2022-01-30T11:37:49.744Z"
   },
   {
    "duration": 3,
    "start_time": "2022-01-30T11:37:50.052Z"
   },
   {
    "duration": 277,
    "start_time": "2022-01-30T11:37:50.057Z"
   },
   {
    "duration": 83,
    "start_time": "2022-01-30T11:37:50.336Z"
   },
   {
    "duration": -66,
    "start_time": "2022-01-30T11:37:50.487Z"
   },
   {
    "duration": -79,
    "start_time": "2022-01-30T11:37:50.501Z"
   },
   {
    "duration": -90,
    "start_time": "2022-01-30T11:37:50.513Z"
   },
   {
    "duration": -98,
    "start_time": "2022-01-30T11:37:50.523Z"
   },
   {
    "duration": -107,
    "start_time": "2022-01-30T11:37:50.533Z"
   },
   {
    "duration": -117,
    "start_time": "2022-01-30T11:37:50.544Z"
   },
   {
    "duration": -157,
    "start_time": "2022-01-30T11:37:50.585Z"
   },
   {
    "duration": -166,
    "start_time": "2022-01-30T11:37:50.595Z"
   },
   {
    "duration": -174,
    "start_time": "2022-01-30T11:37:50.605Z"
   },
   {
    "duration": -183,
    "start_time": "2022-01-30T11:37:50.615Z"
   },
   {
    "duration": -192,
    "start_time": "2022-01-30T11:37:50.625Z"
   },
   {
    "duration": 422,
    "start_time": "2022-01-30T11:38:16.555Z"
   },
   {
    "duration": 84,
    "start_time": "2022-01-30T11:38:27.717Z"
   },
   {
    "duration": 11,
    "start_time": "2022-01-30T11:38:27.803Z"
   },
   {
    "duration": 15,
    "start_time": "2022-01-30T11:38:27.816Z"
   },
   {
    "duration": 21,
    "start_time": "2022-01-30T11:38:27.833Z"
   },
   {
    "duration": 14,
    "start_time": "2022-01-30T11:38:27.857Z"
   },
   {
    "duration": 19,
    "start_time": "2022-01-30T11:38:27.873Z"
   },
   {
    "duration": 34,
    "start_time": "2022-01-30T11:38:27.908Z"
   },
   {
    "duration": 14,
    "start_time": "2022-01-30T11:38:27.945Z"
   },
   {
    "duration": 52,
    "start_time": "2022-01-30T11:38:27.961Z"
   },
   {
    "duration": 38,
    "start_time": "2022-01-30T11:38:28.014Z"
   },
   {
    "duration": 57,
    "start_time": "2022-01-30T11:38:28.054Z"
   },
   {
    "duration": 18,
    "start_time": "2022-01-30T11:38:28.113Z"
   },
   {
    "duration": 19,
    "start_time": "2022-01-30T11:38:28.133Z"
   },
   {
    "duration": 17,
    "start_time": "2022-01-30T11:38:28.154Z"
   },
   {
    "duration": 31,
    "start_time": "2022-01-30T11:38:28.173Z"
   },
   {
    "duration": 12,
    "start_time": "2022-01-30T11:38:28.206Z"
   },
   {
    "duration": 27,
    "start_time": "2022-01-30T11:38:28.220Z"
   },
   {
    "duration": 27,
    "start_time": "2022-01-30T11:38:28.249Z"
   },
   {
    "duration": 20,
    "start_time": "2022-01-30T11:38:28.278Z"
   },
   {
    "duration": 15,
    "start_time": "2022-01-30T11:38:28.299Z"
   },
   {
    "duration": 23,
    "start_time": "2022-01-30T11:38:28.316Z"
   },
   {
    "duration": 19,
    "start_time": "2022-01-30T11:38:28.342Z"
   },
   {
    "duration": 18,
    "start_time": "2022-01-30T11:38:28.365Z"
   },
   {
    "duration": 3883,
    "start_time": "2022-01-30T11:38:28.385Z"
   },
   {
    "duration": 9,
    "start_time": "2022-01-30T11:38:32.271Z"
   },
   {
    "duration": 36,
    "start_time": "2022-01-30T11:38:32.282Z"
   },
   {
    "duration": 6,
    "start_time": "2022-01-30T11:38:32.320Z"
   },
   {
    "duration": 393,
    "start_time": "2022-01-30T11:38:32.327Z"
   },
   {
    "duration": 4,
    "start_time": "2022-01-30T11:38:32.722Z"
   },
   {
    "duration": 304,
    "start_time": "2022-01-30T11:38:32.728Z"
   },
   {
    "duration": 3,
    "start_time": "2022-01-30T11:38:33.034Z"
   },
   {
    "duration": 271,
    "start_time": "2022-01-30T11:38:33.039Z"
   },
   {
    "duration": 82,
    "start_time": "2022-01-30T11:38:33.312Z"
   },
   {
    "duration": -61,
    "start_time": "2022-01-30T11:38:33.456Z"
   },
   {
    "duration": -79,
    "start_time": "2022-01-30T11:38:33.475Z"
   },
   {
    "duration": -111,
    "start_time": "2022-01-30T11:38:33.508Z"
   },
   {
    "duration": -143,
    "start_time": "2022-01-30T11:38:33.541Z"
   },
   {
    "duration": -171,
    "start_time": "2022-01-30T11:38:33.570Z"
   },
   {
    "duration": -183,
    "start_time": "2022-01-30T11:38:33.583Z"
   },
   {
    "duration": -193,
    "start_time": "2022-01-30T11:38:33.594Z"
   },
   {
    "duration": -224,
    "start_time": "2022-01-30T11:38:33.626Z"
   },
   {
    "duration": -250,
    "start_time": "2022-01-30T11:38:33.653Z"
   },
   {
    "duration": -261,
    "start_time": "2022-01-30T11:38:33.665Z"
   },
   {
    "duration": -270,
    "start_time": "2022-01-30T11:38:33.675Z"
   },
   {
    "duration": 94,
    "start_time": "2022-01-30T11:38:38.715Z"
   },
   {
    "duration": 12,
    "start_time": "2022-01-30T11:38:39.374Z"
   },
   {
    "duration": 11,
    "start_time": "2022-01-30T11:38:42.013Z"
   },
   {
    "duration": 18,
    "start_time": "2022-01-30T11:38:43.173Z"
   },
   {
    "duration": 8,
    "start_time": "2022-01-30T11:38:43.845Z"
   },
   {
    "duration": 12,
    "start_time": "2022-01-30T11:38:44.525Z"
   },
   {
    "duration": 31,
    "start_time": "2022-01-30T11:38:44.863Z"
   },
   {
    "duration": 16,
    "start_time": "2022-01-30T11:38:46.470Z"
   },
   {
    "duration": 18,
    "start_time": "2022-01-30T11:38:48.401Z"
   },
   {
    "duration": 38,
    "start_time": "2022-01-30T11:38:48.949Z"
   },
   {
    "duration": 34,
    "start_time": "2022-01-30T11:38:50.901Z"
   },
   {
    "duration": 19,
    "start_time": "2022-01-30T11:38:52.253Z"
   },
   {
    "duration": 8,
    "start_time": "2022-01-30T11:38:52.852Z"
   },
   {
    "duration": 10,
    "start_time": "2022-01-30T11:38:54.124Z"
   },
   {
    "duration": 10,
    "start_time": "2022-01-30T11:38:54.741Z"
   },
   {
    "duration": 7,
    "start_time": "2022-01-30T11:38:56.076Z"
   },
   {
    "duration": 10,
    "start_time": "2022-01-30T11:38:56.686Z"
   },
   {
    "duration": 13,
    "start_time": "2022-01-30T11:38:57.332Z"
   },
   {
    "duration": 11,
    "start_time": "2022-01-30T11:38:58.054Z"
   },
   {
    "duration": 8,
    "start_time": "2022-01-30T11:38:58.703Z"
   },
   {
    "duration": 6,
    "start_time": "2022-01-30T11:38:59.253Z"
   },
   {
    "duration": 9,
    "start_time": "2022-01-30T11:38:59.862Z"
   },
   {
    "duration": 6,
    "start_time": "2022-01-30T11:39:00.559Z"
   },
   {
    "duration": 3883,
    "start_time": "2022-01-30T11:39:03.560Z"
   },
   {
    "duration": 8,
    "start_time": "2022-01-30T11:39:07.445Z"
   },
   {
    "duration": 23,
    "start_time": "2022-01-30T11:39:07.456Z"
   },
   {
    "duration": 12,
    "start_time": "2022-01-30T11:39:07.481Z"
   },
   {
    "duration": 385,
    "start_time": "2022-01-30T11:39:07.495Z"
   },
   {
    "duration": 4,
    "start_time": "2022-01-30T11:39:07.882Z"
   },
   {
    "duration": 305,
    "start_time": "2022-01-30T11:39:07.889Z"
   },
   {
    "duration": 3,
    "start_time": "2022-01-30T11:39:08.196Z"
   },
   {
    "duration": 269,
    "start_time": "2022-01-30T11:39:08.201Z"
   },
   {
    "duration": 89,
    "start_time": "2022-01-30T11:39:10.185Z"
   },
   {
    "duration": 105,
    "start_time": "2022-01-30T11:39:11.062Z"
   },
   {
    "duration": 99,
    "start_time": "2022-01-30T11:39:11.765Z"
   },
   {
    "duration": 254,
    "start_time": "2022-01-30T11:39:12.749Z"
   },
   {
    "duration": 19,
    "start_time": "2022-01-30T11:39:16.631Z"
   },
   {
    "duration": 14,
    "start_time": "2022-01-30T11:39:17.869Z"
   },
   {
    "duration": 15,
    "start_time": "2022-01-30T11:39:19.973Z"
   },
   {
    "duration": 10,
    "start_time": "2022-01-30T11:39:20.734Z"
   },
   {
    "duration": 264,
    "start_time": "2022-01-30T11:39:26.750Z"
   },
   {
    "duration": 258,
    "start_time": "2022-01-30T11:39:27.319Z"
   },
   {
    "duration": 17,
    "start_time": "2022-01-30T11:40:43.763Z"
   },
   {
    "duration": 12,
    "start_time": "2022-01-30T11:40:51.242Z"
   },
   {
    "duration": 270,
    "start_time": "2022-01-30T11:41:21.700Z"
   },
   {
    "duration": 285,
    "start_time": "2022-01-30T11:42:01.997Z"
   },
   {
    "duration": 16,
    "start_time": "2022-01-30T11:49:56.720Z"
   },
   {
    "duration": 80,
    "start_time": "2022-01-30T11:55:41.828Z"
   },
   {
    "duration": 272,
    "start_time": "2022-01-30T11:55:50.624Z"
   },
   {
    "duration": 17,
    "start_time": "2022-01-30T11:59:04.170Z"
   },
   {
    "duration": 16,
    "start_time": "2022-01-30T11:59:08.385Z"
   },
   {
    "duration": 27,
    "start_time": "2022-01-30T11:59:17.082Z"
   },
   {
    "duration": 274,
    "start_time": "2022-01-30T11:59:41.394Z"
   },
   {
    "duration": 262,
    "start_time": "2022-01-30T11:59:58.746Z"
   },
   {
    "duration": 23,
    "start_time": "2022-01-30T12:22:45.841Z"
   },
   {
    "duration": 259,
    "start_time": "2022-01-30T14:20:39.966Z"
   },
   {
    "duration": 3,
    "start_time": "2022-01-30T14:20:46.618Z"
   },
   {
    "duration": 260,
    "start_time": "2022-01-30T14:20:49.019Z"
   },
   {
    "duration": 15,
    "start_time": "2022-01-30T14:24:21.336Z"
   },
   {
    "duration": 20,
    "start_time": "2022-01-30T14:24:39.730Z"
   },
   {
    "duration": 23,
    "start_time": "2022-01-30T14:28:35.076Z"
   },
   {
    "duration": 15,
    "start_time": "2022-01-30T14:34:04.428Z"
   },
   {
    "duration": 20,
    "start_time": "2022-01-30T14:50:12.673Z"
   },
   {
    "duration": 98,
    "start_time": "2022-01-30T14:52:33.907Z"
   },
   {
    "duration": 32,
    "start_time": "2022-01-30T14:52:46.056Z"
   },
   {
    "duration": 45,
    "start_time": "2022-01-30T14:55:47.365Z"
   },
   {
    "duration": 23,
    "start_time": "2022-01-30T14:57:18.715Z"
   },
   {
    "duration": 378,
    "start_time": "2022-01-30T14:58:37.705Z"
   },
   {
    "duration": 369,
    "start_time": "2022-01-30T14:59:17.716Z"
   },
   {
    "duration": 3,
    "start_time": "2022-01-30T15:00:34.302Z"
   },
   {
    "duration": 384,
    "start_time": "2022-01-30T15:00:35.405Z"
   },
   {
    "duration": 371,
    "start_time": "2022-01-30T15:00:40.194Z"
   },
   {
    "duration": 3,
    "start_time": "2022-01-30T15:01:22.581Z"
   },
   {
    "duration": 373,
    "start_time": "2022-01-30T15:01:25.436Z"
   },
   {
    "duration": 3,
    "start_time": "2022-01-30T15:01:34.168Z"
   },
   {
    "duration": 3,
    "start_time": "2022-01-30T15:02:27.033Z"
   },
   {
    "duration": 378,
    "start_time": "2022-01-30T15:02:27.392Z"
   },
   {
    "duration": 23,
    "start_time": "2022-01-30T15:02:42.974Z"
   },
   {
    "duration": 84,
    "start_time": "2022-01-30T15:02:54.035Z"
   },
   {
    "duration": 11,
    "start_time": "2022-01-30T15:02:54.121Z"
   },
   {
    "duration": 13,
    "start_time": "2022-01-30T15:02:54.135Z"
   },
   {
    "duration": 22,
    "start_time": "2022-01-30T15:02:54.151Z"
   },
   {
    "duration": 34,
    "start_time": "2022-01-30T15:02:54.175Z"
   },
   {
    "duration": 24,
    "start_time": "2022-01-30T15:02:54.212Z"
   },
   {
    "duration": 33,
    "start_time": "2022-01-30T15:02:54.239Z"
   },
   {
    "duration": 37,
    "start_time": "2022-01-30T15:02:54.275Z"
   },
   {
    "duration": 19,
    "start_time": "2022-01-30T15:02:54.315Z"
   },
   {
    "duration": 40,
    "start_time": "2022-01-30T15:02:54.336Z"
   },
   {
    "duration": 59,
    "start_time": "2022-01-30T15:02:54.378Z"
   },
   {
    "duration": 20,
    "start_time": "2022-01-30T15:02:54.439Z"
   },
   {
    "duration": 20,
    "start_time": "2022-01-30T15:02:54.461Z"
   },
   {
    "duration": 38,
    "start_time": "2022-01-30T15:02:54.483Z"
   },
   {
    "duration": 17,
    "start_time": "2022-01-30T15:02:54.524Z"
   },
   {
    "duration": 15,
    "start_time": "2022-01-30T15:02:54.543Z"
   },
   {
    "duration": 26,
    "start_time": "2022-01-30T15:02:54.560Z"
   },
   {
    "duration": 12,
    "start_time": "2022-01-30T15:02:54.588Z"
   },
   {
    "duration": 20,
    "start_time": "2022-01-30T15:02:54.602Z"
   },
   {
    "duration": 20,
    "start_time": "2022-01-30T15:02:54.624Z"
   },
   {
    "duration": 14,
    "start_time": "2022-01-30T15:02:54.646Z"
   },
   {
    "duration": 21,
    "start_time": "2022-01-30T15:02:54.662Z"
   },
   {
    "duration": 19,
    "start_time": "2022-01-30T15:02:54.685Z"
   },
   {
    "duration": 3828,
    "start_time": "2022-01-30T15:02:54.706Z"
   },
   {
    "duration": 10,
    "start_time": "2022-01-30T15:02:58.537Z"
   },
   {
    "duration": 21,
    "start_time": "2022-01-30T15:02:58.549Z"
   },
   {
    "duration": 3,
    "start_time": "2022-01-30T15:02:58.572Z"
   },
   {
    "duration": 410,
    "start_time": "2022-01-30T15:02:58.579Z"
   },
   {
    "duration": 3,
    "start_time": "2022-01-30T15:02:58.991Z"
   },
   {
    "duration": 285,
    "start_time": "2022-01-30T15:02:59.008Z"
   },
   {
    "duration": 3,
    "start_time": "2022-01-30T15:02:59.295Z"
   },
   {
    "duration": 254,
    "start_time": "2022-01-30T15:02:59.307Z"
   },
   {
    "duration": 3,
    "start_time": "2022-01-30T15:02:59.563Z"
   },
   {
    "duration": 256,
    "start_time": "2022-01-30T15:02:59.568Z"
   },
   {
    "duration": 102,
    "start_time": "2022-01-30T15:02:59.826Z"
   },
   {
    "duration": 183,
    "start_time": "2022-01-30T15:02:59.748Z"
   },
   {
    "duration": 170,
    "start_time": "2022-01-30T15:02:59.762Z"
   },
   {
    "duration": 159,
    "start_time": "2022-01-30T15:02:59.774Z"
   },
   {
    "duration": 147,
    "start_time": "2022-01-30T15:02:59.787Z"
   },
   {
    "duration": 139,
    "start_time": "2022-01-30T15:02:59.796Z"
   },
   {
    "duration": 129,
    "start_time": "2022-01-30T15:02:59.807Z"
   },
   {
    "duration": 90,
    "start_time": "2022-01-30T15:02:59.847Z"
   },
   {
    "duration": 80,
    "start_time": "2022-01-30T15:02:59.858Z"
   },
   {
    "duration": 71,
    "start_time": "2022-01-30T15:02:59.868Z"
   },
   {
    "duration": 60,
    "start_time": "2022-01-30T15:02:59.880Z"
   },
   {
    "duration": 52,
    "start_time": "2022-01-30T15:02:59.889Z"
   },
   {
    "duration": 25,
    "start_time": "2022-01-30T15:03:11.071Z"
   },
   {
    "duration": 3,
    "start_time": "2022-01-30T15:04:52.186Z"
   },
   {
    "duration": 30,
    "start_time": "2022-01-30T15:04:59.072Z"
   },
   {
    "duration": 85,
    "start_time": "2022-01-30T15:05:18.874Z"
   },
   {
    "duration": 12,
    "start_time": "2022-01-30T15:05:18.961Z"
   },
   {
    "duration": 32,
    "start_time": "2022-01-30T15:05:18.975Z"
   },
   {
    "duration": 12,
    "start_time": "2022-01-30T15:05:19.010Z"
   },
   {
    "duration": 6,
    "start_time": "2022-01-30T15:05:19.024Z"
   },
   {
    "duration": 12,
    "start_time": "2022-01-30T15:05:19.032Z"
   },
   {
    "duration": 68,
    "start_time": "2022-01-30T15:05:19.046Z"
   },
   {
    "duration": 15,
    "start_time": "2022-01-30T15:05:19.116Z"
   },
   {
    "duration": 17,
    "start_time": "2022-01-30T15:05:19.133Z"
   },
   {
    "duration": 73,
    "start_time": "2022-01-30T15:05:19.152Z"
   },
   {
    "duration": 33,
    "start_time": "2022-01-30T15:05:19.227Z"
   },
   {
    "duration": 18,
    "start_time": "2022-01-30T15:05:19.261Z"
   },
   {
    "duration": 32,
    "start_time": "2022-01-30T15:05:19.281Z"
   },
   {
    "duration": 14,
    "start_time": "2022-01-30T15:05:19.316Z"
   },
   {
    "duration": 9,
    "start_time": "2022-01-30T15:05:19.333Z"
   },
   {
    "duration": 17,
    "start_time": "2022-01-30T15:05:19.344Z"
   },
   {
    "duration": 17,
    "start_time": "2022-01-30T15:05:19.363Z"
   },
   {
    "duration": 29,
    "start_time": "2022-01-30T15:05:19.382Z"
   },
   {
    "duration": 14,
    "start_time": "2022-01-30T15:05:19.413Z"
   },
   {
    "duration": 15,
    "start_time": "2022-01-30T15:05:19.428Z"
   },
   {
    "duration": 12,
    "start_time": "2022-01-30T15:05:19.445Z"
   },
   {
    "duration": 16,
    "start_time": "2022-01-30T15:05:19.459Z"
   },
   {
    "duration": 29,
    "start_time": "2022-01-30T15:05:19.480Z"
   },
   {
    "duration": 3762,
    "start_time": "2022-01-30T15:05:19.511Z"
   },
   {
    "duration": 8,
    "start_time": "2022-01-30T15:05:23.276Z"
   },
   {
    "duration": 36,
    "start_time": "2022-01-30T15:05:23.286Z"
   },
   {
    "duration": 3,
    "start_time": "2022-01-30T15:05:23.324Z"
   },
   {
    "duration": 386,
    "start_time": "2022-01-30T15:05:23.329Z"
   },
   {
    "duration": 3,
    "start_time": "2022-01-30T15:05:23.717Z"
   },
   {
    "duration": 303,
    "start_time": "2022-01-30T15:05:23.722Z"
   },
   {
    "duration": 3,
    "start_time": "2022-01-30T15:05:24.027Z"
   },
   {
    "duration": 283,
    "start_time": "2022-01-30T15:05:24.032Z"
   },
   {
    "duration": 3,
    "start_time": "2022-01-30T15:05:24.317Z"
   },
   {
    "duration": 252,
    "start_time": "2022-01-30T15:05:24.322Z"
   },
   {
    "duration": 83,
    "start_time": "2022-01-30T15:05:24.577Z"
   },
   {
    "duration": 198,
    "start_time": "2022-01-30T15:05:24.464Z"
   },
   {
    "duration": 184,
    "start_time": "2022-01-30T15:05:24.479Z"
   },
   {
    "duration": 173,
    "start_time": "2022-01-30T15:05:24.492Z"
   },
   {
    "duration": 162,
    "start_time": "2022-01-30T15:05:24.504Z"
   },
   {
    "duration": 151,
    "start_time": "2022-01-30T15:05:24.516Z"
   },
   {
    "duration": 141,
    "start_time": "2022-01-30T15:05:24.527Z"
   },
   {
    "duration": 128,
    "start_time": "2022-01-30T15:05:24.541Z"
   },
   {
    "duration": 101,
    "start_time": "2022-01-30T15:05:24.569Z"
   },
   {
    "duration": 77,
    "start_time": "2022-01-30T15:05:24.595Z"
   },
   {
    "duration": 69,
    "start_time": "2022-01-30T15:05:24.605Z"
   },
   {
    "duration": 60,
    "start_time": "2022-01-30T15:05:24.616Z"
   },
   {
    "duration": 25,
    "start_time": "2022-01-30T15:05:27.615Z"
   },
   {
    "duration": 410,
    "start_time": "2022-01-30T15:15:38.576Z"
   },
   {
    "duration": 39,
    "start_time": "2022-01-30T15:15:50.029Z"
   },
   {
    "duration": 3,
    "start_time": "2022-01-30T15:42:33.187Z"
   },
   {
    "duration": 360,
    "start_time": "2022-01-30T15:42:34.150Z"
   },
   {
    "duration": 24,
    "start_time": "2022-01-30T15:42:41.722Z"
   },
   {
    "duration": 9,
    "start_time": "2022-01-30T15:43:38.840Z"
   },
   {
    "duration": 310,
    "start_time": "2022-01-30T15:46:15.509Z"
   },
   {
    "duration": 7,
    "start_time": "2022-01-30T15:46:22.026Z"
   },
   {
    "duration": 7,
    "start_time": "2022-01-30T15:46:53.549Z"
   },
   {
    "duration": 7,
    "start_time": "2022-01-30T15:48:45.419Z"
   },
   {
    "duration": 4,
    "start_time": "2022-01-30T15:50:33.407Z"
   },
   {
    "duration": 368,
    "start_time": "2022-01-30T15:50:35.904Z"
   },
   {
    "duration": 26,
    "start_time": "2022-01-30T15:50:46.742Z"
   },
   {
    "duration": 384,
    "start_time": "2022-01-30T15:52:49.483Z"
   },
   {
    "duration": 393,
    "start_time": "2022-01-30T15:53:05.005Z"
   },
   {
    "duration": 385,
    "start_time": "2022-01-30T15:53:20.549Z"
   },
   {
    "duration": 52,
    "start_time": "2022-01-30T16:09:13.759Z"
   },
   {
    "duration": 85,
    "start_time": "2022-01-30T16:09:27.475Z"
   },
   {
    "duration": 12,
    "start_time": "2022-01-30T16:09:27.562Z"
   },
   {
    "duration": 30,
    "start_time": "2022-01-30T16:09:27.577Z"
   },
   {
    "duration": 13,
    "start_time": "2022-01-30T16:09:27.609Z"
   },
   {
    "duration": 6,
    "start_time": "2022-01-30T16:09:27.624Z"
   },
   {
    "duration": 17,
    "start_time": "2022-01-30T16:09:27.632Z"
   },
   {
    "duration": 40,
    "start_time": "2022-01-30T16:09:39.715Z"
   },
   {
    "duration": 39,
    "start_time": "2022-01-30T16:16:05.736Z"
   },
   {
    "duration": 6494,
    "start_time": "2022-01-30T16:17:03.002Z"
   },
   {
    "duration": 41,
    "start_time": "2022-01-30T16:37:04.615Z"
   },
   {
    "duration": 67,
    "start_time": "2022-01-30T16:37:16.782Z"
   },
   {
    "duration": 11,
    "start_time": "2022-01-30T16:37:16.852Z"
   },
   {
    "duration": 11,
    "start_time": "2022-01-30T16:37:16.865Z"
   },
   {
    "duration": 36,
    "start_time": "2022-01-30T16:37:16.879Z"
   },
   {
    "duration": 8,
    "start_time": "2022-01-30T16:37:16.918Z"
   },
   {
    "duration": 21,
    "start_time": "2022-01-30T16:37:16.928Z"
   },
   {
    "duration": 58,
    "start_time": "2022-01-30T16:37:16.951Z"
   },
   {
    "duration": 15,
    "start_time": "2022-01-30T16:37:17.011Z"
   },
   {
    "duration": 19,
    "start_time": "2022-01-30T16:37:17.028Z"
   },
   {
    "duration": 85,
    "start_time": "2022-01-30T16:37:17.050Z"
   },
   {
    "duration": 45,
    "start_time": "2022-01-30T16:37:17.138Z"
   },
   {
    "duration": 41,
    "start_time": "2022-01-30T16:37:17.185Z"
   },
   {
    "duration": 14,
    "start_time": "2022-01-30T16:37:17.228Z"
   },
   {
    "duration": 14,
    "start_time": "2022-01-30T16:37:17.245Z"
   },
   {
    "duration": 48,
    "start_time": "2022-01-30T16:37:17.261Z"
   },
   {
    "duration": 8,
    "start_time": "2022-01-30T16:37:17.311Z"
   },
   {
    "duration": 9,
    "start_time": "2022-01-30T16:37:17.321Z"
   },
   {
    "duration": 9,
    "start_time": "2022-01-30T16:37:17.333Z"
   },
   {
    "duration": 9,
    "start_time": "2022-01-30T16:37:17.344Z"
   },
   {
    "duration": 8,
    "start_time": "2022-01-30T16:37:17.355Z"
   },
   {
    "duration": 7,
    "start_time": "2022-01-30T16:37:17.408Z"
   },
   {
    "duration": 16,
    "start_time": "2022-01-30T16:37:17.417Z"
   },
   {
    "duration": 9,
    "start_time": "2022-01-30T16:37:17.435Z"
   },
   {
    "duration": 4006,
    "start_time": "2022-01-30T16:37:17.446Z"
   },
   {
    "duration": 8,
    "start_time": "2022-01-30T16:37:21.454Z"
   },
   {
    "duration": 24,
    "start_time": "2022-01-30T16:37:21.464Z"
   },
   {
    "duration": 20,
    "start_time": "2022-01-30T16:37:21.491Z"
   },
   {
    "duration": 13,
    "start_time": "2022-01-30T16:37:21.513Z"
   },
   {
    "duration": 16,
    "start_time": "2022-01-30T16:37:21.528Z"
   },
   {
    "duration": 18,
    "start_time": "2022-01-30T16:37:21.545Z"
   },
   {
    "duration": 13,
    "start_time": "2022-01-30T16:37:21.566Z"
   },
   {
    "duration": 388,
    "start_time": "2022-01-30T16:37:21.582Z"
   },
   {
    "duration": 5,
    "start_time": "2022-01-30T16:37:21.972Z"
   },
   {
    "duration": 306,
    "start_time": "2022-01-30T16:37:21.979Z"
   },
   {
    "duration": 3,
    "start_time": "2022-01-30T16:37:22.287Z"
   },
   {
    "duration": 268,
    "start_time": "2022-01-30T16:37:22.292Z"
   },
   {
    "duration": 3,
    "start_time": "2022-01-30T16:37:22.562Z"
   },
   {
    "duration": 269,
    "start_time": "2022-01-30T16:37:22.567Z"
   },
   {
    "duration": 96,
    "start_time": "2022-01-30T16:37:22.837Z"
   },
   {
    "duration": 180,
    "start_time": "2022-01-30T16:37:22.755Z"
   },
   {
    "duration": 170,
    "start_time": "2022-01-30T16:37:22.767Z"
   },
   {
    "duration": 162,
    "start_time": "2022-01-30T16:37:22.777Z"
   },
   {
    "duration": 150,
    "start_time": "2022-01-30T16:37:22.790Z"
   },
   {
    "duration": 140,
    "start_time": "2022-01-30T16:37:22.802Z"
   },
   {
    "duration": 97,
    "start_time": "2022-01-30T16:37:22.846Z"
   },
   {
    "duration": 86,
    "start_time": "2022-01-30T16:37:22.859Z"
   },
   {
    "duration": 73,
    "start_time": "2022-01-30T16:37:22.874Z"
   },
   {
    "duration": 57,
    "start_time": "2022-01-30T16:37:22.891Z"
   },
   {
    "duration": 44,
    "start_time": "2022-01-30T16:37:22.906Z"
   },
   {
    "duration": 32,
    "start_time": "2022-01-30T16:37:22.919Z"
   },
   {
    "duration": 20,
    "start_time": "2022-01-30T16:37:22.933Z"
   },
   {
    "duration": -8,
    "start_time": "2022-01-30T16:37:22.962Z"
   },
   {
    "duration": 83,
    "start_time": "2022-01-30T16:42:25.075Z"
   },
   {
    "duration": 11,
    "start_time": "2022-01-30T16:42:25.161Z"
   },
   {
    "duration": 13,
    "start_time": "2022-01-30T16:42:25.175Z"
   },
   {
    "duration": 13,
    "start_time": "2022-01-30T16:42:25.208Z"
   },
   {
    "duration": 8,
    "start_time": "2022-01-30T16:42:25.223Z"
   },
   {
    "duration": 16,
    "start_time": "2022-01-30T16:42:25.234Z"
   },
   {
    "duration": 6303,
    "start_time": "2022-01-30T16:42:28.418Z"
   },
   {
    "duration": 16,
    "start_time": "2022-01-30T16:42:43.038Z"
   },
   {
    "duration": 6900,
    "start_time": "2022-01-30T16:42:44.246Z"
   },
   {
    "duration": 38,
    "start_time": "2022-01-30T16:45:29.522Z"
   },
   {
    "duration": 286,
    "start_time": "2022-01-30T16:47:25.261Z"
   },
   {
    "duration": 251,
    "start_time": "2022-01-30T16:47:33.284Z"
   },
   {
    "duration": 14,
    "start_time": "2022-01-30T16:47:43.472Z"
   },
   {
    "duration": 11,
    "start_time": "2022-01-30T16:48:19.932Z"
   },
   {
    "duration": 8,
    "start_time": "2022-01-30T16:48:51.868Z"
   },
   {
    "duration": 9,
    "start_time": "2022-01-30T16:49:13.369Z"
   },
   {
    "duration": 68,
    "start_time": "2022-01-30T16:49:25.334Z"
   },
   {
    "duration": 12,
    "start_time": "2022-01-30T16:49:25.404Z"
   },
   {
    "duration": 12,
    "start_time": "2022-01-30T16:49:25.418Z"
   },
   {
    "duration": 8,
    "start_time": "2022-01-30T16:49:33.521Z"
   },
   {
    "duration": 8,
    "start_time": "2022-01-30T16:49:50.231Z"
   },
   {
    "duration": 68,
    "start_time": "2022-01-30T16:52:44.839Z"
   },
   {
    "duration": 12,
    "start_time": "2022-01-30T16:52:44.909Z"
   },
   {
    "duration": 17,
    "start_time": "2022-01-30T16:52:44.923Z"
   },
   {
    "duration": 12,
    "start_time": "2022-01-30T16:53:18.181Z"
   },
   {
    "duration": 37,
    "start_time": "2022-01-30T16:53:29.123Z"
   },
   {
    "duration": 43,
    "start_time": "2022-01-30T16:55:55.373Z"
   },
   {
    "duration": 70,
    "start_time": "2022-01-30T17:01:34.170Z"
   },
   {
    "duration": 11,
    "start_time": "2022-01-30T17:01:34.242Z"
   },
   {
    "duration": 11,
    "start_time": "2022-01-30T17:01:34.255Z"
   },
   {
    "duration": 8,
    "start_time": "2022-01-30T17:01:34.267Z"
   },
   {
    "duration": 16,
    "start_time": "2022-01-30T17:01:34.333Z"
   },
   {
    "duration": 93,
    "start_time": "2022-01-30T17:01:34.351Z"
   },
   {
    "duration": -242,
    "start_time": "2022-01-30T17:01:34.688Z"
   },
   {
    "duration": -328,
    "start_time": "2022-01-30T17:01:34.775Z"
   },
   {
    "duration": -338,
    "start_time": "2022-01-30T17:01:34.787Z"
   },
   {
    "duration": -348,
    "start_time": "2022-01-30T17:01:34.797Z"
   },
   {
    "duration": -358,
    "start_time": "2022-01-30T17:01:34.809Z"
   },
   {
    "duration": -366,
    "start_time": "2022-01-30T17:01:34.818Z"
   },
   {
    "duration": 11,
    "start_time": "2022-01-30T17:01:34.457Z"
   },
   {
    "duration": 10,
    "start_time": "2022-01-30T17:01:34.470Z"
   },
   {
    "duration": 18,
    "start_time": "2022-01-30T17:01:34.482Z"
   },
   {
    "duration": 14,
    "start_time": "2022-01-30T17:01:34.502Z"
   },
   {
    "duration": 12,
    "start_time": "2022-01-30T17:01:34.517Z"
   },
   {
    "duration": 8,
    "start_time": "2022-01-30T17:01:34.531Z"
   },
   {
    "duration": 8,
    "start_time": "2022-01-30T17:01:34.542Z"
   },
   {
    "duration": 10,
    "start_time": "2022-01-30T17:01:34.553Z"
   },
   {
    "duration": 46,
    "start_time": "2022-01-30T17:01:34.564Z"
   },
   {
    "duration": 6,
    "start_time": "2022-01-30T17:01:34.612Z"
   },
   {
    "duration": 3955,
    "start_time": "2022-01-30T17:01:34.619Z"
   },
   {
    "duration": 9,
    "start_time": "2022-01-30T17:01:38.577Z"
   },
   {
    "duration": 34,
    "start_time": "2022-01-30T17:01:38.589Z"
   },
   {
    "duration": 5,
    "start_time": "2022-01-30T17:01:38.625Z"
   },
   {
    "duration": 12,
    "start_time": "2022-01-30T17:01:38.632Z"
   },
   {
    "duration": 13,
    "start_time": "2022-01-30T17:01:38.645Z"
   },
   {
    "duration": 9,
    "start_time": "2022-01-30T17:01:38.660Z"
   },
   {
    "duration": 5,
    "start_time": "2022-01-30T17:01:38.671Z"
   },
   {
    "duration": 237,
    "start_time": "2022-01-30T17:01:47.009Z"
   },
   {
    "duration": 225,
    "start_time": "2022-01-30T17:01:47.022Z"
   },
   {
    "duration": 214,
    "start_time": "2022-01-30T17:01:47.034Z"
   },
   {
    "duration": 204,
    "start_time": "2022-01-30T17:01:47.045Z"
   },
   {
    "duration": 192,
    "start_time": "2022-01-30T17:01:47.058Z"
   },
   {
    "duration": 177,
    "start_time": "2022-01-30T17:01:47.074Z"
   },
   {
    "duration": 163,
    "start_time": "2022-01-30T17:01:47.089Z"
   },
   {
    "duration": 153,
    "start_time": "2022-01-30T17:01:47.100Z"
   },
   {
    "duration": 121,
    "start_time": "2022-01-30T17:01:47.133Z"
   },
   {
    "duration": 111,
    "start_time": "2022-01-30T17:01:47.144Z"
   },
   {
    "duration": 100,
    "start_time": "2022-01-30T17:01:47.156Z"
   },
   {
    "duration": 90,
    "start_time": "2022-01-30T17:01:47.167Z"
   },
   {
    "duration": 80,
    "start_time": "2022-01-30T17:01:47.180Z"
   },
   {
    "duration": 71,
    "start_time": "2022-01-30T17:01:47.190Z"
   },
   {
    "duration": 60,
    "start_time": "2022-01-30T17:01:47.202Z"
   },
   {
    "duration": 49,
    "start_time": "2022-01-30T17:01:47.214Z"
   },
   {
    "duration": 20,
    "start_time": "2022-01-30T17:01:47.245Z"
   },
   {
    "duration": 51,
    "start_time": "2022-01-30T17:01:47.256Z"
   },
   {
    "duration": 41,
    "start_time": "2022-01-30T17:01:47.268Z"
   },
   {
    "duration": 32,
    "start_time": "2022-01-30T17:01:47.279Z"
   },
   {
    "duration": 21,
    "start_time": "2022-01-30T17:01:47.291Z"
   },
   {
    "duration": 7,
    "start_time": "2022-01-30T17:01:47.306Z"
   },
   {
    "duration": -4,
    "start_time": "2022-01-30T17:01:47.318Z"
   },
   {
    "duration": -15,
    "start_time": "2022-01-30T17:01:47.330Z"
   },
   {
    "duration": -43,
    "start_time": "2022-01-30T17:01:47.359Z"
   },
   {
    "duration": -52,
    "start_time": "2022-01-30T17:01:47.369Z"
   },
   {
    "duration": -63,
    "start_time": "2022-01-30T17:01:47.381Z"
   },
   {
    "duration": -73,
    "start_time": "2022-01-30T17:01:47.392Z"
   },
   {
    "duration": -84,
    "start_time": "2022-01-30T17:01:47.404Z"
   },
   {
    "duration": -93,
    "start_time": "2022-01-30T17:01:47.414Z"
   },
   {
    "duration": -104,
    "start_time": "2022-01-30T17:01:47.426Z"
   },
   {
    "duration": -113,
    "start_time": "2022-01-30T17:01:47.436Z"
   },
   {
    "duration": -126,
    "start_time": "2022-01-30T17:01:47.450Z"
   },
   {
    "duration": -150,
    "start_time": "2022-01-30T17:01:47.476Z"
   },
   {
    "duration": -161,
    "start_time": "2022-01-30T17:01:47.488Z"
   },
   {
    "duration": -171,
    "start_time": "2022-01-30T17:01:47.499Z"
   },
   {
    "duration": -182,
    "start_time": "2022-01-30T17:01:47.511Z"
   },
   {
    "duration": -191,
    "start_time": "2022-01-30T17:01:47.521Z"
   },
   {
    "duration": -203,
    "start_time": "2022-01-30T17:01:47.534Z"
   },
   {
    "duration": -212,
    "start_time": "2022-01-30T17:01:47.544Z"
   },
   {
    "duration": -223,
    "start_time": "2022-01-30T17:01:47.556Z"
   },
   {
    "duration": -230,
    "start_time": "2022-01-30T17:01:47.567Z"
   },
   {
    "duration": -260,
    "start_time": "2022-01-30T17:01:47.598Z"
   },
   {
    "duration": -269,
    "start_time": "2022-01-30T17:01:47.609Z"
   },
   {
    "duration": -280,
    "start_time": "2022-01-30T17:01:47.621Z"
   },
   {
    "duration": -288,
    "start_time": "2022-01-30T17:01:47.631Z"
   },
   {
    "duration": -298,
    "start_time": "2022-01-30T17:01:47.643Z"
   },
   {
    "duration": -306,
    "start_time": "2022-01-30T17:01:47.653Z"
   },
   {
    "duration": -317,
    "start_time": "2022-01-30T17:01:47.665Z"
   },
   {
    "duration": -326,
    "start_time": "2022-01-30T17:01:47.675Z"
   },
   {
    "duration": -281,
    "start_time": "2022-01-30T17:01:47.688Z"
   },
   {
    "duration": 44,
    "start_time": "2022-01-30T17:02:01.327Z"
   },
   {
    "duration": 91,
    "start_time": "2022-01-30T17:02:41.360Z"
   },
   {
    "duration": 13,
    "start_time": "2022-01-30T17:02:42.005Z"
   },
   {
    "duration": 10,
    "start_time": "2022-01-30T17:02:44.446Z"
   },
   {
    "duration": 6,
    "start_time": "2022-01-30T17:02:44.916Z"
   },
   {
    "duration": 12,
    "start_time": "2022-01-30T17:02:45.369Z"
   },
   {
    "duration": 191,
    "start_time": "2022-01-30T17:02:45.611Z"
   },
   {
    "duration": 274,
    "start_time": "2022-01-30T17:02:46.515Z"
   },
   {
    "duration": 19,
    "start_time": "2022-01-30T17:02:47.215Z"
   },
   {
    "duration": 38,
    "start_time": "2022-01-30T17:02:47.656Z"
   },
   {
    "duration": 67,
    "start_time": "2022-01-30T17:11:47.309Z"
   },
   {
    "duration": 12,
    "start_time": "2022-01-30T17:11:48.363Z"
   },
   {
    "duration": 12,
    "start_time": "2022-01-30T17:11:52.602Z"
   },
   {
    "duration": 7,
    "start_time": "2022-01-30T17:11:54.443Z"
   },
   {
    "duration": 14,
    "start_time": "2022-01-30T17:11:56.900Z"
   },
   {
    "duration": 95,
    "start_time": "2022-01-30T17:11:57.869Z"
   },
   {
    "duration": 45,
    "start_time": "2022-01-30T17:12:22.740Z"
   },
   {
    "duration": 46,
    "start_time": "2022-01-30T17:12:32.325Z"
   },
   {
    "duration": 81,
    "start_time": "2022-01-30T17:12:45.903Z"
   },
   {
    "duration": 13,
    "start_time": "2022-01-30T17:12:46.467Z"
   },
   {
    "duration": 11,
    "start_time": "2022-01-30T17:12:50.217Z"
   },
   {
    "duration": 5,
    "start_time": "2022-01-30T17:12:52.162Z"
   },
   {
    "duration": 11,
    "start_time": "2022-01-30T17:12:54.675Z"
   },
   {
    "duration": 34,
    "start_time": "2022-01-30T17:12:56.359Z"
   },
   {
    "duration": 256,
    "start_time": "2022-01-30T17:16:02.382Z"
   },
   {
    "duration": 290,
    "start_time": "2022-01-30T17:16:19.823Z"
   },
   {
    "duration": 276,
    "start_time": "2022-01-30T17:20:37.602Z"
   },
   {
    "duration": 15,
    "start_time": "2022-01-30T17:24:18.212Z"
   },
   {
    "duration": 48,
    "start_time": "2022-01-30T17:27:44.448Z"
   },
   {
    "duration": 7006,
    "start_time": "2022-01-30T17:34:02.064Z"
   },
   {
    "duration": 36,
    "start_time": "2022-01-30T17:34:09.531Z"
   },
   {
    "duration": 17,
    "start_time": "2022-01-30T17:34:13.626Z"
   },
   {
    "duration": 22,
    "start_time": "2022-01-30T17:34:16.448Z"
   },
   {
    "duration": 42,
    "start_time": "2022-01-30T17:34:17.129Z"
   },
   {
    "duration": 18,
    "start_time": "2022-01-30T17:34:19.014Z"
   },
   {
    "duration": 8,
    "start_time": "2022-01-30T17:34:20.385Z"
   },
   {
    "duration": 11,
    "start_time": "2022-01-30T17:34:21.623Z"
   },
   {
    "duration": 11,
    "start_time": "2022-01-30T17:34:26.293Z"
   },
   {
    "duration": 6,
    "start_time": "2022-01-30T17:34:27.233Z"
   },
   {
    "duration": 11,
    "start_time": "2022-01-30T17:34:28.306Z"
   },
   {
    "duration": 10,
    "start_time": "2022-01-30T17:34:29.147Z"
   },
   {
    "duration": 10,
    "start_time": "2022-01-30T17:34:29.881Z"
   },
   {
    "duration": 10,
    "start_time": "2022-01-30T17:34:30.657Z"
   },
   {
    "duration": 7,
    "start_time": "2022-01-30T17:34:32.496Z"
   },
   {
    "duration": 10,
    "start_time": "2022-01-30T17:34:33.122Z"
   },
   {
    "duration": 6,
    "start_time": "2022-01-30T17:34:34.033Z"
   },
   {
    "duration": 4055,
    "start_time": "2022-01-30T17:35:37.324Z"
   },
   {
    "duration": 8,
    "start_time": "2022-01-30T17:35:41.381Z"
   },
   {
    "duration": 32,
    "start_time": "2022-01-30T17:35:41.391Z"
   },
   {
    "duration": 14,
    "start_time": "2022-01-30T17:36:54.052Z"
   },
   {
    "duration": 7,
    "start_time": "2022-01-30T17:37:44.325Z"
   },
   {
    "duration": 8,
    "start_time": "2022-01-30T17:37:44.879Z"
   },
   {
    "duration": 7,
    "start_time": "2022-01-30T17:37:45.439Z"
   },
   {
    "duration": 6,
    "start_time": "2022-01-30T17:37:45.814Z"
   },
   {
    "duration": 3,
    "start_time": "2022-01-30T17:37:46.903Z"
   },
   {
    "duration": 398,
    "start_time": "2022-01-30T17:37:47.462Z"
   },
   {
    "duration": 3,
    "start_time": "2022-01-30T17:37:48.596Z"
   },
   {
    "duration": 288,
    "start_time": "2022-01-30T17:37:49.729Z"
   },
   {
    "duration": 4,
    "start_time": "2022-01-30T17:37:51.404Z"
   },
   {
    "duration": 276,
    "start_time": "2022-01-30T17:37:52.197Z"
   },
   {
    "duration": 4,
    "start_time": "2022-01-30T17:37:54.083Z"
   },
   {
    "duration": 262,
    "start_time": "2022-01-30T17:37:54.620Z"
   },
   {
    "duration": 20,
    "start_time": "2022-01-30T17:38:15.622Z"
   },
   {
    "duration": 10,
    "start_time": "2022-01-30T17:38:16.797Z"
   },
   {
    "duration": 16,
    "start_time": "2022-01-30T17:38:17.972Z"
   },
   {
    "duration": 11,
    "start_time": "2022-01-30T17:38:19.518Z"
   },
   {
    "duration": 23,
    "start_time": "2022-01-30T17:38:23.989Z"
   },
   {
    "duration": 15,
    "start_time": "2022-01-30T17:38:25.860Z"
   },
   {
    "duration": 10,
    "start_time": "2022-01-30T17:38:26.821Z"
   },
   {
    "duration": 43,
    "start_time": "2022-01-30T17:38:31.600Z"
   },
   {
    "duration": 9,
    "start_time": "2022-01-30T17:40:03.207Z"
   },
   {
    "duration": 19,
    "start_time": "2022-01-30T17:41:25.365Z"
   },
   {
    "duration": 19,
    "start_time": "2022-01-30T17:41:39.286Z"
   },
   {
    "duration": 43,
    "start_time": "2022-01-30T17:41:47.855Z"
   },
   {
    "duration": 506,
    "start_time": "2022-01-30T17:42:30.544Z"
   },
   {
    "duration": 3,
    "start_time": "2022-01-30T17:43:04.435Z"
   },
   {
    "duration": 92,
    "start_time": "2022-01-30T17:43:08.112Z"
   },
   {
    "duration": 13,
    "start_time": "2022-01-30T17:43:08.206Z"
   },
   {
    "duration": 11,
    "start_time": "2022-01-30T17:43:08.221Z"
   },
   {
    "duration": 6,
    "start_time": "2022-01-30T17:43:08.234Z"
   },
   {
    "duration": 14,
    "start_time": "2022-01-30T17:43:08.242Z"
   },
   {
    "duration": 89,
    "start_time": "2022-01-30T17:43:08.258Z"
   },
   {
    "duration": 20,
    "start_time": "2022-01-30T17:43:08.349Z"
   },
   {
    "duration": 43,
    "start_time": "2022-01-30T17:43:08.373Z"
   },
   {
    "duration": 141,
    "start_time": "2022-01-30T17:43:08.419Z"
   },
   {
    "duration": 26,
    "start_time": "2022-01-30T17:43:08.563Z"
   },
   {
    "duration": 62,
    "start_time": "2022-01-30T17:43:08.591Z"
   },
   {
    "duration": 22,
    "start_time": "2022-01-30T17:43:08.654Z"
   },
   {
    "duration": 30,
    "start_time": "2022-01-30T17:43:08.678Z"
   },
   {
    "duration": 13,
    "start_time": "2022-01-30T17:43:08.710Z"
   },
   {
    "duration": 24,
    "start_time": "2022-01-30T17:43:08.726Z"
   },
   {
    "duration": 12,
    "start_time": "2022-01-30T17:43:08.752Z"
   },
   {
    "duration": 17,
    "start_time": "2022-01-30T17:43:08.766Z"
   },
   {
    "duration": 10,
    "start_time": "2022-01-30T17:43:08.786Z"
   },
   {
    "duration": 10,
    "start_time": "2022-01-30T17:43:08.807Z"
   },
   {
    "duration": 25,
    "start_time": "2022-01-30T17:43:08.819Z"
   },
   {
    "duration": 18,
    "start_time": "2022-01-30T17:43:08.846Z"
   },
   {
    "duration": 3982,
    "start_time": "2022-01-30T17:43:08.867Z"
   },
   {
    "duration": 9,
    "start_time": "2022-01-30T17:43:12.851Z"
   },
   {
    "duration": 29,
    "start_time": "2022-01-30T17:43:12.861Z"
   },
   {
    "duration": 18,
    "start_time": "2022-01-30T17:43:12.892Z"
   },
   {
    "duration": 8,
    "start_time": "2022-01-30T17:43:12.912Z"
   },
   {
    "duration": 21,
    "start_time": "2022-01-30T17:43:12.921Z"
   },
   {
    "duration": 16,
    "start_time": "2022-01-30T17:43:12.944Z"
   },
   {
    "duration": 14,
    "start_time": "2022-01-30T17:43:12.962Z"
   },
   {
    "duration": 341,
    "start_time": "2022-01-30T17:43:12.978Z"
   },
   {
    "duration": 3,
    "start_time": "2022-01-30T17:43:13.321Z"
   },
   {
    "duration": 318,
    "start_time": "2022-01-30T17:43:13.326Z"
   },
   {
    "duration": 3,
    "start_time": "2022-01-30T17:43:13.646Z"
   },
   {
    "duration": 293,
    "start_time": "2022-01-30T17:43:13.652Z"
   },
   {
    "duration": 3,
    "start_time": "2022-01-30T17:43:13.947Z"
   },
   {
    "duration": 309,
    "start_time": "2022-01-30T17:43:13.953Z"
   },
   {
    "duration": 20,
    "start_time": "2022-01-30T17:43:14.264Z"
   },
   {
    "duration": 28,
    "start_time": "2022-01-30T17:43:14.287Z"
   },
   {
    "duration": 16,
    "start_time": "2022-01-30T17:43:14.317Z"
   },
   {
    "duration": 10,
    "start_time": "2022-01-30T17:43:14.336Z"
   },
   {
    "duration": 59,
    "start_time": "2022-01-30T17:43:14.348Z"
   },
   {
    "duration": 18,
    "start_time": "2022-01-30T17:43:14.410Z"
   },
   {
    "duration": 12,
    "start_time": "2022-01-30T17:43:14.432Z"
   },
   {
    "duration": 8,
    "start_time": "2022-01-30T17:43:14.446Z"
   },
   {
    "duration": 75,
    "start_time": "2022-01-30T17:43:14.456Z"
   },
   {
    "duration": 87,
    "start_time": "2022-01-30T17:43:14.533Z"
   },
   {
    "duration": 253,
    "start_time": "2022-01-30T17:43:14.368Z"
   },
   {
    "duration": 37,
    "start_time": "2022-01-30T17:43:22.575Z"
   },
   {
    "duration": 8,
    "start_time": "2022-01-30T17:44:13.088Z"
   },
   {
    "duration": 41,
    "start_time": "2022-01-30T17:44:28.961Z"
   },
   {
    "duration": 24,
    "start_time": "2022-01-30T17:44:43.318Z"
   },
   {
    "duration": 24,
    "start_time": "2022-01-30T17:53:48.119Z"
   },
   {
    "duration": 254,
    "start_time": "2022-01-30T18:23:34.307Z"
   },
   {
    "duration": 14,
    "start_time": "2022-01-30T18:23:40.330Z"
   },
   {
    "duration": 13,
    "start_time": "2022-01-30T18:25:06.290Z"
   },
   {
    "duration": 298,
    "start_time": "2022-01-30T18:26:21.643Z"
   },
   {
    "duration": 14,
    "start_time": "2022-01-30T18:26:35.221Z"
   },
   {
    "duration": 15,
    "start_time": "2022-01-30T18:29:44.990Z"
   },
   {
    "duration": 10,
    "start_time": "2022-01-30T18:29:54.857Z"
   },
   {
    "duration": 93,
    "start_time": "2022-01-30T18:31:42.442Z"
   },
   {
    "duration": 11,
    "start_time": "2022-01-30T18:31:42.538Z"
   },
   {
    "duration": 9,
    "start_time": "2022-01-30T18:31:42.552Z"
   },
   {
    "duration": 6,
    "start_time": "2022-01-30T18:31:42.564Z"
   },
   {
    "duration": 43,
    "start_time": "2022-01-30T18:31:42.571Z"
   },
   {
    "duration": 36,
    "start_time": "2022-01-30T18:31:42.616Z"
   },
   {
    "duration": 15,
    "start_time": "2022-01-30T18:31:42.654Z"
   },
   {
    "duration": 46,
    "start_time": "2022-01-30T18:31:42.672Z"
   },
   {
    "duration": 37,
    "start_time": "2022-01-30T18:31:42.721Z"
   },
   {
    "duration": 17,
    "start_time": "2022-01-30T18:31:42.760Z"
   },
   {
    "duration": 31,
    "start_time": "2022-01-30T18:31:42.779Z"
   },
   {
    "duration": 75,
    "start_time": "2022-01-30T18:32:20.268Z"
   },
   {
    "duration": 13,
    "start_time": "2022-01-30T18:32:20.870Z"
   },
   {
    "duration": 11,
    "start_time": "2022-01-30T18:32:24.270Z"
   },
   {
    "duration": 7,
    "start_time": "2022-01-30T18:32:25.984Z"
   },
   {
    "duration": 12,
    "start_time": "2022-01-30T18:32:27.281Z"
   },
   {
    "duration": 36,
    "start_time": "2022-01-30T18:32:29.165Z"
   },
   {
    "duration": 20,
    "start_time": "2022-01-30T18:32:32.070Z"
   },
   {
    "duration": 19,
    "start_time": "2022-01-30T18:32:36.388Z"
   },
   {
    "duration": 36,
    "start_time": "2022-01-30T18:32:37.174Z"
   },
   {
    "duration": 20,
    "start_time": "2022-01-30T18:32:38.565Z"
   },
   {
    "duration": 8,
    "start_time": "2022-01-30T18:32:39.345Z"
   },
   {
    "duration": 11,
    "start_time": "2022-01-30T18:32:59.438Z"
   },
   {
    "duration": 12,
    "start_time": "2022-01-30T18:33:05.071Z"
   },
   {
    "duration": 11,
    "start_time": "2022-01-30T18:33:39.868Z"
   },
   {
    "duration": 13,
    "start_time": "2022-01-30T18:36:47.741Z"
   },
   {
    "duration": 70,
    "start_time": "2022-01-30T18:36:54.255Z"
   },
   {
    "duration": 12,
    "start_time": "2022-01-30T18:36:54.847Z"
   },
   {
    "duration": 10,
    "start_time": "2022-01-30T18:36:59.965Z"
   },
   {
    "duration": 7,
    "start_time": "2022-01-30T18:37:03.797Z"
   },
   {
    "duration": 6,
    "start_time": "2022-01-30T18:37:29.167Z"
   },
   {
    "duration": 6,
    "start_time": "2022-01-30T18:38:01.096Z"
   },
   {
    "duration": 72,
    "start_time": "2022-01-30T18:38:08.380Z"
   },
   {
    "duration": 13,
    "start_time": "2022-01-30T18:38:08.454Z"
   },
   {
    "duration": 10,
    "start_time": "2022-01-30T18:38:08.470Z"
   },
   {
    "duration": 4,
    "start_time": "2022-01-30T18:38:13.720Z"
   },
   {
    "duration": 7,
    "start_time": "2022-01-30T18:38:22.234Z"
   },
   {
    "duration": 8,
    "start_time": "2022-01-30T18:39:04.194Z"
   },
   {
    "duration": 8,
    "start_time": "2022-01-30T18:39:25.946Z"
   },
   {
    "duration": 14,
    "start_time": "2022-01-30T18:39:45.974Z"
   },
   {
    "duration": 11,
    "start_time": "2022-01-30T18:39:56.971Z"
   },
   {
    "duration": 8,
    "start_time": "2022-01-30T18:45:04.288Z"
   },
   {
    "duration": 70,
    "start_time": "2022-01-30T18:45:34.932Z"
   },
   {
    "duration": 12,
    "start_time": "2022-01-30T18:45:35.004Z"
   },
   {
    "duration": 11,
    "start_time": "2022-01-30T18:45:35.018Z"
   },
   {
    "duration": 12,
    "start_time": "2022-01-30T18:45:35.032Z"
   },
   {
    "duration": 11,
    "start_time": "2022-01-30T18:45:35.046Z"
   },
   {
    "duration": 72,
    "start_time": "2022-01-30T18:45:35.059Z"
   },
   {
    "duration": 15,
    "start_time": "2022-01-30T18:45:35.133Z"
   },
   {
    "duration": 21,
    "start_time": "2022-01-30T18:45:35.150Z"
   },
   {
    "duration": 36,
    "start_time": "2022-01-30T18:45:35.208Z"
   },
   {
    "duration": 17,
    "start_time": "2022-01-30T18:45:35.246Z"
   },
   {
    "duration": 8,
    "start_time": "2022-01-30T18:45:35.265Z"
   },
   {
    "duration": 41,
    "start_time": "2022-01-30T18:45:35.274Z"
   },
   {
    "duration": 10,
    "start_time": "2022-01-30T18:45:35.317Z"
   },
   {
    "duration": 13,
    "start_time": "2022-01-30T18:45:35.329Z"
   },
   {
    "duration": 87,
    "start_time": "2022-01-30T18:45:35.344Z"
   },
   {
    "duration": -871,
    "start_time": "2022-01-30T18:45:36.305Z"
   },
   {
    "duration": -881,
    "start_time": "2022-01-30T18:45:36.316Z"
   },
   {
    "duration": -887,
    "start_time": "2022-01-30T18:45:36.324Z"
   },
   {
    "duration": -895,
    "start_time": "2022-01-30T18:45:36.333Z"
   },
   {
    "duration": -912,
    "start_time": "2022-01-30T18:45:36.350Z"
   },
   {
    "duration": -917,
    "start_time": "2022-01-30T18:45:36.357Z"
   },
   {
    "duration": -958,
    "start_time": "2022-01-30T18:45:36.399Z"
   },
   {
    "duration": -966,
    "start_time": "2022-01-30T18:45:36.408Z"
   },
   {
    "duration": -975,
    "start_time": "2022-01-30T18:45:36.418Z"
   },
   {
    "duration": -981,
    "start_time": "2022-01-30T18:45:36.426Z"
   },
   {
    "duration": -989,
    "start_time": "2022-01-30T18:45:36.435Z"
   },
   {
    "duration": -996,
    "start_time": "2022-01-30T18:45:36.443Z"
   },
   {
    "duration": -1006,
    "start_time": "2022-01-30T18:45:36.454Z"
   },
   {
    "duration": -1013,
    "start_time": "2022-01-30T18:45:36.462Z"
   },
   {
    "duration": -1021,
    "start_time": "2022-01-30T18:45:36.472Z"
   },
   {
    "duration": -1029,
    "start_time": "2022-01-30T18:45:36.481Z"
   },
   {
    "duration": -1038,
    "start_time": "2022-01-30T18:45:36.491Z"
   },
   {
    "duration": -1063,
    "start_time": "2022-01-30T18:45:36.518Z"
   },
   {
    "duration": -1071,
    "start_time": "2022-01-30T18:45:36.527Z"
   },
   {
    "duration": -1079,
    "start_time": "2022-01-30T18:45:36.536Z"
   },
   {
    "duration": -1086,
    "start_time": "2022-01-30T18:45:36.544Z"
   },
   {
    "duration": -1093,
    "start_time": "2022-01-30T18:45:36.553Z"
   },
   {
    "duration": -1104,
    "start_time": "2022-01-30T18:45:36.565Z"
   },
   {
    "duration": -1112,
    "start_time": "2022-01-30T18:45:36.574Z"
   },
   {
    "duration": -1121,
    "start_time": "2022-01-30T18:45:36.584Z"
   },
   {
    "duration": -1133,
    "start_time": "2022-01-30T18:45:36.597Z"
   },
   {
    "duration": -1140,
    "start_time": "2022-01-30T18:45:36.606Z"
   },
   {
    "duration": -1173,
    "start_time": "2022-01-30T18:45:36.640Z"
   },
   {
    "duration": -1181,
    "start_time": "2022-01-30T18:45:36.651Z"
   },
   {
    "duration": 43,
    "start_time": "2022-01-30T18:45:35.472Z"
   },
   {
    "duration": 272,
    "start_time": "2022-01-30T18:45:35.517Z"
   },
   {
    "duration": 287,
    "start_time": "2022-01-30T18:45:35.795Z"
   },
   {
    "duration": 70,
    "start_time": "2022-01-30T18:45:44.189Z"
   },
   {
    "duration": 13,
    "start_time": "2022-01-30T18:45:44.878Z"
   },
   {
    "duration": 13,
    "start_time": "2022-01-30T18:45:48.497Z"
   },
   {
    "duration": 12,
    "start_time": "2022-01-30T18:45:53.466Z"
   },
   {
    "duration": 283,
    "start_time": "2022-01-30T18:46:16.758Z"
   },
   {
    "duration": 21,
    "start_time": "2022-01-30T18:46:45.205Z"
   },
   {
    "duration": 21,
    "start_time": "2022-01-30T18:47:07.959Z"
   },
   {
    "duration": 264,
    "start_time": "2022-01-30T18:49:42.216Z"
   },
   {
    "duration": 8,
    "start_time": "2022-01-30T18:49:59.042Z"
   },
   {
    "duration": 6,
    "start_time": "2022-01-30T18:51:11.577Z"
   },
   {
    "duration": 8,
    "start_time": "2022-01-30T18:51:47.828Z"
   },
   {
    "duration": 8,
    "start_time": "2022-01-30T18:52:41.279Z"
   },
   {
    "duration": 39,
    "start_time": "2022-01-30T18:54:44.443Z"
   },
   {
    "duration": 452,
    "start_time": "2022-01-30T18:54:59.111Z"
   },
   {
    "duration": 32,
    "start_time": "2022-01-30T18:55:00.061Z"
   },
   {
    "duration": 21,
    "start_time": "2022-01-30T18:57:41.375Z"
   },
   {
    "duration": 40,
    "start_time": "2022-01-30T18:57:49.770Z"
   },
   {
    "duration": 17,
    "start_time": "2022-01-30T18:59:38.062Z"
   },
   {
    "duration": 12,
    "start_time": "2022-01-30T18:59:38.699Z"
   },
   {
    "duration": 9,
    "start_time": "2022-01-30T18:59:41.546Z"
   },
   {
    "duration": 10,
    "start_time": "2022-01-30T18:59:47.563Z"
   },
   {
    "duration": 11,
    "start_time": "2022-01-30T18:59:50.244Z"
   },
   {
    "duration": 7,
    "start_time": "2022-01-30T19:00:02.080Z"
   },
   {
    "duration": 11,
    "start_time": "2022-01-30T19:00:05.293Z"
   },
   {
    "duration": 11,
    "start_time": "2022-01-30T19:00:25.364Z"
   },
   {
    "duration": 9,
    "start_time": "2022-01-30T19:00:52.358Z"
   },
   {
    "duration": 9,
    "start_time": "2022-01-30T19:00:53.133Z"
   },
   {
    "duration": 7,
    "start_time": "2022-01-30T19:00:55.725Z"
   },
   {
    "duration": 8,
    "start_time": "2022-01-30T19:01:00.374Z"
   },
   {
    "duration": 11,
    "start_time": "2022-01-30T19:05:25.539Z"
   },
   {
    "duration": 11,
    "start_time": "2022-01-30T19:05:26.558Z"
   },
   {
    "duration": 6,
    "start_time": "2022-01-30T19:05:34.042Z"
   },
   {
    "duration": 13,
    "start_time": "2022-01-30T19:05:37.445Z"
   },
   {
    "duration": 11,
    "start_time": "2022-01-30T19:05:38.734Z"
   },
   {
    "duration": 72,
    "start_time": "2022-01-30T19:05:46.835Z"
   },
   {
    "duration": 13,
    "start_time": "2022-01-30T19:05:46.909Z"
   },
   {
    "duration": 17,
    "start_time": "2022-01-30T19:05:46.925Z"
   },
   {
    "duration": 19,
    "start_time": "2022-01-30T19:05:46.945Z"
   },
   {
    "duration": 23,
    "start_time": "2022-01-30T19:05:46.967Z"
   },
   {
    "duration": 52,
    "start_time": "2022-01-30T19:05:46.992Z"
   },
   {
    "duration": 18,
    "start_time": "2022-01-30T19:05:47.047Z"
   },
   {
    "duration": 49,
    "start_time": "2022-01-30T19:05:47.069Z"
   },
   {
    "duration": 54,
    "start_time": "2022-01-30T19:05:47.120Z"
   },
   {
    "duration": 48,
    "start_time": "2022-01-30T19:05:47.176Z"
   },
   {
    "duration": 25,
    "start_time": "2022-01-30T19:05:47.227Z"
   },
   {
    "duration": 20,
    "start_time": "2022-01-30T19:05:47.254Z"
   },
   {
    "duration": 23,
    "start_time": "2022-01-30T19:05:47.277Z"
   },
   {
    "duration": 19,
    "start_time": "2022-01-30T19:05:47.302Z"
   },
   {
    "duration": 19,
    "start_time": "2022-01-30T19:05:47.323Z"
   },
   {
    "duration": 25,
    "start_time": "2022-01-30T19:05:47.344Z"
   },
   {
    "duration": 20,
    "start_time": "2022-01-30T19:05:47.371Z"
   },
   {
    "duration": 10,
    "start_time": "2022-01-30T19:05:50.869Z"
   },
   {
    "duration": 9,
    "start_time": "2022-01-30T19:05:52.338Z"
   },
   {
    "duration": 8,
    "start_time": "2022-01-30T19:06:26.422Z"
   },
   {
    "duration": 6,
    "start_time": "2022-01-30T19:06:27.518Z"
   },
   {
    "duration": 3938,
    "start_time": "2022-01-30T19:08:55.550Z"
   },
   {
    "duration": 19,
    "start_time": "2022-01-30T19:08:59.490Z"
   },
   {
    "duration": 21,
    "start_time": "2022-01-30T19:08:59.511Z"
   },
   {
    "duration": 3725,
    "start_time": "2022-01-30T19:27:46.929Z"
   },
   {
    "duration": 7,
    "start_time": "2022-01-30T19:32:03.244Z"
   },
   {
    "duration": 10,
    "start_time": "2022-01-30T19:32:06.661Z"
   },
   {
    "duration": 8,
    "start_time": "2022-01-30T19:32:07.367Z"
   },
   {
    "duration": 7,
    "start_time": "2022-01-30T19:32:08.004Z"
   },
   {
    "duration": 4,
    "start_time": "2022-01-30T19:32:19.833Z"
   },
   {
    "duration": 4,
    "start_time": "2022-01-30T19:32:48.109Z"
   },
   {
    "duration": 446,
    "start_time": "2022-01-30T19:32:48.766Z"
   },
   {
    "duration": 343,
    "start_time": "2022-01-30T19:33:19.885Z"
   },
   {
    "duration": 361,
    "start_time": "2022-01-30T19:34:01.353Z"
   },
   {
    "duration": 244,
    "start_time": "2022-01-30T19:34:33.311Z"
   },
   {
    "duration": 3,
    "start_time": "2022-01-30T19:36:00.705Z"
   },
   {
    "duration": 270,
    "start_time": "2022-01-30T19:36:01.514Z"
   },
   {
    "duration": 21,
    "start_time": "2022-01-30T19:36:36.945Z"
   },
   {
    "duration": 10,
    "start_time": "2022-01-30T19:36:53.451Z"
   },
   {
    "duration": 407,
    "start_time": "2022-01-30T19:37:09.412Z"
   },
   {
    "duration": 94,
    "start_time": "2022-01-30T19:37:19.708Z"
   },
   {
    "duration": 13,
    "start_time": "2022-01-30T19:37:19.807Z"
   },
   {
    "duration": 12,
    "start_time": "2022-01-30T19:37:19.823Z"
   },
   {
    "duration": 14,
    "start_time": "2022-01-30T19:37:19.838Z"
   },
   {
    "duration": 16,
    "start_time": "2022-01-30T19:37:19.854Z"
   },
   {
    "duration": 35,
    "start_time": "2022-01-30T19:37:19.908Z"
   },
   {
    "duration": 18,
    "start_time": "2022-01-30T19:37:19.945Z"
   },
   {
    "duration": 58,
    "start_time": "2022-01-30T19:37:19.966Z"
   },
   {
    "duration": 40,
    "start_time": "2022-01-30T19:37:20.026Z"
   },
   {
    "duration": 18,
    "start_time": "2022-01-30T19:37:20.068Z"
   },
   {
    "duration": 9,
    "start_time": "2022-01-30T19:37:20.108Z"
   },
   {
    "duration": 30,
    "start_time": "2022-01-30T19:37:20.118Z"
   },
   {
    "duration": 21,
    "start_time": "2022-01-30T19:37:20.150Z"
   },
   {
    "duration": 20,
    "start_time": "2022-01-30T19:37:20.173Z"
   },
   {
    "duration": 7,
    "start_time": "2022-01-30T19:37:20.206Z"
   },
   {
    "duration": 15,
    "start_time": "2022-01-30T19:37:20.215Z"
   },
   {
    "duration": 17,
    "start_time": "2022-01-30T19:37:20.232Z"
   },
   {
    "duration": 10,
    "start_time": "2022-01-30T19:37:20.251Z"
   },
   {
    "duration": 15,
    "start_time": "2022-01-30T19:37:20.263Z"
   },
   {
    "duration": 111,
    "start_time": "2022-01-30T19:37:20.280Z"
   },
   {
    "duration": -170,
    "start_time": "2022-01-30T19:37:20.564Z"
   },
   {
    "duration": -181,
    "start_time": "2022-01-30T19:37:20.577Z"
   },
   {
    "duration": -190,
    "start_time": "2022-01-30T19:37:20.587Z"
   },
   {
    "duration": -234,
    "start_time": "2022-01-30T19:37:20.633Z"
   },
   {
    "duration": -242,
    "start_time": "2022-01-30T19:37:20.642Z"
   },
   {
    "duration": -251,
    "start_time": "2022-01-30T19:37:20.652Z"
   },
   {
    "duration": -258,
    "start_time": "2022-01-30T19:37:20.660Z"
   },
   {
    "duration": -265,
    "start_time": "2022-01-30T19:37:20.669Z"
   },
   {
    "duration": -274,
    "start_time": "2022-01-30T19:37:20.679Z"
   },
   {
    "duration": -283,
    "start_time": "2022-01-30T19:37:20.689Z"
   },
   {
    "duration": -292,
    "start_time": "2022-01-30T19:37:20.700Z"
   },
   {
    "duration": -301,
    "start_time": "2022-01-30T19:37:20.710Z"
   },
   {
    "duration": -308,
    "start_time": "2022-01-30T19:37:20.718Z"
   },
   {
    "duration": -331,
    "start_time": "2022-01-30T19:37:20.742Z"
   },
   {
    "duration": -337,
    "start_time": "2022-01-30T19:37:20.750Z"
   },
   {
    "duration": -346,
    "start_time": "2022-01-30T19:37:20.760Z"
   },
   {
    "duration": -353,
    "start_time": "2022-01-30T19:37:20.768Z"
   },
   {
    "duration": -361,
    "start_time": "2022-01-30T19:37:20.778Z"
   },
   {
    "duration": -368,
    "start_time": "2022-01-30T19:37:20.786Z"
   },
   {
    "duration": -377,
    "start_time": "2022-01-30T19:37:20.796Z"
   },
   {
    "duration": -386,
    "start_time": "2022-01-30T19:37:20.806Z"
   },
   {
    "duration": 266,
    "start_time": "2022-01-30T19:37:32.320Z"
   },
   {
    "duration": 88,
    "start_time": "2022-01-30T19:37:42.426Z"
   },
   {
    "duration": 16,
    "start_time": "2022-01-30T19:37:42.604Z"
   },
   {
    "duration": 14,
    "start_time": "2022-01-30T19:37:43.899Z"
   },
   {
    "duration": 9,
    "start_time": "2022-01-30T19:37:44.656Z"
   },
   {
    "duration": 14,
    "start_time": "2022-01-30T19:37:45.296Z"
   },
   {
    "duration": 41,
    "start_time": "2022-01-30T19:37:45.594Z"
   },
   {
    "duration": 20,
    "start_time": "2022-01-30T19:37:48.179Z"
   },
   {
    "duration": 23,
    "start_time": "2022-01-30T19:37:49.541Z"
   },
   {
    "duration": 46,
    "start_time": "2022-01-30T19:37:49.855Z"
   },
   {
    "duration": 27,
    "start_time": "2022-01-30T19:37:50.392Z"
   },
   {
    "duration": 8,
    "start_time": "2022-01-30T19:37:50.634Z"
   },
   {
    "duration": 9,
    "start_time": "2022-01-30T19:37:51.115Z"
   },
   {
    "duration": 12,
    "start_time": "2022-01-30T19:37:51.823Z"
   },
   {
    "duration": 12,
    "start_time": "2022-01-30T19:37:52.071Z"
   },
   {
    "duration": 8,
    "start_time": "2022-01-30T19:37:52.526Z"
   },
   {
    "duration": 10,
    "start_time": "2022-01-30T19:37:52.777Z"
   },
   {
    "duration": 11,
    "start_time": "2022-01-30T19:37:53.032Z"
   },
   {
    "duration": 10,
    "start_time": "2022-01-30T19:37:53.283Z"
   },
   {
    "duration": 8,
    "start_time": "2022-01-30T19:37:53.541Z"
   },
   {
    "duration": 111,
    "start_time": "2022-01-30T19:37:53.805Z"
   },
   {
    "duration": 7,
    "start_time": "2022-01-30T19:37:54.063Z"
   },
   {
    "duration": 9,
    "start_time": "2022-01-30T19:37:54.329Z"
   },
   {
    "duration": 8,
    "start_time": "2022-01-30T19:38:02.917Z"
   },
   {
    "duration": 9,
    "start_time": "2022-01-30T19:38:04.035Z"
   },
   {
    "duration": 7,
    "start_time": "2022-01-30T19:38:04.805Z"
   },
   {
    "duration": 4381,
    "start_time": "2022-01-30T19:38:07.259Z"
   },
   {
    "duration": 11,
    "start_time": "2022-01-30T19:38:11.643Z"
   },
   {
    "duration": 25,
    "start_time": "2022-01-30T19:38:11.656Z"
   },
   {
    "duration": 7,
    "start_time": "2022-01-30T19:38:12.431Z"
   },
   {
    "duration": 11,
    "start_time": "2022-01-30T19:38:12.908Z"
   },
   {
    "duration": 10,
    "start_time": "2022-01-30T19:38:13.733Z"
   },
   {
    "duration": 7,
    "start_time": "2022-01-30T19:38:14.500Z"
   },
   {
    "duration": 4,
    "start_time": "2022-01-30T19:38:15.554Z"
   },
   {
    "duration": 342,
    "start_time": "2022-01-30T19:38:16.019Z"
   },
   {
    "duration": 4,
    "start_time": "2022-01-30T19:38:16.796Z"
   },
   {
    "duration": 286,
    "start_time": "2022-01-30T19:38:17.171Z"
   },
   {
    "duration": 4,
    "start_time": "2022-01-30T19:38:17.575Z"
   },
   {
    "duration": 246,
    "start_time": "2022-01-30T19:38:17.955Z"
   },
   {
    "duration": 3,
    "start_time": "2022-01-30T19:38:18.851Z"
   },
   {
    "duration": 256,
    "start_time": "2022-01-30T19:38:20.043Z"
   },
   {
    "duration": 19,
    "start_time": "2022-01-30T19:38:22.385Z"
   },
   {
    "duration": 11,
    "start_time": "2022-01-30T19:38:23.225Z"
   },
   {
    "duration": 16,
    "start_time": "2022-01-30T19:38:24.085Z"
   },
   {
    "duration": 11,
    "start_time": "2022-01-30T19:38:24.995Z"
   },
   {
    "duration": 23,
    "start_time": "2022-01-30T19:38:31.434Z"
   },
   {
    "duration": 18,
    "start_time": "2022-01-30T19:38:32.937Z"
   },
   {
    "duration": 13,
    "start_time": "2022-01-30T19:38:33.596Z"
   },
   {
    "duration": 29,
    "start_time": "2022-01-30T19:39:07.216Z"
   },
   {
    "duration": 32,
    "start_time": "2022-01-30T19:39:23.136Z"
   },
   {
    "duration": 1792,
    "start_time": "2022-02-08T18:47:40.375Z"
   },
   {
    "duration": 17,
    "start_time": "2022-02-08T18:47:42.170Z"
   },
   {
    "duration": 14,
    "start_time": "2022-02-08T18:47:42.190Z"
   },
   {
    "duration": 46,
    "start_time": "2022-02-08T18:47:42.208Z"
   },
   {
    "duration": 25,
    "start_time": "2022-02-08T18:47:42.257Z"
   },
   {
    "duration": 83,
    "start_time": "2022-02-08T18:47:42.285Z"
   },
   {
    "duration": 29,
    "start_time": "2022-02-08T18:47:42.371Z"
   },
   {
    "duration": 58,
    "start_time": "2022-02-08T18:47:42.405Z"
   },
   {
    "duration": 68,
    "start_time": "2022-02-08T18:47:42.466Z"
   },
   {
    "duration": 30,
    "start_time": "2022-02-08T18:47:42.538Z"
   },
   {
    "duration": 12,
    "start_time": "2022-02-08T18:47:42.571Z"
   },
   {
    "duration": 14,
    "start_time": "2022-02-08T18:47:42.585Z"
   },
   {
    "duration": 14,
    "start_time": "2022-02-08T18:47:42.633Z"
   },
   {
    "duration": 28,
    "start_time": "2022-02-08T18:47:42.650Z"
   },
   {
    "duration": 8,
    "start_time": "2022-02-08T18:47:42.680Z"
   },
   {
    "duration": 49,
    "start_time": "2022-02-08T18:47:42.690Z"
   },
   {
    "duration": 22,
    "start_time": "2022-02-08T18:47:42.746Z"
   },
   {
    "duration": 12,
    "start_time": "2022-02-08T18:47:42.771Z"
   },
   {
    "duration": 13,
    "start_time": "2022-02-08T18:47:42.786Z"
   },
   {
    "duration": 34,
    "start_time": "2022-02-08T18:47:42.802Z"
   },
   {
    "duration": 14,
    "start_time": "2022-02-08T18:47:42.838Z"
   },
   {
    "duration": 12,
    "start_time": "2022-02-08T18:47:42.855Z"
   },
   {
    "duration": 6671,
    "start_time": "2022-02-08T18:47:42.874Z"
   },
   {
    "duration": 15,
    "start_time": "2022-02-08T18:47:49.550Z"
   },
   {
    "duration": 27,
    "start_time": "2022-02-08T18:47:49.567Z"
   },
   {
    "duration": 8,
    "start_time": "2022-02-08T18:47:49.596Z"
   },
   {
    "duration": 23,
    "start_time": "2022-02-08T18:47:49.634Z"
   },
   {
    "duration": 14,
    "start_time": "2022-02-08T18:47:49.659Z"
   },
   {
    "duration": 14,
    "start_time": "2022-02-08T18:47:49.676Z"
   },
   {
    "duration": 46,
    "start_time": "2022-02-08T18:47:49.692Z"
   },
   {
    "duration": 633,
    "start_time": "2022-02-08T18:47:49.742Z"
   },
   {
    "duration": 5,
    "start_time": "2022-02-08T18:47:50.379Z"
   },
   {
    "duration": 750,
    "start_time": "2022-02-08T18:47:50.388Z"
   },
   {
    "duration": 5,
    "start_time": "2022-02-08T18:47:51.141Z"
   },
   {
    "duration": 616,
    "start_time": "2022-02-08T18:47:51.148Z"
   },
   {
    "duration": 5,
    "start_time": "2022-02-08T18:47:51.767Z"
   },
   {
    "duration": 446,
    "start_time": "2022-02-08T18:47:51.775Z"
   },
   {
    "duration": 41,
    "start_time": "2022-02-08T18:47:52.224Z"
   },
   {
    "duration": 19,
    "start_time": "2022-02-08T18:47:52.268Z"
   },
   {
    "duration": 63,
    "start_time": "2022-02-08T18:47:52.289Z"
   },
   {
    "duration": 13,
    "start_time": "2022-02-08T18:47:52.355Z"
   },
   {
    "duration": 63,
    "start_time": "2022-02-08T18:47:52.372Z"
   },
   {
    "duration": 28,
    "start_time": "2022-02-08T18:47:52.439Z"
   },
   {
    "duration": 14,
    "start_time": "2022-02-08T18:47:52.470Z"
   },
   {
    "duration": 79,
    "start_time": "2022-02-08T18:47:52.487Z"
   },
   {
    "duration": 35,
    "start_time": "2022-02-08T18:47:52.569Z"
   },
   {
    "duration": 1665,
    "start_time": "2022-02-08T19:27:32.088Z"
   },
   {
    "duration": 20,
    "start_time": "2022-02-08T19:27:33.756Z"
   },
   {
    "duration": 13,
    "start_time": "2022-02-08T19:27:33.781Z"
   },
   {
    "duration": 41,
    "start_time": "2022-02-08T19:27:33.798Z"
   },
   {
    "duration": 15,
    "start_time": "2022-02-08T19:27:33.842Z"
   },
   {
    "duration": 80,
    "start_time": "2022-02-08T19:27:33.860Z"
   },
   {
    "duration": 22,
    "start_time": "2022-02-08T19:27:33.942Z"
   },
   {
    "duration": 26,
    "start_time": "2022-02-08T19:27:33.968Z"
   },
   {
    "duration": 101,
    "start_time": "2022-02-08T19:27:33.998Z"
   },
   {
    "duration": 52,
    "start_time": "2022-02-08T19:27:34.102Z"
   },
   {
    "duration": 13,
    "start_time": "2022-02-08T19:27:34.157Z"
   },
   {
    "duration": 36,
    "start_time": "2022-02-08T19:27:34.173Z"
   },
   {
    "duration": 25,
    "start_time": "2022-02-08T19:27:34.212Z"
   },
   {
    "duration": 14,
    "start_time": "2022-02-08T19:27:34.240Z"
   },
   {
    "duration": 27,
    "start_time": "2022-02-08T19:27:34.257Z"
   },
   {
    "duration": 27,
    "start_time": "2022-02-08T19:27:34.287Z"
   },
   {
    "duration": 16,
    "start_time": "2022-02-08T19:27:34.317Z"
   },
   {
    "duration": 13,
    "start_time": "2022-02-08T19:27:34.335Z"
   },
   {
    "duration": 18,
    "start_time": "2022-02-08T19:27:34.350Z"
   },
   {
    "duration": 16,
    "start_time": "2022-02-08T19:27:34.371Z"
   },
   {
    "duration": 28,
    "start_time": "2022-02-08T19:27:34.390Z"
   },
   {
    "duration": 13,
    "start_time": "2022-02-08T19:27:34.421Z"
   },
   {
    "duration": 5162,
    "start_time": "2022-02-08T19:27:34.441Z"
   },
   {
    "duration": 10,
    "start_time": "2022-02-08T19:27:39.608Z"
   },
   {
    "duration": 21,
    "start_time": "2022-02-08T19:27:39.634Z"
   },
   {
    "duration": 8,
    "start_time": "2022-02-08T19:27:39.658Z"
   },
   {
    "duration": 15,
    "start_time": "2022-02-08T19:27:39.669Z"
   },
   {
    "duration": 56,
    "start_time": "2022-02-08T19:27:39.686Z"
   },
   {
    "duration": 8,
    "start_time": "2022-02-08T19:27:39.745Z"
   },
   {
    "duration": 6,
    "start_time": "2022-02-08T19:27:39.756Z"
   },
   {
    "duration": 955,
    "start_time": "2022-02-08T19:27:39.764Z"
   },
   {
    "duration": 5,
    "start_time": "2022-02-08T19:27:40.722Z"
   },
   {
    "duration": 805,
    "start_time": "2022-02-08T19:27:40.734Z"
   },
   {
    "duration": 4,
    "start_time": "2022-02-08T19:27:41.542Z"
   },
   {
    "duration": 820,
    "start_time": "2022-02-08T19:27:41.549Z"
   },
   {
    "duration": 5,
    "start_time": "2022-02-08T19:27:42.372Z"
   },
   {
    "duration": 453,
    "start_time": "2022-02-08T19:27:42.380Z"
   },
   {
    "duration": 36,
    "start_time": "2022-02-08T19:27:42.837Z"
   },
   {
    "duration": 15,
    "start_time": "2022-02-08T19:27:42.876Z"
   },
   {
    "duration": 50,
    "start_time": "2022-02-08T19:27:42.893Z"
   },
   {
    "duration": 14,
    "start_time": "2022-02-08T19:27:42.946Z"
   },
   {
    "duration": 32,
    "start_time": "2022-02-08T19:27:42.963Z"
   },
   {
    "duration": 60,
    "start_time": "2022-02-08T19:27:42.997Z"
   },
   {
    "duration": 21,
    "start_time": "2022-02-08T19:27:43.061Z"
   },
   {
    "duration": 66,
    "start_time": "2022-02-08T19:27:43.086Z"
   },
   {
    "duration": 32,
    "start_time": "2022-02-08T19:27:43.154Z"
   },
   {
    "duration": 293,
    "start_time": "2022-02-09T03:47:39.734Z"
   },
   {
    "duration": 1209,
    "start_time": "2022-02-09T03:47:45.344Z"
   },
   {
    "duration": 10,
    "start_time": "2022-02-09T03:47:46.555Z"
   },
   {
    "duration": 9,
    "start_time": "2022-02-09T03:47:46.567Z"
   },
   {
    "duration": 7,
    "start_time": "2022-02-09T03:47:46.578Z"
   },
   {
    "duration": 32,
    "start_time": "2022-02-09T03:47:46.586Z"
   },
   {
    "duration": 29,
    "start_time": "2022-02-09T03:47:46.620Z"
   },
   {
    "duration": 13,
    "start_time": "2022-02-09T03:47:46.651Z"
   },
   {
    "duration": 22,
    "start_time": "2022-02-09T03:47:46.667Z"
   },
   {
    "duration": 53,
    "start_time": "2022-02-09T03:47:46.691Z"
   },
   {
    "duration": 16,
    "start_time": "2022-02-09T03:47:46.746Z"
   },
   {
    "duration": 13,
    "start_time": "2022-02-09T03:47:46.763Z"
   },
   {
    "duration": 4,
    "start_time": "2022-02-09T03:47:46.778Z"
   },
   {
    "duration": 10,
    "start_time": "2022-02-09T03:47:46.784Z"
   },
   {
    "duration": 2,
    "start_time": "2022-02-09T03:48:11.402Z"
   },
   {
    "duration": 3,
    "start_time": "2022-02-09T11:32:21.183Z"
   },
   {
    "duration": 440,
    "start_time": "2022-02-09T11:35:01.517Z"
   },
   {
    "duration": 59,
    "start_time": "2022-02-09T11:35:06.761Z"
   },
   {
    "duration": 11,
    "start_time": "2022-02-09T11:35:06.822Z"
   },
   {
    "duration": 13,
    "start_time": "2022-02-09T11:35:06.836Z"
   },
   {
    "duration": 21,
    "start_time": "2022-02-09T11:35:06.852Z"
   },
   {
    "duration": 35,
    "start_time": "2022-02-09T11:35:06.876Z"
   },
   {
    "duration": 44,
    "start_time": "2022-02-09T11:35:06.920Z"
   },
   {
    "duration": 14,
    "start_time": "2022-02-09T11:35:06.966Z"
   },
   {
    "duration": 51,
    "start_time": "2022-02-09T11:35:06.981Z"
   },
   {
    "duration": 52,
    "start_time": "2022-02-09T11:35:07.034Z"
   },
   {
    "duration": 53,
    "start_time": "2022-02-09T11:35:07.088Z"
   },
   {
    "duration": 7,
    "start_time": "2022-02-09T11:35:07.143Z"
   },
   {
    "duration": 23,
    "start_time": "2022-02-09T11:35:07.152Z"
   },
   {
    "duration": 26,
    "start_time": "2022-02-09T11:35:07.177Z"
   },
   {
    "duration": 26,
    "start_time": "2022-02-09T11:35:07.205Z"
   },
   {
    "duration": 20,
    "start_time": "2022-02-09T11:35:07.233Z"
   },
   {
    "duration": 31,
    "start_time": "2022-02-09T11:35:07.255Z"
   },
   {
    "duration": 15,
    "start_time": "2022-02-09T11:35:07.288Z"
   },
   {
    "duration": 9,
    "start_time": "2022-02-09T11:35:07.305Z"
   },
   {
    "duration": 10,
    "start_time": "2022-02-09T11:35:07.317Z"
   },
   {
    "duration": 10,
    "start_time": "2022-02-09T11:35:07.330Z"
   },
   {
    "duration": 12,
    "start_time": "2022-02-09T11:35:07.343Z"
   },
   {
    "duration": 13,
    "start_time": "2022-02-09T11:35:07.357Z"
   },
   {
    "duration": 4284,
    "start_time": "2022-02-09T11:35:07.372Z"
   },
   {
    "duration": 7,
    "start_time": "2022-02-09T11:35:11.658Z"
   },
   {
    "duration": 16,
    "start_time": "2022-02-09T11:35:11.669Z"
   },
   {
    "duration": 32,
    "start_time": "2022-02-09T11:35:11.688Z"
   },
   {
    "duration": 9,
    "start_time": "2022-02-09T11:35:11.722Z"
   },
   {
    "duration": 9,
    "start_time": "2022-02-09T11:35:11.733Z"
   },
   {
    "duration": 12,
    "start_time": "2022-02-09T11:35:11.744Z"
   },
   {
    "duration": 4,
    "start_time": "2022-02-09T11:35:11.758Z"
   },
   {
    "duration": 348,
    "start_time": "2022-02-09T11:35:11.764Z"
   },
   {
    "duration": 4,
    "start_time": "2022-02-09T11:35:12.114Z"
   },
   {
    "duration": 291,
    "start_time": "2022-02-09T11:35:12.120Z"
   },
   {
    "duration": 5,
    "start_time": "2022-02-09T11:35:12.413Z"
   },
   {
    "duration": 257,
    "start_time": "2022-02-09T11:35:12.420Z"
   },
   {
    "duration": 4,
    "start_time": "2022-02-09T11:35:12.679Z"
   },
   {
    "duration": 273,
    "start_time": "2022-02-09T11:35:12.684Z"
   },
   {
    "duration": 17,
    "start_time": "2022-02-09T11:35:12.959Z"
   },
   {
    "duration": 15,
    "start_time": "2022-02-09T11:35:12.977Z"
   },
   {
    "duration": 35,
    "start_time": "2022-02-09T11:35:12.993Z"
   },
   {
    "duration": 19,
    "start_time": "2022-02-09T11:35:13.030Z"
   },
   {
    "duration": 121,
    "start_time": "2022-02-09T11:35:28.268Z"
   },
   {
    "duration": 9,
    "start_time": "2022-02-09T11:35:42.732Z"
   },
   {
    "duration": 13,
    "start_time": "2022-02-09T11:36:04.432Z"
   },
   {
    "duration": 2,
    "start_time": "2022-02-09T11:40:02.026Z"
   },
   {
    "duration": 483,
    "start_time": "2022-02-09T11:40:35.932Z"
   },
   {
    "duration": 336,
    "start_time": "2022-02-09T11:41:34.733Z"
   },
   {
    "duration": 75,
    "start_time": "2022-02-09T11:41:45.862Z"
   },
   {
    "duration": 12,
    "start_time": "2022-02-09T11:41:45.939Z"
   },
   {
    "duration": 9,
    "start_time": "2022-02-09T11:41:45.953Z"
   },
   {
    "duration": 7,
    "start_time": "2022-02-09T11:41:45.964Z"
   },
   {
    "duration": 46,
    "start_time": "2022-02-09T11:41:45.972Z"
   },
   {
    "duration": 34,
    "start_time": "2022-02-09T11:41:46.021Z"
   },
   {
    "duration": 16,
    "start_time": "2022-02-09T11:41:46.057Z"
   },
   {
    "duration": 50,
    "start_time": "2022-02-09T11:41:46.076Z"
   },
   {
    "duration": 32,
    "start_time": "2022-02-09T11:41:46.128Z"
   },
   {
    "duration": 15,
    "start_time": "2022-02-09T11:41:46.162Z"
   },
   {
    "duration": 9,
    "start_time": "2022-02-09T11:41:46.179Z"
   },
   {
    "duration": 8,
    "start_time": "2022-02-09T11:41:46.219Z"
   },
   {
    "duration": 2,
    "start_time": "2022-02-09T11:41:46.229Z"
   },
   {
    "duration": 7,
    "start_time": "2022-02-09T11:41:46.233Z"
   },
   {
    "duration": 9,
    "start_time": "2022-02-09T11:41:46.242Z"
   },
   {
    "duration": 11,
    "start_time": "2022-02-09T11:41:46.253Z"
   },
   {
    "duration": 9,
    "start_time": "2022-02-09T11:41:46.266Z"
   },
   {
    "duration": 7,
    "start_time": "2022-02-09T11:41:46.276Z"
   },
   {
    "duration": 41,
    "start_time": "2022-02-09T11:41:46.285Z"
   },
   {
    "duration": 8,
    "start_time": "2022-02-09T11:41:46.328Z"
   },
   {
    "duration": 11,
    "start_time": "2022-02-09T11:41:46.340Z"
   },
   {
    "duration": 7,
    "start_time": "2022-02-09T11:41:46.353Z"
   },
   {
    "duration": 3801,
    "start_time": "2022-02-09T11:41:46.362Z"
   },
   {
    "duration": 8,
    "start_time": "2022-02-09T11:41:50.165Z"
   },
   {
    "duration": 22,
    "start_time": "2022-02-09T11:41:50.175Z"
   },
   {
    "duration": 20,
    "start_time": "2022-02-09T11:41:50.198Z"
   },
   {
    "duration": 7,
    "start_time": "2022-02-09T11:41:50.220Z"
   },
   {
    "duration": 11,
    "start_time": "2022-02-09T11:41:50.229Z"
   },
   {
    "duration": 6,
    "start_time": "2022-02-09T11:41:50.242Z"
   },
   {
    "duration": 6,
    "start_time": "2022-02-09T11:41:50.250Z"
   },
   {
    "duration": 354,
    "start_time": "2022-02-09T11:41:50.258Z"
   },
   {
    "duration": 4,
    "start_time": "2022-02-09T11:41:50.614Z"
   },
   {
    "duration": 275,
    "start_time": "2022-02-09T11:41:50.620Z"
   },
   {
    "duration": 3,
    "start_time": "2022-02-09T11:41:50.897Z"
   },
   {
    "duration": 249,
    "start_time": "2022-02-09T11:41:50.902Z"
   },
   {
    "duration": 4,
    "start_time": "2022-02-09T11:41:51.153Z"
   },
   {
    "duration": 254,
    "start_time": "2022-02-09T11:41:51.159Z"
   },
   {
    "duration": 18,
    "start_time": "2022-02-09T11:41:51.415Z"
   },
   {
    "duration": 10,
    "start_time": "2022-02-09T11:41:51.435Z"
   },
   {
    "duration": 18,
    "start_time": "2022-02-09T11:41:51.447Z"
   },
   {
    "duration": 19,
    "start_time": "2022-02-09T11:41:51.467Z"
   },
   {
    "duration": 43,
    "start_time": "2022-02-09T11:41:51.488Z"
   },
   {
    "duration": 15,
    "start_time": "2022-02-09T11:41:51.535Z"
   },
   {
    "duration": 8,
    "start_time": "2022-02-09T11:45:29.898Z"
   },
   {
    "duration": 3,
    "start_time": "2022-02-09T11:47:04.101Z"
   },
   {
    "duration": 14,
    "start_time": "2022-02-09T11:47:11.884Z"
   },
   {
    "duration": 18,
    "start_time": "2022-02-09T11:47:24.702Z"
   },
   {
    "duration": 319,
    "start_time": "2022-02-09T11:51:55.279Z"
   },
   {
    "duration": 19,
    "start_time": "2022-02-09T11:52:02.570Z"
   },
   {
    "duration": 10,
    "start_time": "2022-02-09T11:52:09.354Z"
   },
   {
    "duration": 20,
    "start_time": "2022-02-09T12:36:52.847Z"
   },
   {
    "duration": 58,
    "start_time": "2022-02-09T12:36:56.717Z"
   },
   {
    "duration": 57,
    "start_time": "2022-02-09T12:37:35.622Z"
   },
   {
    "duration": 16,
    "start_time": "2022-02-09T12:44:17.862Z"
   },
   {
    "duration": 260,
    "start_time": "2022-02-09T12:44:53.011Z"
   },
   {
    "duration": 18,
    "start_time": "2022-02-09T12:45:04.457Z"
   },
   {
    "duration": 2,
    "start_time": "2022-02-09T13:01:51.868Z"
   },
   {
    "duration": 2,
    "start_time": "2022-02-09T13:04:11.063Z"
   },
   {
    "duration": 2,
    "start_time": "2022-02-09T13:04:11.778Z"
   },
   {
    "duration": 4,
    "start_time": "2022-02-09T13:04:12.440Z"
   },
   {
    "duration": 3,
    "start_time": "2022-02-09T13:05:26.291Z"
   },
   {
    "duration": 58,
    "start_time": "2022-02-09T13:05:26.304Z"
   },
   {
    "duration": 11,
    "start_time": "2022-02-09T13:05:26.364Z"
   },
   {
    "duration": 11,
    "start_time": "2022-02-09T13:05:26.377Z"
   },
   {
    "duration": 28,
    "start_time": "2022-02-09T13:05:26.390Z"
   },
   {
    "duration": 12,
    "start_time": "2022-02-09T13:05:26.420Z"
   },
   {
    "duration": 37,
    "start_time": "2022-02-09T13:05:26.434Z"
   },
   {
    "duration": 14,
    "start_time": "2022-02-09T13:05:26.472Z"
   },
   {
    "duration": 49,
    "start_time": "2022-02-09T13:05:26.488Z"
   },
   {
    "duration": 33,
    "start_time": "2022-02-09T13:05:26.539Z"
   },
   {
    "duration": 16,
    "start_time": "2022-02-09T13:05:26.574Z"
   },
   {
    "duration": 7,
    "start_time": "2022-02-09T13:05:26.618Z"
   },
   {
    "duration": 13,
    "start_time": "2022-02-09T13:05:26.627Z"
   },
   {
    "duration": 3,
    "start_time": "2022-02-09T13:05:26.642Z"
   },
   {
    "duration": 9,
    "start_time": "2022-02-09T13:05:26.647Z"
   },
   {
    "duration": 8,
    "start_time": "2022-02-09T13:05:26.657Z"
   },
   {
    "duration": 11,
    "start_time": "2022-02-09T13:05:26.666Z"
   },
   {
    "duration": 11,
    "start_time": "2022-02-09T13:05:26.680Z"
   },
   {
    "duration": 32,
    "start_time": "2022-02-09T13:05:26.693Z"
   },
   {
    "duration": 7,
    "start_time": "2022-02-09T13:05:26.727Z"
   },
   {
    "duration": 13,
    "start_time": "2022-02-09T13:05:26.736Z"
   },
   {
    "duration": 13,
    "start_time": "2022-02-09T13:05:26.751Z"
   },
   {
    "duration": 10,
    "start_time": "2022-02-09T13:05:26.766Z"
   },
   {
    "duration": 3542,
    "start_time": "2022-02-09T13:05:26.777Z"
   },
   {
    "duration": 7,
    "start_time": "2022-02-09T13:05:30.321Z"
   },
   {
    "duration": 30,
    "start_time": "2022-02-09T13:05:30.330Z"
   },
   {
    "duration": 65371,
    "start_time": "2022-02-09T13:05:30.363Z"
   },
   {
    "duration": 2649,
    "start_time": "2022-02-09T13:06:33.087Z"
   },
   {
    "duration": 2632,
    "start_time": "2022-02-09T13:06:33.105Z"
   },
   {
    "duration": 2619,
    "start_time": "2022-02-09T13:06:33.119Z"
   },
   {
    "duration": 2609,
    "start_time": "2022-02-09T13:06:33.130Z"
   },
   {
    "duration": 2597,
    "start_time": "2022-02-09T13:06:33.143Z"
   },
   {
    "duration": 2587,
    "start_time": "2022-02-09T13:06:33.154Z"
   },
   {
    "duration": 2552,
    "start_time": "2022-02-09T13:06:33.190Z"
   },
   {
    "duration": 2541,
    "start_time": "2022-02-09T13:06:33.202Z"
   },
   {
    "duration": 2529,
    "start_time": "2022-02-09T13:06:33.215Z"
   },
   {
    "duration": 2519,
    "start_time": "2022-02-09T13:06:33.226Z"
   },
   {
    "duration": 2506,
    "start_time": "2022-02-09T13:06:33.240Z"
   },
   {
    "duration": 2495,
    "start_time": "2022-02-09T13:06:33.251Z"
   },
   {
    "duration": 2484,
    "start_time": "2022-02-09T13:06:33.263Z"
   },
   {
    "duration": 2474,
    "start_time": "2022-02-09T13:06:33.274Z"
   },
   {
    "duration": 2447,
    "start_time": "2022-02-09T13:06:33.302Z"
   },
   {
    "duration": 2436,
    "start_time": "2022-02-09T13:06:33.314Z"
   },
   {
    "duration": 2409,
    "start_time": "2022-02-09T13:06:33.342Z"
   },
   {
    "duration": 2387,
    "start_time": "2022-02-09T13:06:33.365Z"
   },
   {
    "duration": 2351,
    "start_time": "2022-02-09T13:06:33.402Z"
   },
   {
    "duration": 2339,
    "start_time": "2022-02-09T13:06:33.415Z"
   },
   {
    "duration": 14,
    "start_time": "2022-02-09T13:07:19.122Z"
   },
   {
    "duration": 2,
    "start_time": "2022-02-09T13:11:39.830Z"
   },
   {
    "duration": 2,
    "start_time": "2022-02-09T13:11:55.158Z"
   },
   {
    "duration": 21,
    "start_time": "2022-02-09T13:13:08.729Z"
   },
   {
    "duration": 10,
    "start_time": "2022-02-09T13:13:11.574Z"
   },
   {
    "duration": 319,
    "start_time": "2022-02-09T13:13:23.729Z"
   },
   {
    "duration": 21,
    "start_time": "2022-02-09T13:13:32.192Z"
   },
   {
    "duration": 58,
    "start_time": "2022-02-09T13:13:32.215Z"
   },
   {
    "duration": 10,
    "start_time": "2022-02-09T13:13:32.276Z"
   },
   {
    "duration": 10,
    "start_time": "2022-02-09T13:13:32.288Z"
   },
   {
    "duration": 26,
    "start_time": "2022-02-09T13:13:32.300Z"
   },
   {
    "duration": 12,
    "start_time": "2022-02-09T13:13:32.328Z"
   },
   {
    "duration": 29,
    "start_time": "2022-02-09T13:13:32.342Z"
   },
   {
    "duration": 13,
    "start_time": "2022-02-09T13:13:32.373Z"
   },
   {
    "duration": 44,
    "start_time": "2022-02-09T13:13:32.388Z"
   },
   {
    "duration": 34,
    "start_time": "2022-02-09T13:13:32.434Z"
   },
   {
    "duration": 18,
    "start_time": "2022-02-09T13:13:32.470Z"
   },
   {
    "duration": 35,
    "start_time": "2022-02-09T13:13:32.489Z"
   },
   {
    "duration": 19,
    "start_time": "2022-02-09T13:13:32.526Z"
   },
   {
    "duration": 3,
    "start_time": "2022-02-09T13:13:32.547Z"
   },
   {
    "duration": 4,
    "start_time": "2022-02-09T13:13:32.553Z"
   },
   {
    "duration": 10,
    "start_time": "2022-02-09T13:13:32.559Z"
   },
   {
    "duration": 10,
    "start_time": "2022-02-09T13:13:32.571Z"
   },
   {
    "duration": 37,
    "start_time": "2022-02-09T13:13:32.582Z"
   },
   {
    "duration": 9,
    "start_time": "2022-02-09T13:13:32.621Z"
   },
   {
    "duration": 27,
    "start_time": "2022-02-09T13:13:32.632Z"
   },
   {
    "duration": 13,
    "start_time": "2022-02-09T13:13:32.660Z"
   },
   {
    "duration": 12,
    "start_time": "2022-02-09T13:13:32.675Z"
   },
   {
    "duration": 8,
    "start_time": "2022-02-09T13:13:32.688Z"
   },
   {
    "duration": 3792,
    "start_time": "2022-02-09T13:13:32.698Z"
   },
   {
    "duration": 8,
    "start_time": "2022-02-09T13:13:36.492Z"
   },
   {
    "duration": 28,
    "start_time": "2022-02-09T13:13:36.501Z"
   },
   {
    "duration": 13,
    "start_time": "2022-02-09T13:13:36.532Z"
   },
   {
    "duration": 2,
    "start_time": "2022-02-09T13:13:36.548Z"
   },
   {
    "duration": 6,
    "start_time": "2022-02-09T13:13:36.551Z"
   },
   {
    "duration": 6,
    "start_time": "2022-02-09T13:13:36.559Z"
   },
   {
    "duration": 410,
    "start_time": "2022-02-09T13:13:36.567Z"
   },
   {
    "duration": 3,
    "start_time": "2022-02-09T13:13:36.979Z"
   },
   {
    "duration": 275,
    "start_time": "2022-02-09T13:13:36.984Z"
   },
   {
    "duration": 3,
    "start_time": "2022-02-09T13:13:37.260Z"
   },
   {
    "duration": 237,
    "start_time": "2022-02-09T13:13:37.265Z"
   },
   {
    "duration": 2,
    "start_time": "2022-02-09T13:13:37.504Z"
   },
   {
    "duration": 10,
    "start_time": "2022-02-09T13:13:37.508Z"
   },
   {
    "duration": 8,
    "start_time": "2022-02-09T13:13:37.520Z"
   },
   {
    "duration": 23,
    "start_time": "2022-02-09T13:13:37.530Z"
   },
   {
    "duration": 10,
    "start_time": "2022-02-09T13:13:37.555Z"
   },
   {
    "duration": 19,
    "start_time": "2022-02-09T13:13:37.567Z"
   },
   {
    "duration": 9,
    "start_time": "2022-02-09T13:13:37.588Z"
   },
   {
    "duration": 2,
    "start_time": "2022-02-09T13:13:37.619Z"
   },
   {
    "duration": 28,
    "start_time": "2022-02-09T13:13:37.623Z"
   },
   {
    "duration": 8,
    "start_time": "2022-02-09T13:13:37.652Z"
   },
   {
    "duration": 29,
    "start_time": "2022-02-09T13:13:37.662Z"
   },
   {
    "duration": 22,
    "start_time": "2022-02-09T13:16:28.396Z"
   },
   {
    "duration": 1161,
    "start_time": "2022-02-09T14:20:39.778Z"
   },
   {
    "duration": 59,
    "start_time": "2022-02-09T14:20:40.941Z"
   },
   {
    "duration": 15,
    "start_time": "2022-02-09T14:20:41.004Z"
   },
   {
    "duration": 8,
    "start_time": "2022-02-09T14:20:41.021Z"
   },
   {
    "duration": 7,
    "start_time": "2022-02-09T14:20:41.032Z"
   },
   {
    "duration": 12,
    "start_time": "2022-02-09T14:20:41.041Z"
   },
   {
    "duration": 67,
    "start_time": "2022-02-09T14:20:41.056Z"
   },
   {
    "duration": 13,
    "start_time": "2022-02-09T14:20:41.125Z"
   },
   {
    "duration": 15,
    "start_time": "2022-02-09T14:20:41.139Z"
   },
   {
    "duration": 33,
    "start_time": "2022-02-09T14:20:41.155Z"
   },
   {
    "duration": 17,
    "start_time": "2022-02-09T14:20:41.213Z"
   },
   {
    "duration": 9,
    "start_time": "2022-02-09T14:20:41.231Z"
   },
   {
    "duration": 8,
    "start_time": "2022-02-09T14:20:41.242Z"
   },
   {
    "duration": 2,
    "start_time": "2022-02-09T14:20:41.252Z"
   },
   {
    "duration": 4,
    "start_time": "2022-02-09T14:20:41.256Z"
   },
   {
    "duration": 7,
    "start_time": "2022-02-09T14:20:41.262Z"
   },
   {
    "duration": 45,
    "start_time": "2022-02-09T14:20:41.271Z"
   },
   {
    "duration": 11,
    "start_time": "2022-02-09T14:20:41.318Z"
   },
   {
    "duration": 9,
    "start_time": "2022-02-09T14:20:41.332Z"
   },
   {
    "duration": 7,
    "start_time": "2022-02-09T14:20:41.342Z"
   },
   {
    "duration": 6,
    "start_time": "2022-02-09T14:20:41.351Z"
   },
   {
    "duration": 7,
    "start_time": "2022-02-09T14:20:41.360Z"
   },
   {
    "duration": 43,
    "start_time": "2022-02-09T14:20:41.369Z"
   },
   {
    "duration": 3398,
    "start_time": "2022-02-09T14:20:41.414Z"
   },
   {
    "duration": 6,
    "start_time": "2022-02-09T14:20:44.814Z"
   },
   {
    "duration": 17,
    "start_time": "2022-02-09T14:20:44.822Z"
   },
   {
    "duration": 15,
    "start_time": "2022-02-09T14:20:44.841Z"
   },
   {
    "duration": 2,
    "start_time": "2022-02-09T14:20:44.858Z"
   },
   {
    "duration": 4,
    "start_time": "2022-02-09T14:20:44.862Z"
   },
   {
    "duration": 5,
    "start_time": "2022-02-09T14:20:44.868Z"
   },
   {
    "duration": 423,
    "start_time": "2022-02-09T14:20:44.875Z"
   },
   {
    "duration": 3,
    "start_time": "2022-02-09T14:20:45.301Z"
   },
   {
    "duration": 283,
    "start_time": "2022-02-09T14:20:45.313Z"
   },
   {
    "duration": 3,
    "start_time": "2022-02-09T14:20:45.597Z"
   },
   {
    "duration": 243,
    "start_time": "2022-02-09T14:20:45.602Z"
   },
   {
    "duration": 3,
    "start_time": "2022-02-09T14:20:45.846Z"
   },
   {
    "duration": 5,
    "start_time": "2022-02-09T14:20:45.850Z"
   },
   {
    "duration": 4,
    "start_time": "2022-02-09T14:20:45.856Z"
   },
   {
    "duration": 19,
    "start_time": "2022-02-09T14:20:45.862Z"
   },
   {
    "duration": 31,
    "start_time": "2022-02-09T14:20:45.882Z"
   },
   {
    "duration": 13,
    "start_time": "2022-02-09T14:20:45.915Z"
   },
   {
    "duration": 8,
    "start_time": "2022-02-09T14:20:45.929Z"
   },
   {
    "duration": 7,
    "start_time": "2022-02-09T14:20:45.939Z"
   },
   {
    "duration": 29,
    "start_time": "2022-02-09T14:20:45.948Z"
   },
   {
    "duration": 8,
    "start_time": "2022-02-09T14:20:45.979Z"
   },
   {
    "duration": 39,
    "start_time": "2022-02-09T14:20:45.989Z"
   },
   {
    "duration": 20,
    "start_time": "2022-02-09T14:20:46.030Z"
   },
   {
    "duration": 1185,
    "start_time": "2022-02-09T14:30:31.002Z"
   },
   {
    "duration": 65,
    "start_time": "2022-02-09T14:30:32.189Z"
   },
   {
    "duration": 12,
    "start_time": "2022-02-09T14:30:32.256Z"
   },
   {
    "duration": 9,
    "start_time": "2022-02-09T14:30:32.270Z"
   },
   {
    "duration": 7,
    "start_time": "2022-02-09T14:30:32.281Z"
   },
   {
    "duration": 10,
    "start_time": "2022-02-09T14:30:32.313Z"
   },
   {
    "duration": 30,
    "start_time": "2022-02-09T14:30:32.325Z"
   },
   {
    "duration": 13,
    "start_time": "2022-02-09T14:30:32.357Z"
   },
   {
    "duration": 43,
    "start_time": "2022-02-09T14:30:32.373Z"
   },
   {
    "duration": 32,
    "start_time": "2022-02-09T14:30:32.418Z"
   },
   {
    "duration": 18,
    "start_time": "2022-02-09T14:30:32.452Z"
   },
   {
    "duration": 8,
    "start_time": "2022-02-09T14:30:32.472Z"
   },
   {
    "duration": 35,
    "start_time": "2022-02-09T14:30:32.482Z"
   },
   {
    "duration": 3,
    "start_time": "2022-02-09T14:30:32.519Z"
   },
   {
    "duration": 8,
    "start_time": "2022-02-09T14:30:32.524Z"
   },
   {
    "duration": 13,
    "start_time": "2022-02-09T14:30:32.534Z"
   },
   {
    "duration": 10,
    "start_time": "2022-02-09T14:30:32.549Z"
   },
   {
    "duration": 12,
    "start_time": "2022-02-09T14:30:32.560Z"
   },
   {
    "duration": 7,
    "start_time": "2022-02-09T14:30:32.574Z"
   },
   {
    "duration": 30,
    "start_time": "2022-02-09T14:30:32.583Z"
   },
   {
    "duration": 7,
    "start_time": "2022-02-09T14:30:32.615Z"
   },
   {
    "duration": 10,
    "start_time": "2022-02-09T14:30:32.624Z"
   },
   {
    "duration": 7,
    "start_time": "2022-02-09T14:30:32.637Z"
   },
   {
    "duration": 3352,
    "start_time": "2022-02-09T14:30:32.646Z"
   },
   {
    "duration": 17,
    "start_time": "2022-02-09T14:30:36.000Z"
   },
   {
    "duration": 16,
    "start_time": "2022-02-09T14:30:36.018Z"
   },
   {
    "duration": 15,
    "start_time": "2022-02-09T14:30:36.035Z"
   },
   {
    "duration": 2,
    "start_time": "2022-02-09T14:30:36.052Z"
   },
   {
    "duration": 4,
    "start_time": "2022-02-09T14:30:36.055Z"
   },
   {
    "duration": 5,
    "start_time": "2022-02-09T14:30:36.061Z"
   },
   {
    "duration": 446,
    "start_time": "2022-02-09T14:30:36.067Z"
   },
   {
    "duration": 3,
    "start_time": "2022-02-09T14:30:36.514Z"
   },
   {
    "duration": 290,
    "start_time": "2022-02-09T14:30:36.519Z"
   },
   {
    "duration": 2,
    "start_time": "2022-02-09T14:30:36.811Z"
   },
   {
    "duration": 246,
    "start_time": "2022-02-09T14:30:36.815Z"
   },
   {
    "duration": 3,
    "start_time": "2022-02-09T14:30:37.062Z"
   },
   {
    "duration": 4,
    "start_time": "2022-02-09T14:30:37.066Z"
   },
   {
    "duration": 5,
    "start_time": "2022-02-09T14:30:37.072Z"
   },
   {
    "duration": 36,
    "start_time": "2022-02-09T14:30:37.078Z"
   },
   {
    "duration": 10,
    "start_time": "2022-02-09T14:30:37.116Z"
   },
   {
    "duration": 12,
    "start_time": "2022-02-09T14:30:37.128Z"
   },
   {
    "duration": 8,
    "start_time": "2022-02-09T14:30:37.142Z"
   },
   {
    "duration": 3,
    "start_time": "2022-02-09T14:30:37.151Z"
   },
   {
    "duration": 18,
    "start_time": "2022-02-09T14:30:37.156Z"
   },
   {
    "duration": 37,
    "start_time": "2022-02-09T14:30:37.176Z"
   },
   {
    "duration": 21,
    "start_time": "2022-02-09T14:30:37.214Z"
   },
   {
    "duration": 21,
    "start_time": "2022-02-09T14:30:37.236Z"
   },
   {
    "duration": 334,
    "start_time": "2022-02-12T15:41:20.825Z"
   },
   {
    "duration": 1498,
    "start_time": "2022-02-12T15:41:31.956Z"
   },
   {
    "duration": 85,
    "start_time": "2022-02-12T15:41:33.457Z"
   },
   {
    "duration": 16,
    "start_time": "2022-02-12T15:41:33.545Z"
   },
   {
    "duration": 13,
    "start_time": "2022-02-12T15:41:33.564Z"
   },
   {
    "duration": 8,
    "start_time": "2022-02-12T15:41:33.580Z"
   },
   {
    "duration": 51,
    "start_time": "2022-02-12T15:41:33.590Z"
   },
   {
    "duration": 3,
    "start_time": "2022-02-12T15:41:33.643Z"
   },
   {
    "duration": 32,
    "start_time": "2022-02-12T15:41:57.913Z"
   },
   {
    "duration": 20,
    "start_time": "2022-02-12T15:42:26.042Z"
   },
   {
    "duration": 15,
    "start_time": "2022-02-12T15:42:42.796Z"
   },
   {
    "duration": 49,
    "start_time": "2022-02-12T15:42:57.448Z"
   },
   {
    "duration": 1520,
    "start_time": "2022-03-01T11:38:12.191Z"
   },
   {
    "duration": 88,
    "start_time": "2022-03-01T11:38:13.713Z"
   },
   {
    "duration": 14,
    "start_time": "2022-03-01T11:38:13.804Z"
   },
   {
    "duration": 12,
    "start_time": "2022-03-01T11:38:13.821Z"
   },
   {
    "duration": 9,
    "start_time": "2022-03-01T11:38:13.835Z"
   },
   {
    "duration": 45,
    "start_time": "2022-03-01T11:38:13.846Z"
   },
   {
    "duration": 47,
    "start_time": "2022-03-01T11:38:13.893Z"
   },
   {
    "duration": 43,
    "start_time": "2022-03-01T11:38:13.943Z"
   },
   {
    "duration": 23,
    "start_time": "2022-03-01T11:38:13.989Z"
   },
   {
    "duration": 45,
    "start_time": "2022-03-01T11:38:14.015Z"
   },
   {
    "duration": 25,
    "start_time": "2022-03-01T11:38:14.087Z"
   },
   {
    "duration": 24,
    "start_time": "2022-03-01T11:38:14.114Z"
   },
   {
    "duration": 15,
    "start_time": "2022-03-01T11:38:14.141Z"
   },
   {
    "duration": 8,
    "start_time": "2022-03-01T11:38:14.158Z"
   },
   {
    "duration": 4,
    "start_time": "2022-03-01T11:38:14.187Z"
   },
   {
    "duration": 28,
    "start_time": "2022-03-01T11:38:14.194Z"
   },
   {
    "duration": 16,
    "start_time": "2022-03-01T11:38:14.225Z"
   },
   {
    "duration": 24,
    "start_time": "2022-03-01T11:38:14.243Z"
   },
   {
    "duration": 40,
    "start_time": "2022-03-01T11:38:14.269Z"
   },
   {
    "duration": 36,
    "start_time": "2022-03-01T11:38:14.312Z"
   },
   {
    "duration": 42,
    "start_time": "2022-03-01T11:38:14.351Z"
   },
   {
    "duration": 44,
    "start_time": "2022-03-01T11:38:14.396Z"
   },
   {
    "duration": 36,
    "start_time": "2022-03-01T11:38:14.447Z"
   },
   {
    "duration": 1268,
    "start_time": "2022-05-09T11:06:49.323Z"
   },
   {
    "duration": 74,
    "start_time": "2022-05-09T11:06:50.593Z"
   },
   {
    "duration": 14,
    "start_time": "2022-05-09T11:06:50.668Z"
   },
   {
    "duration": 9,
    "start_time": "2022-05-09T11:06:50.683Z"
   },
   {
    "duration": 6,
    "start_time": "2022-05-09T11:06:50.694Z"
   },
   {
    "duration": 9,
    "start_time": "2022-05-09T11:06:50.701Z"
   },
   {
    "duration": 57,
    "start_time": "2022-05-09T11:06:50.712Z"
   },
   {
    "duration": 11,
    "start_time": "2022-05-09T11:06:50.771Z"
   },
   {
    "duration": 18,
    "start_time": "2022-05-09T11:06:50.783Z"
   },
   {
    "duration": 53,
    "start_time": "2022-05-09T11:06:50.803Z"
   },
   {
    "duration": 15,
    "start_time": "2022-05-09T11:06:50.857Z"
   },
   {
    "duration": 7,
    "start_time": "2022-05-09T11:06:50.874Z"
   },
   {
    "duration": 9,
    "start_time": "2022-05-09T11:06:50.883Z"
   },
   {
    "duration": 2,
    "start_time": "2022-05-09T11:06:50.893Z"
   },
   {
    "duration": 5,
    "start_time": "2022-05-09T11:06:50.896Z"
   },
   {
    "duration": 7,
    "start_time": "2022-05-09T11:06:50.902Z"
   },
   {
    "duration": 36,
    "start_time": "2022-05-09T11:06:50.911Z"
   },
   {
    "duration": 8,
    "start_time": "2022-05-09T11:06:50.949Z"
   },
   {
    "duration": 9,
    "start_time": "2022-05-09T11:06:50.959Z"
   },
   {
    "duration": 6,
    "start_time": "2022-05-09T11:06:50.969Z"
   },
   {
    "duration": 6,
    "start_time": "2022-05-09T11:06:50.976Z"
   },
   {
    "duration": 8,
    "start_time": "2022-05-09T11:06:50.983Z"
   },
   {
    "duration": 11,
    "start_time": "2022-05-09T11:06:50.993Z"
   },
   {
    "duration": 3386,
    "start_time": "2022-05-09T11:06:51.006Z"
   },
   {
    "duration": 7,
    "start_time": "2022-05-09T11:06:54.394Z"
   },
   {
    "duration": 9,
    "start_time": "2022-05-09T11:06:54.403Z"
   },
   {
    "duration": 11,
    "start_time": "2022-05-09T11:06:54.415Z"
   },
   {
    "duration": 3,
    "start_time": "2022-05-09T11:18:07.657Z"
   },
   {
    "duration": 188,
    "start_time": "2022-05-09T11:18:08.439Z"
   },
   {
    "duration": 3,
    "start_time": "2022-05-09T11:18:10.861Z"
   },
   {
    "duration": 152,
    "start_time": "2022-05-09T11:18:11.509Z"
   },
   {
    "duration": 3,
    "start_time": "2022-05-09T11:18:12.358Z"
   },
   {
    "duration": 122,
    "start_time": "2022-05-09T11:18:13.679Z"
   },
   {
    "duration": 125,
    "start_time": "2022-05-09T11:18:49.278Z"
   },
   {
    "duration": 15,
    "start_time": "2022-05-09T11:18:56.631Z"
   },
   {
    "duration": 13,
    "start_time": "2022-05-09T11:19:01.240Z"
   },
   {
    "duration": 10,
    "start_time": "2022-05-09T11:19:04.839Z"
   },
   {
    "duration": 21,
    "start_time": "2022-05-09T12:34:19.021Z"
   },
   {
    "duration": 3451,
    "start_time": "2022-08-17T06:11:14.880Z"
   },
   {
    "duration": 182,
    "start_time": "2022-08-17T06:11:18.333Z"
   },
   {
    "duration": 65,
    "start_time": "2022-08-17T06:11:18.517Z"
   },
   {
    "duration": 30,
    "start_time": "2022-08-17T06:11:18.584Z"
   },
   {
    "duration": 10,
    "start_time": "2022-08-17T06:11:18.616Z"
   },
   {
    "duration": 24,
    "start_time": "2022-08-17T06:11:18.627Z"
   },
   {
    "duration": 18,
    "start_time": "2022-08-17T06:11:18.652Z"
   },
   {
    "duration": 12,
    "start_time": "2022-08-17T06:11:18.672Z"
   },
   {
    "duration": 37,
    "start_time": "2022-08-17T06:11:18.685Z"
   },
   {
    "duration": 15,
    "start_time": "2022-08-17T06:11:18.725Z"
   },
   {
    "duration": 9,
    "start_time": "2022-08-17T06:11:18.742Z"
   },
   {
    "duration": 13,
    "start_time": "2022-08-17T06:11:18.753Z"
   },
   {
    "duration": 5,
    "start_time": "2022-08-17T06:11:18.767Z"
   },
   {
    "duration": 37,
    "start_time": "2022-08-17T06:11:18.774Z"
   },
   {
    "duration": 9,
    "start_time": "2022-08-17T06:11:18.812Z"
   },
   {
    "duration": 6,
    "start_time": "2022-08-17T06:11:18.822Z"
   },
   {
    "duration": 17,
    "start_time": "2022-08-17T06:11:18.829Z"
   },
   {
    "duration": 7,
    "start_time": "2022-08-17T06:11:18.847Z"
   },
   {
    "duration": 12,
    "start_time": "2022-08-17T06:11:18.855Z"
   },
   {
    "duration": 11,
    "start_time": "2022-08-17T06:11:18.869Z"
   },
   {
    "duration": 3112,
    "start_time": "2022-08-17T06:11:18.882Z"
   },
   {
    "duration": 19,
    "start_time": "2022-08-17T06:11:21.995Z"
   },
   {
    "duration": 13,
    "start_time": "2022-08-17T06:11:22.016Z"
   },
   {
    "duration": 12,
    "start_time": "2022-08-17T06:11:22.031Z"
   },
   {
    "duration": 4,
    "start_time": "2022-08-17T06:11:22.045Z"
   },
   {
    "duration": 212,
    "start_time": "2022-08-17T06:11:22.051Z"
   },
   {
    "duration": 4,
    "start_time": "2022-08-17T06:11:22.265Z"
   },
   {
    "duration": 146,
    "start_time": "2022-08-17T06:11:22.271Z"
   },
   {
    "duration": 3,
    "start_time": "2022-08-17T06:11:22.418Z"
   },
   {
    "duration": 151,
    "start_time": "2022-08-17T06:11:22.423Z"
   },
   {
    "duration": 17,
    "start_time": "2022-08-17T06:11:22.576Z"
   },
   {
    "duration": 878,
    "start_time": "2022-08-17T06:11:22.594Z"
   },
   {
    "duration": 0,
    "start_time": "2022-08-17T06:11:23.473Z"
   },
   {
    "duration": 1,
    "start_time": "2022-08-17T06:11:23.474Z"
   },
   {
    "duration": 0,
    "start_time": "2022-08-17T06:11:23.476Z"
   },
   {
    "duration": 0,
    "start_time": "2022-08-17T06:11:23.477Z"
   },
   {
    "duration": 0,
    "start_time": "2022-08-17T06:11:23.478Z"
   },
   {
    "duration": 0,
    "start_time": "2022-08-17T06:11:23.479Z"
   },
   {
    "duration": 0,
    "start_time": "2022-08-17T06:11:23.480Z"
   },
   {
    "duration": 2244,
    "start_time": "2022-08-17T09:19:05.781Z"
   },
   {
    "duration": 130,
    "start_time": "2022-08-17T09:19:08.028Z"
   },
   {
    "duration": 69,
    "start_time": "2022-08-17T09:19:08.159Z"
   },
   {
    "duration": 10,
    "start_time": "2022-08-17T09:19:08.231Z"
   },
   {
    "duration": 6,
    "start_time": "2022-08-17T09:19:08.243Z"
   },
   {
    "duration": 14,
    "start_time": "2022-08-17T09:19:08.251Z"
   },
   {
    "duration": 46,
    "start_time": "2022-08-17T09:19:08.266Z"
   },
   {
    "duration": 13,
    "start_time": "2022-08-17T09:19:08.314Z"
   },
   {
    "duration": 21,
    "start_time": "2022-08-17T09:19:08.328Z"
   },
   {
    "duration": 16,
    "start_time": "2022-08-17T09:19:08.352Z"
   },
   {
    "duration": 11,
    "start_time": "2022-08-17T09:19:08.369Z"
   },
   {
    "duration": 37,
    "start_time": "2022-08-17T09:19:08.382Z"
   },
   {
    "duration": 15,
    "start_time": "2022-08-17T09:19:08.423Z"
   },
   {
    "duration": 17,
    "start_time": "2022-08-17T09:19:08.441Z"
   },
   {
    "duration": 11,
    "start_time": "2022-08-17T09:19:08.460Z"
   },
   {
    "duration": 7,
    "start_time": "2022-08-17T09:19:08.473Z"
   },
   {
    "duration": 32,
    "start_time": "2022-08-17T09:19:08.481Z"
   },
   {
    "duration": 6,
    "start_time": "2022-08-17T09:19:08.515Z"
   },
   {
    "duration": 8,
    "start_time": "2022-08-17T09:19:08.522Z"
   },
   {
    "duration": 4,
    "start_time": "2022-08-17T09:19:08.531Z"
   },
   {
    "duration": 3257,
    "start_time": "2022-08-17T09:19:08.537Z"
   },
   {
    "duration": 17,
    "start_time": "2022-08-17T09:19:11.796Z"
   },
   {
    "duration": 14,
    "start_time": "2022-08-17T09:19:11.815Z"
   },
   {
    "duration": 11,
    "start_time": "2022-08-17T09:19:11.831Z"
   },
   {
    "duration": 3,
    "start_time": "2022-08-17T09:19:11.844Z"
   },
   {
    "duration": 219,
    "start_time": "2022-08-17T09:19:11.848Z"
   },
   {
    "duration": 3,
    "start_time": "2022-08-17T09:19:12.069Z"
   },
   {
    "duration": 157,
    "start_time": "2022-08-17T09:19:12.075Z"
   },
   {
    "duration": 2,
    "start_time": "2022-08-17T09:19:12.234Z"
   },
   {
    "duration": 143,
    "start_time": "2022-08-17T09:19:12.238Z"
   },
   {
    "duration": 15,
    "start_time": "2022-08-17T09:19:12.382Z"
   },
   {
    "duration": 1716,
    "start_time": "2022-08-17T09:19:12.409Z"
   },
   {
    "duration": 0,
    "start_time": "2022-08-17T09:19:14.127Z"
   },
   {
    "duration": 0,
    "start_time": "2022-08-17T09:19:14.128Z"
   },
   {
    "duration": 0,
    "start_time": "2022-08-17T09:19:14.129Z"
   },
   {
    "duration": 0,
    "start_time": "2022-08-17T09:19:14.130Z"
   },
   {
    "duration": 0,
    "start_time": "2022-08-17T09:19:14.132Z"
   },
   {
    "duration": 0,
    "start_time": "2022-08-17T09:19:14.133Z"
   },
   {
    "duration": 0,
    "start_time": "2022-08-17T09:19:14.134Z"
   },
   {
    "duration": 2594,
    "start_time": "2022-08-17T09:20:54.767Z"
   },
   {
    "duration": 4,
    "start_time": "2022-08-17T09:22:17.267Z"
   },
   {
    "duration": 2713,
    "start_time": "2022-08-17T09:22:19.580Z"
   },
   {
    "duration": 19,
    "start_time": "2022-08-17T09:22:22.295Z"
   },
   {
    "duration": 16,
    "start_time": "2022-08-17T09:22:22.315Z"
   },
   {
    "duration": 11,
    "start_time": "2022-08-17T09:22:42.125Z"
   },
   {
    "duration": 10,
    "start_time": "2022-08-17T09:41:33.408Z"
   },
   {
    "duration": 14,
    "start_time": "2022-08-17T09:46:32.078Z"
   },
   {
    "duration": 1327,
    "start_time": "2022-08-17T09:46:36.013Z"
   },
   {
    "duration": 3,
    "start_time": "2022-08-17T09:46:49.160Z"
   },
   {
    "duration": 142,
    "start_time": "2022-08-17T09:46:49.758Z"
   },
   {
    "duration": 3,
    "start_time": "2022-08-17T09:46:54.014Z"
   },
   {
    "duration": 146,
    "start_time": "2022-08-17T09:46:55.015Z"
   },
   {
    "duration": 16,
    "start_time": "2022-08-17T09:47:00.279Z"
   },
   {
    "duration": 15,
    "start_time": "2022-08-17T09:48:53.885Z"
   },
   {
    "duration": 15,
    "start_time": "2022-08-17T09:57:09.710Z"
   },
   {
    "duration": 10,
    "start_time": "2022-08-17T09:57:12.836Z"
   },
   {
    "duration": 9,
    "start_time": "2022-08-17T10:01:46.849Z"
   },
   {
    "duration": 11,
    "start_time": "2022-08-17T10:03:24.877Z"
   },
   {
    "duration": 87,
    "start_time": "2022-08-17T10:04:08.309Z"
   },
   {
    "duration": 11,
    "start_time": "2022-08-17T10:04:17.419Z"
   },
   {
    "duration": 10,
    "start_time": "2022-08-17T10:04:41.404Z"
   },
   {
    "duration": 10,
    "start_time": "2022-08-17T10:05:02.174Z"
   },
   {
    "duration": 10,
    "start_time": "2022-08-17T10:05:37.648Z"
   },
   {
    "duration": 11,
    "start_time": "2022-08-17T10:17:19.447Z"
   },
   {
    "duration": 10,
    "start_time": "2022-08-17T10:17:30.429Z"
   },
   {
    "duration": 2074,
    "start_time": "2022-08-17T10:17:34.897Z"
   },
   {
    "duration": 178,
    "start_time": "2022-08-17T10:17:36.973Z"
   },
   {
    "duration": 81,
    "start_time": "2022-08-17T10:17:37.153Z"
   },
   {
    "duration": 11,
    "start_time": "2022-08-17T10:17:37.237Z"
   },
   {
    "duration": 8,
    "start_time": "2022-08-17T10:17:37.250Z"
   },
   {
    "duration": 22,
    "start_time": "2022-08-17T10:17:37.260Z"
   },
   {
    "duration": 38,
    "start_time": "2022-08-17T10:17:37.283Z"
   },
   {
    "duration": 14,
    "start_time": "2022-08-17T10:17:37.323Z"
   },
   {
    "duration": 27,
    "start_time": "2022-08-17T10:17:37.339Z"
   },
   {
    "duration": 17,
    "start_time": "2022-08-17T10:17:37.370Z"
   },
   {
    "duration": 25,
    "start_time": "2022-08-17T10:17:37.389Z"
   },
   {
    "duration": 13,
    "start_time": "2022-08-17T10:17:37.415Z"
   },
   {
    "duration": 4,
    "start_time": "2022-08-17T10:17:37.430Z"
   },
   {
    "duration": 15,
    "start_time": "2022-08-17T10:17:37.436Z"
   },
   {
    "duration": 8,
    "start_time": "2022-08-17T10:17:37.452Z"
   },
   {
    "duration": 6,
    "start_time": "2022-08-17T10:17:37.462Z"
   },
   {
    "duration": 48,
    "start_time": "2022-08-17T10:17:37.470Z"
   },
   {
    "duration": 8,
    "start_time": "2022-08-17T10:17:37.519Z"
   },
   {
    "duration": 7,
    "start_time": "2022-08-17T10:17:37.528Z"
   },
   {
    "duration": 5,
    "start_time": "2022-08-17T10:17:37.536Z"
   },
   {
    "duration": 3214,
    "start_time": "2022-08-17T10:17:37.542Z"
   },
   {
    "duration": 8,
    "start_time": "2022-08-17T10:17:40.758Z"
   },
   {
    "duration": 10,
    "start_time": "2022-08-17T10:17:40.768Z"
   },
   {
    "duration": 9,
    "start_time": "2022-08-17T10:19:52.953Z"
   },
   {
    "duration": 14,
    "start_time": "2022-08-17T10:27:21.932Z"
   },
   {
    "duration": 3,
    "start_time": "2022-08-17T10:27:24.339Z"
   },
   {
    "duration": 148,
    "start_time": "2022-08-17T10:27:24.833Z"
   },
   {
    "duration": 3,
    "start_time": "2022-08-17T10:27:37.084Z"
   },
   {
    "duration": 152,
    "start_time": "2022-08-17T10:27:37.630Z"
   },
   {
    "duration": 2,
    "start_time": "2022-08-17T10:27:38.233Z"
   },
   {
    "duration": 145,
    "start_time": "2022-08-17T10:27:38.649Z"
   },
   {
    "duration": 16,
    "start_time": "2022-08-17T10:27:54.933Z"
   },
   {
    "duration": 17,
    "start_time": "2022-08-17T10:28:16.032Z"
   },
   {
    "duration": 10,
    "start_time": "2022-08-17T10:28:17.863Z"
   }
  ],
  "kernelspec": {
   "display_name": "Python 3 (ipykernel)",
   "language": "python",
   "name": "python3"
  },
  "language_info": {
   "codemirror_mode": {
    "name": "ipython",
    "version": 3
   },
   "file_extension": ".py",
   "mimetype": "text/x-python",
   "name": "python",
   "nbconvert_exporter": "python",
   "pygments_lexer": "ipython3",
   "version": "3.9.5"
  },
  "toc": {
   "base_numbering": 1,
   "nav_menu": {
    "height": "205px",
    "width": "530px"
   },
   "number_sections": true,
   "sideBar": true,
   "skip_h1_title": true,
   "title_cell": "Table of Contents",
   "title_sidebar": "Contents",
   "toc_cell": false,
   "toc_position": {},
   "toc_section_display": true,
   "toc_window_display": true
  }
 },
 "nbformat": 4,
 "nbformat_minor": 2
}
