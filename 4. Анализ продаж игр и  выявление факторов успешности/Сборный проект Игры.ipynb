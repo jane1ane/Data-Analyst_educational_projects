{
 "cells": [
  {
   "cell_type": "markdown",
   "id": "1ddb7fce",
   "metadata": {},
   "source": [
    "Содержание\n",
    "1.  [Описание проекта](#start)\n",
    "2.  [Предобработка данных](#pre)\n",
    "3.  [Исследовательский анализ данных](#3)\n",
    "* [3.1  Cколько игр выпускалось в разные годы](#3.1)\n",
    "* [3.2  Как менялись продажи по платформам](#3.2)\n",
    "* [3.2.1  Вывод](#(#3.2.1)\n",
    "* [3.3  Влияние отзывов на продажи](#3.3)\n",
    "* [3.3.1  Вывод](#3.3.1)\n",
    "* [3.4  Общее распределение игр по жанрам](#3.4)\n",
    "* [3.5  Вывод по исследовательскому анализу данных](#3.5)\n",
    "4.  [Портрет пользователя каждого региона](#4)\n",
    "5.  [Проверка гипотез](#5)\n",
    "* [5.1  Рейтинги платформ](#5.1)\n",
    "* [5.2  Рейтинги жанров](#5.1)\n",
    "6.  [Общий вывод](#6)"
   ]
  },
  {
   "cell_type": "markdown",
   "id": "ad185951-ae7c-4b6b-b43e-5606bd48b247",
   "metadata": {},
   "source": [
    "# Сборный проект\n",
    "<a id=\"start\"></a>\n",
    "## Описание проекта\n",
    "Из открытых источников доступны исторические данные о продажах игр, оценки пользователей и экспертов, жанры и платформы\n",
    "(например, Xbox или PlayStation). Цель исследования - используя эту информацию нужно выявить определяющие успешность\n",
    "игры закономерности. Это позволит сделать ставку на потенциально популярный продукт и спланировать рекламные кампании.\n",
    "\n",
    "Перед нами данные до 2016 года, нужно отработать принцип работы с данными. Неважно, прогнозируются ли продажи на 2017 год по данным 2016-го или же2027-й — по данным 2026 года.\n",
    "\n",
    "В ходе исследования сделаем следующее:\n",
    "\n",
    "- Посмотрим сколько игр выпускалось в разные годы,\n",
    "- Посчитаем продажи по платформам в разные годы,\n",
    "- Изучим как влияют отзывы на продажи,\n",
    "- Определим популярные жанры,\n",
    "- Составим профиль покупателя по регионам."
   ]
  },
  {
   "cell_type": "code",
   "execution_count": 1,
   "id": "a0a110c6-f7ed-48db-b807-fda1cf653d7c",
   "metadata": {},
   "outputs": [],
   "source": [
    "# Импортируем библиотеки для работы\n",
    "import pandas as pd\n",
    "import numpy as np\n",
    "from scipy.stats import ttest_ind\n",
    "from scipy import stats as st\n",
    "import seaborn as sns\n",
    "from matplotlib import pyplot as plt\n"
   ]
  },
  {
   "cell_type": "code",
   "execution_count": 2,
   "id": "098aeb0a-4893-4a68-937a-fc729ac74a6c",
   "metadata": {},
   "outputs": [],
   "source": [
    "# открываем датасет\n",
    "data = pd.read_csv(*)"
   ]
  },
  {
   "cell_type": "code",
   "execution_count": 40,
   "id": "a5db3b5f-559e-4623-b335-efd8f3b4108d",
   "metadata": {},
   "outputs": [
    {
     "data": {
      "text/html": [
       "<div>\n",
       "<style scoped>\n",
       "    .dataframe tbody tr th:only-of-type {\n",
       "        vertical-align: middle;\n",
       "    }\n",
       "\n",
       "    .dataframe tbody tr th {\n",
       "        vertical-align: top;\n",
       "    }\n",
       "\n",
       "    .dataframe thead th {\n",
       "        text-align: right;\n",
       "    }\n",
       "</style>\n",
       "<table border=\"1\" class=\"dataframe\">\n",
       "  <thead>\n",
       "    <tr style=\"text-align: right;\">\n",
       "      <th></th>\n",
       "      <th>name</th>\n",
       "      <th>platform</th>\n",
       "      <th>year_of_release</th>\n",
       "      <th>genre</th>\n",
       "      <th>na_sales</th>\n",
       "      <th>eu_sales</th>\n",
       "      <th>jp_sales</th>\n",
       "      <th>other_sales</th>\n",
       "      <th>critic_score</th>\n",
       "      <th>user_score</th>\n",
       "      <th>rating</th>\n",
       "      <th>ESRB_description</th>\n",
       "      <th>total_sales</th>\n",
       "    </tr>\n",
       "  </thead>\n",
       "  <tbody>\n",
       "    <tr>\n",
       "      <th>0</th>\n",
       "      <td>Wii Sports</td>\n",
       "      <td>Wii</td>\n",
       "      <td>2006</td>\n",
       "      <td>Sports</td>\n",
       "      <td>41.36</td>\n",
       "      <td>28.96</td>\n",
       "      <td>3.77</td>\n",
       "      <td>8.45</td>\n",
       "      <td>76.0</td>\n",
       "      <td>8.0</td>\n",
       "      <td>E</td>\n",
       "      <td>Для всех</td>\n",
       "      <td>82.54</td>\n",
       "    </tr>\n",
       "    <tr>\n",
       "      <th>1</th>\n",
       "      <td>Super Mario Bros.</td>\n",
       "      <td>NES</td>\n",
       "      <td>1985</td>\n",
       "      <td>Platform</td>\n",
       "      <td>29.08</td>\n",
       "      <td>3.58</td>\n",
       "      <td>6.81</td>\n",
       "      <td>0.77</td>\n",
       "      <td>NaN</td>\n",
       "      <td>NaN</td>\n",
       "      <td>NaN</td>\n",
       "      <td>unknown</td>\n",
       "      <td>40.24</td>\n",
       "    </tr>\n",
       "    <tr>\n",
       "      <th>2</th>\n",
       "      <td>Mario Kart Wii</td>\n",
       "      <td>Wii</td>\n",
       "      <td>2008</td>\n",
       "      <td>Racing</td>\n",
       "      <td>15.68</td>\n",
       "      <td>12.76</td>\n",
       "      <td>3.79</td>\n",
       "      <td>3.29</td>\n",
       "      <td>82.0</td>\n",
       "      <td>8.3</td>\n",
       "      <td>E</td>\n",
       "      <td>Для всех</td>\n",
       "      <td>35.52</td>\n",
       "    </tr>\n",
       "    <tr>\n",
       "      <th>3</th>\n",
       "      <td>Wii Sports Resort</td>\n",
       "      <td>Wii</td>\n",
       "      <td>2009</td>\n",
       "      <td>Sports</td>\n",
       "      <td>15.61</td>\n",
       "      <td>10.93</td>\n",
       "      <td>3.28</td>\n",
       "      <td>2.95</td>\n",
       "      <td>80.0</td>\n",
       "      <td>8.0</td>\n",
       "      <td>E</td>\n",
       "      <td>Для всех</td>\n",
       "      <td>32.77</td>\n",
       "    </tr>\n",
       "    <tr>\n",
       "      <th>4</th>\n",
       "      <td>Pokemon Red/Pokemon Blue</td>\n",
       "      <td>GB</td>\n",
       "      <td>1996</td>\n",
       "      <td>Role-Playing</td>\n",
       "      <td>11.27</td>\n",
       "      <td>8.89</td>\n",
       "      <td>10.22</td>\n",
       "      <td>1.00</td>\n",
       "      <td>NaN</td>\n",
       "      <td>NaN</td>\n",
       "      <td>NaN</td>\n",
       "      <td>unknown</td>\n",
       "      <td>31.38</td>\n",
       "    </tr>\n",
       "    <tr>\n",
       "      <th>5</th>\n",
       "      <td>Tetris</td>\n",
       "      <td>GB</td>\n",
       "      <td>1989</td>\n",
       "      <td>Puzzle</td>\n",
       "      <td>23.20</td>\n",
       "      <td>2.26</td>\n",
       "      <td>4.22</td>\n",
       "      <td>0.58</td>\n",
       "      <td>NaN</td>\n",
       "      <td>NaN</td>\n",
       "      <td>NaN</td>\n",
       "      <td>unknown</td>\n",
       "      <td>30.26</td>\n",
       "    </tr>\n",
       "    <tr>\n",
       "      <th>6</th>\n",
       "      <td>New Super Mario Bros.</td>\n",
       "      <td>DS</td>\n",
       "      <td>2006</td>\n",
       "      <td>Platform</td>\n",
       "      <td>11.28</td>\n",
       "      <td>9.14</td>\n",
       "      <td>6.50</td>\n",
       "      <td>2.88</td>\n",
       "      <td>89.0</td>\n",
       "      <td>8.5</td>\n",
       "      <td>E</td>\n",
       "      <td>Для всех</td>\n",
       "      <td>29.80</td>\n",
       "    </tr>\n",
       "    <tr>\n",
       "      <th>7</th>\n",
       "      <td>Wii Play</td>\n",
       "      <td>Wii</td>\n",
       "      <td>2006</td>\n",
       "      <td>Misc</td>\n",
       "      <td>13.96</td>\n",
       "      <td>9.18</td>\n",
       "      <td>2.93</td>\n",
       "      <td>2.84</td>\n",
       "      <td>58.0</td>\n",
       "      <td>6.6</td>\n",
       "      <td>E</td>\n",
       "      <td>Для всех</td>\n",
       "      <td>28.91</td>\n",
       "    </tr>\n",
       "    <tr>\n",
       "      <th>8</th>\n",
       "      <td>New Super Mario Bros. Wii</td>\n",
       "      <td>Wii</td>\n",
       "      <td>2009</td>\n",
       "      <td>Platform</td>\n",
       "      <td>14.44</td>\n",
       "      <td>6.94</td>\n",
       "      <td>4.70</td>\n",
       "      <td>2.24</td>\n",
       "      <td>87.0</td>\n",
       "      <td>8.4</td>\n",
       "      <td>E</td>\n",
       "      <td>Для всех</td>\n",
       "      <td>28.32</td>\n",
       "    </tr>\n",
       "    <tr>\n",
       "      <th>9</th>\n",
       "      <td>Duck Hunt</td>\n",
       "      <td>NES</td>\n",
       "      <td>1984</td>\n",
       "      <td>Shooter</td>\n",
       "      <td>26.93</td>\n",
       "      <td>0.63</td>\n",
       "      <td>0.28</td>\n",
       "      <td>0.47</td>\n",
       "      <td>NaN</td>\n",
       "      <td>NaN</td>\n",
       "      <td>NaN</td>\n",
       "      <td>unknown</td>\n",
       "      <td>28.31</td>\n",
       "    </tr>\n",
       "  </tbody>\n",
       "</table>\n",
       "</div>"
      ],
      "text/plain": [
       "                        name platform  year_of_release         genre  \\\n",
       "0                 Wii Sports      Wii             2006        Sports   \n",
       "1          Super Mario Bros.      NES             1985      Platform   \n",
       "2             Mario Kart Wii      Wii             2008        Racing   \n",
       "3          Wii Sports Resort      Wii             2009        Sports   \n",
       "4   Pokemon Red/Pokemon Blue       GB             1996  Role-Playing   \n",
       "5                     Tetris       GB             1989        Puzzle   \n",
       "6      New Super Mario Bros.       DS             2006      Platform   \n",
       "7                   Wii Play      Wii             2006          Misc   \n",
       "8  New Super Mario Bros. Wii      Wii             2009      Platform   \n",
       "9                  Duck Hunt      NES             1984       Shooter   \n",
       "\n",
       "   na_sales  eu_sales  jp_sales  other_sales  critic_score  user_score rating  \\\n",
       "0     41.36     28.96      3.77         8.45          76.0         8.0      E   \n",
       "1     29.08      3.58      6.81         0.77           NaN         NaN    NaN   \n",
       "2     15.68     12.76      3.79         3.29          82.0         8.3      E   \n",
       "3     15.61     10.93      3.28         2.95          80.0         8.0      E   \n",
       "4     11.27      8.89     10.22         1.00           NaN         NaN    NaN   \n",
       "5     23.20      2.26      4.22         0.58           NaN         NaN    NaN   \n",
       "6     11.28      9.14      6.50         2.88          89.0         8.5      E   \n",
       "7     13.96      9.18      2.93         2.84          58.0         6.6      E   \n",
       "8     14.44      6.94      4.70         2.24          87.0         8.4      E   \n",
       "9     26.93      0.63      0.28         0.47           NaN         NaN    NaN   \n",
       "\n",
       "  ESRB_description  total_sales  \n",
       "0         Для всех        82.54  \n",
       "1          unknown        40.24  \n",
       "2         Для всех        35.52  \n",
       "3         Для всех        32.77  \n",
       "4          unknown        31.38  \n",
       "5          unknown        30.26  \n",
       "6         Для всех        29.80  \n",
       "7         Для всех        28.91  \n",
       "8         Для всех        28.32  \n",
       "9          unknown        28.31  "
      ]
     },
     "metadata": {},
     "output_type": "display_data"
    },
    {
     "name": "stdout",
     "output_type": "stream",
     "text": [
      "<class 'pandas.core.frame.DataFrame'>\n",
      "Int64Index: 16444 entries, 0 to 16714\n",
      "Data columns (total 13 columns):\n",
      " #   Column            Non-Null Count  Dtype  \n",
      "---  ------            --------------  -----  \n",
      " 0   name              16444 non-null  object \n",
      " 1   platform          16444 non-null  object \n",
      " 2   year_of_release   16444 non-null  int64  \n",
      " 3   genre             16444 non-null  object \n",
      " 4   na_sales          16444 non-null  float64\n",
      " 5   eu_sales          16444 non-null  float64\n",
      " 6   jp_sales          16444 non-null  float64\n",
      " 7   other_sales       16444 non-null  float64\n",
      " 8   critic_score      7983 non-null   float64\n",
      " 9   user_score        7463 non-null   float64\n",
      " 10  rating            9768 non-null   object \n",
      " 11  ESRB_description  16444 non-null  object \n",
      " 12  total_sales       16444 non-null  float64\n",
      "dtypes: float64(7), int64(1), object(5)\n",
      "memory usage: 1.8+ MB\n"
     ]
    },
    {
     "data": {
      "text/plain": [
       "None"
      ]
     },
     "metadata": {},
     "output_type": "display_data"
    },
    {
     "name": "stdout",
     "output_type": "stream",
     "text": [
      "Явных дубликатов в данных: 0. Это 0.00% от всех значений.\n",
      "\n",
      "Уникальных значений в колонке name - 11426\n",
      "Уникальных значений в колонке platform - 31\n",
      "Уникальных значений в колонке year_of_release - 37\n",
      "Уникальных значений в колонке genre - 12\n",
      "Уникальных значений в колонке na_sales - 401\n",
      "Уникальных значений в колонке eu_sales - 307\n",
      "Уникальных значений в колонке jp_sales - 244\n",
      "Уникальных значений в колонке other_sales - 155\n",
      "Уникальных значений в колонке critic_score - 82\n",
      "Пропущенных строк в колонке critic_score - 51.45 %\n",
      "____________________\n",
      "Уникальных значений в колонке user_score - 96\n",
      "Пропущенных строк в колонке user_score - 54.62 %\n",
      "____________________\n",
      "Уникальных значений в колонке rating - 9\n",
      "Пропущенных строк в колонке rating - 40.60 %\n",
      "____________________\n",
      "Уникальных значений в колонке ESRB_description - 5\n",
      "Уникальных значений в колонке total_sales - 1004\n"
     ]
    }
   ],
   "source": [
    "# Функция для предварительного ознакомления с данными. \n",
    "\n",
    "def hello_data(data):\n",
    "    \n",
    "    ''' Выводит первые строки, \n",
    "                info, \n",
    "                уникальные значения\n",
    "                и пропуски, если они есть '''\n",
    "    \n",
    "    columns = data.columns \n",
    "    display(data.head(10))\n",
    "    display(data.info())\n",
    "    lost_values = data.duplicated().sum()\n",
    "   \n",
    "    print(\n",
    "        f'Явных дубликатов в данных: {lost_values}. Это {lost_values / len(data) * 100:.2f}% от всех значений.'\n",
    "         )\n",
    "    print()\n",
    "        \n",
    "    for column in columns: # для каждой колонки\n",
    "        try:\n",
    "            unique_value = (len(data[column].unique())) # считаем уникальные значения \n",
    "        except AssertionError:\n",
    "            pass\n",
    "        \n",
    "        if data[column].isna().sum() != 0: # если в колонке есть пропуски\n",
    "            print( f'Уникальных значений в колонке {column} - {unique_value}') #выводим количество уникальных значений\n",
    "            persent = (data[column].isna().sum() / len(data[column]) * 100) # считаем сколько это в процентах и округляем методом \"round\"\n",
    "            print('Пропущенных строк в колонке {} - {:.2f} %'.format(column, persent))\n",
    "            print(\"_\"*20)\n",
    "        else: print( f'Уникальных значений в колонке {column} - {unique_value}') # если пропусков не нашли, то выводим количество уникальных значений  \n",
    "     \n",
    "hello_data(data)"
   ]
  },
  {
   "cell_type": "markdown",
   "id": "d7630d94-4412-4ca8-b86c-cf05df91d339",
   "metadata": {},
   "source": [
    "К датасету прилагалось описание:\n",
    "\n",
    "- Name — название игры\n",
    "- Platform — платформа\n",
    "- Year_of_Release — год выпуска\n",
    "- Genre — жанр игры\n",
    "- NA_sales — продажи в Северной Америке (миллионы проданных копий)\n",
    "- EU_sales — продажи в Европе (миллионы проданных копий)\n",
    "- JP_sales — продажи в Японии (миллионы проданных копий)\n",
    "- Other_sales — продажи в других странах (миллионы проданных копий)\n",
    "- Critic_Score — оценка критиков (максимум 100)\n",
    "- User_Score — оценка пользователей (максимум 10)\n",
    "- Rating — рейтинг от организации ESRB (англ. Entertainment Software Rating\n",
    "Board). Эта ассоциация определяет рейтинг компьютерных игр и присваивает\n",
    "им подходящую возрастную категорию.\n",
    "\n",
    "\n",
    "**Выводы**\n",
    "\n",
    "При первичном анализе видим несоответствие типа данных  содержимому в коколонках \"Year_of_Release\" и \"User_Score\". Год выпуска игры нужно привести к типу int, а оценку пользователей к типу float. Названия всех колонок приведем к нижнему регистру.\n",
    "\n",
    "Также видим пропуски значений. Больше всего их в оценках критиков- 51.32 %, оценках пользователей - 40.09 % и рейтинге ESRB - 40.48 %. Пока не очень понятно что с этим делать. Менять отсутствующие значения на медианные для половины всех значений не имеет смысла. Но, судя по колонке года выпуска игр, у нас есть данные с самой зари игровой индустрии-37 уникальных значений(лет). Есть предположение, что рейтинги появились гораздо позже и исследуя современные игры мы увидим больший процент заполненных оценок. Пока оставляем как есть.\n",
    "\n",
    "Незначительное количество пропусков есть в колонке названий, годе выпуска и жанре от 0,01% до 1,6%. Их можно просто удалить.\n",
    "\n",
    "У нас есть данные о продажах в разных регионах(Северная Америка, Япония, Европа), эффективнее будет работать с общим числом проданных копий для каждой игры. Создадим колонку 'total_sales'.\n",
    "\n",
    "Еще работать с рейтингом ESRB, в котором рейтинги обозначены символами, не очень удобно. Создадим отдельную колонку с расшифровками 'ESRB_description'.\n",
    "\n",
    "\n",
    "## Предобработка данных\n",
    "<a id=\"pre\"></a>"
   ]
  },
  {
   "cell_type": "code",
   "execution_count": 41,
   "id": "d8bc2b88-c80d-472b-8de4-6cad5953abe2",
   "metadata": {},
   "outputs": [
    {
     "data": {
      "text/html": [
       "<div>\n",
       "<style scoped>\n",
       "    .dataframe tbody tr th:only-of-type {\n",
       "        vertical-align: middle;\n",
       "    }\n",
       "\n",
       "    .dataframe tbody tr th {\n",
       "        vertical-align: top;\n",
       "    }\n",
       "\n",
       "    .dataframe thead th {\n",
       "        text-align: right;\n",
       "    }\n",
       "</style>\n",
       "<table border=\"1\" class=\"dataframe\">\n",
       "  <thead>\n",
       "    <tr style=\"text-align: right;\">\n",
       "      <th></th>\n",
       "      <th>name</th>\n",
       "      <th>platform</th>\n",
       "      <th>year_of_release</th>\n",
       "      <th>genre</th>\n",
       "      <th>na_sales</th>\n",
       "      <th>eu_sales</th>\n",
       "      <th>jp_sales</th>\n",
       "      <th>other_sales</th>\n",
       "      <th>critic_score</th>\n",
       "      <th>user_score</th>\n",
       "      <th>rating</th>\n",
       "      <th>esrb_description</th>\n",
       "      <th>total_sales</th>\n",
       "    </tr>\n",
       "  </thead>\n",
       "  <tbody>\n",
       "  </tbody>\n",
       "</table>\n",
       "</div>"
      ],
      "text/plain": [
       "Empty DataFrame\n",
       "Columns: [name, platform, year_of_release, genre, na_sales, eu_sales, jp_sales, other_sales, critic_score, user_score, rating, esrb_description, total_sales]\n",
       "Index: []"
      ]
     },
     "execution_count": 41,
     "metadata": {},
     "output_type": "execute_result"
    }
   ],
   "source": [
    "# переименовываем колонки - понижаем регистр\n",
    "data.columns = data.columns.str.lower()\n",
    "\n",
    "# делаем срез строк с отсутствующим названем игр\n",
    "name_nan = data.query('name.isnull()')\n",
    "name_nan"
   ]
  },
  {
   "cell_type": "markdown",
   "id": "22e95d90-c365-477c-b007-a921c197e344",
   "metadata": {},
   "source": [
    "Всего 2 игры за 1993 год. Здесь же видим пропуски по жанру. Можно спокойно удалить."
   ]
  },
  {
   "cell_type": "code",
   "execution_count": 42,
   "id": "20840b1b-5ee7-49b3-aa26-b62d558b583f",
   "metadata": {},
   "outputs": [
    {
     "data": {
      "text/html": [
       "<div>\n",
       "<style scoped>\n",
       "    .dataframe tbody tr th:only-of-type {\n",
       "        vertical-align: middle;\n",
       "    }\n",
       "\n",
       "    .dataframe tbody tr th {\n",
       "        vertical-align: top;\n",
       "    }\n",
       "\n",
       "    .dataframe thead th {\n",
       "        text-align: right;\n",
       "    }\n",
       "</style>\n",
       "<table border=\"1\" class=\"dataframe\">\n",
       "  <thead>\n",
       "    <tr style=\"text-align: right;\">\n",
       "      <th></th>\n",
       "      <th>name</th>\n",
       "      <th>platform</th>\n",
       "      <th>year_of_release</th>\n",
       "      <th>genre</th>\n",
       "      <th>na_sales</th>\n",
       "      <th>eu_sales</th>\n",
       "      <th>jp_sales</th>\n",
       "      <th>other_sales</th>\n",
       "      <th>critic_score</th>\n",
       "      <th>user_score</th>\n",
       "      <th>rating</th>\n",
       "      <th>esrb_description</th>\n",
       "      <th>total_sales</th>\n",
       "    </tr>\n",
       "  </thead>\n",
       "  <tbody>\n",
       "  </tbody>\n",
       "</table>\n",
       "</div>"
      ],
      "text/plain": [
       "Empty DataFrame\n",
       "Columns: [name, platform, year_of_release, genre, na_sales, eu_sales, jp_sales, other_sales, critic_score, user_score, rating, esrb_description, total_sales]\n",
       "Index: []"
      ]
     },
     "execution_count": 42,
     "metadata": {},
     "output_type": "execute_result"
    }
   ],
   "source": [
    "# удаляем строки с NaN в названиях\n",
    "data= data.dropna(subset=['name'])\n",
    "\n",
    "# делаем срез по отсутствующим годам\n",
    "year_nan = data.query('year_of_release.isnull()')\n",
    "year_nan"
   ]
  },
  {
   "cell_type": "markdown",
   "id": "7fef3161-ce20-4741-8c80-5a11a25f3fa5",
   "metadata": {},
   "source": [
    "Всего 269 строк. Видим множество 0 и NaN. Нам эти данные не сильно помогут в исследовании. "
   ]
  },
  {
   "cell_type": "code",
   "execution_count": 43,
   "id": "eed91ec5-cc39-49cd-94f8-5c6ebae16d66",
   "metadata": {},
   "outputs": [
    {
     "name": "stdout",
     "output_type": "stream",
     "text": [
      "<class 'pandas.core.frame.DataFrame'>\n",
      "Int64Index: 16444 entries, 0 to 16714\n",
      "Data columns (total 13 columns):\n",
      " #   Column            Non-Null Count  Dtype  \n",
      "---  ------            --------------  -----  \n",
      " 0   name              16444 non-null  object \n",
      " 1   platform          16444 non-null  object \n",
      " 2   year_of_release   16444 non-null  int64  \n",
      " 3   genre             16444 non-null  object \n",
      " 4   na_sales          16444 non-null  float64\n",
      " 5   eu_sales          16444 non-null  float64\n",
      " 6   jp_sales          16444 non-null  float64\n",
      " 7   other_sales       16444 non-null  float64\n",
      " 8   critic_score      7983 non-null   float64\n",
      " 9   user_score        7463 non-null   float64\n",
      " 10  rating            9768 non-null   object \n",
      " 11  esrb_description  16444 non-null  object \n",
      " 12  total_sales       16444 non-null  float64\n",
      "dtypes: float64(7), int64(1), object(5)\n",
      "memory usage: 1.8+ MB\n"
     ]
    }
   ],
   "source": [
    "# удаляем строки с NaN \n",
    "data= data.dropna(subset=['year_of_release'])\n",
    "\n",
    "# проверочка\n",
    "data.info()"
   ]
  },
  {
   "cell_type": "markdown",
   "id": "54bead20-4911-444b-b2c7-3f6c9431ca0c",
   "metadata": {},
   "source": [
    "Теперь займемся исправлением типа данных.\n",
    "\n",
    "При первой попытке поменять тип данных в колонке оценок пользователей словили ошибку \"ValueError: could not convert string to float: 'tbd'\". Гугл сообщает, что в контексте оценок игр аббревиатура \"tbd\" означает невыставленный рейтинг, т.е. по сути те же Nan. Потому поменяем сначала в колонке 'user_score' значение \"tbd\" на Nan, затем поменяем тип данных на float64. Для колонки 'year_of_release' сделаем тип int64."
   ]
  },
  {
   "cell_type": "code",
   "execution_count": 44,
   "id": "c503cb24-610e-4448-a88d-42d24d3febed",
   "metadata": {},
   "outputs": [
    {
     "data": {
      "text/plain": [
       "array(['E', nan, 'M', 'T', 'E10+', 'K-A', 'AO', 'EC', 'RP'], dtype=object)"
      ]
     },
     "execution_count": 44,
     "metadata": {},
     "output_type": "execute_result"
    }
   ],
   "source": [
    "# меняем значение \"tbd\" на NaN\n",
    "data['user_score'] = data['user_score'].replace(\"tbd\", np.NaN) \n",
    "\n",
    "#меняем типы данных\n",
    "data['year_of_release'] = data['year_of_release'].astype('int64')\n",
    "data['user_score'] = data['user_score'].astype('float64')\n",
    "\n",
    "# смотрим уникальные значения рейтинга ESRB\n",
    "data['rating'].unique()"
   ]
  },
  {
   "cell_type": "markdown",
   "id": "80771f0b-3902-4f03-aa59-f692d3383923",
   "metadata": {},
   "source": [
    "Мы предварительно ознакомились со значениями этих аббревиатур и теперь создадим словарь, по значениям которого и заполним колонку. Интерес для нас представляют 2 значения: «E» («Everyone») — «Для всех» и K-A («Kids to Adults»)— «Для детей и взрослых». Рейтинг K-A устаревший и теперь используется «E». Поэтому присвоим этим ключам одинаковые значения."
   ]
  },
  {
   "cell_type": "code",
   "execution_count": 47,
   "id": "4988d44a-78b1-4e5b-a007-dba5d8fb3850",
   "metadata": {},
   "outputs": [
    {
     "data": {
      "text/html": [
       "<div>\n",
       "<style scoped>\n",
       "    .dataframe tbody tr th:only-of-type {\n",
       "        vertical-align: middle;\n",
       "    }\n",
       "\n",
       "    .dataframe tbody tr th {\n",
       "        vertical-align: top;\n",
       "    }\n",
       "\n",
       "    .dataframe thead th {\n",
       "        text-align: right;\n",
       "    }\n",
       "</style>\n",
       "<table border=\"1\" class=\"dataframe\">\n",
       "  <thead>\n",
       "    <tr style=\"text-align: right;\">\n",
       "      <th></th>\n",
       "      <th>name</th>\n",
       "      <th>platform</th>\n",
       "      <th>year_of_release</th>\n",
       "      <th>genre</th>\n",
       "      <th>na_sales</th>\n",
       "      <th>eu_sales</th>\n",
       "      <th>jp_sales</th>\n",
       "      <th>other_sales</th>\n",
       "      <th>critic_score</th>\n",
       "      <th>user_score</th>\n",
       "      <th>rating</th>\n",
       "      <th>esrb_description</th>\n",
       "      <th>total_sales</th>\n",
       "      <th>ESRB_description</th>\n",
       "    </tr>\n",
       "  </thead>\n",
       "  <tbody>\n",
       "    <tr>\n",
       "      <th>0</th>\n",
       "      <td>Wii Sports</td>\n",
       "      <td>Wii</td>\n",
       "      <td>2006</td>\n",
       "      <td>Sports</td>\n",
       "      <td>41.36</td>\n",
       "      <td>28.96</td>\n",
       "      <td>3.77</td>\n",
       "      <td>8.45</td>\n",
       "      <td>76.0</td>\n",
       "      <td>8.0</td>\n",
       "      <td>E</td>\n",
       "      <td>Для всех</td>\n",
       "      <td>82.54</td>\n",
       "      <td>Для всех</td>\n",
       "    </tr>\n",
       "    <tr>\n",
       "      <th>1</th>\n",
       "      <td>Super Mario Bros.</td>\n",
       "      <td>NES</td>\n",
       "      <td>1985</td>\n",
       "      <td>Platform</td>\n",
       "      <td>29.08</td>\n",
       "      <td>3.58</td>\n",
       "      <td>6.81</td>\n",
       "      <td>0.77</td>\n",
       "      <td>NaN</td>\n",
       "      <td>NaN</td>\n",
       "      <td>NaN</td>\n",
       "      <td>unknown</td>\n",
       "      <td>40.24</td>\n",
       "      <td>unknown</td>\n",
       "    </tr>\n",
       "    <tr>\n",
       "      <th>2</th>\n",
       "      <td>Mario Kart Wii</td>\n",
       "      <td>Wii</td>\n",
       "      <td>2008</td>\n",
       "      <td>Racing</td>\n",
       "      <td>15.68</td>\n",
       "      <td>12.76</td>\n",
       "      <td>3.79</td>\n",
       "      <td>3.29</td>\n",
       "      <td>82.0</td>\n",
       "      <td>8.3</td>\n",
       "      <td>E</td>\n",
       "      <td>Для всех</td>\n",
       "      <td>35.52</td>\n",
       "      <td>Для всех</td>\n",
       "    </tr>\n",
       "    <tr>\n",
       "      <th>3</th>\n",
       "      <td>Wii Sports Resort</td>\n",
       "      <td>Wii</td>\n",
       "      <td>2009</td>\n",
       "      <td>Sports</td>\n",
       "      <td>15.61</td>\n",
       "      <td>10.93</td>\n",
       "      <td>3.28</td>\n",
       "      <td>2.95</td>\n",
       "      <td>80.0</td>\n",
       "      <td>8.0</td>\n",
       "      <td>E</td>\n",
       "      <td>Для всех</td>\n",
       "      <td>32.77</td>\n",
       "      <td>Для всех</td>\n",
       "    </tr>\n",
       "    <tr>\n",
       "      <th>4</th>\n",
       "      <td>Pokemon Red/Pokemon Blue</td>\n",
       "      <td>GB</td>\n",
       "      <td>1996</td>\n",
       "      <td>Role-Playing</td>\n",
       "      <td>11.27</td>\n",
       "      <td>8.89</td>\n",
       "      <td>10.22</td>\n",
       "      <td>1.00</td>\n",
       "      <td>NaN</td>\n",
       "      <td>NaN</td>\n",
       "      <td>NaN</td>\n",
       "      <td>unknown</td>\n",
       "      <td>31.38</td>\n",
       "      <td>unknown</td>\n",
       "    </tr>\n",
       "    <tr>\n",
       "      <th>5</th>\n",
       "      <td>Tetris</td>\n",
       "      <td>GB</td>\n",
       "      <td>1989</td>\n",
       "      <td>Puzzle</td>\n",
       "      <td>23.20</td>\n",
       "      <td>2.26</td>\n",
       "      <td>4.22</td>\n",
       "      <td>0.58</td>\n",
       "      <td>NaN</td>\n",
       "      <td>NaN</td>\n",
       "      <td>NaN</td>\n",
       "      <td>unknown</td>\n",
       "      <td>30.26</td>\n",
       "      <td>unknown</td>\n",
       "    </tr>\n",
       "    <tr>\n",
       "      <th>6</th>\n",
       "      <td>New Super Mario Bros.</td>\n",
       "      <td>DS</td>\n",
       "      <td>2006</td>\n",
       "      <td>Platform</td>\n",
       "      <td>11.28</td>\n",
       "      <td>9.14</td>\n",
       "      <td>6.50</td>\n",
       "      <td>2.88</td>\n",
       "      <td>89.0</td>\n",
       "      <td>8.5</td>\n",
       "      <td>E</td>\n",
       "      <td>Для всех</td>\n",
       "      <td>29.80</td>\n",
       "      <td>Для всех</td>\n",
       "    </tr>\n",
       "    <tr>\n",
       "      <th>7</th>\n",
       "      <td>Wii Play</td>\n",
       "      <td>Wii</td>\n",
       "      <td>2006</td>\n",
       "      <td>Misc</td>\n",
       "      <td>13.96</td>\n",
       "      <td>9.18</td>\n",
       "      <td>2.93</td>\n",
       "      <td>2.84</td>\n",
       "      <td>58.0</td>\n",
       "      <td>6.6</td>\n",
       "      <td>E</td>\n",
       "      <td>Для всех</td>\n",
       "      <td>28.91</td>\n",
       "      <td>Для всех</td>\n",
       "    </tr>\n",
       "    <tr>\n",
       "      <th>8</th>\n",
       "      <td>New Super Mario Bros. Wii</td>\n",
       "      <td>Wii</td>\n",
       "      <td>2009</td>\n",
       "      <td>Platform</td>\n",
       "      <td>14.44</td>\n",
       "      <td>6.94</td>\n",
       "      <td>4.70</td>\n",
       "      <td>2.24</td>\n",
       "      <td>87.0</td>\n",
       "      <td>8.4</td>\n",
       "      <td>E</td>\n",
       "      <td>Для всех</td>\n",
       "      <td>28.32</td>\n",
       "      <td>Для всех</td>\n",
       "    </tr>\n",
       "    <tr>\n",
       "      <th>9</th>\n",
       "      <td>Duck Hunt</td>\n",
       "      <td>NES</td>\n",
       "      <td>1984</td>\n",
       "      <td>Shooter</td>\n",
       "      <td>26.93</td>\n",
       "      <td>0.63</td>\n",
       "      <td>0.28</td>\n",
       "      <td>0.47</td>\n",
       "      <td>NaN</td>\n",
       "      <td>NaN</td>\n",
       "      <td>NaN</td>\n",
       "      <td>unknown</td>\n",
       "      <td>28.31</td>\n",
       "      <td>unknown</td>\n",
       "    </tr>\n",
       "  </tbody>\n",
       "</table>\n",
       "</div>"
      ],
      "text/plain": [
       "                        name platform  year_of_release         genre  \\\n",
       "0                 Wii Sports      Wii             2006        Sports   \n",
       "1          Super Mario Bros.      NES             1985      Platform   \n",
       "2             Mario Kart Wii      Wii             2008        Racing   \n",
       "3          Wii Sports Resort      Wii             2009        Sports   \n",
       "4   Pokemon Red/Pokemon Blue       GB             1996  Role-Playing   \n",
       "5                     Tetris       GB             1989        Puzzle   \n",
       "6      New Super Mario Bros.       DS             2006      Platform   \n",
       "7                   Wii Play      Wii             2006          Misc   \n",
       "8  New Super Mario Bros. Wii      Wii             2009      Platform   \n",
       "9                  Duck Hunt      NES             1984       Shooter   \n",
       "\n",
       "   na_sales  eu_sales  jp_sales  other_sales  critic_score  user_score rating  \\\n",
       "0     41.36     28.96      3.77         8.45          76.0         8.0      E   \n",
       "1     29.08      3.58      6.81         0.77           NaN         NaN    NaN   \n",
       "2     15.68     12.76      3.79         3.29          82.0         8.3      E   \n",
       "3     15.61     10.93      3.28         2.95          80.0         8.0      E   \n",
       "4     11.27      8.89     10.22         1.00           NaN         NaN    NaN   \n",
       "5     23.20      2.26      4.22         0.58           NaN         NaN    NaN   \n",
       "6     11.28      9.14      6.50         2.88          89.0         8.5      E   \n",
       "7     13.96      9.18      2.93         2.84          58.0         6.6      E   \n",
       "8     14.44      6.94      4.70         2.24          87.0         8.4      E   \n",
       "9     26.93      0.63      0.28         0.47           NaN         NaN    NaN   \n",
       "\n",
       "  esrb_description  total_sales ESRB_description  \n",
       "0         Для всех        82.54         Для всех  \n",
       "1          unknown        40.24          unknown  \n",
       "2         Для всех        35.52         Для всех  \n",
       "3         Для всех        32.77         Для всех  \n",
       "4          unknown        31.38          unknown  \n",
       "5          unknown        30.26          unknown  \n",
       "6         Для всех        29.80         Для всех  \n",
       "7         Для всех        28.91         Для всех  \n",
       "8         Для всех        28.32         Для всех  \n",
       "9          unknown        28.31          unknown  "
      ]
     },
     "execution_count": 47,
     "metadata": {},
     "output_type": "execute_result"
    }
   ],
   "source": [
    "# создаем словарь с расшифровкой\n",
    "ESRB_dict = {'E': 'Для всех', 'M': '> 17 лет', 'T': '>13 лет', 'E10+': '>10 лет', 'K-A': 'Для всех'}\n",
    "# создаем новую колонку и заполняем значениями из словаря\n",
    "data['ESRB_description'] = data['rating'].map(ESRB_dict)\n",
    "\n",
    "#заполняем отсутствующие значения заглушкой \"unknown\"\n",
    "data['ESRB_description'] = data['ESRB_description'].fillna('unknown')\n",
    "\n",
    "\n",
    "# Добавляем столбец total_sales с суммарными продажами\n",
    "data['total_sales'] = data['na_sales'] + data['eu_sales'] + data['jp_sales'] + data['other_sales']\n",
    "\n",
    "data.head(10)"
   ]
  },
  {
   "cell_type": "markdown",
   "id": "c3f3723b-8dcd-4e76-a738-3c524458d4f8",
   "metadata": {},
   "source": [
    "**Вывод**\n",
    "\n",
    "Мы привели название колонок к стандартному виду и удалили строки с пропусками в названиях и годах релиза игры. Нашли в оценках неопределенный рейтинг \"tbd\" и заменили его на Nan. Привели в соответствие типы данных. Оценки критиков и юзеров заполнять не стали, нам еще не понятно в каких случаях эти оценки отсутсвуют. Создали колонки с итоговыми продажами и значениями рэйтинга ESRB. Теперь можно переходить к исследованию.\n",
    "\n",
    "<a id=\"3\"></a>\n",
    "## Исследовательский анализ данных\n",
    "\n",
    "\n",
    "Мы уже знаем, что данные собраны примерно за 37 лет- большое поле для исследований. \n",
    "\n",
    "Для начала посмотрим, сколько игр выпускалось в разные годы и важны ли данные за все периоды. В самом начале игр создавалось не много и сравнивать данные за 1988 и за 2016 может быть не целесообразно.\n",
    "\n",
    "Посмотрим, как менялись продажи по платформам. Выберем платформы с наибольшими суммарными продажами и построим распределение по годам. Найдем за какой характерный срок появляются новые и исчезают старые платформы. И уже ориентируясь на эти сроки возьмем для дальнейшего исследования данные за соответствующий актуальный период. \n",
    "\n",
    "Посмотрим как влияют отзывы на продажи и какие жанры самые популярные. \n",
    "\n",
    "Эти данные помогут построить прогноз на 2017 год - какие платформы лидируют по продажам, растут или падают? Выберем несколько потенциально прибыльных платформ.\n",
    "\n",
    "<a id=\"3.1\"></a>\n",
    "### Cколько игр выпускалось в разные годы"
   ]
  },
  {
   "cell_type": "code",
   "execution_count": 48,
   "id": "39e968b7-e904-4803-be63-4e91dcb8ce19",
   "metadata": {},
   "outputs": [
    {
     "name": "stderr",
     "output_type": "stream",
     "text": [
      "C:\\Users\\Jane\\anaconda3\\envs\\practicum\\lib\\site-packages\\seaborn\\_decorators.py:36: FutureWarning: Pass the following variable as a keyword arg: x. From version 0.12, the only valid positional argument will be `data`, and passing other arguments without an explicit keyword will result in an error or misinterpretation.\n",
      "  warnings.warn(\n"
     ]
    },
    {
     "data": {
      "text/plain": [
       "Text(0, 0.5, 'Количество выпущенных игр')"
      ]
     },
     "execution_count": 48,
     "metadata": {},
     "output_type": "execute_result"
    },
    {
     "data": {
      "image/png": "[encoded data removed]",
      "text/plain": [
       "<Figure size 1440x432 with 1 Axes>"
      ]
     },
     "metadata": {
      "needs_background": "light"
     },
     "output_type": "display_data"
    }
   ],
   "source": [
    "plt.figure(figsize=(20, 6))\n",
    "sns.countplot(data.year_of_release, color = 'mediumslateblue', ec='black')\n",
    "plt.title(\"Колличество выпущенных игр по годам\", fontsize = 20)\n",
    "plt.xlabel(\"Год выпуска\", fontsize = 15)\n",
    "plt.ylabel(\"Количество выпущенных игр\", fontsize = 15)"
   ]
  },
  {
   "cell_type": "markdown",
   "id": "638cb6a0-38b6-4f4e-8d64-ea091a41e072",
   "metadata": {},
   "source": [
    "Наше первоначальное предположение подтвердилось. До 1991 игры пратически не выпускались, затем наметился рост. Индустрия начала развиваться вместе с развитием компьютерных технологий. Резкий скачок произошел в 2002 году - было выпущено более 800 игр, а к 2008 производство игр достигло максимума - более 1400 игр за год. Начиная с 2012 заметно резкое снижение количества выпускаемых игр. Можно предположить, что это связано с развитием мобильных устройств и игр для них. Телефон стал неотъемлемой частью повседневной жизни большинства людей, игры для смартфона стоят недорого, если вообще нужно платить. А консоль и игры к ней - дорогое развлечение, следовательно спрос на такие игры упал. Возможно также, что производители игр стали уделять качеству игр больше внимания и не гонятся за количеством, предпочитая создавать более сложные, реалистичные игры.\n",
    "\n",
    "<a id=\"3.2\"></a>\n",
    "### Как менялись продажи по платформам"
   ]
  },
  {
   "cell_type": "code",
   "execution_count": 50,
   "id": "1239e0fa-f1d1-45bf-a452-48bb8a0aa13d",
   "metadata": {},
   "outputs": [
    {
     "data": {
      "text/html": [
       "<div>\n",
       "<style scoped>\n",
       "    .dataframe tbody tr th:only-of-type {\n",
       "        vertical-align: middle;\n",
       "    }\n",
       "\n",
       "    .dataframe tbody tr th {\n",
       "        vertical-align: top;\n",
       "    }\n",
       "\n",
       "    .dataframe thead th {\n",
       "        text-align: right;\n",
       "    }\n",
       "</style>\n",
       "<table border=\"1\" class=\"dataframe\">\n",
       "  <thead>\n",
       "    <tr style=\"text-align: right;\">\n",
       "      <th></th>\n",
       "      <th>platform</th>\n",
       "      <th>total_sales</th>\n",
       "    </tr>\n",
       "  </thead>\n",
       "  <tbody>\n",
       "    <tr>\n",
       "      <th>0</th>\n",
       "      <td>PS2</td>\n",
       "      <td>1233.56</td>\n",
       "    </tr>\n",
       "    <tr>\n",
       "      <th>1</th>\n",
       "      <td>X360</td>\n",
       "      <td>961.24</td>\n",
       "    </tr>\n",
       "    <tr>\n",
       "      <th>2</th>\n",
       "      <td>PS3</td>\n",
       "      <td>931.34</td>\n",
       "    </tr>\n",
       "    <tr>\n",
       "      <th>3</th>\n",
       "      <td>Wii</td>\n",
       "      <td>891.18</td>\n",
       "    </tr>\n",
       "    <tr>\n",
       "      <th>4</th>\n",
       "      <td>DS</td>\n",
       "      <td>802.78</td>\n",
       "    </tr>\n",
       "    <tr>\n",
       "      <th>5</th>\n",
       "      <td>PS</td>\n",
       "      <td>727.58</td>\n",
       "    </tr>\n",
       "    <tr>\n",
       "      <th>6</th>\n",
       "      <td>PS4</td>\n",
       "      <td>314.14</td>\n",
       "    </tr>\n",
       "    <tr>\n",
       "      <th>7</th>\n",
       "      <td>GBA</td>\n",
       "      <td>312.88</td>\n",
       "    </tr>\n",
       "    <tr>\n",
       "      <th>8</th>\n",
       "      <td>PSP</td>\n",
       "      <td>289.53</td>\n",
       "    </tr>\n",
       "    <tr>\n",
       "      <th>9</th>\n",
       "      <td>3DS</td>\n",
       "      <td>257.81</td>\n",
       "    </tr>\n",
       "  </tbody>\n",
       "</table>\n",
       "</div>"
      ],
      "text/plain": [
       "  platform  total_sales\n",
       "0      PS2      1233.56\n",
       "1     X360       961.24\n",
       "2      PS3       931.34\n",
       "3      Wii       891.18\n",
       "4       DS       802.78\n",
       "5       PS       727.58\n",
       "6      PS4       314.14\n",
       "7      GBA       312.88\n",
       "8      PSP       289.53\n",
       "9      3DS       257.81"
      ]
     },
     "execution_count": 50,
     "metadata": {},
     "output_type": "execute_result"
    }
   ],
   "source": [
    "# Создадим сводную таблицу платформ  и отсортируем ее по самым высоким продажам:\n",
    "platform_on_sales = data.pivot_table(index='platform', values='total_sales', aggfunc = 'sum')\\\n",
    "                        .sort_values(by='total_sales', ascending=False).reset_index()\n",
    "# посмотрим на топ 10\n",
    "platform_on_sales.head()"
   ]
  },
  {
   "cell_type": "code",
   "execution_count": 51,
   "id": "069e8390-79ae-428b-90cc-719a4685dc2d",
   "metadata": {},
   "outputs": [
    {
     "data": {
      "text/plain": [
       "Text(0.5, 1.0, 'Продажи по платформам за весь период')"
      ]
     },
     "execution_count": 51,
     "metadata": {},
     "output_type": "execute_result"
    },
    {
     "data": {
      "image/png": "[encoded data removed]",
      "text/plain": [
       "<Figure size 1080x360 with 1 Axes>"
      ]
     },
     "metadata": {
      "needs_background": "light"
     },
     "output_type": "display_data"
    }
   ],
   "source": [
    "# Поcтроим график по прадажам \n",
    "plt.figure(figsize=(15, 5))\n",
    "sns.barplot(x=platform_on_sales.platform, y=platform_on_sales.total_sales, color = 'mediumslateblue', ec='black')\n",
    "plt.xlabel(\"Платформа\")\n",
    "plt.ylabel(\"млн проданных копий\")\n",
    "plt.title(\"Продажи по платформам за весь период\")"
   ]
  },
  {
   "cell_type": "markdown",
   "id": "4df6bb16-056b-4fcb-9bed-15a3cf0a3420",
   "metadata": {},
   "source": [
    "Отчетливо видно 6 платформ - лидеров по продажам за всё время. Теперь для этих 6ти платформ посмотрим продажи по годам."
   ]
  },
  {
   "cell_type": "code",
   "execution_count": 52,
   "id": "fa79b3dc-817f-4785-8864-a69c77487f24",
   "metadata": {},
   "outputs": [
    {
     "data": {
      "text/html": [
       "<div>\n",
       "<style scoped>\n",
       "    .dataframe tbody tr th:only-of-type {\n",
       "        vertical-align: middle;\n",
       "    }\n",
       "\n",
       "    .dataframe tbody tr th {\n",
       "        vertical-align: top;\n",
       "    }\n",
       "\n",
       "    .dataframe thead th {\n",
       "        text-align: right;\n",
       "    }\n",
       "</style>\n",
       "<table border=\"1\" class=\"dataframe\">\n",
       "  <thead>\n",
       "    <tr style=\"text-align: right;\">\n",
       "      <th></th>\n",
       "      <th>platform</th>\n",
       "      <th>name</th>\n",
       "      <th>year_of_release</th>\n",
       "      <th>total_sales</th>\n",
       "    </tr>\n",
       "  </thead>\n",
       "  <tbody>\n",
       "    <tr>\n",
       "      <th>0</th>\n",
       "      <td>DS</td>\n",
       "      <td>Frozen: Olaf's Quest</td>\n",
       "      <td>2013</td>\n",
       "      <td>0.51</td>\n",
       "    </tr>\n",
       "    <tr>\n",
       "      <th>1</th>\n",
       "      <td>DS</td>\n",
       "      <td>007: Quantum of Solace</td>\n",
       "      <td>2008</td>\n",
       "      <td>0.13</td>\n",
       "    </tr>\n",
       "    <tr>\n",
       "      <th>2</th>\n",
       "      <td>DS</td>\n",
       "      <td>1 vs. 100</td>\n",
       "      <td>2008</td>\n",
       "      <td>0.09</td>\n",
       "    </tr>\n",
       "    <tr>\n",
       "      <th>3</th>\n",
       "      <td>DS</td>\n",
       "      <td>100 All-Time Favorites</td>\n",
       "      <td>2009</td>\n",
       "      <td>0.51</td>\n",
       "    </tr>\n",
       "    <tr>\n",
       "      <th>4</th>\n",
       "      <td>DS</td>\n",
       "      <td>100 Classic Books</td>\n",
       "      <td>2008</td>\n",
       "      <td>0.66</td>\n",
       "    </tr>\n",
       "    <tr>\n",
       "      <th>...</th>\n",
       "      <td>...</td>\n",
       "      <td>...</td>\n",
       "      <td>...</td>\n",
       "      <td>...</td>\n",
       "    </tr>\n",
       "    <tr>\n",
       "      <th>9256</th>\n",
       "      <td>X360</td>\n",
       "      <td>[Prototype]</td>\n",
       "      <td>2009</td>\n",
       "      <td>1.31</td>\n",
       "    </tr>\n",
       "    <tr>\n",
       "      <th>9257</th>\n",
       "      <td>X360</td>\n",
       "      <td>de Blob 2</td>\n",
       "      <td>2011</td>\n",
       "      <td>0.15</td>\n",
       "    </tr>\n",
       "    <tr>\n",
       "      <th>9258</th>\n",
       "      <td>X360</td>\n",
       "      <td>nail'd</td>\n",
       "      <td>2010</td>\n",
       "      <td>0.11</td>\n",
       "    </tr>\n",
       "    <tr>\n",
       "      <th>9259</th>\n",
       "      <td>X360</td>\n",
       "      <td>pro evolution soccer 2011</td>\n",
       "      <td>2010</td>\n",
       "      <td>0.60</td>\n",
       "    </tr>\n",
       "    <tr>\n",
       "      <th>9260</th>\n",
       "      <td>X360</td>\n",
       "      <td>uDraw Studio: Instant Artist</td>\n",
       "      <td>2011</td>\n",
       "      <td>0.02</td>\n",
       "    </tr>\n",
       "  </tbody>\n",
       "</table>\n",
       "<p>9261 rows × 4 columns</p>\n",
       "</div>"
      ],
      "text/plain": [
       "     platform                          name  year_of_release  total_sales\n",
       "0          DS          Frozen: Olaf's Quest             2013         0.51\n",
       "1          DS        007: Quantum of Solace             2008         0.13\n",
       "2          DS                     1 vs. 100             2008         0.09\n",
       "3          DS        100 All-Time Favorites             2009         0.51\n",
       "4          DS             100 Classic Books             2008         0.66\n",
       "...       ...                           ...              ...          ...\n",
       "9256     X360                   [Prototype]             2009         1.31\n",
       "9257     X360                     de Blob 2             2011         0.15\n",
       "9258     X360                        nail'd             2010         0.11\n",
       "9259     X360     pro evolution soccer 2011             2010         0.60\n",
       "9260     X360  uDraw Studio: Instant Artist             2011         0.02\n",
       "\n",
       "[9261 rows x 4 columns]"
      ]
     },
     "execution_count": 52,
     "metadata": {},
     "output_type": "execute_result"
    }
   ],
   "source": [
    "# создаем список платформ\n",
    "platform_list = ['PS2', 'X360', 'PS3', 'Wii', 'DS', 'PS']\n",
    "# создаем таблицу распределения продаж по годам и платформе \n",
    "platform_per_years = pd.DataFrame(data.groupby(['platform','name','year_of_release'])['total_sales'].sum())\n",
    "platform_per_years\n",
    "# делаем срез по списку платформ\n",
    "platforms_top = platform_per_years.query('platform in @platform_list').reset_index()\n",
    "# проверяем\n",
    "platforms_top"
   ]
  },
  {
   "cell_type": "markdown",
   "id": "50bbceec-b203-460f-af79-60b57c303951",
   "metadata": {},
   "source": [
    "Через subplot выведем графики для всех 6ти самых популярных платформ и посмотрим для каждой из них продажи по годам."
   ]
  },
  {
   "cell_type": "code",
   "execution_count": 53,
   "id": "4feccfea-43a1-4872-beb3-eb8f14747c82",
   "metadata": {},
   "outputs": [
    {
     "data": {
      "image/png": "[encoded data removed]",
      "text/plain": [
       "<Figure size 1296x720 with 6 Axes>"
      ]
     },
     "metadata": {
      "needs_background": "light"
     },
     "output_type": "display_data"
    }
   ],
   "source": [
    "# функция для отрисовки графиков с одинаковыми параметрами\n",
    "def draw_graph(i, platf):\n",
    "    plt.subplot(2, 3, i) #  i - место графика на сабплоте\n",
    "    # делаем срез по названию платформы\n",
    "    # и группируем по году, суммируем по количеству проданных игр\n",
    "    platforms_top.query('platform == @platf').groupby('year_of_release')['total_sales'].sum().plot( kind='bar', color='mediumslateblue', ec='black') # задаем вид графика и параметры\n",
    "    plt.xlabel(platf)\n",
    "    plt.ylabel('Количество проданных копий, млн')\n",
    "    plt.ylim(0, 220)\n",
    "    \n",
    "# функция для перебора платформ\n",
    "def create_graphs():\n",
    "    i = 1 # начинаем с 1 места на графике\n",
    "    for name_platform in platforms_top['platform'].unique(): # для каждой платформы\n",
    "        draw_graph(i, name_platform) # нарисуй график\n",
    "        i += 1 \n",
    "# теперь рисуем      \n",
    "plt.figure(figsize = (18, 10)).suptitle('Распределение продаж по годам для каждой платформы', fontsize = 15)   \n",
    "plt.subplots_adjust(hspace=0.3, wspace=0.3)\n",
    "create_graphs()\n"
   ]
  },
  {
   "cell_type": "markdown",
   "id": "114193b7-2cdc-41f5-8ec3-1e119d36504d",
   "metadata": {},
   "source": [
    "У каждой платформы есть свой взлет и падение. Платформы были на пике популярности в разные года и даже десятилетия. \n",
    "\n",
    "Вот что можно сказать про каждую:\n",
    "\n",
    "В нашем топ_6 есть три поколения Playstation.\n",
    "\n",
    "**PS** - существала с 1994 года до 2003 -9 лет, но с выпуском в 2000 году PS2, стала активно сдавать позиции;\n",
    "\n",
    "**PS2** - с 2000 до 2011 года продержалась 11 лет, с 2005 года наметилось снижение продаж, которое  в 2006 усилилось с выходом PS3;\n",
    "\n",
    "**PS3** - с 2006 по 2016 присутствовала на рынке (на конец исследуемого периода), но начала сильно сдавать позиции с выходом в  ноябре 2013 года PS4. Осенью 2016 года Sony выпустила две новые аппаратные версии приставки: PlayStation 4 Slim и PlayStation 4 Pro, что, видимо, окончательно добило продажи PS3;\n",
    "\n",
    "**DS** -  на график отмечен 1985, потом нет данных. В инернете информации за тот период тоже не нашлось, но известно, что в 2004 стартовали продажи модели Nintendo DS и популярность стала расти, пик в 2008, с 31 августа 2013 поддержка пользователей прекращена. Просущестовала почти 9 лет;\n",
    "\n",
    "**Wii** ,тоже оказывается консоль фирмы Nintendo, - с 2006  по 2016 присутствовала на рынке (на конец исследуемого периода), с 2010 по 2012 имела резкое снижение по продажам, поддержка прекращена 20 октября 2013, но продажи были еще до 2015(видим на графике) - срок жизни 9 лет.\n",
    "\n",
    "**X360** продавалась с 2005 и, спустя 10 лет, в апреле 2016(по данным из интернета) снята с производства. На графике видим очень малое значение продаж за 2016 год.\n",
    "\n",
    "\n",
    "Таким образом, консоль живет в среднем 10 лет,  с пиком популярности на 4-5 год. Затем на смену приходят более совершенные в техническом плане новые модели. Учитывая, что уже на 4 год платформа может достигнуть пика продаж, после которого начинается спад, то для дальнейшего исследования актуальным будем считать период в 3 года с 2013 по 2016 год.\n",
    "\n"
   ]
  },
  {
   "cell_type": "code",
   "execution_count": 54,
   "id": "831e6cb3-4d4f-428e-9c21-9531f2a9e364",
   "metadata": {},
   "outputs": [
    {
     "data": {
      "text/html": [
       "<div>\n",
       "<style scoped>\n",
       "    .dataframe tbody tr th:only-of-type {\n",
       "        vertical-align: middle;\n",
       "    }\n",
       "\n",
       "    .dataframe tbody tr th {\n",
       "        vertical-align: top;\n",
       "    }\n",
       "\n",
       "    .dataframe thead th {\n",
       "        text-align: right;\n",
       "    }\n",
       "</style>\n",
       "<table border=\"1\" class=\"dataframe\">\n",
       "  <thead>\n",
       "    <tr style=\"text-align: right;\">\n",
       "      <th></th>\n",
       "      <th>name</th>\n",
       "      <th>platform</th>\n",
       "      <th>year_of_release</th>\n",
       "      <th>genre</th>\n",
       "      <th>na_sales</th>\n",
       "      <th>eu_sales</th>\n",
       "      <th>jp_sales</th>\n",
       "      <th>other_sales</th>\n",
       "      <th>critic_score</th>\n",
       "      <th>user_score</th>\n",
       "      <th>rating</th>\n",
       "      <th>esrb_description</th>\n",
       "      <th>total_sales</th>\n",
       "      <th>ESRB_description</th>\n",
       "    </tr>\n",
       "  </thead>\n",
       "  <tbody>\n",
       "    <tr>\n",
       "      <th>16</th>\n",
       "      <td>Grand Theft Auto V</td>\n",
       "      <td>PS3</td>\n",
       "      <td>2013</td>\n",
       "      <td>Action</td>\n",
       "      <td>7.02</td>\n",
       "      <td>9.09</td>\n",
       "      <td>0.98</td>\n",
       "      <td>3.96</td>\n",
       "      <td>97.0</td>\n",
       "      <td>8.2</td>\n",
       "      <td>M</td>\n",
       "      <td>&gt; 17 лет</td>\n",
       "      <td>21.05</td>\n",
       "      <td>&gt; 17 лет</td>\n",
       "    </tr>\n",
       "    <tr>\n",
       "      <th>23</th>\n",
       "      <td>Grand Theft Auto V</td>\n",
       "      <td>X360</td>\n",
       "      <td>2013</td>\n",
       "      <td>Action</td>\n",
       "      <td>9.66</td>\n",
       "      <td>5.14</td>\n",
       "      <td>0.06</td>\n",
       "      <td>1.41</td>\n",
       "      <td>97.0</td>\n",
       "      <td>8.1</td>\n",
       "      <td>M</td>\n",
       "      <td>&gt; 17 лет</td>\n",
       "      <td>16.27</td>\n",
       "      <td>&gt; 17 лет</td>\n",
       "    </tr>\n",
       "    <tr>\n",
       "      <th>31</th>\n",
       "      <td>Call of Duty: Black Ops 3</td>\n",
       "      <td>PS4</td>\n",
       "      <td>2015</td>\n",
       "      <td>Shooter</td>\n",
       "      <td>6.03</td>\n",
       "      <td>5.86</td>\n",
       "      <td>0.36</td>\n",
       "      <td>2.38</td>\n",
       "      <td>NaN</td>\n",
       "      <td>NaN</td>\n",
       "      <td>NaN</td>\n",
       "      <td>unknown</td>\n",
       "      <td>14.63</td>\n",
       "      <td>unknown</td>\n",
       "    </tr>\n",
       "    <tr>\n",
       "      <th>33</th>\n",
       "      <td>Pokemon X/Pokemon Y</td>\n",
       "      <td>3DS</td>\n",
       "      <td>2013</td>\n",
       "      <td>Role-Playing</td>\n",
       "      <td>5.28</td>\n",
       "      <td>4.19</td>\n",
       "      <td>4.35</td>\n",
       "      <td>0.78</td>\n",
       "      <td>NaN</td>\n",
       "      <td>NaN</td>\n",
       "      <td>NaN</td>\n",
       "      <td>unknown</td>\n",
       "      <td>14.60</td>\n",
       "      <td>unknown</td>\n",
       "    </tr>\n",
       "    <tr>\n",
       "      <th>42</th>\n",
       "      <td>Grand Theft Auto V</td>\n",
       "      <td>PS4</td>\n",
       "      <td>2014</td>\n",
       "      <td>Action</td>\n",
       "      <td>3.96</td>\n",
       "      <td>6.31</td>\n",
       "      <td>0.38</td>\n",
       "      <td>1.97</td>\n",
       "      <td>97.0</td>\n",
       "      <td>8.3</td>\n",
       "      <td>M</td>\n",
       "      <td>&gt; 17 лет</td>\n",
       "      <td>12.62</td>\n",
       "      <td>&gt; 17 лет</td>\n",
       "    </tr>\n",
       "    <tr>\n",
       "      <th>...</th>\n",
       "      <td>...</td>\n",
       "      <td>...</td>\n",
       "      <td>...</td>\n",
       "      <td>...</td>\n",
       "      <td>...</td>\n",
       "      <td>...</td>\n",
       "      <td>...</td>\n",
       "      <td>...</td>\n",
       "      <td>...</td>\n",
       "      <td>...</td>\n",
       "      <td>...</td>\n",
       "      <td>...</td>\n",
       "      <td>...</td>\n",
       "      <td>...</td>\n",
       "    </tr>\n",
       "    <tr>\n",
       "      <th>16703</th>\n",
       "      <td>Strawberry Nauts</td>\n",
       "      <td>PSV</td>\n",
       "      <td>2016</td>\n",
       "      <td>Adventure</td>\n",
       "      <td>0.00</td>\n",
       "      <td>0.00</td>\n",
       "      <td>0.01</td>\n",
       "      <td>0.00</td>\n",
       "      <td>NaN</td>\n",
       "      <td>NaN</td>\n",
       "      <td>NaN</td>\n",
       "      <td>unknown</td>\n",
       "      <td>0.01</td>\n",
       "      <td>unknown</td>\n",
       "    </tr>\n",
       "    <tr>\n",
       "      <th>16707</th>\n",
       "      <td>Aiyoku no Eustia</td>\n",
       "      <td>PSV</td>\n",
       "      <td>2014</td>\n",
       "      <td>Misc</td>\n",
       "      <td>0.00</td>\n",
       "      <td>0.00</td>\n",
       "      <td>0.01</td>\n",
       "      <td>0.00</td>\n",
       "      <td>NaN</td>\n",
       "      <td>NaN</td>\n",
       "      <td>NaN</td>\n",
       "      <td>unknown</td>\n",
       "      <td>0.01</td>\n",
       "      <td>unknown</td>\n",
       "    </tr>\n",
       "    <tr>\n",
       "      <th>16710</th>\n",
       "      <td>Samurai Warriors: Sanada Maru</td>\n",
       "      <td>PS3</td>\n",
       "      <td>2016</td>\n",
       "      <td>Action</td>\n",
       "      <td>0.00</td>\n",
       "      <td>0.00</td>\n",
       "      <td>0.01</td>\n",
       "      <td>0.00</td>\n",
       "      <td>NaN</td>\n",
       "      <td>NaN</td>\n",
       "      <td>NaN</td>\n",
       "      <td>unknown</td>\n",
       "      <td>0.01</td>\n",
       "      <td>unknown</td>\n",
       "    </tr>\n",
       "    <tr>\n",
       "      <th>16712</th>\n",
       "      <td>Haitaka no Psychedelica</td>\n",
       "      <td>PSV</td>\n",
       "      <td>2016</td>\n",
       "      <td>Adventure</td>\n",
       "      <td>0.00</td>\n",
       "      <td>0.00</td>\n",
       "      <td>0.01</td>\n",
       "      <td>0.00</td>\n",
       "      <td>NaN</td>\n",
       "      <td>NaN</td>\n",
       "      <td>NaN</td>\n",
       "      <td>unknown</td>\n",
       "      <td>0.01</td>\n",
       "      <td>unknown</td>\n",
       "    </tr>\n",
       "    <tr>\n",
       "      <th>16714</th>\n",
       "      <td>Winning Post 8 2016</td>\n",
       "      <td>PSV</td>\n",
       "      <td>2016</td>\n",
       "      <td>Simulation</td>\n",
       "      <td>0.00</td>\n",
       "      <td>0.00</td>\n",
       "      <td>0.01</td>\n",
       "      <td>0.00</td>\n",
       "      <td>NaN</td>\n",
       "      <td>NaN</td>\n",
       "      <td>NaN</td>\n",
       "      <td>unknown</td>\n",
       "      <td>0.01</td>\n",
       "      <td>unknown</td>\n",
       "    </tr>\n",
       "  </tbody>\n",
       "</table>\n",
       "<p>2233 rows × 14 columns</p>\n",
       "</div>"
      ],
      "text/plain": [
       "                                name platform  year_of_release         genre  \\\n",
       "16                Grand Theft Auto V      PS3             2013        Action   \n",
       "23                Grand Theft Auto V     X360             2013        Action   \n",
       "31         Call of Duty: Black Ops 3      PS4             2015       Shooter   \n",
       "33               Pokemon X/Pokemon Y      3DS             2013  Role-Playing   \n",
       "42                Grand Theft Auto V      PS4             2014        Action   \n",
       "...                              ...      ...              ...           ...   \n",
       "16703               Strawberry Nauts      PSV             2016     Adventure   \n",
       "16707               Aiyoku no Eustia      PSV             2014          Misc   \n",
       "16710  Samurai Warriors: Sanada Maru      PS3             2016        Action   \n",
       "16712        Haitaka no Psychedelica      PSV             2016     Adventure   \n",
       "16714            Winning Post 8 2016      PSV             2016    Simulation   \n",
       "\n",
       "       na_sales  eu_sales  jp_sales  other_sales  critic_score  user_score  \\\n",
       "16         7.02      9.09      0.98         3.96          97.0         8.2   \n",
       "23         9.66      5.14      0.06         1.41          97.0         8.1   \n",
       "31         6.03      5.86      0.36         2.38           NaN         NaN   \n",
       "33         5.28      4.19      4.35         0.78           NaN         NaN   \n",
       "42         3.96      6.31      0.38         1.97          97.0         8.3   \n",
       "...         ...       ...       ...          ...           ...         ...   \n",
       "16703      0.00      0.00      0.01         0.00           NaN         NaN   \n",
       "16707      0.00      0.00      0.01         0.00           NaN         NaN   \n",
       "16710      0.00      0.00      0.01         0.00           NaN         NaN   \n",
       "16712      0.00      0.00      0.01         0.00           NaN         NaN   \n",
       "16714      0.00      0.00      0.01         0.00           NaN         NaN   \n",
       "\n",
       "      rating esrb_description  total_sales ESRB_description  \n",
       "16         M         > 17 лет        21.05         > 17 лет  \n",
       "23         M         > 17 лет        16.27         > 17 лет  \n",
       "31       NaN          unknown        14.63          unknown  \n",
       "33       NaN          unknown        14.60          unknown  \n",
       "42         M         > 17 лет        12.62         > 17 лет  \n",
       "...      ...              ...          ...              ...  \n",
       "16703    NaN          unknown         0.01          unknown  \n",
       "16707    NaN          unknown         0.01          unknown  \n",
       "16710    NaN          unknown         0.01          unknown  \n",
       "16712    NaN          unknown         0.01          unknown  \n",
       "16714    NaN          unknown         0.01          unknown  \n",
       "\n",
       "[2233 rows x 14 columns]"
      ]
     },
     "execution_count": 54,
     "metadata": {},
     "output_type": "execute_result"
    }
   ],
   "source": [
    "# создаем срез данных за последние 10 лет по всем платформам\n",
    "platforms_after_2013 = data.query('year_of_release >= 2013')\n",
    "platforms_after_2013"
   ]
  },
  {
   "cell_type": "code",
   "execution_count": 55,
   "id": "2901ef89-8f70-424e-8cdb-bbf664f6f6d6",
   "metadata": {
    "scrolled": false
   },
   "outputs": [
    {
     "data": {
      "text/plain": [
       "<function matplotlib.pyplot.show(close=None, block=None)>"
      ]
     },
     "execution_count": 55,
     "metadata": {},
     "output_type": "execute_result"
    },
    {
     "data": {
      "image/png": "[encoded data removed]",
      "text/plain": [
       "<Figure size 1224x720 with 1 Axes>"
      ]
     },
     "metadata": {
      "needs_background": "light"
     },
     "output_type": "display_data"
    }
   ],
   "source": [
    "# рисуем боксплоты по продажам за последние 3 года среди всех платформ\n",
    "fig = plt.figure(figsize=(17,10))\n",
    "sns.boxplot(data= platforms_after_2013, x='platform', y='total_sales', palette=sns.color_palette('pastel'))\n",
    "#sns.color_palette('pastel')\n",
    "plt.title(\"Диаграмма размаха продаж по платформам\", fontsize=20)\n",
    "plt.xlabel(\"Платформа\", fontsize=15)\n",
    "plt.ylabel(\"Проданных игр, млн\", fontsize=15)\n",
    "plt.ylim(0, 1.4) # ограничили по оси Y для информативности\n",
    "plt.show"
   ]
  },
  {
   "cell_type": "markdown",
   "id": "a1bc5013-5ae2-490e-a9e5-39c1b61eb530",
   "metadata": {},
   "source": [
    "Лидер продаж за последние 3 года - x360, второе место, с минимальным разницей, у PS4 и Wii. Третье место у XOne. Интересная получилась картина. На графике продаж по годам было видно как сильно просел рынок в 2012. До конца исследуемого периода (2016 год) выпускается всё меньше игр. Исследуя продажи по платформам за весь период нашли, что больше всего игр продано для 'PS2', далее по убывающей - 'X360', 'PS3', 'Wii', 'DS', 'PS'. Но теперь на боксплоте видим 'PS4' которая появилась только в конце 2013 года и даже не попала в наш топ 6 платформ, однако на фоне общего спада продаж успела за 3 года взлететь. \n",
    "\n",
    "<a id=\"3.2.1\"></a>\n",
    "#### Вывод\n",
    "Мы определили срок жизни платформы в 10 лет с пиком на 4-5 год жизни. Изучив продажи  по платформам можно с уверенностью сказать, что при прогнозе успешности продаж ориентироваться нужно на  платформы, которые находяться в стадии роста, т.е. до 3х лет. Также можно сказать, что у нас определились 2 крупных игрока на рынке- Playstation и Xbox. Соревнуясь в выпуске новых моделей они забрали себе львинную долю рынка.\n",
    "\n",
    "<a id=\"3.3\"></a>\n",
    "### Влияние отзывов на продажи\n",
    "\n",
    "Возьмем лидера по продажам - платформу X360 и на ее примере посмотрим как зависят продажи от оценок юзеров и критиков. Последовательно построим диаграммы рассеяния и посчитаем корреляцию по каждому виду оценок. Затем сравним полученный результат с данными по всем платформам."
   ]
  },
  {
   "cell_type": "code",
   "execution_count": 56,
   "id": "c6363ce6-0dbd-400b-bfa5-98d24394e1c6",
   "metadata": {},
   "outputs": [
    {
     "data": {
      "text/plain": [
       "Text(0, 0.5, 'Проданных игр, млн')"
      ]
     },
     "execution_count": 56,
     "metadata": {},
     "output_type": "execute_result"
    },
    {
     "data": {
      "image/png": "[encoded data removed]",
      "text/plain": [
       "<Figure size 864x432 with 1 Axes>"
      ]
     },
     "metadata": {
      "needs_background": "light"
     },
     "output_type": "display_data"
    }
   ],
   "source": [
    "# делаем срез\n",
    "X_360 = data[data['platform']=='X360']\n",
    "\n",
    "#Построим диаграмму рассеяния для оценок пользователей\n",
    "plt.figure(figsize=(12,6))\n",
    "sns.scatterplot(x='user_score', y='total_sales', data=X_360)\n",
    "plt.title('Влияние оценок пользователей на продажи X_360', fontsize=20)\n",
    "plt.xlabel(\"Оценка пользователей\", fontsize=15)\n",
    "plt.ylabel(\"Проданных игр, млн\", fontsize=15)"
   ]
  },
  {
   "cell_type": "code",
   "execution_count": 57,
   "id": "2527c5ee-e6d0-44ad-a95e-43e638cd70cc",
   "metadata": {},
   "outputs": [
    {
     "data": {
      "text/plain": [
       "0.11418661214018036"
      ]
     },
     "execution_count": 57,
     "metadata": {},
     "output_type": "execute_result"
    }
   ],
   "source": [
    "#Корреляция между оценками пользователей и продажами \n",
    "X_360['user_score'].corr(X_360['total_sales'])"
   ]
  },
  {
   "cell_type": "code",
   "execution_count": 58,
   "id": "16591139-0c6f-47af-8833-2ee1e1b011ee",
   "metadata": {},
   "outputs": [
    {
     "data": {
      "text/plain": [
       "Text(0, 0.5, 'Проданных игр, млн')"
      ]
     },
     "execution_count": 58,
     "metadata": {},
     "output_type": "execute_result"
    },
    {
     "data": {
      "image/png": "[encoded data removed]",
      "text/plain": [
       "<Figure size 864x432 with 1 Axes>"
      ]
     },
     "metadata": {
      "needs_background": "light"
     },
     "output_type": "display_data"
    }
   ],
   "source": [
    "#Построим диаграмму рассеяния для оценок критиков\n",
    "plt.figure(figsize=(12,6))\n",
    "sns.scatterplot(x='critic_score', y='total_sales', data=X_360)\n",
    "plt.title('Влияние оценок критиков на продажи X_360', fontsize=20)\n",
    "plt.xlabel(\"Оценка критиков\", fontsize=15)\n",
    "plt.ylabel(\"Проданных игр, млн\", fontsize=15)"
   ]
  },
  {
   "cell_type": "code",
   "execution_count": 59,
   "id": "aad3d25d-7f27-4212-ac5e-fe4c6ff4fcea",
   "metadata": {},
   "outputs": [
    {
     "data": {
      "text/plain": [
       "0.39286589254007037"
      ]
     },
     "execution_count": 59,
     "metadata": {},
     "output_type": "execute_result"
    }
   ],
   "source": [
    "#Корреляция между оценками критиков и продажами X_360\n",
    "X_360['critic_score'].corr(X_360['total_sales'])"
   ]
  },
  {
   "cell_type": "markdown",
   "id": "dc143cc5-7723-4e9e-8c0f-0e30c29ac621",
   "metadata": {},
   "source": [
    "Продажи X_360 имеют некоторую зависимость от оценок. Но только для оценок пользователей корреляция слабая - 0,11 и присутствует большой разброс данных, а вот оценки критиков это уже выраженная корреляция - 0,39, впрочем, у высоко оцененных критиками игр разброс тоже большой.\n",
    "\n",
    "Теперь посмотрим можно ли сделать такие же выводы по всем играм в целом, или такая зависимость свойственна только играм для X_360.\n",
    "Построим  диаграммы рассеяния и посчитаем корреляцию используя данные по всем платформам за актуальный для нас период с 2006 года."
   ]
  },
  {
   "cell_type": "code",
   "execution_count": 62,
   "id": "cff2c6f4-daad-4fcb-a464-9da70ffdfa59",
   "metadata": {},
   "outputs": [
    {
     "data": {
      "text/plain": [
       "Text(0, 0.5, 'Проданных игр, млн')"
      ]
     },
     "execution_count": 62,
     "metadata": {},
     "output_type": "execute_result"
    },
    {
     "data": {
      "image/png": "[encoded data removed]",
      "text/plain": [
       "<Figure size 864x432 with 1 Axes>"
      ]
     },
     "metadata": {
      "needs_background": "light"
     },
     "output_type": "display_data"
    }
   ],
   "source": [
    "data_after_2011 = data.query('year_of_release >= 2011')\n",
    "\n",
    "#Построим диаграмму рассеяния для оценок пользователей\n",
    "plt.figure(figsize=(12,6))\n",
    "sns.scatterplot(x='user_score', y='total_sales', data=data_after_2011)\n",
    "plt.title('Влияние оценок пользователей на общие продажи', fontsize=20)\n",
    "plt.xlabel(\"Оценка пользователей\", fontsize=15)\n",
    "plt.ylabel(\"Проданных игр, млн\", fontsize=15)"
   ]
  },
  {
   "cell_type": "code",
   "execution_count": 63,
   "id": "fc1c1a37-245a-4494-ab8c-0bb84bca4f7f",
   "metadata": {},
   "outputs": [
    {
     "data": {
      "text/plain": [
       "0.03163612772559287"
      ]
     },
     "execution_count": 63,
     "metadata": {},
     "output_type": "execute_result"
    }
   ],
   "source": [
    "#Корреляция между оценками критиков и общие продажи \n",
    "data_after_2011['user_score'].corr(data_after_2011['total_sales'])"
   ]
  },
  {
   "cell_type": "code",
   "execution_count": 30,
   "id": "cacfcc8e-8fd6-4f5b-bce3-d5f268cae97e",
   "metadata": {},
   "outputs": [
    {
     "data": {
      "text/plain": [
       "Text(0, 0.5, 'Проданных игр, млн')"
      ]
     },
     "execution_count": 30,
     "metadata": {},
     "output_type": "execute_result"
    },
    {
     "data": {
      "image/png": "[encoded data removed]",
      "text/plain": [
       "<Figure size 864x432 with 1 Axes>"
      ]
     },
     "metadata": {
      "needs_background": "light"
     },
     "output_type": "display_data"
    }
   ],
   "source": [
    "#Построим диаграмму рассеяния для оценок критиков\n",
    "plt.figure(figsize=(12,6))\n",
    "sns.scatterplot(x='critic_score', y='total_sales', data=data_after_2011)\n",
    "plt.title('Влияние оценок критиков на общие продажи', fontsize=20)\n",
    "plt.xlabel(\"Оценка критиков\", fontsize=15)\n",
    "plt.ylabel(\"Проданных игр, млн\", fontsize=15)\n"
   ]
  },
  {
   "cell_type": "code",
   "execution_count": 31,
   "id": "cab61d32-89a7-4653-a185-49bcf7f8389e",
   "metadata": {},
   "outputs": [
    {
     "data": {
      "text/plain": [
       "0.32997650501145853"
      ]
     },
     "execution_count": 31,
     "metadata": {},
     "output_type": "execute_result"
    }
   ],
   "source": [
    "#Корреляция между оценками критиков и продажами \n",
    "data_after_2011['critic_score'].corr(data_after_2011['total_sales'])"
   ]
  },
  {
   "cell_type": "markdown",
   "id": "1a610b9b-e826-4918-9451-9ab722cc377c",
   "metadata": {},
   "source": [
    "#### Вывод\n",
    "Уровни корреляций сопоставимы. Для оценок пользователей корреляция очень слабая от 0,03 до 0,11 а для оценок критиков умеренная от 0,32 до 0,39. Это можно наблюдать и на графиках продаж для X_360 и для всех платформ в целом. На диаграммах рассеяния по оценкам пользователей видно большое количество  выбросов вне зависимости от рейтинга. У игр с высокими оценками критиков хорошо  заметна высокая плотность точек, таких продаж явно большинство, но здесь также виден сильный разброс точек.\n",
    "Можно сделать вывод, что ориентироваться нужно на оценки критиков, а не пользователей, но и это не гарант успешных продаж.\n",
    "\n",
    "<a id=\"3.4\"></a>\n",
    "### Общее распределение игр по жанрам\n",
    "\n",
    "Посмотрим какие жанры игр являются самыми популярными. Что можно сказать о самых прибыльных жанрах? Выделяются ли жанры с высокими и низкими продажами?\n"
   ]
  },
  {
   "cell_type": "code",
   "execution_count": 64,
   "id": "4611096a-9526-422b-a165-51e7c7b556d1",
   "metadata": {},
   "outputs": [
    {
     "data": {
      "text/plain": [
       "Text(0, 0.5, 'Млн проданных копий')"
      ]
     },
     "execution_count": 64,
     "metadata": {},
     "output_type": "execute_result"
    },
    {
     "data": {
      "image/png": "[encoded data removed]",
      "text/plain": [
       "<Figure size 432x288 with 1 Axes>"
      ]
     },
     "metadata": {
      "needs_background": "light"
     },
     "output_type": "display_data"
    }
   ],
   "source": [
    "# Создадим сводную таблицу по жанру и продажам, отсортируем\n",
    "genre = pd.pivot_table(data, index='genre', values='total_sales', aggfunc='mean').sort_values(by='total_sales', ascending=False).reset_index()\n",
    "\n",
    "# Построим барплот по жанрам\n",
    "plt.figure()\n",
    "plt.title('Популярность игр по жанрам ',fontsize=20)\n",
    "sns.barplot(data=genre, x='genre', y='total_sales', palette=sns.color_palette('pastel'), ec='black',)\n",
    "plt.xlabel('Жанры игр',fontsize=15)\n",
    "plt.xticks(rotation=45)\n",
    "plt.ylabel('Млн проданных копий',fontsize=15)\n",
    "\n"
   ]
  },
  {
   "cell_type": "markdown",
   "id": "9b3d2a69-99ab-4836-9ba9-c13af89e48b2",
   "metadata": {},
   "source": [
    "Самый популярный жанр, оказывается, Platform- игры типа Super Mario. Второе место у стрелялок, третье  за ролевыми играми. На последних местах по популярности игры, где надо думать - пазлы, стратегии и приключенческие. И тут все логично. В игры, обычно, играют чтобы отвлечься. Во всяком случае рядовые пользователи. Будущие аналитики с детства предпочитают стратежки :)\n",
    "\n",
    "<a id=\"3.5\"></a>\n",
    "### Вывод по исследовательскому анализу данных\n",
    "\n",
    "Начиная с 90х годов начался бум в компьютерной и консольной игровой индустрии, Золотым веком стал 2008-2009 год, тогда выпускалось 1400 игр в год. После 2009 года, когда уже появились сенсорные телефоны и массово начали создавать мобильные приложения и мобильные игры, наметилось снижение спроса и, соответственно, спад разработок игр на игровые платформы, ну либо производители сосредоточились на более крупных проектах в ущерб количеству.\n",
    "Самые популярные игровые платформы за весь период: Sony PlayStation 2, Xbox 360, Sony Playstation 3, WII,  DS, Sony Playstation.\n",
    "В среднем  игровые платформы живут 10 лет. Пик продаж наступает примерно через 4-5 лет после выхода приставки. В исследовании  сосредоточились на данных за последние 3 года и это оправдалось. Мы нашли резкий рост продаж для трехлетней PS4. на этот срок и стоит ориентироваться в будущем, составляя прогнозы успешности продаж.\n",
    "Несомненные лидеры рынка сейчас это Sony Playstation 4 и Xbox 360.У всех платформ наблюдается взаимосвязь между продажами и оценками критиков. \n",
    "\n",
    "<a id=\"4\"></a>\n",
    "## Портрет пользователя каждого региона\n",
    "\n",
    "У нас есть данные о продажах по различным регионам:\n",
    "\n",
    "- NA_sales — продажи в Северной Америке (миллионы проданных копий)\n",
    "- EU_sales — продажи в Европе (миллионы проданных копий)\n",
    "- JP_sales — продажи в Японии (миллионы проданных копий)\n",
    "\n",
    "Определим для каждого региона топ-5 платформ, топ-5 популярных жанров и посмотрим на рейтинг ESRB. Сравним показатели, опишем отличия. Данные смотрим за последние 10 лет по переменной \"platforms_after_2013\""
   ]
  },
  {
   "cell_type": "code",
   "execution_count": 65,
   "id": "02efb814-5340-4613-b00f-085782e1dae1",
   "metadata": {},
   "outputs": [],
   "source": [
    "# создадим функцию для отрисовки графиков, которая строит сводную таблицу по выбранному параметру и по этой таблице строит графики для каждого региона\n",
    "def top_region_sales(groupby, region_sales, ax): # 1 аргумент- параметр по которому строим график, 2 аргумент- регион, 3 аргумент - определяет позицию в subplots\n",
    "    pivot = platforms_after_2013.groupby(groupby).agg({region_sales: 'sum'}).sort_values(by=region_sales, ascending=False)[:5] # строим сводную таблицу по параметру и региону продажи, сортируем и оставляем первые 5 значений\n",
    "    title_dict = {'na_sales': 'Продажи в Северной Америке', 'eu_sales': 'Продажи в Европе', 'jp_sales': 'Продажи в Японии'} # словарь названий графиков\n",
    "    color_dict = {'na_sales': 'mediumslateblue', 'eu_sales': 'magenta', 'jp_sales': 'palegreen'} # словарь каким цветом рисовать график по региону\n",
    "    plot = pivot.plot(kind='bar', ec='black', title=title_dict[region_sales], ax=axes[ax], # рисуем график\n",
    "                   fontsize=20, color=color_dict[region_sales], rot=30)\n",
    "    plot.title.set_size(20)"
   ]
  },
  {
   "cell_type": "code",
   "execution_count": 66,
   "id": "b78f365a-c117-43ac-af15-f96761d5de19",
   "metadata": {},
   "outputs": [
    {
     "data": {
      "image/png": "[encoded data removed]",
      "text/plain": [
       "<Figure size 1800x432 with 3 Axes>"
      ]
     },
     "metadata": {
      "needs_background": "light"
     },
     "output_type": "display_data"
    }
   ],
   "source": [
    "#  самые популярные платформы по регионам продаж\n",
    "fig, axes = plt.subplots(1, 3, figsize=(25,6))\n",
    "\n",
    "top_region_sales('platform', 'na_sales', 0)\n",
    "top_region_sales('platform', 'eu_sales', 1)\n",
    "top_region_sales('platform', 'jp_sales', 2)"
   ]
  },
  {
   "cell_type": "markdown",
   "id": "a73c5305-e01b-4809-8355-412d0caa61f1",
   "metadata": {},
   "source": [
    "Картина для Европы и Сверной Америки похожа- наши 2 лидера XBox и Playstation соревнуются между собой. Несомненный лидер - современная PS4. Японцы предпочитают свою местную 3DS, но и PS3 и PS4 тоже пользуется  относительной популярностью. "
   ]
  },
  {
   "cell_type": "code",
   "execution_count": 67,
   "id": "cd3bf6ea-6bd3-4264-9a59-eb2148ebbcad",
   "metadata": {},
   "outputs": [
    {
     "data": {
      "image/png": "[encoded data removed]",
      "text/plain": [
       "<Figure size 1800x432 with 3 Axes>"
      ]
     },
     "metadata": {
      "needs_background": "light"
     },
     "output_type": "display_data"
    }
   ],
   "source": [
    "#  самые популярные жанры по регионам продаж\n",
    "fig, axes = plt.subplots(1, 3, figsize=(25,6))\n",
    "\n",
    "top_region_sales('genre', 'na_sales', 0)\n",
    "top_region_sales('genre', 'eu_sales', 1)\n",
    "top_region_sales('genre', 'jp_sales', 2)"
   ]
  },
  {
   "cell_type": "markdown",
   "id": "7b7deb06-d446-490d-a841-9bd41a13696a",
   "metadata": {},
   "source": [
    "Снова поведение Американцев и Европейцев похоже, они выбирают одни и те же жанры - 5 из 6ти совпадают. Самый популярный Action. Японцы в отличие от них больше предпочитают Role-Plaing игры, но и Action в почете."
   ]
  },
  {
   "cell_type": "code",
   "execution_count": 68,
   "id": "7e248356-58b6-400d-ad58-f7a403c7367f",
   "metadata": {},
   "outputs": [
    {
     "data": {
      "image/png": "[encoded data removed]",
      "text/plain": [
       "<Figure size 1800x432 with 3 Axes>"
      ]
     },
     "metadata": {
      "needs_background": "light"
     },
     "output_type": "display_data"
    }
   ],
   "source": [
    "# рейтинг игр по регионам\n",
    "fig, axes = plt.subplots(1, 3, figsize=(25,6))\n",
    "\n",
    "top_region_sales('ESRB_description', 'na_sales', 0)\n",
    "top_region_sales('ESRB_description', 'eu_sales', 1)\n",
    "top_region_sales('ESRB_description', 'jp_sales', 2)"
   ]
  },
  {
   "cell_type": "markdown",
   "id": "01bd31fe-d1fe-4fd7-8f5f-edbaa751511b",
   "metadata": {},
   "source": [
    "Самые популярные игры в Европе и Америке категории \"> 17 лет\", далее идут \"для всех\" и игры с возрастным цензом до 10 лет. Есть на графике и категория \"Unknown\". Скорее всего к моменту сбора данных эти игры еще не получили рейтинг.\n",
    "\n",
    "Учитывая, что в Японии популярны другие консольные игры, а рейтинг ESRB предназначен для програмного обеспечения используемого на территории Канады и США можно предположить, что игры в которые играют японцы не получали такой рейтинг. \n",
    "\n",
    "### Вывод\n",
    "\n",
    "Европейцы и Американцы как братья близнецы. Одни и те же любимые платформы и игры для них. Соответственно и распределение по возрастномe рейтингу одинаковое. А вот Японцы на своей волне. С большим отрывом лидирует местный производитель консолей Nintendo со своей 3DS, любимый жанр -ролевые игры, для которых не проводилась оценка по рейтингу ESRB. Прогнозируя продажи для различных регионов на будущее азиатский рынок нужно просчитывать отдельно, слишком уж они не вписываюся в общую картину.\n",
    "\n",
    "<a id=\"5\"></a>\n",
    "## Проверка гипотез\n",
    "\n",
    "<a id=\"e\"></a>\n",
    "В задачи исследования входило проверить 2 гипотезы:\n",
    "\n",
    "- средние пользовательские рейтинги платформ Xbox One и PC одинаковые;\n",
    "- средние пользовательские рейтинги жанров Action и Sports разные.\n",
    "\n",
    "Так как у нас и по платформам и по жанрам независимые данные(выборки), то для проверки обеих гипотез будем использовать t-критерий Стьюдента, у нас достаточно большие и равные по размеру выборки и нет оснований думать, что дисперсии генеральных совокупностей разные, поэтому\n",
    "Примем equal_var  = True,\n",
    "\n",
    "Пороговое значение alpha = 0.05.\n",
    "\n",
    "\n",
    "<a id=\"work\"></a>\n",
    "<a id=\"5.1\"></a>\n",
    "### Рейтинги платформ:\n",
    "\n",
    "- **Н0 (нулевая гипотеза)** - средние пользовательские рейтинги платформ Xbox One и PC одинаковые.\n",
    "- **Н1 (альтернативная гипотеза)** - средние пользовательские рейтинги платформ Xbox One и PC отличаются между собой."
   ]
  },
  {
   "cell_type": "code",
   "execution_count": 38,
   "id": "6e09c88a-cad7-4259-8e8b-0194d1a10a52",
   "metadata": {},
   "outputs": [
    {
     "name": "stdout",
     "output_type": "stream",
     "text": [
      "p-значение: 0.00001\n",
      "Отвергаем нулевую гипотезу, рейтинги платформ Xbox One и PC разные\n"
     ]
    }
   ],
   "source": [
    "# создаем срез по платформе и выставленной оценке пользователями\n",
    "xone_rating = data[(data['platform'] == 'XOne') & (data['user_score'] > 0)]['user_score']\n",
    "\n",
    "pc_rating= data[(data['platform'] == 'PC') & (data['user_score'] > 0)]['user_score']\n",
    "\n",
    "\n",
    "alpha = .05 # критический уровень статистической значимости\n",
    "            # если p-value окажется меньше него - отвергнем гипотезу\n",
    "\n",
    "results = st.ttest_ind(\n",
    "    xone_rating, \n",
    "    pc_rating,\n",
    "    equal_var = True) \n",
    "\n",
    "print('p-значение: {:.5f}'.format(results.pvalue))\n",
    "\n",
    "if (results.pvalue < alpha):\n",
    "    print(\"Отвергаем нулевую гипотезу, рейтинги платформ Xbox One и PC разные\")\n",
    "else:\n",
    "    print(\"Не получилось отвергнуть нулевую гипотезу, рейтинги платформ Xbox One и PC одинаковые\")"
   ]
  },
  {
   "cell_type": "markdown",
   "id": "6c353472-8c53-46f1-b27d-379a397635ec",
   "metadata": {},
   "source": [
    "<a id=\"5.2\"></a>\n",
    "### Рейтинги жанров:\n",
    "\n",
    "- **Н0 (нулевая гипотеза)** - средние пользовательские рейтинги жанров Action и Sports одинаковые.\n",
    "- **Н1 (альтернативная гипотеза)** - средние пользовательские рейтинги жанров Action и Sports отличаются между собой."
   ]
  },
  {
   "cell_type": "code",
   "execution_count": 39,
   "id": "a06086c9-81ae-4321-a508-2d6b19e9c72d",
   "metadata": {},
   "outputs": [
    {
     "name": "stdout",
     "output_type": "stream",
     "text": [
      "p-значение:  0.06480928064420527\n",
      "Не получилось отвергнуть нулевую гипотезу, средние пользовательские рейтинги жанров Action и Sports одинаковые\n",
      "Средняя оценка пользователей для жанра \"Action\" - 7.06\n",
      "Средняя оценка пользователей для жанра \"Sports\" - 6.95\n"
     ]
    }
   ],
   "source": [
    "# создаем срез по жанру и выставленной оценке пользователями\n",
    "action_rating = data[(data['genre'] == 'Action') & (data['user_score'] > 0)]\n",
    "sports_rating = data[(data['genre'] == 'Sports') & (data['user_score'] > 0)]\n",
    "\n",
    "results = ttest_ind(\n",
    "    action_rating['user_score'], \n",
    "    sports_rating['user_score'])\n",
    "\n",
    "print('p-значение: ', results.pvalue)\n",
    "\n",
    "if results.pvalue < alpha:\n",
    "    print(\"Отвергаем нулевую гипотезу, средние пользовательские рейтинги жанров Action и Sports отличаются между собой\")\n",
    "else:\n",
    "    print(\"Не получилось отвергнуть нулевую гипотезу, средние пользовательские рейтинги жанров Action и Sports одинаковые\")\n",
    "    print('Средняя оценка пользователей для жанра \"Action\" - {:.2f}'.format(action_rating['user_score'].mean()))\n",
    "    print('Средняя оценка пользователей для жанра \"Sports\" - {:.2f}'.format(sports_rating['user_score'].mean()))"
   ]
  },
  {
   "cell_type": "markdown",
   "id": "993a12cf",
   "metadata": {},
   "source": [
    "<a id=\"sr\"></a>\n",
    "При проведении теста Стьюдента у нас не получилось отвергнуть нулевую гипотезу, учитывая минимальную разницу значений средних оценок для жанра \"Action\" - 7.06 и для жанра \"Sports\" - 6.95 будем считать, что статистически  рейтинги одинаковы.\n",
    "\n",
    "## Общий вывод\n",
    "\n",
    "На этапе предобработки мы привели название колонок к стандартному виду и удалили строки с пропусками в названиях и годах релиза игры. Нашли в оценках неопределенный рейтинг \"tbd\" и заменили его на  подходящий по смыслу Nan. Привели в соответствие типы данных. Создали колонки с итоговыми продажами и значениями для рэйтинга ESRB. Остался вопрос как данные собирались из открытых источников. Пропущенные названия 2 игр и оценок за 1993 год еще можно простить за незначительностью, а вот 269 пропущеных значений в колонке релиза игры или большого количества невыставленых оценок и рейтинга оставляют вопросы. Возможно даные собраны не совсем корректно, а, возможно, просто таких данных не было в источнике. Но имеем что имеем.\n",
    "\n",
    "Исследовательский анализ дал понять как развивалась индустрия игр. До 90х выпускалось не более 50 игр в год, а с 1994 года начался  существенный рост, который продолжал быстро увеличиваться от года к году. Пиком стал 2008 год, когда было выпущено более 1400 игр, но уже после 2009 года началось падение количественного показателя. После 2012 года началось такое же резкое снижение количества выпускаемых игр. Можно связать это с переориентацией производства на более сложные технически, зрелищные игры. Для несложных теперь есть мобильные телефоны.\n",
    "\n",
    "В ходе исследования пришли к выводу, что активно платформа живет 10 лет, затем на смену приходят более современные модели.  Лучше всего дела обстоят на 4-5 году существования, потом начинается спад. Для прогноза продаж, как показал пример PS4, лучше ориентироваться на 3 года. Определили также и лидеров рынка это XBOX и Playstation- они, соревнуясь между собой, оттягивают на себя большую часть продаж и, скорее всего, со временем вытеснят мелких производителей окончательно. \n",
    "Оценки критиков умеренно влияют на продажи корреляция составляет 0,32-0,39. К ним можно прислушиваться, но не стоит брать их оценку за основу прогноза успешности игры.\n",
    "\n",
    "Самым популярным жанром стали платформенные игры типа SuperMario, затем идут шутеры, ролевые и спортивные игры. Впрочем, по регионам картинка отличается.\n",
    "\n",
    "Изучая пристрастия пользователей по региону проживания нашли, что вкусы японцев довольно специфичны. Начиная от выбора платформы в пользу Nintendo- 3DS, до предпочтения в жанрах. Вот что получили:\n",
    "\n",
    "Самые популярные платформы (топ-5)\n",
    "\n",
    "- Европа: PS4, PS3, XOne, X360, 3DS, \n",
    "- Северная Америка: PS4, XOne,  X360, PS3, 3DS, \n",
    "- Япония: 3DS, PS3, PSV, PS4, Wii\n",
    "\n",
    "Самые популярные жанры (топ-5)\n",
    "\n",
    "- Европа: Action, Shooter, Sports, Role-Playing, Racing\n",
    "- Северная Америка: Action, Shooter, Sports, Role-Playing, Misc, \n",
    "- Япония: Role-Playing, Action, Misc, Fightig, Shooter\n",
    "\n",
    "Влияние рейтинга ESRB распространяется на Европу и Америку, но н действует на Японию, здесь сумарные продажи у игр без рейтинга выше.\n",
    "\n",
    "Мы выдвинули и проверили 2 гипотезы о равенстве пользовательских рейтингов платформ и игровых жанров. Статистически доказали, что средние пользовательские рейтинги платформ Xbox One и PC отличаются между собой, а вот средние пользовательские рейтинги жанров Action и Sports одинаковы."
   ]
  }
 ],
 "metadata": {
  "ExecuteTimeLog": [
   {
    "duration": 1674,
    "start_time": "2022-04-03T06:24:15.928Z"
   },
   {
    "duration": 212,
    "start_time": "2022-04-03T06:24:17.606Z"
   },
   {
    "duration": 0,
    "start_time": "2022-04-03T06:24:17.822Z"
   },
   {
    "duration": 0,
    "start_time": "2022-04-03T06:24:17.823Z"
   },
   {
    "duration": 0,
    "start_time": "2022-04-03T06:24:17.825Z"
   },
   {
    "duration": 0,
    "start_time": "2022-04-03T06:24:17.826Z"
   },
   {
    "duration": 0,
    "start_time": "2022-04-03T06:24:17.828Z"
   },
   {
    "duration": 0,
    "start_time": "2022-04-03T06:24:17.829Z"
   },
   {
    "duration": 0,
    "start_time": "2022-04-03T06:24:17.831Z"
   },
   {
    "duration": 0,
    "start_time": "2022-04-03T06:24:17.832Z"
   },
   {
    "duration": 0,
    "start_time": "2022-04-03T06:24:17.834Z"
   },
   {
    "duration": 0,
    "start_time": "2022-04-03T06:24:17.835Z"
   },
   {
    "duration": 0,
    "start_time": "2022-04-03T06:24:17.836Z"
   },
   {
    "duration": 0,
    "start_time": "2022-04-03T06:24:17.838Z"
   },
   {
    "duration": 0,
    "start_time": "2022-04-03T06:24:17.839Z"
   },
   {
    "duration": 0,
    "start_time": "2022-04-03T06:24:17.873Z"
   },
   {
    "duration": 0,
    "start_time": "2022-04-03T06:24:17.875Z"
   },
   {
    "duration": 0,
    "start_time": "2022-04-03T06:24:17.877Z"
   },
   {
    "duration": 0,
    "start_time": "2022-04-03T06:24:17.878Z"
   },
   {
    "duration": 0,
    "start_time": "2022-04-03T06:24:17.882Z"
   },
   {
    "duration": 0,
    "start_time": "2022-04-03T06:24:17.886Z"
   },
   {
    "duration": 1,
    "start_time": "2022-04-03T06:24:17.887Z"
   },
   {
    "duration": 0,
    "start_time": "2022-04-03T06:24:17.889Z"
   },
   {
    "duration": 0,
    "start_time": "2022-04-03T06:24:17.891Z"
   },
   {
    "duration": 0,
    "start_time": "2022-04-03T06:24:17.893Z"
   },
   {
    "duration": 0,
    "start_time": "2022-04-03T06:24:17.895Z"
   },
   {
    "duration": 0,
    "start_time": "2022-04-03T06:24:17.896Z"
   },
   {
    "duration": 0,
    "start_time": "2022-04-03T06:24:17.898Z"
   },
   {
    "duration": 0,
    "start_time": "2022-04-03T06:24:17.900Z"
   },
   {
    "duration": 0,
    "start_time": "2022-04-03T06:24:17.901Z"
   },
   {
    "duration": 0,
    "start_time": "2022-04-03T06:24:17.903Z"
   },
   {
    "duration": 0,
    "start_time": "2022-04-03T06:24:17.905Z"
   },
   {
    "duration": 0,
    "start_time": "2022-04-03T06:24:17.906Z"
   },
   {
    "duration": 0,
    "start_time": "2022-04-03T06:24:17.908Z"
   },
   {
    "duration": 0,
    "start_time": "2022-04-03T06:24:17.909Z"
   },
   {
    "duration": 0,
    "start_time": "2022-04-03T06:24:17.911Z"
   },
   {
    "duration": 0,
    "start_time": "2022-04-03T06:24:17.912Z"
   },
   {
    "duration": 0,
    "start_time": "2022-04-03T06:24:17.975Z"
   },
   {
    "duration": 0,
    "start_time": "2022-04-03T06:24:17.977Z"
   },
   {
    "duration": 26,
    "start_time": "2022-04-03T06:25:57.244Z"
   },
   {
    "duration": 59,
    "start_time": "2022-04-03T06:26:37.389Z"
   },
   {
    "duration": 1719,
    "start_time": "2022-04-03T06:26:44.138Z"
   },
   {
    "duration": 68,
    "start_time": "2022-04-03T06:26:45.861Z"
   },
   {
    "duration": 149,
    "start_time": "2022-04-03T06:26:45.932Z"
   },
   {
    "duration": 4,
    "start_time": "2022-04-03T06:26:46.084Z"
   },
   {
    "duration": 9,
    "start_time": "2022-04-03T06:26:46.092Z"
   },
   {
    "duration": 37,
    "start_time": "2022-04-03T06:26:46.104Z"
   },
   {
    "duration": 31,
    "start_time": "2022-04-03T06:26:46.144Z"
   },
   {
    "duration": 52,
    "start_time": "2022-04-03T06:26:46.177Z"
   },
   {
    "duration": 8,
    "start_time": "2022-04-03T06:26:46.231Z"
   },
   {
    "duration": 50,
    "start_time": "2022-04-03T06:26:46.241Z"
   },
   {
    "duration": 14,
    "start_time": "2022-04-03T06:26:46.294Z"
   },
   {
    "duration": 15,
    "start_time": "2022-04-03T06:26:46.310Z"
   },
   {
    "duration": 49,
    "start_time": "2022-04-03T06:26:46.328Z"
   },
   {
    "duration": 6,
    "start_time": "2022-04-03T06:26:46.383Z"
   },
   {
    "duration": 34,
    "start_time": "2022-04-03T06:26:46.392Z"
   },
   {
    "duration": 662,
    "start_time": "2022-04-03T06:26:46.428Z"
   },
   {
    "duration": 30,
    "start_time": "2022-04-03T06:26:47.092Z"
   },
   {
    "duration": 584,
    "start_time": "2022-04-03T06:26:47.124Z"
   },
   {
    "duration": 72,
    "start_time": "2022-04-03T06:26:47.711Z"
   },
   {
    "duration": 1652,
    "start_time": "2022-04-03T06:26:47.785Z"
   },
   {
    "duration": 52,
    "start_time": "2022-04-03T06:26:49.439Z"
   },
   {
    "duration": 744,
    "start_time": "2022-04-03T06:26:49.494Z"
   },
   {
    "duration": 281,
    "start_time": "2022-04-03T06:26:50.240Z"
   },
   {
    "duration": 7,
    "start_time": "2022-04-03T06:26:50.523Z"
   },
   {
    "duration": 313,
    "start_time": "2022-04-03T06:26:50.532Z"
   },
   {
    "duration": 7,
    "start_time": "2022-04-03T06:26:50.847Z"
   },
   {
    "duration": 25,
    "start_time": "2022-04-03T06:26:50.856Z"
   },
   {
    "duration": 287,
    "start_time": "2022-04-03T06:26:50.884Z"
   },
   {
    "duration": 7,
    "start_time": "2022-04-03T06:26:51.174Z"
   },
   {
    "duration": 293,
    "start_time": "2022-04-03T06:26:51.184Z"
   },
   {
    "duration": 27,
    "start_time": "2022-04-03T06:26:51.479Z"
   },
   {
    "duration": 17,
    "start_time": "2022-04-03T06:26:51.508Z"
   },
   {
    "duration": 320,
    "start_time": "2022-04-03T06:26:51.528Z"
   },
   {
    "duration": 9,
    "start_time": "2022-04-03T06:26:51.850Z"
   },
   {
    "duration": 718,
    "start_time": "2022-04-03T06:26:51.861Z"
   },
   {
    "duration": 754,
    "start_time": "2022-04-03T06:26:52.582Z"
   },
   {
    "duration": 808,
    "start_time": "2022-04-03T06:26:53.338Z"
   },
   {
    "duration": 182,
    "start_time": "2022-04-03T06:26:54.148Z"
   },
   {
    "duration": 0,
    "start_time": "2022-04-03T06:26:54.332Z"
   },
   {
    "duration": 1924,
    "start_time": "2022-04-04T10:46:25.810Z"
   },
   {
    "duration": 47,
    "start_time": "2022-04-04T10:46:27.737Z"
   },
   {
    "duration": 132,
    "start_time": "2022-04-04T10:46:27.788Z"
   },
   {
    "duration": 5,
    "start_time": "2022-04-04T10:46:27.925Z"
   },
   {
    "duration": 18,
    "start_time": "2022-04-04T10:46:27.934Z"
   },
   {
    "duration": 62,
    "start_time": "2022-04-04T10:46:27.955Z"
   },
   {
    "duration": 12,
    "start_time": "2022-04-04T10:46:28.019Z"
   },
   {
    "duration": 49,
    "start_time": "2022-04-04T10:46:28.033Z"
   },
   {
    "duration": 14,
    "start_time": "2022-04-04T10:46:28.086Z"
   },
   {
    "duration": 20,
    "start_time": "2022-04-04T10:46:28.106Z"
   },
   {
    "duration": 11,
    "start_time": "2022-04-04T10:46:28.128Z"
   },
   {
    "duration": 45,
    "start_time": "2022-04-04T10:46:28.141Z"
   },
   {
    "duration": 40,
    "start_time": "2022-04-04T10:46:28.189Z"
   },
   {
    "duration": 5,
    "start_time": "2022-04-04T10:46:28.232Z"
   },
   {
    "duration": 49,
    "start_time": "2022-04-04T10:46:28.239Z"
   },
   {
    "duration": 714,
    "start_time": "2022-04-04T10:46:28.291Z"
   },
   {
    "duration": 29,
    "start_time": "2022-04-04T10:46:29.007Z"
   },
   {
    "duration": 688,
    "start_time": "2022-04-04T10:46:29.039Z"
   },
   {
    "duration": 75,
    "start_time": "2022-04-04T10:46:29.730Z"
   },
   {
    "duration": 1658,
    "start_time": "2022-04-04T10:46:29.807Z"
   },
   {
    "duration": 48,
    "start_time": "2022-04-04T10:46:31.467Z"
   },
   {
    "duration": 815,
    "start_time": "2022-04-04T10:46:31.523Z"
   },
   {
    "duration": 314,
    "start_time": "2022-04-04T10:46:32.340Z"
   },
   {
    "duration": 7,
    "start_time": "2022-04-04T10:46:32.657Z"
   },
   {
    "duration": 316,
    "start_time": "2022-04-04T10:46:32.666Z"
   },
   {
    "duration": 8,
    "start_time": "2022-04-04T10:46:32.986Z"
   },
   {
    "duration": 12,
    "start_time": "2022-04-04T10:46:32.996Z"
   },
   {
    "duration": 322,
    "start_time": "2022-04-04T10:46:33.013Z"
   },
   {
    "duration": 6,
    "start_time": "2022-04-04T10:46:33.337Z"
   },
   {
    "duration": 323,
    "start_time": "2022-04-04T10:46:33.346Z"
   },
   {
    "duration": 16,
    "start_time": "2022-04-04T10:46:33.671Z"
   },
   {
    "duration": 25,
    "start_time": "2022-04-04T10:46:33.690Z"
   },
   {
    "duration": 418,
    "start_time": "2022-04-04T10:46:33.718Z"
   },
   {
    "duration": 9,
    "start_time": "2022-04-04T10:46:34.139Z"
   },
   {
    "duration": 941,
    "start_time": "2022-04-04T10:46:34.151Z"
   },
   {
    "duration": 971,
    "start_time": "2022-04-04T10:46:35.095Z"
   },
   {
    "duration": 1034,
    "start_time": "2022-04-04T10:46:36.069Z"
   },
   {
    "duration": 175,
    "start_time": "2022-04-04T10:46:37.105Z"
   },
   {
    "duration": 0,
    "start_time": "2022-04-04T10:46:37.283Z"
   },
   {
    "duration": 35,
    "start_time": "2022-04-04T10:55:55.008Z"
   },
   {
    "duration": 40,
    "start_time": "2022-04-04T10:56:01.853Z"
   },
   {
    "duration": 508,
    "start_time": "2022-04-04T10:56:04.124Z"
   },
   {
    "duration": 36,
    "start_time": "2022-04-04T10:59:35.471Z"
   },
   {
    "duration": 612,
    "start_time": "2022-04-04T10:59:42.351Z"
   },
   {
    "duration": 35,
    "start_time": "2022-04-04T11:00:17.721Z"
   },
   {
    "duration": 525,
    "start_time": "2022-04-04T11:00:27.395Z"
   },
   {
    "duration": 36,
    "start_time": "2022-04-04T11:01:17.895Z"
   },
   {
    "duration": 6,
    "start_time": "2022-04-04T11:02:36.052Z"
   },
   {
    "duration": 635,
    "start_time": "2022-04-04T11:02:38.025Z"
   },
   {
    "duration": 668,
    "start_time": "2022-04-04T11:04:22.189Z"
   },
   {
    "duration": 801,
    "start_time": "2022-04-04T11:04:32.988Z"
   },
   {
    "duration": 21,
    "start_time": "2022-04-04T11:05:17.632Z"
   },
   {
    "duration": 8,
    "start_time": "2022-04-04T11:07:13.088Z"
   },
   {
    "duration": 15,
    "start_time": "2022-04-04T11:07:22.751Z"
   },
   {
    "duration": 14,
    "start_time": "2022-04-04T11:07:25.813Z"
   },
   {
    "duration": 37,
    "start_time": "2022-04-04T11:17:16.011Z"
   },
   {
    "duration": 499,
    "start_time": "2022-04-04T11:17:17.116Z"
   },
   {
    "duration": 7,
    "start_time": "2022-04-04T11:17:29.551Z"
   },
   {
    "duration": 701,
    "start_time": "2022-04-04T11:17:35.919Z"
   },
   {
    "duration": 677,
    "start_time": "2022-04-04T11:17:45.958Z"
   },
   {
    "duration": 172,
    "start_time": "2022-04-04T12:34:02.053Z"
   },
   {
    "duration": 179,
    "start_time": "2022-04-04T12:34:11.709Z"
   },
   {
    "duration": 5,
    "start_time": "2022-04-04T12:58:11.054Z"
   },
   {
    "duration": 84,
    "start_time": "2022-04-04T12:58:11.065Z"
   },
   {
    "duration": 150,
    "start_time": "2022-04-04T12:58:11.152Z"
   },
   {
    "duration": 6,
    "start_time": "2022-04-04T12:58:11.304Z"
   },
   {
    "duration": 27,
    "start_time": "2022-04-04T12:58:11.313Z"
   },
   {
    "duration": 27,
    "start_time": "2022-04-04T12:58:11.342Z"
   },
   {
    "duration": 23,
    "start_time": "2022-04-04T12:58:11.371Z"
   },
   {
    "duration": 65,
    "start_time": "2022-04-04T12:58:11.396Z"
   },
   {
    "duration": 9,
    "start_time": "2022-04-04T12:58:11.463Z"
   },
   {
    "duration": 26,
    "start_time": "2022-04-04T12:58:11.474Z"
   },
   {
    "duration": 34,
    "start_time": "2022-04-04T12:58:11.504Z"
   },
   {
    "duration": 7,
    "start_time": "2022-04-04T12:58:11.540Z"
   },
   {
    "duration": 27,
    "start_time": "2022-04-04T12:58:11.549Z"
   },
   {
    "duration": 8,
    "start_time": "2022-04-04T12:58:11.586Z"
   },
   {
    "duration": 54,
    "start_time": "2022-04-04T12:58:11.599Z"
   },
   {
    "duration": 799,
    "start_time": "2022-04-04T12:58:11.656Z"
   },
   {
    "duration": 51,
    "start_time": "2022-04-04T12:58:12.458Z"
   },
   {
    "duration": 880,
    "start_time": "2022-04-04T12:58:12.513Z"
   },
   {
    "duration": 71,
    "start_time": "2022-04-04T12:58:13.396Z"
   },
   {
    "duration": 2276,
    "start_time": "2022-04-04T12:58:13.470Z"
   },
   {
    "duration": 62,
    "start_time": "2022-04-04T12:58:15.749Z"
   },
   {
    "duration": 598,
    "start_time": "2022-04-04T12:58:15.816Z"
   },
   {
    "duration": 278,
    "start_time": "2022-04-04T12:58:16.422Z"
   },
   {
    "duration": 8,
    "start_time": "2022-04-04T12:58:16.702Z"
   },
   {
    "duration": 334,
    "start_time": "2022-04-04T12:58:16.713Z"
   },
   {
    "duration": 7,
    "start_time": "2022-04-04T12:58:17.050Z"
   },
   {
    "duration": 32,
    "start_time": "2022-04-04T12:58:17.060Z"
   },
   {
    "duration": 315,
    "start_time": "2022-04-04T12:58:17.095Z"
   },
   {
    "duration": 13,
    "start_time": "2022-04-04T12:58:17.417Z"
   },
   {
    "duration": 301,
    "start_time": "2022-04-04T12:58:17.433Z"
   },
   {
    "duration": 9,
    "start_time": "2022-04-04T12:58:17.737Z"
   },
   {
    "duration": 51,
    "start_time": "2022-04-04T12:58:17.748Z"
   },
   {
    "duration": 323,
    "start_time": "2022-04-04T12:58:17.802Z"
   },
   {
    "duration": 8,
    "start_time": "2022-04-04T12:58:18.128Z"
   },
   {
    "duration": 876,
    "start_time": "2022-04-04T12:58:18.139Z"
   },
   {
    "duration": 798,
    "start_time": "2022-04-04T12:58:19.018Z"
   },
   {
    "duration": 930,
    "start_time": "2022-04-04T12:58:19.821Z"
   },
   {
    "duration": 15,
    "start_time": "2022-04-04T12:58:20.753Z"
   },
   {
    "duration": 64,
    "start_time": "2022-04-04T12:58:20.770Z"
   },
   {
    "duration": 4,
    "start_time": "2022-04-04T13:22:31.259Z"
   },
   {
    "duration": 66,
    "start_time": "2022-04-04T13:22:31.267Z"
   },
   {
    "duration": 104,
    "start_time": "2022-04-04T13:22:31.335Z"
   },
   {
    "duration": 4,
    "start_time": "2022-04-04T13:22:31.442Z"
   },
   {
    "duration": 46,
    "start_time": "2022-04-04T13:22:31.450Z"
   },
   {
    "duration": 46,
    "start_time": "2022-04-04T13:22:31.499Z"
   },
   {
    "duration": 31,
    "start_time": "2022-04-04T13:22:31.547Z"
   },
   {
    "duration": 57,
    "start_time": "2022-04-04T13:22:31.581Z"
   },
   {
    "duration": 28,
    "start_time": "2022-04-04T13:22:31.641Z"
   },
   {
    "duration": 45,
    "start_time": "2022-04-04T13:22:31.671Z"
   },
   {
    "duration": 10,
    "start_time": "2022-04-04T13:22:31.720Z"
   },
   {
    "duration": 16,
    "start_time": "2022-04-04T13:22:31.732Z"
   },
   {
    "duration": 27,
    "start_time": "2022-04-04T13:22:31.750Z"
   },
   {
    "duration": 6,
    "start_time": "2022-04-04T13:22:31.780Z"
   },
   {
    "duration": 37,
    "start_time": "2022-04-04T13:22:31.788Z"
   },
   {
    "duration": 571,
    "start_time": "2022-04-04T13:22:31.827Z"
   },
   {
    "duration": 28,
    "start_time": "2022-04-04T13:22:32.400Z"
   },
   {
    "duration": 514,
    "start_time": "2022-04-04T13:22:32.430Z"
   },
   {
    "duration": 64,
    "start_time": "2022-04-04T13:22:32.946Z"
   },
   {
    "duration": 1648,
    "start_time": "2022-04-04T13:22:33.012Z"
   },
   {
    "duration": 49,
    "start_time": "2022-04-04T13:22:34.663Z"
   },
   {
    "duration": 507,
    "start_time": "2022-04-04T13:22:34.714Z"
   },
   {
    "duration": 274,
    "start_time": "2022-04-04T13:22:35.223Z"
   },
   {
    "duration": 7,
    "start_time": "2022-04-04T13:22:35.500Z"
   },
   {
    "duration": 292,
    "start_time": "2022-04-04T13:22:35.510Z"
   },
   {
    "duration": 7,
    "start_time": "2022-04-04T13:22:35.804Z"
   },
   {
    "duration": 10,
    "start_time": "2022-04-04T13:22:35.814Z"
   },
   {
    "duration": 280,
    "start_time": "2022-04-04T13:22:35.826Z"
   },
   {
    "duration": 7,
    "start_time": "2022-04-04T13:22:36.113Z"
   },
   {
    "duration": 279,
    "start_time": "2022-04-04T13:22:36.123Z"
   },
   {
    "duration": 6,
    "start_time": "2022-04-04T13:22:36.404Z"
   },
   {
    "duration": 20,
    "start_time": "2022-04-04T13:22:36.412Z"
   },
   {
    "duration": 283,
    "start_time": "2022-04-04T13:22:36.434Z"
   },
   {
    "duration": 6,
    "start_time": "2022-04-04T13:22:36.719Z"
   },
   {
    "duration": 666,
    "start_time": "2022-04-04T13:22:36.728Z"
   },
   {
    "duration": 796,
    "start_time": "2022-04-04T13:22:37.397Z"
   },
   {
    "duration": 698,
    "start_time": "2022-04-04T13:22:38.196Z"
   },
   {
    "duration": 14,
    "start_time": "2022-04-04T13:22:38.896Z"
   },
   {
    "duration": 14,
    "start_time": "2022-04-04T13:22:38.913Z"
   },
   {
    "duration": 296,
    "start_time": "2022-04-04T13:25:14.936Z"
   },
   {
    "duration": 145,
    "start_time": "2022-04-04T13:25:49.205Z"
   },
   {
    "duration": 195,
    "start_time": "2022-04-04T13:25:53.014Z"
   },
   {
    "duration": 284,
    "start_time": "2022-04-04T13:29:10.480Z"
   },
   {
    "duration": 35,
    "start_time": "2022-04-04T13:35:33.385Z"
   },
   {
    "duration": 508,
    "start_time": "2022-04-04T13:35:35.262Z"
   },
   {
    "duration": 586,
    "start_time": "2022-04-04T13:35:57.806Z"
   },
   {
    "duration": 929,
    "start_time": "2022-04-04T13:39:46.660Z"
   },
   {
    "duration": 35,
    "start_time": "2022-04-04T13:57:10.303Z"
   },
   {
    "duration": 642,
    "start_time": "2022-04-04T13:57:11.233Z"
   },
   {
    "duration": 243,
    "start_time": "2022-04-04T14:09:04.536Z"
   },
   {
    "duration": 7,
    "start_time": "2022-04-04T14:09:16.496Z"
   },
   {
    "duration": 273,
    "start_time": "2022-04-04T14:09:18.060Z"
   },
   {
    "duration": 12,
    "start_time": "2022-04-04T14:09:19.887Z"
   },
   {
    "duration": 7,
    "start_time": "2022-04-04T14:21:11.382Z"
   },
   {
    "duration": 727,
    "start_time": "2022-04-04T14:21:18.078Z"
   },
   {
    "duration": 621,
    "start_time": "2022-04-04T14:30:07.761Z"
   },
   {
    "duration": 654,
    "start_time": "2022-04-04T14:30:20.571Z"
   },
   {
    "duration": 72,
    "start_time": "2022-04-05T05:45:24.345Z"
   },
   {
    "duration": 1755,
    "start_time": "2022-04-05T05:45:33.839Z"
   },
   {
    "duration": 46,
    "start_time": "2022-04-05T05:45:35.597Z"
   },
   {
    "duration": 133,
    "start_time": "2022-04-05T05:45:35.645Z"
   },
   {
    "duration": 4,
    "start_time": "2022-04-05T05:45:35.781Z"
   },
   {
    "duration": 11,
    "start_time": "2022-04-05T05:45:35.787Z"
   },
   {
    "duration": 24,
    "start_time": "2022-04-05T05:45:35.800Z"
   },
   {
    "duration": 11,
    "start_time": "2022-04-05T05:45:35.825Z"
   },
   {
    "duration": 68,
    "start_time": "2022-04-05T05:45:35.838Z"
   },
   {
    "duration": 14,
    "start_time": "2022-04-05T05:45:35.908Z"
   },
   {
    "duration": 31,
    "start_time": "2022-04-05T05:45:35.926Z"
   },
   {
    "duration": 19,
    "start_time": "2022-04-05T05:45:35.959Z"
   },
   {
    "duration": 12,
    "start_time": "2022-04-05T05:45:35.981Z"
   },
   {
    "duration": 31,
    "start_time": "2022-04-05T05:45:35.995Z"
   },
   {
    "duration": 5,
    "start_time": "2022-04-05T05:45:36.029Z"
   },
   {
    "duration": 45,
    "start_time": "2022-04-05T05:45:36.036Z"
   },
   {
    "duration": 583,
    "start_time": "2022-04-05T05:45:36.084Z"
   },
   {
    "duration": 27,
    "start_time": "2022-04-05T05:45:36.673Z"
   },
   {
    "duration": 512,
    "start_time": "2022-04-05T05:45:36.702Z"
   },
   {
    "duration": 60,
    "start_time": "2022-04-05T05:45:37.216Z"
   },
   {
    "duration": 1518,
    "start_time": "2022-04-05T05:45:37.279Z"
   },
   {
    "duration": 36,
    "start_time": "2022-04-05T05:45:38.799Z"
   },
   {
    "duration": 600,
    "start_time": "2022-04-05T05:45:38.837Z"
   },
   {
    "duration": 260,
    "start_time": "2022-04-05T05:45:39.440Z"
   },
   {
    "duration": 7,
    "start_time": "2022-04-05T05:45:39.702Z"
   },
   {
    "duration": 286,
    "start_time": "2022-04-05T05:45:39.711Z"
   },
   {
    "duration": 7,
    "start_time": "2022-04-05T05:45:39.999Z"
   },
   {
    "duration": 15,
    "start_time": "2022-04-05T05:45:40.008Z"
   },
   {
    "duration": 270,
    "start_time": "2022-04-05T05:45:40.028Z"
   },
   {
    "duration": 6,
    "start_time": "2022-04-05T05:45:40.300Z"
   },
   {
    "duration": 268,
    "start_time": "2022-04-05T05:45:40.308Z"
   },
   {
    "duration": 7,
    "start_time": "2022-04-05T05:45:40.578Z"
   },
   {
    "duration": 16,
    "start_time": "2022-04-05T05:45:40.587Z"
   },
   {
    "duration": 303,
    "start_time": "2022-04-05T05:45:40.605Z"
   },
   {
    "duration": 7,
    "start_time": "2022-04-05T05:45:40.910Z"
   },
   {
    "duration": 640,
    "start_time": "2022-04-05T05:45:40.919Z"
   },
   {
    "duration": 663,
    "start_time": "2022-04-05T05:45:41.561Z"
   },
   {
    "duration": 788,
    "start_time": "2022-04-05T05:45:42.226Z"
   },
   {
    "duration": 15,
    "start_time": "2022-04-05T05:45:43.016Z"
   },
   {
    "duration": 16,
    "start_time": "2022-04-05T05:45:50.946Z"
   },
   {
    "duration": 16,
    "start_time": "2022-04-05T05:46:40.880Z"
   },
   {
    "duration": 105,
    "start_time": "2022-04-05T06:01:10.614Z"
   },
   {
    "duration": 17,
    "start_time": "2022-04-05T06:02:54.453Z"
   },
   {
    "duration": 15,
    "start_time": "2022-04-05T06:04:19.826Z"
   },
   {
    "duration": 1419,
    "start_time": "2022-04-05T06:05:12.194Z"
   },
   {
    "duration": 46,
    "start_time": "2022-04-05T06:05:13.615Z"
   },
   {
    "duration": 128,
    "start_time": "2022-04-05T06:05:13.663Z"
   },
   {
    "duration": 4,
    "start_time": "2022-04-05T06:05:13.794Z"
   },
   {
    "duration": 13,
    "start_time": "2022-04-05T06:05:13.800Z"
   },
   {
    "duration": 25,
    "start_time": "2022-04-05T06:05:13.815Z"
   },
   {
    "duration": 34,
    "start_time": "2022-04-05T06:05:13.842Z"
   },
   {
    "duration": 33,
    "start_time": "2022-04-05T06:05:13.879Z"
   },
   {
    "duration": 9,
    "start_time": "2022-04-05T06:05:13.914Z"
   },
   {
    "duration": 48,
    "start_time": "2022-04-05T06:05:13.926Z"
   },
   {
    "duration": 10,
    "start_time": "2022-04-05T06:05:13.976Z"
   },
   {
    "duration": 18,
    "start_time": "2022-04-05T06:05:13.988Z"
   },
   {
    "duration": 29,
    "start_time": "2022-04-05T06:05:14.008Z"
   },
   {
    "duration": 5,
    "start_time": "2022-04-05T06:05:14.039Z"
   },
   {
    "duration": 52,
    "start_time": "2022-04-05T06:05:14.046Z"
   },
   {
    "duration": 656,
    "start_time": "2022-04-05T06:05:14.100Z"
   },
   {
    "duration": 35,
    "start_time": "2022-04-05T06:05:14.759Z"
   },
   {
    "duration": 522,
    "start_time": "2022-04-05T06:05:14.797Z"
   },
   {
    "duration": 61,
    "start_time": "2022-04-05T06:05:15.322Z"
   },
   {
    "duration": 1536,
    "start_time": "2022-04-05T06:05:15.385Z"
   },
   {
    "duration": 52,
    "start_time": "2022-04-05T06:05:16.923Z"
   },
   {
    "duration": 583,
    "start_time": "2022-04-05T06:05:16.977Z"
   },
   {
    "duration": 257,
    "start_time": "2022-04-05T06:05:17.563Z"
   },
   {
    "duration": 6,
    "start_time": "2022-04-05T06:05:17.823Z"
   },
   {
    "duration": 285,
    "start_time": "2022-04-05T06:05:17.831Z"
   },
   {
    "duration": 7,
    "start_time": "2022-04-05T06:05:18.118Z"
   },
   {
    "duration": 8,
    "start_time": "2022-04-05T06:05:18.126Z"
   },
   {
    "duration": 279,
    "start_time": "2022-04-05T06:05:18.139Z"
   },
   {
    "duration": 6,
    "start_time": "2022-04-05T06:05:18.420Z"
   },
   {
    "duration": 268,
    "start_time": "2022-04-05T06:05:18.429Z"
   },
   {
    "duration": 6,
    "start_time": "2022-04-05T06:05:18.699Z"
   },
   {
    "duration": 26,
    "start_time": "2022-04-05T06:05:18.707Z"
   },
   {
    "duration": 293,
    "start_time": "2022-04-05T06:05:18.735Z"
   },
   {
    "duration": 7,
    "start_time": "2022-04-05T06:05:19.030Z"
   },
   {
    "duration": 664,
    "start_time": "2022-04-05T06:05:19.039Z"
   },
   {
    "duration": 652,
    "start_time": "2022-04-05T06:05:19.706Z"
   },
   {
    "duration": 799,
    "start_time": "2022-04-05T06:05:20.361Z"
   },
   {
    "duration": 25,
    "start_time": "2022-04-05T06:05:21.162Z"
   },
   {
    "duration": 34,
    "start_time": "2022-04-05T06:05:21.189Z"
   },
   {
    "duration": 1265,
    "start_time": "2022-05-07T08:50:14.491Z"
   },
   {
    "duration": 45,
    "start_time": "2022-05-07T08:50:15.758Z"
   },
   {
    "duration": 79,
    "start_time": "2022-05-07T08:50:15.805Z"
   },
   {
    "duration": 4,
    "start_time": "2022-05-07T08:50:15.886Z"
   },
   {
    "duration": 5,
    "start_time": "2022-05-07T08:50:15.892Z"
   },
   {
    "duration": 39,
    "start_time": "2022-05-07T08:50:15.899Z"
   },
   {
    "duration": 8,
    "start_time": "2022-05-07T08:50:15.940Z"
   },
   {
    "duration": 23,
    "start_time": "2022-05-07T08:50:15.950Z"
   },
   {
    "duration": 6,
    "start_time": "2022-05-07T08:50:15.975Z"
   },
   {
    "duration": 43,
    "start_time": "2022-05-07T08:50:15.984Z"
   },
   {
    "duration": 8,
    "start_time": "2022-05-07T08:50:16.029Z"
   },
   {
    "duration": 6,
    "start_time": "2022-05-07T08:50:16.039Z"
   },
   {
    "duration": 20,
    "start_time": "2022-05-07T08:50:16.047Z"
   },
   {
    "duration": 4,
    "start_time": "2022-05-07T08:50:16.069Z"
   },
   {
    "duration": 50,
    "start_time": "2022-05-07T08:50:16.075Z"
   },
   {
    "duration": 365,
    "start_time": "2022-05-07T08:50:16.127Z"
   },
   {
    "duration": 30,
    "start_time": "2022-05-07T08:50:16.494Z"
   },
   {
    "duration": 336,
    "start_time": "2022-05-07T08:50:16.525Z"
   },
   {
    "duration": 38,
    "start_time": "2022-05-07T08:50:16.863Z"
   },
   {
    "duration": 1022,
    "start_time": "2022-05-07T08:50:16.903Z"
   },
   {
    "duration": 25,
    "start_time": "2022-05-07T08:50:17.927Z"
   },
   {
    "duration": 413,
    "start_time": "2022-05-07T08:50:17.955Z"
   },
   {
    "duration": 170,
    "start_time": "2022-05-07T08:50:18.369Z"
   },
   {
    "duration": 6,
    "start_time": "2022-05-07T08:50:18.541Z"
   },
   {
    "duration": 188,
    "start_time": "2022-05-07T08:50:18.549Z"
   },
   {
    "duration": 5,
    "start_time": "2022-05-07T08:50:18.739Z"
   },
   {
    "duration": 6,
    "start_time": "2022-05-07T08:50:18.746Z"
   },
   {
    "duration": 181,
    "start_time": "2022-05-07T08:50:18.755Z"
   },
   {
    "duration": 6,
    "start_time": "2022-05-07T08:50:18.938Z"
   },
   {
    "duration": 178,
    "start_time": "2022-05-07T08:50:18.945Z"
   },
   {
    "duration": 5,
    "start_time": "2022-05-07T08:50:19.124Z"
   },
   {
    "duration": 12,
    "start_time": "2022-05-07T08:50:19.131Z"
   },
   {
    "duration": 199,
    "start_time": "2022-05-07T08:50:19.145Z"
   },
   {
    "duration": 5,
    "start_time": "2022-05-07T08:50:19.347Z"
   },
   {
    "duration": 414,
    "start_time": "2022-05-07T08:50:19.354Z"
   },
   {
    "duration": 427,
    "start_time": "2022-05-07T08:50:19.771Z"
   },
   {
    "duration": 582,
    "start_time": "2022-05-07T08:50:20.200Z"
   },
   {
    "duration": 15,
    "start_time": "2022-05-07T08:50:20.784Z"
   },
   {
    "duration": 35,
    "start_time": "2022-05-07T08:50:20.801Z"
   },
   {
    "duration": 17,
    "start_time": "2022-05-07T08:50:28.791Z"
   },
   {
    "duration": 329,
    "start_time": "2022-05-07T08:50:43.701Z"
   },
   {
    "duration": 16,
    "start_time": "2022-05-07T08:50:45.632Z"
   },
   {
    "duration": 311,
    "start_time": "2022-05-07T08:50:45.952Z"
   },
   {
    "duration": 36,
    "start_time": "2022-05-07T08:50:47.032Z"
   },
   {
    "duration": 338,
    "start_time": "2022-05-07T08:52:35.771Z"
   },
   {
    "duration": 18,
    "start_time": "2022-05-07T08:52:37.255Z"
   },
   {
    "duration": 305,
    "start_time": "2022-05-07T08:52:37.905Z"
   },
   {
    "duration": 36,
    "start_time": "2022-05-07T08:52:39.288Z"
   },
   {
    "duration": 1101,
    "start_time": "2022-05-07T08:52:40.782Z"
   },
   {
    "duration": 23,
    "start_time": "2022-05-07T08:52:43.976Z"
   },
   {
    "duration": 271,
    "start_time": "2022-05-07T08:52:44.451Z"
   },
   {
    "duration": 153,
    "start_time": "2022-05-07T08:52:47.856Z"
   },
   {
    "duration": 5,
    "start_time": "2022-05-07T08:52:48.285Z"
   },
   {
    "duration": 168,
    "start_time": "2022-05-07T08:52:48.593Z"
   },
   {
    "duration": 5,
    "start_time": "2022-05-07T08:52:48.833Z"
   },
   {
    "duration": 6,
    "start_time": "2022-05-07T08:52:50.144Z"
   },
   {
    "duration": 156,
    "start_time": "2022-05-07T08:52:50.431Z"
   },
   {
    "duration": 5,
    "start_time": "2022-05-07T08:52:50.859Z"
   },
   {
    "duration": 150,
    "start_time": "2022-05-07T08:52:51.192Z"
   },
   {
    "duration": 5,
    "start_time": "2022-05-07T08:52:51.469Z"
   },
   {
    "duration": 11,
    "start_time": "2022-05-07T08:52:53.001Z"
   },
   {
    "duration": 166,
    "start_time": "2022-05-07T08:52:53.258Z"
   },
   {
    "duration": 1147,
    "start_time": "2022-06-21T06:17:09.694Z"
   },
   {
    "duration": 93,
    "start_time": "2022-06-21T06:17:10.844Z"
   },
   {
    "duration": 88,
    "start_time": "2022-06-21T06:17:10.939Z"
   },
   {
    "duration": 3,
    "start_time": "2022-06-21T06:17:11.030Z"
   },
   {
    "duration": 16,
    "start_time": "2022-06-21T06:17:11.035Z"
   },
   {
    "duration": 23,
    "start_time": "2022-06-21T06:17:11.052Z"
   },
   {
    "duration": 18,
    "start_time": "2022-06-21T06:17:11.077Z"
   },
   {
    "duration": 41,
    "start_time": "2022-06-21T06:17:11.097Z"
   },
   {
    "duration": 7,
    "start_time": "2022-06-21T06:17:11.141Z"
   },
   {
    "duration": 59,
    "start_time": "2022-06-21T06:17:11.152Z"
   },
   {
    "duration": 24,
    "start_time": "2022-06-21T06:17:11.213Z"
   },
   {
    "duration": 15,
    "start_time": "2022-06-21T06:17:11.239Z"
   },
   {
    "duration": 51,
    "start_time": "2022-06-21T06:17:11.256Z"
   },
   {
    "duration": 16,
    "start_time": "2022-06-21T06:17:11.309Z"
   },
   {
    "duration": 36,
    "start_time": "2022-06-21T06:17:11.327Z"
   },
   {
    "duration": 389,
    "start_time": "2022-06-21T06:17:11.364Z"
   },
   {
    "duration": 28,
    "start_time": "2022-06-21T06:17:11.755Z"
   },
   {
    "duration": 384,
    "start_time": "2022-06-21T06:17:11.786Z"
   },
   {
    "duration": 54,
    "start_time": "2022-06-21T06:17:12.172Z"
   },
   {
    "duration": 76,
    "start_time": "2022-06-21T06:17:12.228Z"
   },
   {
    "duration": 51,
    "start_time": "2022-06-21T06:17:16.119Z"
   },
   {
    "duration": 1058,
    "start_time": "2022-06-21T06:17:25.458Z"
   },
   {
    "duration": 1260,
    "start_time": "2022-06-21T06:17:38.277Z"
   },
   {
    "duration": 1089,
    "start_time": "2022-06-21T06:17:46.723Z"
   },
   {
    "duration": 3,
    "start_time": "2022-06-21T06:54:09.786Z"
   },
   {
    "duration": 72,
    "start_time": "2022-06-21T06:54:09.791Z"
   },
   {
    "duration": 102,
    "start_time": "2022-06-21T06:54:09.865Z"
   },
   {
    "duration": 5,
    "start_time": "2022-06-21T06:54:09.970Z"
   },
   {
    "duration": 13,
    "start_time": "2022-06-21T06:54:09.977Z"
   },
   {
    "duration": 32,
    "start_time": "2022-06-21T06:54:09.993Z"
   },
   {
    "duration": 42,
    "start_time": "2022-06-21T06:54:10.027Z"
   },
   {
    "duration": 29,
    "start_time": "2022-06-21T06:54:10.071Z"
   },
   {
    "duration": 7,
    "start_time": "2022-06-21T06:54:10.101Z"
   },
   {
    "duration": 24,
    "start_time": "2022-06-21T06:54:10.110Z"
   },
   {
    "duration": 30,
    "start_time": "2022-06-21T06:54:10.136Z"
   },
   {
    "duration": 9,
    "start_time": "2022-06-21T06:54:10.168Z"
   },
   {
    "duration": 21,
    "start_time": "2022-06-21T06:54:10.179Z"
   },
   {
    "duration": 5,
    "start_time": "2022-06-21T06:54:10.203Z"
   },
   {
    "duration": 62,
    "start_time": "2022-06-21T06:54:10.210Z"
   },
   {
    "duration": 409,
    "start_time": "2022-06-21T06:54:10.274Z"
   },
   {
    "duration": 19,
    "start_time": "2022-06-21T06:54:10.685Z"
   },
   {
    "duration": 394,
    "start_time": "2022-06-21T06:54:10.707Z"
   },
   {
    "duration": 75,
    "start_time": "2022-06-21T06:54:11.103Z"
   },
   {
    "duration": 1260,
    "start_time": "2022-06-21T06:54:13.752Z"
   }
  ],
  "celltoolbar": "Отсутствует",
  "kernelspec": {
   "display_name": "Python 3 (ipykernel)",
   "language": "python",
   "name": "python3"
  },
  "language_info": {
   "codemirror_mode": {
    "name": "ipython",
    "version": 3
   },
   "file_extension": ".py",
   "mimetype": "text/x-python",
   "name": "python",
   "nbconvert_exporter": "python",
   "pygments_lexer": "ipython3",
   "version": "3.9.13"
  },
  "toc": {
   "base_numbering": 1,
   "nav_menu": {
    "height": "305px",
    "width": "434px"
   },
   "number_sections": true,
   "sideBar": true,
   "skip_h1_title": true,
   "title_cell": "Table of Contents",
   "title_sidebar": "Contents",
   "toc_cell": false,
   "toc_position": {},
   "toc_section_display": true,
   "toc_window_display": false
  }
 },
 "nbformat": 4,
 "nbformat_minor": 5
}
