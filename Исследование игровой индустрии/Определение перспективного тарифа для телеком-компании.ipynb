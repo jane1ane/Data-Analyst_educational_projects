{
 "cells": [
  {
   "cell_type": "markdown",
   "metadata": {},
   "source": [
    "# Исследование тарифных планов\n",
    "\n",
    "##  Задача исследования \n",
    "\n",
    "Клиентам предлагают два тарифных плана: «Смарт» и «Ультра». Чтобы скорректировать рекламный бюджет, коммерческий департамент хочет понять, какой тариф приносит больше денег.\n",
    "Предстоит сделать предварительный анализ тарифов на небольшой выборке клиентов. В нашем распоряжении данные 500 пользователей «Мегалайна»: кто они, откуда, каким тарифом пользуются, сколько звонков и сообщений каждый отправил за 2018 год. Нужно проанализировать поведение клиентов и сделать вывод — какой тариф лучше.\n",
    "\n",
    "## Ознакомление с данными\n",
    "\n",
    "У нас есть 5 таблиц содержащих информацию о клиентах и совершенных ими действиях (звонки, сообщения, серфинг интернета), есть таблица с условям тарифов. Последовательно откроем эти таблицы и изучим общую информацию."
   ]
  },
  {
   "cell_type": "code",
   "execution_count": 1,
   "metadata": {},
   "outputs": [],
   "source": [
    "# импорт библиотек\n",
    "import pandas as pd\n",
    "import datetime\n",
    "import math\n",
    "import scipy as sp\n",
    "from scipy import stats as st\n",
    "import numpy as np\n",
    "import seaborn as sns\n",
    "import matplotlib\n",
    "import matplotlib.pyplot as plt"
   ]
  },
  {
   "cell_type": "code",
   "execution_count": 2,
   "metadata": {},
   "outputs": [],
   "source": [
    "# Функция для предварительного ознакомления с данными. \n",
    "\n",
    "def hello_data(data):\n",
    "    \n",
    "    ''' Выводит первые строки, \n",
    "                info, \n",
    "                уникальные значения\n",
    "                и пропуски, если они есть '''\n",
    "    \n",
    "    columns = data.columns \n",
    "    display(data.head(10))\n",
    "    display(data.info())\n",
    "    lost_values = data.duplicated().sum()\n",
    "   \n",
    "    print(\n",
    "        f'Явных дубликатов в данных: {lost_values}. Это {lost_values / len(data) * 100:.2f}% от всех значений.'\n",
    "         )\n",
    "    print()\n",
    "        \n",
    "    for column in columns: # для каждой колонки\n",
    "        try:\n",
    "            unique_value = (len(data[column].unique())) # считаем уникальные значения \n",
    "        except AssertionError:\n",
    "            pass\n",
    "        \n",
    "        if data[column].isna().sum() != 0: # если в колонке есть пропуски\n",
    "            print( f'Уникальных значений в колонке {column} - {unique_value}') #выводим количество уникальных значений\n",
    "            persent = (data[column].isna().sum() / len(data[column]) * 100) # считаем сколько это в процентах и округляем методом \"round\"\n",
    "            print('Пропущенных строк в колонке {} - {:.1f} %'.format(column, persent))\n",
    "            print(\"_\"*20)\n",
    "        else: print( f'Уникальных значений в колонке {column} - {unique_value}') # если пропусков не нашли, то выводим количество уникальных значений  "
   ]
  },
  {
   "cell_type": "markdown",
   "metadata": {},
   "source": [
    "### Клиенты"
   ]
  },
  {
   "cell_type": "code",
   "execution_count": 3,
   "metadata": {},
   "outputs": [
    {
     "data": {
      "text/html": [
       "<div>\n",
       "<style scoped>\n",
       "    .dataframe tbody tr th:only-of-type {\n",
       "        vertical-align: middle;\n",
       "    }\n",
       "\n",
       "    .dataframe tbody tr th {\n",
       "        vertical-align: top;\n",
       "    }\n",
       "\n",
       "    .dataframe thead th {\n",
       "        text-align: right;\n",
       "    }\n",
       "</style>\n",
       "<table border=\"1\" class=\"dataframe\">\n",
       "  <thead>\n",
       "    <tr style=\"text-align: right;\">\n",
       "      <th></th>\n",
       "      <th>user_id</th>\n",
       "      <th>age</th>\n",
       "      <th>churn_date</th>\n",
       "      <th>city</th>\n",
       "      <th>first_name</th>\n",
       "      <th>last_name</th>\n",
       "      <th>reg_date</th>\n",
       "      <th>tariff</th>\n",
       "    </tr>\n",
       "  </thead>\n",
       "  <tbody>\n",
       "    <tr>\n",
       "      <th>0</th>\n",
       "      <td>1000</td>\n",
       "      <td>52</td>\n",
       "      <td>NaN</td>\n",
       "      <td>Краснодар</td>\n",
       "      <td>Рафаил</td>\n",
       "      <td>Верещагин</td>\n",
       "      <td>2018-05-25</td>\n",
       "      <td>ultra</td>\n",
       "    </tr>\n",
       "    <tr>\n",
       "      <th>1</th>\n",
       "      <td>1001</td>\n",
       "      <td>41</td>\n",
       "      <td>NaN</td>\n",
       "      <td>Москва</td>\n",
       "      <td>Иван</td>\n",
       "      <td>Ежов</td>\n",
       "      <td>2018-11-01</td>\n",
       "      <td>smart</td>\n",
       "    </tr>\n",
       "    <tr>\n",
       "      <th>2</th>\n",
       "      <td>1002</td>\n",
       "      <td>59</td>\n",
       "      <td>NaN</td>\n",
       "      <td>Стерлитамак</td>\n",
       "      <td>Евгений</td>\n",
       "      <td>Абрамович</td>\n",
       "      <td>2018-06-17</td>\n",
       "      <td>smart</td>\n",
       "    </tr>\n",
       "    <tr>\n",
       "      <th>3</th>\n",
       "      <td>1003</td>\n",
       "      <td>23</td>\n",
       "      <td>NaN</td>\n",
       "      <td>Москва</td>\n",
       "      <td>Белла</td>\n",
       "      <td>Белякова</td>\n",
       "      <td>2018-08-17</td>\n",
       "      <td>ultra</td>\n",
       "    </tr>\n",
       "    <tr>\n",
       "      <th>4</th>\n",
       "      <td>1004</td>\n",
       "      <td>68</td>\n",
       "      <td>NaN</td>\n",
       "      <td>Новокузнецк</td>\n",
       "      <td>Татьяна</td>\n",
       "      <td>Авдеенко</td>\n",
       "      <td>2018-05-14</td>\n",
       "      <td>ultra</td>\n",
       "    </tr>\n",
       "    <tr>\n",
       "      <th>5</th>\n",
       "      <td>1005</td>\n",
       "      <td>67</td>\n",
       "      <td>NaN</td>\n",
       "      <td>Набережные Челны</td>\n",
       "      <td>Афанасий</td>\n",
       "      <td>Горлов</td>\n",
       "      <td>2018-01-25</td>\n",
       "      <td>smart</td>\n",
       "    </tr>\n",
       "    <tr>\n",
       "      <th>6</th>\n",
       "      <td>1006</td>\n",
       "      <td>21</td>\n",
       "      <td>NaN</td>\n",
       "      <td>Ульяновск</td>\n",
       "      <td>Леонид</td>\n",
       "      <td>Ермолаев</td>\n",
       "      <td>2018-02-26</td>\n",
       "      <td>smart</td>\n",
       "    </tr>\n",
       "    <tr>\n",
       "      <th>7</th>\n",
       "      <td>1007</td>\n",
       "      <td>65</td>\n",
       "      <td>NaN</td>\n",
       "      <td>Москва</td>\n",
       "      <td>Юна</td>\n",
       "      <td>Березина</td>\n",
       "      <td>2018-04-19</td>\n",
       "      <td>smart</td>\n",
       "    </tr>\n",
       "    <tr>\n",
       "      <th>8</th>\n",
       "      <td>1008</td>\n",
       "      <td>63</td>\n",
       "      <td>NaN</td>\n",
       "      <td>Челябинск</td>\n",
       "      <td>Рустэм</td>\n",
       "      <td>Пономарёв</td>\n",
       "      <td>2018-12-19</td>\n",
       "      <td>smart</td>\n",
       "    </tr>\n",
       "    <tr>\n",
       "      <th>9</th>\n",
       "      <td>1009</td>\n",
       "      <td>24</td>\n",
       "      <td>NaN</td>\n",
       "      <td>Пермь</td>\n",
       "      <td>Василиса</td>\n",
       "      <td>Блинова</td>\n",
       "      <td>2018-03-22</td>\n",
       "      <td>smart</td>\n",
       "    </tr>\n",
       "  </tbody>\n",
       "</table>\n",
       "</div>"
      ],
      "text/plain": [
       "   user_id  age churn_date              city first_name  last_name  \\\n",
       "0     1000   52        NaN         Краснодар     Рафаил  Верещагин   \n",
       "1     1001   41        NaN            Москва       Иван       Ежов   \n",
       "2     1002   59        NaN       Стерлитамак    Евгений  Абрамович   \n",
       "3     1003   23        NaN            Москва      Белла   Белякова   \n",
       "4     1004   68        NaN       Новокузнецк    Татьяна   Авдеенко   \n",
       "5     1005   67        NaN  Набережные Челны   Афанасий     Горлов   \n",
       "6     1006   21        NaN         Ульяновск     Леонид   Ермолаев   \n",
       "7     1007   65        NaN            Москва        Юна   Березина   \n",
       "8     1008   63        NaN         Челябинск     Рустэм  Пономарёв   \n",
       "9     1009   24        NaN             Пермь   Василиса    Блинова   \n",
       "\n",
       "     reg_date tariff  \n",
       "0  2018-05-25  ultra  \n",
       "1  2018-11-01  smart  \n",
       "2  2018-06-17  smart  \n",
       "3  2018-08-17  ultra  \n",
       "4  2018-05-14  ultra  \n",
       "5  2018-01-25  smart  \n",
       "6  2018-02-26  smart  \n",
       "7  2018-04-19  smart  \n",
       "8  2018-12-19  smart  \n",
       "9  2018-03-22  smart  "
      ]
     },
     "metadata": {},
     "output_type": "display_data"
    },
    {
     "name": "stdout",
     "output_type": "stream",
     "text": [
      "<class 'pandas.core.frame.DataFrame'>\n",
      "RangeIndex: 500 entries, 0 to 499\n",
      "Data columns (total 8 columns):\n",
      " #   Column      Non-Null Count  Dtype \n",
      "---  ------      --------------  ----- \n",
      " 0   user_id     500 non-null    int64 \n",
      " 1   age         500 non-null    int64 \n",
      " 2   churn_date  38 non-null     object\n",
      " 3   city        500 non-null    object\n",
      " 4   first_name  500 non-null    object\n",
      " 5   last_name   500 non-null    object\n",
      " 6   reg_date    500 non-null    object\n",
      " 7   tariff      500 non-null    object\n",
      "dtypes: int64(2), object(6)\n",
      "memory usage: 31.4+ KB\n"
     ]
    },
    {
     "data": {
      "text/plain": [
       "None"
      ]
     },
     "metadata": {},
     "output_type": "display_data"
    },
    {
     "name": "stdout",
     "output_type": "stream",
     "text": [
      "Явных дубликатов в данных: 0. Это 0.00% от всех значений.\n",
      "\n",
      "Уникальных значений в колонке user_id - 500\n",
      "Уникальных значений в колонке age - 58\n",
      "Уникальных значений в колонке churn_date - 34\n",
      "Пропущенных строк в колонке churn_date - 92.4 %\n",
      "____________________\n",
      "Уникальных значений в колонке city - 76\n",
      "Уникальных значений в колонке first_name - 246\n",
      "Уникальных значений в колонке last_name - 419\n",
      "Уникальных значений в колонке reg_date - 270\n",
      "Уникальных значений в колонке tariff - 2\n"
     ]
    }
   ],
   "source": [
    "users = pd.read_csv(*)\n",
    " \n",
    "hello_data(users)"
   ]
  },
  {
   "cell_type": "markdown",
   "metadata": {},
   "source": [
    "Таблица users (информация о пользователях) содержит следующие колонки:\n",
    "\n",
    "- user_id — уникальный идентификатор пользователя\n",
    "- first_name — имя пользователя\n",
    "- last_name — фамилия пользователя\n",
    "- age — возраст пользователя (годы)\n",
    "- reg_date — дата подключения тарифа (день, месяц, год)\n",
    "- churn_date — дата прекращения пользования тарифом \n",
    "- city — город проживания пользователя\n",
    "- tarif — название тарифного плана\n",
    "\n",
    "Видим несоответствие типа данных содержимому в колонках 'churn_date' и 'reg_date'. Сейчас это object при поготовке данных заменим его на datetime.\n",
    "Пропуенные значения есть только в колонке 'churn_date', по условию дано, что если значение пропущено, то тариф ещё действовал на момент выгрузки данных. Значит из 500 клиентов тарифом прекратили пользоваься 38 человек.\n",
    "\n",
    "### Звонки"
   ]
  },
  {
   "cell_type": "code",
   "execution_count": 4,
   "metadata": {},
   "outputs": [
    {
     "data": {
      "text/html": [
       "<div>\n",
       "<style scoped>\n",
       "    .dataframe tbody tr th:only-of-type {\n",
       "        vertical-align: middle;\n",
       "    }\n",
       "\n",
       "    .dataframe tbody tr th {\n",
       "        vertical-align: top;\n",
       "    }\n",
       "\n",
       "    .dataframe thead th {\n",
       "        text-align: right;\n",
       "    }\n",
       "</style>\n",
       "<table border=\"1\" class=\"dataframe\">\n",
       "  <thead>\n",
       "    <tr style=\"text-align: right;\">\n",
       "      <th></th>\n",
       "      <th>id</th>\n",
       "      <th>call_date</th>\n",
       "      <th>duration</th>\n",
       "      <th>user_id</th>\n",
       "    </tr>\n",
       "  </thead>\n",
       "  <tbody>\n",
       "    <tr>\n",
       "      <th>0</th>\n",
       "      <td>1000_0</td>\n",
       "      <td>2018-07-25</td>\n",
       "      <td>0.00</td>\n",
       "      <td>1000</td>\n",
       "    </tr>\n",
       "    <tr>\n",
       "      <th>1</th>\n",
       "      <td>1000_1</td>\n",
       "      <td>2018-08-17</td>\n",
       "      <td>0.00</td>\n",
       "      <td>1000</td>\n",
       "    </tr>\n",
       "    <tr>\n",
       "      <th>2</th>\n",
       "      <td>1000_2</td>\n",
       "      <td>2018-06-11</td>\n",
       "      <td>2.85</td>\n",
       "      <td>1000</td>\n",
       "    </tr>\n",
       "    <tr>\n",
       "      <th>3</th>\n",
       "      <td>1000_3</td>\n",
       "      <td>2018-09-21</td>\n",
       "      <td>13.80</td>\n",
       "      <td>1000</td>\n",
       "    </tr>\n",
       "    <tr>\n",
       "      <th>4</th>\n",
       "      <td>1000_4</td>\n",
       "      <td>2018-12-15</td>\n",
       "      <td>5.18</td>\n",
       "      <td>1000</td>\n",
       "    </tr>\n",
       "    <tr>\n",
       "      <th>5</th>\n",
       "      <td>1000_5</td>\n",
       "      <td>2018-11-02</td>\n",
       "      <td>0.00</td>\n",
       "      <td>1000</td>\n",
       "    </tr>\n",
       "    <tr>\n",
       "      <th>6</th>\n",
       "      <td>1000_6</td>\n",
       "      <td>2018-10-18</td>\n",
       "      <td>0.00</td>\n",
       "      <td>1000</td>\n",
       "    </tr>\n",
       "    <tr>\n",
       "      <th>7</th>\n",
       "      <td>1000_7</td>\n",
       "      <td>2018-08-22</td>\n",
       "      <td>18.31</td>\n",
       "      <td>1000</td>\n",
       "    </tr>\n",
       "    <tr>\n",
       "      <th>8</th>\n",
       "      <td>1000_8</td>\n",
       "      <td>2018-09-15</td>\n",
       "      <td>18.44</td>\n",
       "      <td>1000</td>\n",
       "    </tr>\n",
       "    <tr>\n",
       "      <th>9</th>\n",
       "      <td>1000_9</td>\n",
       "      <td>2018-08-15</td>\n",
       "      <td>0.00</td>\n",
       "      <td>1000</td>\n",
       "    </tr>\n",
       "  </tbody>\n",
       "</table>\n",
       "</div>"
      ],
      "text/plain": [
       "       id   call_date  duration  user_id\n",
       "0  1000_0  2018-07-25      0.00     1000\n",
       "1  1000_1  2018-08-17      0.00     1000\n",
       "2  1000_2  2018-06-11      2.85     1000\n",
       "3  1000_3  2018-09-21     13.80     1000\n",
       "4  1000_4  2018-12-15      5.18     1000\n",
       "5  1000_5  2018-11-02      0.00     1000\n",
       "6  1000_6  2018-10-18      0.00     1000\n",
       "7  1000_7  2018-08-22     18.31     1000\n",
       "8  1000_8  2018-09-15     18.44     1000\n",
       "9  1000_9  2018-08-15      0.00     1000"
      ]
     },
     "metadata": {},
     "output_type": "display_data"
    },
    {
     "name": "stdout",
     "output_type": "stream",
     "text": [
      "<class 'pandas.core.frame.DataFrame'>\n",
      "RangeIndex: 202607 entries, 0 to 202606\n",
      "Data columns (total 4 columns):\n",
      " #   Column     Non-Null Count   Dtype  \n",
      "---  ------     --------------   -----  \n",
      " 0   id         202607 non-null  object \n",
      " 1   call_date  202607 non-null  object \n",
      " 2   duration   202607 non-null  float64\n",
      " 3   user_id    202607 non-null  int64  \n",
      "dtypes: float64(1), int64(1), object(2)\n",
      "memory usage: 6.2+ MB\n"
     ]
    },
    {
     "data": {
      "text/plain": [
       "None"
      ]
     },
     "metadata": {},
     "output_type": "display_data"
    },
    {
     "name": "stdout",
     "output_type": "stream",
     "text": [
      "Явных дубликатов в данных: 0. Это 0.00% от всех значений.\n",
      "\n",
      "Уникальных значений в колонке id - 202607\n",
      "Уникальных значений в колонке call_date - 365\n",
      "Уникальных значений в колонке duration - 2871\n",
      "Уникальных значений в колонке user_id - 492\n"
     ]
    }
   ],
   "source": [
    "calls= pd.read_csv(*)\n",
    "\n",
    "hello_data(calls)"
   ]
  },
  {
   "cell_type": "markdown",
   "metadata": {},
   "source": [
    "Таблица calls (информация о звонках):\n",
    "\n",
    "- id — уникальный номер звонка\n",
    "- call_date — дата звонка\n",
    "- duration — длительность звонка в минутах\n",
    "- user_id — идентификатор пользователя, сделавшего звонок\n",
    "\n",
    "Снова видим не подходящий формат для даты, позже исправим. Пропущенных значений нет, а длительность звонков равная 0 означает, что звонок пропущен. Мегалайн» всегда округляет секунды до минут. Каждый звонок округляется отдельно: даже если он длился всего 1 секунду, будет засчитан как 1 минута. Следовательо колонку 'duration' можно будет округлить до целых значений и привести к типу int. В колонке 'user_id' только 492 уникальных значения. Здесь 2 варианта: либо эти люди не звонили в течение года, либо данные выгрузились не полностью.\n",
    "\n",
    "### Интернет-трафик"
   ]
  },
  {
   "cell_type": "code",
   "execution_count": 5,
   "metadata": {},
   "outputs": [
    {
     "data": {
      "text/html": [
       "<div>\n",
       "<style scoped>\n",
       "    .dataframe tbody tr th:only-of-type {\n",
       "        vertical-align: middle;\n",
       "    }\n",
       "\n",
       "    .dataframe tbody tr th {\n",
       "        vertical-align: top;\n",
       "    }\n",
       "\n",
       "    .dataframe thead th {\n",
       "        text-align: right;\n",
       "    }\n",
       "</style>\n",
       "<table border=\"1\" class=\"dataframe\">\n",
       "  <thead>\n",
       "    <tr style=\"text-align: right;\">\n",
       "      <th></th>\n",
       "      <th>id</th>\n",
       "      <th>mb_used</th>\n",
       "      <th>session_date</th>\n",
       "      <th>user_id</th>\n",
       "    </tr>\n",
       "  </thead>\n",
       "  <tbody>\n",
       "    <tr>\n",
       "      <th>0</th>\n",
       "      <td>1000_0</td>\n",
       "      <td>112.95</td>\n",
       "      <td>2018-11-25</td>\n",
       "      <td>1000</td>\n",
       "    </tr>\n",
       "    <tr>\n",
       "      <th>1</th>\n",
       "      <td>1000_1</td>\n",
       "      <td>1052.81</td>\n",
       "      <td>2018-09-07</td>\n",
       "      <td>1000</td>\n",
       "    </tr>\n",
       "    <tr>\n",
       "      <th>2</th>\n",
       "      <td>1000_2</td>\n",
       "      <td>1197.26</td>\n",
       "      <td>2018-06-25</td>\n",
       "      <td>1000</td>\n",
       "    </tr>\n",
       "    <tr>\n",
       "      <th>3</th>\n",
       "      <td>1000_3</td>\n",
       "      <td>550.27</td>\n",
       "      <td>2018-08-22</td>\n",
       "      <td>1000</td>\n",
       "    </tr>\n",
       "    <tr>\n",
       "      <th>4</th>\n",
       "      <td>1000_4</td>\n",
       "      <td>302.56</td>\n",
       "      <td>2018-09-24</td>\n",
       "      <td>1000</td>\n",
       "    </tr>\n",
       "    <tr>\n",
       "      <th>5</th>\n",
       "      <td>1000_5</td>\n",
       "      <td>399.97</td>\n",
       "      <td>2018-10-02</td>\n",
       "      <td>1000</td>\n",
       "    </tr>\n",
       "    <tr>\n",
       "      <th>6</th>\n",
       "      <td>1000_6</td>\n",
       "      <td>540.08</td>\n",
       "      <td>2018-09-07</td>\n",
       "      <td>1000</td>\n",
       "    </tr>\n",
       "    <tr>\n",
       "      <th>7</th>\n",
       "      <td>1000_7</td>\n",
       "      <td>415.70</td>\n",
       "      <td>2018-07-11</td>\n",
       "      <td>1000</td>\n",
       "    </tr>\n",
       "    <tr>\n",
       "      <th>8</th>\n",
       "      <td>1000_8</td>\n",
       "      <td>505.40</td>\n",
       "      <td>2018-10-08</td>\n",
       "      <td>1000</td>\n",
       "    </tr>\n",
       "    <tr>\n",
       "      <th>9</th>\n",
       "      <td>1000_9</td>\n",
       "      <td>345.54</td>\n",
       "      <td>2018-09-03</td>\n",
       "      <td>1000</td>\n",
       "    </tr>\n",
       "  </tbody>\n",
       "</table>\n",
       "</div>"
      ],
      "text/plain": [
       "       id  mb_used session_date  user_id\n",
       "0  1000_0   112.95   2018-11-25     1000\n",
       "1  1000_1  1052.81   2018-09-07     1000\n",
       "2  1000_2  1197.26   2018-06-25     1000\n",
       "3  1000_3   550.27   2018-08-22     1000\n",
       "4  1000_4   302.56   2018-09-24     1000\n",
       "5  1000_5   399.97   2018-10-02     1000\n",
       "6  1000_6   540.08   2018-09-07     1000\n",
       "7  1000_7   415.70   2018-07-11     1000\n",
       "8  1000_8   505.40   2018-10-08     1000\n",
       "9  1000_9   345.54   2018-09-03     1000"
      ]
     },
     "metadata": {},
     "output_type": "display_data"
    },
    {
     "name": "stdout",
     "output_type": "stream",
     "text": [
      "<class 'pandas.core.frame.DataFrame'>\n",
      "Int64Index: 149396 entries, 0 to 149395\n",
      "Data columns (total 4 columns):\n",
      " #   Column        Non-Null Count   Dtype  \n",
      "---  ------        --------------   -----  \n",
      " 0   id            149396 non-null  object \n",
      " 1   mb_used       149396 non-null  float64\n",
      " 2   session_date  149396 non-null  object \n",
      " 3   user_id       149396 non-null  int64  \n",
      "dtypes: float64(1), int64(1), object(2)\n",
      "memory usage: 5.7+ MB\n"
     ]
    },
    {
     "data": {
      "text/plain": [
       "None"
      ]
     },
     "metadata": {},
     "output_type": "display_data"
    },
    {
     "name": "stdout",
     "output_type": "stream",
     "text": [
      "Явных дубликатов в данных: 0. Это 0.00% от всех значений.\n",
      "\n",
      "Уникальных значений в колонке id - 149396\n",
      "Уникальных значений в колонке mb_used - 70003\n",
      "Уникальных значений в колонке session_date - 365\n",
      "Уникальных значений в колонке user_id - 497\n"
     ]
    }
   ],
   "source": [
    "internet = pd.read_csv(*)\n",
    "\n",
    "hello_data(internet)"
   ]
  },
  {
   "cell_type": "markdown",
   "metadata": {},
   "source": [
    "Таблица internet (информация об интернет-сессиях):\n",
    "    \n",
    "- id — уникальный номер сессии\n",
    "- mb_used — объём потраченного за сессию интернет-трафика (в мегабайтах)\n",
    "- session_date — дата интернет-сессии\n",
    "- user_id — идентификатор пользователя\n",
    "\n",
    "Пропущенных значений нет, но даты сессий нужно будет привести к типу datetime. Здесь также меньше 500 'user_id'.\n",
    "\n",
    "### Сообщения"
   ]
  },
  {
   "cell_type": "code",
   "execution_count": 6,
   "metadata": {},
   "outputs": [
    {
     "data": {
      "text/html": [
       "<div>\n",
       "<style scoped>\n",
       "    .dataframe tbody tr th:only-of-type {\n",
       "        vertical-align: middle;\n",
       "    }\n",
       "\n",
       "    .dataframe tbody tr th {\n",
       "        vertical-align: top;\n",
       "    }\n",
       "\n",
       "    .dataframe thead th {\n",
       "        text-align: right;\n",
       "    }\n",
       "</style>\n",
       "<table border=\"1\" class=\"dataframe\">\n",
       "  <thead>\n",
       "    <tr style=\"text-align: right;\">\n",
       "      <th></th>\n",
       "      <th>id</th>\n",
       "      <th>message_date</th>\n",
       "      <th>user_id</th>\n",
       "    </tr>\n",
       "  </thead>\n",
       "  <tbody>\n",
       "    <tr>\n",
       "      <th>0</th>\n",
       "      <td>1000_0</td>\n",
       "      <td>2018-06-27</td>\n",
       "      <td>1000</td>\n",
       "    </tr>\n",
       "    <tr>\n",
       "      <th>1</th>\n",
       "      <td>1000_1</td>\n",
       "      <td>2018-10-08</td>\n",
       "      <td>1000</td>\n",
       "    </tr>\n",
       "    <tr>\n",
       "      <th>2</th>\n",
       "      <td>1000_2</td>\n",
       "      <td>2018-08-04</td>\n",
       "      <td>1000</td>\n",
       "    </tr>\n",
       "    <tr>\n",
       "      <th>3</th>\n",
       "      <td>1000_3</td>\n",
       "      <td>2018-06-16</td>\n",
       "      <td>1000</td>\n",
       "    </tr>\n",
       "    <tr>\n",
       "      <th>4</th>\n",
       "      <td>1000_4</td>\n",
       "      <td>2018-12-05</td>\n",
       "      <td>1000</td>\n",
       "    </tr>\n",
       "    <tr>\n",
       "      <th>5</th>\n",
       "      <td>1000_5</td>\n",
       "      <td>2018-06-20</td>\n",
       "      <td>1000</td>\n",
       "    </tr>\n",
       "    <tr>\n",
       "      <th>6</th>\n",
       "      <td>1000_6</td>\n",
       "      <td>2018-11-19</td>\n",
       "      <td>1000</td>\n",
       "    </tr>\n",
       "    <tr>\n",
       "      <th>7</th>\n",
       "      <td>1000_7</td>\n",
       "      <td>2018-10-29</td>\n",
       "      <td>1000</td>\n",
       "    </tr>\n",
       "    <tr>\n",
       "      <th>8</th>\n",
       "      <td>1000_8</td>\n",
       "      <td>2018-06-25</td>\n",
       "      <td>1000</td>\n",
       "    </tr>\n",
       "    <tr>\n",
       "      <th>9</th>\n",
       "      <td>1000_9</td>\n",
       "      <td>2018-12-18</td>\n",
       "      <td>1000</td>\n",
       "    </tr>\n",
       "  </tbody>\n",
       "</table>\n",
       "</div>"
      ],
      "text/plain": [
       "       id message_date  user_id\n",
       "0  1000_0   2018-06-27     1000\n",
       "1  1000_1   2018-10-08     1000\n",
       "2  1000_2   2018-08-04     1000\n",
       "3  1000_3   2018-06-16     1000\n",
       "4  1000_4   2018-12-05     1000\n",
       "5  1000_5   2018-06-20     1000\n",
       "6  1000_6   2018-11-19     1000\n",
       "7  1000_7   2018-10-29     1000\n",
       "8  1000_8   2018-06-25     1000\n",
       "9  1000_9   2018-12-18     1000"
      ]
     },
     "metadata": {},
     "output_type": "display_data"
    },
    {
     "name": "stdout",
     "output_type": "stream",
     "text": [
      "<class 'pandas.core.frame.DataFrame'>\n",
      "RangeIndex: 123036 entries, 0 to 123035\n",
      "Data columns (total 3 columns):\n",
      " #   Column        Non-Null Count   Dtype \n",
      "---  ------        --------------   ----- \n",
      " 0   id            123036 non-null  object\n",
      " 1   message_date  123036 non-null  object\n",
      " 2   user_id       123036 non-null  int64 \n",
      "dtypes: int64(1), object(2)\n",
      "memory usage: 2.8+ MB\n"
     ]
    },
    {
     "data": {
      "text/plain": [
       "None"
      ]
     },
     "metadata": {},
     "output_type": "display_data"
    },
    {
     "name": "stdout",
     "output_type": "stream",
     "text": [
      "Явных дубликатов в данных: 0. Это 0.00% от всех значений.\n",
      "\n",
      "Уникальных значений в колонке id - 123036\n",
      "Уникальных значений в колонке message_date - 364\n",
      "Уникальных значений в колонке user_id - 426\n"
     ]
    }
   ],
   "source": [
    "messages= pd.read_csv(*)\n",
    "\n",
    "hello_data(messages)"
   ]
  },
  {
   "cell_type": "markdown",
   "metadata": {},
   "source": [
    "Таблица messages (информация о сообщениях):\n",
    "    \n",
    "- id — уникальный номер сообщения\n",
    "- message_date — дата сообщения\n",
    "- user_id — идентификатор пользователя, отправившего сообщение\n",
    "\n",
    "Дату приведем к типу datetime. Данные выгружены только за 364 дня, а уникальных  'user_id' только 426. Предположим, что часть клиентов не  пишут смс и по ним нет данных, но очень маловероятно, что это случилось в один день. Данные выгружены не полностью.\n",
    "\n",
    "### Тарифы"
   ]
  },
  {
   "cell_type": "code",
   "execution_count": 7,
   "metadata": {},
   "outputs": [
    {
     "data": {
      "text/html": [
       "<div>\n",
       "<style scoped>\n",
       "    .dataframe tbody tr th:only-of-type {\n",
       "        vertical-align: middle;\n",
       "    }\n",
       "\n",
       "    .dataframe tbody tr th {\n",
       "        vertical-align: top;\n",
       "    }\n",
       "\n",
       "    .dataframe thead th {\n",
       "        text-align: right;\n",
       "    }\n",
       "</style>\n",
       "<table border=\"1\" class=\"dataframe\">\n",
       "  <thead>\n",
       "    <tr style=\"text-align: right;\">\n",
       "      <th></th>\n",
       "      <th>messages_included</th>\n",
       "      <th>mb_per_month_included</th>\n",
       "      <th>minutes_included</th>\n",
       "      <th>rub_monthly_fee</th>\n",
       "      <th>rub_per_gb</th>\n",
       "      <th>rub_per_message</th>\n",
       "      <th>rub_per_minute</th>\n",
       "      <th>tariff_name</th>\n",
       "    </tr>\n",
       "  </thead>\n",
       "  <tbody>\n",
       "    <tr>\n",
       "      <th>0</th>\n",
       "      <td>50</td>\n",
       "      <td>15360</td>\n",
       "      <td>500</td>\n",
       "      <td>550</td>\n",
       "      <td>200</td>\n",
       "      <td>3</td>\n",
       "      <td>3</td>\n",
       "      <td>smart</td>\n",
       "    </tr>\n",
       "    <tr>\n",
       "      <th>1</th>\n",
       "      <td>1000</td>\n",
       "      <td>30720</td>\n",
       "      <td>3000</td>\n",
       "      <td>1950</td>\n",
       "      <td>150</td>\n",
       "      <td>1</td>\n",
       "      <td>1</td>\n",
       "      <td>ultra</td>\n",
       "    </tr>\n",
       "  </tbody>\n",
       "</table>\n",
       "</div>"
      ],
      "text/plain": [
       "   messages_included  mb_per_month_included  minutes_included  \\\n",
       "0                 50                  15360               500   \n",
       "1               1000                  30720              3000   \n",
       "\n",
       "   rub_monthly_fee  rub_per_gb  rub_per_message  rub_per_minute tariff_name  \n",
       "0              550         200                3               3       smart  \n",
       "1             1950         150                1               1       ultra  "
      ]
     },
     "metadata": {},
     "output_type": "display_data"
    },
    {
     "name": "stdout",
     "output_type": "stream",
     "text": [
      "<class 'pandas.core.frame.DataFrame'>\n",
      "RangeIndex: 2 entries, 0 to 1\n",
      "Data columns (total 8 columns):\n",
      " #   Column                 Non-Null Count  Dtype \n",
      "---  ------                 --------------  ----- \n",
      " 0   messages_included      2 non-null      int64 \n",
      " 1   mb_per_month_included  2 non-null      int64 \n",
      " 2   minutes_included       2 non-null      int64 \n",
      " 3   rub_monthly_fee        2 non-null      int64 \n",
      " 4   rub_per_gb             2 non-null      int64 \n",
      " 5   rub_per_message        2 non-null      int64 \n",
      " 6   rub_per_minute         2 non-null      int64 \n",
      " 7   tariff_name            2 non-null      object\n",
      "dtypes: int64(7), object(1)\n",
      "memory usage: 256.0+ bytes\n"
     ]
    },
    {
     "data": {
      "text/plain": [
       "None"
      ]
     },
     "metadata": {},
     "output_type": "display_data"
    },
    {
     "name": "stdout",
     "output_type": "stream",
     "text": [
      "Явных дубликатов в данных: 0. Это 0.00% от всех значений.\n",
      "\n",
      "Уникальных значений в колонке messages_included - 2\n",
      "Уникальных значений в колонке mb_per_month_included - 2\n",
      "Уникальных значений в колонке minutes_included - 2\n",
      "Уникальных значений в колонке rub_monthly_fee - 2\n",
      "Уникальных значений в колонке rub_per_gb - 2\n",
      "Уникальных значений в колонке rub_per_message - 2\n",
      "Уникальных значений в колонке rub_per_minute - 2\n",
      "Уникальных значений в колонке tariff_name - 2\n"
     ]
    }
   ],
   "source": [
    "tariffs= pd.read_csv(*)\n",
    "\n",
    "hello_data(tariffs)"
   ]
  },
  {
   "cell_type": "markdown",
   "metadata": {},
   "source": [
    "Таблица tariffs (информация о тарифах):\n",
    "\n",
    "- tariff_name — название тарифа\n",
    "- rub_monthly_fee — ежемесячная абонентская плата в рублях\n",
    "- minutes_included — количество минут разговора в месяц, включённых в абонентскую плату\n",
    "- messages_included — количество сообщений в месяц, включённых в абонентскую плату\n",
    "- mb_per_month_included — объём интернет-трафика, включённого в абонентскую плату (в мегабайтах)\n",
    "- rub_per_minute — стоимость минуты разговора сверх тарифного пакета (например, если в тарифе 100 минут разговора в месяц, то со 101 минуты будет взиматься плата)\n",
    "- rub_per_message — стоимость отправки сообщения сверх тарифного пакета\n",
    "- rub_per_gb — стоимость дополнительного гигабайта интернет-трафика сверх тарифного пакета (1 гигабайт = 1024 мегабайта)\n",
    "\n",
    "Таблица заполненна корректно, однако цены указаны за гигабайты, а лимит указан в мегабайтах. Пересчитаем значения 'mb_per_month_included' на гигабайты и переименуем колонку на 'gb_per_month_included'. Заодно переименуем название колонки тарифов чтобы удобнее было объединять ее с таблицей пользователей."
   ]
  },
  {
   "cell_type": "code",
   "execution_count": 8,
   "metadata": {
    "scrolled": true
   },
   "outputs": [
    {
     "data": {
      "text/html": [
       "<div>\n",
       "<style scoped>\n",
       "    .dataframe tbody tr th:only-of-type {\n",
       "        vertical-align: middle;\n",
       "    }\n",
       "\n",
       "    .dataframe tbody tr th {\n",
       "        vertical-align: top;\n",
       "    }\n",
       "\n",
       "    .dataframe thead th {\n",
       "        text-align: right;\n",
       "    }\n",
       "</style>\n",
       "<table border=\"1\" class=\"dataframe\">\n",
       "  <thead>\n",
       "    <tr style=\"text-align: right;\">\n",
       "      <th></th>\n",
       "      <th>messages_included</th>\n",
       "      <th>gb_per_month_included</th>\n",
       "      <th>minutes_included</th>\n",
       "      <th>rub_monthly_fee</th>\n",
       "      <th>rub_per_gb</th>\n",
       "      <th>rub_per_message</th>\n",
       "      <th>rub_per_minute</th>\n",
       "      <th>tariff</th>\n",
       "    </tr>\n",
       "  </thead>\n",
       "  <tbody>\n",
       "    <tr>\n",
       "      <th>0</th>\n",
       "      <td>50</td>\n",
       "      <td>15.0</td>\n",
       "      <td>500</td>\n",
       "      <td>550</td>\n",
       "      <td>200</td>\n",
       "      <td>3</td>\n",
       "      <td>3</td>\n",
       "      <td>smart</td>\n",
       "    </tr>\n",
       "    <tr>\n",
       "      <th>1</th>\n",
       "      <td>1000</td>\n",
       "      <td>30.0</td>\n",
       "      <td>3000</td>\n",
       "      <td>1950</td>\n",
       "      <td>150</td>\n",
       "      <td>1</td>\n",
       "      <td>1</td>\n",
       "      <td>ultra</td>\n",
       "    </tr>\n",
       "  </tbody>\n",
       "</table>\n",
       "</div>"
      ],
      "text/plain": [
       "   messages_included  gb_per_month_included  minutes_included  \\\n",
       "0                 50                   15.0               500   \n",
       "1               1000                   30.0              3000   \n",
       "\n",
       "   rub_monthly_fee  rub_per_gb  rub_per_message  rub_per_minute tariff  \n",
       "0              550         200                3               3  smart  \n",
       "1             1950         150                1               1  ultra  "
      ]
     },
     "execution_count": 8,
     "metadata": {},
     "output_type": "execute_result"
    }
   ],
   "source": [
    "# переводим в Гб\n",
    "tariffs['mb_per_month_included'] = tariffs['mb_per_month_included'] / 1024\n",
    "# замена названия колонки\n",
    "tariffs = tariffs.rename(columns={'tariff_name': 'tariff', 'mb_per_month_included': 'gb_per_month_included'})\n",
    "tariffs"
   ]
  },
  {
   "cell_type": "markdown",
   "metadata": {},
   "source": [
    "## Подготовка данных\n",
    "\n",
    "В этом разделе поменяем значения в колонках о времени на datetime, округлим до больших значений минуты и мегабайты,\n",
    "посчитаем для каждого пользователя:\n",
    "\n",
    "- количество сделанных звонков и израсходованных минут разговора по месяцам;\n",
    "- количество отправленных сообщений по месяцам;\n",
    "- объем израсходованного интернет-трафика по месяцам;\n",
    "- помесячную выручку с каждого пользователя.\n",
    "\n",
    "«Мегалайн» всегда округляет секунды до минут, а мегабайты — до гигабайт. Каждый звонок округляется отдельно: даже если он длился всего 1 секунду, будет засчитан как 1 минута.\n",
    "\n",
    "Для веб-трафика отдельные сессии не считаются. Вместо этого общая сумма за месяц округляется в бо́льшую сторону. Если абонент использует 1025 мегабайт в этом месяце, с него возьмут плату за 2 гигабайта.\n",
    "\n",
    "Минуты округлим сразу, а потраченные мегабайты уже после подсчетов за месяц переведем в гигабайты и затем округлим."
   ]
  },
  {
   "cell_type": "code",
   "execution_count": 9,
   "metadata": {},
   "outputs": [],
   "source": [
    "# Меняем тип данных на datetime, где это нужно \n",
    "users['churn_date'] = pd.to_datetime(\n",
    "    users['churn_date'], format='%Y-%m-%d')\n",
    "\n",
    "users['reg_date'] = pd.to_datetime(\n",
    "    users['reg_date'], format='%Y-%m-%d')\n",
    "\n",
    "calls['call_date'] = pd.to_datetime(\n",
    "    calls['call_date'], format='%Y-%m-%d')\n",
    "\n",
    "internet['session_date'] = pd.to_datetime(\n",
    "    internet['session_date'], format='%Y-%m-%d')\n",
    "\n",
    "messages['message_date'] = pd.to_datetime(\n",
    "    messages['message_date'], format='%Y-%m-%d')"
   ]
  },
  {
   "cell_type": "code",
   "execution_count": 10,
   "metadata": {},
   "outputs": [
    {
     "data": {
      "text/html": [
       "<div>\n",
       "<style scoped>\n",
       "    .dataframe tbody tr th:only-of-type {\n",
       "        vertical-align: middle;\n",
       "    }\n",
       "\n",
       "    .dataframe tbody tr th {\n",
       "        vertical-align: top;\n",
       "    }\n",
       "\n",
       "    .dataframe thead th {\n",
       "        text-align: right;\n",
       "    }\n",
       "</style>\n",
       "<table border=\"1\" class=\"dataframe\">\n",
       "  <thead>\n",
       "    <tr style=\"text-align: right;\">\n",
       "      <th></th>\n",
       "      <th>id</th>\n",
       "      <th>call_date</th>\n",
       "      <th>duration</th>\n",
       "      <th>user_id</th>\n",
       "      <th>calls_count</th>\n",
       "    </tr>\n",
       "  </thead>\n",
       "  <tbody>\n",
       "    <tr>\n",
       "      <th>0</th>\n",
       "      <td>1000_0</td>\n",
       "      <td>2018-07-25</td>\n",
       "      <td>0</td>\n",
       "      <td>1000</td>\n",
       "      <td>1</td>\n",
       "    </tr>\n",
       "    <tr>\n",
       "      <th>1</th>\n",
       "      <td>1000_1</td>\n",
       "      <td>2018-08-17</td>\n",
       "      <td>0</td>\n",
       "      <td>1000</td>\n",
       "      <td>1</td>\n",
       "    </tr>\n",
       "    <tr>\n",
       "      <th>2</th>\n",
       "      <td>1000_2</td>\n",
       "      <td>2018-06-11</td>\n",
       "      <td>3</td>\n",
       "      <td>1000</td>\n",
       "      <td>1</td>\n",
       "    </tr>\n",
       "    <tr>\n",
       "      <th>3</th>\n",
       "      <td>1000_3</td>\n",
       "      <td>2018-09-21</td>\n",
       "      <td>14</td>\n",
       "      <td>1000</td>\n",
       "      <td>1</td>\n",
       "    </tr>\n",
       "    <tr>\n",
       "      <th>4</th>\n",
       "      <td>1000_4</td>\n",
       "      <td>2018-12-15</td>\n",
       "      <td>6</td>\n",
       "      <td>1000</td>\n",
       "      <td>1</td>\n",
       "    </tr>\n",
       "  </tbody>\n",
       "</table>\n",
       "</div>"
      ],
      "text/plain": [
       "       id  call_date  duration  user_id calls_count\n",
       "0  1000_0 2018-07-25         0     1000           1\n",
       "1  1000_1 2018-08-17         0     1000           1\n",
       "2  1000_2 2018-06-11         3     1000           1\n",
       "3  1000_3 2018-09-21        14     1000           1\n",
       "4  1000_4 2018-12-15         6     1000           1"
      ]
     },
     "metadata": {},
     "output_type": "display_data"
    },
    {
     "data": {
      "text/html": [
       "<div>\n",
       "<style scoped>\n",
       "    .dataframe tbody tr th:only-of-type {\n",
       "        vertical-align: middle;\n",
       "    }\n",
       "\n",
       "    .dataframe tbody tr th {\n",
       "        vertical-align: top;\n",
       "    }\n",
       "\n",
       "    .dataframe thead th {\n",
       "        text-align: right;\n",
       "    }\n",
       "</style>\n",
       "<table border=\"1\" class=\"dataframe\">\n",
       "  <thead>\n",
       "    <tr style=\"text-align: right;\">\n",
       "      <th></th>\n",
       "      <th>id</th>\n",
       "      <th>mb_used</th>\n",
       "      <th>session_date</th>\n",
       "      <th>user_id</th>\n",
       "    </tr>\n",
       "  </thead>\n",
       "  <tbody>\n",
       "    <tr>\n",
       "      <th>0</th>\n",
       "      <td>1000_0</td>\n",
       "      <td>112.95</td>\n",
       "      <td>2018-11-25</td>\n",
       "      <td>1000</td>\n",
       "    </tr>\n",
       "    <tr>\n",
       "      <th>1</th>\n",
       "      <td>1000_1</td>\n",
       "      <td>1052.81</td>\n",
       "      <td>2018-09-07</td>\n",
       "      <td>1000</td>\n",
       "    </tr>\n",
       "    <tr>\n",
       "      <th>2</th>\n",
       "      <td>1000_2</td>\n",
       "      <td>1197.26</td>\n",
       "      <td>2018-06-25</td>\n",
       "      <td>1000</td>\n",
       "    </tr>\n",
       "    <tr>\n",
       "      <th>3</th>\n",
       "      <td>1000_3</td>\n",
       "      <td>550.27</td>\n",
       "      <td>2018-08-22</td>\n",
       "      <td>1000</td>\n",
       "    </tr>\n",
       "    <tr>\n",
       "      <th>4</th>\n",
       "      <td>1000_4</td>\n",
       "      <td>302.56</td>\n",
       "      <td>2018-09-24</td>\n",
       "      <td>1000</td>\n",
       "    </tr>\n",
       "  </tbody>\n",
       "</table>\n",
       "</div>"
      ],
      "text/plain": [
       "       id  mb_used session_date  user_id\n",
       "0  1000_0   112.95   2018-11-25     1000\n",
       "1  1000_1  1052.81   2018-09-07     1000\n",
       "2  1000_2  1197.26   2018-06-25     1000\n",
       "3  1000_3   550.27   2018-08-22     1000\n",
       "4  1000_4   302.56   2018-09-24     1000"
      ]
     },
     "execution_count": 10,
     "metadata": {},
     "output_type": "execute_result"
    }
   ],
   "source": [
    "# создаем колонку для подсчета количества звонков и заполняем единицами\n",
    "calls['calls_count'] = \"1\"\n",
    "# округляем в большую сторону использованные минуты и переводим в инт.\n",
    "calls['duration'] = np.ceil(calls['duration']).astype(int)\n",
    "\n",
    "# проверочка\n",
    "display(calls.head())\n",
    "internet.head()"
   ]
  },
  {
   "cell_type": "markdown",
   "metadata": {},
   "source": [
    "### Подсчеты по месяцам\n",
    "\n",
    "Нам нужно знать сколько по итогам месяца каждый уникальный пользователь использовал минут, сообщений, и трафика. Для этого в каждой таблице создадим  колонку 'month', а затем сгруппируем данные по 'id' и суммарному показателю по 'month'. Считаем:\n",
    "\n",
    "\n",
    "- количество сделанных звонков и израсходованных минут разговора по месяцам;\n",
    "- количество отправленных сообщений по месяцам;\n",
    "- объем израсходованного интернет-трафика по месяцам;\n",
    "- помесячную выручку с каждого пользователя."
   ]
  },
  {
   "cell_type": "code",
   "execution_count": 11,
   "metadata": {},
   "outputs": [],
   "source": [
    "# создаем колонки month в наших таблицах \n",
    "calls['month'] = pd.DatetimeIndex(calls['call_date']).month \n",
    "messages['month'] = pd.DatetimeIndex(messages['message_date']).month \n",
    "internet['month'] = pd.DatetimeIndex(internet['session_date']).month "
   ]
  },
  {
   "cell_type": "code",
   "execution_count": 12,
   "metadata": {},
   "outputs": [
    {
     "data": {
      "text/html": [
       "<div>\n",
       "<style scoped>\n",
       "    .dataframe tbody tr th:only-of-type {\n",
       "        vertical-align: middle;\n",
       "    }\n",
       "\n",
       "    .dataframe tbody tr th {\n",
       "        vertical-align: top;\n",
       "    }\n",
       "\n",
       "    .dataframe thead th {\n",
       "        text-align: right;\n",
       "    }\n",
       "</style>\n",
       "<table border=\"1\" class=\"dataframe\">\n",
       "  <thead>\n",
       "    <tr style=\"text-align: right;\">\n",
       "      <th></th>\n",
       "      <th>user_id</th>\n",
       "      <th>month</th>\n",
       "      <th>duration</th>\n",
       "      <th>calls_count</th>\n",
       "    </tr>\n",
       "  </thead>\n",
       "  <tbody>\n",
       "    <tr>\n",
       "      <th>0</th>\n",
       "      <td>1000</td>\n",
       "      <td>5</td>\n",
       "      <td>159</td>\n",
       "      <td>22</td>\n",
       "    </tr>\n",
       "    <tr>\n",
       "      <th>1</th>\n",
       "      <td>1000</td>\n",
       "      <td>6</td>\n",
       "      <td>172</td>\n",
       "      <td>43</td>\n",
       "    </tr>\n",
       "    <tr>\n",
       "      <th>2</th>\n",
       "      <td>1000</td>\n",
       "      <td>7</td>\n",
       "      <td>340</td>\n",
       "      <td>47</td>\n",
       "    </tr>\n",
       "    <tr>\n",
       "      <th>3</th>\n",
       "      <td>1000</td>\n",
       "      <td>8</td>\n",
       "      <td>408</td>\n",
       "      <td>52</td>\n",
       "    </tr>\n",
       "    <tr>\n",
       "      <th>4</th>\n",
       "      <td>1000</td>\n",
       "      <td>9</td>\n",
       "      <td>466</td>\n",
       "      <td>58</td>\n",
       "    </tr>\n",
       "  </tbody>\n",
       "</table>\n",
       "</div>"
      ],
      "text/plain": [
       "   user_id  month  duration  calls_count\n",
       "0     1000      5       159           22\n",
       "1     1000      6       172           43\n",
       "2     1000      7       340           47\n",
       "3     1000      8       408           52\n",
       "4     1000      9       466           58"
      ]
     },
     "execution_count": 12,
     "metadata": {},
     "output_type": "execute_result"
    }
   ],
   "source": [
    "# группируем каждую таблицу по id и показателю за месяц методом agg(), чтобы избавиться от мультииндекса делаем reset_index()\n",
    "data_calls = calls.groupby(['user_id', 'month']).agg({'duration':'sum', 'calls_count':'count'}) .reset_index()\n",
    "data_messages = messages.groupby(['user_id', 'month']).agg({'id':'count'}) .reset_index()\n",
    "data_internet = internet.groupby(['user_id', 'month']).agg({'mb_used':'sum'}) .reset_index()\n",
    "# проверочка\n",
    "data_calls.head()"
   ]
  },
  {
   "cell_type": "markdown",
   "metadata": {},
   "source": [
    "Чтобы избежать в дальнейшем путаницы заменим в data_messages название колонки хранящей количество отправленных сообщений за месяц с 'id' на 'messages_count'"
   ]
  },
  {
   "cell_type": "code",
   "execution_count": 13,
   "metadata": {},
   "outputs": [
    {
     "data": {
      "text/html": [
       "<div>\n",
       "<style scoped>\n",
       "    .dataframe tbody tr th:only-of-type {\n",
       "        vertical-align: middle;\n",
       "    }\n",
       "\n",
       "    .dataframe tbody tr th {\n",
       "        vertical-align: top;\n",
       "    }\n",
       "\n",
       "    .dataframe thead th {\n",
       "        text-align: right;\n",
       "    }\n",
       "</style>\n",
       "<table border=\"1\" class=\"dataframe\">\n",
       "  <thead>\n",
       "    <tr style=\"text-align: right;\">\n",
       "      <th></th>\n",
       "      <th>user_id</th>\n",
       "      <th>month</th>\n",
       "      <th>messages_count</th>\n",
       "    </tr>\n",
       "  </thead>\n",
       "  <tbody>\n",
       "    <tr>\n",
       "      <th>0</th>\n",
       "      <td>1000</td>\n",
       "      <td>5</td>\n",
       "      <td>22</td>\n",
       "    </tr>\n",
       "    <tr>\n",
       "      <th>1</th>\n",
       "      <td>1000</td>\n",
       "      <td>6</td>\n",
       "      <td>60</td>\n",
       "    </tr>\n",
       "    <tr>\n",
       "      <th>2</th>\n",
       "      <td>1000</td>\n",
       "      <td>7</td>\n",
       "      <td>75</td>\n",
       "    </tr>\n",
       "    <tr>\n",
       "      <th>3</th>\n",
       "      <td>1000</td>\n",
       "      <td>8</td>\n",
       "      <td>81</td>\n",
       "    </tr>\n",
       "    <tr>\n",
       "      <th>4</th>\n",
       "      <td>1000</td>\n",
       "      <td>9</td>\n",
       "      <td>57</td>\n",
       "    </tr>\n",
       "  </tbody>\n",
       "</table>\n",
       "</div>"
      ],
      "text/plain": [
       "   user_id  month  messages_count\n",
       "0     1000      5              22\n",
       "1     1000      6              60\n",
       "2     1000      7              75\n",
       "3     1000      8              81\n",
       "4     1000      9              57"
      ]
     },
     "execution_count": 13,
     "metadata": {},
     "output_type": "execute_result"
    }
   ],
   "source": [
    "# замена названия колонки\n",
    "data_messages = data_messages.rename(columns={'id': 'messages_count'})\n",
    "data_messages.head()"
   ]
  },
  {
   "cell_type": "code",
   "execution_count": 14,
   "metadata": {},
   "outputs": [
    {
     "data": {
      "text/html": [
       "<div>\n",
       "<style scoped>\n",
       "    .dataframe tbody tr th:only-of-type {\n",
       "        vertical-align: middle;\n",
       "    }\n",
       "\n",
       "    .dataframe tbody tr th {\n",
       "        vertical-align: top;\n",
       "    }\n",
       "\n",
       "    .dataframe thead th {\n",
       "        text-align: right;\n",
       "    }\n",
       "</style>\n",
       "<table border=\"1\" class=\"dataframe\">\n",
       "  <thead>\n",
       "    <tr style=\"text-align: right;\">\n",
       "      <th></th>\n",
       "      <th>user_id</th>\n",
       "      <th>month</th>\n",
       "      <th>mb_used</th>\n",
       "      <th>gb_used</th>\n",
       "    </tr>\n",
       "  </thead>\n",
       "  <tbody>\n",
       "    <tr>\n",
       "      <th>0</th>\n",
       "      <td>1000</td>\n",
       "      <td>5</td>\n",
       "      <td>2253.49</td>\n",
       "      <td>3</td>\n",
       "    </tr>\n",
       "    <tr>\n",
       "      <th>1</th>\n",
       "      <td>1000</td>\n",
       "      <td>6</td>\n",
       "      <td>23233.77</td>\n",
       "      <td>23</td>\n",
       "    </tr>\n",
       "    <tr>\n",
       "      <th>2</th>\n",
       "      <td>1000</td>\n",
       "      <td>7</td>\n",
       "      <td>14003.64</td>\n",
       "      <td>14</td>\n",
       "    </tr>\n",
       "    <tr>\n",
       "      <th>3</th>\n",
       "      <td>1000</td>\n",
       "      <td>8</td>\n",
       "      <td>14055.93</td>\n",
       "      <td>14</td>\n",
       "    </tr>\n",
       "    <tr>\n",
       "      <th>4</th>\n",
       "      <td>1000</td>\n",
       "      <td>9</td>\n",
       "      <td>14568.91</td>\n",
       "      <td>15</td>\n",
       "    </tr>\n",
       "  </tbody>\n",
       "</table>\n",
       "</div>"
      ],
      "text/plain": [
       "   user_id  month   mb_used  gb_used\n",
       "0     1000      5   2253.49        3\n",
       "1     1000      6  23233.77       23\n",
       "2     1000      7  14003.64       14\n",
       "3     1000      8  14055.93       14\n",
       "4     1000      9  14568.91       15"
      ]
     },
     "execution_count": 14,
     "metadata": {},
     "output_type": "execute_result"
    }
   ],
   "source": [
    "#создаем новую колонку и переводим мегабайты в гигабайты \n",
    "data_internet['gb_used'] = data_internet['mb_used'] / 1024\n",
    "# округляем гигабайты до большего значения(по условию задачи) и переводим в тип инт\n",
    "data_internet['gb_used'] = (data_internet['gb_used']).apply(np.ceil).astype(int)\n",
    "# проверочка\n",
    "data_internet.head()"
   ]
  },
  {
   "cell_type": "markdown",
   "metadata": {},
   "source": [
    "### Объединение таблиц\n",
    "\n",
    "Последовательно соберем наши таблицы в одну общую, применив метод merge. Для начала соберем в одну промежуточную таблицу минуты, сообщения и трафик, объединивих по id клиента и месяцу. Вторым  действием объединим таблицу users c промежуточной"
   ]
  },
  {
   "cell_type": "code",
   "execution_count": 15,
   "metadata": {},
   "outputs": [
    {
     "name": "stdout",
     "output_type": "stream",
     "text": [
      "<class 'pandas.core.frame.DataFrame'>\n",
      "Int64Index: 3214 entries, 0 to 3213\n",
      "Data columns (total 7 columns):\n",
      " #   Column          Non-Null Count  Dtype  \n",
      "---  ------          --------------  -----  \n",
      " 0   user_id         3214 non-null   int64  \n",
      " 1   month           3214 non-null   int64  \n",
      " 2   duration        3174 non-null   float64\n",
      " 3   calls_count     3174 non-null   float64\n",
      " 4   messages_count  2717 non-null   float64\n",
      " 5   mb_used         3203 non-null   float64\n",
      " 6   gb_used         3203 non-null   float64\n",
      "dtypes: float64(5), int64(2)\n",
      "memory usage: 200.9 KB\n"
     ]
    }
   ],
   "source": [
    "# собираем промежуточную по 'user_id', 'month'\n",
    "#по очереди соединяем данные о минутах, сообщениях и интернет-трафике\n",
    "data_used = data_calls.merge(data_messages, on=['user_id', 'month'], how='outer')\n",
    "data_used = data_used.merge(data_internet, on=['user_id', 'month'], how='outer')\n",
    "data_used.info()"
   ]
  },
  {
   "cell_type": "code",
   "execution_count": 16,
   "metadata": {},
   "outputs": [
    {
     "name": "stdout",
     "output_type": "stream",
     "text": [
      "<class 'pandas.core.frame.DataFrame'>\n",
      "Int64Index: 500 entries, 0 to 499\n",
      "Data columns (total 15 columns):\n",
      " #   Column                 Non-Null Count  Dtype         \n",
      "---  ------                 --------------  -----         \n",
      " 0   user_id                500 non-null    int64         \n",
      " 1   age                    500 non-null    int64         \n",
      " 2   churn_date             38 non-null     datetime64[ns]\n",
      " 3   city                   500 non-null    object        \n",
      " 4   first_name             500 non-null    object        \n",
      " 5   last_name              500 non-null    object        \n",
      " 6   reg_date               500 non-null    datetime64[ns]\n",
      " 7   tariff                 500 non-null    object        \n",
      " 8   messages_included      500 non-null    int64         \n",
      " 9   gb_per_month_included  500 non-null    float64       \n",
      " 10  minutes_included       500 non-null    int64         \n",
      " 11  rub_monthly_fee        500 non-null    int64         \n",
      " 12  rub_per_gb             500 non-null    int64         \n",
      " 13  rub_per_message        500 non-null    int64         \n",
      " 14  rub_per_minute         500 non-null    int64         \n",
      "dtypes: datetime64[ns](2), float64(1), int64(8), object(4)\n",
      "memory usage: 62.5+ KB\n"
     ]
    }
   ],
   "source": [
    "# объявляем переменную df, в которую соберем нашу итоговую таблицу. \n",
    "# объединяем данные о пользователях и данные о тарифах\n",
    "df = users.merge(tariffs, on='tariff', how='outer')\n",
    "df.info()"
   ]
  },
  {
   "cell_type": "code",
   "execution_count": 17,
   "metadata": {},
   "outputs": [
    {
     "data": {
      "text/html": [
       "<div>\n",
       "<style scoped>\n",
       "    .dataframe tbody tr th:only-of-type {\n",
       "        vertical-align: middle;\n",
       "    }\n",
       "\n",
       "    .dataframe tbody tr th {\n",
       "        vertical-align: top;\n",
       "    }\n",
       "\n",
       "    .dataframe thead th {\n",
       "        text-align: right;\n",
       "    }\n",
       "</style>\n",
       "<table border=\"1\" class=\"dataframe\">\n",
       "  <thead>\n",
       "    <tr style=\"text-align: right;\">\n",
       "      <th></th>\n",
       "      <th>user_id</th>\n",
       "      <th>age</th>\n",
       "      <th>churn_date</th>\n",
       "      <th>city</th>\n",
       "      <th>first_name</th>\n",
       "      <th>last_name</th>\n",
       "      <th>reg_date</th>\n",
       "      <th>tariff</th>\n",
       "      <th>messages_included</th>\n",
       "      <th>gb_per_month_included</th>\n",
       "      <th>...</th>\n",
       "      <th>rub_monthly_fee</th>\n",
       "      <th>rub_per_gb</th>\n",
       "      <th>rub_per_message</th>\n",
       "      <th>rub_per_minute</th>\n",
       "      <th>month</th>\n",
       "      <th>duration</th>\n",
       "      <th>calls_count</th>\n",
       "      <th>messages_count</th>\n",
       "      <th>mb_used</th>\n",
       "      <th>gb_used</th>\n",
       "    </tr>\n",
       "  </thead>\n",
       "  <tbody>\n",
       "    <tr>\n",
       "      <th>0</th>\n",
       "      <td>1000</td>\n",
       "      <td>52</td>\n",
       "      <td>NaT</td>\n",
       "      <td>Краснодар</td>\n",
       "      <td>Рафаил</td>\n",
       "      <td>Верещагин</td>\n",
       "      <td>2018-05-25</td>\n",
       "      <td>ultra</td>\n",
       "      <td>1000</td>\n",
       "      <td>30.0</td>\n",
       "      <td>...</td>\n",
       "      <td>1950</td>\n",
       "      <td>150</td>\n",
       "      <td>1</td>\n",
       "      <td>1</td>\n",
       "      <td>5.0</td>\n",
       "      <td>159.0</td>\n",
       "      <td>22.0</td>\n",
       "      <td>22.0</td>\n",
       "      <td>2253.49</td>\n",
       "      <td>3.0</td>\n",
       "    </tr>\n",
       "    <tr>\n",
       "      <th>1</th>\n",
       "      <td>1000</td>\n",
       "      <td>52</td>\n",
       "      <td>NaT</td>\n",
       "      <td>Краснодар</td>\n",
       "      <td>Рафаил</td>\n",
       "      <td>Верещагин</td>\n",
       "      <td>2018-05-25</td>\n",
       "      <td>ultra</td>\n",
       "      <td>1000</td>\n",
       "      <td>30.0</td>\n",
       "      <td>...</td>\n",
       "      <td>1950</td>\n",
       "      <td>150</td>\n",
       "      <td>1</td>\n",
       "      <td>1</td>\n",
       "      <td>6.0</td>\n",
       "      <td>172.0</td>\n",
       "      <td>43.0</td>\n",
       "      <td>60.0</td>\n",
       "      <td>23233.77</td>\n",
       "      <td>23.0</td>\n",
       "    </tr>\n",
       "    <tr>\n",
       "      <th>2</th>\n",
       "      <td>1000</td>\n",
       "      <td>52</td>\n",
       "      <td>NaT</td>\n",
       "      <td>Краснодар</td>\n",
       "      <td>Рафаил</td>\n",
       "      <td>Верещагин</td>\n",
       "      <td>2018-05-25</td>\n",
       "      <td>ultra</td>\n",
       "      <td>1000</td>\n",
       "      <td>30.0</td>\n",
       "      <td>...</td>\n",
       "      <td>1950</td>\n",
       "      <td>150</td>\n",
       "      <td>1</td>\n",
       "      <td>1</td>\n",
       "      <td>7.0</td>\n",
       "      <td>340.0</td>\n",
       "      <td>47.0</td>\n",
       "      <td>75.0</td>\n",
       "      <td>14003.64</td>\n",
       "      <td>14.0</td>\n",
       "    </tr>\n",
       "    <tr>\n",
       "      <th>3</th>\n",
       "      <td>1000</td>\n",
       "      <td>52</td>\n",
       "      <td>NaT</td>\n",
       "      <td>Краснодар</td>\n",
       "      <td>Рафаил</td>\n",
       "      <td>Верещагин</td>\n",
       "      <td>2018-05-25</td>\n",
       "      <td>ultra</td>\n",
       "      <td>1000</td>\n",
       "      <td>30.0</td>\n",
       "      <td>...</td>\n",
       "      <td>1950</td>\n",
       "      <td>150</td>\n",
       "      <td>1</td>\n",
       "      <td>1</td>\n",
       "      <td>8.0</td>\n",
       "      <td>408.0</td>\n",
       "      <td>52.0</td>\n",
       "      <td>81.0</td>\n",
       "      <td>14055.93</td>\n",
       "      <td>14.0</td>\n",
       "    </tr>\n",
       "    <tr>\n",
       "      <th>4</th>\n",
       "      <td>1000</td>\n",
       "      <td>52</td>\n",
       "      <td>NaT</td>\n",
       "      <td>Краснодар</td>\n",
       "      <td>Рафаил</td>\n",
       "      <td>Верещагин</td>\n",
       "      <td>2018-05-25</td>\n",
       "      <td>ultra</td>\n",
       "      <td>1000</td>\n",
       "      <td>30.0</td>\n",
       "      <td>...</td>\n",
       "      <td>1950</td>\n",
       "      <td>150</td>\n",
       "      <td>1</td>\n",
       "      <td>1</td>\n",
       "      <td>9.0</td>\n",
       "      <td>466.0</td>\n",
       "      <td>58.0</td>\n",
       "      <td>57.0</td>\n",
       "      <td>14568.91</td>\n",
       "      <td>15.0</td>\n",
       "    </tr>\n",
       "  </tbody>\n",
       "</table>\n",
       "<p>5 rows × 21 columns</p>\n",
       "</div>"
      ],
      "text/plain": [
       "   user_id  age churn_date       city first_name  last_name   reg_date tariff  \\\n",
       "0     1000   52        NaT  Краснодар     Рафаил  Верещагин 2018-05-25  ultra   \n",
       "1     1000   52        NaT  Краснодар     Рафаил  Верещагин 2018-05-25  ultra   \n",
       "2     1000   52        NaT  Краснодар     Рафаил  Верещагин 2018-05-25  ultra   \n",
       "3     1000   52        NaT  Краснодар     Рафаил  Верещагин 2018-05-25  ultra   \n",
       "4     1000   52        NaT  Краснодар     Рафаил  Верещагин 2018-05-25  ultra   \n",
       "\n",
       "   messages_included  gb_per_month_included  ...  rub_monthly_fee  rub_per_gb  \\\n",
       "0               1000                   30.0  ...             1950         150   \n",
       "1               1000                   30.0  ...             1950         150   \n",
       "2               1000                   30.0  ...             1950         150   \n",
       "3               1000                   30.0  ...             1950         150   \n",
       "4               1000                   30.0  ...             1950         150   \n",
       "\n",
       "   rub_per_message  rub_per_minute  month  duration  calls_count  \\\n",
       "0                1               1    5.0     159.0         22.0   \n",
       "1                1               1    6.0     172.0         43.0   \n",
       "2                1               1    7.0     340.0         47.0   \n",
       "3                1               1    8.0     408.0         52.0   \n",
       "4                1               1    9.0     466.0         58.0   \n",
       "\n",
       "   messages_count   mb_used  gb_used  \n",
       "0            22.0   2253.49      3.0  \n",
       "1            60.0  23233.77     23.0  \n",
       "2            75.0  14003.64     14.0  \n",
       "3            81.0  14055.93     14.0  \n",
       "4            57.0  14568.91     15.0  \n",
       "\n",
       "[5 rows x 21 columns]"
      ]
     },
     "metadata": {},
     "output_type": "display_data"
    },
    {
     "name": "stdout",
     "output_type": "stream",
     "text": [
      "<class 'pandas.core.frame.DataFrame'>\n",
      "Int64Index: 3216 entries, 0 to 3215\n",
      "Data columns (total 21 columns):\n",
      " #   Column                 Non-Null Count  Dtype         \n",
      "---  ------                 --------------  -----         \n",
      " 0   user_id                3216 non-null   int64         \n",
      " 1   age                    3216 non-null   int64         \n",
      " 2   churn_date             189 non-null    datetime64[ns]\n",
      " 3   city                   3216 non-null   object        \n",
      " 4   first_name             3216 non-null   object        \n",
      " 5   last_name              3216 non-null   object        \n",
      " 6   reg_date               3216 non-null   datetime64[ns]\n",
      " 7   tariff                 3216 non-null   object        \n",
      " 8   messages_included      3216 non-null   int64         \n",
      " 9   gb_per_month_included  3216 non-null   float64       \n",
      " 10  minutes_included       3216 non-null   int64         \n",
      " 11  rub_monthly_fee        3216 non-null   int64         \n",
      " 12  rub_per_gb             3216 non-null   int64         \n",
      " 13  rub_per_message        3216 non-null   int64         \n",
      " 14  rub_per_minute         3216 non-null   int64         \n",
      " 15  month                  3214 non-null   float64       \n",
      " 16  duration               3174 non-null   float64       \n",
      " 17  calls_count            3174 non-null   float64       \n",
      " 18  messages_count         2717 non-null   float64       \n",
      " 19  mb_used                3203 non-null   float64       \n",
      " 20  gb_used                3203 non-null   float64       \n",
      "dtypes: datetime64[ns](2), float64(7), int64(8), object(4)\n",
      "memory usage: 552.8+ KB\n"
     ]
    }
   ],
   "source": [
    "# добавляем в итоговую таблицу промежуточную\n",
    "df = df.merge(data_used, on=['user_id'], how='outer')\n",
    "display(df.head())\n",
    "df.info()"
   ]
  },
  {
   "cell_type": "markdown",
   "metadata": {},
   "source": [
    "Таблица создана, но в данных теперь есть отсутствующие значения. Чтобы эти значения не помешали дальнейшим расчетам заменим их на 0 в следующих колонках: 'duration', 'messages_count', 'mb_used', 'gb_used'."
   ]
  },
  {
   "cell_type": "code",
   "execution_count": 18,
   "metadata": {},
   "outputs": [
    {
     "data": {
      "text/plain": [
       "500"
      ]
     },
     "execution_count": 18,
     "metadata": {},
     "output_type": "execute_result"
    }
   ],
   "source": [
    " # перебор названий столбцов в цикле и замена пропущенных значений на 0, заодно приведем колонки к типу int\n",
    "columns_to_replace = ['duration', 'messages_count', 'mb_used', 'gb_used'] \n",
    "for column in columns_to_replace:\n",
    "    df[column] = df[column].fillna(0)\n",
    "    df[column] = df[column].astype(int)\n",
    "\n",
    "# проверяем, что не потеряли данные пользователей\n",
    "len(df['user_id'].unique())"
   ]
  },
  {
   "cell_type": "markdown",
   "metadata": {},
   "source": [
    "### Подсчет выручки с кадого пользователя\n",
    "\n",
    "Напишем функцию для расчета выручки с каждого пользователя. Сохраним результаты в колонке 'total_income'.\n",
    "\n",
    "По очереди вычтем бесплатный лимит из суммарного количества звонков, сообщений и интернет-трафика; остаток умножим на значение из тарифного плана; прибавим абонентскую плату, соответствующую тарифному плану."
   ]
  },
  {
   "cell_type": "code",
   "execution_count": 19,
   "metadata": {},
   "outputs": [
    {
     "data": {
      "text/html": [
       "<div>\n",
       "<style scoped>\n",
       "    .dataframe tbody tr th:only-of-type {\n",
       "        vertical-align: middle;\n",
       "    }\n",
       "\n",
       "    .dataframe tbody tr th {\n",
       "        vertical-align: top;\n",
       "    }\n",
       "\n",
       "    .dataframe thead th {\n",
       "        text-align: right;\n",
       "    }\n",
       "</style>\n",
       "<table border=\"1\" class=\"dataframe\">\n",
       "  <thead>\n",
       "    <tr style=\"text-align: right;\">\n",
       "      <th></th>\n",
       "      <th>user_id</th>\n",
       "      <th>age</th>\n",
       "      <th>churn_date</th>\n",
       "      <th>city</th>\n",
       "      <th>first_name</th>\n",
       "      <th>last_name</th>\n",
       "      <th>reg_date</th>\n",
       "      <th>tariff</th>\n",
       "      <th>messages_included</th>\n",
       "      <th>gb_per_month_included</th>\n",
       "      <th>...</th>\n",
       "      <th>rub_per_gb</th>\n",
       "      <th>rub_per_message</th>\n",
       "      <th>rub_per_minute</th>\n",
       "      <th>month</th>\n",
       "      <th>duration</th>\n",
       "      <th>calls_count</th>\n",
       "      <th>messages_count</th>\n",
       "      <th>mb_used</th>\n",
       "      <th>gb_used</th>\n",
       "      <th>total_income</th>\n",
       "    </tr>\n",
       "  </thead>\n",
       "  <tbody>\n",
       "    <tr>\n",
       "      <th>0</th>\n",
       "      <td>1000</td>\n",
       "      <td>52</td>\n",
       "      <td>NaT</td>\n",
       "      <td>Краснодар</td>\n",
       "      <td>Рафаил</td>\n",
       "      <td>Верещагин</td>\n",
       "      <td>2018-05-25</td>\n",
       "      <td>ultra</td>\n",
       "      <td>1000</td>\n",
       "      <td>30.0</td>\n",
       "      <td>...</td>\n",
       "      <td>150</td>\n",
       "      <td>1</td>\n",
       "      <td>1</td>\n",
       "      <td>5.0</td>\n",
       "      <td>159</td>\n",
       "      <td>22.0</td>\n",
       "      <td>22</td>\n",
       "      <td>2253</td>\n",
       "      <td>3</td>\n",
       "      <td>1950</td>\n",
       "    </tr>\n",
       "    <tr>\n",
       "      <th>1</th>\n",
       "      <td>1000</td>\n",
       "      <td>52</td>\n",
       "      <td>NaT</td>\n",
       "      <td>Краснодар</td>\n",
       "      <td>Рафаил</td>\n",
       "      <td>Верещагин</td>\n",
       "      <td>2018-05-25</td>\n",
       "      <td>ultra</td>\n",
       "      <td>1000</td>\n",
       "      <td>30.0</td>\n",
       "      <td>...</td>\n",
       "      <td>150</td>\n",
       "      <td>1</td>\n",
       "      <td>1</td>\n",
       "      <td>6.0</td>\n",
       "      <td>172</td>\n",
       "      <td>43.0</td>\n",
       "      <td>60</td>\n",
       "      <td>23233</td>\n",
       "      <td>23</td>\n",
       "      <td>1950</td>\n",
       "    </tr>\n",
       "    <tr>\n",
       "      <th>2</th>\n",
       "      <td>1000</td>\n",
       "      <td>52</td>\n",
       "      <td>NaT</td>\n",
       "      <td>Краснодар</td>\n",
       "      <td>Рафаил</td>\n",
       "      <td>Верещагин</td>\n",
       "      <td>2018-05-25</td>\n",
       "      <td>ultra</td>\n",
       "      <td>1000</td>\n",
       "      <td>30.0</td>\n",
       "      <td>...</td>\n",
       "      <td>150</td>\n",
       "      <td>1</td>\n",
       "      <td>1</td>\n",
       "      <td>7.0</td>\n",
       "      <td>340</td>\n",
       "      <td>47.0</td>\n",
       "      <td>75</td>\n",
       "      <td>14003</td>\n",
       "      <td>14</td>\n",
       "      <td>1950</td>\n",
       "    </tr>\n",
       "    <tr>\n",
       "      <th>3</th>\n",
       "      <td>1000</td>\n",
       "      <td>52</td>\n",
       "      <td>NaT</td>\n",
       "      <td>Краснодар</td>\n",
       "      <td>Рафаил</td>\n",
       "      <td>Верещагин</td>\n",
       "      <td>2018-05-25</td>\n",
       "      <td>ultra</td>\n",
       "      <td>1000</td>\n",
       "      <td>30.0</td>\n",
       "      <td>...</td>\n",
       "      <td>150</td>\n",
       "      <td>1</td>\n",
       "      <td>1</td>\n",
       "      <td>8.0</td>\n",
       "      <td>408</td>\n",
       "      <td>52.0</td>\n",
       "      <td>81</td>\n",
       "      <td>14055</td>\n",
       "      <td>14</td>\n",
       "      <td>1950</td>\n",
       "    </tr>\n",
       "    <tr>\n",
       "      <th>4</th>\n",
       "      <td>1000</td>\n",
       "      <td>52</td>\n",
       "      <td>NaT</td>\n",
       "      <td>Краснодар</td>\n",
       "      <td>Рафаил</td>\n",
       "      <td>Верещагин</td>\n",
       "      <td>2018-05-25</td>\n",
       "      <td>ultra</td>\n",
       "      <td>1000</td>\n",
       "      <td>30.0</td>\n",
       "      <td>...</td>\n",
       "      <td>150</td>\n",
       "      <td>1</td>\n",
       "      <td>1</td>\n",
       "      <td>9.0</td>\n",
       "      <td>466</td>\n",
       "      <td>58.0</td>\n",
       "      <td>57</td>\n",
       "      <td>14568</td>\n",
       "      <td>15</td>\n",
       "      <td>1950</td>\n",
       "    </tr>\n",
       "  </tbody>\n",
       "</table>\n",
       "<p>5 rows × 22 columns</p>\n",
       "</div>"
      ],
      "text/plain": [
       "   user_id  age churn_date       city first_name  last_name   reg_date tariff  \\\n",
       "0     1000   52        NaT  Краснодар     Рафаил  Верещагин 2018-05-25  ultra   \n",
       "1     1000   52        NaT  Краснодар     Рафаил  Верещагин 2018-05-25  ultra   \n",
       "2     1000   52        NaT  Краснодар     Рафаил  Верещагин 2018-05-25  ultra   \n",
       "3     1000   52        NaT  Краснодар     Рафаил  Верещагин 2018-05-25  ultra   \n",
       "4     1000   52        NaT  Краснодар     Рафаил  Верещагин 2018-05-25  ultra   \n",
       "\n",
       "   messages_included  gb_per_month_included  ...  rub_per_gb  rub_per_message  \\\n",
       "0               1000                   30.0  ...         150                1   \n",
       "1               1000                   30.0  ...         150                1   \n",
       "2               1000                   30.0  ...         150                1   \n",
       "3               1000                   30.0  ...         150                1   \n",
       "4               1000                   30.0  ...         150                1   \n",
       "\n",
       "   rub_per_minute  month  duration  calls_count  messages_count  mb_used  \\\n",
       "0               1    5.0       159         22.0              22     2253   \n",
       "1               1    6.0       172         43.0              60    23233   \n",
       "2               1    7.0       340         47.0              75    14003   \n",
       "3               1    8.0       408         52.0              81    14055   \n",
       "4               1    9.0       466         58.0              57    14568   \n",
       "\n",
       "   gb_used  total_income  \n",
       "0        3          1950  \n",
       "1       23          1950  \n",
       "2       14          1950  \n",
       "3       14          1950  \n",
       "4       15          1950  \n",
       "\n",
       "[5 rows x 22 columns]"
      ]
     },
     "execution_count": 19,
     "metadata": {},
     "output_type": "execute_result"
    }
   ],
   "source": [
    "def total_income(row):\n",
    "    minutes = 0\n",
    "    message = 0\n",
    "    trafic = 0\n",
    "    \n",
    "    if row['duration']> row['minutes_included']: # условие, что клиент превысил лимит по звонкам\n",
    "        minutes = (row['duration'] - row['minutes_included']) * row['rub_per_minute']\n",
    "    else:\n",
    "        minutes = 0 # если превышения не было\n",
    "        \n",
    "    if row['messages_count']> row['messages_included']:# условие, что клиент превысил лимит по сообщениям\n",
    "        message = (row['messages_count'] - row['messages_included']) * row['rub_per_message']\n",
    "    else:\n",
    "        message = 0  # если превышения не было\n",
    "        \n",
    "    if row['gb_used']> row['gb_per_month_included']: # условие, что клиент превысил лимит по трафику\n",
    "        trafic = (row['gb_used'] - row['gb_per_month_included']) * row['rub_per_message']\n",
    "    else:\n",
    "        trafic = 0 # если превышения не было\n",
    "    \n",
    "    return row['rub_monthly_fee'] + minutes + message + trafic # итоговый расчет\n",
    "\n",
    "# добавляем столбец в датафрейм\n",
    "df['total_income'] = df.apply(total_income, axis=1).astype(int)\n",
    "df.head(5)"
   ]
  },
  {
   "cell_type": "markdown",
   "metadata": {},
   "source": [
    "##  Анализ поведения клиентов\n",
    "\n",
    "Опишем поведение клиентов оператора, исходя из выборки. Сколько минут разговора, сколько сообщений и какой объём интернет-трафика требуется пользователям каждого тарифа в месяц? Посчитаем среднее количество, дисперсию и стандартное отклонение. Построим гистограммы, опишем распределения.\n",
    "\n",
    "Создадим срезы основного датафрейма по интересующим нас колонкам, в два отдельных датафрейма по тарифам: 'smart_tariff' и 'ultra_tariff'."
   ]
  },
  {
   "cell_type": "code",
   "execution_count": 20,
   "metadata": {},
   "outputs": [
    {
     "name": "stderr",
     "output_type": "stream",
     "text": [
      "C:\\Users\\Jane\\anaconda3\\envs\\practicum\\lib\\site-packages\\seaborn\\_decorators.py:36: FutureWarning: Pass the following variable as a keyword arg: x. From version 0.12, the only valid positional argument will be `data`, and passing other arguments without an explicit keyword will result in an error or misinterpretation.\n",
      "  warnings.warn(\n"
     ]
    },
    {
     "data": {
      "text/plain": [
       "smart    0.693408\n",
       "ultra    0.306592\n",
       "Name: tariff, dtype: float64"
      ]
     },
     "execution_count": 20,
     "metadata": {},
     "output_type": "execute_result"
    },
    {
     "data": {
      "image/png": "[encoded data removed]",
      "text/plain": [
       "<Figure size 432x288 with 1 Axes>"
      ]
     },
     "metadata": {
      "needs_background": "light"
     },
     "output_type": "display_data"
    }
   ],
   "source": [
    "# посмотрим соотношение пользователей тарифов\n",
    "sns.countplot(df.tariff)  \n",
    "df.tariff.value_counts(normalize=True)"
   ]
  },
  {
   "cell_type": "markdown",
   "metadata": {},
   "source": [
    "Пользоваелей тарифа 'smart' 70% против 30% пользователей тарифа 'ultra'. Пока очевидно, что люди,выбирая тариф, стараются платить за услуги связи поменьше. \n",
    "\n",
    "### Поведение пользователей тарифа Smart"
   ]
  },
  {
   "cell_type": "code",
   "execution_count": 21,
   "metadata": {},
   "outputs": [
    {
     "name": "stdout",
     "output_type": "stream",
     "text": [
      "<class 'pandas.core.frame.DataFrame'>\n",
      "Int64Index: 2230 entries, 986 to 3215\n",
      "Data columns (total 15 columns):\n",
      " #   Column                 Non-Null Count  Dtype         \n",
      "---  ------                 --------------  -----         \n",
      " 0   user_id                2230 non-null   int64         \n",
      " 1   city                   2230 non-null   object        \n",
      " 2   age                    2230 non-null   int64         \n",
      " 3   reg_date               2230 non-null   datetime64[ns]\n",
      " 4   churn_date             112 non-null    datetime64[ns]\n",
      " 5   month                  2229 non-null   float64       \n",
      " 6   calls_count            2223 non-null   float64       \n",
      " 7   duration               2230 non-null   int32         \n",
      " 8   minutes_included       2230 non-null   int64         \n",
      " 9   messages_count         2230 non-null   int32         \n",
      " 10  messages_included      2230 non-null   int64         \n",
      " 11  gb_used                2230 non-null   int32         \n",
      " 12  gb_per_month_included  2230 non-null   float64       \n",
      " 13  rub_monthly_fee        2230 non-null   int64         \n",
      " 14  total_income           2230 non-null   int32         \n",
      "dtypes: datetime64[ns](2), float64(3), int32(4), int64(5), object(1)\n",
      "memory usage: 243.9+ KB\n"
     ]
    }
   ],
   "source": [
    "# Создаем срез по тарифу и смотрим общую информацию\n",
    "smart_tariff = (df[df['tariff'] == 'smart']\n",
    "                           .loc[:,['user_id', 'city', 'age','reg_date', 'churn_date','month', 'calls_count', 'duration', 'minutes_included',\n",
    "                                    'messages_count','messages_included',  'gb_used', 'gb_per_month_included', 'rub_monthly_fee', 'total_income']])\n",
    "smart_tariff.info()"
   ]
  },
  {
   "cell_type": "markdown",
   "metadata": {},
   "source": [
    "Теперь  построим гистограммы по использованным минутам, сообщениям и трафику, посчитаем среднее, дисперсию и стандартное отклонение.\n",
    "\n",
    "Для этого создадим функцию \"data_stats\""
   ]
  },
  {
   "cell_type": "code",
   "execution_count": 22,
   "metadata": {},
   "outputs": [],
   "source": [
    "def data_stats(column, column_name):\n",
    "    \n",
    "    sns.displot(column, kde_kws={'label': column_name}) \n",
    "        \n",
    "    column_mean = column.mean()\n",
    "    variance = np.var(column, ddof=1)\n",
    "    column_std = np.std(column, ddof=1)\n",
    "    \n",
    "    print( f'Среднее значение показателя составляет: {round(column_mean, 2)}')\n",
    "    print( f'Дисперсия показателя составляет: {round(variance,2)}')\n",
    "    print( f'Стандартное отклонение показателя составляет: {round(column_std,2)}')"
   ]
  },
  {
   "cell_type": "code",
   "execution_count": 23,
   "metadata": {},
   "outputs": [
    {
     "name": "stdout",
     "output_type": "stream",
     "text": [
      "Среднее значение показателя составляет: 417.75\n",
      "Дисперсия показателя составляет: 36281.39\n",
      "Стандартное отклонение показателя составляет: 190.48\n"
     ]
    },
    {
     "data": {
      "image/png": "[encoded data removed]",
      "text/plain": [
       "<Figure size 360x360 with 1 Axes>"
      ]
     },
     "metadata": {
      "needs_background": "light"
     },
     "output_type": "display_data"
    }
   ],
   "source": [
    "# вызываем функцию для тарифа смарт по минутам    \n",
    "column = smart_tariff['duration'] \n",
    "column_name = 'использовано минут в месяц'\n",
    "data_stats(column, column_name)   "
   ]
  },
  {
   "cell_type": "markdown",
   "metadata": {},
   "source": [
    "Нормальное распредение, чуть скошенное влево. В среднем клиенты  используют по 417 минут в месяц."
   ]
  },
  {
   "cell_type": "code",
   "execution_count": 24,
   "metadata": {},
   "outputs": [
    {
     "name": "stdout",
     "output_type": "stream",
     "text": [
      "Среднее значение показателя составляет: 33.37\n",
      "Дисперсия показателя составляет: 796.96\n",
      "Стандартное отклонение показателя составляет: 28.23\n"
     ]
    },
    {
     "data": {
      "image/png": "[encoded data removed]",
      "text/plain": [
       "<Figure size 360x360 with 1 Axes>"
      ]
     },
     "metadata": {
      "needs_background": "light"
     },
     "output_type": "display_data"
    }
   ],
   "source": [
    "# вызываем функцию для тарифа смарт по сообщениям\n",
    "column = smart_tariff['messages_count'] \n",
    "column_name = 'использовано сообщений в месяц'\n",
    "data_stats(column, column_name) "
   ]
  },
  {
   "cell_type": "code",
   "execution_count": 25,
   "metadata": {
    "scrolled": true
   },
   "outputs": [
    {
     "data": {
      "text/plain": [
       "0"
      ]
     },
     "execution_count": 25,
     "metadata": {},
     "output_type": "execute_result"
    }
   ],
   "source": [
    "smart_tariff['messages_count'].min()"
   ]
  },
  {
   "cell_type": "markdown",
   "metadata": {},
   "source": [
    "Видим распределене Пуассона. Есть клиенты, и их очень много, кто вообще не используют сообщения в течение месяца. В среднем же используют 33 сообщения, при большом стандартном отклонении - 28 сообщений."
   ]
  },
  {
   "cell_type": "code",
   "execution_count": 26,
   "metadata": {},
   "outputs": [
    {
     "name": "stdout",
     "output_type": "stream",
     "text": [
      "Среднее значение показателя составляет: 16.32\n",
      "Дисперсия показателя составляет: 33.13\n",
      "Стандартное отклонение показателя составляет: 5.76\n"
     ]
    },
    {
     "data": {
      "image/png": "[encoded data removed]",
      "text/plain": [
       "<Figure size 360x360 with 1 Axes>"
      ]
     },
     "metadata": {
      "needs_background": "light"
     },
     "output_type": "display_data"
    }
   ],
   "source": [
    "# вызываем функцию для тарифа смарт по интернет-трафику\n",
    "column = smart_tariff['gb_used'] \n",
    "column_name = 'использовано Гб в месяц'\n",
    "data_stats(column, column_name) "
   ]
  },
  {
   "cell_type": "markdown",
   "metadata": {},
   "source": [
    "Здесь тоже видим нормальное распределение, при этом присутствуют и выбросы. Кто-то очень любит сидеть в интернете. При лимите 15Гб есть много людей, кто превышает лимит где-то в районе 20ГБ. Об том нам говорит и среднее значение- 16 Гб.\n",
    "\n",
    "Методом describe() посмотрим также минимальное и максимальное значения. Заодно проверим и другие показтели."
   ]
  },
  {
   "cell_type": "code",
   "execution_count": 27,
   "metadata": {},
   "outputs": [
    {
     "data": {
      "text/html": [
       "<div>\n",
       "<style scoped>\n",
       "    .dataframe tbody tr th:only-of-type {\n",
       "        vertical-align: middle;\n",
       "    }\n",
       "\n",
       "    .dataframe tbody tr th {\n",
       "        vertical-align: top;\n",
       "    }\n",
       "\n",
       "    .dataframe thead th {\n",
       "        text-align: right;\n",
       "    }\n",
       "</style>\n",
       "<table border=\"1\" class=\"dataframe\">\n",
       "  <thead>\n",
       "    <tr style=\"text-align: right;\">\n",
       "      <th></th>\n",
       "      <th>user_id</th>\n",
       "      <th>age</th>\n",
       "      <th>month</th>\n",
       "      <th>calls_count</th>\n",
       "      <th>duration</th>\n",
       "      <th>minutes_included</th>\n",
       "      <th>messages_count</th>\n",
       "      <th>messages_included</th>\n",
       "      <th>gb_used</th>\n",
       "      <th>gb_per_month_included</th>\n",
       "      <th>rub_monthly_fee</th>\n",
       "      <th>total_income</th>\n",
       "    </tr>\n",
       "  </thead>\n",
       "  <tbody>\n",
       "    <tr>\n",
       "      <th>count</th>\n",
       "      <td>2230.000000</td>\n",
       "      <td>2230.000000</td>\n",
       "      <td>2229.000000</td>\n",
       "      <td>2223.000000</td>\n",
       "      <td>2230.000000</td>\n",
       "      <td>2230.0</td>\n",
       "      <td>2230.000000</td>\n",
       "      <td>2230.0</td>\n",
       "      <td>2230.000000</td>\n",
       "      <td>2230.0</td>\n",
       "      <td>2230.0</td>\n",
       "      <td>2230.000000</td>\n",
       "    </tr>\n",
       "    <tr>\n",
       "      <th>mean</th>\n",
       "      <td>1246.562332</td>\n",
       "      <td>46.557848</td>\n",
       "      <td>8.346792</td>\n",
       "      <td>58.621233</td>\n",
       "      <td>417.747534</td>\n",
       "      <td>500.0</td>\n",
       "      <td>33.369058</td>\n",
       "      <td>50.0</td>\n",
       "      <td>16.321525</td>\n",
       "      <td>15.0</td>\n",
       "      <td>550.0</td>\n",
       "      <td>701.115247</td>\n",
       "    </tr>\n",
       "    <tr>\n",
       "      <th>std</th>\n",
       "      <td>146.110501</td>\n",
       "      <td>16.349865</td>\n",
       "      <td>2.920316</td>\n",
       "      <td>25.796101</td>\n",
       "      <td>190.476754</td>\n",
       "      <td>0.0</td>\n",
       "      <td>28.230396</td>\n",
       "      <td>0.0</td>\n",
       "      <td>5.756167</td>\n",
       "      <td>0.0</td>\n",
       "      <td>0.0</td>\n",
       "      <td>262.905805</td>\n",
       "    </tr>\n",
       "    <tr>\n",
       "      <th>min</th>\n",
       "      <td>1001.000000</td>\n",
       "      <td>18.000000</td>\n",
       "      <td>1.000000</td>\n",
       "      <td>1.000000</td>\n",
       "      <td>0.000000</td>\n",
       "      <td>500.0</td>\n",
       "      <td>0.000000</td>\n",
       "      <td>50.0</td>\n",
       "      <td>0.000000</td>\n",
       "      <td>15.0</td>\n",
       "      <td>550.0</td>\n",
       "      <td>550.000000</td>\n",
       "    </tr>\n",
       "    <tr>\n",
       "      <th>25%</th>\n",
       "      <td>1121.000000</td>\n",
       "      <td>32.000000</td>\n",
       "      <td>6.000000</td>\n",
       "      <td>40.000000</td>\n",
       "      <td>282.000000</td>\n",
       "      <td>500.0</td>\n",
       "      <td>10.000000</td>\n",
       "      <td>50.0</td>\n",
       "      <td>13.000000</td>\n",
       "      <td>15.0</td>\n",
       "      <td>550.0</td>\n",
       "      <td>550.000000</td>\n",
       "    </tr>\n",
       "    <tr>\n",
       "      <th>50%</th>\n",
       "      <td>1240.000000</td>\n",
       "      <td>47.000000</td>\n",
       "      <td>9.000000</td>\n",
       "      <td>60.000000</td>\n",
       "      <td>421.500000</td>\n",
       "      <td>500.0</td>\n",
       "      <td>28.000000</td>\n",
       "      <td>50.0</td>\n",
       "      <td>17.000000</td>\n",
       "      <td>15.0</td>\n",
       "      <td>550.0</td>\n",
       "      <td>574.000000</td>\n",
       "    </tr>\n",
       "    <tr>\n",
       "      <th>75%</th>\n",
       "      <td>1376.000000</td>\n",
       "      <td>62.000000</td>\n",
       "      <td>11.000000</td>\n",
       "      <td>76.000000</td>\n",
       "      <td>545.000000</td>\n",
       "      <td>500.0</td>\n",
       "      <td>51.000000</td>\n",
       "      <td>50.0</td>\n",
       "      <td>20.000000</td>\n",
       "      <td>15.0</td>\n",
       "      <td>550.0</td>\n",
       "      <td>729.250000</td>\n",
       "    </tr>\n",
       "    <tr>\n",
       "      <th>max</th>\n",
       "      <td>1499.000000</td>\n",
       "      <td>75.000000</td>\n",
       "      <td>12.000000</td>\n",
       "      <td>198.000000</td>\n",
       "      <td>1435.000000</td>\n",
       "      <td>500.0</td>\n",
       "      <td>143.000000</td>\n",
       "      <td>50.0</td>\n",
       "      <td>38.000000</td>\n",
       "      <td>15.0</td>\n",
       "      <td>550.0</td>\n",
       "      <td>3412.000000</td>\n",
       "    </tr>\n",
       "  </tbody>\n",
       "</table>\n",
       "</div>"
      ],
      "text/plain": [
       "           user_id          age        month  calls_count     duration  \\\n",
       "count  2230.000000  2230.000000  2229.000000  2223.000000  2230.000000   \n",
       "mean   1246.562332    46.557848     8.346792    58.621233   417.747534   \n",
       "std     146.110501    16.349865     2.920316    25.796101   190.476754   \n",
       "min    1001.000000    18.000000     1.000000     1.000000     0.000000   \n",
       "25%    1121.000000    32.000000     6.000000    40.000000   282.000000   \n",
       "50%    1240.000000    47.000000     9.000000    60.000000   421.500000   \n",
       "75%    1376.000000    62.000000    11.000000    76.000000   545.000000   \n",
       "max    1499.000000    75.000000    12.000000   198.000000  1435.000000   \n",
       "\n",
       "       minutes_included  messages_count  messages_included      gb_used  \\\n",
       "count            2230.0     2230.000000             2230.0  2230.000000   \n",
       "mean              500.0       33.369058               50.0    16.321525   \n",
       "std                 0.0       28.230396                0.0     5.756167   \n",
       "min               500.0        0.000000               50.0     0.000000   \n",
       "25%               500.0       10.000000               50.0    13.000000   \n",
       "50%               500.0       28.000000               50.0    17.000000   \n",
       "75%               500.0       51.000000               50.0    20.000000   \n",
       "max               500.0      143.000000               50.0    38.000000   \n",
       "\n",
       "       gb_per_month_included  rub_monthly_fee  total_income  \n",
       "count                 2230.0           2230.0   2230.000000  \n",
       "mean                    15.0            550.0    701.115247  \n",
       "std                      0.0              0.0    262.905805  \n",
       "min                     15.0            550.0    550.000000  \n",
       "25%                     15.0            550.0    550.000000  \n",
       "50%                     15.0            550.0    574.000000  \n",
       "75%                     15.0            550.0    729.250000  \n",
       "max                     15.0            550.0   3412.000000  "
      ]
     },
     "execution_count": 27,
     "metadata": {},
     "output_type": "execute_result"
    }
   ],
   "source": [
    "smart_tariff.describe()"
   ]
  },
  {
   "cell_type": "markdown",
   "metadata": {},
   "source": [
    "Теперь можно сделать следующий вывод: Типичный пользователь тарифа 'Smart' 32-62 лет(25-75 квартиль). Делает 60 звонков на 423 минут в месяц, при лимите 500 минут, использует 28 собщений из 50, и тратит на 2 гигабайта больше лимита. Вызывает интерес итоговый чек за месяц. При абонентской плате в 550 рублей больше 50% пользователей (медиана) платят больше - 574 рубля, среднее значение и того больше- 701 рубль. Есть и рекорд-  3412 рублей в месяц. \n",
    "\n",
    "Посмотрим подробнее на итоговый чек. Построим для начала ящик с усами по месяцам."
   ]
  },
  {
   "cell_type": "code",
   "execution_count": 28,
   "metadata": {},
   "outputs": [
    {
     "data": {
      "text/plain": [
       "(0.0, 2500.0)"
      ]
     },
     "execution_count": 28,
     "metadata": {},
     "output_type": "execute_result"
    },
    {
     "data": {
      "image/png": "[encoded data removed]",
      "text/plain": [
       "<Figure size 2160x720 with 1 Axes>"
      ]
     },
     "metadata": {
      "needs_background": "light"
     },
     "output_type": "display_data"
    }
   ],
   "source": [
    "# строим  боксплот по чекам за месяц. \n",
    "#Взяли ограничене по оси y 2500, т.к. при попытке построить в границах от 0 до максимальной суммы 3412 рублей, график становился неинформативным.\n",
    "smart_tariff.boxplot(column=['total_income'], by='month', return_type='axes', figsize=(30,10))\n",
    "plt.ylim(0, 2500) "
   ]
  },
  {
   "cell_type": "markdown",
   "metadata": {},
   "source": [
    "Смущает, что в январе и феврале значений мало. Возможно это новый тариф? Посчитаем количество платежей  по месяцам:"
   ]
  },
  {
   "cell_type": "code",
   "execution_count": 29,
   "metadata": {
    "scrolled": true
   },
   "outputs": [
    {
     "data": {
      "text/html": [
       "<div>\n",
       "<style scoped>\n",
       "    .dataframe tbody tr th:only-of-type {\n",
       "        vertical-align: middle;\n",
       "    }\n",
       "\n",
       "    .dataframe tbody tr th {\n",
       "        vertical-align: top;\n",
       "    }\n",
       "\n",
       "    .dataframe thead tr th {\n",
       "        text-align: left;\n",
       "    }\n",
       "\n",
       "    .dataframe thead tr:last-of-type th {\n",
       "        text-align: right;\n",
       "    }\n",
       "</style>\n",
       "<table border=\"1\" class=\"dataframe\">\n",
       "  <thead>\n",
       "    <tr>\n",
       "      <th></th>\n",
       "      <th>mean</th>\n",
       "      <th>count</th>\n",
       "      <th>median</th>\n",
       "    </tr>\n",
       "    <tr>\n",
       "      <th></th>\n",
       "      <th>total_income</th>\n",
       "      <th>total_income</th>\n",
       "      <th>total_income</th>\n",
       "    </tr>\n",
       "    <tr>\n",
       "      <th>month</th>\n",
       "      <th></th>\n",
       "      <th></th>\n",
       "      <th></th>\n",
       "    </tr>\n",
       "  </thead>\n",
       "  <tbody>\n",
       "    <tr>\n",
       "      <th>1.0</th>\n",
       "      <td>559.088235</td>\n",
       "      <td>34</td>\n",
       "      <td>550</td>\n",
       "    </tr>\n",
       "    <tr>\n",
       "      <th>2.0</th>\n",
       "      <td>603.431034</td>\n",
       "      <td>58</td>\n",
       "      <td>550</td>\n",
       "    </tr>\n",
       "    <tr>\n",
       "      <th>3.0</th>\n",
       "      <td>675.961039</td>\n",
       "      <td>77</td>\n",
       "      <td>571</td>\n",
       "    </tr>\n",
       "    <tr>\n",
       "      <th>4.0</th>\n",
       "      <td>646.482143</td>\n",
       "      <td>112</td>\n",
       "      <td>556</td>\n",
       "    </tr>\n",
       "    <tr>\n",
       "      <th>5.0</th>\n",
       "      <td>656.808511</td>\n",
       "      <td>141</td>\n",
       "      <td>571</td>\n",
       "    </tr>\n",
       "    <tr>\n",
       "      <th>6.0</th>\n",
       "      <td>663.469512</td>\n",
       "      <td>164</td>\n",
       "      <td>568</td>\n",
       "    </tr>\n",
       "    <tr>\n",
       "      <th>7.0</th>\n",
       "      <td>679.014925</td>\n",
       "      <td>201</td>\n",
       "      <td>577</td>\n",
       "    </tr>\n",
       "    <tr>\n",
       "      <th>8.0</th>\n",
       "      <td>700.255319</td>\n",
       "      <td>235</td>\n",
       "      <td>574</td>\n",
       "    </tr>\n",
       "    <tr>\n",
       "      <th>9.0</th>\n",
       "      <td>704.407692</td>\n",
       "      <td>260</td>\n",
       "      <td>574</td>\n",
       "    </tr>\n",
       "    <tr>\n",
       "      <th>10.0</th>\n",
       "      <td>710.867347</td>\n",
       "      <td>294</td>\n",
       "      <td>577</td>\n",
       "    </tr>\n",
       "    <tr>\n",
       "      <th>11.0</th>\n",
       "      <td>709.655063</td>\n",
       "      <td>316</td>\n",
       "      <td>580</td>\n",
       "    </tr>\n",
       "    <tr>\n",
       "      <th>12.0</th>\n",
       "      <td>788.192878</td>\n",
       "      <td>337</td>\n",
       "      <td>619</td>\n",
       "    </tr>\n",
       "  </tbody>\n",
       "</table>\n",
       "</div>"
      ],
      "text/plain": [
       "              mean        count       median\n",
       "      total_income total_income total_income\n",
       "month                                       \n",
       "1.0     559.088235           34          550\n",
       "2.0     603.431034           58          550\n",
       "3.0     675.961039           77          571\n",
       "4.0     646.482143          112          556\n",
       "5.0     656.808511          141          571\n",
       "6.0     663.469512          164          568\n",
       "7.0     679.014925          201          577\n",
       "8.0     700.255319          235          574\n",
       "9.0     704.407692          260          574\n",
       "10.0    710.867347          294          577\n",
       "11.0    709.655063          316          580\n",
       "12.0    788.192878          337          619"
      ]
     },
     "execution_count": 29,
     "metadata": {},
     "output_type": "execute_result"
    }
   ],
   "source": [
    "# строим сводную таблицу по количеству платежей в месяц. \n",
    "# заодно сделаем колонку подсчета медианы за месяц. На боксплоте видно, что они отличаются. Хочется конкретики.\n",
    "month_total_income_for_smart = smart_tariff.pivot_table(index = 'month', values = 'total_income', aggfunc = ['mean', 'count', 'median'])\n",
    "month_total_income_for_smart"
   ]
  },
  {
   "cell_type": "markdown",
   "metadata": {},
   "source": [
    "Да, можно видеть как количество клиентов стабильно увеличивалось к концу года. Также увеличивается и средний чек. Люди стабильно не укладываются в лимит. И происходит это из-за превышения лимита по интернету.\n",
    "\n",
    "### Поведение пользователей тарифа Ultra"
   ]
  },
  {
   "cell_type": "code",
   "execution_count": 30,
   "metadata": {},
   "outputs": [
    {
     "name": "stdout",
     "output_type": "stream",
     "text": [
      "<class 'pandas.core.frame.DataFrame'>\n",
      "Int64Index: 986 entries, 0 to 985\n",
      "Data columns (total 14 columns):\n",
      " #   Column                 Non-Null Count  Dtype         \n",
      "---  ------                 --------------  -----         \n",
      " 0   user_id                986 non-null    int64         \n",
      " 1   city                   986 non-null    object        \n",
      " 2   age                    986 non-null    int64         \n",
      " 3   reg_date               986 non-null    datetime64[ns]\n",
      " 4   churn_date             77 non-null     datetime64[ns]\n",
      " 5   month                  985 non-null    float64       \n",
      " 6   duration               986 non-null    int32         \n",
      " 7   minutes_included       986 non-null    int64         \n",
      " 8   messages_count         986 non-null    int32         \n",
      " 9   messages_included      986 non-null    int64         \n",
      " 10  gb_used                986 non-null    int32         \n",
      " 11  gb_per_month_included  986 non-null    float64       \n",
      " 12  rub_monthly_fee        986 non-null    int64         \n",
      " 13  total_income           986 non-null    int32         \n",
      "dtypes: datetime64[ns](2), float64(2), int32(4), int64(5), object(1)\n",
      "memory usage: 100.1+ KB\n"
     ]
    }
   ],
   "source": [
    "# Действуем по аналогии. Создаем срез по тарифу ультра и смотрим инфо\n",
    "ultra_tariff = (df[df['tariff'] == 'ultra']\n",
    "                           .loc[:,['user_id', 'city', 'age','reg_date', 'churn_date', 'month', 'duration', 'minutes_included',\n",
    "                                   'messages_count', 'messages_included', 'gb_used', 'gb_per_month_included', 'rub_monthly_fee', 'total_income']])\n",
    "ultra_tariff.info()"
   ]
  },
  {
   "cell_type": "code",
   "execution_count": 31,
   "metadata": {},
   "outputs": [
    {
     "name": "stdout",
     "output_type": "stream",
     "text": [
      "Среднее значение показателя составляет: 526.09\n",
      "Дисперсия показателя составляет: 101052.49\n",
      "Стандартное отклонение показателя составляет: 317.89\n"
     ]
    },
    {
     "data": {
      "image/png": "[encoded data removed]",
      "text/plain": [
       "<Figure size 360x360 with 1 Axes>"
      ]
     },
     "metadata": {
      "needs_background": "light"
     },
     "output_type": "display_data"
    }
   ],
   "source": [
    "# вызываем функцию для тарифа 'Ultra' по минутам    \n",
    "column = ultra_tariff['duration'] \n",
    "column_name = 'использовано минут в месяц'\n",
    "data_stats(column, column_name)  "
   ]
  },
  {
   "cell_type": "markdown",
   "metadata": {},
   "source": [
    "Видим нормальное распределение, скошенное вправо. В среднем пользователи тарифа 'Ultra' используют 526 минут, стандартное отклонение большое - 317 минут. "
   ]
  },
  {
   "cell_type": "code",
   "execution_count": 32,
   "metadata": {},
   "outputs": [
    {
     "name": "stdout",
     "output_type": "stream",
     "text": [
      "Среднее значение показателя составляет: 49.31\n",
      "Дисперсия показателя составляет: 2285.42\n",
      "Стандартное отклонение показателя составляет: 47.81\n"
     ]
    },
    {
     "data": {
      "image/png": "[encoded data removed]",
      "text/plain": [
       "<Figure size 360x360 with 1 Axes>"
      ]
     },
     "metadata": {
      "needs_background": "light"
     },
     "output_type": "display_data"
    }
   ],
   "source": [
    "# вызываем функцию для тарифа 'Ultra' по сообщениям   \n",
    "column = ultra_tariff['messages_count'] \n",
    "column_name = 'использовано сообщений в месяц'\n",
    "data_stats(column, column_name) "
   ]
  },
  {
   "cell_type": "markdown",
   "metadata": {},
   "source": [
    "Как и у тарифа 'smart' видим Пуассоновское распределение. В среднем используется 49 сообщений. Учитывая, что лимит для сообщений 3000, эта услуга не особо популярна у клиентов,редко кто пишет больше 200 сообщений. "
   ]
  },
  {
   "cell_type": "code",
   "execution_count": 33,
   "metadata": {},
   "outputs": [
    {
     "name": "stdout",
     "output_type": "stream",
     "text": [
      "Среднее значение показателя составляет: 19.47\n",
      "Дисперсия показателя составляет: 97.38\n",
      "Стандартное отклонение показателя составляет: 9.87\n"
     ]
    },
    {
     "data": {
      "image/png": "[encoded data removed]",
      "text/plain": [
       "<Figure size 360x360 with 1 Axes>"
      ]
     },
     "metadata": {
      "needs_background": "light"
     },
     "output_type": "display_data"
    }
   ],
   "source": [
    "# вызываем функцию для тарифа 'Ultra' по интернет-трафику  \n",
    "column = ultra_tariff['gb_used'] \n",
    "column_name = 'использовано Гб в месяц'\n",
    "data_stats(column, column_name) "
   ]
  },
  {
   "cell_type": "markdown",
   "metadata": {},
   "source": [
    "Тоже нормальное распределение, только значения побольше чем у тарифа 'smart'. Среднее значение для 'Ultra' 19,5ГБ. И это при лимите в 30ГБ! \n",
    "\n",
    "Исследуя поведение пользователей тарифа 'Smart' обнаружили, что тариф новый и  по количеству платежей в месяц имеет постоянный прирост. Сделаем то же и для тарифа 'Ultra'."
   ]
  },
  {
   "cell_type": "code",
   "execution_count": 34,
   "metadata": {},
   "outputs": [
    {
     "data": {
      "text/html": [
       "<div>\n",
       "<style scoped>\n",
       "    .dataframe tbody tr th:only-of-type {\n",
       "        vertical-align: middle;\n",
       "    }\n",
       "\n",
       "    .dataframe tbody tr th {\n",
       "        vertical-align: top;\n",
       "    }\n",
       "\n",
       "    .dataframe thead tr th {\n",
       "        text-align: left;\n",
       "    }\n",
       "\n",
       "    .dataframe thead tr:last-of-type th {\n",
       "        text-align: right;\n",
       "    }\n",
       "</style>\n",
       "<table border=\"1\" class=\"dataframe\">\n",
       "  <thead>\n",
       "    <tr>\n",
       "      <th></th>\n",
       "      <th>count</th>\n",
       "      <th>mean</th>\n",
       "      <th>median</th>\n",
       "      <th>min</th>\n",
       "      <th>max</th>\n",
       "    </tr>\n",
       "    <tr>\n",
       "      <th></th>\n",
       "      <th>total_income</th>\n",
       "      <th>total_income</th>\n",
       "      <th>total_income</th>\n",
       "      <th>total_income</th>\n",
       "      <th>total_income</th>\n",
       "    </tr>\n",
       "    <tr>\n",
       "      <th>month</th>\n",
       "      <th></th>\n",
       "      <th></th>\n",
       "      <th></th>\n",
       "      <th></th>\n",
       "      <th></th>\n",
       "    </tr>\n",
       "  </thead>\n",
       "  <tbody>\n",
       "    <tr>\n",
       "      <th>1.0</th>\n",
       "      <td>9</td>\n",
       "      <td>1950.000000</td>\n",
       "      <td>1950</td>\n",
       "      <td>1950</td>\n",
       "      <td>1950</td>\n",
       "    </tr>\n",
       "    <tr>\n",
       "      <th>2.0</th>\n",
       "      <td>24</td>\n",
       "      <td>1950.166667</td>\n",
       "      <td>1950</td>\n",
       "      <td>1950</td>\n",
       "      <td>1952</td>\n",
       "    </tr>\n",
       "    <tr>\n",
       "      <th>3.0</th>\n",
       "      <td>37</td>\n",
       "      <td>1950.432432</td>\n",
       "      <td>1950</td>\n",
       "      <td>1950</td>\n",
       "      <td>1957</td>\n",
       "    </tr>\n",
       "    <tr>\n",
       "      <th>4.0</th>\n",
       "      <td>55</td>\n",
       "      <td>1950.345455</td>\n",
       "      <td>1950</td>\n",
       "      <td>1950</td>\n",
       "      <td>1957</td>\n",
       "    </tr>\n",
       "    <tr>\n",
       "      <th>5.0</th>\n",
       "      <td>67</td>\n",
       "      <td>1950.731343</td>\n",
       "      <td>1950</td>\n",
       "      <td>1950</td>\n",
       "      <td>1963</td>\n",
       "    </tr>\n",
       "    <tr>\n",
       "      <th>6.0</th>\n",
       "      <td>84</td>\n",
       "      <td>1950.595238</td>\n",
       "      <td>1950</td>\n",
       "      <td>1950</td>\n",
       "      <td>1962</td>\n",
       "    </tr>\n",
       "    <tr>\n",
       "      <th>7.0</th>\n",
       "      <td>91</td>\n",
       "      <td>1951.120879</td>\n",
       "      <td>1950</td>\n",
       "      <td>1950</td>\n",
       "      <td>1965</td>\n",
       "    </tr>\n",
       "    <tr>\n",
       "      <th>8.0</th>\n",
       "      <td>107</td>\n",
       "      <td>1950.887850</td>\n",
       "      <td>1950</td>\n",
       "      <td>1950</td>\n",
       "      <td>1968</td>\n",
       "    </tr>\n",
       "    <tr>\n",
       "      <th>9.0</th>\n",
       "      <td>115</td>\n",
       "      <td>1950.495652</td>\n",
       "      <td>1950</td>\n",
       "      <td>1950</td>\n",
       "      <td>1962</td>\n",
       "    </tr>\n",
       "    <tr>\n",
       "      <th>10.0</th>\n",
       "      <td>123</td>\n",
       "      <td>1950.772358</td>\n",
       "      <td>1950</td>\n",
       "      <td>1950</td>\n",
       "      <td>1969</td>\n",
       "    </tr>\n",
       "    <tr>\n",
       "      <th>11.0</th>\n",
       "      <td>134</td>\n",
       "      <td>1950.947761</td>\n",
       "      <td>1950</td>\n",
       "      <td>1950</td>\n",
       "      <td>1964</td>\n",
       "    </tr>\n",
       "    <tr>\n",
       "      <th>12.0</th>\n",
       "      <td>139</td>\n",
       "      <td>1951.258993</td>\n",
       "      <td>1950</td>\n",
       "      <td>1950</td>\n",
       "      <td>1963</td>\n",
       "    </tr>\n",
       "  </tbody>\n",
       "</table>\n",
       "</div>"
      ],
      "text/plain": [
       "             count         mean       median          min          max\n",
       "      total_income total_income total_income total_income total_income\n",
       "month                                                                 \n",
       "1.0              9  1950.000000         1950         1950         1950\n",
       "2.0             24  1950.166667         1950         1950         1952\n",
       "3.0             37  1950.432432         1950         1950         1957\n",
       "4.0             55  1950.345455         1950         1950         1957\n",
       "5.0             67  1950.731343         1950         1950         1963\n",
       "6.0             84  1950.595238         1950         1950         1962\n",
       "7.0             91  1951.120879         1950         1950         1965\n",
       "8.0            107  1950.887850         1950         1950         1968\n",
       "9.0            115  1950.495652         1950         1950         1962\n",
       "10.0           123  1950.772358         1950         1950         1969\n",
       "11.0           134  1950.947761         1950         1950         1964\n",
       "12.0           139  1951.258993         1950         1950         1963"
      ]
     },
     "execution_count": 34,
     "metadata": {},
     "output_type": "execute_result"
    }
   ],
   "source": [
    "# Построим сводную таблицу по количеству платежей в месяц. \n",
    "# Заодно сделаем колонку подсчета медианы, минимального  и максимального значения за месяц.\n",
    "month_total_income_for_ultra = ultra_tariff.pivot_table(index = 'month', values = 'total_income', aggfunc = ['count', 'mean', 'median','min', 'max'])\n",
    "month_total_income_for_ultra"
   ]
  },
  {
   "cell_type": "markdown",
   "metadata": {},
   "source": [
    "Да, картина такая же. К концу года пользователей стало больше.\n",
    "\n",
    "Теперь применим метод describe() ко всей таблице 'Ultra'. посмотрим среднее, медиану, минимальное и максимальное значения."
   ]
  },
  {
   "cell_type": "code",
   "execution_count": 35,
   "metadata": {},
   "outputs": [
    {
     "data": {
      "text/html": [
       "<div>\n",
       "<style scoped>\n",
       "    .dataframe tbody tr th:only-of-type {\n",
       "        vertical-align: middle;\n",
       "    }\n",
       "\n",
       "    .dataframe tbody tr th {\n",
       "        vertical-align: top;\n",
       "    }\n",
       "\n",
       "    .dataframe thead th {\n",
       "        text-align: right;\n",
       "    }\n",
       "</style>\n",
       "<table border=\"1\" class=\"dataframe\">\n",
       "  <thead>\n",
       "    <tr style=\"text-align: right;\">\n",
       "      <th></th>\n",
       "      <th>user_id</th>\n",
       "      <th>age</th>\n",
       "      <th>month</th>\n",
       "      <th>duration</th>\n",
       "      <th>minutes_included</th>\n",
       "      <th>messages_count</th>\n",
       "      <th>messages_included</th>\n",
       "      <th>gb_used</th>\n",
       "      <th>gb_per_month_included</th>\n",
       "      <th>rub_monthly_fee</th>\n",
       "      <th>total_income</th>\n",
       "    </tr>\n",
       "  </thead>\n",
       "  <tbody>\n",
       "    <tr>\n",
       "      <th>count</th>\n",
       "      <td>986.000000</td>\n",
       "      <td>986.000000</td>\n",
       "      <td>985.000000</td>\n",
       "      <td>986.000000</td>\n",
       "      <td>986.0</td>\n",
       "      <td>986.000000</td>\n",
       "      <td>986.0</td>\n",
       "      <td>986.000000</td>\n",
       "      <td>986.0</td>\n",
       "      <td>986.0</td>\n",
       "      <td>986.000000</td>\n",
       "    </tr>\n",
       "    <tr>\n",
       "      <th>mean</th>\n",
       "      <td>1262.957404</td>\n",
       "      <td>46.838742</td>\n",
       "      <td>8.250761</td>\n",
       "      <td>526.089249</td>\n",
       "      <td>3000.0</td>\n",
       "      <td>49.313387</td>\n",
       "      <td>1000.0</td>\n",
       "      <td>19.474645</td>\n",
       "      <td>30.0</td>\n",
       "      <td>1950.0</td>\n",
       "      <td>1950.800203</td>\n",
       "    </tr>\n",
       "    <tr>\n",
       "      <th>std</th>\n",
       "      <td>140.689268</td>\n",
       "      <td>17.099807</td>\n",
       "      <td>2.871762</td>\n",
       "      <td>317.887549</td>\n",
       "      <td>0.0</td>\n",
       "      <td>47.806040</td>\n",
       "      <td>0.0</td>\n",
       "      <td>9.868057</td>\n",
       "      <td>0.0</td>\n",
       "      <td>0.0</td>\n",
       "      <td>2.506771</td>\n",
       "    </tr>\n",
       "    <tr>\n",
       "      <th>min</th>\n",
       "      <td>1000.000000</td>\n",
       "      <td>18.000000</td>\n",
       "      <td>1.000000</td>\n",
       "      <td>0.000000</td>\n",
       "      <td>3000.0</td>\n",
       "      <td>0.000000</td>\n",
       "      <td>1000.0</td>\n",
       "      <td>0.000000</td>\n",
       "      <td>30.0</td>\n",
       "      <td>1950.0</td>\n",
       "      <td>1950.000000</td>\n",
       "    </tr>\n",
       "    <tr>\n",
       "      <th>25%</th>\n",
       "      <td>1143.000000</td>\n",
       "      <td>30.000000</td>\n",
       "      <td>6.000000</td>\n",
       "      <td>282.500000</td>\n",
       "      <td>3000.0</td>\n",
       "      <td>6.000000</td>\n",
       "      <td>1000.0</td>\n",
       "      <td>12.000000</td>\n",
       "      <td>30.0</td>\n",
       "      <td>1950.0</td>\n",
       "      <td>1950.000000</td>\n",
       "    </tr>\n",
       "    <tr>\n",
       "      <th>50%</th>\n",
       "      <td>1277.000000</td>\n",
       "      <td>45.000000</td>\n",
       "      <td>9.000000</td>\n",
       "      <td>518.000000</td>\n",
       "      <td>3000.0</td>\n",
       "      <td>38.000000</td>\n",
       "      <td>1000.0</td>\n",
       "      <td>19.000000</td>\n",
       "      <td>30.0</td>\n",
       "      <td>1950.0</td>\n",
       "      <td>1950.000000</td>\n",
       "    </tr>\n",
       "    <tr>\n",
       "      <th>75%</th>\n",
       "      <td>1381.000000</td>\n",
       "      <td>63.000000</td>\n",
       "      <td>11.000000</td>\n",
       "      <td>751.750000</td>\n",
       "      <td>3000.0</td>\n",
       "      <td>78.750000</td>\n",
       "      <td>1000.0</td>\n",
       "      <td>27.000000</td>\n",
       "      <td>30.0</td>\n",
       "      <td>1950.0</td>\n",
       "      <td>1950.000000</td>\n",
       "    </tr>\n",
       "    <tr>\n",
       "      <th>max</th>\n",
       "      <td>1495.000000</td>\n",
       "      <td>75.000000</td>\n",
       "      <td>12.000000</td>\n",
       "      <td>1673.000000</td>\n",
       "      <td>3000.0</td>\n",
       "      <td>224.000000</td>\n",
       "      <td>1000.0</td>\n",
       "      <td>49.000000</td>\n",
       "      <td>30.0</td>\n",
       "      <td>1950.0</td>\n",
       "      <td>1969.000000</td>\n",
       "    </tr>\n",
       "  </tbody>\n",
       "</table>\n",
       "</div>"
      ],
      "text/plain": [
       "           user_id         age       month     duration  minutes_included  \\\n",
       "count   986.000000  986.000000  985.000000   986.000000             986.0   \n",
       "mean   1262.957404   46.838742    8.250761   526.089249            3000.0   \n",
       "std     140.689268   17.099807    2.871762   317.887549               0.0   \n",
       "min    1000.000000   18.000000    1.000000     0.000000            3000.0   \n",
       "25%    1143.000000   30.000000    6.000000   282.500000            3000.0   \n",
       "50%    1277.000000   45.000000    9.000000   518.000000            3000.0   \n",
       "75%    1381.000000   63.000000   11.000000   751.750000            3000.0   \n",
       "max    1495.000000   75.000000   12.000000  1673.000000            3000.0   \n",
       "\n",
       "       messages_count  messages_included     gb_used  gb_per_month_included  \\\n",
       "count      986.000000              986.0  986.000000                  986.0   \n",
       "mean        49.313387             1000.0   19.474645                   30.0   \n",
       "std         47.806040                0.0    9.868057                    0.0   \n",
       "min          0.000000             1000.0    0.000000                   30.0   \n",
       "25%          6.000000             1000.0   12.000000                   30.0   \n",
       "50%         38.000000             1000.0   19.000000                   30.0   \n",
       "75%         78.750000             1000.0   27.000000                   30.0   \n",
       "max        224.000000             1000.0   49.000000                   30.0   \n",
       "\n",
       "       rub_monthly_fee  total_income  \n",
       "count            986.0    986.000000  \n",
       "mean            1950.0   1950.800203  \n",
       "std                0.0      2.506771  \n",
       "min             1950.0   1950.000000  \n",
       "25%             1950.0   1950.000000  \n",
       "50%             1950.0   1950.000000  \n",
       "75%             1950.0   1950.000000  \n",
       "max             1950.0   1969.000000  "
      ]
     },
     "execution_count": 35,
     "metadata": {},
     "output_type": "execute_result"
    }
   ],
   "source": [
    "ultra_tariff.describe()"
   ]
  },
  {
   "cell_type": "markdown",
   "metadata": {},
   "source": [
    "Типичный пользователь тарифа 'ultra' 30-63 лет(25-75 квартиль). Наговаривает в среднем 529-547 минут в месяц, при лимите в 3000 минут, использует смешные 38 собщений из 1000, и тратит 19 из 30 гигабайт трафика. Если брать от 25 до 75 квартиля, то от 12 до 27 гигабайт, т.е чаще всего укладывается в  щедрый лимит тарифа. Поэтому переплат у использующих 'ultra' практически нет и они платят стабильно 1950 в месяц. Однако переплаты случаются и, судя по данным максимальных значений минут, сообщений и трафика, это происходит из-за долгого серфинга в сети. \n",
    "\n",
    "## Проверка гипотез\n",
    "\n",
    "Задачей исследования было проверить 2 гипотезы:\n",
    "\n",
    "- средняя выручка пользователей тарифов «Ультра» и «Смарт» различаются;\n",
    "- средняя выручка пользователей из Москвы отличается от выручки пользователей из других регионов.\n",
    "\n",
    "Соответственно проверку гипотез будем осуществлять по главному показателю- среднему доходу от клиентов каждого тарифа.\n",
    "\n",
    "###  Доход от  всех пользователей тарифов «Ультра» и «Смарт»\n",
    "\n",
    "За нулевую гипотезу возьмем \"Средняя выручка пользователей тарифов «Ультра» и «Смарт» не различается\".\n",
    "Альтернативная: \"Средняя выручка пользователей тарифов «Ультра» и «Смарт» различается\".\n",
    "\n",
    "В Python есть специальный метод для проверки гипотезы о равенстве среднего двух генеральных совокупностей по взятым из них выборкам:scipy.stats.ttest_ind. Воспользуемся им."
   ]
  },
  {
   "cell_type": "code",
   "execution_count": 36,
   "metadata": {},
   "outputs": [
    {
     "name": "stdout",
     "output_type": "stream",
     "text": [
      "p-значение:total_income 0.0\n",
      "Отвергаем нулевую гипотезу\n",
      "_______________________________________________\n",
      "Средняя выручка по пользователям тарифа \"Smart\" - 701.12\n",
      "Средняя выручка по пользователям тарифа \"Ultra\" - 1950.80\n"
     ]
    }
   ],
   "source": [
    "alpha = .01 # критический уровень статистической значимости\n",
    "# если p-value окажется меньше него - отвергнем гипотезу\n",
    "\n",
    "results = st.ttest_ind(\n",
    "    ultra_tariff['total_income'], \n",
    "    smart_tariff['total_income'])\n",
    "\n",
    "print('p-значение:total_income', results.pvalue)\n",
    "\n",
    "if results.pvalue < alpha:\n",
    "    \n",
    "   \n",
    "    print(\"Отвергаем нулевую гипотезу\")\n",
    "else:\n",
    "    print(\"Не получилось отвергнуть нулевую гипотезу\") \n",
    "# тут я засомневалась, что почему-то получила p-value = 0. \n",
    "# Поэтому проверка, что срезы данных были адекватные:\n",
    "print('_______________________________________________')\n",
    "print('Средняя выручка по пользователям тарифа \"Smart\" - {:.2f}'.format(smart_tariff['total_income'].mean()))\n",
    "print('Средняя выручка по пользователям тарифа \"Ultra\" - {:.2f}'.format(ultra_tariff['total_income'].mean()))"
   ]
  },
  {
   "cell_type": "markdown",
   "metadata": {},
   "source": [
    "Мы отвергаем нулевую гипотезу в пользу альтернативной. Средняя выручка пользователей тарифов «Ультра» и «Смарт» действительно различаются.\n",
    "\n",
    "###  Доход от  Москвы vc Другие регионы.\n",
    "\n",
    "За нулевую гипотезу возьмем \"Средняя выручка пользователей из Москвы и других регионов одинаковы\".\n",
    "Альтернативная: \"Средняя выручка пользователей из Москвы и других регионов различается\".\n",
    "Сделаем срезы из основной таблицы, далее действуем по аналогии с предыдущими расчетами."
   ]
  },
  {
   "cell_type": "code",
   "execution_count": 37,
   "metadata": {},
   "outputs": [
    {
     "name": "stdout",
     "output_type": "stream",
     "text": [
      "p-значение:total_income 0.002037904768927925\n",
      "Отвергаем нулевую гипотезу\n",
      "_______________________________________________\n",
      "Средняя выручка по пользователям из Москвы- 1153.46\n",
      "Средняя выручка по пользователям из других регионов - 1068.03\n"
     ]
    }
   ],
   "source": [
    " mean_income_for_moscow = df.query('city == \"Москва\"')\n",
    " mean_income_for_regions = df.query('city != \"Москва\"')\n",
    "\n",
    "alpha = .01 # критический уровень статистической значимости\n",
    "# если p-value окажется меньше него - отвергнем гипотезу\n",
    "\n",
    "results = st.ttest_ind(\n",
    "    mean_income_for_moscow['total_income'], \n",
    "    mean_income_for_regions['total_income'])\n",
    "\n",
    "print('p-значение:total_income', results.pvalue)\n",
    "\n",
    "if results.pvalue < alpha:\n",
    "    print(\"Отвергаем нулевую гипотезу\")\n",
    "else:\n",
    "    print(\"Не получилось отвергнуть нулевую гипотезу\") \n",
    "    \n",
    "# Проверка(лучший друг параноика):\n",
    "print('_______________________________________________')\n",
    "print('Средняя выручка по пользователям из Москвы- {:.2f}'.format(mean_income_for_moscow['total_income'].mean()))\n",
    "print('Средняя выручка по пользователям из других регионов - {:.2f}'.format(mean_income_for_regions['total_income'].mean()))\n",
    "# Получили ненулевое p-value -Ура! Оно всё работает:)"
   ]
  },
  {
   "cell_type": "markdown",
   "metadata": {},
   "source": [
    "Принимаем Альтернативную гипотезу- \"Средняя выручка пользователей из Москвы и других регионов различается\". Тест двусторонний и не дает ответа как именно они отличаються и кто платит больше, москвичи или клиенты из региона, но мы при проверке подсмотрели цифры. Клиенты \"Мегалайн\" из Москвы в среднем тратят больше.\n",
    "\n",
    "## Общий вывод\n",
    "\n",
    "Для исследования нам было предоставленно 5 отдельных таблиц, содержащие данные о клиентах, оказанных им услугах и условиях тарифов.  Из проблем в данных нашли, что колонки, содержащие даты, были переданы в неверном формате- object. Необоснованных пропусков, а также дубликатов в данных не было. Для таблицы 'messages' данные выгружены только за 364 дня. Во время предобработки данных заменили тип данных на нужный, пересчитали в таблице тарифов значения, указанные в мегабайтах на гигабайты и переименовали колонки для удобства дальнейшей работы. Округлили время звонков до целых минут(по условию).\n",
    "\n",
    "При предварительном анализе данных было выявленно, что таблицы содержат данные о 500 клиентах, пользующихся двумя тарифами Ультра и Смарт. При более детальном изучении поведения пользователей каждого из тарифов отметили интересную особенность: Похоже оба тарифа появились только в 2018 году и активно прирастают новыми клиентами. Но, тем не менее, соотношение в пользу тарифа Smart. Его выбирают 70% клиентов и это легко объяснимо. Абонентская плата гораздо меньше. Всего 550 рублей против 1950 рублей тарифа Ultra. Исследуя поведение пользователей пришли к выводу, что выбираяя тариф с меньшей абоненской платой и небольшим лимитом услуг пользователи стабильно не укладываются в этот самый лимит по минутам и гигабайтам и  перплачивают. А те, кто выбрал дорогой тариф с большим лимитом, зачастую платят только абонентскую плату и не успевают использовать все возможности своего тарифа.\n",
    "\n",
    "Задачей исследования было ответить на 2 вопроса:\n",
    "1) Средняя выручка пользователей тарифов «Ультра» и «Смарт» различаются;\n",
    "2) Средняя выручка пользователей из Москвы отличается от выручки пользователей из других регионов.\n",
    "Проведя статистический анализ мы приняли Альтернативную гипотезу и делаем вывод, что выручка от пользователей тарифов «Ультра» и «Смарт» различается,  также отличается выручка от клиентов из Москвы, по сравнению с другими регионами."
   ]
  },
  {
   "cell_type": "code",
   "execution_count": null,
   "metadata": {},
   "outputs": [],
   "source": []
  }
 ],
 "metadata": {
  "ExecuteTimeLog": [
   {
    "duration": 90,
    "start_time": "2022-03-06T12:04:44.094Z"
   },
   {
    "duration": 1484,
    "start_time": "2022-03-06T12:05:53.142Z"
   },
   {
    "duration": 1929,
    "start_time": "2022-03-06T12:06:09.422Z"
   },
   {
    "duration": 224,
    "start_time": "2022-03-06T12:06:12.319Z"
   },
   {
    "duration": 3,
    "start_time": "2022-03-06T12:06:48.786Z"
   },
   {
    "duration": 4,
    "start_time": "2022-03-06T12:07:06.945Z"
   },
   {
    "duration": 1698,
    "start_time": "2022-03-06T12:07:08.161Z"
   },
   {
    "duration": 3,
    "start_time": "2022-03-06T12:07:55.186Z"
   },
   {
    "duration": 1802,
    "start_time": "2022-03-06T12:08:01.626Z"
   },
   {
    "duration": 233,
    "start_time": "2022-03-06T12:08:13.126Z"
   },
   {
    "duration": 92,
    "start_time": "2022-03-06T12:09:12.712Z"
   },
   {
    "duration": 26,
    "start_time": "2022-03-06T12:09:51.394Z"
   },
   {
    "duration": 27,
    "start_time": "2022-03-06T12:09:52.918Z"
   },
   {
    "duration": 4,
    "start_time": "2022-03-06T12:09:56.109Z"
   },
   {
    "duration": 198,
    "start_time": "2022-03-06T12:10:00.781Z"
   },
   {
    "duration": 163,
    "start_time": "2022-03-06T12:10:06.382Z"
   },
   {
    "duration": 31,
    "start_time": "2022-03-06T12:10:07.584Z"
   },
   {
    "duration": 78,
    "start_time": "2022-03-06T12:10:09.278Z"
   },
   {
    "duration": 12,
    "start_time": "2022-03-06T12:10:17.304Z"
   },
   {
    "duration": 115,
    "start_time": "2022-03-06T12:11:16.065Z"
   },
   {
    "duration": 27,
    "start_time": "2022-03-06T12:11:24.284Z"
   },
   {
    "duration": 96,
    "start_time": "2022-03-06T12:11:45.160Z"
   },
   {
    "duration": 3,
    "start_time": "2022-03-06T12:11:56.386Z"
   },
   {
    "duration": 1691,
    "start_time": "2022-03-06T12:12:07.417Z"
   },
   {
    "duration": 13,
    "start_time": "2022-03-06T12:12:25.085Z"
   },
   {
    "duration": 19,
    "start_time": "2022-03-06T12:12:26.682Z"
   },
   {
    "duration": 22,
    "start_time": "2022-03-06T12:12:57.123Z"
   },
   {
    "duration": 5,
    "start_time": "2022-03-06T12:13:17.139Z"
   },
   {
    "duration": 258,
    "start_time": "2022-03-06T12:13:47.724Z"
   },
   {
    "duration": 89,
    "start_time": "2022-03-06T12:14:08.904Z"
   },
   {
    "duration": 6,
    "start_time": "2022-03-06T12:14:15.625Z"
   },
   {
    "duration": 22,
    "start_time": "2022-03-06T12:14:22.758Z"
   },
   {
    "duration": 68,
    "start_time": "2022-03-06T12:14:47.581Z"
   },
   {
    "duration": 71,
    "start_time": "2022-03-06T12:15:00.775Z"
   },
   {
    "duration": 75,
    "start_time": "2022-03-06T12:15:08.256Z"
   },
   {
    "duration": 14,
    "start_time": "2022-03-06T12:15:28.630Z"
   },
   {
    "duration": 14,
    "start_time": "2022-03-06T12:15:47.543Z"
   },
   {
    "duration": 20,
    "start_time": "2022-03-06T12:16:11.873Z"
   },
   {
    "duration": 39,
    "start_time": "2022-03-06T12:16:39.559Z"
   },
   {
    "duration": 43,
    "start_time": "2022-03-06T12:16:48.658Z"
   },
   {
    "duration": 9,
    "start_time": "2022-03-06T12:17:18.882Z"
   },
   {
    "duration": 467,
    "start_time": "2022-03-06T12:18:01.900Z"
   },
   {
    "duration": 34,
    "start_time": "2022-03-06T12:18:37.319Z"
   },
   {
    "duration": 30,
    "start_time": "2022-03-06T12:19:00.017Z"
   },
   {
    "duration": 57,
    "start_time": "2022-03-06T12:19:23.019Z"
   },
   {
    "duration": 14,
    "start_time": "2022-03-06T12:19:41.627Z"
   },
   {
    "duration": 971,
    "start_time": "2022-03-06T12:20:09.283Z"
   },
   {
    "duration": 269,
    "start_time": "2022-03-06T12:20:42.584Z"
   },
   {
    "duration": 30,
    "start_time": "2022-03-06T12:21:02.209Z"
   },
   {
    "duration": 57,
    "start_time": "2022-03-06T12:21:03.186Z"
   },
   {
    "duration": 13,
    "start_time": "2022-03-06T12:21:04.720Z"
   },
   {
    "duration": 989,
    "start_time": "2022-03-06T12:21:06.093Z"
   },
   {
    "duration": 274,
    "start_time": "2022-03-06T12:21:08.623Z"
   },
   {
    "duration": 2995,
    "start_time": "2022-03-06T12:21:36.805Z"
   },
   {
    "duration": 22,
    "start_time": "2022-03-06T12:21:51.005Z"
   },
   {
    "duration": 32,
    "start_time": "2022-03-06T12:22:16.234Z"
   },
   {
    "duration": 93,
    "start_time": "2022-03-06T12:22:49.831Z"
   },
   {
    "duration": 86,
    "start_time": "2022-03-06T12:22:53.293Z"
   },
   {
    "duration": 14,
    "start_time": "2022-03-06T12:23:05.600Z"
   },
   {
    "duration": 13,
    "start_time": "2022-03-06T12:23:10.489Z"
   },
   {
    "duration": 25,
    "start_time": "2022-03-06T12:23:32.927Z"
   },
   {
    "duration": 61,
    "start_time": "2022-03-06T12:23:44.313Z"
   },
   {
    "duration": 1373,
    "start_time": "2022-03-07T05:40:46.639Z"
   },
   {
    "duration": 24,
    "start_time": "2022-03-07T05:40:48.015Z"
   },
   {
    "duration": 353,
    "start_time": "2022-03-07T05:47:31.370Z"
   },
   {
    "duration": 261,
    "start_time": "2022-03-07T05:47:59.968Z"
   },
   {
    "duration": 44,
    "start_time": "2022-03-07T05:48:31.488Z"
   },
   {
    "duration": 4,
    "start_time": "2022-03-07T05:53:18.196Z"
   },
   {
    "duration": 5,
    "start_time": "2022-03-07T05:57:08.381Z"
   },
   {
    "duration": 247,
    "start_time": "2022-03-07T05:58:14.456Z"
   },
   {
    "duration": 191,
    "start_time": "2022-03-07T05:58:19.198Z"
   },
   {
    "duration": 251,
    "start_time": "2022-03-07T05:58:23.085Z"
   },
   {
    "duration": 263,
    "start_time": "2022-03-07T05:58:35.541Z"
   },
   {
    "duration": 253,
    "start_time": "2022-03-07T05:58:49.977Z"
   },
   {
    "duration": 254,
    "start_time": "2022-03-07T05:58:58.188Z"
   },
   {
    "duration": 151,
    "start_time": "2022-03-07T06:00:37.345Z"
   },
   {
    "duration": 38,
    "start_time": "2022-03-07T06:00:39.687Z"
   },
   {
    "duration": 34,
    "start_time": "2022-03-07T06:00:53.546Z"
   },
   {
    "duration": 5,
    "start_time": "2022-03-07T06:01:06.598Z"
   },
   {
    "duration": 36,
    "start_time": "2022-03-07T06:01:14.332Z"
   },
   {
    "duration": 181,
    "start_time": "2022-03-07T06:01:26.176Z"
   },
   {
    "duration": 280,
    "start_time": "2022-03-07T06:01:26.875Z"
   },
   {
    "duration": 5,
    "start_time": "2022-03-07T06:01:33.463Z"
   },
   {
    "duration": 23,
    "start_time": "2022-03-07T06:01:34.784Z"
   },
   {
    "duration": 40,
    "start_time": "2022-03-07T06:01:35.587Z"
   },
   {
    "duration": 187,
    "start_time": "2022-03-07T06:02:50.588Z"
   },
   {
    "duration": 242,
    "start_time": "2022-03-07T06:03:46.017Z"
   },
   {
    "duration": 100,
    "start_time": "2022-03-07T06:03:50.888Z"
   },
   {
    "duration": 135,
    "start_time": "2022-03-07T06:03:51.601Z"
   },
   {
    "duration": 37,
    "start_time": "2022-03-07T06:05:15.058Z"
   },
   {
    "duration": 141,
    "start_time": "2022-03-07T06:05:51.521Z"
   },
   {
    "duration": 93,
    "start_time": "2022-03-07T06:07:44.531Z"
   },
   {
    "duration": 96,
    "start_time": "2022-03-07T06:08:21.104Z"
   },
   {
    "duration": 110,
    "start_time": "2022-03-07T06:08:36.646Z"
   },
   {
    "duration": 128,
    "start_time": "2022-03-07T06:08:45.956Z"
   },
   {
    "duration": 151,
    "start_time": "2022-03-07T06:09:06.781Z"
   },
   {
    "duration": 76,
    "start_time": "2022-03-07T06:10:20.037Z"
   },
   {
    "duration": 90,
    "start_time": "2022-03-07T06:10:35.902Z"
   },
   {
    "duration": 321,
    "start_time": "2022-03-07T06:12:20.685Z"
   },
   {
    "duration": 5,
    "start_time": "2022-03-07T06:12:30.983Z"
   },
   {
    "duration": 23,
    "start_time": "2022-03-07T06:12:30.994Z"
   },
   {
    "duration": 40,
    "start_time": "2022-03-07T06:12:31.020Z"
   },
   {
    "duration": 200,
    "start_time": "2022-03-07T06:12:31.063Z"
   },
   {
    "duration": 171,
    "start_time": "2022-03-07T06:12:31.266Z"
   },
   {
    "duration": 171,
    "start_time": "2022-03-07T06:12:31.440Z"
   },
   {
    "duration": 143,
    "start_time": "2022-03-07T06:12:31.614Z"
   },
   {
    "duration": 16,
    "start_time": "2022-03-07T06:12:31.759Z"
   },
   {
    "duration": 132,
    "start_time": "2022-03-07T06:12:31.778Z"
   },
   {
    "duration": 88,
    "start_time": "2022-03-07T06:12:31.912Z"
   },
   {
    "duration": 12,
    "start_time": "2022-03-07T06:12:32.003Z"
   },
   {
    "duration": 19,
    "start_time": "2022-03-07T06:12:32.018Z"
   },
   {
    "duration": 20,
    "start_time": "2022-03-07T06:12:37.320Z"
   },
   {
    "duration": 5,
    "start_time": "2022-03-07T06:12:58.440Z"
   },
   {
    "duration": 24,
    "start_time": "2022-03-07T06:13:02.374Z"
   },
   {
    "duration": 41,
    "start_time": "2022-03-07T06:13:03.036Z"
   },
   {
    "duration": 185,
    "start_time": "2022-03-07T06:13:05.944Z"
   },
   {
    "duration": 133,
    "start_time": "2022-03-07T06:13:06.244Z"
   },
   {
    "duration": 5,
    "start_time": "2022-03-07T06:13:14.193Z"
   },
   {
    "duration": 18,
    "start_time": "2022-03-07T06:13:17.303Z"
   },
   {
    "duration": 38,
    "start_time": "2022-03-07T06:13:17.996Z"
   },
   {
    "duration": 207,
    "start_time": "2022-03-07T06:15:10.466Z"
   },
   {
    "duration": 35,
    "start_time": "2022-03-07T06:16:15.503Z"
   },
   {
    "duration": 4,
    "start_time": "2022-03-07T06:17:10.208Z"
   },
   {
    "duration": 18,
    "start_time": "2022-03-07T06:17:11.596Z"
   },
   {
    "duration": 221,
    "start_time": "2022-03-07T06:17:41.440Z"
   },
   {
    "duration": 10,
    "start_time": "2022-03-07T06:17:49.455Z"
   },
   {
    "duration": 9,
    "start_time": "2022-03-07T06:17:55.808Z"
   },
   {
    "duration": 10,
    "start_time": "2022-03-07T06:18:09.774Z"
   },
   {
    "duration": 20,
    "start_time": "2022-03-07T06:18:29.668Z"
   },
   {
    "duration": 5,
    "start_time": "2022-03-07T06:18:49.169Z"
   },
   {
    "duration": 18,
    "start_time": "2022-03-07T06:18:50.631Z"
   },
   {
    "duration": 21,
    "start_time": "2022-03-07T06:18:51.543Z"
   },
   {
    "duration": 172,
    "start_time": "2022-03-07T06:18:54.404Z"
   },
   {
    "duration": 35,
    "start_time": "2022-03-07T06:19:02.032Z"
   },
   {
    "duration": 147,
    "start_time": "2022-03-07T06:19:04.718Z"
   },
   {
    "duration": 36,
    "start_time": "2022-03-07T06:19:22.292Z"
   },
   {
    "duration": 262,
    "start_time": "2022-03-07T06:19:51.530Z"
   },
   {
    "duration": 267,
    "start_time": "2022-03-07T06:21:19.588Z"
   },
   {
    "duration": 84,
    "start_time": "2022-03-07T06:23:46.182Z"
   },
   {
    "duration": 73,
    "start_time": "2022-03-07T06:23:54.942Z"
   },
   {
    "duration": 266,
    "start_time": "2022-03-07T06:25:45.745Z"
   },
   {
    "duration": 326,
    "start_time": "2022-03-07T06:26:19.640Z"
   },
   {
    "duration": 242,
    "start_time": "2022-03-07T06:26:28.123Z"
   },
   {
    "duration": 235,
    "start_time": "2022-03-07T06:26:33.913Z"
   },
   {
    "duration": 246,
    "start_time": "2022-03-07T06:26:52.828Z"
   },
   {
    "duration": 284,
    "start_time": "2022-03-07T06:27:24.524Z"
   },
   {
    "duration": 245,
    "start_time": "2022-03-07T06:27:29.210Z"
   },
   {
    "duration": 283,
    "start_time": "2022-03-07T06:27:44.923Z"
   },
   {
    "duration": 259,
    "start_time": "2022-03-07T06:27:53.227Z"
   },
   {
    "duration": 90,
    "start_time": "2022-03-07T06:27:55.795Z"
   },
   {
    "duration": 23,
    "start_time": "2022-03-07T06:28:15.323Z"
   },
   {
    "duration": 6,
    "start_time": "2022-03-07T06:28:16.099Z"
   },
   {
    "duration": 33,
    "start_time": "2022-03-07T06:28:23.807Z"
   },
   {
    "duration": 236,
    "start_time": "2022-03-07T06:43:52.759Z"
   },
   {
    "duration": 71,
    "start_time": "2022-03-07T06:44:01.348Z"
   },
   {
    "duration": 65,
    "start_time": "2022-03-07T06:44:02.905Z"
   },
   {
    "duration": 15,
    "start_time": "2022-03-07T06:44:52.760Z"
   },
   {
    "duration": 25,
    "start_time": "2022-03-07T07:49:39.458Z"
   },
   {
    "duration": 4,
    "start_time": "2022-03-07T07:58:32.475Z"
   },
   {
    "duration": 23,
    "start_time": "2022-03-07T07:58:32.485Z"
   },
   {
    "duration": 23,
    "start_time": "2022-03-07T07:58:32.511Z"
   },
   {
    "duration": 200,
    "start_time": "2022-03-07T07:58:32.537Z"
   },
   {
    "duration": 49,
    "start_time": "2022-03-07T07:58:32.740Z"
   },
   {
    "duration": 184,
    "start_time": "2022-03-07T07:58:32.792Z"
   },
   {
    "duration": 37,
    "start_time": "2022-03-07T07:58:32.979Z"
   },
   {
    "duration": 40,
    "start_time": "2022-03-07T07:58:33.018Z"
   },
   {
    "duration": 116,
    "start_time": "2022-03-07T07:58:33.062Z"
   },
   {
    "duration": 92,
    "start_time": "2022-03-07T07:58:33.181Z"
   },
   {
    "duration": 13,
    "start_time": "2022-03-07T07:58:33.276Z"
   },
   {
    "duration": 19,
    "start_time": "2022-03-07T07:58:33.291Z"
   },
   {
    "duration": 39,
    "start_time": "2022-03-07T07:58:33.313Z"
   },
   {
    "duration": 6,
    "start_time": "2022-03-07T07:58:33.354Z"
   },
   {
    "duration": 252,
    "start_time": "2022-03-07T07:58:33.362Z"
   },
   {
    "duration": 105,
    "start_time": "2022-03-07T07:58:33.616Z"
   },
   {
    "duration": 5,
    "start_time": "2022-03-07T07:58:33.724Z"
   },
   {
    "duration": 39,
    "start_time": "2022-03-07T07:58:33.732Z"
   },
   {
    "duration": 86,
    "start_time": "2022-03-07T07:58:33.774Z"
   },
   {
    "duration": 62,
    "start_time": "2022-03-07T07:58:33.863Z"
   },
   {
    "duration": 30,
    "start_time": "2022-03-07T07:58:33.927Z"
   },
   {
    "duration": 19,
    "start_time": "2022-03-07T07:58:33.959Z"
   },
   {
    "duration": 17,
    "start_time": "2022-03-07T07:58:33.983Z"
   },
   {
    "duration": 56,
    "start_time": "2022-03-07T07:58:34.003Z"
   },
   {
    "duration": 31,
    "start_time": "2022-03-07T07:58:34.062Z"
   },
   {
    "duration": 10,
    "start_time": "2022-03-07T07:58:34.096Z"
   },
   {
    "duration": 405,
    "start_time": "2022-03-07T07:58:34.108Z"
   },
   {
    "duration": 40,
    "start_time": "2022-03-07T07:58:34.516Z"
   },
   {
    "duration": 43,
    "start_time": "2022-03-07T07:58:34.559Z"
   },
   {
    "duration": 107,
    "start_time": "2022-03-07T07:58:34.605Z"
   },
   {
    "duration": 19,
    "start_time": "2022-03-07T07:58:34.715Z"
   },
   {
    "duration": 1049,
    "start_time": "2022-03-07T07:58:34.752Z"
   },
   {
    "duration": 265,
    "start_time": "2022-03-07T07:58:35.803Z"
   },
   {
    "duration": 3070,
    "start_time": "2022-03-07T07:58:33.001Z"
   },
   {
    "duration": 3059,
    "start_time": "2022-03-07T07:58:33.014Z"
   },
   {
    "duration": 3051,
    "start_time": "2022-03-07T07:58:33.024Z"
   },
   {
    "duration": 3041,
    "start_time": "2022-03-07T07:58:33.037Z"
   },
   {
    "duration": 3028,
    "start_time": "2022-03-07T07:58:33.052Z"
   },
   {
    "duration": 3018,
    "start_time": "2022-03-07T07:58:33.064Z"
   },
   {
    "duration": 3010,
    "start_time": "2022-03-07T07:58:33.074Z"
   },
   {
    "duration": 56,
    "start_time": "2022-03-07T07:58:43.537Z"
   },
   {
    "duration": 54,
    "start_time": "2022-03-07T07:59:23.319Z"
   },
   {
    "duration": 965,
    "start_time": "2022-03-07T08:01:15.535Z"
   },
   {
    "duration": 5715,
    "start_time": "2022-03-07T08:01:48.988Z"
   },
   {
    "duration": 8,
    "start_time": "2022-03-07T08:02:35.190Z"
   },
   {
    "duration": 10,
    "start_time": "2022-03-07T08:02:41.714Z"
   },
   {
    "duration": 37,
    "start_time": "2022-03-07T08:02:42.427Z"
   },
   {
    "duration": 10,
    "start_time": "2022-03-07T08:04:03.372Z"
   },
   {
    "duration": 36,
    "start_time": "2022-03-07T08:04:11.805Z"
   },
   {
    "duration": 68,
    "start_time": "2022-03-07T08:04:16.644Z"
   },
   {
    "duration": 62,
    "start_time": "2022-03-07T08:04:17.163Z"
   },
   {
    "duration": 54,
    "start_time": "2022-03-07T08:04:29.063Z"
   },
   {
    "duration": 19,
    "start_time": "2022-03-07T08:04:52.933Z"
   },
   {
    "duration": 18,
    "start_time": "2022-03-07T08:04:55.132Z"
   },
   {
    "duration": 26,
    "start_time": "2022-03-07T08:04:55.857Z"
   },
   {
    "duration": 33,
    "start_time": "2022-03-07T08:04:56.668Z"
   },
   {
    "duration": 5960,
    "start_time": "2022-03-07T08:04:58.604Z"
   },
   {
    "duration": 6561,
    "start_time": "2022-03-07T08:05:07.006Z"
   },
   {
    "duration": 3058,
    "start_time": "2022-03-07T08:05:10.512Z"
   },
   {
    "duration": 3049,
    "start_time": "2022-03-07T08:05:10.522Z"
   },
   {
    "duration": 56,
    "start_time": "2022-03-07T08:05:15.148Z"
   },
   {
    "duration": 4,
    "start_time": "2022-03-07T08:05:25.244Z"
   },
   {
    "duration": 18,
    "start_time": "2022-03-07T08:05:25.255Z"
   },
   {
    "duration": 21,
    "start_time": "2022-03-07T08:05:25.276Z"
   },
   {
    "duration": 203,
    "start_time": "2022-03-07T08:05:25.300Z"
   },
   {
    "duration": 59,
    "start_time": "2022-03-07T08:05:25.506Z"
   },
   {
    "duration": 161,
    "start_time": "2022-03-07T08:05:25.567Z"
   },
   {
    "duration": 45,
    "start_time": "2022-03-07T08:05:25.731Z"
   },
   {
    "duration": 16,
    "start_time": "2022-03-07T08:05:25.779Z"
   },
   {
    "duration": 127,
    "start_time": "2022-03-07T08:05:25.798Z"
   },
   {
    "duration": 82,
    "start_time": "2022-03-07T08:05:25.928Z"
   },
   {
    "duration": 13,
    "start_time": "2022-03-07T08:05:26.013Z"
   },
   {
    "duration": 34,
    "start_time": "2022-03-07T08:05:26.028Z"
   },
   {
    "duration": 15,
    "start_time": "2022-03-07T08:05:26.065Z"
   },
   {
    "duration": 5,
    "start_time": "2022-03-07T08:05:26.083Z"
   },
   {
    "duration": 251,
    "start_time": "2022-03-07T08:05:26.090Z"
   },
   {
    "duration": 85,
    "start_time": "2022-03-07T08:05:26.351Z"
   },
   {
    "duration": 18,
    "start_time": "2022-03-07T08:05:26.438Z"
   },
   {
    "duration": 32,
    "start_time": "2022-03-07T08:05:26.458Z"
   },
   {
    "duration": 98,
    "start_time": "2022-03-07T08:05:26.494Z"
   },
   {
    "duration": 79,
    "start_time": "2022-03-07T08:05:26.594Z"
   },
   {
    "duration": 14,
    "start_time": "2022-03-07T08:05:26.675Z"
   },
   {
    "duration": 19,
    "start_time": "2022-03-07T08:05:26.692Z"
   },
   {
    "duration": 47,
    "start_time": "2022-03-07T08:05:26.714Z"
   },
   {
    "duration": 27,
    "start_time": "2022-03-07T08:05:26.764Z"
   },
   {
    "duration": 64,
    "start_time": "2022-03-07T08:05:26.793Z"
   },
   {
    "duration": 10,
    "start_time": "2022-03-07T08:05:26.859Z"
   },
   {
    "duration": 360,
    "start_time": "2022-03-07T08:05:31.692Z"
   },
   {
    "duration": 52,
    "start_time": "2022-03-07T08:05:53.198Z"
   },
   {
    "duration": 5,
    "start_time": "2022-03-07T08:06:14.468Z"
   },
   {
    "duration": 18,
    "start_time": "2022-03-07T08:06:14.479Z"
   },
   {
    "duration": 21,
    "start_time": "2022-03-07T08:06:14.499Z"
   },
   {
    "duration": 199,
    "start_time": "2022-03-07T08:06:14.523Z"
   },
   {
    "duration": 45,
    "start_time": "2022-03-07T08:06:14.724Z"
   },
   {
    "duration": 175,
    "start_time": "2022-03-07T08:06:14.772Z"
   },
   {
    "duration": 40,
    "start_time": "2022-03-07T08:06:14.949Z"
   },
   {
    "duration": 16,
    "start_time": "2022-03-07T08:06:14.992Z"
   },
   {
    "duration": 149,
    "start_time": "2022-03-07T08:06:15.012Z"
   },
   {
    "duration": 102,
    "start_time": "2022-03-07T08:06:15.164Z"
   },
   {
    "duration": 13,
    "start_time": "2022-03-07T08:06:15.268Z"
   },
   {
    "duration": 21,
    "start_time": "2022-03-07T08:06:15.283Z"
   },
   {
    "duration": 44,
    "start_time": "2022-03-07T08:06:15.307Z"
   },
   {
    "duration": 8,
    "start_time": "2022-03-07T08:06:15.354Z"
   },
   {
    "duration": 245,
    "start_time": "2022-03-07T08:06:15.365Z"
   },
   {
    "duration": 104,
    "start_time": "2022-03-07T08:06:15.612Z"
   },
   {
    "duration": 7,
    "start_time": "2022-03-07T08:06:15.719Z"
   },
   {
    "duration": 48,
    "start_time": "2022-03-07T08:06:15.728Z"
   },
   {
    "duration": 85,
    "start_time": "2022-03-07T08:06:15.778Z"
   },
   {
    "duration": 74,
    "start_time": "2022-03-07T08:06:15.866Z"
   },
   {
    "duration": 12,
    "start_time": "2022-03-07T08:06:15.952Z"
   },
   {
    "duration": 17,
    "start_time": "2022-03-07T08:06:15.966Z"
   },
   {
    "duration": 17,
    "start_time": "2022-03-07T08:06:15.987Z"
   },
   {
    "duration": 62,
    "start_time": "2022-03-07T08:06:16.006Z"
   },
   {
    "duration": 32,
    "start_time": "2022-03-07T08:06:16.071Z"
   },
   {
    "duration": 9,
    "start_time": "2022-03-07T08:07:12.616Z"
   },
   {
    "duration": 36,
    "start_time": "2022-03-07T08:07:13.795Z"
   },
   {
    "duration": 645,
    "start_time": "2022-03-07T08:07:27.289Z"
   },
   {
    "duration": 67,
    "start_time": "2022-03-07T08:07:35.439Z"
   },
   {
    "duration": 14,
    "start_time": "2022-03-07T08:07:45.603Z"
   },
   {
    "duration": 19,
    "start_time": "2022-03-07T08:07:46.513Z"
   },
   {
    "duration": 19,
    "start_time": "2022-03-07T08:07:48.543Z"
   },
   {
    "duration": 27,
    "start_time": "2022-03-07T08:07:51.432Z"
   },
   {
    "duration": 32,
    "start_time": "2022-03-07T08:07:52.335Z"
   },
   {
    "duration": 10,
    "start_time": "2022-03-07T08:07:54.224Z"
   },
   {
    "duration": 359,
    "start_time": "2022-03-07T08:08:01.193Z"
   },
   {
    "duration": 25,
    "start_time": "2022-03-07T08:08:03.846Z"
   },
   {
    "duration": 4,
    "start_time": "2022-03-07T08:09:29.196Z"
   },
   {
    "duration": 24,
    "start_time": "2022-03-07T08:09:30.598Z"
   },
   {
    "duration": 4,
    "start_time": "2022-03-07T08:16:41.215Z"
   },
   {
    "duration": 23,
    "start_time": "2022-03-07T08:16:42.046Z"
   },
   {
    "duration": 21,
    "start_time": "2022-03-07T08:16:42.458Z"
   },
   {
    "duration": 183,
    "start_time": "2022-03-07T08:16:44.726Z"
   },
   {
    "duration": 59,
    "start_time": "2022-03-07T08:16:45.401Z"
   },
   {
    "duration": 219,
    "start_time": "2022-03-07T08:16:48.479Z"
   },
   {
    "duration": 61,
    "start_time": "2022-03-07T08:16:50.753Z"
   },
   {
    "duration": 49,
    "start_time": "2022-03-07T08:17:21.801Z"
   },
   {
    "duration": 30,
    "start_time": "2022-03-07T08:17:36.931Z"
   },
   {
    "duration": 38,
    "start_time": "2022-03-07T08:17:51.428Z"
   },
   {
    "duration": 39,
    "start_time": "2022-03-07T08:18:08.173Z"
   },
   {
    "duration": 24,
    "start_time": "2022-03-07T08:18:26.708Z"
   },
   {
    "duration": 14,
    "start_time": "2022-03-07T08:18:30.432Z"
   },
   {
    "duration": 9,
    "start_time": "2022-03-07T08:18:38.939Z"
   },
   {
    "duration": 447,
    "start_time": "2022-03-07T08:18:49.454Z"
   },
   {
    "duration": 26,
    "start_time": "2022-03-07T08:18:54.547Z"
   },
   {
    "duration": 25,
    "start_time": "2022-03-07T08:19:01.261Z"
   },
   {
    "duration": 5,
    "start_time": "2022-03-07T08:19:12.522Z"
   },
   {
    "duration": 257,
    "start_time": "2022-03-07T08:19:19.326Z"
   },
   {
    "duration": 80,
    "start_time": "2022-03-07T08:19:20.748Z"
   },
   {
    "duration": 9,
    "start_time": "2022-03-07T08:19:27.795Z"
   },
   {
    "duration": 40,
    "start_time": "2022-03-07T08:19:35.717Z"
   },
   {
    "duration": 67,
    "start_time": "2022-03-07T08:19:40.187Z"
   },
   {
    "duration": 83,
    "start_time": "2022-03-07T08:19:46.444Z"
   },
   {
    "duration": 65,
    "start_time": "2022-03-07T08:19:58.599Z"
   },
   {
    "duration": 14,
    "start_time": "2022-03-07T08:20:11.749Z"
   },
   {
    "duration": 19,
    "start_time": "2022-03-07T08:20:13.085Z"
   },
   {
    "duration": 26,
    "start_time": "2022-03-07T08:24:31.244Z"
   },
   {
    "duration": 52,
    "start_time": "2022-03-07T08:24:37.997Z"
   },
   {
    "duration": 25,
    "start_time": "2022-03-07T08:26:20.479Z"
   },
   {
    "duration": 296,
    "start_time": "2022-03-07T08:29:00.234Z"
   },
   {
    "duration": 5,
    "start_time": "2022-03-07T08:29:07.449Z"
   },
   {
    "duration": 22,
    "start_time": "2022-03-07T08:29:07.459Z"
   },
   {
    "duration": 22,
    "start_time": "2022-03-07T08:29:07.483Z"
   },
   {
    "duration": 203,
    "start_time": "2022-03-07T08:29:07.508Z"
   },
   {
    "duration": 54,
    "start_time": "2022-03-07T08:29:07.714Z"
   },
   {
    "duration": 159,
    "start_time": "2022-03-07T08:29:07.770Z"
   },
   {
    "duration": 50,
    "start_time": "2022-03-07T08:29:07.932Z"
   },
   {
    "duration": 18,
    "start_time": "2022-03-07T08:29:07.985Z"
   },
   {
    "duration": 124,
    "start_time": "2022-03-07T08:29:08.007Z"
   },
   {
    "duration": 35,
    "start_time": "2022-03-07T08:29:08.134Z"
   },
   {
    "duration": 13,
    "start_time": "2022-03-07T08:29:08.172Z"
   },
   {
    "duration": 23,
    "start_time": "2022-03-07T08:29:08.187Z"
   },
   {
    "duration": 48,
    "start_time": "2022-03-07T08:29:08.213Z"
   },
   {
    "duration": 9,
    "start_time": "2022-03-07T08:29:08.264Z"
   },
   {
    "duration": 253,
    "start_time": "2022-03-07T08:29:08.276Z"
   },
   {
    "duration": 107,
    "start_time": "2022-03-07T08:29:08.532Z"
   },
   {
    "duration": 15,
    "start_time": "2022-03-07T08:29:08.642Z"
   },
   {
    "duration": 38,
    "start_time": "2022-03-07T08:29:08.660Z"
   },
   {
    "duration": 110,
    "start_time": "2022-03-07T08:29:08.701Z"
   },
   {
    "duration": 94,
    "start_time": "2022-03-07T08:29:08.813Z"
   },
   {
    "duration": 13,
    "start_time": "2022-03-07T08:29:08.910Z"
   },
   {
    "duration": 39,
    "start_time": "2022-03-07T08:29:08.925Z"
   },
   {
    "duration": 26,
    "start_time": "2022-03-07T08:29:08.968Z"
   },
   {
    "duration": 19,
    "start_time": "2022-03-07T08:29:08.996Z"
   },
   {
    "duration": 34,
    "start_time": "2022-03-07T08:29:14.505Z"
   },
   {
    "duration": 38,
    "start_time": "2022-03-07T08:29:33.481Z"
   },
   {
    "duration": 224,
    "start_time": "2022-03-07T08:29:42.768Z"
   },
   {
    "duration": 2351,
    "start_time": "2022-03-07T08:29:56.872Z"
   },
   {
    "duration": 1421,
    "start_time": "2022-03-07T08:30:40.004Z"
   },
   {
    "duration": 24,
    "start_time": "2022-03-07T08:30:41.428Z"
   },
   {
    "duration": 30,
    "start_time": "2022-03-07T08:30:41.455Z"
   },
   {
    "duration": 197,
    "start_time": "2022-03-07T08:30:41.488Z"
   },
   {
    "duration": 34,
    "start_time": "2022-03-07T08:30:41.687Z"
   },
   {
    "duration": 160,
    "start_time": "2022-03-07T08:30:41.724Z"
   },
   {
    "duration": 30,
    "start_time": "2022-03-07T08:30:41.886Z"
   },
   {
    "duration": 33,
    "start_time": "2022-03-07T08:30:41.920Z"
   },
   {
    "duration": 109,
    "start_time": "2022-03-07T08:30:41.956Z"
   },
   {
    "duration": 29,
    "start_time": "2022-03-07T08:30:42.068Z"
   },
   {
    "duration": 13,
    "start_time": "2022-03-07T08:30:42.100Z"
   },
   {
    "duration": 45,
    "start_time": "2022-03-07T08:30:42.116Z"
   },
   {
    "duration": 18,
    "start_time": "2022-03-07T08:30:42.164Z"
   },
   {
    "duration": 5,
    "start_time": "2022-03-07T08:30:42.184Z"
   },
   {
    "duration": 295,
    "start_time": "2022-03-07T08:30:42.191Z"
   },
   {
    "duration": 107,
    "start_time": "2022-03-07T08:30:42.488Z"
   },
   {
    "duration": 9,
    "start_time": "2022-03-07T08:30:42.597Z"
   },
   {
    "duration": 19,
    "start_time": "2022-03-07T08:30:42.609Z"
   },
   {
    "duration": 82,
    "start_time": "2022-03-07T08:30:42.631Z"
   },
   {
    "duration": 114,
    "start_time": "2022-03-07T08:30:42.716Z"
   },
   {
    "duration": 22,
    "start_time": "2022-03-07T08:30:42.833Z"
   },
   {
    "duration": 14,
    "start_time": "2022-03-07T08:30:42.858Z"
   },
   {
    "duration": 25,
    "start_time": "2022-03-07T08:30:42.876Z"
   },
   {
    "duration": 50,
    "start_time": "2022-03-07T08:30:42.903Z"
   },
   {
    "duration": 51,
    "start_time": "2022-03-07T08:30:51.056Z"
   },
   {
    "duration": 12,
    "start_time": "2022-03-07T08:30:55.529Z"
   },
   {
    "duration": 4,
    "start_time": "2022-03-07T08:31:04.563Z"
   },
   {
    "duration": 18,
    "start_time": "2022-03-07T08:31:07.974Z"
   },
   {
    "duration": 21,
    "start_time": "2022-03-07T08:31:10.557Z"
   },
   {
    "duration": 19,
    "start_time": "2022-03-07T08:31:39.924Z"
   },
   {
    "duration": 25,
    "start_time": "2022-03-07T08:31:40.572Z"
   },
   {
    "duration": 290,
    "start_time": "2022-03-07T08:31:42.937Z"
   },
   {
    "duration": 59,
    "start_time": "2022-03-07T08:31:43.820Z"
   },
   {
    "duration": 166,
    "start_time": "2022-03-07T08:31:48.442Z"
   },
   {
    "duration": 33,
    "start_time": "2022-03-07T08:31:49.248Z"
   },
   {
    "duration": 12,
    "start_time": "2022-03-07T08:31:50.907Z"
   },
   {
    "duration": 113,
    "start_time": "2022-03-07T08:32:05.033Z"
   },
   {
    "duration": 32,
    "start_time": "2022-03-07T08:32:05.764Z"
   },
   {
    "duration": 13,
    "start_time": "2022-03-07T08:32:07.721Z"
   },
   {
    "duration": 18,
    "start_time": "2022-03-07T08:32:08.564Z"
   },
   {
    "duration": 18,
    "start_time": "2022-03-07T08:32:29.133Z"
   },
   {
    "duration": 16,
    "start_time": "2022-03-07T08:32:30.829Z"
   },
   {
    "duration": 5861,
    "start_time": "2022-03-07T08:33:03.381Z"
   },
   {
    "duration": 3057,
    "start_time": "2022-03-07T08:33:06.188Z"
   },
   {
    "duration": 12,
    "start_time": "2022-03-07T08:33:18.165Z"
   },
   {
    "duration": 16,
    "start_time": "2022-03-07T08:33:18.717Z"
   },
   {
    "duration": 15,
    "start_time": "2022-03-07T08:33:20.325Z"
   },
   {
    "duration": 293,
    "start_time": "2022-03-07T08:33:36.709Z"
   },
   {
    "duration": 102,
    "start_time": "2022-03-07T08:33:37.749Z"
   },
   {
    "duration": 8,
    "start_time": "2022-03-07T08:33:38.895Z"
   },
   {
    "duration": 21,
    "start_time": "2022-03-07T08:33:42.622Z"
   },
   {
    "duration": 65,
    "start_time": "2022-03-07T08:33:59.204Z"
   },
   {
    "duration": 86,
    "start_time": "2022-03-07T08:34:00.590Z"
   },
   {
    "duration": 14,
    "start_time": "2022-03-07T08:34:07.094Z"
   },
   {
    "duration": 14,
    "start_time": "2022-03-07T08:34:09.693Z"
   },
   {
    "duration": 26,
    "start_time": "2022-03-07T08:34:14.140Z"
   },
   {
    "duration": 19,
    "start_time": "2022-03-07T08:34:14.972Z"
   },
   {
    "duration": 53,
    "start_time": "2022-03-07T08:34:16.455Z"
   },
   {
    "duration": 10,
    "start_time": "2022-03-07T08:34:19.308Z"
   },
   {
    "duration": 377,
    "start_time": "2022-03-07T08:34:35.495Z"
   },
   {
    "duration": 37,
    "start_time": "2022-03-07T08:37:46.506Z"
   },
   {
    "duration": 37,
    "start_time": "2022-03-07T08:38:31.859Z"
   },
   {
    "duration": 33,
    "start_time": "2022-03-07T08:38:50.567Z"
   },
   {
    "duration": 34,
    "start_time": "2022-03-07T08:39:31.797Z"
   },
   {
    "duration": 63,
    "start_time": "2022-03-07T08:39:34.196Z"
   },
   {
    "duration": 14,
    "start_time": "2022-03-07T08:40:02.076Z"
   },
   {
    "duration": 992,
    "start_time": "2022-03-07T08:42:57.490Z"
   },
   {
    "duration": 1001,
    "start_time": "2022-03-07T08:43:47.650Z"
   },
   {
    "duration": 268,
    "start_time": "2022-03-07T08:44:02.221Z"
   },
   {
    "duration": 43,
    "start_time": "2022-03-07T08:44:21.443Z"
   },
   {
    "duration": 2964,
    "start_time": "2022-03-07T08:45:40.087Z"
   },
   {
    "duration": 25,
    "start_time": "2022-03-07T08:46:42.489Z"
   },
   {
    "duration": 999,
    "start_time": "2022-03-07T09:33:32.434Z"
   },
   {
    "duration": 5918,
    "start_time": "2022-03-07T09:42:04.840Z"
   },
   {
    "duration": 20,
    "start_time": "2022-03-07T09:42:27.383Z"
   },
   {
    "duration": 527,
    "start_time": "2022-03-07T09:46:13.401Z"
   },
   {
    "duration": 573,
    "start_time": "2022-03-07T09:59:12.593Z"
   },
   {
    "duration": 384,
    "start_time": "2022-03-07T09:59:50.970Z"
   },
   {
    "duration": 422,
    "start_time": "2022-03-07T10:00:45.185Z"
   },
   {
    "duration": 3234,
    "start_time": "2022-03-07T10:02:31.835Z"
   },
   {
    "duration": 2361,
    "start_time": "2022-03-07T10:03:19.045Z"
   },
   {
    "duration": 412,
    "start_time": "2022-03-07T10:04:04.183Z"
   },
   {
    "duration": 18,
    "start_time": "2022-03-07T10:04:53.440Z"
   },
   {
    "duration": 239,
    "start_time": "2022-03-07T11:16:11.960Z"
   },
   {
    "duration": 31,
    "start_time": "2022-03-07T11:16:17.974Z"
   },
   {
    "duration": 57,
    "start_time": "2022-03-07T11:16:19.568Z"
   },
   {
    "duration": 14,
    "start_time": "2022-03-07T11:16:20.309Z"
   },
   {
    "duration": 26,
    "start_time": "2022-03-07T11:16:20.946Z"
   },
   {
    "duration": 58,
    "start_time": "2022-03-07T11:16:21.221Z"
   },
   {
    "duration": 466,
    "start_time": "2022-03-07T11:16:21.731Z"
   },
   {
    "duration": 429,
    "start_time": "2022-03-07T11:16:59.097Z"
   },
   {
    "duration": 461,
    "start_time": "2022-03-07T11:17:08.045Z"
   },
   {
    "duration": 493,
    "start_time": "2022-03-07T11:17:57.464Z"
   },
   {
    "duration": 569,
    "start_time": "2022-03-07T11:18:34.987Z"
   },
   {
    "duration": 103,
    "start_time": "2022-03-07T13:13:15.851Z"
   },
   {
    "duration": 259,
    "start_time": "2022-03-07T13:13:27.877Z"
   },
   {
    "duration": 4,
    "start_time": "2022-03-07T13:13:32.915Z"
   },
   {
    "duration": 23,
    "start_time": "2022-03-07T13:13:32.930Z"
   },
   {
    "duration": 31,
    "start_time": "2022-03-07T13:13:32.956Z"
   },
   {
    "duration": 308,
    "start_time": "2022-03-07T13:13:32.991Z"
   },
   {
    "duration": 66,
    "start_time": "2022-03-07T13:13:33.303Z"
   },
   {
    "duration": 250,
    "start_time": "2022-03-07T13:13:33.372Z"
   },
   {
    "duration": 56,
    "start_time": "2022-03-07T13:13:33.625Z"
   },
   {
    "duration": 17,
    "start_time": "2022-03-07T13:13:33.684Z"
   },
   {
    "duration": 128,
    "start_time": "2022-03-07T13:13:33.705Z"
   },
   {
    "duration": 34,
    "start_time": "2022-03-07T13:13:33.836Z"
   },
   {
    "duration": 13,
    "start_time": "2022-03-07T13:13:33.873Z"
   },
   {
    "duration": 21,
    "start_time": "2022-03-07T13:13:33.890Z"
   },
   {
    "duration": 45,
    "start_time": "2022-03-07T13:13:33.913Z"
   },
   {
    "duration": 252,
    "start_time": "2022-03-07T13:13:33.961Z"
   },
   {
    "duration": 110,
    "start_time": "2022-03-07T13:13:34.216Z"
   },
   {
    "duration": 9,
    "start_time": "2022-03-07T13:13:34.329Z"
   },
   {
    "duration": 23,
    "start_time": "2022-03-07T13:13:34.352Z"
   },
   {
    "duration": 96,
    "start_time": "2022-03-07T13:13:34.377Z"
   },
   {
    "duration": 101,
    "start_time": "2022-03-07T13:13:34.476Z"
   },
   {
    "duration": 14,
    "start_time": "2022-03-07T13:13:34.580Z"
   },
   {
    "duration": 19,
    "start_time": "2022-03-07T13:13:34.597Z"
   },
   {
    "duration": 54,
    "start_time": "2022-03-07T13:13:34.619Z"
   },
   {
    "duration": 26,
    "start_time": "2022-03-07T13:13:34.681Z"
   },
   {
    "duration": 95,
    "start_time": "2022-03-07T13:13:34.711Z"
   },
   {
    "duration": 12,
    "start_time": "2022-03-07T13:13:34.809Z"
   },
   {
    "duration": 656,
    "start_time": "2022-03-07T13:13:34.824Z"
   },
   {
    "duration": 75,
    "start_time": "2022-03-07T13:13:35.484Z"
   },
   {
    "duration": 48,
    "start_time": "2022-03-07T13:13:35.562Z"
   },
   {
    "duration": 92,
    "start_time": "2022-03-07T13:13:35.612Z"
   },
   {
    "duration": 15,
    "start_time": "2022-03-07T13:13:35.707Z"
   },
   {
    "duration": 1156,
    "start_time": "2022-03-07T13:13:35.725Z"
   },
   {
    "duration": 68,
    "start_time": "2022-03-07T13:13:36.883Z"
   },
   {
    "duration": 328,
    "start_time": "2022-03-07T13:13:36.954Z"
   },
   {
    "duration": 19,
    "start_time": "2022-03-07T13:13:37.286Z"
   },
   {
    "duration": 61,
    "start_time": "2022-03-07T13:13:37.308Z"
   },
   {
    "duration": 214,
    "start_time": "2022-03-07T13:13:37.373Z"
   },
   {
    "duration": 17,
    "start_time": "2022-03-07T13:13:37.590Z"
   },
   {
    "duration": 52,
    "start_time": "2022-03-07T13:13:37.610Z"
   },
   {
    "duration": 101,
    "start_time": "2022-03-07T13:13:37.664Z"
   },
   {
    "duration": 742,
    "start_time": "2022-03-07T13:13:37.768Z"
   },
   {
    "duration": 467,
    "start_time": "2022-03-07T13:13:38.513Z"
   },
   {
    "duration": 514,
    "start_time": "2022-03-07T13:13:38.982Z"
   },
   {
    "duration": 627,
    "start_time": "2022-03-07T13:13:39.499Z"
   },
   {
    "duration": 257,
    "start_time": "2022-03-07T13:13:40.129Z"
   },
   {
    "duration": 254,
    "start_time": "2022-03-07T13:14:02.061Z"
   },
   {
    "duration": 351,
    "start_time": "2022-03-07T13:14:29.165Z"
   },
   {
    "duration": 817,
    "start_time": "2022-03-07T13:36:24.940Z"
   },
   {
    "duration": 1010,
    "start_time": "2022-03-07T13:40:44.195Z"
   },
   {
    "duration": 3934,
    "start_time": "2022-03-07T13:46:58.854Z"
   },
   {
    "duration": 322,
    "start_time": "2022-03-07T13:47:13.702Z"
   },
   {
    "duration": 545,
    "start_time": "2022-03-07T13:47:23.099Z"
   },
   {
    "duration": 349,
    "start_time": "2022-03-07T14:11:40.808Z"
   },
   {
    "duration": 304,
    "start_time": "2022-03-07T14:58:58.464Z"
   },
   {
    "duration": 323,
    "start_time": "2022-03-07T14:59:14.039Z"
   },
   {
    "duration": 303,
    "start_time": "2022-03-07T15:03:42.114Z"
   },
   {
    "duration": 337,
    "start_time": "2022-03-07T15:04:00.715Z"
   },
   {
    "duration": 313,
    "start_time": "2022-03-07T15:04:18.068Z"
   },
   {
    "duration": 321,
    "start_time": "2022-03-07T15:04:59.736Z"
   },
   {
    "duration": 233,
    "start_time": "2022-03-07T15:15:04.031Z"
   },
   {
    "duration": 850,
    "start_time": "2022-03-07T15:15:16.807Z"
   },
   {
    "duration": 80,
    "start_time": "2022-03-07T15:18:01.675Z"
   },
   {
    "duration": 700,
    "start_time": "2022-03-07T15:18:53.877Z"
   },
   {
    "duration": 75,
    "start_time": "2022-03-07T15:20:58.396Z"
   },
   {
    "duration": 71,
    "start_time": "2022-03-07T15:26:44.002Z"
   },
   {
    "duration": 102,
    "start_time": "2022-03-07T15:42:46.683Z"
   },
   {
    "duration": 29,
    "start_time": "2022-03-07T16:11:24.359Z"
   },
   {
    "duration": 57,
    "start_time": "2022-03-07T16:11:26.661Z"
   },
   {
    "duration": 14,
    "start_time": "2022-03-07T16:11:29.281Z"
   },
   {
    "duration": 26,
    "start_time": "2022-03-07T16:11:31.428Z"
   },
   {
    "duration": 60,
    "start_time": "2022-03-07T16:11:42.014Z"
   },
   {
    "duration": 262,
    "start_time": "2022-03-07T16:20:08.880Z"
   },
   {
    "duration": 293,
    "start_time": "2022-03-07T16:21:15.183Z"
   },
   {
    "duration": 122,
    "start_time": "2022-03-08T03:27:18.452Z"
   },
   {
    "duration": 400,
    "start_time": "2022-03-08T03:27:37.324Z"
   },
   {
    "duration": 1493,
    "start_time": "2022-03-08T03:27:52.858Z"
   },
   {
    "duration": 42,
    "start_time": "2022-03-08T03:27:54.354Z"
   },
   {
    "duration": 27,
    "start_time": "2022-03-08T03:27:54.399Z"
   },
   {
    "duration": 199,
    "start_time": "2022-03-08T03:27:54.429Z"
   },
   {
    "duration": 34,
    "start_time": "2022-03-08T03:27:54.631Z"
   },
   {
    "duration": 174,
    "start_time": "2022-03-08T03:27:54.668Z"
   },
   {
    "duration": 33,
    "start_time": "2022-03-08T03:27:54.845Z"
   },
   {
    "duration": 12,
    "start_time": "2022-03-08T03:27:54.881Z"
   },
   {
    "duration": 140,
    "start_time": "2022-03-08T03:27:54.897Z"
   },
   {
    "duration": 26,
    "start_time": "2022-03-08T03:27:55.040Z"
   },
   {
    "duration": 18,
    "start_time": "2022-03-08T03:27:55.069Z"
   },
   {
    "duration": 18,
    "start_time": "2022-03-08T03:27:55.090Z"
   },
   {
    "duration": 21,
    "start_time": "2022-03-08T03:27:55.133Z"
   },
   {
    "duration": 250,
    "start_time": "2022-03-08T03:27:55.156Z"
   },
   {
    "duration": 107,
    "start_time": "2022-03-08T03:27:55.409Z"
   },
   {
    "duration": 17,
    "start_time": "2022-03-08T03:27:55.518Z"
   },
   {
    "duration": 20,
    "start_time": "2022-03-08T03:27:55.537Z"
   },
   {
    "duration": 100,
    "start_time": "2022-03-08T03:27:55.559Z"
   },
   {
    "duration": 104,
    "start_time": "2022-03-08T03:27:55.661Z"
   },
   {
    "duration": 14,
    "start_time": "2022-03-08T03:27:55.768Z"
   },
   {
    "duration": 13,
    "start_time": "2022-03-08T03:27:55.785Z"
   },
   {
    "duration": 53,
    "start_time": "2022-03-08T03:27:55.800Z"
   },
   {
    "duration": 19,
    "start_time": "2022-03-08T03:27:55.856Z"
   },
   {
    "duration": 79,
    "start_time": "2022-03-08T03:27:55.877Z"
   },
   {
    "duration": 10,
    "start_time": "2022-03-08T03:27:55.959Z"
   },
   {
    "duration": 516,
    "start_time": "2022-03-08T03:27:55.972Z"
   },
   {
    "duration": 43,
    "start_time": "2022-03-08T03:27:56.493Z"
   },
   {
    "duration": 32,
    "start_time": "2022-03-08T03:27:56.539Z"
   },
   {
    "duration": 91,
    "start_time": "2022-03-08T03:27:56.573Z"
   },
   {
    "duration": 13,
    "start_time": "2022-03-08T03:27:56.666Z"
   },
   {
    "duration": 1037,
    "start_time": "2022-03-08T03:27:56.682Z"
   },
   {
    "duration": 45,
    "start_time": "2022-03-08T03:27:57.722Z"
   },
   {
    "duration": 1218,
    "start_time": "2022-03-08T03:27:57.769Z"
   },
   {
    "duration": 6,
    "start_time": "2022-03-08T03:28:02.532Z"
   },
   {
    "duration": 6,
    "start_time": "2022-03-08T03:28:27.856Z"
   },
   {
    "duration": 6,
    "start_time": "2022-03-08T03:30:32.209Z"
   },
   {
    "duration": 120,
    "start_time": "2022-03-08T04:11:47.732Z"
   },
   {
    "duration": 4,
    "start_time": "2022-03-08T04:12:03.585Z"
   },
   {
    "duration": 122,
    "start_time": "2022-03-08T04:12:16.770Z"
   },
   {
    "duration": 3,
    "start_time": "2022-03-08T04:12:58.901Z"
   },
   {
    "duration": 569,
    "start_time": "2022-03-08T04:17:16.907Z"
   },
   {
    "duration": 602,
    "start_time": "2022-03-08T04:29:27.973Z"
   },
   {
    "duration": 8,
    "start_time": "2022-03-08T04:30:01.655Z"
   },
   {
    "duration": 9,
    "start_time": "2022-03-08T04:30:29.171Z"
   },
   {
    "duration": 7,
    "start_time": "2022-03-08T04:30:55.562Z"
   },
   {
    "duration": 7,
    "start_time": "2022-03-08T04:31:19.361Z"
   },
   {
    "duration": 555,
    "start_time": "2022-03-08T04:31:37.014Z"
   },
   {
    "duration": 12,
    "start_time": "2022-03-08T04:31:44.824Z"
   },
   {
    "duration": 340,
    "start_time": "2022-03-08T04:35:58.536Z"
   },
   {
    "duration": 302,
    "start_time": "2022-03-08T04:36:28.706Z"
   },
   {
    "duration": 298,
    "start_time": "2022-03-08T04:36:57.298Z"
   },
   {
    "duration": 306,
    "start_time": "2022-03-08T04:44:08.604Z"
   },
   {
    "duration": 108,
    "start_time": "2022-03-08T04:50:58.498Z"
   },
   {
    "duration": 942,
    "start_time": "2022-03-08T04:51:14.318Z"
   },
   {
    "duration": 867,
    "start_time": "2022-03-08T04:51:44.866Z"
   },
   {
    "duration": 849,
    "start_time": "2022-03-08T04:52:02.620Z"
   },
   {
    "duration": 843,
    "start_time": "2022-03-08T04:52:10.716Z"
   },
   {
    "duration": 861,
    "start_time": "2022-03-08T04:52:29.814Z"
   },
   {
    "duration": 871,
    "start_time": "2022-03-08T05:08:53.751Z"
   },
   {
    "duration": 568,
    "start_time": "2022-03-08T05:11:31.931Z"
   },
   {
    "duration": 587,
    "start_time": "2022-03-08T05:11:50.328Z"
   },
   {
    "duration": 408,
    "start_time": "2022-03-08T05:12:16.080Z"
   },
   {
    "duration": 388,
    "start_time": "2022-03-08T05:14:26.259Z"
   },
   {
    "duration": 405,
    "start_time": "2022-03-08T05:14:57.411Z"
   },
   {
    "duration": 441,
    "start_time": "2022-03-08T05:15:23.083Z"
   },
   {
    "duration": 379,
    "start_time": "2022-03-08T05:15:52.380Z"
   },
   {
    "duration": 478,
    "start_time": "2022-03-08T05:16:09.038Z"
   },
   {
    "duration": 428,
    "start_time": "2022-03-08T05:17:05.428Z"
   },
   {
    "duration": 230,
    "start_time": "2022-03-09T11:45:46.704Z"
   },
   {
    "duration": 1059,
    "start_time": "2022-03-09T11:45:51.219Z"
   },
   {
    "duration": 16,
    "start_time": "2022-03-09T11:45:52.280Z"
   },
   {
    "duration": 16,
    "start_time": "2022-03-09T11:45:52.298Z"
   },
   {
    "duration": 138,
    "start_time": "2022-03-09T11:45:52.315Z"
   },
   {
    "duration": 28,
    "start_time": "2022-03-09T11:45:52.454Z"
   },
   {
    "duration": 138,
    "start_time": "2022-03-09T11:45:52.484Z"
   },
   {
    "duration": 23,
    "start_time": "2022-03-09T11:45:52.624Z"
   },
   {
    "duration": 9,
    "start_time": "2022-03-09T11:45:52.659Z"
   },
   {
    "duration": 79,
    "start_time": "2022-03-09T11:45:52.670Z"
   },
   {
    "duration": 19,
    "start_time": "2022-03-09T11:45:52.759Z"
   },
   {
    "duration": 10,
    "start_time": "2022-03-09T11:45:52.779Z"
   },
   {
    "duration": 12,
    "start_time": "2022-03-09T11:45:52.790Z"
   },
   {
    "duration": 10,
    "start_time": "2022-03-09T11:45:52.804Z"
   },
   {
    "duration": 193,
    "start_time": "2022-03-09T11:45:52.816Z"
   },
   {
    "duration": 71,
    "start_time": "2022-03-09T11:45:53.010Z"
   },
   {
    "duration": 8,
    "start_time": "2022-03-09T11:45:53.082Z"
   },
   {
    "duration": 14,
    "start_time": "2022-03-09T11:45:53.091Z"
   },
   {
    "duration": 71,
    "start_time": "2022-03-09T11:45:53.106Z"
   },
   {
    "duration": 70,
    "start_time": "2022-03-09T11:45:53.178Z"
   },
   {
    "duration": 17,
    "start_time": "2022-03-09T11:45:53.249Z"
   },
   {
    "duration": 11,
    "start_time": "2022-03-09T11:45:53.268Z"
   },
   {
    "duration": 23,
    "start_time": "2022-03-09T11:45:53.280Z"
   },
   {
    "duration": 10,
    "start_time": "2022-03-09T11:45:53.306Z"
   },
   {
    "duration": 51,
    "start_time": "2022-03-09T11:45:53.318Z"
   },
   {
    "duration": 8,
    "start_time": "2022-03-09T11:45:53.371Z"
   },
   {
    "duration": 247,
    "start_time": "2022-03-09T11:45:53.380Z"
   },
   {
    "duration": 32,
    "start_time": "2022-03-09T11:45:53.629Z"
   },
   {
    "duration": 12,
    "start_time": "2022-03-09T11:45:53.664Z"
   },
   {
    "duration": 413,
    "start_time": "2022-03-09T11:45:53.678Z"
   },
   {
    "duration": 6607,
    "start_time": "2022-03-09T11:45:47.486Z"
   },
   {
    "duration": 6598,
    "start_time": "2022-03-09T11:45:47.496Z"
   },
   {
    "duration": 6590,
    "start_time": "2022-03-09T11:45:47.504Z"
   },
   {
    "duration": 6582,
    "start_time": "2022-03-09T11:45:47.513Z"
   },
   {
    "duration": 6574,
    "start_time": "2022-03-09T11:45:47.522Z"
   },
   {
    "duration": 6566,
    "start_time": "2022-03-09T11:45:47.531Z"
   },
   {
    "duration": 6556,
    "start_time": "2022-03-09T11:45:47.542Z"
   },
   {
    "duration": 6548,
    "start_time": "2022-03-09T11:45:47.551Z"
   },
   {
    "duration": 6540,
    "start_time": "2022-03-09T11:45:47.560Z"
   },
   {
    "duration": 6532,
    "start_time": "2022-03-09T11:45:47.569Z"
   },
   {
    "duration": 6523,
    "start_time": "2022-03-09T11:45:47.578Z"
   },
   {
    "duration": 6498,
    "start_time": "2022-03-09T11:45:47.604Z"
   },
   {
    "duration": 6490,
    "start_time": "2022-03-09T11:45:47.613Z"
   },
   {
    "duration": 6481,
    "start_time": "2022-03-09T11:45:47.623Z"
   },
   {
    "duration": 6473,
    "start_time": "2022-03-09T11:45:47.632Z"
   },
   {
    "duration": 6463,
    "start_time": "2022-03-09T11:45:47.642Z"
   },
   {
    "duration": 6455,
    "start_time": "2022-03-09T11:45:47.651Z"
   },
   {
    "duration": 368,
    "start_time": "2022-03-09T11:46:04.748Z"
   },
   {
    "duration": 4,
    "start_time": "2022-03-09T11:46:17.531Z"
   },
   {
    "duration": 17,
    "start_time": "2022-03-09T11:46:17.539Z"
   },
   {
    "duration": 14,
    "start_time": "2022-03-09T11:46:17.558Z"
   },
   {
    "duration": 165,
    "start_time": "2022-03-09T11:46:17.574Z"
   },
   {
    "duration": 42,
    "start_time": "2022-03-09T11:46:17.741Z"
   },
   {
    "duration": 137,
    "start_time": "2022-03-09T11:46:17.784Z"
   },
   {
    "duration": 24,
    "start_time": "2022-03-09T11:46:17.923Z"
   },
   {
    "duration": 13,
    "start_time": "2022-03-09T11:46:17.948Z"
   },
   {
    "duration": 102,
    "start_time": "2022-03-09T11:46:17.962Z"
   },
   {
    "duration": 19,
    "start_time": "2022-03-09T11:46:18.066Z"
   },
   {
    "duration": 12,
    "start_time": "2022-03-09T11:46:18.087Z"
   },
   {
    "duration": 33,
    "start_time": "2022-03-09T11:46:18.100Z"
   },
   {
    "duration": 18,
    "start_time": "2022-03-09T11:46:18.135Z"
   },
   {
    "duration": 181,
    "start_time": "2022-03-09T11:46:18.155Z"
   },
   {
    "duration": 69,
    "start_time": "2022-03-09T11:46:18.338Z"
   },
   {
    "duration": 6,
    "start_time": "2022-03-09T11:46:18.409Z"
   },
   {
    "duration": 32,
    "start_time": "2022-03-09T11:46:18.417Z"
   },
   {
    "duration": 56,
    "start_time": "2022-03-09T11:46:18.452Z"
   },
   {
    "duration": 75,
    "start_time": "2022-03-09T11:46:18.510Z"
   },
   {
    "duration": 11,
    "start_time": "2022-03-09T11:46:18.587Z"
   },
   {
    "duration": 25,
    "start_time": "2022-03-09T11:46:18.600Z"
   },
   {
    "duration": 35,
    "start_time": "2022-03-09T11:46:18.626Z"
   },
   {
    "duration": 27,
    "start_time": "2022-03-09T11:46:18.662Z"
   },
   {
    "duration": 54,
    "start_time": "2022-03-09T11:46:18.691Z"
   },
   {
    "duration": 6,
    "start_time": "2022-03-09T11:46:18.747Z"
   },
   {
    "duration": 268,
    "start_time": "2022-03-09T11:46:18.754Z"
   },
   {
    "duration": 25,
    "start_time": "2022-03-09T11:46:19.023Z"
   },
   {
    "duration": 19,
    "start_time": "2022-03-09T11:46:19.049Z"
   },
   {
    "duration": 351,
    "start_time": "2022-03-09T11:46:19.069Z"
   },
   {
    "duration": 363,
    "start_time": "2022-03-09T11:46:23.627Z"
   },
   {
    "duration": 193,
    "start_time": "2022-03-09T11:48:04.583Z"
   },
   {
    "duration": 20,
    "start_time": "2022-03-09T11:48:09.344Z"
   },
   {
    "duration": 41,
    "start_time": "2022-03-09T11:48:11.151Z"
   },
   {
    "duration": 10,
    "start_time": "2022-03-09T11:48:12.870Z"
   },
   {
    "duration": 360,
    "start_time": "2022-03-09T11:48:59.936Z"
   },
   {
    "duration": 6,
    "start_time": "2022-03-09T11:49:09.635Z"
   },
   {
    "duration": 8,
    "start_time": "2022-03-09T11:49:25.897Z"
   },
   {
    "duration": 8,
    "start_time": "2022-03-09T11:49:38.440Z"
   },
   {
    "duration": 9,
    "start_time": "2022-03-09T11:49:49.976Z"
   },
   {
    "duration": 10,
    "start_time": "2022-03-09T11:49:57.994Z"
   },
   {
    "duration": 9,
    "start_time": "2022-03-09T11:51:44.251Z"
   },
   {
    "duration": 73,
    "start_time": "2022-03-09T11:52:16.831Z"
   },
   {
    "duration": 206,
    "start_time": "2022-03-09T11:53:40.546Z"
   },
   {
    "duration": 77,
    "start_time": "2022-03-09T11:59:18.046Z"
   },
   {
    "duration": 338,
    "start_time": "2022-03-09T11:59:24.866Z"
   },
   {
    "duration": 268,
    "start_time": "2022-03-09T11:59:55.863Z"
   },
   {
    "duration": 270,
    "start_time": "2022-03-09T12:00:20.772Z"
   },
   {
    "duration": 230,
    "start_time": "2022-03-09T12:26:40.529Z"
   },
   {
    "duration": 72,
    "start_time": "2022-03-09T12:27:20.583Z"
   },
   {
    "duration": 260,
    "start_time": "2022-03-09T12:27:25.594Z"
   },
   {
    "duration": 3,
    "start_time": "2022-03-09T12:30:34.224Z"
   },
   {
    "duration": 625,
    "start_time": "2022-03-09T12:30:35.806Z"
   },
   {
    "duration": 4,
    "start_time": "2022-03-09T12:31:02.575Z"
   },
   {
    "duration": 727,
    "start_time": "2022-03-09T12:31:03.922Z"
   },
   {
    "duration": 5,
    "start_time": "2022-03-09T12:31:24.372Z"
   },
   {
    "duration": 390,
    "start_time": "2022-03-09T12:31:25.686Z"
   },
   {
    "duration": 3,
    "start_time": "2022-03-09T12:31:43.256Z"
   },
   {
    "duration": 258,
    "start_time": "2022-03-09T12:31:43.521Z"
   },
   {
    "duration": 129,
    "start_time": "2022-03-09T12:43:44.588Z"
   },
   {
    "duration": 175,
    "start_time": "2022-03-09T12:55:34.665Z"
   },
   {
    "duration": 266,
    "start_time": "2022-03-09T12:55:51.350Z"
   },
   {
    "duration": 5,
    "start_time": "2022-03-09T12:56:44.171Z"
   },
   {
    "duration": 237,
    "start_time": "2022-03-09T13:04:44.747Z"
   },
   {
    "duration": 268,
    "start_time": "2022-03-09T13:04:57.119Z"
   },
   {
    "duration": 207,
    "start_time": "2022-03-09T13:13:36.513Z"
   },
   {
    "duration": 43,
    "start_time": "2022-03-09T13:14:34.432Z"
   },
   {
    "duration": 656,
    "start_time": "2022-03-09T13:16:23.493Z"
   },
   {
    "duration": 26,
    "start_time": "2022-03-09T13:16:54.054Z"
   },
   {
    "duration": 12,
    "start_time": "2022-03-09T13:18:34.697Z"
   },
   {
    "duration": 216,
    "start_time": "2022-03-09T13:19:38.606Z"
   },
   {
    "duration": 235,
    "start_time": "2022-03-09T13:45:22.177Z"
   },
   {
    "duration": 240,
    "start_time": "2022-03-09T13:51:56.794Z"
   },
   {
    "duration": 17,
    "start_time": "2022-03-09T13:56:33.977Z"
   },
   {
    "duration": 38,
    "start_time": "2022-03-09T13:56:38.393Z"
   },
   {
    "duration": 39,
    "start_time": "2022-03-09T14:02:58.332Z"
   },
   {
    "duration": 257,
    "start_time": "2022-03-09T14:15:27.463Z"
   },
   {
    "duration": 364,
    "start_time": "2022-03-09T14:52:34.262Z"
   },
   {
    "duration": 310,
    "start_time": "2022-03-09T14:52:50.006Z"
   },
   {
    "duration": 240,
    "start_time": "2022-03-09T15:00:35.452Z"
   },
   {
    "duration": 232,
    "start_time": "2022-03-09T15:00:55.463Z"
   },
   {
    "duration": 230,
    "start_time": "2022-03-09T15:01:10.190Z"
   },
   {
    "duration": 234,
    "start_time": "2022-03-09T15:01:15.950Z"
   },
   {
    "duration": 239,
    "start_time": "2022-03-09T15:01:26.500Z"
   },
   {
    "duration": 3,
    "start_time": "2022-03-09T15:01:37.498Z"
   },
   {
    "duration": 26,
    "start_time": "2022-03-09T15:01:37.505Z"
   },
   {
    "duration": 19,
    "start_time": "2022-03-09T15:01:37.533Z"
   },
   {
    "duration": 168,
    "start_time": "2022-03-09T15:01:37.554Z"
   },
   {
    "duration": 44,
    "start_time": "2022-03-09T15:01:37.724Z"
   },
   {
    "duration": 128,
    "start_time": "2022-03-09T15:01:37.770Z"
   },
   {
    "duration": 24,
    "start_time": "2022-03-09T15:01:37.900Z"
   },
   {
    "duration": 9,
    "start_time": "2022-03-09T15:01:37.927Z"
   },
   {
    "duration": 106,
    "start_time": "2022-03-09T15:01:37.938Z"
   },
   {
    "duration": 24,
    "start_time": "2022-03-09T15:01:38.046Z"
   },
   {
    "duration": 11,
    "start_time": "2022-03-09T15:01:38.071Z"
   },
   {
    "duration": 11,
    "start_time": "2022-03-09T15:01:38.083Z"
   },
   {
    "duration": 10,
    "start_time": "2022-03-09T15:01:38.096Z"
   },
   {
    "duration": 183,
    "start_time": "2022-03-09T15:01:38.108Z"
   },
   {
    "duration": 72,
    "start_time": "2022-03-09T15:01:38.293Z"
   },
   {
    "duration": 6,
    "start_time": "2022-03-09T15:01:38.367Z"
   },
   {
    "duration": 16,
    "start_time": "2022-03-09T15:01:38.375Z"
   },
   {
    "duration": 68,
    "start_time": "2022-03-09T15:01:38.392Z"
   },
   {
    "duration": 61,
    "start_time": "2022-03-09T15:01:38.462Z"
   },
   {
    "duration": 9,
    "start_time": "2022-03-09T15:01:38.525Z"
   },
   {
    "duration": 28,
    "start_time": "2022-03-09T15:01:38.535Z"
   },
   {
    "duration": 18,
    "start_time": "2022-03-09T15:01:38.564Z"
   },
   {
    "duration": 11,
    "start_time": "2022-03-09T15:01:38.584Z"
   },
   {
    "duration": 31,
    "start_time": "2022-03-09T15:01:38.597Z"
   },
   {
    "duration": 34,
    "start_time": "2022-03-09T15:01:38.629Z"
   },
   {
    "duration": 236,
    "start_time": "2022-03-09T15:01:47.050Z"
   },
   {
    "duration": 135,
    "start_time": "2022-03-09T15:03:04.454Z"
   },
   {
    "duration": 11,
    "start_time": "2022-03-09T15:03:42.840Z"
   },
   {
    "duration": 649,
    "start_time": "2022-03-09T15:03:54.072Z"
   },
   {
    "duration": 26,
    "start_time": "2022-03-09T15:04:16.166Z"
   },
   {
    "duration": 27,
    "start_time": "2022-03-09T15:04:31.649Z"
   },
   {
    "duration": 11,
    "start_time": "2022-03-09T15:04:39.224Z"
   },
   {
    "duration": 228,
    "start_time": "2022-03-09T15:05:05.060Z"
   },
   {
    "duration": 38,
    "start_time": "2022-03-09T15:05:17.897Z"
   },
   {
    "duration": 39,
    "start_time": "2022-03-09T15:05:26.226Z"
   },
   {
    "duration": 43,
    "start_time": "2022-03-09T15:05:31.714Z"
   },
   {
    "duration": 649,
    "start_time": "2022-03-09T15:05:54.961Z"
   },
   {
    "duration": 27,
    "start_time": "2022-03-09T15:05:57.265Z"
   },
   {
    "duration": 212,
    "start_time": "2022-03-09T15:07:43.333Z"
   },
   {
    "duration": 3,
    "start_time": "2022-03-09T15:08:01.326Z"
   },
   {
    "duration": 220,
    "start_time": "2022-03-09T15:08:17.349Z"
   },
   {
    "duration": 3,
    "start_time": "2022-03-09T15:08:22.862Z"
   },
   {
    "duration": 200,
    "start_time": "2022-03-09T15:08:26.126Z"
   },
   {
    "duration": 3,
    "start_time": "2022-03-09T15:08:56.616Z"
   },
   {
    "duration": 376,
    "start_time": "2022-03-09T15:09:00.663Z"
   },
   {
    "duration": 5,
    "start_time": "2022-03-09T15:09:38.608Z"
   },
   {
    "duration": 5,
    "start_time": "2022-03-09T15:10:01.191Z"
   },
   {
    "duration": 5,
    "start_time": "2022-03-09T15:10:18.992Z"
   },
   {
    "duration": 6,
    "start_time": "2022-03-09T15:10:37.341Z"
   },
   {
    "duration": 209,
    "start_time": "2022-03-09T15:16:25.350Z"
   },
   {
    "duration": 219,
    "start_time": "2022-03-09T15:16:57.552Z"
   },
   {
    "duration": 221,
    "start_time": "2022-03-09T15:17:19.367Z"
   },
   {
    "duration": 228,
    "start_time": "2022-03-09T15:17:37.414Z"
   },
   {
    "duration": 5,
    "start_time": "2022-03-09T15:17:55.823Z"
   },
   {
    "duration": 10,
    "start_time": "2022-03-09T15:18:13.348Z"
   },
   {
    "duration": 7,
    "start_time": "2022-03-09T15:19:56.836Z"
   },
   {
    "duration": 7,
    "start_time": "2022-03-09T15:20:25.241Z"
   },
   {
    "duration": 10,
    "start_time": "2022-03-09T15:20:37.935Z"
   },
   {
    "duration": 7,
    "start_time": "2022-03-09T15:20:44.190Z"
   },
   {
    "duration": 6,
    "start_time": "2022-03-09T15:21:04.305Z"
   },
   {
    "duration": 5,
    "start_time": "2022-03-09T15:24:43.545Z"
   },
   {
    "duration": 5,
    "start_time": "2022-03-09T15:24:50.314Z"
   },
   {
    "duration": 3,
    "start_time": "2022-03-09T15:25:00.363Z"
   },
   {
    "duration": 30,
    "start_time": "2022-03-09T15:25:00.372Z"
   },
   {
    "duration": 43,
    "start_time": "2022-03-09T15:25:00.404Z"
   },
   {
    "duration": 167,
    "start_time": "2022-03-09T15:25:00.449Z"
   },
   {
    "duration": 27,
    "start_time": "2022-03-09T15:25:00.617Z"
   },
   {
    "duration": 133,
    "start_time": "2022-03-09T15:25:00.645Z"
   },
   {
    "duration": 24,
    "start_time": "2022-03-09T15:25:00.779Z"
   },
   {
    "duration": 13,
    "start_time": "2022-03-09T15:25:00.805Z"
   },
   {
    "duration": 125,
    "start_time": "2022-03-09T15:25:00.821Z"
   },
   {
    "duration": 18,
    "start_time": "2022-03-09T15:25:00.948Z"
   },
   {
    "duration": 11,
    "start_time": "2022-03-09T15:25:00.969Z"
   },
   {
    "duration": 29,
    "start_time": "2022-03-09T15:25:00.982Z"
   },
   {
    "duration": 13,
    "start_time": "2022-03-09T15:25:01.013Z"
   },
   {
    "duration": 181,
    "start_time": "2022-03-09T15:25:01.027Z"
   },
   {
    "duration": 79,
    "start_time": "2022-03-09T15:25:01.210Z"
   },
   {
    "duration": 6,
    "start_time": "2022-03-09T15:25:01.291Z"
   },
   {
    "duration": 16,
    "start_time": "2022-03-09T15:25:01.298Z"
   },
   {
    "duration": 72,
    "start_time": "2022-03-09T15:25:01.315Z"
   },
   {
    "duration": 82,
    "start_time": "2022-03-09T15:25:01.389Z"
   },
   {
    "duration": 9,
    "start_time": "2022-03-09T15:25:01.473Z"
   },
   {
    "duration": 16,
    "start_time": "2022-03-09T15:25:01.483Z"
   },
   {
    "duration": 21,
    "start_time": "2022-03-09T15:25:01.501Z"
   },
   {
    "duration": 11,
    "start_time": "2022-03-09T15:25:01.524Z"
   },
   {
    "duration": 32,
    "start_time": "2022-03-09T15:25:01.559Z"
   },
   {
    "duration": 7,
    "start_time": "2022-03-09T15:25:01.593Z"
   },
   {
    "duration": 250,
    "start_time": "2022-03-09T15:25:01.601Z"
   },
   {
    "duration": 133,
    "start_time": "2022-03-09T15:25:01.859Z"
   },
   {
    "duration": 10,
    "start_time": "2022-03-09T15:25:01.994Z"
   },
   {
    "duration": 4,
    "start_time": "2022-03-09T15:25:02.005Z"
   },
   {
    "duration": 366,
    "start_time": "2022-03-09T15:25:02.011Z"
   },
   {
    "duration": 55,
    "start_time": "2022-03-09T15:25:02.379Z"
   },
   {
    "duration": 5945,
    "start_time": "2022-03-09T15:24:56.491Z"
   },
   {
    "duration": 5936,
    "start_time": "2022-03-09T15:24:56.501Z"
   },
   {
    "duration": 5928,
    "start_time": "2022-03-09T15:24:56.510Z"
   },
   {
    "duration": 5918,
    "start_time": "2022-03-09T15:24:56.521Z"
   },
   {
    "duration": 5909,
    "start_time": "2022-03-09T15:24:56.531Z"
   },
   {
    "duration": 5863,
    "start_time": "2022-03-09T15:24:56.577Z"
   },
   {
    "duration": 5853,
    "start_time": "2022-03-09T15:24:56.588Z"
   },
   {
    "duration": 5844,
    "start_time": "2022-03-09T15:24:56.598Z"
   },
   {
    "duration": 5834,
    "start_time": "2022-03-09T15:24:56.609Z"
   },
   {
    "duration": 5819,
    "start_time": "2022-03-09T15:24:56.625Z"
   },
   {
    "duration": 5808,
    "start_time": "2022-03-09T15:24:56.637Z"
   },
   {
    "duration": 5796,
    "start_time": "2022-03-09T15:24:56.650Z"
   },
   {
    "duration": 6,
    "start_time": "2022-03-09T15:25:02.745Z"
   },
   {
    "duration": 73,
    "start_time": "2022-03-09T15:25:02.757Z"
   },
   {
    "duration": 6090,
    "start_time": "2022-03-09T15:24:56.742Z"
   },
   {
    "duration": 6074,
    "start_time": "2022-03-09T15:24:56.759Z"
   },
   {
    "duration": 5,
    "start_time": "2022-03-09T15:26:59.530Z"
   },
   {
    "duration": 5,
    "start_time": "2022-03-09T15:27:23.328Z"
   },
   {
    "duration": 6,
    "start_time": "2022-03-09T15:28:02.164Z"
   },
   {
    "duration": 6,
    "start_time": "2022-03-09T15:28:18.462Z"
   },
   {
    "duration": 6,
    "start_time": "2022-03-09T15:36:36.917Z"
   },
   {
    "duration": 6,
    "start_time": "2022-03-09T15:38:49.871Z"
   },
   {
    "duration": 202,
    "start_time": "2022-03-09T15:39:09.220Z"
   },
   {
    "duration": 7,
    "start_time": "2022-03-09T15:39:42.751Z"
   },
   {
    "duration": 7,
    "start_time": "2022-03-09T15:41:12.882Z"
   },
   {
    "duration": 5,
    "start_time": "2022-03-09T15:45:50.078Z"
   },
   {
    "duration": 7,
    "start_time": "2022-03-09T15:46:34.664Z"
   },
   {
    "duration": 7,
    "start_time": "2022-03-09T15:46:57.592Z"
   },
   {
    "duration": 7,
    "start_time": "2022-03-09T15:49:04.166Z"
   },
   {
    "duration": 198,
    "start_time": "2022-03-09T15:59:42.647Z"
   },
   {
    "duration": 9,
    "start_time": "2022-03-09T15:59:47.389Z"
   },
   {
    "duration": 8,
    "start_time": "2022-03-09T15:59:48.038Z"
   },
   {
    "duration": 7,
    "start_time": "2022-03-09T16:03:00.834Z"
   },
   {
    "duration": 7,
    "start_time": "2022-03-09T16:06:00.623Z"
   },
   {
    "duration": 4,
    "start_time": "2022-03-09T16:14:02.575Z"
   },
   {
    "duration": 30,
    "start_time": "2022-03-09T16:14:03.695Z"
   },
   {
    "duration": 15,
    "start_time": "2022-03-09T16:14:04.997Z"
   },
   {
    "duration": 132,
    "start_time": "2022-03-09T16:14:13.296Z"
   },
   {
    "duration": 28,
    "start_time": "2022-03-09T16:14:15.198Z"
   },
   {
    "duration": 121,
    "start_time": "2022-03-09T16:14:35.913Z"
   },
   {
    "duration": 25,
    "start_time": "2022-03-09T16:14:37.013Z"
   },
   {
    "duration": 10,
    "start_time": "2022-03-09T16:14:40.699Z"
   },
   {
    "duration": 77,
    "start_time": "2022-03-09T16:14:42.520Z"
   },
   {
    "duration": 19,
    "start_time": "2022-03-09T16:14:43.937Z"
   },
   {
    "duration": 16,
    "start_time": "2022-03-09T16:14:57.224Z"
   },
   {
    "duration": 12,
    "start_time": "2022-03-09T16:14:57.850Z"
   },
   {
    "duration": 11,
    "start_time": "2022-03-09T16:15:10.900Z"
   },
   {
    "duration": 117,
    "start_time": "2022-03-09T16:17:34.395Z"
   },
   {
    "duration": 4856,
    "start_time": "2022-03-09T16:17:36.429Z"
   },
   {
    "duration": 3,
    "start_time": "2022-03-09T16:17:54.372Z"
   },
   {
    "duration": 27,
    "start_time": "2022-03-09T16:17:55.443Z"
   },
   {
    "duration": 15,
    "start_time": "2022-03-09T16:17:56.018Z"
   },
   {
    "duration": 138,
    "start_time": "2022-03-09T16:17:57.764Z"
   },
   {
    "duration": 28,
    "start_time": "2022-03-09T16:17:58.420Z"
   },
   {
    "duration": 122,
    "start_time": "2022-03-09T16:18:00.708Z"
   },
   {
    "duration": 24,
    "start_time": "2022-03-09T16:18:01.308Z"
   },
   {
    "duration": 10,
    "start_time": "2022-03-09T16:18:02.197Z"
   },
   {
    "duration": 80,
    "start_time": "2022-03-09T16:18:03.996Z"
   },
   {
    "duration": 20,
    "start_time": "2022-03-09T16:18:04.621Z"
   },
   {
    "duration": 11,
    "start_time": "2022-03-09T16:18:06.578Z"
   },
   {
    "duration": 12,
    "start_time": "2022-03-09T16:18:07.022Z"
   },
   {
    "duration": 11,
    "start_time": "2022-03-09T16:18:07.893Z"
   },
   {
    "duration": 153,
    "start_time": "2022-03-09T16:18:09.356Z"
   },
   {
    "duration": 63,
    "start_time": "2022-03-09T16:18:10.252Z"
   },
   {
    "duration": 7,
    "start_time": "2022-03-09T16:18:10.997Z"
   },
   {
    "duration": 15,
    "start_time": "2022-03-09T16:18:11.846Z"
   },
   {
    "duration": 52,
    "start_time": "2022-03-09T16:18:15.604Z"
   },
   {
    "duration": 65,
    "start_time": "2022-03-09T16:19:22.578Z"
   },
   {
    "duration": 48,
    "start_time": "2022-03-09T16:19:40.602Z"
   },
   {
    "duration": 45,
    "start_time": "2022-03-09T16:20:38.275Z"
   },
   {
    "duration": 49,
    "start_time": "2022-03-09T16:20:39.195Z"
   },
   {
    "duration": 50,
    "start_time": "2022-03-09T16:20:39.761Z"
   },
   {
    "duration": 10,
    "start_time": "2022-03-09T16:20:40.633Z"
   },
   {
    "duration": 10,
    "start_time": "2022-03-09T16:20:41.038Z"
   },
   {
    "duration": 17,
    "start_time": "2022-03-09T16:20:50.024Z"
   },
   {
    "duration": 12,
    "start_time": "2022-03-09T16:20:58.946Z"
   },
   {
    "duration": 33,
    "start_time": "2022-03-09T16:20:59.706Z"
   },
   {
    "duration": 7,
    "start_time": "2022-03-09T16:21:01.391Z"
   },
   {
    "duration": 315,
    "start_time": "2022-03-09T16:24:23.132Z"
   },
   {
    "duration": 259,
    "start_time": "2022-03-09T16:24:24.822Z"
   },
   {
    "duration": 44,
    "start_time": "2022-03-09T16:26:02.523Z"
   },
   {
    "duration": 687,
    "start_time": "2022-03-09T16:26:27.624Z"
   },
   {
    "duration": 29,
    "start_time": "2022-03-09T16:27:08.282Z"
   },
   {
    "duration": 11,
    "start_time": "2022-03-09T16:27:50.092Z"
   },
   {
    "duration": 229,
    "start_time": "2022-03-09T16:27:50.763Z"
   },
   {
    "duration": 11,
    "start_time": "2022-03-09T16:28:01.076Z"
   },
   {
    "duration": 235,
    "start_time": "2022-03-09T16:28:05.629Z"
   },
   {
    "duration": 233,
    "start_time": "2022-03-09T16:28:10.220Z"
   },
   {
    "duration": 251,
    "start_time": "2022-03-09T16:28:13.357Z"
   },
   {
    "duration": 31,
    "start_time": "2022-03-09T16:28:14.934Z"
   },
   {
    "duration": 39,
    "start_time": "2022-03-09T16:28:16.948Z"
   },
   {
    "duration": 8,
    "start_time": "2022-03-09T16:29:46.878Z"
   },
   {
    "duration": 5860,
    "start_time": "2022-03-09T16:29:48.008Z"
   },
   {
    "duration": 3,
    "start_time": "2022-03-09T16:30:04.322Z"
   },
   {
    "duration": 30,
    "start_time": "2022-03-09T16:30:04.332Z"
   },
   {
    "duration": 14,
    "start_time": "2022-03-09T16:30:04.364Z"
   },
   {
    "duration": 167,
    "start_time": "2022-03-09T16:30:04.380Z"
   },
   {
    "duration": 39,
    "start_time": "2022-03-09T16:30:04.549Z"
   },
   {
    "duration": 151,
    "start_time": "2022-03-09T16:30:04.590Z"
   },
   {
    "duration": 50,
    "start_time": "2022-03-09T16:30:04.743Z"
   },
   {
    "duration": 9,
    "start_time": "2022-03-09T16:30:04.796Z"
   },
   {
    "duration": 99,
    "start_time": "2022-03-09T16:30:04.807Z"
   },
   {
    "duration": 19,
    "start_time": "2022-03-09T16:30:04.907Z"
   },
   {
    "duration": 10,
    "start_time": "2022-03-09T16:30:04.928Z"
   },
   {
    "duration": 26,
    "start_time": "2022-03-09T16:30:04.940Z"
   },
   {
    "duration": 10,
    "start_time": "2022-03-09T16:30:04.968Z"
   },
   {
    "duration": 184,
    "start_time": "2022-03-09T16:30:04.980Z"
   },
   {
    "duration": 66,
    "start_time": "2022-03-09T16:30:05.165Z"
   },
   {
    "duration": 28,
    "start_time": "2022-03-09T16:30:05.233Z"
   },
   {
    "duration": 16,
    "start_time": "2022-03-09T16:30:05.262Z"
   },
   {
    "duration": 52,
    "start_time": "2022-03-09T16:30:05.280Z"
   },
   {
    "duration": 87,
    "start_time": "2022-03-09T16:30:05.336Z"
   },
   {
    "duration": 9,
    "start_time": "2022-03-09T16:30:05.426Z"
   },
   {
    "duration": 30,
    "start_time": "2022-03-09T16:30:05.437Z"
   },
   {
    "duration": 24,
    "start_time": "2022-03-09T16:30:05.469Z"
   },
   {
    "duration": 12,
    "start_time": "2022-03-09T16:30:05.494Z"
   },
   {
    "duration": 56,
    "start_time": "2022-03-09T16:30:05.507Z"
   },
   {
    "duration": 6,
    "start_time": "2022-03-09T16:30:05.565Z"
   },
   {
    "duration": 268,
    "start_time": "2022-03-09T16:30:05.573Z"
   },
   {
    "duration": 140,
    "start_time": "2022-03-09T16:30:05.842Z"
   },
   {
    "duration": 11,
    "start_time": "2022-03-09T16:30:05.984Z"
   },
   {
    "duration": 6,
    "start_time": "2022-03-09T16:30:05.997Z"
   },
   {
    "duration": 420,
    "start_time": "2022-03-09T16:30:06.005Z"
   },
   {
    "duration": 277,
    "start_time": "2022-03-09T16:30:06.427Z"
   },
   {
    "duration": 4,
    "start_time": "2022-03-09T16:30:06.706Z"
   },
   {
    "duration": 300,
    "start_time": "2022-03-09T16:30:06.711Z"
   },
   {
    "duration": 54,
    "start_time": "2022-03-09T16:30:07.012Z"
   },
   {
    "duration": 678,
    "start_time": "2022-03-09T16:30:07.068Z"
   },
   {
    "duration": 32,
    "start_time": "2022-03-09T16:30:07.748Z"
   },
   {
    "duration": 9,
    "start_time": "2022-03-09T16:30:07.781Z"
   },
   {
    "duration": 249,
    "start_time": "2022-03-09T16:30:07.792Z"
   },
   {
    "duration": 266,
    "start_time": "2022-03-09T16:30:08.042Z"
   },
   {
    "duration": 258,
    "start_time": "2022-03-09T16:30:08.310Z"
   },
   {
    "duration": 38,
    "start_time": "2022-03-09T16:30:08.570Z"
   },
   {
    "duration": 55,
    "start_time": "2022-03-09T16:30:08.610Z"
   },
   {
    "duration": 6,
    "start_time": "2022-03-09T16:30:08.667Z"
   },
   {
    "duration": 10,
    "start_time": "2022-03-09T16:30:08.675Z"
   },
   {
    "duration": 7,
    "start_time": "2022-03-09T16:30:08.686Z"
   },
   {
    "duration": 45,
    "start_time": "2022-03-18T06:45:28.587Z"
   }
  ],
  "kernelspec": {
   "display_name": "Python 3 (ipykernel)",
   "language": "python",
   "name": "python3"
  },
  "language_info": {
   "codemirror_mode": {
    "name": "ipython",
    "version": 3
   },
   "file_extension": ".py",
   "mimetype": "text/x-python",
   "name": "python",
   "nbconvert_exporter": "python",
   "pygments_lexer": "ipython3",
   "version": "3.9.13"
  },
  "toc": {
   "base_numbering": 1,
   "nav_menu": {},
   "number_sections": true,
   "sideBar": true,
   "skip_h1_title": true,
   "title_cell": "Table of Contents",
   "title_sidebar": "Contents",
   "toc_cell": false,
   "toc_position": {
    "height": "calc(100% - 180px)",
    "left": "10px",
    "top": "150px",
    "width": "165px"
   },
   "toc_section_display": true,
   "toc_window_display": true
  }
 },
 "nbformat": 4,
 "nbformat_minor": 2
}
