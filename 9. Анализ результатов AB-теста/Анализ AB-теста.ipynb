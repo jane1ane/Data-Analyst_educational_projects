{
 "cells": [
  {
   "cell_type": "markdown",
   "metadata": {},
   "source": [
    "## Описание проекта и цели исследования\n",
    "\n",
    "В нашем распоряжении есть список гипотез для увеличения выручки и данные, собранные в ходе проведения A/B теста. Задачей исследования будет приоритезация гипотез и анализ результатов A/B теста. По результатам необходимо принять одно из решений: \n",
    "1. Остановить тест, зафиксировать победу одной из групп. \n",
    "2. Остановить тест, зафиксировать отсутствие различий между группами. \n",
    "3. Продолжить тест.\n",
    "\n",
    "Гипотезы по увеличению выручки интернет-магазина с указанными параметрами Reach, Impact, Confidence, Effort храняться в файле hypothesis.csv. Для выполнения целей исследования в части приоритезации гипотез применим фреймворки ICE и RICE, изучим различие в приоритетах.\n",
    "\n",
    "Результаты A/B-теста записаны в файлах orders.csv и visitors.csv.\n",
    "\n",
    "В ходе исследования построим графики кумулятивных показателей, интерпретируем их. Поищем выбросы в данных, выберем границу для определения аномальных пользователей. Посчитаем статистическую значимость различий в  конверсии и среднем чеке заказа между группами по «сырым» данным. Повторим расчеты статистической значимости различий в конверсии и среднем чеке между группами по «очищенным» данным. Сделаем выводы и примем решение по результатам теста."
   ]
  },
  {
   "cell_type": "markdown",
   "metadata": {},
   "source": [
    "## Загрузка и предобработка данных"
   ]
  },
  {
   "cell_type": "code",
   "execution_count": 5,
   "metadata": {},
   "outputs": [],
   "source": [
    "# загружаем библиотеки\n",
    "import pandas as pd\n",
    "import numpy as np\n",
    "import scipy.stats as stats\n",
    "from datetime import datetime, timedelta\n",
    "from matplotlib import pyplot as plt\n",
    "from pandas.plotting import register_matplotlib_converters\n",
    "# конвертеры, которые позволяют использовать типы pandas в matplotlib \n",
    "register_matplotlib_converters()\n",
    "\n",
    "#pd.set_option(\"max_colwidth\", 90)\n",
    "pd.set_option('display.max_colwidth', 150)"
   ]
  },
  {
   "cell_type": "code",
   "execution_count": 6,
   "metadata": {},
   "outputs": [],
   "source": [
    "# загружаем данные\n",
    "\n",
    "hypothesis = pd.read_csv('*')\n",
    "visitors = pd.read_csv('*')\n",
    "orders = pd.read_csv('*')\n"
   ]
  },
  {
   "cell_type": "code",
   "execution_count": 7,
   "metadata": {},
   "outputs": [
    {
     "data": {
      "text/html": [
       "<div>\n",
       "<style scoped>\n",
       "    .dataframe tbody tr th:only-of-type {\n",
       "        vertical-align: middle;\n",
       "    }\n",
       "\n",
       "    .dataframe tbody tr th {\n",
       "        vertical-align: top;\n",
       "    }\n",
       "\n",
       "    .dataframe thead th {\n",
       "        text-align: right;\n",
       "    }\n",
       "</style>\n",
       "<table border=\"1\" class=\"dataframe\">\n",
       "  <thead>\n",
       "    <tr style=\"text-align: right;\">\n",
       "      <th></th>\n",
       "      <th>Hypothesis</th>\n",
       "      <th>Reach</th>\n",
       "      <th>Impact</th>\n",
       "      <th>Confidence</th>\n",
       "      <th>Efforts</th>\n",
       "    </tr>\n",
       "  </thead>\n",
       "  <tbody>\n",
       "    <tr>\n",
       "      <th>0</th>\n",
       "      <td>Добавить два новых канала привлечения трафика, что позволит привлекать на 30% больше пользователей</td>\n",
       "      <td>3</td>\n",
       "      <td>10</td>\n",
       "      <td>8</td>\n",
       "      <td>6</td>\n",
       "    </tr>\n",
       "    <tr>\n",
       "      <th>1</th>\n",
       "      <td>Запустить собственную службу доставки, что сократит срок доставки заказов</td>\n",
       "      <td>2</td>\n",
       "      <td>5</td>\n",
       "      <td>4</td>\n",
       "      <td>10</td>\n",
       "    </tr>\n",
       "    <tr>\n",
       "      <th>2</th>\n",
       "      <td>Добавить блоки рекомендаций товаров на сайт интернет магазина, чтобы повысить конверсию и средний чек заказа</td>\n",
       "      <td>8</td>\n",
       "      <td>3</td>\n",
       "      <td>7</td>\n",
       "      <td>3</td>\n",
       "    </tr>\n",
       "    <tr>\n",
       "      <th>3</th>\n",
       "      <td>Изменить структура категорий, что увеличит конверсию, т.к. пользователи быстрее найдут нужный товар</td>\n",
       "      <td>8</td>\n",
       "      <td>3</td>\n",
       "      <td>3</td>\n",
       "      <td>8</td>\n",
       "    </tr>\n",
       "    <tr>\n",
       "      <th>4</th>\n",
       "      <td>Изменить цвет фона главной страницы, чтобы увеличить вовлеченность пользователей</td>\n",
       "      <td>3</td>\n",
       "      <td>1</td>\n",
       "      <td>1</td>\n",
       "      <td>1</td>\n",
       "    </tr>\n",
       "    <tr>\n",
       "      <th>5</th>\n",
       "      <td>Добавить страницу отзывов клиентов о магазине, что позволит увеличить количество заказов</td>\n",
       "      <td>3</td>\n",
       "      <td>2</td>\n",
       "      <td>2</td>\n",
       "      <td>3</td>\n",
       "    </tr>\n",
       "    <tr>\n",
       "      <th>6</th>\n",
       "      <td>Показать на главной странице баннеры с актуальными акциями и распродажами, чтобы увеличить конверсию</td>\n",
       "      <td>5</td>\n",
       "      <td>3</td>\n",
       "      <td>8</td>\n",
       "      <td>3</td>\n",
       "    </tr>\n",
       "    <tr>\n",
       "      <th>7</th>\n",
       "      <td>Добавить форму подписки на все основные страницы, чтобы собрать базу клиентов для email-рассылок</td>\n",
       "      <td>10</td>\n",
       "      <td>7</td>\n",
       "      <td>8</td>\n",
       "      <td>5</td>\n",
       "    </tr>\n",
       "    <tr>\n",
       "      <th>8</th>\n",
       "      <td>Запустить акцию, дающую скидку на товар в день рождения</td>\n",
       "      <td>1</td>\n",
       "      <td>9</td>\n",
       "      <td>9</td>\n",
       "      <td>5</td>\n",
       "    </tr>\n",
       "  </tbody>\n",
       "</table>\n",
       "</div>"
      ],
      "text/plain": [
       "                                                                                                     Hypothesis  \\\n",
       "0            Добавить два новых канала привлечения трафика, что позволит привлекать на 30% больше пользователей   \n",
       "1                                     Запустить собственную службу доставки, что сократит срок доставки заказов   \n",
       "2  Добавить блоки рекомендаций товаров на сайт интернет магазина, чтобы повысить конверсию и средний чек заказа   \n",
       "3           Изменить структура категорий, что увеличит конверсию, т.к. пользователи быстрее найдут нужный товар   \n",
       "4                              Изменить цвет фона главной страницы, чтобы увеличить вовлеченность пользователей   \n",
       "5                      Добавить страницу отзывов клиентов о магазине, что позволит увеличить количество заказов   \n",
       "6          Показать на главной странице баннеры с актуальными акциями и распродажами, чтобы увеличить конверсию   \n",
       "7              Добавить форму подписки на все основные страницы, чтобы собрать базу клиентов для email-рассылок   \n",
       "8                                                       Запустить акцию, дающую скидку на товар в день рождения   \n",
       "\n",
       "   Reach  Impact  Confidence  Efforts  \n",
       "0      3      10           8        6  \n",
       "1      2       5           4       10  \n",
       "2      8       3           7        3  \n",
       "3      8       3           3        8  \n",
       "4      3       1           1        1  \n",
       "5      3       2           2        3  \n",
       "6      5       3           8        3  \n",
       "7     10       7           8        5  \n",
       "8      1       9           9        5  "
      ]
     },
     "metadata": {},
     "output_type": "display_data"
    },
    {
     "name": "stdout",
     "output_type": "stream",
     "text": [
      "<class 'pandas.core.frame.DataFrame'>\n",
      "RangeIndex: 9 entries, 0 to 8\n",
      "Data columns (total 5 columns):\n",
      " #   Column      Non-Null Count  Dtype \n",
      "---  ------      --------------  ----- \n",
      " 0   Hypothesis  9 non-null      object\n",
      " 1   Reach       9 non-null      int64 \n",
      " 2   Impact      9 non-null      int64 \n",
      " 3   Confidence  9 non-null      int64 \n",
      " 4   Efforts     9 non-null      int64 \n",
      "dtypes: int64(4), object(1)\n",
      "memory usage: 488.0+ bytes\n"
     ]
    },
    {
     "data": {
      "text/plain": [
       "None"
      ]
     },
     "metadata": {},
     "output_type": "display_data"
    },
    {
     "name": "stdout",
     "output_type": "stream",
     "text": [
      "Явных дубликатов в данных: 0. Это 0.00% от всех значений.\n",
      "\n",
      "Уникальных значений в колонке Hypothesis - 9\n",
      "Уникальных значений в колонке Reach - 6\n",
      "Уникальных значений в колонке Impact - 7\n",
      "Уникальных значений в колонке Confidence - 7\n",
      "Уникальных значений в колонке Efforts - 6\n"
     ]
    }
   ],
   "source": [
    "# Функция для предварительного ознакомления с данными. \n",
    "\n",
    "def hello_data(data):\n",
    "    \n",
    "    ''' Выводит первые строки, \n",
    "                info, \n",
    "                уникальные значения\n",
    "                и пропуски, если они есть '''\n",
    "    \n",
    "    columns = data.columns \n",
    "    display(data.head(10))\n",
    "    display(data.info())\n",
    "    lost_values = data.duplicated().sum()\n",
    "   \n",
    "    print(\n",
    "        f'Явных дубликатов в данных: {lost_values}. Это {lost_values / len(data) * 100:.2f}% от всех значений.'\n",
    "         )\n",
    "    print()\n",
    "        \n",
    "    for column in columns: # для каждой колонки\n",
    "        try:\n",
    "            unique_value = (len(data[column].unique())) # считаем уникальные значения \n",
    "        except AssertionError:\n",
    "            pass\n",
    "        \n",
    "        if data[column].isna().sum() != 0: # если в колонке есть пропуски\n",
    "            print( f'Уникальных значений в колонке {column} - {unique_value}') #выводим количество уникальных значений\n",
    "            persent = (data[column].isna().sum() / len(data[column]) * 100) # считаем сколько это в процентах и округляем методом \"round\"\n",
    "            print('Пропущенных строк в колонке {} - {:.1f} %'.format(column, persent))\n",
    "            print(\"_\"*20)\n",
    "        else: print( f'Уникальных значений в колонке {column} - {unique_value}') # если пропусков не нашли, то выводим количество уникальных значений  \n",
    "\n",
    "hello_data(hypothesis)"
   ]
  },
  {
   "cell_type": "markdown",
   "metadata": {},
   "source": [
    "Проблем в данных нет, но колонки хорошо бы привести к нижнему регистру. Смотрим на следующую табицу."
   ]
  },
  {
   "cell_type": "code",
   "execution_count": 8,
   "metadata": {},
   "outputs": [
    {
     "data": {
      "text/html": [
       "<div>\n",
       "<style scoped>\n",
       "    .dataframe tbody tr th:only-of-type {\n",
       "        vertical-align: middle;\n",
       "    }\n",
       "\n",
       "    .dataframe tbody tr th {\n",
       "        vertical-align: top;\n",
       "    }\n",
       "\n",
       "    .dataframe thead th {\n",
       "        text-align: right;\n",
       "    }\n",
       "</style>\n",
       "<table border=\"1\" class=\"dataframe\">\n",
       "  <thead>\n",
       "    <tr style=\"text-align: right;\">\n",
       "      <th></th>\n",
       "      <th>transactionId</th>\n",
       "      <th>visitorId</th>\n",
       "      <th>date</th>\n",
       "      <th>revenue</th>\n",
       "      <th>group</th>\n",
       "    </tr>\n",
       "  </thead>\n",
       "  <tbody>\n",
       "    <tr>\n",
       "      <th>0</th>\n",
       "      <td>3667963787</td>\n",
       "      <td>3312258926</td>\n",
       "      <td>2019-08-15</td>\n",
       "      <td>1650</td>\n",
       "      <td>B</td>\n",
       "    </tr>\n",
       "    <tr>\n",
       "      <th>1</th>\n",
       "      <td>2804400009</td>\n",
       "      <td>3642806036</td>\n",
       "      <td>2019-08-15</td>\n",
       "      <td>730</td>\n",
       "      <td>B</td>\n",
       "    </tr>\n",
       "    <tr>\n",
       "      <th>2</th>\n",
       "      <td>2961555356</td>\n",
       "      <td>4069496402</td>\n",
       "      <td>2019-08-15</td>\n",
       "      <td>400</td>\n",
       "      <td>A</td>\n",
       "    </tr>\n",
       "    <tr>\n",
       "      <th>3</th>\n",
       "      <td>3797467345</td>\n",
       "      <td>1196621759</td>\n",
       "      <td>2019-08-15</td>\n",
       "      <td>9759</td>\n",
       "      <td>B</td>\n",
       "    </tr>\n",
       "    <tr>\n",
       "      <th>4</th>\n",
       "      <td>2282983706</td>\n",
       "      <td>2322279887</td>\n",
       "      <td>2019-08-15</td>\n",
       "      <td>2308</td>\n",
       "      <td>B</td>\n",
       "    </tr>\n",
       "    <tr>\n",
       "      <th>5</th>\n",
       "      <td>182168103</td>\n",
       "      <td>935554773</td>\n",
       "      <td>2019-08-15</td>\n",
       "      <td>2210</td>\n",
       "      <td>B</td>\n",
       "    </tr>\n",
       "    <tr>\n",
       "      <th>6</th>\n",
       "      <td>398296753</td>\n",
       "      <td>2900797465</td>\n",
       "      <td>2019-08-15</td>\n",
       "      <td>1860</td>\n",
       "      <td>B</td>\n",
       "    </tr>\n",
       "    <tr>\n",
       "      <th>7</th>\n",
       "      <td>2626614568</td>\n",
       "      <td>78758296</td>\n",
       "      <td>2019-08-15</td>\n",
       "      <td>1044</td>\n",
       "      <td>A</td>\n",
       "    </tr>\n",
       "    <tr>\n",
       "      <th>8</th>\n",
       "      <td>1576988021</td>\n",
       "      <td>295230930</td>\n",
       "      <td>2019-08-15</td>\n",
       "      <td>13710</td>\n",
       "      <td>A</td>\n",
       "    </tr>\n",
       "    <tr>\n",
       "      <th>9</th>\n",
       "      <td>1506739906</td>\n",
       "      <td>1882260405</td>\n",
       "      <td>2019-08-15</td>\n",
       "      <td>1855</td>\n",
       "      <td>B</td>\n",
       "    </tr>\n",
       "  </tbody>\n",
       "</table>\n",
       "</div>"
      ],
      "text/plain": [
       "   transactionId   visitorId        date  revenue group\n",
       "0     3667963787  3312258926  2019-08-15     1650     B\n",
       "1     2804400009  3642806036  2019-08-15      730     B\n",
       "2     2961555356  4069496402  2019-08-15      400     A\n",
       "3     3797467345  1196621759  2019-08-15     9759     B\n",
       "4     2282983706  2322279887  2019-08-15     2308     B\n",
       "5      182168103   935554773  2019-08-15     2210     B\n",
       "6      398296753  2900797465  2019-08-15     1860     B\n",
       "7     2626614568    78758296  2019-08-15     1044     A\n",
       "8     1576988021   295230930  2019-08-15    13710     A\n",
       "9     1506739906  1882260405  2019-08-15     1855     B"
      ]
     },
     "metadata": {},
     "output_type": "display_data"
    },
    {
     "name": "stdout",
     "output_type": "stream",
     "text": [
      "<class 'pandas.core.frame.DataFrame'>\n",
      "RangeIndex: 1197 entries, 0 to 1196\n",
      "Data columns (total 5 columns):\n",
      " #   Column         Non-Null Count  Dtype \n",
      "---  ------         --------------  ----- \n",
      " 0   transactionId  1197 non-null   int64 \n",
      " 1   visitorId      1197 non-null   int64 \n",
      " 2   date           1197 non-null   object\n",
      " 3   revenue        1197 non-null   int64 \n",
      " 4   group          1197 non-null   object\n",
      "dtypes: int64(3), object(2)\n",
      "memory usage: 46.9+ KB\n"
     ]
    },
    {
     "data": {
      "text/plain": [
       "None"
      ]
     },
     "metadata": {},
     "output_type": "display_data"
    },
    {
     "name": "stdout",
     "output_type": "stream",
     "text": [
      "Явных дубликатов в данных: 0. Это 0.00% от всех значений.\n",
      "\n",
      "Уникальных значений в колонке transactionId - 1197\n",
      "Уникальных значений в колонке visitorId - 1031\n",
      "Уникальных значений в колонке date - 31\n",
      "Уникальных значений в колонке revenue - 713\n",
      "Уникальных значений в колонке group - 2\n"
     ]
    }
   ],
   "source": [
    "# смотрим общую информацию а датасете \"orders\" \n",
    "hello_data(orders)"
   ]
  },
  {
   "cell_type": "markdown",
   "metadata": {},
   "source": [
    "Здесь тоже проблем в данных нет, но нужно привести колонку date к типу datetime. Ну и смотрим третью таблицу."
   ]
  },
  {
   "cell_type": "code",
   "execution_count": 9,
   "metadata": {},
   "outputs": [
    {
     "data": {
      "text/html": [
       "<div>\n",
       "<style scoped>\n",
       "    .dataframe tbody tr th:only-of-type {\n",
       "        vertical-align: middle;\n",
       "    }\n",
       "\n",
       "    .dataframe tbody tr th {\n",
       "        vertical-align: top;\n",
       "    }\n",
       "\n",
       "    .dataframe thead th {\n",
       "        text-align: right;\n",
       "    }\n",
       "</style>\n",
       "<table border=\"1\" class=\"dataframe\">\n",
       "  <thead>\n",
       "    <tr style=\"text-align: right;\">\n",
       "      <th></th>\n",
       "      <th>date</th>\n",
       "      <th>group</th>\n",
       "      <th>visitors</th>\n",
       "    </tr>\n",
       "  </thead>\n",
       "  <tbody>\n",
       "    <tr>\n",
       "      <th>0</th>\n",
       "      <td>2019-08-01</td>\n",
       "      <td>A</td>\n",
       "      <td>719</td>\n",
       "    </tr>\n",
       "    <tr>\n",
       "      <th>1</th>\n",
       "      <td>2019-08-02</td>\n",
       "      <td>A</td>\n",
       "      <td>619</td>\n",
       "    </tr>\n",
       "    <tr>\n",
       "      <th>2</th>\n",
       "      <td>2019-08-03</td>\n",
       "      <td>A</td>\n",
       "      <td>507</td>\n",
       "    </tr>\n",
       "    <tr>\n",
       "      <th>3</th>\n",
       "      <td>2019-08-04</td>\n",
       "      <td>A</td>\n",
       "      <td>717</td>\n",
       "    </tr>\n",
       "    <tr>\n",
       "      <th>4</th>\n",
       "      <td>2019-08-05</td>\n",
       "      <td>A</td>\n",
       "      <td>756</td>\n",
       "    </tr>\n",
       "    <tr>\n",
       "      <th>5</th>\n",
       "      <td>2019-08-06</td>\n",
       "      <td>A</td>\n",
       "      <td>667</td>\n",
       "    </tr>\n",
       "    <tr>\n",
       "      <th>6</th>\n",
       "      <td>2019-08-07</td>\n",
       "      <td>A</td>\n",
       "      <td>644</td>\n",
       "    </tr>\n",
       "    <tr>\n",
       "      <th>7</th>\n",
       "      <td>2019-08-08</td>\n",
       "      <td>A</td>\n",
       "      <td>610</td>\n",
       "    </tr>\n",
       "    <tr>\n",
       "      <th>8</th>\n",
       "      <td>2019-08-09</td>\n",
       "      <td>A</td>\n",
       "      <td>617</td>\n",
       "    </tr>\n",
       "    <tr>\n",
       "      <th>9</th>\n",
       "      <td>2019-08-10</td>\n",
       "      <td>A</td>\n",
       "      <td>406</td>\n",
       "    </tr>\n",
       "  </tbody>\n",
       "</table>\n",
       "</div>"
      ],
      "text/plain": [
       "         date group  visitors\n",
       "0  2019-08-01     A       719\n",
       "1  2019-08-02     A       619\n",
       "2  2019-08-03     A       507\n",
       "3  2019-08-04     A       717\n",
       "4  2019-08-05     A       756\n",
       "5  2019-08-06     A       667\n",
       "6  2019-08-07     A       644\n",
       "7  2019-08-08     A       610\n",
       "8  2019-08-09     A       617\n",
       "9  2019-08-10     A       406"
      ]
     },
     "metadata": {},
     "output_type": "display_data"
    },
    {
     "name": "stdout",
     "output_type": "stream",
     "text": [
      "<class 'pandas.core.frame.DataFrame'>\n",
      "RangeIndex: 62 entries, 0 to 61\n",
      "Data columns (total 3 columns):\n",
      " #   Column    Non-Null Count  Dtype \n",
      "---  ------    --------------  ----- \n",
      " 0   date      62 non-null     object\n",
      " 1   group     62 non-null     object\n",
      " 2   visitors  62 non-null     int64 \n",
      "dtypes: int64(1), object(2)\n",
      "memory usage: 1.6+ KB\n"
     ]
    },
    {
     "data": {
      "text/plain": [
       "None"
      ]
     },
     "metadata": {},
     "output_type": "display_data"
    },
    {
     "name": "stdout",
     "output_type": "stream",
     "text": [
      "Явных дубликатов в данных: 0. Это 0.00% от всех значений.\n",
      "\n",
      "Уникальных значений в колонке date - 31\n",
      "Уникальных значений в колонке group - 2\n",
      "Уникальных значений в колонке visitors - 58\n"
     ]
    }
   ],
   "source": [
    "# смотрим общую информацию а датасете \"visitors\" \n",
    "hello_data(visitors)"
   ]
  },
  {
   "cell_type": "markdown",
   "metadata": {},
   "source": [
    "Во всех трех таблицах проблем  в данных не обнаружено, но для дальнейшей работы необходимо привести значения колонок \"date\" к типу datetime и обработаем также названия колонок."
   ]
  },
  {
   "cell_type": "code",
   "execution_count": 10,
   "metadata": {},
   "outputs": [],
   "source": [
    "#приводим название колонок hypothesis к нижнему регистру\n",
    "hypothesis.columns = hypothesis.columns.str.lower()"
   ]
  },
  {
   "cell_type": "code",
   "execution_count": 11,
   "metadata": {},
   "outputs": [
    {
     "data": {
      "text/html": [
       "<div>\n",
       "<style scoped>\n",
       "    .dataframe tbody tr th:only-of-type {\n",
       "        vertical-align: middle;\n",
       "    }\n",
       "\n",
       "    .dataframe tbody tr th {\n",
       "        vertical-align: top;\n",
       "    }\n",
       "\n",
       "    .dataframe thead th {\n",
       "        text-align: right;\n",
       "    }\n",
       "</style>\n",
       "<table border=\"1\" class=\"dataframe\">\n",
       "  <thead>\n",
       "    <tr style=\"text-align: right;\">\n",
       "      <th></th>\n",
       "      <th>orderId</th>\n",
       "      <th>userId</th>\n",
       "      <th>date</th>\n",
       "      <th>revenue</th>\n",
       "      <th>group</th>\n",
       "    </tr>\n",
       "  </thead>\n",
       "  <tbody>\n",
       "    <tr>\n",
       "      <th>0</th>\n",
       "      <td>3667963787</td>\n",
       "      <td>3312258926</td>\n",
       "      <td>2019-08-15</td>\n",
       "      <td>1650</td>\n",
       "      <td>B</td>\n",
       "    </tr>\n",
       "    <tr>\n",
       "      <th>1</th>\n",
       "      <td>2804400009</td>\n",
       "      <td>3642806036</td>\n",
       "      <td>2019-08-15</td>\n",
       "      <td>730</td>\n",
       "      <td>B</td>\n",
       "    </tr>\n",
       "    <tr>\n",
       "      <th>2</th>\n",
       "      <td>2961555356</td>\n",
       "      <td>4069496402</td>\n",
       "      <td>2019-08-15</td>\n",
       "      <td>400</td>\n",
       "      <td>A</td>\n",
       "    </tr>\n",
       "    <tr>\n",
       "      <th>3</th>\n",
       "      <td>3797467345</td>\n",
       "      <td>1196621759</td>\n",
       "      <td>2019-08-15</td>\n",
       "      <td>9759</td>\n",
       "      <td>B</td>\n",
       "    </tr>\n",
       "    <tr>\n",
       "      <th>4</th>\n",
       "      <td>2282983706</td>\n",
       "      <td>2322279887</td>\n",
       "      <td>2019-08-15</td>\n",
       "      <td>2308</td>\n",
       "      <td>B</td>\n",
       "    </tr>\n",
       "  </tbody>\n",
       "</table>\n",
       "</div>"
      ],
      "text/plain": [
       "      orderId      userId        date  revenue group\n",
       "0  3667963787  3312258926  2019-08-15     1650     B\n",
       "1  2804400009  3642806036  2019-08-15      730     B\n",
       "2  2961555356  4069496402  2019-08-15      400     A\n",
       "3  3797467345  1196621759  2019-08-15     9759     B\n",
       "4  2282983706  2322279887  2019-08-15     2308     B"
      ]
     },
     "execution_count": 11,
     "metadata": {},
     "output_type": "execute_result"
    }
   ],
   "source": [
    "# переименовываем колонки для удобства работы\n",
    "orders = orders.rename(columns = {'transactionId' : 'orderId', 'visitorId': 'userId'})\n",
    "orders.head()"
   ]
  },
  {
   "cell_type": "markdown",
   "metadata": {},
   "source": [
    "Проверим есть ли у нас пересечение пользователей между группами."
   ]
  },
  {
   "cell_type": "code",
   "execution_count": 12,
   "metadata": {},
   "outputs": [
    {
     "data": {
      "text/plain": [
       "'В обе группы попало - 58 пользователей'"
      ]
     },
     "metadata": {},
     "output_type": "display_data"
    }
   ],
   "source": [
    "# отбираем группы из данных с заказами \n",
    "group_a = orders.query('group == \"A\"') \n",
    "group_b = orders.query('group == \"B\"') \n",
    "  \n",
    "# получаем пользователей, попавших в обе группы с помощью \"intersect1d\",\n",
    "# он возвращает отсортированные уникальные значения, которые находятся в обоих входных массивах.\n",
    "group_a_and_b = list(np.intersect1d(group_a['userId'], group_b['userId']))\n",
    "display('В обе группы попало - {0} пользователей'.format(len(group_a_and_b)))"
   ]
  },
  {
   "cell_type": "code",
   "execution_count": 13,
   "metadata": {},
   "outputs": [
    {
     "data": {
      "text/plain": [
       "'Пересечение в группах - 4.85%'"
      ]
     },
     "metadata": {},
     "output_type": "display_data"
    }
   ],
   "source": [
    "# считаем сколько это в процентах от всех пользователей\n",
    "persent = round(len(group_a_and_b) / len(orders) * 100, 2)\n",
    "\n",
    "display('Пересечение в группах - {0}%'.format(persent))"
   ]
  },
  {
   "cell_type": "markdown",
   "metadata": {},
   "source": [
    "Нашли 58 пользователей, которые попали в обе группы теста. Их  менее 5% от общего числа. Стоило бы, конечно, удалить этих пользователей из наших двух таблиц с визитами и заказами, но таблица визитов не содержит id пользоватлей, только их количество.  Если мы уберем только совершенные ими заказы, то расчеты конверсии будут не верными. Поэтому оставляем как есть, но стоит разобраться с настройками при проведении теста и выяснить причину."
   ]
  },
  {
   "cell_type": "code",
   "execution_count": 41,
   "metadata": {},
   "outputs": [
    {
     "data": {
      "text/plain": [
       "'В таблице \"orders\" начальная дата 2019-08-01, конечная дата 2019-08-31'"
      ]
     },
     "metadata": {},
     "output_type": "display_data"
    },
    {
     "data": {
      "text/plain": [
       "'В таблице \"visitors\" начальная дата 2019-08-01, конечная дата 2019-08-31'"
      ]
     },
     "metadata": {},
     "output_type": "display_data"
    }
   ],
   "source": [
    "# переводим тип данных в datetime\n",
    "visitors['date'] = pd.to_datetime(visitors['date']).dt.date \n",
    "orders['date'] = pd.to_datetime(orders['date']).dt.date \n",
    "# смотрим минимальную и максимальную дату\n",
    "display('В таблице \"orders\" начальная дата {}, конечная дата {}'.format(orders['date'].min(), orders['date'].max()))\n",
    "display('В таблице \"visitors\" начальная дата {}, конечная дата {}'.format(visitors['date'].min(), visitors['date'].max()))"
   ]
  },
  {
   "cell_type": "markdown",
   "metadata": {},
   "source": [
    "### Вывод \n",
    "\n",
    "Данные загружены и проверены. Проблем в выгрузке данных нет. Но нашли пользователей, которые попали в обе группы теста. Так как их менее 5% и нет возможности исключить их из таблицы Visitors, было решено оставить данные в таком виде, однако стоит выяснить причину по которой это произошло.\n",
    "\n",
    "Также выполнено переименование колонок и заменен тип данных на дату, где это было необходимо. Проверены минимальная и максимальная дата в имеющихся таблицах \"orders\" и \"visitors\". Даты совпали, в нашем распоряжении имеются данные за 1 месяц: с 1 по 3 августа 2019 года. \n",
    "\n",
    "## Приоритизация гипотез.\n",
    "\n",
    "В файле hypothesis.csv  есть данные о 9 гипотезах по увеличению выручки интернет-магазина с указанными параметрами для принятия решения:\n",
    "\n",
    "- Reach — скольких пользователей затронет изменение, которое собираемся внести;\n",
    "- Impact — насколько сильно изменение повлияет на пользователей, их опыт и удовлетворение от продукта;\n",
    "- Confidence — степерь уверенности, что это изменение повлияет на пользователей именно так;\n",
    "- Efforts — сколько стоит протестировать эту гипотезу.\n",
    "\n",
    "Используя 2 фрэймворка ICE и RICE выполним приоритезацию гипотез и посмотрим какие результаты это даст."
   ]
  },
  {
   "cell_type": "code",
   "execution_count": 15,
   "metadata": {},
   "outputs": [
    {
     "data": {
      "text/html": [
       "<div>\n",
       "<style scoped>\n",
       "    .dataframe tbody tr th:only-of-type {\n",
       "        vertical-align: middle;\n",
       "    }\n",
       "\n",
       "    .dataframe tbody tr th {\n",
       "        vertical-align: top;\n",
       "    }\n",
       "\n",
       "    .dataframe thead th {\n",
       "        text-align: right;\n",
       "    }\n",
       "</style>\n",
       "<table border=\"1\" class=\"dataframe\">\n",
       "  <thead>\n",
       "    <tr style=\"text-align: right;\">\n",
       "      <th></th>\n",
       "      <th>hypothesis</th>\n",
       "      <th>reach</th>\n",
       "      <th>impact</th>\n",
       "      <th>confidence</th>\n",
       "      <th>efforts</th>\n",
       "      <th>ICE</th>\n",
       "    </tr>\n",
       "  </thead>\n",
       "  <tbody>\n",
       "    <tr>\n",
       "      <th>8</th>\n",
       "      <td>Запустить акцию, дающую скидку на товар в день рождения</td>\n",
       "      <td>1</td>\n",
       "      <td>9</td>\n",
       "      <td>9</td>\n",
       "      <td>5</td>\n",
       "      <td>16.2</td>\n",
       "    </tr>\n",
       "    <tr>\n",
       "      <th>0</th>\n",
       "      <td>Добавить два новых канала привлечения трафика, что позволит привлекать на 30% больше пользователей</td>\n",
       "      <td>3</td>\n",
       "      <td>10</td>\n",
       "      <td>8</td>\n",
       "      <td>6</td>\n",
       "      <td>13.3</td>\n",
       "    </tr>\n",
       "    <tr>\n",
       "      <th>7</th>\n",
       "      <td>Добавить форму подписки на все основные страницы, чтобы собрать базу клиентов для email-рассылок</td>\n",
       "      <td>10</td>\n",
       "      <td>7</td>\n",
       "      <td>8</td>\n",
       "      <td>5</td>\n",
       "      <td>11.2</td>\n",
       "    </tr>\n",
       "    <tr>\n",
       "      <th>6</th>\n",
       "      <td>Показать на главной странице баннеры с актуальными акциями и распродажами, чтобы увеличить конверсию</td>\n",
       "      <td>5</td>\n",
       "      <td>3</td>\n",
       "      <td>8</td>\n",
       "      <td>3</td>\n",
       "      <td>8.0</td>\n",
       "    </tr>\n",
       "    <tr>\n",
       "      <th>2</th>\n",
       "      <td>Добавить блоки рекомендаций товаров на сайт интернет магазина, чтобы повысить конверсию и средний чек заказа</td>\n",
       "      <td>8</td>\n",
       "      <td>3</td>\n",
       "      <td>7</td>\n",
       "      <td>3</td>\n",
       "      <td>7.0</td>\n",
       "    </tr>\n",
       "    <tr>\n",
       "      <th>1</th>\n",
       "      <td>Запустить собственную службу доставки, что сократит срок доставки заказов</td>\n",
       "      <td>2</td>\n",
       "      <td>5</td>\n",
       "      <td>4</td>\n",
       "      <td>10</td>\n",
       "      <td>2.0</td>\n",
       "    </tr>\n",
       "    <tr>\n",
       "      <th>5</th>\n",
       "      <td>Добавить страницу отзывов клиентов о магазине, что позволит увеличить количество заказов</td>\n",
       "      <td>3</td>\n",
       "      <td>2</td>\n",
       "      <td>2</td>\n",
       "      <td>3</td>\n",
       "      <td>1.3</td>\n",
       "    </tr>\n",
       "    <tr>\n",
       "      <th>3</th>\n",
       "      <td>Изменить структура категорий, что увеличит конверсию, т.к. пользователи быстрее найдут нужный товар</td>\n",
       "      <td>8</td>\n",
       "      <td>3</td>\n",
       "      <td>3</td>\n",
       "      <td>8</td>\n",
       "      <td>1.1</td>\n",
       "    </tr>\n",
       "    <tr>\n",
       "      <th>4</th>\n",
       "      <td>Изменить цвет фона главной страницы, чтобы увеличить вовлеченность пользователей</td>\n",
       "      <td>3</td>\n",
       "      <td>1</td>\n",
       "      <td>1</td>\n",
       "      <td>1</td>\n",
       "      <td>1.0</td>\n",
       "    </tr>\n",
       "  </tbody>\n",
       "</table>\n",
       "</div>"
      ],
      "text/plain": [
       "                                                                                                     hypothesis  \\\n",
       "8                                                       Запустить акцию, дающую скидку на товар в день рождения   \n",
       "0            Добавить два новых канала привлечения трафика, что позволит привлекать на 30% больше пользователей   \n",
       "7              Добавить форму подписки на все основные страницы, чтобы собрать базу клиентов для email-рассылок   \n",
       "6          Показать на главной странице баннеры с актуальными акциями и распродажами, чтобы увеличить конверсию   \n",
       "2  Добавить блоки рекомендаций товаров на сайт интернет магазина, чтобы повысить конверсию и средний чек заказа   \n",
       "1                                     Запустить собственную службу доставки, что сократит срок доставки заказов   \n",
       "5                      Добавить страницу отзывов клиентов о магазине, что позволит увеличить количество заказов   \n",
       "3           Изменить структура категорий, что увеличит конверсию, т.к. пользователи быстрее найдут нужный товар   \n",
       "4                              Изменить цвет фона главной страницы, чтобы увеличить вовлеченность пользователей   \n",
       "\n",
       "   reach  impact  confidence  efforts   ICE  \n",
       "8      1       9           9        5  16.2  \n",
       "0      3      10           8        6  13.3  \n",
       "7     10       7           8        5  11.2  \n",
       "6      5       3           8        3   8.0  \n",
       "2      8       3           7        3   7.0  \n",
       "1      2       5           4       10   2.0  \n",
       "5      3       2           2        3   1.3  \n",
       "3      8       3           3        8   1.1  \n",
       "4      3       1           1        1   1.0  "
      ]
     },
     "execution_count": 15,
     "metadata": {},
     "output_type": "execute_result"
    }
   ],
   "source": [
    "# Применимм фреймворк ICE. Отсортируем гипотезы  по убыванию приоритета.\n",
    "\n",
    "hypothesis['ICE'] = round(hypothesis['impact'] * hypothesis['confidence'] / hypothesis['efforts'], 1)\n",
    "hypothesis.sort_values(by='ICE', ascending=False)"
   ]
  },
  {
   "cell_type": "code",
   "execution_count": 16,
   "metadata": {},
   "outputs": [
    {
     "data": {
      "text/html": [
       "<div>\n",
       "<style scoped>\n",
       "    .dataframe tbody tr th:only-of-type {\n",
       "        vertical-align: middle;\n",
       "    }\n",
       "\n",
       "    .dataframe tbody tr th {\n",
       "        vertical-align: top;\n",
       "    }\n",
       "\n",
       "    .dataframe thead th {\n",
       "        text-align: right;\n",
       "    }\n",
       "</style>\n",
       "<table border=\"1\" class=\"dataframe\">\n",
       "  <thead>\n",
       "    <tr style=\"text-align: right;\">\n",
       "      <th></th>\n",
       "      <th>hypothesis</th>\n",
       "      <th>reach</th>\n",
       "      <th>impact</th>\n",
       "      <th>confidence</th>\n",
       "      <th>efforts</th>\n",
       "      <th>ICE</th>\n",
       "      <th>RICE</th>\n",
       "    </tr>\n",
       "  </thead>\n",
       "  <tbody>\n",
       "    <tr>\n",
       "      <th>7</th>\n",
       "      <td>Добавить форму подписки на все основные страницы, чтобы собрать базу клиентов для email-рассылок</td>\n",
       "      <td>10</td>\n",
       "      <td>7</td>\n",
       "      <td>8</td>\n",
       "      <td>5</td>\n",
       "      <td>11.2</td>\n",
       "      <td>112.0</td>\n",
       "    </tr>\n",
       "    <tr>\n",
       "      <th>2</th>\n",
       "      <td>Добавить блоки рекомендаций товаров на сайт интернет магазина, чтобы повысить конверсию и средний чек заказа</td>\n",
       "      <td>8</td>\n",
       "      <td>3</td>\n",
       "      <td>7</td>\n",
       "      <td>3</td>\n",
       "      <td>7.0</td>\n",
       "      <td>56.0</td>\n",
       "    </tr>\n",
       "    <tr>\n",
       "      <th>0</th>\n",
       "      <td>Добавить два новых канала привлечения трафика, что позволит привлекать на 30% больше пользователей</td>\n",
       "      <td>3</td>\n",
       "      <td>10</td>\n",
       "      <td>8</td>\n",
       "      <td>6</td>\n",
       "      <td>13.3</td>\n",
       "      <td>40.0</td>\n",
       "    </tr>\n",
       "    <tr>\n",
       "      <th>6</th>\n",
       "      <td>Показать на главной странице баннеры с актуальными акциями и распродажами, чтобы увеличить конверсию</td>\n",
       "      <td>5</td>\n",
       "      <td>3</td>\n",
       "      <td>8</td>\n",
       "      <td>3</td>\n",
       "      <td>8.0</td>\n",
       "      <td>40.0</td>\n",
       "    </tr>\n",
       "    <tr>\n",
       "      <th>8</th>\n",
       "      <td>Запустить акцию, дающую скидку на товар в день рождения</td>\n",
       "      <td>1</td>\n",
       "      <td>9</td>\n",
       "      <td>9</td>\n",
       "      <td>5</td>\n",
       "      <td>16.2</td>\n",
       "      <td>16.2</td>\n",
       "    </tr>\n",
       "    <tr>\n",
       "      <th>3</th>\n",
       "      <td>Изменить структура категорий, что увеличит конверсию, т.к. пользователи быстрее найдут нужный товар</td>\n",
       "      <td>8</td>\n",
       "      <td>3</td>\n",
       "      <td>3</td>\n",
       "      <td>8</td>\n",
       "      <td>1.1</td>\n",
       "      <td>9.0</td>\n",
       "    </tr>\n",
       "    <tr>\n",
       "      <th>1</th>\n",
       "      <td>Запустить собственную службу доставки, что сократит срок доставки заказов</td>\n",
       "      <td>2</td>\n",
       "      <td>5</td>\n",
       "      <td>4</td>\n",
       "      <td>10</td>\n",
       "      <td>2.0</td>\n",
       "      <td>4.0</td>\n",
       "    </tr>\n",
       "    <tr>\n",
       "      <th>5</th>\n",
       "      <td>Добавить страницу отзывов клиентов о магазине, что позволит увеличить количество заказов</td>\n",
       "      <td>3</td>\n",
       "      <td>2</td>\n",
       "      <td>2</td>\n",
       "      <td>3</td>\n",
       "      <td>1.3</td>\n",
       "      <td>4.0</td>\n",
       "    </tr>\n",
       "    <tr>\n",
       "      <th>4</th>\n",
       "      <td>Изменить цвет фона главной страницы, чтобы увеличить вовлеченность пользователей</td>\n",
       "      <td>3</td>\n",
       "      <td>1</td>\n",
       "      <td>1</td>\n",
       "      <td>1</td>\n",
       "      <td>1.0</td>\n",
       "      <td>3.0</td>\n",
       "    </tr>\n",
       "  </tbody>\n",
       "</table>\n",
       "</div>"
      ],
      "text/plain": [
       "                                                                                                     hypothesis  \\\n",
       "7              Добавить форму подписки на все основные страницы, чтобы собрать базу клиентов для email-рассылок   \n",
       "2  Добавить блоки рекомендаций товаров на сайт интернет магазина, чтобы повысить конверсию и средний чек заказа   \n",
       "0            Добавить два новых канала привлечения трафика, что позволит привлекать на 30% больше пользователей   \n",
       "6          Показать на главной странице баннеры с актуальными акциями и распродажами, чтобы увеличить конверсию   \n",
       "8                                                       Запустить акцию, дающую скидку на товар в день рождения   \n",
       "3           Изменить структура категорий, что увеличит конверсию, т.к. пользователи быстрее найдут нужный товар   \n",
       "1                                     Запустить собственную службу доставки, что сократит срок доставки заказов   \n",
       "5                      Добавить страницу отзывов клиентов о магазине, что позволит увеличить количество заказов   \n",
       "4                              Изменить цвет фона главной страницы, чтобы увеличить вовлеченность пользователей   \n",
       "\n",
       "   reach  impact  confidence  efforts   ICE   RICE  \n",
       "7     10       7           8        5  11.2  112.0  \n",
       "2      8       3           7        3   7.0   56.0  \n",
       "0      3      10           8        6  13.3   40.0  \n",
       "6      5       3           8        3   8.0   40.0  \n",
       "8      1       9           9        5  16.2   16.2  \n",
       "3      8       3           3        8   1.1    9.0  \n",
       "1      2       5           4       10   2.0    4.0  \n",
       "5      3       2           2        3   1.3    4.0  \n",
       "4      3       1           1        1   1.0    3.0  "
      ]
     },
     "execution_count": 16,
     "metadata": {},
     "output_type": "execute_result"
    }
   ],
   "source": [
    "# Применимм фреймворк RICE. Отсортируем гипотезы  по убыванию приоритета.\n",
    "\n",
    "hypothesis['RICE'] = hypothesis['reach'] * hypothesis['impact'] * hypothesis['confidence'] / hypothesis['efforts']\n",
    "\n",
    "hypothesis.sort_values(by='RICE', ascending=False)"
   ]
  },
  {
   "cell_type": "markdown",
   "metadata": {},
   "source": [
    "### Вывод\n",
    "\n",
    "Применив оба фреймворка видим, что 3 гипотезы из 4х с высоким рейтингом совпали,  но имеют разные позиции относительно друг друга. Для ICE это 8, 0, 7 и 6 гипотезы, а для RICE это 7, 2, 0 и 6 гипотезы. Эту разницу дает метод подсчета. В фрэймфорке RICE используется дополнительный параметр Reach - отражающий скольких пользователей затронут изменения. Поэтому здесь на первое место попала гипотеза 7 с высокими ipmpact и confidence, но которая затронет большинство пользователей при относительно невысокой стоимости проверки гипотезы.\n",
    "\n",
    "## Анализ A/B-теста\n",
    "\n",
    "\n",
    "\n",
    "\n",
    "### Куммулятивные показатели\n",
    "\n",
    "Прежде чем интерпретировать результаты A/B теста стоит убедиться, что тест можно считать завершенным. Согласно центральной предельной теореме значение кумулятивных метрик часто сходится и устанавливается около некоторого среднего. Тогда по графику кумулятивных метрик, если данных достаточно для статистической значимости, можно определить, стоит останавливать тест или нет.\n",
    "\n",
    "Построим и изучим:\n",
    "- график кумулятивной выручки по группам, \n",
    "- график кумулятивного среднего чека по группам,\n",
    "- график кумулятивной конверсии по группам,\n",
    "- график относительного изменения кумулятивной конверсии группы B к группе A.\n",
    "\n",
    "Чтобы построить графики, нужно собрать кумулятивные данные. Собирем их в  новый датафрейм \"cumulativeData\" со столбцами:\n",
    "- date — дата;\n",
    "- group — группа A/B-теста (A или B);\n",
    "- orders — кумулятивное количество заказов на указанную дату в указанной группе;\n",
    "- buyers — кумулятивное количество пользователей, совершивших хотя бы один заказ, на указанную дату в указанной группе;\n",
    "- revenue — кумулятивная выручка на указанную дату в указанной группе (средний чек);\n",
    "- visitors — кумулятивное количество посетителей интернет-магазина на указанную дату в определённой группе.\n",
    "\n",
    "Соберём \"cumulativeData\" в несколько действий:"
   ]
  },
  {
   "cell_type": "code",
   "execution_count": 17,
   "metadata": {},
   "outputs": [
    {
     "data": {
      "text/html": [
       "<div>\n",
       "<style scoped>\n",
       "    .dataframe tbody tr th:only-of-type {\n",
       "        vertical-align: middle;\n",
       "    }\n",
       "\n",
       "    .dataframe tbody tr th {\n",
       "        vertical-align: top;\n",
       "    }\n",
       "\n",
       "    .dataframe thead th {\n",
       "        text-align: right;\n",
       "    }\n",
       "</style>\n",
       "<table border=\"1\" class=\"dataframe\">\n",
       "  <thead>\n",
       "    <tr style=\"text-align: right;\">\n",
       "      <th></th>\n",
       "      <th>date</th>\n",
       "      <th>group</th>\n",
       "      <th>orderId</th>\n",
       "      <th>userId</th>\n",
       "      <th>revenue</th>\n",
       "    </tr>\n",
       "  </thead>\n",
       "  <tbody>\n",
       "    <tr>\n",
       "      <th>55</th>\n",
       "      <td>2019-08-01</td>\n",
       "      <td>A</td>\n",
       "      <td>24</td>\n",
       "      <td>20</td>\n",
       "      <td>148579</td>\n",
       "    </tr>\n",
       "    <tr>\n",
       "      <th>66</th>\n",
       "      <td>2019-08-01</td>\n",
       "      <td>B</td>\n",
       "      <td>21</td>\n",
       "      <td>20</td>\n",
       "      <td>101217</td>\n",
       "    </tr>\n",
       "    <tr>\n",
       "      <th>175</th>\n",
       "      <td>2019-08-02</td>\n",
       "      <td>A</td>\n",
       "      <td>44</td>\n",
       "      <td>38</td>\n",
       "      <td>242401</td>\n",
       "    </tr>\n",
       "    <tr>\n",
       "      <th>173</th>\n",
       "      <td>2019-08-02</td>\n",
       "      <td>B</td>\n",
       "      <td>45</td>\n",
       "      <td>43</td>\n",
       "      <td>266748</td>\n",
       "    </tr>\n",
       "    <tr>\n",
       "      <th>291</th>\n",
       "      <td>2019-08-03</td>\n",
       "      <td>A</td>\n",
       "      <td>68</td>\n",
       "      <td>62</td>\n",
       "      <td>354874</td>\n",
       "    </tr>\n",
       "    <tr>\n",
       "      <th>310</th>\n",
       "      <td>2019-08-03</td>\n",
       "      <td>B</td>\n",
       "      <td>61</td>\n",
       "      <td>59</td>\n",
       "      <td>380996</td>\n",
       "    </tr>\n",
       "    <tr>\n",
       "      <th>499</th>\n",
       "      <td>2019-08-04</td>\n",
       "      <td>A</td>\n",
       "      <td>84</td>\n",
       "      <td>77</td>\n",
       "      <td>425699</td>\n",
       "    </tr>\n",
       "    <tr>\n",
       "      <th>498</th>\n",
       "      <td>2019-08-04</td>\n",
       "      <td>B</td>\n",
       "      <td>78</td>\n",
       "      <td>75</td>\n",
       "      <td>489567</td>\n",
       "    </tr>\n",
       "    <tr>\n",
       "      <th>698</th>\n",
       "      <td>2019-08-05</td>\n",
       "      <td>A</td>\n",
       "      <td>109</td>\n",
       "      <td>100</td>\n",
       "      <td>549917</td>\n",
       "    </tr>\n",
       "    <tr>\n",
       "      <th>699</th>\n",
       "      <td>2019-08-05</td>\n",
       "      <td>B</td>\n",
       "      <td>101</td>\n",
       "      <td>98</td>\n",
       "      <td>581995</td>\n",
       "    </tr>\n",
       "  </tbody>\n",
       "</table>\n",
       "</div>"
      ],
      "text/plain": [
       "           date group  orderId  userId  revenue\n",
       "55   2019-08-01     A       24      20   148579\n",
       "66   2019-08-01     B       21      20   101217\n",
       "175  2019-08-02     A       44      38   242401\n",
       "173  2019-08-02     B       45      43   266748\n",
       "291  2019-08-03     A       68      62   354874\n",
       "310  2019-08-03     B       61      59   380996\n",
       "499  2019-08-04     A       84      77   425699\n",
       "498  2019-08-04     B       78      75   489567\n",
       "698  2019-08-05     A      109     100   549917\n",
       "699  2019-08-05     B      101      98   581995"
      ]
     },
     "execution_count": 17,
     "metadata": {},
     "output_type": "execute_result"
    }
   ],
   "source": [
    "# создаем массив уникальных пар значений дат и групп теста\n",
    "datesGroups = orders[['date','group']].drop_duplicates() \n",
    "\n",
    "# получаем агрегированные кумулятивные по дням данные о заказах.\n",
    "#Получим строки таблицы orders, дата которых меньше или равна дате элемента из datesGroups, \n",
    "# а группа теста равна группе из datesGroups\n",
    "ordersAggregated = datesGroups\\\n",
    "                  .apply(lambda x: orders[np.logical_and(orders['date'] <= x['date'],\\\n",
    "                                                         orders['group'] == x['group'])]\\\n",
    "                  .agg({'date' : 'max', # Агрегируем значения. Вычислим максимальную дату. \n",
    "                        'group' : 'max', # Для группы тоже считаем максимум,делаем это, чтобы столбец 'group' не пропал из итогового вывода.\n",
    "                        'orderId' : 'nunique', # Найдём число уникальных ID заказов и пользователей. \n",
    "                        'userId' : 'nunique', \n",
    "                        'revenue' : 'sum'}), axis=1).sort_values(by=['date','group']) # Подсчитаем сумму средних чеков                                                                            \n",
    "                   \n",
    "# смотрим \n",
    "ordersAggregated.head(10)"
   ]
  },
  {
   "cell_type": "code",
   "execution_count": 18,
   "metadata": {},
   "outputs": [
    {
     "data": {
      "text/html": [
       "<div>\n",
       "<style scoped>\n",
       "    .dataframe tbody tr th:only-of-type {\n",
       "        vertical-align: middle;\n",
       "    }\n",
       "\n",
       "    .dataframe tbody tr th {\n",
       "        vertical-align: top;\n",
       "    }\n",
       "\n",
       "    .dataframe thead th {\n",
       "        text-align: right;\n",
       "    }\n",
       "</style>\n",
       "<table border=\"1\" class=\"dataframe\">\n",
       "  <thead>\n",
       "    <tr style=\"text-align: right;\">\n",
       "      <th></th>\n",
       "      <th>date</th>\n",
       "      <th>group</th>\n",
       "      <th>visitors</th>\n",
       "    </tr>\n",
       "  </thead>\n",
       "  <tbody>\n",
       "    <tr>\n",
       "      <th>55</th>\n",
       "      <td>2019-08-01</td>\n",
       "      <td>A</td>\n",
       "      <td>719</td>\n",
       "    </tr>\n",
       "    <tr>\n",
       "      <th>66</th>\n",
       "      <td>2019-08-01</td>\n",
       "      <td>B</td>\n",
       "      <td>713</td>\n",
       "    </tr>\n",
       "    <tr>\n",
       "      <th>175</th>\n",
       "      <td>2019-08-02</td>\n",
       "      <td>A</td>\n",
       "      <td>1338</td>\n",
       "    </tr>\n",
       "    <tr>\n",
       "      <th>173</th>\n",
       "      <td>2019-08-02</td>\n",
       "      <td>B</td>\n",
       "      <td>1294</td>\n",
       "    </tr>\n",
       "    <tr>\n",
       "      <th>291</th>\n",
       "      <td>2019-08-03</td>\n",
       "      <td>A</td>\n",
       "      <td>1845</td>\n",
       "    </tr>\n",
       "    <tr>\n",
       "      <th>310</th>\n",
       "      <td>2019-08-03</td>\n",
       "      <td>B</td>\n",
       "      <td>1803</td>\n",
       "    </tr>\n",
       "    <tr>\n",
       "      <th>499</th>\n",
       "      <td>2019-08-04</td>\n",
       "      <td>A</td>\n",
       "      <td>2562</td>\n",
       "    </tr>\n",
       "    <tr>\n",
       "      <th>498</th>\n",
       "      <td>2019-08-04</td>\n",
       "      <td>B</td>\n",
       "      <td>2573</td>\n",
       "    </tr>\n",
       "    <tr>\n",
       "      <th>698</th>\n",
       "      <td>2019-08-05</td>\n",
       "      <td>A</td>\n",
       "      <td>3318</td>\n",
       "    </tr>\n",
       "    <tr>\n",
       "      <th>699</th>\n",
       "      <td>2019-08-05</td>\n",
       "      <td>B</td>\n",
       "      <td>3280</td>\n",
       "    </tr>\n",
       "  </tbody>\n",
       "</table>\n",
       "</div>"
      ],
      "text/plain": [
       "           date group  visitors\n",
       "55   2019-08-01     A       719\n",
       "66   2019-08-01     B       713\n",
       "175  2019-08-02     A      1338\n",
       "173  2019-08-02     B      1294\n",
       "291  2019-08-03     A      1845\n",
       "310  2019-08-03     B      1803\n",
       "499  2019-08-04     A      2562\n",
       "498  2019-08-04     B      2573\n",
       "698  2019-08-05     A      3318\n",
       "699  2019-08-05     B      3280"
      ]
     },
     "execution_count": 18,
     "metadata": {},
     "output_type": "execute_result"
    }
   ],
   "source": [
    "# Аналогично получаем агрегированные кумулятивные по дням данные о посетителях\n",
    "visitorsAggregated = datesGroups.apply(lambda x: visitors[np.logical_and(visitors['date'] <= x['date'], visitors['group'] == x['group'])]\\\n",
    "                                .agg({'date' : 'max', 'group' : 'max', 'visitors' : 'sum'}), axis=1)\\\n",
    "                                .sort_values(by=['date','group'])\n",
    "# смотрим что получилось\n",
    "visitorsAggregated.head(10)"
   ]
  },
  {
   "cell_type": "code",
   "execution_count": 19,
   "metadata": {
    "scrolled": true
   },
   "outputs": [
    {
     "data": {
      "text/html": [
       "<div>\n",
       "<style scoped>\n",
       "    .dataframe tbody tr th:only-of-type {\n",
       "        vertical-align: middle;\n",
       "    }\n",
       "\n",
       "    .dataframe tbody tr th {\n",
       "        vertical-align: top;\n",
       "    }\n",
       "\n",
       "    .dataframe thead th {\n",
       "        text-align: right;\n",
       "    }\n",
       "</style>\n",
       "<table border=\"1\" class=\"dataframe\">\n",
       "  <thead>\n",
       "    <tr style=\"text-align: right;\">\n",
       "      <th></th>\n",
       "      <th>date</th>\n",
       "      <th>group</th>\n",
       "      <th>orders</th>\n",
       "      <th>buyers</th>\n",
       "      <th>revenue</th>\n",
       "      <th>visitors</th>\n",
       "    </tr>\n",
       "  </thead>\n",
       "  <tbody>\n",
       "    <tr>\n",
       "      <th>52</th>\n",
       "      <td>2019-08-27</td>\n",
       "      <td>A</td>\n",
       "      <td>495</td>\n",
       "      <td>449</td>\n",
       "      <td>3514698</td>\n",
       "      <td>16376</td>\n",
       "    </tr>\n",
       "    <tr>\n",
       "      <th>53</th>\n",
       "      <td>2019-08-27</td>\n",
       "      <td>B</td>\n",
       "      <td>548</td>\n",
       "      <td>504</td>\n",
       "      <td>5232260</td>\n",
       "      <td>16523</td>\n",
       "    </tr>\n",
       "    <tr>\n",
       "      <th>54</th>\n",
       "      <td>2019-08-28</td>\n",
       "      <td>A</td>\n",
       "      <td>512</td>\n",
       "      <td>464</td>\n",
       "      <td>3615820</td>\n",
       "      <td>16970</td>\n",
       "    </tr>\n",
       "    <tr>\n",
       "      <th>55</th>\n",
       "      <td>2019-08-28</td>\n",
       "      <td>B</td>\n",
       "      <td>576</td>\n",
       "      <td>526</td>\n",
       "      <td>5328268</td>\n",
       "      <td>17177</td>\n",
       "    </tr>\n",
       "    <tr>\n",
       "      <th>56</th>\n",
       "      <td>2019-08-29</td>\n",
       "      <td>A</td>\n",
       "      <td>534</td>\n",
       "      <td>484</td>\n",
       "      <td>3936510</td>\n",
       "      <td>17547</td>\n",
       "    </tr>\n",
       "    <tr>\n",
       "      <th>57</th>\n",
       "      <td>2019-08-29</td>\n",
       "      <td>B</td>\n",
       "      <td>596</td>\n",
       "      <td>544</td>\n",
       "      <td>5559398</td>\n",
       "      <td>17708</td>\n",
       "    </tr>\n",
       "    <tr>\n",
       "      <th>58</th>\n",
       "      <td>2019-08-30</td>\n",
       "      <td>A</td>\n",
       "      <td>545</td>\n",
       "      <td>493</td>\n",
       "      <td>4022970</td>\n",
       "      <td>18037</td>\n",
       "    </tr>\n",
       "    <tr>\n",
       "      <th>59</th>\n",
       "      <td>2019-08-30</td>\n",
       "      <td>B</td>\n",
       "      <td>620</td>\n",
       "      <td>567</td>\n",
       "      <td>5774631</td>\n",
       "      <td>18198</td>\n",
       "    </tr>\n",
       "    <tr>\n",
       "      <th>60</th>\n",
       "      <td>2019-08-31</td>\n",
       "      <td>A</td>\n",
       "      <td>557</td>\n",
       "      <td>503</td>\n",
       "      <td>4084803</td>\n",
       "      <td>18736</td>\n",
       "    </tr>\n",
       "    <tr>\n",
       "      <th>61</th>\n",
       "      <td>2019-08-31</td>\n",
       "      <td>B</td>\n",
       "      <td>640</td>\n",
       "      <td>586</td>\n",
       "      <td>5907760</td>\n",
       "      <td>18916</td>\n",
       "    </tr>\n",
       "  </tbody>\n",
       "</table>\n",
       "</div>"
      ],
      "text/plain": [
       "          date group  orders  buyers  revenue  visitors\n",
       "52  2019-08-27     A     495     449  3514698     16376\n",
       "53  2019-08-27     B     548     504  5232260     16523\n",
       "54  2019-08-28     A     512     464  3615820     16970\n",
       "55  2019-08-28     B     576     526  5328268     17177\n",
       "56  2019-08-29     A     534     484  3936510     17547\n",
       "57  2019-08-29     B     596     544  5559398     17708\n",
       "58  2019-08-30     A     545     493  4022970     18037\n",
       "59  2019-08-30     B     620     567  5774631     18198\n",
       "60  2019-08-31     A     557     503  4084803     18736\n",
       "61  2019-08-31     B     640     586  5907760     18916"
      ]
     },
     "execution_count": 19,
     "metadata": {},
     "output_type": "execute_result"
    }
   ],
   "source": [
    "# объединяем кумулятивные данные в одной таблице\n",
    "cumulativeData = ordersAggregated.merge(visitorsAggregated, left_on=['date', 'group'], right_on=['date', 'group'])\n",
    "# переименовываем столбцы\n",
    "cumulativeData.columns = ['date', 'group', 'orders', 'buyers', 'revenue', 'visitors']\n",
    "\n",
    "# проверяем \n",
    "cumulativeData.tail(10)"
   ]
  },
  {
   "cell_type": "markdown",
   "metadata": {},
   "source": [
    "Кумулятивные данные собраны. На 31.08.2019 в эксперименте приняло участие более 37 тысяч пользователей. В  группу \"А\" попало 18736 пользователей, из них совершили хотя бы одну покупку 503 пользователя на общую сумму 4 084 803 д.е. В группу \"B\" попало 18916 пользователей, из них совершили хотя бы одну покупку 586 пользователей на общую сумму 5 907 760 д.е.\n",
    "\n",
    "Теперь построим графики кумулятивной выручки по дням и группам A/B-тестирования:"
   ]
  },
  {
   "cell_type": "code",
   "execution_count": 20,
   "metadata": {},
   "outputs": [
    {
     "data": {
      "image/png": "[encoded data removed]",
      "text/plain": [
       "<Figure size 720x360 with 1 Axes>"
      ]
     },
     "metadata": {
      "needs_background": "light"
     },
     "output_type": "display_data"
    }
   ],
   "source": [
    "#Создаем датафрейм с кумулятивным количеством заказов и кумулятивной выручкой по дням в группе А\n",
    "cumulativeRevenueA = cumulativeData[cumulativeData['group']=='A'][['date','revenue', 'orders']]\n",
    "\n",
    "#Создаем датафрейм с кумулятивным количеством заказов и кумулятивной выручкой по дням в группе B\n",
    "cumulativeRevenueB = cumulativeData[cumulativeData['group']=='B'][['date','revenue', 'orders']]\n",
    "\n",
    "plt.figure(figsize=(10,5))\n",
    "plt.plot(cumulativeRevenueA['date'], cumulativeRevenueA['revenue'], label='A')# Строим график выручки группы А\n",
    "plt.plot(cumulativeRevenueB['date'], cumulativeRevenueB['revenue'], label='B') # Строим график выручки группы B\n",
    "\n",
    "plt.ylabel('Выручка')\n",
    "plt.xlabel('Дата')\n",
    "plt.xticks(rotation=90) \n",
    "plt.title('Графики кумулятивной выручки по группам A/B')\n",
    "plt.legend()\n",
    "plt.grid(which='major')\n",
    "plt.show()"
   ]
  },
  {
   "cell_type": "markdown",
   "metadata": {},
   "source": [
    "Кумулятивная выручка увеличивается для обеих групп, как и должно быть. Для группы \"B\" этот показатель стабильно выше, чем у \"А\". \n",
    "Однако 18.08.2019 график выручки группы \"B\" резко вырос. На графике группы \"А\" тоже наблюдается небольшой пик 13.08.2019. Это может сигнализировать о всплесках числа заказов, либо о появлении очень дорогих заказов в выборке. Такие выбросы проанализируем после изучения всех кумулятивных показателей.\n",
    "\n",
    "Построим графики среднего чека по группам — разделим кумулятивную выручку на кумулятивное число заказов:"
   ]
  },
  {
   "cell_type": "code",
   "execution_count": 21,
   "metadata": {},
   "outputs": [
    {
     "data": {
      "image/png": "[encoded data removed]",
      "text/plain": [
       "<Figure size 720x360 with 1 Axes>"
      ]
     },
     "metadata": {
      "needs_background": "light"
     },
     "output_type": "display_data"
    }
   ],
   "source": [
    "plt.figure(figsize=(10,5))\n",
    "plt.plot(cumulativeRevenueA['date'], cumulativeRevenueA['revenue']/cumulativeRevenueA['orders'], label='A')\n",
    "plt.plot(cumulativeRevenueB['date'], cumulativeRevenueB['revenue']/cumulativeRevenueB['orders'], label='B')\n",
    "plt.ylabel('Средний чек')\n",
    "plt.xlabel('Дата')\n",
    "plt.xticks(rotation=90) \n",
    "plt.title('Графики среднего чека по группам A/B')\n",
    "plt.legend()\n",
    "plt.grid(which='major')\n",
    "plt.show()"
   ]
  },
  {
   "cell_type": "markdown",
   "metadata": {},
   "source": [
    "Снова видим всплески 13.08.2019 и 18.08.2019. Значение среднего чека \"B\" резко подскочило после всплеска, но уже на следующий день отмечаем тенденцию к снижению показателя. Следовательно пока нельзя окончательно доверять этому графику.\n",
    "\n",
    "Теперь построим график относительного различия для среднего чека. "
   ]
  },
  {
   "cell_type": "code",
   "execution_count": 40,
   "metadata": {},
   "outputs": [
    {
     "data": {
      "image/png": "[encoded data removed]",
      "text/plain": [
       "<Figure size 720x360 with 1 Axes>"
      ]
     },
     "metadata": {
      "needs_background": "light"
     },
     "output_type": "display_data"
    }
   ],
   "source": [
    "# собираем данные в одном датафрейме\n",
    "mergedCumulativeRevenue = cumulativeRevenueA.merge(\n",
    "    cumulativeRevenueB, left_on='date', right_on='date', how='left', suffixes=['A', 'B'])\n",
    "\n",
    "plt.figure(figsize=(10,5))\n",
    "# cтроим отношение средних чеков\n",
    "plt.plot(mergedCumulativeRevenue['date'], (mergedCumulativeRevenue['revenueB']/mergedCumulativeRevenue['ordersB'])/\n",
    "                                          (mergedCumulativeRevenue['revenueA']/mergedCumulativeRevenue['ordersA'])-1)\n",
    "\n",
    "\n",
    "plt.axhline(y=0, color='black', linestyle='--') # добавляем ось X\n",
    "plt.ylabel('Средний чек')\n",
    "plt.xlabel('Дата')\n",
    "plt.xticks(rotation=90) \n",
    "plt.title('Графики  относительного различия для среднего чека по группам A/B')\n",
    "plt.grid(which='major')\n",
    "plt.show()"
   ]
  },
  {
   "cell_type": "markdown",
   "metadata": {},
   "source": [
    "Видим резкие изменения метрики различия средних чеков между группами  A/B. Такая нестабильность также указывает на присутствие аномальных значений в данных.\n",
    "\n",
    "Проанализируем график кумулятивной конверсии:"
   ]
  },
  {
   "cell_type": "code",
   "execution_count": 23,
   "metadata": {},
   "outputs": [
    {
     "data": {
      "image/png": "[encoded data removed]",
      "text/plain": [
       "<Figure size 720x360 with 1 Axes>"
      ]
     },
     "metadata": {
      "needs_background": "light"
     },
     "output_type": "display_data"
    }
   ],
   "source": [
    "# считаем кумулятивную конверсию\n",
    "cumulativeData['conversion'] = cumulativeData['orders']/cumulativeData['visitors']\n",
    "\n",
    "# отделяем данные по группе A\n",
    "cumulativeDataA = cumulativeData[cumulativeData['group']=='A']\n",
    "\n",
    "# отделяем данные по группе B\n",
    "cumulativeDataB = cumulativeData[cumulativeData['group']=='B']\n",
    "\n",
    "plt.figure(figsize=(10,5))\n",
    "# строим графики\n",
    "plt.plot(cumulativeDataA['date'], cumulativeDataA['conversion'], label='A')\n",
    "plt.plot(cumulativeDataB['date'], cumulativeDataB['conversion'], label='B')\n",
    "plt.ylabel('Конверсия')\n",
    "plt.xlabel('Дата')\n",
    "plt.xticks(rotation=90) \n",
    "plt.title('Графики кумулятивной конверсии')\n",
    "plt.legend()\n",
    "plt.grid(which='major')\n",
    "# задаем масштаб осей\n",
    "plt.axis([\"2019-08-01\", '2019-08-31', 0.025, 0.04]) \n",
    "plt.show()"
   ]
  },
  {
   "cell_type": "markdown",
   "metadata": {},
   "source": [
    "В начале теста группа \"А\" имела большую конверсию, чем группа \"В\", но после 6 августа ситуация изменилась. В группе \"А\" конверсия снизилась, а в группе \"В\"  конверсия увеличилась и до конца теста осталась больше.\n",
    "\n",
    "Построим график относительного различия кумулятивных конверсий:"
   ]
  },
  {
   "cell_type": "code",
   "execution_count": 24,
   "metadata": {},
   "outputs": [
    {
     "data": {
      "text/plain": [
       "(18109.0, 18139.0, -0.2, 0.25)"
      ]
     },
     "execution_count": 24,
     "metadata": {},
     "output_type": "execute_result"
    },
    {
     "data": {
      "image/png": "[encoded data removed]",
      "text/plain": [
       "<Figure size 720x360 with 1 Axes>"
      ]
     },
     "metadata": {
      "needs_background": "light"
     },
     "output_type": "display_data"
    }
   ],
   "source": [
    "# собирем данные cumulativeDataA и cumulativeDataB в одну таблицус колонками date' и 'conversion'\n",
    "mergedCumulativeConversions = cumulativeDataA[['date','conversion']].merge(\n",
    "    cumulativeDataB[['date','conversion']], left_on='date', right_on='date', how='left', suffixes=['A', 'B'])\n",
    "\n",
    "plt.figure(figsize=(10,5))\n",
    "plt.plot(mergedCumulativeConversions['date'], mergedCumulativeConversions['conversionB']/\n",
    "         mergedCumulativeConversions['conversionA']-1, label=\"Относительный прирост конверсии группы B относительно группы A\")\n",
    "plt.ylabel('Конверсия')\n",
    "plt.xlabel('Дата')\n",
    "plt.xticks(rotation=90) \n",
    "plt.title('Относительный прирост конверсии группы B относительно группы A')\n",
    "plt.legend()\n",
    "plt.grid(which='major')\n",
    "plt.axhline(y=0, color='black', linestyle='--')\n",
    "plt.axhline(y=0.1, color='grey', linestyle='--')\n",
    "# задаем масштаб осей\n",
    "plt.axis([\"2019-08-01\", '2019-08-31', -0.2, 0.25]) "
   ]
  },
  {
   "cell_type": "markdown",
   "metadata": {},
   "source": [
    "После 6 августа наблюдаем как конверсия группы \"В\" увеличилась относительно конверсии группы \"А\", в пике превысив ее на 20%, затем наблюдаем снижение разницы конверсий  до  10%, но все же показатель группы \"В\" до конца теста остается выше. \n",
    "Стоит проанализировать аномалии, возможно, они изменят картину.\n",
    "\n",
    "###  Исследование аномалий в данных\n",
    "\n",
    "Ранее мы предположили, что данные содержат аномальные значения. Это могут быть либо чрезмерно большое количество заказов, либо очень дорогие одиночные покупки. Если такой дорогой заказ попадёт в одну из групп теста, он исказит результаты и сделает победителем ту группу, где оказался. При этом такие покупки — редкость, исключение, которое проявилось не из-за тестирования гипотезы, а случайно. Поищем такие заказы.\n",
    "\n",
    "Для начала изучим график распределения числа заказов по пользователям:"
   ]
  },
  {
   "cell_type": "code",
   "execution_count": 25,
   "metadata": {},
   "outputs": [
    {
     "data": {
      "image/png": "[encoded data removed]",
      "text/plain": [
       "<Figure size 720x360 with 1 Axes>"
      ]
     },
     "metadata": {
      "needs_background": "light"
     },
     "output_type": "display_data"
    },
    {
     "data": {
      "text/html": [
       "<div>\n",
       "<style scoped>\n",
       "    .dataframe tbody tr th:only-of-type {\n",
       "        vertical-align: middle;\n",
       "    }\n",
       "\n",
       "    .dataframe tbody tr th {\n",
       "        vertical-align: top;\n",
       "    }\n",
       "\n",
       "    .dataframe thead th {\n",
       "        text-align: right;\n",
       "    }\n",
       "</style>\n",
       "<table border=\"1\" class=\"dataframe\">\n",
       "  <thead>\n",
       "    <tr style=\"text-align: right;\">\n",
       "      <th></th>\n",
       "      <th>userId</th>\n",
       "      <th>orders</th>\n",
       "    </tr>\n",
       "  </thead>\n",
       "  <tbody>\n",
       "    <tr>\n",
       "      <th>1023</th>\n",
       "      <td>4256040402</td>\n",
       "      <td>11</td>\n",
       "    </tr>\n",
       "    <tr>\n",
       "      <th>591</th>\n",
       "      <td>2458001652</td>\n",
       "      <td>11</td>\n",
       "    </tr>\n",
       "    <tr>\n",
       "      <th>569</th>\n",
       "      <td>2378935119</td>\n",
       "      <td>9</td>\n",
       "    </tr>\n",
       "    <tr>\n",
       "      <th>487</th>\n",
       "      <td>2038680547</td>\n",
       "      <td>8</td>\n",
       "    </tr>\n",
       "    <tr>\n",
       "      <th>44</th>\n",
       "      <td>199603092</td>\n",
       "      <td>5</td>\n",
       "    </tr>\n",
       "    <tr>\n",
       "      <th>744</th>\n",
       "      <td>3062433592</td>\n",
       "      <td>5</td>\n",
       "    </tr>\n",
       "    <tr>\n",
       "      <th>55</th>\n",
       "      <td>237748145</td>\n",
       "      <td>5</td>\n",
       "    </tr>\n",
       "    <tr>\n",
       "      <th>917</th>\n",
       "      <td>3803269165</td>\n",
       "      <td>5</td>\n",
       "    </tr>\n",
       "    <tr>\n",
       "      <th>299</th>\n",
       "      <td>1230306981</td>\n",
       "      <td>5</td>\n",
       "    </tr>\n",
       "    <tr>\n",
       "      <th>897</th>\n",
       "      <td>3717692402</td>\n",
       "      <td>5</td>\n",
       "    </tr>\n",
       "  </tbody>\n",
       "</table>\n",
       "</div>"
      ],
      "text/plain": [
       "          userId  orders\n",
       "1023  4256040402      11\n",
       "591   2458001652      11\n",
       "569   2378935119       9\n",
       "487   2038680547       8\n",
       "44     199603092       5\n",
       "744   3062433592       5\n",
       "55     237748145       5\n",
       "917   3803269165       5\n",
       "299   1230306981       5\n",
       "897   3717692402       5"
      ]
     },
     "metadata": {},
     "output_type": "display_data"
    }
   ],
   "source": [
    "# сгруппируем пользователей по ID и посчитаем количество заказов\n",
    "ordersByUsers = orders.groupby('userId', as_index = False).agg({'orderId':'nunique'}).sort_values(by='orderId', ascending = False)\n",
    "ordersByUsers.columns = ['userId', 'orders']\n",
    "\n",
    "plt.figure(figsize=(10,5))\n",
    "x_values = pd.Series(range(0, len(ordersByUsers)))\n",
    "\n",
    "plt.scatter(x_values, ordersByUsers['orders']) \n",
    "plt.title('Точечная диаграмма числа заказов на одного пользователя')\n",
    "plt.show()\n",
    "display(ordersByUsers.head(10))"
   ]
  },
  {
   "cell_type": "markdown",
   "metadata": {},
   "source": [
    "Большинство покупателей заказывали только 1 раз. Клиентов совершивших 2 и более покупок немного. Посчитаем выборочные перцентили количества заказов на одного пользователя -  выберем границу для определения аномальных пользователей: "
   ]
  },
  {
   "cell_type": "code",
   "execution_count": 26,
   "metadata": {},
   "outputs": [
    {
     "name": "stdout",
     "output_type": "stream",
     "text": [
      "Перцентили:\n",
      "95: 2.0\n",
      "99: 4.0\n"
     ]
    }
   ],
   "source": [
    "percentiles = np.percentile(ordersByUsers['orders'], [95, 99])\n",
    "print('Перцентили:\\n95: {}\\n99: {}'.format(percentiles[0],percentiles[1]))"
   ]
  },
  {
   "cell_type": "markdown",
   "metadata": {},
   "source": [
    "Да, видим, что только 5% пользователей делает больше 2х заказов. Аномальными будем считать 3 и более покупок.\n",
    "\n",
    "Теперь посмотрим на  стоимость заказов. Построим точечную диаграму и посчитаем перцентили."
   ]
  },
  {
   "cell_type": "code",
   "execution_count": 27,
   "metadata": {},
   "outputs": [
    {
     "data": {
      "image/png": "[encoded data removed]",
      "text/plain": [
       "<Figure size 720x360 with 1 Axes>"
      ]
     },
     "metadata": {
      "needs_background": "light"
     },
     "output_type": "display_data"
    }
   ],
   "source": [
    "x_values = pd.Series(range(0, len(orders)))\n",
    "plt.figure(figsize=(10,5))\n",
    "plt.scatter(x_values, orders['revenue'])\n",
    "plt.title('Точечная диаграмма сумм заказов на одного пользователя')\n",
    "\n",
    "plt.show()"
   ]
  },
  {
   "cell_type": "markdown",
   "metadata": {},
   "source": [
    "Большого разброса стоимости заказов, при таком размере графика, не наблюдается. Но видим два сильно выбивающихся значения, которые уже повлияли на масштаб графика и наверняка повлияли на расчеты метрик."
   ]
  },
  {
   "cell_type": "code",
   "execution_count": 28,
   "metadata": {},
   "outputs": [
    {
     "data": {
      "text/html": [
       "<div>\n",
       "<style scoped>\n",
       "    .dataframe tbody tr th:only-of-type {\n",
       "        vertical-align: middle;\n",
       "    }\n",
       "\n",
       "    .dataframe tbody tr th {\n",
       "        vertical-align: top;\n",
       "    }\n",
       "\n",
       "    .dataframe thead th {\n",
       "        text-align: right;\n",
       "    }\n",
       "</style>\n",
       "<table border=\"1\" class=\"dataframe\">\n",
       "  <thead>\n",
       "    <tr style=\"text-align: right;\">\n",
       "      <th></th>\n",
       "      <th>orderId</th>\n",
       "      <th>userId</th>\n",
       "      <th>date</th>\n",
       "      <th>revenue</th>\n",
       "      <th>group</th>\n",
       "    </tr>\n",
       "  </thead>\n",
       "  <tbody>\n",
       "    <tr>\n",
       "      <th>425</th>\n",
       "      <td>590470918</td>\n",
       "      <td>1920142716</td>\n",
       "      <td>2019-08-19</td>\n",
       "      <td>1294500</td>\n",
       "      <td>B</td>\n",
       "    </tr>\n",
       "  </tbody>\n",
       "</table>\n",
       "</div>"
      ],
      "text/plain": [
       "       orderId      userId        date  revenue group\n",
       "425  590470918  1920142716  2019-08-19  1294500     B"
      ]
     },
     "metadata": {},
     "output_type": "display_data"
    }
   ],
   "source": [
    "# посмотрим строку с максимальным значением.\n",
    "display(orders[orders.revenue.max() == orders['revenue']])"
   ]
  },
  {
   "cell_type": "markdown",
   "metadata": {},
   "source": [
    "Вот и нашелся наш всплеск для группы \"B\" за 19 августа. Стоимость заказа почти 1,3 млн. Есть подозрение, что второе аномальное значение принадлежит группе \"A\" за 6 августа, но проверять его уже смысла нет. Теперь укрупним график и посмотим на разброс точек."
   ]
  },
  {
   "cell_type": "code",
   "execution_count": 29,
   "metadata": {},
   "outputs": [
    {
     "data": {
      "image/png": "[encoded data removed]",
      "text/plain": [
       "<Figure size 720x360 with 1 Axes>"
      ]
     },
     "metadata": {
      "needs_background": "light"
     },
     "output_type": "display_data"
    }
   ],
   "source": [
    "x_values = pd.Series(range(0, len(orders)))\n",
    "plt.figure(figsize=(10,5))\n",
    "plt.scatter(x_values, orders['revenue'])\n",
    "plt.title('Точечная диаграмма сумм заказов на одного пользователя')\n",
    "plt.axis([0, 1050, 0, 210000])\n",
    "plt.show()"
   ]
  },
  {
   "cell_type": "markdown",
   "metadata": {},
   "source": [
    "По укрупненному графику разброс точек проявился сильнее. Большая часть заказов не превышает 25 тысяч. Много заказов видим в границах чека от 25 до 50 тысяч. Есть и единичные заказы стоимостью от 50 до 100 тысяч. Чтобы определить границу аномальных чеков так же посчитаем 95 и 99 перцентиль."
   ]
  },
  {
   "cell_type": "code",
   "execution_count": 30,
   "metadata": {},
   "outputs": [
    {
     "name": "stdout",
     "output_type": "stream",
     "text": [
      "Перцентили:\n",
      "95: 28000\n",
      "99: 58233\n"
     ]
    }
   ],
   "source": [
    "percentiles = np.percentile(orders['revenue'], [95, 99])\n",
    "print('Перцентили:\\n95: {:.0f}\\n99: {:.0f}'.format(percentiles[0],percentiles[1]))"
   ]
  },
  {
   "cell_type": "markdown",
   "metadata": {},
   "source": [
    "Покупки дороже 28 тысяч совершает не более 5% пользователей и всего лишь 1% делает покупки дороже 58 тысяч. Этот 1% и будем считать аномальным. \n",
    "\n",
    "#### Промежуточный вывод\n",
    "\n",
    "Мы построили и изучили по группам A/B графики кумулятивной выручки, кумулятивного среднего чека, кумулятивной конверсии, относительного изменения кумулятивной конверсии группы B к группе A. \n",
    "\n",
    "Нашли, что кумулятивная выручка увеличивается для обеих групп. Для группы \"B\" этот показатель увеличился и стал выше, чем у \"А\". В начале теста группа \"А\" имела большую конверсию, но после 6 августа ее конверсия снизилась, а в группе \"В\" наоборот конверсия увеличилась и до конца теста осталась больше. Нашли резкие изменения метрики различия средних чеков между группами A/B. Такая нестабильность указывает на присутствие аномальных значений в данных. Было решено посчитать 95 и 99 перцентили и определить какое количество заказов и какую сумму чека можно считать аномальными.\n",
    "\n",
    "Аномальными признали 3 и более покупок и чеки на сумму более 58 тысяч.\n",
    "\n",
    "\n",
    "\n",
    "### Статистическая значимость полученных данных\n",
    "\n",
    "Чтобы принять решение по результатам A/B теста осталось проверить являются ли статистически значимыми полученные нами данные. Для этого посчитаем стат.значимость для необработанных -\"сырых\" данных и для данных из которых исключили аномальные значения- \"очищенных\".\n",
    "\n",
    "Посчитаем:\n",
    "- статистическую значимость различий в конверсии между группами по «сырым» данным, \n",
    "- статистическую значимость различий в среднем чеке заказа между группами по «сырым» данным,\n",
    "- статистическую значимость различий в конверсии между группами по «очищенным» данным,\n",
    "- статистическую значимость различий в среднем чеке заказа между группами по «очищенным» данным. \n",
    "\n",
    "\n",
    "\n",
    "Считаем статистическую значимость различий в конверсии между группами по «сырым» данным — без удаления аномальных пользователей.\n",
    "\n",
    "Сформулируем гипотезы:\n",
    "\n",
    "**Нулевая гипотеза**: различий в конверсии между группами нет. \n",
    "\n",
    "**Альтернативная гипотеза**: различия в конверсии между группами есть.\n",
    "\n",
    "В нашем случае есть большие выбросы, которые могут исказить общую картину. Алгебраические метрики здесь сработают плохо и логичнее будет применить непараметрический тест «U-критерий Манна-Уитни». \n",
    "\n",
    "Подготовим данные. "
   ]
  },
  {
   "cell_type": "code",
   "execution_count": 31,
   "metadata": {},
   "outputs": [
    {
     "data": {
      "text/html": [
       "<div>\n",
       "<style scoped>\n",
       "    .dataframe tbody tr th:only-of-type {\n",
       "        vertical-align: middle;\n",
       "    }\n",
       "\n",
       "    .dataframe tbody tr th {\n",
       "        vertical-align: top;\n",
       "    }\n",
       "\n",
       "    .dataframe thead th {\n",
       "        text-align: right;\n",
       "    }\n",
       "</style>\n",
       "<table border=\"1\" class=\"dataframe\">\n",
       "  <thead>\n",
       "    <tr style=\"text-align: right;\">\n",
       "      <th></th>\n",
       "      <th>date</th>\n",
       "      <th>ordersPerDateA</th>\n",
       "      <th>revenuePerDateA</th>\n",
       "      <th>ordersPerDateB</th>\n",
       "      <th>revenuePerDateB</th>\n",
       "      <th>ordersCummulativeA</th>\n",
       "      <th>revenueCummulativeA</th>\n",
       "      <th>ordersCummulativeB</th>\n",
       "      <th>revenueCummulativeB</th>\n",
       "      <th>visitorsPerDateA</th>\n",
       "      <th>visitorsPerDateB</th>\n",
       "      <th>visitorsCummulativeA</th>\n",
       "      <th>visitorsCummulativeB</th>\n",
       "    </tr>\n",
       "  </thead>\n",
       "  <tbody>\n",
       "    <tr>\n",
       "      <th>0</th>\n",
       "      <td>2019-08-01</td>\n",
       "      <td>24</td>\n",
       "      <td>148579</td>\n",
       "      <td>21</td>\n",
       "      <td>101217</td>\n",
       "      <td>24</td>\n",
       "      <td>148579</td>\n",
       "      <td>21</td>\n",
       "      <td>101217</td>\n",
       "      <td>719</td>\n",
       "      <td>713</td>\n",
       "      <td>719</td>\n",
       "      <td>713</td>\n",
       "    </tr>\n",
       "    <tr>\n",
       "      <th>1</th>\n",
       "      <td>2019-08-02</td>\n",
       "      <td>20</td>\n",
       "      <td>93822</td>\n",
       "      <td>24</td>\n",
       "      <td>165531</td>\n",
       "      <td>44</td>\n",
       "      <td>242401</td>\n",
       "      <td>45</td>\n",
       "      <td>266748</td>\n",
       "      <td>619</td>\n",
       "      <td>581</td>\n",
       "      <td>1338</td>\n",
       "      <td>1294</td>\n",
       "    </tr>\n",
       "    <tr>\n",
       "      <th>2</th>\n",
       "      <td>2019-08-03</td>\n",
       "      <td>24</td>\n",
       "      <td>112473</td>\n",
       "      <td>16</td>\n",
       "      <td>114248</td>\n",
       "      <td>68</td>\n",
       "      <td>354874</td>\n",
       "      <td>61</td>\n",
       "      <td>380996</td>\n",
       "      <td>507</td>\n",
       "      <td>509</td>\n",
       "      <td>1845</td>\n",
       "      <td>1803</td>\n",
       "    </tr>\n",
       "    <tr>\n",
       "      <th>3</th>\n",
       "      <td>2019-08-04</td>\n",
       "      <td>16</td>\n",
       "      <td>70825</td>\n",
       "      <td>17</td>\n",
       "      <td>108571</td>\n",
       "      <td>84</td>\n",
       "      <td>425699</td>\n",
       "      <td>78</td>\n",
       "      <td>489567</td>\n",
       "      <td>717</td>\n",
       "      <td>770</td>\n",
       "      <td>2562</td>\n",
       "      <td>2573</td>\n",
       "    </tr>\n",
       "    <tr>\n",
       "      <th>4</th>\n",
       "      <td>2019-08-05</td>\n",
       "      <td>25</td>\n",
       "      <td>124218</td>\n",
       "      <td>23</td>\n",
       "      <td>92428</td>\n",
       "      <td>109</td>\n",
       "      <td>549917</td>\n",
       "      <td>101</td>\n",
       "      <td>581995</td>\n",
       "      <td>756</td>\n",
       "      <td>707</td>\n",
       "      <td>3318</td>\n",
       "      <td>3280</td>\n",
       "    </tr>\n",
       "  </tbody>\n",
       "</table>\n",
       "</div>"
      ],
      "text/plain": [
       "         date  ordersPerDateA  revenuePerDateA  ordersPerDateB  \\\n",
       "0  2019-08-01              24           148579              21   \n",
       "1  2019-08-02              20            93822              24   \n",
       "2  2019-08-03              24           112473              16   \n",
       "3  2019-08-04              16            70825              17   \n",
       "4  2019-08-05              25           124218              23   \n",
       "\n",
       "   revenuePerDateB  ordersCummulativeA  revenueCummulativeA  \\\n",
       "0           101217                  24               148579   \n",
       "1           165531                  44               242401   \n",
       "2           114248                  68               354874   \n",
       "3           108571                  84               425699   \n",
       "4            92428                 109               549917   \n",
       "\n",
       "   ordersCummulativeB  revenueCummulativeB  visitorsPerDateA  \\\n",
       "0                  21               101217               719   \n",
       "1                  45               266748               619   \n",
       "2                  61               380996               507   \n",
       "3                  78               489567               717   \n",
       "4                 101               581995               756   \n",
       "\n",
       "   visitorsPerDateB  visitorsCummulativeA  visitorsCummulativeB  \n",
       "0               713                   719                   713  \n",
       "1               581                  1338                  1294  \n",
       "2               509                  1845                  1803  \n",
       "3               770                  2562                  2573  \n",
       "4               707                  3318                  3280  "
      ]
     },
     "execution_count": 31,
     "metadata": {},
     "output_type": "execute_result"
    }
   ],
   "source": [
    "# разбиваем количество посетителей из группы A по датам\n",
    "visitorsADaily = visitors[visitors['group'] == 'A'][['date', 'visitors']]\n",
    "visitorsADaily.columns = ['date', 'visitorsPerDateA']\n",
    "\n",
    "# создаем таблицу кумулятивного количества  посетителей из группы A по датам\n",
    "visitorsACummulative = visitorsADaily.apply(\n",
    "    lambda x: visitorsADaily[visitorsADaily['date'] <= x['date']].agg(\n",
    "        {'date': 'max', 'visitorsPerDateA': 'sum'}\n",
    "    ),\n",
    "    axis=1,\n",
    ")\n",
    "visitorsACummulative.columns = ['date', 'visitorsCummulativeA']\n",
    "\n",
    "# разбиваем количество посетителей из группы B по датам\n",
    "visitorsBDaily = visitors[visitors['group'] == 'B'][['date', 'visitors']]\n",
    "visitorsBDaily.columns = ['date', 'visitorsPerDateB']\n",
    "\n",
    "# создаем таблицу кумулятивного количества  посетителей из группы B по датам\n",
    "visitorsBCummulative = visitorsBDaily.apply(\n",
    "    lambda x: visitorsBDaily[visitorsBDaily['date'] <= x['date']].agg(\n",
    "        {'date': 'max', 'visitorsPerDateB': 'sum'}\n",
    "    ),\n",
    "    axis=1,\n",
    ")\n",
    "visitorsBCummulative.columns = ['date', 'visitorsCummulativeB']\n",
    "\n",
    "# считаем количество заказов и суммарный доход за день для группы А\n",
    "ordersADaily = (\n",
    "    orders[orders['group'] == 'A'][['date', 'orderId', 'userId', 'revenue']]\n",
    "    .groupby('date', as_index=False)\n",
    "    .agg({'orderId': pd.Series.nunique, 'revenue': 'sum'})\n",
    ")\n",
    "ordersADaily.columns = ['date', 'ordersPerDateA', 'revenuePerDateA']\n",
    "\n",
    "# создаем таблицу кумулятивного количества заказов и суммарный доход на каждый день для группы А\n",
    "ordersACummulative = ordersADaily.apply(\n",
    "    lambda x: ordersADaily[ordersADaily['date'] <= x['date']].agg(\n",
    "        {'date': 'max', 'ordersPerDateA': 'sum', 'revenuePerDateA': 'sum'}\n",
    "    ),\n",
    "    axis=1,\n",
    ").sort_values(by=['date'])\n",
    "ordersACummulative.columns = [\n",
    "    'date',\n",
    "    'ordersCummulativeA',\n",
    "    'revenueCummulativeA',\n",
    "]\n",
    "# считаем количество заказов и суммарный доход за день для группы B\n",
    "ordersBDaily = (\n",
    "    orders[orders['group'] == 'B'][['date', 'orderId', 'userId', 'revenue']]\n",
    "    .groupby('date', as_index=False)\n",
    "    .agg({'orderId': pd.Series.nunique, 'revenue': 'sum'})\n",
    ")\n",
    "ordersBDaily.columns = ['date', 'ordersPerDateB', 'revenuePerDateB']\n",
    "\n",
    "# создаем таблицу кумулятивного количества заказов и суммарный доход на каждый день для группы B\n",
    "ordersBCummulative = ordersBDaily.apply(\n",
    "    lambda x: ordersBDaily[ordersBDaily['date'] <= x['date']].agg(\n",
    "        {'date': 'max', 'ordersPerDateB': 'sum', 'revenuePerDateB': 'sum'}\n",
    "    ),\n",
    "    axis=1,\n",
    ").sort_values(by=['date'])\n",
    "ordersBCummulative.columns = [\n",
    "    'date',\n",
    "    'ordersCummulativeB',\n",
    "    'revenueCummulativeB',\n",
    "]\n",
    "# собираем общую таблицу \n",
    "data = (\n",
    "    ordersADaily.merge(\n",
    "        ordersBDaily, left_on='date', right_on='date', how='left'\n",
    "    )\n",
    "    .merge(ordersACummulative, left_on='date', right_on='date', how='left')\n",
    "    .merge(ordersBCummulative, left_on='date', right_on='date', how='left')\n",
    "    .merge(visitorsADaily, left_on='date', right_on='date', how='left')\n",
    "    .merge(visitorsBDaily, left_on='date', right_on='date', how='left')\n",
    "    .merge(visitorsACummulative, left_on='date', right_on='date', how='left')\n",
    "    .merge(visitorsBCummulative, left_on='date', right_on='date', how='left')\n",
    ")\n",
    "# проверяем\n",
    "data.head(5)"
   ]
  },
  {
   "cell_type": "code",
   "execution_count": 32,
   "metadata": {},
   "outputs": [],
   "source": [
    "# Создадим переменные ordersByUsersA и ordersByUsersB со столбцами ['userId', 'orders']. \n",
    "# В них для пользователей, которые заказывали хотя бы 1 раз, укажем число совершённых заказов.\n",
    "ordersByUsersA = (\n",
    "    orders[orders['group'] == 'A']\n",
    "    .groupby('userId', as_index=False)\n",
    "    .agg({'orderId': pd.Series.nunique})\n",
    ")\n",
    "ordersByUsersA.columns = ['userId', 'orders']\n",
    "\n",
    "ordersByUsersB = (\n",
    "    orders[orders['group'] == 'B']\n",
    "    .groupby('userId', as_index=False)\n",
    "    .agg({'orderId': pd.Series.nunique})\n",
    ")\n",
    "ordersByUsersB.columns = ['userId', 'orders']\n",
    "# Объявим переменные sampleA и sampleB, в которых пользователям из разных групп будет соответствовать количество заказов. \n",
    "# Тем, кто ничего не заказал, будут соответствовать нули.\n",
    "sampleA = pd.concat([ordersByUsersA['orders'],\n",
    "        pd.Series(0, index=np.arange(data['visitorsPerDateA'].sum() - len(ordersByUsersA['orders'])),\n",
    "            name='orders')],axis=0)\n",
    "\n",
    "sampleB = pd.concat([ordersByUsersB['orders'],\n",
    "        pd.Series(0, index=np.arange(data['visitorsPerDateB'].sum() - len(ordersByUsersB['orders'])),\n",
    "            name='orders')], axis=0)"
   ]
  },
  {
   "cell_type": "markdown",
   "metadata": {},
   "source": [
    "Наконец Применим U-критерий Манна-Уитни. Выведем также значение относительного прироста конверсии группы B по формуле: конверсия группы B / конверсия группы A - 1. "
   ]
  },
  {
   "cell_type": "code",
   "execution_count": 33,
   "metadata": {},
   "outputs": [
    {
     "name": "stdout",
     "output_type": "stream",
     "text": [
      "P-value: 0.017\n",
      "Отвергаем нулевую гипотезу. Различия в конверсии между группами есть.\n"
     ]
    },
    {
     "data": {
      "text/plain": [
       "'Относительный прирост конверсии группы B : 0.138'"
      ]
     },
     "metadata": {},
     "output_type": "display_data"
    }
   ],
   "source": [
    "alpha = 0.05 # критический уровень статистической значимости для всех тестов в проекте\n",
    "results = stats.mannwhitneyu(sampleA, sampleB)\n",
    "print('P-value: {0:.3f}'.format(results.pvalue))\n",
    "if results.pvalue < alpha:\n",
    "    print('Отвергаем нулевую гипотезу. Различия в конверсии между группами есть.')\n",
    "else:\n",
    "    print('Отвергаем альтернативную гипотезу. Различий в конверсии между группами нет.')\n",
    "\n",
    "display(\"Относительный прирост конверсии группы B : {0:.3f}\".format(sampleB.mean() / sampleA.mean() - 1))"
   ]
  },
  {
   "cell_type": "markdown",
   "metadata": {},
   "source": [
    "Получили статистически значимую разницу конверсий между группами. По сырым данным прирост конверсии для группы \"B\" составил 13,8%.\n",
    "\n",
    "Посчитаем статистическую значимость различий в среднем чеке заказа между группами по «сырым» данным.Сформулируем гипотезы:\n",
    "\n",
    "**Нулевая гипотеза**: различий в среднем чеке заказа между группами нет.\n",
    "\n",
    "**Альтернативная гипотеза**: различия в среднем чеке заказа между группами есть.\n",
    "\n",
    "Чтобы рассчитать статистическую значимость различий в среднем чеке, передадим критерию mannwhitneyu() данные о выручке с заказов. И еще выведем относительные различия в среднем чеке между группами."
   ]
  },
  {
   "cell_type": "code",
   "execution_count": 34,
   "metadata": {},
   "outputs": [
    {
     "name": "stdout",
     "output_type": "stream",
     "text": [
      "P-value:  0.729\n",
      "Отвергаем альтернативную гипотезу. Различий в среднем чеке между группами нет.\n",
      "Относительное различие в среднем чеке между группами: 0.259\n"
     ]
    }
   ],
   "source": [
    "results = stats.mannwhitneyu(orders[orders['group']=='A']['revenue'], orders[orders['group']=='B']['revenue'])\n",
    "print('P-value:  {0:.3f}'.format(results.pvalue))\n",
    "if results.pvalue < alpha:\n",
    "    print('Отвергаем нулевую гипотезу. Различия в среднем чеке между группами есть.')\n",
    "else:\n",
    "    print('Отвергаем альтернативную гипотезу. Различий в среднем чеке между группами нет.')\n",
    "\n",
    "print('Относительное различие в среднем чеке между группами: {0:.3f}'.format(orders[orders['group']=='B']['revenue'].mean()\n",
    "                                                                             /orders[orders['group']=='A']['revenue'].mean()-1))"
   ]
  },
  {
   "cell_type": "markdown",
   "metadata": {},
   "source": [
    "По сырым данным не получилось отвергнуть нулевую гипотезу. P-value составил  0.729 и превысил критический уровень статистической значимости. \n",
    "\n",
    "Теперь проверим какие выводы можно сделать по чистым данным. Мы приняли за аномальных пользователей тех, кто совершил более 2х заказов или совершил заказ на сумму свыше 28 тысяч.\n",
    "\n",
    "Приступаем к подготовке чистых данных. Сначала определим аномальные заказы, затем пользователей, совершивших эти заказы, и добавим их в список аномальных."
   ]
  },
  {
   "cell_type": "code",
   "execution_count": 35,
   "metadata": {},
   "outputs": [
    {
     "data": {
      "text/plain": [
       "18      199603092\n",
       "23      237748145\n",
       "68      611059232\n",
       "146    1230306981\n",
       "189    1614305549\n",
       "Name: userId, dtype: int64"
      ]
     },
     "metadata": {},
     "output_type": "display_data"
    },
    {
     "name": "stdout",
     "output_type": "stream",
     "text": [
      "Количество аномальных пользователей: 31\n"
     ]
    }
   ],
   "source": [
    "orders_95percentile = 2\n",
    "Revenue_99percentile = 58000\n",
    "# делаем срез пользователей с  числом заказов больше 2х\n",
    "usersWithManyOrders = pd.concat([\n",
    "        ordersByUsersA[ordersByUsersA['orders'] > orders_95percentile]['userId'],\n",
    "        ordersByUsersB[ordersByUsersB['orders'] > orders_95percentile]['userId'],\n",
    "    ], axis=0)\n",
    "\n",
    "# делаем срез пользователей совершивших заказы дороже 58 тысяч\n",
    "usersWithExpensiveOrders = orders[orders['revenue'] > Revenue_99percentile]['userId']\n",
    "\n",
    "# собираем их в одну таблицу,убираем дубликаты и сортируем\n",
    "abnormalUsers = (\n",
    "    pd.concat([usersWithManyOrders, usersWithExpensiveOrders], axis=0)\n",
    "    .drop_duplicates()\n",
    "    .sort_values()\n",
    ")\n",
    "#проверочка\n",
    "display(usersWithManyOrders.head())\n",
    "\n",
    "print('Количество аномальных пользователей: {}'.format(len(abnormalUsers)))"
   ]
  },
  {
   "cell_type": "markdown",
   "metadata": {},
   "source": [
    "Теперь создадим переменные sampleAFiltered и sampleBFiltered, в которых сохраним очищенные данные о заказах — не включающих аномальных пользователей."
   ]
  },
  {
   "cell_type": "code",
   "execution_count": 36,
   "metadata": {},
   "outputs": [],
   "source": [
    "sampleAFiltered = pd.concat(\n",
    "    [\n",
    "        ordersByUsersA[\n",
    "            np.logical_not(ordersByUsersA['userId'].isin(abnormalUsers))\n",
    "        ]['orders'],\n",
    "        pd.Series(\n",
    "            0,\n",
    "            index=np.arange(\n",
    "                data['visitorsPerDateA'].sum() - len(ordersByUsersA['orders'])\n",
    "            ),\n",
    "            name='orders',\n",
    "        ),\n",
    "    ],\n",
    "    axis=0,\n",
    ")\n",
    "\n",
    "sampleBFiltered = pd.concat(\n",
    "    [\n",
    "        ordersByUsersB[\n",
    "            np.logical_not(ordersByUsersB['userId'].isin(abnormalUsers))\n",
    "        ]['orders'],\n",
    "        pd.Series(\n",
    "            0,\n",
    "            index=np.arange(\n",
    "                data['visitorsPerDateB'].sum() - len(ordersByUsersB['orders'])\n",
    "            ),\n",
    "            name='orders',\n",
    "        ),\n",
    "    ],\n",
    "    axis=0,\n",
    ") "
   ]
  },
  {
   "cell_type": "markdown",
   "metadata": {},
   "source": [
    "Применим статистический критерий Манна-Уитни к очищенным данным. И посчитаем прирост конверсии:"
   ]
  },
  {
   "cell_type": "code",
   "execution_count": 37,
   "metadata": {},
   "outputs": [
    {
     "name": "stdout",
     "output_type": "stream",
     "text": [
      "P-value: 0.010\n",
      "Отвергаем нулевую гипотезу. Различия в конверсии между группами есть.\n",
      "Относительный прирост конверсии группы B : 0.174\n"
     ]
    }
   ],
   "source": [
    "results = stats.mannwhitneyu(sampleAFiltered, sampleBFiltered)\n",
    "print('P-value: {0:.3f}'.format(results.pvalue))\n",
    "if results.pvalue < alpha:\n",
    "    print('Отвергаем нулевую гипотезу. Различия в конверсии между группами есть.')\n",
    "else:\n",
    "    print('Отвергаем альтернативную гипотезу. Различий в конверсии между группами нет.')\n",
    "\n",
    "print(\"Относительный прирост конверсии группы B : {0:.3f}\".format(sampleBFiltered.mean()/sampleAFiltered.mean()-1))"
   ]
  },
  {
   "cell_type": "markdown",
   "metadata": {},
   "source": [
    "По очищенным данным различия в конверсии также оказались статистически значимыми, но теперь прирост конверсии для группы B составляет 17,4%.\n",
    "\n",
    "Посмотрим как удаление аномальных покупок сказалось на средних чеках по группам."
   ]
  },
  {
   "cell_type": "code",
   "execution_count": 38,
   "metadata": {},
   "outputs": [],
   "source": [
    "alpha = 0.05\n",
    "# оставляем чеки группы А, убрав чеки аномальных пользователей\n",
    "ordersCleanA =  orders[\n",
    "                np.logical_and(\n",
    "                    orders['group'] == 'A',\n",
    "                    np.logical_not(orders['userId'].isin(abnormalUsers)),\n",
    "                )\n",
    "            ]['revenue']\n",
    "# оставляем чеки группы B, убрав чеки аномальных пользователей\n",
    "ordersCleanB = orders[\n",
    "                np.logical_and(\n",
    "                    orders['group'] == 'B',\n",
    "                    np.logical_not(orders['userId'].isin(abnormalUsers)),\n",
    "                )\n",
    "            ]['revenue']\n"
   ]
  },
  {
   "cell_type": "code",
   "execution_count": 39,
   "metadata": {},
   "outputs": [
    {
     "name": "stdout",
     "output_type": "stream",
     "text": [
      "P-value:  0.798\n",
      "Отвергаем альтернативную гипотезу. Различий в среднем чеке заказа между группами нет.\n",
      "Относительное различие в среднем чеке между группами: -0.020\n"
     ]
    }
   ],
   "source": [
    "results = stats.mannwhitneyu(ordersCleanA, ordersCleanB)\n",
    "print('P-value:  {0:.3f}'.format(results.pvalue))\n",
    "if results.pvalue < alpha:\n",
    "    print('Отвергаем нулевую гипотезу. Различия в среднем чеке заказа между группами есть.')\n",
    "else:\n",
    "    print('Отвергаем альтернативную гипотезу. Различий в среднем чеке заказа между группами нет.')\n",
    "\n",
    "print('Относительное различие в среднем чеке между группами: {0:.3f}'.format(ordersCleanB.mean()/ordersCleanA.mean()-1))"
   ]
  },
  {
   "cell_type": "markdown",
   "metadata": {},
   "source": [
    "Как и по сырым данным получили, что по очищенным данным статистических различий в чеках групп A/B нет. Разница в чеках меньше 1%.\n",
    "\n",
    "## Общий вывод\n",
    "\n",
    "\n",
    "\n",
    "Задачей исследования было проанализировать результаты A/B теста и принять одно из трех возможных решений:\n",
    "1. Остановить тест, зафиксировать победу одной из групп. \n",
    "2. Остановить тест, зафиксировать отсутствие различий между группами. \n",
    "3. Продолжить тест.\n",
    "\n",
    "На 31.08.2019 в эксперименте приняло участие более 37 тысяч пользователей. В группу \"А\" попало 18736 пользователей, из них совершили хотя бы одну покупку 445 пользователя на общую сумму 3 364 656 д.е. В группу \"B\" попало 18916 пользователей, из них совершили хотя бы одну покупку 586 пользователей на общую сумму 5 068 972 д.е. Нашли 58 пользователей, которые попали в обе группы теста, их  менее 5% от общего числа. Стоило бы, конечно, удалить этих пользователей из наших двух таблиц с визитами и заказами, но таблица визитов не содержит id пользоватлей, только их количество.  Если мы уберем только совершенные ими заказы, то расчеты конверсии будут не верными. Поэтому оставили как есть, но стоит разобраться с настройками при проведении теста и выяснить причину.\n",
    "\n",
    "Чтобы понять можно ли завершить тест мы исследовали графики кумулятивных показателей. Кумулятивная выручка увеличивается для обеих групп, как и должно быть. Для группы \"B\" этот показатель стабильно выше группы \"А\", но на графике были замечены сильные всплески. После 6 августа конверсия группы \"В\" увеличилась относительно конверсии группы \"А\", в пике превысив ее на 20%, затем наблюдается снижение разницы конверсий до 10%, но все же показатель группы \"В\" до конца теста остается выше. Значение среднего чека \"B\" резко подскочило после всплеска, но уже на следующий день отмечена тенденция к снижению показателя. Такая нестабильность указывает на присутствие аномальных значений в данных, наличие которых могло исказить общую картину и повлиять на результаты исследования.\n",
    "\n",
    "Мы предположили, что данные содержат аномальные значения, которые искажают общую картину. Это могут быть либо чрезмерно большое количество заказов, либо очень дорогие одиночные покупки. Было решено посчитать 95 и 99 перцентили и определить какое количество заказов и какую сумму чека можно считать аномальными. Аномальными признали клиентов, совершивших 3 и более покупок и чеки на сумму более 58 тысяч.\n",
    "\n",
    "Чтобы принять окончательное решение по результатам A/B теста посчитали стат.значимость для необработанных -\"сырых\" данных и для данных из которых исключили аномальные значения- \"очищенных\".\n",
    "\n",
    "Были выдвинуты следующие пары гипотез:\n",
    "\n",
    "**Нулевая гипотеза**: различий в конверсии между группами нет. **Альтернативная гипотеза**: различия в конверсии между группами есть.\n",
    "\n",
    "**Нулевая гипотеза**: различий в среднем чеке заказа между группами нет. **Альтернативная гипотеза**: различия в среднем чеке заказа между группами есть.\n",
    "\n",
    "Конверсия в обоих случаях оказалась статистически значимой. По \"сырым\" данным прирост конверсии для группы \"B\" составил 13,8%, по \"очищеным\" уже 17,4%. В среднем чеке для групп A/B статистичесих различий нет как по \"сырым\" данным, так и по \"очищенным\".\n",
    "\n",
    "Учитывая статистически подтвержденное увеличение конверсии для группы \"B\" и изучив графики, на которых показатели группы \"B\" увеличились и зафиксировались выше показателей группы \"А\" принимаем решение: \n",
    "Остановить тест, зафиксировать победу группы \"B\". "
   ]
  }
 ],
 "metadata": {
  "ExecuteTimeLog": [
   {
    "duration": 60,
    "start_time": "2022-04-24T08:49:16.806Z"
   },
   {
    "duration": 1421,
    "start_time": "2022-04-24T08:49:23.210Z"
   },
   {
    "duration": 143,
    "start_time": "2022-04-24T08:49:24.633Z"
   },
   {
    "duration": 63,
    "start_time": "2022-04-24T08:49:33.354Z"
   },
   {
    "duration": 16,
    "start_time": "2022-04-24T08:55:55.716Z"
   },
   {
    "duration": 37,
    "start_time": "2022-04-24T08:56:26.969Z"
   },
   {
    "duration": 11,
    "start_time": "2022-04-24T08:57:32.650Z"
   },
   {
    "duration": 5,
    "start_time": "2022-04-24T08:57:38.891Z"
   },
   {
    "duration": 64,
    "start_time": "2022-04-24T08:57:38.898Z"
   },
   {
    "duration": 12,
    "start_time": "2022-04-24T08:57:38.964Z"
   },
   {
    "duration": 11,
    "start_time": "2022-04-24T08:58:06.498Z"
   },
   {
    "duration": 54,
    "start_time": "2022-04-24T10:25:27.290Z"
   },
   {
    "duration": 8,
    "start_time": "2022-04-24T10:25:30.687Z"
   },
   {
    "duration": 69,
    "start_time": "2022-04-24T10:25:30.697Z"
   },
   {
    "duration": 91,
    "start_time": "2022-04-24T10:25:30.768Z"
   },
   {
    "duration": 11,
    "start_time": "2022-04-24T10:25:40.886Z"
   },
   {
    "duration": 10,
    "start_time": "2022-04-24T10:25:54.212Z"
   },
   {
    "duration": 84,
    "start_time": "2022-04-24T10:29:33.781Z"
   },
   {
    "duration": 138,
    "start_time": "2022-04-24T10:30:47.560Z"
   },
   {
    "duration": 63,
    "start_time": "2022-04-24T10:30:54.915Z"
   },
   {
    "duration": 44,
    "start_time": "2022-04-24T10:36:34.783Z"
   },
   {
    "duration": 58,
    "start_time": "2022-04-24T10:36:50.814Z"
   },
   {
    "duration": 2416,
    "start_time": "2022-04-24T10:38:32.491Z"
   },
   {
    "duration": 34,
    "start_time": "2022-04-24T10:39:58.314Z"
   },
   {
    "duration": 2259,
    "start_time": "2022-04-24T10:40:21.309Z"
   },
   {
    "duration": 4,
    "start_time": "2022-04-24T10:40:29.677Z"
   },
   {
    "duration": 37,
    "start_time": "2022-04-24T10:40:29.683Z"
   },
   {
    "duration": 2236,
    "start_time": "2022-04-24T10:40:29.722Z"
   },
   {
    "duration": 0,
    "start_time": "2022-04-24T10:40:31.960Z"
   },
   {
    "duration": 0,
    "start_time": "2022-04-24T10:40:31.961Z"
   },
   {
    "duration": 33,
    "start_time": "2022-04-24T10:40:54.060Z"
   },
   {
    "duration": 2357,
    "start_time": "2022-04-24T10:41:44.420Z"
   },
   {
    "duration": 2253,
    "start_time": "2022-04-24T10:42:51.809Z"
   },
   {
    "duration": 22,
    "start_time": "2022-04-24T10:51:47.530Z"
   },
   {
    "duration": 21,
    "start_time": "2022-04-24T10:52:10.138Z"
   },
   {
    "duration": 5,
    "start_time": "2022-04-24T10:52:37.535Z"
   },
   {
    "duration": 2287,
    "start_time": "2022-04-24T10:53:18.466Z"
   },
   {
    "duration": 3,
    "start_time": "2022-04-24T10:53:23.321Z"
   },
   {
    "duration": 51,
    "start_time": "2022-04-24T10:53:23.326Z"
   },
   {
    "duration": 2428,
    "start_time": "2022-04-24T10:53:23.378Z"
   },
   {
    "duration": 0,
    "start_time": "2022-04-24T10:53:25.808Z"
   },
   {
    "duration": 0,
    "start_time": "2022-04-24T10:53:25.810Z"
   },
   {
    "duration": 2369,
    "start_time": "2022-04-24T10:53:41.942Z"
   },
   {
    "duration": 2258,
    "start_time": "2022-04-24T10:55:48.358Z"
   },
   {
    "duration": 22,
    "start_time": "2022-04-24T10:55:51.716Z"
   },
   {
    "duration": 2576,
    "start_time": "2022-04-24T10:56:04.742Z"
   },
   {
    "duration": 3,
    "start_time": "2022-04-24T10:57:07.110Z"
   },
   {
    "duration": 11,
    "start_time": "2022-04-24T11:04:29.861Z"
   },
   {
    "duration": 2544,
    "start_time": "2022-04-24T11:09:30.195Z"
   },
   {
    "duration": 4,
    "start_time": "2022-04-24T11:13:03.612Z"
   },
   {
    "duration": 9,
    "start_time": "2022-04-24T11:13:12.844Z"
   },
   {
    "duration": 11,
    "start_time": "2022-04-24T11:13:43.969Z"
   },
   {
    "duration": 3,
    "start_time": "2022-04-24T11:13:48.336Z"
   },
   {
    "duration": 62,
    "start_time": "2022-04-24T11:13:48.340Z"
   },
   {
    "duration": 2748,
    "start_time": "2022-04-24T11:13:48.404Z"
   },
   {
    "duration": 0,
    "start_time": "2022-04-24T11:13:51.154Z"
   },
   {
    "duration": 0,
    "start_time": "2022-04-24T11:13:51.158Z"
   },
   {
    "duration": 0,
    "start_time": "2022-04-24T11:13:51.160Z"
   },
   {
    "duration": 8,
    "start_time": "2022-04-24T11:13:58.629Z"
   },
   {
    "duration": 4,
    "start_time": "2022-04-24T11:14:04.640Z"
   },
   {
    "duration": 12,
    "start_time": "2022-04-24T11:14:11.036Z"
   },
   {
    "duration": 414,
    "start_time": "2022-04-24T11:14:25.945Z"
   },
   {
    "duration": 34,
    "start_time": "2022-04-24T11:14:26.361Z"
   },
   {
    "duration": 75,
    "start_time": "2022-04-24T11:14:26.396Z"
   },
   {
    "duration": 0,
    "start_time": "2022-04-24T11:14:26.472Z"
   },
   {
    "duration": 0,
    "start_time": "2022-04-24T11:14:26.473Z"
   },
   {
    "duration": 0,
    "start_time": "2022-04-24T11:14:26.474Z"
   },
   {
    "duration": 0,
    "start_time": "2022-04-24T11:14:26.475Z"
   },
   {
    "duration": 2353,
    "start_time": "2022-04-24T11:14:46.568Z"
   },
   {
    "duration": 14,
    "start_time": "2022-04-24T11:14:59.971Z"
   },
   {
    "duration": 4,
    "start_time": "2022-04-24T11:15:07.850Z"
   },
   {
    "duration": 12,
    "start_time": "2022-04-24T11:15:09.252Z"
   },
   {
    "duration": 13,
    "start_time": "2022-04-24T11:15:11.107Z"
   },
   {
    "duration": 11,
    "start_time": "2022-04-24T11:15:31.755Z"
   },
   {
    "duration": 15,
    "start_time": "2022-04-24T11:16:05.585Z"
   },
   {
    "duration": 4,
    "start_time": "2022-04-24T11:16:09.993Z"
   },
   {
    "duration": 45,
    "start_time": "2022-04-24T11:16:10.002Z"
   },
   {
    "duration": 13,
    "start_time": "2022-04-24T11:16:10.050Z"
   },
   {
    "duration": 1,
    "start_time": "2022-04-24T11:16:10.069Z"
   },
   {
    "duration": 0,
    "start_time": "2022-04-24T11:16:10.072Z"
   },
   {
    "duration": 0,
    "start_time": "2022-04-24T11:16:10.073Z"
   },
   {
    "duration": 0,
    "start_time": "2022-04-24T11:16:10.074Z"
   },
   {
    "duration": 0,
    "start_time": "2022-04-24T11:16:10.075Z"
   },
   {
    "duration": 0,
    "start_time": "2022-04-24T11:16:10.077Z"
   },
   {
    "duration": 12,
    "start_time": "2022-04-24T11:16:13.964Z"
   },
   {
    "duration": 2712,
    "start_time": "2022-04-24T11:16:14.901Z"
   },
   {
    "duration": 10,
    "start_time": "2022-04-24T11:16:21.730Z"
   },
   {
    "duration": 4,
    "start_time": "2022-04-24T11:16:22.213Z"
   },
   {
    "duration": 10,
    "start_time": "2022-04-24T11:16:23.409Z"
   },
   {
    "duration": 8,
    "start_time": "2022-04-24T11:16:24.241Z"
   },
   {
    "duration": 9,
    "start_time": "2022-04-24T11:16:25.500Z"
   },
   {
    "duration": 14,
    "start_time": "2022-04-24T11:17:08.498Z"
   },
   {
    "duration": 411,
    "start_time": "2022-04-24T11:18:53.987Z"
   },
   {
    "duration": 36,
    "start_time": "2022-04-24T11:18:54.400Z"
   },
   {
    "duration": 67,
    "start_time": "2022-04-24T11:18:54.438Z"
   },
   {
    "duration": 0,
    "start_time": "2022-04-24T11:18:54.507Z"
   },
   {
    "duration": 0,
    "start_time": "2022-04-24T11:18:54.509Z"
   },
   {
    "duration": 0,
    "start_time": "2022-04-24T11:18:54.510Z"
   },
   {
    "duration": 0,
    "start_time": "2022-04-24T11:18:54.510Z"
   },
   {
    "duration": 0,
    "start_time": "2022-04-24T11:18:54.512Z"
   },
   {
    "duration": 0,
    "start_time": "2022-04-24T11:18:54.513Z"
   },
   {
    "duration": 16,
    "start_time": "2022-04-24T11:18:59.241Z"
   },
   {
    "duration": 2563,
    "start_time": "2022-04-24T11:18:59.769Z"
   },
   {
    "duration": 0,
    "start_time": "2022-04-24T11:19:02.334Z"
   },
   {
    "duration": 4,
    "start_time": "2022-04-24T11:19:07.113Z"
   },
   {
    "duration": 8,
    "start_time": "2022-04-24T11:19:07.881Z"
   },
   {
    "duration": 17,
    "start_time": "2022-04-24T11:19:08.186Z"
   },
   {
    "duration": 13,
    "start_time": "2022-04-24T11:19:08.488Z"
   },
   {
    "duration": 4,
    "start_time": "2022-04-24T11:28:29.298Z"
   },
   {
    "duration": 35,
    "start_time": "2022-04-24T11:28:33.909Z"
   },
   {
    "duration": 13,
    "start_time": "2022-04-24T11:28:34.796Z"
   },
   {
    "duration": 22,
    "start_time": "2022-04-24T11:28:35.846Z"
   },
   {
    "duration": 14,
    "start_time": "2022-04-24T11:28:36.197Z"
   },
   {
    "duration": 4,
    "start_time": "2022-04-24T11:28:36.484Z"
   },
   {
    "duration": 17,
    "start_time": "2022-04-24T11:28:37.009Z"
   },
   {
    "duration": 19,
    "start_time": "2022-04-24T11:28:37.266Z"
   },
   {
    "duration": 24,
    "start_time": "2022-04-24T11:28:37.559Z"
   },
   {
    "duration": 4,
    "start_time": "2022-04-24T11:28:42.895Z"
   },
   {
    "duration": 3,
    "start_time": "2022-04-24T11:29:10.442Z"
   },
   {
    "duration": 48,
    "start_time": "2022-04-24T11:29:11.482Z"
   },
   {
    "duration": 11,
    "start_time": "2022-04-24T11:29:11.939Z"
   },
   {
    "duration": 10,
    "start_time": "2022-04-24T11:29:12.543Z"
   },
   {
    "duration": 20,
    "start_time": "2022-04-24T11:29:13.068Z"
   },
   {
    "duration": 4,
    "start_time": "2022-04-24T11:29:13.549Z"
   },
   {
    "duration": 13,
    "start_time": "2022-04-24T11:29:14.813Z"
   },
   {
    "duration": 9,
    "start_time": "2022-04-24T11:29:15.318Z"
   },
   {
    "duration": 14,
    "start_time": "2022-04-24T11:29:16.080Z"
   },
   {
    "duration": 437,
    "start_time": "2022-04-24T11:29:41.480Z"
   },
   {
    "duration": 39,
    "start_time": "2022-04-24T11:29:41.919Z"
   },
   {
    "duration": 80,
    "start_time": "2022-04-24T11:29:41.967Z"
   },
   {
    "duration": 0,
    "start_time": "2022-04-24T11:29:42.049Z"
   },
   {
    "duration": 0,
    "start_time": "2022-04-24T11:29:42.051Z"
   },
   {
    "duration": 0,
    "start_time": "2022-04-24T11:29:42.052Z"
   },
   {
    "duration": 0,
    "start_time": "2022-04-24T11:29:42.061Z"
   },
   {
    "duration": 5,
    "start_time": "2022-04-24T11:29:54.515Z"
   },
   {
    "duration": 57,
    "start_time": "2022-04-24T11:29:55.072Z"
   },
   {
    "duration": 21,
    "start_time": "2022-04-24T11:29:55.660Z"
   },
   {
    "duration": 8,
    "start_time": "2022-04-24T11:29:56.482Z"
   },
   {
    "duration": 28,
    "start_time": "2022-04-24T11:29:58.496Z"
   },
   {
    "duration": 20,
    "start_time": "2022-04-24T11:30:03.926Z"
   },
   {
    "duration": 11,
    "start_time": "2022-04-24T11:30:09.340Z"
   },
   {
    "duration": 16,
    "start_time": "2022-04-24T11:30:19.437Z"
   },
   {
    "duration": 4,
    "start_time": "2022-04-24T11:30:35.813Z"
   },
   {
    "duration": 14,
    "start_time": "2022-04-24T11:30:51.222Z"
   },
   {
    "duration": 3,
    "start_time": "2022-04-24T11:31:10.127Z"
   },
   {
    "duration": 64,
    "start_time": "2022-04-24T11:31:11.053Z"
   },
   {
    "duration": 10,
    "start_time": "2022-04-24T11:31:11.335Z"
   },
   {
    "duration": 8,
    "start_time": "2022-04-24T11:31:11.562Z"
   },
   {
    "duration": 10,
    "start_time": "2022-04-24T11:31:12.022Z"
   },
   {
    "duration": 10,
    "start_time": "2022-04-24T11:31:12.254Z"
   },
   {
    "duration": 12,
    "start_time": "2022-04-24T11:31:12.513Z"
   },
   {
    "duration": 5,
    "start_time": "2022-04-24T11:32:13.436Z"
   },
   {
    "duration": 4,
    "start_time": "2022-04-24T11:32:50.184Z"
   },
   {
    "duration": 10,
    "start_time": "2022-04-24T11:32:58.621Z"
   },
   {
    "duration": 475,
    "start_time": "2022-04-24T11:33:40.127Z"
   },
   {
    "duration": 38,
    "start_time": "2022-04-24T11:33:40.604Z"
   },
   {
    "duration": 88,
    "start_time": "2022-04-24T11:33:40.644Z"
   },
   {
    "duration": 0,
    "start_time": "2022-04-24T11:33:40.734Z"
   },
   {
    "duration": 0,
    "start_time": "2022-04-24T11:33:40.736Z"
   },
   {
    "duration": 0,
    "start_time": "2022-04-24T11:33:40.738Z"
   },
   {
    "duration": 0,
    "start_time": "2022-04-24T11:33:40.739Z"
   },
   {
    "duration": 3627,
    "start_time": "2022-04-24T11:33:49.617Z"
   },
   {
    "duration": 3,
    "start_time": "2022-04-24T11:33:58.269Z"
   },
   {
    "duration": 33,
    "start_time": "2022-04-24T11:33:58.918Z"
   },
   {
    "duration": 13,
    "start_time": "2022-04-24T11:33:59.493Z"
   },
   {
    "duration": 6,
    "start_time": "2022-04-24T11:34:00.057Z"
   },
   {
    "duration": 29,
    "start_time": "2022-04-24T11:34:01.157Z"
   },
   {
    "duration": 42,
    "start_time": "2022-04-24T11:34:01.583Z"
   },
   {
    "duration": 8,
    "start_time": "2022-04-24T11:34:21.112Z"
   },
   {
    "duration": 197,
    "start_time": "2022-04-24T11:35:18.622Z"
   },
   {
    "duration": 12,
    "start_time": "2022-04-24T11:35:27.676Z"
   },
   {
    "duration": 4,
    "start_time": "2022-04-24T11:40:52.002Z"
   },
   {
    "duration": 32,
    "start_time": "2022-04-24T11:40:52.706Z"
   },
   {
    "duration": 10,
    "start_time": "2022-04-24T11:40:53.411Z"
   },
   {
    "duration": 3,
    "start_time": "2022-04-24T11:40:54.029Z"
   },
   {
    "duration": 10,
    "start_time": "2022-04-24T11:40:55.176Z"
   },
   {
    "duration": 4,
    "start_time": "2022-04-24T11:41:02.138Z"
   },
   {
    "duration": 47,
    "start_time": "2022-04-24T11:41:02.684Z"
   },
   {
    "duration": 13,
    "start_time": "2022-04-24T11:41:03.332Z"
   },
   {
    "duration": 4,
    "start_time": "2022-04-24T11:41:03.894Z"
   },
   {
    "duration": 9,
    "start_time": "2022-04-24T11:41:05.078Z"
   },
   {
    "duration": 8,
    "start_time": "2022-04-24T11:41:10.522Z"
   },
   {
    "duration": 3,
    "start_time": "2022-04-24T11:41:24.225Z"
   },
   {
    "duration": 41,
    "start_time": "2022-04-24T11:41:24.590Z"
   },
   {
    "duration": 10,
    "start_time": "2022-04-24T11:41:24.939Z"
   },
   {
    "duration": 3,
    "start_time": "2022-04-24T11:41:25.218Z"
   },
   {
    "duration": 11,
    "start_time": "2022-04-24T11:41:25.811Z"
   },
   {
    "duration": 10,
    "start_time": "2022-04-24T11:41:26.123Z"
   },
   {
    "duration": 15,
    "start_time": "2022-04-24T11:41:27.206Z"
   },
   {
    "duration": 5,
    "start_time": "2022-04-24T11:42:35.720Z"
   },
   {
    "duration": 98,
    "start_time": "2022-04-24T11:42:35.727Z"
   },
   {
    "duration": 12,
    "start_time": "2022-04-24T11:42:35.827Z"
   },
   {
    "duration": 1,
    "start_time": "2022-04-24T11:42:35.841Z"
   },
   {
    "duration": 0,
    "start_time": "2022-04-24T11:42:35.843Z"
   },
   {
    "duration": 0,
    "start_time": "2022-04-24T11:42:35.844Z"
   },
   {
    "duration": 0,
    "start_time": "2022-04-24T11:42:35.845Z"
   },
   {
    "duration": 5,
    "start_time": "2022-04-24T11:42:50.066Z"
   },
   {
    "duration": 92,
    "start_time": "2022-04-24T11:42:50.729Z"
   },
   {
    "duration": 16,
    "start_time": "2022-04-24T11:42:51.191Z"
   },
   {
    "duration": 6,
    "start_time": "2022-04-24T11:42:51.681Z"
   },
   {
    "duration": 9,
    "start_time": "2022-04-24T11:42:52.528Z"
   },
   {
    "duration": 15,
    "start_time": "2022-04-24T11:42:52.993Z"
   },
   {
    "duration": 23,
    "start_time": "2022-04-24T11:42:53.382Z"
   },
   {
    "duration": 7,
    "start_time": "2022-04-24T11:43:06.877Z"
   },
   {
    "duration": 32,
    "start_time": "2022-04-24T11:43:07.513Z"
   },
   {
    "duration": 10,
    "start_time": "2022-04-24T11:43:08.010Z"
   },
   {
    "duration": 3,
    "start_time": "2022-04-24T11:43:08.414Z"
   },
   {
    "duration": 8,
    "start_time": "2022-04-24T11:43:09.235Z"
   },
   {
    "duration": 9,
    "start_time": "2022-04-24T11:43:09.781Z"
   },
   {
    "duration": 18,
    "start_time": "2022-04-24T11:43:10.171Z"
   },
   {
    "duration": 3016,
    "start_time": "2022-04-24T11:44:38.494Z"
   },
   {
    "duration": 8,
    "start_time": "2022-04-24T11:44:55.294Z"
   },
   {
    "duration": 25,
    "start_time": "2022-04-24T11:46:00.381Z"
   },
   {
    "duration": 13,
    "start_time": "2022-04-24T11:46:18.425Z"
   },
   {
    "duration": 11,
    "start_time": "2022-04-24T11:46:35.144Z"
   },
   {
    "duration": 3,
    "start_time": "2022-04-24T11:46:40.694Z"
   },
   {
    "duration": 43,
    "start_time": "2022-04-24T11:46:40.701Z"
   },
   {
    "duration": 19,
    "start_time": "2022-04-24T11:46:40.746Z"
   },
   {
    "duration": 0,
    "start_time": "2022-04-24T11:46:40.767Z"
   },
   {
    "duration": 0,
    "start_time": "2022-04-24T11:46:40.768Z"
   },
   {
    "duration": 0,
    "start_time": "2022-04-24T11:46:40.769Z"
   },
   {
    "duration": 0,
    "start_time": "2022-04-24T11:46:40.770Z"
   },
   {
    "duration": 3,
    "start_time": "2022-04-24T11:47:35.824Z"
   },
   {
    "duration": 8,
    "start_time": "2022-04-24T11:47:36.696Z"
   },
   {
    "duration": 12,
    "start_time": "2022-04-24T11:47:37.093Z"
   },
   {
    "duration": 13,
    "start_time": "2022-04-24T11:47:37.438Z"
   },
   {
    "duration": 3,
    "start_time": "2022-04-24T11:50:11.098Z"
   },
   {
    "duration": 43,
    "start_time": "2022-04-24T11:50:11.589Z"
   },
   {
    "duration": 21,
    "start_time": "2022-04-24T11:50:12.049Z"
   },
   {
    "duration": 6,
    "start_time": "2022-04-24T11:50:12.468Z"
   },
   {
    "duration": 16,
    "start_time": "2022-04-24T11:50:13.313Z"
   },
   {
    "duration": 21,
    "start_time": "2022-04-24T11:50:13.755Z"
   },
   {
    "duration": 5,
    "start_time": "2022-04-24T11:50:26.841Z"
   },
   {
    "duration": 57,
    "start_time": "2022-04-24T11:50:27.273Z"
   },
   {
    "duration": 9,
    "start_time": "2022-04-24T11:50:27.517Z"
   },
   {
    "duration": 5,
    "start_time": "2022-04-24T11:50:27.782Z"
   },
   {
    "duration": 18,
    "start_time": "2022-04-24T11:50:29.353Z"
   },
   {
    "duration": 42,
    "start_time": "2022-04-24T11:50:29.373Z"
   },
   {
    "duration": 4,
    "start_time": "2022-04-24T11:55:04.155Z"
   },
   {
    "duration": 59,
    "start_time": "2022-04-24T11:55:05.624Z"
   },
   {
    "duration": 16,
    "start_time": "2022-04-24T11:55:05.849Z"
   },
   {
    "duration": 4,
    "start_time": "2022-04-24T11:55:06.080Z"
   },
   {
    "duration": 12,
    "start_time": "2022-04-24T11:55:06.516Z"
   },
   {
    "duration": 13,
    "start_time": "2022-04-24T11:55:06.729Z"
   },
   {
    "duration": 3,
    "start_time": "2022-04-24T11:57:54.836Z"
   },
   {
    "duration": 70,
    "start_time": "2022-04-24T11:57:54.841Z"
   },
   {
    "duration": 9,
    "start_time": "2022-04-24T11:57:54.913Z"
   },
   {
    "duration": 0,
    "start_time": "2022-04-24T11:57:54.923Z"
   },
   {
    "duration": 0,
    "start_time": "2022-04-24T11:57:54.924Z"
   },
   {
    "duration": 0,
    "start_time": "2022-04-24T11:57:54.926Z"
   },
   {
    "duration": 407,
    "start_time": "2022-04-25T02:30:29.345Z"
   },
   {
    "duration": 76,
    "start_time": "2022-04-25T02:30:29.754Z"
   },
   {
    "duration": 66,
    "start_time": "2022-04-25T02:30:29.832Z"
   },
   {
    "duration": 0,
    "start_time": "2022-04-25T02:30:29.899Z"
   },
   {
    "duration": 0,
    "start_time": "2022-04-25T02:30:29.900Z"
   },
   {
    "duration": 0,
    "start_time": "2022-04-25T02:30:29.901Z"
   },
   {
    "duration": 0,
    "start_time": "2022-04-25T02:30:29.902Z"
   },
   {
    "duration": 0,
    "start_time": "2022-04-25T02:30:29.903Z"
   },
   {
    "duration": 0,
    "start_time": "2022-04-25T02:30:29.904Z"
   },
   {
    "duration": 2704,
    "start_time": "2022-04-25T02:30:37.719Z"
   },
   {
    "duration": 3,
    "start_time": "2022-04-25T02:30:41.558Z"
   },
   {
    "duration": 3,
    "start_time": "2022-04-25T02:30:47.304Z"
   },
   {
    "duration": 65,
    "start_time": "2022-04-25T02:30:47.845Z"
   },
   {
    "duration": 11,
    "start_time": "2022-04-25T02:30:48.511Z"
   },
   {
    "duration": 3,
    "start_time": "2022-04-25T02:30:49.095Z"
   },
   {
    "duration": 20,
    "start_time": "2022-04-25T02:30:50.151Z"
   },
   {
    "duration": 13,
    "start_time": "2022-04-25T02:30:50.638Z"
   },
   {
    "duration": 3,
    "start_time": "2022-04-25T02:30:51.694Z"
   },
   {
    "duration": 208,
    "start_time": "2022-04-25T02:30:52.119Z"
   },
   {
    "duration": 11,
    "start_time": "2022-04-25T02:30:52.494Z"
   },
   {
    "duration": 2,
    "start_time": "2022-04-25T03:33:44.018Z"
   },
   {
    "duration": 169,
    "start_time": "2022-04-25T03:44:24.238Z"
   },
   {
    "duration": 11,
    "start_time": "2022-04-25T03:45:14.177Z"
   },
   {
    "duration": 453,
    "start_time": "2022-04-26T12:40:37.032Z"
   },
   {
    "duration": 275,
    "start_time": "2022-04-26T12:40:37.487Z"
   },
   {
    "duration": 75,
    "start_time": "2022-04-26T12:40:37.764Z"
   },
   {
    "duration": 0,
    "start_time": "2022-04-26T12:40:37.845Z"
   },
   {
    "duration": 0,
    "start_time": "2022-04-26T12:40:37.847Z"
   },
   {
    "duration": 0,
    "start_time": "2022-04-26T12:40:37.849Z"
   },
   {
    "duration": 0,
    "start_time": "2022-04-26T12:40:37.850Z"
   },
   {
    "duration": 3,
    "start_time": "2022-04-26T12:40:45.078Z"
   },
   {
    "duration": 75,
    "start_time": "2022-04-26T12:40:45.574Z"
   },
   {
    "duration": 9,
    "start_time": "2022-04-26T12:40:45.992Z"
   },
   {
    "duration": 3,
    "start_time": "2022-04-26T12:40:46.374Z"
   },
   {
    "duration": 20,
    "start_time": "2022-04-26T12:40:47.062Z"
   },
   {
    "duration": 13,
    "start_time": "2022-04-26T12:40:47.346Z"
   },
   {
    "duration": 10,
    "start_time": "2022-04-26T12:40:49.063Z"
   },
   {
    "duration": 50,
    "start_time": "2022-04-26T12:47:33.015Z"
   },
   {
    "duration": 74,
    "start_time": "2022-04-26T12:48:44.151Z"
   },
   {
    "duration": 26,
    "start_time": "2022-04-26T12:49:42.967Z"
   },
   {
    "duration": 294,
    "start_time": "2022-04-26T12:52:49.459Z"
   },
   {
    "duration": 272,
    "start_time": "2022-04-26T12:57:05.173Z"
   },
   {
    "duration": 279,
    "start_time": "2022-04-26T12:57:17.298Z"
   },
   {
    "duration": 24,
    "start_time": "2022-04-26T12:58:37.167Z"
   },
   {
    "duration": 14,
    "start_time": "2022-04-26T13:01:03.179Z"
   },
   {
    "duration": 7,
    "start_time": "2022-04-26T13:02:42.778Z"
   },
   {
    "duration": 14,
    "start_time": "2022-04-26T13:02:50.844Z"
   },
   {
    "duration": 12,
    "start_time": "2022-04-26T13:03:09.833Z"
   },
   {
    "duration": 296,
    "start_time": "2022-04-26T13:03:17.372Z"
   },
   {
    "duration": 428,
    "start_time": "2022-04-26T13:03:30.692Z"
   },
   {
    "duration": 21,
    "start_time": "2022-04-26T13:03:35.820Z"
   },
   {
    "duration": 622,
    "start_time": "2022-04-26T13:03:39.840Z"
   },
   {
    "duration": 878,
    "start_time": "2022-04-28T12:53:20.245Z"
   },
   {
    "duration": 35,
    "start_time": "2022-04-28T12:53:21.126Z"
   },
   {
    "duration": 73,
    "start_time": "2022-04-28T12:53:21.163Z"
   },
   {
    "duration": 0,
    "start_time": "2022-04-28T12:53:21.237Z"
   },
   {
    "duration": 0,
    "start_time": "2022-04-28T12:53:21.239Z"
   },
   {
    "duration": 2171,
    "start_time": "2022-04-28T12:53:21.560Z"
   },
   {
    "duration": 0,
    "start_time": "2022-04-28T12:53:23.732Z"
   },
   {
    "duration": 2356,
    "start_time": "2022-04-28T12:53:39.447Z"
   },
   {
    "duration": 2300,
    "start_time": "2022-04-28T12:53:46.119Z"
   },
   {
    "duration": 3,
    "start_time": "2022-04-28T12:53:52.517Z"
   },
   {
    "duration": 39,
    "start_time": "2022-04-28T12:53:52.522Z"
   },
   {
    "duration": 10,
    "start_time": "2022-04-28T12:53:52.562Z"
   },
   {
    "duration": 0,
    "start_time": "2022-04-28T12:53:52.573Z"
   },
   {
    "duration": 0,
    "start_time": "2022-04-28T12:53:52.574Z"
   },
   {
    "duration": 0,
    "start_time": "2022-04-28T12:53:52.575Z"
   },
   {
    "duration": 0,
    "start_time": "2022-04-28T12:53:52.576Z"
   },
   {
    "duration": 3,
    "start_time": "2022-04-28T12:53:57.999Z"
   },
   {
    "duration": 33,
    "start_time": "2022-04-28T12:53:58.472Z"
   },
   {
    "duration": 10,
    "start_time": "2022-04-28T12:53:58.951Z"
   },
   {
    "duration": 18,
    "start_time": "2022-04-28T12:53:59.984Z"
   },
   {
    "duration": 14,
    "start_time": "2022-04-28T12:54:31.240Z"
   },
   {
    "duration": 12,
    "start_time": "2022-04-28T12:54:52.786Z"
   },
   {
    "duration": 7,
    "start_time": "2022-04-28T13:39:29.630Z"
   },
   {
    "duration": 134,
    "start_time": "2022-04-28T13:42:02.609Z"
   },
   {
    "duration": 25,
    "start_time": "2022-04-28T13:42:32.344Z"
   },
   {
    "duration": 21,
    "start_time": "2022-04-28T13:42:55.943Z"
   },
   {
    "duration": 24,
    "start_time": "2022-04-28T13:43:44.890Z"
   },
   {
    "duration": 22,
    "start_time": "2022-04-28T13:44:18.353Z"
   },
   {
    "duration": 14,
    "start_time": "2022-04-28T13:44:32.361Z"
   },
   {
    "duration": 17,
    "start_time": "2022-04-28T13:44:34.593Z"
   },
   {
    "duration": 19,
    "start_time": "2022-04-28T13:44:35.084Z"
   },
   {
    "duration": 164,
    "start_time": "2022-04-28T13:44:37.475Z"
   },
   {
    "duration": 164,
    "start_time": "2022-04-28T13:45:00.619Z"
   },
   {
    "duration": 151,
    "start_time": "2022-04-28T13:45:21.493Z"
   },
   {
    "duration": 133,
    "start_time": "2022-04-28T13:45:25.069Z"
   },
   {
    "duration": 252,
    "start_time": "2022-04-28T13:45:38.904Z"
   },
   {
    "duration": 150,
    "start_time": "2022-04-28T13:45:54.413Z"
   },
   {
    "duration": 282,
    "start_time": "2022-04-28T13:46:54.422Z"
   },
   {
    "duration": 262,
    "start_time": "2022-04-28T13:48:49.066Z"
   },
   {
    "duration": 241,
    "start_time": "2022-04-28T13:50:17.966Z"
   },
   {
    "duration": 389,
    "start_time": "2022-04-28T13:50:45.973Z"
   },
   {
    "duration": 11,
    "start_time": "2022-04-28T13:52:03.055Z"
   },
   {
    "duration": 11,
    "start_time": "2022-04-28T13:52:18.302Z"
   },
   {
    "duration": 233,
    "start_time": "2022-04-28T13:53:19.054Z"
   },
   {
    "duration": 157,
    "start_time": "2022-04-28T13:54:46.123Z"
   },
   {
    "duration": 151,
    "start_time": "2022-04-28T13:55:23.558Z"
   },
   {
    "duration": 238,
    "start_time": "2022-04-28T13:57:45.048Z"
   },
   {
    "duration": 133,
    "start_time": "2022-04-28T13:57:46.447Z"
   },
   {
    "duration": 114,
    "start_time": "2022-04-28T13:58:11.064Z"
   },
   {
    "duration": 12,
    "start_time": "2022-04-28T13:58:56.705Z"
   },
   {
    "duration": 18,
    "start_time": "2022-04-28T14:00:42.840Z"
   },
   {
    "duration": 13,
    "start_time": "2022-04-28T14:01:15.661Z"
   },
   {
    "duration": 232,
    "start_time": "2022-04-28T14:38:09.436Z"
   },
   {
    "duration": 243,
    "start_time": "2022-04-28T14:39:36.310Z"
   },
   {
    "duration": 331,
    "start_time": "2022-04-28T14:43:29.895Z"
   },
   {
    "duration": 168,
    "start_time": "2022-04-28T14:44:01.743Z"
   },
   {
    "duration": 331,
    "start_time": "2022-04-28T14:44:40.565Z"
   },
   {
    "duration": 247,
    "start_time": "2022-04-28T14:44:58.181Z"
   },
   {
    "duration": 249,
    "start_time": "2022-04-28T14:45:05.195Z"
   },
   {
    "duration": 235,
    "start_time": "2022-04-28T14:45:10.964Z"
   },
   {
    "duration": 327,
    "start_time": "2022-04-28T14:48:15.988Z"
   },
   {
    "duration": 262,
    "start_time": "2022-04-28T14:48:33.369Z"
   },
   {
    "duration": 282,
    "start_time": "2022-04-28T14:52:28.888Z"
   },
   {
    "duration": 368,
    "start_time": "2022-04-28T14:52:37.170Z"
   },
   {
    "duration": 287,
    "start_time": "2022-04-28T14:52:49.384Z"
   },
   {
    "duration": 430,
    "start_time": "2022-04-28T14:53:07.024Z"
   },
   {
    "duration": 260,
    "start_time": "2022-04-28T14:56:44.183Z"
   },
   {
    "duration": 323,
    "start_time": "2022-04-28T14:56:50.488Z"
   },
   {
    "duration": 228,
    "start_time": "2022-04-28T15:05:41.704Z"
   },
   {
    "duration": 279,
    "start_time": "2022-04-28T15:06:48.812Z"
   },
   {
    "duration": 407,
    "start_time": "2022-04-28T15:09:11.224Z"
   },
   {
    "duration": 426,
    "start_time": "2022-04-28T15:09:31.117Z"
   },
   {
    "duration": 520,
    "start_time": "2022-04-28T15:09:36.629Z"
   },
   {
    "duration": 443,
    "start_time": "2022-04-28T15:09:53.431Z"
   },
   {
    "duration": 486,
    "start_time": "2022-04-28T15:11:35.608Z"
   },
   {
    "duration": 404,
    "start_time": "2022-04-28T15:12:54.691Z"
   },
   {
    "duration": 381,
    "start_time": "2022-04-28T15:13:04.363Z"
   },
   {
    "duration": 245,
    "start_time": "2022-04-28T15:14:40.868Z"
   },
   {
    "duration": 510,
    "start_time": "2022-04-28T15:14:58.832Z"
   },
   {
    "duration": 261,
    "start_time": "2022-04-28T15:15:08.233Z"
   },
   {
    "duration": 263,
    "start_time": "2022-04-28T15:15:21.848Z"
   },
   {
    "duration": 357,
    "start_time": "2022-04-28T15:16:18.657Z"
   },
   {
    "duration": 258,
    "start_time": "2022-04-28T15:16:45.706Z"
   },
   {
    "duration": 380,
    "start_time": "2022-04-28T15:17:06.074Z"
   },
   {
    "duration": 820,
    "start_time": "2022-04-29T02:11:56.227Z"
   },
   {
    "duration": 73,
    "start_time": "2022-04-29T02:11:57.049Z"
   },
   {
    "duration": 71,
    "start_time": "2022-04-29T02:11:57.123Z"
   },
   {
    "duration": 0,
    "start_time": "2022-04-29T02:11:57.196Z"
   },
   {
    "duration": 0,
    "start_time": "2022-04-29T02:11:57.198Z"
   },
   {
    "duration": 0,
    "start_time": "2022-04-29T02:11:57.199Z"
   },
   {
    "duration": 0,
    "start_time": "2022-04-29T02:11:57.201Z"
   },
   {
    "duration": 0,
    "start_time": "2022-04-29T02:11:57.202Z"
   },
   {
    "duration": 0,
    "start_time": "2022-04-29T02:11:57.203Z"
   },
   {
    "duration": 0,
    "start_time": "2022-04-29T02:11:57.205Z"
   },
   {
    "duration": 0,
    "start_time": "2022-04-29T02:11:57.222Z"
   },
   {
    "duration": 0,
    "start_time": "2022-04-29T02:11:57.223Z"
   },
   {
    "duration": 0,
    "start_time": "2022-04-29T02:11:57.225Z"
   },
   {
    "duration": 0,
    "start_time": "2022-04-29T02:11:57.226Z"
   },
   {
    "duration": 3,
    "start_time": "2022-04-29T02:12:12.394Z"
   },
   {
    "duration": 62,
    "start_time": "2022-04-29T02:12:12.612Z"
   },
   {
    "duration": 10,
    "start_time": "2022-04-29T02:12:12.852Z"
   },
   {
    "duration": 17,
    "start_time": "2022-04-29T02:12:13.091Z"
   },
   {
    "duration": 13,
    "start_time": "2022-04-29T02:12:13.332Z"
   },
   {
    "duration": 14,
    "start_time": "2022-04-29T02:12:13.787Z"
   },
   {
    "duration": 12,
    "start_time": "2022-04-29T02:12:14.027Z"
   },
   {
    "duration": 207,
    "start_time": "2022-04-29T02:12:15.203Z"
   },
   {
    "duration": 9,
    "start_time": "2022-04-29T02:12:15.443Z"
   },
   {
    "duration": 8,
    "start_time": "2022-04-29T02:12:15.690Z"
   },
   {
    "duration": 9,
    "start_time": "2022-04-29T02:12:16.187Z"
   },
   {
    "duration": 13,
    "start_time": "2022-04-29T02:12:16.922Z"
   },
   {
    "duration": 9,
    "start_time": "2022-04-29T02:12:17.675Z"
   },
   {
    "duration": 3,
    "start_time": "2022-04-29T02:12:25.035Z"
   },
   {
    "duration": 62,
    "start_time": "2022-04-29T02:12:25.932Z"
   },
   {
    "duration": 10,
    "start_time": "2022-04-29T02:12:27.182Z"
   },
   {
    "duration": 13,
    "start_time": "2022-04-29T02:12:28.412Z"
   },
   {
    "duration": 13,
    "start_time": "2022-04-29T02:12:29.189Z"
   },
   {
    "duration": 10,
    "start_time": "2022-04-29T02:12:30.605Z"
   },
   {
    "duration": 12,
    "start_time": "2022-04-29T02:12:31.508Z"
   },
   {
    "duration": 213,
    "start_time": "2022-04-29T02:12:34.779Z"
   },
   {
    "duration": 9,
    "start_time": "2022-04-29T02:12:43.908Z"
   },
   {
    "duration": 9,
    "start_time": "2022-04-29T02:12:44.540Z"
   },
   {
    "duration": 9,
    "start_time": "2022-04-29T02:12:45.660Z"
   },
   {
    "duration": 11,
    "start_time": "2022-04-29T02:12:46.644Z"
   },
   {
    "duration": 10,
    "start_time": "2022-04-29T02:12:47.387Z"
   },
   {
    "duration": 193,
    "start_time": "2022-04-29T02:14:39.778Z"
   },
   {
    "duration": 217,
    "start_time": "2022-04-29T02:14:51.930Z"
   },
   {
    "duration": 193,
    "start_time": "2022-04-29T02:16:35.679Z"
   },
   {
    "duration": 182,
    "start_time": "2022-04-29T02:17:46.770Z"
   },
   {
    "duration": 205,
    "start_time": "2022-04-29T02:18:23.925Z"
   },
   {
    "duration": 185,
    "start_time": "2022-04-29T02:18:40.164Z"
   },
   {
    "duration": 704,
    "start_time": "2022-04-29T02:19:21.611Z"
   },
   {
    "duration": 63,
    "start_time": "2022-04-29T02:19:22.317Z"
   },
   {
    "duration": 70,
    "start_time": "2022-04-29T02:19:22.382Z"
   },
   {
    "duration": 0,
    "start_time": "2022-04-29T02:19:22.454Z"
   },
   {
    "duration": 0,
    "start_time": "2022-04-29T02:19:22.455Z"
   },
   {
    "duration": 0,
    "start_time": "2022-04-29T02:19:22.456Z"
   },
   {
    "duration": 0,
    "start_time": "2022-04-29T02:19:22.457Z"
   },
   {
    "duration": 0,
    "start_time": "2022-04-29T02:19:22.458Z"
   },
   {
    "duration": 0,
    "start_time": "2022-04-29T02:19:22.459Z"
   },
   {
    "duration": 0,
    "start_time": "2022-04-29T02:19:22.460Z"
   },
   {
    "duration": 0,
    "start_time": "2022-04-29T02:19:22.461Z"
   },
   {
    "duration": 0,
    "start_time": "2022-04-29T02:19:22.462Z"
   },
   {
    "duration": 0,
    "start_time": "2022-04-29T02:19:22.463Z"
   },
   {
    "duration": 1,
    "start_time": "2022-04-29T02:19:22.463Z"
   },
   {
    "duration": 4,
    "start_time": "2022-04-29T02:19:30.233Z"
   },
   {
    "duration": 62,
    "start_time": "2022-04-29T02:19:30.817Z"
   },
   {
    "duration": 10,
    "start_time": "2022-04-29T02:19:31.370Z"
   },
   {
    "duration": 16,
    "start_time": "2022-04-29T02:19:31.961Z"
   },
   {
    "duration": 15,
    "start_time": "2022-04-29T02:19:32.507Z"
   },
   {
    "duration": 14,
    "start_time": "2022-04-29T02:19:33.769Z"
   },
   {
    "duration": 13,
    "start_time": "2022-04-29T02:19:34.641Z"
   },
   {
    "duration": 206,
    "start_time": "2022-04-29T02:19:38.098Z"
   },
   {
    "duration": 294,
    "start_time": "2022-04-29T02:24:51.561Z"
   },
   {
    "duration": 196,
    "start_time": "2022-04-29T03:06:36.067Z"
   },
   {
    "duration": 152,
    "start_time": "2022-04-29T03:07:05.858Z"
   },
   {
    "duration": 119,
    "start_time": "2022-04-29T03:07:10.012Z"
   },
   {
    "duration": 13,
    "start_time": "2022-04-29T03:07:13.332Z"
   },
   {
    "duration": 265,
    "start_time": "2022-04-29T03:07:13.877Z"
   },
   {
    "duration": 255,
    "start_time": "2022-04-29T03:07:15.324Z"
   },
   {
    "duration": 370,
    "start_time": "2022-04-29T03:07:15.917Z"
   },
   {
    "duration": 1003,
    "start_time": "2022-05-02T04:16:23.126Z"
   },
   {
    "duration": 50,
    "start_time": "2022-05-02T04:16:24.132Z"
   },
   {
    "duration": 86,
    "start_time": "2022-05-02T04:16:24.184Z"
   },
   {
    "duration": 0,
    "start_time": "2022-05-02T04:16:24.273Z"
   },
   {
    "duration": 0,
    "start_time": "2022-05-02T04:16:24.274Z"
   },
   {
    "duration": 0,
    "start_time": "2022-05-02T04:16:24.275Z"
   },
   {
    "duration": 0,
    "start_time": "2022-05-02T04:16:24.276Z"
   },
   {
    "duration": 0,
    "start_time": "2022-05-02T04:16:24.278Z"
   },
   {
    "duration": 0,
    "start_time": "2022-05-02T04:16:24.279Z"
   },
   {
    "duration": 0,
    "start_time": "2022-05-02T04:16:24.280Z"
   },
   {
    "duration": 0,
    "start_time": "2022-05-02T04:16:24.281Z"
   },
   {
    "duration": 0,
    "start_time": "2022-05-02T04:16:24.282Z"
   },
   {
    "duration": 0,
    "start_time": "2022-05-02T04:16:24.283Z"
   },
   {
    "duration": 0,
    "start_time": "2022-05-02T04:16:24.284Z"
   },
   {
    "duration": 4,
    "start_time": "2022-05-02T04:16:30.110Z"
   },
   {
    "duration": 41,
    "start_time": "2022-05-02T04:16:30.352Z"
   },
   {
    "duration": 12,
    "start_time": "2022-05-02T04:16:30.568Z"
   },
   {
    "duration": 20,
    "start_time": "2022-05-02T04:16:30.795Z"
   },
   {
    "duration": 14,
    "start_time": "2022-05-02T04:16:31.031Z"
   },
   {
    "duration": 16,
    "start_time": "2022-05-02T04:16:32.072Z"
   },
   {
    "duration": 14,
    "start_time": "2022-05-02T04:16:32.588Z"
   },
   {
    "duration": 172,
    "start_time": "2022-05-02T04:16:36.976Z"
   },
   {
    "duration": 136,
    "start_time": "2022-05-02T04:16:37.926Z"
   },
   {
    "duration": 13,
    "start_time": "2022-05-02T04:16:38.991Z"
   },
   {
    "duration": 305,
    "start_time": "2022-05-02T04:16:52.715Z"
   },
   {
    "duration": 283,
    "start_time": "2022-05-02T04:16:54.792Z"
   },
   {
    "duration": 440,
    "start_time": "2022-05-02T04:16:57.309Z"
   },
   {
    "duration": 15,
    "start_time": "2022-05-02T04:16:59.456Z"
   },
   {
    "duration": 13,
    "start_time": "2022-05-02T04:17:19.104Z"
   },
   {
    "duration": 343,
    "start_time": "2022-05-02T04:17:20.968Z"
   },
   {
    "duration": 275,
    "start_time": "2022-05-02T04:17:22.200Z"
   },
   {
    "duration": 371,
    "start_time": "2022-05-02T04:17:25.580Z"
   },
   {
    "duration": 15,
    "start_time": "2022-05-02T04:17:28.056Z"
   },
   {
    "duration": 283,
    "start_time": "2022-05-02T04:19:06.048Z"
   },
   {
    "duration": 347,
    "start_time": "2022-05-02T04:20:16.684Z"
   },
   {
    "duration": 368,
    "start_time": "2022-05-02T04:23:08.096Z"
   },
   {
    "duration": 14,
    "start_time": "2022-05-02T04:41:29.752Z"
   },
   {
    "duration": 14,
    "start_time": "2022-05-02T04:41:47.113Z"
   },
   {
    "duration": 11,
    "start_time": "2022-05-02T04:41:56.137Z"
   },
   {
    "duration": 33,
    "start_time": "2022-05-02T04:42:15.376Z"
   },
   {
    "duration": 30,
    "start_time": "2022-05-02T04:43:25.971Z"
   },
   {
    "duration": 4,
    "start_time": "2022-05-02T04:43:37.137Z"
   },
   {
    "duration": 46,
    "start_time": "2022-05-02T04:43:37.143Z"
   },
   {
    "duration": 26,
    "start_time": "2022-05-02T04:43:37.192Z"
   },
   {
    "duration": 13,
    "start_time": "2022-05-02T04:43:37.219Z"
   },
   {
    "duration": 23,
    "start_time": "2022-05-02T04:43:37.235Z"
   },
   {
    "duration": 20,
    "start_time": "2022-05-02T04:43:37.259Z"
   },
   {
    "duration": 20,
    "start_time": "2022-05-02T04:43:37.282Z"
   },
   {
    "duration": 214,
    "start_time": "2022-05-02T04:43:37.304Z"
   },
   {
    "duration": 176,
    "start_time": "2022-05-02T04:43:37.520Z"
   },
   {
    "duration": 13,
    "start_time": "2022-05-02T04:43:37.698Z"
   },
   {
    "duration": 345,
    "start_time": "2022-05-02T04:43:37.713Z"
   },
   {
    "duration": 318,
    "start_time": "2022-05-02T04:43:38.060Z"
   },
   {
    "duration": 398,
    "start_time": "2022-05-02T04:43:38.380Z"
   },
   {
    "duration": 377,
    "start_time": "2022-05-02T04:43:38.780Z"
   },
   {
    "duration": 395,
    "start_time": "2022-05-02T04:43:39.159Z"
   },
   {
    "duration": 40,
    "start_time": "2022-05-02T05:01:10.330Z"
   },
   {
    "duration": 37,
    "start_time": "2022-05-02T05:02:00.747Z"
   },
   {
    "duration": 30,
    "start_time": "2022-05-02T05:02:23.261Z"
   },
   {
    "duration": 23,
    "start_time": "2022-05-02T05:02:39.063Z"
   },
   {
    "duration": 4,
    "start_time": "2022-05-02T05:10:43.085Z"
   },
   {
    "duration": 61,
    "start_time": "2022-05-02T05:10:43.091Z"
   },
   {
    "duration": 28,
    "start_time": "2022-05-02T05:10:43.154Z"
   },
   {
    "duration": 28,
    "start_time": "2022-05-02T05:10:43.184Z"
   },
   {
    "duration": 56,
    "start_time": "2022-05-02T05:10:43.214Z"
   },
   {
    "duration": 28,
    "start_time": "2022-05-02T05:10:43.272Z"
   },
   {
    "duration": 20,
    "start_time": "2022-05-02T05:10:43.302Z"
   },
   {
    "duration": 29,
    "start_time": "2022-05-02T05:10:43.325Z"
   },
   {
    "duration": 26,
    "start_time": "2022-05-02T05:10:43.357Z"
   },
   {
    "duration": 174,
    "start_time": "2022-05-02T05:10:43.387Z"
   },
   {
    "duration": 134,
    "start_time": "2022-05-02T05:10:43.563Z"
   },
   {
    "duration": 15,
    "start_time": "2022-05-02T05:10:43.699Z"
   },
   {
    "duration": 295,
    "start_time": "2022-05-02T05:10:43.716Z"
   },
   {
    "duration": 281,
    "start_time": "2022-05-02T05:10:44.013Z"
   },
   {
    "duration": 384,
    "start_time": "2022-05-02T05:10:44.296Z"
   },
   {
    "duration": 433,
    "start_time": "2022-05-02T05:10:44.682Z"
   },
   {
    "duration": 419,
    "start_time": "2022-05-02T05:10:45.117Z"
   },
   {
    "duration": 913,
    "start_time": "2022-05-02T05:12:42.646Z"
   },
   {
    "duration": 38,
    "start_time": "2022-05-02T05:12:43.562Z"
   },
   {
    "duration": 44,
    "start_time": "2022-05-02T05:12:43.602Z"
   },
   {
    "duration": 85,
    "start_time": "2022-05-02T05:12:43.648Z"
   },
   {
    "duration": 38,
    "start_time": "2022-05-02T05:12:43.735Z"
   },
   {
    "duration": 17,
    "start_time": "2022-05-02T05:12:43.775Z"
   },
   {
    "duration": 24,
    "start_time": "2022-05-02T05:12:43.794Z"
   },
   {
    "duration": 36,
    "start_time": "2022-05-02T05:12:43.820Z"
   },
   {
    "duration": 16,
    "start_time": "2022-05-02T05:12:43.858Z"
   },
   {
    "duration": 281,
    "start_time": "2022-05-02T05:12:43.878Z"
   },
   {
    "duration": 143,
    "start_time": "2022-05-02T05:12:44.160Z"
   },
   {
    "duration": 47,
    "start_time": "2022-05-02T05:12:44.305Z"
   },
   {
    "duration": 305,
    "start_time": "2022-05-02T05:12:44.354Z"
   },
   {
    "duration": 279,
    "start_time": "2022-05-02T05:12:44.661Z"
   },
   {
    "duration": 427,
    "start_time": "2022-05-02T05:12:44.942Z"
   },
   {
    "duration": 299,
    "start_time": "2022-05-02T05:12:45.370Z"
   },
   {
    "duration": 478,
    "start_time": "2022-05-02T05:12:45.671Z"
   },
   {
    "duration": 15,
    "start_time": "2022-05-02T05:13:05.437Z"
   },
   {
    "duration": 148,
    "start_time": "2022-05-02T05:16:16.864Z"
   },
   {
    "duration": 14,
    "start_time": "2022-05-02T05:20:22.699Z"
   },
   {
    "duration": 18,
    "start_time": "2022-05-02T05:20:23.570Z"
   },
   {
    "duration": 14,
    "start_time": "2022-05-02T05:21:06.581Z"
   },
   {
    "duration": 5,
    "start_time": "2022-05-02T05:22:17.116Z"
   },
   {
    "duration": 12,
    "start_time": "2022-05-02T05:22:23.886Z"
   },
   {
    "duration": 12,
    "start_time": "2022-05-02T05:22:33.093Z"
   },
   {
    "duration": 14,
    "start_time": "2022-05-02T05:31:22.167Z"
   },
   {
    "duration": 9,
    "start_time": "2022-05-02T05:33:49.418Z"
   },
   {
    "duration": 10,
    "start_time": "2022-05-02T05:34:36.652Z"
   },
   {
    "duration": 9,
    "start_time": "2022-05-02T05:35:35.535Z"
   },
   {
    "duration": 4,
    "start_time": "2022-05-02T05:35:42.067Z"
   },
   {
    "duration": 66,
    "start_time": "2022-05-02T05:35:42.074Z"
   },
   {
    "duration": 32,
    "start_time": "2022-05-02T05:35:42.142Z"
   },
   {
    "duration": 33,
    "start_time": "2022-05-02T05:35:42.175Z"
   },
   {
    "duration": 47,
    "start_time": "2022-05-02T05:35:42.210Z"
   },
   {
    "duration": 13,
    "start_time": "2022-05-02T05:35:42.259Z"
   },
   {
    "duration": 32,
    "start_time": "2022-05-02T05:35:42.274Z"
   },
   {
    "duration": 14,
    "start_time": "2022-05-02T05:35:45.053Z"
   },
   {
    "duration": 11,
    "start_time": "2022-05-02T05:41:44.918Z"
   },
   {
    "duration": 4,
    "start_time": "2022-05-02T05:41:50.342Z"
   },
   {
    "duration": 57,
    "start_time": "2022-05-02T05:41:50.348Z"
   },
   {
    "duration": 26,
    "start_time": "2022-05-02T05:41:50.407Z"
   },
   {
    "duration": 51,
    "start_time": "2022-05-02T05:41:50.434Z"
   },
   {
    "duration": 21,
    "start_time": "2022-05-02T05:41:50.487Z"
   },
   {
    "duration": 14,
    "start_time": "2022-05-02T05:41:50.509Z"
   },
   {
    "duration": 43,
    "start_time": "2022-05-02T05:41:50.525Z"
   },
   {
    "duration": 14,
    "start_time": "2022-05-02T05:41:53.324Z"
   },
   {
    "duration": 155,
    "start_time": "2022-05-02T05:43:26.579Z"
   },
   {
    "duration": 8,
    "start_time": "2022-05-02T05:50:14.583Z"
   },
   {
    "duration": 233,
    "start_time": "2022-05-02T05:54:46.936Z"
   },
   {
    "duration": 176,
    "start_time": "2022-05-02T05:54:48.461Z"
   },
   {
    "duration": 28,
    "start_time": "2022-05-02T05:54:48.639Z"
   },
   {
    "duration": 267,
    "start_time": "2022-05-02T05:54:51.713Z"
   },
   {
    "duration": 292,
    "start_time": "2022-05-02T06:09:04.195Z"
   },
   {
    "duration": 12,
    "start_time": "2022-05-02T07:25:25.638Z"
   },
   {
    "duration": 192,
    "start_time": "2022-05-02T07:25:41.353Z"
   },
   {
    "duration": 14,
    "start_time": "2022-05-02T07:25:47.247Z"
   },
   {
    "duration": 4,
    "start_time": "2022-05-02T07:25:51.311Z"
   },
   {
    "duration": 50,
    "start_time": "2022-05-02T07:25:51.317Z"
   },
   {
    "duration": 28,
    "start_time": "2022-05-02T07:25:51.369Z"
   },
   {
    "duration": 30,
    "start_time": "2022-05-02T07:25:51.400Z"
   },
   {
    "duration": 23,
    "start_time": "2022-05-02T07:25:51.456Z"
   },
   {
    "duration": 17,
    "start_time": "2022-05-02T07:25:51.481Z"
   },
   {
    "duration": 16,
    "start_time": "2022-05-02T07:25:51.500Z"
   },
   {
    "duration": 45,
    "start_time": "2022-05-02T07:25:51.519Z"
   },
   {
    "duration": 15,
    "start_time": "2022-05-02T07:25:51.566Z"
   },
   {
    "duration": 20,
    "start_time": "2022-05-02T07:25:51.583Z"
   },
   {
    "duration": 272,
    "start_time": "2022-05-02T07:25:51.607Z"
   },
   {
    "duration": 190,
    "start_time": "2022-05-02T07:25:51.881Z"
   },
   {
    "duration": 18,
    "start_time": "2022-05-02T07:25:52.073Z"
   },
   {
    "duration": 313,
    "start_time": "2022-05-02T07:25:52.093Z"
   },
   {
    "duration": 307,
    "start_time": "2022-05-02T07:25:52.408Z"
   },
   {
    "duration": 429,
    "start_time": "2022-05-02T07:25:52.717Z"
   },
   {
    "duration": 345,
    "start_time": "2022-05-02T07:25:53.148Z"
   },
   {
    "duration": 0,
    "start_time": "2022-05-02T07:25:53.496Z"
   },
   {
    "duration": 827,
    "start_time": "2022-05-02T07:26:08.940Z"
   },
   {
    "duration": 36,
    "start_time": "2022-05-02T07:26:09.770Z"
   },
   {
    "duration": 32,
    "start_time": "2022-05-02T07:26:09.808Z"
   },
   {
    "duration": 26,
    "start_time": "2022-05-02T07:26:09.842Z"
   },
   {
    "duration": 19,
    "start_time": "2022-05-02T07:26:09.870Z"
   },
   {
    "duration": 13,
    "start_time": "2022-05-02T07:26:09.890Z"
   },
   {
    "duration": 14,
    "start_time": "2022-05-02T07:26:09.905Z"
   },
   {
    "duration": 12,
    "start_time": "2022-05-02T07:26:09.956Z"
   },
   {
    "duration": 24,
    "start_time": "2022-05-02T07:26:09.970Z"
   },
   {
    "duration": 13,
    "start_time": "2022-05-02T07:26:09.997Z"
   },
   {
    "duration": 202,
    "start_time": "2022-05-02T07:26:10.012Z"
   },
   {
    "duration": 163,
    "start_time": "2022-05-02T07:26:10.216Z"
   },
   {
    "duration": 16,
    "start_time": "2022-05-02T07:26:10.381Z"
   },
   {
    "duration": 434,
    "start_time": "2022-05-02T07:26:10.399Z"
   },
   {
    "duration": 296,
    "start_time": "2022-05-02T07:26:10.835Z"
   },
   {
    "duration": 403,
    "start_time": "2022-05-02T07:26:11.133Z"
   },
   {
    "duration": 390,
    "start_time": "2022-05-02T07:26:11.539Z"
   },
   {
    "duration": 0,
    "start_time": "2022-05-02T07:26:11.931Z"
   },
   {
    "duration": 13,
    "start_time": "2022-05-02T07:27:16.610Z"
   },
   {
    "duration": 12,
    "start_time": "2022-05-02T07:29:15.572Z"
   },
   {
    "duration": 15,
    "start_time": "2022-05-02T07:32:13.098Z"
   },
   {
    "duration": 11,
    "start_time": "2022-05-02T07:32:18.112Z"
   },
   {
    "duration": 318,
    "start_time": "2022-05-02T07:32:26.682Z"
   },
   {
    "duration": 235,
    "start_time": "2022-05-02T07:33:18.404Z"
   },
   {
    "duration": 219,
    "start_time": "2022-05-02T07:33:47.813Z"
   },
   {
    "duration": 9,
    "start_time": "2022-05-02T07:35:55.159Z"
   },
   {
    "duration": 12,
    "start_time": "2022-05-02T07:36:17.232Z"
   },
   {
    "duration": 265,
    "start_time": "2022-05-02T07:36:26.869Z"
   },
   {
    "duration": 201,
    "start_time": "2022-05-02T07:36:36.690Z"
   },
   {
    "duration": 194,
    "start_time": "2022-05-02T07:36:53.078Z"
   },
   {
    "duration": 204,
    "start_time": "2022-05-02T07:37:46.912Z"
   },
   {
    "duration": 196,
    "start_time": "2022-05-02T07:41:48.476Z"
   },
   {
    "duration": 213,
    "start_time": "2022-05-02T07:43:54.415Z"
   },
   {
    "duration": 188,
    "start_time": "2022-05-02T07:44:54.722Z"
   },
   {
    "duration": 255,
    "start_time": "2022-05-02T07:45:10.154Z"
   },
   {
    "duration": 188,
    "start_time": "2022-05-02T07:45:19.519Z"
   },
   {
    "duration": 190,
    "start_time": "2022-05-02T07:45:48.729Z"
   },
   {
    "duration": 178,
    "start_time": "2022-05-02T07:46:33.393Z"
   },
   {
    "duration": 213,
    "start_time": "2022-05-02T07:46:44.147Z"
   },
   {
    "duration": 162,
    "start_time": "2022-05-02T07:46:53.682Z"
   },
   {
    "duration": 174,
    "start_time": "2022-05-02T07:46:58.513Z"
   },
   {
    "duration": 205,
    "start_time": "2022-05-02T07:47:11.587Z"
   },
   {
    "duration": 175,
    "start_time": "2022-05-02T07:47:21.708Z"
   },
   {
    "duration": 179,
    "start_time": "2022-05-02T07:47:44.699Z"
   },
   {
    "duration": 173,
    "start_time": "2022-05-02T07:48:02.820Z"
   },
   {
    "duration": 240,
    "start_time": "2022-05-02T07:48:53.837Z"
   },
   {
    "duration": 6,
    "start_time": "2022-05-02T07:49:04.981Z"
   },
   {
    "duration": 174,
    "start_time": "2022-05-02T07:49:23.348Z"
   },
   {
    "duration": 185,
    "start_time": "2022-05-02T07:49:35.861Z"
   },
   {
    "duration": 182,
    "start_time": "2022-05-02T07:49:58.614Z"
   },
   {
    "duration": 178,
    "start_time": "2022-05-02T07:50:06.595Z"
   },
   {
    "duration": 189,
    "start_time": "2022-05-02T07:50:18.481Z"
   },
   {
    "duration": 175,
    "start_time": "2022-05-02T07:50:25.759Z"
   },
   {
    "duration": 221,
    "start_time": "2022-05-02T07:50:34.828Z"
   },
   {
    "duration": 301,
    "start_time": "2022-05-02T07:58:42.361Z"
   },
   {
    "duration": 327,
    "start_time": "2022-05-02T08:00:35.709Z"
   },
   {
    "duration": 296,
    "start_time": "2022-05-02T08:02:19.187Z"
   },
   {
    "duration": 438,
    "start_time": "2022-05-02T08:02:59.635Z"
   },
   {
    "duration": 304,
    "start_time": "2022-05-02T08:03:11.267Z"
   },
   {
    "duration": 11,
    "start_time": "2022-05-02T08:32:29.406Z"
   },
   {
    "duration": 8,
    "start_time": "2022-05-02T08:33:33.879Z"
   },
   {
    "duration": 2728,
    "start_time": "2022-05-02T08:33:45.255Z"
   },
   {
    "duration": 14,
    "start_time": "2022-05-02T08:35:24.472Z"
   },
   {
    "duration": 16,
    "start_time": "2022-05-02T08:35:52.452Z"
   },
   {
    "duration": 5,
    "start_time": "2022-05-02T08:36:04.616Z"
   },
   {
    "duration": 40,
    "start_time": "2022-05-02T08:36:04.625Z"
   },
   {
    "duration": 28,
    "start_time": "2022-05-02T08:36:04.668Z"
   },
   {
    "duration": 23,
    "start_time": "2022-05-02T08:36:04.698Z"
   },
   {
    "duration": 56,
    "start_time": "2022-05-02T08:36:04.723Z"
   },
   {
    "duration": 12,
    "start_time": "2022-05-02T08:36:04.781Z"
   },
   {
    "duration": 21,
    "start_time": "2022-05-02T08:36:04.795Z"
   },
   {
    "duration": 41,
    "start_time": "2022-05-02T08:36:04.818Z"
   },
   {
    "duration": 36,
    "start_time": "2022-05-02T08:36:04.861Z"
   },
   {
    "duration": 14,
    "start_time": "2022-05-02T08:36:04.900Z"
   },
   {
    "duration": 234,
    "start_time": "2022-05-02T08:36:04.917Z"
   },
   {
    "duration": 180,
    "start_time": "2022-05-02T08:36:05.155Z"
   },
   {
    "duration": 25,
    "start_time": "2022-05-02T08:36:05.344Z"
   },
   {
    "duration": 220,
    "start_time": "2022-05-02T08:36:05.371Z"
   },
   {
    "duration": 217,
    "start_time": "2022-05-02T08:36:05.593Z"
   },
   {
    "duration": 381,
    "start_time": "2022-05-02T08:36:05.812Z"
   },
   {
    "duration": 223,
    "start_time": "2022-05-02T08:36:06.195Z"
   },
   {
    "duration": 372,
    "start_time": "2022-05-02T08:36:06.420Z"
   },
   {
    "duration": 15,
    "start_time": "2022-05-02T08:36:06.794Z"
   },
   {
    "duration": 13,
    "start_time": "2022-05-02T08:37:06.294Z"
   },
   {
    "duration": 123,
    "start_time": "2022-05-02T08:38:06.305Z"
   },
   {
    "duration": 119,
    "start_time": "2022-05-02T08:40:49.789Z"
   },
   {
    "duration": 119,
    "start_time": "2022-05-02T08:43:42.301Z"
   },
   {
    "duration": 11,
    "start_time": "2022-05-02T08:44:12.222Z"
   },
   {
    "duration": 13,
    "start_time": "2022-05-02T08:44:30.000Z"
   },
   {
    "duration": 415,
    "start_time": "2022-05-02T08:44:36.623Z"
   },
   {
    "duration": 128,
    "start_time": "2022-05-02T08:45:05.650Z"
   },
   {
    "duration": 141,
    "start_time": "2022-05-02T09:08:43.751Z"
   },
   {
    "duration": 125,
    "start_time": "2022-05-02T09:12:18.971Z"
   },
   {
    "duration": 143,
    "start_time": "2022-05-02T09:12:46.845Z"
   },
   {
    "duration": 109,
    "start_time": "2022-05-02T09:28:39.210Z"
   },
   {
    "duration": 122,
    "start_time": "2022-05-02T09:30:52.708Z"
   },
   {
    "duration": 7,
    "start_time": "2022-05-02T09:35:38.303Z"
   },
   {
    "duration": 6,
    "start_time": "2022-05-02T09:35:54.392Z"
   },
   {
    "duration": 5,
    "start_time": "2022-05-02T09:40:12.374Z"
   },
   {
    "duration": 114,
    "start_time": "2022-05-02T09:44:15.829Z"
   },
   {
    "duration": 4,
    "start_time": "2022-05-02T09:44:16.977Z"
   },
   {
    "duration": 132,
    "start_time": "2022-05-02T09:46:58.377Z"
   },
   {
    "duration": 195,
    "start_time": "2022-05-02T09:47:03.471Z"
   },
   {
    "duration": 4,
    "start_time": "2022-05-02T09:53:28.064Z"
   },
   {
    "duration": 3,
    "start_time": "2022-05-02T10:12:50.974Z"
   },
   {
    "duration": 194,
    "start_time": "2022-05-02T11:12:57.271Z"
   },
   {
    "duration": 14,
    "start_time": "2022-05-02T11:30:03.638Z"
   },
   {
    "duration": 13,
    "start_time": "2022-05-02T11:30:10.527Z"
   },
   {
    "duration": 12,
    "start_time": "2022-05-02T11:30:47.962Z"
   },
   {
    "duration": 208,
    "start_time": "2022-05-02T11:30:57.312Z"
   },
   {
    "duration": 13,
    "start_time": "2022-05-02T11:30:58.925Z"
   },
   {
    "duration": 121,
    "start_time": "2022-05-02T12:01:50.401Z"
   },
   {
    "duration": 301,
    "start_time": "2022-05-02T12:05:48.746Z"
   },
   {
    "duration": 377,
    "start_time": "2022-05-02T12:06:31.479Z"
   },
   {
    "duration": 327,
    "start_time": "2022-05-02T12:25:08.115Z"
   },
   {
    "duration": 402,
    "start_time": "2022-05-02T12:25:52.372Z"
   },
   {
    "duration": 378,
    "start_time": "2022-05-02T12:25:57.748Z"
   },
   {
    "duration": 232,
    "start_time": "2022-05-02T12:26:53.383Z"
   },
   {
    "duration": 215,
    "start_time": "2022-05-02T12:28:12.991Z"
   },
   {
    "duration": 18,
    "start_time": "2022-05-02T12:32:14.762Z"
   },
   {
    "duration": 51,
    "start_time": "2022-05-02T12:33:41.926Z"
   },
   {
    "duration": 91,
    "start_time": "2022-05-02T12:40:15.247Z"
   },
   {
    "duration": 148,
    "start_time": "2022-05-02T12:45:44.761Z"
   },
   {
    "duration": 177,
    "start_time": "2022-05-02T12:49:05.970Z"
   },
   {
    "duration": 267,
    "start_time": "2022-05-02T12:51:03.963Z"
   },
   {
    "duration": 305,
    "start_time": "2022-05-02T12:51:29.935Z"
   },
   {
    "duration": 183,
    "start_time": "2022-05-02T12:52:21.851Z"
   },
   {
    "duration": 22,
    "start_time": "2022-05-02T12:59:43.156Z"
   },
   {
    "duration": 44,
    "start_time": "2022-05-02T13:05:39.331Z"
   },
   {
    "duration": 40,
    "start_time": "2022-05-02T13:05:52.316Z"
   },
   {
    "duration": 24,
    "start_time": "2022-05-02T13:06:57.471Z"
   },
   {
    "duration": 39,
    "start_time": "2022-05-02T13:07:09.639Z"
   },
   {
    "duration": 24,
    "start_time": "2022-05-02T13:12:20.701Z"
   },
   {
    "duration": 25,
    "start_time": "2022-05-02T13:14:37.006Z"
   },
   {
    "duration": 10,
    "start_time": "2022-05-02T13:17:20.617Z"
   },
   {
    "duration": 17,
    "start_time": "2022-05-02T13:20:13.273Z"
   },
   {
    "duration": 16,
    "start_time": "2022-05-02T13:20:25.020Z"
   },
   {
    "duration": 1172,
    "start_time": "2022-05-03T03:19:28.598Z"
   },
   {
    "duration": 41,
    "start_time": "2022-05-03T03:19:29.771Z"
   },
   {
    "duration": 26,
    "start_time": "2022-05-03T03:19:29.814Z"
   },
   {
    "duration": 20,
    "start_time": "2022-05-03T03:19:29.842Z"
   },
   {
    "duration": 16,
    "start_time": "2022-05-03T03:19:29.864Z"
   },
   {
    "duration": 12,
    "start_time": "2022-05-03T03:19:29.881Z"
   },
   {
    "duration": 14,
    "start_time": "2022-05-03T03:19:29.894Z"
   },
   {
    "duration": 44,
    "start_time": "2022-05-03T03:19:29.909Z"
   },
   {
    "duration": 11,
    "start_time": "2022-05-03T03:19:29.955Z"
   },
   {
    "duration": 11,
    "start_time": "2022-05-03T03:19:29.967Z"
   },
   {
    "duration": 174,
    "start_time": "2022-05-03T03:19:29.979Z"
   },
   {
    "duration": 121,
    "start_time": "2022-05-03T03:19:30.155Z"
   },
   {
    "duration": 12,
    "start_time": "2022-05-03T03:19:30.278Z"
   },
   {
    "duration": 267,
    "start_time": "2022-05-03T03:19:30.292Z"
   },
   {
    "duration": 185,
    "start_time": "2022-05-03T03:19:30.561Z"
   },
   {
    "duration": 341,
    "start_time": "2022-05-03T03:19:30.748Z"
   },
   {
    "duration": 184,
    "start_time": "2022-05-03T03:19:31.091Z"
   },
   {
    "duration": 288,
    "start_time": "2022-05-03T03:19:31.277Z"
   },
   {
    "duration": 116,
    "start_time": "2022-05-03T03:19:31.567Z"
   },
   {
    "duration": 4,
    "start_time": "2022-05-03T03:19:31.685Z"
   },
   {
    "duration": 136,
    "start_time": "2022-05-03T03:19:31.690Z"
   },
   {
    "duration": 4,
    "start_time": "2022-05-03T03:19:31.827Z"
   },
   {
    "duration": 204,
    "start_time": "2022-05-03T03:19:31.833Z"
   },
   {
    "duration": 127,
    "start_time": "2022-05-03T03:19:32.039Z"
   },
   {
    "duration": 23,
    "start_time": "2022-05-03T03:19:32.168Z"
   },
   {
    "duration": 103,
    "start_time": "2022-05-03T03:19:32.192Z"
   },
   {
    "duration": 0,
    "start_time": "2022-05-03T03:19:32.297Z"
   },
   {
    "duration": 3,
    "start_time": "2022-05-03T03:20:05.545Z"
   },
   {
    "duration": 38,
    "start_time": "2022-05-03T03:20:05.552Z"
   },
   {
    "duration": 22,
    "start_time": "2022-05-03T03:20:05.591Z"
   },
   {
    "duration": 20,
    "start_time": "2022-05-03T03:20:05.615Z"
   },
   {
    "duration": 17,
    "start_time": "2022-05-03T03:20:05.647Z"
   },
   {
    "duration": 11,
    "start_time": "2022-05-03T03:20:05.666Z"
   },
   {
    "duration": 12,
    "start_time": "2022-05-03T03:20:05.678Z"
   },
   {
    "duration": 11,
    "start_time": "2022-05-03T03:20:05.692Z"
   },
   {
    "duration": 44,
    "start_time": "2022-05-03T03:20:05.704Z"
   },
   {
    "duration": 12,
    "start_time": "2022-05-03T03:20:05.749Z"
   },
   {
    "duration": 167,
    "start_time": "2022-05-03T03:20:05.762Z"
   },
   {
    "duration": 195,
    "start_time": "2022-05-03T03:20:05.931Z"
   },
   {
    "duration": 30,
    "start_time": "2022-05-03T03:20:06.128Z"
   },
   {
    "duration": 301,
    "start_time": "2022-05-03T03:20:06.160Z"
   },
   {
    "duration": 284,
    "start_time": "2022-05-03T03:20:06.464Z"
   },
   {
    "duration": 320,
    "start_time": "2022-05-03T03:20:06.750Z"
   },
   {
    "duration": 187,
    "start_time": "2022-05-03T03:20:07.071Z"
   },
   {
    "duration": 304,
    "start_time": "2022-05-03T03:20:07.259Z"
   },
   {
    "duration": 126,
    "start_time": "2022-05-03T03:20:07.565Z"
   },
   {
    "duration": 4,
    "start_time": "2022-05-03T03:20:07.693Z"
   },
   {
    "duration": 137,
    "start_time": "2022-05-03T03:20:07.698Z"
   },
   {
    "duration": 12,
    "start_time": "2022-05-03T03:20:07.836Z"
   },
   {
    "duration": 209,
    "start_time": "2022-05-03T03:20:07.849Z"
   },
   {
    "duration": 127,
    "start_time": "2022-05-03T03:20:08.060Z"
   },
   {
    "duration": 23,
    "start_time": "2022-05-03T03:20:08.188Z"
   },
   {
    "duration": 137,
    "start_time": "2022-05-03T03:20:08.212Z"
   },
   {
    "duration": 0,
    "start_time": "2022-05-03T03:20:08.351Z"
   },
   {
    "duration": 1323,
    "start_time": "2022-05-03T11:49:31.824Z"
   },
   {
    "duration": 89,
    "start_time": "2022-05-03T11:49:33.149Z"
   },
   {
    "duration": 33,
    "start_time": "2022-05-03T11:49:33.239Z"
   },
   {
    "duration": 26,
    "start_time": "2022-05-03T11:49:33.275Z"
   },
   {
    "duration": 22,
    "start_time": "2022-05-03T11:49:33.322Z"
   },
   {
    "duration": 13,
    "start_time": "2022-05-03T11:49:33.347Z"
   },
   {
    "duration": 52,
    "start_time": "2022-05-03T11:49:33.361Z"
   },
   {
    "duration": 14,
    "start_time": "2022-05-03T11:49:33.414Z"
   },
   {
    "duration": 13,
    "start_time": "2022-05-03T11:49:33.429Z"
   },
   {
    "duration": 13,
    "start_time": "2022-05-03T11:49:33.446Z"
   },
   {
    "duration": 199,
    "start_time": "2022-05-03T11:49:33.461Z"
   },
   {
    "duration": 131,
    "start_time": "2022-05-03T11:49:33.662Z"
   },
   {
    "duration": 32,
    "start_time": "2022-05-03T11:49:33.795Z"
   },
   {
    "duration": 303,
    "start_time": "2022-05-03T11:49:33.829Z"
   },
   {
    "duration": 315,
    "start_time": "2022-05-03T11:49:34.134Z"
   },
   {
    "duration": 457,
    "start_time": "2022-05-03T11:49:34.451Z"
   },
   {
    "duration": 304,
    "start_time": "2022-05-03T11:49:34.910Z"
   },
   {
    "duration": 356,
    "start_time": "2022-05-03T11:49:35.216Z"
   },
   {
    "duration": 142,
    "start_time": "2022-05-03T11:49:35.574Z"
   },
   {
    "duration": 7,
    "start_time": "2022-05-03T11:49:35.718Z"
   },
   {
    "duration": 169,
    "start_time": "2022-05-03T11:49:35.727Z"
   },
   {
    "duration": 4,
    "start_time": "2022-05-03T11:49:35.899Z"
   },
   {
    "duration": 267,
    "start_time": "2022-05-03T11:49:35.905Z"
   },
   {
    "duration": 153,
    "start_time": "2022-05-03T11:49:36.174Z"
   },
   {
    "duration": 28,
    "start_time": "2022-05-03T11:49:36.328Z"
   },
   {
    "duration": 200,
    "start_time": "2022-05-03T11:49:36.358Z"
   },
   {
    "duration": 0,
    "start_time": "2022-05-03T11:49:36.560Z"
   },
   {
    "duration": 14,
    "start_time": "2022-05-03T11:50:05.161Z"
   },
   {
    "duration": 15,
    "start_time": "2022-05-03T12:04:23.337Z"
   },
   {
    "duration": 25,
    "start_time": "2022-05-03T12:04:48.508Z"
   },
   {
    "duration": 13,
    "start_time": "2022-05-03T12:05:10.641Z"
   },
   {
    "duration": 37,
    "start_time": "2022-05-03T12:05:59.180Z"
   },
   {
    "duration": 27,
    "start_time": "2022-05-03T12:06:05.603Z"
   },
   {
    "duration": 42,
    "start_time": "2022-05-03T12:08:26.661Z"
   },
   {
    "duration": 28,
    "start_time": "2022-05-03T12:09:00.896Z"
   },
   {
    "duration": 12,
    "start_time": "2022-05-03T12:10:01.058Z"
   },
   {
    "duration": 13,
    "start_time": "2022-05-03T12:10:52.197Z"
   },
   {
    "duration": 26,
    "start_time": "2022-05-03T12:11:23.246Z"
   },
   {
    "duration": 11,
    "start_time": "2022-05-03T12:11:23.275Z"
   },
   {
    "duration": 26,
    "start_time": "2022-05-03T12:19:04.138Z"
   },
   {
    "duration": 14,
    "start_time": "2022-05-03T12:19:05.594Z"
   },
   {
    "duration": 14,
    "start_time": "2022-05-03T12:26:05.813Z"
   },
   {
    "duration": 13,
    "start_time": "2022-05-03T12:30:41.225Z"
   },
   {
    "duration": 10,
    "start_time": "2022-05-03T12:32:48.255Z"
   },
   {
    "duration": 11,
    "start_time": "2022-05-03T12:33:23.785Z"
   },
   {
    "duration": 12,
    "start_time": "2022-05-03T12:33:34.006Z"
   },
   {
    "duration": 33,
    "start_time": "2022-05-03T12:35:11.751Z"
   },
   {
    "duration": 12,
    "start_time": "2022-05-03T12:37:27.562Z"
   },
   {
    "duration": 9,
    "start_time": "2022-05-03T12:39:39.771Z"
   },
   {
    "duration": 5,
    "start_time": "2022-05-03T12:41:46.938Z"
   },
   {
    "duration": 47,
    "start_time": "2022-05-03T12:42:45.202Z"
   },
   {
    "duration": 17,
    "start_time": "2022-05-03T12:45:02.556Z"
   },
   {
    "duration": 12,
    "start_time": "2022-05-03T12:46:54.259Z"
   },
   {
    "duration": 28,
    "start_time": "2022-05-03T12:54:44.505Z"
   },
   {
    "duration": 27,
    "start_time": "2022-05-03T12:54:49.464Z"
   },
   {
    "duration": 36,
    "start_time": "2022-05-03T12:55:00.621Z"
   },
   {
    "duration": 30,
    "start_time": "2022-05-03T12:55:09.802Z"
   },
   {
    "duration": 14,
    "start_time": "2022-05-03T12:55:38.754Z"
   },
   {
    "duration": 221,
    "start_time": "2022-05-03T12:58:07.269Z"
   },
   {
    "duration": 222,
    "start_time": "2022-05-03T12:58:23.366Z"
   },
   {
    "duration": 40,
    "start_time": "2022-05-03T12:58:53.753Z"
   },
   {
    "duration": 39,
    "start_time": "2022-05-03T12:59:13.039Z"
   },
   {
    "duration": 13,
    "start_time": "2022-05-03T13:03:05.607Z"
   },
   {
    "duration": 10,
    "start_time": "2022-05-03T13:11:37.647Z"
   },
   {
    "duration": 11,
    "start_time": "2022-05-03T13:16:08.696Z"
   },
   {
    "duration": 7,
    "start_time": "2022-05-03T13:19:20.092Z"
   },
   {
    "duration": 8,
    "start_time": "2022-05-03T13:19:51.170Z"
   },
   {
    "duration": 7,
    "start_time": "2022-05-03T13:19:58.506Z"
   },
   {
    "duration": 25,
    "start_time": "2022-05-03T13:20:21.067Z"
   },
   {
    "duration": 11,
    "start_time": "2022-05-03T13:20:33.570Z"
   },
   {
    "duration": 11,
    "start_time": "2022-05-03T13:24:21.441Z"
   },
   {
    "duration": 8,
    "start_time": "2022-05-03T13:24:34.593Z"
   },
   {
    "duration": 13,
    "start_time": "2022-05-03T13:24:51.440Z"
   },
   {
    "duration": 13,
    "start_time": "2022-05-03T13:25:42.100Z"
   },
   {
    "duration": 31,
    "start_time": "2022-05-03T14:13:07.255Z"
   },
   {
    "duration": 25,
    "start_time": "2022-05-03T14:13:20.967Z"
   },
   {
    "duration": 14,
    "start_time": "2022-05-03T14:14:03.328Z"
   },
   {
    "duration": 14,
    "start_time": "2022-05-03T14:14:04.254Z"
   },
   {
    "duration": 12,
    "start_time": "2022-05-03T14:14:11.728Z"
   },
   {
    "duration": 13,
    "start_time": "2022-05-03T14:14:28.558Z"
   },
   {
    "duration": 14,
    "start_time": "2022-05-03T14:14:29.568Z"
   },
   {
    "duration": 12,
    "start_time": "2022-05-03T15:07:32.637Z"
   },
   {
    "duration": 9,
    "start_time": "2022-05-03T15:07:55.924Z"
   },
   {
    "duration": 4,
    "start_time": "2022-05-03T15:18:06.455Z"
   },
   {
    "duration": 72,
    "start_time": "2022-05-03T15:18:06.826Z"
   },
   {
    "duration": 24,
    "start_time": "2022-05-03T15:18:07.123Z"
   },
   {
    "duration": 22,
    "start_time": "2022-05-03T15:18:07.903Z"
   },
   {
    "duration": 20,
    "start_time": "2022-05-03T15:18:08.442Z"
   },
   {
    "duration": 13,
    "start_time": "2022-05-03T15:18:08.929Z"
   },
   {
    "duration": 13,
    "start_time": "2022-05-03T15:18:09.187Z"
   },
   {
    "duration": 10,
    "start_time": "2022-05-03T15:18:09.438Z"
   },
   {
    "duration": 11,
    "start_time": "2022-05-03T15:18:14.866Z"
   },
   {
    "duration": 12,
    "start_time": "2022-05-03T15:18:15.403Z"
   },
   {
    "duration": 160,
    "start_time": "2022-05-03T15:23:52.195Z"
   },
   {
    "duration": 138,
    "start_time": "2022-05-03T15:24:15.396Z"
   },
   {
    "duration": 28,
    "start_time": "2022-05-03T15:24:18.611Z"
   },
   {
    "duration": 149,
    "start_time": "2022-05-03T15:24:39.285Z"
   },
   {
    "duration": 135,
    "start_time": "2022-05-03T15:24:52.187Z"
   },
   {
    "duration": 24,
    "start_time": "2022-05-03T15:24:54.506Z"
   },
   {
    "duration": 152,
    "start_time": "2022-05-03T15:26:00.357Z"
   },
   {
    "duration": 25,
    "start_time": "2022-05-03T15:26:01.498Z"
   },
   {
    "duration": 12,
    "start_time": "2022-05-03T15:26:26.510Z"
   },
   {
    "duration": 9,
    "start_time": "2022-05-03T15:28:12.552Z"
   },
   {
    "duration": 25,
    "start_time": "2022-05-03T15:28:15.134Z"
   },
   {
    "duration": 47,
    "start_time": "2022-05-04T14:15:56.123Z"
   },
   {
    "duration": 1436,
    "start_time": "2022-05-04T14:15:59.440Z"
   },
   {
    "duration": 38,
    "start_time": "2022-05-04T14:16:00.879Z"
   },
   {
    "duration": 48,
    "start_time": "2022-05-04T14:16:00.920Z"
   },
   {
    "duration": 30,
    "start_time": "2022-05-04T14:16:00.971Z"
   },
   {
    "duration": 28,
    "start_time": "2022-05-04T14:16:01.003Z"
   },
   {
    "duration": 4,
    "start_time": "2022-05-04T14:16:01.055Z"
   },
   {
    "duration": 44,
    "start_time": "2022-05-04T14:16:01.060Z"
   },
   {
    "duration": 56,
    "start_time": "2022-05-04T14:16:01.106Z"
   },
   {
    "duration": 43,
    "start_time": "2022-05-04T14:16:01.164Z"
   },
   {
    "duration": 43,
    "start_time": "2022-05-04T14:16:01.211Z"
   },
   {
    "duration": 281,
    "start_time": "2022-05-04T14:16:01.256Z"
   },
   {
    "duration": 142,
    "start_time": "2022-05-04T14:16:01.540Z"
   },
   {
    "duration": 42,
    "start_time": "2022-05-04T14:16:01.684Z"
   },
   {
    "duration": 316,
    "start_time": "2022-05-04T14:16:01.728Z"
   },
   {
    "duration": 211,
    "start_time": "2022-05-04T14:16:02.046Z"
   },
   {
    "duration": 354,
    "start_time": "2022-05-04T14:16:02.258Z"
   },
   {
    "duration": 197,
    "start_time": "2022-05-04T14:16:02.614Z"
   },
   {
    "duration": 417,
    "start_time": "2022-05-04T14:16:02.813Z"
   },
   {
    "duration": 199,
    "start_time": "2022-05-04T14:16:03.232Z"
   },
   {
    "duration": 5,
    "start_time": "2022-05-04T14:16:03.434Z"
   },
   {
    "duration": 456,
    "start_time": "2022-05-04T14:16:03.441Z"
   },
   {
    "duration": 5,
    "start_time": "2022-05-04T14:16:03.899Z"
   },
   {
    "duration": 328,
    "start_time": "2022-05-04T14:16:03.907Z"
   },
   {
    "duration": 273,
    "start_time": "2022-05-04T14:16:04.237Z"
   },
   {
    "duration": 50,
    "start_time": "2022-05-04T14:16:04.512Z"
   },
   {
    "duration": 14,
    "start_time": "2022-05-04T14:16:04.563Z"
   },
   {
    "duration": 14,
    "start_time": "2022-05-04T14:16:04.579Z"
   },
   {
    "duration": 9,
    "start_time": "2022-05-04T14:16:04.597Z"
   },
   {
    "duration": 54,
    "start_time": "2022-05-04T14:16:04.608Z"
   },
   {
    "duration": 7,
    "start_time": "2022-05-04T14:16:04.663Z"
   },
   {
    "duration": 19,
    "start_time": "2022-05-04T14:16:04.671Z"
   },
   {
    "duration": 4,
    "start_time": "2022-05-04T14:16:25.029Z"
   },
   {
    "duration": 3,
    "start_time": "2022-05-04T14:17:13.439Z"
   },
   {
    "duration": 35,
    "start_time": "2022-05-04T14:17:18.854Z"
   },
   {
    "duration": 24,
    "start_time": "2022-05-04T14:17:19.991Z"
   },
   {
    "duration": 4,
    "start_time": "2022-05-04T14:21:33.350Z"
   },
   {
    "duration": 35,
    "start_time": "2022-05-04T14:21:35.013Z"
   },
   {
    "duration": 26,
    "start_time": "2022-05-04T14:21:35.607Z"
   },
   {
    "duration": 24,
    "start_time": "2022-05-04T14:21:57.403Z"
   },
   {
    "duration": 22,
    "start_time": "2022-05-04T14:22:00.491Z"
   },
   {
    "duration": 3,
    "start_time": "2022-05-04T14:22:07.363Z"
   },
   {
    "duration": 10,
    "start_time": "2022-05-04T14:22:08.055Z"
   },
   {
    "duration": 11,
    "start_time": "2022-05-04T14:22:16.020Z"
   },
   {
    "duration": 11,
    "start_time": "2022-05-04T14:24:59.452Z"
   },
   {
    "duration": 10,
    "start_time": "2022-05-04T14:25:07.411Z"
   },
   {
    "duration": 13,
    "start_time": "2022-05-04T14:25:34.706Z"
   },
   {
    "duration": 152,
    "start_time": "2022-05-04T14:27:12.705Z"
   },
   {
    "duration": 113,
    "start_time": "2022-05-04T14:27:13.196Z"
   },
   {
    "duration": 13,
    "start_time": "2022-05-04T14:27:13.845Z"
   },
   {
    "duration": 195,
    "start_time": "2022-05-04T14:27:15.060Z"
   },
   {
    "duration": 265,
    "start_time": "2022-05-04T14:27:51.782Z"
   },
   {
    "duration": 418,
    "start_time": "2022-05-04T14:27:58.246Z"
   },
   {
    "duration": 303,
    "start_time": "2022-05-04T14:28:00.140Z"
   },
   {
    "duration": 344,
    "start_time": "2022-05-04T14:28:01.411Z"
   },
   {
    "duration": 325,
    "start_time": "2022-05-04T14:30:20.455Z"
   },
   {
    "duration": 197,
    "start_time": "2022-05-04T14:30:31.305Z"
   },
   {
    "duration": 338,
    "start_time": "2022-05-04T14:30:39.836Z"
   },
   {
    "duration": 186,
    "start_time": "2022-05-04T14:30:47.937Z"
   },
   {
    "duration": 200,
    "start_time": "2022-05-04T14:30:55.804Z"
   },
   {
    "duration": 124,
    "start_time": "2022-05-04T14:33:13.998Z"
   },
   {
    "duration": 5,
    "start_time": "2022-05-04T14:35:31.416Z"
   },
   {
    "duration": 66,
    "start_time": "2022-05-04T14:37:30.412Z"
   },
   {
    "duration": 8,
    "start_time": "2022-05-04T14:40:42.205Z"
   },
   {
    "duration": 9,
    "start_time": "2022-05-04T14:41:42.259Z"
   },
   {
    "duration": 138,
    "start_time": "2022-05-04T14:52:47.439Z"
   },
   {
    "duration": 8,
    "start_time": "2022-05-04T14:54:15.161Z"
   },
   {
    "duration": 149,
    "start_time": "2022-05-04T15:12:30.552Z"
   },
   {
    "duration": 242,
    "start_time": "2022-05-04T15:12:38.719Z"
   },
   {
    "duration": 12,
    "start_time": "2022-05-04T15:30:40.305Z"
   },
   {
    "duration": 14,
    "start_time": "2022-05-04T15:35:29.199Z"
   },
   {
    "duration": 4,
    "start_time": "2022-05-04T15:35:54.057Z"
   },
   {
    "duration": 60,
    "start_time": "2022-05-04T15:35:54.066Z"
   },
   {
    "duration": 32,
    "start_time": "2022-05-04T15:35:54.129Z"
   },
   {
    "duration": 46,
    "start_time": "2022-05-04T15:35:54.163Z"
   },
   {
    "duration": 20,
    "start_time": "2022-05-04T15:35:54.211Z"
   },
   {
    "duration": 57,
    "start_time": "2022-05-04T15:35:54.233Z"
   },
   {
    "duration": 53,
    "start_time": "2022-05-04T15:35:54.292Z"
   },
   {
    "duration": 91,
    "start_time": "2022-05-04T15:35:54.347Z"
   },
   {
    "duration": 48,
    "start_time": "2022-05-04T15:35:54.440Z"
   },
   {
    "duration": 57,
    "start_time": "2022-05-04T15:35:54.490Z"
   },
   {
    "duration": 168,
    "start_time": "2022-05-04T15:35:54.551Z"
   },
   {
    "duration": 137,
    "start_time": "2022-05-04T15:35:54.721Z"
   },
   {
    "duration": 11,
    "start_time": "2022-05-04T15:35:54.860Z"
   },
   {
    "duration": 218,
    "start_time": "2022-05-04T15:35:54.873Z"
   },
   {
    "duration": 286,
    "start_time": "2022-05-04T15:35:55.093Z"
   },
   {
    "duration": 420,
    "start_time": "2022-05-04T15:35:55.381Z"
   },
   {
    "duration": 326,
    "start_time": "2022-05-04T15:35:55.804Z"
   },
   {
    "duration": 526,
    "start_time": "2022-05-04T15:35:56.132Z"
   },
   {
    "duration": 204,
    "start_time": "2022-05-04T15:35:56.661Z"
   },
   {
    "duration": 4,
    "start_time": "2022-05-04T15:35:56.868Z"
   },
   {
    "duration": 253,
    "start_time": "2022-05-04T15:35:56.874Z"
   },
   {
    "duration": 29,
    "start_time": "2022-05-04T15:35:57.129Z"
   },
   {
    "duration": 220,
    "start_time": "2022-05-04T15:35:57.160Z"
   },
   {
    "duration": 5,
    "start_time": "2022-05-04T15:35:57.384Z"
   },
   {
    "duration": 344,
    "start_time": "2022-05-04T15:35:57.391Z"
   },
   {
    "duration": 274,
    "start_time": "2022-05-04T15:35:57.738Z"
   },
   {
    "duration": 53,
    "start_time": "2022-05-04T15:35:58.014Z"
   },
   {
    "duration": 15,
    "start_time": "2022-05-04T15:35:58.070Z"
   },
   {
    "duration": 21,
    "start_time": "2022-05-04T15:35:58.087Z"
   },
   {
    "duration": 11,
    "start_time": "2022-05-04T15:37:06.671Z"
   },
   {
    "duration": 9,
    "start_time": "2022-05-04T15:37:13.830Z"
   },
   {
    "duration": 26,
    "start_time": "2022-05-04T15:37:16.612Z"
   },
   {
    "duration": 227,
    "start_time": "2022-05-04T15:37:54.207Z"
   },
   {
    "duration": 150,
    "start_time": "2022-05-04T15:37:55.818Z"
   },
   {
    "duration": 27,
    "start_time": "2022-05-04T15:38:02.135Z"
   },
   {
    "duration": 15,
    "start_time": "2022-05-04T15:38:10.505Z"
   },
   {
    "duration": 16,
    "start_time": "2022-05-04T15:38:29.560Z"
   },
   {
    "duration": 9,
    "start_time": "2022-05-04T15:38:42.472Z"
   },
   {
    "duration": 26,
    "start_time": "2022-05-04T15:38:44.539Z"
   },
   {
    "duration": 7,
    "start_time": "2022-05-04T15:39:17.538Z"
   },
   {
    "duration": 7,
    "start_time": "2022-05-04T15:39:19.835Z"
   },
   {
    "duration": 3011,
    "start_time": "2022-05-04T16:03:54.578Z"
   },
   {
    "duration": 11,
    "start_time": "2022-05-04T16:04:15.877Z"
   },
   {
    "duration": 14,
    "start_time": "2022-05-04T16:04:30.853Z"
   },
   {
    "duration": 14,
    "start_time": "2022-05-04T16:04:46.637Z"
   },
   {
    "duration": 14,
    "start_time": "2022-05-04T16:05:53.046Z"
   },
   {
    "duration": 15,
    "start_time": "2022-05-04T16:06:08.238Z"
   },
   {
    "duration": 13,
    "start_time": "2022-05-04T16:09:45.856Z"
   },
   {
    "duration": 16,
    "start_time": "2022-05-04T16:11:43.009Z"
   },
   {
    "duration": 14,
    "start_time": "2022-05-04T16:12:13.316Z"
   },
   {
    "duration": 10,
    "start_time": "2022-05-04T16:12:51.388Z"
   },
   {
    "duration": 10,
    "start_time": "2022-05-04T16:14:08.399Z"
   },
   {
    "duration": 10,
    "start_time": "2022-05-04T16:16:16.624Z"
   },
   {
    "duration": 9,
    "start_time": "2022-05-04T16:16:56.346Z"
   },
   {
    "duration": 4,
    "start_time": "2022-05-04T16:16:57.550Z"
   },
   {
    "duration": 158,
    "start_time": "2022-05-04T16:17:41.353Z"
   },
   {
    "duration": 139,
    "start_time": "2022-05-04T16:17:57.772Z"
   },
   {
    "duration": 203,
    "start_time": "2022-05-04T16:18:01.262Z"
   },
   {
    "duration": 10,
    "start_time": "2022-05-04T16:18:14.826Z"
   },
   {
    "duration": 11,
    "start_time": "2022-05-04T16:29:02.987Z"
   },
   {
    "duration": 5,
    "start_time": "2022-05-04T16:29:03.605Z"
   },
   {
    "duration": 29,
    "start_time": "2022-05-04T16:29:17.374Z"
   },
   {
    "duration": 7,
    "start_time": "2022-05-04T16:29:29.960Z"
   },
   {
    "duration": 6,
    "start_time": "2022-05-04T16:29:42.461Z"
   },
   {
    "duration": 6,
    "start_time": "2022-05-04T16:29:52.690Z"
   },
   {
    "duration": 6,
    "start_time": "2022-05-04T16:31:01.186Z"
   },
   {
    "duration": 150,
    "start_time": "2022-05-04T16:33:03.748Z"
   },
   {
    "duration": 12,
    "start_time": "2022-05-04T16:33:09.831Z"
   },
   {
    "duration": 4,
    "start_time": "2022-05-04T16:33:10.549Z"
   },
   {
    "duration": 8,
    "start_time": "2022-05-04T16:33:12.643Z"
   },
   {
    "duration": 11,
    "start_time": "2022-05-04T16:33:13.922Z"
   },
   {
    "duration": 3,
    "start_time": "2022-05-04T16:34:53.406Z"
   },
   {
    "duration": 37,
    "start_time": "2022-05-04T16:34:53.417Z"
   },
   {
    "duration": 26,
    "start_time": "2022-05-04T16:34:53.457Z"
   },
   {
    "duration": 32,
    "start_time": "2022-05-04T16:34:53.485Z"
   },
   {
    "duration": 46,
    "start_time": "2022-05-04T16:34:53.520Z"
   },
   {
    "duration": 3,
    "start_time": "2022-05-04T16:34:53.568Z"
   },
   {
    "duration": 15,
    "start_time": "2022-05-04T16:34:53.573Z"
   },
   {
    "duration": 10,
    "start_time": "2022-05-04T16:34:57.561Z"
   },
   {
    "duration": 5,
    "start_time": "2022-05-04T16:34:58.521Z"
   },
   {
    "duration": 6,
    "start_time": "2022-05-04T16:35:01.854Z"
   },
   {
    "duration": 11,
    "start_time": "2022-05-04T16:35:02.516Z"
   },
   {
    "duration": 470,
    "start_time": "2022-05-04T16:38:45.116Z"
   },
   {
    "duration": 230,
    "start_time": "2022-05-04T16:39:05.653Z"
   },
   {
    "duration": 16,
    "start_time": "2022-05-04T16:39:26.061Z"
   },
   {
    "duration": 19,
    "start_time": "2022-05-04T16:39:28.294Z"
   },
   {
    "duration": 385,
    "start_time": "2022-05-04T16:39:31.629Z"
   },
   {
    "duration": 118,
    "start_time": "2022-05-04T16:39:59.973Z"
   },
   {
    "duration": 14,
    "start_time": "2022-05-04T16:40:11.060Z"
   },
   {
    "duration": 151,
    "start_time": "2022-05-04T16:42:36.587Z"
   },
   {
    "duration": 166,
    "start_time": "2022-05-04T16:42:39.228Z"
   },
   {
    "duration": 19,
    "start_time": "2022-05-04T16:42:40.300Z"
   },
   {
    "duration": 188,
    "start_time": "2022-05-04T16:42:43.771Z"
   },
   {
    "duration": 194,
    "start_time": "2022-05-04T16:43:28.436Z"
   },
   {
    "duration": 306,
    "start_time": "2022-05-04T16:44:01.059Z"
   },
   {
    "duration": 32,
    "start_time": "2022-05-04T16:45:00.670Z"
   },
   {
    "duration": 7,
    "start_time": "2022-05-04T16:48:19.972Z"
   },
   {
    "duration": 153,
    "start_time": "2022-05-04T16:48:27.276Z"
   },
   {
    "duration": 120,
    "start_time": "2022-05-04T16:48:27.518Z"
   },
   {
    "duration": 23,
    "start_time": "2022-05-04T16:48:27.640Z"
   },
   {
    "duration": 199,
    "start_time": "2022-05-04T16:48:27.868Z"
   },
   {
    "duration": 208,
    "start_time": "2022-05-04T16:48:38.784Z"
   },
   {
    "duration": 354,
    "start_time": "2022-05-04T16:49:18.901Z"
   },
   {
    "duration": 202,
    "start_time": "2022-05-04T16:49:30.973Z"
   },
   {
    "duration": 206,
    "start_time": "2022-05-04T16:49:42.652Z"
   },
   {
    "duration": 352,
    "start_time": "2022-05-04T16:50:11.053Z"
   },
   {
    "duration": 331,
    "start_time": "2022-05-04T16:50:52.750Z"
   },
   {
    "duration": 569,
    "start_time": "2022-05-04T16:51:00.074Z"
   },
   {
    "duration": 475,
    "start_time": "2022-05-04T16:51:05.607Z"
   },
   {
    "duration": 138,
    "start_time": "2022-05-04T16:52:08.534Z"
   },
   {
    "duration": 138,
    "start_time": "2022-05-04T16:52:25.296Z"
   },
   {
    "duration": 138,
    "start_time": "2022-05-04T16:52:41.497Z"
   },
   {
    "duration": 138,
    "start_time": "2022-05-04T17:00:22.661Z"
   },
   {
    "duration": 136,
    "start_time": "2022-05-04T17:00:38.961Z"
   },
   {
    "duration": 5,
    "start_time": "2022-05-04T17:01:28.330Z"
   },
   {
    "duration": 134,
    "start_time": "2022-05-04T17:02:57.100Z"
   },
   {
    "duration": 4,
    "start_time": "2022-05-04T17:02:58.402Z"
   },
   {
    "duration": 126,
    "start_time": "2022-05-04T17:03:03.304Z"
   },
   {
    "duration": 9,
    "start_time": "2022-05-04T17:03:05.242Z"
   },
   {
    "duration": 132,
    "start_time": "2022-05-04T17:03:06.585Z"
   },
   {
    "duration": 5,
    "start_time": "2022-05-04T17:03:22.193Z"
   },
   {
    "duration": 217,
    "start_time": "2022-05-04T17:03:26.015Z"
   },
   {
    "duration": 121,
    "start_time": "2022-05-04T17:03:26.692Z"
   },
   {
    "duration": 26,
    "start_time": "2022-05-04T17:03:28.788Z"
   },
   {
    "duration": 11,
    "start_time": "2022-05-04T17:03:38.985Z"
   },
   {
    "duration": 10,
    "start_time": "2022-05-04T17:03:43.336Z"
   },
   {
    "duration": 9,
    "start_time": "2022-05-04T17:03:54.556Z"
   },
   {
    "duration": 24,
    "start_time": "2022-05-04T17:03:58.402Z"
   },
   {
    "duration": 8,
    "start_time": "2022-05-04T17:04:03.578Z"
   },
   {
    "duration": 7,
    "start_time": "2022-05-04T17:04:04.437Z"
   },
   {
    "duration": 9,
    "start_time": "2022-05-04T17:08:43.332Z"
   },
   {
    "duration": 4,
    "start_time": "2022-05-04T17:08:44.029Z"
   },
   {
    "duration": 4,
    "start_time": "2022-05-04T17:08:47.517Z"
   },
   {
    "duration": 37,
    "start_time": "2022-05-04T17:08:47.523Z"
   },
   {
    "duration": 24,
    "start_time": "2022-05-04T17:08:47.562Z"
   },
   {
    "duration": 24,
    "start_time": "2022-05-04T17:08:47.587Z"
   },
   {
    "duration": 48,
    "start_time": "2022-05-04T17:08:47.613Z"
   },
   {
    "duration": 3,
    "start_time": "2022-05-04T17:08:47.663Z"
   },
   {
    "duration": 17,
    "start_time": "2022-05-04T17:08:47.668Z"
   },
   {
    "duration": 14,
    "start_time": "2022-05-04T17:08:47.687Z"
   },
   {
    "duration": 8,
    "start_time": "2022-05-04T17:08:47.702Z"
   },
   {
    "duration": 14,
    "start_time": "2022-05-04T17:08:47.712Z"
   },
   {
    "duration": 32,
    "start_time": "2022-05-04T17:08:47.728Z"
   },
   {
    "duration": 11,
    "start_time": "2022-05-04T17:08:47.761Z"
   },
   {
    "duration": 13,
    "start_time": "2022-05-04T17:08:47.774Z"
   },
   {
    "duration": 170,
    "start_time": "2022-05-04T17:08:47.788Z"
   },
   {
    "duration": 126,
    "start_time": "2022-05-04T17:08:47.960Z"
   },
   {
    "duration": 15,
    "start_time": "2022-05-04T17:08:48.087Z"
   },
   {
    "duration": 280,
    "start_time": "2022-05-04T17:08:48.104Z"
   },
   {
    "duration": 198,
    "start_time": "2022-05-04T17:08:48.385Z"
   },
   {
    "duration": 280,
    "start_time": "2022-05-04T17:08:48.584Z"
   },
   {
    "duration": 196,
    "start_time": "2022-05-04T17:08:48.866Z"
   },
   {
    "duration": 319,
    "start_time": "2022-05-04T17:08:49.064Z"
   },
   {
    "duration": 141,
    "start_time": "2022-05-04T17:08:49.386Z"
   },
   {
    "duration": 4,
    "start_time": "2022-05-04T17:08:49.529Z"
   },
   {
    "duration": 132,
    "start_time": "2022-05-04T17:08:49.535Z"
   },
   {
    "duration": 9,
    "start_time": "2022-05-04T17:08:49.670Z"
   },
   {
    "duration": 149,
    "start_time": "2022-05-04T17:08:49.681Z"
   },
   {
    "duration": 4,
    "start_time": "2022-05-04T17:08:49.833Z"
   },
   {
    "duration": 215,
    "start_time": "2022-05-04T17:08:49.855Z"
   },
   {
    "duration": 132,
    "start_time": "2022-05-04T17:08:50.074Z"
   },
   {
    "duration": 31,
    "start_time": "2022-05-04T17:08:50.208Z"
   },
   {
    "duration": 20,
    "start_time": "2022-05-04T17:08:50.241Z"
   },
   {
    "duration": 10,
    "start_time": "2022-05-04T17:08:50.263Z"
   },
   {
    "duration": 10,
    "start_time": "2022-05-04T17:08:50.274Z"
   },
   {
    "duration": 24,
    "start_time": "2022-05-04T17:08:50.286Z"
   },
   {
    "duration": 6,
    "start_time": "2022-05-04T17:08:50.312Z"
   },
   {
    "duration": 40,
    "start_time": "2022-05-04T17:08:50.320Z"
   },
   {
    "duration": 34,
    "start_time": "2022-05-04T17:09:01.884Z"
   },
   {
    "duration": 26,
    "start_time": "2022-05-04T17:09:02.185Z"
   },
   {
    "duration": 22,
    "start_time": "2022-05-04T17:09:04.252Z"
   },
   {
    "duration": 22,
    "start_time": "2022-05-04T17:09:05.670Z"
   },
   {
    "duration": 3,
    "start_time": "2022-05-04T17:09:12.052Z"
   },
   {
    "duration": 9,
    "start_time": "2022-05-04T17:09:12.358Z"
   },
   {
    "duration": 9,
    "start_time": "2022-05-04T17:09:13.572Z"
   },
   {
    "duration": 5,
    "start_time": "2022-05-04T17:09:13.887Z"
   },
   {
    "duration": 6,
    "start_time": "2022-05-04T17:09:15.588Z"
   },
   {
    "duration": 10,
    "start_time": "2022-05-04T17:09:16.301Z"
   },
   {
    "duration": 12,
    "start_time": "2022-05-04T17:09:25.260Z"
   },
   {
    "duration": 13,
    "start_time": "2022-05-04T17:09:27.820Z"
   },
   {
    "duration": 159,
    "start_time": "2022-05-04T17:09:34.087Z"
   },
   {
    "duration": 118,
    "start_time": "2022-05-04T17:09:34.838Z"
   },
   {
    "duration": 12,
    "start_time": "2022-05-04T17:09:37.333Z"
   },
   {
    "duration": 188,
    "start_time": "2022-05-04T17:09:42.638Z"
   },
   {
    "duration": 223,
    "start_time": "2022-05-04T17:09:50.996Z"
   },
   {
    "duration": 522,
    "start_time": "2022-05-04T17:09:54.933Z"
   },
   {
    "duration": 311,
    "start_time": "2022-05-04T17:11:08.032Z"
   },
   {
    "duration": 202,
    "start_time": "2022-05-04T17:11:14.716Z"
   },
   {
    "duration": 203,
    "start_time": "2022-05-04T17:11:43.458Z"
   },
   {
    "duration": 309,
    "start_time": "2022-05-04T17:11:51.383Z"
   },
   {
    "duration": 133,
    "start_time": "2022-05-04T17:12:06.874Z"
   },
   {
    "duration": 225,
    "start_time": "2022-05-04T17:19:25.676Z"
   },
   {
    "duration": 4,
    "start_time": "2022-05-04T17:19:36.359Z"
   },
   {
    "duration": 123,
    "start_time": "2022-05-04T17:19:38.552Z"
   },
   {
    "duration": 10,
    "start_time": "2022-05-04T17:19:40.957Z"
   },
   {
    "duration": 129,
    "start_time": "2022-05-04T17:19:51.988Z"
   },
   {
    "duration": 131,
    "start_time": "2022-05-04T17:20:03.399Z"
   },
   {
    "duration": 128,
    "start_time": "2022-05-04T17:20:04.102Z"
   },
   {
    "duration": 133,
    "start_time": "2022-05-04T17:20:09.679Z"
   },
   {
    "duration": 133,
    "start_time": "2022-05-04T17:20:18.530Z"
   },
   {
    "duration": 127,
    "start_time": "2022-05-04T17:20:25.571Z"
   },
   {
    "duration": 13,
    "start_time": "2022-05-04T17:21:01.922Z"
   },
   {
    "duration": 147,
    "start_time": "2022-05-04T17:21:03.442Z"
   },
   {
    "duration": 5,
    "start_time": "2022-05-04T17:22:02.728Z"
   },
   {
    "duration": 208,
    "start_time": "2022-05-04T17:27:25.826Z"
   },
   {
    "duration": 113,
    "start_time": "2022-05-04T17:27:27.249Z"
   },
   {
    "duration": 23,
    "start_time": "2022-05-04T17:27:30.745Z"
   },
   {
    "duration": 11,
    "start_time": "2022-05-04T17:27:52.159Z"
   },
   {
    "duration": 12,
    "start_time": "2022-05-04T17:28:10.032Z"
   },
   {
    "duration": 11,
    "start_time": "2022-05-04T17:28:47.506Z"
   },
   {
    "duration": 12,
    "start_time": "2022-05-04T17:29:21.108Z"
   },
   {
    "duration": 25,
    "start_time": "2022-05-04T17:29:23.586Z"
   },
   {
    "duration": 8,
    "start_time": "2022-05-04T17:29:52.236Z"
   },
   {
    "duration": 8,
    "start_time": "2022-05-04T17:29:53.272Z"
   },
   {
    "duration": 11,
    "start_time": "2022-05-04T17:32:48.452Z"
   },
   {
    "duration": 10,
    "start_time": "2022-05-04T17:35:04.806Z"
   },
   {
    "duration": 6,
    "start_time": "2022-05-04T17:35:05.135Z"
   },
   {
    "duration": 6,
    "start_time": "2022-05-04T17:35:05.868Z"
   },
   {
    "duration": 11,
    "start_time": "2022-05-04T17:35:06.187Z"
   },
   {
    "duration": 11,
    "start_time": "2022-05-04T17:49:05.837Z"
   },
   {
    "duration": 4,
    "start_time": "2022-05-04T17:49:11.452Z"
   },
   {
    "duration": 37,
    "start_time": "2022-05-04T17:49:11.458Z"
   },
   {
    "duration": 27,
    "start_time": "2022-05-04T17:49:11.496Z"
   },
   {
    "duration": 37,
    "start_time": "2022-05-04T17:49:11.525Z"
   },
   {
    "duration": 28,
    "start_time": "2022-05-04T17:49:11.566Z"
   },
   {
    "duration": 3,
    "start_time": "2022-05-04T17:49:11.595Z"
   },
   {
    "duration": 22,
    "start_time": "2022-05-04T17:49:11.600Z"
   },
   {
    "duration": 42,
    "start_time": "2022-05-04T17:49:11.623Z"
   },
   {
    "duration": 36,
    "start_time": "2022-05-04T17:49:11.666Z"
   },
   {
    "duration": 1935,
    "start_time": "2022-05-05T06:52:06.523Z"
   },
   {
    "duration": 54,
    "start_time": "2022-05-05T06:52:08.461Z"
   },
   {
    "duration": 42,
    "start_time": "2022-05-05T06:52:08.517Z"
   },
   {
    "duration": 62,
    "start_time": "2022-05-05T06:52:08.562Z"
   },
   {
    "duration": 29,
    "start_time": "2022-05-05T06:52:08.626Z"
   },
   {
    "duration": 4,
    "start_time": "2022-05-05T06:52:08.657Z"
   },
   {
    "duration": 33,
    "start_time": "2022-05-05T06:52:08.663Z"
   },
   {
    "duration": 50,
    "start_time": "2022-05-05T06:52:08.698Z"
   },
   {
    "duration": 8,
    "start_time": "2022-05-05T06:52:08.750Z"
   },
   {
    "duration": 12,
    "start_time": "2022-05-05T06:52:08.762Z"
   },
   {
    "duration": 30,
    "start_time": "2022-05-05T06:52:08.776Z"
   },
   {
    "duration": 23,
    "start_time": "2022-05-05T06:52:08.809Z"
   },
   {
    "duration": 18,
    "start_time": "2022-05-05T06:52:08.834Z"
   },
   {
    "duration": 293,
    "start_time": "2022-05-05T06:52:08.854Z"
   },
   {
    "duration": 223,
    "start_time": "2022-05-05T06:52:09.150Z"
   },
   {
    "duration": 24,
    "start_time": "2022-05-05T06:52:09.375Z"
   },
   {
    "duration": 489,
    "start_time": "2022-05-05T06:52:09.401Z"
   },
   {
    "duration": 362,
    "start_time": "2022-05-05T06:52:09.892Z"
   },
   {
    "duration": 642,
    "start_time": "2022-05-05T06:52:10.257Z"
   },
   {
    "duration": 527,
    "start_time": "2022-05-05T06:52:10.902Z"
   },
   {
    "duration": 672,
    "start_time": "2022-05-05T06:52:11.432Z"
   },
   {
    "duration": 260,
    "start_time": "2022-05-05T06:52:12.107Z"
   },
   {
    "duration": 7,
    "start_time": "2022-05-05T06:52:12.369Z"
   },
   {
    "duration": 262,
    "start_time": "2022-05-05T06:52:12.378Z"
   },
   {
    "duration": 13,
    "start_time": "2022-05-05T06:52:12.642Z"
   },
   {
    "duration": 265,
    "start_time": "2022-05-05T06:52:12.657Z"
   },
   {
    "duration": 6,
    "start_time": "2022-05-05T06:52:12.924Z"
   },
   {
    "duration": 406,
    "start_time": "2022-05-05T06:52:12.935Z"
   },
   {
    "duration": 286,
    "start_time": "2022-05-05T06:52:13.343Z"
   },
   {
    "duration": 35,
    "start_time": "2022-05-05T06:52:13.631Z"
   },
   {
    "duration": 14,
    "start_time": "2022-05-05T06:52:13.669Z"
   },
   {
    "duration": 46,
    "start_time": "2022-05-05T06:52:13.685Z"
   },
   {
    "duration": 22,
    "start_time": "2022-05-05T06:52:13.733Z"
   },
   {
    "duration": 38,
    "start_time": "2022-05-05T06:52:13.757Z"
   },
   {
    "duration": 27,
    "start_time": "2022-05-05T06:52:13.797Z"
   },
   {
    "duration": 10,
    "start_time": "2022-05-05T06:52:13.827Z"
   },
   {
    "duration": 6,
    "start_time": "2022-05-05T06:54:18.833Z"
   },
   {
    "duration": 44,
    "start_time": "2022-05-05T06:54:20.425Z"
   },
   {
    "duration": 54,
    "start_time": "2022-05-05T06:54:21.130Z"
   },
   {
    "duration": 52,
    "start_time": "2022-05-05T06:54:22.376Z"
   },
   {
    "duration": 42,
    "start_time": "2022-05-05T06:54:23.657Z"
   },
   {
    "duration": 4,
    "start_time": "2022-05-05T06:54:25.800Z"
   },
   {
    "duration": 13,
    "start_time": "2022-05-05T06:54:27.402Z"
   },
   {
    "duration": 15,
    "start_time": "2022-05-05T06:54:30.257Z"
   },
   {
    "duration": 74,
    "start_time": "2022-05-05T07:02:12.488Z"
   },
   {
    "duration": 8,
    "start_time": "2022-05-05T07:02:13.106Z"
   },
   {
    "duration": 1465,
    "start_time": "2022-05-05T07:02:18.300Z"
   },
   {
    "duration": 48,
    "start_time": "2022-05-05T07:02:19.768Z"
   },
   {
    "duration": 42,
    "start_time": "2022-05-05T07:02:19.818Z"
   },
   {
    "duration": 66,
    "start_time": "2022-05-05T07:02:19.863Z"
   },
   {
    "duration": 30,
    "start_time": "2022-05-05T07:02:19.931Z"
   },
   {
    "duration": 18,
    "start_time": "2022-05-05T07:02:19.964Z"
   },
   {
    "duration": 41,
    "start_time": "2022-05-05T07:02:19.984Z"
   },
   {
    "duration": 26,
    "start_time": "2022-05-05T07:02:20.027Z"
   },
   {
    "duration": 20,
    "start_time": "2022-05-05T07:02:20.056Z"
   },
   {
    "duration": 15,
    "start_time": "2022-05-05T07:14:21.248Z"
   },
   {
    "duration": 5,
    "start_time": "2022-05-05T07:34:21.992Z"
   },
   {
    "duration": 57,
    "start_time": "2022-05-05T07:34:22.000Z"
   },
   {
    "duration": 39,
    "start_time": "2022-05-05T07:34:22.060Z"
   },
   {
    "duration": 49,
    "start_time": "2022-05-05T07:34:22.101Z"
   },
   {
    "duration": 84,
    "start_time": "2022-05-05T07:34:22.154Z"
   },
   {
    "duration": 5,
    "start_time": "2022-05-05T07:34:22.240Z"
   },
   {
    "duration": 32,
    "start_time": "2022-05-05T07:34:22.247Z"
   },
   {
    "duration": 45,
    "start_time": "2022-05-05T07:34:22.282Z"
   },
   {
    "duration": 23,
    "start_time": "2022-05-05T07:34:22.333Z"
   },
   {
    "duration": 30,
    "start_time": "2022-05-05T07:34:22.358Z"
   },
   {
    "duration": 31,
    "start_time": "2022-05-05T07:34:22.392Z"
   },
   {
    "duration": 26,
    "start_time": "2022-05-05T07:34:22.426Z"
   },
   {
    "duration": 297,
    "start_time": "2022-05-05T07:34:22.454Z"
   },
   {
    "duration": 227,
    "start_time": "2022-05-05T07:34:22.753Z"
   },
   {
    "duration": 58,
    "start_time": "2022-05-05T07:34:22.983Z"
   },
   {
    "duration": 511,
    "start_time": "2022-05-05T07:34:23.044Z"
   },
   {
    "duration": 367,
    "start_time": "2022-05-05T07:34:23.557Z"
   },
   {
    "duration": 464,
    "start_time": "2022-05-05T07:34:23.927Z"
   },
   {
    "duration": 373,
    "start_time": "2022-05-05T07:34:24.393Z"
   },
   {
    "duration": 509,
    "start_time": "2022-05-05T07:34:24.768Z"
   },
   {
    "duration": 239,
    "start_time": "2022-05-05T07:34:25.279Z"
   },
   {
    "duration": 14,
    "start_time": "2022-05-05T07:34:25.520Z"
   },
   {
    "duration": 252,
    "start_time": "2022-05-05T07:34:25.541Z"
   },
   {
    "duration": 35,
    "start_time": "2022-05-05T07:34:25.796Z"
   },
   {
    "duration": 248,
    "start_time": "2022-05-05T07:34:25.834Z"
   },
   {
    "duration": 6,
    "start_time": "2022-05-05T07:34:26.084Z"
   },
   {
    "duration": 377,
    "start_time": "2022-05-05T07:34:26.092Z"
   },
   {
    "duration": 293,
    "start_time": "2022-05-05T07:34:26.471Z"
   },
   {
    "duration": 36,
    "start_time": "2022-05-05T07:34:26.769Z"
   },
   {
    "duration": 18,
    "start_time": "2022-05-05T07:34:26.826Z"
   },
   {
    "duration": 16,
    "start_time": "2022-05-05T07:34:26.846Z"
   },
   {
    "duration": 13,
    "start_time": "2022-05-05T07:34:26.864Z"
   },
   {
    "duration": 71,
    "start_time": "2022-05-05T07:34:26.879Z"
   },
   {
    "duration": 11,
    "start_time": "2022-05-05T07:34:26.952Z"
   },
   {
    "duration": 12,
    "start_time": "2022-05-05T07:34:26.965Z"
   },
   {
    "duration": 6,
    "start_time": "2022-05-05T07:34:49.073Z"
   },
   {
    "duration": 5,
    "start_time": "2022-05-05T07:34:57.438Z"
   },
   {
    "duration": 18,
    "start_time": "2022-05-05T07:43:28.539Z"
   },
   {
    "duration": 14,
    "start_time": "2022-05-05T07:44:18.054Z"
   },
   {
    "duration": 29,
    "start_time": "2022-05-05T08:32:07.746Z"
   },
   {
    "duration": 22,
    "start_time": "2022-05-05T08:32:08.944Z"
   },
   {
    "duration": 333,
    "start_time": "2022-05-05T08:32:12.296Z"
   },
   {
    "duration": 227,
    "start_time": "2022-05-05T08:32:14.864Z"
   },
   {
    "duration": 23,
    "start_time": "2022-05-05T08:32:15.368Z"
   },
   {
    "duration": 472,
    "start_time": "2022-05-05T08:32:19.439Z"
   },
   {
    "duration": 379,
    "start_time": "2022-05-05T08:32:29.522Z"
   },
   {
    "duration": 484,
    "start_time": "2022-05-05T08:32:39.904Z"
   },
   {
    "duration": 429,
    "start_time": "2022-05-05T08:32:43.122Z"
   },
   {
    "duration": 486,
    "start_time": "2022-05-05T08:32:55.203Z"
   },
   {
    "duration": 224,
    "start_time": "2022-05-05T08:33:02.937Z"
   },
   {
    "duration": 7,
    "start_time": "2022-05-05T08:33:19.209Z"
   },
   {
    "duration": 6,
    "start_time": "2022-05-05T08:35:57.138Z"
   },
   {
    "duration": 278,
    "start_time": "2022-05-05T08:35:59.642Z"
   },
   {
    "duration": 239,
    "start_time": "2022-05-05T08:36:32.139Z"
   },
   {
    "duration": 16,
    "start_time": "2022-05-05T08:36:53.027Z"
   },
   {
    "duration": 244,
    "start_time": "2022-05-05T08:37:10.811Z"
   },
   {
    "duration": 377,
    "start_time": "2022-05-05T08:42:43.821Z"
   },
   {
    "duration": 398,
    "start_time": "2022-05-05T08:42:44.201Z"
   },
   {
    "duration": 33,
    "start_time": "2022-05-05T08:42:44.650Z"
   },
   {
    "duration": 16,
    "start_time": "2022-05-05T08:43:05.507Z"
   },
   {
    "duration": 17,
    "start_time": "2022-05-05T08:43:07.474Z"
   },
   {
    "duration": 16,
    "start_time": "2022-05-05T08:43:36.462Z"
   },
   {
    "duration": 11,
    "start_time": "2022-05-05T08:43:55.381Z"
   },
   {
    "duration": 31,
    "start_time": "2022-05-05T08:44:17.639Z"
   },
   {
    "duration": 11,
    "start_time": "2022-05-05T08:44:20.791Z"
   },
   {
    "duration": 10,
    "start_time": "2022-05-05T08:44:25.160Z"
   },
   {
    "duration": 6,
    "start_time": "2022-05-05T08:44:44.025Z"
   },
   {
    "duration": 51,
    "start_time": "2022-05-05T08:44:44.038Z"
   },
   {
    "duration": 43,
    "start_time": "2022-05-05T08:44:44.096Z"
   },
   {
    "duration": 39,
    "start_time": "2022-05-05T08:44:44.142Z"
   },
   {
    "duration": 69,
    "start_time": "2022-05-05T08:44:44.184Z"
   },
   {
    "duration": 5,
    "start_time": "2022-05-05T08:44:44.256Z"
   },
   {
    "duration": 18,
    "start_time": "2022-05-05T08:44:44.266Z"
   },
   {
    "duration": 56,
    "start_time": "2022-05-05T08:44:44.287Z"
   },
   {
    "duration": 13,
    "start_time": "2022-05-05T08:44:44.348Z"
   },
   {
    "duration": 27,
    "start_time": "2022-05-05T08:44:44.364Z"
   },
   {
    "duration": 56,
    "start_time": "2022-05-05T08:44:44.394Z"
   },
   {
    "duration": 22,
    "start_time": "2022-05-05T08:44:44.452Z"
   },
   {
    "duration": 306,
    "start_time": "2022-05-05T08:44:44.476Z"
   },
   {
    "duration": 222,
    "start_time": "2022-05-05T08:44:44.784Z"
   },
   {
    "duration": 25,
    "start_time": "2022-05-05T08:44:45.024Z"
   },
   {
    "duration": 381,
    "start_time": "2022-05-05T08:44:45.053Z"
   },
   {
    "duration": 351,
    "start_time": "2022-05-05T08:44:45.436Z"
   },
   {
    "duration": 577,
    "start_time": "2022-05-05T08:44:45.789Z"
   },
   {
    "duration": 376,
    "start_time": "2022-05-05T08:44:46.368Z"
   },
   {
    "duration": 568,
    "start_time": "2022-05-05T08:44:46.746Z"
   },
   {
    "duration": 230,
    "start_time": "2022-05-05T08:44:47.324Z"
   },
   {
    "duration": 6,
    "start_time": "2022-05-05T08:44:47.556Z"
   },
   {
    "duration": 260,
    "start_time": "2022-05-05T08:44:47.564Z"
   },
   {
    "duration": 15,
    "start_time": "2022-05-05T08:44:47.828Z"
   },
   {
    "duration": 268,
    "start_time": "2022-05-05T08:44:47.845Z"
   },
   {
    "duration": 9,
    "start_time": "2022-05-05T08:44:48.115Z"
   },
   {
    "duration": 493,
    "start_time": "2022-05-05T08:44:48.126Z"
   },
   {
    "duration": 481,
    "start_time": "2022-05-05T08:44:48.626Z"
   },
   {
    "duration": 61,
    "start_time": "2022-05-05T08:44:49.110Z"
   },
   {
    "duration": 21,
    "start_time": "2022-05-05T08:44:49.174Z"
   },
   {
    "duration": 47,
    "start_time": "2022-05-05T08:44:49.198Z"
   },
   {
    "duration": 14,
    "start_time": "2022-05-05T08:44:49.249Z"
   },
   {
    "duration": 67,
    "start_time": "2022-05-05T08:44:49.266Z"
   },
   {
    "duration": 38,
    "start_time": "2022-05-05T08:45:40.810Z"
   },
   {
    "duration": 11,
    "start_time": "2022-05-05T08:46:17.964Z"
   },
   {
    "duration": 10,
    "start_time": "2022-05-05T08:46:18.861Z"
   },
   {
    "duration": 284,
    "start_time": "2022-05-05T08:48:35.523Z"
   },
   {
    "duration": 205,
    "start_time": "2022-05-05T08:48:37.882Z"
   },
   {
    "duration": 19,
    "start_time": "2022-05-05T08:48:38.546Z"
   },
   {
    "duration": 344,
    "start_time": "2022-05-05T08:49:42.838Z"
   },
   {
    "duration": 341,
    "start_time": "2022-05-05T08:49:50.844Z"
   },
   {
    "duration": 450,
    "start_time": "2022-05-05T08:49:58.156Z"
   },
   {
    "duration": 356,
    "start_time": "2022-05-05T08:50:04.237Z"
   },
   {
    "duration": 458,
    "start_time": "2022-05-05T08:50:12.686Z"
   },
   {
    "duration": 472,
    "start_time": "2022-05-05T08:50:25.710Z"
   },
   {
    "duration": 51,
    "start_time": "2022-05-07T07:09:05.005Z"
   },
   {
    "duration": 1123,
    "start_time": "2022-05-07T07:09:08.264Z"
   },
   {
    "duration": 64,
    "start_time": "2022-05-07T07:09:09.389Z"
   },
   {
    "duration": 27,
    "start_time": "2022-05-07T07:09:09.455Z"
   },
   {
    "duration": 24,
    "start_time": "2022-05-07T07:09:11.705Z"
   },
   {
    "duration": 21,
    "start_time": "2022-05-07T07:09:22.778Z"
   },
   {
    "duration": 22,
    "start_time": "2022-05-07T07:09:44.863Z"
   }
  ],
  "kernelspec": {
   "display_name": "Python 3 (ipykernel)",
   "language": "python",
   "name": "python3"
  },
  "language_info": {
   "codemirror_mode": {
    "name": "ipython",
    "version": 3
   },
   "file_extension": ".py",
   "mimetype": "text/x-python",
   "name": "python",
   "nbconvert_exporter": "python",
   "pygments_lexer": "ipython3",
   "version": "3.9.13"
  },
  "toc": {
   "base_numbering": 1,
   "nav_menu": {},
   "number_sections": true,
   "sideBar": true,
   "skip_h1_title": true,
   "title_cell": "Table of Contents",
   "title_sidebar": "Contents",
   "toc_cell": false,
   "toc_position": {
    "height": "calc(100% - 180px)",
    "left": "10px",
    "top": "150px",
    "width": "195.538px"
   },
   "toc_section_display": true,
   "toc_window_display": true
  }
 },
 "nbformat": 4,
 "nbformat_minor": 2
}
